{
  "nbformat": 4,
  "nbformat_minor": 0,
  "metadata": {
    "colab": {
      "name": "Python_Intro.ipynb",
      "provenance": [],
      "authorship_tag": "ABX9TyNmgu7VwoARcAoFdcRzeQY/",
      "include_colab_link": true
    },
    "kernelspec": {
      "name": "python3",
      "display_name": "Python 3"
    },
    "language_info": {
      "name": "python"
    }
  },
  "cells": [
    {
      "cell_type": "markdown",
      "metadata": {
        "id": "view-in-github",
        "colab_type": "text"
      },
      "source": [
        "<a href=\"https://colab.research.google.com/github/janiosl/python.ds/blob/master/fundamentos/Python_Intro.ipynb\" target=\"_parent\"><img src=\"https://colab.research.google.com/assets/colab-badge.svg\" alt=\"Open In Colab\"/></a>"
      ]
    },
    {
      "cell_type": "markdown",
      "metadata": {
        "id": "4zlV4Om3MKa8"
      },
      "source": [
        "#Python: Introdução"
      ]
    },
    {
      "cell_type": "markdown",
      "metadata": {
        "id": "nq8dhgAEHYrc"
      },
      "source": [
        "## Aula de introdução ao Python\n",
        "\n",
        "No vídeo deste link usamos este código e outros materiais para realizar uma introdução rápida ao Python como base para estudo de temas intermediários e avançados ensinados em nosso canal Pytho DS.\n",
        "\n",
        "* Acesse a aula aqui: https://youtu.be/M0TajtNSIhc\n",
        "* Acesse e inscreva-se no Canal: https://www.youtube.com/c/PythonDS"
      ]
    },
    {
      "cell_type": "markdown",
      "metadata": {
        "id": "Wy8oP7dkZVjg"
      },
      "source": [
        "## Exemplo básico"
      ]
    },
    {
      "cell_type": "code",
      "metadata": {
        "id": "qC2mzvxTX5IO"
      },
      "source": [
        "nome = 'Janio'\n",
        "ano_nascimento = 1981\n",
        "tem_filhos = True"
      ],
      "execution_count": null,
      "outputs": []
    },
    {
      "cell_type": "code",
      "metadata": {
        "id": "wW-CPbBqYu49"
      },
      "source": [
        "idade = 2021 - ano_nascimento"
      ],
      "execution_count": null,
      "outputs": []
    },
    {
      "cell_type": "code",
      "metadata": {
        "colab": {
          "base_uri": "https://localhost:8080/"
        },
        "id": "DxHs7zoBY4u0",
        "outputId": "b1342f56-166a-47c8-caf8-af1628759600"
      },
      "source": [
        "print('Relatório:')\n",
        "print('Nome:', nome)\n",
        "print('Idade:', idade, 'anos')\n",
        "\n",
        "if tem_filhos == True:\n",
        "  print('Tem filhos')\n",
        "else:\n",
        "  print('Não tem filhos')"
      ],
      "execution_count": null,
      "outputs": [
        {
          "output_type": "stream",
          "name": "stdout",
          "text": [
            "Relatório:\n",
            "Nome: Janio\n",
            "Idade: 40 anos\n",
            "Tem filhos\n"
          ]
        }
      ]
    },
    {
      "cell_type": "markdown",
      "metadata": {
        "id": "MCkZ_pL4LDIJ"
      },
      "source": [
        "##Explorando o exemplo básico"
      ]
    },
    {
      "cell_type": "markdown",
      "metadata": {
        "id": "77R8xZnuaP8P"
      },
      "source": [
        "* Variáveis\n",
        "* Tipos de dados\n",
        "* Exibição (impressão) de dados na tela\n",
        "* Lógica condicional\n"
      ]
    },
    {
      "cell_type": "markdown",
      "metadata": {
        "id": "BJqjicqIqfo-"
      },
      "source": [
        "Variáveis e tipos de dados\n",
        "\n",
        "* Criar uma variável:\n",
        "\n",
        "Sintaxe `nome = [valor]`\n",
        "Exemplo: Criar uma variável denominada nome e inserir o valor João da Silva. Resposta: `nome = 'João da Silva'` .\n",
        "\n",
        "* Verificar o tipo de dados em uma variável:\n",
        "\n",
        "Sintaxe: `type(variavel)`\n",
        "\n",
        "Os códigos a seguir apresentam exemplos para as variáveis do nosso exemplo básico."
      ]
    },
    {
      "cell_type": "code",
      "metadata": {
        "id": "BGcpd1BA3WKe"
      },
      "source": [
        "nome = 'João da Silva'"
      ],
      "execution_count": null,
      "outputs": []
    },
    {
      "cell_type": "code",
      "metadata": {
        "colab": {
          "base_uri": "https://localhost:8080/"
        },
        "id": "kHkz-kwoMW9B",
        "outputId": "aaf112b9-c6bf-4001-956d-8a939090409e"
      },
      "source": [
        "type(nome)"
      ],
      "execution_count": null,
      "outputs": [
        {
          "output_type": "execute_result",
          "data": {
            "text/plain": [
              "str"
            ]
          },
          "metadata": {},
          "execution_count": 17
        }
      ]
    },
    {
      "cell_type": "code",
      "metadata": {
        "colab": {
          "base_uri": "https://localhost:8080/"
        },
        "id": "EfG9kgp5Mgfa",
        "outputId": "49b69c08-a486-43af-d4b4-a40925bd2480"
      },
      "source": [
        "type(ano_nascimento)"
      ],
      "execution_count": null,
      "outputs": [
        {
          "output_type": "execute_result",
          "data": {
            "text/plain": [
              "int"
            ]
          },
          "metadata": {},
          "execution_count": 18
        }
      ]
    },
    {
      "cell_type": "code",
      "metadata": {
        "colab": {
          "base_uri": "https://localhost:8080/"
        },
        "id": "dGCquQd7MjKG",
        "outputId": "ea1caa37-c86f-4ad3-cd84-1c6ed513ddba"
      },
      "source": [
        "type(tem_filhos)"
      ],
      "execution_count": null,
      "outputs": [
        {
          "output_type": "execute_result",
          "data": {
            "text/plain": [
              "bool"
            ]
          },
          "metadata": {},
          "execution_count": 19
        }
      ]
    },
    {
      "cell_type": "markdown",
      "metadata": {
        "id": "7C_HhbYbrLDA"
      },
      "source": [
        "Tipos de dados:\n",
        "\n",
        "|Tipo|Descrição|Observação|\n",
        "|----|---------|----------|\n",
        "|str|String|Recebe cadeia de caracteres (textos)|\n",
        "|int|Inteiros|Números inteiros em geral|\n",
        "|float|Ponto flutuante|Números com casas decimais|\n",
        "|bool|Lógico|Recebe valores lógicos False (falso) ou True (verdadeiro)|"
      ]
    },
    {
      "cell_type": "code",
      "metadata": {
        "id": "0q8pKRdvajUM",
        "colab": {
          "base_uri": "https://localhost:8080/"
        },
        "outputId": "555e992d-ab47-4bec-eb6f-bc0a75cd104f"
      },
      "source": [
        "salario = 5000\n",
        "print(salario)"
      ],
      "execution_count": null,
      "outputs": [
        {
          "output_type": "stream",
          "name": "stdout",
          "text": [
            "5000\n"
          ]
        }
      ]
    },
    {
      "cell_type": "code",
      "metadata": {
        "colab": {
          "base_uri": "https://localhost:8080/"
        },
        "id": "JVlJvKle4t5j",
        "outputId": "d1db9070-3cc8-4bdb-f6e4-a695aa6c8a72"
      },
      "source": [
        "type(salario)"
      ],
      "execution_count": null,
      "outputs": [
        {
          "output_type": "execute_result",
          "data": {
            "text/plain": [
              "int"
            ]
          },
          "metadata": {},
          "execution_count": 25
        }
      ]
    },
    {
      "cell_type": "code",
      "metadata": {
        "id": "_eDjOO6dLaee",
        "colab": {
          "base_uri": "https://localhost:8080/"
        },
        "outputId": "8e0edc19-670c-48b0-e26d-5c0daf36e363"
      },
      "source": [
        "ajustePercentual = 10.5\n",
        "aumento = (salario * ajustePercentual)/100\n",
        "salario = salario + aumento\n",
        "\n",
        "print(ajustePercentual, aumento, salario)"
      ],
      "execution_count": null,
      "outputs": [
        {
          "output_type": "stream",
          "name": "stdout",
          "text": [
            "10.5 525.0 5525.0\n"
          ]
        }
      ]
    },
    {
      "cell_type": "code",
      "metadata": {
        "id": "dDvIX_zx42Xn",
        "colab": {
          "base_uri": "https://localhost:8080/"
        },
        "outputId": "8e06791a-8642-45b2-c645-fb446ee6c6df"
      },
      "source": [
        "type(salario)"
      ],
      "execution_count": null,
      "outputs": [
        {
          "output_type": "execute_result",
          "data": {
            "text/plain": [
              "float"
            ]
          },
          "metadata": {},
          "execution_count": 27
        }
      ]
    }
  ]
}