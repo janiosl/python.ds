{
 "cells": [
  {
   "cell_type": "code",
   "execution_count": null,
   "id": "b1c6dfae",
   "metadata": {},
   "outputs": [],
   "source": [
    "print('Olá Python DS')"
   ]
  },
  {
   "cell_type": "code",
   "execution_count": null,
   "id": "9fb77d37",
   "metadata": {},
   "outputs": [],
   "source": [
    "#Atribuição de valor a uma variável\n",
    "x = 2"
   ]
  },
  {
   "cell_type": "code",
   "execution_count": null,
   "id": "a7580c66",
   "metadata": {},
   "outputs": [],
   "source": [
    "weight = [60, 72, 57, 90, 95, 72]\n",
    "height = [1.75, 1.80, 1.65, 1.90, 1.74, 1.91]"
   ]
  },
  {
   "cell_type": "code",
   "execution_count": null,
   "id": "da87be5b",
   "metadata": {},
   "outputs": [],
   "source": [
    "bmi = weight/height**2"
   ]
  },
  {
   "cell_type": "code",
   "execution_count": null,
   "id": "a55fe393",
   "metadata": {},
   "outputs": [],
   "source": [
    "import numpy as np"
   ]
  },
  {
   "cell_type": "code",
   "execution_count": null,
   "id": "66ab013b",
   "metadata": {},
   "outputs": [],
   "source": [
    "np.mean(bmi)"
   ]
  },
  {
   "cell_type": "code",
   "execution_count": null,
   "id": "51fc216f",
   "metadata": {},
   "outputs": [],
   "source": [
    "from matplotlib import pyplot as plt"
   ]
  },
  {
   "cell_type": "code",
   "execution_count": null,
   "id": "62902879",
   "metadata": {},
   "outputs": [],
   "source": [
    "plt.scatter(weight, height)"
   ]
  }
 ],
 "metadata": {
  "kernelspec": {
   "display_name": "Python 3 (ipykernel)",
   "language": "python",
   "name": "python3"
  }
 },
 "nbformat": 4,
 "nbformat_minor": 5
}
