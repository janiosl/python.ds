{
 "cells": [
  {
   "cell_type": "markdown",
   "id": "basic-mention",
   "metadata": {},
   "source": [
    "# Python Fundamentos: Introdução Rápida (Python DS 2021)"
   ]
  },
  {
   "cell_type": "markdown",
   "id": "uniform-blood",
   "metadata": {},
   "source": [
    "## Aula de introdução ao Python\n",
    "\n",
    "No vídeo deste link usamos este código e outros materiais para realizar uma introdução rápida ao Python como base para estudo de temas intermediários e avançados ensinados em nosso canal Pytho DS.\n",
    "\n",
    "* Acesse a aula aqui: https://youtu.be/M0TajtNSIhc\n",
    "* Acesse e inscreva-se no Canal: https://www.youtube.com/c/PythonDS"
   ]
  },
  {
   "cell_type": "code",
   "execution_count": 1,
   "id": "b1c6dfae",
   "metadata": {},
   "outputs": [
    {
     "name": "stdout",
     "output_type": "stream",
     "text": [
      "Olá Python DS\n"
     ]
    }
   ],
   "source": [
    "print('Olá Python DS')"
   ]
  },
  {
   "cell_type": "code",
   "execution_count": 2,
   "id": "9fb77d37",
   "metadata": {},
   "outputs": [],
   "source": [
    "#Atribuição de valor a uma variável\n",
    "x = 2"
   ]
  },
  {
   "cell_type": "code",
   "execution_count": 3,
   "id": "a7580c66",
   "metadata": {},
   "outputs": [],
   "source": [
    "#Listas de pesos e alturas\n",
    "\"\"\"\n",
    "Cada para de item representa uma pessoa,\n",
    "por exemplo o primeiro item de cada lista\n",
    "representa o peso e altura da primeira pessoa.\n",
    "\"\"\"\n",
    "weight = [60, 72, 57, 90, 95, 72]\n",
    "height = [1.75, 1.80, 1.65, 1.90, 1.74, 1.91]"
   ]
  },
  {
   "cell_type": "code",
   "execution_count": 4,
   "id": "da87be5b",
   "metadata": {},
   "outputs": [
    {
     "name": "stdout",
     "output_type": "stream",
     "text": [
      "[19.591836734693878, 22.22222222222222, 20.936639118457304, 24.930747922437675, 31.37798916633637, 19.736301088237713]\n"
     ]
    }
   ],
   "source": [
    "#Criar uma lista calculada usando a sintaxe listcomp\n",
    "#Cada valor da nova lista é obtida pelo cálculo sobre valores das listas de origem\n",
    "#Usanda fórmula do IMC para obter os valores para cada item equivalente da lista de peso e alturas\n",
    "bmi = [weight[i]/(height[i]**2) for i in range(len(weight))]\n",
    "\n",
    "#Exibir a lista\n",
    "print(bmi)"
   ]
  },
  {
   "cell_type": "code",
   "execution_count": 5,
   "id": "a55fe393",
   "metadata": {},
   "outputs": [],
   "source": [
    "import numpy as np"
   ]
  },
  {
   "cell_type": "code",
   "execution_count": 6,
   "id": "66ab013b",
   "metadata": {},
   "outputs": [
    {
     "data": {
      "text/plain": [
       "23.132622708730864"
      ]
     },
     "execution_count": 6,
     "metadata": {},
     "output_type": "execute_result"
    }
   ],
   "source": [
    "np.mean(bmi)"
   ]
  },
  {
   "cell_type": "code",
   "execution_count": 7,
   "id": "51fc216f",
   "metadata": {},
   "outputs": [],
   "source": [
    "from matplotlib import pyplot as plt"
   ]
  },
  {
   "cell_type": "code",
   "execution_count": 8,
   "id": "62902879",
   "metadata": {},
   "outputs": [
    {
     "data": {
      "text/plain": [
       "<matplotlib.collections.PathCollection at 0x22b0bdd7240>"
      ]
     },
     "execution_count": 8,
     "metadata": {},
     "output_type": "execute_result"
    },
    {
     "data": {
      "image/png": "[encoded data removed]",
      "text/plain": [
       "<Figure size 432x288 with 1 Axes>"
      ]
     },
     "metadata": {
      "needs_background": "light"
     },
     "output_type": "display_data"
    }
   ],
   "source": [
    "plt.scatter(weight, height)"
   ]
  },
  {
   "cell_type": "code",
   "execution_count": null,
   "id": "harmful-flesh",
   "metadata": {},
   "outputs": [],
   "source": []
  }
 ],
 "metadata": {
  "kernelspec": {
   "display_name": "Python 3",
   "language": "python",
   "name": "python3"
  },
  "language_info": {
   "codemirror_mode": {
    "name": "ipython",
    "version": 3
   },
   "file_extension": ".py",
   "mimetype": "text/x-python",
   "name": "python",
   "nbconvert_exporter": "python",
   "pygments_lexer": "ipython3",
   "version": "3.6.12"
  }
 },
 "nbformat": 4,
 "nbformat_minor": 5
}
