{
  "nbformat": 4,
  "nbformat_minor": 0,
  "metadata": {
    "colab": {
      "name": "BD_g01_ArangoDB.ipynb",
      "provenance": [],
      "collapsed_sections": [],
      "toc_visible": true,
      "authorship_tag": "ABX9TyPsDNgI0G57ahKNPPDTyJaG",
      "include_colab_link": true
    },
    "kernelspec": {
      "name": "python3",
      "display_name": "Python 3"
    },
    "language_info": {
      "name": "python"
    }
  },
  "cells": [
    {
      "cell_type": "markdown",
      "metadata": {
        "id": "view-in-github",
        "colab_type": "text"
      },
      "source": [
        "<a href=\"https://colab.research.google.com/github/janiosl/python.ds/blob/master/arangoDB/BD_g01_ArangoDB.ipynb\" target=\"_parent\"><img src=\"https://colab.research.google.com/assets/colab-badge.svg\" alt=\"Open In Colab\"/></a>"
      ]
    },
    {
      "cell_type": "markdown",
      "metadata": {
        "id": "xSJpO-WYFzrk"
      },
      "source": [
        "#**CEFET-RJ**\n",
        "\n",
        "**Programa de Pós-Gradução em Ciência da Computação - PPCIC**\n",
        "\n",
        "**Mestrado em Ciência da Computação**\n",
        "\n",
        "**Disciplina: Banco de Dados - 2021/1**\n",
        "\n",
        "* **Trabalho Final**: Implementação e Análise Análise Crítica do Banco de Dados ArangoDB\n",
        "* **Professor**: Jorge de Abreu Soares\n",
        "* **Alunos**: Cristiane Géa, Janio de Souza Lima e Tácito Braga Araripe\n",
        "\n",
        "\n",
        "\n"
      ]
    },
    {
      "cell_type": "markdown",
      "metadata": {
        "id": "pOxsUwzeFUD2"
      },
      "source": [
        "**OBSERVAÇÃO**:\n",
        "\n",
        "Este notebook, sobretudo nas seções 1 e 2, é uma adaptação com tradução para português e algumas adaptações de código feitas a partir dos tutoriais oficiais do ArangoDB disponíveis na área de aprendizagem cujo link está listado na seção de Referências. Seu objetivo é apresentar uma visão inicial básica tanto do ArangoDB quanto de sua forma de integração com Python através de uma API. Detalhes sobre outras formas de uso do ArangoDB, inclusive sua instalação e configuração através da interface web, bem como execução do benchmark de avaliação estão registrados na apresentação e relatório técnico da disciplina Banco de Dados."
      ]
    },
    {
      "cell_type": "markdown",
      "metadata": {
        "id": "POij76PeFdjh"
      },
      "source": [
        "#1 Preparação do ambiente"
      ]
    },
    {
      "cell_type": "code",
      "metadata": {
        "colab": {
          "base_uri": "https://localhost:8080/"
        },
        "id": "Pq-YIoslSpzk",
        "outputId": "2365bda2-be6f-40ff-b177-f0bef09cc493"
      },
      "source": [
        "import platform\n",
        "print('Plataforma usada no experimento')\n",
        "print('='*40)\n",
        "\n",
        "print('Google Colab')\n",
        "print(f'Processador: {platform.processor()}')\n",
        "print(f'SO: {platform.system()}')\n",
        "\n",
        "#Consulta simplificada da plataforma\n",
        "p = platform.platform()\n",
        "print('\\nVersão do SO:')\n",
        "for item in p.split('-'):\n",
        "  print(item, end=' ')"
      ],
      "execution_count": 1,
      "outputs": [
        {
          "output_type": "stream",
          "text": [
            "Plataforma usada no experimento\n",
            "========================================\n",
            "Google Colab\n",
            "Processador: x86_64\n",
            "SO: Linux\n",
            "\n",
            "Versão do SO:\n",
            "Linux 5.4.109+ x86_64 with Ubuntu 18.04 bionic "
          ],
          "name": "stdout"
        }
      ]
    },
    {
      "cell_type": "markdown",
      "metadata": {
        "id": "ZE-GoM9SGhp0"
      },
      "source": [
        "* Instalações e importações"
      ]
    },
    {
      "cell_type": "code",
      "metadata": {
        "id": "tti5sHrmFSZz"
      },
      "source": [
        "%%capture\n",
        "!git clone https://github.com/joerg84/ArangoDBUniversity.git\n",
        "!rsync -av ArangoDBUniversity/ ./ --exclude=.git\n",
        "!pip3 install pyarango\n",
        "!pip3 install \"python-arango>=5.0\""
      ],
      "execution_count": 2,
      "outputs": []
    },
    {
      "cell_type": "code",
      "metadata": {
        "colab": {
          "base_uri": "https://localhost:8080/"
        },
        "id": "W7c4YugFFajT",
        "outputId": "866c23c6-afe5-445a-903c-0e1834d169fe"
      },
      "source": [
        "import json\n",
        "import requests\n",
        "import sys\n",
        "import oasis\n",
        "import time\n",
        "\n",
        "from pyArango.connection import *\n",
        "from arango import ArangoClient"
      ],
      "execution_count": 3,
      "outputs": [
        {
          "output_type": "stream",
          "text": [
            "/usr/local/lib/python3.7/dist-packages/requests/__init__.py:91: RequestsDependencyWarning: urllib3 (1.26.4) or chardet (3.0.4) doesn't match a supported version!\n",
            "  RequestsDependencyWarning)\n"
          ],
          "name": "stderr"
        }
      ]
    },
    {
      "cell_type": "markdown",
      "metadata": {
        "id": "X-VQbcIpGlp3"
      },
      "source": [
        "* **Banco de Dados e Credenciais Temporárias**\n",
        "\n",
        "Note que nessa etapa estão sendo criadas credenciais temporárias da plataforma de tutoriais do ArangoDB. Em uma situação de uso real, deveria ser criada a variável login com as credenciais reais para conexão ao banco de dados desejado."
      ]
    },
    {
      "cell_type": "code",
      "metadata": {
        "colab": {
          "base_uri": "https://localhost:8080/"
        },
        "id": "ae-W9Y89Gaxl",
        "outputId": "0a277a8e-5287-4f17-f518-b21b3ef9d905"
      },
      "source": [
        "#Banco de Dados Temporário\n",
        "# Retrieve tmp credentials from ArangoDB Tutorial Service\n",
        "login = oasis.getTempCredentials(tutorialName=\"AQLCrudTutorial\",\n",
        "                                 credentialProvider='https://tutorials.arangodb.cloud:8529/_db/_system/tutorialDB/tutorialDB')\n",
        "\n",
        "# Connect to the temp database\n",
        "conn = oasis.connect(login)\n",
        "db = conn[login[\"dbName\"]] "
      ],
      "execution_count": 4,
      "outputs": [
        {
          "output_type": "stream",
          "text": [
            "Requesting new temp credentials.\n",
            "Temp database ready to use.\n"
          ],
          "name": "stdout"
        }
      ]
    },
    {
      "cell_type": "markdown",
      "metadata": {
        "id": "fxXH_B4L62V4"
      },
      "source": [
        "* **Exibição das credenciais criadas**\n",
        "\n",
        "Complementando as observações anteriores, veja que a variável login é um dicionário Python no qual são armazenados os valores para as chaves nome do usuário, senha e banco de dados (username, password e dbName)."
      ]
    },
    {
      "cell_type": "code",
      "metadata": {
        "id": "51Df5hM9GpW3",
        "colab": {
          "base_uri": "https://localhost:8080/"
        },
        "outputId": "9e48ff4e-ae02-4dec-c5cd-1f3cc1153568"
      },
      "source": [
        "print(\"https://{}:{}\".format(login[\"hostname\"], login[\"port\"]))\n",
        "print(\"Usuário: \" + login[\"username\"])\n",
        "print(\"Senha: \" + login[\"password\"])\n",
        "print(\"Database: \" + login[\"dbName\"])"
      ],
      "execution_count": 5,
      "outputs": [
        {
          "output_type": "stream",
          "text": [
            "https://tutorials.arangodb.cloud:8529\n",
            "Usuário: TUTqyk9s2jks4axoqya8agyq\n",
            "Senha: TUTdn82juu7i7a4kr6v14bg\n",
            "Database: TUTcvysl2kp0jvid45g30oa9o\n"
          ],
          "name": "stdout"
        }
      ]
    },
    {
      "cell_type": "code",
      "metadata": {
        "colab": {
          "base_uri": "https://localhost:8080/"
        },
        "id": "KTG7z1VdLdnq",
        "outputId": "9133d0e7-22a7-4f9c-a820-8879acf821b4"
      },
      "source": [
        "print(type(login), login, sep='\\n')"
      ],
      "execution_count": 6,
      "outputs": [
        {
          "output_type": "stream",
          "text": [
            "<class 'dict'>\n",
            "{'dbName': 'TUTcvysl2kp0jvid45g30oa9o', 'username': 'TUTqyk9s2jks4axoqya8agyq', 'password': 'TUTdn82juu7i7a4kr6v14bg', 'hostname': 'tutorials.arangodb.cloud', 'port': 8529}\n"
          ],
          "name": "stdout"
        }
      ]
    },
    {
      "cell_type": "markdown",
      "metadata": {
        "id": "IWKKWzl6-IGG"
      },
      "source": [
        "#2 Criando e analisando dados com AQL"
      ]
    },
    {
      "cell_type": "markdown",
      "metadata": {
        "id": "DGNTaEik7Bc9"
      },
      "source": [
        "* **Criando a \"Collection\" no banco de dados**\n",
        "\n",
        "Coleções são a forma de armazenamento dos dados em uma base de dados ArangoDB. Elas são manipuladas através da linguagens NoSQL Arango Query Language (AQL). A instrução abaixo cria uma coleção e é possível relacionar com as instruções DDL das linguagens SQL. Neste exemplo será criada uma base de dados para simular dados de personagens da série \"*Game of Thrones*\"."
      ]
    },
    {
      "cell_type": "code",
      "metadata": {
        "colab": {
          "base_uri": "https://localhost:8080/"
        },
        "id": "OyBZJOBK67ic",
        "outputId": "aecf3a25-d2a6-4fce-f6fa-810e5261a733"
      },
      "source": [
        "#Criação de uma Collection na base de dados \"dbName\"\n",
        "db.createCollection(name=\"Characters\")"
      ],
      "execution_count": 7,
      "outputs": [
        {
          "output_type": "execute_result",
          "data": {
            "text/plain": [
              "ArangoDB collection name: Characters, id: 3727297470, type: document, status: loaded"
            ]
          },
          "metadata": {
            "tags": []
          },
          "execution_count": 7
        }
      ]
    },
    {
      "cell_type": "markdown",
      "metadata": {
        "id": "aMC8ItNR78ti"
      },
      "source": [
        "* **Inserção de registros na coleção**\n",
        "\n",
        "A instrução `INSERT` permite a inserção de registros individuais na coleção criada na etapa anterior. Para isso é usada uma sintaxe de chave-valor - similar aos dicionários de dados do Python - em que a primeira string é a chave que dá nome ao atributo na base de dados, em seguida é usado o caractere \":\" e passo o valor daquele atributo que pode ter os tipos a seguir:\n",
        "\n",
        "* null => Valores Nulos\n",
        "* boolean (true, false) => Valores lógico (verdadeiro ou falso)\n",
        "* number (integer and floating point) => Números (tanto inteiros quanto de pontos flutuante)\n",
        "* string => Cadeia de caracteres em texto\n",
        "* array => Matrizes\n",
        "* object => Objetos\n",
        "\n",
        "Por exemplo para inserir um atributo para o nome de um cliente e seu CPF em uma coleção denominada Clientes, poderia ser usada a seguinte instrução:\n",
        "\n",
        "```\n",
        "INSERT {\n",
        "  \"nome\": \"João Ninguém\",\n",
        "  \"CPF\": \"00000000012\"\n",
        "  } INTO Clientes\n",
        "```"
      ]
    },
    {
      "cell_type": "code",
      "metadata": {
        "colab": {
          "base_uri": "https://localhost:8080/"
        },
        "id": "NgXyYDEp73Cx",
        "outputId": "81f23ba8-838f-44fb-cc46-593f625742bc"
      },
      "source": [
        "#Uso da instrução INSERT para criar um registro na coleção Characters\n",
        "insert_query = \"\"\"\n",
        "INSERT {\n",
        "    \"name\": \"Ned\",\n",
        "    \"surname\": \"Stark\",\n",
        "    \"alive\": true,\n",
        "    \"age\": 41,\n",
        "    \"traits\": [\"A\",\"H\",\"C\",\"N\",\"P\"]\n",
        "} INTO Characters\n",
        "\"\"\"\n",
        "\n",
        "db.AQLQuery(insert_query)"
      ],
      "execution_count": 8,
      "outputs": [
        {
          "output_type": "execute_result",
          "data": {
            "text/plain": [
              "<pyArango.query.AQLQuery at 0x7f4c141f4f90>"
            ]
          },
          "metadata": {
            "tags": []
          },
          "execution_count": 8
        }
      ]
    },
    {
      "cell_type": "markdown",
      "metadata": {
        "id": "frf63oEO8GtC"
      },
      "source": [
        "* Realização de uma consulta simples (todos os registros da coleção)"
      ]
    },
    {
      "cell_type": "code",
      "metadata": {
        "colab": {
          "base_uri": "https://localhost:8080/"
        },
        "id": "LWP-4b0B8G0P",
        "outputId": "51ef6065-1ae5-4746-8eef-5afe1da87f1c"
      },
      "source": [
        "all_characters = \"\"\"\n",
        "FOR c IN Characters\n",
        "    RETURN c\n",
        "\"\"\"\n",
        "\n",
        "query_result = db.AQLQuery(all_characters, rawResults=True)\n",
        "for doc in  query_result:\n",
        "    print(doc)\n",
        "    print()"
      ],
      "execution_count": 9,
      "outputs": [
        {
          "output_type": "stream",
          "text": [
            "{'_key': '3727297472', '_id': 'Characters/3727297472', '_rev': '_cWYUJQu---', 'age': 41, 'alive': True, 'name': 'Ned', 'surname': 'Stark', 'traits': ['A', 'H', 'C', 'N', 'P']}\n",
            "\n"
          ],
          "name": "stdout"
        }
      ]
    },
    {
      "cell_type": "markdown",
      "metadata": {
        "id": "3qkve90S8U6K"
      },
      "source": [
        "* **Inserção manual de múltiplos registros**\n",
        "\n",
        "A linguagem AQL não permite a inserção direta de múltiplos registros, por isso está sendo realizada a inserção em duas etapas na célula de código a seguir. A primeira `LET data = [...]` cria os dados como uma variável e a segunda usa um loop `FOR` para iterar inserções individuais para cada registro na variável `data`.\n",
        "OBSERVAÇÃO: Note que estas instruções são todas em AQL uma vez que o Python está apenas encapsulando a query na variável `insert_query` que é passada para API do ArangoDB através do método `AQLQuery`."
      ]
    },
    {
      "cell_type": "code",
      "metadata": {
        "colab": {
          "base_uri": "https://localhost:8080/"
        },
        "id": "0pTp6W-b8ZT5",
        "outputId": "0559f724-116f-450c-f64d-3e852e4dc162"
      },
      "source": [
        "insert_query = \"\"\"\n",
        "LET data = [\n",
        "    { \"name\": \"Robert\", \"surname\": \"Baratheon\", \"alive\": false, \"traits\": [\"A\",\"H\",\"C\"] },\n",
        "    { \"name\": \"Jaime\", \"surname\": \"Lannister\", \"alive\": true, \"age\": 36, \"traits\": [\"A\",\"F\",\"B\"] },\n",
        "    { \"name\": \"Catelyn\", \"surname\": \"Stark\", \"alive\": false, \"age\": 40, \"traits\": [\"D\",\"H\",\"C\"] },\n",
        "    { \"name\": \"Cersei\", \"surname\": \"Lannister\", \"alive\": true, \"age\": 36, \"traits\": [\"H\",\"E\",\"F\"] },\n",
        "    { \"name\": \"Daenerys\", \"surname\": \"Targaryen\", \"alive\": true, \"age\": 16, \"traits\": [\"D\",\"H\",\"C\"] },\n",
        "    { \"name\": \"Jorah\", \"surname\": \"Mormont\", \"alive\": false, \"traits\": [\"A\",\"B\",\"C\",\"F\"] },\n",
        "    { \"name\": \"Petyr\", \"surname\": \"Baelish\", \"alive\": false, \"traits\": [\"E\",\"G\",\"F\"] },\n",
        "    { \"name\": \"Viserys\", \"surname\": \"Targaryen\", \"alive\": false, \"traits\": [\"O\",\"L\",\"N\"] },\n",
        "    { \"name\": \"Jon\", \"surname\": \"Snow\", \"alive\": true, \"age\": 16, \"traits\": [\"A\",\"B\",\"C\",\"F\"] },\n",
        "    { \"name\": \"Sansa\", \"surname\": \"Stark\", \"alive\": true, \"age\": 13, \"traits\": [\"D\",\"I\",\"J\"] },\n",
        "    { \"name\": \"Arya\", \"surname\": \"Stark\", \"alive\": true, \"age\": 11, \"traits\": [\"C\",\"K\",\"L\"] },\n",
        "    { \"name\": \"Robb\", \"surname\": \"Stark\", \"alive\": false, \"traits\": [\"A\",\"B\",\"C\",\"K\"] },\n",
        "    { \"name\": \"Theon\", \"surname\": \"Greyjoy\", \"alive\": true, \"age\": 16, \"traits\": [\"E\",\"R\",\"K\"] },\n",
        "    { \"name\": \"Bran\", \"surname\": \"Stark\", \"alive\": true, \"age\": 10, \"traits\": [\"L\",\"J\"] },\n",
        "    { \"name\": \"Joffrey\", \"surname\": \"Baratheon\", \"alive\": false, \"age\": 19, \"traits\": [\"I\",\"L\",\"O\"] },\n",
        "    { \"name\": \"Sandor\", \"surname\": \"Clegane\", \"alive\": true, \"traits\": [\"A\",\"P\",\"K\",\"F\"] },\n",
        "    { \"name\": \"Tyrion\", \"surname\": \"Lannister\", \"alive\": true, \"age\": 32, \"traits\": [\"F\",\"K\",\"M\",\"N\"] },\n",
        "    { \"name\": \"Khal\", \"surname\": \"Drogo\", \"alive\": false, \"traits\": [\"A\",\"C\",\"O\",\"P\"] },\n",
        "    { \"name\": \"Tywin\", \"surname\": \"Lannister\", \"alive\": false, \"traits\": [\"O\",\"M\",\"H\",\"F\"] },\n",
        "    { \"name\": \"Davos\", \"surname\": \"Seaworth\", \"alive\": true, \"age\": 49, \"traits\": [\"C\",\"K\",\"P\",\"F\"] },\n",
        "    { \"name\": \"Samwell\", \"surname\": \"Tarly\", \"alive\": true, \"age\": 17, \"traits\": [\"C\",\"L\",\"I\"] },\n",
        "    { \"name\": \"Stannis\", \"surname\": \"Baratheon\", \"alive\": false, \"traits\": [\"H\",\"O\",\"P\",\"M\"] },\n",
        "    { \"name\": \"Melisandre\", \"alive\": true, \"traits\": [\"G\",\"E\",\"H\"] },\n",
        "    { \"name\": \"Margaery\", \"surname\": \"Tyrell\", \"alive\": false, \"traits\": [\"M\",\"D\",\"B\"] },\n",
        "    { \"name\": \"Jeor\", \"surname\": \"Mormont\", \"alive\": false, \"traits\": [\"C\",\"H\",\"M\",\"P\"] },\n",
        "    { \"name\": \"Bronn\", \"alive\": true, \"traits\": [\"K\",\"E\",\"C\"] },\n",
        "    { \"name\": \"Varys\", \"alive\": true, \"traits\": [\"M\",\"F\",\"N\",\"E\"] },\n",
        "    { \"name\": \"Shae\", \"alive\": false, \"traits\": [\"M\",\"D\",\"G\"] },\n",
        "    { \"name\": \"Talisa\", \"surname\": \"Maegyr\", \"alive\": false, \"traits\": [\"D\",\"C\",\"B\"] },\n",
        "    { \"name\": \"Gendry\", \"alive\": false, \"traits\": [\"K\",\"C\",\"A\"] },\n",
        "    { \"name\": \"Ygritte\", \"alive\": false, \"traits\": [\"A\",\"P\",\"K\"] },\n",
        "    { \"name\": \"Tormund\", \"surname\": \"Giantsbane\", \"alive\": true, \"traits\": [\"C\",\"P\",\"A\",\"I\"] },\n",
        "    { \"name\": \"Gilly\", \"alive\": true, \"traits\": [\"L\",\"J\"] },\n",
        "    { \"name\": \"Brienne\", \"surname\": \"Tarth\", \"alive\": true, \"age\": 32, \"traits\": [\"P\",\"C\",\"A\",\"K\"] },\n",
        "    { \"name\": \"Ramsay\", \"surname\": \"Bolton\", \"alive\": true, \"traits\": [\"E\",\"O\",\"G\",\"A\"] },\n",
        "    { \"name\": \"Ellaria\", \"surname\": \"Sand\", \"alive\": true, \"traits\": [\"P\",\"O\",\"A\",\"E\"] },\n",
        "    { \"name\": \"Daario\", \"surname\": \"Naharis\", \"alive\": true, \"traits\": [\"K\",\"P\",\"A\"] },\n",
        "    { \"name\": \"Missandei\", \"alive\": true, \"traits\": [\"D\",\"L\",\"C\",\"M\"] },\n",
        "    { \"name\": \"Tommen\", \"surname\": \"Baratheon\", \"alive\": true, \"traits\": [\"I\",\"L\",\"B\"] },\n",
        "    { \"name\": \"Jaqen\", \"surname\": \"H'ghar\", \"alive\": true, \"traits\": [\"H\",\"F\",\"K\"] },\n",
        "    { \"name\": \"Roose\", \"surname\": \"Bolton\", \"alive\": true, \"traits\": [\"H\",\"E\",\"F\",\"A\"] },\n",
        "    { \"name\": \"The High Sparrow\", \"alive\": true, \"traits\": [\"H\",\"M\",\"F\",\"O\"] }\n",
        "]\n",
        "\n",
        "FOR d IN data\n",
        "    INSERT d INTO Characters\n",
        "\"\"\"\n",
        "\n",
        "db.AQLQuery(insert_query)"
      ],
      "execution_count": 10,
      "outputs": [
        {
          "output_type": "execute_result",
          "data": {
            "text/plain": [
              "<pyArango.query.AQLQuery at 0x7f4c1420a190>"
            ]
          },
          "metadata": {
            "tags": []
          },
          "execution_count": 10
        }
      ]
    },
    {
      "cell_type": "markdown",
      "metadata": {
        "id": "wDDdBVIc9ZMw"
      },
      "source": [
        "* Conferência do novo estado da coleção"
      ]
    },
    {
      "cell_type": "code",
      "metadata": {
        "colab": {
          "base_uri": "https://localhost:8080/"
        },
        "id": "-Tgzw5zd9SFZ",
        "outputId": "9a85e623-a830-400a-f6ab-dc474039c083"
      },
      "source": [
        "#Consultando o novo estado da coleção e retornando apenas o atributo name\n",
        "all_characters_names = \"\"\"\n",
        "FOR c IN Characters\n",
        "    RETURN c.name\n",
        "\"\"\"\n",
        "\n",
        "query_result = db.AQLQuery(all_characters_names, rawResults=True)\n",
        "\n",
        "\"\"\"\n",
        "#Exibição da query completa\n",
        "for doc in  query_result:\n",
        "    print(doc, sep='\\n')\n",
        "\"\"\"\n",
        "\n",
        "#Exibição dos primeiros 10 registros da query\n",
        "for i in range(10):\n",
        "  print(query_result[i])"
      ],
      "execution_count": 11,
      "outputs": [
        {
          "output_type": "stream",
          "text": [
            "Ned\n",
            "Robert\n",
            "Jaime\n",
            "Catelyn\n",
            "Cersei\n",
            "Daenerys\n",
            "Jorah\n",
            "Petyr\n",
            "Viserys\n",
            "Jon\n"
          ],
          "name": "stdout"
        }
      ]
    },
    {
      "cell_type": "markdown",
      "metadata": {
        "id": "kaYENPPOor5V"
      },
      "source": [
        "* **Consultas condicionais**\n",
        "\n",
        "Nas células de código a seguir usamos as instruções `FILTER`, `SORT` e `LIMIT` para realizar consultas com uso de condições, ordenação e limitação da quantidade de reultados."
      ]
    },
    {
      "cell_type": "code",
      "metadata": {
        "colab": {
          "base_uri": "https://localhost:8080/"
        },
        "id": "EuUer1pqorTA",
        "outputId": "14edc203-5920-4242-ddbd-f97fb0cc3b77"
      },
      "source": [
        "#Filtrando por personagens que não estão vivos\n",
        "find_ned_query = \"\"\"\n",
        "FOR c IN Characters\n",
        "    FILTER c.alive == false\n",
        "    RETURN c.name\n",
        "\"\"\"\n",
        "query_result = db.AQLQuery(find_ned_query, rawResults=True)\n",
        "for doc in  query_result:\n",
        "    print(doc, sep='\\n')"
      ],
      "execution_count": 12,
      "outputs": [
        {
          "output_type": "stream",
          "text": [
            "Robert\n",
            "Catelyn\n",
            "Jorah\n",
            "Petyr\n",
            "Viserys\n",
            "Robb\n",
            "Joffrey\n",
            "Khal\n",
            "Tywin\n",
            "Stannis\n",
            "Margaery\n",
            "Jeor\n",
            "Shae\n",
            "Talisa\n",
            "Gendry\n",
            "Ygritte\n"
          ],
          "name": "stdout"
        }
      ]
    },
    {
      "cell_type": "code",
      "metadata": {
        "colab": {
          "base_uri": "https://localhost:8080/"
        },
        "id": "IyeRAJnbp6FH",
        "outputId": "7d2553f4-c7b9-4bec-ec3e-935799c300db"
      },
      "source": [
        "#Filtrando por personagens com idade maior que 18 anos e não estão vivos\n",
        "find_ned_query = \"\"\"\n",
        "FOR c IN Characters\n",
        "    FILTER c.alive == false AND c.age >= 18\n",
        "    RETURN c.name\n",
        "\"\"\"\n",
        "query_result = db.AQLQuery(find_ned_query, rawResults=True)\n",
        "for doc in  query_result:\n",
        "    print(doc, sep='\\n')"
      ],
      "execution_count": 13,
      "outputs": [
        {
          "output_type": "stream",
          "text": [
            "Catelyn\n",
            "Joffrey\n"
          ],
          "name": "stdout"
        }
      ]
    },
    {
      "cell_type": "code",
      "metadata": {
        "colab": {
          "base_uri": "https://localhost:8080/"
        },
        "id": "rclhqtUmqLtv",
        "outputId": "0e98a45d-1b6e-482a-d5be-94802d5cdc43"
      },
      "source": [
        "#Filtrando por personagens com idade maior que 18 anos e não estão vivos\n",
        "#Alterando os atributos exibidos no retorno\n",
        "find_ned_query = \"\"\"\n",
        "FOR c IN Characters\n",
        "    FILTER c.alive == false AND c.age >= 18\n",
        "    RETURN { Nome: c.name, Sobrenome: c.surname, Idade: c.age }\n",
        "\"\"\"\n",
        "query_result = db.AQLQuery(find_ned_query, rawResults=True)\n",
        "for doc in  query_result:\n",
        "    print(doc, sep='\\n')"
      ],
      "execution_count": 14,
      "outputs": [
        {
          "output_type": "stream",
          "text": [
            "{'Nome': 'Catelyn', 'Sobrenome': 'Stark', 'Idade': 40}\n",
            "{'Nome': 'Joffrey', 'Sobrenome': 'Baratheon', 'Idade': 19}\n"
          ],
          "name": "stdout"
        }
      ]
    },
    {
      "cell_type": "code",
      "metadata": {
        "colab": {
          "base_uri": "https://localhost:8080/"
        },
        "id": "BueJY1kdpLEe",
        "outputId": "5d0ad038-999a-46dd-ec19-147eb188f0fa"
      },
      "source": [
        "#Filtrando por sobrenome (surname)\n",
        "find_ned_query = \"\"\"\n",
        "FOR c IN Characters\n",
        "    FILTER c.surname == \"Bolton\"\n",
        "    RETURN c\n",
        "\"\"\"\n",
        "query_result = db.AQLQuery(find_ned_query, rawResults=True)\n",
        "for doc in  query_result:\n",
        "    print(doc, sep='\\n')"
      ],
      "execution_count": 15,
      "outputs": [
        {
          "output_type": "stream",
          "text": [
            "{'_key': '266248622266', '_id': 'Characters/266248622266', '_rev': '_cWYUJb2--W', 'name': 'Ramsay', 'surname': 'Bolton', 'alive': True, 'traits': ['E', 'O', 'G', 'A']}\n",
            "{'_key': '266248622272', '_id': 'Characters/266248622272', '_rev': '_cWYUJb2--i', 'name': 'Roose', 'surname': 'Bolton', 'alive': True, 'traits': ['H', 'E', 'F', 'A']}\n"
          ],
          "name": "stdout"
        }
      ]
    },
    {
      "cell_type": "code",
      "metadata": {
        "colab": {
          "base_uri": "https://localhost:8080/"
        },
        "id": "ip5c4XMCq9UI",
        "outputId": "aa5f278e-c4cf-4601-8cc8-8fd4105842cf"
      },
      "source": [
        "#Limitando a quantidade de saídas na própria consulta\n",
        "sample_chars_query = \"\"\"\n",
        "FOR c IN Characters\n",
        "    LIMIT 5\n",
        "    RETURN c.name\n",
        "\"\"\"\n",
        "query_result = db.AQLQuery(sample_chars_query, rawResults=True)\n",
        "for doc in  query_result:\n",
        "    print(doc, sep='\\n')"
      ],
      "execution_count": 16,
      "outputs": [
        {
          "output_type": "stream",
          "text": [
            "Ned\n",
            "Robert\n",
            "Jaime\n",
            "Catelyn\n",
            "Cersei\n"
          ],
          "name": "stdout"
        }
      ]
    },
    {
      "cell_type": "code",
      "metadata": {
        "colab": {
          "base_uri": "https://localhost:8080/"
        },
        "id": "oGpice0GrHdI",
        "outputId": "896600dd-14c3-4f5e-fe0b-4ae9b05c72b5"
      },
      "source": [
        "#Ordenado a consulta e depois limitando a quantidade de saídas\n",
        "sample_chars_query = \"\"\"\n",
        "FOR c IN Characters\n",
        "    SORT c.name\n",
        "    LIMIT 5\n",
        "    RETURN { name: c.name, surname: c.surname, age: c.age }\n",
        "\"\"\"\n",
        "query_result = db.AQLQuery(sample_chars_query, rawResults=True)\n",
        "for doc in  query_result:\n",
        "    print(doc, sep='\\n')"
      ],
      "execution_count": 17,
      "outputs": [
        {
          "output_type": "stream",
          "text": [
            "{'name': 'Arya', 'surname': 'Stark', 'age': 11}\n",
            "{'name': 'Bran', 'surname': 'Stark', 'age': 10}\n",
            "{'name': 'Brienne', 'surname': 'Tarth', 'age': 32}\n",
            "{'name': 'Bronn', 'surname': None, 'age': None}\n",
            "{'name': 'Catelyn', 'surname': 'Stark', 'age': 40}\n"
          ],
          "name": "stdout"
        }
      ]
    },
    {
      "cell_type": "markdown",
      "metadata": {
        "id": "2EFhiVt0q5Sr"
      },
      "source": [
        "#3 Excluindo dados"
      ]
    },
    {
      "cell_type": "markdown",
      "metadata": {
        "id": "KReDfqwA9yJ2"
      },
      "source": [
        "* Removendo todos os dados"
      ]
    },
    {
      "cell_type": "code",
      "metadata": {
        "colab": {
          "base_uri": "https://localhost:8080/"
        },
        "id": "PMvtV3rO9wzu",
        "outputId": "e166b60f-6f0e-4f1e-ceda-4dfaf2cf6b3e"
      },
      "source": [
        "remove_all = \"\"\"\n",
        "FOR c IN Characters\n",
        "    REMOVE c IN Characters\n",
        "\"\"\"\n",
        "db.AQLQuery(remove_all, rawResults=False)"
      ],
      "execution_count": 18,
      "outputs": [
        {
          "output_type": "execute_result",
          "data": {
            "text/plain": [
              "<pyArango.query.AQLQuery at 0x7f4c14217210>"
            ]
          },
          "metadata": {
            "tags": []
          },
          "execution_count": 18
        }
      ]
    },
    {
      "cell_type": "code",
      "metadata": {
        "colab": {
          "base_uri": "https://localhost:8080/"
        },
        "id": "-DHccp9U-hce",
        "outputId": "e47be4cb-841d-44a6-9ec4-24bbe8eac46d"
      },
      "source": [
        "#Verificando o resultado da remoção\n",
        "all_characters_names = \"\"\"\n",
        "FOR c IN Characters\n",
        "    RETURN c\n",
        "\"\"\"\n",
        "\n",
        "query_result = db.AQLQuery(all_characters_names, rawResults=True)\n",
        "if len(query_result) == 0 :\n",
        "    print(\"No characters left.\")"
      ],
      "execution_count": 19,
      "outputs": [
        {
          "output_type": "stream",
          "text": [
            "No characters left.\n"
          ],
          "name": "stdout"
        }
      ]
    },
    {
      "cell_type": "markdown",
      "metadata": {
        "id": "penE8lwBxcXM"
      },
      "source": [
        "#4 Reprodução Benchmark ArangoDB (2018)"
      ]
    },
    {
      "cell_type": "markdown",
      "metadata": {
        "id": "A-0cSW3sxhyI"
      },
      "source": [
        "Nessa seção apresentamos uma visão sintética da reprodução do Benchmark Arango DB 2018 [Weinberger, 2018]. Neste experimento, realizado pela própria ArangoDB, são comparados os resultados de desempenho do SGBD em diferentes cenários com outras soluções NoSQL. A figura 1 a seguir apresenta a visualização resumida dos resultados, indicando um desempenho superior em alguns cenários e mesmo nos cenários em que não tem o melhor resultado está entre as soluções melhores ou intermediárias.\n",
        "\n",
        "![](https://www.arangodb.com/wp-content/uploads/2018/02/UPDATE-Benchmark-2018.001.jpeg)\n",
        "\n",
        "Figura 1 - Benchmark Arango DB [Weinberger, 2018]\n",
        "\n",
        "A execução do benchmark não foi realizada nesse notebbok, tendo em vista que a reprodutibilidade nesse ambiente levaria à necessidade de diversos ajustes. Dessa forma, escolheu-se reproduzir o experimento de execução do benchmark usando os scripts fornecidos pelo repositório https://github.com/weinberger/nosql-tests em um ambiente local com sistema operacional Linux Ubuntu 18.04.\n",
        "\n",
        "A célula a seguir carrega os resultados do experimento realizado."
      ]
    },
    {
      "cell_type": "code",
      "metadata": {
        "id": "zi4YqnAh0SAe"
      },
      "source": [
        "import pandas as pd"
      ],
      "execution_count": 20,
      "outputs": []
    },
    {
      "cell_type": "code",
      "metadata": {
        "id": "styGM2Ahxh4n"
      },
      "source": [
        "#Carga do relatório com resultados da execução do benchmark\n",
        "arquivo = 'https://github.com/janiosl/python.ds/raw/master/arangoDB/results/result_raw.xlsx'\n",
        "results = pd.read_excel(arquivo, sheet_name='raw_tabular')"
      ],
      "execution_count": 21,
      "outputs": []
    },
    {
      "cell_type": "markdown",
      "metadata": {
        "id": "LVDNnXSY0xQi"
      },
      "source": [
        "A tabela carregada abaixo apresenta os resultados dos testes realizados. O script fornecido pelo repositório realiza outros testes e esse trabalho foi realizado executando os testes com os parâmetros padrão das funções executadas, exceto pela seleção dos bancos do banco de dados ArangoDB, para evitar repetir os testes para todos os bancos de dados, tendo em vista delimitação do escopo do trabalho. Após a execução foram armazenados tabulados os resultados apenas para os testes citados no artigo de apresentação do benchmark (), conforme listados a seguir:\n",
        "\n",
        "* Single read\n",
        "* Single write\n",
        "* Single write Sync\n",
        "* Aggregation\n",
        "* Neighbors second\n",
        "* Neighbors second with data\n",
        "* Shortest path\n",
        "\n",
        "---\n",
        "\n",
        "Na exibição tabular a seguir, temos primeiramente a visualização do tempo em segundos para cada teste realizado. As colunas 0 e 1 apresentam respectivamente os resultados para o ArangoDB e Arango DB MMFILES (EXPLICAR). Por sua vez, as colunas identificadas como 2 e 3 na segunda tabela apresentam os resultados relativos usando ArangoDB como base, ou seja, com 1 (100%) e o ArangoDB MMFILES como a proporção de tempo que este levou em relação à base."
      ]
    },
    {
      "cell_type": "code",
      "metadata": {
        "colab": {
          "base_uri": "https://localhost:8080/",
          "height": 287
        },
        "id": "D-t-Ycw06JMl",
        "outputId": "aad7011f-2035-42aa-b379-90dcfd63a0a1"
      },
      "source": [
        "#Resultados absolutos (segundos)\n",
        "results.iloc[0:2, :].transpose()"
      ],
      "execution_count": 22,
      "outputs": [
        {
          "output_type": "execute_result",
          "data": {
            "text/html": [
              "<div>\n",
              "<style scoped>\n",
              "    .dataframe tbody tr th:only-of-type {\n",
              "        vertical-align: middle;\n",
              "    }\n",
              "\n",
              "    .dataframe tbody tr th {\n",
              "        vertical-align: top;\n",
              "    }\n",
              "\n",
              "    .dataframe thead th {\n",
              "        text-align: right;\n",
              "    }\n",
              "</style>\n",
              "<table border=\"1\" class=\"dataframe\">\n",
              "  <thead>\n",
              "    <tr style=\"text-align: right;\">\n",
              "      <th></th>\n",
              "      <th>0</th>\n",
              "      <th>1</th>\n",
              "    </tr>\n",
              "  </thead>\n",
              "  <tbody>\n",
              "    <tr>\n",
              "      <th>SGBD</th>\n",
              "      <td>ArangoDB (s)</td>\n",
              "      <td>ArangoDB MMFILES (s)</td>\n",
              "    </tr>\n",
              "    <tr>\n",
              "      <th>SINGLE_READ</th>\n",
              "      <td>7.985</td>\n",
              "      <td>7.975</td>\n",
              "    </tr>\n",
              "    <tr>\n",
              "      <th>SINGLE_WRITE</th>\n",
              "      <td>9.705</td>\n",
              "      <td>9.835</td>\n",
              "    </tr>\n",
              "    <tr>\n",
              "      <th>SINGLE_WRITE_SYNC</th>\n",
              "      <td>20.175</td>\n",
              "      <td>19.717</td>\n",
              "    </tr>\n",
              "    <tr>\n",
              "      <th>AGGREGATION</th>\n",
              "      <td>1.68</td>\n",
              "      <td>0.566</td>\n",
              "    </tr>\n",
              "    <tr>\n",
              "      <th>NEIGHBORS_2</th>\n",
              "      <td>1.129</td>\n",
              "      <td>1.146</td>\n",
              "    </tr>\n",
              "    <tr>\n",
              "      <th>NEIGHBORS_2ND_DATA</th>\n",
              "      <td>2.602</td>\n",
              "      <td>2.582</td>\n",
              "    </tr>\n",
              "    <tr>\n",
              "      <th>SHORTEST</th>\n",
              "      <td>0.206</td>\n",
              "      <td>0.544</td>\n",
              "    </tr>\n",
              "  </tbody>\n",
              "</table>\n",
              "</div>"
            ],
            "text/plain": [
              "                               0                     1\n",
              "SGBD                ArangoDB (s)  ArangoDB MMFILES (s)\n",
              "SINGLE_READ                7.985                 7.975\n",
              "SINGLE_WRITE               9.705                 9.835\n",
              "SINGLE_WRITE_SYNC         20.175                19.717\n",
              "AGGREGATION                 1.68                 0.566\n",
              "NEIGHBORS_2                1.129                 1.146\n",
              "NEIGHBORS_2ND_DATA         2.602                 2.582\n",
              "SHORTEST                   0.206                 0.544"
            ]
          },
          "metadata": {
            "tags": []
          },
          "execution_count": 22
        }
      ]
    },
    {
      "cell_type": "code",
      "metadata": {
        "colab": {
          "base_uri": "https://localhost:8080/",
          "height": 287
        },
        "id": "KLPhfy6b3mdz",
        "outputId": "bab7975a-91c5-4714-9e49-a264d3833b7f"
      },
      "source": [
        "#Resultados relativos (1 = 100%)\n",
        "results.iloc[2:4, :].transpose()"
      ],
      "execution_count": 23,
      "outputs": [
        {
          "output_type": "execute_result",
          "data": {
            "text/html": [
              "<div>\n",
              "<style scoped>\n",
              "    .dataframe tbody tr th:only-of-type {\n",
              "        vertical-align: middle;\n",
              "    }\n",
              "\n",
              "    .dataframe tbody tr th {\n",
              "        vertical-align: top;\n",
              "    }\n",
              "\n",
              "    .dataframe thead th {\n",
              "        text-align: right;\n",
              "    }\n",
              "</style>\n",
              "<table border=\"1\" class=\"dataframe\">\n",
              "  <thead>\n",
              "    <tr style=\"text-align: right;\">\n",
              "      <th></th>\n",
              "      <th>2</th>\n",
              "      <th>3</th>\n",
              "    </tr>\n",
              "  </thead>\n",
              "  <tbody>\n",
              "    <tr>\n",
              "      <th>SGBD</th>\n",
              "      <td>ArangoDB (p)</td>\n",
              "      <td>ArangoDB MMFILES (p)</td>\n",
              "    </tr>\n",
              "    <tr>\n",
              "      <th>SINGLE_READ</th>\n",
              "      <td>1</td>\n",
              "      <td>0.998748</td>\n",
              "    </tr>\n",
              "    <tr>\n",
              "      <th>SINGLE_WRITE</th>\n",
              "      <td>1</td>\n",
              "      <td>1.0134</td>\n",
              "    </tr>\n",
              "    <tr>\n",
              "      <th>SINGLE_WRITE_SYNC</th>\n",
              "      <td>1</td>\n",
              "      <td>0.977299</td>\n",
              "    </tr>\n",
              "    <tr>\n",
              "      <th>AGGREGATION</th>\n",
              "      <td>1</td>\n",
              "      <td>0.336905</td>\n",
              "    </tr>\n",
              "    <tr>\n",
              "      <th>NEIGHBORS_2</th>\n",
              "      <td>1</td>\n",
              "      <td>1.01506</td>\n",
              "    </tr>\n",
              "    <tr>\n",
              "      <th>NEIGHBORS_2ND_DATA</th>\n",
              "      <td>1</td>\n",
              "      <td>0.992314</td>\n",
              "    </tr>\n",
              "    <tr>\n",
              "      <th>SHORTEST</th>\n",
              "      <td>1</td>\n",
              "      <td>2.64078</td>\n",
              "    </tr>\n",
              "  </tbody>\n",
              "</table>\n",
              "</div>"
            ],
            "text/plain": [
              "                               2                     3\n",
              "SGBD                ArangoDB (p)  ArangoDB MMFILES (p)\n",
              "SINGLE_READ                    1              0.998748\n",
              "SINGLE_WRITE                   1                1.0134\n",
              "SINGLE_WRITE_SYNC              1              0.977299\n",
              "AGGREGATION                    1              0.336905\n",
              "NEIGHBORS_2                    1               1.01506\n",
              "NEIGHBORS_2ND_DATA             1              0.992314\n",
              "SHORTEST                       1               2.64078"
            ]
          },
          "metadata": {
            "tags": []
          },
          "execution_count": 23
        }
      ]
    },
    {
      "cell_type": "markdown",
      "metadata": {
        "id": "WHLkIw1ak-Kf"
      },
      "source": [
        "A seguir são exibidas duas visualizações dos valores obtidos nos testes. No primeiro gráfico temos os valores absolutos (em segundos) para cada teste realizado. Na sequência é apresentado o gráfico com o valor relativo entre os dois benchmarks do ArangoDB."
      ]
    },
    {
      "cell_type": "code",
      "metadata": {
        "id": "ZrQH8eiX2KWI"
      },
      "source": [
        "from matplotlib import pyplot as plt\n",
        "import seaborn as sns\n",
        "import numpy as np"
      ],
      "execution_count": 28,
      "outputs": []
    },
    {
      "cell_type": "code",
      "metadata": {
        "id": "RmuK_nlLQ_zK"
      },
      "source": [
        "results_raw = pd.read_excel(arquivo, sheet_name='raw')"
      ],
      "execution_count": 29,
      "outputs": []
    },
    {
      "cell_type": "code",
      "metadata": {
        "id": "M5BXrw1CWfg8"
      },
      "source": [
        "s = results_raw[results_raw.METRIC == 's']\n",
        "s.set_index('SGBD_AND_METRIC', inplace=True)\n",
        "s = s.iloc[:, 1:]\n",
        "\n",
        "#Separação dos dados em variáveis\n",
        "labels_S = list(results.keys()[1:])\n",
        "adbS = list(s.loc['ArangoDB (s)'].VALUE)\n",
        "mmfS = list(s.loc['ArangoDB MMFILES (s)'].VALUE)"
      ],
      "execution_count": 30,
      "outputs": []
    },
    {
      "cell_type": "code",
      "metadata": {
        "colab": {
          "base_uri": "https://localhost:8080/",
          "height": 584
        },
        "id": "5jaJWyT9iVN1",
        "outputId": "806cc78e-4fe1-444b-fa7d-487f3ecf38b2"
      },
      "source": [
        "x = np.arange(len(labels_S))  # the label locations\n",
        "width = 0.35  # the width of the bars\n",
        "\n",
        "\n",
        "fig, ax = plt.subplots()\n",
        "\n",
        "plt.grid()\n",
        "fig.set_size_inches(12,8)\n",
        "\n",
        "rects1 = ax.bar(x - width/2, adbS, width, label='ArangoDB', color='green', alpha=0.3)\n",
        "rects2 = ax.bar(x + width/2, mmfS, width, label='ArangoDB MMFILES', color='green', alpha=0.9)\n",
        "\n",
        "ax.set_ylabel('Tempo de execução (segundos)', fontsize=14)\n",
        "ax.set_xlabel('Testes Realizados', fontsize=14)\n",
        "\n",
        "ax.set_title('Benchmark ArangoDB\\nValores absolutos (s)', fontsize=14, fontweight ='bold')\n",
        "\n",
        "ax.set_xticks(x)\n",
        "ax.set_xticklabels(labels_S, rotation='vertical')\n",
        "\n",
        "ax.legend()\n",
        "sns.despine()\n",
        "\n",
        "fig.tight_layout()"
      ],
      "execution_count": 31,
      "outputs": [
        {
          "output_type": "display_data",
          "data": {
            "image/png": "[encoded data removed]",
            "text/plain": [
              "<Figure size 864x576 with 1 Axes>"
            ]
          },
          "metadata": {
            "tags": [],
            "needs_background": "light"
          }
        }
      ]
    },
    {
      "cell_type": "markdown",
      "metadata": {
        "id": "BjFTLR_hmsBb"
      },
      "source": [
        "Se compararmos os valores obtidos com aqueles do benchmark, percebemos que a execução obteve valores no geral menores do que nos testes originais. As diferenças são mais acentuadas nos tests de leitura e escrita simples (single read e single write). Na avaliação dos valores percentuais a proporção entre o ArangoDB e ArangoDB MMFiles se mantém estável, exceto por alguns casos pontuais, principalmente no teste \"*shortest*\", cuja diferente caiu de 816% para 264%.\n",
        "\n",
        "![](https://www.arangodb.com/wp-content/uploads/2018/02/UPDATE-Performance-Benchmark-2018-Overview-Table.jpg)\n",
        "\n",
        "Fonte:  Benchmark Arango DB [Weinberger, 2018]"
      ]
    },
    {
      "cell_type": "code",
      "metadata": {
        "id": "8taUCPaFZAXa"
      },
      "source": [
        "#Reoranização dos dados para geração da visualização\n",
        "p = results_raw[results_raw.METRIC == 'p']\n",
        "p.set_index('SGBD_AND_METRIC', inplace=True)\n",
        "p = p.iloc[:, 1:]\n",
        "\n",
        "#Separação dos dados em variáveis\n",
        "labels = list(results.keys()[1:])\n",
        "adb = list(p.loc['ArangoDB (p)'].VALUE)\n",
        "mmf = list(p.loc['ArangoDB MMFILES (p)'].VALUE)"
      ],
      "execution_count": 32,
      "outputs": []
    },
    {
      "cell_type": "code",
      "metadata": {
        "colab": {
          "base_uri": "https://localhost:8080/",
          "height": 584
        },
        "id": "ZYnqi9O2ecQm",
        "outputId": "9f92d708-08cc-43d1-8b27-8d9774f8b6b4"
      },
      "source": [
        "x = np.arange(len(labels))  # the label locations\n",
        "width = 0.35  # the width of the bars\n",
        "\n",
        "\n",
        "fig, ax = plt.subplots()\n",
        "\n",
        "plt.grid()\n",
        "fig.set_size_inches(12,8)\n",
        "\n",
        "rects1 = ax.bar(x - width/2, adb, width, label='ArangoDB', color='green', alpha=0.3)\n",
        "rects2 = ax.bar(x + width/2, mmf, width, label='ArangoDB MMFILES', color='green', alpha=0.9)\n",
        "\n",
        "ax.set_ylabel('Tempo de execução (1 = 100%)', fontsize=14)\n",
        "ax.set_xlabel('Testes Realizados', fontsize=14)\n",
        "\n",
        "ax.set_title('Benchmark ArangoDB\\nValores relativos (%)', fontsize=14, fontweight ='bold')\n",
        "\n",
        "ax.set_xticks(x)\n",
        "ax.set_xticklabels(labels, rotation='vertical')\n",
        "\n",
        "ax.legend()\n",
        "sns.despine()\n",
        "\n",
        "fig.tight_layout()"
      ],
      "execution_count": 33,
      "outputs": [
        {
          "output_type": "display_data",
          "data": {
            "image/png": "[encoded data removed]",
            "text/plain": [
              "<Figure size 864x576 with 1 Axes>"
            ]
          },
          "metadata": {
            "tags": [],
            "needs_background": "light"
          }
        }
      ]
    },
    {
      "cell_type": "markdown",
      "metadata": {
        "id": "QIuB063QrFXy"
      },
      "source": [
        "Outros detalhes sobre a avaliação desses resultados serão apresentados durante o encerramento da disciplina de Banco de Dados do PPCIC - Programa de Computação em Ciência da Computação do CEFET/RJ. Além disso, parte dos relatórios textuais obtidos durante a execução dos scripts de benchmark bem como a tabulação destes testes estão disponíveis no repositório https://github.com/janiosl/python.ds/tree/master/arangoDB/results."
      ]
    },
    {
      "cell_type": "markdown",
      "metadata": {
        "id": "lCtO_Dj5o3Sb"
      },
      "source": [
        "#Considerações Finais"
      ]
    },
    {
      "cell_type": "markdown",
      "metadata": {
        "id": "FxvSgbENo6M0"
      },
      "source": [
        "Esse notebook não reflete o trabalho completo citado em seu cabeçalho, pois o trabalho é composto pelo conjunto de entregas listadas a seguir:\n",
        "\n",
        "* **Apresentação com a síntese de todas atividades** (arquivo e a própria apresentação realizada pela equipe durante o encerramento da disciplina Banco de Dados);\n",
        "* **Implementação local**, configurações e testes exploratórios básicos realizados no \"**ArangoDB Enterprise - Communy Edition**\" em sua interface web (capturas de telas com demonstração da atividade incorporada à apresentação);\n",
        "* Esse **notebook** com a implementação, exploração e demonstrações relativas à utilização do **ArangoDB através da API para Python**;\n",
        "* **Implementação**, configuração e execução dos scripts relativos ao **benchmark** citado ao longo desse notebook e da apresentação (capturas de telas com demonstração da atividade incorporada à apresentação);\n",
        "* **Relatório técnico** das atividades realizadas.\n",
        "\n",
        "Ademais, a execução desse trabalho cujo objetivo era além da execução do benchmark própriamente dito a exploração dos conceitos de Bancos de Dados NoSQL e experimentação de uma solução de mercado, permitiu através dos artefados listados acima a disponibildade de conteúdo para habilitar outros pesquisadores e profissionais na sua utilização e comparação com outras soluções."
      ]
    },
    {
      "cell_type": "markdown",
      "metadata": {
        "id": "XWwqiXnct94n"
      },
      "source": [
        "#Referências e Links"
      ]
    },
    {
      "cell_type": "markdown",
      "metadata": {
        "id": "lZRn08F-uAX7"
      },
      "source": [
        "**Referências**\n",
        "\n",
        "Weinberger, Claudius (2018). **NoSQL Performance Benchmark 2018 – MongoDB, PostgreSQL, OrientDB, Neo4j and ArangoDB**. Disponível em <https://www.arangodb.com/2018/02/nosql-performance-benchmark-2018-mongodb-postgresql-orientdb-neo4j-arangodb/>. ArangoDB.\n",
        "\n",
        "Amazon (2021). **O que é NoSQL**. Disponível em <https://aws.amazon.com/pt/nosql/>. Aws.\n",
        "\n",
        "L. Takac, M. Zabovsky (2012). **Data Analysis in Public Social Networks**. International Scientific Conference & International Workshop Present Day Trends of Innovations, Lomza, Poland.\n",
        "\n",
        "---\n",
        "\n",
        "**Links e leituras complementares**\n",
        "* Instalação ArangoDB: https://www.arangodb.com/download-major/ \n",
        "* Tutorial ArangoDB: https://www.arangodb.com/docs/stable/aql/tutorial.html\n",
        "* Tutoriais ArangoDB no Python: https://github.com/arangodb/interactive_tutorials \n",
        "* Scripts de Configuração do Benchmark: https://github.com/weinberger/nosql-tests/blob/master/setupAll.sh \n",
        "* Scripts de Execução do Benchmark: https://github.com/weinberger/nosql-tests/blob/master/runAll.sh\n",
        "* Pokec social network: https://snap.stanford.edu/data/soc-pokec.html "
      ]
    }
  ]
}