{
 "cells": [
  {
   "cell_type": "markdown",
   "id": "4f44f023",
   "metadata": {},
   "source": [
    "# Usando R no Jupyter Notebook"
   ]
  },
  {
   "cell_type": "markdown",
   "id": "b82d7683",
   "metadata": {},
   "source": [
    "Este é um exemplo simples de uso do **R** através do *Jupyter Notebook* e configuração de um ambiente virtual de desenvolvimento preparado para rodar a linguagem R.\n",
    "\n",
    "Seu objetivo é ser usado como material complementar aos estudos da plataforma de Ciência de Dados Anaconda, através do canal Python DS. Para assistir aos vídeos sobre explicação de seu uso e como criar o ambiente virtual do R no Anaconda Navigator acesse https://www.youtube.com/playlist?list=PL0XxTDj23A1Ftg-rb_pIaFE3pPROwWtbw"
   ]
  },
  {
   "cell_type": "code",
   "execution_count": 1,
   "id": "987013bf",
   "metadata": {},
   "outputs": [
    {
     "name": "stdout",
     "output_type": "stream",
     "text": [
      "[1] \"Olá R no Python DS\"\n"
     ]
    }
   ],
   "source": [
    "print(\"Olá R no Python DS\")"
   ]
  },
  {
   "cell_type": "code",
   "execution_count": 2,
   "id": "80ad1d48",
   "metadata": {},
   "outputs": [],
   "source": [
    "dados <- c(1,2,3,4)"
   ]
  },
  {
   "cell_type": "code",
   "execution_count": 3,
   "id": "0b72806e",
   "metadata": {},
   "outputs": [
    {
     "data": {
      "text/html": [
       "2.5"
      ],
      "text/latex": [
       "2.5"
      ],
      "text/markdown": [
       "2.5"
      ],
      "text/plain": [
       "[1] 2.5"
      ]
     },
     "metadata": {},
     "output_type": "display_data"
    }
   ],
   "source": [
    "mean(dados)"
   ]
  }
 ],
 "metadata": {
  "kernelspec": {
   "display_name": "R",
   "language": "R",
   "name": "ir"
  },
  "language_info": {
   "codemirror_mode": "r",
   "file_extension": ".r",
   "mimetype": "text/x-r-source",
   "name": "R",
   "pygments_lexer": "r",
   "version": "3.6.1"
  }
 },
 "nbformat": 4,
 "nbformat_minor": 5
}
