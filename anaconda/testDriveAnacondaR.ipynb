{
 "cells": [
  {
   "cell_type": "code",
   "execution_count": 1,
   "id": "987013bf",
   "metadata": {},
   "outputs": [
    {
     "name": "stdout",
     "output_type": "stream",
     "text": [
      "[1] \"Olá R no Python DS\"\n"
     ]
    }
   ],
   "source": [
    "print(\"Olá R no Python DS\")"
   ]
  },
  {
   "cell_type": "code",
   "execution_count": 2,
   "id": "80ad1d48",
   "metadata": {},
   "outputs": [],
   "source": [
    "dados <- c(1,2,3,4)"
   ]
  },
  {
   "cell_type": "code",
   "execution_count": 3,
   "id": "0b72806e",
   "metadata": {},
   "outputs": [
    {
     "data": {
      "text/html": [
       "2.5"
      ],
      "text/latex": [
       "2.5"
      ],
      "text/markdown": [
       "2.5"
      ],
      "text/plain": [
       "[1] 2.5"
      ]
     },
     "metadata": {},
     "output_type": "display_data"
    }
   ],
   "source": [
    "mean(dados)"
   ]
  },
  {
   "cell_type": "code",
   "execution_count": null,
   "id": "d13ea59a",
   "metadata": {},
   "outputs": [],
   "source": []
  }
 ],
 "metadata": {
  "kernelspec": {
   "display_name": "R",
   "language": "R",
   "name": "ir"
  },
  "language_info": {
   "codemirror_mode": "r",
   "file_extension": ".r",
   "mimetype": "text/x-r-source",
   "name": "R",
   "pygments_lexer": "r",
   "version": "3.6.1"
  }
 },
 "nbformat": 4,
 "nbformat_minor": 5
}
