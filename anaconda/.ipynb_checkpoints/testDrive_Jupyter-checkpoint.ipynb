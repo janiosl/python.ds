{
 "cells": [
  {
   "cell_type": "markdown",
   "id": "helpful-telescope",
   "metadata": {},
   "source": [
    "# 1 Este é o meu primeiro relatório em um Jupyter Notebook"
   ]
  },
  {
   "cell_type": "markdown",
   "id": "steady-sector",
   "metadata": {},
   "source": [
    "Este é um exemplo simples de uso do Python através do Jupyter Notebook. Seu objetivo é ser usado como material complementar aos estudos da plataforma de Ciência de Dados Anaconda, através do canal Python DS.\n",
    "Para assistir aos vídeos sobre explicação de seu use acesse https://www.youtube.com/playlist?list=PL0XxTDj23A1Ftg-rb_pIaFE3pPROwWtbw"
   ]
  },
  {
   "cell_type": "markdown",
   "id": "typical-villa",
   "metadata": {},
   "source": [
    "## 1.1 Este é o meu primeiro subitem"
   ]
  },
  {
   "cell_type": "markdown",
   "id": "removable-limitation",
   "metadata": {},
   "source": [
    "Para utilizar **Jupyter Notebook** configurando o diretório desejado logo na abertura é útil realizar sua chamada a partir da `linha de comando`."
   ]
  },
  {
   "cell_type": "code",
   "execution_count": 1,
   "id": "seasonal-modem",
   "metadata": {},
   "outputs": [
    {
     "name": "stdout",
     "output_type": "stream",
     "text": [
      "Olá Python DS\n"
     ]
    }
   ],
   "source": [
    "print('Olá Python DS')"
   ]
  },
  {
   "cell_type": "markdown",
   "id": "wanted-coaching",
   "metadata": {},
   "source": [
    "## 1.2 Carregando dados para um notebook"
   ]
  },
  {
   "cell_type": "markdown",
   "id": "moral-interstate",
   "metadata": {},
   "source": [
    "Estes são *os principais passos* para carregar dados em um notebook:\n",
    "* Configurar o diretório de trabalho para o local do arquivo desejado;\n",
    "* Importar a biblioteca `pandas`;\n",
    "* Criar uma variável com o nome do arquivo desejado;\n",
    "* Usar a função `read_csv`para carregar os dados."
   ]
  },
  {
   "cell_type": "code",
   "execution_count": 2,
   "id": "alert-fighter",
   "metadata": {},
   "outputs": [],
   "source": [
    "import pandas as pd"
   ]
  },
  {
   "cell_type": "code",
   "execution_count": 3,
   "id": "active-socket",
   "metadata": {},
   "outputs": [],
   "source": [
    "arquivo = 'yahooFinance_stock.csv'\n",
    "dados = pd.read_csv(arquivo)"
   ]
  },
  {
   "cell_type": "code",
   "execution_count": 4,
   "id": "surprised-hours",
   "metadata": {},
   "outputs": [
    {
     "data": {
      "text/html": [
       "<div>\n",
       "<style scoped>\n",
       "    .dataframe tbody tr th:only-of-type {\n",
       "        vertical-align: middle;\n",
       "    }\n",
       "\n",
       "    .dataframe tbody tr th {\n",
       "        vertical-align: top;\n",
       "    }\n",
       "\n",
       "    .dataframe thead th {\n",
       "        text-align: right;\n",
       "    }\n",
       "</style>\n",
       "<table border=\"1\" class=\"dataframe\">\n",
       "  <thead>\n",
       "    <tr style=\"text-align: right;\">\n",
       "      <th></th>\n",
       "      <th>Ticker</th>\n",
       "      <th>Date</th>\n",
       "      <th>High</th>\n",
       "      <th>Low</th>\n",
       "      <th>Open</th>\n",
       "      <th>Close</th>\n",
       "      <th>Volume</th>\n",
       "      <th>Adj Close</th>\n",
       "    </tr>\n",
       "  </thead>\n",
       "  <tbody>\n",
       "    <tr>\n",
       "      <th>0</th>\n",
       "      <td>GGBR4.SA</td>\n",
       "      <td>2010-01-04</td>\n",
       "      <td>29.799999</td>\n",
       "      <td>29.280001</td>\n",
       "      <td>29.299999</td>\n",
       "      <td>29.600000</td>\n",
       "      <td>2827700.0</td>\n",
       "      <td>25.257845</td>\n",
       "    </tr>\n",
       "    <tr>\n",
       "      <th>1</th>\n",
       "      <td>GGBR4.SA</td>\n",
       "      <td>2010-01-05</td>\n",
       "      <td>30.170000</td>\n",
       "      <td>29.650000</td>\n",
       "      <td>29.740000</td>\n",
       "      <td>30.100000</td>\n",
       "      <td>4480400.0</td>\n",
       "      <td>25.684504</td>\n",
       "    </tr>\n",
       "    <tr>\n",
       "      <th>2</th>\n",
       "      <td>GGBR4.SA</td>\n",
       "      <td>2010-01-06</td>\n",
       "      <td>30.379999</td>\n",
       "      <td>29.860001</td>\n",
       "      <td>29.959999</td>\n",
       "      <td>30.299999</td>\n",
       "      <td>4499900.0</td>\n",
       "      <td>25.855158</td>\n",
       "    </tr>\n",
       "    <tr>\n",
       "      <th>3</th>\n",
       "      <td>GGBR4.SA</td>\n",
       "      <td>2010-01-07</td>\n",
       "      <td>30.379999</td>\n",
       "      <td>29.520000</td>\n",
       "      <td>30.100000</td>\n",
       "      <td>29.620001</td>\n",
       "      <td>5695900.0</td>\n",
       "      <td>25.274918</td>\n",
       "    </tr>\n",
       "    <tr>\n",
       "      <th>4</th>\n",
       "      <td>GGBR4.SA</td>\n",
       "      <td>2010-01-08</td>\n",
       "      <td>29.879999</td>\n",
       "      <td>29.350000</td>\n",
       "      <td>29.719999</td>\n",
       "      <td>29.540001</td>\n",
       "      <td>4269500.0</td>\n",
       "      <td>25.206648</td>\n",
       "    </tr>\n",
       "  </tbody>\n",
       "</table>\n",
       "</div>"
      ],
      "text/plain": [
       "     Ticker        Date       High        Low       Open      Close  \\\n",
       "0  GGBR4.SA  2010-01-04  29.799999  29.280001  29.299999  29.600000   \n",
       "1  GGBR4.SA  2010-01-05  30.170000  29.650000  29.740000  30.100000   \n",
       "2  GGBR4.SA  2010-01-06  30.379999  29.860001  29.959999  30.299999   \n",
       "3  GGBR4.SA  2010-01-07  30.379999  29.520000  30.100000  29.620001   \n",
       "4  GGBR4.SA  2010-01-08  29.879999  29.350000  29.719999  29.540001   \n",
       "\n",
       "      Volume  Adj Close  \n",
       "0  2827700.0  25.257845  \n",
       "1  4480400.0  25.684504  \n",
       "2  4499900.0  25.855158  \n",
       "3  5695900.0  25.274918  \n",
       "4  4269500.0  25.206648  "
      ]
     },
     "execution_count": 4,
     "metadata": {},
     "output_type": "execute_result"
    }
   ],
   "source": [
    "dados.head()"
   ]
  },
  {
   "cell_type": "markdown",
   "id": "encouraging-diversity",
   "metadata": {},
   "source": [
    "# 2 Visualizando dados no Jupyter"
   ]
  },
  {
   "cell_type": "code",
   "execution_count": 5,
   "id": "intensive-korean",
   "metadata": {},
   "outputs": [],
   "source": [
    "from matplotlib import pyplot as plt"
   ]
  },
  {
   "cell_type": "code",
   "execution_count": 6,
   "id": "saved-cardiff",
   "metadata": {},
   "outputs": [
    {
     "data": {
      "text/plain": [
       "Text(0.5, 1.0, 'Preço de Fechamento de Ações')"
      ]
     },
     "execution_count": 6,
     "metadata": {},
     "output_type": "execute_result"
    },
    {
     "data": {
      "image/png": "[encoded data removed]",
      "text/plain": [
       "<Figure size 432x288 with 1 Axes>"
      ]
     },
     "metadata": {
      "needs_background": "light"
     },
     "output_type": "display_data"
    }
   ],
   "source": [
    "plt.plot(dados.Close)\n",
    "plt.title('Preço de Fechamento de Ações')"
   ]
  },
  {
   "cell_type": "markdown",
   "id": "distinct-hazard",
   "metadata": {},
   "source": [
    "# 3 Carregando dados de outros locais"
   ]
  },
  {
   "cell_type": "markdown",
   "id": "military-server",
   "metadata": {},
   "source": [
    "## 3.1 Dados online"
   ]
  },
  {
   "cell_type": "code",
   "execution_count": 7,
   "id": "hindu-manufacturer",
   "metadata": {},
   "outputs": [],
   "source": [
    "arquivo_online = 'https://raw.githubusercontent.com/janiosl/python.ds/master/data/yahoo_stock_12-12-2020.csv'\n",
    "dados_online = pd.read_csv(arquivo_online)"
   ]
  },
  {
   "cell_type": "code",
   "execution_count": 8,
   "id": "infinite-movement",
   "metadata": {},
   "outputs": [
    {
     "data": {
      "text/html": [
       "<div>\n",
       "<style scoped>\n",
       "    .dataframe tbody tr th:only-of-type {\n",
       "        vertical-align: middle;\n",
       "    }\n",
       "\n",
       "    .dataframe tbody tr th {\n",
       "        vertical-align: top;\n",
       "    }\n",
       "\n",
       "    .dataframe thead th {\n",
       "        text-align: right;\n",
       "    }\n",
       "</style>\n",
       "<table border=\"1\" class=\"dataframe\">\n",
       "  <thead>\n",
       "    <tr style=\"text-align: right;\">\n",
       "      <th></th>\n",
       "      <th>Ticker</th>\n",
       "      <th>Date</th>\n",
       "      <th>High</th>\n",
       "      <th>Low</th>\n",
       "      <th>Open</th>\n",
       "      <th>Close</th>\n",
       "      <th>Volume</th>\n",
       "      <th>Adj Close</th>\n",
       "    </tr>\n",
       "  </thead>\n",
       "  <tbody>\n",
       "    <tr>\n",
       "      <th>2660</th>\n",
       "      <td>GGBR4.SA</td>\n",
       "      <td>2020-12-07</td>\n",
       "      <td>23.520000</td>\n",
       "      <td>22.600000</td>\n",
       "      <td>22.959999</td>\n",
       "      <td>23.270000</td>\n",
       "      <td>11964600.0</td>\n",
       "      <td>23.270000</td>\n",
       "    </tr>\n",
       "    <tr>\n",
       "      <th>2661</th>\n",
       "      <td>GGBR4.SA</td>\n",
       "      <td>2020-12-08</td>\n",
       "      <td>23.290001</td>\n",
       "      <td>22.740000</td>\n",
       "      <td>23.200001</td>\n",
       "      <td>23.070000</td>\n",
       "      <td>8787900.0</td>\n",
       "      <td>23.070000</td>\n",
       "    </tr>\n",
       "    <tr>\n",
       "      <th>2662</th>\n",
       "      <td>GGBR4.SA</td>\n",
       "      <td>2020-12-09</td>\n",
       "      <td>23.320000</td>\n",
       "      <td>22.410000</td>\n",
       "      <td>23.090000</td>\n",
       "      <td>22.629999</td>\n",
       "      <td>9908400.0</td>\n",
       "      <td>22.629999</td>\n",
       "    </tr>\n",
       "    <tr>\n",
       "      <th>2663</th>\n",
       "      <td>GGBR4.SA</td>\n",
       "      <td>2020-12-10</td>\n",
       "      <td>23.250000</td>\n",
       "      <td>22.469999</td>\n",
       "      <td>22.770000</td>\n",
       "      <td>23.000000</td>\n",
       "      <td>12193300.0</td>\n",
       "      <td>23.000000</td>\n",
       "    </tr>\n",
       "    <tr>\n",
       "      <th>2664</th>\n",
       "      <td>GGBR4.SA</td>\n",
       "      <td>2020-12-11</td>\n",
       "      <td>23.070000</td>\n",
       "      <td>22.719999</td>\n",
       "      <td>22.870001</td>\n",
       "      <td>23.010000</td>\n",
       "      <td>4585800.0</td>\n",
       "      <td>23.010000</td>\n",
       "    </tr>\n",
       "  </tbody>\n",
       "</table>\n",
       "</div>"
      ],
      "text/plain": [
       "        Ticker        Date       High        Low       Open      Close  \\\n",
       "2660  GGBR4.SA  2020-12-07  23.520000  22.600000  22.959999  23.270000   \n",
       "2661  GGBR4.SA  2020-12-08  23.290001  22.740000  23.200001  23.070000   \n",
       "2662  GGBR4.SA  2020-12-09  23.320000  22.410000  23.090000  22.629999   \n",
       "2663  GGBR4.SA  2020-12-10  23.250000  22.469999  22.770000  23.000000   \n",
       "2664  GGBR4.SA  2020-12-11  23.070000  22.719999  22.870001  23.010000   \n",
       "\n",
       "          Volume  Adj Close  \n",
       "2660  11964600.0  23.270000  \n",
       "2661   8787900.0  23.070000  \n",
       "2662   9908400.0  22.629999  \n",
       "2663  12193300.0  23.000000  \n",
       "2664   4585800.0  23.010000  "
      ]
     },
     "execution_count": 8,
     "metadata": {},
     "output_type": "execute_result"
    }
   ],
   "source": [
    "dados_online.tail()"
   ]
  },
  {
   "cell_type": "markdown",
   "id": "premier-charm",
   "metadata": {},
   "source": [
    "## 3.2 Dados de outros diretórios locais"
   ]
  },
  {
   "cell_type": "code",
   "execution_count": 9,
   "id": "defined-transcription",
   "metadata": {},
   "outputs": [],
   "source": [
    "import os"
   ]
  },
  {
   "cell_type": "code",
   "execution_count": 10,
   "id": "effective-substance",
   "metadata": {},
   "outputs": [
    {
     "data": {
      "text/plain": [
       "'C:\\\\Users\\\\janio\\\\OneDrive\\\\Documents\\\\CEFET\\\\Mestrado\\\\DAL_Events\\\\harbingerNimbus\\\\data\\\\3Wdataset\\\\Tipo1'"
      ]
     },
     "execution_count": 10,
     "metadata": {},
     "output_type": "execute_result"
    }
   ],
   "source": [
    "#caminho = r'D:\\Python\\PyAD\\datasets\\titanic'\n",
    "caminho = r'C:\\Users\\janio\\OneDrive\\Documents\\CEFET\\Mestrado\\DAL_Events\\harbingerNimbus\\data\\3Wdataset\\Tipo1'\n",
    "os.chdir(caminho)\n",
    "os.getcwd()"
   ]
  },
  {
   "cell_type": "code",
   "execution_count": 11,
   "id": "satisfied-planet",
   "metadata": {},
   "outputs": [],
   "source": [
    "arquivo_tit = 'WELL-00001_20140124213136.csv'\n",
    "oil_well_type1 = pd.read_csv(arquivo_tit)"
   ]
  },
  {
   "cell_type": "code",
   "execution_count": 12,
   "id": "verbal-diagnosis",
   "metadata": {},
   "outputs": [
    {
     "data": {
      "text/html": [
       "<div>\n",
       "<style scoped>\n",
       "    .dataframe tbody tr th:only-of-type {\n",
       "        vertical-align: middle;\n",
       "    }\n",
       "\n",
       "    .dataframe tbody tr th {\n",
       "        vertical-align: top;\n",
       "    }\n",
       "\n",
       "    .dataframe thead th {\n",
       "        text-align: right;\n",
       "    }\n",
       "</style>\n",
       "<table border=\"1\" class=\"dataframe\">\n",
       "  <thead>\n",
       "    <tr style=\"text-align: right;\">\n",
       "      <th></th>\n",
       "      <th>timestamp</th>\n",
       "      <th>P-PDG</th>\n",
       "      <th>P-TPT</th>\n",
       "      <th>T-TPT</th>\n",
       "      <th>P-MON-CKP</th>\n",
       "      <th>T-JUS-CKP</th>\n",
       "      <th>P-JUS-CKGL</th>\n",
       "      <th>T-JUS-CKGL</th>\n",
       "      <th>QGL</th>\n",
       "      <th>class</th>\n",
       "      <th>event</th>\n",
       "      <th>value</th>\n",
       "    </tr>\n",
       "  </thead>\n",
       "  <tbody>\n",
       "    <tr>\n",
       "      <th>0</th>\n",
       "      <td>2014-01-24 21:31:36.000000</td>\n",
       "      <td>0.0</td>\n",
       "      <td>18433410.0</td>\n",
       "      <td>116.9109</td>\n",
       "      <td>9366608.0</td>\n",
       "      <td>75.34820</td>\n",
       "      <td>-300917.8</td>\n",
       "      <td>NaN</td>\n",
       "      <td>0.0</td>\n",
       "      <td>0.0</td>\n",
       "      <td>False</td>\n",
       "      <td>1</td>\n",
       "    </tr>\n",
       "    <tr>\n",
       "      <th>1</th>\n",
       "      <td>2014-01-24 21:31:37.000000</td>\n",
       "      <td>0.0</td>\n",
       "      <td>18433410.0</td>\n",
       "      <td>116.9109</td>\n",
       "      <td>9366602.0</td>\n",
       "      <td>75.34825</td>\n",
       "      <td>-300917.8</td>\n",
       "      <td>NaN</td>\n",
       "      <td>0.0</td>\n",
       "      <td>0.0</td>\n",
       "      <td>False</td>\n",
       "      <td>2</td>\n",
       "    </tr>\n",
       "    <tr>\n",
       "      <th>2</th>\n",
       "      <td>2014-01-24 21:31:38.000000</td>\n",
       "      <td>0.0</td>\n",
       "      <td>18433410.0</td>\n",
       "      <td>116.9109</td>\n",
       "      <td>9366598.0</td>\n",
       "      <td>75.34831</td>\n",
       "      <td>-300917.8</td>\n",
       "      <td>NaN</td>\n",
       "      <td>0.0</td>\n",
       "      <td>0.0</td>\n",
       "      <td>False</td>\n",
       "      <td>3</td>\n",
       "    </tr>\n",
       "    <tr>\n",
       "      <th>3</th>\n",
       "      <td>2014-01-24 21:31:39.000000</td>\n",
       "      <td>0.0</td>\n",
       "      <td>18433410.0</td>\n",
       "      <td>116.9109</td>\n",
       "      <td>9366592.0</td>\n",
       "      <td>75.34837</td>\n",
       "      <td>-300917.8</td>\n",
       "      <td>NaN</td>\n",
       "      <td>0.0</td>\n",
       "      <td>0.0</td>\n",
       "      <td>False</td>\n",
       "      <td>4</td>\n",
       "    </tr>\n",
       "    <tr>\n",
       "      <th>4</th>\n",
       "      <td>2014-01-24 21:31:40.000000</td>\n",
       "      <td>0.0</td>\n",
       "      <td>18433410.0</td>\n",
       "      <td>116.9109</td>\n",
       "      <td>9366588.0</td>\n",
       "      <td>75.34843</td>\n",
       "      <td>-300917.8</td>\n",
       "      <td>NaN</td>\n",
       "      <td>0.0</td>\n",
       "      <td>0.0</td>\n",
       "      <td>False</td>\n",
       "      <td>5</td>\n",
       "    </tr>\n",
       "  </tbody>\n",
       "</table>\n",
       "</div>"
      ],
      "text/plain": [
       "                    timestamp  P-PDG       P-TPT     T-TPT  P-MON-CKP  \\\n",
       "0  2014-01-24 21:31:36.000000    0.0  18433410.0  116.9109  9366608.0   \n",
       "1  2014-01-24 21:31:37.000000    0.0  18433410.0  116.9109  9366602.0   \n",
       "2  2014-01-24 21:31:38.000000    0.0  18433410.0  116.9109  9366598.0   \n",
       "3  2014-01-24 21:31:39.000000    0.0  18433410.0  116.9109  9366592.0   \n",
       "4  2014-01-24 21:31:40.000000    0.0  18433410.0  116.9109  9366588.0   \n",
       "\n",
       "   T-JUS-CKP  P-JUS-CKGL  T-JUS-CKGL  QGL  class  event  value  \n",
       "0   75.34820   -300917.8         NaN  0.0    0.0  False      1  \n",
       "1   75.34825   -300917.8         NaN  0.0    0.0  False      2  \n",
       "2   75.34831   -300917.8         NaN  0.0    0.0  False      3  \n",
       "3   75.34837   -300917.8         NaN  0.0    0.0  False      4  \n",
       "4   75.34843   -300917.8         NaN  0.0    0.0  False      5  "
      ]
     },
     "execution_count": 12,
     "metadata": {},
     "output_type": "execute_result"
    }
   ],
   "source": [
    "oil_well_type1.head()"
   ]
  },
  {
   "cell_type": "code",
   "execution_count": 14,
   "id": "b8f91dc0",
   "metadata": {},
   "outputs": [
    {
     "data": {
      "text/plain": [
       "Text(0.5, 1.0, 'Perfuração de poço de petróleo - Série 1')"
      ]
     },
     "execution_count": 14,
     "metadata": {},
     "output_type": "execute_result"
    },
    {
     "data": {
      "image/png": "[encoded data removed]",
      "text/plain": [
       "<Figure size 432x288 with 1 Axes>"
      ]
     },
     "metadata": {
      "needs_background": "light"
     },
     "output_type": "display_data"
    }
   ],
   "source": [
    "plt.plot(oil_well_type1['T-TPT'])\n",
    "plt.title('Perfuração de poço de petróleo - Série 1')"
   ]
  },
  {
   "cell_type": "code",
   "execution_count": null,
   "id": "f7ed08fe",
   "metadata": {},
   "outputs": [],
   "source": []
  }
 ],
 "metadata": {
  "kernelspec": {
   "display_name": "Python 3 (ipykernel)",
   "language": "python",
   "name": "python3"
  },
  "language_info": {
   "codemirror_mode": {
    "name": "ipython",
    "version": 3
   },
   "file_extension": ".py",
   "mimetype": "text/x-python",
   "name": "python",
   "nbconvert_exporter": "python",
   "pygments_lexer": "ipython3",
   "version": "3.9.12"
  }
 },
 "nbformat": 4,
 "nbformat_minor": 5
}
