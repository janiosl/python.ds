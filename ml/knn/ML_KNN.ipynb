{
  "nbformat": 4,
  "nbformat_minor": 0,
  "metadata": {
    "colab": {
      "name": "ML_KNN.ipynb",
      "provenance": [],
      "collapsed_sections": [],
      "toc_visible": true
    },
    "kernelspec": {
      "name": "python3",
      "display_name": "Python 3"
    },
    "language_info": {
      "name": "python"
    }
  },
  "cells": [
    {
      "cell_type": "markdown",
      "metadata": {
        "id": "Bki8GJruMFJD"
      },
      "source": [
        "#CEFET/RJ\n",
        "\n",
        "**PPCIC - Programa de Pós-Graduação em Ciência da Computação**\n",
        "\n",
        "**Mestrado em Ciência da Computação**\n",
        "\n",
        "---\n",
        "\n",
        "**Algoritmo $k-NN$: k-Nearest Neighbors**\n",
        "\n",
        "**Disciplina**: Aprendizado de Máquina\n",
        "\n",
        "**Professor**: Eduardo Bezerra\n",
        "\n",
        "**Aluno**: Janio de Souza Lima"
      ]
    },
    {
      "cell_type": "markdown",
      "metadata": {
        "id": "X3i-BVrMUUTr"
      },
      "source": [
        "#Introdução"
      ]
    },
    {
      "cell_type": "markdown",
      "metadata": {
        "id": "UcAG5zAFUWtU"
      },
      "source": [
        "Geração de conjuntos de valores e plotagens para ilustrar os conceitos da representação de valores como pontos em um espaço $n-$dimensional e a analisar a distância entre estes pontos.\n",
        "\n",
        "Esta intuição é básica para estudo e aplicação dos algoritmos $k-NN$.\n",
        "\n",
        "Detalhes sobre estes conceitos e o algoritmos disponíveis no notebook: https://github.com/MLRG-CEFET-RJ/ml-class/blob/master/ppcic_ml_knn.ipynb\n"
      ]
    },
    {
      "cell_type": "code",
      "metadata": {
        "id": "0YrfiwXFT9sn"
      },
      "source": [
        "import numpy as np\n",
        "\n",
        "X = np.array([[-0.1, 1.4],\n",
        "              [-0.5,-0.1],\n",
        "              [ 1.3, 0.9],\n",
        "              [-0.6, 0.4],\n",
        "              [-1.5, 0.4],\n",
        "              [ 0.2, 0.2],\n",
        "              [-0.3,-0.4],\n",
        "              [ 0.7,-0.8],\n",
        "              [ 1.1,-1.5],\n",
        "              [-1.0, 0.9],\n",
        "              [-0.5,-1.5],\n",
        "              [-1.3,-0.4],\n",
        "              [-1.4,-1.2],\n",
        "              [-0.9,-1.1],\n",
        "              [ 0.4,-1.3],\n",
        "              [-0.4, 0.6],\n",
        "              [ 0.3,-0.5]])\n",
        "\n",
        "y = np.array([0, 0, 1, 0, 0, 1, 1, 1, 1, 0, 1, 0, 0, 1, 1, 0, 1])"
      ],
      "execution_count": null,
      "outputs": []
    },
    {
      "cell_type": "code",
      "metadata": {
        "colab": {
          "base_uri": "https://localhost:8080/",
          "height": 480
        },
        "id": "T6vRJZ7SUA3o",
        "outputId": "1e37b774-e9b4-47cf-f761-6b1bcdea5064"
      },
      "source": [
        "import matplotlib.pyplot as plt\n",
        "plt.style.use('classic')\n",
        "np.set_printoptions(precision=3, suppress=True)\n",
        "\n",
        "colormap = np.array(['r', 'b'])\n",
        "\n",
        "def plot_scatter(X, y, colormap):\n",
        "  plt.grid()\n",
        "  plt.xlim([-2.0, 2.0])\n",
        "  plt.ylim([-2.0, 2.0])\n",
        "  plt.xlabel('$x_1$', size=20)\n",
        "  plt.ylabel('$x_2$', size=20)\n",
        "  plt.title('Input 2D points', size=18)\n",
        "  plt.scatter(X[:,0], X[:, 1], s=50, c=colormap[y])\n",
        "\n",
        "plot_scatter(X, y, colormap)"
      ],
      "execution_count": null,
      "outputs": [
        {
          "output_type": "display_data",
          "data": {
            "image/png": "[encoded data removed]",
            "text/plain": [
              "<Figure size 640x480 with 1 Axes>"
            ]
          },
          "metadata": {
            "tags": []
          }
        }
      ]
    },
    {
      "cell_type": "markdown",
      "metadata": {
        "id": "L5babrfThdZO"
      },
      "source": [
        "O $k-NN$ analisa a distribuição espacial dos pontos em um conjunto de dados, como no visualização acima, buscando identificar similaridades de acordo com a distância entre eles.\n",
        "\n",
        "---\n",
        "\n",
        "Na próxima visualização é gerada uma matriz da distância entre cada par de pontos em uma matriz. Neste caso está sendo usada a *distância Euclidiana*, devido definição do parâmetro p=2. Para tanto é usada a equação descrita a seguir.\n",
        "\n",
        "Distância Euclidiana (Norma $L_2$):\n",
        "\n",
        "$\n",
        "L_2(u,v) = ||u,v||_2 = \\sqrt{\\sum_{i=1}^{n}(u_i-v_i)^2}\n",
        "$"
      ]
    },
    {
      "cell_type": "code",
      "metadata": {
        "colab": {
          "base_uri": "https://localhost:8080/",
          "height": 434
        },
        "id": "bu07BeY7UGPQ",
        "outputId": "d6c036e0-4a11-407b-f2db-90ec50b8f322"
      },
      "source": [
        "from scipy.spatial import distance_matrix\n",
        "import seaborn as sns\n",
        "import matplotlib.pylab as plt\n",
        "\n",
        "dists = distance_matrix(X, X, p = 2)\n",
        "\n",
        "ax = sns.heatmap(dists, linewidth=0.5)\n",
        "plt.show()"
      ],
      "execution_count": null,
      "outputs": [
        {
          "output_type": "display_data",
          "data": {
            "image/png": "[encoded data removed]",
            "text/plain": [
              "<Figure size 640x480 with 2 Axes>"
            ]
          },
          "metadata": {
            "tags": []
          }
        }
      ]
    },
    {
      "cell_type": "markdown",
      "metadata": {
        "id": "pfIdJKcYjA2k"
      },
      "source": [
        "Aqui é exibido o cálculo individualizado da distância entre dois pontos diferentes do conjunto de dados."
      ]
    },
    {
      "cell_type": "code",
      "metadata": {
        "colab": {
          "base_uri": "https://localhost:8080/"
        },
        "id": "oSm-9CvVUPn-",
        "outputId": "f8713942-b73b-4511-b03c-ca38a4c5dfe6"
      },
      "source": [
        "print(X[3,:])\n",
        "print(X[15,:])\n",
        "print(np.sqrt(np.square(X[3,0]-X[15,0]) + np.square(X[3,1]-X[15,1])))"
      ],
      "execution_count": null,
      "outputs": [
        {
          "output_type": "stream",
          "text": [
            "[-0.6  0.4]\n",
            "[-0.4  0.6]\n",
            "0.28284271247461895\n"
          ],
          "name": "stdout"
        }
      ]
    },
    {
      "cell_type": "markdown",
      "metadata": {
        "id": "CJJwrRBNVJnS"
      },
      "source": [
        "**Ilustração da aplicação do $k-NN$ como regressor ou como classificador:**\n",
        "\n",
        "![alt text](https://www.jeremyjordan.me/content/images/2017/06/Screen-Shot-2017-06-17-at-9.30.39-AM-1.png)\n",
        "\n",
        "Nas próximas seções realizaremos a aplicação prática destas abordagens para o algoritmo."
      ]
    },
    {
      "cell_type": "markdown",
      "metadata": {
        "id": "VnSpJ7jcPqQP"
      },
      "source": [
        "#1 Aplicação do $k-NN$ como Classificador"
      ]
    },
    {
      "cell_type": "code",
      "metadata": {
        "id": "P7EpUb18MiK0"
      },
      "source": [
        "from sklearn.neighbors import KNeighborsClassifier\n",
        "from sklearn.model_selection import train_test_split\n",
        "from sklearn import datasets"
      ],
      "execution_count": null,
      "outputs": []
    },
    {
      "cell_type": "markdown",
      "metadata": {
        "id": "2p1HfDlEMERL"
      },
      "source": [
        "##1.1 Carga e separação do conjunto de dados"
      ]
    },
    {
      "cell_type": "code",
      "metadata": {
        "id": "ULmGDHDoMmUx"
      },
      "source": [
        "#Dataset iris\n",
        "iris = datasets.load_iris()\n",
        "\n",
        "X = iris.data    # data matrix\n",
        "y = iris.target  # response vector"
      ],
      "execution_count": null,
      "outputs": []
    },
    {
      "cell_type": "markdown",
      "metadata": {
        "id": "jXrbZ2FWMz3t"
      },
      "source": [
        "Separação do conjunto de dados em treinamento e teste"
      ]
    },
    {
      "cell_type": "code",
      "metadata": {
        "id": "PLzzEw2lMDUb"
      },
      "source": [
        "train_X, test_X, train_y, test_y = train_test_split(\n",
        "    X, y, test_size=0.2, random_state=1, stratify=y)"
      ],
      "execution_count": null,
      "outputs": []
    },
    {
      "cell_type": "markdown",
      "metadata": {
        "id": "ANQvS5M-QTGE"
      },
      "source": [
        "##1.2 Criação e aplicação do modelo de classificação"
      ]
    },
    {
      "cell_type": "markdown",
      "metadata": {
        "id": "CL5l1hJQM7ZD"
      },
      "source": [
        "Criação do classificador $k-NN$ e treinamento do modelo"
      ]
    },
    {
      "cell_type": "code",
      "metadata": {
        "colab": {
          "base_uri": "https://localhost:8080/"
        },
        "id": "HHdRg_FKMuMz",
        "outputId": "480c291e-36bb-4f7c-a164-6b61255e4284"
      },
      "source": [
        "modelKNN = KNeighborsClassifier(n_neighbors=3) # k = 3\n",
        "modelKNN.fit(train_X, train_y)"
      ],
      "execution_count": null,
      "outputs": [
        {
          "output_type": "execute_result",
          "data": {
            "text/plain": [
              "KNeighborsClassifier(algorithm='auto', leaf_size=30, metric='minkowski',\n",
              "                     metric_params=None, n_jobs=None, n_neighbors=3, p=2,\n",
              "                     weights='uniform')"
            ]
          },
          "metadata": {
            "tags": []
          },
          "execution_count": 22
        }
      ]
    },
    {
      "cell_type": "markdown",
      "metadata": {
        "id": "tBDcmgUiNZNf"
      },
      "source": [
        "Uso do modelo para classificação de um exemplo específico e posteriormente de todo o conjunto de dados de teste"
      ]
    },
    {
      "cell_type": "code",
      "metadata": {
        "colab": {
          "base_uri": "https://localhost:8080/"
        },
        "id": "ThRmFwIANIuu",
        "outputId": "133c747a-18da-431f-d11c-5ae1e713f89a"
      },
      "source": [
        "# predict the class for example x = [1.1, 1.2, 3, 2] \n",
        "x = [1.1, 1.2, 3, 2]\n",
        "print(modelKNN.predict([x]))"
      ],
      "execution_count": null,
      "outputs": [
        {
          "output_type": "stream",
          "text": [
            "[1]\n"
          ],
          "name": "stdout"
        }
      ]
    },
    {
      "cell_type": "code",
      "metadata": {
        "colab": {
          "base_uri": "https://localhost:8080/"
        },
        "id": "zcpjTIVMNW-6",
        "outputId": "db77b576-fc50-4bb8-854d-74e8af227a3b"
      },
      "source": [
        "y_pred_prob_KNN = modelKNN.predict(test_X)\n",
        "\n",
        "# Imprime as estimativas de probabilidades para cada classe\n",
        "print(y_pred_prob_KNN)"
      ],
      "execution_count": null,
      "outputs": [
        {
          "output_type": "stream",
          "text": [
            "[2 0 1 0 0 0 2 2 2 1 0 1 2 1 2 0 2 1 1 2 1 1 0 0 2 1 0 0 1 1]\n"
          ],
          "name": "stdout"
        }
      ]
    },
    {
      "cell_type": "markdown",
      "metadata": {
        "id": "JEGe7cK4Pv4S"
      },
      "source": [
        "#2 Aplicação do $k-NN$ como Regressor"
      ]
    },
    {
      "cell_type": "code",
      "metadata": {
        "id": "VZiPxJwkPx3Z"
      },
      "source": [
        "from sklearn.neighbors import KNeighborsRegressor\n",
        "from sklearn.metrics import mean_squared_error \n",
        "from sklearn.datasets import load_boston\n",
        "from sklearn.model_selection import train_test_split\n",
        "from math import sqrt\n",
        "from sklearn.preprocessing import StandardScaler\n",
        "import matplotlib.pyplot as plt\n",
        "import pandas as pd"
      ],
      "execution_count": null,
      "outputs": []
    },
    {
      "cell_type": "markdown",
      "metadata": {
        "id": "QSotq1ZAQJmA"
      },
      "source": [
        "##2.1 Carga e separação do conjunto de dados"
      ]
    },
    {
      "cell_type": "code",
      "metadata": {
        "colab": {
          "base_uri": "https://localhost:8080/"
        },
        "id": "H_ElwhwwQFUo",
        "outputId": "f105c8ec-1dc3-47cb-9cbe-b8d896298cba"
      },
      "source": [
        "#Carga do dataset\n",
        "dataset = load_boston()\n",
        "print(dataset.keys())"
      ],
      "execution_count": null,
      "outputs": [
        {
          "output_type": "stream",
          "text": [
            "dict_keys(['data', 'target', 'feature_names', 'DESCR', 'filename'])\n"
          ],
          "name": "stdout"
        }
      ]
    },
    {
      "cell_type": "code",
      "metadata": {
        "colab": {
          "base_uri": "https://localhost:8080/"
        },
        "id": "aOBARgl6QpUg",
        "outputId": "467c3484-b3c7-4477-a731-02e06a94111c"
      },
      "source": [
        "#Criação do data frame com os dados\n",
        "boston_df = pd.DataFrame(dataset.data, columns = dataset.feature_names)\n",
        "print(boston_df.head(3))"
      ],
      "execution_count": null,
      "outputs": [
        {
          "output_type": "stream",
          "text": [
            "      CRIM    ZN  INDUS  CHAS    NOX  ...  RAD    TAX  PTRATIO       B  LSTAT\n",
            "0  0.00632  18.0   2.31   0.0  0.538  ...  1.0  296.0     15.3  396.90   4.98\n",
            "1  0.02731   0.0   7.07   0.0  0.469  ...  2.0  242.0     17.8  396.90   9.14\n",
            "2  0.02729   0.0   7.07   0.0  0.469  ...  2.0  242.0     17.8  392.83   4.03\n",
            "\n",
            "[3 rows x 13 columns]\n"
          ],
          "name": "stdout"
        }
      ]
    },
    {
      "cell_type": "code",
      "metadata": {
        "colab": {
          "base_uri": "https://localhost:8080/"
        },
        "id": "rDAtx_1cZw8D",
        "outputId": "8317bb32-d271-42f7-d778-0f3d3a35498b"
      },
      "source": [
        "boston_df.columns"
      ],
      "execution_count": null,
      "outputs": [
        {
          "output_type": "execute_result",
          "data": {
            "text/plain": [
              "Index(['CRIM', 'ZN', 'INDUS', 'CHAS', 'NOX', 'RM', 'AGE', 'DIS', 'RAD', 'TAX',\n",
              "       'PTRATIO', 'B', 'LSTAT'],\n",
              "      dtype='object')"
            ]
          },
          "metadata": {
            "tags": []
          },
          "execution_count": 46
        }
      ]
    },
    {
      "cell_type": "code",
      "metadata": {
        "colab": {
          "base_uri": "https://localhost:8080/",
          "height": 740
        },
        "id": "yjLLv7loZ1DU",
        "outputId": "73ba9aba-7f00-4320-d465-157fedc63967"
      },
      "source": [
        "boston_df.hist()"
      ],
      "execution_count": null,
      "outputs": [
        {
          "output_type": "execute_result",
          "data": {
            "text/plain": [
              "array([[<matplotlib.axes._subplots.AxesSubplot object at 0x7f99891a37d0>,\n",
              "        <matplotlib.axes._subplots.AxesSubplot object at 0x7f998911f890>,\n",
              "        <matplotlib.axes._subplots.AxesSubplot object at 0x7f99890d3dd0>,\n",
              "        <matplotlib.axes._subplots.AxesSubplot object at 0x7f9989096390>],\n",
              "       [<matplotlib.axes._subplots.AxesSubplot object at 0x7f998904d910>,\n",
              "        <matplotlib.axes._subplots.AxesSubplot object at 0x7f9989004e90>,\n",
              "        <matplotlib.axes._subplots.AxesSubplot object at 0x7f9988fc74d0>,\n",
              "        <matplotlib.axes._subplots.AxesSubplot object at 0x7f9988ffa990>],\n",
              "       [<matplotlib.axes._subplots.AxesSubplot object at 0x7f9988ffa9d0>,\n",
              "        <matplotlib.axes._subplots.AxesSubplot object at 0x7f9988f3e090>,\n",
              "        <matplotlib.axes._subplots.AxesSubplot object at 0x7f9988f29a90>,\n",
              "        <matplotlib.axes._subplots.AxesSubplot object at 0x7f9988edefd0>],\n",
              "       [<matplotlib.axes._subplots.AxesSubplot object at 0x7f9988e9f5d0>,\n",
              "        <matplotlib.axes._subplots.AxesSubplot object at 0x7f9988e56b50>,\n",
              "        <matplotlib.axes._subplots.AxesSubplot object at 0x7f9988e19110>,\n",
              "        <matplotlib.axes._subplots.AxesSubplot object at 0x7f9988dcf690>]],\n",
              "      dtype=object)"
            ]
          },
          "metadata": {
            "tags": []
          },
          "execution_count": 47
        },
        {
          "output_type": "display_data",
          "data": {
            "image/png": "[encoded data removed]",
            "text/plain": [
              "<Figure size 640x480 with 16 Axes>"
            ]
          },
          "metadata": {
            "tags": []
          }
        }
      ]
    },
    {
      "cell_type": "code",
      "metadata": {
        "colab": {
          "base_uri": "https://localhost:8080/",
          "height": 452
        },
        "id": "t3aXZcS4bjIw",
        "outputId": "c9abd94e-358d-43b0-961e-218d17467e97"
      },
      "source": [
        "boston_df.corr()"
      ],
      "execution_count": null,
      "outputs": [
        {
          "output_type": "execute_result",
          "data": {
            "text/html": [
              "<div>\n",
              "<style scoped>\n",
              "    .dataframe tbody tr th:only-of-type {\n",
              "        vertical-align: middle;\n",
              "    }\n",
              "\n",
              "    .dataframe tbody tr th {\n",
              "        vertical-align: top;\n",
              "    }\n",
              "\n",
              "    .dataframe thead th {\n",
              "        text-align: right;\n",
              "    }\n",
              "</style>\n",
              "<table border=\"1\" class=\"dataframe\">\n",
              "  <thead>\n",
              "    <tr style=\"text-align: right;\">\n",
              "      <th></th>\n",
              "      <th>CRIM</th>\n",
              "      <th>ZN</th>\n",
              "      <th>INDUS</th>\n",
              "      <th>CHAS</th>\n",
              "      <th>NOX</th>\n",
              "      <th>RM</th>\n",
              "      <th>AGE</th>\n",
              "      <th>DIS</th>\n",
              "      <th>RAD</th>\n",
              "      <th>TAX</th>\n",
              "      <th>PTRATIO</th>\n",
              "      <th>B</th>\n",
              "      <th>LSTAT</th>\n",
              "    </tr>\n",
              "  </thead>\n",
              "  <tbody>\n",
              "    <tr>\n",
              "      <th>CRIM</th>\n",
              "      <td>1.000000</td>\n",
              "      <td>-0.200469</td>\n",
              "      <td>0.406583</td>\n",
              "      <td>-0.055892</td>\n",
              "      <td>0.420972</td>\n",
              "      <td>-0.219247</td>\n",
              "      <td>0.352734</td>\n",
              "      <td>-0.379670</td>\n",
              "      <td>0.625505</td>\n",
              "      <td>0.582764</td>\n",
              "      <td>0.289946</td>\n",
              "      <td>-0.385064</td>\n",
              "      <td>0.455621</td>\n",
              "    </tr>\n",
              "    <tr>\n",
              "      <th>ZN</th>\n",
              "      <td>-0.200469</td>\n",
              "      <td>1.000000</td>\n",
              "      <td>-0.533828</td>\n",
              "      <td>-0.042697</td>\n",
              "      <td>-0.516604</td>\n",
              "      <td>0.311991</td>\n",
              "      <td>-0.569537</td>\n",
              "      <td>0.664408</td>\n",
              "      <td>-0.311948</td>\n",
              "      <td>-0.314563</td>\n",
              "      <td>-0.391679</td>\n",
              "      <td>0.175520</td>\n",
              "      <td>-0.412995</td>\n",
              "    </tr>\n",
              "    <tr>\n",
              "      <th>INDUS</th>\n",
              "      <td>0.406583</td>\n",
              "      <td>-0.533828</td>\n",
              "      <td>1.000000</td>\n",
              "      <td>0.062938</td>\n",
              "      <td>0.763651</td>\n",
              "      <td>-0.391676</td>\n",
              "      <td>0.644779</td>\n",
              "      <td>-0.708027</td>\n",
              "      <td>0.595129</td>\n",
              "      <td>0.720760</td>\n",
              "      <td>0.383248</td>\n",
              "      <td>-0.356977</td>\n",
              "      <td>0.603800</td>\n",
              "    </tr>\n",
              "    <tr>\n",
              "      <th>CHAS</th>\n",
              "      <td>-0.055892</td>\n",
              "      <td>-0.042697</td>\n",
              "      <td>0.062938</td>\n",
              "      <td>1.000000</td>\n",
              "      <td>0.091203</td>\n",
              "      <td>0.091251</td>\n",
              "      <td>0.086518</td>\n",
              "      <td>-0.099176</td>\n",
              "      <td>-0.007368</td>\n",
              "      <td>-0.035587</td>\n",
              "      <td>-0.121515</td>\n",
              "      <td>0.048788</td>\n",
              "      <td>-0.053929</td>\n",
              "    </tr>\n",
              "    <tr>\n",
              "      <th>NOX</th>\n",
              "      <td>0.420972</td>\n",
              "      <td>-0.516604</td>\n",
              "      <td>0.763651</td>\n",
              "      <td>0.091203</td>\n",
              "      <td>1.000000</td>\n",
              "      <td>-0.302188</td>\n",
              "      <td>0.731470</td>\n",
              "      <td>-0.769230</td>\n",
              "      <td>0.611441</td>\n",
              "      <td>0.668023</td>\n",
              "      <td>0.188933</td>\n",
              "      <td>-0.380051</td>\n",
              "      <td>0.590879</td>\n",
              "    </tr>\n",
              "    <tr>\n",
              "      <th>RM</th>\n",
              "      <td>-0.219247</td>\n",
              "      <td>0.311991</td>\n",
              "      <td>-0.391676</td>\n",
              "      <td>0.091251</td>\n",
              "      <td>-0.302188</td>\n",
              "      <td>1.000000</td>\n",
              "      <td>-0.240265</td>\n",
              "      <td>0.205246</td>\n",
              "      <td>-0.209847</td>\n",
              "      <td>-0.292048</td>\n",
              "      <td>-0.355501</td>\n",
              "      <td>0.128069</td>\n",
              "      <td>-0.613808</td>\n",
              "    </tr>\n",
              "    <tr>\n",
              "      <th>AGE</th>\n",
              "      <td>0.352734</td>\n",
              "      <td>-0.569537</td>\n",
              "      <td>0.644779</td>\n",
              "      <td>0.086518</td>\n",
              "      <td>0.731470</td>\n",
              "      <td>-0.240265</td>\n",
              "      <td>1.000000</td>\n",
              "      <td>-0.747881</td>\n",
              "      <td>0.456022</td>\n",
              "      <td>0.506456</td>\n",
              "      <td>0.261515</td>\n",
              "      <td>-0.273534</td>\n",
              "      <td>0.602339</td>\n",
              "    </tr>\n",
              "    <tr>\n",
              "      <th>DIS</th>\n",
              "      <td>-0.379670</td>\n",
              "      <td>0.664408</td>\n",
              "      <td>-0.708027</td>\n",
              "      <td>-0.099176</td>\n",
              "      <td>-0.769230</td>\n",
              "      <td>0.205246</td>\n",
              "      <td>-0.747881</td>\n",
              "      <td>1.000000</td>\n",
              "      <td>-0.494588</td>\n",
              "      <td>-0.534432</td>\n",
              "      <td>-0.232471</td>\n",
              "      <td>0.291512</td>\n",
              "      <td>-0.496996</td>\n",
              "    </tr>\n",
              "    <tr>\n",
              "      <th>RAD</th>\n",
              "      <td>0.625505</td>\n",
              "      <td>-0.311948</td>\n",
              "      <td>0.595129</td>\n",
              "      <td>-0.007368</td>\n",
              "      <td>0.611441</td>\n",
              "      <td>-0.209847</td>\n",
              "      <td>0.456022</td>\n",
              "      <td>-0.494588</td>\n",
              "      <td>1.000000</td>\n",
              "      <td>0.910228</td>\n",
              "      <td>0.464741</td>\n",
              "      <td>-0.444413</td>\n",
              "      <td>0.488676</td>\n",
              "    </tr>\n",
              "    <tr>\n",
              "      <th>TAX</th>\n",
              "      <td>0.582764</td>\n",
              "      <td>-0.314563</td>\n",
              "      <td>0.720760</td>\n",
              "      <td>-0.035587</td>\n",
              "      <td>0.668023</td>\n",
              "      <td>-0.292048</td>\n",
              "      <td>0.506456</td>\n",
              "      <td>-0.534432</td>\n",
              "      <td>0.910228</td>\n",
              "      <td>1.000000</td>\n",
              "      <td>0.460853</td>\n",
              "      <td>-0.441808</td>\n",
              "      <td>0.543993</td>\n",
              "    </tr>\n",
              "    <tr>\n",
              "      <th>PTRATIO</th>\n",
              "      <td>0.289946</td>\n",
              "      <td>-0.391679</td>\n",
              "      <td>0.383248</td>\n",
              "      <td>-0.121515</td>\n",
              "      <td>0.188933</td>\n",
              "      <td>-0.355501</td>\n",
              "      <td>0.261515</td>\n",
              "      <td>-0.232471</td>\n",
              "      <td>0.464741</td>\n",
              "      <td>0.460853</td>\n",
              "      <td>1.000000</td>\n",
              "      <td>-0.177383</td>\n",
              "      <td>0.374044</td>\n",
              "    </tr>\n",
              "    <tr>\n",
              "      <th>B</th>\n",
              "      <td>-0.385064</td>\n",
              "      <td>0.175520</td>\n",
              "      <td>-0.356977</td>\n",
              "      <td>0.048788</td>\n",
              "      <td>-0.380051</td>\n",
              "      <td>0.128069</td>\n",
              "      <td>-0.273534</td>\n",
              "      <td>0.291512</td>\n",
              "      <td>-0.444413</td>\n",
              "      <td>-0.441808</td>\n",
              "      <td>-0.177383</td>\n",
              "      <td>1.000000</td>\n",
              "      <td>-0.366087</td>\n",
              "    </tr>\n",
              "    <tr>\n",
              "      <th>LSTAT</th>\n",
              "      <td>0.455621</td>\n",
              "      <td>-0.412995</td>\n",
              "      <td>0.603800</td>\n",
              "      <td>-0.053929</td>\n",
              "      <td>0.590879</td>\n",
              "      <td>-0.613808</td>\n",
              "      <td>0.602339</td>\n",
              "      <td>-0.496996</td>\n",
              "      <td>0.488676</td>\n",
              "      <td>0.543993</td>\n",
              "      <td>0.374044</td>\n",
              "      <td>-0.366087</td>\n",
              "      <td>1.000000</td>\n",
              "    </tr>\n",
              "  </tbody>\n",
              "</table>\n",
              "</div>"
            ],
            "text/plain": [
              "             CRIM        ZN     INDUS  ...   PTRATIO         B     LSTAT\n",
              "CRIM     1.000000 -0.200469  0.406583  ...  0.289946 -0.385064  0.455621\n",
              "ZN      -0.200469  1.000000 -0.533828  ... -0.391679  0.175520 -0.412995\n",
              "INDUS    0.406583 -0.533828  1.000000  ...  0.383248 -0.356977  0.603800\n",
              "CHAS    -0.055892 -0.042697  0.062938  ... -0.121515  0.048788 -0.053929\n",
              "NOX      0.420972 -0.516604  0.763651  ...  0.188933 -0.380051  0.590879\n",
              "RM      -0.219247  0.311991 -0.391676  ... -0.355501  0.128069 -0.613808\n",
              "AGE      0.352734 -0.569537  0.644779  ...  0.261515 -0.273534  0.602339\n",
              "DIS     -0.379670  0.664408 -0.708027  ... -0.232471  0.291512 -0.496996\n",
              "RAD      0.625505 -0.311948  0.595129  ...  0.464741 -0.444413  0.488676\n",
              "TAX      0.582764 -0.314563  0.720760  ...  0.460853 -0.441808  0.543993\n",
              "PTRATIO  0.289946 -0.391679  0.383248  ...  1.000000 -0.177383  0.374044\n",
              "B       -0.385064  0.175520 -0.356977  ... -0.177383  1.000000 -0.366087\n",
              "LSTAT    0.455621 -0.412995  0.603800  ...  0.374044 -0.366087  1.000000\n",
              "\n",
              "[13 rows x 13 columns]"
            ]
          },
          "metadata": {
            "tags": []
          },
          "execution_count": 48
        }
      ]
    },
    {
      "cell_type": "code",
      "metadata": {
        "id": "HoWKIVkZQrV4"
      },
      "source": [
        "#Separação de conjunto de dados de treino e teste\n",
        "X = dataset.data\n",
        "y = dataset.target\n",
        "\n",
        "X_train, X_test, y_train, y_test = train_test_split(X, y, \n",
        "                                                    test_size=0.3, \n",
        "                                                    random_state=31)"
      ],
      "execution_count": null,
      "outputs": []
    },
    {
      "cell_type": "markdown",
      "metadata": {
        "id": "TiTit5ipQciF"
      },
      "source": [
        "##2.2 Normalização das características"
      ]
    },
    {
      "cell_type": "code",
      "metadata": {
        "id": "hyl3dcl9QjfE"
      },
      "source": [
        "#Normalização das características usando z-Score\n",
        "scaler = StandardScaler()\n",
        "scaler.fit(X_train)\n",
        "\n",
        "X_train_scaled = scaler.transform(X_train)\n",
        "X_test_scaled = scaler.transform(X_test)"
      ],
      "execution_count": null,
      "outputs": []
    },
    {
      "cell_type": "code",
      "metadata": {
        "colab": {
          "base_uri": "https://localhost:8080/"
        },
        "id": "8cOiPvU8RKru",
        "outputId": "cdca5ae8-b1bb-4f99-e381-03e5a7bf7332"
      },
      "source": [
        "boston_df = pd.DataFrame(X_train_scaled, columns = dataset.feature_names)\n",
        "print(boston_df.head(3))"
      ],
      "execution_count": null,
      "outputs": [
        {
          "output_type": "stream",
          "text": [
            "       CRIM        ZN     INDUS  ...   PTRATIO         B     LSTAT\n",
            "0 -0.389279  3.411723 -1.329831  ... -0.561453  0.294711 -1.125821\n",
            "1 -0.386258  0.716968  0.573843  ... -0.028004  0.436368 -0.262037\n",
            "2 -0.380684  0.369258 -0.607546  ...  0.149813  0.373055  0.171983\n",
            "\n",
            "[3 rows x 13 columns]\n"
          ],
          "name": "stdout"
        }
      ]
    },
    {
      "cell_type": "markdown",
      "metadata": {
        "id": "YQf6UtSsRa44"
      },
      "source": [
        "##2.3 Treinamento e aplicação do modelo"
      ]
    },
    {
      "cell_type": "code",
      "metadata": {
        "colab": {
          "base_uri": "https://localhost:8080/"
        },
        "id": "d8_2567KRewF",
        "outputId": "cb3e80d5-24b8-476c-b6e2-8f91390d409b"
      },
      "source": [
        "# In a practical setting, n_neighbors has to be defined using model selection.\n",
        "model = KNeighborsRegressor(n_neighbors = 15, weights = 'distance')\n",
        "\n",
        "model.fit(X_train_scaled, y_train)  #fit the model"
      ],
      "execution_count": null,
      "outputs": [
        {
          "output_type": "execute_result",
          "data": {
            "text/plain": [
              "KNeighborsRegressor(algorithm='auto', leaf_size=30, metric='minkowski',\n",
              "                    metric_params=None, n_jobs=None, n_neighbors=15, p=2,\n",
              "                    weights='distance')"
            ]
          },
          "metadata": {
            "tags": []
          },
          "execution_count": 31
        }
      ]
    },
    {
      "cell_type": "code",
      "metadata": {
        "id": "W9sLBIOORjVL"
      },
      "source": [
        "y_pred = model.predict(X_test_scaled) #make prediction on test set"
      ],
      "execution_count": null,
      "outputs": []
    },
    {
      "cell_type": "code",
      "metadata": {
        "colab": {
          "base_uri": "https://localhost:8080/"
        },
        "id": "T8Kw-4MTRx6h",
        "outputId": "983c208f-be5d-4025-8193-84e1e395e4b5"
      },
      "source": [
        "#Avaliação do modelo\n",
        "error = sqrt(mean_squared_error(y_test, y_pred)) #calculate rmse\n",
        "rmse_val = []\n",
        "rmse_val.append(error) #store rmse values\n",
        "#print('RMSE value for k=%d is %.2f' % (K, error))\n",
        "print(rmse_val)"
      ],
      "execution_count": null,
      "outputs": [
        {
          "output_type": "stream",
          "text": [
            "[4.366723535719226]\n"
          ],
          "name": "stdout"
        }
      ]
    },
    {
      "cell_type": "markdown",
      "metadata": {
        "id": "2dVpYdUXSrQx"
      },
      "source": [
        "##2.4 Uso do modelo treinado para predição no conjunto de teste\n"
      ]
    },
    {
      "cell_type": "code",
      "metadata": {
        "colab": {
          "base_uri": "https://localhost:8080/"
        },
        "id": "lsZ6yekBSvGY",
        "outputId": "64c08bcb-a85d-49f8-d352-0f76defaddff"
      },
      "source": [
        "#predicting on the test set\n",
        "predict = model.predict(X_test_scaled)\n",
        "print(predict)"
      ],
      "execution_count": null,
      "outputs": [
        {
          "output_type": "stream",
          "text": [
            "[29.783 11.201 22.586 19.376 22.128 23.881 13.128 26.592 23.688 22.418\n",
            " 11.606 17.702 16.594 19.675 13.713 23.337 21.392 24.27  23.008 27.958\n",
            " 18.106 15.248 26.038 30.979 21.404 20.116 19.042 23.295 18.399 25.03\n",
            " 27.251 14.544 14.685 17.866 23.774 21.02  29.231 13.379 15.242 38.275\n",
            " 11.431 12.536 16.827 30.21  17.134 22.723 30.241 19.589 25.58  26.159\n",
            " 21.171 19.024 12.078 30.355 20.837 20.8   12.814 17.747 11.989 24.998\n",
            " 17.093 12.806 23.118 27.765 10.592 10.548 23.25  16.361 36.611 21.263\n",
            " 19.585 15.471 31.676 20.618 17.081 33.35  22.799 21.39  17.166 21.429\n",
            " 32.628 24.825 24.528 11.706 23.024 21.366 18.886 42.17  21.524 16.439\n",
            " 12.618 21.192 22.026 30.619 11.985 10.887 24.385 30.916 12.544 27.433\n",
            " 21.558 14.269 32.261 30.064 10.976 26.858 20.612 18.179 15.436 36.457\n",
            " 24.645 21.739 18.934 19.179 12.228 16.875 25.953 15.263 25.102 11.272\n",
            " 15.596 24.096 27.608 26.117 21.221 18.752 16.432 26.791 12.165 11.754\n",
            " 26.698 17.369 22.226 23.688 22.647 30.091 28.373 11.636 19.501 20.782\n",
            " 35.805 22.504 20.674 24.191 17.244 32.664 20.983 17.737 20.015 11.828\n",
            " 13.735 22.545]\n"
          ],
          "name": "stdout"
        }
      ]
    },
    {
      "cell_type": "markdown",
      "metadata": {
        "id": "vavXXHxETYWb"
      },
      "source": [
        "#Considerações Finais"
      ]
    },
    {
      "cell_type": "markdown",
      "metadata": {
        "id": "T2hnawBfTaiC"
      },
      "source": [
        "Alternatives do avoid overfitting*:\n",
        "* No optimal number of neighbors suits all kind of datasets. The value of $k$ for a particular dataset can be determined using model selection.\n",
        "* Contrary to what one might think, $k$-NN can produce very complex decision boundaries.\n",
        "* Model selection (measure performance on validation data for increasing values of k);\n",
        "* Replace a bunch of points by their prototypes; \n",
        "* Remove outliers, i.e., remove data points for which all (or at least the majority) of the neighbor voronoi cells are from a different class.\n",
        "\n",
        "*Considereções finais adpatadas do tutorial k-NN do Prof. Eduardo Bezerra."
      ]
    },
    {
      "cell_type": "markdown",
      "metadata": {
        "id": "Vgw6TdVqgN9S"
      },
      "source": [
        "#Referências e Links"
      ]
    },
    {
      "cell_type": "markdown",
      "metadata": {
        "id": "sRC1bZTygQxl"
      },
      "source": [
        "**Referências**\n",
        "\n",
        "Géron, Aurélien (2019). **Mãos à Obra Aprendizagem de Máquina com Scikit-Learn & TensorFlow:** Conceitos, ferramentas e técnicas para a construção de sistemas inteligentes. Traduzido por Rafael Contatori. Alta Books.\n",
        "\n",
        "Grus, Joel (2016). **Data Science do Zero:** Primeiras regras com Python. Traduzido por Welington Nascimento. Alta Books.\n",
        "\n",
        "McKinney, Wes (2018). **Python para Análise de Dados**: tratamento de dados com pandas, numpy e iPython. Traduzido por Lúcia A. Kinoshita. Novatec.\n",
        "\n",
        "---\n",
        "Conteúdos adicionais e explicações detalhadas do algoritmo em:\n",
        "\n",
        "https://github.com/MLRG-CEFET-RJ/ml-class/blob/master/ppcic_ml_knn.ipynb"
      ]
    }
  ]
}