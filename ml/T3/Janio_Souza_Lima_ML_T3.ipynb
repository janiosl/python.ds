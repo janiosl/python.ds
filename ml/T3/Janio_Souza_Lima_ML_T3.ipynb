{
  "nbformat": 4,
  "nbformat_minor": 0,
  "metadata": {
    "colab": {
      "name": "Janio_Souza_Lima_ML-T3.ipynb",
      "provenance": [],
      "collapsed_sections": [
        "w3hrc_yS-BsI",
        "nJZsyV7k-GQL",
        "vkDs0-aJ-MlK"
      ],
      "toc_visible": true,
      "authorship_tag": "ABX9TyN9RkBvl6J1P8IuvRX1zgnq",
      "include_colab_link": true
    },
    "kernelspec": {
      "name": "python3",
      "display_name": "Python 3"
    }
  },
  "cells": [
    {
      "cell_type": "markdown",
      "metadata": {
        "id": "view-in-github",
        "colab_type": "text"
      },
      "source": [
        "<a href=\"https://colab.research.google.com/github/janiosl/python.ds/blob/master/ml/T3/Janio_Souza_Lima_ML_T3.ipynb\" target=\"_parent\"><img src=\"https://colab.research.google.com/assets/colab-badge.svg\" alt=\"Open In Colab\"/></a>"
      ]
    },
    {
      "cell_type": "markdown",
      "metadata": {
        "id": "ptkA5dKWWJVL"
      },
      "source": [
        "#**CEFET-RJ**\n",
        "\n",
        "**Programa de Pós-Gradução em Ciência da Computação - PPCIC**\n",
        "\n",
        "**Mestrado em Ciência da Computação**\n",
        "\n",
        "**Disciplina: Aprendizado de Máquina - 2021/1**\n",
        "\n",
        "* **Trabalho 03**\n",
        "* **Professor**: Eduardo Bezerra\n",
        "* **Aluno**: Janio de Souza Lima"
      ]
    },
    {
      "cell_type": "markdown",
      "metadata": {
        "id": "4anwwi9AXjEF"
      },
      "source": [
        "##Preparação do ambiente"
      ]
    },
    {
      "cell_type": "markdown",
      "metadata": {
        "id": "BfzO6DbX6OKD"
      },
      "source": [
        "Importação de bibliotecas"
      ]
    },
    {
      "cell_type": "code",
      "metadata": {
        "id": "WjU2VUQuXk88"
      },
      "source": [
        "#Importação de bibliotecas\n",
        "import pandas as pd\n",
        "import numpy as np\n",
        "import seaborn as sns\n",
        "from matplotlib import pyplot as plt\n",
        "import scipy.io"
      ],
      "execution_count": 1,
      "outputs": []
    },
    {
      "cell_type": "markdown",
      "metadata": {
        "id": "yE_ovAy36XVL"
      },
      "source": [
        "Carga de arquivos para ambiente (apenas para uso deste notebook no Google Colab)"
      ]
    },
    {
      "cell_type": "code",
      "metadata": {
        "id": "d_Y_4EBO6DY3"
      },
      "source": [
        "from google.colab import drive"
      ],
      "execution_count": 2,
      "outputs": []
    },
    {
      "cell_type": "code",
      "metadata": {
        "colab": {
          "base_uri": "https://localhost:8080/"
        },
        "id": "7uZ-awNx88p4",
        "outputId": "7ae462a8-6f50-4182-ddf6-db67345d15e3"
      },
      "source": [
        "#Conecta o Google Colab ao Google Drive\n",
        "drive.mount('/content/drive')"
      ],
      "execution_count": 3,
      "outputs": [
        {
          "output_type": "stream",
          "text": [
            "Drive already mounted at /content/drive; to attempt to forcibly remount, call drive.mount(\"/content/drive\", force_remount=True).\n"
          ],
          "name": "stdout"
        }
      ]
    },
    {
      "cell_type": "markdown",
      "metadata": {
        "id": "F4rSnChkMHdG"
      },
      "source": [
        "A etapa anterior apenas conecta ao seu Google Drive, após rodá-la e autenticar a sessão usando o link da API da Google, o código abaixo deve ser executado para apontar para o diretório de trabalho no qual estão gravados os códigos e bibliotecas personalziadas que serão usados na análise.\n",
        "\n",
        "Os códigos* em questão estão disponíveis em: https://github.com/MLRG-CEFET-RJ/ml-class/tree/master/ml-t1/code\n",
        "\n",
        "** Em alguns casos foi necessário adaptar partes das funções originais disponíveis no repositório citado ou substituí-las por versões que estão escritas nas próprias células deste notebook* ou no repositório disponível em: https://github.com/janiosl/python.ds/tree/master/ml/T1/code.\n",
        "\n",
        "A pasta com os dados deve ser gravada neste mesmo diretório com o nome *data*, assim os trechos nos quais os conjuntos de dados são carregados rodarão sem problemas."
      ]
    },
    {
      "cell_type": "code",
      "metadata": {
        "id": "r0QvKrwd9QmG"
      },
      "source": [
        "#Define o path dos códigos e dados como diretório de trabalho atual\n",
        "import os\n",
        "dir = '/content/drive/My Drive/Mestrado PPCIC/03. Curso/3. Aprendizado/t3'\n",
        "os.chdir(dir)"
      ],
      "execution_count": 4,
      "outputs": []
    },
    {
      "cell_type": "markdown",
      "metadata": {
        "id": "w3hrc_yS-BsI"
      },
      "source": [
        "#1 Aprendizado de Comitês"
      ]
    },
    {
      "cell_type": "markdown",
      "metadata": {
        "id": "RA9vM5QGM3JJ"
      },
      "source": [
        "##Análise preliminar dos dados"
      ]
    },
    {
      "cell_type": "markdown",
      "metadata": {
        "id": "es-81LYbPAh6"
      },
      "source": [
        "Carga e organização dos dados de treino e teste\n",
        "\n",
        "---"
      ]
    },
    {
      "cell_type": "markdown",
      "metadata": {
        "id": "S6JazEazUiXU"
      },
      "source": [
        "Conjunto de dados analisado:\n",
        "\n",
        "![dataset1](https://github.com/janiosl/python.ds/blob/master/ml/T3/data/dataset1.PNG?raw=true)\n",
        "\n",
        "*Fonte: Tabela copiada de Eduardo Bezerra, enunciado desse trabalho (Trabalho 03).*\n",
        "\n",
        "O conjunto de dados está dividido em dois arquivos. Um conjunto de treino com 1500 observações e um de testes com 577 observações. Para realização das análises dessa seção, quando necessário, o conjunto de originalmente separado para treino foi novamente dividido para uso como treino e validação na proporção de 80% para treino e 20% para validação."
      ]
    },
    {
      "cell_type": "code",
      "metadata": {
        "id": "ZPcS58MpPNJQ"
      },
      "source": [
        "#Definção dos títulos das colunas\n",
        "headers = ['ESCT', 'NDEP', 'RENDA', 'TIPOR', 'VBEM', 'NPARC',\n",
        "           'VPARC', 'TEL', 'IDADE', 'RESMS', 'ENTRADA', 'CLASSE']"
      ],
      "execution_count": 5,
      "outputs": []
    },
    {
      "cell_type": "code",
      "metadata": {
        "colab": {
          "base_uri": "https://localhost:8080/",
          "height": 204
        },
        "id": "VX72leUIM_Um",
        "outputId": "92618dd1-970b-441f-e179-d1fb598c7b16"
      },
      "source": [
        "#Carga do conjunto de treino\n",
        "arquivo = 'https://raw.githubusercontent.com/MLRG-CEFET-RJ/ml-class/master/ml-t3/datasets/credtrain.txt'\n",
        "data_train = pd.read_csv(arquivo, sep='\\t', header=None, names=headers)\n",
        "\n",
        "#Conferência dos primeiros registros do conjunto de dados\n",
        "data_train.head()"
      ],
      "execution_count": 6,
      "outputs": [
        {
          "output_type": "execute_result",
          "data": {
            "text/html": [
              "<div>\n",
              "<style scoped>\n",
              "    .dataframe tbody tr th:only-of-type {\n",
              "        vertical-align: middle;\n",
              "    }\n",
              "\n",
              "    .dataframe tbody tr th {\n",
              "        vertical-align: top;\n",
              "    }\n",
              "\n",
              "    .dataframe thead th {\n",
              "        text-align: right;\n",
              "    }\n",
              "</style>\n",
              "<table border=\"1\" class=\"dataframe\">\n",
              "  <thead>\n",
              "    <tr style=\"text-align: right;\">\n",
              "      <th></th>\n",
              "      <th>ESCT</th>\n",
              "      <th>NDEP</th>\n",
              "      <th>RENDA</th>\n",
              "      <th>TIPOR</th>\n",
              "      <th>VBEM</th>\n",
              "      <th>NPARC</th>\n",
              "      <th>VPARC</th>\n",
              "      <th>TEL</th>\n",
              "      <th>IDADE</th>\n",
              "      <th>RESMS</th>\n",
              "      <th>ENTRADA</th>\n",
              "      <th>CLASSE</th>\n",
              "    </tr>\n",
              "  </thead>\n",
              "  <tbody>\n",
              "    <tr>\n",
              "      <th>0</th>\n",
              "      <td>1</td>\n",
              "      <td>0</td>\n",
              "      <td>360</td>\n",
              "      <td>0</td>\n",
              "      <td>313</td>\n",
              "      <td>9</td>\n",
              "      <td>52</td>\n",
              "      <td>0</td>\n",
              "      <td>25</td>\n",
              "      <td>48</td>\n",
              "      <td>0</td>\n",
              "      <td>1</td>\n",
              "    </tr>\n",
              "    <tr>\n",
              "      <th>1</th>\n",
              "      <td>0</td>\n",
              "      <td>0</td>\n",
              "      <td>350</td>\n",
              "      <td>1</td>\n",
              "      <td>468</td>\n",
              "      <td>10</td>\n",
              "      <td>65</td>\n",
              "      <td>0</td>\n",
              "      <td>33</td>\n",
              "      <td>6</td>\n",
              "      <td>0</td>\n",
              "      <td>1</td>\n",
              "    </tr>\n",
              "    <tr>\n",
              "      <th>2</th>\n",
              "      <td>0</td>\n",
              "      <td>0</td>\n",
              "      <td>1100</td>\n",
              "      <td>0</td>\n",
              "      <td>829</td>\n",
              "      <td>9</td>\n",
              "      <td>125</td>\n",
              "      <td>0</td>\n",
              "      <td>56</td>\n",
              "      <td>48</td>\n",
              "      <td>0</td>\n",
              "      <td>1</td>\n",
              "    </tr>\n",
              "    <tr>\n",
              "      <th>3</th>\n",
              "      <td>0</td>\n",
              "      <td>0</td>\n",
              "      <td>3000</td>\n",
              "      <td>0</td>\n",
              "      <td>552</td>\n",
              "      <td>12</td>\n",
              "      <td>76</td>\n",
              "      <td>1</td>\n",
              "      <td>31</td>\n",
              "      <td>60</td>\n",
              "      <td>0</td>\n",
              "      <td>1</td>\n",
              "    </tr>\n",
              "    <tr>\n",
              "      <th>4</th>\n",
              "      <td>1</td>\n",
              "      <td>0</td>\n",
              "      <td>1000</td>\n",
              "      <td>0</td>\n",
              "      <td>809</td>\n",
              "      <td>12</td>\n",
              "      <td>111</td>\n",
              "      <td>0</td>\n",
              "      <td>24</td>\n",
              "      <td>7</td>\n",
              "      <td>0</td>\n",
              "      <td>1</td>\n",
              "    </tr>\n",
              "  </tbody>\n",
              "</table>\n",
              "</div>"
            ],
            "text/plain": [
              "   ESCT  NDEP  RENDA  TIPOR  VBEM  ...  TEL  IDADE  RESMS  ENTRADA  CLASSE\n",
              "0     1     0    360      0   313  ...    0     25     48        0       1\n",
              "1     0     0    350      1   468  ...    0     33      6        0       1\n",
              "2     0     0   1100      0   829  ...    0     56     48        0       1\n",
              "3     0     0   3000      0   552  ...    1     31     60        0       1\n",
              "4     1     0   1000      0   809  ...    0     24      7        0       1\n",
              "\n",
              "[5 rows x 12 columns]"
            ]
          },
          "metadata": {
            "tags": []
          },
          "execution_count": 6
        }
      ]
    },
    {
      "cell_type": "code",
      "metadata": {
        "colab": {
          "base_uri": "https://localhost:8080/",
          "height": 297
        },
        "id": "IZwNF-BpQCVB",
        "outputId": "4463acea-5638-4b2f-f5d6-69abcd53a449"
      },
      "source": [
        "#Estatísticas descritivas do conjunto de treino\n",
        "data_train.describe()"
      ],
      "execution_count": 7,
      "outputs": [
        {
          "output_type": "execute_result",
          "data": {
            "text/html": [
              "<div>\n",
              "<style scoped>\n",
              "    .dataframe tbody tr th:only-of-type {\n",
              "        vertical-align: middle;\n",
              "    }\n",
              "\n",
              "    .dataframe tbody tr th {\n",
              "        vertical-align: top;\n",
              "    }\n",
              "\n",
              "    .dataframe thead th {\n",
              "        text-align: right;\n",
              "    }\n",
              "</style>\n",
              "<table border=\"1\" class=\"dataframe\">\n",
              "  <thead>\n",
              "    <tr style=\"text-align: right;\">\n",
              "      <th></th>\n",
              "      <th>ESCT</th>\n",
              "      <th>NDEP</th>\n",
              "      <th>RENDA</th>\n",
              "      <th>TIPOR</th>\n",
              "      <th>VBEM</th>\n",
              "      <th>NPARC</th>\n",
              "      <th>VPARC</th>\n",
              "      <th>TEL</th>\n",
              "      <th>IDADE</th>\n",
              "      <th>RESMS</th>\n",
              "      <th>ENTRADA</th>\n",
              "      <th>CLASSE</th>\n",
              "    </tr>\n",
              "  </thead>\n",
              "  <tbody>\n",
              "    <tr>\n",
              "      <th>count</th>\n",
              "      <td>1500.000000</td>\n",
              "      <td>1500.000000</td>\n",
              "      <td>1500.00000</td>\n",
              "      <td>1500.000000</td>\n",
              "      <td>1500.000000</td>\n",
              "      <td>1500.000000</td>\n",
              "      <td>1500.000000</td>\n",
              "      <td>1500.000000</td>\n",
              "      <td>1500.000000</td>\n",
              "      <td>1500.000000</td>\n",
              "      <td>1500.000000</td>\n",
              "      <td>1500.000000</td>\n",
              "    </tr>\n",
              "    <tr>\n",
              "      <th>mean</th>\n",
              "      <td>0.512000</td>\n",
              "      <td>0.126667</td>\n",
              "      <td>984.51200</td>\n",
              "      <td>0.445333</td>\n",
              "      <td>562.031333</td>\n",
              "      <td>8.392667</td>\n",
              "      <td>102.247333</td>\n",
              "      <td>0.134000</td>\n",
              "      <td>41.210667</td>\n",
              "      <td>31.528667</td>\n",
              "      <td>32.255333</td>\n",
              "      <td>0.476667</td>\n",
              "    </tr>\n",
              "    <tr>\n",
              "      <th>std</th>\n",
              "      <td>0.659909</td>\n",
              "      <td>0.572865</td>\n",
              "      <td>905.53292</td>\n",
              "      <td>0.497168</td>\n",
              "      <td>265.690646</td>\n",
              "      <td>3.609131</td>\n",
              "      <td>62.987325</td>\n",
              "      <td>0.340766</td>\n",
              "      <td>13.202266</td>\n",
              "      <td>52.662099</td>\n",
              "      <td>94.307614</td>\n",
              "      <td>0.499622</td>\n",
              "    </tr>\n",
              "    <tr>\n",
              "      <th>min</th>\n",
              "      <td>0.000000</td>\n",
              "      <td>0.000000</td>\n",
              "      <td>300.00000</td>\n",
              "      <td>0.000000</td>\n",
              "      <td>300.000000</td>\n",
              "      <td>1.000000</td>\n",
              "      <td>50.000000</td>\n",
              "      <td>0.000000</td>\n",
              "      <td>19.000000</td>\n",
              "      <td>0.000000</td>\n",
              "      <td>0.000000</td>\n",
              "      <td>0.000000</td>\n",
              "    </tr>\n",
              "    <tr>\n",
              "      <th>25%</th>\n",
              "      <td>0.000000</td>\n",
              "      <td>0.000000</td>\n",
              "      <td>467.50000</td>\n",
              "      <td>0.000000</td>\n",
              "      <td>410.000000</td>\n",
              "      <td>6.000000</td>\n",
              "      <td>66.000000</td>\n",
              "      <td>0.000000</td>\n",
              "      <td>31.000000</td>\n",
              "      <td>6.000000</td>\n",
              "      <td>0.000000</td>\n",
              "      <td>0.000000</td>\n",
              "    </tr>\n",
              "    <tr>\n",
              "      <th>50%</th>\n",
              "      <td>0.000000</td>\n",
              "      <td>0.000000</td>\n",
              "      <td>650.00000</td>\n",
              "      <td>0.000000</td>\n",
              "      <td>490.000000</td>\n",
              "      <td>10.000000</td>\n",
              "      <td>83.000000</td>\n",
              "      <td>0.000000</td>\n",
              "      <td>39.000000</td>\n",
              "      <td>6.000000</td>\n",
              "      <td>0.000000</td>\n",
              "      <td>0.000000</td>\n",
              "    </tr>\n",
              "    <tr>\n",
              "      <th>75%</th>\n",
              "      <td>1.000000</td>\n",
              "      <td>0.000000</td>\n",
              "      <td>1200.00000</td>\n",
              "      <td>1.000000</td>\n",
              "      <td>618.000000</td>\n",
              "      <td>10.000000</td>\n",
              "      <td>118.000000</td>\n",
              "      <td>0.000000</td>\n",
              "      <td>52.000000</td>\n",
              "      <td>48.000000</td>\n",
              "      <td>0.000000</td>\n",
              "      <td>1.000000</td>\n",
              "    </tr>\n",
              "    <tr>\n",
              "      <th>max</th>\n",
              "      <td>3.000000</td>\n",
              "      <td>7.000000</td>\n",
              "      <td>8000.00000</td>\n",
              "      <td>1.000000</td>\n",
              "      <td>4000.000000</td>\n",
              "      <td>24.000000</td>\n",
              "      <td>711.000000</td>\n",
              "      <td>1.000000</td>\n",
              "      <td>70.000000</td>\n",
              "      <td>420.000000</td>\n",
              "      <td>1300.000000</td>\n",
              "      <td>1.000000</td>\n",
              "    </tr>\n",
              "  </tbody>\n",
              "</table>\n",
              "</div>"
            ],
            "text/plain": [
              "              ESCT         NDEP  ...      ENTRADA       CLASSE\n",
              "count  1500.000000  1500.000000  ...  1500.000000  1500.000000\n",
              "mean      0.512000     0.126667  ...    32.255333     0.476667\n",
              "std       0.659909     0.572865  ...    94.307614     0.499622\n",
              "min       0.000000     0.000000  ...     0.000000     0.000000\n",
              "25%       0.000000     0.000000  ...     0.000000     0.000000\n",
              "50%       0.000000     0.000000  ...     0.000000     0.000000\n",
              "75%       1.000000     0.000000  ...     0.000000     1.000000\n",
              "max       3.000000     7.000000  ...  1300.000000     1.000000\n",
              "\n",
              "[8 rows x 12 columns]"
            ]
          },
          "metadata": {
            "tags": []
          },
          "execution_count": 7
        }
      ]
    },
    {
      "cell_type": "code",
      "metadata": {
        "id": "4IY8hOfQQbrx"
      },
      "source": [
        "#Transoformação dos atributos e da classe alvo em matrizes\n",
        "X_train = np.array(data_train.iloc[:, 0:11])\n",
        "y_train = np.array(data_train['CLASSE'])"
      ],
      "execution_count": 8,
      "outputs": []
    },
    {
      "cell_type": "code",
      "metadata": {
        "colab": {
          "base_uri": "https://localhost:8080/"
        },
        "id": "1AaT68ogQuni",
        "outputId": "c863d4e0-dd26-43e9-b9d7-092401e00af6"
      },
      "source": [
        "#Conferência dos primeiros registros dos atributos\n",
        "X_train[:5]"
      ],
      "execution_count": 9,
      "outputs": [
        {
          "output_type": "execute_result",
          "data": {
            "text/plain": [
              "array([[   1,    0,  360,    0,  313,    9,   52,    0,   25,   48,    0],\n",
              "       [   0,    0,  350,    1,  468,   10,   65,    0,   33,    6,    0],\n",
              "       [   0,    0, 1100,    0,  829,    9,  125,    0,   56,   48,    0],\n",
              "       [   0,    0, 3000,    0,  552,   12,   76,    1,   31,   60,    0],\n",
              "       [   1,    0, 1000,    0,  809,   12,  111,    0,   24,    7,    0]])"
            ]
          },
          "metadata": {
            "tags": []
          },
          "execution_count": 9
        }
      ]
    },
    {
      "cell_type": "code",
      "metadata": {
        "colab": {
          "base_uri": "https://localhost:8080/"
        },
        "id": "4XwcqggwRfQ4",
        "outputId": "0398ad81-9428-472e-f9a7-8f08f8b81d88"
      },
      "source": [
        "#Conferência dos primeiros registros do classe alvo\n",
        "y_train[:5]"
      ],
      "execution_count": 10,
      "outputs": [
        {
          "output_type": "execute_result",
          "data": {
            "text/plain": [
              "array([1, 1, 1, 1, 1])"
            ]
          },
          "metadata": {
            "tags": []
          },
          "execution_count": 10
        }
      ]
    },
    {
      "cell_type": "code",
      "metadata": {
        "colab": {
          "base_uri": "https://localhost:8080/"
        },
        "id": "D0PEbt01Q3SI",
        "outputId": "0bcad374-40cd-48ad-d33c-5bf4e34b048d"
      },
      "source": [
        "#Conferência das dimensões das matrizes\n",
        "print(X_train.shape, y_train.shape)"
      ],
      "execution_count": 11,
      "outputs": [
        {
          "output_type": "stream",
          "text": [
            "(1500, 11) (1500,)\n"
          ],
          "name": "stdout"
        }
      ]
    },
    {
      "cell_type": "code",
      "metadata": {
        "colab": {
          "base_uri": "https://localhost:8080/",
          "height": 204
        },
        "id": "bcGvZXRKNYqw",
        "outputId": "79fc43e5-3fa9-4a41-b070-0097a196d9cc"
      },
      "source": [
        "#Carga do conjunto de treino\n",
        "arquivo = 'https://raw.githubusercontent.com/MLRG-CEFET-RJ/ml-class/master/ml-t3/datasets/credtest.txt'\n",
        "data_test = pd.read_csv(arquivo, sep='\\t', header=None, names=headers)\n",
        "\n",
        "#Conferência dos primeiros registros do conjunto de dados\n",
        "data_test.head()"
      ],
      "execution_count": 12,
      "outputs": [
        {
          "output_type": "execute_result",
          "data": {
            "text/html": [
              "<div>\n",
              "<style scoped>\n",
              "    .dataframe tbody tr th:only-of-type {\n",
              "        vertical-align: middle;\n",
              "    }\n",
              "\n",
              "    .dataframe tbody tr th {\n",
              "        vertical-align: top;\n",
              "    }\n",
              "\n",
              "    .dataframe thead th {\n",
              "        text-align: right;\n",
              "    }\n",
              "</style>\n",
              "<table border=\"1\" class=\"dataframe\">\n",
              "  <thead>\n",
              "    <tr style=\"text-align: right;\">\n",
              "      <th></th>\n",
              "      <th>ESCT</th>\n",
              "      <th>NDEP</th>\n",
              "      <th>RENDA</th>\n",
              "      <th>TIPOR</th>\n",
              "      <th>VBEM</th>\n",
              "      <th>NPARC</th>\n",
              "      <th>VPARC</th>\n",
              "      <th>TEL</th>\n",
              "      <th>IDADE</th>\n",
              "      <th>RESMS</th>\n",
              "      <th>ENTRADA</th>\n",
              "      <th>CLASSE</th>\n",
              "    </tr>\n",
              "  </thead>\n",
              "  <tbody>\n",
              "    <tr>\n",
              "      <th>0</th>\n",
              "      <td>0</td>\n",
              "      <td>2</td>\n",
              "      <td>500</td>\n",
              "      <td>1</td>\n",
              "      <td>618</td>\n",
              "      <td>10</td>\n",
              "      <td>85</td>\n",
              "      <td>0</td>\n",
              "      <td>36</td>\n",
              "      <td>6</td>\n",
              "      <td>0</td>\n",
              "      <td>0</td>\n",
              "    </tr>\n",
              "    <tr>\n",
              "      <th>1</th>\n",
              "      <td>1</td>\n",
              "      <td>0</td>\n",
              "      <td>813</td>\n",
              "      <td>0</td>\n",
              "      <td>552</td>\n",
              "      <td>4</td>\n",
              "      <td>119</td>\n",
              "      <td>0</td>\n",
              "      <td>43</td>\n",
              "      <td>48</td>\n",
              "      <td>119</td>\n",
              "      <td>1</td>\n",
              "    </tr>\n",
              "    <tr>\n",
              "      <th>2</th>\n",
              "      <td>3</td>\n",
              "      <td>0</td>\n",
              "      <td>350</td>\n",
              "      <td>0</td>\n",
              "      <td>488</td>\n",
              "      <td>12</td>\n",
              "      <td>66</td>\n",
              "      <td>0</td>\n",
              "      <td>43</td>\n",
              "      <td>0</td>\n",
              "      <td>0</td>\n",
              "      <td>1</td>\n",
              "    </tr>\n",
              "    <tr>\n",
              "      <th>3</th>\n",
              "      <td>1</td>\n",
              "      <td>0</td>\n",
              "      <td>1530</td>\n",
              "      <td>0</td>\n",
              "      <td>381</td>\n",
              "      <td>1</td>\n",
              "      <td>398</td>\n",
              "      <td>0</td>\n",
              "      <td>28</td>\n",
              "      <td>48</td>\n",
              "      <td>0</td>\n",
              "      <td>1</td>\n",
              "    </tr>\n",
              "    <tr>\n",
              "      <th>4</th>\n",
              "      <td>0</td>\n",
              "      <td>0</td>\n",
              "      <td>688</td>\n",
              "      <td>1</td>\n",
              "      <td>396</td>\n",
              "      <td>10</td>\n",
              "      <td>60</td>\n",
              "      <td>0</td>\n",
              "      <td>49</td>\n",
              "      <td>72</td>\n",
              "      <td>0</td>\n",
              "      <td>1</td>\n",
              "    </tr>\n",
              "  </tbody>\n",
              "</table>\n",
              "</div>"
            ],
            "text/plain": [
              "   ESCT  NDEP  RENDA  TIPOR  VBEM  ...  TEL  IDADE  RESMS  ENTRADA  CLASSE\n",
              "0     0     2    500      1   618  ...    0     36      6        0       0\n",
              "1     1     0    813      0   552  ...    0     43     48      119       1\n",
              "2     3     0    350      0   488  ...    0     43      0        0       1\n",
              "3     1     0   1530      0   381  ...    0     28     48        0       1\n",
              "4     0     0    688      1   396  ...    0     49     72        0       1\n",
              "\n",
              "[5 rows x 12 columns]"
            ]
          },
          "metadata": {
            "tags": []
          },
          "execution_count": 12
        }
      ]
    },
    {
      "cell_type": "code",
      "metadata": {
        "colab": {
          "base_uri": "https://localhost:8080/",
          "height": 297
        },
        "id": "rUyFph5rQFlI",
        "outputId": "56c1d83a-427b-4adc-b282-55a42b5c2fd8"
      },
      "source": [
        "#Estatísticas descritivas do conjunto de treino\n",
        "data_test.describe()"
      ],
      "execution_count": 13,
      "outputs": [
        {
          "output_type": "execute_result",
          "data": {
            "text/html": [
              "<div>\n",
              "<style scoped>\n",
              "    .dataframe tbody tr th:only-of-type {\n",
              "        vertical-align: middle;\n",
              "    }\n",
              "\n",
              "    .dataframe tbody tr th {\n",
              "        vertical-align: top;\n",
              "    }\n",
              "\n",
              "    .dataframe thead th {\n",
              "        text-align: right;\n",
              "    }\n",
              "</style>\n",
              "<table border=\"1\" class=\"dataframe\">\n",
              "  <thead>\n",
              "    <tr style=\"text-align: right;\">\n",
              "      <th></th>\n",
              "      <th>ESCT</th>\n",
              "      <th>NDEP</th>\n",
              "      <th>RENDA</th>\n",
              "      <th>TIPOR</th>\n",
              "      <th>VBEM</th>\n",
              "      <th>NPARC</th>\n",
              "      <th>VPARC</th>\n",
              "      <th>TEL</th>\n",
              "      <th>IDADE</th>\n",
              "      <th>RESMS</th>\n",
              "      <th>ENTRADA</th>\n",
              "      <th>CLASSE</th>\n",
              "    </tr>\n",
              "  </thead>\n",
              "  <tbody>\n",
              "    <tr>\n",
              "      <th>count</th>\n",
              "      <td>577.000000</td>\n",
              "      <td>577.000000</td>\n",
              "      <td>577.000000</td>\n",
              "      <td>577.000000</td>\n",
              "      <td>577.000000</td>\n",
              "      <td>577.000000</td>\n",
              "      <td>577.000000</td>\n",
              "      <td>577.000000</td>\n",
              "      <td>577.000000</td>\n",
              "      <td>577.000000</td>\n",
              "      <td>577.000000</td>\n",
              "      <td>577.000000</td>\n",
              "    </tr>\n",
              "    <tr>\n",
              "      <th>mean</th>\n",
              "      <td>0.547660</td>\n",
              "      <td>0.110919</td>\n",
              "      <td>930.623917</td>\n",
              "      <td>0.452340</td>\n",
              "      <td>568.377816</td>\n",
              "      <td>8.402080</td>\n",
              "      <td>103.755633</td>\n",
              "      <td>0.112652</td>\n",
              "      <td>41.188908</td>\n",
              "      <td>29.270364</td>\n",
              "      <td>26.528596</td>\n",
              "      <td>0.469671</td>\n",
              "    </tr>\n",
              "    <tr>\n",
              "      <th>std</th>\n",
              "      <td>0.710706</td>\n",
              "      <td>0.511841</td>\n",
              "      <td>876.614452</td>\n",
              "      <td>0.498155</td>\n",
              "      <td>352.600280</td>\n",
              "      <td>3.633065</td>\n",
              "      <td>67.692428</td>\n",
              "      <td>0.316441</td>\n",
              "      <td>13.477631</td>\n",
              "      <td>50.100313</td>\n",
              "      <td>90.786052</td>\n",
              "      <td>0.499512</td>\n",
              "    </tr>\n",
              "    <tr>\n",
              "      <th>min</th>\n",
              "      <td>0.000000</td>\n",
              "      <td>0.000000</td>\n",
              "      <td>300.000000</td>\n",
              "      <td>0.000000</td>\n",
              "      <td>300.000000</td>\n",
              "      <td>1.000000</td>\n",
              "      <td>50.000000</td>\n",
              "      <td>0.000000</td>\n",
              "      <td>18.000000</td>\n",
              "      <td>0.000000</td>\n",
              "      <td>0.000000</td>\n",
              "      <td>0.000000</td>\n",
              "    </tr>\n",
              "    <tr>\n",
              "      <th>25%</th>\n",
              "      <td>0.000000</td>\n",
              "      <td>0.000000</td>\n",
              "      <td>475.000000</td>\n",
              "      <td>0.000000</td>\n",
              "      <td>399.000000</td>\n",
              "      <td>6.000000</td>\n",
              "      <td>66.000000</td>\n",
              "      <td>0.000000</td>\n",
              "      <td>30.000000</td>\n",
              "      <td>6.000000</td>\n",
              "      <td>0.000000</td>\n",
              "      <td>0.000000</td>\n",
              "    </tr>\n",
              "    <tr>\n",
              "      <th>50%</th>\n",
              "      <td>0.000000</td>\n",
              "      <td>0.000000</td>\n",
              "      <td>600.000000</td>\n",
              "      <td>0.000000</td>\n",
              "      <td>489.000000</td>\n",
              "      <td>10.000000</td>\n",
              "      <td>85.000000</td>\n",
              "      <td>0.000000</td>\n",
              "      <td>39.000000</td>\n",
              "      <td>6.000000</td>\n",
              "      <td>0.000000</td>\n",
              "      <td>0.000000</td>\n",
              "    </tr>\n",
              "    <tr>\n",
              "      <th>75%</th>\n",
              "      <td>1.000000</td>\n",
              "      <td>0.000000</td>\n",
              "      <td>1000.000000</td>\n",
              "      <td>1.000000</td>\n",
              "      <td>623.000000</td>\n",
              "      <td>10.000000</td>\n",
              "      <td>117.000000</td>\n",
              "      <td>0.000000</td>\n",
              "      <td>52.000000</td>\n",
              "      <td>48.000000</td>\n",
              "      <td>0.000000</td>\n",
              "      <td>1.000000</td>\n",
              "    </tr>\n",
              "    <tr>\n",
              "      <th>max</th>\n",
              "      <td>3.000000</td>\n",
              "      <td>5.000000</td>\n",
              "      <td>9675.000000</td>\n",
              "      <td>1.000000</td>\n",
              "      <td>6000.000000</td>\n",
              "      <td>21.000000</td>\n",
              "      <td>719.000000</td>\n",
              "      <td>1.000000</td>\n",
              "      <td>70.000000</td>\n",
              "      <td>360.000000</td>\n",
              "      <td>1150.000000</td>\n",
              "      <td>1.000000</td>\n",
              "    </tr>\n",
              "  </tbody>\n",
              "</table>\n",
              "</div>"
            ],
            "text/plain": [
              "             ESCT        NDEP        RENDA  ...       RESMS      ENTRADA      CLASSE\n",
              "count  577.000000  577.000000   577.000000  ...  577.000000   577.000000  577.000000\n",
              "mean     0.547660    0.110919   930.623917  ...   29.270364    26.528596    0.469671\n",
              "std      0.710706    0.511841   876.614452  ...   50.100313    90.786052    0.499512\n",
              "min      0.000000    0.000000   300.000000  ...    0.000000     0.000000    0.000000\n",
              "25%      0.000000    0.000000   475.000000  ...    6.000000     0.000000    0.000000\n",
              "50%      0.000000    0.000000   600.000000  ...    6.000000     0.000000    0.000000\n",
              "75%      1.000000    0.000000  1000.000000  ...   48.000000     0.000000    1.000000\n",
              "max      3.000000    5.000000  9675.000000  ...  360.000000  1150.000000    1.000000\n",
              "\n",
              "[8 rows x 12 columns]"
            ]
          },
          "metadata": {
            "tags": []
          },
          "execution_count": 13
        }
      ]
    },
    {
      "cell_type": "code",
      "metadata": {
        "id": "kT_nzUb_Rq6Y"
      },
      "source": [
        "#Transoformação dos atributos e da classe alvo em matrizes\n",
        "X_test = np.array(data_test.iloc[:, 0:11])\n",
        "y_test = np.array(data_test['CLASSE'])"
      ],
      "execution_count": 14,
      "outputs": []
    },
    {
      "cell_type": "code",
      "metadata": {
        "colab": {
          "base_uri": "https://localhost:8080/"
        },
        "id": "b4InNoSuRxl9",
        "outputId": "278e2340-22e0-4833-f15d-85190d19c203"
      },
      "source": [
        "#Conferência das dimensões das matrizes\n",
        "print(X_test.shape, y_test.shape)"
      ],
      "execution_count": 15,
      "outputs": [
        {
          "output_type": "stream",
          "text": [
            "(577, 11) (577,)\n"
          ],
          "name": "stdout"
        }
      ]
    },
    {
      "cell_type": "markdown",
      "metadata": {
        "id": "jvTLuehCWBaw"
      },
      "source": [
        "Divisão do conjunto originalmente criado como treinamento em novos subconjuntos para:\n",
        "* Treino: 80% dos dados do arquivo `credtrain.txt`\n",
        "* Validação: 20% dos dados do arquivo `credtrain.txt`"
      ]
    },
    {
      "cell_type": "code",
      "metadata": {
        "id": "XZG19VLMngWT"
      },
      "source": [
        "from sklearn.model_selection import train_test_split\n",
        "\n",
        "X_train, X_val, y_train, y_val = train_test_split(X_train, y_train,\n",
        "                                                  train_size=0.2,\n",
        "                                                  random_state=31)"
      ],
      "execution_count": 16,
      "outputs": []
    },
    {
      "cell_type": "code",
      "metadata": {
        "colab": {
          "base_uri": "https://localhost:8080/"
        },
        "id": "aOioFoxdnuZ-",
        "outputId": "8507b143-796b-453f-c1b2-00b5e7012575"
      },
      "source": [
        "print(X_train.shape, y_train.shape,\n",
        "      X_val.shape, y_val.shape)"
      ],
      "execution_count": 17,
      "outputs": [
        {
          "output_type": "stream",
          "text": [
            "(300, 11) (300,) (1200, 11) (1200,)\n"
          ],
          "name": "stdout"
        }
      ]
    },
    {
      "cell_type": "markdown",
      "metadata": {
        "id": "cugOxsJsAPWg"
      },
      "source": [
        "##1.1 Boosting"
      ]
    },
    {
      "cell_type": "markdown",
      "metadata": {
        "id": "yG_saaYw_bk4"
      },
      "source": [
        ""
      ]
    },
    {
      "cell_type": "code",
      "metadata": {
        "id": "L_y-dldk_bw7"
      },
      "source": [
        "from sklearn.ensemble import AdaBoostClassifier\n",
        "from sklearn.ensemble import GradientBoostingClassifier\n",
        "from sklearn.metrics import classification_report"
      ],
      "execution_count": 18,
      "outputs": []
    },
    {
      "cell_type": "markdown",
      "metadata": {
        "id": "c0WKjePkf3ph"
      },
      "source": [
        "* **AdaBoost**"
      ]
    },
    {
      "cell_type": "markdown",
      "metadata": {
        "id": "TEHEFpv2dfrQ"
      },
      "source": [
        "Comentar:\n",
        "* O uso do próprio AdaBoost como indutor;\n",
        "* Mas ressaltar a possibilidade de uso da classe em conjunto com outros algoritmos;"
      ]
    },
    {
      "cell_type": "code",
      "metadata": {
        "id": "CViBEkiZbhM-"
      },
      "source": [
        "#Criação do indutor AdaBoost sem alteração de hiperparâmetros\n",
        "adaB_clf = AdaBoostClassifier()"
      ],
      "execution_count": 19,
      "outputs": []
    },
    {
      "cell_type": "code",
      "metadata": {
        "colab": {
          "base_uri": "https://localhost:8080/"
        },
        "id": "XgQ99vA7bwgZ",
        "outputId": "bd1b9ee0-45e9-45bb-e0b4-f2c40784fea0"
      },
      "source": [
        "#Treinamento do modelo\n",
        "adaB_clf.fit(X_train, y_train)"
      ],
      "execution_count": 20,
      "outputs": [
        {
          "output_type": "execute_result",
          "data": {
            "text/plain": [
              "AdaBoostClassifier(algorithm='SAMME.R', base_estimator=None, learning_rate=1.0,\n",
              "                   n_estimators=50, random_state=None)"
            ]
          },
          "metadata": {
            "tags": []
          },
          "execution_count": 20
        }
      ]
    },
    {
      "cell_type": "code",
      "metadata": {
        "id": "9h_7fnFwfyWx"
      },
      "source": [
        ""
      ],
      "execution_count": 20,
      "outputs": []
    },
    {
      "cell_type": "code",
      "metadata": {
        "id": "5AVQH2XJhSff"
      },
      "source": [
        ""
      ],
      "execution_count": 20,
      "outputs": []
    },
    {
      "cell_type": "markdown",
      "metadata": {
        "id": "QRG6FSJwf7Te"
      },
      "source": [
        "* **Gradient Boosting**"
      ]
    },
    {
      "cell_type": "code",
      "metadata": {
        "id": "-UNDqtL8cKxv"
      },
      "source": [
        "#Criação do indutor Gradient Boosting sem alteração de hiperparâmetros\n",
        "gdB_clf = GradientBoostingClassifier()"
      ],
      "execution_count": 21,
      "outputs": []
    },
    {
      "cell_type": "code",
      "metadata": {
        "colab": {
          "base_uri": "https://localhost:8080/"
        },
        "id": "g2ifm96wea2C",
        "outputId": "a21e7bec-11d9-42f6-9e17-5eb0b140ace6"
      },
      "source": [
        "#Treinamento do modelo\n",
        "gdB_clf.fit(X_train, y_train)"
      ],
      "execution_count": 22,
      "outputs": [
        {
          "output_type": "execute_result",
          "data": {
            "text/plain": [
              "GradientBoostingClassifier(ccp_alpha=0.0, criterion='friedman_mse', init=None,\n",
              "                           learning_rate=0.1, loss='deviance', max_depth=3,\n",
              "                           max_features=None, max_leaf_nodes=None,\n",
              "                           min_impurity_decrease=0.0, min_impurity_split=None,\n",
              "                           min_samples_leaf=1, min_samples_split=2,\n",
              "                           min_weight_fraction_leaf=0.0, n_estimators=100,\n",
              "                           n_iter_no_change=None, presort='deprecated',\n",
              "                           random_state=None, subsample=1.0, tol=0.0001,\n",
              "                           validation_fraction=0.1, verbose=0,\n",
              "                           warm_start=False)"
            ]
          },
          "metadata": {
            "tags": []
          },
          "execution_count": 22
        }
      ]
    },
    {
      "cell_type": "markdown",
      "metadata": {
        "id": "Tslss0lMjtW4"
      },
      "source": [
        "* **Curva de Aprendizado**\n",
        "\n",
        "O trecho a seguir realiza o uso da função `learning_curve` da biblioteca Scikit-Learn para cálculos os dados para visualização da curva de aprendizagem dos modelos treinados nessa seção. Foi usado como pontuação a métrica acurácia, que demonstra o nível atingido por cada modelo à medida que são alteradas as quantidades de observações no conjunto de treinamento e validação."
      ]
    },
    {
      "cell_type": "code",
      "metadata": {
        "id": "r7sMMM0Hjtn7"
      },
      "source": [
        "#Biblioteca para cálculo da curva de aprendizado\n",
        "from sklearn.model_selection import learning_curve"
      ],
      "execution_count": 23,
      "outputs": []
    },
    {
      "cell_type": "markdown",
      "metadata": {
        "id": "T4iAgyMXpiWq"
      },
      "source": [
        "* **Curva de Aprendizado do Modelo AdaBoost**"
      ]
    },
    {
      "cell_type": "code",
      "metadata": {
        "id": "uFYFUIcjk1Cp"
      },
      "source": [
        "#Aplicação da função para comparação dos resultados de validação e treino\n",
        "qtds_exemplos, acc_treino, acc_val = learning_curve(adaB_clf,\n",
        "                                                        X_test,\n",
        "                                                        y_test,\n",
        "                                                        scoring='accuracy'\n",
        "                                                        )"
      ],
      "execution_count": 24,
      "outputs": []
    },
    {
      "cell_type": "code",
      "metadata": {
        "id": "wCBIWYTAqDek"
      },
      "source": [
        "#Cálculo dos scores baseado na média das rodadas\n",
        "acc_tA = np.mean(acc_treino, axis=1)\n",
        "acc_vA = np.mean(acc_val, axis=1)"
      ],
      "execution_count": 25,
      "outputs": []
    },
    {
      "cell_type": "markdown",
      "metadata": {
        "id": "2G6BD6myq9YW"
      },
      "source": [
        "* **Curva de Aprendizado do Modelo Gradient Boosting**"
      ]
    },
    {
      "cell_type": "code",
      "metadata": {
        "id": "vpfpG3tHq8wN"
      },
      "source": [
        "#Aplicação da função para comparação dos resultados de validação e treino\n",
        "qtds_exemplos, acc_treino, acc_val = learning_curve(adaB_clf,\n",
        "                                                        X_test,\n",
        "                                                        y_test,\n",
        "                                                        scoring='accuracy'\n",
        "                                                        )\n",
        "\n",
        "#Cálculo dos scores baseado na média das rodadas\n",
        "acc_tG = np.mean(acc_treino, axis=1)\n",
        "acc_vG = np.mean(acc_val, axis=1)"
      ],
      "execution_count": 26,
      "outputs": []
    },
    {
      "cell_type": "code",
      "metadata": {
        "colab": {
          "base_uri": "https://localhost:8080/",
          "height": 432
        },
        "id": "YqGAUkaNrok-",
        "outputId": "2bd0df92-8cfb-4ec8-db6a-d94b205b3cc9"
      },
      "source": [
        "fig = plt.figure(figsize=(20,6))\n",
        "fig.suptitle('Comparação das Curvas de Aprendizado', fontweight='bold')\n",
        "\n",
        "ax1 = fig.add_subplot(1,2,1)\n",
        "ax2 = fig.add_subplot(1,2,2)\n",
        "\n",
        "#Curva de aprendizado AdaBoost\n",
        "#=========================================\n",
        "ax1.plot(acc_tA, alpha=0.7)         #Treino\n",
        "ax1.plot(acc_vA, 'g--', alpha=0.7)  #Validação\n",
        "\n",
        "#Rótulos e legendas dos gráficos\n",
        "ax1.set_xlabel('Número de exemplos de treinamento', fontweight='bold')\n",
        "ax1.set_ylabel('Acurácia', fontweight='bold')\n",
        "ax1.set_title('Curva de Aprendizado: AdaBoost', fontweight='bold')\n",
        "ax1.grid()\n",
        "\n",
        "\n",
        "#Curva de aprendizado Gradient Boosting\n",
        "#=========================================\n",
        "ax2.plot(acc_tG, alpha=0.7)         #Treino\n",
        "ax2.plot(acc_vG, 'g--', alpha=0.7)  #Validação\n",
        "\n",
        "#Rótulos e legendas dos gráficos\n",
        "ax2.legend(['Treino', 'Validação'], loc='center left')\n",
        "ax2.set_xlabel('Número de exemplos de treinamento', fontweight='bold')\n",
        "ax2.set_title('Curva de Aprendizado: Gradient Boosting', fontweight='bold')\n",
        "ax2.grid()\n",
        "\n",
        "\n",
        "#Ajustes visuais finais\n",
        "#=========================================\n",
        "sns.despine()\n",
        "plt.subplots_adjust(wspace=0.08)\n",
        "plt.savefig('target/plot1.1.png')"
      ],
      "execution_count": 27,
      "outputs": [
        {
          "output_type": "display_data",
          "data": {
            "image/png": "[encoded data removed]",
            "text/plain": [
              "<Figure size 1440x432 with 2 Axes>"
            ]
          },
          "metadata": {
            "tags": [],
            "needs_background": "light"
          }
        }
      ]
    },
    {
      "cell_type": "markdown",
      "metadata": {
        "id": "GMYvoVTsyET1"
      },
      "source": [
        "* Aplicação dos modelos para predição e avaliação do escore com o conjunto de tests"
      ]
    },
    {
      "cell_type": "code",
      "metadata": {
        "colab": {
          "base_uri": "https://localhost:8080/"
        },
        "id": "xBMdt5xMyjAZ",
        "outputId": "e5417a5c-1e66-4d81-f911-990f5492dd5b"
      },
      "source": [
        "#AdaBoost\n",
        "#========================================\n",
        "\n",
        "#Uso dos modelos para predição\n",
        "y_pred_adaB = adaB_clf.predict(X_test)\n",
        "\n",
        "#Visualização das primeiras observações da predição efetuada\n",
        "y_pred_adaB[:5]"
      ],
      "execution_count": 28,
      "outputs": [
        {
          "output_type": "execute_result",
          "data": {
            "text/plain": [
              "array([0, 1, 1, 1, 0])"
            ]
          },
          "metadata": {
            "tags": []
          },
          "execution_count": 28
        }
      ]
    },
    {
      "cell_type": "code",
      "metadata": {
        "colab": {
          "base_uri": "https://localhost:8080/"
        },
        "id": "86I_WI8dyqtA",
        "outputId": "8da19fa5-bfa4-43c5-f56e-70f654cc43df"
      },
      "source": [
        "#Avaliação do modelo\n",
        "print(classification_report(y_test, y_pred_adaB))"
      ],
      "execution_count": 29,
      "outputs": [
        {
          "output_type": "stream",
          "text": [
            "              precision    recall  f1-score   support\n",
            "\n",
            "           0       0.85      0.90      0.88       306\n",
            "           1       0.88      0.82      0.85       271\n",
            "\n",
            "    accuracy                           0.86       577\n",
            "   macro avg       0.87      0.86      0.86       577\n",
            "weighted avg       0.87      0.86      0.86       577\n",
            "\n"
          ],
          "name": "stdout"
        }
      ]
    },
    {
      "cell_type": "code",
      "metadata": {
        "colab": {
          "base_uri": "https://localhost:8080/"
        },
        "id": "3wLrxojMyD2n",
        "outputId": "7f31b77b-6972-47e7-a93b-567e434fbab5"
      },
      "source": [
        "#Gradient Boosting\n",
        "#========================================\n",
        "\n",
        "#Uso dos modelos para predição\n",
        "y_pred_gdB = gdB_clf.predict(X_test)\n",
        "\n",
        "#Visualização das primeiras observações da predição efetuada\n",
        "y_pred_gdB[:5]"
      ],
      "execution_count": 30,
      "outputs": [
        {
          "output_type": "execute_result",
          "data": {
            "text/plain": [
              "array([0, 1, 1, 1, 0])"
            ]
          },
          "metadata": {
            "tags": []
          },
          "execution_count": 30
        }
      ]
    },
    {
      "cell_type": "code",
      "metadata": {
        "colab": {
          "base_uri": "https://localhost:8080/"
        },
        "id": "j9LI5bbuyL9R",
        "outputId": "af56db13-c346-459a-e467-bd3e4627075b"
      },
      "source": [
        "#Avaliação do modelo\n",
        "print(classification_report(y_test, y_pred_gdB))"
      ],
      "execution_count": 31,
      "outputs": [
        {
          "output_type": "stream",
          "text": [
            "              precision    recall  f1-score   support\n",
            "\n",
            "           0       0.85      0.93      0.89       306\n",
            "           1       0.91      0.82      0.86       271\n",
            "\n",
            "    accuracy                           0.88       577\n",
            "   macro avg       0.88      0.87      0.88       577\n",
            "weighted avg       0.88      0.88      0.88       577\n",
            "\n"
          ],
          "name": "stdout"
        }
      ]
    },
    {
      "cell_type": "markdown",
      "metadata": {
        "id": "s3zQ4hHIC0dq"
      },
      "source": [
        "##1.2 Bagging"
      ]
    },
    {
      "cell_type": "markdown",
      "metadata": {
        "id": "pyEcDtSr_liV"
      },
      "source": [
        ""
      ]
    },
    {
      "cell_type": "code",
      "metadata": {
        "id": "9_oclotq_lp_"
      },
      "source": [
        ""
      ],
      "execution_count": 31,
      "outputs": []
    },
    {
      "cell_type": "markdown",
      "metadata": {
        "id": "nJZsyV7k-GQL"
      },
      "source": [
        "#2 Sistemas de Recomendação"
      ]
    },
    {
      "cell_type": "markdown",
      "metadata": {
        "id": "vLl6TlaL_2kR"
      },
      "source": [
        "##2.1 Algoritmo de aprendizagem de filtragem colaborativa"
      ]
    },
    {
      "cell_type": "markdown",
      "metadata": {
        "id": "r7BUVlTq_8EL"
      },
      "source": [
        "###2.1.1 Função de custo da filtragem colaborativa"
      ]
    },
    {
      "cell_type": "markdown",
      "metadata": {
        "id": "F185VhNVACW2"
      },
      "source": [
        ""
      ]
    },
    {
      "cell_type": "code",
      "metadata": {
        "id": "0LMVnMRj_2tD"
      },
      "source": [
        ""
      ],
      "execution_count": 31,
      "outputs": []
    },
    {
      "cell_type": "markdown",
      "metadata": {
        "id": "SagCHGvmADNp"
      },
      "source": [
        "###2.1.2 Gradiente de filtragem colaborativa"
      ]
    },
    {
      "cell_type": "markdown",
      "metadata": {
        "id": "JzA8W-83AHdi"
      },
      "source": [
        ""
      ]
    },
    {
      "cell_type": "code",
      "metadata": {
        "id": "1poYjZQCAHl6"
      },
      "source": [
        ""
      ],
      "execution_count": 31,
      "outputs": []
    },
    {
      "cell_type": "markdown",
      "metadata": {
        "id": "gBhdz7qRAIAO"
      },
      "source": [
        "##2.2 Aprendizado de Recomendações para Filmes"
      ]
    },
    {
      "cell_type": "markdown",
      "metadata": {
        "id": "r8Y96-EnAK3J"
      },
      "source": [
        ""
      ]
    },
    {
      "cell_type": "code",
      "metadata": {
        "id": "K2dTkB0OAK-_"
      },
      "source": [
        ""
      ],
      "execution_count": 31,
      "outputs": []
    },
    {
      "cell_type": "markdown",
      "metadata": {
        "id": "k9PFjTon-J-g"
      },
      "source": [
        "#3 Redes Neurais Artificiais"
      ]
    },
    {
      "cell_type": "markdown",
      "metadata": {
        "id": "b_SnVxgSAisn"
      },
      "source": [
        "##3.1 Redes MLP"
      ]
    },
    {
      "cell_type": "markdown",
      "metadata": {
        "id": "nitTMRM9_u5J"
      },
      "source": [
        ""
      ]
    },
    {
      "cell_type": "code",
      "metadata": {
        "id": "kDocqWxO_uSc"
      },
      "source": [
        ""
      ],
      "execution_count": 31,
      "outputs": []
    },
    {
      "cell_type": "markdown",
      "metadata": {
        "id": "VkmzMAw7Alyp"
      },
      "source": [
        "##3.2 Redes Convolucionais"
      ]
    },
    {
      "cell_type": "markdown",
      "metadata": {
        "id": "d6Ast5ZsApI4"
      },
      "source": [
        ""
      ]
    },
    {
      "cell_type": "code",
      "metadata": {
        "id": "8ImFspvNApQB"
      },
      "source": [
        ""
      ],
      "execution_count": 31,
      "outputs": []
    },
    {
      "cell_type": "markdown",
      "metadata": {
        "id": "8kwife5G5woO"
      },
      "source": [
        "#Referências"
      ]
    },
    {
      "cell_type": "markdown",
      "metadata": {
        "id": "N5OVMr0b5ziU"
      },
      "source": [
        "**Referências**\n",
        "\n",
        "McKinney, Wes (2018). **Python para Análise de Dados**: tratamento de dados com pandas, numpy e iPython. Traduzido por Lúcia A. Kinoshita. Novatec.\n",
        "\n",
        "Géron, Aurélien (2019). **Mãos à Obra Aprendizagem de Máquina com Scikit-Learn & TensorFlow:** Conceitos, ferramentas e técnicas para a construção de sistemas inteligentes. Traduzido por Rafael Contatori. Alta Books.\n",
        "\n",
        "Grus, Joel (2016). **Data Science do Zero:** Primeiras regras com Python. Traduzido por Welington Nascimento. Alta Books.\n",
        "\n",
        "---\n",
        "\n",
        "**Algoritmos e conjuntos de dados:**\n",
        "\n",
        "* Bibliotecas personalizadas e conjuntos de dados usados na análise: https://github.com/MLRG-CEFET-RJ/ml-class/tree/master/ml-t3\n",
        "* Códigos complementares usados na análise: https://github.com/janiosl/python.ds/tree/master/ml/T1\n",
        "* Códigos complementares usados na análise: https://github.com/janiosl/python.ds/tree/master/ml/T2\n",
        "* Métodos de aprendizado por comitê: https://github.com/janiosl/python.ds/tree/master/ml/ensemble\n",
        "* Florestas Aleatórias: https://github.com/janiosl/python.ds/tree/master/ml/randomForest\n",
        "* Métodos de aprendizado de comitê e florestas aleatórias: https://github.com/ageron/handson-ml2/blob/master/07_ensemble_learning_and_random_forests.ipynb\n",
        "* Métodos de sistemas recomendadores: https://github.com/janiosl/python.ds/tree/master/ml/recommender"
      ]
    }
  ]
}