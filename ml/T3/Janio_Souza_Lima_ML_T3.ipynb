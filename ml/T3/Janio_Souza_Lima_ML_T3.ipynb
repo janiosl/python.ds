{
  "nbformat": 4,
  "nbformat_minor": 0,
  "metadata": {
    "colab": {
      "name": "Janio_Souza_Lima_ML-T3.ipynb",
      "provenance": [],
      "collapsed_sections": [],
      "toc_visible": true,
      "authorship_tag": "ABX9TyMK0cKiVLO8tKItkkAdgsHB",
      "include_colab_link": true
    },
    "kernelspec": {
      "name": "python3",
      "display_name": "Python 3"
    }
  },
  "cells": [
    {
      "cell_type": "markdown",
      "metadata": {
        "id": "view-in-github",
        "colab_type": "text"
      },
      "source": [
        "<a href=\"https://colab.research.google.com/github/janiosl/python.ds/blob/master/ml/T3/Janio_Souza_Lima_ML_T3.ipynb\" target=\"_parent\"><img src=\"https://colab.research.google.com/assets/colab-badge.svg\" alt=\"Open In Colab\"/></a>"
      ]
    },
    {
      "cell_type": "markdown",
      "metadata": {
        "id": "ptkA5dKWWJVL"
      },
      "source": [
        "#**CEFET-RJ**\n",
        "\n",
        "**Programa de Pós-Gradução em Ciência da Computação - PPCIC**\n",
        "\n",
        "**Mestrado em Ciência da Computação**\n",
        "\n",
        "**Disciplina: Aprendizado de Máquina - 2021/1**\n",
        "\n",
        "* **Trabalho 03**\n",
        "* **Professor**: Eduardo Bezerra\n",
        "* **Aluno**: Janio de Souza Lima"
      ]
    },
    {
      "cell_type": "markdown",
      "metadata": {
        "id": "4anwwi9AXjEF"
      },
      "source": [
        "##Preparação do ambiente"
      ]
    },
    {
      "cell_type": "markdown",
      "metadata": {
        "id": "BfzO6DbX6OKD"
      },
      "source": [
        "Importação de bibliotecas"
      ]
    },
    {
      "cell_type": "code",
      "metadata": {
        "id": "WjU2VUQuXk88"
      },
      "source": [
        "#Importação de bibliotecas\n",
        "import pandas as pd\n",
        "import numpy as np\n",
        "import seaborn as sns\n",
        "from matplotlib import pyplot as plt\n",
        "import scipy.io"
      ],
      "execution_count": 1,
      "outputs": []
    },
    {
      "cell_type": "markdown",
      "metadata": {
        "id": "yE_ovAy36XVL"
      },
      "source": [
        "Carga de arquivos para ambiente (apenas para uso deste notebook no Google Colab)"
      ]
    },
    {
      "cell_type": "code",
      "metadata": {
        "id": "d_Y_4EBO6DY3"
      },
      "source": [
        "from google.colab import drive"
      ],
      "execution_count": 2,
      "outputs": []
    },
    {
      "cell_type": "code",
      "metadata": {
        "colab": {
          "base_uri": "https://localhost:8080/"
        },
        "id": "7uZ-awNx88p4",
        "outputId": "894dd1cf-26bf-472a-cec9-d82be5fcaf8d"
      },
      "source": [
        "#Conecta o Google Colab ao Google Drive\n",
        "drive.mount('/content/drive')"
      ],
      "execution_count": 3,
      "outputs": [
        {
          "output_type": "stream",
          "text": [
            "Drive already mounted at /content/drive; to attempt to forcibly remount, call drive.mount(\"/content/drive\", force_remount=True).\n"
          ],
          "name": "stdout"
        }
      ]
    },
    {
      "cell_type": "markdown",
      "metadata": {
        "id": "F4rSnChkMHdG"
      },
      "source": [
        "A etapa anterior apenas conecta ao seu Google Drive, após rodá-la e autenticar a sessão usando o link da API da Google, o código abaixo deve ser executado para apontar para o diretório de trabalho no qual estão gravados os códigos e bibliotecas personalziadas que serão usados na análise.\n",
        "\n",
        "A pasta com os dados deve ser gravada neste mesmo diretório com o nome *data*, assim os trechos nos quais os conjuntos de dados são carregados rodarão sem problemas, mas sempre que possível os dados serão carregados diretamente do GitHub no repositório criado pelo professor da disciplina."
      ]
    },
    {
      "cell_type": "code",
      "metadata": {
        "id": "r0QvKrwd9QmG"
      },
      "source": [
        "#Define o path dos códigos e dados como diretório de trabalho atual\n",
        "import os\n",
        "dir = '/content/drive/My Drive/Mestrado PPCIC/03. Curso/3. Aprendizado/t3'\n",
        "os.chdir(dir)"
      ],
      "execution_count": 4,
      "outputs": []
    },
    {
      "cell_type": "markdown",
      "metadata": {
        "id": "w3hrc_yS-BsI"
      },
      "source": [
        "#1 Aprendizado de Comitês"
      ]
    },
    {
      "cell_type": "markdown",
      "metadata": {
        "id": "RA9vM5QGM3JJ"
      },
      "source": [
        "##Análise preliminar dos dados"
      ]
    },
    {
      "cell_type": "markdown",
      "metadata": {
        "id": "es-81LYbPAh6"
      },
      "source": [
        "Carga e organização dos dados de treino e teste\n",
        "\n",
        "---"
      ]
    },
    {
      "cell_type": "markdown",
      "metadata": {
        "id": "S6JazEazUiXU"
      },
      "source": [
        "Conjunto de dados analisado:\n",
        "\n",
        "![dataset1](https://github.com/janiosl/python.ds/blob/master/ml/T3/data/dataset1.PNG?raw=true)\n",
        "\n",
        "*Fonte: Tabela copiada de Eduardo Bezerra, enunciado desse trabalho (Trabalho 03).*\n",
        "\n",
        "O conjunto de dados está dividido em dois arquivos. Um conjunto de treino com 1500 observações e um de testes com 577 observações. Para realização das análises dessa seção, quando necessário, o conjunto de originalmente separado para treino foi novamente dividido para uso como treino e validação na proporção de 80% para treino e 20% para validação."
      ]
    },
    {
      "cell_type": "code",
      "metadata": {
        "id": "ZPcS58MpPNJQ"
      },
      "source": [
        "#Definção dos títulos das colunas\n",
        "headers = ['ESCT', 'NDEP', 'RENDA', 'TIPOR', 'VBEM', 'NPARC',\n",
        "           'VPARC', 'TEL', 'IDADE', 'RESMS', 'ENTRADA', 'CLASSE']"
      ],
      "execution_count": 5,
      "outputs": []
    },
    {
      "cell_type": "code",
      "metadata": {
        "colab": {
          "base_uri": "https://localhost:8080/",
          "height": 204
        },
        "id": "VX72leUIM_Um",
        "outputId": "66f771db-2238-4f33-c326-99a2067ca1e3"
      },
      "source": [
        "#Carga do conjunto de treino\n",
        "arquivo = 'https://raw.githubusercontent.com/MLRG-CEFET-RJ/ml-class/master/ml-t3/datasets/credtrain.txt'\n",
        "data_train = pd.read_csv(arquivo, sep='\\t', header=None, names=headers)\n",
        "\n",
        "#Conferência dos primeiros registros do conjunto de dados\n",
        "data_train.head()"
      ],
      "execution_count": 6,
      "outputs": [
        {
          "output_type": "execute_result",
          "data": {
            "text/html": [
              "<div>\n",
              "<style scoped>\n",
              "    .dataframe tbody tr th:only-of-type {\n",
              "        vertical-align: middle;\n",
              "    }\n",
              "\n",
              "    .dataframe tbody tr th {\n",
              "        vertical-align: top;\n",
              "    }\n",
              "\n",
              "    .dataframe thead th {\n",
              "        text-align: right;\n",
              "    }\n",
              "</style>\n",
              "<table border=\"1\" class=\"dataframe\">\n",
              "  <thead>\n",
              "    <tr style=\"text-align: right;\">\n",
              "      <th></th>\n",
              "      <th>ESCT</th>\n",
              "      <th>NDEP</th>\n",
              "      <th>RENDA</th>\n",
              "      <th>TIPOR</th>\n",
              "      <th>VBEM</th>\n",
              "      <th>NPARC</th>\n",
              "      <th>VPARC</th>\n",
              "      <th>TEL</th>\n",
              "      <th>IDADE</th>\n",
              "      <th>RESMS</th>\n",
              "      <th>ENTRADA</th>\n",
              "      <th>CLASSE</th>\n",
              "    </tr>\n",
              "  </thead>\n",
              "  <tbody>\n",
              "    <tr>\n",
              "      <th>0</th>\n",
              "      <td>1</td>\n",
              "      <td>0</td>\n",
              "      <td>360</td>\n",
              "      <td>0</td>\n",
              "      <td>313</td>\n",
              "      <td>9</td>\n",
              "      <td>52</td>\n",
              "      <td>0</td>\n",
              "      <td>25</td>\n",
              "      <td>48</td>\n",
              "      <td>0</td>\n",
              "      <td>1</td>\n",
              "    </tr>\n",
              "    <tr>\n",
              "      <th>1</th>\n",
              "      <td>0</td>\n",
              "      <td>0</td>\n",
              "      <td>350</td>\n",
              "      <td>1</td>\n",
              "      <td>468</td>\n",
              "      <td>10</td>\n",
              "      <td>65</td>\n",
              "      <td>0</td>\n",
              "      <td>33</td>\n",
              "      <td>6</td>\n",
              "      <td>0</td>\n",
              "      <td>1</td>\n",
              "    </tr>\n",
              "    <tr>\n",
              "      <th>2</th>\n",
              "      <td>0</td>\n",
              "      <td>0</td>\n",
              "      <td>1100</td>\n",
              "      <td>0</td>\n",
              "      <td>829</td>\n",
              "      <td>9</td>\n",
              "      <td>125</td>\n",
              "      <td>0</td>\n",
              "      <td>56</td>\n",
              "      <td>48</td>\n",
              "      <td>0</td>\n",
              "      <td>1</td>\n",
              "    </tr>\n",
              "    <tr>\n",
              "      <th>3</th>\n",
              "      <td>0</td>\n",
              "      <td>0</td>\n",
              "      <td>3000</td>\n",
              "      <td>0</td>\n",
              "      <td>552</td>\n",
              "      <td>12</td>\n",
              "      <td>76</td>\n",
              "      <td>1</td>\n",
              "      <td>31</td>\n",
              "      <td>60</td>\n",
              "      <td>0</td>\n",
              "      <td>1</td>\n",
              "    </tr>\n",
              "    <tr>\n",
              "      <th>4</th>\n",
              "      <td>1</td>\n",
              "      <td>0</td>\n",
              "      <td>1000</td>\n",
              "      <td>0</td>\n",
              "      <td>809</td>\n",
              "      <td>12</td>\n",
              "      <td>111</td>\n",
              "      <td>0</td>\n",
              "      <td>24</td>\n",
              "      <td>7</td>\n",
              "      <td>0</td>\n",
              "      <td>1</td>\n",
              "    </tr>\n",
              "  </tbody>\n",
              "</table>\n",
              "</div>"
            ],
            "text/plain": [
              "   ESCT  NDEP  RENDA  TIPOR  VBEM  ...  TEL  IDADE  RESMS  ENTRADA  CLASSE\n",
              "0     1     0    360      0   313  ...    0     25     48        0       1\n",
              "1     0     0    350      1   468  ...    0     33      6        0       1\n",
              "2     0     0   1100      0   829  ...    0     56     48        0       1\n",
              "3     0     0   3000      0   552  ...    1     31     60        0       1\n",
              "4     1     0   1000      0   809  ...    0     24      7        0       1\n",
              "\n",
              "[5 rows x 12 columns]"
            ]
          },
          "metadata": {
            "tags": []
          },
          "execution_count": 6
        }
      ]
    },
    {
      "cell_type": "code",
      "metadata": {
        "colab": {
          "base_uri": "https://localhost:8080/",
          "height": 297
        },
        "id": "IZwNF-BpQCVB",
        "outputId": "d8f173d5-e24c-49b5-ef60-20c09baee524"
      },
      "source": [
        "#Estatísticas descritivas do conjunto de treino\n",
        "data_train.describe()"
      ],
      "execution_count": 7,
      "outputs": [
        {
          "output_type": "execute_result",
          "data": {
            "text/html": [
              "<div>\n",
              "<style scoped>\n",
              "    .dataframe tbody tr th:only-of-type {\n",
              "        vertical-align: middle;\n",
              "    }\n",
              "\n",
              "    .dataframe tbody tr th {\n",
              "        vertical-align: top;\n",
              "    }\n",
              "\n",
              "    .dataframe thead th {\n",
              "        text-align: right;\n",
              "    }\n",
              "</style>\n",
              "<table border=\"1\" class=\"dataframe\">\n",
              "  <thead>\n",
              "    <tr style=\"text-align: right;\">\n",
              "      <th></th>\n",
              "      <th>ESCT</th>\n",
              "      <th>NDEP</th>\n",
              "      <th>RENDA</th>\n",
              "      <th>TIPOR</th>\n",
              "      <th>VBEM</th>\n",
              "      <th>NPARC</th>\n",
              "      <th>VPARC</th>\n",
              "      <th>TEL</th>\n",
              "      <th>IDADE</th>\n",
              "      <th>RESMS</th>\n",
              "      <th>ENTRADA</th>\n",
              "      <th>CLASSE</th>\n",
              "    </tr>\n",
              "  </thead>\n",
              "  <tbody>\n",
              "    <tr>\n",
              "      <th>count</th>\n",
              "      <td>1500.000000</td>\n",
              "      <td>1500.000000</td>\n",
              "      <td>1500.00000</td>\n",
              "      <td>1500.000000</td>\n",
              "      <td>1500.000000</td>\n",
              "      <td>1500.000000</td>\n",
              "      <td>1500.000000</td>\n",
              "      <td>1500.000000</td>\n",
              "      <td>1500.000000</td>\n",
              "      <td>1500.000000</td>\n",
              "      <td>1500.000000</td>\n",
              "      <td>1500.000000</td>\n",
              "    </tr>\n",
              "    <tr>\n",
              "      <th>mean</th>\n",
              "      <td>0.512000</td>\n",
              "      <td>0.126667</td>\n",
              "      <td>984.51200</td>\n",
              "      <td>0.445333</td>\n",
              "      <td>562.031333</td>\n",
              "      <td>8.392667</td>\n",
              "      <td>102.247333</td>\n",
              "      <td>0.134000</td>\n",
              "      <td>41.210667</td>\n",
              "      <td>31.528667</td>\n",
              "      <td>32.255333</td>\n",
              "      <td>0.476667</td>\n",
              "    </tr>\n",
              "    <tr>\n",
              "      <th>std</th>\n",
              "      <td>0.659909</td>\n",
              "      <td>0.572865</td>\n",
              "      <td>905.53292</td>\n",
              "      <td>0.497168</td>\n",
              "      <td>265.690646</td>\n",
              "      <td>3.609131</td>\n",
              "      <td>62.987325</td>\n",
              "      <td>0.340766</td>\n",
              "      <td>13.202266</td>\n",
              "      <td>52.662099</td>\n",
              "      <td>94.307614</td>\n",
              "      <td>0.499622</td>\n",
              "    </tr>\n",
              "    <tr>\n",
              "      <th>min</th>\n",
              "      <td>0.000000</td>\n",
              "      <td>0.000000</td>\n",
              "      <td>300.00000</td>\n",
              "      <td>0.000000</td>\n",
              "      <td>300.000000</td>\n",
              "      <td>1.000000</td>\n",
              "      <td>50.000000</td>\n",
              "      <td>0.000000</td>\n",
              "      <td>19.000000</td>\n",
              "      <td>0.000000</td>\n",
              "      <td>0.000000</td>\n",
              "      <td>0.000000</td>\n",
              "    </tr>\n",
              "    <tr>\n",
              "      <th>25%</th>\n",
              "      <td>0.000000</td>\n",
              "      <td>0.000000</td>\n",
              "      <td>467.50000</td>\n",
              "      <td>0.000000</td>\n",
              "      <td>410.000000</td>\n",
              "      <td>6.000000</td>\n",
              "      <td>66.000000</td>\n",
              "      <td>0.000000</td>\n",
              "      <td>31.000000</td>\n",
              "      <td>6.000000</td>\n",
              "      <td>0.000000</td>\n",
              "      <td>0.000000</td>\n",
              "    </tr>\n",
              "    <tr>\n",
              "      <th>50%</th>\n",
              "      <td>0.000000</td>\n",
              "      <td>0.000000</td>\n",
              "      <td>650.00000</td>\n",
              "      <td>0.000000</td>\n",
              "      <td>490.000000</td>\n",
              "      <td>10.000000</td>\n",
              "      <td>83.000000</td>\n",
              "      <td>0.000000</td>\n",
              "      <td>39.000000</td>\n",
              "      <td>6.000000</td>\n",
              "      <td>0.000000</td>\n",
              "      <td>0.000000</td>\n",
              "    </tr>\n",
              "    <tr>\n",
              "      <th>75%</th>\n",
              "      <td>1.000000</td>\n",
              "      <td>0.000000</td>\n",
              "      <td>1200.00000</td>\n",
              "      <td>1.000000</td>\n",
              "      <td>618.000000</td>\n",
              "      <td>10.000000</td>\n",
              "      <td>118.000000</td>\n",
              "      <td>0.000000</td>\n",
              "      <td>52.000000</td>\n",
              "      <td>48.000000</td>\n",
              "      <td>0.000000</td>\n",
              "      <td>1.000000</td>\n",
              "    </tr>\n",
              "    <tr>\n",
              "      <th>max</th>\n",
              "      <td>3.000000</td>\n",
              "      <td>7.000000</td>\n",
              "      <td>8000.00000</td>\n",
              "      <td>1.000000</td>\n",
              "      <td>4000.000000</td>\n",
              "      <td>24.000000</td>\n",
              "      <td>711.000000</td>\n",
              "      <td>1.000000</td>\n",
              "      <td>70.000000</td>\n",
              "      <td>420.000000</td>\n",
              "      <td>1300.000000</td>\n",
              "      <td>1.000000</td>\n",
              "    </tr>\n",
              "  </tbody>\n",
              "</table>\n",
              "</div>"
            ],
            "text/plain": [
              "              ESCT         NDEP  ...      ENTRADA       CLASSE\n",
              "count  1500.000000  1500.000000  ...  1500.000000  1500.000000\n",
              "mean      0.512000     0.126667  ...    32.255333     0.476667\n",
              "std       0.659909     0.572865  ...    94.307614     0.499622\n",
              "min       0.000000     0.000000  ...     0.000000     0.000000\n",
              "25%       0.000000     0.000000  ...     0.000000     0.000000\n",
              "50%       0.000000     0.000000  ...     0.000000     0.000000\n",
              "75%       1.000000     0.000000  ...     0.000000     1.000000\n",
              "max       3.000000     7.000000  ...  1300.000000     1.000000\n",
              "\n",
              "[8 rows x 12 columns]"
            ]
          },
          "metadata": {
            "tags": []
          },
          "execution_count": 7
        }
      ]
    },
    {
      "cell_type": "code",
      "metadata": {
        "id": "4IY8hOfQQbrx"
      },
      "source": [
        "#Transoformação dos atributos e da classe alvo em matrizes\n",
        "X_train_ = np.array(data_train.iloc[:, 0:11])\n",
        "y_train_ = np.array(data_train['CLASSE'])"
      ],
      "execution_count": 8,
      "outputs": []
    },
    {
      "cell_type": "code",
      "metadata": {
        "colab": {
          "base_uri": "https://localhost:8080/"
        },
        "id": "1AaT68ogQuni",
        "outputId": "18b65e52-a3f1-40d1-d1e6-8f1527635f82"
      },
      "source": [
        "#Conferência dos primeiros registros dos atributos\n",
        "X_train_[:5]"
      ],
      "execution_count": 9,
      "outputs": [
        {
          "output_type": "execute_result",
          "data": {
            "text/plain": [
              "array([[   1,    0,  360,    0,  313,    9,   52,    0,   25,   48,    0],\n",
              "       [   0,    0,  350,    1,  468,   10,   65,    0,   33,    6,    0],\n",
              "       [   0,    0, 1100,    0,  829,    9,  125,    0,   56,   48,    0],\n",
              "       [   0,    0, 3000,    0,  552,   12,   76,    1,   31,   60,    0],\n",
              "       [   1,    0, 1000,    0,  809,   12,  111,    0,   24,    7,    0]])"
            ]
          },
          "metadata": {
            "tags": []
          },
          "execution_count": 9
        }
      ]
    },
    {
      "cell_type": "code",
      "metadata": {
        "colab": {
          "base_uri": "https://localhost:8080/"
        },
        "id": "4XwcqggwRfQ4",
        "outputId": "90145ed8-0ade-471c-a8db-de49778a8514"
      },
      "source": [
        "#Conferência dos primeiros registros do classe alvo\n",
        "y_train_[:5]"
      ],
      "execution_count": 10,
      "outputs": [
        {
          "output_type": "execute_result",
          "data": {
            "text/plain": [
              "array([1, 1, 1, 1, 1])"
            ]
          },
          "metadata": {
            "tags": []
          },
          "execution_count": 10
        }
      ]
    },
    {
      "cell_type": "code",
      "metadata": {
        "colab": {
          "base_uri": "https://localhost:8080/"
        },
        "id": "D0PEbt01Q3SI",
        "outputId": "de474154-b8fc-4dfb-fcf9-ca0249c4c460"
      },
      "source": [
        "#Conferência das dimensões das matrizes\n",
        "print(X_train_.shape, y_train_.shape)"
      ],
      "execution_count": 11,
      "outputs": [
        {
          "output_type": "stream",
          "text": [
            "(1500, 11) (1500,)\n"
          ],
          "name": "stdout"
        }
      ]
    },
    {
      "cell_type": "code",
      "metadata": {
        "colab": {
          "base_uri": "https://localhost:8080/",
          "height": 204
        },
        "id": "bcGvZXRKNYqw",
        "outputId": "0b2588b4-4f55-47c9-e08f-b63dd948db4f"
      },
      "source": [
        "#Carga do conjunto de treino\n",
        "arquivo = 'https://raw.githubusercontent.com/MLRG-CEFET-RJ/ml-class/master/ml-t3/datasets/credtest.txt'\n",
        "data_test = pd.read_csv(arquivo, sep='\\t', header=None, names=headers)\n",
        "\n",
        "#Conferência dos primeiros registros do conjunto de dados\n",
        "data_test.head()"
      ],
      "execution_count": 12,
      "outputs": [
        {
          "output_type": "execute_result",
          "data": {
            "text/html": [
              "<div>\n",
              "<style scoped>\n",
              "    .dataframe tbody tr th:only-of-type {\n",
              "        vertical-align: middle;\n",
              "    }\n",
              "\n",
              "    .dataframe tbody tr th {\n",
              "        vertical-align: top;\n",
              "    }\n",
              "\n",
              "    .dataframe thead th {\n",
              "        text-align: right;\n",
              "    }\n",
              "</style>\n",
              "<table border=\"1\" class=\"dataframe\">\n",
              "  <thead>\n",
              "    <tr style=\"text-align: right;\">\n",
              "      <th></th>\n",
              "      <th>ESCT</th>\n",
              "      <th>NDEP</th>\n",
              "      <th>RENDA</th>\n",
              "      <th>TIPOR</th>\n",
              "      <th>VBEM</th>\n",
              "      <th>NPARC</th>\n",
              "      <th>VPARC</th>\n",
              "      <th>TEL</th>\n",
              "      <th>IDADE</th>\n",
              "      <th>RESMS</th>\n",
              "      <th>ENTRADA</th>\n",
              "      <th>CLASSE</th>\n",
              "    </tr>\n",
              "  </thead>\n",
              "  <tbody>\n",
              "    <tr>\n",
              "      <th>0</th>\n",
              "      <td>0</td>\n",
              "      <td>2</td>\n",
              "      <td>500</td>\n",
              "      <td>1</td>\n",
              "      <td>618</td>\n",
              "      <td>10</td>\n",
              "      <td>85</td>\n",
              "      <td>0</td>\n",
              "      <td>36</td>\n",
              "      <td>6</td>\n",
              "      <td>0</td>\n",
              "      <td>0</td>\n",
              "    </tr>\n",
              "    <tr>\n",
              "      <th>1</th>\n",
              "      <td>1</td>\n",
              "      <td>0</td>\n",
              "      <td>813</td>\n",
              "      <td>0</td>\n",
              "      <td>552</td>\n",
              "      <td>4</td>\n",
              "      <td>119</td>\n",
              "      <td>0</td>\n",
              "      <td>43</td>\n",
              "      <td>48</td>\n",
              "      <td>119</td>\n",
              "      <td>1</td>\n",
              "    </tr>\n",
              "    <tr>\n",
              "      <th>2</th>\n",
              "      <td>3</td>\n",
              "      <td>0</td>\n",
              "      <td>350</td>\n",
              "      <td>0</td>\n",
              "      <td>488</td>\n",
              "      <td>12</td>\n",
              "      <td>66</td>\n",
              "      <td>0</td>\n",
              "      <td>43</td>\n",
              "      <td>0</td>\n",
              "      <td>0</td>\n",
              "      <td>1</td>\n",
              "    </tr>\n",
              "    <tr>\n",
              "      <th>3</th>\n",
              "      <td>1</td>\n",
              "      <td>0</td>\n",
              "      <td>1530</td>\n",
              "      <td>0</td>\n",
              "      <td>381</td>\n",
              "      <td>1</td>\n",
              "      <td>398</td>\n",
              "      <td>0</td>\n",
              "      <td>28</td>\n",
              "      <td>48</td>\n",
              "      <td>0</td>\n",
              "      <td>1</td>\n",
              "    </tr>\n",
              "    <tr>\n",
              "      <th>4</th>\n",
              "      <td>0</td>\n",
              "      <td>0</td>\n",
              "      <td>688</td>\n",
              "      <td>1</td>\n",
              "      <td>396</td>\n",
              "      <td>10</td>\n",
              "      <td>60</td>\n",
              "      <td>0</td>\n",
              "      <td>49</td>\n",
              "      <td>72</td>\n",
              "      <td>0</td>\n",
              "      <td>1</td>\n",
              "    </tr>\n",
              "  </tbody>\n",
              "</table>\n",
              "</div>"
            ],
            "text/plain": [
              "   ESCT  NDEP  RENDA  TIPOR  VBEM  ...  TEL  IDADE  RESMS  ENTRADA  CLASSE\n",
              "0     0     2    500      1   618  ...    0     36      6        0       0\n",
              "1     1     0    813      0   552  ...    0     43     48      119       1\n",
              "2     3     0    350      0   488  ...    0     43      0        0       1\n",
              "3     1     0   1530      0   381  ...    0     28     48        0       1\n",
              "4     0     0    688      1   396  ...    0     49     72        0       1\n",
              "\n",
              "[5 rows x 12 columns]"
            ]
          },
          "metadata": {
            "tags": []
          },
          "execution_count": 12
        }
      ]
    },
    {
      "cell_type": "code",
      "metadata": {
        "colab": {
          "base_uri": "https://localhost:8080/",
          "height": 297
        },
        "id": "rUyFph5rQFlI",
        "outputId": "7850c759-c48c-491f-cc24-95303321ff2d"
      },
      "source": [
        "#Estatísticas descritivas do conjunto de treino\n",
        "data_test.describe()"
      ],
      "execution_count": 13,
      "outputs": [
        {
          "output_type": "execute_result",
          "data": {
            "text/html": [
              "<div>\n",
              "<style scoped>\n",
              "    .dataframe tbody tr th:only-of-type {\n",
              "        vertical-align: middle;\n",
              "    }\n",
              "\n",
              "    .dataframe tbody tr th {\n",
              "        vertical-align: top;\n",
              "    }\n",
              "\n",
              "    .dataframe thead th {\n",
              "        text-align: right;\n",
              "    }\n",
              "</style>\n",
              "<table border=\"1\" class=\"dataframe\">\n",
              "  <thead>\n",
              "    <tr style=\"text-align: right;\">\n",
              "      <th></th>\n",
              "      <th>ESCT</th>\n",
              "      <th>NDEP</th>\n",
              "      <th>RENDA</th>\n",
              "      <th>TIPOR</th>\n",
              "      <th>VBEM</th>\n",
              "      <th>NPARC</th>\n",
              "      <th>VPARC</th>\n",
              "      <th>TEL</th>\n",
              "      <th>IDADE</th>\n",
              "      <th>RESMS</th>\n",
              "      <th>ENTRADA</th>\n",
              "      <th>CLASSE</th>\n",
              "    </tr>\n",
              "  </thead>\n",
              "  <tbody>\n",
              "    <tr>\n",
              "      <th>count</th>\n",
              "      <td>577.000000</td>\n",
              "      <td>577.000000</td>\n",
              "      <td>577.000000</td>\n",
              "      <td>577.000000</td>\n",
              "      <td>577.000000</td>\n",
              "      <td>577.000000</td>\n",
              "      <td>577.000000</td>\n",
              "      <td>577.000000</td>\n",
              "      <td>577.000000</td>\n",
              "      <td>577.000000</td>\n",
              "      <td>577.000000</td>\n",
              "      <td>577.000000</td>\n",
              "    </tr>\n",
              "    <tr>\n",
              "      <th>mean</th>\n",
              "      <td>0.547660</td>\n",
              "      <td>0.110919</td>\n",
              "      <td>930.623917</td>\n",
              "      <td>0.452340</td>\n",
              "      <td>568.377816</td>\n",
              "      <td>8.402080</td>\n",
              "      <td>103.755633</td>\n",
              "      <td>0.112652</td>\n",
              "      <td>41.188908</td>\n",
              "      <td>29.270364</td>\n",
              "      <td>26.528596</td>\n",
              "      <td>0.469671</td>\n",
              "    </tr>\n",
              "    <tr>\n",
              "      <th>std</th>\n",
              "      <td>0.710706</td>\n",
              "      <td>0.511841</td>\n",
              "      <td>876.614452</td>\n",
              "      <td>0.498155</td>\n",
              "      <td>352.600280</td>\n",
              "      <td>3.633065</td>\n",
              "      <td>67.692428</td>\n",
              "      <td>0.316441</td>\n",
              "      <td>13.477631</td>\n",
              "      <td>50.100313</td>\n",
              "      <td>90.786052</td>\n",
              "      <td>0.499512</td>\n",
              "    </tr>\n",
              "    <tr>\n",
              "      <th>min</th>\n",
              "      <td>0.000000</td>\n",
              "      <td>0.000000</td>\n",
              "      <td>300.000000</td>\n",
              "      <td>0.000000</td>\n",
              "      <td>300.000000</td>\n",
              "      <td>1.000000</td>\n",
              "      <td>50.000000</td>\n",
              "      <td>0.000000</td>\n",
              "      <td>18.000000</td>\n",
              "      <td>0.000000</td>\n",
              "      <td>0.000000</td>\n",
              "      <td>0.000000</td>\n",
              "    </tr>\n",
              "    <tr>\n",
              "      <th>25%</th>\n",
              "      <td>0.000000</td>\n",
              "      <td>0.000000</td>\n",
              "      <td>475.000000</td>\n",
              "      <td>0.000000</td>\n",
              "      <td>399.000000</td>\n",
              "      <td>6.000000</td>\n",
              "      <td>66.000000</td>\n",
              "      <td>0.000000</td>\n",
              "      <td>30.000000</td>\n",
              "      <td>6.000000</td>\n",
              "      <td>0.000000</td>\n",
              "      <td>0.000000</td>\n",
              "    </tr>\n",
              "    <tr>\n",
              "      <th>50%</th>\n",
              "      <td>0.000000</td>\n",
              "      <td>0.000000</td>\n",
              "      <td>600.000000</td>\n",
              "      <td>0.000000</td>\n",
              "      <td>489.000000</td>\n",
              "      <td>10.000000</td>\n",
              "      <td>85.000000</td>\n",
              "      <td>0.000000</td>\n",
              "      <td>39.000000</td>\n",
              "      <td>6.000000</td>\n",
              "      <td>0.000000</td>\n",
              "      <td>0.000000</td>\n",
              "    </tr>\n",
              "    <tr>\n",
              "      <th>75%</th>\n",
              "      <td>1.000000</td>\n",
              "      <td>0.000000</td>\n",
              "      <td>1000.000000</td>\n",
              "      <td>1.000000</td>\n",
              "      <td>623.000000</td>\n",
              "      <td>10.000000</td>\n",
              "      <td>117.000000</td>\n",
              "      <td>0.000000</td>\n",
              "      <td>52.000000</td>\n",
              "      <td>48.000000</td>\n",
              "      <td>0.000000</td>\n",
              "      <td>1.000000</td>\n",
              "    </tr>\n",
              "    <tr>\n",
              "      <th>max</th>\n",
              "      <td>3.000000</td>\n",
              "      <td>5.000000</td>\n",
              "      <td>9675.000000</td>\n",
              "      <td>1.000000</td>\n",
              "      <td>6000.000000</td>\n",
              "      <td>21.000000</td>\n",
              "      <td>719.000000</td>\n",
              "      <td>1.000000</td>\n",
              "      <td>70.000000</td>\n",
              "      <td>360.000000</td>\n",
              "      <td>1150.000000</td>\n",
              "      <td>1.000000</td>\n",
              "    </tr>\n",
              "  </tbody>\n",
              "</table>\n",
              "</div>"
            ],
            "text/plain": [
              "             ESCT        NDEP        RENDA  ...       RESMS      ENTRADA      CLASSE\n",
              "count  577.000000  577.000000   577.000000  ...  577.000000   577.000000  577.000000\n",
              "mean     0.547660    0.110919   930.623917  ...   29.270364    26.528596    0.469671\n",
              "std      0.710706    0.511841   876.614452  ...   50.100313    90.786052    0.499512\n",
              "min      0.000000    0.000000   300.000000  ...    0.000000     0.000000    0.000000\n",
              "25%      0.000000    0.000000   475.000000  ...    6.000000     0.000000    0.000000\n",
              "50%      0.000000    0.000000   600.000000  ...    6.000000     0.000000    0.000000\n",
              "75%      1.000000    0.000000  1000.000000  ...   48.000000     0.000000    1.000000\n",
              "max      3.000000    5.000000  9675.000000  ...  360.000000  1150.000000    1.000000\n",
              "\n",
              "[8 rows x 12 columns]"
            ]
          },
          "metadata": {
            "tags": []
          },
          "execution_count": 13
        }
      ]
    },
    {
      "cell_type": "code",
      "metadata": {
        "id": "kT_nzUb_Rq6Y"
      },
      "source": [
        "#Transoformação dos atributos e da classe alvo em matrizes\n",
        "X_test = np.array(data_test.iloc[:, 0:11])\n",
        "y_test = np.array(data_test['CLASSE'])"
      ],
      "execution_count": 14,
      "outputs": []
    },
    {
      "cell_type": "code",
      "metadata": {
        "colab": {
          "base_uri": "https://localhost:8080/"
        },
        "id": "b4InNoSuRxl9",
        "outputId": "79d348b4-ca40-4006-f8fe-371e7cde3950"
      },
      "source": [
        "#Conferência das dimensões das matrizes\n",
        "print(X_test.shape, y_test.shape)"
      ],
      "execution_count": 15,
      "outputs": [
        {
          "output_type": "stream",
          "text": [
            "(577, 11) (577,)\n"
          ],
          "name": "stdout"
        }
      ]
    },
    {
      "cell_type": "markdown",
      "metadata": {
        "id": "jvTLuehCWBaw"
      },
      "source": [
        "Divisão do conjunto originalmente criado como treinamento em novos subconjuntos para:\n",
        "* Treino: 80% dos dados do arquivo `credtrain.txt`\n",
        "* Validação: 20% dos dados do arquivo `credtrain.txt`"
      ]
    },
    {
      "cell_type": "code",
      "metadata": {
        "id": "XZG19VLMngWT"
      },
      "source": [
        "from sklearn.model_selection import train_test_split\n",
        "\n",
        "X_train, X_val, y_train, y_val = train_test_split(X_train_, y_train_,\n",
        "                                                  train_size=0.2,\n",
        "                                                  random_state=31)"
      ],
      "execution_count": 16,
      "outputs": []
    },
    {
      "cell_type": "code",
      "metadata": {
        "colab": {
          "base_uri": "https://localhost:8080/"
        },
        "id": "aOioFoxdnuZ-",
        "outputId": "75934b41-9cf7-4222-8ed5-a16194a42338"
      },
      "source": [
        "print(X_train.shape, y_train.shape,\n",
        "      X_val.shape, y_val.shape)"
      ],
      "execution_count": 17,
      "outputs": [
        {
          "output_type": "stream",
          "text": [
            "(300, 11) (300,) (1200, 11) (1200,)\n"
          ],
          "name": "stdout"
        }
      ]
    },
    {
      "cell_type": "markdown",
      "metadata": {
        "id": "aiwY_EbMe0nF"
      },
      "source": [
        "OBSERVAÇÃO: Usamos os nomes das variáveis da forma a seguir para distinguir a carga inicial do conjunto de treino e a separação acima, feita para permitir um processo mais adequado de treino, validação e teste em nossos fluxos de aprendizado de máquina.\n",
        "* `X_train_` e `y_train_` => Referem-se ao **conjunto de dados de treino original**\n",
        "* `X_train` e `y_train` => Referem-se ao **conjunto de dados de treino** equivalente a 80% do conjunto de treino original\n",
        "* `X_val` e `y_val` => Referem-se ao **conjunto de dados de validação** equivalente a 80% do conjunto de treino original"
      ]
    },
    {
      "cell_type": "markdown",
      "metadata": {
        "id": "cugOxsJsAPWg"
      },
      "source": [
        "##1.1 Boosting"
      ]
    },
    {
      "cell_type": "markdown",
      "metadata": {
        "id": "QCik6pXZFnRI"
      },
      "source": [
        "O boosting visa aumentar a acurácia de modelos, pela combinação sequencial e iterativa de classificadores. Isso é feito considerando que dados $k$ classificadores, a iteração vai atualizando os pesos da classificação e usando os resultados para que o próximo classificador aprenda melhor com as falhas de classificação realizadas pelo anterior [Han, 2012]."
      ]
    },
    {
      "cell_type": "markdown",
      "metadata": {
        "id": "yG_saaYw_bk4"
      },
      "source": [
        "**CRIAÇÃO E TREINAMENTO DOS MODELOS**"
      ]
    },
    {
      "cell_type": "code",
      "metadata": {
        "id": "L_y-dldk_bw7"
      },
      "source": [
        "#Bibliotecas para criação dos indutores\n",
        "from sklearn.ensemble import AdaBoostClassifier\n",
        "from sklearn.ensemble import GradientBoostingClassifier"
      ],
      "execution_count": 18,
      "outputs": []
    },
    {
      "cell_type": "markdown",
      "metadata": {
        "id": "TEHEFpv2dfrQ"
      },
      "source": [
        "Nesta aplicação, está sendo usado o próprio AdaBoost como indutor, mas é importante ressaltar a possibilidade de uso da classe `AdaBoostClassifier` em conjunto com outros algoritmos. Para esta aplicação alternativa, o hiperparâmetro `base_estimator` deve receber o algoritmo deejado. Por exemplo, poderia ser adicionado `base_estimator=DecisionTreeClassifier(max_depth=2)` para que fosse realizado o treinamento de indutor usando classificadores de árvore de decisão.\n",
        "\n",
        "Além disso, tanto para o AdaBoost quanto para o próximo modelo (Gradient Boosting) foram criados indutores sem aplicação de técnicas de sintonização de hiperparâmetros. Com essa alternativa, os modelos treinados usam os hiperparâmetros padrão de cada classificador."
      ]
    },
    {
      "cell_type": "markdown",
      "metadata": {
        "id": "c0WKjePkf3ph"
      },
      "source": [
        "* **AdaBoost**\n",
        "\n",
        "\n",
        "Partindo da abordagem boosting o algoritmo AdaBoost - Adaptive Boosting, realiza a aplicação iterativa dos classificadores e de acordo com seu erro de classificação determina um peso para o voto de cada classificador. Por fim, para determinar a classificação final, diferentemente do que é feito no bagging cujos votos de todos classificadores tem peso igual, realiza a votação com pesos diferentes para cada classificador [Han, 2012]."
      ]
    },
    {
      "cell_type": "code",
      "metadata": {
        "id": "CViBEkiZbhM-"
      },
      "source": [
        "#Criação do indutor AdaBoost sem alteração de hiperparâmetros\n",
        "adaB_clf = AdaBoostClassifier()"
      ],
      "execution_count": 19,
      "outputs": []
    },
    {
      "cell_type": "code",
      "metadata": {
        "colab": {
          "base_uri": "https://localhost:8080/"
        },
        "id": "XgQ99vA7bwgZ",
        "outputId": "92a514e7-913e-4e51-f7af-8824d8d875c4"
      },
      "source": [
        "#Treinamento do modelo\n",
        "adaB_clf.fit(X_train, y_train)"
      ],
      "execution_count": 20,
      "outputs": [
        {
          "output_type": "execute_result",
          "data": {
            "text/plain": [
              "AdaBoostClassifier(algorithm='SAMME.R', base_estimator=None, learning_rate=1.0,\n",
              "                   n_estimators=50, random_state=None)"
            ]
          },
          "metadata": {
            "tags": []
          },
          "execution_count": 20
        }
      ]
    },
    {
      "cell_type": "markdown",
      "metadata": {
        "id": "QRG6FSJwf7Te"
      },
      "source": [
        "* **Gradient Boosting**"
      ]
    },
    {
      "cell_type": "code",
      "metadata": {
        "id": "-UNDqtL8cKxv"
      },
      "source": [
        "#Criação do indutor Gradient Boosting sem alteração de hiperparâmetros\n",
        "gdB_clf = GradientBoostingClassifier()"
      ],
      "execution_count": 21,
      "outputs": []
    },
    {
      "cell_type": "code",
      "metadata": {
        "colab": {
          "base_uri": "https://localhost:8080/"
        },
        "id": "g2ifm96wea2C",
        "outputId": "0006dd91-3150-44f0-df78-0520f6bc7511"
      },
      "source": [
        "#Treinamento do modelo\n",
        "gdB_clf.fit(X_train, y_train)"
      ],
      "execution_count": 22,
      "outputs": [
        {
          "output_type": "execute_result",
          "data": {
            "text/plain": [
              "GradientBoostingClassifier(ccp_alpha=0.0, criterion='friedman_mse', init=None,\n",
              "                           learning_rate=0.1, loss='deviance', max_depth=3,\n",
              "                           max_features=None, max_leaf_nodes=None,\n",
              "                           min_impurity_decrease=0.0, min_impurity_split=None,\n",
              "                           min_samples_leaf=1, min_samples_split=2,\n",
              "                           min_weight_fraction_leaf=0.0, n_estimators=100,\n",
              "                           n_iter_no_change=None, presort='deprecated',\n",
              "                           random_state=None, subsample=1.0, tol=0.0001,\n",
              "                           validation_fraction=0.1, verbose=0,\n",
              "                           warm_start=False)"
            ]
          },
          "metadata": {
            "tags": []
          },
          "execution_count": 22
        }
      ]
    },
    {
      "cell_type": "markdown",
      "metadata": {
        "id": "1irta0F-38HJ"
      },
      "source": [
        "**CURVA DE APRENDIZADO**"
      ]
    },
    {
      "cell_type": "markdown",
      "metadata": {
        "id": "Tslss0lMjtW4"
      },
      "source": [
        "O trecho a seguir realiza o uso da função `learning_curve` da biblioteca Scikit-Learn para cálculos os dados para visualização da curva de aprendizagem dos modelos treinados nessa seção. Foi usado como pontuação a métrica acurácia, que demonstra o nível atingido por cada modelo à medida que são alteradas as quantidades de observações no conjunto de treinamento e validação."
      ]
    },
    {
      "cell_type": "code",
      "metadata": {
        "id": "r7sMMM0Hjtn7"
      },
      "source": [
        "#Biblioteca para cálculo da curva de aprendizado\n",
        "from sklearn.model_selection import learning_curve\n",
        "from sklearn.model_selection import ShuffleSplit"
      ],
      "execution_count": 23,
      "outputs": []
    },
    {
      "cell_type": "markdown",
      "metadata": {
        "id": "boWrz2hRqu1u"
      },
      "source": [
        "A célula abaixo define os parâmetros da forma de separação do conjunto de validação e treino, seprando 20% para validação em cada iteração da curva de aprendizado"
      ]
    },
    {
      "cell_type": "code",
      "metadata": {
        "id": "mpUj_78ApZUt"
      },
      "source": [
        "#Definição do critério de validação\n",
        "#Escolha aleatória de 20% do conjunto para validação para cada iteração\n",
        "cv = ShuffleSplit(test_size=0.2, random_state=31)"
      ],
      "execution_count": 24,
      "outputs": []
    },
    {
      "cell_type": "markdown",
      "metadata": {
        "id": "T4iAgyMXpiWq"
      },
      "source": [
        "* **Curva de Aprendizado do Modelo AdaBoost**"
      ]
    },
    {
      "cell_type": "code",
      "metadata": {
        "id": "uFYFUIcjk1Cp"
      },
      "source": [
        "#Aplicação da função para comparação dos resultados de validação e treino\n",
        "_, acc_treino, acc_val = learning_curve(adaB_clf,\n",
        "                                        X_train_,\n",
        "                                        y_train_,\n",
        "                                        scoring='accuracy',\n",
        "                                        random_state=31,\n",
        "                                        cv=cv)"
      ],
      "execution_count": 25,
      "outputs": []
    },
    {
      "cell_type": "code",
      "metadata": {
        "id": "wCBIWYTAqDek"
      },
      "source": [
        "#Cálculo dos scores baseado na média das rodadas\n",
        "acc_tA = np.mean(acc_treino, axis=1)\n",
        "acc_vA = np.mean(acc_val, axis=1)"
      ],
      "execution_count": 26,
      "outputs": []
    },
    {
      "cell_type": "markdown",
      "metadata": {
        "id": "2G6BD6myq9YW"
      },
      "source": [
        "* **Curva de Aprendizado do Modelo Gradient Boosting**"
      ]
    },
    {
      "cell_type": "code",
      "metadata": {
        "id": "vpfpG3tHq8wN"
      },
      "source": [
        "#Aplicação da função para comparação dos resultados de validação e treino\n",
        "_, acc_treino, acc_val = learning_curve(adaB_clf,\n",
        "                                        X_train_,\n",
        "                                        y_train_,\n",
        "                                        scoring='accuracy',\n",
        "                                        random_state=31,\n",
        "                                        cv=cv)"
      ],
      "execution_count": 27,
      "outputs": []
    },
    {
      "cell_type": "code",
      "metadata": {
        "id": "gwPQ5tVc4sZz"
      },
      "source": [
        "#Cálculo dos scores baseado na média das rodadas\n",
        "acc_tG = np.mean(acc_treino, axis=1)\n",
        "acc_vG = np.mean(acc_val, axis=1)"
      ],
      "execution_count": 28,
      "outputs": []
    },
    {
      "cell_type": "code",
      "metadata": {
        "colab": {
          "base_uri": "https://localhost:8080/",
          "height": 432
        },
        "id": "YqGAUkaNrok-",
        "outputId": "8373d613-8e4a-4374-a6ff-7a18f10e384b"
      },
      "source": [
        "fig = plt.figure(figsize=(20,6))\n",
        "fig.suptitle('Comparação das Curvas de Aprendizado', fontweight='bold')\n",
        "\n",
        "ax1 = fig.add_subplot(1,2,1)\n",
        "ax2 = fig.add_subplot(1,2,2)\n",
        "\n",
        "\n",
        "#Curva de aprendizado AdaBoost\n",
        "#=========================================\n",
        "ax1.plot(acc_tA, alpha=0.7)         #Treino\n",
        "ax1.plot(acc_vA, 'g--', alpha=0.7)  #Validação\n",
        "\n",
        "#Rótulos e legendas dos gráficos\n",
        "ax1.set_xlabel('Número de exemplos de treinamento', fontweight='bold')\n",
        "ax1.set_ylabel('Acurácia', fontweight='bold')\n",
        "ax1.set_title('Curva de Aprendizado: AdaBoost', fontweight='bold')\n",
        "\n",
        "#Grid acrescentado para facilitar a análise visual da curva\n",
        "ax1.grid()\n",
        "\n",
        "\n",
        "#Curva de aprendizado Gradient Boosting\n",
        "#=========================================\n",
        "ax2.plot(acc_tG, alpha=0.7)         #Treino\n",
        "ax2.plot(acc_vG, 'g--', alpha=0.7)  #Validação\n",
        "\n",
        "#Rótulos e legendas dos gráficos\n",
        "ax2.legend(['Treino', 'Validação'], loc='upper right')\n",
        "ax2.set_xlabel('Número de exemplos de treinamento', fontweight='bold')\n",
        "ax2.set_title('Curva de Aprendizado: Gradient Boosting', fontweight='bold')\n",
        "\n",
        "#Grid acrescentado e aproximando os gráficos para facilitar a análise visual\n",
        "ax2.grid()\n",
        "plt.subplots_adjust(wspace=0)\n",
        "\n",
        "#Ajustes visuais finais\n",
        "#=========================================\n",
        "sns.despine()\n",
        "plt.savefig('target/plot1.1.png')"
      ],
      "execution_count": 52,
      "outputs": [
        {
          "output_type": "display_data",
          "data": {
            "image/png": "[encoded data removed]",
            "text/plain": [
              "<Figure size 1440x432 with 2 Axes>"
            ]
          },
          "metadata": {
            "tags": [],
            "needs_background": "light"
          }
        }
      ]
    },
    {
      "cell_type": "markdown",
      "metadata": {
        "id": "wboIhI8It6xT"
      },
      "source": [
        "Pela análise das curvas de aprendizado, **ambos modelos aparentam um comportamento idêntitico tanto no conjunto de treino quanto no conjunto de validação**. Percebe-se que **no conjunto de treino a acurácia começa em 100%** (equivalente a 1.000 no eixo y) e decresce à medida que o número de exemplos aumento, mas **mantém-se sempre acima de 0.90**. Nas execuções **no conjunto de validação**, por sua vez, os resultados **iniciam-se ligeiramente acima de 0.825** tem um crescimento acentuado no início, chega a cair um pouco e em seguida retorna a crescer a acurácia até o **patamar máximo logo depois de 0.875**."
      ]
    },
    {
      "cell_type": "markdown",
      "metadata": {
        "id": "LpHTIUl13_y-"
      },
      "source": [
        "**PREDIÇÃO E AVALIAÇÃO DOS MODELOS**"
      ]
    },
    {
      "cell_type": "markdown",
      "metadata": {
        "id": "GMYvoVTsyET1"
      },
      "source": [
        "Aplicação dos modelos para predição e avaliação do escore com o conjunto de testes."
      ]
    },
    {
      "cell_type": "code",
      "metadata": {
        "id": "LMU2Hicl3rR5"
      },
      "source": [
        "#Biblioteca para geração do relatório de classificação de modelos\n",
        "from sklearn.metrics import classification_report"
      ],
      "execution_count": 30,
      "outputs": []
    },
    {
      "cell_type": "code",
      "metadata": {
        "colab": {
          "base_uri": "https://localhost:8080/"
        },
        "id": "xBMdt5xMyjAZ",
        "outputId": "b2cb146a-ff20-48be-a7e5-8526a954f245"
      },
      "source": [
        "#AdaBoost\n",
        "#========================================\n",
        "#Uso dos modelos para predição\n",
        "y_pred_adaB = adaB_clf.predict(X_test)\n",
        "\n",
        "#Visualização das primeiras observações da predição efetuada\n",
        "y_pred_adaB[:5]"
      ],
      "execution_count": 31,
      "outputs": [
        {
          "output_type": "execute_result",
          "data": {
            "text/plain": [
              "array([0, 1, 1, 1, 0])"
            ]
          },
          "metadata": {
            "tags": []
          },
          "execution_count": 31
        }
      ]
    },
    {
      "cell_type": "code",
      "metadata": {
        "colab": {
          "base_uri": "https://localhost:8080/"
        },
        "id": "86I_WI8dyqtA",
        "outputId": "27b85487-88b6-4298-8421-24e345aaee39"
      },
      "source": [
        "#Avaliação do modelo\n",
        "print(classification_report(y_test, y_pred_adaB))"
      ],
      "execution_count": 32,
      "outputs": [
        {
          "output_type": "stream",
          "text": [
            "              precision    recall  f1-score   support\n",
            "\n",
            "           0       0.85      0.90      0.88       306\n",
            "           1       0.88      0.82      0.85       271\n",
            "\n",
            "    accuracy                           0.86       577\n",
            "   macro avg       0.87      0.86      0.86       577\n",
            "weighted avg       0.87      0.86      0.86       577\n",
            "\n"
          ],
          "name": "stdout"
        }
      ]
    },
    {
      "cell_type": "code",
      "metadata": {
        "colab": {
          "base_uri": "https://localhost:8080/"
        },
        "id": "3wLrxojMyD2n",
        "outputId": "cfe5eed7-945c-4eab-ec9c-dcc1f3d54db5"
      },
      "source": [
        "#Gradient Boosting\n",
        "#========================================\n",
        "#Uso dos modelos para predição\n",
        "y_pred_gdB = gdB_clf.predict(X_test)\n",
        "\n",
        "#Visualização das primeiras observações da predição efetuada\n",
        "y_pred_gdB[:5]"
      ],
      "execution_count": 33,
      "outputs": [
        {
          "output_type": "execute_result",
          "data": {
            "text/plain": [
              "array([0, 1, 1, 1, 0])"
            ]
          },
          "metadata": {
            "tags": []
          },
          "execution_count": 33
        }
      ]
    },
    {
      "cell_type": "code",
      "metadata": {
        "colab": {
          "base_uri": "https://localhost:8080/"
        },
        "id": "j9LI5bbuyL9R",
        "outputId": "b674ffdb-c6f1-475b-c3b1-693b8671a712"
      },
      "source": [
        "#Avaliação do modelo\n",
        "print(classification_report(y_test, y_pred_gdB))"
      ],
      "execution_count": 34,
      "outputs": [
        {
          "output_type": "stream",
          "text": [
            "              precision    recall  f1-score   support\n",
            "\n",
            "           0       0.85      0.93      0.89       306\n",
            "           1       0.91      0.82      0.86       271\n",
            "\n",
            "    accuracy                           0.88       577\n",
            "   macro avg       0.88      0.87      0.87       577\n",
            "weighted avg       0.88      0.88      0.87       577\n",
            "\n"
          ],
          "name": "stdout"
        }
      ]
    },
    {
      "cell_type": "markdown",
      "metadata": {
        "id": "IdfUdieP9ayL"
      },
      "source": [
        "Na avaliação final dos modelos no conjunto de testes, apesar da diferença não ser muito grande entre os modelos, o `Gradient Boosting` apresenta resultados ligeiramente superiores. Considerando a classe positiva, que indica que o cliente pagaria o crédito concedido, o segundo modelo consegue uma precisão de 0.91 contra 0.88 do `AdaBoost`. A situação se repete nas métricas de acurácia e F1, em que o modelo `Gradient Boosting` também apresenta resultados superiores, como pode ser visto nas saídas anteriores do relatório de classificação gerados com a função `classification_report`."
      ]
    },
    {
      "cell_type": "markdown",
      "metadata": {
        "id": "s3zQ4hHIC0dq"
      },
      "source": [
        "##1.2 Bagging"
      ]
    },
    {
      "cell_type": "markdown",
      "metadata": {
        "id": "PK6sO3uuGf3k"
      },
      "source": [
        "Esta abordagem visa usar o mesmo algoritmo e treiná-los diversas vezes com amostragens aleatórias do conjunto de treinamento.\n",
        "* Bagging (Bootstrap aggregating): Realizar a amostragem com substituição.\n",
        "\n",
        "As previsões são realizadas agregando previsões de todos os previsores treinados."
      ]
    },
    {
      "cell_type": "markdown",
      "metadata": {
        "id": "pyEcDtSr_liV"
      },
      "source": [
        "**CRIAÇÃO E TREINAMENTO DOS MODELOS**"
      ]
    },
    {
      "cell_type": "markdown",
      "metadata": {
        "id": "lu5LwJ2iM1-N"
      },
      "source": [
        "* **Classificador Bagging baseado em k-NN**"
      ]
    },
    {
      "cell_type": "code",
      "metadata": {
        "id": "9_oclotq_lp_"
      },
      "source": [
        "#Bibliotecas para criação dos indutores\n",
        "from sklearn.ensemble import BaggingClassifier, RandomForestClassifier\n",
        "from sklearn.neighbors import KNeighborsClassifier"
      ],
      "execution_count": 35,
      "outputs": []
    },
    {
      "cell_type": "code",
      "metadata": {
        "id": "y-HOTNCgJC0M"
      },
      "source": [
        "#Prepração dos dados para correto funcionamento com o kNN\n",
        "from sklearn.preprocessing import StandardScaler\n",
        "norm = StandardScaler()"
      ],
      "execution_count": 36,
      "outputs": []
    },
    {
      "cell_type": "code",
      "metadata": {
        "id": "lasf7k4kKBMX"
      },
      "source": [
        "#Normalização dos dados\n",
        "X_train_norm = norm.fit_transform(X_train)\n",
        "X_test_norm = norm.fit_transform(X_test)\n",
        "X_val_norm = norm.fit_transform(X_val)"
      ],
      "execution_count": 37,
      "outputs": []
    },
    {
      "cell_type": "code",
      "metadata": {
        "colab": {
          "base_uri": "https://localhost:8080/"
        },
        "id": "FAJGoMHhLO32",
        "outputId": "e51729be-90df-4803-c192-3bb9d10de61e"
      },
      "source": [
        "#Verificação do primeiro registro dos dados normalizados\n",
        "X_train_norm[0]"
      ],
      "execution_count": 38,
      "outputs": [
        {
          "output_type": "execute_result",
          "data": {
            "text/plain": [
              "array([-0.69652603, -0.23995691, -0.55588511, -0.78288136, -0.63954325,\n",
              "        0.48186559, -0.68331454, -0.33947258, -0.41404433, -0.61178962,\n",
              "       -0.41850915])"
            ]
          },
          "metadata": {
            "tags": []
          },
          "execution_count": 38
        }
      ]
    },
    {
      "cell_type": "code",
      "metadata": {
        "id": "y9PUvQh6HJF6"
      },
      "source": [
        "#Criação do indutor Bagging Classifier baseado no Knn\n",
        "\n",
        "#Definição arbitrária do hiperparâmetro k\n",
        "k = 15\n",
        "\n",
        "#Criação do modelo\n",
        "bgKNN_clf = BaggingClassifier(\n",
        "    base_estimator=KNeighborsClassifier(n_neighbors=k),\n",
        "    bootstrap=True)"
      ],
      "execution_count": 39,
      "outputs": []
    },
    {
      "cell_type": "code",
      "metadata": {
        "colab": {
          "base_uri": "https://localhost:8080/"
        },
        "id": "df5n4w-pI20u",
        "outputId": "f4b2f955-95b9-4bd1-d83e-d944277081df"
      },
      "source": [
        "#Treinamento do modelo\n",
        "bgKNN_clf.fit(X_train_norm, y_train)"
      ],
      "execution_count": 40,
      "outputs": [
        {
          "output_type": "execute_result",
          "data": {
            "text/plain": [
              "BaggingClassifier(base_estimator=KNeighborsClassifier(algorithm='auto',\n",
              "                                                      leaf_size=30,\n",
              "                                                      metric='minkowski',\n",
              "                                                      metric_params=None,\n",
              "                                                      n_jobs=None,\n",
              "                                                      n_neighbors=15, p=2,\n",
              "                                                      weights='uniform'),\n",
              "                  bootstrap=True, bootstrap_features=False, max_features=1.0,\n",
              "                  max_samples=1.0, n_estimators=10, n_jobs=None,\n",
              "                  oob_score=False, random_state=None, verbose=0,\n",
              "                  warm_start=False)"
            ]
          },
          "metadata": {
            "tags": []
          },
          "execution_count": 40
        }
      ]
    },
    {
      "cell_type": "markdown",
      "metadata": {
        "id": "yXYinHgpNb8A"
      },
      "source": [
        "* **Classificador Bagging Random Forest**"
      ]
    },
    {
      "cell_type": "markdown",
      "metadata": {
        "id": "49PYyYYZPS-G"
      },
      "source": [
        "Random Forests é um método ensemble learning baseado em Decision Trees, ou seja, o algoritmo é construído com base no treinamento de diversas árvores de decisão. [Han, 2012]\n",
        "\n",
        "A imagem a seguir ilustra o conceito das múltiplas árvores sendo usadas:\n",
        "\n",
        "![](https://upload.wikimedia.org/wikipedia/commons/7/76/Random_forest_diagram_complete.png)\n",
        "\n",
        "Figura 1 - Ilustração de uma floresta aleatória ([Wikipedia](https://en.wikipedia.org/wiki/Random_forest))"
      ]
    },
    {
      "cell_type": "code",
      "metadata": {
        "id": "gfv-UcvMNcQW"
      },
      "source": [
        "#Criação do indutor bagging com o algoritmo RandomForestClassifier\n",
        "\"\"\"\n",
        "Exemplo\n",
        "rnd_clf = RandomForestClassifier(n_estimators=500,\n",
        "                                 max_leaf_nodes=16,\n",
        "                                 n_jobs=-1)\n",
        "\"\"\"\n",
        "#Definição do nível de profundidade das árvores\n",
        "md = 3\n",
        "bgRndF_clf = RandomForestClassifier(max_depth=md)"
      ],
      "execution_count": 41,
      "outputs": []
    },
    {
      "cell_type": "code",
      "metadata": {
        "colab": {
          "base_uri": "https://localhost:8080/"
        },
        "id": "5TSHjOFtVEU4",
        "outputId": "88e45887-e5aa-4e84-94fe-145581a7e836"
      },
      "source": [
        "#Treinamento do modelo\n",
        "bgRndF_clf.fit(X_train_norm, y_train)"
      ],
      "execution_count": 42,
      "outputs": [
        {
          "output_type": "execute_result",
          "data": {
            "text/plain": [
              "RandomForestClassifier(bootstrap=True, ccp_alpha=0.0, class_weight=None,\n",
              "                       criterion='gini', max_depth=3, max_features='auto',\n",
              "                       max_leaf_nodes=None, max_samples=None,\n",
              "                       min_impurity_decrease=0.0, min_impurity_split=None,\n",
              "                       min_samples_leaf=1, min_samples_split=2,\n",
              "                       min_weight_fraction_leaf=0.0, n_estimators=100,\n",
              "                       n_jobs=None, oob_score=False, random_state=None,\n",
              "                       verbose=0, warm_start=False)"
            ]
          },
          "metadata": {
            "tags": []
          },
          "execution_count": 42
        }
      ]
    },
    {
      "cell_type": "markdown",
      "metadata": {
        "id": "Bz6gyfs_cKSB"
      },
      "source": [
        "**CURVA DE APRENDIZADO DOS MODELOS**"
      ]
    },
    {
      "cell_type": "code",
      "metadata": {
        "id": "tN1Et7lSfu8-"
      },
      "source": [
        "#Normalização dos dados do conjunto original\n",
        "X_train_norm_ = norm.fit_transform(X_train_)"
      ],
      "execution_count": 43,
      "outputs": []
    },
    {
      "cell_type": "code",
      "metadata": {
        "id": "ZCPo08WscQd9"
      },
      "source": [
        "#Bagging com kNN\n",
        "#========================================================================\n",
        "\n",
        "#Aplicação da função para comparação dos resultados de validação e treino\n",
        "_, acc_treino, acc_val = learning_curve(bgKNN_clf,\n",
        "                                        X_train_norm_,\n",
        "                                        y_train_,\n",
        "                                        scoring='accuracy',\n",
        "                                        random_state=31,\n",
        "                                        cv=cv)\n",
        "\n",
        "#Cálculo dos scores baseado na média das rodadas\n",
        "acc_tkNN = np.mean(acc_treino, axis=1)\n",
        "acc_vkNN = np.mean(acc_val, axis=1)"
      ],
      "execution_count": 44,
      "outputs": []
    },
    {
      "cell_type": "code",
      "metadata": {
        "id": "Bw3WQklwdLQP"
      },
      "source": [
        "#Bagging com Random Forest\n",
        "#========================================================================\n",
        "\n",
        "#Aplicação da função para comparação dos resultados de validação e treino\n",
        "_, acc_treino, acc_val = learning_curve(bgRndF_clf,\n",
        "                                        X_train_norm_,\n",
        "                                        y_train_,\n",
        "                                        scoring='accuracy',\n",
        "                                        random_state=31,\n",
        "                                        cv=cv)\n",
        "\n",
        "#Cálculo dos scores baseado na média das rodadas\n",
        "acc_tRndF = np.mean(acc_treino, axis=1)\n",
        "acc_vRndF = np.mean(acc_val, axis=1)"
      ],
      "execution_count": 45,
      "outputs": []
    },
    {
      "cell_type": "code",
      "metadata": {
        "colab": {
          "base_uri": "https://localhost:8080/",
          "height": 432
        },
        "id": "_2ZsB9bgdtkF",
        "outputId": "410e3c7d-bdbb-40a8-b2a0-75188e9ca95c"
      },
      "source": [
        "fig = plt.figure(figsize=(20,6))\n",
        "fig.suptitle('Comparação das Curvas de Aprendizado', fontweight='bold')\n",
        "\n",
        "ax1 = fig.add_subplot(1,2,1)\n",
        "ax2 = fig.add_subplot(1,2,2)\n",
        "\n",
        "#Curva de aprendizado Bagging com k-NN\n",
        "#=========================================\n",
        "ax1.plot(acc_tkNN, alpha=0.7)         #Treino\n",
        "ax1.plot(acc_vkNN, 'g--', alpha=0.7)  #Validação\n",
        "\n",
        "#Rótulos e legendas dos gráficos\n",
        "ax1.legend(['Treino', 'Validação'], loc='upper left')\n",
        "ax1.set_xlabel('Número de exemplos de treinamento', fontweight='bold')\n",
        "ax1.set_ylabel('Acurácia', fontweight='bold')\n",
        "ax1.set_title('Curva de Aprendizado: Bagging com k-NN', fontweight='bold')\n",
        "#Grid acrescentado para facilitar a análise visual da curva\n",
        "ax1.grid()\n",
        "\n",
        "\n",
        "#Curva de aprendizado Random Forest\n",
        "#=========================================\n",
        "ax2.plot(acc_tRndF, alpha=0.7)         #Treino\n",
        "ax2.plot(acc_vRndF, 'g--', alpha=0.7)  #Validação\n",
        "\n",
        "#Rótulos e legendas dos gráficos\n",
        "ax2.set_xlabel('Número de exemplos de treinamento', fontweight='bold')\n",
        "ax2.set_title('Curva de Aprendizado: Random Forest', fontweight='bold')\n",
        "#Grid acrescentado para facilitar a análise visual da curva\n",
        "ax2.grid()\n",
        "\n",
        "#Gráficos afastados de propósito para evitar confusão quanto à escala dos eixos\n",
        "plt.subplots_adjust(wspace=0.2)\n",
        "\n",
        "#Ajustes visuais finais\n",
        "#=========================================\n",
        "sns.despine()\n",
        "plt.savefig('target/plot1.2.png')"
      ],
      "execution_count": 53,
      "outputs": [
        {
          "output_type": "display_data",
          "data": {
            "image/png": "[encoded data removed]",
            "text/plain": [
              "<Figure size 1440x432 with 2 Axes>"
            ]
          },
          "metadata": {
            "tags": [],
            "needs_background": "light"
          }
        }
      ]
    },
    {
      "cell_type": "markdown",
      "metadata": {
        "id": "nXVI2KTavOYv"
      },
      "source": [
        "Diferentemente do que foi visto nos modelos avaliados na abordagem **boosting**, os modelos treinados e submetidos ao conjunto de validação nessa seção apresentaram resultados razoavelmente distintos na comparação da curva de aprendizado. É importante observar, que **os eixos $y$ estão em escala diferente$^1$** em ambos os gráficos, por isso foi feito o afastamento deles para minimizar erros na análise. Nota-se que no modelo k-NN chega-se no máximo até 0.87 de acurácia$^2$, enquanto no modelo Random Forest já inicia-se acima de 0.86 e chega a 0.93 no nível máximo.\n",
        "\n",
        "* **Modelo k-NN**: há um aumento contínuo da acurácia desde o início e a aplicação no conjunto de teste permance sempre em um patamar maior na métrica.\n",
        "* **Modelo Random Forest**: o conjunto de teste cai o nível de acurácia à medida que o número de exemplos aumenta, enquanto no conjunto de validação a acurácia aumenta junto com o número de exemplos.\n",
        "\n",
        "(1) ATENÇÃO À ESCALA DIFERENTE NOS GRÁFICOS ACIMA.\n",
        "\n",
        "(2) OS RESULTADOS PODEM MUDAR EM NOVAS RODADAS EM FUNÇÃO DE USO DE SELEÇÃO ALEATÓRIA EM ALGUMAS PARTES DAS EXECUÇÕES. ISSO É MINIZADO PELO USO DO PARÂMETRO `random_state`, MAS NÃO É ELIMINADO COMPLETAMENTE."
      ]
    },
    {
      "cell_type": "markdown",
      "metadata": {
        "id": "odmfcEjwM8vJ"
      },
      "source": [
        "**PREDIÇÃO E AVALIAÇÃO DOS MODELOS**"
      ]
    },
    {
      "cell_type": "markdown",
      "metadata": {
        "id": "louC_45zNZQx"
      },
      "source": [
        "* **Classificador Bagging baseado em k-NN**"
      ]
    },
    {
      "cell_type": "code",
      "metadata": {
        "colab": {
          "base_uri": "https://localhost:8080/"
        },
        "id": "xF__mkhjMMch",
        "outputId": "c1a9258f-efb7-4fd0-ced8-49806e50269e"
      },
      "source": [
        "#Bagging baseado em k-NN\n",
        "#=================================================\n",
        "\n",
        "#Predição de valores com o modelo\n",
        "y_pred_bgKNN = bgKNN_clf.predict(X_test_norm)\n",
        "\n",
        "#Visualização dos primeiros registros previstos\n",
        "y_pred_bgKNN[:5]"
      ],
      "execution_count": 47,
      "outputs": [
        {
          "output_type": "execute_result",
          "data": {
            "text/plain": [
              "array([0, 0, 1, 1, 0])"
            ]
          },
          "metadata": {
            "tags": []
          },
          "execution_count": 47
        }
      ]
    },
    {
      "cell_type": "code",
      "metadata": {
        "colab": {
          "base_uri": "https://localhost:8080/"
        },
        "id": "RsxphgbfMfOH",
        "outputId": "e1f71d9c-547b-430f-f761-c40bbc063ea4"
      },
      "source": [
        "#Avaliação do modelo\n",
        "print(classification_report(y_test, y_pred_bgKNN))"
      ],
      "execution_count": 48,
      "outputs": [
        {
          "output_type": "stream",
          "text": [
            "              precision    recall  f1-score   support\n",
            "\n",
            "           0       0.82      0.89      0.86       306\n",
            "           1       0.86      0.79      0.82       271\n",
            "\n",
            "    accuracy                           0.84       577\n",
            "   macro avg       0.84      0.84      0.84       577\n",
            "weighted avg       0.84      0.84      0.84       577\n",
            "\n"
          ],
          "name": "stdout"
        }
      ]
    },
    {
      "cell_type": "markdown",
      "metadata": {
        "id": "5OgVtpcLNx-6"
      },
      "source": [
        "* **Classificador Bagging Random Forest**"
      ]
    },
    {
      "cell_type": "code",
      "metadata": {
        "colab": {
          "base_uri": "https://localhost:8080/"
        },
        "id": "Y0-en-_2PTF4",
        "outputId": "6e1ee6bf-c5c4-4dcf-c4e8-25738882b070"
      },
      "source": [
        "#Random Forest\n",
        "#=================================================\n",
        "\n",
        "#Predição de valores com o modelo\n",
        "y_pred_bgRndF = bgRndF_clf.predict(X_test_norm)\n",
        "\n",
        "#Visualização dos primeiros registros previstos\n",
        "y_pred_bgRndF[:5]"
      ],
      "execution_count": 49,
      "outputs": [
        {
          "output_type": "execute_result",
          "data": {
            "text/plain": [
              "array([0, 1, 1, 1, 0])"
            ]
          },
          "metadata": {
            "tags": []
          },
          "execution_count": 49
        }
      ]
    },
    {
      "cell_type": "code",
      "metadata": {
        "colab": {
          "base_uri": "https://localhost:8080/"
        },
        "id": "_R4om6hlWc4p",
        "outputId": "646a9784-1671-4143-d7ad-641a691b7fd4"
      },
      "source": [
        "#Avaliação do modelo\n",
        "print(classification_report(y_test, y_pred_bgRndF))"
      ],
      "execution_count": 50,
      "outputs": [
        {
          "output_type": "stream",
          "text": [
            "              precision    recall  f1-score   support\n",
            "\n",
            "           0       0.85      0.91      0.88       306\n",
            "           1       0.89      0.82      0.85       271\n",
            "\n",
            "    accuracy                           0.87       577\n",
            "   macro avg       0.87      0.87      0.87       577\n",
            "weighted avg       0.87      0.87      0.87       577\n",
            "\n"
          ],
          "name": "stdout"
        }
      ]
    },
    {
      "cell_type": "markdown",
      "metadata": {
        "id": "5CKAy9pYXPzB"
      },
      "source": [
        "Pelas métricas apresentadas no relatório de classificação das seções anteriores, pode-se observar esta análise detalhada. **O modelo *Random Forest* apresentou resultados superiores em todas as métricas avaliadas, o que levaria neste cenário à sua escolha como preditor na comparação dessa seção**."
      ]
    },
    {
      "cell_type": "markdown",
      "metadata": {
        "id": "nJZsyV7k-GQL"
      },
      "source": [
        "#2 Sistemas de Recomendação"
      ]
    },
    {
      "cell_type": "markdown",
      "metadata": {
        "id": "vLl6TlaL_2kR"
      },
      "source": [
        "##2.1 Algoritmo de aprendizagem de filtragem colaborativa"
      ]
    },
    {
      "cell_type": "markdown",
      "metadata": {
        "id": "r7BUVlTq_8EL"
      },
      "source": [
        "###2.1.1 Função de custo da filtragem colaborativa"
      ]
    },
    {
      "cell_type": "markdown",
      "metadata": {
        "id": "F185VhNVACW2"
      },
      "source": [
        ""
      ]
    },
    {
      "cell_type": "code",
      "metadata": {
        "id": "0LMVnMRj_2tD"
      },
      "source": [
        ""
      ],
      "execution_count": 50,
      "outputs": []
    },
    {
      "cell_type": "markdown",
      "metadata": {
        "id": "SagCHGvmADNp"
      },
      "source": [
        "###2.1.2 Gradiente de filtragem colaborativa"
      ]
    },
    {
      "cell_type": "markdown",
      "metadata": {
        "id": "JzA8W-83AHdi"
      },
      "source": [
        ""
      ]
    },
    {
      "cell_type": "code",
      "metadata": {
        "id": "1poYjZQCAHl6"
      },
      "source": [
        ""
      ],
      "execution_count": 50,
      "outputs": []
    },
    {
      "cell_type": "markdown",
      "metadata": {
        "id": "gBhdz7qRAIAO"
      },
      "source": [
        "##2.2 Aprendizado de Recomendações para Filmes"
      ]
    },
    {
      "cell_type": "markdown",
      "metadata": {
        "id": "r8Y96-EnAK3J"
      },
      "source": [
        ""
      ]
    },
    {
      "cell_type": "code",
      "metadata": {
        "id": "K2dTkB0OAK-_"
      },
      "source": [
        ""
      ],
      "execution_count": 50,
      "outputs": []
    },
    {
      "cell_type": "markdown",
      "metadata": {
        "id": "k9PFjTon-J-g"
      },
      "source": [
        "#3 Redes Neurais Artificiais"
      ]
    },
    {
      "cell_type": "markdown",
      "metadata": {
        "id": "b_SnVxgSAisn"
      },
      "source": [
        "##3.1 Redes MLP"
      ]
    },
    {
      "cell_type": "markdown",
      "metadata": {
        "id": "nitTMRM9_u5J"
      },
      "source": [
        ""
      ]
    },
    {
      "cell_type": "code",
      "metadata": {
        "id": "kDocqWxO_uSc"
      },
      "source": [
        ""
      ],
      "execution_count": 50,
      "outputs": []
    },
    {
      "cell_type": "markdown",
      "metadata": {
        "id": "VkmzMAw7Alyp"
      },
      "source": [
        "##3.2 Redes Convolucionais"
      ]
    },
    {
      "cell_type": "markdown",
      "metadata": {
        "id": "d6Ast5ZsApI4"
      },
      "source": [
        ""
      ]
    },
    {
      "cell_type": "code",
      "metadata": {
        "id": "8ImFspvNApQB"
      },
      "source": [
        ""
      ],
      "execution_count": 50,
      "outputs": []
    },
    {
      "cell_type": "markdown",
      "metadata": {
        "id": "8kwife5G5woO"
      },
      "source": [
        "#Referências"
      ]
    },
    {
      "cell_type": "markdown",
      "metadata": {
        "id": "N5OVMr0b5ziU"
      },
      "source": [
        "**Referências**\n",
        "\n",
        "Géron, Aurélien (2019). **Mãos à Obra Aprendizagem de Máquina com Scikit-Learn & TensorFlow:** Conceitos, ferramentas e técnicas para a construção de sistemas inteligentes. Traduzido por Rafael Contatori. Alta Books.\n",
        "\n",
        "Grus, Joel (2016). **Data Science do Zero:** Primeiras regras com Python. Traduzido por Welington Nascimento. Alta Books.\n",
        "\n",
        "Han, Jiawei. Kamber, Micheline. Pei, Jian (2012) Data Mining: Concepts and techniques. Morgan Kaufmann, 3rd Edition.\n",
        "\n",
        "McKinney, Wes (2018). **Python para Análise de Dados**: tratamento de dados com pandas, numpy e iPython. Traduzido por Lúcia A. Kinoshita. Novatec.\n",
        "\n",
        "---\n",
        "\n",
        "**Algoritmos e conjuntos de dados:**\n",
        "\n",
        "* Bibliotecas personalizadas e conjuntos de dados usados na análise: https://github.com/MLRG-CEFET-RJ/ml-class/tree/master/ml-t3\n",
        "* Códigos complementares usados na análise: https://github.com/janiosl/python.ds/tree/master/ml/T1\n",
        "* Códigos complementares usados na análise: https://github.com/janiosl/python.ds/tree/master/ml/T2\n",
        "* Métodos de aprendizado por comitê: https://github.com/janiosl/python.ds/tree/master/ml/ensemble\n",
        "* Florestas Aleatórias: https://github.com/janiosl/python.ds/tree/master/ml/randomForest\n",
        "* Métodos de aprendizado de comitê e florestas aleatórias: https://github.com/ageron/handson-ml2/blob/master/07_ensemble_learning_and_random_forests.ipynb\n",
        "* k-NN: https://github.com/janiosl/python.ds/tree/master/ml/knn\n",
        "* Métodos de sistemas recomendadores: https://github.com/janiosl/python.ds/tree/master/ml/recommender\n",
        "* Cálculo da curva de aprendizagem: https://scikit-learn.org/stable/modules/generated/sklearn.model_selection.learning_curve.html#sklearn.model_selection.learning_curve\n",
        "* Definição da estratégia de separação dos conjuntos de treino e validação no cálculo da curva de aprendizagem: https://scikit-learn.org/stable/modules/generated/sklearn.model_selection.ShuffleSplit.html#sklearn.model_selection.ShuffleSplit"
      ]
    }
  ]
}