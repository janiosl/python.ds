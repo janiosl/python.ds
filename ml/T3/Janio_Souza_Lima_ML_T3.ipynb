{
  "nbformat": 4,
  "nbformat_minor": 0,
  "metadata": {
    "colab": {
      "name": "Janio_Souza_Lima_ML-T3.ipynb",
      "provenance": [],
      "collapsed_sections": [
        "nJZsyV7k-GQL"
      ],
      "toc_visible": true,
      "authorship_tag": "ABX9TyOumzS0QwLUQFMFu2O8SEAZ",
      "include_colab_link": true
    },
    "kernelspec": {
      "name": "python3",
      "display_name": "Python 3"
    }
  },
  "cells": [
    {
      "cell_type": "markdown",
      "metadata": {
        "id": "view-in-github",
        "colab_type": "text"
      },
      "source": [
        "<a href=\"https://colab.research.google.com/github/janiosl/python.ds/blob/master/ml/T3/Janio_Souza_Lima_ML_T3.ipynb\" target=\"_parent\"><img src=\"https://colab.research.google.com/assets/colab-badge.svg\" alt=\"Open In Colab\"/></a>"
      ]
    },
    {
      "cell_type": "markdown",
      "metadata": {
        "id": "ptkA5dKWWJVL"
      },
      "source": [
        "#**CEFET-RJ**\n",
        "\n",
        "**Programa de Pós-Gradução em Ciência da Computação - PPCIC**\n",
        "\n",
        "**Mestrado em Ciência da Computação**\n",
        "\n",
        "**Disciplina: Aprendizado de Máquina - 2021/1**\n",
        "\n",
        "* **Trabalho 03**\n",
        "* **Professor**: Eduardo Bezerra\n",
        "* **Aluno**: Janio de Souza Lima"
      ]
    },
    {
      "cell_type": "markdown",
      "metadata": {
        "id": "4anwwi9AXjEF"
      },
      "source": [
        "##Preparação do ambiente"
      ]
    },
    {
      "cell_type": "markdown",
      "metadata": {
        "id": "BfzO6DbX6OKD"
      },
      "source": [
        "Importação de bibliotecas"
      ]
    },
    {
      "cell_type": "code",
      "metadata": {
        "id": "0R4Zq0JR57rq"
      },
      "source": [
        "%matplotlib inline"
      ],
      "execution_count": null,
      "outputs": []
    },
    {
      "cell_type": "code",
      "metadata": {
        "id": "WjU2VUQuXk88"
      },
      "source": [
        "#Importação de bibliotecas\n",
        "import pandas as pd\n",
        "import numpy as np\n",
        "import seaborn as sns\n",
        "from matplotlib import pyplot as plt\n",
        "import scipy.io as spio"
      ],
      "execution_count": null,
      "outputs": []
    },
    {
      "cell_type": "markdown",
      "metadata": {
        "id": "yE_ovAy36XVL"
      },
      "source": [
        "Carga de arquivos para ambiente (apenas para uso deste notebook no Google Colab)"
      ]
    },
    {
      "cell_type": "code",
      "metadata": {
        "id": "d_Y_4EBO6DY3"
      },
      "source": [
        "from google.colab import drive"
      ],
      "execution_count": null,
      "outputs": []
    },
    {
      "cell_type": "code",
      "metadata": {
        "colab": {
          "base_uri": "https://localhost:8080/"
        },
        "id": "7uZ-awNx88p4",
        "outputId": "9016f377-59c0-44b5-886e-557f1fba1f08"
      },
      "source": [
        "#Conecta o Google Colab ao Google Drive\n",
        "drive.mount('/content/drive')"
      ],
      "execution_count": null,
      "outputs": [
        {
          "output_type": "stream",
          "text": [
            "Drive already mounted at /content/drive; to attempt to forcibly remount, call drive.mount(\"/content/drive\", force_remount=True).\n"
          ],
          "name": "stdout"
        }
      ]
    },
    {
      "cell_type": "markdown",
      "metadata": {
        "id": "F4rSnChkMHdG"
      },
      "source": [
        "A etapa anterior apenas conecta ao seu Google Drive, após rodá-la e autenticar a sessão usando o link da API da Google, o código abaixo deve ser executado para apontar para o diretório de trabalho no qual estão gravados os códigos e bibliotecas personalziadas que serão usados na análise.\n",
        "\n",
        "A pasta com os dados deve ser gravada neste mesmo diretório com o nome *data*, assim os trechos nos quais os conjuntos de dados são carregados rodarão sem problemas, mas sempre que possível os dados serão carregados diretamente do GitHub no repositório criado pelo professor da disciplina."
      ]
    },
    {
      "cell_type": "code",
      "metadata": {
        "id": "r0QvKrwd9QmG"
      },
      "source": [
        "#Define o path dos códigos e dados como diretório de trabalho atual\n",
        "import os\n",
        "dir = '/content/drive/My Drive/Mestrado PPCIC/03. Curso/3. Aprendizado/t3'\n",
        "os.chdir(dir)"
      ],
      "execution_count": null,
      "outputs": []
    },
    {
      "cell_type": "markdown",
      "metadata": {
        "id": "w3hrc_yS-BsI"
      },
      "source": [
        "#1 Aprendizado de Comitês"
      ]
    },
    {
      "cell_type": "markdown",
      "metadata": {
        "id": "RA9vM5QGM3JJ"
      },
      "source": [
        "##Análise preliminar dos dados"
      ]
    },
    {
      "cell_type": "markdown",
      "metadata": {
        "id": "es-81LYbPAh6"
      },
      "source": [
        "* **Carga e organização dos dados de treino e teste**\n",
        "\n",
        "---"
      ]
    },
    {
      "cell_type": "markdown",
      "metadata": {
        "id": "S6JazEazUiXU"
      },
      "source": [
        "Conjunto de dados analisado:\n",
        "\n",
        "![dataset1](https://github.com/janiosl/python.ds/blob/master/ml/T3/data/dataset1.PNG?raw=true)\n",
        "\n",
        "*Fonte: Tabela copiada de Eduardo Bezerra, enunciado desse trabalho (Trabalho 03).*\n",
        "\n",
        "O conjunto de dados está dividido em dois arquivos. Um conjunto de treino com 1500 observações e um de testes com 577 observações. Para realização das análises dessa seção, quando necessário, o conjunto de originalmente separado para treino foi novamente dividido para uso como treino e validação na proporção de 80% para treino e 20% para validação."
      ]
    },
    {
      "cell_type": "code",
      "metadata": {
        "id": "ZPcS58MpPNJQ"
      },
      "source": [
        "#Definção dos títulos das colunas\n",
        "headers = ['ESCT', 'NDEP', 'RENDA', 'TIPOR', 'VBEM', 'NPARC',\n",
        "           'VPARC', 'TEL', 'IDADE', 'RESMS', 'ENTRADA', 'CLASSE']"
      ],
      "execution_count": null,
      "outputs": []
    },
    {
      "cell_type": "code",
      "metadata": {
        "colab": {
          "base_uri": "https://localhost:8080/",
          "height": 204
        },
        "id": "VX72leUIM_Um",
        "outputId": "a4ef3ef3-89d7-4a38-c8e2-30450f5a4932"
      },
      "source": [
        "#Carga do conjunto de treino\n",
        "arquivo = 'https://raw.githubusercontent.com/MLRG-CEFET-RJ/ml-class/master/ml-t3/datasets/credtrain.txt'\n",
        "data_train = pd.read_csv(arquivo, sep='\\t', header=None, names=headers)\n",
        "\n",
        "#Conferência dos primeiros registros do conjunto de dados\n",
        "data_train.head()"
      ],
      "execution_count": null,
      "outputs": [
        {
          "output_type": "execute_result",
          "data": {
            "text/html": [
              "<div>\n",
              "<style scoped>\n",
              "    .dataframe tbody tr th:only-of-type {\n",
              "        vertical-align: middle;\n",
              "    }\n",
              "\n",
              "    .dataframe tbody tr th {\n",
              "        vertical-align: top;\n",
              "    }\n",
              "\n",
              "    .dataframe thead th {\n",
              "        text-align: right;\n",
              "    }\n",
              "</style>\n",
              "<table border=\"1\" class=\"dataframe\">\n",
              "  <thead>\n",
              "    <tr style=\"text-align: right;\">\n",
              "      <th></th>\n",
              "      <th>ESCT</th>\n",
              "      <th>NDEP</th>\n",
              "      <th>RENDA</th>\n",
              "      <th>TIPOR</th>\n",
              "      <th>VBEM</th>\n",
              "      <th>NPARC</th>\n",
              "      <th>VPARC</th>\n",
              "      <th>TEL</th>\n",
              "      <th>IDADE</th>\n",
              "      <th>RESMS</th>\n",
              "      <th>ENTRADA</th>\n",
              "      <th>CLASSE</th>\n",
              "    </tr>\n",
              "  </thead>\n",
              "  <tbody>\n",
              "    <tr>\n",
              "      <th>0</th>\n",
              "      <td>1</td>\n",
              "      <td>0</td>\n",
              "      <td>360</td>\n",
              "      <td>0</td>\n",
              "      <td>313</td>\n",
              "      <td>9</td>\n",
              "      <td>52</td>\n",
              "      <td>0</td>\n",
              "      <td>25</td>\n",
              "      <td>48</td>\n",
              "      <td>0</td>\n",
              "      <td>1</td>\n",
              "    </tr>\n",
              "    <tr>\n",
              "      <th>1</th>\n",
              "      <td>0</td>\n",
              "      <td>0</td>\n",
              "      <td>350</td>\n",
              "      <td>1</td>\n",
              "      <td>468</td>\n",
              "      <td>10</td>\n",
              "      <td>65</td>\n",
              "      <td>0</td>\n",
              "      <td>33</td>\n",
              "      <td>6</td>\n",
              "      <td>0</td>\n",
              "      <td>1</td>\n",
              "    </tr>\n",
              "    <tr>\n",
              "      <th>2</th>\n",
              "      <td>0</td>\n",
              "      <td>0</td>\n",
              "      <td>1100</td>\n",
              "      <td>0</td>\n",
              "      <td>829</td>\n",
              "      <td>9</td>\n",
              "      <td>125</td>\n",
              "      <td>0</td>\n",
              "      <td>56</td>\n",
              "      <td>48</td>\n",
              "      <td>0</td>\n",
              "      <td>1</td>\n",
              "    </tr>\n",
              "    <tr>\n",
              "      <th>3</th>\n",
              "      <td>0</td>\n",
              "      <td>0</td>\n",
              "      <td>3000</td>\n",
              "      <td>0</td>\n",
              "      <td>552</td>\n",
              "      <td>12</td>\n",
              "      <td>76</td>\n",
              "      <td>1</td>\n",
              "      <td>31</td>\n",
              "      <td>60</td>\n",
              "      <td>0</td>\n",
              "      <td>1</td>\n",
              "    </tr>\n",
              "    <tr>\n",
              "      <th>4</th>\n",
              "      <td>1</td>\n",
              "      <td>0</td>\n",
              "      <td>1000</td>\n",
              "      <td>0</td>\n",
              "      <td>809</td>\n",
              "      <td>12</td>\n",
              "      <td>111</td>\n",
              "      <td>0</td>\n",
              "      <td>24</td>\n",
              "      <td>7</td>\n",
              "      <td>0</td>\n",
              "      <td>1</td>\n",
              "    </tr>\n",
              "  </tbody>\n",
              "</table>\n",
              "</div>"
            ],
            "text/plain": [
              "   ESCT  NDEP  RENDA  TIPOR  VBEM  ...  TEL  IDADE  RESMS  ENTRADA  CLASSE\n",
              "0     1     0    360      0   313  ...    0     25     48        0       1\n",
              "1     0     0    350      1   468  ...    0     33      6        0       1\n",
              "2     0     0   1100      0   829  ...    0     56     48        0       1\n",
              "3     0     0   3000      0   552  ...    1     31     60        0       1\n",
              "4     1     0   1000      0   809  ...    0     24      7        0       1\n",
              "\n",
              "[5 rows x 12 columns]"
            ]
          },
          "metadata": {
            "tags": []
          },
          "execution_count": 7
        }
      ]
    },
    {
      "cell_type": "code",
      "metadata": {
        "colab": {
          "base_uri": "https://localhost:8080/",
          "height": 317
        },
        "id": "IZwNF-BpQCVB",
        "outputId": "6e75ca3f-7be2-4475-dc85-d66be36afc73"
      },
      "source": [
        "#Estatísticas descritivas do conjunto de treino\n",
        "data_train.describe()"
      ],
      "execution_count": null,
      "outputs": [
        {
          "output_type": "execute_result",
          "data": {
            "text/html": [
              "<div>\n",
              "<style scoped>\n",
              "    .dataframe tbody tr th:only-of-type {\n",
              "        vertical-align: middle;\n",
              "    }\n",
              "\n",
              "    .dataframe tbody tr th {\n",
              "        vertical-align: top;\n",
              "    }\n",
              "\n",
              "    .dataframe thead th {\n",
              "        text-align: right;\n",
              "    }\n",
              "</style>\n",
              "<table border=\"1\" class=\"dataframe\">\n",
              "  <thead>\n",
              "    <tr style=\"text-align: right;\">\n",
              "      <th></th>\n",
              "      <th>ESCT</th>\n",
              "      <th>NDEP</th>\n",
              "      <th>RENDA</th>\n",
              "      <th>TIPOR</th>\n",
              "      <th>VBEM</th>\n",
              "      <th>NPARC</th>\n",
              "      <th>VPARC</th>\n",
              "      <th>TEL</th>\n",
              "      <th>IDADE</th>\n",
              "      <th>RESMS</th>\n",
              "      <th>ENTRADA</th>\n",
              "      <th>CLASSE</th>\n",
              "    </tr>\n",
              "  </thead>\n",
              "  <tbody>\n",
              "    <tr>\n",
              "      <th>count</th>\n",
              "      <td>1500.000000</td>\n",
              "      <td>1500.000000</td>\n",
              "      <td>1500.00000</td>\n",
              "      <td>1500.000000</td>\n",
              "      <td>1500.000000</td>\n",
              "      <td>1500.000000</td>\n",
              "      <td>1500.000000</td>\n",
              "      <td>1500.000000</td>\n",
              "      <td>1500.000000</td>\n",
              "      <td>1500.000000</td>\n",
              "      <td>1500.000000</td>\n",
              "      <td>1500.000000</td>\n",
              "    </tr>\n",
              "    <tr>\n",
              "      <th>mean</th>\n",
              "      <td>0.512000</td>\n",
              "      <td>0.126667</td>\n",
              "      <td>984.51200</td>\n",
              "      <td>0.445333</td>\n",
              "      <td>562.031333</td>\n",
              "      <td>8.392667</td>\n",
              "      <td>102.247333</td>\n",
              "      <td>0.134000</td>\n",
              "      <td>41.210667</td>\n",
              "      <td>31.528667</td>\n",
              "      <td>32.255333</td>\n",
              "      <td>0.476667</td>\n",
              "    </tr>\n",
              "    <tr>\n",
              "      <th>std</th>\n",
              "      <td>0.659909</td>\n",
              "      <td>0.572865</td>\n",
              "      <td>905.53292</td>\n",
              "      <td>0.497168</td>\n",
              "      <td>265.690646</td>\n",
              "      <td>3.609131</td>\n",
              "      <td>62.987325</td>\n",
              "      <td>0.340766</td>\n",
              "      <td>13.202266</td>\n",
              "      <td>52.662099</td>\n",
              "      <td>94.307614</td>\n",
              "      <td>0.499622</td>\n",
              "    </tr>\n",
              "    <tr>\n",
              "      <th>min</th>\n",
              "      <td>0.000000</td>\n",
              "      <td>0.000000</td>\n",
              "      <td>300.00000</td>\n",
              "      <td>0.000000</td>\n",
              "      <td>300.000000</td>\n",
              "      <td>1.000000</td>\n",
              "      <td>50.000000</td>\n",
              "      <td>0.000000</td>\n",
              "      <td>19.000000</td>\n",
              "      <td>0.000000</td>\n",
              "      <td>0.000000</td>\n",
              "      <td>0.000000</td>\n",
              "    </tr>\n",
              "    <tr>\n",
              "      <th>25%</th>\n",
              "      <td>0.000000</td>\n",
              "      <td>0.000000</td>\n",
              "      <td>467.50000</td>\n",
              "      <td>0.000000</td>\n",
              "      <td>410.000000</td>\n",
              "      <td>6.000000</td>\n",
              "      <td>66.000000</td>\n",
              "      <td>0.000000</td>\n",
              "      <td>31.000000</td>\n",
              "      <td>6.000000</td>\n",
              "      <td>0.000000</td>\n",
              "      <td>0.000000</td>\n",
              "    </tr>\n",
              "    <tr>\n",
              "      <th>50%</th>\n",
              "      <td>0.000000</td>\n",
              "      <td>0.000000</td>\n",
              "      <td>650.00000</td>\n",
              "      <td>0.000000</td>\n",
              "      <td>490.000000</td>\n",
              "      <td>10.000000</td>\n",
              "      <td>83.000000</td>\n",
              "      <td>0.000000</td>\n",
              "      <td>39.000000</td>\n",
              "      <td>6.000000</td>\n",
              "      <td>0.000000</td>\n",
              "      <td>0.000000</td>\n",
              "    </tr>\n",
              "    <tr>\n",
              "      <th>75%</th>\n",
              "      <td>1.000000</td>\n",
              "      <td>0.000000</td>\n",
              "      <td>1200.00000</td>\n",
              "      <td>1.000000</td>\n",
              "      <td>618.000000</td>\n",
              "      <td>10.000000</td>\n",
              "      <td>118.000000</td>\n",
              "      <td>0.000000</td>\n",
              "      <td>52.000000</td>\n",
              "      <td>48.000000</td>\n",
              "      <td>0.000000</td>\n",
              "      <td>1.000000</td>\n",
              "    </tr>\n",
              "    <tr>\n",
              "      <th>max</th>\n",
              "      <td>3.000000</td>\n",
              "      <td>7.000000</td>\n",
              "      <td>8000.00000</td>\n",
              "      <td>1.000000</td>\n",
              "      <td>4000.000000</td>\n",
              "      <td>24.000000</td>\n",
              "      <td>711.000000</td>\n",
              "      <td>1.000000</td>\n",
              "      <td>70.000000</td>\n",
              "      <td>420.000000</td>\n",
              "      <td>1300.000000</td>\n",
              "      <td>1.000000</td>\n",
              "    </tr>\n",
              "  </tbody>\n",
              "</table>\n",
              "</div>"
            ],
            "text/plain": [
              "              ESCT         NDEP  ...      ENTRADA       CLASSE\n",
              "count  1500.000000  1500.000000  ...  1500.000000  1500.000000\n",
              "mean      0.512000     0.126667  ...    32.255333     0.476667\n",
              "std       0.659909     0.572865  ...    94.307614     0.499622\n",
              "min       0.000000     0.000000  ...     0.000000     0.000000\n",
              "25%       0.000000     0.000000  ...     0.000000     0.000000\n",
              "50%       0.000000     0.000000  ...     0.000000     0.000000\n",
              "75%       1.000000     0.000000  ...     0.000000     1.000000\n",
              "max       3.000000     7.000000  ...  1300.000000     1.000000\n",
              "\n",
              "[8 rows x 12 columns]"
            ]
          },
          "metadata": {
            "tags": []
          },
          "execution_count": 8
        }
      ]
    },
    {
      "cell_type": "code",
      "metadata": {
        "colab": {
          "base_uri": "https://localhost:8080/"
        },
        "id": "bcGvZXRKNYqw",
        "outputId": "7f80feeb-7f9e-4870-edb0-24032daf30cd"
      },
      "source": [
        "#Carga do conjunto de teste\n",
        "arquivo = 'https://raw.githubusercontent.com/MLRG-CEFET-RJ/ml-class/master/ml-t3/datasets/credtest.txt'\n",
        "data_test = pd.read_csv(arquivo, sep='\\t', header=None, names=headers)\n",
        "\n",
        "#Conferência dos primeiros registros do conjunto de dados\n",
        "data_test.head()"
      ],
      "execution_count": null,
      "outputs": [
        {
          "output_type": "execute_result",
          "data": {
            "text/html": [
              "<div>\n",
              "<style scoped>\n",
              "    .dataframe tbody tr th:only-of-type {\n",
              "        vertical-align: middle;\n",
              "    }\n",
              "\n",
              "    .dataframe tbody tr th {\n",
              "        vertical-align: top;\n",
              "    }\n",
              "\n",
              "    .dataframe thead th {\n",
              "        text-align: right;\n",
              "    }\n",
              "</style>\n",
              "<table border=\"1\" class=\"dataframe\">\n",
              "  <thead>\n",
              "    <tr style=\"text-align: right;\">\n",
              "      <th></th>\n",
              "      <th>ESCT</th>\n",
              "      <th>NDEP</th>\n",
              "      <th>RENDA</th>\n",
              "      <th>TIPOR</th>\n",
              "      <th>VBEM</th>\n",
              "      <th>NPARC</th>\n",
              "      <th>VPARC</th>\n",
              "      <th>TEL</th>\n",
              "      <th>IDADE</th>\n",
              "      <th>RESMS</th>\n",
              "      <th>ENTRADA</th>\n",
              "      <th>CLASSE</th>\n",
              "    </tr>\n",
              "  </thead>\n",
              "  <tbody>\n",
              "    <tr>\n",
              "      <th>0</th>\n",
              "      <td>0</td>\n",
              "      <td>2</td>\n",
              "      <td>500</td>\n",
              "      <td>1</td>\n",
              "      <td>618</td>\n",
              "      <td>10</td>\n",
              "      <td>85</td>\n",
              "      <td>0</td>\n",
              "      <td>36</td>\n",
              "      <td>6</td>\n",
              "      <td>0</td>\n",
              "      <td>0</td>\n",
              "    </tr>\n",
              "    <tr>\n",
              "      <th>1</th>\n",
              "      <td>1</td>\n",
              "      <td>0</td>\n",
              "      <td>813</td>\n",
              "      <td>0</td>\n",
              "      <td>552</td>\n",
              "      <td>4</td>\n",
              "      <td>119</td>\n",
              "      <td>0</td>\n",
              "      <td>43</td>\n",
              "      <td>48</td>\n",
              "      <td>119</td>\n",
              "      <td>1</td>\n",
              "    </tr>\n",
              "    <tr>\n",
              "      <th>2</th>\n",
              "      <td>3</td>\n",
              "      <td>0</td>\n",
              "      <td>350</td>\n",
              "      <td>0</td>\n",
              "      <td>488</td>\n",
              "      <td>12</td>\n",
              "      <td>66</td>\n",
              "      <td>0</td>\n",
              "      <td>43</td>\n",
              "      <td>0</td>\n",
              "      <td>0</td>\n",
              "      <td>1</td>\n",
              "    </tr>\n",
              "    <tr>\n",
              "      <th>3</th>\n",
              "      <td>1</td>\n",
              "      <td>0</td>\n",
              "      <td>1530</td>\n",
              "      <td>0</td>\n",
              "      <td>381</td>\n",
              "      <td>1</td>\n",
              "      <td>398</td>\n",
              "      <td>0</td>\n",
              "      <td>28</td>\n",
              "      <td>48</td>\n",
              "      <td>0</td>\n",
              "      <td>1</td>\n",
              "    </tr>\n",
              "    <tr>\n",
              "      <th>4</th>\n",
              "      <td>0</td>\n",
              "      <td>0</td>\n",
              "      <td>688</td>\n",
              "      <td>1</td>\n",
              "      <td>396</td>\n",
              "      <td>10</td>\n",
              "      <td>60</td>\n",
              "      <td>0</td>\n",
              "      <td>49</td>\n",
              "      <td>72</td>\n",
              "      <td>0</td>\n",
              "      <td>1</td>\n",
              "    </tr>\n",
              "  </tbody>\n",
              "</table>\n",
              "</div>"
            ],
            "text/plain": [
              "   ESCT  NDEP  RENDA  TIPOR  VBEM  ...  TEL  IDADE  RESMS  ENTRADA  CLASSE\n",
              "0     0     2    500      1   618  ...    0     36      6        0       0\n",
              "1     1     0    813      0   552  ...    0     43     48      119       1\n",
              "2     3     0    350      0   488  ...    0     43      0        0       1\n",
              "3     1     0   1530      0   381  ...    0     28     48        0       1\n",
              "4     0     0    688      1   396  ...    0     49     72        0       1\n",
              "\n",
              "[5 rows x 12 columns]"
            ]
          },
          "metadata": {
            "tags": []
          },
          "execution_count": 9
        }
      ]
    },
    {
      "cell_type": "markdown",
      "metadata": {
        "id": "EbPzw6izikqe"
      },
      "source": [
        "* **Variáveis \"Dummies\" para tratamento de dados categóricos nominais**"
      ]
    },
    {
      "cell_type": "markdown",
      "metadata": {
        "id": "K-BfvW5Ue0iq"
      },
      "source": [
        "Algumas variáveis no conjunto de dados são discretas nominais, ou seja, os valores apresentados não representam uma contagem ordinal, mas categorias. Essa situação pode gerar inconsistências na criação e treinamento de modelos. Para lidar com essa situação serão criadas variáveis *dummies*, ou seja, variáveis que representam cada categoria e assumem valores binários (1 = verdadeiro / 0 = falso)."
      ]
    },
    {
      "cell_type": "code",
      "metadata": {
        "colab": {
          "base_uri": "https://localhost:8080/"
        },
        "id": "zGFGB3Toe1cQ",
        "outputId": "edf9b524-e140-4527-982b-47727ce7e178"
      },
      "source": [
        "#Conferência de valores da variável Estado Civil (ESCT)\n",
        "print(data_train['ESCT'].head(10),\n",
        "      data_train['ESCT'].describe(),\n",
        "      sep='\\n\\n')"
      ],
      "execution_count": null,
      "outputs": [
        {
          "output_type": "stream",
          "text": [
            "0    1\n",
            "1    0\n",
            "2    0\n",
            "3    0\n",
            "4    1\n",
            "5    0\n",
            "6    0\n",
            "7    0\n",
            "8    0\n",
            "9    0\n",
            "Name: ESCT, dtype: int64\n",
            "\n",
            "count    1500.000000\n",
            "mean        0.512000\n",
            "std         0.659909\n",
            "min         0.000000\n",
            "25%         0.000000\n",
            "50%         0.000000\n",
            "75%         1.000000\n",
            "max         3.000000\n",
            "Name: ESCT, dtype: float64\n"
          ],
          "name": "stdout"
        }
      ]
    },
    {
      "cell_type": "code",
      "metadata": {
        "colab": {
          "base_uri": "https://localhost:8080/"
        },
        "id": "86-Ike-rfGW8",
        "outputId": "ca2b7da0-6028-47fa-ce79-d0df69db8458"
      },
      "source": [
        "#Conferência dos valores possíveis da variável\n",
        "set(data_train['ESCT'])"
      ],
      "execution_count": null,
      "outputs": [
        {
          "output_type": "execute_result",
          "data": {
            "text/plain": [
              "{0, 1, 2, 3}"
            ]
          },
          "metadata": {
            "tags": []
          },
          "execution_count": 11
        }
      ]
    },
    {
      "cell_type": "markdown",
      "metadata": {
        "id": "HULdAHrafJRU"
      },
      "source": [
        "Nota-se pela análise simplificada que as opções para estado civil estão registradas na base de dados como os valores 0, 1, 2 e 3. Para criação de variáveis *dummies* serão criadas $n-1$ variáveis binárias, onde $n$ é o número de categorias. Isso é feito porque a categoria $n$ ocorrerá quando todas as demais tiverem valor 0 e, portanto, não precisa ser mapeada.\n",
        "\n",
        "---\n",
        "\n",
        "Para exemplificar a lógica consideremos o estado civil cuja categoria é 0. Podemos consultar o dataframe original da forma abaixo e obtemos um vetor de valores lógicos, no qual é apontado verdadeiro para os casos em que a categoria do estado civil é 0."
      ]
    },
    {
      "cell_type": "code",
      "metadata": {
        "colab": {
          "base_uri": "https://localhost:8080/"
        },
        "id": "JUj1RZA4fO_a",
        "outputId": "def1a647-aeb4-4be7-fd34-b4ed16276f6e"
      },
      "source": [
        "data_train['ESCT']==0"
      ],
      "execution_count": null,
      "outputs": [
        {
          "output_type": "execute_result",
          "data": {
            "text/plain": [
              "0       False\n",
              "1        True\n",
              "2        True\n",
              "3        True\n",
              "4       False\n",
              "        ...  \n",
              "1495    False\n",
              "1496    False\n",
              "1497     True\n",
              "1498     True\n",
              "1499     True\n",
              "Name: ESCT, Length: 1500, dtype: bool"
            ]
          },
          "metadata": {
            "tags": []
          },
          "execution_count": 12
        }
      ]
    },
    {
      "cell_type": "markdown",
      "metadata": {
        "id": "r6dC5RMufSLy"
      },
      "source": [
        "Para criar as variáveis, basta usar esta mesma lógica para as categorias possíveis, transformando os valores lógicos em inteiros. Contudo, a biblioteca `pandas` possui um método denominado `get_dummies` que simplifica esta transformação. Aplicaremos abaixo o método no conjunto de dados."
      ]
    },
    {
      "cell_type": "code",
      "metadata": {
        "colab": {
          "base_uri": "https://localhost:8080/"
        },
        "id": "JB0AXkxtfTgA",
        "outputId": "8c10c94d-d357-44ef-87e1-83352859f51e"
      },
      "source": [
        "pd.get_dummies(data=data_train,\n",
        "               prefix='ESCT',\n",
        "               columns=['ESCT'],\n",
        "               drop_first=True)"
      ],
      "execution_count": null,
      "outputs": [
        {
          "output_type": "execute_result",
          "data": {
            "text/html": [
              "<div>\n",
              "<style scoped>\n",
              "    .dataframe tbody tr th:only-of-type {\n",
              "        vertical-align: middle;\n",
              "    }\n",
              "\n",
              "    .dataframe tbody tr th {\n",
              "        vertical-align: top;\n",
              "    }\n",
              "\n",
              "    .dataframe thead th {\n",
              "        text-align: right;\n",
              "    }\n",
              "</style>\n",
              "<table border=\"1\" class=\"dataframe\">\n",
              "  <thead>\n",
              "    <tr style=\"text-align: right;\">\n",
              "      <th></th>\n",
              "      <th>NDEP</th>\n",
              "      <th>RENDA</th>\n",
              "      <th>TIPOR</th>\n",
              "      <th>VBEM</th>\n",
              "      <th>NPARC</th>\n",
              "      <th>VPARC</th>\n",
              "      <th>TEL</th>\n",
              "      <th>IDADE</th>\n",
              "      <th>RESMS</th>\n",
              "      <th>ENTRADA</th>\n",
              "      <th>CLASSE</th>\n",
              "      <th>ESCT_1</th>\n",
              "      <th>ESCT_2</th>\n",
              "      <th>ESCT_3</th>\n",
              "    </tr>\n",
              "  </thead>\n",
              "  <tbody>\n",
              "    <tr>\n",
              "      <th>0</th>\n",
              "      <td>0</td>\n",
              "      <td>360</td>\n",
              "      <td>0</td>\n",
              "      <td>313</td>\n",
              "      <td>9</td>\n",
              "      <td>52</td>\n",
              "      <td>0</td>\n",
              "      <td>25</td>\n",
              "      <td>48</td>\n",
              "      <td>0</td>\n",
              "      <td>1</td>\n",
              "      <td>1</td>\n",
              "      <td>0</td>\n",
              "      <td>0</td>\n",
              "    </tr>\n",
              "    <tr>\n",
              "      <th>1</th>\n",
              "      <td>0</td>\n",
              "      <td>350</td>\n",
              "      <td>1</td>\n",
              "      <td>468</td>\n",
              "      <td>10</td>\n",
              "      <td>65</td>\n",
              "      <td>0</td>\n",
              "      <td>33</td>\n",
              "      <td>6</td>\n",
              "      <td>0</td>\n",
              "      <td>1</td>\n",
              "      <td>0</td>\n",
              "      <td>0</td>\n",
              "      <td>0</td>\n",
              "    </tr>\n",
              "    <tr>\n",
              "      <th>2</th>\n",
              "      <td>0</td>\n",
              "      <td>1100</td>\n",
              "      <td>0</td>\n",
              "      <td>829</td>\n",
              "      <td>9</td>\n",
              "      <td>125</td>\n",
              "      <td>0</td>\n",
              "      <td>56</td>\n",
              "      <td>48</td>\n",
              "      <td>0</td>\n",
              "      <td>1</td>\n",
              "      <td>0</td>\n",
              "      <td>0</td>\n",
              "      <td>0</td>\n",
              "    </tr>\n",
              "    <tr>\n",
              "      <th>3</th>\n",
              "      <td>0</td>\n",
              "      <td>3000</td>\n",
              "      <td>0</td>\n",
              "      <td>552</td>\n",
              "      <td>12</td>\n",
              "      <td>76</td>\n",
              "      <td>1</td>\n",
              "      <td>31</td>\n",
              "      <td>60</td>\n",
              "      <td>0</td>\n",
              "      <td>1</td>\n",
              "      <td>0</td>\n",
              "      <td>0</td>\n",
              "      <td>0</td>\n",
              "    </tr>\n",
              "    <tr>\n",
              "      <th>4</th>\n",
              "      <td>0</td>\n",
              "      <td>1000</td>\n",
              "      <td>0</td>\n",
              "      <td>809</td>\n",
              "      <td>12</td>\n",
              "      <td>111</td>\n",
              "      <td>0</td>\n",
              "      <td>24</td>\n",
              "      <td>7</td>\n",
              "      <td>0</td>\n",
              "      <td>1</td>\n",
              "      <td>1</td>\n",
              "      <td>0</td>\n",
              "      <td>0</td>\n",
              "    </tr>\n",
              "    <tr>\n",
              "      <th>...</th>\n",
              "      <td>...</td>\n",
              "      <td>...</td>\n",
              "      <td>...</td>\n",
              "      <td>...</td>\n",
              "      <td>...</td>\n",
              "      <td>...</td>\n",
              "      <td>...</td>\n",
              "      <td>...</td>\n",
              "      <td>...</td>\n",
              "      <td>...</td>\n",
              "      <td>...</td>\n",
              "      <td>...</td>\n",
              "      <td>...</td>\n",
              "      <td>...</td>\n",
              "    </tr>\n",
              "    <tr>\n",
              "      <th>1495</th>\n",
              "      <td>0</td>\n",
              "      <td>500</td>\n",
              "      <td>0</td>\n",
              "      <td>437</td>\n",
              "      <td>12</td>\n",
              "      <td>60</td>\n",
              "      <td>0</td>\n",
              "      <td>60</td>\n",
              "      <td>48</td>\n",
              "      <td>0</td>\n",
              "      <td>1</td>\n",
              "      <td>1</td>\n",
              "      <td>0</td>\n",
              "      <td>0</td>\n",
              "    </tr>\n",
              "    <tr>\n",
              "      <th>1496</th>\n",
              "      <td>0</td>\n",
              "      <td>2057</td>\n",
              "      <td>0</td>\n",
              "      <td>301</td>\n",
              "      <td>1</td>\n",
              "      <td>318</td>\n",
              "      <td>0</td>\n",
              "      <td>35</td>\n",
              "      <td>48</td>\n",
              "      <td>0</td>\n",
              "      <td>1</td>\n",
              "      <td>1</td>\n",
              "      <td>0</td>\n",
              "      <td>0</td>\n",
              "    </tr>\n",
              "    <tr>\n",
              "      <th>1497</th>\n",
              "      <td>0</td>\n",
              "      <td>570</td>\n",
              "      <td>0</td>\n",
              "      <td>511</td>\n",
              "      <td>12</td>\n",
              "      <td>71</td>\n",
              "      <td>1</td>\n",
              "      <td>28</td>\n",
              "      <td>144</td>\n",
              "      <td>0</td>\n",
              "      <td>1</td>\n",
              "      <td>0</td>\n",
              "      <td>0</td>\n",
              "      <td>0</td>\n",
              "    </tr>\n",
              "    <tr>\n",
              "      <th>1498</th>\n",
              "      <td>0</td>\n",
              "      <td>360</td>\n",
              "      <td>0</td>\n",
              "      <td>384</td>\n",
              "      <td>12</td>\n",
              "      <td>52</td>\n",
              "      <td>0</td>\n",
              "      <td>33</td>\n",
              "      <td>36</td>\n",
              "      <td>0</td>\n",
              "      <td>1</td>\n",
              "      <td>0</td>\n",
              "      <td>0</td>\n",
              "      <td>0</td>\n",
              "    </tr>\n",
              "    <tr>\n",
              "      <th>1499</th>\n",
              "      <td>4</td>\n",
              "      <td>501</td>\n",
              "      <td>1</td>\n",
              "      <td>849</td>\n",
              "      <td>10</td>\n",
              "      <td>117</td>\n",
              "      <td>0</td>\n",
              "      <td>37</td>\n",
              "      <td>6</td>\n",
              "      <td>0</td>\n",
              "      <td>0</td>\n",
              "      <td>0</td>\n",
              "      <td>0</td>\n",
              "      <td>0</td>\n",
              "    </tr>\n",
              "  </tbody>\n",
              "</table>\n",
              "<p>1500 rows × 14 columns</p>\n",
              "</div>"
            ],
            "text/plain": [
              "      NDEP  RENDA  TIPOR  VBEM  NPARC  ...  ENTRADA  CLASSE  ESCT_1  ESCT_2  ESCT_3\n",
              "0        0    360      0   313      9  ...        0       1       1       0       0\n",
              "1        0    350      1   468     10  ...        0       1       0       0       0\n",
              "2        0   1100      0   829      9  ...        0       1       0       0       0\n",
              "3        0   3000      0   552     12  ...        0       1       0       0       0\n",
              "4        0   1000      0   809     12  ...        0       1       1       0       0\n",
              "...    ...    ...    ...   ...    ...  ...      ...     ...     ...     ...     ...\n",
              "1495     0    500      0   437     12  ...        0       1       1       0       0\n",
              "1496     0   2057      0   301      1  ...        0       1       1       0       0\n",
              "1497     0    570      0   511     12  ...        0       1       0       0       0\n",
              "1498     0    360      0   384     12  ...        0       1       0       0       0\n",
              "1499     4    501      1   849     10  ...        0       0       0       0       0\n",
              "\n",
              "[1500 rows x 14 columns]"
            ]
          },
          "metadata": {
            "tags": []
          },
          "execution_count": 13
        }
      ]
    },
    {
      "cell_type": "markdown",
      "metadata": {
        "id": "dfNag_3-fbZJ"
      },
      "source": [
        "Percebe-se que o atributo 'ESCT' foi substituído pelas variáveis novas e criado um data frame com os dados originais, exceto por esta substituição. Além disso, foi definido o parâmetro `drop_first` com valor `True`, isso força o método a eliminar a primeira categoria, tornando a quantidade de *dummies* igual a $n-1$ pelos motivos explicados anteriormente nessa seção. Para que todas as categorias estejam presentes no novo *data frame*, o parâmetro `drop_first` deve ser descartado, tendo em vista que seu valor padrão é `False`."
      ]
    },
    {
      "cell_type": "code",
      "metadata": {
        "colab": {
          "base_uri": "https://localhost:8080/"
        },
        "id": "MLIUbuJHfgBH",
        "outputId": "f8b82811-d58c-4f13-f34c-778edce41bd8"
      },
      "source": [
        "#Usando a lógica estudada para recarregar os dados e refazer a separação\n",
        "data_train_ = pd.get_dummies(data=data_train,\n",
        "               prefix='ESCT',\n",
        "               columns=['ESCT'],\n",
        "               drop_first=True)\n",
        "\n",
        "data_train_.head()"
      ],
      "execution_count": null,
      "outputs": [
        {
          "output_type": "execute_result",
          "data": {
            "text/html": [
              "<div>\n",
              "<style scoped>\n",
              "    .dataframe tbody tr th:only-of-type {\n",
              "        vertical-align: middle;\n",
              "    }\n",
              "\n",
              "    .dataframe tbody tr th {\n",
              "        vertical-align: top;\n",
              "    }\n",
              "\n",
              "    .dataframe thead th {\n",
              "        text-align: right;\n",
              "    }\n",
              "</style>\n",
              "<table border=\"1\" class=\"dataframe\">\n",
              "  <thead>\n",
              "    <tr style=\"text-align: right;\">\n",
              "      <th></th>\n",
              "      <th>NDEP</th>\n",
              "      <th>RENDA</th>\n",
              "      <th>TIPOR</th>\n",
              "      <th>VBEM</th>\n",
              "      <th>NPARC</th>\n",
              "      <th>VPARC</th>\n",
              "      <th>TEL</th>\n",
              "      <th>IDADE</th>\n",
              "      <th>RESMS</th>\n",
              "      <th>ENTRADA</th>\n",
              "      <th>CLASSE</th>\n",
              "      <th>ESCT_1</th>\n",
              "      <th>ESCT_2</th>\n",
              "      <th>ESCT_3</th>\n",
              "    </tr>\n",
              "  </thead>\n",
              "  <tbody>\n",
              "    <tr>\n",
              "      <th>0</th>\n",
              "      <td>0</td>\n",
              "      <td>360</td>\n",
              "      <td>0</td>\n",
              "      <td>313</td>\n",
              "      <td>9</td>\n",
              "      <td>52</td>\n",
              "      <td>0</td>\n",
              "      <td>25</td>\n",
              "      <td>48</td>\n",
              "      <td>0</td>\n",
              "      <td>1</td>\n",
              "      <td>1</td>\n",
              "      <td>0</td>\n",
              "      <td>0</td>\n",
              "    </tr>\n",
              "    <tr>\n",
              "      <th>1</th>\n",
              "      <td>0</td>\n",
              "      <td>350</td>\n",
              "      <td>1</td>\n",
              "      <td>468</td>\n",
              "      <td>10</td>\n",
              "      <td>65</td>\n",
              "      <td>0</td>\n",
              "      <td>33</td>\n",
              "      <td>6</td>\n",
              "      <td>0</td>\n",
              "      <td>1</td>\n",
              "      <td>0</td>\n",
              "      <td>0</td>\n",
              "      <td>0</td>\n",
              "    </tr>\n",
              "    <tr>\n",
              "      <th>2</th>\n",
              "      <td>0</td>\n",
              "      <td>1100</td>\n",
              "      <td>0</td>\n",
              "      <td>829</td>\n",
              "      <td>9</td>\n",
              "      <td>125</td>\n",
              "      <td>0</td>\n",
              "      <td>56</td>\n",
              "      <td>48</td>\n",
              "      <td>0</td>\n",
              "      <td>1</td>\n",
              "      <td>0</td>\n",
              "      <td>0</td>\n",
              "      <td>0</td>\n",
              "    </tr>\n",
              "    <tr>\n",
              "      <th>3</th>\n",
              "      <td>0</td>\n",
              "      <td>3000</td>\n",
              "      <td>0</td>\n",
              "      <td>552</td>\n",
              "      <td>12</td>\n",
              "      <td>76</td>\n",
              "      <td>1</td>\n",
              "      <td>31</td>\n",
              "      <td>60</td>\n",
              "      <td>0</td>\n",
              "      <td>1</td>\n",
              "      <td>0</td>\n",
              "      <td>0</td>\n",
              "      <td>0</td>\n",
              "    </tr>\n",
              "    <tr>\n",
              "      <th>4</th>\n",
              "      <td>0</td>\n",
              "      <td>1000</td>\n",
              "      <td>0</td>\n",
              "      <td>809</td>\n",
              "      <td>12</td>\n",
              "      <td>111</td>\n",
              "      <td>0</td>\n",
              "      <td>24</td>\n",
              "      <td>7</td>\n",
              "      <td>0</td>\n",
              "      <td>1</td>\n",
              "      <td>1</td>\n",
              "      <td>0</td>\n",
              "      <td>0</td>\n",
              "    </tr>\n",
              "  </tbody>\n",
              "</table>\n",
              "</div>"
            ],
            "text/plain": [
              "   NDEP  RENDA  TIPOR  VBEM  NPARC  ...  ENTRADA  CLASSE  ESCT_1  ESCT_2  ESCT_3\n",
              "0     0    360      0   313      9  ...        0       1       1       0       0\n",
              "1     0    350      1   468     10  ...        0       1       0       0       0\n",
              "2     0   1100      0   829      9  ...        0       1       0       0       0\n",
              "3     0   3000      0   552     12  ...        0       1       0       0       0\n",
              "4     0   1000      0   809     12  ...        0       1       1       0       0\n",
              "\n",
              "[5 rows x 14 columns]"
            ]
          },
          "metadata": {
            "tags": []
          },
          "execution_count": 14
        }
      ]
    },
    {
      "cell_type": "code",
      "metadata": {
        "colab": {
          "base_uri": "https://localhost:8080/"
        },
        "id": "2--ceqOUf2Tj",
        "outputId": "b519f691-dcb7-4a13-a284-93bd96be197e"
      },
      "source": [
        "#Usando a lógica estudada para recarregar os dados e refazer a separação\n",
        "data_test_ = pd.get_dummies(data=data_test,\n",
        "               prefix='ESCT',\n",
        "               columns=['ESCT'],\n",
        "               drop_first=True)\n",
        "\n",
        "data_test_.head()"
      ],
      "execution_count": null,
      "outputs": [
        {
          "output_type": "execute_result",
          "data": {
            "text/html": [
              "<div>\n",
              "<style scoped>\n",
              "    .dataframe tbody tr th:only-of-type {\n",
              "        vertical-align: middle;\n",
              "    }\n",
              "\n",
              "    .dataframe tbody tr th {\n",
              "        vertical-align: top;\n",
              "    }\n",
              "\n",
              "    .dataframe thead th {\n",
              "        text-align: right;\n",
              "    }\n",
              "</style>\n",
              "<table border=\"1\" class=\"dataframe\">\n",
              "  <thead>\n",
              "    <tr style=\"text-align: right;\">\n",
              "      <th></th>\n",
              "      <th>NDEP</th>\n",
              "      <th>RENDA</th>\n",
              "      <th>TIPOR</th>\n",
              "      <th>VBEM</th>\n",
              "      <th>NPARC</th>\n",
              "      <th>VPARC</th>\n",
              "      <th>TEL</th>\n",
              "      <th>IDADE</th>\n",
              "      <th>RESMS</th>\n",
              "      <th>ENTRADA</th>\n",
              "      <th>CLASSE</th>\n",
              "      <th>ESCT_1</th>\n",
              "      <th>ESCT_2</th>\n",
              "      <th>ESCT_3</th>\n",
              "    </tr>\n",
              "  </thead>\n",
              "  <tbody>\n",
              "    <tr>\n",
              "      <th>0</th>\n",
              "      <td>2</td>\n",
              "      <td>500</td>\n",
              "      <td>1</td>\n",
              "      <td>618</td>\n",
              "      <td>10</td>\n",
              "      <td>85</td>\n",
              "      <td>0</td>\n",
              "      <td>36</td>\n",
              "      <td>6</td>\n",
              "      <td>0</td>\n",
              "      <td>0</td>\n",
              "      <td>0</td>\n",
              "      <td>0</td>\n",
              "      <td>0</td>\n",
              "    </tr>\n",
              "    <tr>\n",
              "      <th>1</th>\n",
              "      <td>0</td>\n",
              "      <td>813</td>\n",
              "      <td>0</td>\n",
              "      <td>552</td>\n",
              "      <td>4</td>\n",
              "      <td>119</td>\n",
              "      <td>0</td>\n",
              "      <td>43</td>\n",
              "      <td>48</td>\n",
              "      <td>119</td>\n",
              "      <td>1</td>\n",
              "      <td>1</td>\n",
              "      <td>0</td>\n",
              "      <td>0</td>\n",
              "    </tr>\n",
              "    <tr>\n",
              "      <th>2</th>\n",
              "      <td>0</td>\n",
              "      <td>350</td>\n",
              "      <td>0</td>\n",
              "      <td>488</td>\n",
              "      <td>12</td>\n",
              "      <td>66</td>\n",
              "      <td>0</td>\n",
              "      <td>43</td>\n",
              "      <td>0</td>\n",
              "      <td>0</td>\n",
              "      <td>1</td>\n",
              "      <td>0</td>\n",
              "      <td>0</td>\n",
              "      <td>1</td>\n",
              "    </tr>\n",
              "    <tr>\n",
              "      <th>3</th>\n",
              "      <td>0</td>\n",
              "      <td>1530</td>\n",
              "      <td>0</td>\n",
              "      <td>381</td>\n",
              "      <td>1</td>\n",
              "      <td>398</td>\n",
              "      <td>0</td>\n",
              "      <td>28</td>\n",
              "      <td>48</td>\n",
              "      <td>0</td>\n",
              "      <td>1</td>\n",
              "      <td>1</td>\n",
              "      <td>0</td>\n",
              "      <td>0</td>\n",
              "    </tr>\n",
              "    <tr>\n",
              "      <th>4</th>\n",
              "      <td>0</td>\n",
              "      <td>688</td>\n",
              "      <td>1</td>\n",
              "      <td>396</td>\n",
              "      <td>10</td>\n",
              "      <td>60</td>\n",
              "      <td>0</td>\n",
              "      <td>49</td>\n",
              "      <td>72</td>\n",
              "      <td>0</td>\n",
              "      <td>1</td>\n",
              "      <td>0</td>\n",
              "      <td>0</td>\n",
              "      <td>0</td>\n",
              "    </tr>\n",
              "  </tbody>\n",
              "</table>\n",
              "</div>"
            ],
            "text/plain": [
              "   NDEP  RENDA  TIPOR  VBEM  NPARC  ...  ENTRADA  CLASSE  ESCT_1  ESCT_2  ESCT_3\n",
              "0     2    500      1   618     10  ...        0       0       0       0       0\n",
              "1     0    813      0   552      4  ...      119       1       1       0       0\n",
              "2     0    350      0   488     12  ...        0       1       0       0       1\n",
              "3     0   1530      0   381      1  ...        0       1       1       0       0\n",
              "4     0    688      1   396     10  ...        0       1       0       0       0\n",
              "\n",
              "[5 rows x 14 columns]"
            ]
          },
          "metadata": {
            "tags": []
          },
          "execution_count": 15
        }
      ]
    },
    {
      "cell_type": "code",
      "metadata": {
        "colab": {
          "base_uri": "https://localhost:8080/"
        },
        "id": "1mKxbMr7f58C",
        "outputId": "54288f98-41a4-4124-e3a5-ccd90eb54768"
      },
      "source": [
        "#Separação da variável alvo não muda\n",
        "##=======================================\n",
        "\n",
        "#Transformação da classe alvo de cada conjunto em matrizes\n",
        "y_train_ = np.array(data_train_['CLASSE'])\n",
        "y_test = np.array(data_test_['CLASSE'])\n",
        "\n",
        "#Checagem rápida\n",
        "print(y_train_[:10],\n",
        "      y_test[:10],\n",
        "      sep='\\n\\n')"
      ],
      "execution_count": null,
      "outputs": [
        {
          "output_type": "stream",
          "text": [
            "[1 1 1 1 1 1 0 1 0 1]\n",
            "\n",
            "[0 1 1 1 1 0 0 1 0 1]\n"
          ],
          "name": "stdout"
        }
      ]
    },
    {
      "cell_type": "code",
      "metadata": {
        "id": "ZrHKRWW-gDTF"
      },
      "source": [
        "#Separação dos atributos precisa atentar que a ordem das colunas mudou\n",
        "##=============================================================================\n",
        "\n",
        "#Recuperação dos nomes das colunas\n",
        "atributos = list(data_train_.columns)\n",
        "\n",
        "#Eliminação da coluna com a classe na lista de atributos\n",
        "atributos.remove('CLASSE')"
      ],
      "execution_count": null,
      "outputs": []
    },
    {
      "cell_type": "code",
      "metadata": {
        "id": "5hOMBtuVgIcm"
      },
      "source": [
        "#Uso da lista de atributos para separação do conjunto de dados\n",
        "##=============================================================================\n",
        "\n",
        "#Transformação dos atributos  de cada conjunto em matrizes\n",
        "X_train_ = np.array(data_train_.loc[:, atributos])\n",
        "X_test = np.array(data_test_.loc[:, atributos])"
      ],
      "execution_count": null,
      "outputs": []
    },
    {
      "cell_type": "code",
      "metadata": {
        "colab": {
          "base_uri": "https://localhost:8080/"
        },
        "id": "D0PEbt01Q3SI",
        "outputId": "a1621bcc-a16f-4c4e-bb78-edf17f861e4a"
      },
      "source": [
        "#Conferência das dimensões das matrizes\n",
        "print(X_train_.shape, y_train_.shape)"
      ],
      "execution_count": null,
      "outputs": [
        {
          "output_type": "stream",
          "text": [
            "(1500, 13) (1500,)\n"
          ],
          "name": "stdout"
        }
      ]
    },
    {
      "cell_type": "code",
      "metadata": {
        "colab": {
          "base_uri": "https://localhost:8080/"
        },
        "id": "b4InNoSuRxl9",
        "outputId": "6b007a56-0559-4727-f880-7dafac4de6a3"
      },
      "source": [
        "#Conferência das dimensões das matrizes\n",
        "print(X_test.shape, y_test.shape)"
      ],
      "execution_count": null,
      "outputs": [
        {
          "output_type": "stream",
          "text": [
            "(577, 13) (577,)\n"
          ],
          "name": "stdout"
        }
      ]
    },
    {
      "cell_type": "markdown",
      "metadata": {
        "id": "jvTLuehCWBaw"
      },
      "source": [
        "* **Divisão do conjunto originalmente criado como treinamento em novos subconjuntos para**:\n",
        "\n",
        "* Treino: 80% dos dados do arquivo `credtrain.txt`\n",
        "* Validação: 20% dos dados do arquivo `credtrain.txt`"
      ]
    },
    {
      "cell_type": "code",
      "metadata": {
        "id": "XZG19VLMngWT"
      },
      "source": [
        "#Separação de treino e validação não muda\n",
        "##=======================================\n",
        "from sklearn.model_selection import train_test_split\n",
        "\n",
        "X_train, X_val, y_train, y_val = train_test_split(X_train_, y_train_,\n",
        "                                                  train_size=0.2,\n",
        "                                                  random_state=31)"
      ],
      "execution_count": null,
      "outputs": []
    },
    {
      "cell_type": "code",
      "metadata": {
        "colab": {
          "base_uri": "https://localhost:8080/"
        },
        "id": "aOioFoxdnuZ-",
        "outputId": "ee567793-116b-4b20-f002-d066f5fc4e2f"
      },
      "source": [
        "print(X_train.shape, y_train.shape,\n",
        "      X_val.shape, y_val.shape)"
      ],
      "execution_count": null,
      "outputs": [
        {
          "output_type": "stream",
          "text": [
            "(300, 13) (300,) (1200, 13) (1200,)\n"
          ],
          "name": "stdout"
        }
      ]
    },
    {
      "cell_type": "markdown",
      "metadata": {
        "id": "aiwY_EbMe0nF"
      },
      "source": [
        "OBSERVAÇÃO: Usamos os nomes das variáveis da forma a seguir para distinguir a carga inicial do conjunto de treino e a separação acima, feita para permitir um processo mais adequado de treino, validação e teste em nossos fluxos de aprendizado de máquina.\n",
        "* `X_train_` e `y_train_` => Referem-se ao **conjunto de dados de treino com a quantidade de observações original**\n",
        "* `X_train` e `y_train` => Referem-se ao **subconjunto de dados de treino** equivalente a 80% do conjunto de treino original\n",
        "* `X_val` e `y_val` => Referem-se ao **subconjunto de dados de validação** equivalente a 80% do conjunto de treino original"
      ]
    },
    {
      "cell_type": "code",
      "metadata": {
        "colab": {
          "base_uri": "https://localhost:8080/"
        },
        "id": "xHWN9HoXg4sS",
        "outputId": "3e6c6edf-22a0-4346-c2cf-35ae5d47eaec"
      },
      "source": [
        "#Checagem rápida de parte dos dados carregados\n",
        "print(X_train[:5],\n",
        "      X_val[:5],\n",
        "      X_test[:5],\n",
        "      sep='\\n\\n')"
      ],
      "execution_count": null,
      "outputs": [
        {
          "output_type": "stream",
          "text": [
            "[[   0  430    0  422   10   64    0   36    0    0    0    0    0]\n",
            " [   0 2000    1  387    9   63    0   52    6    0    1    0    0]\n",
            " [   0  700    1  770   12  104    0   45    6    0    0    0    0]\n",
            " [   0  990    0  531    6  118    0   30    0    0    0    0    0]\n",
            " [   0  705    0  409   10   63    0   35   48    0    0    0    0]]\n",
            "\n",
            "[[   0  300    1  629   12   55    1   54   60  230    0    0    0]\n",
            " [   0  600    1  540   12   73    0   28    6    0    1    0    0]\n",
            " [   0  317    1  459   12   63    1   57  264    0    0    0    0]\n",
            " [   0  800    0  399    3  149    1   57    0    0    0    0    0]\n",
            " [   0 3000    0  360    1  376    0   43   48    0    1    0    0]]\n",
            "\n",
            "[[   2  500    1  618   10   85    0   36    6    0    0    0    0]\n",
            " [   0  813    0  552    4  119    0   43   48  119    1    0    0]\n",
            " [   0  350    0  488   12   66    0   43    0    0    0    0    1]\n",
            " [   0 1530    0  381    1  398    0   28   48    0    1    0    0]\n",
            " [   0  688    1  396   10   60    0   49   72    0    0    0    0]]\n"
          ],
          "name": "stdout"
        }
      ]
    },
    {
      "cell_type": "markdown",
      "metadata": {
        "id": "x7l-u0UwituO"
      },
      "source": [
        "* Normalização das caracterísitcas\n",
        "\n",
        "Como pode ser vistos nas saídas anteriores dessa seção as características estão em ordens de grandeza diferentes. Para muitos algoritmos este é um problema que pode levar a modelos inadequados. Para resolver este problema realizaremos a normalização dos dados."
      ]
    },
    {
      "cell_type": "code",
      "metadata": {
        "id": "nJl3x-JzjJem"
      },
      "source": [
        "#Criação do transformador para noramlização\n",
        "from sklearn.preprocessing import StandardScaler\n",
        "norm = StandardScaler()"
      ],
      "execution_count": null,
      "outputs": []
    },
    {
      "cell_type": "code",
      "metadata": {
        "id": "VuKkcoV-iuVy"
      },
      "source": [
        "#Normalização das características\n",
        "X_train_ = norm.fit_transform(X_train_)\n",
        "X_train = norm.fit_transform(X_train)\n",
        "X_test = norm.fit_transform(X_test)\n",
        "X_val = norm.fit_transform(X_val)"
      ],
      "execution_count": null,
      "outputs": []
    },
    {
      "cell_type": "code",
      "metadata": {
        "colab": {
          "base_uri": "https://localhost:8080/"
        },
        "id": "shsDtXvEjwPI",
        "outputId": "b39852ad-0567-4474-92d0-4ab02a61f79f"
      },
      "source": [
        "#Checagem rápida de parte dos dados normalizados\n",
        "print(X_train_[0],\n",
        "      X_train[0],\n",
        "      X_val[0],\n",
        "      X_test[0],\n",
        "      sep='\\n\\n')"
      ],
      "execution_count": null,
      "outputs": [
        {
          "output_type": "stream",
          "text": [
            "[-0.22118458 -0.68989239 -0.89603829 -0.93761067  0.16833299 -0.79800326\n",
            " -0.39336295 -1.22827955  0.31287827 -0.34213664  1.22304549 -0.13791932\n",
            " -0.15902987]\n",
            "\n",
            "[-0.23995691 -0.55588511 -0.78288136 -0.63954325  0.48186559 -0.68331454\n",
            " -0.33947258 -0.41404433 -0.61178962 -0.41850915 -0.71774056 -0.14285714\n",
            " -0.11624764]\n",
            "\n",
            "[-0.21807746 -0.78147173  1.07984489  0.2442632   0.98835168 -0.7312085\n",
            "  2.46146776  0.97922561  0.58128115  1.97895427 -0.84370625 -0.13665914\n",
            " -0.16815955]\n",
            "\n",
            "[ 3.69396032 -0.49166148  1.10033085  0.14085423  0.44020867 -0.27731176\n",
            " -0.35630482 -0.38533555 -0.46487844 -0.29246359 -0.81708632 -0.13940814\n",
            " -0.1943445 ]\n"
          ],
          "name": "stdout"
        }
      ]
    },
    {
      "cell_type": "markdown",
      "metadata": {
        "id": "cugOxsJsAPWg"
      },
      "source": [
        "##1.1 Boosting"
      ]
    },
    {
      "cell_type": "markdown",
      "metadata": {
        "id": "QCik6pXZFnRI"
      },
      "source": [
        "O boosting visa aumentar a acurácia de modelos, pela combinação sequencial e iterativa de classificadores. Isso é feito considerando que dados $k$ classificadores, a iteração vai atualizando os pesos da classificação e usando os resultados para que o próximo classificador aprenda melhor com as falhas de classificação realizadas pelo anterior [Han, 2012]."
      ]
    },
    {
      "cell_type": "markdown",
      "metadata": {
        "id": "yG_saaYw_bk4"
      },
      "source": [
        "**CRIAÇÃO E TREINAMENTO DOS MODELOS**"
      ]
    },
    {
      "cell_type": "code",
      "metadata": {
        "id": "L_y-dldk_bw7"
      },
      "source": [
        "#Bibliotecas para criação dos indutores\n",
        "from sklearn.ensemble import AdaBoostClassifier\n",
        "from sklearn.ensemble import GradientBoostingClassifier"
      ],
      "execution_count": null,
      "outputs": []
    },
    {
      "cell_type": "markdown",
      "metadata": {
        "id": "TEHEFpv2dfrQ"
      },
      "source": [
        "Nesta aplicação, está sendo usado o próprio AdaBoost como indutor, mas é importante ressaltar a possibilidade de uso da classe `AdaBoostClassifier` em conjunto com outros algoritmos. Para esta aplicação alternativa, o hiperparâmetro `base_estimator` deve receber o algoritmo deejado. Por exemplo, poderia ser adicionado `base_estimator=DecisionTreeClassifier(max_depth=2)` para que fosse realizado o treinamento de indutor usando classificadores de árvore de decisão.\n",
        "\n",
        "Além disso, tanto para o AdaBoost quanto para o próximo modelo (Gradient Boosting) foram criados indutores sem aplicação de técnicas de sintonização de hiperparâmetros. Com essa alternativa, os modelos treinados usam os hiperparâmetros padrão de cada classificador."
      ]
    },
    {
      "cell_type": "markdown",
      "metadata": {
        "id": "c0WKjePkf3ph"
      },
      "source": [
        "* **AdaBoost**\n",
        "\n",
        "\n",
        "Partindo da abordagem boosting o algoritmo AdaBoost - Adaptive Boosting, realiza a aplicação iterativa dos classificadores e de acordo com seu erro de classificação determina um peso para o voto de cada classificador. Por fim, para determinar a classificação final, diferentemente do que é feito no bagging cujos votos de todos classificadores tem peso igual, realiza a votação com pesos diferentes para cada classificador [Han, 2012]."
      ]
    },
    {
      "cell_type": "code",
      "metadata": {
        "id": "CViBEkiZbhM-"
      },
      "source": [
        "#Criação do indutor AdaBoost sem alteração de hiperparâmetros\n",
        "adaB_clf = AdaBoostClassifier()"
      ],
      "execution_count": null,
      "outputs": []
    },
    {
      "cell_type": "code",
      "metadata": {
        "colab": {
          "base_uri": "https://localhost:8080/"
        },
        "id": "XgQ99vA7bwgZ",
        "outputId": "f7515941-2c5c-48ec-c54c-cba88ccd54cd"
      },
      "source": [
        "#Treinamento do modelo usando subconjunto de treino\n",
        "adaB_clf.fit(X_train, y_train)"
      ],
      "execution_count": null,
      "outputs": [
        {
          "output_type": "execute_result",
          "data": {
            "text/plain": [
              "AdaBoostClassifier(algorithm='SAMME.R', base_estimator=None, learning_rate=1.0,\n",
              "                   n_estimators=50, random_state=None)"
            ]
          },
          "metadata": {
            "tags": []
          },
          "execution_count": 33
        }
      ]
    },
    {
      "cell_type": "markdown",
      "metadata": {
        "id": "QRG6FSJwf7Te"
      },
      "source": [
        "* **Gradient Boosting**"
      ]
    },
    {
      "cell_type": "code",
      "metadata": {
        "id": "-UNDqtL8cKxv"
      },
      "source": [
        "#Criação do indutor Gradient Boosting sem alteração de hiperparâmetros\n",
        "gdB_clf = GradientBoostingClassifier()"
      ],
      "execution_count": null,
      "outputs": []
    },
    {
      "cell_type": "code",
      "metadata": {
        "colab": {
          "base_uri": "https://localhost:8080/"
        },
        "id": "g2ifm96wea2C",
        "outputId": "b0cd01d1-d7ad-48a3-9932-c8aa29fb358c"
      },
      "source": [
        "#Treinamento do modelo usando subconjunto de treino\n",
        "gdB_clf.fit(X_train, y_train)"
      ],
      "execution_count": null,
      "outputs": [
        {
          "output_type": "execute_result",
          "data": {
            "text/plain": [
              "GradientBoostingClassifier(ccp_alpha=0.0, criterion='friedman_mse', init=None,\n",
              "                           learning_rate=0.1, loss='deviance', max_depth=3,\n",
              "                           max_features=None, max_leaf_nodes=None,\n",
              "                           min_impurity_decrease=0.0, min_impurity_split=None,\n",
              "                           min_samples_leaf=1, min_samples_split=2,\n",
              "                           min_weight_fraction_leaf=0.0, n_estimators=100,\n",
              "                           n_iter_no_change=None, presort='deprecated',\n",
              "                           random_state=None, subsample=1.0, tol=0.0001,\n",
              "                           validation_fraction=0.1, verbose=0,\n",
              "                           warm_start=False)"
            ]
          },
          "metadata": {
            "tags": []
          },
          "execution_count": 35
        }
      ]
    },
    {
      "cell_type": "markdown",
      "metadata": {
        "id": "1irta0F-38HJ"
      },
      "source": [
        "**CURVA DE APRENDIZADO**"
      ]
    },
    {
      "cell_type": "markdown",
      "metadata": {
        "id": "Tslss0lMjtW4"
      },
      "source": [
        "O trecho a seguir realiza o uso da função `learning_curve` da biblioteca Scikit-Learn para cálculos os dados para visualização da curva de aprendizagem dos modelos treinados nessa seção. Foi usado como pontuação a métrica acurácia, que demonstra o nível atingido por cada modelo à medida que são alteradas as quantidades de observações no conjunto de treinamento e validação."
      ]
    },
    {
      "cell_type": "code",
      "metadata": {
        "id": "r7sMMM0Hjtn7"
      },
      "source": [
        "#Biblioteca para cálculo da curva de aprendizado\n",
        "from sklearn.model_selection import learning_curve\n",
        "from sklearn.model_selection import ShuffleSplit"
      ],
      "execution_count": null,
      "outputs": []
    },
    {
      "cell_type": "markdown",
      "metadata": {
        "id": "boWrz2hRqu1u"
      },
      "source": [
        "A célula abaixo define os parâmetros da forma de separação do conjunto de validação e treino, separando 20% para validação em cada iteração da curva de aprendizado. O uso dessa função será realizada, tendo em vista que os algoritmos de cálculo de curva de aprendizado as próximas etapas dessa seção realizam esta divisão internamente. Este procedimento substituirá, nestas etapas, a divisão anterior realizada com a função `train_test_split`."
      ]
    },
    {
      "cell_type": "code",
      "metadata": {
        "id": "mpUj_78ApZUt"
      },
      "source": [
        "#Definição do critério de validação\n",
        "#Escolha aleatória de 20% do conjunto para validação para cada iteração\n",
        "cv = ShuffleSplit(test_size=0.2, random_state=31)"
      ],
      "execution_count": null,
      "outputs": []
    },
    {
      "cell_type": "markdown",
      "metadata": {
        "id": "T4iAgyMXpiWq"
      },
      "source": [
        "* **Curva de Aprendizado do Modelo AdaBoost**"
      ]
    },
    {
      "cell_type": "code",
      "metadata": {
        "id": "uFYFUIcjk1Cp"
      },
      "source": [
        "#Aplicação da função para comparação dos resultados de validação e treino\n",
        "#Usando conjunto de treino original (sem a divisão prévia de validação e treino)\n",
        "_, acc_treino, acc_val = learning_curve(adaB_clf,\n",
        "                                        X_train_,\n",
        "                                        y_train_,\n",
        "                                        scoring='accuracy',\n",
        "                                        random_state=31,\n",
        "                                        cv=cv)"
      ],
      "execution_count": null,
      "outputs": []
    },
    {
      "cell_type": "code",
      "metadata": {
        "id": "wCBIWYTAqDek"
      },
      "source": [
        "#Cálculo dos scores baseado na média das rodadas\n",
        "acc_tA = np.mean(acc_treino, axis=1)\n",
        "acc_vA = np.mean(acc_val, axis=1)"
      ],
      "execution_count": null,
      "outputs": []
    },
    {
      "cell_type": "markdown",
      "metadata": {
        "id": "2G6BD6myq9YW"
      },
      "source": [
        "* **Curva de Aprendizado do Modelo Gradient Boosting**"
      ]
    },
    {
      "cell_type": "code",
      "metadata": {
        "id": "vpfpG3tHq8wN"
      },
      "source": [
        "#Aplicação da função para comparação dos resultados de validação e treino\n",
        "#Usando conjunto de treino original (sem a divisão prévia de validação e treino)\n",
        "_, acc_treino, acc_val = learning_curve(adaB_clf,\n",
        "                                        X_train_,\n",
        "                                        y_train_,\n",
        "                                        scoring='accuracy',\n",
        "                                        random_state=31,\n",
        "                                        cv=cv)"
      ],
      "execution_count": null,
      "outputs": []
    },
    {
      "cell_type": "code",
      "metadata": {
        "id": "gwPQ5tVc4sZz"
      },
      "source": [
        "#Cálculo dos scores baseado na média das rodadas\n",
        "acc_tG = np.mean(acc_treino, axis=1)\n",
        "acc_vG = np.mean(acc_val, axis=1)"
      ],
      "execution_count": null,
      "outputs": []
    },
    {
      "cell_type": "markdown",
      "metadata": {
        "id": "CC6QtcYLxSCe"
      },
      "source": [
        "* Visualização das curvas de aprendizado calculadas"
      ]
    },
    {
      "cell_type": "code",
      "metadata": {
        "colab": {
          "base_uri": "https://localhost:8080/"
        },
        "id": "YqGAUkaNrok-",
        "outputId": "2defc6f5-2db9-414f-d441-22d4114f7822"
      },
      "source": [
        "fig = plt.figure(figsize=(20,6))\n",
        "fig.suptitle('Comparação das Curvas de Aprendizado', fontweight='bold')\n",
        "\n",
        "ax1 = fig.add_subplot(1,2,1)\n",
        "ax2 = fig.add_subplot(1,2,2)\n",
        "\n",
        "\n",
        "#Curva de aprendizado AdaBoost\n",
        "#=========================================\n",
        "ax1.plot(acc_tA, alpha=0.7)         #Treino\n",
        "ax1.plot(acc_vA, 'g--', alpha=0.7)  #Validação\n",
        "\n",
        "#Rótulos e legendas dos gráficos\n",
        "ax1.set_xlabel('Número de exemplos de treinamento', fontweight='bold')\n",
        "ax1.set_ylabel('Acurácia', fontweight='bold')\n",
        "ax1.set_title('Curva de Aprendizado: AdaBoost', fontweight='bold')\n",
        "\n",
        "#Grid acrescentado para facilitar a análise visual da curva\n",
        "ax1.grid()\n",
        "\n",
        "\n",
        "#Curva de aprendizado Gradient Boosting\n",
        "#=========================================\n",
        "ax2.plot(acc_tG, alpha=0.7)         #Treino\n",
        "ax2.plot(acc_vG, 'g--', alpha=0.7)  #Validação\n",
        "\n",
        "#Rótulos e legendas dos gráficos\n",
        "ax2.legend(['Treino', 'Validação'], loc='upper right')\n",
        "ax2.set_xlabel('Número de exemplos de treinamento', fontweight='bold')\n",
        "ax2.set_title('Curva de Aprendizado: Gradient Boosting', fontweight='bold')\n",
        "\n",
        "#Grid acrescentado para facilitar a análise visual\n",
        "ax2.grid()\n",
        "\n",
        "\n",
        "#Ajustes visuais finais\n",
        "#=========================================\n",
        "sns.despine()\n",
        "plt.savefig('target/plot1.1.png')"
      ],
      "execution_count": null,
      "outputs": [
        {
          "output_type": "display_data",
          "data": {
            "image/png": "[encoded data removed]",
            "text/plain": [
              "<Figure size 1440x432 with 2 Axes>"
            ]
          },
          "metadata": {
            "tags": [],
            "needs_background": "light"
          }
        }
      ]
    },
    {
      "cell_type": "markdown",
      "metadata": {
        "id": "wboIhI8It6xT"
      },
      "source": [
        "Pela análise das curvas de aprendizado$^1$, **ambos modelos aparentam um comportamento similar tanto no conjunto de treino quanto no conjunto de validação**. Percebe-se que **no conjunto de treino a acurácia começa próximo a 100%** (equivalente a 1.000 no eixo y) e decresce à medida que o número de exemplos aumento, mas **mantém-se sempre acima de 0.90**. Nas execuções **no conjunto de validação**, por sua vez, os resultados **iniciam-se ligeiramente acima de 0.825** para o *Gradient Boosting* e **próximo de 0.84** no **AdaBoost**. Depois ambos algoritmos tem um crescimento acentuado no início do conjunto de validação, chega a cair um pouco e em seguida retorna a crescer a acurácia até o **patamar máximo logo depois de 0.875** para o *Gradient Boosting* e **próximo de 0.88** para o *AdaBoost*.\n",
        "\n",
        "(1) ATENÇÃO À ESCALA DIFERENTE NOS GRÁFICOS ACIMA."
      ]
    },
    {
      "cell_type": "markdown",
      "metadata": {
        "id": "LpHTIUl13_y-"
      },
      "source": [
        "**PREDIÇÃO E AVALIAÇÃO DOS MODELOS**"
      ]
    },
    {
      "cell_type": "markdown",
      "metadata": {
        "id": "GMYvoVTsyET1"
      },
      "source": [
        "Aplicação dos modelos para predição e avaliação do escore com o conjunto de testes."
      ]
    },
    {
      "cell_type": "code",
      "metadata": {
        "id": "LMU2Hicl3rR5"
      },
      "source": [
        "#Biblioteca para geração do relatório de classificação de modelos\n",
        "from sklearn.metrics import classification_report"
      ],
      "execution_count": null,
      "outputs": []
    },
    {
      "cell_type": "code",
      "metadata": {
        "colab": {
          "base_uri": "https://localhost:8080/"
        },
        "id": "xBMdt5xMyjAZ",
        "outputId": "bebd5bbe-dc74-4058-dc49-95f8a130c9d4"
      },
      "source": [
        "#AdaBoost\n",
        "#========================================\n",
        "#Uso dos modelos para predição\n",
        "y_pred_adaB = adaB_clf.predict(X_test)\n",
        "\n",
        "#Visualização das primeiras observações da predição efetuada\n",
        "y_pred_adaB[:5]"
      ],
      "execution_count": null,
      "outputs": [
        {
          "output_type": "execute_result",
          "data": {
            "text/plain": [
              "array([0, 1, 1, 1, 0])"
            ]
          },
          "metadata": {
            "tags": []
          },
          "execution_count": 45
        }
      ]
    },
    {
      "cell_type": "code",
      "metadata": {
        "colab": {
          "base_uri": "https://localhost:8080/"
        },
        "id": "86I_WI8dyqtA",
        "outputId": "dfaed081-addb-429f-c79b-7350daedd084"
      },
      "source": [
        "#Avaliação do modelo\n",
        "print(classification_report(y_test, y_pred_adaB))"
      ],
      "execution_count": null,
      "outputs": [
        {
          "output_type": "stream",
          "text": [
            "              precision    recall  f1-score   support\n",
            "\n",
            "           0       0.85      0.94      0.89       306\n",
            "           1       0.92      0.82      0.86       271\n",
            "\n",
            "    accuracy                           0.88       577\n",
            "   macro avg       0.89      0.88      0.88       577\n",
            "weighted avg       0.88      0.88      0.88       577\n",
            "\n"
          ],
          "name": "stdout"
        }
      ]
    },
    {
      "cell_type": "code",
      "metadata": {
        "colab": {
          "base_uri": "https://localhost:8080/"
        },
        "id": "3wLrxojMyD2n",
        "outputId": "af4f275e-c687-47cf-9384-d2391d91725f"
      },
      "source": [
        "#Gradient Boosting\n",
        "#========================================\n",
        "#Uso dos modelos para predição\n",
        "y_pred_gdB = gdB_clf.predict(X_test)\n",
        "\n",
        "#Visualização das primeiras observações da predição efetuada\n",
        "y_pred_gdB[:5]"
      ],
      "execution_count": null,
      "outputs": [
        {
          "output_type": "execute_result",
          "data": {
            "text/plain": [
              "array([0, 1, 1, 1, 0])"
            ]
          },
          "metadata": {
            "tags": []
          },
          "execution_count": 47
        }
      ]
    },
    {
      "cell_type": "code",
      "metadata": {
        "colab": {
          "base_uri": "https://localhost:8080/"
        },
        "id": "j9LI5bbuyL9R",
        "outputId": "5c1fd93a-d9f3-48a7-b251-e7de1f4c815c"
      },
      "source": [
        "#Avaliação do modelo\n",
        "print(classification_report(y_test, y_pred_gdB))"
      ],
      "execution_count": null,
      "outputs": [
        {
          "output_type": "stream",
          "text": [
            "              precision    recall  f1-score   support\n",
            "\n",
            "           0       0.84      0.86      0.85       306\n",
            "           1       0.84      0.82      0.83       271\n",
            "\n",
            "    accuracy                           0.84       577\n",
            "   macro avg       0.84      0.84      0.84       577\n",
            "weighted avg       0.84      0.84      0.84       577\n",
            "\n"
          ],
          "name": "stdout"
        }
      ]
    },
    {
      "cell_type": "markdown",
      "metadata": {
        "id": "IdfUdieP9ayL"
      },
      "source": [
        "Na avaliação final dos modelos no conjunto de testes, o `AdaBoost` apresenta resultados ligeiramente superiores. Considerando a classe positiva, que indica que o cliente pagaria o crédito concedido, o modelo baseado no `AdaBoost` consegue uma precisão de 0.92 contra 0.84 do `Gradient Boosting`. A situação se repete nas métricas de acurácia e F1, em que o modelo `AdaBoost` também apresenta resultados superiores, como pode ser visto nas saídas anteriores do relatório de classificação gerados com a função `classification_report`."
      ]
    },
    {
      "cell_type": "markdown",
      "metadata": {
        "id": "s3zQ4hHIC0dq"
      },
      "source": [
        "##1.2 Bagging"
      ]
    },
    {
      "cell_type": "markdown",
      "metadata": {
        "id": "PK6sO3uuGf3k"
      },
      "source": [
        "Esta abordagem visa usar o mesmo algoritmo e treiná-los diversas vezes com amostragens aleatórias do conjunto de treinamento.\n",
        "* Bagging (Bootstrap aggregating): Realizar a amostragem com substituição.\n",
        "\n",
        "As previsões são realizadas agregando previsões de todos os previsores treinados."
      ]
    },
    {
      "cell_type": "markdown",
      "metadata": {
        "id": "pyEcDtSr_liV"
      },
      "source": [
        "**CRIAÇÃO E TREINAMENTO DOS MODELOS**"
      ]
    },
    {
      "cell_type": "markdown",
      "metadata": {
        "id": "lu5LwJ2iM1-N"
      },
      "source": [
        "* **Classificador Bagging baseado em k-NN**"
      ]
    },
    {
      "cell_type": "code",
      "metadata": {
        "id": "9_oclotq_lp_"
      },
      "source": [
        "#Bibliotecas para criação dos indutores\n",
        "from sklearn.ensemble import BaggingClassifier, RandomForestClassifier\n",
        "from sklearn.neighbors import KNeighborsClassifier"
      ],
      "execution_count": null,
      "outputs": []
    },
    {
      "cell_type": "code",
      "metadata": {
        "id": "y9PUvQh6HJF6"
      },
      "source": [
        "#Criação do indutor Bagging Classifier baseado no Knn\n",
        "\n",
        "#Definição arbitrária do hiperparâmetro k\n",
        "k = 15\n",
        "\n",
        "#Criação do modelo\n",
        "bgKNN_clf = BaggingClassifier(\n",
        "    base_estimator=KNeighborsClassifier(n_neighbors=k),\n",
        "    bootstrap=True)"
      ],
      "execution_count": null,
      "outputs": []
    },
    {
      "cell_type": "code",
      "metadata": {
        "colab": {
          "base_uri": "https://localhost:8080/"
        },
        "id": "df5n4w-pI20u",
        "outputId": "40012515-ac45-4024-82ca-02acebc57634"
      },
      "source": [
        "#Treinamento do modelo usando subconjunto de treino\n",
        "bgKNN_clf.fit(X_train, y_train)"
      ],
      "execution_count": null,
      "outputs": [
        {
          "output_type": "execute_result",
          "data": {
            "text/plain": [
              "BaggingClassifier(base_estimator=KNeighborsClassifier(algorithm='auto',\n",
              "                                                      leaf_size=30,\n",
              "                                                      metric='minkowski',\n",
              "                                                      metric_params=None,\n",
              "                                                      n_jobs=None,\n",
              "                                                      n_neighbors=15, p=2,\n",
              "                                                      weights='uniform'),\n",
              "                  bootstrap=True, bootstrap_features=False, max_features=1.0,\n",
              "                  max_samples=1.0, n_estimators=10, n_jobs=None,\n",
              "                  oob_score=False, random_state=None, verbose=0,\n",
              "                  warm_start=False)"
            ]
          },
          "metadata": {
            "tags": []
          },
          "execution_count": 51
        }
      ]
    },
    {
      "cell_type": "markdown",
      "metadata": {
        "id": "yXYinHgpNb8A"
      },
      "source": [
        "* **Classificador Bagging Random Forest**"
      ]
    },
    {
      "cell_type": "markdown",
      "metadata": {
        "id": "49PYyYYZPS-G"
      },
      "source": [
        "Random Forests é um método ensemble learning baseado em Decision Trees, ou seja, o algoritmo é construído com base no treinamento de diversas árvores de decisão. [Han, 2012]\n",
        "\n",
        "A imagem a seguir ilustra o conceito das múltiplas árvores sendo usadas:\n",
        "\n",
        "![](https://upload.wikimedia.org/wikipedia/commons/7/76/Random_forest_diagram_complete.png)\n",
        "\n",
        "Figura 1 - Ilustração de uma floresta aleatória ([Wikipedia](https://en.wikipedia.org/wiki/Random_forest))"
      ]
    },
    {
      "cell_type": "code",
      "metadata": {
        "id": "gfv-UcvMNcQW"
      },
      "source": [
        "#Criação do indutor bagging com o algoritmo RandomForestClassifier\n",
        "\n",
        "#Definição do nível de profundidade das árvores\n",
        "MD = 3\n",
        "\n",
        "#Criação do modelo\n",
        "bgRndF_clf = RandomForestClassifier(max_depth=MD)"
      ],
      "execution_count": null,
      "outputs": []
    },
    {
      "cell_type": "code",
      "metadata": {
        "colab": {
          "base_uri": "https://localhost:8080/"
        },
        "id": "5TSHjOFtVEU4",
        "outputId": "88dc3f46-042d-4e26-c480-73ed14b33f6b"
      },
      "source": [
        "#Treinamento do modelo usando subconjunto de treino\n",
        "bgRndF_clf.fit(X_train, y_train)"
      ],
      "execution_count": null,
      "outputs": [
        {
          "output_type": "execute_result",
          "data": {
            "text/plain": [
              "RandomForestClassifier(bootstrap=True, ccp_alpha=0.0, class_weight=None,\n",
              "                       criterion='gini', max_depth=3, max_features='auto',\n",
              "                       max_leaf_nodes=None, max_samples=None,\n",
              "                       min_impurity_decrease=0.0, min_impurity_split=None,\n",
              "                       min_samples_leaf=1, min_samples_split=2,\n",
              "                       min_weight_fraction_leaf=0.0, n_estimators=100,\n",
              "                       n_jobs=None, oob_score=False, random_state=None,\n",
              "                       verbose=0, warm_start=False)"
            ]
          },
          "metadata": {
            "tags": []
          },
          "execution_count": 55
        }
      ]
    },
    {
      "cell_type": "markdown",
      "metadata": {
        "id": "Bz6gyfs_cKSB"
      },
      "source": [
        "**CURVA DE APRENDIZADO DOS MODELOS**"
      ]
    },
    {
      "cell_type": "markdown",
      "metadata": {
        "id": "ZPrleD9s0mNQ"
      },
      "source": [
        "* **Curva de Aprendizado do Bagging com k-NN**"
      ]
    },
    {
      "cell_type": "markdown",
      "metadata": {
        "id": "8SN2vrTD0qG3"
      },
      "source": [
        "Nesta seção a estratégia de separação de treino e validação a partir do conjunto de treino original foi mantida, reaproveitando o objeto criado na seção anterior com a função `ShuffleSplit`."
      ]
    },
    {
      "cell_type": "code",
      "metadata": {
        "id": "ZCPo08WscQd9"
      },
      "source": [
        "#Bagging com kNN\n",
        "#========================================================================\n",
        "\n",
        "#Aplicação da função para comparação dos resultados de validação e treino\n",
        "#Usando conjunto de treino original (sem a divisão prévia de validação e treino)\n",
        "_, acc_treino, acc_val = learning_curve(bgKNN_clf,\n",
        "                                        X_train_,\n",
        "                                        y_train_,\n",
        "                                        scoring='accuracy',\n",
        "                                        random_state=31,\n",
        "                                        cv=cv)\n",
        "\n",
        "#Cálculo dos scores baseado na média das rodadas\n",
        "acc_tkNN = np.mean(acc_treino, axis=1)\n",
        "acc_vkNN = np.mean(acc_val, axis=1)"
      ],
      "execution_count": null,
      "outputs": []
    },
    {
      "cell_type": "code",
      "metadata": {
        "id": "Bw3WQklwdLQP"
      },
      "source": [
        "#Bagging com Random Forest\n",
        "#========================================================================\n",
        "\n",
        "#Aplicação da função para comparação dos resultados de validação e treino\n",
        "#Usando conjunto de treino original (sem a divisão prévia de validação e treino)\n",
        "_, acc_treino, acc_val = learning_curve(bgRndF_clf,\n",
        "                                        X_train_,\n",
        "                                        y_train_,\n",
        "                                        scoring='accuracy',\n",
        "                                        random_state=31,\n",
        "                                        cv=cv)\n",
        "\n",
        "#Cálculo dos scores baseado na média das rodadas\n",
        "acc_tRndF = np.mean(acc_treino, axis=1)\n",
        "acc_vRndF = np.mean(acc_val, axis=1)"
      ],
      "execution_count": null,
      "outputs": []
    },
    {
      "cell_type": "markdown",
      "metadata": {
        "id": "t52hy14Y0_sc"
      },
      "source": [
        "* **Visualização das curvas de aprendizagem calculadas**"
      ]
    },
    {
      "cell_type": "code",
      "metadata": {
        "colab": {
          "base_uri": "https://localhost:8080/"
        },
        "id": "_2ZsB9bgdtkF",
        "outputId": "8582959c-e3f1-4ab8-c42b-42701b962860"
      },
      "source": [
        "fig = plt.figure(figsize=(20,6))\n",
        "fig.suptitle('Comparação das Curvas de Aprendizado', fontweight='bold')\n",
        "\n",
        "ax1 = fig.add_subplot(1,2,1)\n",
        "ax2 = fig.add_subplot(1,2,2)\n",
        "\n",
        "#Curva de aprendizado Bagging com k-NN\n",
        "#=========================================\n",
        "ax1.plot(acc_tkNN, alpha=0.7)         #Treino\n",
        "ax1.plot(acc_vkNN, 'g--', alpha=0.7)  #Validação\n",
        "\n",
        "#Rótulos e legendas dos gráficos\n",
        "ax1.legend(['Treino', 'Validação'], loc='upper left')\n",
        "ax1.set_xlabel('Número de exemplos de treinamento', fontweight='bold')\n",
        "ax1.set_ylabel('Acurácia', fontweight='bold')\n",
        "ax1.set_title('Curva de Aprendizado: Bagging com k-NN', fontweight='bold')\n",
        "#Grid acrescentado para facilitar a análise visual da curva\n",
        "ax1.grid()\n",
        "\n",
        "\n",
        "#Curva de aprendizado Random Forest\n",
        "#=========================================\n",
        "ax2.plot(acc_tRndF, alpha=0.7)         #Treino\n",
        "ax2.plot(acc_vRndF, 'g--', alpha=0.7)  #Validação\n",
        "\n",
        "#Rótulos e legendas dos gráficos\n",
        "ax2.set_xlabel('Número de exemplos de treinamento', fontweight='bold')\n",
        "ax2.set_title('Curva de Aprendizado: Random Forest', fontweight='bold')\n",
        "#Grid acrescentado para facilitar a análise visual da curva\n",
        "ax2.grid()\n",
        "\n",
        "#Gráficos afastados de propósito para evitar confusão quanto à escala dos eixos\n",
        "plt.subplots_adjust(wspace=0.2)\n",
        "\n",
        "#Ajustes visuais finais\n",
        "#=========================================\n",
        "sns.despine()\n",
        "plt.savefig('target/plot1.2.png')"
      ],
      "execution_count": null,
      "outputs": [
        {
          "output_type": "display_data",
          "data": {
            "image/png": "[encoded data removed]",
            "text/plain": [
              "<Figure size 1440x432 with 2 Axes>"
            ]
          },
          "metadata": {
            "tags": [],
            "needs_background": "light"
          }
        }
      ]
    },
    {
      "cell_type": "markdown",
      "metadata": {
        "id": "nXVI2KTavOYv"
      },
      "source": [
        "Diferentemente do que foi visto nos modelos avaliados na abordagem **boosting**, os modelos treinados e submetidos ao conjunto de validação nessa seção apresentaram resultados razoavelmente distintos na comparação da curva de aprendizado. É importante observar, que **os eixos $y$ estão em escala diferente$^1$** em ambos os gráficos, por isso foi feito o afastamento maior deles na plotagem para minimizar erros na análise. Nota-se que no modelo k-NN chega-se no máximo até 0.86 de acurácia$^2$, enquanto no modelo Random Forest já inicia-se próximo de 0.86 e há situações de acurácia acima de 0.92 no nível máximo (início das rodadas no conjunto de treino).\n",
        "\n",
        "* **Modelo k-NN**: há uma pequena redução no início, seguido de aumento contínuo da acurácia na aplicação no conjunto de treino. Além disso, permance sempre em um patamar maior na métrica em comparação com o conjunto de validação. Apesar disso, à medida que o número de exemplos aumento há uma tendência predominante que melhoria da acurácia no conjunto de validação.\n",
        "* **Modelo Random Forest**: o conjunto de treinamento cai o nível de acurácia à medida que o número de exemplos aumenta, enquanto no conjunto de validação a acurácia aumenta junto com o número de exemplos, exceto por um momento de queda suave aproximadamente no meio do número de exemplos. Além disso, ambos parecem convergir ao longo do tempo, diminuindo o *gap* ao longo do tempo.\n",
        "\n",
        "(1) ATENÇÃO À ESCALA DIFERENTE NOS GRÁFICOS ACIMA.\n",
        "\n",
        "(2) OS RESULTADOS PODEM MUDAR EM NOVAS RODADAS EM FUNÇÃO DE USO DE SELEÇÃO ALEATÓRIA EM ALGUMAS PARTES DAS EXECUÇÕES. ISSO É MINIZADO PELO USO DO PARÂMETRO `random_state`, MAS NÃO É ELIMINADO COMPLETAMENTE."
      ]
    },
    {
      "cell_type": "markdown",
      "metadata": {
        "id": "odmfcEjwM8vJ"
      },
      "source": [
        "**PREDIÇÃO E AVALIAÇÃO DOS MODELOS**"
      ]
    },
    {
      "cell_type": "markdown",
      "metadata": {
        "id": "louC_45zNZQx"
      },
      "source": [
        "* **Classificador Bagging baseado em k-NN**"
      ]
    },
    {
      "cell_type": "code",
      "metadata": {
        "colab": {
          "base_uri": "https://localhost:8080/"
        },
        "id": "xF__mkhjMMch",
        "outputId": "dd46bf8d-3e4d-4107-8635-cc79aacacb58"
      },
      "source": [
        "#Bagging baseado em k-NN\n",
        "#=================================================\n",
        "\n",
        "#Predição de valores com o modelo\n",
        "y_pred_bgKNN = bgKNN_clf.predict(X_test)\n",
        "\n",
        "#Visualização dos primeiros registros previstos\n",
        "y_pred_bgKNN[:5]"
      ],
      "execution_count": null,
      "outputs": [
        {
          "output_type": "execute_result",
          "data": {
            "text/plain": [
              "array([0, 0, 1, 1, 0])"
            ]
          },
          "metadata": {
            "tags": []
          },
          "execution_count": 59
        }
      ]
    },
    {
      "cell_type": "code",
      "metadata": {
        "colab": {
          "base_uri": "https://localhost:8080/"
        },
        "id": "RsxphgbfMfOH",
        "outputId": "bd92c45f-8504-4d14-d518-9e29509c8fb7"
      },
      "source": [
        "#Avaliação do modelo\n",
        "print(classification_report(y_test, y_pred_bgKNN))"
      ],
      "execution_count": null,
      "outputs": [
        {
          "output_type": "stream",
          "text": [
            "              precision    recall  f1-score   support\n",
            "\n",
            "           0       0.83      0.90      0.86       306\n",
            "           1       0.88      0.79      0.83       271\n",
            "\n",
            "    accuracy                           0.85       577\n",
            "   macro avg       0.85      0.85      0.85       577\n",
            "weighted avg       0.85      0.85      0.85       577\n",
            "\n"
          ],
          "name": "stdout"
        }
      ]
    },
    {
      "cell_type": "markdown",
      "metadata": {
        "id": "5OgVtpcLNx-6"
      },
      "source": [
        "* **Classificador Bagging Random Forest**"
      ]
    },
    {
      "cell_type": "code",
      "metadata": {
        "colab": {
          "base_uri": "https://localhost:8080/"
        },
        "id": "Y0-en-_2PTF4",
        "outputId": "9b3ca3ee-589d-4396-e867-e0876d53b59e"
      },
      "source": [
        "#Random Forest\n",
        "#=================================================\n",
        "\n",
        "#Predição de valores com o modelo\n",
        "y_pred_bgRndF = bgRndF_clf.predict(X_test)\n",
        "\n",
        "#Visualização dos primeiros registros previstos\n",
        "y_pred_bgRndF[:5]"
      ],
      "execution_count": null,
      "outputs": [
        {
          "output_type": "execute_result",
          "data": {
            "text/plain": [
              "array([0, 1, 1, 1, 0])"
            ]
          },
          "metadata": {
            "tags": []
          },
          "execution_count": 61
        }
      ]
    },
    {
      "cell_type": "code",
      "metadata": {
        "colab": {
          "base_uri": "https://localhost:8080/"
        },
        "id": "_R4om6hlWc4p",
        "outputId": "3784d6db-bf84-47a2-f186-d679ae157ae7"
      },
      "source": [
        "#Avaliação do modelo\n",
        "print(classification_report(y_test, y_pred_bgRndF))"
      ],
      "execution_count": null,
      "outputs": [
        {
          "output_type": "stream",
          "text": [
            "              precision    recall  f1-score   support\n",
            "\n",
            "           0       0.85      0.89      0.87       306\n",
            "           1       0.87      0.83      0.85       271\n",
            "\n",
            "    accuracy                           0.86       577\n",
            "   macro avg       0.86      0.86      0.86       577\n",
            "weighted avg       0.86      0.86      0.86       577\n",
            "\n"
          ],
          "name": "stdout"
        }
      ]
    },
    {
      "cell_type": "markdown",
      "metadata": {
        "id": "5CKAy9pYXPzB"
      },
      "source": [
        "Pelas métricas apresentadas no relatório de classificação das células anteriores, pode-se realizar a análise detalhada dos modelos da aplicação dos modelos no conjunto de testes. Apesar da diferença de comportamento na curva de aprendizado, **os modelos apresentaram resultados similares na avaliação dos tests**. O **Random Forest** tem números ligeiramente superiores na maioria das métricas avaliadas, o que levaria neste cenário à sua escolha como preditor na comparação dessa seção**, mas experimentos em conjuntos de dados maiores e com sintonização de hiperparamentos poderia mudar essa análise dada a proximidade dos valores das métricas."
      ]
    },
    {
      "cell_type": "markdown",
      "metadata": {
        "id": "nJZsyV7k-GQL"
      },
      "source": [
        "#2 Sistemas de Recomendação"
      ]
    },
    {
      "cell_type": "markdown",
      "metadata": {
        "id": "QjDxmSaIzsEQ"
      },
      "source": [
        "##Análise preliminar dos dados"
      ]
    },
    {
      "cell_type": "markdown",
      "metadata": {
        "id": "sDi9OS0_hLw-"
      },
      "source": [
        "* Carga dos dados e organização das variáveis para uso nos algoritmos de recomendação."
      ]
    },
    {
      "cell_type": "code",
      "metadata": {
        "colab": {
          "base_uri": "https://localhost:8080/"
        },
        "id": "7DYiP9I-0AqV",
        "outputId": "c0d0adbe-cd4a-40a2-eee5-ac06bc1e41ff"
      },
      "source": [
        "#Dados das matrizes R e Y\n",
        "#Carga\n",
        "arquivo = 'data/ex8_movies.mat'\n",
        "\n",
        "data = spio.loadmat(arquivo,\n",
        "                    squeeze_me=True)\n",
        "\n",
        "#Verificação do conteúdo\n",
        "data"
      ],
      "execution_count": null,
      "outputs": [
        {
          "output_type": "execute_result",
          "data": {
            "text/plain": [
              "{'R': array([[1, 1, 0, ..., 1, 0, 0],\n",
              "        [1, 0, 0, ..., 0, 0, 1],\n",
              "        [1, 0, 0, ..., 0, 0, 0],\n",
              "        ...,\n",
              "        [0, 0, 0, ..., 0, 0, 0],\n",
              "        [0, 0, 0, ..., 0, 0, 0],\n",
              "        [0, 0, 0, ..., 0, 0, 0]], dtype=uint8),\n",
              " 'Y': array([[5, 4, 0, ..., 5, 0, 0],\n",
              "        [3, 0, 0, ..., 0, 0, 5],\n",
              "        [4, 0, 0, ..., 0, 0, 0],\n",
              "        ...,\n",
              "        [0, 0, 0, ..., 0, 0, 0],\n",
              "        [0, 0, 0, ..., 0, 0, 0],\n",
              "        [0, 0, 0, ..., 0, 0, 0]], dtype=uint8),\n",
              " '__globals__': [],\n",
              " '__header__': b'MATLAB 5.0 MAT-file, Platform: GLNXA64, Created on: Thu Dec  1 17:19:26 2011',\n",
              " '__version__': '1.0'}"
            ]
          },
          "metadata": {
            "tags": []
          },
          "execution_count": 27
        }
      ]
    },
    {
      "cell_type": "code",
      "metadata": {
        "colab": {
          "base_uri": "https://localhost:8080/"
        },
        "id": "Sj3WnazR1_57",
        "outputId": "e7860763-23e7-459a-e00f-aba822b38229"
      },
      "source": [
        "#R => Matriz com informações sobre realização de classificações\n",
        "#=====================================================================\n",
        "#R(i; j) = 1 se o usuário j forneceu uma classificação para o filme i\n",
        "#e R(i; j) = 0 em caso contráario.\n",
        "\n",
        "#Carga dos dados em matriz lógica\n",
        "#R = np.array(data['R'])\n",
        "R = data['R'].astype(bool)\n",
        "\n",
        "#Conferência das dimensões\n",
        "R.shape"
      ],
      "execution_count": null,
      "outputs": [
        {
          "output_type": "execute_result",
          "data": {
            "text/plain": [
              "(1682, 943)"
            ]
          },
          "metadata": {
            "tags": []
          },
          "execution_count": 28
        }
      ]
    },
    {
      "cell_type": "code",
      "metadata": {
        "colab": {
          "base_uri": "https://localhost:8080/"
        },
        "id": "Vt0xwcZK3OAM",
        "outputId": "a9c031ef-1b1a-4cb0-c85c-e826156489f4"
      },
      "source": [
        "R[:5]"
      ],
      "execution_count": null,
      "outputs": [
        {
          "output_type": "execute_result",
          "data": {
            "text/plain": [
              "array([[ True,  True, False, ...,  True, False, False],\n",
              "       [ True, False, False, ..., False, False,  True],\n",
              "       [ True, False, False, ..., False, False, False],\n",
              "       [ True, False, False, ..., False, False, False],\n",
              "       [ True, False, False, ..., False, False, False]])"
            ]
          },
          "metadata": {
            "tags": []
          },
          "execution_count": 29
        }
      ]
    },
    {
      "cell_type": "code",
      "metadata": {
        "colab": {
          "base_uri": "https://localhost:8080/"
        },
        "id": "YeTBtd9P2k7X",
        "outputId": "c0aed386-358e-41ad-b26a-5873fb4ec151"
      },
      "source": [
        "#Y => Matriz com classificações feitas pelos usuários\n",
        "#=====================================================\n",
        "\n",
        "#Carga dos dados em uma matriz numpy\n",
        "#Y = np.array(data['Y'])\n",
        "Y = data['Y']\n",
        "\n",
        "#Conferência das dimensões\n",
        "Y.shape"
      ],
      "execution_count": null,
      "outputs": [
        {
          "output_type": "execute_result",
          "data": {
            "text/plain": [
              "(1682, 943)"
            ]
          },
          "metadata": {
            "tags": []
          },
          "execution_count": 30
        }
      ]
    },
    {
      "cell_type": "code",
      "metadata": {
        "colab": {
          "base_uri": "https://localhost:8080/"
        },
        "id": "moDfNwFY3QEO",
        "outputId": "082b7886-266f-42f6-8b40-80fdee737100"
      },
      "source": [
        "Y[:5]"
      ],
      "execution_count": null,
      "outputs": [
        {
          "output_type": "execute_result",
          "data": {
            "text/plain": [
              "array([[5, 4, 0, ..., 5, 0, 0],\n",
              "       [3, 0, 0, ..., 0, 0, 5],\n",
              "       [4, 0, 0, ..., 0, 0, 0],\n",
              "       [3, 0, 0, ..., 0, 0, 0],\n",
              "       [3, 0, 0, ..., 0, 0, 0]], dtype=uint8)"
            ]
          },
          "metadata": {
            "tags": []
          },
          "execution_count": 31
        }
      ]
    },
    {
      "cell_type": "code",
      "metadata": {
        "colab": {
          "base_uri": "https://localhost:8080/"
        },
        "id": "7Kaagbq1_dXt",
        "outputId": "3bfa7a1e-3e5d-4987-ea3e-e03db9695165"
      },
      "source": [
        "#Dados das matrizes X e Theta\n",
        "arquivo = 'data/ex8_movieParams.mat'\n",
        "\n",
        "#Carga\n",
        "data_XT = spio.loadmat(arquivo,\n",
        "                    squeeze_me=True)\n",
        "\n",
        "#Verificação do conteúdo\n",
        "data_XT"
      ],
      "execution_count": null,
      "outputs": [
        {
          "output_type": "execute_result",
          "data": {
            "text/plain": [
              "{'Theta': array([[ 0.28544362, -1.68426509,  0.26293877, ...,  0.76723235,\n",
              "         -1.10460164, -0.25186708],\n",
              "        [ 0.50501321, -0.45464846,  0.31746244, ...,  1.09306336,\n",
              "         -1.20029436, -0.39161676],\n",
              "        [-0.43191656, -0.47880449,  0.84671111, ...,  1.36333976,\n",
              "         -0.32523542, -0.19468212],\n",
              "        ...,\n",
              "        [ 1.0586926 , -0.8087176 ,  0.56935771, ...,  0.80421422,\n",
              "         -0.74346778, -0.11985885],\n",
              "        [ 0.89058932, -0.12894734,  0.35560466, ...,  1.37426807,\n",
              "         -0.7526549 , -0.81135311],\n",
              "        [ 0.82414136, -0.38892594,  1.06940502, ...,  1.28423703,\n",
              "         -0.98349993, -0.53184838]]),\n",
              " 'X': array([[ 1.0486855 , -0.40023196,  1.19411945, ...,  0.861721  ,\n",
              "         -0.69728994,  0.28874563],\n",
              "        [ 0.78085123, -0.38562591,  0.52119779, ...,  0.70402073,\n",
              "         -0.48583521, -0.56462407],\n",
              "        [ 0.64150886, -0.54785385, -0.08379638, ...,  0.83854643,\n",
              "         -0.69483208, -1.13479631],\n",
              "        ...,\n",
              "        [ 0.21952237, -0.20047886,  0.09257965, ...,  0.14595183,\n",
              "         -0.0431316 ,  0.17830451],\n",
              "        [ 0.16044028, -0.16015395,  0.23570946, ...,  0.2073381 ,\n",
              "         -0.33234766,  0.0428813 ],\n",
              "        [ 0.07677118, -0.19720738,  0.08186445, ...,  0.40012757,\n",
              "         -0.28747906, -0.03233498]]),\n",
              " '__globals__': [],\n",
              " '__header__': b'MATLAB 5.0 MAT-file, Platform: GLNXA64, Created on: Thu Dec  1 17:16:53 2011',\n",
              " '__version__': '1.0',\n",
              " 'num_features': 10,\n",
              " 'num_movies': 1682,\n",
              " 'num_users': 943}"
            ]
          },
          "metadata": {
            "tags": []
          },
          "execution_count": 32
        }
      ]
    },
    {
      "cell_type": "code",
      "metadata": {
        "colab": {
          "base_uri": "https://localhost:8080/"
        },
        "id": "4WiDwiSq_u7u",
        "outputId": "93b5e9e5-2bd1-40a1-f8b8-e7e5d8ee75ea"
      },
      "source": [
        "#X => Matriz de características dos filmes\n",
        "#=====================================================\n",
        "\n",
        "#Carga dos dados em uma matriz numpy\n",
        "#X = np.array(data_XT['X'])\n",
        "X = data_XT['X']\n",
        "\n",
        "#Conferência das dimensões\n",
        "X.shape"
      ],
      "execution_count": null,
      "outputs": [
        {
          "output_type": "execute_result",
          "data": {
            "text/plain": [
              "(1682, 10)"
            ]
          },
          "metadata": {
            "tags": []
          },
          "execution_count": 33
        }
      ]
    },
    {
      "cell_type": "code",
      "metadata": {
        "colab": {
          "base_uri": "https://localhost:8080/"
        },
        "id": "XbDLfzaV_8-e",
        "outputId": "3a626fd8-0a32-4a25-de6e-f70a372358d1"
      },
      "source": [
        "X[:5]"
      ],
      "execution_count": null,
      "outputs": [
        {
          "output_type": "execute_result",
          "data": {
            "text/plain": [
              "array([[ 1.0486855 , -0.40023196,  1.19411945,  0.37112768,  0.40760718,\n",
              "         0.97440691, -0.05841025,  0.861721  , -0.69728994,  0.28874563],\n",
              "       [ 0.78085123, -0.38562591,  0.52119779,  0.22735522,  0.57010888,\n",
              "         0.64126447, -0.55000555,  0.70402073, -0.48583521, -0.56462407],\n",
              "       [ 0.64150886, -0.54785385, -0.08379638, -0.59851928, -0.01769363,\n",
              "         0.29973607, -0.72080697,  0.83854643, -0.69483208, -1.13479631],\n",
              "       [ 0.45361782, -0.80021844,  0.68048129, -0.08174256,  0.13660098,\n",
              "         0.90756058,  0.27768176,  0.3692999 , -1.26120762, -0.23558058],\n",
              "       [ 0.93753789,  0.1060899 ,  0.36195295,  0.08664586,  0.28750514,\n",
              "         0.51864396, -0.0568714 ,  0.91457268, -0.81933426, -0.54284661]])"
            ]
          },
          "metadata": {
            "tags": []
          },
          "execution_count": 34
        }
      ]
    },
    {
      "cell_type": "code",
      "metadata": {
        "colab": {
          "base_uri": "https://localhost:8080/"
        },
        "id": "-MJHDv0V__Aw",
        "outputId": "0f3f6ee6-81ee-473a-9b7e-157c67b1c714"
      },
      "source": [
        "#Theta => Vetor de parâmetros theta para cada usuário\n",
        "#=====================================================\n",
        "\n",
        "#Carga dos dados em uma matriz numpy\n",
        "#Theta = np.array(data_XT['Theta'])\n",
        "Theta = data_XT['Theta']\n",
        "\n",
        "#Conferência das dimensões\n",
        "Theta.shape"
      ],
      "execution_count": null,
      "outputs": [
        {
          "output_type": "execute_result",
          "data": {
            "text/plain": [
              "(943, 10)"
            ]
          },
          "metadata": {
            "tags": []
          },
          "execution_count": 35
        }
      ]
    },
    {
      "cell_type": "code",
      "metadata": {
        "colab": {
          "base_uri": "https://localhost:8080/"
        },
        "id": "3DWKQ9UPAP7Q",
        "outputId": "381b28d2-bc46-40fe-a3dd-adb87b028294"
      },
      "source": [
        "Theta[0]"
      ],
      "execution_count": null,
      "outputs": [
        {
          "output_type": "execute_result",
          "data": {
            "text/plain": [
              "array([ 0.28544362, -1.68426509,  0.26293877, -0.28731731,  0.58572506,\n",
              "        0.98018795, -0.06337453,  0.76723235, -1.10460164, -0.25186708])"
            ]
          },
          "metadata": {
            "tags": []
          },
          "execution_count": 36
        }
      ]
    },
    {
      "cell_type": "markdown",
      "metadata": {
        "id": "lLm8-t4Yg7G5"
      },
      "source": [
        "* Com o conjunto de dados carregados nas variáveis de maneira adequada, podemos fazer uma primeira checagem dos conteúdos das avaliações antes de prosseguirmos com a implementações dos algoritmos de recomendação."
      ]
    },
    {
      "cell_type": "code",
      "metadata": {
        "colab": {
          "base_uri": "https://localhost:8080/"
        },
        "id": "VAEDPBapczKh",
        "outputId": "9be5707e-2527-497a-fb90-ebe0dae33c67"
      },
      "source": [
        "print('Avaliação média para filme 50 (Star Wars): %f / 5' % np.mean(Y[49, R[49, :]]))"
      ],
      "execution_count": null,
      "outputs": [
        {
          "output_type": "stream",
          "text": [
            "Avaliação média para filme 50 (Star Wars): 4.358491 / 5\n"
          ],
          "name": "stdout"
        }
      ]
    },
    {
      "cell_type": "code",
      "metadata": {
        "id": "Bk8hXjbGgY7L"
      },
      "source": [
        "from matplotlib import use, cm"
      ],
      "execution_count": null,
      "outputs": []
    },
    {
      "cell_type": "code",
      "metadata": {
        "colab": {
          "base_uri": "https://localhost:8080/"
        },
        "id": "zYS2TuZiHlRi",
        "outputId": "88897b16-0872-4f69-b92f-8341a29fa221"
      },
      "source": [
        "!pip install tk"
      ],
      "execution_count": null,
      "outputs": [
        {
          "output_type": "stream",
          "text": [
            "Requirement already satisfied: tk in /usr/local/lib/python3.7/dist-packages (0.1.0)\n"
          ],
          "name": "stdout"
        }
      ]
    },
    {
      "cell_type": "code",
      "metadata": {
        "id": "Wzm-ACTjgooF"
      },
      "source": [
        "use('TkAgg')"
      ],
      "execution_count": null,
      "outputs": []
    },
    {
      "cell_type": "code",
      "metadata": {
        "colab": {
          "base_uri": "https://localhost:8080/",
          "height": 567
        },
        "id": "lXq22o_yc5RI",
        "outputId": "c38ff525-2292-47ac-eb4f-0a08bffb6f11"
      },
      "source": [
        "#  É também possível ter uma perspectiva gráfica das avaliações com o comando imagesc\n",
        "plt.figure(figsize=(10,9))\n",
        "\n",
        "plt.imshow(Y, aspect='equal', origin='upper',\n",
        "           extent=(0, Y.shape[1], 0, Y.shape[0]/2.0))\n",
        "\n",
        "plt.title('Avaliação dos filmes')\n",
        "plt.ylabel('Filmes')\n",
        "plt.xlabel('Usuários')\n",
        "plt.show()"
      ],
      "execution_count": null,
      "outputs": [
        {
          "output_type": "display_data",
          "data": {
            "image/png": "[encoded data removed]",
            "text/plain": [
              "<Figure size 720x648 with 1 Axes>"
            ]
          },
          "metadata": {
            "tags": [],
            "needs_background": "light"
          }
        }
      ]
    },
    {
      "cell_type": "markdown",
      "metadata": {
        "id": "j4205ihbhcHE"
      },
      "source": [
        "Como o conjunto de dados original é extenso e muitos itens não tem avaliação, a visualização detalhada do gráfico acima pode não ter uma capacidade explicativa de detalhes, mas as cores correspondem ao nível da análise registrada. Na próxima etapa, retornaremos a esse gráfico para um subconjunto no qual é possível uma avaliação mais detalhada. Contudo, mesmo nesta visualização os valores mais escuros representam itens não avaliados o que já demonstra que a matriz é esparsa."
      ]
    },
    {
      "cell_type": "markdown",
      "metadata": {
        "id": "vLl6TlaL_2kR"
      },
      "source": [
        "##2.1 Algoritmo de aprendizagem de filtragem colaborativa"
      ]
    },
    {
      "cell_type": "markdown",
      "metadata": {
        "id": "JiPGXUsCE7YF"
      },
      "source": [
        "A filtragem colaborativa é uma abordagem que busca identificar a similaridade entre os usuários, para que as recomendações levem em consideração os interesses atuais do usuário e a similaridade com interesses de outros usuários para recomendar novos itens [Grus, 2018].\n",
        "\n",
        "\n",
        "<img src=https://upload.wikimedia.org/wikipedia/commons/5/52/Collaborative_filtering.gif width=250px>\n",
        "\n",
        "Figura 2 - Ilutração didática da filtragem colaborativa ([Wikipedia](https://en.wikipedia.org/wiki/Recommender_system))"
      ]
    },
    {
      "cell_type": "markdown",
      "metadata": {
        "id": "r7BUVlTq_8EL"
      },
      "source": [
        "###2.1.1 Função de custo da filtragem colaborativa"
      ]
    },
    {
      "cell_type": "code",
      "metadata": {
        "id": "0LMVnMRj_2tD"
      },
      "source": [
        "#Função implementa a função de custos da filtragem colaborativa\n",
        "#Biblioteca personalizada com resposta para 2.1.1 e 2.1.2\n",
        "from recsis.cofi_cost_func import cofi_cost_func"
      ],
      "execution_count": null,
      "outputs": []
    },
    {
      "cell_type": "code",
      "metadata": {
        "colab": {
          "base_uri": "https://localhost:8080/"
        },
        "id": "SAlm7OV3eePW",
        "outputId": "df807a8f-3003-4c83-8be7-d7ee90108b59"
      },
      "source": [
        "#Carga de informações complementares do conjunto de dados\n",
        "num_users = data_XT['num_users']\n",
        "num_movies = data_XT['num_movies']\n",
        "num_features = data_XT['num_features']\n",
        "\n",
        "print(f'Usuários: {num_users}\\nFilmes: {num_movies}\\nAtributos: {num_features}')"
      ],
      "execution_count": null,
      "outputs": [
        {
          "output_type": "stream",
          "text": [
            "Usuários: 943\n",
            "Filmes: 1682\n",
            "Atributos: 10\n"
          ],
          "name": "stdout"
        }
      ]
    },
    {
      "cell_type": "code",
      "metadata": {
        "id": "v8-milIcempN"
      },
      "source": [
        "#Reduz o conjunto de dados para que a execucao seja mais rapida\n",
        "num_users = 4\n",
        "num_movies = 5\n",
        "num_features = 3\n",
        "X = X[:num_movies, :num_features]\n",
        "Theta = Theta[:num_users, :num_features]\n",
        "Y = Y[:num_movies, :num_users]\n",
        "R = R[:num_movies, :num_users]"
      ],
      "execution_count": null,
      "outputs": []
    },
    {
      "cell_type": "code",
      "metadata": {
        "colab": {
          "base_uri": "https://localhost:8080/"
        },
        "id": "ca5W1-dsdmn0",
        "outputId": "17cf9d48-d3fd-46cf-e4cb-20763942625e"
      },
      "source": [
        "#Dimensões das matrizes do subconjunto de dados\n",
        "print('Dimensões das matrizes X, Theta, Y e R:')\n",
        "print(X.shape, Theta.shape, Y.shape, R.shape)"
      ],
      "execution_count": null,
      "outputs": [
        {
          "output_type": "stream",
          "text": [
            "Dimensões das matrizes X, Theta, Y e R:\n",
            "(5, 3) (4, 3) (5, 4) (5, 4)\n"
          ],
          "name": "stdout"
        }
      ]
    },
    {
      "cell_type": "markdown",
      "metadata": {
        "id": "-rFhZjXXR1ef"
      },
      "source": [
        "Geração da visualização da matriz com a avaliação dos filmes para o conjunto de dados menor menor. Como foi comentado no análise preliminar dos dados, neste subconjunto já é mais fácil a visualização, mas ainda pode ser percebido (pelos valores mais escuros) que há muitas situações de itens (filmes) não avaliados."
      ]
    },
    {
      "cell_type": "code",
      "metadata": {
        "colab": {
          "base_uri": "https://localhost:8080/",
          "height": 427
        },
        "id": "NaU5Nr7eRy54",
        "outputId": "9a0fb339-b816-4fc9-f40c-c502bd9f038e"
      },
      "source": [
        "#Perspectiva gráfica das avaliações do subconjunto criado\n",
        "plt.figure(figsize=(10,9))\n",
        "\n",
        "plt.imshow(Y, aspect='equal', origin='upper',\n",
        "           extent=(0, Y.shape[1], 0, Y.shape[0]/2.0))\n",
        "\n",
        "plt.title('Avaliação dos filmes')\n",
        "plt.ylabel('Filmes')\n",
        "plt.xlabel('Usuários')\n",
        "plt.show()"
      ],
      "execution_count": null,
      "outputs": [
        {
          "output_type": "display_data",
          "data": {
            "image/png": "[encoded data removed]",
            "text/plain": [
              "<Figure size 720x648 with 1 Axes>"
            ]
          },
          "metadata": {
            "tags": [],
            "needs_background": "light"
          }
        }
      ]
    },
    {
      "cell_type": "markdown",
      "metadata": {
        "id": "_330Xyj_pyP0"
      },
      "source": [
        "A célula a seguir apresenta o cálculo do custo usando a função implementada em `cofi_cost_func`. O valor de custo calculado está dentro do valor esperado para o conjunto de dados, conforme pode ser visto na saída da célula.\n",
        "\n",
        "* Este cáclulo segue a equação a seguir:\n",
        "\n",
        "$\n",
        "J(x^{(i)}, ..., x^{(n_m)}, \\theta^{(1)}, ..., \\theta^{(n_u)}) = \\frac{1}{2} \\displaystyle\\sum_{(i,j):r(i,j)=1}((\\theta^{(j)})^Tx^{(i)}-y^{(i,j)})^2\n",
        "$\n",
        "\n"
      ]
    },
    {
      "cell_type": "code",
      "metadata": {
        "id": "rYuGDrmefJCk"
      },
      "source": [
        "#  Avaliacao da funcao de custo\n",
        "J, grad = cofi_cost_func(np.hstack((X.T.flatten(),\n",
        "                                    Theta.T.flatten())),\n",
        "                         Y, R, num_users, num_movies,\n",
        "                         num_features, 0)"
      ],
      "execution_count": null,
      "outputs": []
    },
    {
      "cell_type": "code",
      "metadata": {
        "colab": {
          "base_uri": "https://localhost:8080/"
        },
        "id": "zkISsoWAt6xd",
        "outputId": "a869e437-575c-479b-c240-110825e67e7e"
      },
      "source": [
        "print(f'Custo computado usando parâmetros pré-treinados: {J:.2f} \\n(valor deve ser próximo de 22.22)')"
      ],
      "execution_count": null,
      "outputs": [
        {
          "output_type": "stream",
          "text": [
            "Custo computado usando parâmetros pré-treinados: 22.22 \n",
            "(valor deve ser próximo de 22.22)\n"
          ],
          "name": "stdout"
        }
      ]
    },
    {
      "cell_type": "markdown",
      "metadata": {
        "id": "SagCHGvmADNp"
      },
      "source": [
        "###2.1.2 Gradiente de filtragem colaborativa"
      ]
    },
    {
      "cell_type": "markdown",
      "metadata": {
        "id": "JzA8W-83AHdi"
      },
      "source": [
        "A mesma função `cofi_cost_func` implementada na seção 2.1.1 realiza o cáclulo do gradiente da filtragem colaborativa, usando as equações das derivadas parciais fornecidas na seção 2.1.2 desse trabalho.\n",
        "\n",
        "* Equação para cálculo do `X_grad`:\n",
        "\n",
        "$\n",
        "\\frac{\\partial J}{\\partial x_k^{(i)}} = \\displaystyle\\sum_{j:r(i,j)=1}((\\theta^{(j)})^Tx^{(i)}-y^{(i,j)})\\theta_k^{(j)}\n",
        "$\n",
        "\n",
        "\n",
        "* Equação para cálculo do `Theta_grad`:\n",
        "\n",
        "$\n",
        "\\frac{\\partial J}{\\partial \\theta_k^{(j)}} = \\displaystyle\\sum_{i:r(i,j)=1}((\\theta^{(j)})^Tx^{(i)}-y^{(i,j)})\\theta_k^{(j)}\n",
        "$\n",
        "\n",
        "\n",
        "Como na chamada da célula de código anterior, já foi usada a função com esta implementação, abaixo apenas apresentamos o vetor contendo o gradiente."
      ]
    },
    {
      "cell_type": "code",
      "metadata": {
        "id": "1poYjZQCAHl6",
        "colab": {
          "base_uri": "https://localhost:8080/"
        },
        "outputId": "82d034b9-28cd-428a-b4e6-8da426a7b871"
      },
      "source": [
        "#Exibição do vetor gradiente de filtragem colaborativa\n",
        "grad"
      ],
      "execution_count": null,
      "outputs": [
        {
          "output_type": "execute_result",
          "data": {
            "text/plain": [
              "array([ -2.52899165,  -0.56819597,  -0.83240713,  -0.38358278,\n",
              "        -0.80378006,   7.57570308,   3.35265031,   4.91163297,\n",
              "         2.26333698,   4.74271842,  -1.89979026,  -0.52339845,\n",
              "        -0.76677878,  -0.35334048,  -0.74040871, -10.5680202 ,\n",
              "        -3.05099006,   0.        ,   0.        ,   4.62776019,\n",
              "         1.16441367,   0.        ,   0.        ,  -7.16004443,\n",
              "        -3.47410789,   0.        ,   0.        ])"
            ]
          },
          "metadata": {
            "tags": []
          },
          "execution_count": 49
        }
      ]
    },
    {
      "cell_type": "markdown",
      "metadata": {
        "id": "-CyE4XwLbofH"
      },
      "source": [
        "A célula abaixo apenas reproduz a função de custo e gradiente para fins de conferência das etapas intermediárias, adicionando linhas para impressão na tela da checagens desejadas. A saída permite a checagem dimensões dos vetores `X_grad` e `Theta_grad` que devem ser equivalentes às matrizes X e Theta."
      ]
    },
    {
      "cell_type": "code",
      "metadata": {
        "id": "Vgo9z7op3iay"
      },
      "source": [
        "def cofi_cost_func_(params, Y, R, num_users, num_movies, num_features, Lambda):\n",
        "\n",
        "    # Obtem as matrizes X e Theta a partir dos params\n",
        "    X = np.array(params[:num_movies*num_features]).reshape(num_features, num_movies).T.copy()\n",
        "    Theta = np.array(params[num_movies*num_features:]).reshape(num_features, num_users).T.copy()\n",
        "\n",
        "\n",
        "    # Voce deve retornar os seguintes valores corretamente\n",
        "    J = 0\n",
        "    X_grad = np.zeros(X.shape)\n",
        "    Theta_grad = np.zeros(Theta.shape)\n",
        "\n",
        "    # ====================== SEU CODIGO AQUI ======================\n",
        "    # Instrucoes: calcular a funcao de custo regularizada e gradiente\n",
        "    # para a filtragem colaborativa. Concretamente, você deve primeiro\n",
        "    # implementar a funcao de custo. Depois disso, voce deve implementar o\n",
        "    # gradiente. \n",
        "    #\n",
        "    # Notas: \n",
        "    # X - num_movies x num_features: matriz das caracteristicas dos filmes\n",
        "    # Theta - num_users x num_features: matriz das caracteristicas dos usuarios\n",
        "    # Y - num_movies x num_users: matriz de classificacoes de filmes por usuarios\n",
        "    # R - num_movies x num_users: matriz, onde R (i, j) = 1 se o i-esimo filme\n",
        "    #       foi avaliado pelo j-esimo usuario\n",
        "    #\n",
        "    # =============================================================\n",
        "\n",
        "    # =============================================================\n",
        "    #Função de custo baseada na equação da seção 2.1.1\n",
        "    # =============================================================\n",
        "    J = (1/2.) * np.sum((np.power(np.dot(X,Theta.T) - Y,2)) * R)\n",
        "\n",
        "    # =======================================================================\n",
        "    #Gradiente da filtragem colaborativa baseados nas equações da seção 2.1.2\n",
        "    # =======================================================================\n",
        "\n",
        "    # Gradiente para X e Theta:\n",
        "    # =============================================================\n",
        "    # X_grad - num_movies x num_features matrix, contendo as\n",
        "    #   derivadas parciais com relacao a cada elemento de X\n",
        "    X_grad = np.dot(( np.dot(X, Theta.T) - Y ) * R, Theta)\n",
        "    print('CONFERÊNCIA - X_grad: valores e shape:')\n",
        "    print(X_grad, X_grad.shape, sep='\\n')\n",
        "\n",
        "    # Theta_grad - num_users x num_features: matriz, contendo as\n",
        "    #   derivadas parciais com relacao a cada elemento de Theta\n",
        "    Theta_grad = np.dot((( np.dot(X, Theta.T) - Y ) * R).T, X)\n",
        "    print('-'*50)\n",
        "    print('CONFERÊNCIA - Theta_grad: valores e shape:')\n",
        "    print(Theta_grad, Theta_grad.shape, sep='\\n')\n",
        "\n",
        "    # =============================================================\n",
        "    #Gradiente para ambos os cojuntos em um único vetor\n",
        "    # =============================================================\n",
        "    grad = np.hstack((X_grad.T.flatten(),Theta_grad.T.flatten()))\n",
        "\n",
        "    return J, grad"
      ],
      "execution_count": null,
      "outputs": []
    },
    {
      "cell_type": "code",
      "metadata": {
        "colab": {
          "base_uri": "https://localhost:8080/"
        },
        "id": "2ESPnj2k3xKe",
        "outputId": "f497bf38-705a-460f-b693-9a124558a1cf"
      },
      "source": [
        "#RODANDO NOVAMENTE APENAS PARA CONFERIR AS DIMENSÕES\n",
        "#  Avaliacao da funcao de custo\n",
        "_,  _ = cofi_cost_func_(np.hstack((X.T.flatten(),\n",
        "                           Theta.T.flatten())),\n",
        "                Y, R, num_users, num_movies,\n",
        "                num_features, 0)"
      ],
      "execution_count": null,
      "outputs": [
        {
          "output_type": "stream",
          "text": [
            "CONFERÊNCIA - X_grad: valores e shape:\n",
            "[[-2.52899165  7.57570308 -1.89979026]\n",
            " [-0.56819597  3.35265031 -0.52339845]\n",
            " [-0.83240713  4.91163297 -0.76677878]\n",
            " [-0.38358278  2.26333698 -0.35334048]\n",
            " [-0.80378006  4.74271842 -0.74040871]]\n",
            "(5, 3)\n",
            "--------------------------------------------------\n",
            "CONFERÊNCIA - Theta_grad: valores e shape:\n",
            "[[-10.5680202    4.62776019  -7.16004443]\n",
            " [ -3.05099006   1.16441367  -3.47410789]\n",
            " [  0.           0.           0.        ]\n",
            " [  0.           0.           0.        ]]\n",
            "(4, 3)\n"
          ],
          "name": "stdout"
        }
      ]
    },
    {
      "cell_type": "markdown",
      "metadata": {
        "id": "tr7TlY8WecIT"
      },
      "source": [
        "A conferência demonstra que as dimensões (5,3) e (4,3) estão corretas, ou seja, correspondem às dimensões de X e Theta, respectivamente."
      ]
    },
    {
      "cell_type": "markdown",
      "metadata": {
        "id": "gBhdz7qRAIAO"
      },
      "source": [
        "##2.2 Aprendizado de Recomendações para Filmes"
      ]
    },
    {
      "cell_type": "markdown",
      "metadata": {
        "id": "3sEAjDxinFUk"
      },
      "source": [
        "**DEFINIÇÃO DE AVALIAÇÕES PARA UM NOVO USUÁRIO**"
      ]
    },
    {
      "cell_type": "code",
      "metadata": {
        "id": "K2dTkB0OAK-_"
      },
      "source": [
        "#Função para carga da lista de filmes\n",
        "from recsis.load_movie_list import load_movie_list"
      ],
      "execution_count": null,
      "outputs": []
    },
    {
      "cell_type": "markdown",
      "metadata": {
        "id": "BpvznWZFgO1U"
      },
      "source": [
        "Antes de treinar o modelo de filtragem colaborativa, essa secao primeiro adiciona algumas avaliacoes que correspondem a um novo usuario. Essa parte do codigo ira tambem permitir que voce defina suas proprias avaliacoes para filmes\n",
        "no conjunto de dados."
      ]
    },
    {
      "cell_type": "code",
      "metadata": {
        "id": "rXcOlObvgMa5"
      },
      "source": [
        "#Carga dos dados dos filmes\n",
        "movieList = load_movie_list()"
      ],
      "execution_count": null,
      "outputs": []
    },
    {
      "cell_type": "code",
      "metadata": {
        "colab": {
          "base_uri": "https://localhost:8080/"
        },
        "id": "vxeOTCtPlapH",
        "outputId": "834c93d3-0bc6-4647-e511-298af26d4d0d"
      },
      "source": [
        "#A posição do filme na lista equivale à posição a ser usada para avaliação\n",
        "movieList[:10]"
      ],
      "execution_count": null,
      "outputs": [
        {
          "output_type": "execute_result",
          "data": {
            "text/plain": [
              "['Toy Story (1995)',\n",
              " 'GoldenEye (1995)',\n",
              " 'Four Rooms (1995)',\n",
              " 'Get Shorty (1995)',\n",
              " 'Copycat (1995)',\n",
              " 'Shanghai Triad (Yao a yao yao dao waipo qiao) (1995)',\n",
              " 'Twelve Monkeys (1995)',\n",
              " 'Babe (1995)',\n",
              " 'Dead Man Walking (1995)',\n",
              " 'Richard III (1995)']"
            ]
          },
          "metadata": {
            "tags": []
          },
          "execution_count": 54
        }
      ]
    },
    {
      "cell_type": "code",
      "metadata": {
        "id": "39WnozZ6itav"
      },
      "source": [
        "#Inicia o vetor de avaliacoes do novo usuario\n",
        "my_ratings = np.zeros(1682)"
      ],
      "execution_count": null,
      "outputs": []
    },
    {
      "cell_type": "markdown",
      "metadata": {
        "id": "Ta6FqOV0mabn"
      },
      "source": [
        "* **Definição de avaliação de alguns filmes da lista**"
      ]
    },
    {
      "cell_type": "code",
      "metadata": {
        "id": "rcTiNypjmWtO"
      },
      "source": [
        "#Toy Story (1995) tem ID 1; atribuir avaliação \"3\":\n",
        "my_ratings[0] = 3"
      ],
      "execution_count": null,
      "outputs": []
    },
    {
      "cell_type": "code",
      "metadata": {
        "id": "aRTT0rBLmngp"
      },
      "source": [
        "#de Silence of the Lambs (1991); atribuir avaliação \"5\":\n",
        "my_ratings[97] = 5"
      ],
      "execution_count": null,
      "outputs": []
    },
    {
      "cell_type": "code",
      "metadata": {
        "id": "OCioZgLmmwYu"
      },
      "source": [
        "# Abaixo, sao definidas as avaliacoes para outros filmes:\n",
        "my_ratings[216] = 5 #Drácula\n",
        "my_ratings[446] = 2 #Carrie\n",
        "my_ratings[55] = 4 #Pulp Fiction\n",
        "my_ratings[167] = 5 #Monty Python and the Holy Grail\n",
        "my_ratings[262] = 3 #Steel\n",
        "my_ratings[66] = 2 #Ace Ventura\n",
        "my_ratings[796] = 2 #Timecop\n",
        "my_ratings[203] = 5 #Back to the Future\n",
        "my_ratings[49] = 5 #Star wars"
      ],
      "execution_count": null,
      "outputs": []
    },
    {
      "cell_type": "code",
      "metadata": {
        "colab": {
          "base_uri": "https://localhost:8080/"
        },
        "id": "yeA6FSsWm0Rr",
        "outputId": "84fca2a4-8ad5-491b-a811-9e83e988a936"
      },
      "source": [
        "print('Avaliacoes do novo usuario:')\n",
        "for i in range(len(my_ratings)):\n",
        "    if my_ratings[i] > 0:\n",
        "        print('\\tAvaliou %d para %s' % (my_ratings[i], movieList[i]))"
      ],
      "execution_count": null,
      "outputs": [
        {
          "output_type": "stream",
          "text": [
            "Avaliacoes do novo usuario:\n",
            "\tAvaliou 3 para Toy Story (1995)\n",
            "\tAvaliou 5 para Star Wars (1977)\n",
            "\tAvaliou 4 para Pulp Fiction (1994)\n",
            "\tAvaliou 2 para Ace Ventura: Pet Detective (1994)\n",
            "\tAvaliou 5 para Silence of the Lambs, The (1991)\n",
            "\tAvaliou 5 para Monty Python and the Holy Grail (1974)\n",
            "\tAvaliou 5 para Back to the Future (1985)\n",
            "\tAvaliou 5 para Bram Stoker's Dracula (1992)\n",
            "\tAvaliou 3 para Steel (1997)\n",
            "\tAvaliou 2 para Carrie (1976)\n",
            "\tAvaliou 2 para Timecop (1994)\n"
          ],
          "name": "stdout"
        }
      ]
    },
    {
      "cell_type": "markdown",
      "metadata": {
        "id": "C2Iw7el9nN56"
      },
      "source": [
        "**APRENDIZADO DE RECOMENDAÇÕES PARA FILMES**"
      ]
    },
    {
      "cell_type": "markdown",
      "metadata": {
        "id": "k9jDPwSenT8U"
      },
      "source": [
        "Treinamento do modelo usado o cojunto de dados completo com 1682 filmes e 943 usuários."
      ]
    },
    {
      "cell_type": "code",
      "metadata": {
        "id": "NRYsefPanUF3"
      },
      "source": [
        "#Função para normalizar avaliações\n",
        "from recsis.normalize_ratings import normalize_ratings\n",
        "\n",
        "#Função para minimizar o vetor theta\n",
        "from scipy.optimize import minimize"
      ],
      "execution_count": null,
      "outputs": []
    },
    {
      "cell_type": "markdown",
      "metadata": {
        "id": "8xEVckHTqF0p"
      },
      "source": [
        "* **Carga dos dados e definição das variáveis**"
      ]
    },
    {
      "cell_type": "code",
      "metadata": {
        "id": "Gbrg-mmwoDcp"
      },
      "source": [
        "#  Carga dos dados\n",
        "data = spio.loadmat('data/ex8_movies.mat')\n",
        "Y = data['Y']\n",
        "R = data['R'].astype(bool)\n",
        "\n",
        "#  Adiciona algumas avaliacoes a matriz\n",
        "Y = np.column_stack((my_ratings, Y))\n",
        "R = np.column_stack((my_ratings, R)).astype(bool)"
      ],
      "execution_count": null,
      "outputs": []
    },
    {
      "cell_type": "code",
      "metadata": {
        "id": "mAvTV6P-ol1N"
      },
      "source": [
        "#  Normaliza avaliacoes originais\n",
        "Ynorm, Ymean = normalize_ratings(Y, R)"
      ],
      "execution_count": null,
      "outputs": []
    },
    {
      "cell_type": "markdown",
      "metadata": {
        "id": "lXZYzM7eo8xv"
      },
      "source": [
        "* **Definição dos parâmetros para o treinamento do modelo**"
      ]
    },
    {
      "cell_type": "code",
      "metadata": {
        "id": "6d-F6jHzo01X"
      },
      "source": [
        "#Define quantidade de usários e filmes de acordo com as dimensões da matriz Y\n",
        "num_users = Y.shape[1]\n",
        "num_movies = Y.shape[0]\n",
        "\n",
        "#Define o número de características\n",
        "num_features = 10"
      ],
      "execution_count": null,
      "outputs": []
    },
    {
      "cell_type": "code",
      "metadata": {
        "id": "WtNZ1_Qzo2kQ"
      },
      "source": [
        "# Define parametros iniciais (Theta, X)\n",
        "X = np.random.rand(num_movies, num_features)\n",
        "Theta = np.random.rand(num_users, num_features)\n",
        "\n",
        "initial_parameters = np.hstack((X.T.flatten(), Theta.T.flatten()))\n",
        "\n",
        "# fator de regularizacao\n",
        "Lambda = 10"
      ],
      "execution_count": null,
      "outputs": []
    },
    {
      "cell_type": "markdown",
      "metadata": {
        "id": "4ki6ZnCdpMX7"
      },
      "source": [
        "Criação das configurações das funções de custo e gradiente, baseadas na função `cofi_cost_func` implementada nas seções 2.1.1 e 2.1.2 para realização do treinamento."
      ]
    },
    {
      "cell_type": "code",
      "metadata": {
        "id": "qJG54sDCpGsl"
      },
      "source": [
        "costFunc = lambda p: cofi_cost_func(p, Ynorm, R, num_users, num_movies, num_features, Lambda)[0]\n",
        "gradFunc = lambda p: cofi_cost_func(p, Ynorm, R, num_users, num_movies, num_features, Lambda)[1]"
      ],
      "execution_count": null,
      "outputs": []
    },
    {
      "cell_type": "markdown",
      "metadata": {
        "id": "4rSnV9kmqM2H"
      },
      "source": [
        "* **Treinamento do modelo**"
      ]
    },
    {
      "cell_type": "markdown",
      "metadata": {
        "id": "lvPotLyFpks8"
      },
      "source": [
        "Aplicação da função `minimize` para otimização do vetor *theta* e cálculo do custo."
      ]
    },
    {
      "cell_type": "code",
      "metadata": {
        "colab": {
          "base_uri": "https://localhost:8080/"
        },
        "id": "Y3WVDCM4phDB",
        "outputId": "b0183d24-e842-48a9-adc8-65e3d73edd0b"
      },
      "source": [
        "result = minimize(costFunc, initial_parameters, method='CG', jac=gradFunc,\n",
        "                  options={'disp': True, 'maxiter': 1000.0})\n",
        "\n",
        "theta = result.x\n",
        "cost = result.fun"
      ],
      "execution_count": null,
      "outputs": [
        {
          "output_type": "stream",
          "text": [
            "Warning: Maximum number of iterations has been exceeded.\n",
            "         Current function value: 21291.336038\n",
            "         Iterations: 1000\n",
            "         Function evaluations: 1499\n",
            "         Gradient evaluations: 1499\n"
          ],
          "name": "stdout"
        }
      ]
    },
    {
      "cell_type": "code",
      "metadata": {
        "id": "9CLVlKYap_T_"
      },
      "source": [
        "# Extrai as matrizes X e Theta a partir de theta\n",
        "X = theta[:num_movies*num_features].reshape(num_movies, num_features)\n",
        "Theta = theta[num_movies*num_features:].reshape(num_users, num_features)"
      ],
      "execution_count": null,
      "outputs": []
    },
    {
      "cell_type": "markdown",
      "metadata": {
        "id": "MU_gPO02rO52"
      },
      "source": [
        "* **Conferência dos valores gerados para $X$, $\\theta$ e Custo**"
      ]
    },
    {
      "cell_type": "code",
      "metadata": {
        "colab": {
          "base_uri": "https://localhost:8080/"
        },
        "id": "X8FTmfwLrD8q",
        "outputId": "21b7b523-7f3b-4878-db54-3d566d0c3655"
      },
      "source": [
        "X[0]"
      ],
      "execution_count": null,
      "outputs": [
        {
          "output_type": "execute_result",
          "data": {
            "text/plain": [
              "array([0.5537076 , 0.76465443, 1.53491873, 0.62091359, 0.3664781 ,\n",
              "       1.42825013, 0.53835537, 0.9272989 , 0.47459675, 0.1580864 ])"
            ]
          },
          "metadata": {
            "tags": []
          },
          "execution_count": 79
        }
      ]
    },
    {
      "cell_type": "code",
      "metadata": {
        "colab": {
          "base_uri": "https://localhost:8080/"
        },
        "id": "YVNBngxWrGOV",
        "outputId": "41600ce9-b90a-4d98-ee26-4ae992af0c3b"
      },
      "source": [
        "Theta[0]"
      ],
      "execution_count": null,
      "outputs": [
        {
          "output_type": "execute_result",
          "data": {
            "text/plain": [
              "array([ 1.41278101,  0.15301972,  0.4002134 , -0.58928079, -0.00453182,\n",
              "       -0.48958179, -0.22712605,  0.82903462,  0.57647719, -0.66244802])"
            ]
          },
          "metadata": {
            "tags": []
          },
          "execution_count": 80
        }
      ]
    },
    {
      "cell_type": "code",
      "metadata": {
        "colab": {
          "base_uri": "https://localhost:8080/"
        },
        "id": "_ub-P4KVtf-i",
        "outputId": "c9bff6f7-5a9b-4318-d618-0a02a85456cf"
      },
      "source": [
        "print(f'Custo computado no treinamento: {cost:.2f}')"
      ],
      "execution_count": null,
      "outputs": [
        {
          "output_type": "stream",
          "text": [
            "Custo computado no treinamento: 21291.34\n"
          ],
          "name": "stdout"
        }
      ]
    },
    {
      "cell_type": "markdown",
      "metadata": {
        "id": "trD-zRSVnVC9"
      },
      "source": [
        "**REALIZAÇÃO DE RECOMENDAÇÕES**"
      ]
    },
    {
      "cell_type": "markdown",
      "metadata": {
        "id": "RXSq5mDunUXl"
      },
      "source": [
        "* **Aplicação do modelo treinado para realizar recomendações de filmes**"
      ]
    },
    {
      "cell_type": "code",
      "metadata": {
        "id": "8QSkfkuXnVPn"
      },
      "source": [
        "#Computacao da matriz de predicoes.\n",
        "p = X.dot(Theta.T)\n",
        "my_predictions = p[:, 0] + Ymean"
      ],
      "execution_count": null,
      "outputs": []
    },
    {
      "cell_type": "code",
      "metadata": {
        "id": "FM3QKBoCuXJ-"
      },
      "source": [
        "#Ordenação das predicoes em ordem decrescente\n",
        "pre=np.array([[idx, p] for idx, p in enumerate(my_predictions)])\n",
        "post = pre[pre[:,1].argsort()[::-1]]\n",
        "r = post[:,1]\n",
        "ix = post[:,0]"
      ],
      "execution_count": null,
      "outputs": []
    },
    {
      "cell_type": "markdown",
      "metadata": {
        "id": "tNJo-TfIzDij"
      },
      "source": [
        "* **Visualização das principais recomendações ordenadas pela classificação dos filmes**"
      ]
    },
    {
      "cell_type": "code",
      "metadata": {
        "colab": {
          "base_uri": "https://localhost:8080/"
        },
        "id": "55rDiyxjuoW3",
        "outputId": "31f4c6c6-d824-4f7f-ad3d-deaefd980bd6"
      },
      "source": [
        "print('\\nRecomendacoes principais:')\n",
        "for i in range(10):\n",
        "    j = int(ix[i])\n",
        "    print('\\tPrevisão de avaliacao %.1f para %s' % (my_predictions[j], movieList[j]))"
      ],
      "execution_count": null,
      "outputs": [
        {
          "output_type": "stream",
          "text": [
            "\n",
            "Recomendacoes principais:\n",
            "\tPrevisão de avaliacao 13.3 para Strictly Ballroom (1992)\n",
            "\tPrevisão de avaliacao 12.8 para Citizen Ruth (1996)\n",
            "\tPrevisão de avaliacao 12.8 para Piano, The (1993)\n",
            "\tPrevisão de avaliacao 11.6 para To Kill a Mockingbird (1962)\n",
            "\tPrevisão de avaliacao 11.3 para Little Women (1994)\n",
            "\tPrevisão de avaliacao 10.5 para Englishman Who Went Up a Hill, But Came Down a Mountain, The (1995)\n",
            "\tPrevisão de avaliacao 10.1 para Nadja (1994)\n",
            "\tPrevisão de avaliacao 10.1 para The Deadly Cure (1996)\n",
            "\tPrevisão de avaliacao 9.9 para Romeo Is Bleeding (1993)\n",
            "\tPrevisão de avaliacao 9.5 para Enchanted April (1991)\n"
          ],
          "name": "stdout"
        }
      ]
    },
    {
      "cell_type": "code",
      "metadata": {
        "colab": {
          "base_uri": "https://localhost:8080/"
        },
        "id": "oV2UWdgvut9e",
        "outputId": "f2aa1b3a-89c5-4a18-8e8d-06a5a5559184"
      },
      "source": [
        "print('\\nAvaliacoes originais fornecidas:')\n",
        "for i in range(len(my_ratings)):\n",
        "    if my_ratings[i] > 0:\n",
        "        print('\\tAvaliou %d para %s' % (my_ratings[i], movieList[i]))"
      ],
      "execution_count": null,
      "outputs": [
        {
          "output_type": "stream",
          "text": [
            "\n",
            "Avaliacoes originais fornecidas:\n",
            "\tAvaliou 3 para Toy Story (1995)\n",
            "\tAvaliou 5 para Star Wars (1977)\n",
            "\tAvaliou 4 para Pulp Fiction (1994)\n",
            "\tAvaliou 2 para Ace Ventura: Pet Detective (1994)\n",
            "\tAvaliou 5 para Silence of the Lambs, The (1991)\n",
            "\tAvaliou 5 para Monty Python and the Holy Grail (1974)\n",
            "\tAvaliou 5 para Back to the Future (1985)\n",
            "\tAvaliou 5 para Bram Stoker's Dracula (1992)\n",
            "\tAvaliou 3 para Steel (1997)\n",
            "\tAvaliou 2 para Carrie (1976)\n",
            "\tAvaliou 2 para Timecop (1994)\n"
          ],
          "name": "stdout"
        }
      ]
    },
    {
      "cell_type": "markdown",
      "metadata": {
        "id": "k9PFjTon-J-g"
      },
      "source": [
        "#3 Redes Neurais Artificiais"
      ]
    },
    {
      "cell_type": "markdown",
      "metadata": {
        "id": "b_SnVxgSAisn"
      },
      "source": [
        "##3.1 Redes MLP"
      ]
    },
    {
      "cell_type": "code",
      "metadata": {
        "id": "kDocqWxO_uSc"
      },
      "source": [
        "##============================================\n",
        "##Preparação do Ambiente\n",
        "##============================================\n",
        "\n",
        "#Bibliotecas para carga e tratamento\n",
        "import pandas as pd\n",
        "import numpy as np\n",
        "\n",
        "\n",
        "#Importações do PyTorch para criação de modelos e preparação de variáveis\n",
        "import torch\n",
        "from torch.autograd import Variable\n",
        "\n",
        "\n",
        "#Biblioteca para cálculo das métricas de avaliação e tratamento dos datasets\n",
        "from sklearn.metrics import confusion_matrix, classification_report\n",
        "from sklearn.model_selection import train_test_split\n",
        "from sklearn.preprocessing import StandardScaler\n",
        "\n",
        "\n",
        "#Importações do PyTorch para criação da Rede Neural\n",
        "import torch.nn as nn\n",
        "import torch.nn.functional as F"
      ],
      "execution_count": null,
      "outputs": []
    },
    {
      "cell_type": "markdown",
      "metadata": {
        "id": "kCyud58VVVxp"
      },
      "source": [
        "###3.1.1 Carga e preparação dos dados"
      ]
    },
    {
      "cell_type": "markdown",
      "metadata": {
        "id": "nitTMRM9_u5J"
      },
      "source": [
        "* **Carregando bibliotecas da seção**\n",
        "\n",
        "OBSERVAÇÃO: Algumas bibliotecas estão sendo recarregadas aqui para permitir a realização dos experimentos da seção de modo separado do restante desse notebook."
      ]
    },
    {
      "cell_type": "markdown",
      "metadata": {
        "id": "JKCNzsATrHZT"
      },
      "source": [
        "**PREPARAÇÃO DOS DADOS**"
      ]
    },
    {
      "cell_type": "markdown",
      "metadata": {
        "id": "iTKEpGMnrMeN"
      },
      "source": [
        "* **Recarga dos dados da seção 1 para o experimento**\n",
        "\n",
        "Nessa seção serão usados os mesmos dados da seção 1, por isso nas células abaixo apenas carregamos os dados novamente (para evitar problemas com nomes de variáveis similares usados ao longo dos experimentos desse notebook) e realizamos as transformações necessárias, sem repetição detalhada das análises preliminares."
      ]
    },
    {
      "cell_type": "code",
      "metadata": {
        "id": "9D0z0-0_qoQu"
      },
      "source": [
        "#Definção dos títulos das colunas\n",
        "headers = ['ESCT', 'NDEP', 'RENDA', 'TIPOR', 'VBEM', 'NPARC',\n",
        "           'VPARC', 'TEL', 'IDADE', 'RESMS', 'ENTRADA', 'CLASSE']\n",
        "\n",
        "\n",
        "#Carga do conjunto de treino\n",
        "arquivo = 'https://raw.githubusercontent.com/MLRG-CEFET-RJ/ml-class/master/ml-t3/datasets/credtrain.txt'\n",
        "data_train = pd.read_csv(arquivo, sep='\\t', header=None, names=headers)\n",
        "\n",
        "\n",
        "#Carga do conjunto de teste\n",
        "arquivo = 'https://raw.githubusercontent.com/MLRG-CEFET-RJ/ml-class/master/ml-t3/datasets/credtest.txt'\n",
        "data_test = pd.read_csv(arquivo, sep='\\t', header=None, names=headers)"
      ],
      "execution_count": null,
      "outputs": []
    },
    {
      "cell_type": "code",
      "metadata": {
        "colab": {
          "base_uri": "https://localhost:8080/"
        },
        "id": "fhxgBdi2JOnh",
        "outputId": "71e8726d-2431-4ab2-e89f-dd26ba147d3a"
      },
      "source": [
        "#Checagem rápida de parte dos dados carregados\n",
        "print(data_train.head(),\n",
        "      data_test.head(),\n",
        "      sep='\\n\\n')"
      ],
      "execution_count": null,
      "outputs": [
        {
          "output_type": "stream",
          "text": [
            "   ESCT  NDEP  RENDA  TIPOR  VBEM  ...  TEL  IDADE  RESMS  ENTRADA  CLASSE\n",
            "0     1     0    360      0   313  ...    0     25     48        0       1\n",
            "1     0     0    350      1   468  ...    0     33      6        0       1\n",
            "2     0     0   1100      0   829  ...    0     56     48        0       1\n",
            "3     0     0   3000      0   552  ...    1     31     60        0       1\n",
            "4     1     0   1000      0   809  ...    0     24      7        0       1\n",
            "\n",
            "[5 rows x 12 columns]\n",
            "\n",
            "   ESCT  NDEP  RENDA  TIPOR  VBEM  ...  TEL  IDADE  RESMS  ENTRADA  CLASSE\n",
            "0     0     2    500      1   618  ...    0     36      6        0       0\n",
            "1     1     0    813      0   552  ...    0     43     48      119       1\n",
            "2     3     0    350      0   488  ...    0     43      0        0       1\n",
            "3     1     0   1530      0   381  ...    0     28     48        0       1\n",
            "4     0     0    688      1   396  ...    0     49     72        0       1\n",
            "\n",
            "[5 rows x 12 columns]\n"
          ],
          "name": "stdout"
        }
      ]
    },
    {
      "cell_type": "markdown",
      "metadata": {
        "id": "mfDDy7h6KsQ2"
      },
      "source": [
        "* **Transformação de variáveis *dummies* para dados categóricos nominais**"
      ]
    },
    {
      "cell_type": "code",
      "metadata": {
        "colab": {
          "base_uri": "https://localhost:8080/",
          "height": 297
        },
        "id": "bzJlH5rqJOcc",
        "outputId": "a8b064d4-4544-42ad-d640-9828e27b07c0"
      },
      "source": [
        "#Verificação do resumo estatístico dos dados\n",
        "data_train.describe()"
      ],
      "execution_count": null,
      "outputs": [
        {
          "output_type": "execute_result",
          "data": {
            "text/html": [
              "<div>\n",
              "<style scoped>\n",
              "    .dataframe tbody tr th:only-of-type {\n",
              "        vertical-align: middle;\n",
              "    }\n",
              "\n",
              "    .dataframe tbody tr th {\n",
              "        vertical-align: top;\n",
              "    }\n",
              "\n",
              "    .dataframe thead th {\n",
              "        text-align: right;\n",
              "    }\n",
              "</style>\n",
              "<table border=\"1\" class=\"dataframe\">\n",
              "  <thead>\n",
              "    <tr style=\"text-align: right;\">\n",
              "      <th></th>\n",
              "      <th>ESCT</th>\n",
              "      <th>NDEP</th>\n",
              "      <th>RENDA</th>\n",
              "      <th>TIPOR</th>\n",
              "      <th>VBEM</th>\n",
              "      <th>NPARC</th>\n",
              "      <th>VPARC</th>\n",
              "      <th>TEL</th>\n",
              "      <th>IDADE</th>\n",
              "      <th>RESMS</th>\n",
              "      <th>ENTRADA</th>\n",
              "      <th>CLASSE</th>\n",
              "    </tr>\n",
              "  </thead>\n",
              "  <tbody>\n",
              "    <tr>\n",
              "      <th>count</th>\n",
              "      <td>1500.000000</td>\n",
              "      <td>1500.000000</td>\n",
              "      <td>1500.00000</td>\n",
              "      <td>1500.000000</td>\n",
              "      <td>1500.000000</td>\n",
              "      <td>1500.000000</td>\n",
              "      <td>1500.000000</td>\n",
              "      <td>1500.000000</td>\n",
              "      <td>1500.000000</td>\n",
              "      <td>1500.000000</td>\n",
              "      <td>1500.000000</td>\n",
              "      <td>1500.000000</td>\n",
              "    </tr>\n",
              "    <tr>\n",
              "      <th>mean</th>\n",
              "      <td>0.512000</td>\n",
              "      <td>0.126667</td>\n",
              "      <td>984.51200</td>\n",
              "      <td>0.445333</td>\n",
              "      <td>562.031333</td>\n",
              "      <td>8.392667</td>\n",
              "      <td>102.247333</td>\n",
              "      <td>0.134000</td>\n",
              "      <td>41.210667</td>\n",
              "      <td>31.528667</td>\n",
              "      <td>32.255333</td>\n",
              "      <td>0.476667</td>\n",
              "    </tr>\n",
              "    <tr>\n",
              "      <th>std</th>\n",
              "      <td>0.659909</td>\n",
              "      <td>0.572865</td>\n",
              "      <td>905.53292</td>\n",
              "      <td>0.497168</td>\n",
              "      <td>265.690646</td>\n",
              "      <td>3.609131</td>\n",
              "      <td>62.987325</td>\n",
              "      <td>0.340766</td>\n",
              "      <td>13.202266</td>\n",
              "      <td>52.662099</td>\n",
              "      <td>94.307614</td>\n",
              "      <td>0.499622</td>\n",
              "    </tr>\n",
              "    <tr>\n",
              "      <th>min</th>\n",
              "      <td>0.000000</td>\n",
              "      <td>0.000000</td>\n",
              "      <td>300.00000</td>\n",
              "      <td>0.000000</td>\n",
              "      <td>300.000000</td>\n",
              "      <td>1.000000</td>\n",
              "      <td>50.000000</td>\n",
              "      <td>0.000000</td>\n",
              "      <td>19.000000</td>\n",
              "      <td>0.000000</td>\n",
              "      <td>0.000000</td>\n",
              "      <td>0.000000</td>\n",
              "    </tr>\n",
              "    <tr>\n",
              "      <th>25%</th>\n",
              "      <td>0.000000</td>\n",
              "      <td>0.000000</td>\n",
              "      <td>467.50000</td>\n",
              "      <td>0.000000</td>\n",
              "      <td>410.000000</td>\n",
              "      <td>6.000000</td>\n",
              "      <td>66.000000</td>\n",
              "      <td>0.000000</td>\n",
              "      <td>31.000000</td>\n",
              "      <td>6.000000</td>\n",
              "      <td>0.000000</td>\n",
              "      <td>0.000000</td>\n",
              "    </tr>\n",
              "    <tr>\n",
              "      <th>50%</th>\n",
              "      <td>0.000000</td>\n",
              "      <td>0.000000</td>\n",
              "      <td>650.00000</td>\n",
              "      <td>0.000000</td>\n",
              "      <td>490.000000</td>\n",
              "      <td>10.000000</td>\n",
              "      <td>83.000000</td>\n",
              "      <td>0.000000</td>\n",
              "      <td>39.000000</td>\n",
              "      <td>6.000000</td>\n",
              "      <td>0.000000</td>\n",
              "      <td>0.000000</td>\n",
              "    </tr>\n",
              "    <tr>\n",
              "      <th>75%</th>\n",
              "      <td>1.000000</td>\n",
              "      <td>0.000000</td>\n",
              "      <td>1200.00000</td>\n",
              "      <td>1.000000</td>\n",
              "      <td>618.000000</td>\n",
              "      <td>10.000000</td>\n",
              "      <td>118.000000</td>\n",
              "      <td>0.000000</td>\n",
              "      <td>52.000000</td>\n",
              "      <td>48.000000</td>\n",
              "      <td>0.000000</td>\n",
              "      <td>1.000000</td>\n",
              "    </tr>\n",
              "    <tr>\n",
              "      <th>max</th>\n",
              "      <td>3.000000</td>\n",
              "      <td>7.000000</td>\n",
              "      <td>8000.00000</td>\n",
              "      <td>1.000000</td>\n",
              "      <td>4000.000000</td>\n",
              "      <td>24.000000</td>\n",
              "      <td>711.000000</td>\n",
              "      <td>1.000000</td>\n",
              "      <td>70.000000</td>\n",
              "      <td>420.000000</td>\n",
              "      <td>1300.000000</td>\n",
              "      <td>1.000000</td>\n",
              "    </tr>\n",
              "  </tbody>\n",
              "</table>\n",
              "</div>"
            ],
            "text/plain": [
              "              ESCT         NDEP  ...      ENTRADA       CLASSE\n",
              "count  1500.000000  1500.000000  ...  1500.000000  1500.000000\n",
              "mean      0.512000     0.126667  ...    32.255333     0.476667\n",
              "std       0.659909     0.572865  ...    94.307614     0.499622\n",
              "min       0.000000     0.000000  ...     0.000000     0.000000\n",
              "25%       0.000000     0.000000  ...     0.000000     0.000000\n",
              "50%       0.000000     0.000000  ...     0.000000     0.000000\n",
              "75%       1.000000     0.000000  ...     0.000000     1.000000\n",
              "max       3.000000     7.000000  ...  1300.000000     1.000000\n",
              "\n",
              "[8 rows x 12 columns]"
            ]
          },
          "metadata": {
            "tags": []
          },
          "execution_count": 39
        }
      ]
    },
    {
      "cell_type": "code",
      "metadata": {
        "colab": {
          "base_uri": "https://localhost:8080/"
        },
        "id": "NE0iYfG5JOKL",
        "outputId": "3e36af8a-3ef3-431c-a885-5cc412390c61"
      },
      "source": [
        "#Conferência de valores da variável Estado Civil (ESCT)\n",
        "print(data_train['ESCT'].head(5),\n",
        "      data_train['ESCT'].describe(),\n",
        "      sep='\\n\\n')\n",
        "\n",
        "#Conferência dos valores possíveis da variável\n",
        "print('\\nValores possíveis do atributo estado civil:')\n",
        "set(data_train['ESCT'])"
      ],
      "execution_count": null,
      "outputs": [
        {
          "output_type": "stream",
          "text": [
            "0    1\n",
            "1    0\n",
            "2    0\n",
            "3    0\n",
            "4    1\n",
            "Name: ESCT, dtype: int64\n",
            "\n",
            "count    1500.000000\n",
            "mean        0.512000\n",
            "std         0.659909\n",
            "min         0.000000\n",
            "25%         0.000000\n",
            "50%         0.000000\n",
            "75%         1.000000\n",
            "max         3.000000\n",
            "Name: ESCT, dtype: float64\n",
            "\n",
            "Valores possíveis do atributo estado civil:\n"
          ],
          "name": "stdout"
        },
        {
          "output_type": "execute_result",
          "data": {
            "text/plain": [
              "{0, 1, 2, 3}"
            ]
          },
          "metadata": {
            "tags": []
          },
          "execution_count": 40
        }
      ]
    },
    {
      "cell_type": "markdown",
      "metadata": {
        "id": "r5oSgJQhJog8"
      },
      "source": [
        "Percebemos pela análise simplificada que as opções de valores para estado cívil estão registradas na base de dados como os valores 0, 1, 2 e 3. Para criação de variáveis *dummies* serão criadas $n-1$ variáveis binárias, onde $n$ é o número de categorias. Isso é feito porque a categoria $n$ ocorrerá quanto todas as demais tiverem valor 0 e, portanto, não precisa ser mapeada.\n",
        "\n",
        "---\n",
        "\n",
        "Para criar as variáveis usamos o método denominado `get_dummies` da biblioteca `pandas` que simplifica esta transformação. Aplicaremos abaixo o método no conjunto de dados."
      ]
    },
    {
      "cell_type": "code",
      "metadata": {
        "colab": {
          "base_uri": "https://localhost:8080/",
          "height": 204
        },
        "id": "MtNyajwcJYKp",
        "outputId": "3f9d8599-22fc-4369-ebd8-d1ccec350bc5"
      },
      "source": [
        "#Usando a lógica estuda para recarregar os dados e refazer a separação\n",
        "data_train_ = pd.get_dummies(data=data_train,\n",
        "               prefix='ESCT',\n",
        "               columns=['ESCT'],\n",
        "               drop_first=True)\n",
        "\n",
        "data_train_.head()"
      ],
      "execution_count": null,
      "outputs": [
        {
          "output_type": "execute_result",
          "data": {
            "text/html": [
              "<div>\n",
              "<style scoped>\n",
              "    .dataframe tbody tr th:only-of-type {\n",
              "        vertical-align: middle;\n",
              "    }\n",
              "\n",
              "    .dataframe tbody tr th {\n",
              "        vertical-align: top;\n",
              "    }\n",
              "\n",
              "    .dataframe thead th {\n",
              "        text-align: right;\n",
              "    }\n",
              "</style>\n",
              "<table border=\"1\" class=\"dataframe\">\n",
              "  <thead>\n",
              "    <tr style=\"text-align: right;\">\n",
              "      <th></th>\n",
              "      <th>NDEP</th>\n",
              "      <th>RENDA</th>\n",
              "      <th>TIPOR</th>\n",
              "      <th>VBEM</th>\n",
              "      <th>NPARC</th>\n",
              "      <th>VPARC</th>\n",
              "      <th>TEL</th>\n",
              "      <th>IDADE</th>\n",
              "      <th>RESMS</th>\n",
              "      <th>ENTRADA</th>\n",
              "      <th>CLASSE</th>\n",
              "      <th>ESCT_1</th>\n",
              "      <th>ESCT_2</th>\n",
              "      <th>ESCT_3</th>\n",
              "    </tr>\n",
              "  </thead>\n",
              "  <tbody>\n",
              "    <tr>\n",
              "      <th>0</th>\n",
              "      <td>0</td>\n",
              "      <td>360</td>\n",
              "      <td>0</td>\n",
              "      <td>313</td>\n",
              "      <td>9</td>\n",
              "      <td>52</td>\n",
              "      <td>0</td>\n",
              "      <td>25</td>\n",
              "      <td>48</td>\n",
              "      <td>0</td>\n",
              "      <td>1</td>\n",
              "      <td>1</td>\n",
              "      <td>0</td>\n",
              "      <td>0</td>\n",
              "    </tr>\n",
              "    <tr>\n",
              "      <th>1</th>\n",
              "      <td>0</td>\n",
              "      <td>350</td>\n",
              "      <td>1</td>\n",
              "      <td>468</td>\n",
              "      <td>10</td>\n",
              "      <td>65</td>\n",
              "      <td>0</td>\n",
              "      <td>33</td>\n",
              "      <td>6</td>\n",
              "      <td>0</td>\n",
              "      <td>1</td>\n",
              "      <td>0</td>\n",
              "      <td>0</td>\n",
              "      <td>0</td>\n",
              "    </tr>\n",
              "    <tr>\n",
              "      <th>2</th>\n",
              "      <td>0</td>\n",
              "      <td>1100</td>\n",
              "      <td>0</td>\n",
              "      <td>829</td>\n",
              "      <td>9</td>\n",
              "      <td>125</td>\n",
              "      <td>0</td>\n",
              "      <td>56</td>\n",
              "      <td>48</td>\n",
              "      <td>0</td>\n",
              "      <td>1</td>\n",
              "      <td>0</td>\n",
              "      <td>0</td>\n",
              "      <td>0</td>\n",
              "    </tr>\n",
              "    <tr>\n",
              "      <th>3</th>\n",
              "      <td>0</td>\n",
              "      <td>3000</td>\n",
              "      <td>0</td>\n",
              "      <td>552</td>\n",
              "      <td>12</td>\n",
              "      <td>76</td>\n",
              "      <td>1</td>\n",
              "      <td>31</td>\n",
              "      <td>60</td>\n",
              "      <td>0</td>\n",
              "      <td>1</td>\n",
              "      <td>0</td>\n",
              "      <td>0</td>\n",
              "      <td>0</td>\n",
              "    </tr>\n",
              "    <tr>\n",
              "      <th>4</th>\n",
              "      <td>0</td>\n",
              "      <td>1000</td>\n",
              "      <td>0</td>\n",
              "      <td>809</td>\n",
              "      <td>12</td>\n",
              "      <td>111</td>\n",
              "      <td>0</td>\n",
              "      <td>24</td>\n",
              "      <td>7</td>\n",
              "      <td>0</td>\n",
              "      <td>1</td>\n",
              "      <td>1</td>\n",
              "      <td>0</td>\n",
              "      <td>0</td>\n",
              "    </tr>\n",
              "  </tbody>\n",
              "</table>\n",
              "</div>"
            ],
            "text/plain": [
              "   NDEP  RENDA  TIPOR  VBEM  NPARC  ...  ENTRADA  CLASSE  ESCT_1  ESCT_2  ESCT_3\n",
              "0     0    360      0   313      9  ...        0       1       1       0       0\n",
              "1     0    350      1   468     10  ...        0       1       0       0       0\n",
              "2     0   1100      0   829      9  ...        0       1       0       0       0\n",
              "3     0   3000      0   552     12  ...        0       1       0       0       0\n",
              "4     0   1000      0   809     12  ...        0       1       1       0       0\n",
              "\n",
              "[5 rows x 14 columns]"
            ]
          },
          "metadata": {
            "tags": []
          },
          "execution_count": 41
        }
      ]
    },
    {
      "cell_type": "code",
      "metadata": {
        "colab": {
          "base_uri": "https://localhost:8080/",
          "height": 204
        },
        "id": "BMe9-nEpJZRT",
        "outputId": "55d8ba22-bd1c-41f5-c0bd-a4484cad375b"
      },
      "source": [
        "#Usando a lógica estuda para recarregar os dados e refazer a separação\n",
        "data_test_ = pd.get_dummies(data=data_test,\n",
        "               prefix='ESCT',\n",
        "               columns=['ESCT'],\n",
        "               drop_first=True)\n",
        "\n",
        "data_test_.head()"
      ],
      "execution_count": null,
      "outputs": [
        {
          "output_type": "execute_result",
          "data": {
            "text/html": [
              "<div>\n",
              "<style scoped>\n",
              "    .dataframe tbody tr th:only-of-type {\n",
              "        vertical-align: middle;\n",
              "    }\n",
              "\n",
              "    .dataframe tbody tr th {\n",
              "        vertical-align: top;\n",
              "    }\n",
              "\n",
              "    .dataframe thead th {\n",
              "        text-align: right;\n",
              "    }\n",
              "</style>\n",
              "<table border=\"1\" class=\"dataframe\">\n",
              "  <thead>\n",
              "    <tr style=\"text-align: right;\">\n",
              "      <th></th>\n",
              "      <th>NDEP</th>\n",
              "      <th>RENDA</th>\n",
              "      <th>TIPOR</th>\n",
              "      <th>VBEM</th>\n",
              "      <th>NPARC</th>\n",
              "      <th>VPARC</th>\n",
              "      <th>TEL</th>\n",
              "      <th>IDADE</th>\n",
              "      <th>RESMS</th>\n",
              "      <th>ENTRADA</th>\n",
              "      <th>CLASSE</th>\n",
              "      <th>ESCT_1</th>\n",
              "      <th>ESCT_2</th>\n",
              "      <th>ESCT_3</th>\n",
              "    </tr>\n",
              "  </thead>\n",
              "  <tbody>\n",
              "    <tr>\n",
              "      <th>0</th>\n",
              "      <td>2</td>\n",
              "      <td>500</td>\n",
              "      <td>1</td>\n",
              "      <td>618</td>\n",
              "      <td>10</td>\n",
              "      <td>85</td>\n",
              "      <td>0</td>\n",
              "      <td>36</td>\n",
              "      <td>6</td>\n",
              "      <td>0</td>\n",
              "      <td>0</td>\n",
              "      <td>0</td>\n",
              "      <td>0</td>\n",
              "      <td>0</td>\n",
              "    </tr>\n",
              "    <tr>\n",
              "      <th>1</th>\n",
              "      <td>0</td>\n",
              "      <td>813</td>\n",
              "      <td>0</td>\n",
              "      <td>552</td>\n",
              "      <td>4</td>\n",
              "      <td>119</td>\n",
              "      <td>0</td>\n",
              "      <td>43</td>\n",
              "      <td>48</td>\n",
              "      <td>119</td>\n",
              "      <td>1</td>\n",
              "      <td>1</td>\n",
              "      <td>0</td>\n",
              "      <td>0</td>\n",
              "    </tr>\n",
              "    <tr>\n",
              "      <th>2</th>\n",
              "      <td>0</td>\n",
              "      <td>350</td>\n",
              "      <td>0</td>\n",
              "      <td>488</td>\n",
              "      <td>12</td>\n",
              "      <td>66</td>\n",
              "      <td>0</td>\n",
              "      <td>43</td>\n",
              "      <td>0</td>\n",
              "      <td>0</td>\n",
              "      <td>1</td>\n",
              "      <td>0</td>\n",
              "      <td>0</td>\n",
              "      <td>1</td>\n",
              "    </tr>\n",
              "    <tr>\n",
              "      <th>3</th>\n",
              "      <td>0</td>\n",
              "      <td>1530</td>\n",
              "      <td>0</td>\n",
              "      <td>381</td>\n",
              "      <td>1</td>\n",
              "      <td>398</td>\n",
              "      <td>0</td>\n",
              "      <td>28</td>\n",
              "      <td>48</td>\n",
              "      <td>0</td>\n",
              "      <td>1</td>\n",
              "      <td>1</td>\n",
              "      <td>0</td>\n",
              "      <td>0</td>\n",
              "    </tr>\n",
              "    <tr>\n",
              "      <th>4</th>\n",
              "      <td>0</td>\n",
              "      <td>688</td>\n",
              "      <td>1</td>\n",
              "      <td>396</td>\n",
              "      <td>10</td>\n",
              "      <td>60</td>\n",
              "      <td>0</td>\n",
              "      <td>49</td>\n",
              "      <td>72</td>\n",
              "      <td>0</td>\n",
              "      <td>1</td>\n",
              "      <td>0</td>\n",
              "      <td>0</td>\n",
              "      <td>0</td>\n",
              "    </tr>\n",
              "  </tbody>\n",
              "</table>\n",
              "</div>"
            ],
            "text/plain": [
              "   NDEP  RENDA  TIPOR  VBEM  NPARC  ...  ENTRADA  CLASSE  ESCT_1  ESCT_2  ESCT_3\n",
              "0     2    500      1   618     10  ...        0       0       0       0       0\n",
              "1     0    813      0   552      4  ...      119       1       1       0       0\n",
              "2     0    350      0   488     12  ...        0       1       0       0       1\n",
              "3     0   1530      0   381      1  ...        0       1       1       0       0\n",
              "4     0    688      1   396     10  ...        0       1       0       0       0\n",
              "\n",
              "[5 rows x 14 columns]"
            ]
          },
          "metadata": {
            "tags": []
          },
          "execution_count": 42
        }
      ]
    },
    {
      "cell_type": "markdown",
      "metadata": {
        "id": "5XWXXr-XKELr"
      },
      "source": [
        "Com a transformação realizada, serão separadas os atributos e classes alvos em novas variáveis para processamento pelos algoritmos desejados."
      ]
    },
    {
      "cell_type": "code",
      "metadata": {
        "colab": {
          "base_uri": "https://localhost:8080/"
        },
        "id": "flJhJCijKJaG",
        "outputId": "50263206-4876-41db-b03d-4bbc95d17497"
      },
      "source": [
        "#Separação da variável alvo não muda\n",
        "##=======================================\n",
        "\n",
        "#Transoformação dos atributos e da classe alvo em matrizes\n",
        "y_train_ = np.array(data_train['CLASSE'])\n",
        "\n",
        "#Transformação dos atributos e da classe alvo em matrizes\n",
        "y_test = np.array(data_test['CLASSE'])\n",
        "\n",
        "#Checagem rápida\n",
        "print(y_train_[:10],\n",
        "      y_test[:10],\n",
        "      sep='\\n\\n')"
      ],
      "execution_count": null,
      "outputs": [
        {
          "output_type": "stream",
          "text": [
            "[1 1 1 1 1 1 0 1 0 1]\n",
            "\n",
            "[0 1 1 1 1 0 0 1 0 1]\n"
          ],
          "name": "stdout"
        }
      ]
    },
    {
      "cell_type": "code",
      "metadata": {
        "id": "wO-MMOyfKOoO"
      },
      "source": [
        "#Separação dos atributos precisa atentar que a ordem das colunas mudou\n",
        "##=============================================================================\n",
        "\n",
        "#Recuperação dos nomes das colunas\n",
        "atributos = list(data_train_.columns)\n",
        "\n",
        "#Eliminação da colunas com a classe na lista de atributos\n",
        "atributos.remove('CLASSE')"
      ],
      "execution_count": null,
      "outputs": []
    },
    {
      "cell_type": "code",
      "metadata": {
        "id": "oZV-8l8dKVQM"
      },
      "source": [
        "#Uso da lista de atributos para separação do conjunto de dados\n",
        "\n",
        "#Transoformação dos atributos e da classe alvo em matrizes\n",
        "X_train_ = np.array(data_train_.loc[:, atributos])\n",
        "\n",
        "#Transformação dos atributos e da classe alvo em matrizes\n",
        "X_test = np.array(data_test_.loc[:, atributos])"
      ],
      "execution_count": null,
      "outputs": []
    },
    {
      "cell_type": "code",
      "metadata": {
        "id": "5iqHXpgLKYuq"
      },
      "source": [
        "#Separação de treino e validação não muda\n",
        "##=======================================\n",
        "\n",
        "#Separação de treino e validação\n",
        "X_train, X_val, y_train, y_val = train_test_split(X_train_, y_train_,\n",
        "                                                  train_size=0.2,\n",
        "                                                  random_state=31)"
      ],
      "execution_count": null,
      "outputs": []
    },
    {
      "cell_type": "code",
      "metadata": {
        "colab": {
          "base_uri": "https://localhost:8080/"
        },
        "id": "_OLW7A2uKcWk",
        "outputId": "d321d252-3c39-43f2-d39f-3de1fc2e0baf"
      },
      "source": [
        "#Checagem rápida de parte dos dados carregados\n",
        "print(X_train[:5],\n",
        "      X_val[:5],\n",
        "      X_test[:5],\n",
        "      sep='\\n\\n')"
      ],
      "execution_count": null,
      "outputs": [
        {
          "output_type": "stream",
          "text": [
            "[[   0  430    0  422   10   64    0   36    0    0    0    0    0]\n",
            " [   0 2000    1  387    9   63    0   52    6    0    1    0    0]\n",
            " [   0  700    1  770   12  104    0   45    6    0    0    0    0]\n",
            " [   0  990    0  531    6  118    0   30    0    0    0    0    0]\n",
            " [   0  705    0  409   10   63    0   35   48    0    0    0    0]]\n",
            "\n",
            "[[   0  300    1  629   12   55    1   54   60  230    0    0    0]\n",
            " [   0  600    1  540   12   73    0   28    6    0    1    0    0]\n",
            " [   0  317    1  459   12   63    1   57  264    0    0    0    0]\n",
            " [   0  800    0  399    3  149    1   57    0    0    0    0    0]\n",
            " [   0 3000    0  360    1  376    0   43   48    0    1    0    0]]\n",
            "\n",
            "[[   2  500    1  618   10   85    0   36    6    0    0    0    0]\n",
            " [   0  813    0  552    4  119    0   43   48  119    1    0    0]\n",
            " [   0  350    0  488   12   66    0   43    0    0    0    0    1]\n",
            " [   0 1530    0  381    1  398    0   28   48    0    1    0    0]\n",
            " [   0  688    1  396   10   60    0   49   72    0    0    0    0]]\n"
          ],
          "name": "stdout"
        }
      ]
    },
    {
      "cell_type": "markdown",
      "metadata": {
        "id": "23PdDq_rKg_1"
      },
      "source": [
        "* **Normalização das caracterísitcas**\n",
        "\n",
        "Como pode ser vistos nas saídas do final da seção as características estão em ordens de grandeza diferentes. Para muitos algoritmos este é um problema que pode levar a modelos inadequados. Para resolver este problema realizaremos a normalização dos dados."
      ]
    },
    {
      "cell_type": "code",
      "metadata": {
        "id": "11o0Og6UKgph"
      },
      "source": [
        "#Criação do transformador para noramlização\n",
        "norm = StandardScaler()\n",
        "\n",
        "#Normalização das características\n",
        "X_train = norm.fit_transform(X_train)\n",
        "X_test = norm.fit_transform(X_test)\n",
        "X_val = norm.fit_transform(X_val)"
      ],
      "execution_count": null,
      "outputs": []
    },
    {
      "cell_type": "markdown",
      "metadata": {
        "id": "i5jszIZIs_u3"
      },
      "source": [
        "* **Transformação dos dados originais em tensores**\n",
        "\n",
        "Tendo em vista que o PyTorch não trabalha com variáveis comuns do Python, antesde iniciar a criação e treinamento da rede MLP as variáveis acima serão convertidas usanda em tensores."
      ]
    },
    {
      "cell_type": "code",
      "metadata": {
        "id": "9vMMiLA2v6ta"
      },
      "source": [
        "#Atributos de treino e validação\n",
        "X_train = Variable(torch.Tensor(X_train).float())\n",
        "X_val = Variable(torch.Tensor(X_val).float())\n",
        "\n",
        "#Classes de treino e validação\n",
        "y_train = Variable(torch.Tensor(y_train).long())\n",
        "y_val = Variable(torch.Tensor(y_val).long())\n",
        "\n",
        "#Atributos e classes de teste\n",
        "X_test = Variable(torch.Tensor(X_test).float())\n",
        "y_test = Variable(torch.Tensor(y_test).long())"
      ],
      "execution_count": null,
      "outputs": []
    },
    {
      "cell_type": "code",
      "metadata": {
        "id": "q907GaVGvI2k",
        "colab": {
          "base_uri": "https://localhost:8080/"
        },
        "outputId": "39c85750-a0a5-4027-880a-756f29c1d675"
      },
      "source": [
        "#Checagem rápida dos dados carregados após transformações e carga em tensores\n",
        "print(X_train[:5],\n",
        "      X_val[:5],\n",
        "      X_test[:5],\n",
        "      y_train[:5],\n",
        "      y_val[:5],\n",
        "      y_test[:5],\n",
        "      sep='\\n\\n')"
      ],
      "execution_count": null,
      "outputs": [
        {
          "output_type": "stream",
          "text": [
            "tensor([[-0.2400, -0.5559, -0.7829, -0.6395,  0.4819, -0.6833, -0.3395, -0.4140,\n",
            "         -0.6118, -0.4185, -0.7177, -0.1429, -0.1162],\n",
            "        [-0.2400,  0.9560,  1.2773, -0.7978,  0.1990, -0.7007, -0.3395,  0.7803,\n",
            "         -0.5099, -0.4185,  1.3933, -0.1429, -0.1162],\n",
            "        [-0.2400, -0.2959,  1.2773,  0.9341,  1.0477,  0.0101, -0.3395,  0.2578,\n",
            "         -0.5099, -0.4185, -0.7177, -0.1429, -0.1162],\n",
            "        [-0.2400, -0.0166, -0.7829, -0.1466, -0.6497,  0.2528, -0.3395, -0.8619,\n",
            "         -0.6118, -0.4185, -0.7177, -0.1429, -0.1162],\n",
            "        [-0.2400, -0.2911, -0.7829, -0.6983,  0.4819, -0.7007, -0.3395, -0.4887,\n",
            "          0.2036, -0.4185, -0.7177, -0.1429, -0.1162]])\n",
            "\n",
            "tensor([[-0.2181, -0.7815,  1.0798,  0.2443,  0.9884, -0.7312,  2.4615,  0.9792,\n",
            "          0.5813,  1.9790, -0.8437, -0.1367, -0.1682],\n",
            "        [-0.2181, -0.4361,  1.0798, -0.0787,  0.9884, -0.4509, -0.4063, -0.9985,\n",
            "         -0.4794, -0.3322,  1.1852, -0.1367, -0.1682],\n",
            "        [-0.2181, -0.7619,  1.0798, -0.3726,  0.9884, -0.6066,  2.4615,  1.2074,\n",
            "          4.5884, -0.3322, -0.8437, -0.1367, -0.1682],\n",
            "        [-0.2181, -0.2059, -0.9261, -0.5903, -1.4940,  0.7326,  2.4615,  1.2074,\n",
            "         -0.5973, -0.3322, -0.8437, -0.1367, -0.1682],\n",
            "        [-0.2181,  2.3268, -0.9261, -0.7318, -2.0457,  4.2676, -0.4063,  0.1425,\n",
            "          0.3456, -0.3322,  1.1852, -0.1367, -0.1682]])\n",
            "\n",
            "tensor([[ 3.6940, -0.4917,  1.1003,  0.1409,  0.4402, -0.2773, -0.3563, -0.3853,\n",
            "         -0.4649, -0.2925, -0.8171, -0.1394, -0.1943],\n",
            "        [-0.2169, -0.1343, -0.9088, -0.0465, -1.2127,  0.2254, -0.3563,  0.1345,\n",
            "          0.3742,  1.0194,  1.2239, -0.1394, -0.1943],\n",
            "        [-0.2169, -0.6629, -0.9088, -0.2282,  0.9912, -0.5582, -0.3563,  0.1345,\n",
            "         -0.5847, -0.2925, -0.8171, -0.1394,  5.1455],\n",
            "        [-0.2169,  0.6843, -0.9088, -0.5319, -2.0392,  4.3506, -0.3563, -0.9794,\n",
            "          0.3742, -0.2925,  1.2239, -0.1394, -0.1943],\n",
            "        [-0.2169, -0.2770,  1.1003, -0.4893,  0.4402, -0.6469, -0.3563,  0.5801,\n",
            "          0.8536, -0.2925, -0.8171, -0.1394, -0.1943]])\n",
            "\n",
            "tensor([1, 0, 0, 1, 1])\n",
            "\n",
            "tensor([0, 1, 0, 0, 1])\n",
            "\n",
            "tensor([0, 1, 1, 1, 1])\n"
          ],
          "name": "stdout"
        }
      ]
    },
    {
      "cell_type": "markdown",
      "metadata": {
        "id": "S9q-hpKqwrAA"
      },
      "source": [
        "###3.1.2 Criação da Rede Neural MLP sem sintonização de hiperparâmetros"
      ]
    },
    {
      "cell_type": "markdown",
      "metadata": {
        "id": "1OfcYIrpL1mo"
      },
      "source": [
        "* **Criação da classe com arquitetura da rede neural MLP**"
      ]
    },
    {
      "cell_type": "code",
      "metadata": {
        "id": "pihidduDwtie"
      },
      "source": [
        "class Net(nn.Module):\n",
        "  # Define nn\n",
        "  def __init__(self, dimX, nC, neur):\n",
        "    \"\"\"\n",
        "    Definição da Redeu Neural\n",
        "    Parametros:\n",
        "    dimX int: Entradas na primeira camada (quantidade de atributos)\n",
        "    nC int:  Neurônios de saída (quantidade de classes possíveis)\n",
        "    neur int: Neurônios na camada oculta\n",
        "    \"\"\"\n",
        "    super(Net, self).__init__()\n",
        "\n",
        "    ##Camada oculta\n",
        "    ##==============\n",
        "    #Recebe neurônios = quantidade de atributos\n",
        "    #Entrega quantidade de neurônios da camada oculta\n",
        "    self.fc1 = nn.Linear(dimX, neur)\n",
        "\n",
        "    ##Camada de saída\n",
        "    ##==============\n",
        "    #Recebe neurônios da camada oculta\n",
        "    #Entrega quantidade de neurônios das classes possíveis\n",
        "    self.fc2 = nn.Linear(neur, nC)\n",
        "\n",
        "    #Uso da função Sigmoid para classificação binária\n",
        "    self.output = nn.Sigmoid()\n",
        "\n",
        "  def forward(self, X):\n",
        "    \"\"\"\n",
        "    Definição do passo forward\n",
        "    \"\"\"\n",
        "    X = F.relu(self.fc1(X))\n",
        "    X = F.relu(self.fc2(X))\n",
        "    X = self.output(X)\n",
        "\n",
        "    return X"
      ],
      "execution_count": null,
      "outputs": []
    },
    {
      "cell_type": "markdown",
      "metadata": {
        "id": "mpSFaKBXL73B"
      },
      "source": [
        "* **Uso da classe para criação da rede neural**"
      ]
    },
    {
      "cell_type": "code",
      "metadata": {
        "colab": {
          "base_uri": "https://localhost:8080/"
        },
        "id": "G1v-aHjBLycv",
        "outputId": "111146bc-f5c3-4826-ac90-64b91074e177"
      },
      "source": [
        "\"\"\"\n",
        "Realizados ajustes manuais para definição dos hiperparâmetros. No final dessa\n",
        "seção será usada técnica de sintonização de hiperparâmetros, mas primeiramente\n",
        "será explorada a forma mais simples com estas defnições arbitrárias.\n",
        "\"\"\"\n",
        "\n",
        "##Parâmetros baseados nos conjuntos de dados\n",
        "##============================================\n",
        "\n",
        "#Quantidade de atributos do conjunto de dados\n",
        "attr_N = X_train.shape[1]\n",
        "\n",
        "#Quantidade de classes possíveis do conjunto de dados\n",
        "out_Classes = len(set(y_train_))\n",
        "\n",
        "\n",
        "\"\"\"\n",
        "Ajuste manual dos parâmetros: Início lr = 0.001, 100 neurônios na camada oculta\n",
        "Mantido lr e alterado número de neurônios para 200\n",
        "\"\"\"\n",
        "##Parâmetros definidos arbitrariamente\n",
        "##============================================\n",
        "NUM_NEUR = 200 #Neurônios na camada oculta\n",
        "NUM_EPOCHS = 1000 #Número de épocas\n",
        "LEARNING_R = 0.001 #Taxa de aprendizagem\n",
        "\n",
        "\n",
        "print('Qtde. Atributos de entrada:', attr_N,\n",
        "      '\\nQtde. Classes alvo:', out_Classes,\n",
        "      '\\nNeurônios na camada oculta:', NUM_NEUR,\n",
        "      '\\nNúmero de épocas:', NUM_EPOCHS,\n",
        "      '\\nTaxa de aprendizagem:', LEARNING_R)"
      ],
      "execution_count": null,
      "outputs": [
        {
          "output_type": "stream",
          "text": [
            "Qtde. Atributos de entrada: 13 \n",
            "Qtde. Classes alvo: 2 \n",
            "Neurônios na camada oculta: 200 \n",
            "Número de épocas: 1000 \n",
            "Taxa de aprendizagem: 0.001\n"
          ],
          "name": "stdout"
        }
      ]
    },
    {
      "cell_type": "code",
      "metadata": {
        "colab": {
          "base_uri": "https://localhost:8080/"
        },
        "id": "YTal79VP1fNl",
        "outputId": "c3c7cde0-9cf5-4215-94af-19168a05e325"
      },
      "source": [
        "#Criação do objeto com a classe da Rede Neural\n",
        "net = Net(attr_N, out_Classes, NUM_NEUR)\n",
        "\n",
        "#Arquitetura da Rede Neural\n",
        "print('Arquitetura da Rede Neural:\\n', net)"
      ],
      "execution_count": null,
      "outputs": [
        {
          "output_type": "stream",
          "text": [
            "Arquitetura da Rede Neural:\n",
            " Net(\n",
            "  (fc1): Linear(in_features=13, out_features=200, bias=True)\n",
            "  (fc2): Linear(in_features=200, out_features=2, bias=True)\n",
            "  (output): Sigmoid()\n",
            ")\n"
          ],
          "name": "stdout"
        }
      ]
    },
    {
      "cell_type": "code",
      "metadata": {
        "id": "ukD3CoJn1jtZ"
      },
      "source": [
        "##Parâmetros baseados em algoritmos ou funções\n",
        "##============================================\n",
        "\n",
        "#Entropia cruzada como função de custo - Problema de classificação\n",
        "criterion = nn.CrossEntropyLoss()\n",
        "\n",
        "#Configuração do otimizador - SGD\n",
        "optimizer = torch.optim.SGD(net.parameters(), lr = LEARNING_R)"
      ],
      "execution_count": null,
      "outputs": []
    },
    {
      "cell_type": "markdown",
      "metadata": {
        "id": "izRXA5aEYnyt"
      },
      "source": [
        "**TREINAMENTO DA REDE NEURAL**"
      ]
    },
    {
      "cell_type": "code",
      "metadata": {
        "id": "A084pzFExX3r",
        "colab": {
          "base_uri": "https://localhost:8080/"
        },
        "outputId": "a1723ca9-4a7b-4baa-fa80-909a23503175"
      },
      "source": [
        "##TREINAMENTO DA REDE NEURAL\n",
        "##===============================\n",
        "\n",
        "# loop to train the neural net\n",
        "for epoch in range(NUM_EPOCHS):\n",
        "    optimizer.zero_grad()\n",
        "    out = net(X_train)\n",
        "    loss = criterion(out, y_train)\n",
        "    loss.backward()\n",
        "    optimizer.step()\n",
        "    \n",
        "    if epoch % 100 == 0:\n",
        "        print('At epoch %d the loss is %f' % (epoch, loss.data.item()))"
      ],
      "execution_count": null,
      "outputs": [
        {
          "output_type": "stream",
          "text": [
            "At epoch 0 the loss is 0.697548\n",
            "At epoch 100 the loss is 0.695534\n",
            "At epoch 200 the loss is 0.693489\n",
            "At epoch 300 the loss is 0.691385\n",
            "At epoch 400 the loss is 0.689170\n",
            "At epoch 500 the loss is 0.686938\n",
            "At epoch 600 the loss is 0.684761\n",
            "At epoch 700 the loss is 0.682594\n",
            "At epoch 800 the loss is 0.680390\n",
            "At epoch 900 the loss is 0.678236\n"
          ],
          "name": "stdout"
        }
      ]
    },
    {
      "cell_type": "code",
      "metadata": {
        "colab": {
          "base_uri": "https://localhost:8080/"
        },
        "id": "BkCa9YMHbuf6",
        "outputId": "a18daced-32df-44ad-d8ae-870d64f5c027"
      },
      "source": [
        "#Verificação rápida da forma da saída da rede\n",
        "out[:10]"
      ],
      "execution_count": null,
      "outputs": [
        {
          "output_type": "execute_result",
          "data": {
            "text/plain": [
              "tensor([[0.5085, 0.5152],\n",
              "        [0.5373, 0.5000],\n",
              "        [0.5446, 0.5086],\n",
              "        [0.5167, 0.5000],\n",
              "        [0.5313, 0.5316],\n",
              "        [0.5987, 0.6334],\n",
              "        [0.5106, 0.5000],\n",
              "        [0.5468, 0.5503],\n",
              "        [0.5000, 0.5000],\n",
              "        [0.5203, 0.5128]], grad_fn=<SliceBackward>)"
            ]
          },
          "metadata": {
            "tags": []
          },
          "execution_count": 56
        }
      ]
    },
    {
      "cell_type": "markdown",
      "metadata": {
        "id": "UwviP8jkYr0W"
      },
      "source": [
        "**PREDIÇÃO E AVALIAÇÃO DA REDE NEURAL COM DADOS DE VALIDAÇÃO**"
      ]
    },
    {
      "cell_type": "code",
      "metadata": {
        "id": "nJsfIpM9cN5W"
      },
      "source": [
        "#Realiza predições no conjunto de testes\n",
        "#Cada predição é composto por um par (predição para cada classe)\n",
        "predict_out = net(X_val)\n",
        "\n",
        "\n",
        "#Recupera como valor predito o maior de cada par predito\n",
        "_, predict_y = torch.max(predict_out, 1)"
      ],
      "execution_count": null,
      "outputs": []
    },
    {
      "cell_type": "code",
      "metadata": {
        "colab": {
          "base_uri": "https://localhost:8080/"
        },
        "id": "g51hI29EFfWY",
        "outputId": "5e99481d-a7f1-4157-f585-626c38c5ec74"
      },
      "source": [
        "#Avaliação da Rede Neural nos dados de validação\n",
        "\n",
        "#Matriz de confusão\n",
        "print('Matriz de confusão')\n",
        "print(confusion_matrix(y_val.data, predict_y.data))\n",
        "\n",
        "#Relatório de avaliação da classificação\n",
        "print('-' * 60, end='\\n\\n')\n",
        "print('Relatório de avaliação da classificação')\n",
        "print(classification_report(y_val.data, predict_y.data,\n",
        "                            zero_division=0))"
      ],
      "execution_count": null,
      "outputs": [
        {
          "output_type": "stream",
          "text": [
            "Matriz de confusão\n",
            "[[495 144]\n",
            " [197 364]]\n",
            "------------------------------------------------------------\n",
            "\n",
            "Relatório de avaliação da classificação\n",
            "              precision    recall  f1-score   support\n",
            "\n",
            "           0       0.72      0.77      0.74       639\n",
            "           1       0.72      0.65      0.68       561\n",
            "\n",
            "    accuracy                           0.72      1200\n",
            "   macro avg       0.72      0.71      0.71      1200\n",
            "weighted avg       0.72      0.72      0.71      1200\n",
            "\n"
          ],
          "name": "stdout"
        }
      ]
    },
    {
      "cell_type": "markdown",
      "metadata": {
        "id": "QPLVTnQmY5pY"
      },
      "source": [
        "**APLICAÇÃO DA REDE NEURAL PARA PREDIÇÃO NOS DADOS DE TESTE**"
      ]
    },
    {
      "cell_type": "code",
      "metadata": {
        "id": "aZlO2YA4XcKE"
      },
      "source": [
        "#Realiza predições no conjunto de testes\n",
        "#Cada predição é composto por um par (predição para cada classe)\n",
        "predict_out = net(X_test)\n",
        "\n",
        "\n",
        "#Recupera como valor predito o maior de cada par predito\n",
        "_, predict_y = torch.max(predict_out, 1)"
      ],
      "execution_count": null,
      "outputs": []
    },
    {
      "cell_type": "code",
      "metadata": {
        "colab": {
          "base_uri": "https://localhost:8080/"
        },
        "id": "LwLGc4OZXfZl",
        "outputId": "ca0516f8-e1c0-4684-cc26-50056cfad40a"
      },
      "source": [
        "#Avaliação da Rede Neural nos dados de teste\n",
        "\n",
        "#Matriz de confusão\n",
        "print('Matriz de confusão')\n",
        "print(confusion_matrix(y_test.data, predict_y.data))\n",
        "\n",
        "\n",
        "#Relatório de avaliação da classificação\n",
        "print('-' * 60, end='\\n\\n')\n",
        "print('Relatório de avaliação da classificação')\n",
        "print(classification_report(y_test.data, predict_y.data,\n",
        "                            zero_division=0))"
      ],
      "execution_count": null,
      "outputs": [
        {
          "output_type": "stream",
          "text": [
            "Matriz de confusão\n",
            "[[239  67]\n",
            " [101 170]]\n",
            "------------------------------------------------------------\n",
            "\n",
            "Relatório de avaliação da classificação\n",
            "              precision    recall  f1-score   support\n",
            "\n",
            "           0       0.70      0.78      0.74       306\n",
            "           1       0.72      0.63      0.67       271\n",
            "\n",
            "    accuracy                           0.71       577\n",
            "   macro avg       0.71      0.70      0.70       577\n",
            "weighted avg       0.71      0.71      0.71       577\n",
            "\n"
          ],
          "name": "stdout"
        }
      ]
    },
    {
      "cell_type": "code",
      "metadata": {
        "colab": {
          "base_uri": "https://localhost:8080/"
        },
        "id": "IA8y7MF7ZGKI",
        "outputId": "cbda5088-a263-44b6-dcd6-ae779e5007a6"
      },
      "source": [
        "#Visualização dos valores da saída da rede neural\n",
        "predict_out[:10]"
      ],
      "execution_count": null,
      "outputs": [
        {
          "output_type": "execute_result",
          "data": {
            "text/plain": [
              "tensor([[0.6160, 0.5313],\n",
              "        [0.5094, 0.5403],\n",
              "        [0.5429, 0.5523],\n",
              "        [0.5537, 0.5267],\n",
              "        [0.5515, 0.5278],\n",
              "        [0.5110, 0.5069],\n",
              "        [0.5000, 0.5112],\n",
              "        [0.5239, 0.5000],\n",
              "        [0.5000, 0.5278],\n",
              "        [0.5594, 0.6895]], grad_fn=<SliceBackward>)"
            ]
          },
          "metadata": {
            "tags": []
          },
          "execution_count": 61
        }
      ]
    },
    {
      "cell_type": "code",
      "metadata": {
        "colab": {
          "base_uri": "https://localhost:8080/"
        },
        "id": "tPO8CF79ZIyK",
        "outputId": "5db3a023-874b-4d91-e9de-a807cca63288"
      },
      "source": [
        "#Visualização das classes preditas\n",
        "predict_y[:10]"
      ],
      "execution_count": null,
      "outputs": [
        {
          "output_type": "execute_result",
          "data": {
            "text/plain": [
              "tensor([0, 1, 1, 0, 0, 0, 1, 0, 1, 1])"
            ]
          },
          "metadata": {
            "tags": []
          },
          "execution_count": 62
        }
      ]
    },
    {
      "cell_type": "markdown",
      "metadata": {
        "id": "9D31mV0Zmyk1"
      },
      "source": [
        "###3.1.2 Criação da Rede Neural MLP com sintonização de hiperparâmetros\n"
      ]
    },
    {
      "cell_type": "markdown",
      "metadata": {
        "id": "W67DL3MwZNAY"
      },
      "source": [
        "As etapas anteriores dessa seção realizaram uma versão simplificada da criação, treinamento e aplicação de uma rede MLP com definição arbitrária dos hiperparâmetros. A seguir utilizamos a técnica de *Grid Search* para sintonização de hiperparâmetros e obtenção de uma rede com parâmetros otimizados para busca de melhores resultados nas métricas de desempenho usadas na avaliação do modelo."
      ]
    },
    {
      "cell_type": "code",
      "metadata": {
        "id": "klWUP8donB0F"
      },
      "source": [
        ""
      ],
      "execution_count": null,
      "outputs": []
    },
    {
      "cell_type": "markdown",
      "metadata": {
        "id": "VkmzMAw7Alyp"
      },
      "source": [
        "##3.2 Redes Convolucionais"
      ]
    },
    {
      "cell_type": "code",
      "metadata": {
        "id": "8ImFspvNApQB"
      },
      "source": [
        ""
      ],
      "execution_count": null,
      "outputs": []
    },
    {
      "cell_type": "markdown",
      "metadata": {
        "id": "8kwife5G5woO"
      },
      "source": [
        "#Referências"
      ]
    },
    {
      "cell_type": "markdown",
      "metadata": {
        "id": "N5OVMr0b5ziU"
      },
      "source": [
        "**Referências**\n",
        "\n",
        "Géron, Aurélien (2019). **Mãos à Obra Aprendizagem de Máquina com Scikit-Learn & TensorFlow:** Conceitos, ferramentas e técnicas para a construção de sistemas inteligentes. Traduzido por Rafael Contatori. Alta Books.\n",
        "\n",
        "Grus, Joel (2016). **Data Science do Zero:** Primeiras regras com Python. Traduzido por Welington Nascimento. Alta Books.\n",
        "\n",
        "Han, Jiawei. Kamber, Micheline. Pei, Jian (2012) **Data Mining**: Concepts and techniques. Morgan Kaufmann, 3rd Edition.\n",
        "\n",
        "McKinney, Wes (2018). **Python para Análise de Dados**: tratamento de dados com pandas, numpy e iPython. Traduzido por Lúcia A. Kinoshita. Novatec.\n",
        "\n",
        "---\n",
        "\n",
        "**Algoritmos e conjuntos de dados:**\n",
        "* Bibliotecas personalizadas e conjuntos de dados usados na análise: https://github.com/MLRG-CEFET-RJ/ml-class/tree/master/ml-t3\n",
        "* Códigos complementares usados na análise: https://github.com/janiosl/python.ds/tree/master/ml/T1\n",
        "* Códigos complementares usados na análise: https://github.com/janiosl/python.ds/tree/master/ml/T2\n",
        "* Métodos de aprendizado por comitê: https://github.com/janiosl/python.ds/tree/master/ml/ensemble\n",
        "* Florestas Aleatórias: https://github.com/janiosl/python.ds/tree/master/ml/randomForest\n",
        "* Métodos de aprendizado de comitê e florestas aleatórias: https://github.com/ageron/handson-ml2/blob/master/07_ensemble_learning_and_random_forests.ipynb\n",
        "* k-NN: https://github.com/janiosl/python.ds/tree/master/ml/knn\n",
        "* Métodos de sistemas recomendadores: https://github.com/janiosl/python.ds/tree/master/ml/recommender\n",
        "en/stable/user/quickstart.html\n",
        "* Repositório Skorch: https://github.com/skorch-dev/skorch\n",
        "\n",
        "---\n",
        "\n",
        "**Leitura complementar e tutoriais**:\n",
        "* Enunciado do trabalho: https://www.dropbox.com/s/qwm636ak15iwpbq/AM-2021-T3.pdf?dl=0\n",
        "* Variáveis *dummies*: https://www.delftstack.com/pt/howto/python-pandas/get-dummies-pandas/\n",
        "* Documentação do método pandas.get_dummies: https://pandas.pydata.org/docs/reference/api/pandas.get_dummies.html\n",
        "* Cálculo da curva de aprendizagem: https://scikit-learn.org/stable/modules/generated/sklearn.model_selection.learning_curve.html#sklearn.model_selection.learning_curve\n",
        "* Definição da estratégia de separação dos conjuntos de treino e validação no cálculo da curva de aprendizagem: https://scikit-learn.org/stable/modules/generated/sklearn.model_selection.ShuffleSplit.html#sklearn.model_selection.ShuffleSplit\n",
        "* Documentação PyTorch: https://pytorch.org/tutorials/index.html\n",
        "* Documentação Skorch (Otimização de hiperparâmetro no PyTorch): https://skorch.readthedocs.io/\n"
      ]
    }
  ]
}