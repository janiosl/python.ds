{
  "nbformat": 4,
  "nbformat_minor": 0,
  "metadata": {
    "colab": {
      "name": "PyML_07_pipeline.ipynb",
      "provenance": [],
      "authorship_tag": "ABX9TyOinRJZyax7cM6TjWgkDbX4",
      "include_colab_link": true
    },
    "kernelspec": {
      "name": "python3",
      "display_name": "Python 3"
    },
    "language_info": {
      "name": "python"
    }
  },
  "cells": [
    {
      "cell_type": "markdown",
      "metadata": {
        "id": "view-in-github",
        "colab_type": "text"
      },
      "source": [
        "<a href=\"https://colab.research.google.com/github/janiosl/python.ds/blob/master/ml/cursoPyML/PyML_07_pipeline.ipynb\" target=\"_parent\"><img src=\"https://colab.research.google.com/assets/colab-badge.svg\" alt=\"Open In Colab\"/></a>"
      ]
    },
    {
      "cell_type": "markdown",
      "source": [
        "# Python DS: Curso de Aprendizado de Máquina com Python"
      ],
      "metadata": {
        "id": "yCOXWAS8ytmT"
      }
    },
    {
      "cell_type": "markdown",
      "source": [
        "# Aula 07: Pipelines para simplificação de ML\n",
        "\n",
        "* Aulas disponíveis em: https://www.youtube.com/playlist?list=PL0XxTDj23A1HYVt2EOttKvaE8UzQoAh3A\n",
        "\n",
        "---\n"
      ],
      "metadata": {
        "id": "OtfSyN7oyxZz"
      }
    },
    {
      "cell_type": "markdown",
      "source": [
        "##Carga dos Dados"
      ],
      "metadata": {
        "id": "8ozuMTd1y62O"
      }
    },
    {
      "cell_type": "code",
      "execution_count": null,
      "metadata": {
        "id": "ybaBkcWZynvW"
      },
      "outputs": [],
      "source": [
        ""
      ]
    },
    {
      "cell_type": "markdown",
      "source": [
        "##Preparação das Etapas do Pipeline"
      ],
      "metadata": {
        "id": "ir1sd_PSy-ok"
      }
    },
    {
      "cell_type": "code",
      "source": [
        ""
      ],
      "metadata": {
        "id": "u2oo3bU8zBXc"
      },
      "execution_count": null,
      "outputs": []
    },
    {
      "cell_type": "markdown",
      "source": [
        "##Execução do Pipeline"
      ],
      "metadata": {
        "id": "G3oGIM5-zBs6"
      }
    },
    {
      "cell_type": "code",
      "source": [
        ""
      ],
      "metadata": {
        "id": "qpx3BhrWzEBK"
      },
      "execution_count": null,
      "outputs": []
    },
    {
      "cell_type": "markdown",
      "source": [
        "#Referências e Links"
      ],
      "metadata": {
        "id": "8ufvRgAXzETa"
      }
    },
    {
      "cell_type": "markdown",
      "source": [
        "**Referências**\n",
        "\n",
        "Géron, Aurélien (2019). **Mãos à Obra Aprendizagem de Máquina com Scikit-Learn & TensorFlow:** Conceitos, ferramentas e técnicas para a construção de sistemas inteligentes. Traduzido por Rafael Contatori. Alta Books.\n",
        "\n",
        "Grus, Joel (2016). **Data Science do Zero:** Primeiras regras com Python. Traduzido por Welington Nascimento. Alta Books.\n",
        "\n",
        "McKinney, Wes (2018). **Python para Análise de Dados**: tratamento de dados com pandas, numpy e iPython. Traduzido por Lúcia A. Kinoshita. Novatec.\n",
        "\n",
        "---\n",
        "**Links**\n",
        "\n",
        "https://github.com/ageron/handson-ml2"
      ],
      "metadata": {
        "id": "bMKuiK_ozHg6"
      }
    }
  ]
}