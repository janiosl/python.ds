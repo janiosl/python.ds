{
  "nbformat": 4,
  "nbformat_minor": 0,
  "metadata": {
    "colab": {
      "name": "PyML_02_ScikitLearn.ipynb",
      "provenance": [],
      "authorship_tag": "ABX9TyO3wREgHuWlPJmWeBSnbhuT",
      "include_colab_link": true
    },
    "kernelspec": {
      "name": "python3",
      "display_name": "Python 3"
    },
    "language_info": {
      "name": "python"
    }
  },
  "cells": [
    {
      "cell_type": "markdown",
      "metadata": {
        "id": "view-in-github",
        "colab_type": "text"
      },
      "source": [
        "<a href=\"https://colab.research.google.com/github/janiosl/python.ds/blob/master/ml/cursoPyML/PyML_02_ScikitLearn.ipynb\" target=\"_parent\"><img src=\"https://colab.research.google.com/assets/colab-badge.svg\" alt=\"Open In Colab\"/></a>"
      ]
    },
    {
      "cell_type": "markdown",
      "metadata": {
        "id": "RyTaqyurkmmg"
      },
      "source": [
        "# Python DS: Curso de Aprendizado de Máquina com Python"
      ]
    },
    {
      "cell_type": "markdown",
      "metadata": {
        "id": "9tweQxi_rJYw"
      },
      "source": [
        "# Aula 02: Explorando o Scikit-Learn\n",
        "\n",
        "* Aulas disponíveis em: https://www.youtube.com/playlist?list=PL0XxTDj23A1HYVt2EOttKvaE8UzQoAh3A\n",
        "\n",
        "* Alguns exemplos foram adaptados a partir de desafios propostos nas disciplinas Mineração de Dados, ministrada pelo Prof. Eduardo Ogasawara e Aprendizado de Máquina, ministrada pelo Prof. Eduardo Bezerra, ambas disciplinas do Mestrado em Ciência da Computação com ênfase em Ciência de Dados do [Programa PPCIC do CEFET/RJ](https://eic.cefet-rj.br/ppcic/)."
      ]
    },
    {
      "cell_type": "markdown",
      "metadata": {
        "id": "yYOb-kZskeRr"
      },
      "source": [
        "## 1 Obtendo dados e preparando dados"
      ]
    },
    {
      "cell_type": "code",
      "metadata": {
        "id": "XLca0UOPkUAi"
      },
      "source": [
        "#Biblioteca para carga dos dados\n",
        "import pandas as pd"
      ],
      "execution_count": null,
      "outputs": []
    },
    {
      "cell_type": "code",
      "metadata": {
        "id": "SRgm5tvomxh5"
      },
      "source": [
        "#Definção dos títulos das colunas\n",
        "headers = ['ESCT', 'NDEP', 'RENDA', 'TIPOR', 'VBEM', 'NPARC',\n",
        "           'VPARC', 'TEL', 'IDADE', 'RESMS', 'ENTRADA', 'CLASSE']\n",
        "\n",
        "#Carga do conjunto de treino\n",
        "#Conjunto de dados disponível do repositório do Prof. Eduardo Bezerra (CEFET/RJ)\n",
        "arquivo = 'https://raw.githubusercontent.com/MLRG-CEFET-RJ/ml-class/master/ml-t3/datasets/credtrain.txt'\n",
        "data_train = pd.read_csv(arquivo, sep='\\t', header=None, names=headers)\n",
        "\n",
        "#Carga do conjunto de teste\n",
        "#Conjunto de dados disponível do repositório do Prof. Eduardo Bezerra (CEFET/RJ)\n",
        "arquivo = 'https://raw.githubusercontent.com/MLRG-CEFET-RJ/ml-class/master/ml-t3/datasets/credtest.txt'\n",
        "data_test = pd.read_csv(arquivo, sep='\\t', header=None, names=headers)"
      ],
      "execution_count": null,
      "outputs": []
    },
    {
      "cell_type": "code",
      "metadata": {
        "id": "SzWHo4F_qzIv",
        "colab": {
          "base_uri": "https://localhost:8080/",
          "height": 204
        },
        "outputId": "5a62cf54-e4b1-4dc8-de6b-f84e00a00ce3"
      },
      "source": [
        "data_test.head()"
      ],
      "execution_count": null,
      "outputs": [
        {
          "output_type": "execute_result",
          "data": {
            "text/html": [
              "<div>\n",
              "<style scoped>\n",
              "    .dataframe tbody tr th:only-of-type {\n",
              "        vertical-align: middle;\n",
              "    }\n",
              "\n",
              "    .dataframe tbody tr th {\n",
              "        vertical-align: top;\n",
              "    }\n",
              "\n",
              "    .dataframe thead th {\n",
              "        text-align: right;\n",
              "    }\n",
              "</style>\n",
              "<table border=\"1\" class=\"dataframe\">\n",
              "  <thead>\n",
              "    <tr style=\"text-align: right;\">\n",
              "      <th></th>\n",
              "      <th>ESCT</th>\n",
              "      <th>NDEP</th>\n",
              "      <th>RENDA</th>\n",
              "      <th>TIPOR</th>\n",
              "      <th>VBEM</th>\n",
              "      <th>NPARC</th>\n",
              "      <th>VPARC</th>\n",
              "      <th>TEL</th>\n",
              "      <th>IDADE</th>\n",
              "      <th>RESMS</th>\n",
              "      <th>ENTRADA</th>\n",
              "      <th>CLASSE</th>\n",
              "    </tr>\n",
              "  </thead>\n",
              "  <tbody>\n",
              "    <tr>\n",
              "      <th>0</th>\n",
              "      <td>0</td>\n",
              "      <td>2</td>\n",
              "      <td>500</td>\n",
              "      <td>1</td>\n",
              "      <td>618</td>\n",
              "      <td>10</td>\n",
              "      <td>85</td>\n",
              "      <td>0</td>\n",
              "      <td>36</td>\n",
              "      <td>6</td>\n",
              "      <td>0</td>\n",
              "      <td>0</td>\n",
              "    </tr>\n",
              "    <tr>\n",
              "      <th>1</th>\n",
              "      <td>1</td>\n",
              "      <td>0</td>\n",
              "      <td>813</td>\n",
              "      <td>0</td>\n",
              "      <td>552</td>\n",
              "      <td>4</td>\n",
              "      <td>119</td>\n",
              "      <td>0</td>\n",
              "      <td>43</td>\n",
              "      <td>48</td>\n",
              "      <td>119</td>\n",
              "      <td>1</td>\n",
              "    </tr>\n",
              "    <tr>\n",
              "      <th>2</th>\n",
              "      <td>3</td>\n",
              "      <td>0</td>\n",
              "      <td>350</td>\n",
              "      <td>0</td>\n",
              "      <td>488</td>\n",
              "      <td>12</td>\n",
              "      <td>66</td>\n",
              "      <td>0</td>\n",
              "      <td>43</td>\n",
              "      <td>0</td>\n",
              "      <td>0</td>\n",
              "      <td>1</td>\n",
              "    </tr>\n",
              "    <tr>\n",
              "      <th>3</th>\n",
              "      <td>1</td>\n",
              "      <td>0</td>\n",
              "      <td>1530</td>\n",
              "      <td>0</td>\n",
              "      <td>381</td>\n",
              "      <td>1</td>\n",
              "      <td>398</td>\n",
              "      <td>0</td>\n",
              "      <td>28</td>\n",
              "      <td>48</td>\n",
              "      <td>0</td>\n",
              "      <td>1</td>\n",
              "    </tr>\n",
              "    <tr>\n",
              "      <th>4</th>\n",
              "      <td>0</td>\n",
              "      <td>0</td>\n",
              "      <td>688</td>\n",
              "      <td>1</td>\n",
              "      <td>396</td>\n",
              "      <td>10</td>\n",
              "      <td>60</td>\n",
              "      <td>0</td>\n",
              "      <td>49</td>\n",
              "      <td>72</td>\n",
              "      <td>0</td>\n",
              "      <td>1</td>\n",
              "    </tr>\n",
              "  </tbody>\n",
              "</table>\n",
              "</div>"
            ],
            "text/plain": [
              "   ESCT  NDEP  RENDA  TIPOR  VBEM  ...  TEL  IDADE  RESMS  ENTRADA  CLASSE\n",
              "0     0     2    500      1   618  ...    0     36      6        0       0\n",
              "1     1     0    813      0   552  ...    0     43     48      119       1\n",
              "2     3     0    350      0   488  ...    0     43      0        0       1\n",
              "3     1     0   1530      0   381  ...    0     28     48        0       1\n",
              "4     0     0    688      1   396  ...    0     49     72        0       1\n",
              "\n",
              "[5 rows x 12 columns]"
            ]
          },
          "metadata": {},
          "execution_count": 3
        }
      ]
    },
    {
      "cell_type": "code",
      "metadata": {
        "id": "jhfq4WiUqaO5"
      },
      "source": [
        "#Biblioteca para transformação dos dados em matrizes\n",
        "import numpy as np"
      ],
      "execution_count": null,
      "outputs": []
    },
    {
      "cell_type": "code",
      "metadata": {
        "id": "-cdWsCthptKR"
      },
      "source": [
        "#Transoformação dos atributos e da classe alvo em matrizes\n",
        "X_train_ = np.array(data_train.iloc[:, 0:11])\n",
        "y_train_ = np.array(data_train['CLASSE'])\n",
        "\n",
        "#Transformação dos atributos e da classe alvo em matrizes\n",
        "X_test = np.array(data_test.iloc[:, 0:11])\n",
        "y_test = np.array(data_test['CLASSE'])"
      ],
      "execution_count": null,
      "outputs": []
    },
    {
      "cell_type": "code",
      "metadata": {
        "id": "04l5dvUFFsK_",
        "colab": {
          "base_uri": "https://localhost:8080/"
        },
        "outputId": "814c7cfc-703e-4038-8bbd-690fa9827cc5"
      },
      "source": [
        "X_test"
      ],
      "execution_count": null,
      "outputs": [
        {
          "output_type": "execute_result",
          "data": {
            "text/plain": [
              "array([[   0,    2,  500, ...,   36,    6,    0],\n",
              "       [   1,    0,  813, ...,   43,   48,  119],\n",
              "       [   3,    0,  350, ...,   43,    0,    0],\n",
              "       ...,\n",
              "       [   0,    3, 1200, ...,   39,    6,    0],\n",
              "       [   1,    0,  600, ...,   33,    6,    0],\n",
              "       [   0,    0,  800, ...,   29,    6,    0]])"
            ]
          },
          "metadata": {},
          "execution_count": 6
        }
      ]
    },
    {
      "cell_type": "code",
      "metadata": {
        "id": "ktnui4-UqWwS"
      },
      "source": [
        "#Função para fatiamento dos conjuntos de dados\n",
        "from sklearn.model_selection import train_test_split"
      ],
      "execution_count": null,
      "outputs": []
    },
    {
      "cell_type": "code",
      "metadata": {
        "id": "brcYVWLbpW5p"
      },
      "source": [
        "#Separação de treino e validação\n",
        "X_train, X_val, y_train, y_val = train_test_split(X_train_, y_train_, #Conjuntos de dados\n",
        "                                                  train_size=0.8,     #Tamanho da fatia de treinamento\n",
        "                                                  random_state=31)"
      ],
      "execution_count": null,
      "outputs": []
    },
    {
      "cell_type": "code",
      "metadata": {
        "id": "B2-U1KM4oH6P",
        "colab": {
          "base_uri": "https://localhost:8080/"
        },
        "outputId": "77d0a823-1429-4020-9dd6-0e08256172b4"
      },
      "source": [
        "#Checagem rápida de parte dos dados carregados\n",
        "print(data_train.head(),\n",
        "      data_test.head(),\n",
        "      X_train[0],\n",
        "      y_train[0],\n",
        "      sep='\\n\\n')"
      ],
      "execution_count": null,
      "outputs": [
        {
          "output_type": "stream",
          "name": "stdout",
          "text": [
            "   ESCT  NDEP  RENDA  TIPOR  VBEM  ...  TEL  IDADE  RESMS  ENTRADA  CLASSE\n",
            "0     1     0    360      0   313  ...    0     25     48        0       1\n",
            "1     0     0    350      1   468  ...    0     33      6        0       1\n",
            "2     0     0   1100      0   829  ...    0     56     48        0       1\n",
            "3     0     0   3000      0   552  ...    1     31     60        0       1\n",
            "4     1     0   1000      0   809  ...    0     24      7        0       1\n",
            "\n",
            "[5 rows x 12 columns]\n",
            "\n",
            "   ESCT  NDEP  RENDA  TIPOR  VBEM  ...  TEL  IDADE  RESMS  ENTRADA  CLASSE\n",
            "0     0     2    500      1   618  ...    0     36      6        0       0\n",
            "1     1     0    813      0   552  ...    0     43     48      119       1\n",
            "2     3     0    350      0   488  ...    0     43      0        0       1\n",
            "3     1     0   1530      0   381  ...    0     28     48        0       1\n",
            "4     0     0    688      1   396  ...    0     49     72        0       1\n",
            "\n",
            "[5 rows x 12 columns]\n",
            "\n",
            "[  1   0 649   1 311   2  69   1  40   0 190]\n",
            "\n",
            "0\n"
          ]
        }
      ]
    },
    {
      "cell_type": "code",
      "metadata": {
        "id": "LLecjOP-qAyF",
        "colab": {
          "base_uri": "https://localhost:8080/",
          "height": 297
        },
        "outputId": "df2010a9-f6c5-452d-b0f1-2cc75ae40e34"
      },
      "source": [
        "data_train.describe()"
      ],
      "execution_count": null,
      "outputs": [
        {
          "output_type": "execute_result",
          "data": {
            "text/html": [
              "<div>\n",
              "<style scoped>\n",
              "    .dataframe tbody tr th:only-of-type {\n",
              "        vertical-align: middle;\n",
              "    }\n",
              "\n",
              "    .dataframe tbody tr th {\n",
              "        vertical-align: top;\n",
              "    }\n",
              "\n",
              "    .dataframe thead th {\n",
              "        text-align: right;\n",
              "    }\n",
              "</style>\n",
              "<table border=\"1\" class=\"dataframe\">\n",
              "  <thead>\n",
              "    <tr style=\"text-align: right;\">\n",
              "      <th></th>\n",
              "      <th>ESCT</th>\n",
              "      <th>NDEP</th>\n",
              "      <th>RENDA</th>\n",
              "      <th>TIPOR</th>\n",
              "      <th>VBEM</th>\n",
              "      <th>NPARC</th>\n",
              "      <th>VPARC</th>\n",
              "      <th>TEL</th>\n",
              "      <th>IDADE</th>\n",
              "      <th>RESMS</th>\n",
              "      <th>ENTRADA</th>\n",
              "      <th>CLASSE</th>\n",
              "    </tr>\n",
              "  </thead>\n",
              "  <tbody>\n",
              "    <tr>\n",
              "      <th>count</th>\n",
              "      <td>1500.000000</td>\n",
              "      <td>1500.000000</td>\n",
              "      <td>1500.00000</td>\n",
              "      <td>1500.000000</td>\n",
              "      <td>1500.000000</td>\n",
              "      <td>1500.000000</td>\n",
              "      <td>1500.000000</td>\n",
              "      <td>1500.000000</td>\n",
              "      <td>1500.000000</td>\n",
              "      <td>1500.000000</td>\n",
              "      <td>1500.000000</td>\n",
              "      <td>1500.000000</td>\n",
              "    </tr>\n",
              "    <tr>\n",
              "      <th>mean</th>\n",
              "      <td>0.512000</td>\n",
              "      <td>0.126667</td>\n",
              "      <td>984.51200</td>\n",
              "      <td>0.445333</td>\n",
              "      <td>562.031333</td>\n",
              "      <td>8.392667</td>\n",
              "      <td>102.247333</td>\n",
              "      <td>0.134000</td>\n",
              "      <td>41.210667</td>\n",
              "      <td>31.528667</td>\n",
              "      <td>32.255333</td>\n",
              "      <td>0.476667</td>\n",
              "    </tr>\n",
              "    <tr>\n",
              "      <th>std</th>\n",
              "      <td>0.659909</td>\n",
              "      <td>0.572865</td>\n",
              "      <td>905.53292</td>\n",
              "      <td>0.497168</td>\n",
              "      <td>265.690646</td>\n",
              "      <td>3.609131</td>\n",
              "      <td>62.987325</td>\n",
              "      <td>0.340766</td>\n",
              "      <td>13.202266</td>\n",
              "      <td>52.662099</td>\n",
              "      <td>94.307614</td>\n",
              "      <td>0.499622</td>\n",
              "    </tr>\n",
              "    <tr>\n",
              "      <th>min</th>\n",
              "      <td>0.000000</td>\n",
              "      <td>0.000000</td>\n",
              "      <td>300.00000</td>\n",
              "      <td>0.000000</td>\n",
              "      <td>300.000000</td>\n",
              "      <td>1.000000</td>\n",
              "      <td>50.000000</td>\n",
              "      <td>0.000000</td>\n",
              "      <td>19.000000</td>\n",
              "      <td>0.000000</td>\n",
              "      <td>0.000000</td>\n",
              "      <td>0.000000</td>\n",
              "    </tr>\n",
              "    <tr>\n",
              "      <th>25%</th>\n",
              "      <td>0.000000</td>\n",
              "      <td>0.000000</td>\n",
              "      <td>467.50000</td>\n",
              "      <td>0.000000</td>\n",
              "      <td>410.000000</td>\n",
              "      <td>6.000000</td>\n",
              "      <td>66.000000</td>\n",
              "      <td>0.000000</td>\n",
              "      <td>31.000000</td>\n",
              "      <td>6.000000</td>\n",
              "      <td>0.000000</td>\n",
              "      <td>0.000000</td>\n",
              "    </tr>\n",
              "    <tr>\n",
              "      <th>50%</th>\n",
              "      <td>0.000000</td>\n",
              "      <td>0.000000</td>\n",
              "      <td>650.00000</td>\n",
              "      <td>0.000000</td>\n",
              "      <td>490.000000</td>\n",
              "      <td>10.000000</td>\n",
              "      <td>83.000000</td>\n",
              "      <td>0.000000</td>\n",
              "      <td>39.000000</td>\n",
              "      <td>6.000000</td>\n",
              "      <td>0.000000</td>\n",
              "      <td>0.000000</td>\n",
              "    </tr>\n",
              "    <tr>\n",
              "      <th>75%</th>\n",
              "      <td>1.000000</td>\n",
              "      <td>0.000000</td>\n",
              "      <td>1200.00000</td>\n",
              "      <td>1.000000</td>\n",
              "      <td>618.000000</td>\n",
              "      <td>10.000000</td>\n",
              "      <td>118.000000</td>\n",
              "      <td>0.000000</td>\n",
              "      <td>52.000000</td>\n",
              "      <td>48.000000</td>\n",
              "      <td>0.000000</td>\n",
              "      <td>1.000000</td>\n",
              "    </tr>\n",
              "    <tr>\n",
              "      <th>max</th>\n",
              "      <td>3.000000</td>\n",
              "      <td>7.000000</td>\n",
              "      <td>8000.00000</td>\n",
              "      <td>1.000000</td>\n",
              "      <td>4000.000000</td>\n",
              "      <td>24.000000</td>\n",
              "      <td>711.000000</td>\n",
              "      <td>1.000000</td>\n",
              "      <td>70.000000</td>\n",
              "      <td>420.000000</td>\n",
              "      <td>1300.000000</td>\n",
              "      <td>1.000000</td>\n",
              "    </tr>\n",
              "  </tbody>\n",
              "</table>\n",
              "</div>"
            ],
            "text/plain": [
              "              ESCT         NDEP  ...      ENTRADA       CLASSE\n",
              "count  1500.000000  1500.000000  ...  1500.000000  1500.000000\n",
              "mean      0.512000     0.126667  ...    32.255333     0.476667\n",
              "std       0.659909     0.572865  ...    94.307614     0.499622\n",
              "min       0.000000     0.000000  ...     0.000000     0.000000\n",
              "25%       0.000000     0.000000  ...     0.000000     0.000000\n",
              "50%       0.000000     0.000000  ...     0.000000     0.000000\n",
              "75%       1.000000     0.000000  ...     0.000000     1.000000\n",
              "max       3.000000     7.000000  ...  1300.000000     1.000000\n",
              "\n",
              "[8 rows x 12 columns]"
            ]
          },
          "metadata": {},
          "execution_count": 10
        }
      ]
    },
    {
      "cell_type": "markdown",
      "metadata": {
        "id": "iuZvQxkqklMY"
      },
      "source": [
        "## 2 Criando e treinando um modelo"
      ]
    },
    {
      "cell_type": "code",
      "metadata": {
        "id": "zANrHq9HrteY"
      },
      "source": [
        "#Importando o algoritmo que será usado como base\n",
        "from sklearn.tree import DecisionTreeClassifier"
      ],
      "execution_count": null,
      "outputs": []
    },
    {
      "cell_type": "code",
      "metadata": {
        "id": "dLGcAw70rnDY"
      },
      "source": [
        "#Criação do modelo\n",
        "modelo = DecisionTreeClassifier(max_depth=5,\n",
        "                                random_state=31)"
      ],
      "execution_count": null,
      "outputs": []
    },
    {
      "cell_type": "code",
      "metadata": {
        "id": "vGeIEs_BsCcU",
        "colab": {
          "base_uri": "https://localhost:8080/"
        },
        "outputId": "dc5f8422-b5dc-4c35-a218-29e37f4b6edf"
      },
      "source": [
        "#Conferência do moddelo\n",
        "modelo"
      ],
      "execution_count": null,
      "outputs": [
        {
          "output_type": "execute_result",
          "data": {
            "text/plain": [
              "DecisionTreeClassifier(ccp_alpha=0.0, class_weight=None, criterion='gini',\n",
              "                       max_depth=5, max_features=None, max_leaf_nodes=None,\n",
              "                       min_impurity_decrease=0.0, min_impurity_split=None,\n",
              "                       min_samples_leaf=1, min_samples_split=2,\n",
              "                       min_weight_fraction_leaf=0.0, presort='deprecated',\n",
              "                       random_state=31, splitter='best')"
            ]
          },
          "metadata": {},
          "execution_count": 31
        }
      ]
    },
    {
      "cell_type": "code",
      "metadata": {
        "id": "xAlSJgjNrble",
        "colab": {
          "base_uri": "https://localhost:8080/"
        },
        "outputId": "7fc6f86a-fcc8-4251-80e9-927227d399e0"
      },
      "source": [
        "#Treinamento do modelo\n",
        "modelo.fit(X_train,\n",
        "           y_train)"
      ],
      "execution_count": null,
      "outputs": [
        {
          "output_type": "execute_result",
          "data": {
            "text/plain": [
              "DecisionTreeClassifier(ccp_alpha=0.0, class_weight=None, criterion='gini',\n",
              "                       max_depth=5, max_features=None, max_leaf_nodes=None,\n",
              "                       min_impurity_decrease=0.0, min_impurity_split=None,\n",
              "                       min_samples_leaf=1, min_samples_split=2,\n",
              "                       min_weight_fraction_leaf=0.0, presort='deprecated',\n",
              "                       random_state=31, splitter='best')"
            ]
          },
          "metadata": {},
          "execution_count": 32
        }
      ]
    },
    {
      "cell_type": "code",
      "metadata": {
        "id": "Ajfj2Hn-sprX"
      },
      "source": [
        "#Visualização gráfica da árvore de decisão\n",
        "import os\n",
        "from graphviz import Source\n",
        "from sklearn.tree import export_graphviz\n",
        "\n",
        "export_graphviz(modelo,\n",
        "                out_file='credit_tree.dot', #Arquivo para armazenamento do modelo gráfico\n",
        "                feature_names=headers[0:11], #Nomes dos atributos\n",
        "                rounded=True,\n",
        "                filled=True\n",
        "                )"
      ],
      "execution_count": null,
      "outputs": []
    },
    {
      "cell_type": "code",
      "metadata": {
        "colab": {
          "base_uri": "https://localhost:8080/",
          "height": 816
        },
        "id": "OcCuJ1_EscEa",
        "outputId": "ce7b1e74-8d24-4700-e62c-c850101de6db"
      },
      "source": [
        "#Uso do arquivo gerado para visualizar a árvore\n",
        "Source.from_file('credit_tree.dot')"
      ],
      "execution_count": null,
      "outputs": [
        {
          "output_type": "execute_result",
          "data": {
            "text/plain": [
              "<graphviz.files.Source at 0x7f1088c62b10>"
            ],
            "image/svg+xml": "<?xml version=\"1.0\" encoding=\"UTF-8\" standalone=\"no\"?>\n<!DOCTYPE svg PUBLIC \"-//W3C//DTD SVG 1.1//EN\"\n \"http://www.w3.org/Graphics/SVG/1.1/DTD/svg11.dtd\">\n<!-- Generated by graphviz version 2.40.1 (20161225.0304)\n -->\n<!-- Title: Tree Pages: 1 -->\n<svg width=\"2449pt\" height=\"581pt\"\n viewBox=\"0.00 0.00 2448.50 581.00\" xmlns=\"http://www.w3.org/2000/svg\" xmlns:xlink=\"http://www.w3.org/1999/xlink\">\n<g id=\"graph0\" class=\"graph\" transform=\"scale(1 1) rotate(0) translate(4 577)\">\n<title>Tree</title>\n<polygon fill=\"#ffffff\" stroke=\"transparent\" points=\"-4,4 -4,-577 2444.5,-577 2444.5,4 -4,4\"/>\n<!-- 0 -->\n<g id=\"node1\" class=\"node\">\n<title>0</title>\n<path fill=\"#fcf1e9\" stroke=\"#000000\" d=\"M1361,-573C1361,-573 1253,-573 1253,-573 1247,-573 1241,-567 1241,-561 1241,-561 1241,-517 1241,-517 1241,-511 1247,-505 1253,-505 1253,-505 1361,-505 1361,-505 1367,-505 1373,-511 1373,-517 1373,-517 1373,-561 1373,-561 1373,-567 1367,-573 1361,-573\"/>\n<text text-anchor=\"middle\" x=\"1307\" y=\"-557.8\" font-family=\"Helvetica,sans-Serif\" font-size=\"14.00\" fill=\"#000000\">TIPOR &lt;= 0.5</text>\n<text text-anchor=\"middle\" x=\"1307\" y=\"-542.8\" font-family=\"Helvetica,sans-Serif\" font-size=\"14.00\" fill=\"#000000\">gini = 0.498</text>\n<text text-anchor=\"middle\" x=\"1307\" y=\"-527.8\" font-family=\"Helvetica,sans-Serif\" font-size=\"14.00\" fill=\"#000000\">samples = 1200</text>\n<text text-anchor=\"middle\" x=\"1307\" y=\"-512.8\" font-family=\"Helvetica,sans-Serif\" font-size=\"14.00\" fill=\"#000000\">value = [636, 564]</text>\n</g>\n<!-- 1 -->\n<g id=\"node2\" class=\"node\">\n<title>1</title>\n<path fill=\"#8ec7f0\" stroke=\"#000000\" d=\"M1144,-469C1144,-469 1036,-469 1036,-469 1030,-469 1024,-463 1024,-457 1024,-457 1024,-413 1024,-413 1024,-407 1030,-401 1036,-401 1036,-401 1144,-401 1144,-401 1150,-401 1156,-407 1156,-413 1156,-413 1156,-457 1156,-457 1156,-463 1150,-469 1144,-469\"/>\n<text text-anchor=\"middle\" x=\"1090\" y=\"-453.8\" font-family=\"Helvetica,sans-Serif\" font-size=\"14.00\" fill=\"#000000\">IDADE &lt;= 54.5</text>\n<text text-anchor=\"middle\" x=\"1090\" y=\"-438.8\" font-family=\"Helvetica,sans-Serif\" font-size=\"14.00\" fill=\"#000000\">gini = 0.421</text>\n<text text-anchor=\"middle\" x=\"1090\" y=\"-423.8\" font-family=\"Helvetica,sans-Serif\" font-size=\"14.00\" fill=\"#000000\">samples = 650</text>\n<text text-anchor=\"middle\" x=\"1090\" y=\"-408.8\" font-family=\"Helvetica,sans-Serif\" font-size=\"14.00\" fill=\"#000000\">value = [196, 454]</text>\n</g>\n<!-- 0&#45;&gt;1 -->\n<g id=\"edge1\" class=\"edge\">\n<title>0&#45;&gt;1</title>\n<path fill=\"none\" stroke=\"#000000\" d=\"M1240.7137,-507.2315C1216.9518,-495.8433 1189.9896,-482.9213 1165.5048,-471.1866\"/>\n<polygon fill=\"#000000\" stroke=\"#000000\" points=\"1166.7845,-467.9188 1156.254,-466.753 1163.7591,-474.2312 1166.7845,-467.9188\"/>\n<text text-anchor=\"middle\" x=\"1164.5552\" y=\"-486.6346\" font-family=\"Helvetica,sans-Serif\" font-size=\"14.00\" fill=\"#000000\">True</text>\n</g>\n<!-- 28 -->\n<g id=\"node29\" class=\"node\">\n<title>28</title>\n<path fill=\"#eca06a\" stroke=\"#000000\" d=\"M1511,-469C1511,-469 1403,-469 1403,-469 1397,-469 1391,-463 1391,-457 1391,-457 1391,-413 1391,-413 1391,-407 1397,-401 1403,-401 1403,-401 1511,-401 1511,-401 1517,-401 1523,-407 1523,-413 1523,-413 1523,-457 1523,-457 1523,-463 1517,-469 1511,-469\"/>\n<text text-anchor=\"middle\" x=\"1457\" y=\"-453.8\" font-family=\"Helvetica,sans-Serif\" font-size=\"14.00\" fill=\"#000000\">IDADE &lt;= 25.5</text>\n<text text-anchor=\"middle\" x=\"1457\" y=\"-438.8\" font-family=\"Helvetica,sans-Serif\" font-size=\"14.00\" fill=\"#000000\">gini = 0.32</text>\n<text text-anchor=\"middle\" x=\"1457\" y=\"-423.8\" font-family=\"Helvetica,sans-Serif\" font-size=\"14.00\" fill=\"#000000\">samples = 550</text>\n<text text-anchor=\"middle\" x=\"1457\" y=\"-408.8\" font-family=\"Helvetica,sans-Serif\" font-size=\"14.00\" fill=\"#000000\">value = [440, 110]</text>\n</g>\n<!-- 0&#45;&gt;28 -->\n<g id=\"edge28\" class=\"edge\">\n<title>0&#45;&gt;28</title>\n<path fill=\"none\" stroke=\"#000000\" d=\"M1356.1156,-504.9465C1369.9719,-495.3395 1385.1717,-484.8009 1399.4739,-474.8848\"/>\n<polygon fill=\"#000000\" stroke=\"#000000\" points=\"1401.5503,-477.7041 1407.774,-469.13 1397.5618,-471.9515 1401.5503,-477.7041\"/>\n<text text-anchor=\"middle\" x=\"1403.319\" y=\"-490.0298\" font-family=\"Helvetica,sans-Serif\" font-size=\"14.00\" fill=\"#000000\">False</text>\n</g>\n<!-- 2 -->\n<g id=\"node3\" class=\"node\">\n<title>2</title>\n<path fill=\"#3e9fe6\" stroke=\"#000000\" d=\"M715,-365C715,-365 615,-365 615,-365 609,-365 603,-359 603,-353 603,-353 603,-309 603,-309 603,-303 609,-297 615,-297 615,-297 715,-297 715,-297 721,-297 727,-303 727,-309 727,-309 727,-353 727,-353 727,-359 721,-365 715,-365\"/>\n<text text-anchor=\"middle\" x=\"665\" y=\"-349.8\" font-family=\"Helvetica,sans-Serif\" font-size=\"14.00\" fill=\"#000000\">IDADE &lt;= 53.5</text>\n<text text-anchor=\"middle\" x=\"665\" y=\"-334.8\" font-family=\"Helvetica,sans-Serif\" font-size=\"14.00\" fill=\"#000000\">gini = 0.045</text>\n<text text-anchor=\"middle\" x=\"665\" y=\"-319.8\" font-family=\"Helvetica,sans-Serif\" font-size=\"14.00\" fill=\"#000000\">samples = 437</text>\n<text text-anchor=\"middle\" x=\"665\" y=\"-304.8\" font-family=\"Helvetica,sans-Serif\" font-size=\"14.00\" fill=\"#000000\">value = [10, 427]</text>\n</g>\n<!-- 1&#45;&gt;2 -->\n<g id=\"edge2\" class=\"edge\">\n<title>1&#45;&gt;2</title>\n<path fill=\"none\" stroke=\"#000000\" d=\"M1023.5938,-418.75C945.7941,-399.712 817.3567,-368.2826 737.1577,-348.6574\"/>\n<polygon fill=\"#000000\" stroke=\"#000000\" points=\"737.6853,-345.1833 727.1399,-346.206 736.0214,-351.9827 737.6853,-345.1833\"/>\n</g>\n<!-- 15 -->\n<g id=\"node16\" class=\"node\">\n<title>15</title>\n<path fill=\"#e99356\" stroke=\"#000000\" d=\"M1142.5,-365C1142.5,-365 1037.5,-365 1037.5,-365 1031.5,-365 1025.5,-359 1025.5,-353 1025.5,-353 1025.5,-309 1025.5,-309 1025.5,-303 1031.5,-297 1037.5,-297 1037.5,-297 1142.5,-297 1142.5,-297 1148.5,-297 1154.5,-303 1154.5,-309 1154.5,-309 1154.5,-353 1154.5,-353 1154.5,-359 1148.5,-365 1142.5,-365\"/>\n<text text-anchor=\"middle\" x=\"1090\" y=\"-349.8\" font-family=\"Helvetica,sans-Serif\" font-size=\"14.00\" fill=\"#000000\">RESMS &lt;= 108.0</text>\n<text text-anchor=\"middle\" x=\"1090\" y=\"-334.8\" font-family=\"Helvetica,sans-Serif\" font-size=\"14.00\" fill=\"#000000\">gini = 0.221</text>\n<text text-anchor=\"middle\" x=\"1090\" y=\"-319.8\" font-family=\"Helvetica,sans-Serif\" font-size=\"14.00\" fill=\"#000000\">samples = 213</text>\n<text text-anchor=\"middle\" x=\"1090\" y=\"-304.8\" font-family=\"Helvetica,sans-Serif\" font-size=\"14.00\" fill=\"#000000\">value = [186, 27]</text>\n</g>\n<!-- 1&#45;&gt;15 -->\n<g id=\"edge15\" class=\"edge\">\n<title>1&#45;&gt;15</title>\n<path fill=\"none\" stroke=\"#000000\" d=\"M1090,-400.9465C1090,-392.776 1090,-383.9318 1090,-375.3697\"/>\n<polygon fill=\"#000000\" stroke=\"#000000\" points=\"1093.5001,-375.13 1090,-365.13 1086.5001,-375.13 1093.5001,-375.13\"/>\n</g>\n<!-- 3 -->\n<g id=\"node4\" class=\"node\">\n<title>3</title>\n<path fill=\"#3c9ee5\" stroke=\"#000000\" d=\"M433.5,-261C433.5,-261 328.5,-261 328.5,-261 322.5,-261 316.5,-255 316.5,-249 316.5,-249 316.5,-205 316.5,-205 316.5,-199 322.5,-193 328.5,-193 328.5,-193 433.5,-193 433.5,-193 439.5,-193 445.5,-199 445.5,-205 445.5,-205 445.5,-249 445.5,-249 445.5,-255 439.5,-261 433.5,-261\"/>\n<text text-anchor=\"middle\" x=\"381\" y=\"-245.8\" font-family=\"Helvetica,sans-Serif\" font-size=\"14.00\" fill=\"#000000\">RESMS &lt;= 348.0</text>\n<text text-anchor=\"middle\" x=\"381\" y=\"-230.8\" font-family=\"Helvetica,sans-Serif\" font-size=\"14.00\" fill=\"#000000\">gini = 0.028</text>\n<text text-anchor=\"middle\" x=\"381\" y=\"-215.8\" font-family=\"Helvetica,sans-Serif\" font-size=\"14.00\" fill=\"#000000\">samples = 426</text>\n<text text-anchor=\"middle\" x=\"381\" y=\"-200.8\" font-family=\"Helvetica,sans-Serif\" font-size=\"14.00\" fill=\"#000000\">value = [6, 420]</text>\n</g>\n<!-- 2&#45;&gt;3 -->\n<g id=\"edge3\" class=\"edge\">\n<title>2&#45;&gt;3</title>\n<path fill=\"none\" stroke=\"#000000\" d=\"M602.675,-308.1768C559.23,-292.2673 501.0734,-270.9705 455.2286,-254.1823\"/>\n<polygon fill=\"#000000\" stroke=\"#000000\" points=\"456.2362,-250.824 445.6424,-250.6719 453.8291,-257.3972 456.2362,-250.824\"/>\n</g>\n<!-- 10 -->\n<g id=\"node11\" class=\"node\">\n<title>10</title>\n<path fill=\"#aad5f4\" stroke=\"#000000\" d=\"M709.5,-261C709.5,-261 620.5,-261 620.5,-261 614.5,-261 608.5,-255 608.5,-249 608.5,-249 608.5,-205 608.5,-205 608.5,-199 614.5,-193 620.5,-193 620.5,-193 709.5,-193 709.5,-193 715.5,-193 721.5,-199 721.5,-205 721.5,-205 721.5,-249 721.5,-249 721.5,-255 715.5,-261 709.5,-261\"/>\n<text text-anchor=\"middle\" x=\"665\" y=\"-245.8\" font-family=\"Helvetica,sans-Serif\" font-size=\"14.00\" fill=\"#000000\">RESMS &lt;= 3.0</text>\n<text text-anchor=\"middle\" x=\"665\" y=\"-230.8\" font-family=\"Helvetica,sans-Serif\" font-size=\"14.00\" fill=\"#000000\">gini = 0.463</text>\n<text text-anchor=\"middle\" x=\"665\" y=\"-215.8\" font-family=\"Helvetica,sans-Serif\" font-size=\"14.00\" fill=\"#000000\">samples = 11</text>\n<text text-anchor=\"middle\" x=\"665\" y=\"-200.8\" font-family=\"Helvetica,sans-Serif\" font-size=\"14.00\" fill=\"#000000\">value = [4, 7]</text>\n</g>\n<!-- 2&#45;&gt;10 -->\n<g id=\"edge10\" class=\"edge\">\n<title>2&#45;&gt;10</title>\n<path fill=\"none\" stroke=\"#000000\" d=\"M665,-296.9465C665,-288.776 665,-279.9318 665,-271.3697\"/>\n<polygon fill=\"#000000\" stroke=\"#000000\" points=\"668.5001,-271.13 665,-261.13 661.5001,-271.13 668.5001,-271.13\"/>\n</g>\n<!-- 4 -->\n<g id=\"node5\" class=\"node\">\n<title>4</title>\n<path fill=\"#3b9ee5\" stroke=\"#000000\" d=\"M245,-157C245,-157 123,-157 123,-157 117,-157 111,-151 111,-145 111,-145 111,-101 111,-101 111,-95 117,-89 123,-89 123,-89 245,-89 245,-89 251,-89 257,-95 257,-101 257,-101 257,-145 257,-145 257,-151 251,-157 245,-157\"/>\n<text text-anchor=\"middle\" x=\"184\" y=\"-141.8\" font-family=\"Helvetica,sans-Serif\" font-size=\"14.00\" fill=\"#000000\">ENTRADA &lt;= 171.0</text>\n<text text-anchor=\"middle\" x=\"184\" y=\"-126.8\" font-family=\"Helvetica,sans-Serif\" font-size=\"14.00\" fill=\"#000000\">gini = 0.023</text>\n<text text-anchor=\"middle\" x=\"184\" y=\"-111.8\" font-family=\"Helvetica,sans-Serif\" font-size=\"14.00\" fill=\"#000000\">samples = 423</text>\n<text text-anchor=\"middle\" x=\"184\" y=\"-96.8\" font-family=\"Helvetica,sans-Serif\" font-size=\"14.00\" fill=\"#000000\">value = [5, 418]</text>\n</g>\n<!-- 3&#45;&gt;4 -->\n<g id=\"edge4\" class=\"edge\">\n<title>3&#45;&gt;4</title>\n<path fill=\"none\" stroke=\"#000000\" d=\"M316.4948,-192.9465C297.7016,-183.0252 277.0266,-172.1105 257.7117,-161.9138\"/>\n<polygon fill=\"#000000\" stroke=\"#000000\" points=\"259.1274,-158.7034 248.6501,-157.13 255.8594,-164.8938 259.1274,-158.7034\"/>\n</g>\n<!-- 7 -->\n<g id=\"node8\" class=\"node\">\n<title>7</title>\n<path fill=\"#9ccef2\" stroke=\"#000000\" d=\"M438,-157C438,-157 324,-157 324,-157 318,-157 312,-151 312,-145 312,-145 312,-101 312,-101 312,-95 318,-89 324,-89 324,-89 438,-89 438,-89 444,-89 450,-95 450,-101 450,-101 450,-145 450,-145 450,-151 444,-157 438,-157\"/>\n<text text-anchor=\"middle\" x=\"381\" y=\"-141.8\" font-family=\"Helvetica,sans-Serif\" font-size=\"14.00\" fill=\"#000000\">ENTRADA &lt;= 75.0</text>\n<text text-anchor=\"middle\" x=\"381\" y=\"-126.8\" font-family=\"Helvetica,sans-Serif\" font-size=\"14.00\" fill=\"#000000\">gini = 0.444</text>\n<text text-anchor=\"middle\" x=\"381\" y=\"-111.8\" font-family=\"Helvetica,sans-Serif\" font-size=\"14.00\" fill=\"#000000\">samples = 3</text>\n<text text-anchor=\"middle\" x=\"381\" y=\"-96.8\" font-family=\"Helvetica,sans-Serif\" font-size=\"14.00\" fill=\"#000000\">value = [1, 2]</text>\n</g>\n<!-- 3&#45;&gt;7 -->\n<g id=\"edge7\" class=\"edge\">\n<title>3&#45;&gt;7</title>\n<path fill=\"none\" stroke=\"#000000\" d=\"M381,-192.9465C381,-184.776 381,-175.9318 381,-167.3697\"/>\n<polygon fill=\"#000000\" stroke=\"#000000\" points=\"384.5001,-167.13 381,-157.13 377.5001,-167.13 384.5001,-167.13\"/>\n</g>\n<!-- 5 -->\n<g id=\"node6\" class=\"node\">\n<title>5</title>\n<path fill=\"#3b9ee5\" stroke=\"#000000\" d=\"M104,-53C104,-53 12,-53 12,-53 6,-53 0,-47 0,-41 0,-41 0,-12 0,-12 0,-6 6,0 12,0 12,0 104,0 104,0 110,0 116,-6 116,-12 116,-12 116,-41 116,-41 116,-47 110,-53 104,-53\"/>\n<text text-anchor=\"middle\" x=\"58\" y=\"-37.8\" font-family=\"Helvetica,sans-Serif\" font-size=\"14.00\" fill=\"#000000\">gini = 0.019</text>\n<text text-anchor=\"middle\" x=\"58\" y=\"-22.8\" font-family=\"Helvetica,sans-Serif\" font-size=\"14.00\" fill=\"#000000\">samples = 414</text>\n<text text-anchor=\"middle\" x=\"58\" y=\"-7.8\" font-family=\"Helvetica,sans-Serif\" font-size=\"14.00\" fill=\"#000000\">value = [4, 410]</text>\n</g>\n<!-- 4&#45;&gt;5 -->\n<g id=\"edge5\" class=\"edge\">\n<title>4&#45;&gt;5</title>\n<path fill=\"none\" stroke=\"#000000\" d=\"M139.5771,-88.9777C127.023,-79.3629 113.3881,-68.9203 100.924,-59.3743\"/>\n<polygon fill=\"#000000\" stroke=\"#000000\" points=\"102.9927,-56.5502 92.9255,-53.2485 98.7365,-62.1076 102.9927,-56.5502\"/>\n</g>\n<!-- 6 -->\n<g id=\"node7\" class=\"node\">\n<title>6</title>\n<path fill=\"#52a9e8\" stroke=\"#000000\" d=\"M221.5,-53C221.5,-53 146.5,-53 146.5,-53 140.5,-53 134.5,-47 134.5,-41 134.5,-41 134.5,-12 134.5,-12 134.5,-6 140.5,0 146.5,0 146.5,0 221.5,0 221.5,0 227.5,0 233.5,-6 233.5,-12 233.5,-12 233.5,-41 233.5,-41 233.5,-47 227.5,-53 221.5,-53\"/>\n<text text-anchor=\"middle\" x=\"184\" y=\"-37.8\" font-family=\"Helvetica,sans-Serif\" font-size=\"14.00\" fill=\"#000000\">gini = 0.198</text>\n<text text-anchor=\"middle\" x=\"184\" y=\"-22.8\" font-family=\"Helvetica,sans-Serif\" font-size=\"14.00\" fill=\"#000000\">samples = 9</text>\n<text text-anchor=\"middle\" x=\"184\" y=\"-7.8\" font-family=\"Helvetica,sans-Serif\" font-size=\"14.00\" fill=\"#000000\">value = [1, 8]</text>\n</g>\n<!-- 4&#45;&gt;6 -->\n<g id=\"edge6\" class=\"edge\">\n<title>4&#45;&gt;6</title>\n<path fill=\"none\" stroke=\"#000000\" d=\"M184,-88.9777C184,-80.7364 184,-71.887 184,-63.5153\"/>\n<polygon fill=\"#000000\" stroke=\"#000000\" points=\"187.5001,-63.2484 184,-53.2485 180.5001,-63.2485 187.5001,-63.2484\"/>\n</g>\n<!-- 8 -->\n<g id=\"node9\" class=\"node\">\n<title>8</title>\n<path fill=\"#399de5\" stroke=\"#000000\" d=\"M338.5,-53C338.5,-53 263.5,-53 263.5,-53 257.5,-53 251.5,-47 251.5,-41 251.5,-41 251.5,-12 251.5,-12 251.5,-6 257.5,0 263.5,0 263.5,0 338.5,0 338.5,0 344.5,0 350.5,-6 350.5,-12 350.5,-12 350.5,-41 350.5,-41 350.5,-47 344.5,-53 338.5,-53\"/>\n<text text-anchor=\"middle\" x=\"301\" y=\"-37.8\" font-family=\"Helvetica,sans-Serif\" font-size=\"14.00\" fill=\"#000000\">gini = 0.0</text>\n<text text-anchor=\"middle\" x=\"301\" y=\"-22.8\" font-family=\"Helvetica,sans-Serif\" font-size=\"14.00\" fill=\"#000000\">samples = 2</text>\n<text text-anchor=\"middle\" x=\"301\" y=\"-7.8\" font-family=\"Helvetica,sans-Serif\" font-size=\"14.00\" fill=\"#000000\">value = [0, 2]</text>\n</g>\n<!-- 7&#45;&gt;8 -->\n<g id=\"edge8\" class=\"edge\">\n<title>7&#45;&gt;8</title>\n<path fill=\"none\" stroke=\"#000000\" d=\"M352.795,-88.9777C345.2796,-79.9123 337.1542,-70.111 329.617,-61.0192\"/>\n<polygon fill=\"#000000\" stroke=\"#000000\" points=\"332.2516,-58.7133 323.1749,-53.2485 326.8626,-63.1808 332.2516,-58.7133\"/>\n</g>\n<!-- 9 -->\n<g id=\"node10\" class=\"node\">\n<title>9</title>\n<path fill=\"#e58139\" stroke=\"#000000\" d=\"M455.5,-53C455.5,-53 380.5,-53 380.5,-53 374.5,-53 368.5,-47 368.5,-41 368.5,-41 368.5,-12 368.5,-12 368.5,-6 374.5,0 380.5,0 380.5,0 455.5,0 455.5,0 461.5,0 467.5,-6 467.5,-12 467.5,-12 467.5,-41 467.5,-41 467.5,-47 461.5,-53 455.5,-53\"/>\n<text text-anchor=\"middle\" x=\"418\" y=\"-37.8\" font-family=\"Helvetica,sans-Serif\" font-size=\"14.00\" fill=\"#000000\">gini = 0.0</text>\n<text text-anchor=\"middle\" x=\"418\" y=\"-22.8\" font-family=\"Helvetica,sans-Serif\" font-size=\"14.00\" fill=\"#000000\">samples = 1</text>\n<text text-anchor=\"middle\" x=\"418\" y=\"-7.8\" font-family=\"Helvetica,sans-Serif\" font-size=\"14.00\" fill=\"#000000\">value = [1, 0]</text>\n</g>\n<!-- 7&#45;&gt;9 -->\n<g id=\"edge9\" class=\"edge\">\n<title>7&#45;&gt;9</title>\n<path fill=\"none\" stroke=\"#000000\" d=\"M394.0448,-88.9777C397.31,-80.4617 400.8242,-71.2963 404.128,-62.6798\"/>\n<polygon fill=\"#000000\" stroke=\"#000000\" points=\"407.432,-63.8387 407.7441,-53.2485 400.896,-61.3326 407.432,-63.8387\"/>\n</g>\n<!-- 11 -->\n<g id=\"node12\" class=\"node\">\n<title>11</title>\n<path fill=\"#eca06a\" stroke=\"#000000\" d=\"M651,-157C651,-157 547,-157 547,-157 541,-157 535,-151 535,-145 535,-145 535,-101 535,-101 535,-95 541,-89 547,-89 547,-89 651,-89 651,-89 657,-89 663,-95 663,-101 663,-101 663,-145 663,-145 663,-151 657,-157 651,-157\"/>\n<text text-anchor=\"middle\" x=\"599\" y=\"-141.8\" font-family=\"Helvetica,sans-Serif\" font-size=\"14.00\" fill=\"#000000\">RENDA &lt;= 476.5</text>\n<text text-anchor=\"middle\" x=\"599\" y=\"-126.8\" font-family=\"Helvetica,sans-Serif\" font-size=\"14.00\" fill=\"#000000\">gini = 0.32</text>\n<text text-anchor=\"middle\" x=\"599\" y=\"-111.8\" font-family=\"Helvetica,sans-Serif\" font-size=\"14.00\" fill=\"#000000\">samples = 5</text>\n<text text-anchor=\"middle\" x=\"599\" y=\"-96.8\" font-family=\"Helvetica,sans-Serif\" font-size=\"14.00\" fill=\"#000000\">value = [4, 1]</text>\n</g>\n<!-- 10&#45;&gt;11 -->\n<g id=\"edge11\" class=\"edge\">\n<title>10&#45;&gt;11</title>\n<path fill=\"none\" stroke=\"#000000\" d=\"M643.3891,-192.9465C637.8622,-184.2373 631.8494,-174.7626 626.0854,-165.6801\"/>\n<polygon fill=\"#000000\" stroke=\"#000000\" points=\"628.9729,-163.6979 620.6594,-157.13 623.0626,-167.4487 628.9729,-163.6979\"/>\n</g>\n<!-- 14 -->\n<g id=\"node15\" class=\"node\">\n<title>14</title>\n<path fill=\"#399de5\" stroke=\"#000000\" d=\"M768.5,-149.5C768.5,-149.5 693.5,-149.5 693.5,-149.5 687.5,-149.5 681.5,-143.5 681.5,-137.5 681.5,-137.5 681.5,-108.5 681.5,-108.5 681.5,-102.5 687.5,-96.5 693.5,-96.5 693.5,-96.5 768.5,-96.5 768.5,-96.5 774.5,-96.5 780.5,-102.5 780.5,-108.5 780.5,-108.5 780.5,-137.5 780.5,-137.5 780.5,-143.5 774.5,-149.5 768.5,-149.5\"/>\n<text text-anchor=\"middle\" x=\"731\" y=\"-134.3\" font-family=\"Helvetica,sans-Serif\" font-size=\"14.00\" fill=\"#000000\">gini = 0.0</text>\n<text text-anchor=\"middle\" x=\"731\" y=\"-119.3\" font-family=\"Helvetica,sans-Serif\" font-size=\"14.00\" fill=\"#000000\">samples = 6</text>\n<text text-anchor=\"middle\" x=\"731\" y=\"-104.3\" font-family=\"Helvetica,sans-Serif\" font-size=\"14.00\" fill=\"#000000\">value = [0, 6]</text>\n</g>\n<!-- 10&#45;&gt;14 -->\n<g id=\"edge14\" class=\"edge\">\n<title>10&#45;&gt;14</title>\n<path fill=\"none\" stroke=\"#000000\" d=\"M686.6109,-192.9465C693.671,-181.8215 701.5239,-169.4473 708.6381,-158.237\"/>\n<polygon fill=\"#000000\" stroke=\"#000000\" points=\"711.7528,-159.8609 714.1559,-149.5422 705.8425,-156.1101 711.7528,-159.8609\"/>\n</g>\n<!-- 12 -->\n<g id=\"node13\" class=\"node\">\n<title>12</title>\n<path fill=\"#e58139\" stroke=\"#000000\" d=\"M572.5,-53C572.5,-53 497.5,-53 497.5,-53 491.5,-53 485.5,-47 485.5,-41 485.5,-41 485.5,-12 485.5,-12 485.5,-6 491.5,0 497.5,0 497.5,0 572.5,0 572.5,0 578.5,0 584.5,-6 584.5,-12 584.5,-12 584.5,-41 584.5,-41 584.5,-47 578.5,-53 572.5,-53\"/>\n<text text-anchor=\"middle\" x=\"535\" y=\"-37.8\" font-family=\"Helvetica,sans-Serif\" font-size=\"14.00\" fill=\"#000000\">gini = 0.0</text>\n<text text-anchor=\"middle\" x=\"535\" y=\"-22.8\" font-family=\"Helvetica,sans-Serif\" font-size=\"14.00\" fill=\"#000000\">samples = 3</text>\n<text text-anchor=\"middle\" x=\"535\" y=\"-7.8\" font-family=\"Helvetica,sans-Serif\" font-size=\"14.00\" fill=\"#000000\">value = [3, 0]</text>\n</g>\n<!-- 11&#45;&gt;12 -->\n<g id=\"edge12\" class=\"edge\">\n<title>11&#45;&gt;12</title>\n<path fill=\"none\" stroke=\"#000000\" d=\"M576.436,-88.9777C570.6059,-80.187 564.3169,-70.7044 558.443,-61.8477\"/>\n<polygon fill=\"#000000\" stroke=\"#000000\" points=\"561.1838,-59.6478 552.7399,-53.2485 555.3502,-63.5167 561.1838,-59.6478\"/>\n</g>\n<!-- 13 -->\n<g id=\"node14\" class=\"node\">\n<title>13</title>\n<path fill=\"#ffffff\" stroke=\"#000000\" d=\"M689.5,-53C689.5,-53 614.5,-53 614.5,-53 608.5,-53 602.5,-47 602.5,-41 602.5,-41 602.5,-12 602.5,-12 602.5,-6 608.5,0 614.5,0 614.5,0 689.5,0 689.5,0 695.5,0 701.5,-6 701.5,-12 701.5,-12 701.5,-41 701.5,-41 701.5,-47 695.5,-53 689.5,-53\"/>\n<text text-anchor=\"middle\" x=\"652\" y=\"-37.8\" font-family=\"Helvetica,sans-Serif\" font-size=\"14.00\" fill=\"#000000\">gini = 0.5</text>\n<text text-anchor=\"middle\" x=\"652\" y=\"-22.8\" font-family=\"Helvetica,sans-Serif\" font-size=\"14.00\" fill=\"#000000\">samples = 2</text>\n<text text-anchor=\"middle\" x=\"652\" y=\"-7.8\" font-family=\"Helvetica,sans-Serif\" font-size=\"14.00\" fill=\"#000000\">value = [1, 1]</text>\n</g>\n<!-- 11&#45;&gt;13 -->\n<g id=\"edge13\" class=\"edge\">\n<title>11&#45;&gt;13</title>\n<path fill=\"none\" stroke=\"#000000\" d=\"M617.6858,-88.9777C622.4636,-80.2786 627.6135,-70.9018 632.4341,-62.1247\"/>\n<polygon fill=\"#000000\" stroke=\"#000000\" points=\"635.5629,-63.6984 637.3091,-53.2485 629.4274,-60.3286 635.5629,-63.6984\"/>\n</g>\n<!-- 16 -->\n<g id=\"node17\" class=\"node\">\n<title>16</title>\n<path fill=\"#e88d4c\" stroke=\"#000000\" d=\"M1088,-261C1088,-261 988,-261 988,-261 982,-261 976,-255 976,-249 976,-249 976,-205 976,-205 976,-199 982,-193 988,-193 988,-193 1088,-193 1088,-193 1094,-193 1100,-199 1100,-205 1100,-205 1100,-249 1100,-249 1100,-255 1094,-261 1088,-261\"/>\n<text text-anchor=\"middle\" x=\"1038\" y=\"-245.8\" font-family=\"Helvetica,sans-Serif\" font-size=\"14.00\" fill=\"#000000\">NPARC &lt;= 13.5</text>\n<text text-anchor=\"middle\" x=\"1038\" y=\"-230.8\" font-family=\"Helvetica,sans-Serif\" font-size=\"14.00\" fill=\"#000000\">gini = 0.162</text>\n<text text-anchor=\"middle\" x=\"1038\" y=\"-215.8\" font-family=\"Helvetica,sans-Serif\" font-size=\"14.00\" fill=\"#000000\">samples = 202</text>\n<text text-anchor=\"middle\" x=\"1038\" y=\"-200.8\" font-family=\"Helvetica,sans-Serif\" font-size=\"14.00\" fill=\"#000000\">value = [184, 18]</text>\n</g>\n<!-- 15&#45;&gt;16 -->\n<g id=\"edge16\" class=\"edge\">\n<title>15&#45;&gt;16</title>\n<path fill=\"none\" stroke=\"#000000\" d=\"M1072.9733,-296.9465C1068.7085,-288.4169 1064.0765,-279.153 1059.6212,-270.2424\"/>\n<polygon fill=\"#000000\" stroke=\"#000000\" points=\"1062.6677,-268.509 1055.065,-261.13 1056.4067,-271.6395 1062.6677,-268.509\"/>\n</g>\n<!-- 23 -->\n<g id=\"node24\" class=\"node\">\n<title>23</title>\n<path fill=\"#65b3eb\" stroke=\"#000000\" d=\"M1219.5,-261C1219.5,-261 1130.5,-261 1130.5,-261 1124.5,-261 1118.5,-255 1118.5,-249 1118.5,-249 1118.5,-205 1118.5,-205 1118.5,-199 1124.5,-193 1130.5,-193 1130.5,-193 1219.5,-193 1219.5,-193 1225.5,-193 1231.5,-199 1231.5,-205 1231.5,-205 1231.5,-249 1231.5,-249 1231.5,-255 1225.5,-261 1219.5,-261\"/>\n<text text-anchor=\"middle\" x=\"1175\" y=\"-245.8\" font-family=\"Helvetica,sans-Serif\" font-size=\"14.00\" fill=\"#000000\">IDADE &lt;= 64.5</text>\n<text text-anchor=\"middle\" x=\"1175\" y=\"-230.8\" font-family=\"Helvetica,sans-Serif\" font-size=\"14.00\" fill=\"#000000\">gini = 0.298</text>\n<text text-anchor=\"middle\" x=\"1175\" y=\"-215.8\" font-family=\"Helvetica,sans-Serif\" font-size=\"14.00\" fill=\"#000000\">samples = 11</text>\n<text text-anchor=\"middle\" x=\"1175\" y=\"-200.8\" font-family=\"Helvetica,sans-Serif\" font-size=\"14.00\" fill=\"#000000\">value = [2, 9]</text>\n</g>\n<!-- 15&#45;&gt;23 -->\n<g id=\"edge23\" class=\"edge\">\n<title>15&#45;&gt;23</title>\n<path fill=\"none\" stroke=\"#000000\" d=\"M1117.8322,-296.9465C1125.097,-288.0578 1133.0136,-278.3716 1140.576,-269.1188\"/>\n<polygon fill=\"#000000\" stroke=\"#000000\" points=\"1143.487,-271.0878 1147.1053,-261.13 1138.0669,-266.658 1143.487,-271.0878\"/>\n</g>\n<!-- 17 -->\n<g id=\"node18\" class=\"node\">\n<title>17</title>\n<path fill=\"#e78b48\" stroke=\"#000000\" d=\"M951,-157C951,-157 851,-157 851,-157 845,-157 839,-151 839,-145 839,-145 839,-101 839,-101 839,-95 845,-89 851,-89 851,-89 951,-89 951,-89 957,-89 963,-95 963,-101 963,-101 963,-145 963,-145 963,-151 957,-157 951,-157\"/>\n<text text-anchor=\"middle\" x=\"901\" y=\"-141.8\" font-family=\"Helvetica,sans-Serif\" font-size=\"14.00\" fill=\"#000000\">IDADE &lt;= 67.5</text>\n<text text-anchor=\"middle\" x=\"901\" y=\"-126.8\" font-family=\"Helvetica,sans-Serif\" font-size=\"14.00\" fill=\"#000000\">gini = 0.132</text>\n<text text-anchor=\"middle\" x=\"901\" y=\"-111.8\" font-family=\"Helvetica,sans-Serif\" font-size=\"14.00\" fill=\"#000000\">samples = 197</text>\n<text text-anchor=\"middle\" x=\"901\" y=\"-96.8\" font-family=\"Helvetica,sans-Serif\" font-size=\"14.00\" fill=\"#000000\">value = [183, 14]</text>\n</g>\n<!-- 16&#45;&gt;17 -->\n<g id=\"edge17\" class=\"edge\">\n<title>16&#45;&gt;17</title>\n<path fill=\"none\" stroke=\"#000000\" d=\"M993.1411,-192.9465C980.7222,-183.519 967.1217,-173.1946 954.2739,-163.4415\"/>\n<polygon fill=\"#000000\" stroke=\"#000000\" points=\"956.041,-160.3887 945.9597,-157.13 951.8085,-165.9642 956.041,-160.3887\"/>\n</g>\n<!-- 20 -->\n<g id=\"node21\" class=\"node\">\n<title>20</title>\n<path fill=\"#6ab6ec\" stroke=\"#000000\" d=\"M1088.5,-157C1088.5,-157 993.5,-157 993.5,-157 987.5,-157 981.5,-151 981.5,-145 981.5,-145 981.5,-101 981.5,-101 981.5,-95 987.5,-89 993.5,-89 993.5,-89 1088.5,-89 1088.5,-89 1094.5,-89 1100.5,-95 1100.5,-101 1100.5,-101 1100.5,-145 1100.5,-145 1100.5,-151 1094.5,-157 1088.5,-157\"/>\n<text text-anchor=\"middle\" x=\"1041\" y=\"-141.8\" font-family=\"Helvetica,sans-Serif\" font-size=\"14.00\" fill=\"#000000\">VBEM &lt;= 578.5</text>\n<text text-anchor=\"middle\" x=\"1041\" y=\"-126.8\" font-family=\"Helvetica,sans-Serif\" font-size=\"14.00\" fill=\"#000000\">gini = 0.32</text>\n<text text-anchor=\"middle\" x=\"1041\" y=\"-111.8\" font-family=\"Helvetica,sans-Serif\" font-size=\"14.00\" fill=\"#000000\">samples = 5</text>\n<text text-anchor=\"middle\" x=\"1041\" y=\"-96.8\" font-family=\"Helvetica,sans-Serif\" font-size=\"14.00\" fill=\"#000000\">value = [1, 4]</text>\n</g>\n<!-- 16&#45;&gt;20 -->\n<g id=\"edge20\" class=\"edge\">\n<title>16&#45;&gt;20</title>\n<path fill=\"none\" stroke=\"#000000\" d=\"M1038.9823,-192.9465C1039.218,-184.776 1039.4731,-175.9318 1039.7201,-167.3697\"/>\n<polygon fill=\"#000000\" stroke=\"#000000\" points=\"1043.2256,-167.2268 1040.0155,-157.13 1036.2285,-167.0249 1043.2256,-167.2268\"/>\n</g>\n<!-- 18 -->\n<g id=\"node19\" class=\"node\">\n<title>18</title>\n<path fill=\"#e78a47\" stroke=\"#000000\" d=\"M832,-53C832,-53 732,-53 732,-53 726,-53 720,-47 720,-41 720,-41 720,-12 720,-12 720,-6 726,0 732,0 732,0 832,0 832,0 838,0 844,-6 844,-12 844,-12 844,-41 844,-41 844,-47 838,-53 832,-53\"/>\n<text text-anchor=\"middle\" x=\"782\" y=\"-37.8\" font-family=\"Helvetica,sans-Serif\" font-size=\"14.00\" fill=\"#000000\">gini = 0.124</text>\n<text text-anchor=\"middle\" x=\"782\" y=\"-22.8\" font-family=\"Helvetica,sans-Serif\" font-size=\"14.00\" fill=\"#000000\">samples = 196</text>\n<text text-anchor=\"middle\" x=\"782\" y=\"-7.8\" font-family=\"Helvetica,sans-Serif\" font-size=\"14.00\" fill=\"#000000\">value = [183, 13]</text>\n</g>\n<!-- 17&#45;&gt;18 -->\n<g id=\"edge18\" class=\"edge\">\n<title>17&#45;&gt;18</title>\n<path fill=\"none\" stroke=\"#000000\" d=\"M859.0451,-88.9777C847.3014,-79.4545 834.5562,-69.1191 822.876,-59.6473\"/>\n<polygon fill=\"#000000\" stroke=\"#000000\" points=\"824.9568,-56.8286 814.9852,-53.2485 820.5478,-62.2656 824.9568,-56.8286\"/>\n</g>\n<!-- 19 -->\n<g id=\"node20\" class=\"node\">\n<title>19</title>\n<path fill=\"#399de5\" stroke=\"#000000\" d=\"M949.5,-53C949.5,-53 874.5,-53 874.5,-53 868.5,-53 862.5,-47 862.5,-41 862.5,-41 862.5,-12 862.5,-12 862.5,-6 868.5,0 874.5,0 874.5,0 949.5,0 949.5,0 955.5,0 961.5,-6 961.5,-12 961.5,-12 961.5,-41 961.5,-41 961.5,-47 955.5,-53 949.5,-53\"/>\n<text text-anchor=\"middle\" x=\"912\" y=\"-37.8\" font-family=\"Helvetica,sans-Serif\" font-size=\"14.00\" fill=\"#000000\">gini = 0.0</text>\n<text text-anchor=\"middle\" x=\"912\" y=\"-22.8\" font-family=\"Helvetica,sans-Serif\" font-size=\"14.00\" fill=\"#000000\">samples = 1</text>\n<text text-anchor=\"middle\" x=\"912\" y=\"-7.8\" font-family=\"Helvetica,sans-Serif\" font-size=\"14.00\" fill=\"#000000\">value = [0, 1]</text>\n</g>\n<!-- 17&#45;&gt;19 -->\n<g id=\"edge19\" class=\"edge\">\n<title>17&#45;&gt;19</title>\n<path fill=\"none\" stroke=\"#000000\" d=\"M904.8782,-88.9777C905.828,-80.6449 906.8488,-71.6903 907.8124,-63.2364\"/>\n<polygon fill=\"#000000\" stroke=\"#000000\" points=\"911.2958,-63.5806 908.951,-53.2485 904.3408,-62.7877 911.2958,-63.5806\"/>\n</g>\n<!-- 21 -->\n<g id=\"node22\" class=\"node\">\n<title>21</title>\n<path fill=\"#e58139\" stroke=\"#000000\" d=\"M1066.5,-53C1066.5,-53 991.5,-53 991.5,-53 985.5,-53 979.5,-47 979.5,-41 979.5,-41 979.5,-12 979.5,-12 979.5,-6 985.5,0 991.5,0 991.5,0 1066.5,0 1066.5,0 1072.5,0 1078.5,-6 1078.5,-12 1078.5,-12 1078.5,-41 1078.5,-41 1078.5,-47 1072.5,-53 1066.5,-53\"/>\n<text text-anchor=\"middle\" x=\"1029\" y=\"-37.8\" font-family=\"Helvetica,sans-Serif\" font-size=\"14.00\" fill=\"#000000\">gini = 0.0</text>\n<text text-anchor=\"middle\" x=\"1029\" y=\"-22.8\" font-family=\"Helvetica,sans-Serif\" font-size=\"14.00\" fill=\"#000000\">samples = 1</text>\n<text text-anchor=\"middle\" x=\"1029\" y=\"-7.8\" font-family=\"Helvetica,sans-Serif\" font-size=\"14.00\" fill=\"#000000\">value = [1, 0]</text>\n</g>\n<!-- 20&#45;&gt;21 -->\n<g id=\"edge21\" class=\"edge\">\n<title>20&#45;&gt;21</title>\n<path fill=\"none\" stroke=\"#000000\" d=\"M1036.7692,-88.9777C1035.733,-80.6449 1034.6195,-71.6903 1033.5683,-63.2364\"/>\n<polygon fill=\"#000000\" stroke=\"#000000\" points=\"1037.0336,-62.7401 1032.3262,-53.2485 1030.0871,-63.604 1037.0336,-62.7401\"/>\n</g>\n<!-- 22 -->\n<g id=\"node23\" class=\"node\">\n<title>22</title>\n<path fill=\"#399de5\" stroke=\"#000000\" d=\"M1183.5,-53C1183.5,-53 1108.5,-53 1108.5,-53 1102.5,-53 1096.5,-47 1096.5,-41 1096.5,-41 1096.5,-12 1096.5,-12 1096.5,-6 1102.5,0 1108.5,0 1108.5,0 1183.5,0 1183.5,0 1189.5,0 1195.5,-6 1195.5,-12 1195.5,-12 1195.5,-41 1195.5,-41 1195.5,-47 1189.5,-53 1183.5,-53\"/>\n<text text-anchor=\"middle\" x=\"1146\" y=\"-37.8\" font-family=\"Helvetica,sans-Serif\" font-size=\"14.00\" fill=\"#000000\">gini = 0.0</text>\n<text text-anchor=\"middle\" x=\"1146\" y=\"-22.8\" font-family=\"Helvetica,sans-Serif\" font-size=\"14.00\" fill=\"#000000\">samples = 4</text>\n<text text-anchor=\"middle\" x=\"1146\" y=\"-7.8\" font-family=\"Helvetica,sans-Serif\" font-size=\"14.00\" fill=\"#000000\">value = [0, 4]</text>\n</g>\n<!-- 20&#45;&gt;22 -->\n<g id=\"edge22\" class=\"edge\">\n<title>20&#45;&gt;22</title>\n<path fill=\"none\" stroke=\"#000000\" d=\"M1078.0191,-88.9777C1088.1819,-79.6376 1099.1947,-69.5163 1109.3374,-60.1947\"/>\n<polygon fill=\"#000000\" stroke=\"#000000\" points=\"1111.901,-62.5923 1116.8954,-53.2485 1107.1642,-57.4383 1111.901,-62.5923\"/>\n</g>\n<!-- 24 -->\n<g id=\"node25\" class=\"node\">\n<title>24</title>\n<path fill=\"#399de5\" stroke=\"#000000\" d=\"M1210.5,-149.5C1210.5,-149.5 1135.5,-149.5 1135.5,-149.5 1129.5,-149.5 1123.5,-143.5 1123.5,-137.5 1123.5,-137.5 1123.5,-108.5 1123.5,-108.5 1123.5,-102.5 1129.5,-96.5 1135.5,-96.5 1135.5,-96.5 1210.5,-96.5 1210.5,-96.5 1216.5,-96.5 1222.5,-102.5 1222.5,-108.5 1222.5,-108.5 1222.5,-137.5 1222.5,-137.5 1222.5,-143.5 1216.5,-149.5 1210.5,-149.5\"/>\n<text text-anchor=\"middle\" x=\"1173\" y=\"-134.3\" font-family=\"Helvetica,sans-Serif\" font-size=\"14.00\" fill=\"#000000\">gini = 0.0</text>\n<text text-anchor=\"middle\" x=\"1173\" y=\"-119.3\" font-family=\"Helvetica,sans-Serif\" font-size=\"14.00\" fill=\"#000000\">samples = 8</text>\n<text text-anchor=\"middle\" x=\"1173\" y=\"-104.3\" font-family=\"Helvetica,sans-Serif\" font-size=\"14.00\" fill=\"#000000\">value = [0, 8]</text>\n</g>\n<!-- 23&#45;&gt;24 -->\n<g id=\"edge24\" class=\"edge\">\n<title>23&#45;&gt;24</title>\n<path fill=\"none\" stroke=\"#000000\" d=\"M1174.3451,-192.9465C1174.1397,-182.2621 1173.912,-170.4254 1173.7034,-159.5742\"/>\n<polygon fill=\"#000000\" stroke=\"#000000\" points=\"1177.2021,-159.473 1173.5104,-149.5422 1170.2034,-159.6076 1177.2021,-159.473\"/>\n</g>\n<!-- 25 -->\n<g id=\"node26\" class=\"node\">\n<title>25</title>\n<path fill=\"#f2c09c\" stroke=\"#000000\" d=\"M1357,-157C1357,-157 1253,-157 1253,-157 1247,-157 1241,-151 1241,-145 1241,-145 1241,-101 1241,-101 1241,-95 1247,-89 1253,-89 1253,-89 1357,-89 1357,-89 1363,-89 1369,-95 1369,-101 1369,-101 1369,-145 1369,-145 1369,-151 1363,-157 1357,-157\"/>\n<text text-anchor=\"middle\" x=\"1305\" y=\"-141.8\" font-family=\"Helvetica,sans-Serif\" font-size=\"14.00\" fill=\"#000000\">RENDA &lt;= 493.0</text>\n<text text-anchor=\"middle\" x=\"1305\" y=\"-126.8\" font-family=\"Helvetica,sans-Serif\" font-size=\"14.00\" fill=\"#000000\">gini = 0.444</text>\n<text text-anchor=\"middle\" x=\"1305\" y=\"-111.8\" font-family=\"Helvetica,sans-Serif\" font-size=\"14.00\" fill=\"#000000\">samples = 3</text>\n<text text-anchor=\"middle\" x=\"1305\" y=\"-96.8\" font-family=\"Helvetica,sans-Serif\" font-size=\"14.00\" fill=\"#000000\">value = [2, 1]</text>\n</g>\n<!-- 23&#45;&gt;25 -->\n<g id=\"edge25\" class=\"edge\">\n<title>23&#45;&gt;25</title>\n<path fill=\"none\" stroke=\"#000000\" d=\"M1217.5669,-192.9465C1229.3512,-183.519 1242.2568,-173.1946 1254.4481,-163.4415\"/>\n<polygon fill=\"#000000\" stroke=\"#000000\" points=\"1256.7152,-166.11 1262.3375,-157.13 1252.3423,-160.6439 1256.7152,-166.11\"/>\n</g>\n<!-- 26 -->\n<g id=\"node27\" class=\"node\">\n<title>26</title>\n<path fill=\"#399de5\" stroke=\"#000000\" d=\"M1300.5,-53C1300.5,-53 1225.5,-53 1225.5,-53 1219.5,-53 1213.5,-47 1213.5,-41 1213.5,-41 1213.5,-12 1213.5,-12 1213.5,-6 1219.5,0 1225.5,0 1225.5,0 1300.5,0 1300.5,0 1306.5,0 1312.5,-6 1312.5,-12 1312.5,-12 1312.5,-41 1312.5,-41 1312.5,-47 1306.5,-53 1300.5,-53\"/>\n<text text-anchor=\"middle\" x=\"1263\" y=\"-37.8\" font-family=\"Helvetica,sans-Serif\" font-size=\"14.00\" fill=\"#000000\">gini = 0.0</text>\n<text text-anchor=\"middle\" x=\"1263\" y=\"-22.8\" font-family=\"Helvetica,sans-Serif\" font-size=\"14.00\" fill=\"#000000\">samples = 1</text>\n<text text-anchor=\"middle\" x=\"1263\" y=\"-7.8\" font-family=\"Helvetica,sans-Serif\" font-size=\"14.00\" fill=\"#000000\">value = [0, 1]</text>\n</g>\n<!-- 25&#45;&gt;26 -->\n<g id=\"edge26\" class=\"edge\">\n<title>25&#45;&gt;26</title>\n<path fill=\"none\" stroke=\"#000000\" d=\"M1290.1924,-88.9777C1286.4859,-80.4617 1282.4969,-71.2963 1278.7466,-62.6798\"/>\n<polygon fill=\"#000000\" stroke=\"#000000\" points=\"1281.8418,-61.0209 1274.6418,-53.2485 1275.4234,-63.8145 1281.8418,-61.0209\"/>\n</g>\n<!-- 27 -->\n<g id=\"node28\" class=\"node\">\n<title>27</title>\n<path fill=\"#e58139\" stroke=\"#000000\" d=\"M1417.5,-53C1417.5,-53 1342.5,-53 1342.5,-53 1336.5,-53 1330.5,-47 1330.5,-41 1330.5,-41 1330.5,-12 1330.5,-12 1330.5,-6 1336.5,0 1342.5,0 1342.5,0 1417.5,0 1417.5,0 1423.5,0 1429.5,-6 1429.5,-12 1429.5,-12 1429.5,-41 1429.5,-41 1429.5,-47 1423.5,-53 1417.5,-53\"/>\n<text text-anchor=\"middle\" x=\"1380\" y=\"-37.8\" font-family=\"Helvetica,sans-Serif\" font-size=\"14.00\" fill=\"#000000\">gini = 0.0</text>\n<text text-anchor=\"middle\" x=\"1380\" y=\"-22.8\" font-family=\"Helvetica,sans-Serif\" font-size=\"14.00\" fill=\"#000000\">samples = 2</text>\n<text text-anchor=\"middle\" x=\"1380\" y=\"-7.8\" font-family=\"Helvetica,sans-Serif\" font-size=\"14.00\" fill=\"#000000\">value = [2, 0]</text>\n</g>\n<!-- 25&#45;&gt;27 -->\n<g id=\"edge27\" class=\"edge\">\n<title>25&#45;&gt;27</title>\n<path fill=\"none\" stroke=\"#000000\" d=\"M1331.4422,-88.9777C1338.4167,-80.0039 1345.9516,-70.3089 1352.9573,-61.295\"/>\n<polygon fill=\"#000000\" stroke=\"#000000\" points=\"1355.8379,-63.292 1359.211,-53.2485 1350.3109,-58.9964 1355.8379,-63.292\"/>\n</g>\n<!-- 29 -->\n<g id=\"node30\" class=\"node\">\n<title>29</title>\n<path fill=\"#399de5\" stroke=\"#000000\" d=\"M1498.5,-357.5C1498.5,-357.5 1415.5,-357.5 1415.5,-357.5 1409.5,-357.5 1403.5,-351.5 1403.5,-345.5 1403.5,-345.5 1403.5,-316.5 1403.5,-316.5 1403.5,-310.5 1409.5,-304.5 1415.5,-304.5 1415.5,-304.5 1498.5,-304.5 1498.5,-304.5 1504.5,-304.5 1510.5,-310.5 1510.5,-316.5 1510.5,-316.5 1510.5,-345.5 1510.5,-345.5 1510.5,-351.5 1504.5,-357.5 1498.5,-357.5\"/>\n<text text-anchor=\"middle\" x=\"1457\" y=\"-342.3\" font-family=\"Helvetica,sans-Serif\" font-size=\"14.00\" fill=\"#000000\">gini = 0.0</text>\n<text text-anchor=\"middle\" x=\"1457\" y=\"-327.3\" font-family=\"Helvetica,sans-Serif\" font-size=\"14.00\" fill=\"#000000\">samples = 26</text>\n<text text-anchor=\"middle\" x=\"1457\" y=\"-312.3\" font-family=\"Helvetica,sans-Serif\" font-size=\"14.00\" fill=\"#000000\">value = [0, 26]</text>\n</g>\n<!-- 28&#45;&gt;29 -->\n<g id=\"edge29\" class=\"edge\">\n<title>28&#45;&gt;29</title>\n<path fill=\"none\" stroke=\"#000000\" d=\"M1457,-400.9465C1457,-390.2621 1457,-378.4254 1457,-367.5742\"/>\n<polygon fill=\"#000000\" stroke=\"#000000\" points=\"1460.5001,-367.5421 1457,-357.5422 1453.5001,-367.5422 1460.5001,-367.5421\"/>\n</g>\n<!-- 30 -->\n<g id=\"node31\" class=\"node\">\n<title>30</title>\n<path fill=\"#ea995f\" stroke=\"#000000\" d=\"M1750,-365C1750,-365 1650,-365 1650,-365 1644,-365 1638,-359 1638,-353 1638,-353 1638,-309 1638,-309 1638,-303 1644,-297 1650,-297 1650,-297 1750,-297 1750,-297 1756,-297 1762,-303 1762,-309 1762,-309 1762,-353 1762,-353 1762,-359 1756,-365 1750,-365\"/>\n<text text-anchor=\"middle\" x=\"1700\" y=\"-349.8\" font-family=\"Helvetica,sans-Serif\" font-size=\"14.00\" fill=\"#000000\">NPARC &lt;= 11.0</text>\n<text text-anchor=\"middle\" x=\"1700\" y=\"-334.8\" font-family=\"Helvetica,sans-Serif\" font-size=\"14.00\" fill=\"#000000\">gini = 0.269</text>\n<text text-anchor=\"middle\" x=\"1700\" y=\"-319.8\" font-family=\"Helvetica,sans-Serif\" font-size=\"14.00\" fill=\"#000000\">samples = 524</text>\n<text text-anchor=\"middle\" x=\"1700\" y=\"-304.8\" font-family=\"Helvetica,sans-Serif\" font-size=\"14.00\" fill=\"#000000\">value = [440, 84]</text>\n</g>\n<!-- 28&#45;&gt;30 -->\n<g id=\"edge30\" class=\"edge\">\n<title>28&#45;&gt;30</title>\n<path fill=\"none\" stroke=\"#000000\" d=\"M1523.0798,-406.7189C1555.7096,-392.7539 1595.1262,-375.8843 1628.465,-361.6158\"/>\n<polygon fill=\"#000000\" stroke=\"#000000\" points=\"1629.8801,-364.8173 1637.6964,-357.6649 1627.1258,-358.3819 1629.8801,-364.8173\"/>\n</g>\n<!-- 31 -->\n<g id=\"node32\" class=\"node\">\n<title>31</title>\n<path fill=\"#e99456\" stroke=\"#000000\" d=\"M1750,-261C1750,-261 1650,-261 1650,-261 1644,-261 1638,-255 1638,-249 1638,-249 1638,-205 1638,-205 1638,-199 1644,-193 1650,-193 1650,-193 1750,-193 1750,-193 1756,-193 1762,-199 1762,-205 1762,-205 1762,-249 1762,-249 1762,-255 1756,-261 1750,-261\"/>\n<text text-anchor=\"middle\" x=\"1700\" y=\"-245.8\" font-family=\"Helvetica,sans-Serif\" font-size=\"14.00\" fill=\"#000000\">IDADE &lt;= 43.5</text>\n<text text-anchor=\"middle\" x=\"1700\" y=\"-230.8\" font-family=\"Helvetica,sans-Serif\" font-size=\"14.00\" fill=\"#000000\">gini = 0.224</text>\n<text text-anchor=\"middle\" x=\"1700\" y=\"-215.8\" font-family=\"Helvetica,sans-Serif\" font-size=\"14.00\" fill=\"#000000\">samples = 444</text>\n<text text-anchor=\"middle\" x=\"1700\" y=\"-200.8\" font-family=\"Helvetica,sans-Serif\" font-size=\"14.00\" fill=\"#000000\">value = [387, 57]</text>\n</g>\n<!-- 30&#45;&gt;31 -->\n<g id=\"edge31\" class=\"edge\">\n<title>30&#45;&gt;31</title>\n<path fill=\"none\" stroke=\"#000000\" d=\"M1700,-296.9465C1700,-288.776 1700,-279.9318 1700,-271.3697\"/>\n<polygon fill=\"#000000\" stroke=\"#000000\" points=\"1703.5001,-271.13 1700,-261.13 1696.5001,-271.13 1703.5001,-271.13\"/>\n</g>\n<!-- 38 -->\n<g id=\"node39\" class=\"node\">\n<title>38</title>\n<path fill=\"#f2c19e\" stroke=\"#000000\" d=\"M2132,-261C2132,-261 2020,-261 2020,-261 2014,-261 2008,-255 2008,-249 2008,-249 2008,-205 2008,-205 2008,-199 2014,-193 2020,-193 2020,-193 2132,-193 2132,-193 2138,-193 2144,-199 2144,-205 2144,-205 2144,-249 2144,-249 2144,-255 2138,-261 2132,-261\"/>\n<text text-anchor=\"middle\" x=\"2076\" y=\"-245.8\" font-family=\"Helvetica,sans-Serif\" font-size=\"14.00\" fill=\"#000000\">RENDA &lt;= 1097.5</text>\n<text text-anchor=\"middle\" x=\"2076\" y=\"-230.8\" font-family=\"Helvetica,sans-Serif\" font-size=\"14.00\" fill=\"#000000\">gini = 0.447</text>\n<text text-anchor=\"middle\" x=\"2076\" y=\"-215.8\" font-family=\"Helvetica,sans-Serif\" font-size=\"14.00\" fill=\"#000000\">samples = 80</text>\n<text text-anchor=\"middle\" x=\"2076\" y=\"-200.8\" font-family=\"Helvetica,sans-Serif\" font-size=\"14.00\" fill=\"#000000\">value = [53, 27]</text>\n</g>\n<!-- 30&#45;&gt;38 -->\n<g id=\"edge38\" class=\"edge\">\n<title>30&#45;&gt;38</title>\n<path fill=\"none\" stroke=\"#000000\" d=\"M1762.0888,-313.8265C1826.7334,-295.9461 1928.1371,-267.8982 1998.1116,-248.5436\"/>\n<polygon fill=\"#000000\" stroke=\"#000000\" points=\"1999.0646,-251.9115 2007.7696,-245.8722 1997.1984,-245.1648 1999.0646,-251.9115\"/>\n</g>\n<!-- 32 -->\n<g id=\"node33\" class=\"node\">\n<title>32</title>\n<path fill=\"#ea9b62\" stroke=\"#000000\" d=\"M1681,-157C1681,-157 1569,-157 1569,-157 1563,-157 1557,-151 1557,-145 1557,-145 1557,-101 1557,-101 1557,-95 1563,-89 1569,-89 1569,-89 1681,-89 1681,-89 1687,-89 1693,-95 1693,-101 1693,-101 1693,-145 1693,-145 1693,-151 1687,-157 1681,-157\"/>\n<text text-anchor=\"middle\" x=\"1625\" y=\"-141.8\" font-family=\"Helvetica,sans-Serif\" font-size=\"14.00\" fill=\"#000000\">RENDA &lt;= 3449.5</text>\n<text text-anchor=\"middle\" x=\"1625\" y=\"-126.8\" font-family=\"Helvetica,sans-Serif\" font-size=\"14.00\" fill=\"#000000\">gini = 0.283</text>\n<text text-anchor=\"middle\" x=\"1625\" y=\"-111.8\" font-family=\"Helvetica,sans-Serif\" font-size=\"14.00\" fill=\"#000000\">samples = 310</text>\n<text text-anchor=\"middle\" x=\"1625\" y=\"-96.8\" font-family=\"Helvetica,sans-Serif\" font-size=\"14.00\" fill=\"#000000\">value = [257, 53]</text>\n</g>\n<!-- 31&#45;&gt;32 -->\n<g id=\"edge32\" class=\"edge\">\n<title>31&#45;&gt;32</title>\n<path fill=\"none\" stroke=\"#000000\" d=\"M1675.4422,-192.9465C1669.0968,-184.1475 1662.1879,-174.5672 1655.5764,-165.3993\"/>\n<polygon fill=\"#000000\" stroke=\"#000000\" points=\"1658.3011,-163.1937 1649.613,-157.13 1652.6234,-167.2882 1658.3011,-163.1937\"/>\n</g>\n<!-- 35 -->\n<g id=\"node36\" class=\"node\">\n<title>35</title>\n<path fill=\"#e6853f\" stroke=\"#000000\" d=\"M1827,-157C1827,-157 1723,-157 1723,-157 1717,-157 1711,-151 1711,-145 1711,-145 1711,-101 1711,-101 1711,-95 1717,-89 1723,-89 1723,-89 1827,-89 1827,-89 1833,-89 1839,-95 1839,-101 1839,-101 1839,-145 1839,-145 1839,-151 1833,-157 1827,-157\"/>\n<text text-anchor=\"middle\" x=\"1775\" y=\"-141.8\" font-family=\"Helvetica,sans-Serif\" font-size=\"14.00\" fill=\"#000000\">RENDA &lt;= 360.5</text>\n<text text-anchor=\"middle\" x=\"1775\" y=\"-126.8\" font-family=\"Helvetica,sans-Serif\" font-size=\"14.00\" fill=\"#000000\">gini = 0.058</text>\n<text text-anchor=\"middle\" x=\"1775\" y=\"-111.8\" font-family=\"Helvetica,sans-Serif\" font-size=\"14.00\" fill=\"#000000\">samples = 134</text>\n<text text-anchor=\"middle\" x=\"1775\" y=\"-96.8\" font-family=\"Helvetica,sans-Serif\" font-size=\"14.00\" fill=\"#000000\">value = [130, 4]</text>\n</g>\n<!-- 31&#45;&gt;35 -->\n<g id=\"edge35\" class=\"edge\">\n<title>31&#45;&gt;35</title>\n<path fill=\"none\" stroke=\"#000000\" d=\"M1724.5578,-192.9465C1730.9032,-184.1475 1737.8121,-174.5672 1744.4236,-165.3993\"/>\n<polygon fill=\"#000000\" stroke=\"#000000\" points=\"1747.3766,-167.2882 1750.387,-157.13 1741.6989,-163.1937 1747.3766,-167.2882\"/>\n</g>\n<!-- 33 -->\n<g id=\"node34\" class=\"node\">\n<title>33</title>\n<path fill=\"#ea995f\" stroke=\"#000000\" d=\"M1560,-53C1560,-53 1460,-53 1460,-53 1454,-53 1448,-47 1448,-41 1448,-41 1448,-12 1448,-12 1448,-6 1454,0 1460,0 1460,0 1560,0 1560,0 1566,0 1572,-6 1572,-12 1572,-12 1572,-41 1572,-41 1572,-47 1566,-53 1560,-53\"/>\n<text text-anchor=\"middle\" x=\"1510\" y=\"-37.8\" font-family=\"Helvetica,sans-Serif\" font-size=\"14.00\" fill=\"#000000\">gini = 0.272</text>\n<text text-anchor=\"middle\" x=\"1510\" y=\"-22.8\" font-family=\"Helvetica,sans-Serif\" font-size=\"14.00\" fill=\"#000000\">samples = 302</text>\n<text text-anchor=\"middle\" x=\"1510\" y=\"-7.8\" font-family=\"Helvetica,sans-Serif\" font-size=\"14.00\" fill=\"#000000\">value = [253, 49]</text>\n</g>\n<!-- 32&#45;&gt;33 -->\n<g id=\"edge33\" class=\"edge\">\n<title>32&#45;&gt;33</title>\n<path fill=\"none\" stroke=\"#000000\" d=\"M1584.4553,-88.9777C1573.2155,-79.546 1561.0264,-69.3178 1549.8279,-59.9208\"/>\n<polygon fill=\"#000000\" stroke=\"#000000\" points=\"1551.7866,-56.9954 1541.8764,-53.2485 1547.287,-62.3576 1551.7866,-56.9954\"/>\n</g>\n<!-- 34 -->\n<g id=\"node35\" class=\"node\">\n<title>34</title>\n<path fill=\"#ffffff\" stroke=\"#000000\" d=\"M1677.5,-53C1677.5,-53 1602.5,-53 1602.5,-53 1596.5,-53 1590.5,-47 1590.5,-41 1590.5,-41 1590.5,-12 1590.5,-12 1590.5,-6 1596.5,0 1602.5,0 1602.5,0 1677.5,0 1677.5,0 1683.5,0 1689.5,-6 1689.5,-12 1689.5,-12 1689.5,-41 1689.5,-41 1689.5,-47 1683.5,-53 1677.5,-53\"/>\n<text text-anchor=\"middle\" x=\"1640\" y=\"-37.8\" font-family=\"Helvetica,sans-Serif\" font-size=\"14.00\" fill=\"#000000\">gini = 0.5</text>\n<text text-anchor=\"middle\" x=\"1640\" y=\"-22.8\" font-family=\"Helvetica,sans-Serif\" font-size=\"14.00\" fill=\"#000000\">samples = 8</text>\n<text text-anchor=\"middle\" x=\"1640\" y=\"-7.8\" font-family=\"Helvetica,sans-Serif\" font-size=\"14.00\" fill=\"#000000\">value = [4, 4]</text>\n</g>\n<!-- 32&#45;&gt;34 -->\n<g id=\"edge34\" class=\"edge\">\n<title>32&#45;&gt;34</title>\n<path fill=\"none\" stroke=\"#000000\" d=\"M1630.2884,-88.9777C1631.5837,-80.6449 1632.9756,-71.6903 1634.2897,-63.2364\"/>\n<polygon fill=\"#000000\" stroke=\"#000000\" points=\"1637.7646,-63.6674 1635.8422,-53.2485 1630.8477,-62.5922 1637.7646,-63.6674\"/>\n</g>\n<!-- 36 -->\n<g id=\"node37\" class=\"node\">\n<title>36</title>\n<path fill=\"#e9965a\" stroke=\"#000000\" d=\"M1802.5,-53C1802.5,-53 1719.5,-53 1719.5,-53 1713.5,-53 1707.5,-47 1707.5,-41 1707.5,-41 1707.5,-12 1707.5,-12 1707.5,-6 1713.5,0 1719.5,0 1719.5,0 1802.5,0 1802.5,0 1808.5,0 1814.5,-6 1814.5,-12 1814.5,-12 1814.5,-41 1814.5,-41 1814.5,-47 1808.5,-53 1802.5,-53\"/>\n<text text-anchor=\"middle\" x=\"1761\" y=\"-37.8\" font-family=\"Helvetica,sans-Serif\" font-size=\"14.00\" fill=\"#000000\">gini = 0.245</text>\n<text text-anchor=\"middle\" x=\"1761\" y=\"-22.8\" font-family=\"Helvetica,sans-Serif\" font-size=\"14.00\" fill=\"#000000\">samples = 21</text>\n<text text-anchor=\"middle\" x=\"1761\" y=\"-7.8\" font-family=\"Helvetica,sans-Serif\" font-size=\"14.00\" fill=\"#000000\">value = [18, 3]</text>\n</g>\n<!-- 35&#45;&gt;36 -->\n<g id=\"edge36\" class=\"edge\">\n<title>35&#45;&gt;36</title>\n<path fill=\"none\" stroke=\"#000000\" d=\"M1770.0641,-88.9777C1768.8552,-80.6449 1767.5561,-71.6903 1766.3296,-63.2364\"/>\n<polygon fill=\"#000000\" stroke=\"#000000\" points=\"1769.7802,-62.6423 1764.8806,-53.2485 1762.8527,-63.6474 1769.7802,-62.6423\"/>\n</g>\n<!-- 37 -->\n<g id=\"node38\" class=\"node\">\n<title>37</title>\n<path fill=\"#e5823b\" stroke=\"#000000\" d=\"M1937,-53C1937,-53 1845,-53 1845,-53 1839,-53 1833,-47 1833,-41 1833,-41 1833,-12 1833,-12 1833,-6 1839,0 1845,0 1845,0 1937,0 1937,0 1943,0 1949,-6 1949,-12 1949,-12 1949,-41 1949,-41 1949,-47 1943,-53 1937,-53\"/>\n<text text-anchor=\"middle\" x=\"1891\" y=\"-37.8\" font-family=\"Helvetica,sans-Serif\" font-size=\"14.00\" fill=\"#000000\">gini = 0.018</text>\n<text text-anchor=\"middle\" x=\"1891\" y=\"-22.8\" font-family=\"Helvetica,sans-Serif\" font-size=\"14.00\" fill=\"#000000\">samples = 113</text>\n<text text-anchor=\"middle\" x=\"1891\" y=\"-7.8\" font-family=\"Helvetica,sans-Serif\" font-size=\"14.00\" fill=\"#000000\">value = [112, 1]</text>\n</g>\n<!-- 35&#45;&gt;37 -->\n<g id=\"edge37\" class=\"edge\">\n<title>35&#45;&gt;37</title>\n<path fill=\"none\" stroke=\"#000000\" d=\"M1815.8973,-88.9777C1827.3449,-79.4545 1839.7687,-69.1191 1851.1545,-59.6473\"/>\n<polygon fill=\"#000000\" stroke=\"#000000\" points=\"1853.3971,-62.3345 1858.8464,-53.2485 1848.9203,-56.9532 1853.3971,-62.3345\"/>\n</g>\n<!-- 39 -->\n<g id=\"node40\" class=\"node\">\n<title>39</title>\n<path fill=\"#eda978\" stroke=\"#000000\" d=\"M2128,-157C2128,-157 2024,-157 2024,-157 2018,-157 2012,-151 2012,-145 2012,-145 2012,-101 2012,-101 2012,-95 2018,-89 2024,-89 2024,-89 2128,-89 2128,-89 2134,-89 2140,-95 2140,-101 2140,-101 2140,-145 2140,-145 2140,-151 2134,-157 2128,-157\"/>\n<text text-anchor=\"middle\" x=\"2076\" y=\"-141.8\" font-family=\"Helvetica,sans-Serif\" font-size=\"14.00\" fill=\"#000000\">RENDA &lt;= 304.5</text>\n<text text-anchor=\"middle\" x=\"2076\" y=\"-126.8\" font-family=\"Helvetica,sans-Serif\" font-size=\"14.00\" fill=\"#000000\">gini = 0.366</text>\n<text text-anchor=\"middle\" x=\"2076\" y=\"-111.8\" font-family=\"Helvetica,sans-Serif\" font-size=\"14.00\" fill=\"#000000\">samples = 58</text>\n<text text-anchor=\"middle\" x=\"2076\" y=\"-96.8\" font-family=\"Helvetica,sans-Serif\" font-size=\"14.00\" fill=\"#000000\">value = [44, 14]</text>\n</g>\n<!-- 38&#45;&gt;39 -->\n<g id=\"edge39\" class=\"edge\">\n<title>38&#45;&gt;39</title>\n<path fill=\"none\" stroke=\"#000000\" d=\"M2076,-192.9465C2076,-184.776 2076,-175.9318 2076,-167.3697\"/>\n<polygon fill=\"#000000\" stroke=\"#000000\" points=\"2079.5001,-167.13 2076,-157.13 2072.5001,-167.13 2079.5001,-167.13\"/>\n</g>\n<!-- 42 -->\n<g id=\"node43\" class=\"node\">\n<title>42</title>\n<path fill=\"#c2e1f7\" stroke=\"#000000\" d=\"M2312.5,-157C2312.5,-157 2229.5,-157 2229.5,-157 2223.5,-157 2217.5,-151 2217.5,-145 2217.5,-145 2217.5,-101 2217.5,-101 2217.5,-95 2223.5,-89 2229.5,-89 2229.5,-89 2312.5,-89 2312.5,-89 2318.5,-89 2324.5,-95 2324.5,-101 2324.5,-101 2324.5,-145 2324.5,-145 2324.5,-151 2318.5,-157 2312.5,-157\"/>\n<text text-anchor=\"middle\" x=\"2271\" y=\"-141.8\" font-family=\"Helvetica,sans-Serif\" font-size=\"14.00\" fill=\"#000000\">ESCT &lt;= 0.5</text>\n<text text-anchor=\"middle\" x=\"2271\" y=\"-126.8\" font-family=\"Helvetica,sans-Serif\" font-size=\"14.00\" fill=\"#000000\">gini = 0.483</text>\n<text text-anchor=\"middle\" x=\"2271\" y=\"-111.8\" font-family=\"Helvetica,sans-Serif\" font-size=\"14.00\" fill=\"#000000\">samples = 22</text>\n<text text-anchor=\"middle\" x=\"2271\" y=\"-96.8\" font-family=\"Helvetica,sans-Serif\" font-size=\"14.00\" fill=\"#000000\">value = [9, 13]</text>\n</g>\n<!-- 38&#45;&gt;42 -->\n<g id=\"edge42\" class=\"edge\">\n<title>38&#45;&gt;42</title>\n<path fill=\"none\" stroke=\"#000000\" d=\"M2139.8503,-192.9465C2161.9134,-181.1795 2186.5967,-168.0151 2208.5465,-156.3085\"/>\n<polygon fill=\"#000000\" stroke=\"#000000\" points=\"2210.2729,-159.3545 2217.4494,-151.5603 2206.9788,-153.178 2210.2729,-159.3545\"/>\n</g>\n<!-- 40 -->\n<g id=\"node41\" class=\"node\">\n<title>40</title>\n<path fill=\"#399de5\" stroke=\"#000000\" d=\"M2054.5,-53C2054.5,-53 1979.5,-53 1979.5,-53 1973.5,-53 1967.5,-47 1967.5,-41 1967.5,-41 1967.5,-12 1967.5,-12 1967.5,-6 1973.5,0 1979.5,0 1979.5,0 2054.5,0 2054.5,0 2060.5,0 2066.5,-6 2066.5,-12 2066.5,-12 2066.5,-41 2066.5,-41 2066.5,-47 2060.5,-53 2054.5,-53\"/>\n<text text-anchor=\"middle\" x=\"2017\" y=\"-37.8\" font-family=\"Helvetica,sans-Serif\" font-size=\"14.00\" fill=\"#000000\">gini = 0.0</text>\n<text text-anchor=\"middle\" x=\"2017\" y=\"-22.8\" font-family=\"Helvetica,sans-Serif\" font-size=\"14.00\" fill=\"#000000\">samples = 2</text>\n<text text-anchor=\"middle\" x=\"2017\" y=\"-7.8\" font-family=\"Helvetica,sans-Serif\" font-size=\"14.00\" fill=\"#000000\">value = [0, 2]</text>\n</g>\n<!-- 39&#45;&gt;40 -->\n<g id=\"edge40\" class=\"edge\">\n<title>39&#45;&gt;40</title>\n<path fill=\"none\" stroke=\"#000000\" d=\"M2055.1988,-88.9777C2049.8242,-80.187 2044.0265,-70.7044 2038.6115,-61.8477\"/>\n<polygon fill=\"#000000\" stroke=\"#000000\" points=\"2041.5564,-59.9545 2033.354,-53.2485 2035.5842,-63.6059 2041.5564,-59.9545\"/>\n</g>\n<!-- 41 -->\n<g id=\"node42\" class=\"node\">\n<title>41</title>\n<path fill=\"#eca36f\" stroke=\"#000000\" d=\"M2189,-53C2189,-53 2097,-53 2097,-53 2091,-53 2085,-47 2085,-41 2085,-41 2085,-12 2085,-12 2085,-6 2091,0 2097,0 2097,0 2189,0 2189,0 2195,0 2201,-6 2201,-12 2201,-12 2201,-41 2201,-41 2201,-47 2195,-53 2189,-53\"/>\n<text text-anchor=\"middle\" x=\"2143\" y=\"-37.8\" font-family=\"Helvetica,sans-Serif\" font-size=\"14.00\" fill=\"#000000\">gini = 0.337</text>\n<text text-anchor=\"middle\" x=\"2143\" y=\"-22.8\" font-family=\"Helvetica,sans-Serif\" font-size=\"14.00\" fill=\"#000000\">samples = 56</text>\n<text text-anchor=\"middle\" x=\"2143\" y=\"-7.8\" font-family=\"Helvetica,sans-Serif\" font-size=\"14.00\" fill=\"#000000\">value = [44, 12]</text>\n</g>\n<!-- 39&#45;&gt;41 -->\n<g id=\"edge41\" class=\"edge\">\n<title>39&#45;&gt;41</title>\n<path fill=\"none\" stroke=\"#000000\" d=\"M2099.6217,-88.9777C2105.7887,-80.0954 2112.4461,-70.5067 2118.6501,-61.5711\"/>\n<polygon fill=\"#000000\" stroke=\"#000000\" points=\"2121.6003,-63.4589 2124.4285,-53.2485 2115.8503,-59.4666 2121.6003,-63.4589\"/>\n</g>\n<!-- 43 -->\n<g id=\"node44\" class=\"node\">\n<title>43</title>\n<path fill=\"#fcf1e9\" stroke=\"#000000\" d=\"M2311,-53C2311,-53 2231,-53 2231,-53 2225,-53 2219,-47 2219,-41 2219,-41 2219,-12 2219,-12 2219,-6 2225,0 2231,0 2231,0 2311,0 2311,0 2317,0 2323,-6 2323,-12 2323,-12 2323,-41 2323,-41 2323,-47 2317,-53 2311,-53\"/>\n<text text-anchor=\"middle\" x=\"2271\" y=\"-37.8\" font-family=\"Helvetica,sans-Serif\" font-size=\"14.00\" fill=\"#000000\">gini = 0.498</text>\n<text text-anchor=\"middle\" x=\"2271\" y=\"-22.8\" font-family=\"Helvetica,sans-Serif\" font-size=\"14.00\" fill=\"#000000\">samples = 17</text>\n<text text-anchor=\"middle\" x=\"2271\" y=\"-7.8\" font-family=\"Helvetica,sans-Serif\" font-size=\"14.00\" fill=\"#000000\">value = [9, 8]</text>\n</g>\n<!-- 42&#45;&gt;43 -->\n<g id=\"edge43\" class=\"edge\">\n<title>42&#45;&gt;43</title>\n<path fill=\"none\" stroke=\"#000000\" d=\"M2271,-88.9777C2271,-80.7364 2271,-71.887 2271,-63.5153\"/>\n<polygon fill=\"#000000\" stroke=\"#000000\" points=\"2274.5001,-63.2484 2271,-53.2485 2267.5001,-63.2485 2274.5001,-63.2484\"/>\n</g>\n<!-- 44 -->\n<g id=\"node45\" class=\"node\">\n<title>44</title>\n<path fill=\"#399de5\" stroke=\"#000000\" d=\"M2428.5,-53C2428.5,-53 2353.5,-53 2353.5,-53 2347.5,-53 2341.5,-47 2341.5,-41 2341.5,-41 2341.5,-12 2341.5,-12 2341.5,-6 2347.5,0 2353.5,0 2353.5,0 2428.5,0 2428.5,0 2434.5,0 2440.5,-6 2440.5,-12 2440.5,-12 2440.5,-41 2440.5,-41 2440.5,-47 2434.5,-53 2428.5,-53\"/>\n<text text-anchor=\"middle\" x=\"2391\" y=\"-37.8\" font-family=\"Helvetica,sans-Serif\" font-size=\"14.00\" fill=\"#000000\">gini = 0.0</text>\n<text text-anchor=\"middle\" x=\"2391\" y=\"-22.8\" font-family=\"Helvetica,sans-Serif\" font-size=\"14.00\" fill=\"#000000\">samples = 5</text>\n<text text-anchor=\"middle\" x=\"2391\" y=\"-7.8\" font-family=\"Helvetica,sans-Serif\" font-size=\"14.00\" fill=\"#000000\">value = [0, 5]</text>\n</g>\n<!-- 42&#45;&gt;44 -->\n<g id=\"edge44\" class=\"edge\">\n<title>42&#45;&gt;44</title>\n<path fill=\"none\" stroke=\"#000000\" d=\"M2313.3075,-88.9777C2325.1499,-79.4545 2338.0021,-69.1191 2349.7805,-59.6473\"/>\n<polygon fill=\"#000000\" stroke=\"#000000\" points=\"2352.1382,-62.2427 2357.7376,-53.2485 2347.7514,-56.7877 2352.1382,-62.2427\"/>\n</g>\n</g>\n</svg>\n"
          },
          "metadata": {},
          "execution_count": 34
        }
      ]
    },
    {
      "cell_type": "markdown",
      "metadata": {
        "id": "KuG7Okj2rRXx"
      },
      "source": [
        "## 3 Aplicando o modelo treinado"
      ]
    },
    {
      "cell_type": "code",
      "metadata": {
        "id": "KCDmLpM1rcMo"
      },
      "source": [
        "#Predição no conjunto de validação\n"
      ],
      "execution_count": null,
      "outputs": []
    },
    {
      "cell_type": "code",
      "metadata": {
        "id": "T8OJh6YttczD"
      },
      "source": [
        "#Visualização das primeiras 10 observações preditas\n"
      ],
      "execution_count": null,
      "outputs": []
    },
    {
      "cell_type": "markdown",
      "metadata": {
        "id": "eiJ-TfEsrW2U"
      },
      "source": [
        "## 4 Avaliando o desempenho do modelo"
      ]
    },
    {
      "cell_type": "markdown",
      "metadata": {
        "id": "j5D0d9b3ZzUE"
      },
      "source": [
        "O código desta seção será liberado à medida que a aula for publicada no canal Python DS: https://www.youtube.com/playlist?list=PL0XxTDj23A1HYVt2EOttKvaE8UzQoAh3A"
      ]
    },
    {
      "cell_type": "code",
      "metadata": {
        "id": "FNEFGHn5rdEo"
      },
      "source": [
        ""
      ],
      "execution_count": null,
      "outputs": []
    },
    {
      "cell_type": "code",
      "metadata": {
        "id": "6SgBO9kiz33m"
      },
      "source": [
        "#Matriz de confusão\n"
      ],
      "execution_count": null,
      "outputs": []
    },
    {
      "cell_type": "code",
      "metadata": {
        "id": "aCILmeZR0-vv"
      },
      "source": [
        "#Organização dos dados para visualização da matriz\n",
        "\n",
        "\n",
        "#Reorganização da matriz confusão para \n"
      ],
      "execution_count": null,
      "outputs": []
    },
    {
      "cell_type": "code",
      "metadata": {
        "id": "Ogco79Hx1hbX"
      },
      "source": [
        "from matplotlib import pyplot as plt\n",
        "import seaborn as sns"
      ],
      "execution_count": null,
      "outputs": []
    },
    {
      "cell_type": "code",
      "metadata": {
        "id": "I3y5PwDL1Q7f"
      },
      "source": [
        "#Visualização Gráfica da Matriz de Confusão\n"
      ],
      "execution_count": null,
      "outputs": []
    },
    {
      "cell_type": "code",
      "metadata": {
        "id": "8SRXmf5qz-mP"
      },
      "source": [
        "from sklearn.metrics import classification_report"
      ],
      "execution_count": null,
      "outputs": []
    },
    {
      "cell_type": "code",
      "metadata": {
        "id": "x73-vqKt0uLp"
      },
      "source": [
        "#Visualizaçaõ do relatório de classificação\n"
      ],
      "execution_count": null,
      "outputs": []
    },
    {
      "cell_type": "markdown",
      "metadata": {
        "id": "EJyTIB0Fsb4q"
      },
      "source": [
        "## 5 Usando o modelo com dados novos"
      ]
    },
    {
      "cell_type": "code",
      "metadata": {
        "id": "lnQ66H93seTi"
      },
      "source": [
        "#Predição no conjunto de testes\n"
      ],
      "execution_count": null,
      "outputs": []
    },
    {
      "cell_type": "code",
      "metadata": {
        "id": "61SN-NIc2O-6"
      },
      "source": [
        "#Organização dos dados para visualização da matriz\n",
        "\n",
        "#Reorganização da matriz confusão para \n"
      ],
      "execution_count": null,
      "outputs": []
    },
    {
      "cell_type": "code",
      "metadata": {
        "id": "Pb3ZSY1Q2bHX"
      },
      "source": [
        "#Visualização Gráfica da Matriz de Confusão\n"
      ],
      "execution_count": null,
      "outputs": []
    },
    {
      "cell_type": "code",
      "metadata": {
        "id": "0NlA28jY2v38"
      },
      "source": [
        "#Conferência da matriz de confusão\n"
      ],
      "execution_count": null,
      "outputs": []
    },
    {
      "cell_type": "code",
      "metadata": {
        "id": "U08fiqWF2fKn"
      },
      "source": [
        "#Visualizaçaõ do relatório de classificação\n"
      ],
      "execution_count": null,
      "outputs": []
    },
    {
      "cell_type": "markdown",
      "metadata": {
        "id": "HJ2K-tG7nLyw"
      },
      "source": [
        "## Referências\n",
        "\n",
        "Bezerra, Eduardo (2016) **Introdução à Aprendizagem Profunda**. Disponível em: https://www.researchgate.net/publication/309321510_Introducao_a_Aprendizagem_Profunda, julho de 2020.\n",
        "\n",
        "Géron, Aurélien (2019). **Mãos à Obra Aprendizagem de Máquina com Scikit-Learn & TensorFlow:** Conceitos, ferramentas e técnicas para a construção de sistemas inteligentes. Traduzido por Rafael Contatori. Alta Books.\n",
        "\n",
        "Grus, Joel (2016). **Data Science do Zero:** Primeiras regras com Python. Traduzido por Welington Nascimento. Alta Books.\n",
        "\n",
        "Han, Jiawei. Kamber, Micheline. Pei, Jian (2012) **Data Mining**: Concepts and techniques. Morgan Kaufmann, 3rd Edition.\n",
        "\n",
        "McKinney, Wes (2018). **Python para Análise de Dados**: tratamento de dados com pandas, numpy e iPython. Traduzido por Lúcia A. Kinoshita. Novatec.\n",
        "\n",
        "\n",
        "---\n",
        "\n",
        "**Leitura complementar e tutoriais**:\n",
        "* Variáveis *dummies*: https://www.delftstack.com/pt/howto/python-pandas/get-dummies-pandas/\n",
        "* Documentação do método pandas.get_dummies: https://pandas.pydata.org/docs/reference/api/pandas.get_dummies.html\n",
        "* Cálculo da curva de aprendizagem: https://scikit-learn.org/stable/modules/generated/sklearn.model_selection.learning_curve.html#sklearn.model_selection.learning_curve\n",
        "* Definição da estratégia de separação dos conjuntos de treino e validação no cálculo da curva de aprendizagem: https://scikit-learn.org/stable/modules/generated/sklearn.model_selection.ShuffleSplit.html#sklearn.model_selection.ShuffleSplit\n",
        "\n"
      ]
    }
  ]
}