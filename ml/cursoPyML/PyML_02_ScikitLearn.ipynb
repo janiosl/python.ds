{
  "nbformat": 4,
  "nbformat_minor": 0,
  "metadata": {
    "colab": {
      "name": "PyML_02_ScikitLearn.ipynb",
      "provenance": [],
      "authorship_tag": "ABX9TyNXDRFWX1xSH4jVf0+K9WeN",
      "include_colab_link": true
    },
    "kernelspec": {
      "name": "python3",
      "display_name": "Python 3"
    },
    "language_info": {
      "name": "python"
    }
  },
  "cells": [
    {
      "cell_type": "markdown",
      "metadata": {
        "id": "view-in-github",
        "colab_type": "text"
      },
      "source": [
        "<a href=\"https://colab.research.google.com/github/janiosl/python.ds/blob/master/ml/cursoPyML/PyML_02_ScikitLearn.ipynb\" target=\"_parent\"><img src=\"https://colab.research.google.com/assets/colab-badge.svg\" alt=\"Open In Colab\"/></a>"
      ]
    },
    {
      "cell_type": "markdown",
      "metadata": {
        "id": "RyTaqyurkmmg"
      },
      "source": [
        "# Python DS: Curso de Aprendizado de Máquina com Python"
      ]
    },
    {
      "cell_type": "markdown",
      "metadata": {
        "id": "9tweQxi_rJYw"
      },
      "source": [
        "# Aula 02: Explorando o Scikit-Learn\n",
        "\n",
        "* Aulas disponíveis em: https://www.youtube.com/playlist?list=PL0XxTDj23A1HYVt2EOttKvaE8UzQoAh3A\n",
        "\n",
        "* Alguns exemplos foram adaptados a partir de desafios propostos nas disciplinas Mineração de Dados, ministrada pelo Prof. Eduardo Ogasawara e Aprendizado de Máquina, ministrada pelo Prof. Eduardo Bezerra, ambas disciplinas do Mestrado em Ciência da Computação com ênfase em Ciência de Dados do [Programa PPCIC do CEFET/RJ](https://eic.cefet-rj.br/ppcic/)."
      ]
    },
    {
      "cell_type": "markdown",
      "metadata": {
        "id": "yYOb-kZskeRr"
      },
      "source": [
        "## 1 Obtendo dados e preparando dados"
      ]
    },
    {
      "cell_type": "code",
      "metadata": {
        "id": "XLca0UOPkUAi"
      },
      "source": [
        "#Biblioteca para carga dos dados\n",
        "import pandas as pd"
      ],
      "execution_count": null,
      "outputs": []
    },
    {
      "cell_type": "code",
      "metadata": {
        "id": "SRgm5tvomxh5"
      },
      "source": [
        "#Definção dos títulos das colunas\n",
        "headers = ['ESCT', 'NDEP', 'RENDA', 'TIPOR', 'VBEM', 'NPARC',\n",
        "           'VPARC', 'TEL', 'IDADE', 'RESMS', 'ENTRADA', 'CLASSE']\n",
        "\n",
        "#Carga do conjunto de treino\n",
        "#Conjunto de dados disponível do repositório do Prof. Eduardo Bezerra (CEFET/RJ)\n",
        "arquivo = 'https://raw.githubusercontent.com/MLRG-CEFET-RJ/ml-class/master/ml-t3/datasets/credtrain.txt'\n",
        "data_train = pd.read_csv(arquivo, sep='\\t', header=None, names=headers)\n",
        "\n",
        "#Carga do conjunto de teste\n",
        "#Conjunto de dados disponível do repositório do Prof. Eduardo Bezerra (CEFET/RJ)\n",
        "arquivo = 'https://raw.githubusercontent.com/MLRG-CEFET-RJ/ml-class/master/ml-t3/datasets/credtest.txt'\n",
        "data_test = pd.read_csv(arquivo, sep='\\t', header=None, names=headers)"
      ],
      "execution_count": null,
      "outputs": []
    },
    {
      "cell_type": "code",
      "metadata": {
        "id": "SzWHo4F_qzIv",
        "colab": {
          "base_uri": "https://localhost:8080/",
          "height": 203
        },
        "outputId": "a7e6b7ed-8dd4-46fa-fba3-6176953fef3c"
      },
      "source": [
        "data_test.head()"
      ],
      "execution_count": null,
      "outputs": [
        {
          "output_type": "execute_result",
          "data": {
            "text/html": [
              "<div>\n",
              "<style scoped>\n",
              "    .dataframe tbody tr th:only-of-type {\n",
              "        vertical-align: middle;\n",
              "    }\n",
              "\n",
              "    .dataframe tbody tr th {\n",
              "        vertical-align: top;\n",
              "    }\n",
              "\n",
              "    .dataframe thead th {\n",
              "        text-align: right;\n",
              "    }\n",
              "</style>\n",
              "<table border=\"1\" class=\"dataframe\">\n",
              "  <thead>\n",
              "    <tr style=\"text-align: right;\">\n",
              "      <th></th>\n",
              "      <th>ESCT</th>\n",
              "      <th>NDEP</th>\n",
              "      <th>RENDA</th>\n",
              "      <th>TIPOR</th>\n",
              "      <th>VBEM</th>\n",
              "      <th>NPARC</th>\n",
              "      <th>VPARC</th>\n",
              "      <th>TEL</th>\n",
              "      <th>IDADE</th>\n",
              "      <th>RESMS</th>\n",
              "      <th>ENTRADA</th>\n",
              "      <th>CLASSE</th>\n",
              "    </tr>\n",
              "  </thead>\n",
              "  <tbody>\n",
              "    <tr>\n",
              "      <th>0</th>\n",
              "      <td>0</td>\n",
              "      <td>2</td>\n",
              "      <td>500</td>\n",
              "      <td>1</td>\n",
              "      <td>618</td>\n",
              "      <td>10</td>\n",
              "      <td>85</td>\n",
              "      <td>0</td>\n",
              "      <td>36</td>\n",
              "      <td>6</td>\n",
              "      <td>0</td>\n",
              "      <td>0</td>\n",
              "    </tr>\n",
              "    <tr>\n",
              "      <th>1</th>\n",
              "      <td>1</td>\n",
              "      <td>0</td>\n",
              "      <td>813</td>\n",
              "      <td>0</td>\n",
              "      <td>552</td>\n",
              "      <td>4</td>\n",
              "      <td>119</td>\n",
              "      <td>0</td>\n",
              "      <td>43</td>\n",
              "      <td>48</td>\n",
              "      <td>119</td>\n",
              "      <td>1</td>\n",
              "    </tr>\n",
              "    <tr>\n",
              "      <th>2</th>\n",
              "      <td>3</td>\n",
              "      <td>0</td>\n",
              "      <td>350</td>\n",
              "      <td>0</td>\n",
              "      <td>488</td>\n",
              "      <td>12</td>\n",
              "      <td>66</td>\n",
              "      <td>0</td>\n",
              "      <td>43</td>\n",
              "      <td>0</td>\n",
              "      <td>0</td>\n",
              "      <td>1</td>\n",
              "    </tr>\n",
              "    <tr>\n",
              "      <th>3</th>\n",
              "      <td>1</td>\n",
              "      <td>0</td>\n",
              "      <td>1530</td>\n",
              "      <td>0</td>\n",
              "      <td>381</td>\n",
              "      <td>1</td>\n",
              "      <td>398</td>\n",
              "      <td>0</td>\n",
              "      <td>28</td>\n",
              "      <td>48</td>\n",
              "      <td>0</td>\n",
              "      <td>1</td>\n",
              "    </tr>\n",
              "    <tr>\n",
              "      <th>4</th>\n",
              "      <td>0</td>\n",
              "      <td>0</td>\n",
              "      <td>688</td>\n",
              "      <td>1</td>\n",
              "      <td>396</td>\n",
              "      <td>10</td>\n",
              "      <td>60</td>\n",
              "      <td>0</td>\n",
              "      <td>49</td>\n",
              "      <td>72</td>\n",
              "      <td>0</td>\n",
              "      <td>1</td>\n",
              "    </tr>\n",
              "  </tbody>\n",
              "</table>\n",
              "</div>"
            ],
            "text/plain": [
              "   ESCT  NDEP  RENDA  TIPOR  VBEM  ...  TEL  IDADE  RESMS  ENTRADA  CLASSE\n",
              "0     0     2    500      1   618  ...    0     36      6        0       0\n",
              "1     1     0    813      0   552  ...    0     43     48      119       1\n",
              "2     3     0    350      0   488  ...    0     43      0        0       1\n",
              "3     1     0   1530      0   381  ...    0     28     48        0       1\n",
              "4     0     0    688      1   396  ...    0     49     72        0       1\n",
              "\n",
              "[5 rows x 12 columns]"
            ]
          },
          "metadata": {},
          "execution_count": 5
        }
      ]
    },
    {
      "cell_type": "code",
      "metadata": {
        "id": "jhfq4WiUqaO5"
      },
      "source": [
        "#Biblioteca para transformação dos dados em matrizes\n",
        "import numpy as np"
      ],
      "execution_count": null,
      "outputs": []
    },
    {
      "cell_type": "code",
      "metadata": {
        "id": "-cdWsCthptKR"
      },
      "source": [
        "#Transoformação dos atributos e da classe alvo em matrizes\n",
        "X_train_ = np.array(data_train.iloc[:, 0:11])\n",
        "y_train_ = np.array(data_train['CLASSE'])\n",
        "\n",
        "#Transformação dos atributos e da classe alvo em matrizes\n",
        "X_test = np.array(data_test.iloc[:, 0:11])\n",
        "y_test = np.array(data_test['CLASSE'])"
      ],
      "execution_count": null,
      "outputs": []
    },
    {
      "cell_type": "code",
      "metadata": {
        "id": "04l5dvUFFsK_",
        "colab": {
          "base_uri": "https://localhost:8080/"
        },
        "outputId": "5256ae0a-19da-4ce5-eb49-2c88cd01937c"
      },
      "source": [
        "X_test"
      ],
      "execution_count": null,
      "outputs": [
        {
          "output_type": "execute_result",
          "data": {
            "text/plain": [
              "array([[   0,    2,  500, ...,   36,    6,    0],\n",
              "       [   1,    0,  813, ...,   43,   48,  119],\n",
              "       [   3,    0,  350, ...,   43,    0,    0],\n",
              "       ...,\n",
              "       [   0,    3, 1200, ...,   39,    6,    0],\n",
              "       [   1,    0,  600, ...,   33,    6,    0],\n",
              "       [   0,    0,  800, ...,   29,    6,    0]])"
            ]
          },
          "metadata": {},
          "execution_count": 8
        }
      ]
    },
    {
      "cell_type": "code",
      "metadata": {
        "id": "ktnui4-UqWwS"
      },
      "source": [
        "#Função para fatiamento dos conjuntos de dados\n",
        "from sklearn.model_selection import train_test_split"
      ],
      "execution_count": null,
      "outputs": []
    },
    {
      "cell_type": "code",
      "metadata": {
        "id": "brcYVWLbpW5p"
      },
      "source": [
        "#Separação de treino e validação\n",
        "X_train, X_val, y_train, y_val = train_test_split(X_train_, y_train_, #Conjuntos de dados\n",
        "                                                  train_size=0.8,     #Tamanho da fatia de treinamento\n",
        "                                                  random_state=31)"
      ],
      "execution_count": null,
      "outputs": []
    },
    {
      "cell_type": "code",
      "metadata": {
        "id": "B2-U1KM4oH6P",
        "colab": {
          "base_uri": "https://localhost:8080/"
        },
        "outputId": "148f1a90-c386-4f1d-dc71-62e232a84e91"
      },
      "source": [
        "#Checagem rápida de parte dos dados carregados\n",
        "print(data_train.head(),\n",
        "      data_test.head(),\n",
        "      X_train[0],\n",
        "      y_train[0],\n",
        "      sep='\\n\\n')"
      ],
      "execution_count": null,
      "outputs": [
        {
          "output_type": "stream",
          "name": "stdout",
          "text": [
            "   ESCT  NDEP  RENDA  TIPOR  VBEM  ...  TEL  IDADE  RESMS  ENTRADA  CLASSE\n",
            "0     1     0    360      0   313  ...    0     25     48        0       1\n",
            "1     0     0    350      1   468  ...    0     33      6        0       1\n",
            "2     0     0   1100      0   829  ...    0     56     48        0       1\n",
            "3     0     0   3000      0   552  ...    1     31     60        0       1\n",
            "4     1     0   1000      0   809  ...    0     24      7        0       1\n",
            "\n",
            "[5 rows x 12 columns]\n",
            "\n",
            "   ESCT  NDEP  RENDA  TIPOR  VBEM  ...  TEL  IDADE  RESMS  ENTRADA  CLASSE\n",
            "0     0     2    500      1   618  ...    0     36      6        0       0\n",
            "1     1     0    813      0   552  ...    0     43     48      119       1\n",
            "2     3     0    350      0   488  ...    0     43      0        0       1\n",
            "3     1     0   1530      0   381  ...    0     28     48        0       1\n",
            "4     0     0    688      1   396  ...    0     49     72        0       1\n",
            "\n",
            "[5 rows x 12 columns]\n",
            "\n",
            "[  1   0 649   1 311   2  69   1  40   0 190]\n",
            "\n",
            "0\n"
          ]
        }
      ]
    },
    {
      "cell_type": "code",
      "metadata": {
        "id": "LLecjOP-qAyF"
      },
      "source": [
        "data_train.describe()"
      ],
      "execution_count": null,
      "outputs": []
    },
    {
      "cell_type": "markdown",
      "metadata": {
        "id": "iuZvQxkqklMY"
      },
      "source": [
        "## 2 Criando e treinando um modelo"
      ]
    },
    {
      "cell_type": "code",
      "metadata": {
        "id": "zANrHq9HrteY"
      },
      "source": [
        "#Importando o algoritmo que será usado como base\n",
        "from sklearn.tree import DecisionTreeClassifier"
      ],
      "execution_count": null,
      "outputs": []
    },
    {
      "cell_type": "code",
      "metadata": {
        "id": "dLGcAw70rnDY"
      },
      "source": [
        "modelo = DecisionTreeClassifier(max_depth=3, random_state=31)"
      ],
      "execution_count": null,
      "outputs": []
    },
    {
      "cell_type": "code",
      "metadata": {
        "id": "vGeIEs_BsCcU"
      },
      "source": [
        "modelo"
      ],
      "execution_count": null,
      "outputs": []
    },
    {
      "cell_type": "code",
      "metadata": {
        "id": "xAlSJgjNrble"
      },
      "source": [
        "modelo.fit(X_train, y_train)"
      ],
      "execution_count": null,
      "outputs": []
    },
    {
      "cell_type": "code",
      "metadata": {
        "id": "Ajfj2Hn-sprX"
      },
      "source": [
        "#Visualização gráfica da árvore de decisão\n",
        "import os\n",
        "from graphviz import Source\n",
        "from sklearn.tree import export_graphviz\n",
        "\n",
        "export_graphviz(\n",
        "        modelo,\n",
        "        out_file='credit_tree.dot',\n",
        "        feature_names=headers[0:11],\n",
        "        rounded=True,\n",
        "        filled=True\n",
        "    )\n",
        "\n",
        "Source.from_file('credit_tree.dot')"
      ],
      "execution_count": null,
      "outputs": []
    },
    {
      "cell_type": "markdown",
      "metadata": {
        "id": "KuG7Okj2rRXx"
      },
      "source": [
        "## 3 Aplicando o modelo treinado"
      ]
    },
    {
      "cell_type": "code",
      "metadata": {
        "id": "KCDmLpM1rcMo"
      },
      "source": [
        "y_predVal = modelo.predict(X_val)"
      ],
      "execution_count": null,
      "outputs": []
    },
    {
      "cell_type": "code",
      "metadata": {
        "id": "T8OJh6YttczD"
      },
      "source": [
        "y_predVal[:10]"
      ],
      "execution_count": null,
      "outputs": []
    },
    {
      "cell_type": "markdown",
      "metadata": {
        "id": "eiJ-TfEsrW2U"
      },
      "source": [
        "## 4 Avaliando o desempenho do modelo"
      ]
    },
    {
      "cell_type": "code",
      "metadata": {
        "id": "FNEFGHn5rdEo"
      },
      "source": [
        "from sklearn.metrics import confusion_matrix"
      ],
      "execution_count": null,
      "outputs": []
    },
    {
      "cell_type": "code",
      "metadata": {
        "id": "6SgBO9kiz33m"
      },
      "source": [
        "confusion_matrix(y_val, y_predVal)"
      ],
      "execution_count": null,
      "outputs": []
    },
    {
      "cell_type": "code",
      "metadata": {
        "id": "aCILmeZR0-vv"
      },
      "source": [
        "#Organização dos dados para visualização da matriz\n",
        "cm = confusion_matrix(y_val, y_predVal)\n",
        "tn, fp, fn, tp = cm.ravel()\n",
        "\n",
        "#Reorganização da matriz confusão para \n",
        "cm_reorganizada = np.array([[tp, fn], [fp, tn]])\n",
        "cm_reorganizada"
      ],
      "execution_count": null,
      "outputs": []
    },
    {
      "cell_type": "code",
      "metadata": {
        "id": "Ogco79Hx1hbX"
      },
      "source": [
        "from matplotlib import pyplot as plt\n",
        "import seaborn as sns"
      ],
      "execution_count": null,
      "outputs": []
    },
    {
      "cell_type": "code",
      "metadata": {
        "id": "I3y5PwDL1Q7f"
      },
      "source": [
        "#Visualização Gráfica da Matriz de Confusão\n",
        "modelo_title = 'Decision Tree - Validação'\n",
        "fig = plt.figure(figsize=(10,8))\n",
        "fig.suptitle('Matriz de Confusão', fontsize=14, fontweight='bold')\n",
        "\n",
        "sns.heatmap(cm_reorganizada, cmap='Blues', annot=True)\n",
        "\n",
        "plt.title(modelo_title, fontsize=14)\n",
        "\n",
        "plt.xticks([])\n",
        "plt.yticks([])\n",
        "\n",
        "plt.annotate('TP', (0.3,0.5), fontweight='bold')\n",
        "plt.annotate('FN', (1.3,0.5), fontweight='bold')\n",
        "plt.annotate('FP', (0.3,1.5), fontweight='bold')\n",
        "plt.annotate('TN', (1.3,1.5), fontweight='bold')"
      ],
      "execution_count": null,
      "outputs": []
    },
    {
      "cell_type": "code",
      "metadata": {
        "id": "8SRXmf5qz-mP"
      },
      "source": [
        "from sklearn.metrics import classification_report"
      ],
      "execution_count": null,
      "outputs": []
    },
    {
      "cell_type": "code",
      "metadata": {
        "id": "x73-vqKt0uLp"
      },
      "source": [
        "print(classification_report(y_val, y_predVal))"
      ],
      "execution_count": null,
      "outputs": []
    },
    {
      "cell_type": "markdown",
      "metadata": {
        "id": "EJyTIB0Fsb4q"
      },
      "source": [
        "## 5 Usando o modelo com dados novos"
      ]
    },
    {
      "cell_type": "code",
      "metadata": {
        "id": "lnQ66H93seTi"
      },
      "source": [
        "y_pred = modelo.predict(X_test)"
      ],
      "execution_count": null,
      "outputs": []
    },
    {
      "cell_type": "code",
      "metadata": {
        "id": "61SN-NIc2O-6"
      },
      "source": [
        "#Organização dos dados para visualização da matriz\n",
        "cm = confusion_matrix(y_test, y_pred)\n",
        "tn, fp, fn, tp = cm.ravel()\n",
        "\n",
        "#Reorganização da matriz confusão para \n",
        "cm_reorganizada = np.array([[tp, fn], [fp, tn]])"
      ],
      "execution_count": null,
      "outputs": []
    },
    {
      "cell_type": "code",
      "metadata": {
        "id": "Pb3ZSY1Q2bHX"
      },
      "source": [
        "#Visualização Gráfica da Matriz de Confusão\n",
        "modelo_title = 'Decision Tree - Teste (FINAL)'\n",
        "fig = plt.figure(figsize=(10,8))\n",
        "fig.suptitle('Matriz de Confusão', fontsize=14, fontweight='bold')\n",
        "\n",
        "sns.heatmap(cm_reorganizada, cmap='Blues', annot=True)\n",
        "\n",
        "plt.title(modelo_title, fontsize=14)\n",
        "\n",
        "plt.xticks([])\n",
        "plt.yticks([])\n",
        "\n",
        "plt.annotate('TP', (0.3,0.5), fontweight='bold')\n",
        "plt.annotate('FN', (1.3,0.5), fontweight='bold')\n",
        "plt.annotate('FP', (0.3,1.5), fontweight='bold')\n",
        "plt.annotate('TN', (1.3,1.5), fontweight='bold')"
      ],
      "execution_count": null,
      "outputs": []
    },
    {
      "cell_type": "code",
      "metadata": {
        "id": "0NlA28jY2v38"
      },
      "source": [
        "cm_reorganizada"
      ],
      "execution_count": null,
      "outputs": []
    },
    {
      "cell_type": "code",
      "metadata": {
        "id": "U08fiqWF2fKn"
      },
      "source": [
        "print(classification_report(y_test, y_pred))"
      ],
      "execution_count": null,
      "outputs": []
    },
    {
      "cell_type": "markdown",
      "metadata": {
        "id": "HJ2K-tG7nLyw"
      },
      "source": [
        "## Referências\n",
        "\n",
        "Bezerra, Eduardo (2016) **Introdução à Aprendizagem Profunda**. Disponível em: https://www.researchgate.net/publication/309321510_Introducao_a_Aprendizagem_Profunda, julho de 2020.\n",
        "\n",
        "Géron, Aurélien (2019). **Mãos à Obra Aprendizagem de Máquina com Scikit-Learn & TensorFlow:** Conceitos, ferramentas e técnicas para a construção de sistemas inteligentes. Traduzido por Rafael Contatori. Alta Books.\n",
        "\n",
        "Grus, Joel (2016). **Data Science do Zero:** Primeiras regras com Python. Traduzido por Welington Nascimento. Alta Books.\n",
        "\n",
        "Han, Jiawei. Kamber, Micheline. Pei, Jian (2012) **Data Mining**: Concepts and techniques. Morgan Kaufmann, 3rd Edition.\n",
        "\n",
        "McKinney, Wes (2018). **Python para Análise de Dados**: tratamento de dados com pandas, numpy e iPython. Traduzido por Lúcia A. Kinoshita. Novatec.\n",
        "\n",
        "\n",
        "---\n",
        "\n",
        "**Leitura complementar e tutoriais**:\n",
        "* Variáveis *dummies*: https://www.delftstack.com/pt/howto/python-pandas/get-dummies-pandas/\n",
        "* Documentação do método pandas.get_dummies: https://pandas.pydata.org/docs/reference/api/pandas.get_dummies.html\n",
        "* Cálculo da curva de aprendizagem: https://scikit-learn.org/stable/modules/generated/sklearn.model_selection.learning_curve.html#sklearn.model_selection.learning_curve\n",
        "* Definição da estratégia de separação dos conjuntos de treino e validação no cálculo da curva de aprendizagem: https://scikit-learn.org/stable/modules/generated/sklearn.model_selection.ShuffleSplit.html#sklearn.model_selection.ShuffleSplit\n",
        "\n"
      ]
    }
  ]
}