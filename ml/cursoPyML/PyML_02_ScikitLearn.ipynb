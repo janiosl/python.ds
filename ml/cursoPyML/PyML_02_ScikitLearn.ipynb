{
  "nbformat": 4,
  "nbformat_minor": 0,
  "metadata": {
    "colab": {
      "name": "PyML_02_ScikitLearn.ipynb",
      "provenance": [],
      "authorship_tag": "ABX9TyMxkH5doeSci6VzkIsN9zTH",
      "include_colab_link": true
    },
    "kernelspec": {
      "name": "python3",
      "display_name": "Python 3"
    },
    "language_info": {
      "name": "python"
    }
  },
  "cells": [
    {
      "cell_type": "markdown",
      "metadata": {
        "id": "view-in-github",
        "colab_type": "text"
      },
      "source": [
        "<a href=\"https://colab.research.google.com/github/janiosl/python.ds/blob/master/ml/cursoPyML/PyML_02_ScikitLearn.ipynb\" target=\"_parent\"><img src=\"https://colab.research.google.com/assets/colab-badge.svg\" alt=\"Open In Colab\"/></a>"
      ]
    },
    {
      "cell_type": "markdown",
      "metadata": {
        "id": "RyTaqyurkmmg"
      },
      "source": [
        "# Python DS: Curso de Aprendizado de Máquina com Python"
      ]
    },
    {
      "cell_type": "markdown",
      "metadata": {
        "id": "9tweQxi_rJYw"
      },
      "source": [
        "# Aula 02: Explorando o Scikit-Learn\n",
        "\n",
        "* Aulas disponíveis em: https://www.youtube.com/playlist?list=PL0XxTDj23A1HYVt2EOttKvaE8UzQoAh3A\n",
        "\n",
        "* Alguns exemplos foram adaptados a partir de desafios propostos nas disciplinas Mineração de Dados, ministrada pelo Prof. Eduardo Ogasawara e Aprendizado de Máquina, ministrada pelo Prof. Eduardo Bezerra, ambas disciplinas do Mestrado em Ciência da Computação com ênfase em Ciência de Dados do [Programa PPCIC do CEFET/RJ](https://eic.cefet-rj.br/ppcic/)."
      ]
    },
    {
      "cell_type": "markdown",
      "metadata": {
        "id": "yYOb-kZskeRr"
      },
      "source": [
        "## 1 Obtendo dados e preparando dados"
      ]
    },
    {
      "cell_type": "code",
      "metadata": {
        "id": "XLca0UOPkUAi"
      },
      "source": [
        "#Biblioteca para carga dos dados\n",
        "import pandas as pd"
      ],
      "execution_count": 73,
      "outputs": []
    },
    {
      "cell_type": "code",
      "metadata": {
        "id": "SRgm5tvomxh5"
      },
      "source": [
        "#Definção dos títulos das colunas\n",
        "headers = ['ESCT', 'NDEP', 'RENDA', 'TIPOR', 'VBEM', 'NPARC',\n",
        "           'VPARC', 'TEL', 'IDADE', 'RESMS', 'ENTRADA', 'CLASSE']\n",
        "\n",
        "#Carga do conjunto de treino\n",
        "#Conjunto de dados disponível do repositório do Prof. Eduardo Bezerra (CEFET/RJ)\n",
        "arquivo = 'https://raw.githubusercontent.com/MLRG-CEFET-RJ/ml-class/master/ml-t3/datasets/credtrain.txt'\n",
        "data_train = pd.read_csv(arquivo, sep='\\t', header=None, names=headers)\n",
        "\n",
        "#Carga do conjunto de teste\n",
        "#Conjunto de dados disponível do repositório do Prof. Eduardo Bezerra (CEFET/RJ)\n",
        "arquivo = 'https://raw.githubusercontent.com/MLRG-CEFET-RJ/ml-class/master/ml-t3/datasets/credtest.txt'\n",
        "data_test = pd.read_csv(arquivo, sep='\\t', header=None, names=headers)"
      ],
      "execution_count": 74,
      "outputs": []
    },
    {
      "cell_type": "code",
      "metadata": {
        "id": "SzWHo4F_qzIv",
        "colab": {
          "base_uri": "https://localhost:8080/",
          "height": 0
        },
        "outputId": "07bb4340-8915-4dbf-e995-f9e388b7e720"
      },
      "source": [
        "data_test.head()"
      ],
      "execution_count": 75,
      "outputs": [
        {
          "output_type": "execute_result",
          "data": {
            "text/html": [
              "<div>\n",
              "<style scoped>\n",
              "    .dataframe tbody tr th:only-of-type {\n",
              "        vertical-align: middle;\n",
              "    }\n",
              "\n",
              "    .dataframe tbody tr th {\n",
              "        vertical-align: top;\n",
              "    }\n",
              "\n",
              "    .dataframe thead th {\n",
              "        text-align: right;\n",
              "    }\n",
              "</style>\n",
              "<table border=\"1\" class=\"dataframe\">\n",
              "  <thead>\n",
              "    <tr style=\"text-align: right;\">\n",
              "      <th></th>\n",
              "      <th>ESCT</th>\n",
              "      <th>NDEP</th>\n",
              "      <th>RENDA</th>\n",
              "      <th>TIPOR</th>\n",
              "      <th>VBEM</th>\n",
              "      <th>NPARC</th>\n",
              "      <th>VPARC</th>\n",
              "      <th>TEL</th>\n",
              "      <th>IDADE</th>\n",
              "      <th>RESMS</th>\n",
              "      <th>ENTRADA</th>\n",
              "      <th>CLASSE</th>\n",
              "    </tr>\n",
              "  </thead>\n",
              "  <tbody>\n",
              "    <tr>\n",
              "      <th>0</th>\n",
              "      <td>0</td>\n",
              "      <td>2</td>\n",
              "      <td>500</td>\n",
              "      <td>1</td>\n",
              "      <td>618</td>\n",
              "      <td>10</td>\n",
              "      <td>85</td>\n",
              "      <td>0</td>\n",
              "      <td>36</td>\n",
              "      <td>6</td>\n",
              "      <td>0</td>\n",
              "      <td>0</td>\n",
              "    </tr>\n",
              "    <tr>\n",
              "      <th>1</th>\n",
              "      <td>1</td>\n",
              "      <td>0</td>\n",
              "      <td>813</td>\n",
              "      <td>0</td>\n",
              "      <td>552</td>\n",
              "      <td>4</td>\n",
              "      <td>119</td>\n",
              "      <td>0</td>\n",
              "      <td>43</td>\n",
              "      <td>48</td>\n",
              "      <td>119</td>\n",
              "      <td>1</td>\n",
              "    </tr>\n",
              "    <tr>\n",
              "      <th>2</th>\n",
              "      <td>3</td>\n",
              "      <td>0</td>\n",
              "      <td>350</td>\n",
              "      <td>0</td>\n",
              "      <td>488</td>\n",
              "      <td>12</td>\n",
              "      <td>66</td>\n",
              "      <td>0</td>\n",
              "      <td>43</td>\n",
              "      <td>0</td>\n",
              "      <td>0</td>\n",
              "      <td>1</td>\n",
              "    </tr>\n",
              "    <tr>\n",
              "      <th>3</th>\n",
              "      <td>1</td>\n",
              "      <td>0</td>\n",
              "      <td>1530</td>\n",
              "      <td>0</td>\n",
              "      <td>381</td>\n",
              "      <td>1</td>\n",
              "      <td>398</td>\n",
              "      <td>0</td>\n",
              "      <td>28</td>\n",
              "      <td>48</td>\n",
              "      <td>0</td>\n",
              "      <td>1</td>\n",
              "    </tr>\n",
              "    <tr>\n",
              "      <th>4</th>\n",
              "      <td>0</td>\n",
              "      <td>0</td>\n",
              "      <td>688</td>\n",
              "      <td>1</td>\n",
              "      <td>396</td>\n",
              "      <td>10</td>\n",
              "      <td>60</td>\n",
              "      <td>0</td>\n",
              "      <td>49</td>\n",
              "      <td>72</td>\n",
              "      <td>0</td>\n",
              "      <td>1</td>\n",
              "    </tr>\n",
              "  </tbody>\n",
              "</table>\n",
              "</div>"
            ],
            "text/plain": [
              "   ESCT  NDEP  RENDA  TIPOR  VBEM  ...  TEL  IDADE  RESMS  ENTRADA  CLASSE\n",
              "0     0     2    500      1   618  ...    0     36      6        0       0\n",
              "1     1     0    813      0   552  ...    0     43     48      119       1\n",
              "2     3     0    350      0   488  ...    0     43      0        0       1\n",
              "3     1     0   1530      0   381  ...    0     28     48        0       1\n",
              "4     0     0    688      1   396  ...    0     49     72        0       1\n",
              "\n",
              "[5 rows x 12 columns]"
            ]
          },
          "metadata": {},
          "execution_count": 75
        }
      ]
    },
    {
      "cell_type": "code",
      "metadata": {
        "id": "jhfq4WiUqaO5"
      },
      "source": [
        "#Biblioteca para transformação dos dados em matrizes\n",
        "import numpy as np"
      ],
      "execution_count": 76,
      "outputs": []
    },
    {
      "cell_type": "code",
      "metadata": {
        "id": "-cdWsCthptKR"
      },
      "source": [
        "#Transoformação dos atributos e da classe alvo em matrizes\n",
        "X_train_ = np.array(data_train.iloc[:, 0:11])\n",
        "y_train_ = np.array(data_train['CLASSE'])\n",
        "\n",
        "#Transformação dos atributos e da classe alvo em matrizes\n",
        "X_test = np.array(data_test.iloc[:, 0:11])\n",
        "y_test = np.array(data_test['CLASSE'])"
      ],
      "execution_count": 77,
      "outputs": []
    },
    {
      "cell_type": "code",
      "metadata": {
        "id": "04l5dvUFFsK_",
        "colab": {
          "base_uri": "https://localhost:8080/"
        },
        "outputId": "750458bc-05a3-4784-bc3c-cc87f0f143ee"
      },
      "source": [
        "X_test"
      ],
      "execution_count": 78,
      "outputs": [
        {
          "output_type": "execute_result",
          "data": {
            "text/plain": [
              "array([[   0,    2,  500, ...,   36,    6,    0],\n",
              "       [   1,    0,  813, ...,   43,   48,  119],\n",
              "       [   3,    0,  350, ...,   43,    0,    0],\n",
              "       ...,\n",
              "       [   0,    3, 1200, ...,   39,    6,    0],\n",
              "       [   1,    0,  600, ...,   33,    6,    0],\n",
              "       [   0,    0,  800, ...,   29,    6,    0]])"
            ]
          },
          "metadata": {},
          "execution_count": 78
        }
      ]
    },
    {
      "cell_type": "code",
      "metadata": {
        "id": "ktnui4-UqWwS"
      },
      "source": [
        "#Função para fatiamento dos conjuntos de dados\n",
        "from sklearn.model_selection import train_test_split"
      ],
      "execution_count": 79,
      "outputs": []
    },
    {
      "cell_type": "code",
      "metadata": {
        "id": "brcYVWLbpW5p"
      },
      "source": [
        "#Separação de treino e validação\n",
        "X_train, X_val, y_train, y_val = train_test_split(X_train_, y_train_, #Conjuntos de dados\n",
        "                                                  train_size=0.8,     #Tamanho da fatia de treinamento\n",
        "                                                  random_state=31)"
      ],
      "execution_count": 80,
      "outputs": []
    },
    {
      "cell_type": "code",
      "metadata": {
        "id": "B2-U1KM4oH6P",
        "colab": {
          "base_uri": "https://localhost:8080/"
        },
        "outputId": "696f8d0f-6dad-4ef5-ffbc-09d795712ed7"
      },
      "source": [
        "#Checagem rápida de parte dos dados carregados\n",
        "print(data_train.head(),\n",
        "      data_test.head(),\n",
        "      X_train[0],\n",
        "      y_train[0],\n",
        "      sep='\\n\\n')"
      ],
      "execution_count": 81,
      "outputs": [
        {
          "output_type": "stream",
          "name": "stdout",
          "text": [
            "   ESCT  NDEP  RENDA  TIPOR  VBEM  ...  TEL  IDADE  RESMS  ENTRADA  CLASSE\n",
            "0     1     0    360      0   313  ...    0     25     48        0       1\n",
            "1     0     0    350      1   468  ...    0     33      6        0       1\n",
            "2     0     0   1100      0   829  ...    0     56     48        0       1\n",
            "3     0     0   3000      0   552  ...    1     31     60        0       1\n",
            "4     1     0   1000      0   809  ...    0     24      7        0       1\n",
            "\n",
            "[5 rows x 12 columns]\n",
            "\n",
            "   ESCT  NDEP  RENDA  TIPOR  VBEM  ...  TEL  IDADE  RESMS  ENTRADA  CLASSE\n",
            "0     0     2    500      1   618  ...    0     36      6        0       0\n",
            "1     1     0    813      0   552  ...    0     43     48      119       1\n",
            "2     3     0    350      0   488  ...    0     43      0        0       1\n",
            "3     1     0   1530      0   381  ...    0     28     48        0       1\n",
            "4     0     0    688      1   396  ...    0     49     72        0       1\n",
            "\n",
            "[5 rows x 12 columns]\n",
            "\n",
            "[  1   0 649   1 311   2  69   1  40   0 190]\n",
            "\n",
            "0\n"
          ]
        }
      ]
    },
    {
      "cell_type": "code",
      "metadata": {
        "id": "LLecjOP-qAyF",
        "colab": {
          "base_uri": "https://localhost:8080/",
          "height": 0
        },
        "outputId": "e491623d-94a1-40d8-a37b-947e897d35b3"
      },
      "source": [
        "data_train.describe()"
      ],
      "execution_count": 82,
      "outputs": [
        {
          "output_type": "execute_result",
          "data": {
            "text/html": [
              "<div>\n",
              "<style scoped>\n",
              "    .dataframe tbody tr th:only-of-type {\n",
              "        vertical-align: middle;\n",
              "    }\n",
              "\n",
              "    .dataframe tbody tr th {\n",
              "        vertical-align: top;\n",
              "    }\n",
              "\n",
              "    .dataframe thead th {\n",
              "        text-align: right;\n",
              "    }\n",
              "</style>\n",
              "<table border=\"1\" class=\"dataframe\">\n",
              "  <thead>\n",
              "    <tr style=\"text-align: right;\">\n",
              "      <th></th>\n",
              "      <th>ESCT</th>\n",
              "      <th>NDEP</th>\n",
              "      <th>RENDA</th>\n",
              "      <th>TIPOR</th>\n",
              "      <th>VBEM</th>\n",
              "      <th>NPARC</th>\n",
              "      <th>VPARC</th>\n",
              "      <th>TEL</th>\n",
              "      <th>IDADE</th>\n",
              "      <th>RESMS</th>\n",
              "      <th>ENTRADA</th>\n",
              "      <th>CLASSE</th>\n",
              "    </tr>\n",
              "  </thead>\n",
              "  <tbody>\n",
              "    <tr>\n",
              "      <th>count</th>\n",
              "      <td>1500.000000</td>\n",
              "      <td>1500.000000</td>\n",
              "      <td>1500.00000</td>\n",
              "      <td>1500.000000</td>\n",
              "      <td>1500.000000</td>\n",
              "      <td>1500.000000</td>\n",
              "      <td>1500.000000</td>\n",
              "      <td>1500.000000</td>\n",
              "      <td>1500.000000</td>\n",
              "      <td>1500.000000</td>\n",
              "      <td>1500.000000</td>\n",
              "      <td>1500.000000</td>\n",
              "    </tr>\n",
              "    <tr>\n",
              "      <th>mean</th>\n",
              "      <td>0.512000</td>\n",
              "      <td>0.126667</td>\n",
              "      <td>984.51200</td>\n",
              "      <td>0.445333</td>\n",
              "      <td>562.031333</td>\n",
              "      <td>8.392667</td>\n",
              "      <td>102.247333</td>\n",
              "      <td>0.134000</td>\n",
              "      <td>41.210667</td>\n",
              "      <td>31.528667</td>\n",
              "      <td>32.255333</td>\n",
              "      <td>0.476667</td>\n",
              "    </tr>\n",
              "    <tr>\n",
              "      <th>std</th>\n",
              "      <td>0.659909</td>\n",
              "      <td>0.572865</td>\n",
              "      <td>905.53292</td>\n",
              "      <td>0.497168</td>\n",
              "      <td>265.690646</td>\n",
              "      <td>3.609131</td>\n",
              "      <td>62.987325</td>\n",
              "      <td>0.340766</td>\n",
              "      <td>13.202266</td>\n",
              "      <td>52.662099</td>\n",
              "      <td>94.307614</td>\n",
              "      <td>0.499622</td>\n",
              "    </tr>\n",
              "    <tr>\n",
              "      <th>min</th>\n",
              "      <td>0.000000</td>\n",
              "      <td>0.000000</td>\n",
              "      <td>300.00000</td>\n",
              "      <td>0.000000</td>\n",
              "      <td>300.000000</td>\n",
              "      <td>1.000000</td>\n",
              "      <td>50.000000</td>\n",
              "      <td>0.000000</td>\n",
              "      <td>19.000000</td>\n",
              "      <td>0.000000</td>\n",
              "      <td>0.000000</td>\n",
              "      <td>0.000000</td>\n",
              "    </tr>\n",
              "    <tr>\n",
              "      <th>25%</th>\n",
              "      <td>0.000000</td>\n",
              "      <td>0.000000</td>\n",
              "      <td>467.50000</td>\n",
              "      <td>0.000000</td>\n",
              "      <td>410.000000</td>\n",
              "      <td>6.000000</td>\n",
              "      <td>66.000000</td>\n",
              "      <td>0.000000</td>\n",
              "      <td>31.000000</td>\n",
              "      <td>6.000000</td>\n",
              "      <td>0.000000</td>\n",
              "      <td>0.000000</td>\n",
              "    </tr>\n",
              "    <tr>\n",
              "      <th>50%</th>\n",
              "      <td>0.000000</td>\n",
              "      <td>0.000000</td>\n",
              "      <td>650.00000</td>\n",
              "      <td>0.000000</td>\n",
              "      <td>490.000000</td>\n",
              "      <td>10.000000</td>\n",
              "      <td>83.000000</td>\n",
              "      <td>0.000000</td>\n",
              "      <td>39.000000</td>\n",
              "      <td>6.000000</td>\n",
              "      <td>0.000000</td>\n",
              "      <td>0.000000</td>\n",
              "    </tr>\n",
              "    <tr>\n",
              "      <th>75%</th>\n",
              "      <td>1.000000</td>\n",
              "      <td>0.000000</td>\n",
              "      <td>1200.00000</td>\n",
              "      <td>1.000000</td>\n",
              "      <td>618.000000</td>\n",
              "      <td>10.000000</td>\n",
              "      <td>118.000000</td>\n",
              "      <td>0.000000</td>\n",
              "      <td>52.000000</td>\n",
              "      <td>48.000000</td>\n",
              "      <td>0.000000</td>\n",
              "      <td>1.000000</td>\n",
              "    </tr>\n",
              "    <tr>\n",
              "      <th>max</th>\n",
              "      <td>3.000000</td>\n",
              "      <td>7.000000</td>\n",
              "      <td>8000.00000</td>\n",
              "      <td>1.000000</td>\n",
              "      <td>4000.000000</td>\n",
              "      <td>24.000000</td>\n",
              "      <td>711.000000</td>\n",
              "      <td>1.000000</td>\n",
              "      <td>70.000000</td>\n",
              "      <td>420.000000</td>\n",
              "      <td>1300.000000</td>\n",
              "      <td>1.000000</td>\n",
              "    </tr>\n",
              "  </tbody>\n",
              "</table>\n",
              "</div>"
            ],
            "text/plain": [
              "              ESCT         NDEP  ...      ENTRADA       CLASSE\n",
              "count  1500.000000  1500.000000  ...  1500.000000  1500.000000\n",
              "mean      0.512000     0.126667  ...    32.255333     0.476667\n",
              "std       0.659909     0.572865  ...    94.307614     0.499622\n",
              "min       0.000000     0.000000  ...     0.000000     0.000000\n",
              "25%       0.000000     0.000000  ...     0.000000     0.000000\n",
              "50%       0.000000     0.000000  ...     0.000000     0.000000\n",
              "75%       1.000000     0.000000  ...     0.000000     1.000000\n",
              "max       3.000000     7.000000  ...  1300.000000     1.000000\n",
              "\n",
              "[8 rows x 12 columns]"
            ]
          },
          "metadata": {},
          "execution_count": 82
        }
      ]
    },
    {
      "cell_type": "markdown",
      "metadata": {
        "id": "iuZvQxkqklMY"
      },
      "source": [
        "## 2 Criando e treinando um modelo"
      ]
    },
    {
      "cell_type": "code",
      "metadata": {
        "id": "zANrHq9HrteY"
      },
      "source": [
        "#Importando o algoritmo que será usado como base\n",
        "from sklearn.tree import DecisionTreeClassifier"
      ],
      "execution_count": 83,
      "outputs": []
    },
    {
      "cell_type": "code",
      "metadata": {
        "id": "dLGcAw70rnDY"
      },
      "source": [
        "#Criação do modelo\n",
        "modelo = DecisionTreeClassifier(max_depth=3,\n",
        "                                random_state=31)"
      ],
      "execution_count": 84,
      "outputs": []
    },
    {
      "cell_type": "code",
      "metadata": {
        "id": "vGeIEs_BsCcU",
        "colab": {
          "base_uri": "https://localhost:8080/"
        },
        "outputId": "103986ad-58cf-4464-892e-a91120c60f65"
      },
      "source": [
        "#Conferência do moddelo\n",
        "modelo"
      ],
      "execution_count": 85,
      "outputs": [
        {
          "output_type": "execute_result",
          "data": {
            "text/plain": [
              "DecisionTreeClassifier(max_depth=3, random_state=31)"
            ]
          },
          "metadata": {},
          "execution_count": 85
        }
      ]
    },
    {
      "cell_type": "code",
      "metadata": {
        "id": "xAlSJgjNrble",
        "colab": {
          "base_uri": "https://localhost:8080/"
        },
        "outputId": "6b7dc809-7602-4067-afa3-b865da3c8f76"
      },
      "source": [
        "#Treinamento do modelo\n",
        "modelo.fit(X_train,\n",
        "           y_train)"
      ],
      "execution_count": 86,
      "outputs": [
        {
          "output_type": "execute_result",
          "data": {
            "text/plain": [
              "DecisionTreeClassifier(max_depth=3, random_state=31)"
            ]
          },
          "metadata": {},
          "execution_count": 86
        }
      ]
    },
    {
      "cell_type": "code",
      "metadata": {
        "id": "Ajfj2Hn-sprX"
      },
      "source": [
        "#Visualização gráfica da árvore de decisão\n",
        "import os\n",
        "from graphviz import Source\n",
        "from sklearn.tree import export_graphviz\n",
        "\n",
        "export_graphviz(modelo,\n",
        "                out_file='credit_tree.dot', #Arquivo para armazenamento do modelo gráfico\n",
        "                feature_names=headers[0:11], #Nomes dos atributos\n",
        "                rounded=True,\n",
        "                filled=True\n",
        "                )"
      ],
      "execution_count": 87,
      "outputs": []
    },
    {
      "cell_type": "code",
      "metadata": {
        "colab": {
          "base_uri": "https://localhost:8080/",
          "height": 0
        },
        "id": "OcCuJ1_EscEa",
        "outputId": "ee62a656-72ca-4542-f76d-d324f7de1fb8"
      },
      "source": [
        "#Uso do arquivo gerado para visualizar a árvore\n",
        "Source.from_file('credit_tree.dot')"
      ],
      "execution_count": 88,
      "outputs": [
        {
          "output_type": "execute_result",
          "data": {
            "text/plain": [
              "<graphviz.files.Source at 0x7f41ad4022d0>"
            ],
            "image/svg+xml": "<?xml version=\"1.0\" encoding=\"UTF-8\" standalone=\"no\"?>\n<!DOCTYPE svg PUBLIC \"-//W3C//DTD SVG 1.1//EN\"\n \"http://www.w3.org/Graphics/SVG/1.1/DTD/svg11.dtd\">\n<!-- Generated by graphviz version 2.40.1 (20161225.0304)\n -->\n<!-- Title: Tree Pages: 1 -->\n<svg width=\"800pt\" height=\"373pt\"\n viewBox=\"0.00 0.00 800.00 373.00\" xmlns=\"http://www.w3.org/2000/svg\" xmlns:xlink=\"http://www.w3.org/1999/xlink\">\n<g id=\"graph0\" class=\"graph\" transform=\"scale(1 1) rotate(0) translate(4 369)\">\n<title>Tree</title>\n<polygon fill=\"#ffffff\" stroke=\"transparent\" points=\"-4,4 -4,-369 796,-369 796,4 -4,4\"/>\n<!-- 0 -->\n<g id=\"node1\" class=\"node\">\n<title>0</title>\n<path fill=\"#fcf1e9\" stroke=\"#000000\" d=\"M452,-365C452,-365 344,-365 344,-365 338,-365 332,-359 332,-353 332,-353 332,-309 332,-309 332,-303 338,-297 344,-297 344,-297 452,-297 452,-297 458,-297 464,-303 464,-309 464,-309 464,-353 464,-353 464,-359 458,-365 452,-365\"/>\n<text text-anchor=\"middle\" x=\"398\" y=\"-349.8\" font-family=\"Helvetica,sans-Serif\" font-size=\"14.00\" fill=\"#000000\">TIPOR &lt;= 0.5</text>\n<text text-anchor=\"middle\" x=\"398\" y=\"-334.8\" font-family=\"Helvetica,sans-Serif\" font-size=\"14.00\" fill=\"#000000\">gini = 0.498</text>\n<text text-anchor=\"middle\" x=\"398\" y=\"-319.8\" font-family=\"Helvetica,sans-Serif\" font-size=\"14.00\" fill=\"#000000\">samples = 1200</text>\n<text text-anchor=\"middle\" x=\"398\" y=\"-304.8\" font-family=\"Helvetica,sans-Serif\" font-size=\"14.00\" fill=\"#000000\">value = [636, 564]</text>\n</g>\n<!-- 1 -->\n<g id=\"node2\" class=\"node\">\n<title>1</title>\n<path fill=\"#8ec7f0\" stroke=\"#000000\" d=\"M377,-261C377,-261 269,-261 269,-261 263,-261 257,-255 257,-249 257,-249 257,-205 257,-205 257,-199 263,-193 269,-193 269,-193 377,-193 377,-193 383,-193 389,-199 389,-205 389,-205 389,-249 389,-249 389,-255 383,-261 377,-261\"/>\n<text text-anchor=\"middle\" x=\"323\" y=\"-245.8\" font-family=\"Helvetica,sans-Serif\" font-size=\"14.00\" fill=\"#000000\">IDADE &lt;= 54.5</text>\n<text text-anchor=\"middle\" x=\"323\" y=\"-230.8\" font-family=\"Helvetica,sans-Serif\" font-size=\"14.00\" fill=\"#000000\">gini = 0.421</text>\n<text text-anchor=\"middle\" x=\"323\" y=\"-215.8\" font-family=\"Helvetica,sans-Serif\" font-size=\"14.00\" fill=\"#000000\">samples = 650</text>\n<text text-anchor=\"middle\" x=\"323\" y=\"-200.8\" font-family=\"Helvetica,sans-Serif\" font-size=\"14.00\" fill=\"#000000\">value = [196, 454]</text>\n</g>\n<!-- 0&#45;&gt;1 -->\n<g id=\"edge1\" class=\"edge\">\n<title>0&#45;&gt;1</title>\n<path fill=\"none\" stroke=\"#000000\" d=\"M373.4422,-296.9465C367.0968,-288.1475 360.1879,-278.5672 353.5764,-269.3993\"/>\n<polygon fill=\"#000000\" stroke=\"#000000\" points=\"356.3011,-267.1937 347.613,-261.13 350.6234,-271.2882 356.3011,-267.1937\"/>\n<text text-anchor=\"middle\" x=\"343.6148\" y=\"-282.1082\" font-family=\"Helvetica,sans-Serif\" font-size=\"14.00\" fill=\"#000000\">True</text>\n</g>\n<!-- 8 -->\n<g id=\"node9\" class=\"node\">\n<title>8</title>\n<path fill=\"#eca06a\" stroke=\"#000000\" d=\"M527,-261C527,-261 419,-261 419,-261 413,-261 407,-255 407,-249 407,-249 407,-205 407,-205 407,-199 413,-193 419,-193 419,-193 527,-193 527,-193 533,-193 539,-199 539,-205 539,-205 539,-249 539,-249 539,-255 533,-261 527,-261\"/>\n<text text-anchor=\"middle\" x=\"473\" y=\"-245.8\" font-family=\"Helvetica,sans-Serif\" font-size=\"14.00\" fill=\"#000000\">IDADE &lt;= 25.5</text>\n<text text-anchor=\"middle\" x=\"473\" y=\"-230.8\" font-family=\"Helvetica,sans-Serif\" font-size=\"14.00\" fill=\"#000000\">gini = 0.32</text>\n<text text-anchor=\"middle\" x=\"473\" y=\"-215.8\" font-family=\"Helvetica,sans-Serif\" font-size=\"14.00\" fill=\"#000000\">samples = 550</text>\n<text text-anchor=\"middle\" x=\"473\" y=\"-200.8\" font-family=\"Helvetica,sans-Serif\" font-size=\"14.00\" fill=\"#000000\">value = [440, 110]</text>\n</g>\n<!-- 0&#45;&gt;8 -->\n<g id=\"edge8\" class=\"edge\">\n<title>0&#45;&gt;8</title>\n<path fill=\"none\" stroke=\"#000000\" d=\"M422.5578,-296.9465C428.9032,-288.1475 435.8121,-278.5672 442.4236,-269.3993\"/>\n<polygon fill=\"#000000\" stroke=\"#000000\" points=\"445.3766,-271.2882 448.387,-261.13 439.6989,-267.1937 445.3766,-271.2882\"/>\n<text text-anchor=\"middle\" x=\"452.3852\" y=\"-282.1082\" font-family=\"Helvetica,sans-Serif\" font-size=\"14.00\" fill=\"#000000\">False</text>\n</g>\n<!-- 2 -->\n<g id=\"node3\" class=\"node\">\n<title>2</title>\n<path fill=\"#3e9fe6\" stroke=\"#000000\" d=\"M232,-157C232,-157 132,-157 132,-157 126,-157 120,-151 120,-145 120,-145 120,-101 120,-101 120,-95 126,-89 132,-89 132,-89 232,-89 232,-89 238,-89 244,-95 244,-101 244,-101 244,-145 244,-145 244,-151 238,-157 232,-157\"/>\n<text text-anchor=\"middle\" x=\"182\" y=\"-141.8\" font-family=\"Helvetica,sans-Serif\" font-size=\"14.00\" fill=\"#000000\">IDADE &lt;= 53.5</text>\n<text text-anchor=\"middle\" x=\"182\" y=\"-126.8\" font-family=\"Helvetica,sans-Serif\" font-size=\"14.00\" fill=\"#000000\">gini = 0.045</text>\n<text text-anchor=\"middle\" x=\"182\" y=\"-111.8\" font-family=\"Helvetica,sans-Serif\" font-size=\"14.00\" fill=\"#000000\">samples = 437</text>\n<text text-anchor=\"middle\" x=\"182\" y=\"-96.8\" font-family=\"Helvetica,sans-Serif\" font-size=\"14.00\" fill=\"#000000\">value = [10, 427]</text>\n</g>\n<!-- 1&#45;&gt;2 -->\n<g id=\"edge2\" class=\"edge\">\n<title>1&#45;&gt;2</title>\n<path fill=\"none\" stroke=\"#000000\" d=\"M276.8313,-192.9465C263.9281,-183.4293 249.7855,-172.9978 236.4517,-163.163\"/>\n<polygon fill=\"#000000\" stroke=\"#000000\" points=\"238.3977,-160.2492 228.2724,-157.13 234.2425,-165.8826 238.3977,-160.2492\"/>\n</g>\n<!-- 5 -->\n<g id=\"node6\" class=\"node\">\n<title>5</title>\n<path fill=\"#e99356\" stroke=\"#000000\" d=\"M379.5,-157C379.5,-157 274.5,-157 274.5,-157 268.5,-157 262.5,-151 262.5,-145 262.5,-145 262.5,-101 262.5,-101 262.5,-95 268.5,-89 274.5,-89 274.5,-89 379.5,-89 379.5,-89 385.5,-89 391.5,-95 391.5,-101 391.5,-101 391.5,-145 391.5,-145 391.5,-151 385.5,-157 379.5,-157\"/>\n<text text-anchor=\"middle\" x=\"327\" y=\"-141.8\" font-family=\"Helvetica,sans-Serif\" font-size=\"14.00\" fill=\"#000000\">RESMS &lt;= 108.0</text>\n<text text-anchor=\"middle\" x=\"327\" y=\"-126.8\" font-family=\"Helvetica,sans-Serif\" font-size=\"14.00\" fill=\"#000000\">gini = 0.221</text>\n<text text-anchor=\"middle\" x=\"327\" y=\"-111.8\" font-family=\"Helvetica,sans-Serif\" font-size=\"14.00\" fill=\"#000000\">samples = 213</text>\n<text text-anchor=\"middle\" x=\"327\" y=\"-96.8\" font-family=\"Helvetica,sans-Serif\" font-size=\"14.00\" fill=\"#000000\">value = [186, 27]</text>\n</g>\n<!-- 1&#45;&gt;5 -->\n<g id=\"edge5\" class=\"edge\">\n<title>1&#45;&gt;5</title>\n<path fill=\"none\" stroke=\"#000000\" d=\"M324.3097,-192.9465C324.624,-184.776 324.9642,-175.9318 325.2935,-167.3697\"/>\n<polygon fill=\"#000000\" stroke=\"#000000\" points=\"328.8003,-167.2572 325.6873,-157.13 321.8055,-166.9881 328.8003,-167.2572\"/>\n</g>\n<!-- 3 -->\n<g id=\"node4\" class=\"node\">\n<title>3</title>\n<path fill=\"#3c9ee5\" stroke=\"#000000\" d=\"M104,-53C104,-53 12,-53 12,-53 6,-53 0,-47 0,-41 0,-41 0,-12 0,-12 0,-6 6,0 12,0 12,0 104,0 104,0 110,0 116,-6 116,-12 116,-12 116,-41 116,-41 116,-47 110,-53 104,-53\"/>\n<text text-anchor=\"middle\" x=\"58\" y=\"-37.8\" font-family=\"Helvetica,sans-Serif\" font-size=\"14.00\" fill=\"#000000\">gini = 0.028</text>\n<text text-anchor=\"middle\" x=\"58\" y=\"-22.8\" font-family=\"Helvetica,sans-Serif\" font-size=\"14.00\" fill=\"#000000\">samples = 426</text>\n<text text-anchor=\"middle\" x=\"58\" y=\"-7.8\" font-family=\"Helvetica,sans-Serif\" font-size=\"14.00\" fill=\"#000000\">value = [6, 420]</text>\n</g>\n<!-- 2&#45;&gt;3 -->\n<g id=\"edge3\" class=\"edge\">\n<title>2&#45;&gt;3</title>\n<path fill=\"none\" stroke=\"#000000\" d=\"M138.2822,-88.9777C126.0451,-79.4545 112.7645,-69.1191 100.5934,-59.6473\"/>\n<polygon fill=\"#000000\" stroke=\"#000000\" points=\"102.4125,-56.628 92.3711,-53.2485 98.1134,-62.1523 102.4125,-56.628\"/>\n</g>\n<!-- 4 -->\n<g id=\"node5\" class=\"node\">\n<title>4</title>\n<path fill=\"#aad5f4\" stroke=\"#000000\" d=\"M226,-53C226,-53 146,-53 146,-53 140,-53 134,-47 134,-41 134,-41 134,-12 134,-12 134,-6 140,0 146,0 146,0 226,0 226,0 232,0 238,-6 238,-12 238,-12 238,-41 238,-41 238,-47 232,-53 226,-53\"/>\n<text text-anchor=\"middle\" x=\"186\" y=\"-37.8\" font-family=\"Helvetica,sans-Serif\" font-size=\"14.00\" fill=\"#000000\">gini = 0.463</text>\n<text text-anchor=\"middle\" x=\"186\" y=\"-22.8\" font-family=\"Helvetica,sans-Serif\" font-size=\"14.00\" fill=\"#000000\">samples = 11</text>\n<text text-anchor=\"middle\" x=\"186\" y=\"-7.8\" font-family=\"Helvetica,sans-Serif\" font-size=\"14.00\" fill=\"#000000\">value = [4, 7]</text>\n</g>\n<!-- 2&#45;&gt;4 -->\n<g id=\"edge4\" class=\"edge\">\n<title>2&#45;&gt;4</title>\n<path fill=\"none\" stroke=\"#000000\" d=\"M183.4103,-88.9777C183.7519,-80.7364 184.1187,-71.887 184.4657,-63.5153\"/>\n<polygon fill=\"#000000\" stroke=\"#000000\" points=\"187.974,-63.3849 184.8913,-53.2485 180.98,-63.0949 187.974,-63.3849\"/>\n</g>\n<!-- 6 -->\n<g id=\"node7\" class=\"node\">\n<title>6</title>\n<path fill=\"#e88d4c\" stroke=\"#000000\" d=\"M374,-53C374,-53 274,-53 274,-53 268,-53 262,-47 262,-41 262,-41 262,-12 262,-12 262,-6 268,0 274,0 274,0 374,0 374,0 380,0 386,-6 386,-12 386,-12 386,-41 386,-41 386,-47 380,-53 374,-53\"/>\n<text text-anchor=\"middle\" x=\"324\" y=\"-37.8\" font-family=\"Helvetica,sans-Serif\" font-size=\"14.00\" fill=\"#000000\">gini = 0.162</text>\n<text text-anchor=\"middle\" x=\"324\" y=\"-22.8\" font-family=\"Helvetica,sans-Serif\" font-size=\"14.00\" fill=\"#000000\">samples = 202</text>\n<text text-anchor=\"middle\" x=\"324\" y=\"-7.8\" font-family=\"Helvetica,sans-Serif\" font-size=\"14.00\" fill=\"#000000\">value = [184, 18]</text>\n</g>\n<!-- 5&#45;&gt;6 -->\n<g id=\"edge6\" class=\"edge\">\n<title>5&#45;&gt;6</title>\n<path fill=\"none\" stroke=\"#000000\" d=\"M325.9423,-88.9777C325.6861,-80.7364 325.411,-71.887 325.1507,-63.5153\"/>\n<polygon fill=\"#000000\" stroke=\"#000000\" points=\"328.6407,-63.1349 324.8316,-53.2485 321.6441,-63.3524 328.6407,-63.1349\"/>\n</g>\n<!-- 7 -->\n<g id=\"node8\" class=\"node\">\n<title>7</title>\n<path fill=\"#65b3eb\" stroke=\"#000000\" d=\"M496,-53C496,-53 416,-53 416,-53 410,-53 404,-47 404,-41 404,-41 404,-12 404,-12 404,-6 410,0 416,0 416,0 496,0 496,0 502,0 508,-6 508,-12 508,-12 508,-41 508,-41 508,-47 502,-53 496,-53\"/>\n<text text-anchor=\"middle\" x=\"456\" y=\"-37.8\" font-family=\"Helvetica,sans-Serif\" font-size=\"14.00\" fill=\"#000000\">gini = 0.298</text>\n<text text-anchor=\"middle\" x=\"456\" y=\"-22.8\" font-family=\"Helvetica,sans-Serif\" font-size=\"14.00\" fill=\"#000000\">samples = 11</text>\n<text text-anchor=\"middle\" x=\"456\" y=\"-7.8\" font-family=\"Helvetica,sans-Serif\" font-size=\"14.00\" fill=\"#000000\">value = [2, 9]</text>\n</g>\n<!-- 5&#45;&gt;7 -->\n<g id=\"edge7\" class=\"edge\">\n<title>5&#45;&gt;7</title>\n<path fill=\"none\" stroke=\"#000000\" d=\"M372.4806,-88.9777C385.3335,-79.3629 399.2931,-68.9203 412.054,-59.3743\"/>\n<polygon fill=\"#000000\" stroke=\"#000000\" points=\"414.332,-62.0412 420.243,-53.2485 410.139,-56.436 414.332,-62.0412\"/>\n</g>\n<!-- 9 -->\n<g id=\"node10\" class=\"node\">\n<title>9</title>\n<path fill=\"#399de5\" stroke=\"#000000\" d=\"M511.5,-149.5C511.5,-149.5 428.5,-149.5 428.5,-149.5 422.5,-149.5 416.5,-143.5 416.5,-137.5 416.5,-137.5 416.5,-108.5 416.5,-108.5 416.5,-102.5 422.5,-96.5 428.5,-96.5 428.5,-96.5 511.5,-96.5 511.5,-96.5 517.5,-96.5 523.5,-102.5 523.5,-108.5 523.5,-108.5 523.5,-137.5 523.5,-137.5 523.5,-143.5 517.5,-149.5 511.5,-149.5\"/>\n<text text-anchor=\"middle\" x=\"470\" y=\"-134.3\" font-family=\"Helvetica,sans-Serif\" font-size=\"14.00\" fill=\"#000000\">gini = 0.0</text>\n<text text-anchor=\"middle\" x=\"470\" y=\"-119.3\" font-family=\"Helvetica,sans-Serif\" font-size=\"14.00\" fill=\"#000000\">samples = 26</text>\n<text text-anchor=\"middle\" x=\"470\" y=\"-104.3\" font-family=\"Helvetica,sans-Serif\" font-size=\"14.00\" fill=\"#000000\">value = [0, 26]</text>\n</g>\n<!-- 8&#45;&gt;9 -->\n<g id=\"edge9\" class=\"edge\">\n<title>8&#45;&gt;9</title>\n<path fill=\"none\" stroke=\"#000000\" d=\"M472.0177,-192.9465C471.7095,-182.2621 471.368,-170.4254 471.055,-159.5742\"/>\n<polygon fill=\"#000000\" stroke=\"#000000\" points=\"474.5526,-159.4371 470.7656,-149.5422 467.5555,-159.639 474.5526,-159.4371\"/>\n</g>\n<!-- 10 -->\n<g id=\"node11\" class=\"node\">\n<title>10</title>\n<path fill=\"#ea995f\" stroke=\"#000000\" d=\"M654,-157C654,-157 554,-157 554,-157 548,-157 542,-151 542,-145 542,-145 542,-101 542,-101 542,-95 548,-89 554,-89 554,-89 654,-89 654,-89 660,-89 666,-95 666,-101 666,-101 666,-145 666,-145 666,-151 660,-157 654,-157\"/>\n<text text-anchor=\"middle\" x=\"604\" y=\"-141.8\" font-family=\"Helvetica,sans-Serif\" font-size=\"14.00\" fill=\"#000000\">NPARC &lt;= 11.0</text>\n<text text-anchor=\"middle\" x=\"604\" y=\"-126.8\" font-family=\"Helvetica,sans-Serif\" font-size=\"14.00\" fill=\"#000000\">gini = 0.269</text>\n<text text-anchor=\"middle\" x=\"604\" y=\"-111.8\" font-family=\"Helvetica,sans-Serif\" font-size=\"14.00\" fill=\"#000000\">samples = 524</text>\n<text text-anchor=\"middle\" x=\"604\" y=\"-96.8\" font-family=\"Helvetica,sans-Serif\" font-size=\"14.00\" fill=\"#000000\">value = [440, 84]</text>\n</g>\n<!-- 8&#45;&gt;10 -->\n<g id=\"edge10\" class=\"edge\">\n<title>8&#45;&gt;10</title>\n<path fill=\"none\" stroke=\"#000000\" d=\"M515.8943,-192.9465C527.7693,-183.519 540.7741,-173.1946 553.0593,-163.4415\"/>\n<polygon fill=\"#000000\" stroke=\"#000000\" points=\"555.3536,-166.089 561.0093,-157.13 551.0011,-160.6066 555.3536,-166.089\"/>\n</g>\n<!-- 11 -->\n<g id=\"node12\" class=\"node\">\n<title>11</title>\n<path fill=\"#e99456\" stroke=\"#000000\" d=\"M646,-53C646,-53 546,-53 546,-53 540,-53 534,-47 534,-41 534,-41 534,-12 534,-12 534,-6 540,0 546,0 546,0 646,0 646,0 652,0 658,-6 658,-12 658,-12 658,-41 658,-41 658,-47 652,-53 646,-53\"/>\n<text text-anchor=\"middle\" x=\"596\" y=\"-37.8\" font-family=\"Helvetica,sans-Serif\" font-size=\"14.00\" fill=\"#000000\">gini = 0.224</text>\n<text text-anchor=\"middle\" x=\"596\" y=\"-22.8\" font-family=\"Helvetica,sans-Serif\" font-size=\"14.00\" fill=\"#000000\">samples = 444</text>\n<text text-anchor=\"middle\" x=\"596\" y=\"-7.8\" font-family=\"Helvetica,sans-Serif\" font-size=\"14.00\" fill=\"#000000\">value = [387, 57]</text>\n</g>\n<!-- 10&#45;&gt;11 -->\n<g id=\"edge11\" class=\"edge\">\n<title>10&#45;&gt;11</title>\n<path fill=\"none\" stroke=\"#000000\" d=\"M601.1795,-88.9777C600.4887,-80.6449 599.7463,-71.6903 599.0455,-63.2364\"/>\n<polygon fill=\"#000000\" stroke=\"#000000\" points=\"602.5318,-62.9251 598.2175,-53.2485 595.5557,-63.5035 602.5318,-62.9251\"/>\n</g>\n<!-- 12 -->\n<g id=\"node13\" class=\"node\">\n<title>12</title>\n<path fill=\"#f2c19e\" stroke=\"#000000\" d=\"M780,-53C780,-53 688,-53 688,-53 682,-53 676,-47 676,-41 676,-41 676,-12 676,-12 676,-6 682,0 688,0 688,0 780,0 780,0 786,0 792,-6 792,-12 792,-12 792,-41 792,-41 792,-47 786,-53 780,-53\"/>\n<text text-anchor=\"middle\" x=\"734\" y=\"-37.8\" font-family=\"Helvetica,sans-Serif\" font-size=\"14.00\" fill=\"#000000\">gini = 0.447</text>\n<text text-anchor=\"middle\" x=\"734\" y=\"-22.8\" font-family=\"Helvetica,sans-Serif\" font-size=\"14.00\" fill=\"#000000\">samples = 80</text>\n<text text-anchor=\"middle\" x=\"734\" y=\"-7.8\" font-family=\"Helvetica,sans-Serif\" font-size=\"14.00\" fill=\"#000000\">value = [53, 27]</text>\n</g>\n<!-- 10&#45;&gt;12 -->\n<g id=\"edge12\" class=\"edge\">\n<title>10&#45;&gt;12</title>\n<path fill=\"none\" stroke=\"#000000\" d=\"M649.8331,-88.9777C662.7857,-79.3629 676.8535,-68.9203 689.7133,-59.3743\"/>\n<polygon fill=\"#000000\" stroke=\"#000000\" points=\"692.0224,-62.0193 697.9658,-53.2485 687.8501,-56.3986 692.0224,-62.0193\"/>\n</g>\n</g>\n</svg>\n"
          },
          "metadata": {},
          "execution_count": 88
        }
      ]
    },
    {
      "cell_type": "markdown",
      "metadata": {
        "id": "KuG7Okj2rRXx"
      },
      "source": [
        "## 3 Aplicando o modelo treinado"
      ]
    },
    {
      "cell_type": "code",
      "metadata": {
        "colab": {
          "base_uri": "https://localhost:8080/"
        },
        "id": "gIj4Pffifqd5",
        "outputId": "c4512753-135a-4d0e-a653-dffcd7481371"
      },
      "source": [
        "#Revendo o conjunto de dados de validação\n",
        "X_val[:5]"
      ],
      "execution_count": 89,
      "outputs": [
        {
          "output_type": "execute_result",
          "data": {
            "text/plain": [
              "array([[   0,    0,  300,    1,  629,   12,   55,    1,   54,   60,  230],\n",
              "       [   1,    0,  600,    1,  540,   12,   73,    0,   28,    6,    0],\n",
              "       [   0,    0,  317,    1,  459,   12,   63,    1,   57,  264,    0],\n",
              "       [   0,    0,  800,    0,  399,    3,  149,    1,   57,    0,    0],\n",
              "       [   1,    0, 3000,    0,  360,    1,  376,    0,   43,   48,    0]])"
            ]
          },
          "metadata": {},
          "execution_count": 89
        }
      ]
    },
    {
      "cell_type": "code",
      "metadata": {
        "id": "KCDmLpM1rcMo"
      },
      "source": [
        "#Predição no conjunto de validação\n",
        "y_val_pred = modelo.predict(X_val)"
      ],
      "execution_count": 90,
      "outputs": []
    },
    {
      "cell_type": "code",
      "metadata": {
        "id": "T8OJh6YttczD",
        "colab": {
          "base_uri": "https://localhost:8080/"
        },
        "outputId": "381cf32c-6d7c-4b72-8ef3-428de2df27b9"
      },
      "source": [
        "#Visualização das primeiras 10 observações preditas\n",
        "y_val_pred[:10]"
      ],
      "execution_count": 91,
      "outputs": [
        {
          "output_type": "execute_result",
          "data": {
            "text/plain": [
              "array([0, 0, 0, 0, 1, 0, 1, 0, 0, 0])"
            ]
          },
          "metadata": {},
          "execution_count": 91
        }
      ]
    },
    {
      "cell_type": "markdown",
      "metadata": {
        "id": "eiJ-TfEsrW2U"
      },
      "source": [
        "## 4 Avaliando o desempenho do modelo"
      ]
    },
    {
      "cell_type": "code",
      "metadata": {
        "id": "FNEFGHn5rdEo"
      },
      "source": [
        "from sklearn.metrics import confusion_matrix"
      ],
      "execution_count": 92,
      "outputs": []
    },
    {
      "cell_type": "code",
      "metadata": {
        "id": "6SgBO9kiz33m",
        "colab": {
          "base_uri": "https://localhost:8080/"
        },
        "outputId": "ed1bae1a-c575-4ace-9f7e-9d895e06c3bd"
      },
      "source": [
        "#Matriz de confusão\n",
        "confusion_matrix(y_val, y_val_pred)"
      ],
      "execution_count": 93,
      "outputs": [
        {
          "output_type": "execute_result",
          "data": {
            "text/plain": [
              "array([[146,   3],\n",
              "       [ 26, 125]])"
            ]
          },
          "metadata": {},
          "execution_count": 93
        }
      ]
    },
    {
      "cell_type": "code",
      "metadata": {
        "id": "aCILmeZR0-vv",
        "colab": {
          "base_uri": "https://localhost:8080/"
        },
        "outputId": "2d1ba9a0-c51b-45d8-d412-24e51eaeb59d"
      },
      "source": [
        "#Organização dos dados para visualização da matriz\n",
        "cm = confusion_matrix(y_val, y_val_pred)\n",
        "tn, fp, fn, tp = cm.ravel()\n",
        "\n",
        "#Reorganização da matriz confusão para \n",
        "cm_reorganizada = np.array([[tp, fn], [fp, tn]])\n",
        "cm_reorganizada"
      ],
      "execution_count": 94,
      "outputs": [
        {
          "output_type": "execute_result",
          "data": {
            "text/plain": [
              "array([[125,  26],\n",
              "       [  3, 146]])"
            ]
          },
          "metadata": {},
          "execution_count": 94
        }
      ]
    },
    {
      "cell_type": "code",
      "metadata": {
        "id": "Ogco79Hx1hbX"
      },
      "source": [
        "from matplotlib import pyplot as plt\n",
        "import seaborn as sns"
      ],
      "execution_count": 95,
      "outputs": []
    },
    {
      "cell_type": "code",
      "metadata": {
        "id": "I3y5PwDL1Q7f",
        "colab": {
          "base_uri": "https://localhost:8080/",
          "height": 541
        },
        "outputId": "5523ccc3-7caa-44df-b4cd-644cfb344e8e"
      },
      "source": [
        "#Visualização Gráfica da Matriz de Confusão\n",
        "modelo_title = 'Decision Tree - Validação'\n",
        "fig = plt.figure(figsize=(10,8))\n",
        "fig.suptitle('Matriz de Confusão', fontsize=14, fontweight='bold')\n",
        "\n",
        "sns.heatmap(cm_reorganizada, cmap='Blues', annot=True)\n",
        "\n",
        "plt.title(modelo_title, fontsize=14)\n",
        "\n",
        "plt.xticks([])\n",
        "plt.yticks([])\n",
        "\n",
        "plt.annotate('TP', (0.3,0.5), fontweight='bold')\n",
        "plt.annotate('FN', (1.3,0.5), fontweight='bold')\n",
        "plt.annotate('FP', (0.3,1.5), fontweight='bold')\n",
        "plt.annotate('TN', (1.3,1.5), fontweight='bold')"
      ],
      "execution_count": 96,
      "outputs": [
        {
          "output_type": "execute_result",
          "data": {
            "text/plain": [
              "Text(1.3, 1.5, 'TN')"
            ]
          },
          "metadata": {},
          "execution_count": 96
        },
        {
          "output_type": "display_data",
          "data": {
            "image/png": "[encoded data removed]",
            "text/plain": [
              "<Figure size 720x576 with 2 Axes>"
            ]
          },
          "metadata": {
            "needs_background": "light"
          }
        }
      ]
    },
    {
      "cell_type": "code",
      "metadata": {
        "id": "8SRXmf5qz-mP"
      },
      "source": [
        "from sklearn.metrics import classification_report"
      ],
      "execution_count": 97,
      "outputs": []
    },
    {
      "cell_type": "code",
      "metadata": {
        "id": "x73-vqKt0uLp",
        "colab": {
          "base_uri": "https://localhost:8080/"
        },
        "outputId": "af0b8c7b-fed4-4335-f4c5-bd736bb3b673"
      },
      "source": [
        "#Visualizaçaõ do relatório de classificação\n",
        "print(classification_report(y_val, y_val_pred))"
      ],
      "execution_count": 98,
      "outputs": [
        {
          "output_type": "stream",
          "name": "stdout",
          "text": [
            "              precision    recall  f1-score   support\n",
            "\n",
            "           0       0.85      0.98      0.91       149\n",
            "           1       0.98      0.83      0.90       151\n",
            "\n",
            "    accuracy                           0.90       300\n",
            "   macro avg       0.91      0.90      0.90       300\n",
            "weighted avg       0.91      0.90      0.90       300\n",
            "\n"
          ]
        }
      ]
    },
    {
      "cell_type": "markdown",
      "metadata": {
        "id": "EJyTIB0Fsb4q"
      },
      "source": [
        "## 5 Usando o modelo com dados novos"
      ]
    },
    {
      "cell_type": "code",
      "metadata": {
        "id": "lnQ66H93seTi"
      },
      "source": [
        "#Predição no conjunto de testes\n",
        "y_pred = modelo.predict(X_test)"
      ],
      "execution_count": 99,
      "outputs": []
    },
    {
      "cell_type": "code",
      "metadata": {
        "colab": {
          "base_uri": "https://localhost:8080/"
        },
        "id": "vG3OExo12oH-",
        "outputId": "b3dc5703-4c29-4182-9ca2-04bfd20c535a"
      },
      "source": [
        "y_pred[:5]"
      ],
      "execution_count": 100,
      "outputs": [
        {
          "output_type": "execute_result",
          "data": {
            "text/plain": [
              "array([0, 1, 1, 1, 0])"
            ]
          },
          "metadata": {},
          "execution_count": 100
        }
      ]
    },
    {
      "cell_type": "code",
      "metadata": {
        "id": "61SN-NIc2O-6"
      },
      "source": [
        "#Organização dos dados para visualização da matriz\n",
        "cm = confusion_matrix(y_test, y_pred)\n",
        "\n",
        "#Reorganização da matriz confusão para \n",
        "tn, fp, fn, tp = cm.ravel()\n",
        "cm_reorganizada = np.array([[tp, fn], [fp, tn]])"
      ],
      "execution_count": 101,
      "outputs": []
    },
    {
      "cell_type": "code",
      "metadata": {
        "colab": {
          "base_uri": "https://localhost:8080/"
        },
        "id": "OODtzqmW3a9W",
        "outputId": "74959fde-e24e-43d5-dc43-5e394b8dc78d"
      },
      "source": [
        "cm_reorganizada"
      ],
      "execution_count": 102,
      "outputs": [
        {
          "output_type": "execute_result",
          "data": {
            "text/plain": [
              "array([[219,  52],\n",
              "       [  4, 302]])"
            ]
          },
          "metadata": {},
          "execution_count": 102
        }
      ]
    },
    {
      "cell_type": "code",
      "metadata": {
        "colab": {
          "base_uri": "https://localhost:8080/"
        },
        "id": "NnyAbMaYJ_gM",
        "outputId": "5a0cb9e2-21ea-4bb4-8fc0-787f7f7866d8"
      },
      "source": [
        "#Dimensão dos conjuntos de dados\n",
        "print(X_train.shape,\n",
        "      X_val.shape,\n",
        "      X_test.shape,\n",
        "      sep='\\n')"
      ],
      "execution_count": 103,
      "outputs": [
        {
          "output_type": "stream",
          "name": "stdout",
          "text": [
            "(1200, 11)\n",
            "(300, 11)\n",
            "(577, 11)\n"
          ]
        }
      ]
    },
    {
      "cell_type": "code",
      "metadata": {
        "id": "Pb3ZSY1Q2bHX",
        "colab": {
          "base_uri": "https://localhost:8080/",
          "height": 541
        },
        "outputId": "d47f614d-f17d-4ff9-fa0a-a2e75d83063f"
      },
      "source": [
        "#Visualização Gráfica da Matriz de Confusão\n",
        "modelo_title = 'Decision Tree - Teste (FINAL)'\n",
        "fig = plt.figure(figsize=(10,8))\n",
        "fig.suptitle('Matriz de Confusão', fontsize=14, fontweight='bold')\n",
        "\n",
        "sns.heatmap(cm_reorganizada, cmap='Blues', annot=True)\n",
        "\n",
        "plt.title(modelo_title, fontsize=14)\n",
        "\n",
        "plt.xticks([])\n",
        "plt.yticks([])\n",
        "\n",
        "plt.annotate('TP', (0.3,0.5), fontweight='bold')\n",
        "plt.annotate('FN', (1.3,0.5), fontweight='bold')\n",
        "plt.annotate('FP', (0.3,1.5), fontweight='bold')\n",
        "plt.annotate('TN', (1.3,1.5), fontweight='bold')"
      ],
      "execution_count": 104,
      "outputs": [
        {
          "output_type": "execute_result",
          "data": {
            "text/plain": [
              "Text(1.3, 1.5, 'TN')"
            ]
          },
          "metadata": {},
          "execution_count": 104
        },
        {
          "output_type": "display_data",
          "data": {
            "image/png": "[encoded data removed]",
            "text/plain": [
              "<Figure size 720x576 with 2 Axes>"
            ]
          },
          "metadata": {
            "needs_background": "light"
          }
        }
      ]
    },
    {
      "cell_type": "code",
      "metadata": {
        "id": "U08fiqWF2fKn",
        "colab": {
          "base_uri": "https://localhost:8080/"
        },
        "outputId": "2e78f204-9303-439d-ae41-a906a3cf006c"
      },
      "source": [
        "#Visualização do relatório de classificação\n",
        "print(classification_report(y_test, y_pred))"
      ],
      "execution_count": 105,
      "outputs": [
        {
          "output_type": "stream",
          "name": "stdout",
          "text": [
            "              precision    recall  f1-score   support\n",
            "\n",
            "           0       0.85      0.99      0.92       306\n",
            "           1       0.98      0.81      0.89       271\n",
            "\n",
            "    accuracy                           0.90       577\n",
            "   macro avg       0.92      0.90      0.90       577\n",
            "weighted avg       0.91      0.90      0.90       577\n",
            "\n"
          ]
        }
      ]
    },
    {
      "cell_type": "markdown",
      "metadata": {
        "id": "HJ2K-tG7nLyw"
      },
      "source": [
        "## Referências\n",
        "\n",
        "Bezerra, Eduardo (2016) **Introdução à Aprendizagem Profunda**. Disponível em: https://www.researchgate.net/publication/309321510_Introducao_a_Aprendizagem_Profunda, julho de 2020.\n",
        "\n",
        "Géron, Aurélien (2019). **Mãos à Obra Aprendizagem de Máquina com Scikit-Learn & TensorFlow:** Conceitos, ferramentas e técnicas para a construção de sistemas inteligentes. Traduzido por Rafael Contatori. Alta Books.\n",
        "\n",
        "Grus, Joel (2016). **Data Science do Zero:** Primeiras regras com Python. Traduzido por Welington Nascimento. Alta Books.\n",
        "\n",
        "Han, Jiawei. Kamber, Micheline. Pei, Jian (2012) **Data Mining**: Concepts and techniques. Morgan Kaufmann, 3rd Edition.\n",
        "\n",
        "McKinney, Wes (2018). **Python para Análise de Dados**: tratamento de dados com pandas, numpy e iPython. Traduzido por Lúcia A. Kinoshita. Novatec.\n",
        "\n",
        "\n",
        "---\n",
        "\n",
        "**Leitura complementar e tutoriais**:\n",
        "* Variáveis *dummies*: https://www.delftstack.com/pt/howto/python-pandas/get-dummies-pandas/\n",
        "* Documentação do método pandas.get_dummies: https://pandas.pydata.org/docs/reference/api/pandas.get_dummies.html\n",
        "* Cálculo da curva de aprendizagem: https://scikit-learn.org/stable/modules/generated/sklearn.model_selection.learning_curve.html#sklearn.model_selection.learning_curve\n",
        "* Definição da estratégia de separação dos conjuntos de treino e validação no cálculo da curva de aprendizagem: https://scikit-learn.org/stable/modules/generated/sklearn.model_selection.ShuffleSplit.html#sklearn.model_selection.ShuffleSplit\n",
        "\n"
      ]
    }
  ]
}