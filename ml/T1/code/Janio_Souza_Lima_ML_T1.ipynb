{
  "nbformat": 4,
  "nbformat_minor": 0,
  "metadata": {
    "colab": {
      "name": "Janio_Souza_Lima_ML-T1.ipynb",
      "provenance": [],
      "collapsed_sections": [
        "4anwwi9AXjEF",
        "ZmcIy83GWTwc",
        "-_JrahrRWXcK",
        "Z3VCULfMXV5v",
        "nZ8IG6WexPP7",
        "q5aFGDcNFOkR",
        "LLO5LLJnFcGN",
        "xx4bupTnrj49",
        "1PEMHr_zh02n",
        "5ITbQ25XqwmG",
        "ct9AJumsjsTI",
        "XaI3E_oDjxV_",
        "r_743mcDnD-R",
        "YPVoqrMcHBEp",
        "jWxrhkj7t-zu"
      ],
      "toc_visible": true
    },
    "kernelspec": {
      "name": "python3",
      "display_name": "Python 3"
    }
  },
  "cells": [
    {
      "cell_type": "markdown",
      "metadata": {
        "id": "ptkA5dKWWJVL"
      },
      "source": [
        "**CEFET-RJ**\n",
        "\n",
        "**Programa de Pós-Gradução em Ciência da Computação - PPCIC**\n",
        "\n",
        "**Disciplina: Aprendizado de Máquina - 2021/1**\n",
        "\n",
        "* **Trabalho 01**\n",
        "* **Professor**: Eduardo Bezerra\n",
        "* **Aluno**: Janio de Souza Lima"
      ]
    },
    {
      "cell_type": "markdown",
      "metadata": {
        "id": "4anwwi9AXjEF"
      },
      "source": [
        "#Preparação do ambiente"
      ]
    },
    {
      "cell_type": "markdown",
      "metadata": {
        "id": "BfzO6DbX6OKD"
      },
      "source": [
        "Importação de bibliotecas"
      ]
    },
    {
      "cell_type": "code",
      "metadata": {
        "id": "WjU2VUQuXk88"
      },
      "source": [
        "#Importação de bibliotecas\n",
        "import pandas as pd\n",
        "import numpy as np\n",
        "import seaborn as sns\n",
        "from matplotlib import pyplot as plt\n",
        "import scipy.optimize as opt"
      ],
      "execution_count": null,
      "outputs": []
    },
    {
      "cell_type": "markdown",
      "metadata": {
        "id": "yE_ovAy36XVL"
      },
      "source": [
        "Carga de arquivos para ambiente (apenas uso deste notebook no para Google Colab)"
      ]
    },
    {
      "cell_type": "code",
      "metadata": {
        "id": "d_Y_4EBO6DY3"
      },
      "source": [
        "from google.colab import drive"
      ],
      "execution_count": null,
      "outputs": []
    },
    {
      "cell_type": "code",
      "metadata": {
        "colab": {
          "base_uri": "https://localhost:8080/"
        },
        "id": "7uZ-awNx88p4",
        "outputId": "3a9def67-1c37-40a6-9097-a0d72766a0b9"
      },
      "source": [
        "#Conecta o Google Colab ao Google Drive\n",
        "drive.mount('/content/drive')"
      ],
      "execution_count": null,
      "outputs": [
        {
          "output_type": "stream",
          "text": [
            "Drive already mounted at /content/drive; to attempt to forcibly remount, call drive.mount(\"/content/drive\", force_remount=True).\n"
          ],
          "name": "stdout"
        }
      ]
    },
    {
      "cell_type": "markdown",
      "metadata": {
        "id": "F4rSnChkMHdG"
      },
      "source": [
        "A etapa anterior apenas conecta ao seu Google Drive, após rodá-la e autenticar a sessão usando o link da API da Google, o código abaixo deve ser executado para apontar para o diretório de trabalho no qual estão gravados os códigos e bibliotecas personalziadas que serão usados na análise.\n",
        "\n",
        "Os códigos em questão estão disponíveis em: https://github.com/MLRG-CEFET-RJ/ml-class/tree/master/ml-t1/code\n",
        "\n",
        "A pasta com os dados deve ser gravada neste mesmo diretório com o nome *data*, assim os trechos nos quais os conjuntos de dados são carregados rodarão sem problemas."
      ]
    },
    {
      "cell_type": "code",
      "metadata": {
        "id": "r0QvKrwd9QmG"
      },
      "source": [
        "#Define o path dos códigos e dados como diretório de trabalho atual\n",
        "import os\n",
        "dir = '/content/drive/My Drive/Mestrado PPCIC/03. Curso/3. Aprendizado/code'\n",
        "os.chdir(dir)"
      ],
      "execution_count": null,
      "outputs": []
    },
    {
      "cell_type": "markdown",
      "metadata": {
        "id": "ZmcIy83GWTwc"
      },
      "source": [
        "#1 Regressão Linear com uma variável"
      ]
    },
    {
      "cell_type": "markdown",
      "metadata": {
        "id": "-_JrahrRWXcK"
      },
      "source": [
        "##Análise preliminar dos dados"
      ]
    },
    {
      "cell_type": "code",
      "metadata": {
        "colab": {
          "base_uri": "https://localhost:8080/"
        },
        "id": "9Q54KE-XduPm",
        "outputId": "968445f9-4dcd-438d-cb26-5b799c70741b"
      },
      "source": [
        "#Carga dos dados usando as bibliotecas pandas e numpy\n",
        "arquivo = 'data/ex1data1.txt'\n",
        "dados = pd.read_table(arquivo,\n",
        "                      sep=',',\n",
        "                      header=None,\n",
        "                      names=['Population', 'Profit'])\n",
        "\n",
        "#Convertendo os dados para numpy array\n",
        "x = np.array(dados.Population)\n",
        "y = np.array(dados.Profit)\n",
        "\n",
        "dados.head()"
      ],
      "execution_count": null,
      "outputs": [
        {
          "output_type": "execute_result",
          "data": {
            "text/html": [
              "<div>\n",
              "<style scoped>\n",
              "    .dataframe tbody tr th:only-of-type {\n",
              "        vertical-align: middle;\n",
              "    }\n",
              "\n",
              "    .dataframe tbody tr th {\n",
              "        vertical-align: top;\n",
              "    }\n",
              "\n",
              "    .dataframe thead th {\n",
              "        text-align: right;\n",
              "    }\n",
              "</style>\n",
              "<table border=\"1\" class=\"dataframe\">\n",
              "  <thead>\n",
              "    <tr style=\"text-align: right;\">\n",
              "      <th></th>\n",
              "      <th>Population</th>\n",
              "      <th>Profit</th>\n",
              "    </tr>\n",
              "  </thead>\n",
              "  <tbody>\n",
              "    <tr>\n",
              "      <th>0</th>\n",
              "      <td>6.1101</td>\n",
              "      <td>17.5920</td>\n",
              "    </tr>\n",
              "    <tr>\n",
              "      <th>1</th>\n",
              "      <td>5.5277</td>\n",
              "      <td>9.1302</td>\n",
              "    </tr>\n",
              "    <tr>\n",
              "      <th>2</th>\n",
              "      <td>8.5186</td>\n",
              "      <td>13.6620</td>\n",
              "    </tr>\n",
              "    <tr>\n",
              "      <th>3</th>\n",
              "      <td>7.0032</td>\n",
              "      <td>11.8540</td>\n",
              "    </tr>\n",
              "    <tr>\n",
              "      <th>4</th>\n",
              "      <td>5.8598</td>\n",
              "      <td>6.8233</td>\n",
              "    </tr>\n",
              "  </tbody>\n",
              "</table>\n",
              "</div>"
            ],
            "text/plain": [
              "   Population   Profit\n",
              "0      6.1101  17.5920\n",
              "1      5.5277   9.1302\n",
              "2      8.5186  13.6620\n",
              "3      7.0032  11.8540\n",
              "4      5.8598   6.8233"
            ]
          },
          "metadata": {
            "tags": []
          },
          "execution_count": 5
        }
      ]
    },
    {
      "cell_type": "code",
      "metadata": {
        "colab": {
          "base_uri": "https://localhost:8080/"
        },
        "id": "AEiSmNpzet2g",
        "outputId": "388c08e1-8754-4227-f608-2a7deb5b18c8"
      },
      "source": [
        "#Informações gerais do dataset carregado\n",
        "dados.info()"
      ],
      "execution_count": null,
      "outputs": [
        {
          "output_type": "stream",
          "text": [
            "<class 'pandas.core.frame.DataFrame'>\n",
            "RangeIndex: 97 entries, 0 to 96\n",
            "Data columns (total 2 columns):\n",
            " #   Column      Non-Null Count  Dtype  \n",
            "---  ------      --------------  -----  \n",
            " 0   Population  97 non-null     float64\n",
            " 1   Profit      97 non-null     float64\n",
            "dtypes: float64(2)\n",
            "memory usage: 1.6 KB\n"
          ],
          "name": "stdout"
        }
      ]
    },
    {
      "cell_type": "code",
      "metadata": {
        "colab": {
          "base_uri": "https://localhost:8080/"
        },
        "id": "jsoXODG1e6oG",
        "outputId": "80c4adcc-e4c2-4a6b-9259-b7511e032dbc"
      },
      "source": [
        "#Sumário estatístico dos dados\n",
        "dados.describe()"
      ],
      "execution_count": null,
      "outputs": [
        {
          "output_type": "execute_result",
          "data": {
            "text/html": [
              "<div>\n",
              "<style scoped>\n",
              "    .dataframe tbody tr th:only-of-type {\n",
              "        vertical-align: middle;\n",
              "    }\n",
              "\n",
              "    .dataframe tbody tr th {\n",
              "        vertical-align: top;\n",
              "    }\n",
              "\n",
              "    .dataframe thead th {\n",
              "        text-align: right;\n",
              "    }\n",
              "</style>\n",
              "<table border=\"1\" class=\"dataframe\">\n",
              "  <thead>\n",
              "    <tr style=\"text-align: right;\">\n",
              "      <th></th>\n",
              "      <th>Population</th>\n",
              "      <th>Profit</th>\n",
              "    </tr>\n",
              "  </thead>\n",
              "  <tbody>\n",
              "    <tr>\n",
              "      <th>count</th>\n",
              "      <td>97.000000</td>\n",
              "      <td>97.000000</td>\n",
              "    </tr>\n",
              "    <tr>\n",
              "      <th>mean</th>\n",
              "      <td>8.159800</td>\n",
              "      <td>5.839135</td>\n",
              "    </tr>\n",
              "    <tr>\n",
              "      <th>std</th>\n",
              "      <td>3.869884</td>\n",
              "      <td>5.510262</td>\n",
              "    </tr>\n",
              "    <tr>\n",
              "      <th>min</th>\n",
              "      <td>5.026900</td>\n",
              "      <td>-2.680700</td>\n",
              "    </tr>\n",
              "    <tr>\n",
              "      <th>25%</th>\n",
              "      <td>5.707700</td>\n",
              "      <td>1.986900</td>\n",
              "    </tr>\n",
              "    <tr>\n",
              "      <th>50%</th>\n",
              "      <td>6.589400</td>\n",
              "      <td>4.562300</td>\n",
              "    </tr>\n",
              "    <tr>\n",
              "      <th>75%</th>\n",
              "      <td>8.578100</td>\n",
              "      <td>7.046700</td>\n",
              "    </tr>\n",
              "    <tr>\n",
              "      <th>max</th>\n",
              "      <td>22.203000</td>\n",
              "      <td>24.147000</td>\n",
              "    </tr>\n",
              "  </tbody>\n",
              "</table>\n",
              "</div>"
            ],
            "text/plain": [
              "       Population     Profit\n",
              "count   97.000000  97.000000\n",
              "mean     8.159800   5.839135\n",
              "std      3.869884   5.510262\n",
              "min      5.026900  -2.680700\n",
              "25%      5.707700   1.986900\n",
              "50%      6.589400   4.562300\n",
              "75%      8.578100   7.046700\n",
              "max     22.203000  24.147000"
            ]
          },
          "metadata": {
            "tags": []
          },
          "execution_count": 7
        }
      ]
    },
    {
      "cell_type": "code",
      "metadata": {
        "colab": {
          "base_uri": "https://localhost:8080/"
        },
        "id": "hzZofIC8hvn5",
        "outputId": "3fd3c4d0-15e9-4d89-c5db-f5276e9d29e1"
      },
      "source": [
        "#Correlação entre as variáveis do conjunto de dados\n",
        "print(f'Correlação entre a característica (População) e o alvo (Lucro): {dados.Population.corr(dados.Profit, method=\"pearson\"):.3f}')"
      ],
      "execution_count": null,
      "outputs": [
        {
          "output_type": "stream",
          "text": [
            "Correlação entre a característica (População) e o alvo (Lucro): 0.838\n"
          ],
          "name": "stdout"
        }
      ]
    },
    {
      "cell_type": "markdown",
      "metadata": {
        "id": "d70Kb2kViNDg"
      },
      "source": [
        "##1.1 Visualização dos dados"
      ]
    },
    {
      "cell_type": "code",
      "metadata": {
        "colab": {
          "base_uri": "https://localhost:8080/"
        },
        "id": "Hhmc66w7ei-U",
        "outputId": "7f1a8342-2473-442b-d2de-d1adb97bb60b"
      },
      "source": [
        "#Geração do gráfico de dispersão\n",
        "plt.scatter(dados.Population,\n",
        "            dados.Profit,\n",
        "            marker='x',\n",
        "            color='red',\n",
        "            alpha=0.6)\n",
        "\n",
        "plt.xticks([4,6,8,10,12,14,16,18,20,22,24])\n",
        "plt.yticks([-5,0,5,10,15,20,25])\n",
        "\n",
        "plt.title('População da cidade x Lucro da filial')\n",
        "plt.xlabel('População (10k)')\n",
        "plt.ylabel('Lucro ($ 10k)')\n",
        "\n",
        "sns.despine()"
      ],
      "execution_count": null,
      "outputs": [
        {
          "output_type": "display_data",
          "data": {
            "image/png": "[encoded data removed]",
            "text/plain": [
              "<Figure size 432x288 with 1 Axes>"
            ]
          },
          "metadata": {
            "tags": [],
            "needs_background": "light"
          }
        }
      ]
    },
    {
      "cell_type": "markdown",
      "metadata": {
        "id": "0x6Ak_1jfG9q"
      },
      "source": [
        "**Checagem:** Carga dos dados e geração do gráfico de dispersão com a função ```plot``` da biblioteca personalizada fornecida no exercício."
      ]
    },
    {
      "cell_type": "code",
      "metadata": {
        "id": "lxBsV_sxfxmr"
      },
      "source": [
        "import plot_ex1data1"
      ],
      "execution_count": null,
      "outputs": []
    },
    {
      "cell_type": "code",
      "metadata": {
        "colab": {
          "base_uri": "https://localhost:8080/"
        },
        "id": "daTWnlatWS54",
        "outputId": "c22e4d63-f969-44f6-a997-db9bb356c49b"
      },
      "source": [
        "plot_ex1data1.plot()"
      ],
      "execution_count": null,
      "outputs": [
        {
          "output_type": "display_data",
          "data": {
            "image/png": "[encoded data removed]",
            "text/plain": [
              "<Figure size 432x288 with 1 Axes>"
            ]
          },
          "metadata": {
            "tags": [],
            "needs_background": "light"
          }
        }
      ]
    },
    {
      "cell_type": "markdown",
      "metadata": {
        "id": "Q-YTWyV0Wk-T"
      },
      "source": [
        "**ANÁLISE DO RESULTADO DA ETAPA:**\n",
        "Tanto a visualização da dispersão dos dados indica quanto a correlação calculada na análise preliminar dos dados, em uma primeira análise, que as variáveis \"População\" e \"Lucro\" apresentam uma correlação positiva entre si. Indicando um crescimento do lucro à medida que são observadas populações maiores."
      ]
    },
    {
      "cell_type": "markdown",
      "metadata": {
        "id": "Z3VCULfMXV5v"
      },
      "source": [
        "##1.2 Gradiente Descendente"
      ]
    },
    {
      "cell_type": "markdown",
      "metadata": {
        "id": "cyRS97Zd1RCf"
      },
      "source": [
        "Carga do conjunto de dados, organizando os valores dos dados de População e Lucro em X e y, respectivamente."
      ]
    },
    {
      "cell_type": "code",
      "metadata": {
        "id": "JGuCGSPbir-i"
      },
      "source": [
        "X, y = plot_ex1data1.importarDados('/data/ex1data1.txt',\n",
        "                                   ['Population', 'Profit'])"
      ],
      "execution_count": null,
      "outputs": []
    },
    {
      "cell_type": "code",
      "metadata": {
        "colab": {
          "base_uri": "https://localhost:8080/"
        },
        "id": "fFjy8QCGlgCY",
        "outputId": "f39ca22d-4c78-4494-ab13-4cf6f4e9ee70"
      },
      "source": [
        "X.shape"
      ],
      "execution_count": null,
      "outputs": [
        {
          "output_type": "execute_result",
          "data": {
            "text/plain": [
              "(97, 1)"
            ]
          },
          "metadata": {
            "tags": []
          },
          "execution_count": 13
        }
      ]
    },
    {
      "cell_type": "markdown",
      "metadata": {
        "id": "EApE2Wr8xyba"
      },
      "source": [
        "A carga dos dados da forma acima gera uma matriz X com 97 linhas e 1 coluna. Como a função de custos precisa que esta matriz seja composta por uma coluna de valores 1 relativa ao $\\theta_0$ e outra com os valores das características de X, usamos o código a seguir para gerar a matriz no formato necessário. Isto se faz necessário para multiplicação do vetor de exemplos pelo vetor *theta*."
      ]
    },
    {
      "cell_type": "code",
      "metadata": {
        "colab": {
          "base_uri": "https://localhost:8080/"
        },
        "id": "Qd6rpSw_l95E",
        "outputId": "d143d1ad-e682-413e-e57f-17b5d50ec0b5"
      },
      "source": [
        "X = np.c_[np.ones((X.shape[0], 1)), x]\n",
        "X.shape"
      ],
      "execution_count": null,
      "outputs": [
        {
          "output_type": "execute_result",
          "data": {
            "text/plain": [
              "(97, 2)"
            ]
          },
          "metadata": {
            "tags": []
          },
          "execution_count": 14
        }
      ]
    },
    {
      "cell_type": "markdown",
      "metadata": {
        "id": "IZc9rCm3X6WS"
      },
      "source": [
        "**Aplicação da função de custo**\n",
        " \n",
        "Como pode ser observado na saída abaixo, obtemos um valor de 32,07 ao aplicarmos a função de custo para o conjunto de dados com os valores de $\\theta$ = 0."
      ]
    },
    {
      "cell_type": "markdown",
      "metadata": {
        "id": "zoB9w0djyLVx"
      },
      "source": [
        "Neste ponto, criamos uma matriz de duas dimensões com os valores de $\\theta$ zerados, para permitir realizar o teste da função de custos e posteriormente aplicar o Gradiente Descendente para calcular os valores de $\\theta$ otimizados."
      ]
    },
    {
      "cell_type": "code",
      "metadata": {
        "id": "1oOz-zspmelu"
      },
      "source": [
        "theta = np.array([0,0], ndmin=2).T"
      ],
      "execution_count": null,
      "outputs": []
    },
    {
      "cell_type": "code",
      "metadata": {
        "colab": {
          "base_uri": "https://localhost:8080/"
        },
        "id": "booPJNVgnBZW",
        "outputId": "4b362341-a417-43b8-f21d-412553b54d6d"
      },
      "source": [
        "theta"
      ],
      "execution_count": null,
      "outputs": [
        {
          "output_type": "execute_result",
          "data": {
            "text/plain": [
              "array([[0],\n",
              "       [0]])"
            ]
          },
          "metadata": {
            "tags": []
          },
          "execution_count": 16
        }
      ]
    },
    {
      "cell_type": "markdown",
      "metadata": {
        "id": "UC-wkoO7ydJZ"
      },
      "source": [
        "Neste ponto aplicamos a função de custo com os parâmetros zerados para testar a implementação. Obtemos como resultado o valor previsto no exercício (32,07), confirmando a correção da implementação da função de custo."
      ]
    },
    {
      "cell_type": "code",
      "metadata": {
        "colab": {
          "base_uri": "https://localhost:8080/"
        },
        "id": "4tWExGuaXyko",
        "outputId": "b3214735-5ce8-4ad5-ba63-0a8a4c3aace7"
      },
      "source": [
        "from custo_reglin_uni import custo_reglin_uni\n",
        "print(f'{custo_reglin_uni(X, y, theta):.2f}')"
      ],
      "execution_count": null,
      "outputs": [
        {
          "output_type": "stream",
          "text": [
            "32.07\n"
          ],
          "name": "stdout"
        }
      ]
    },
    {
      "cell_type": "markdown",
      "metadata": {
        "id": "ONVg-TRNi7Ho"
      },
      "source": [
        "Com a função de custo já testada, os valores de theta iniciados com valor 0 e a matriz X já devidamente complementada com uma coluna de valores 1, aplicamos a função do gradiente descendente para encontrar os valores de theta."
      ]
    },
    {
      "cell_type": "code",
      "metadata": {
        "id": "ZY0F76M5ZRzC"
      },
      "source": [
        "from gd_reglin_uni import gd_reglin_uni"
      ],
      "execution_count": null,
      "outputs": []
    },
    {
      "cell_type": "code",
      "metadata": {
        "id": "_GmenmqJZgtp"
      },
      "source": [
        "custo, theta = gd_reglin_uni(X, y, 0.01, 5000, theta)"
      ],
      "execution_count": null,
      "outputs": []
    },
    {
      "cell_type": "code",
      "metadata": {
        "colab": {
          "base_uri": "https://localhost:8080/"
        },
        "id": "js4x8xYoZsKo",
        "outputId": "59e4707b-25d3-4ebd-f979-de233af3f8b6"
      },
      "source": [
        "#print(custo, theta)\n",
        "print(f'Custo: {custo}\\nTheta0: {theta[0][0]}\\nTheta1: {theta[1][0]}')"
      ],
      "execution_count": null,
      "outputs": [
        {
          "output_type": "stream",
          "text": [
            "Custo: 4.476971396982805\n",
            "Theta0: -3.8953005106571683\n",
            "Theta1: 1.1929853860482196\n"
          ],
          "name": "stdout"
        }
      ]
    },
    {
      "cell_type": "code",
      "metadata": {
        "colab": {
          "base_uri": "https://localhost:8080/"
        },
        "id": "iF1o4nMuq_RL",
        "outputId": "66a4c8d9-9c2a-4980-ae53-2786db0b64db"
      },
      "source": [
        "custo_reglin_uni(X, y, theta)"
      ],
      "execution_count": null,
      "outputs": [
        {
          "output_type": "execute_result",
          "data": {
            "text/plain": [
              "4.476971396982805"
            ]
          },
          "metadata": {
            "tags": []
          },
          "execution_count": 21
        }
      ]
    },
    {
      "cell_type": "markdown",
      "metadata": {
        "id": "B6lG_23BzXAD"
      },
      "source": [
        "Considerando a aplicação do Gradiente Descendente com o valor de alpha = 0.01, 5000 épocas e os valores de theta começando em 0, obtemos $\\theta_0 = -3.895$ e $\\theta_1 = 1.193$. Além disso, obtemos o valor de custo de 4.47 a partir da função $J(\\theta)$.\n",
        "\n",
        "---"
      ]
    },
    {
      "cell_type": "markdown",
      "metadata": {
        "id": "UGVIt-2u0S6q"
      },
      "source": [
        "A seguir apresentamos a visualização da dispersão dos dados originais, marcados em vermelho, e a reta de ajustamento da **Regressão Linear**, marcada em azul."
      ]
    },
    {
      "cell_type": "code",
      "metadata": {
        "id": "0fyALy_9oyjk"
      },
      "source": [
        "import visualizar_reta"
      ],
      "execution_count": null,
      "outputs": []
    },
    {
      "cell_type": "code",
      "metadata": {
        "colab": {
          "base_uri": "https://localhost:8080/"
        },
        "id": "ickJXbIfpdzN",
        "outputId": "c00554cd-dc3e-4f31-c99c-542e61019695"
      },
      "source": [
        "visualizar_reta.plot('/data/ex1data1.txt',\n",
        "                     theta)"
      ],
      "execution_count": null,
      "outputs": [
        {
          "output_type": "display_data",
          "data": {
            "image/png": "[encoded data removed]",
            "text/plain": [
              "<Figure size 432x288 with 1 Axes>"
            ]
          },
          "metadata": {
            "tags": [],
            "needs_background": "light"
          }
        },
        {
          "output_type": "display_data",
          "data": {
            "text/plain": [
              "<Figure size 432x288 with 0 Axes>"
            ]
          },
          "metadata": {
            "tags": []
          }
        }
      ]
    },
    {
      "cell_type": "markdown",
      "metadata": {
        "id": "S1FKtICpwRPP"
      },
      "source": [
        "**Uso da equação da regressão linear para previsão de valores**\n",
        "\n",
        "Modelo de Regressão Linear: $h\\theta(x) = \\theta_0 + \\theta_1x = -3.895 + 1.193 \\times x$ (1)"
      ]
    },
    {
      "cell_type": "code",
      "metadata": {
        "id": "Q5fGDJp3u9zs"
      },
      "source": [
        "def predicao(x, theta):\n",
        "  \"\"\"\n",
        "  Função recebe um valor (escalar) x e retorna o valor previsto de y\n",
        "  usando a equação da regressão linear construída nas etapas anteriores\n",
        "  \"\"\"\n",
        "  \n",
        "  pred = theta[0] + theta[1] * x\n",
        "\n",
        "  return pred"
      ],
      "execution_count": null,
      "outputs": []
    },
    {
      "cell_type": "code",
      "metadata": {
        "colab": {
          "base_uri": "https://localhost:8080/"
        },
        "id": "F_TdNVeVvG6Z",
        "outputId": "7d3f01d8-7a30-49e1-bf2a-0d72349b6dd0"
      },
      "source": [
        "population = 35000\n",
        "lucro = predicao(population, theta)\n",
        "print(f'{lucro[0]:.2f}')"
      ],
      "execution_count": null,
      "outputs": [
        {
          "output_type": "stream",
          "text": [
            "41750.59\n"
          ],
          "name": "stdout"
        }
      ]
    },
    {
      "cell_type": "code",
      "metadata": {
        "colab": {
          "base_uri": "https://localhost:8080/"
        },
        "id": "sLyTQXjKvRn5",
        "outputId": "92f3e7c7-2f50-432b-a6bc-fc66e5f91e76"
      },
      "source": [
        "population = 70000\n",
        "lucro = predicao(population, theta)\n",
        "print(f'{lucro[0]:.2f}')"
      ],
      "execution_count": null,
      "outputs": [
        {
          "output_type": "stream",
          "text": [
            "83505.08\n"
          ],
          "name": "stdout"
        }
      ]
    },
    {
      "cell_type": "markdown",
      "metadata": {
        "id": "GGu8S7pEwjLZ"
      },
      "source": [
        "De acordo com a Equação 1 da regressão linear encontrada:\n",
        "* Para uma população de 35.000 habitantes o lucro previsto é de $ 41.750,59;\n",
        "\n",
        "* Para 70.000 habitantes o lucro previsto é de $83.505,08.\n",
        "\n",
        "---\n",
        "\n",
        "  $h\\theta(x) = \\theta_0 + \\theta_1x = -3.895 + 1.193 \\times x$ (1)\n",
        "   \n",
        "  Então, para $x = 35000$, $y=41750,59$ e para $x = 70000$, $y=83505,08$."
      ]
    },
    {
      "cell_type": "markdown",
      "metadata": {
        "id": "nZ8IG6WexPP7"
      },
      "source": [
        "##1.3 Visualização de $J(\\theta)$"
      ]
    },
    {
      "cell_type": "code",
      "metadata": {
        "id": "rmvrrjiExOkw"
      },
      "source": [
        "import visualizar_J_surface\n",
        "import visualizar_J_contour"
      ],
      "execution_count": null,
      "outputs": []
    },
    {
      "cell_type": "markdown",
      "metadata": {
        "id": "4q8Z3NTF5EOm"
      },
      "source": [
        "**Gráfico das curvas de nível da função de custo**"
      ]
    },
    {
      "cell_type": "code",
      "metadata": {
        "colab": {
          "base_uri": "https://localhost:8080/"
        },
        "id": "5Fc3EtPM2sji",
        "outputId": "d559c9ee-b1af-4139-c3ac-f7569456ad0f"
      },
      "source": [
        "J = visualizar_J_contour.plot(X, y, theta)"
      ],
      "execution_count": null,
      "outputs": [
        {
          "output_type": "stream",
          "text": [
            "/content/drive/My Drive/Mestrado PPCIC/03. Curso/3. Aprendizado/code/visualizar_J_contour.py:27: UserWarning: The following kwargs were not used by contour: 'color'\n",
            "  ax.contour(theta0, theta1, J, levels=np.logspace(-1, 4, 20), color='blue')\n"
          ],
          "name": "stderr"
        },
        {
          "output_type": "display_data",
          "data": {
            "text/plain": [
              "<Figure size 432x288 with 0 Axes>"
            ]
          },
          "metadata": {
            "tags": []
          }
        },
        {
          "output_type": "display_data",
          "data": {
            "image/png": "[encoded data removed]",
            "text/plain": [
              "<Figure size 432x288 with 1 Axes>"
            ]
          },
          "metadata": {
            "tags": [],
            "needs_background": "light"
          }
        },
        {
          "output_type": "display_data",
          "data": {
            "text/plain": [
              "<Figure size 432x288 with 0 Axes>"
            ]
          },
          "metadata": {
            "tags": []
          }
        }
      ]
    },
    {
      "cell_type": "markdown",
      "metadata": {
        "id": "bkRpXkwf5JOt"
      },
      "source": [
        "**Gráfico com recorte da superfície da função de custo**"
      ]
    },
    {
      "cell_type": "code",
      "metadata": {
        "colab": {
          "base_uri": "https://localhost:8080/"
        },
        "id": "LY0GUOSv3ivU",
        "outputId": "2ccdabc8-03fb-420c-e4cd-886b2d90f5a1"
      },
      "source": [
        "visualizar_J_surface.plot(J)"
      ],
      "execution_count": null,
      "outputs": [
        {
          "output_type": "display_data",
          "data": {
            "image/png": "[encoded data removed]",
            "text/plain": [
              "<Figure size 432x288 with 1 Axes>"
            ]
          },
          "metadata": {
            "tags": [],
            "needs_background": "light"
          }
        },
        {
          "output_type": "execute_result",
          "data": {
            "text/plain": [
              "<mpl_toolkits.mplot3d.art3d.Poly3DCollection at 0x7f20dac89210>"
            ]
          },
          "metadata": {
            "tags": []
          },
          "execution_count": 29
        },
        {
          "output_type": "display_data",
          "data": {
            "text/plain": [
              "<Figure size 432x288 with 0 Axes>"
            ]
          },
          "metadata": {
            "tags": []
          }
        }
      ]
    },
    {
      "cell_type": "markdown",
      "metadata": {
        "id": "CY4Wk02F3s2W"
      },
      "source": [
        "**ANÁLISE DO RESULTADO DA ETAPA:** Nas visualizações desta subseção, primeiro apresentamos a visualização na qual o valor do mínimo global da função é exibido como um ponto vermelho nas coordenadas equivalentes aos valores de theta.\n",
        "\n",
        "A segunda visualização, por sua vez, exibe um recorte da superfície da função $J(\\theta)$ da **Regressão Linear**."
      ]
    },
    {
      "cell_type": "markdown",
      "metadata": {
        "id": "q5aFGDcNFOkR"
      },
      "source": [
        "#2 Regressão Linear com Múltiplas Variáveis"
      ]
    },
    {
      "cell_type": "markdown",
      "metadata": {
        "id": "LLO5LLJnFcGN"
      },
      "source": [
        "##Análise preliminar dos dados"
      ]
    },
    {
      "cell_type": "code",
      "metadata": {
        "colab": {
          "base_uri": "https://localhost:8080/"
        },
        "id": "0pJ6pntUFfe2",
        "outputId": "c0c5d0b7-b39e-4065-e252-bcd4f66290ad"
      },
      "source": [
        "#Carga dos dados usando as bibliotecas pandas e numpy\n",
        "arquivo = 'data/ex1data2.txt'\n",
        "dados = pd.read_table(arquivo,\n",
        "                      sep=',',\n",
        "                      header=None,\n",
        "                      names=['Tamanho', 'Dormitorios', 'Preco'])\n",
        "\n",
        "dados.head()"
      ],
      "execution_count": null,
      "outputs": [
        {
          "output_type": "execute_result",
          "data": {
            "text/html": [
              "<div>\n",
              "<style scoped>\n",
              "    .dataframe tbody tr th:only-of-type {\n",
              "        vertical-align: middle;\n",
              "    }\n",
              "\n",
              "    .dataframe tbody tr th {\n",
              "        vertical-align: top;\n",
              "    }\n",
              "\n",
              "    .dataframe thead th {\n",
              "        text-align: right;\n",
              "    }\n",
              "</style>\n",
              "<table border=\"1\" class=\"dataframe\">\n",
              "  <thead>\n",
              "    <tr style=\"text-align: right;\">\n",
              "      <th></th>\n",
              "      <th>Tamanho</th>\n",
              "      <th>Dormitorios</th>\n",
              "      <th>Preco</th>\n",
              "    </tr>\n",
              "  </thead>\n",
              "  <tbody>\n",
              "    <tr>\n",
              "      <th>0</th>\n",
              "      <td>2104</td>\n",
              "      <td>3</td>\n",
              "      <td>399900</td>\n",
              "    </tr>\n",
              "    <tr>\n",
              "      <th>1</th>\n",
              "      <td>1600</td>\n",
              "      <td>3</td>\n",
              "      <td>329900</td>\n",
              "    </tr>\n",
              "    <tr>\n",
              "      <th>2</th>\n",
              "      <td>2400</td>\n",
              "      <td>3</td>\n",
              "      <td>369000</td>\n",
              "    </tr>\n",
              "    <tr>\n",
              "      <th>3</th>\n",
              "      <td>1416</td>\n",
              "      <td>2</td>\n",
              "      <td>232000</td>\n",
              "    </tr>\n",
              "    <tr>\n",
              "      <th>4</th>\n",
              "      <td>3000</td>\n",
              "      <td>4</td>\n",
              "      <td>539900</td>\n",
              "    </tr>\n",
              "  </tbody>\n",
              "</table>\n",
              "</div>"
            ],
            "text/plain": [
              "   Tamanho  Dormitorios   Preco\n",
              "0     2104            3  399900\n",
              "1     1600            3  329900\n",
              "2     2400            3  369000\n",
              "3     1416            2  232000\n",
              "4     3000            4  539900"
            ]
          },
          "metadata": {
            "tags": []
          },
          "execution_count": 30
        }
      ]
    },
    {
      "cell_type": "code",
      "metadata": {
        "colab": {
          "base_uri": "https://localhost:8080/"
        },
        "id": "Ig6v44YCGOa3",
        "outputId": "fe22e85f-cec8-4031-d6ce-5616934356c6"
      },
      "source": [
        "dados.describe()"
      ],
      "execution_count": null,
      "outputs": [
        {
          "output_type": "execute_result",
          "data": {
            "text/html": [
              "<div>\n",
              "<style scoped>\n",
              "    .dataframe tbody tr th:only-of-type {\n",
              "        vertical-align: middle;\n",
              "    }\n",
              "\n",
              "    .dataframe tbody tr th {\n",
              "        vertical-align: top;\n",
              "    }\n",
              "\n",
              "    .dataframe thead th {\n",
              "        text-align: right;\n",
              "    }\n",
              "</style>\n",
              "<table border=\"1\" class=\"dataframe\">\n",
              "  <thead>\n",
              "    <tr style=\"text-align: right;\">\n",
              "      <th></th>\n",
              "      <th>Tamanho</th>\n",
              "      <th>Dormitorios</th>\n",
              "      <th>Preco</th>\n",
              "    </tr>\n",
              "  </thead>\n",
              "  <tbody>\n",
              "    <tr>\n",
              "      <th>count</th>\n",
              "      <td>47.000000</td>\n",
              "      <td>47.000000</td>\n",
              "      <td>47.000000</td>\n",
              "    </tr>\n",
              "    <tr>\n",
              "      <th>mean</th>\n",
              "      <td>2000.680851</td>\n",
              "      <td>3.170213</td>\n",
              "      <td>340412.659574</td>\n",
              "    </tr>\n",
              "    <tr>\n",
              "      <th>std</th>\n",
              "      <td>794.702354</td>\n",
              "      <td>0.760982</td>\n",
              "      <td>125039.899586</td>\n",
              "    </tr>\n",
              "    <tr>\n",
              "      <th>min</th>\n",
              "      <td>852.000000</td>\n",
              "      <td>1.000000</td>\n",
              "      <td>169900.000000</td>\n",
              "    </tr>\n",
              "    <tr>\n",
              "      <th>25%</th>\n",
              "      <td>1432.000000</td>\n",
              "      <td>3.000000</td>\n",
              "      <td>249900.000000</td>\n",
              "    </tr>\n",
              "    <tr>\n",
              "      <th>50%</th>\n",
              "      <td>1888.000000</td>\n",
              "      <td>3.000000</td>\n",
              "      <td>299900.000000</td>\n",
              "    </tr>\n",
              "    <tr>\n",
              "      <th>75%</th>\n",
              "      <td>2269.000000</td>\n",
              "      <td>4.000000</td>\n",
              "      <td>384450.000000</td>\n",
              "    </tr>\n",
              "    <tr>\n",
              "      <th>max</th>\n",
              "      <td>4478.000000</td>\n",
              "      <td>5.000000</td>\n",
              "      <td>699900.000000</td>\n",
              "    </tr>\n",
              "  </tbody>\n",
              "</table>\n",
              "</div>"
            ],
            "text/plain": [
              "           Tamanho  Dormitorios          Preco\n",
              "count    47.000000    47.000000      47.000000\n",
              "mean   2000.680851     3.170213  340412.659574\n",
              "std     794.702354     0.760982  125039.899586\n",
              "min     852.000000     1.000000  169900.000000\n",
              "25%    1432.000000     3.000000  249900.000000\n",
              "50%    1888.000000     3.000000  299900.000000\n",
              "75%    2269.000000     4.000000  384450.000000\n",
              "max    4478.000000     5.000000  699900.000000"
            ]
          },
          "metadata": {
            "tags": []
          },
          "execution_count": 31
        }
      ]
    },
    {
      "cell_type": "code",
      "metadata": {
        "colab": {
          "base_uri": "https://localhost:8080/"
        },
        "id": "3kQUi02DGTul",
        "outputId": "1e8a1d8f-3f34-43fc-b97d-86e523106ff8"
      },
      "source": [
        "dados.info()"
      ],
      "execution_count": null,
      "outputs": [
        {
          "output_type": "stream",
          "text": [
            "<class 'pandas.core.frame.DataFrame'>\n",
            "RangeIndex: 47 entries, 0 to 46\n",
            "Data columns (total 3 columns):\n",
            " #   Column       Non-Null Count  Dtype\n",
            "---  ------       --------------  -----\n",
            " 0   Tamanho      47 non-null     int64\n",
            " 1   Dormitorios  47 non-null     int64\n",
            " 2   Preco        47 non-null     int64\n",
            "dtypes: int64(3)\n",
            "memory usage: 1.2 KB\n"
          ],
          "name": "stdout"
        }
      ]
    },
    {
      "cell_type": "code",
      "metadata": {
        "colab": {
          "base_uri": "https://localhost:8080/"
        },
        "id": "mH3ogATaGZJS",
        "outputId": "1025a654-109d-4605-f3bf-22f2203fef81"
      },
      "source": [
        "dados.corr()"
      ],
      "execution_count": null,
      "outputs": [
        {
          "output_type": "execute_result",
          "data": {
            "text/html": [
              "<div>\n",
              "<style scoped>\n",
              "    .dataframe tbody tr th:only-of-type {\n",
              "        vertical-align: middle;\n",
              "    }\n",
              "\n",
              "    .dataframe tbody tr th {\n",
              "        vertical-align: top;\n",
              "    }\n",
              "\n",
              "    .dataframe thead th {\n",
              "        text-align: right;\n",
              "    }\n",
              "</style>\n",
              "<table border=\"1\" class=\"dataframe\">\n",
              "  <thead>\n",
              "    <tr style=\"text-align: right;\">\n",
              "      <th></th>\n",
              "      <th>Tamanho</th>\n",
              "      <th>Dormitorios</th>\n",
              "      <th>Preco</th>\n",
              "    </tr>\n",
              "  </thead>\n",
              "  <tbody>\n",
              "    <tr>\n",
              "      <th>Tamanho</th>\n",
              "      <td>1.000000</td>\n",
              "      <td>0.559967</td>\n",
              "      <td>0.854988</td>\n",
              "    </tr>\n",
              "    <tr>\n",
              "      <th>Dormitorios</th>\n",
              "      <td>0.559967</td>\n",
              "      <td>1.000000</td>\n",
              "      <td>0.442261</td>\n",
              "    </tr>\n",
              "    <tr>\n",
              "      <th>Preco</th>\n",
              "      <td>0.854988</td>\n",
              "      <td>0.442261</td>\n",
              "      <td>1.000000</td>\n",
              "    </tr>\n",
              "  </tbody>\n",
              "</table>\n",
              "</div>"
            ],
            "text/plain": [
              "              Tamanho  Dormitorios     Preco\n",
              "Tamanho      1.000000     0.559967  0.854988\n",
              "Dormitorios  0.559967     1.000000  0.442261\n",
              "Preco        0.854988     0.442261  1.000000"
            ]
          },
          "metadata": {
            "tags": []
          },
          "execution_count": 33
        }
      ]
    },
    {
      "cell_type": "markdown",
      "metadata": {
        "id": "eToqJg4oG33p"
      },
      "source": [
        "##2.1 Normalização das características"
      ]
    },
    {
      "cell_type": "markdown",
      "metadata": {
        "id": "uUUVcFTRKi_Y"
      },
      "source": [
        "Carga dos dados, armazenando as características na Matriz X e o alvo no vetor y. Conferência das dimensões da matriz X e de seu conteúdo."
      ]
    },
    {
      "cell_type": "code",
      "metadata": {
        "id": "-54fx86oG9Cl"
      },
      "source": [
        "X, y = plot_ex1data1.importarDados('/data/ex1data2.txt',\n",
        "                                   ['Tamanho', 'Dormitorios', 'Preco'])"
      ],
      "execution_count": null,
      "outputs": []
    },
    {
      "cell_type": "code",
      "metadata": {
        "colab": {
          "base_uri": "https://localhost:8080/"
        },
        "id": "D94a79dwHXQV",
        "outputId": "9cd690a6-a821-44aa-d81d-6f6b240ae1f8"
      },
      "source": [
        "X.shape"
      ],
      "execution_count": null,
      "outputs": [
        {
          "output_type": "execute_result",
          "data": {
            "text/plain": [
              "(47, 2)"
            ]
          },
          "metadata": {
            "tags": []
          },
          "execution_count": 169
        }
      ]
    },
    {
      "cell_type": "code",
      "metadata": {
        "id": "epmFVO1ZKq83",
        "colab": {
          "base_uri": "https://localhost:8080/"
        },
        "outputId": "e42a25bc-256c-406b-b51e-87bb77f604a1"
      },
      "source": [
        "X"
      ],
      "execution_count": null,
      "outputs": [
        {
          "output_type": "execute_result",
          "data": {
            "text/plain": [
              "array([[2104,    3],\n",
              "       [1600,    3],\n",
              "       [2400,    3],\n",
              "       [1416,    2],\n",
              "       [3000,    4],\n",
              "       [1985,    4],\n",
              "       [1534,    3],\n",
              "       [1427,    3],\n",
              "       [1380,    3],\n",
              "       [1494,    3],\n",
              "       [1940,    4],\n",
              "       [2000,    3],\n",
              "       [1890,    3],\n",
              "       [4478,    5],\n",
              "       [1268,    3],\n",
              "       [2300,    4],\n",
              "       [1320,    2],\n",
              "       [1236,    3],\n",
              "       [2609,    4],\n",
              "       [3031,    4],\n",
              "       [1767,    3],\n",
              "       [1888,    2],\n",
              "       [1604,    3],\n",
              "       [1962,    4],\n",
              "       [3890,    3],\n",
              "       [1100,    3],\n",
              "       [1458,    3],\n",
              "       [2526,    3],\n",
              "       [2200,    3],\n",
              "       [2637,    3],\n",
              "       [1839,    2],\n",
              "       [1000,    1],\n",
              "       [2040,    4],\n",
              "       [3137,    3],\n",
              "       [1811,    4],\n",
              "       [1437,    3],\n",
              "       [1239,    3],\n",
              "       [2132,    4],\n",
              "       [4215,    4],\n",
              "       [2162,    4],\n",
              "       [1664,    2],\n",
              "       [2238,    3],\n",
              "       [2567,    4],\n",
              "       [1200,    3],\n",
              "       [ 852,    2],\n",
              "       [1852,    4],\n",
              "       [1203,    3]])"
            ]
          },
          "metadata": {
            "tags": []
          },
          "execution_count": 170
        }
      ]
    },
    {
      "cell_type": "markdown",
      "metadata": {
        "id": "TUqfJyxcKz8o"
      },
      "source": [
        "Aplicação da função ```normalizar_caracteristica``` para normalização das características armazenadas na matriz X e adição da coluna de 1 para representar o $\\theta_0$."
      ]
    },
    {
      "cell_type": "code",
      "metadata": {
        "id": "PwhIV-nVJ7u5"
      },
      "source": [
        "from normalizacao import normalizar_caracteristica"
      ],
      "execution_count": null,
      "outputs": []
    },
    {
      "cell_type": "code",
      "metadata": {
        "id": "eIZEEfOeKDLK"
      },
      "source": [
        "X_norm, mean_X, std_X = normalizar_caracteristica(X)"
      ],
      "execution_count": null,
      "outputs": []
    },
    {
      "cell_type": "markdown",
      "metadata": {
        "id": "c7z6EIy_M8pm"
      },
      "source": [
        "Conferência dos dados normalizados. A função realizada a normalização usando Z-Score, gerando valores em uma escala similar."
      ]
    },
    {
      "cell_type": "code",
      "metadata": {
        "colab": {
          "base_uri": "https://localhost:8080/"
        },
        "id": "W1txDhiEKQGK",
        "outputId": "38f14c41-96b9-4887-b3c3-84962bc85178"
      },
      "source": [
        "X_norm"
      ],
      "execution_count": null,
      "outputs": [
        {
          "output_type": "execute_result",
          "data": {
            "text/plain": [
              "array([[ 1.00000000e+00,  1.31415422e-01, -2.26093368e-01],\n",
              "       [ 1.00000000e+00, -5.09640698e-01, -2.26093368e-01],\n",
              "       [ 1.00000000e+00,  5.07908699e-01, -2.26093368e-01],\n",
              "       [ 1.00000000e+00, -7.43677059e-01, -1.55439190e+00],\n",
              "       [ 1.00000000e+00,  1.27107075e+00,  1.10220517e+00],\n",
              "       [ 1.00000000e+00, -1.99450507e-02,  1.10220517e+00],\n",
              "       [ 1.00000000e+00, -5.93588523e-01, -2.26093368e-01],\n",
              "       [ 1.00000000e+00, -7.29685755e-01, -2.26093368e-01],\n",
              "       [ 1.00000000e+00, -7.89466782e-01, -2.26093368e-01],\n",
              "       [ 1.00000000e+00, -6.44465993e-01, -2.26093368e-01],\n",
              "       [ 1.00000000e+00, -7.71822042e-02,  1.10220517e+00],\n",
              "       [ 1.00000000e+00, -8.65999486e-04, -2.26093368e-01],\n",
              "       [ 1.00000000e+00, -1.40779041e-01, -2.26093368e-01],\n",
              "       [ 1.00000000e+00,  3.15099326e+00,  2.43050370e+00],\n",
              "       [ 1.00000000e+00, -9.31923697e-01, -2.26093368e-01],\n",
              "       [ 1.00000000e+00,  3.80715024e-01,  1.10220517e+00],\n",
              "       [ 1.00000000e+00, -8.65782986e-01, -1.55439190e+00],\n",
              "       [ 1.00000000e+00, -9.72625673e-01, -2.26093368e-01],\n",
              "       [ 1.00000000e+00,  7.73743478e-01,  1.10220517e+00],\n",
              "       [ 1.00000000e+00,  1.31050078e+00,  1.10220517e+00],\n",
              "       [ 1.00000000e+00, -2.97227261e-01, -2.26093368e-01],\n",
              "       [ 1.00000000e+00, -1.43322915e-01, -1.55439190e+00],\n",
              "       [ 1.00000000e+00, -5.04552951e-01, -2.26093368e-01],\n",
              "       [ 1.00000000e+00, -4.91995958e-02,  1.10220517e+00],\n",
              "       [ 1.00000000e+00,  2.40309445e+00, -2.26093368e-01],\n",
              "       [ 1.00000000e+00, -1.14560907e+00, -2.26093368e-01],\n",
              "       [ 1.00000000e+00, -6.90255715e-01, -2.26093368e-01],\n",
              "       [ 1.00000000e+00,  6.68172729e-01, -2.26093368e-01],\n",
              "       [ 1.00000000e+00,  2.53521350e-01, -2.26093368e-01],\n",
              "       [ 1.00000000e+00,  8.09357707e-01, -2.26093368e-01],\n",
              "       [ 1.00000000e+00, -2.05647815e-01, -1.55439190e+00],\n",
              "       [ 1.00000000e+00, -1.27280274e+00, -2.88269044e+00],\n",
              "       [ 1.00000000e+00,  5.00114703e-02,  1.10220517e+00],\n",
              "       [ 1.00000000e+00,  1.44532608e+00, -2.26093368e-01],\n",
              "       [ 1.00000000e+00, -2.41262044e-01,  1.10220517e+00],\n",
              "       [ 1.00000000e+00, -7.16966387e-01, -2.26093368e-01],\n",
              "       [ 1.00000000e+00, -9.68809863e-01, -2.26093368e-01],\n",
              "       [ 1.00000000e+00,  1.67029651e-01,  1.10220517e+00],\n",
              "       [ 1.00000000e+00,  2.81647389e+00,  1.10220517e+00],\n",
              "       [ 1.00000000e+00,  2.05187753e-01,  1.10220517e+00],\n",
              "       [ 1.00000000e+00, -4.28236746e-01, -1.55439190e+00],\n",
              "       [ 1.00000000e+00,  3.01854946e-01, -2.26093368e-01],\n",
              "       [ 1.00000000e+00,  7.20322135e-01,  1.10220517e+00],\n",
              "       [ 1.00000000e+00, -1.01841540e+00, -2.26093368e-01],\n",
              "       [ 1.00000000e+00, -1.46104938e+00, -1.55439190e+00],\n",
              "       [ 1.00000000e+00, -1.89112638e-01,  1.10220517e+00],\n",
              "       [ 1.00000000e+00, -1.01459959e+00, -2.26093368e-01]])"
            ]
          },
          "metadata": {
            "tags": []
          },
          "execution_count": 173
        }
      ]
    },
    {
      "cell_type": "markdown",
      "metadata": {
        "id": "9B8w_gVENBO7"
      },
      "source": [
        "**ANÁLISE DO RESULTADO DA ETAPA:**\n",
        "Como a normalização é feita como uma operação vetorizada e com uso de estruturas de dados e funções das bibliotecas pandas e numpy que permitem a entrada de dados tanto de valores individuais quanto de matrizes completas sem necessidade de declaração explícita das características que serão analisadas, além de otimizar o desempenho do cálculo em comparação com operações tradicionais de loop, em função da operação conhecida como *broadcasting* que percorre todos os exemplos (linhas) de cada característica percorrida. Portanto, a função ```normalizar_característica``` consegue funcionar corretamente independentemente do número de características ou exemplos do conjunto de dados recebido como parâmetro."
      ]
    },
    {
      "cell_type": "markdown",
      "metadata": {
        "id": "_QoUB1dlVbm4"
      },
      "source": [
        "Guardando valores da média e desvio padrão utilizados, para uso posterior.\n",
        "\n",
        "Para armazenamento destas medidas estatísticas, alterei a função ```normalizar_caracteristica``` do código ```normalizacao.py```, apenas acrescentado no retorno as variáveis equivalentes a estas medidas que já eram calculadas na função devido à sua necessidade para o cálculo dos valores normalizados das características do conjunto de dados em análise.\n",
        "\n",
        "Na linha abaixo são aprsentados os valores da média e desvio padrão, respectivamente, para cada característica."
      ]
    },
    {
      "cell_type": "code",
      "metadata": {
        "colab": {
          "base_uri": "https://localhost:8080/"
        },
        "id": "yBnMxmkHVcHE",
        "outputId": "24eca96c-e61e-4264-b09c-2dec00ce1dc1"
      },
      "source": [
        "print(f'Média: {mean_X}\\nDesvio padrão: {std_X}')"
      ],
      "execution_count": null,
      "outputs": [
        {
          "output_type": "stream",
          "text": [
            "Média: [2000.68085106    3.17021277]\n",
            "Desvio padrão: [7.86202619e+02 7.52842809e-01]\n"
          ],
          "name": "stdout"
        }
      ]
    },
    {
      "cell_type": "markdown",
      "metadata": {
        "id": "7uDG_oQWf0ie"
      },
      "source": [
        "##2.2 Gradiente descendente"
      ]
    },
    {
      "cell_type": "markdown",
      "metadata": {
        "id": "qrfswatAgDFa"
      },
      "source": [
        "Implementação da função de custos e do gradiente descendente para regressão linear com múltiplas variáveis"
      ]
    },
    {
      "cell_type": "code",
      "metadata": {
        "id": "YimfzmRnWO2N"
      },
      "source": [
        "from custo_reglin_multi import custo_reglin_multi\n",
        "import gd_reglin_multi"
      ],
      "execution_count": null,
      "outputs": []
    },
    {
      "cell_type": "code",
      "metadata": {
        "colab": {
          "base_uri": "https://localhost:8080/"
        },
        "id": "jIDaxL3jgate",
        "outputId": "21d36585-a009-4029-c123-d7fed6ad6e40"
      },
      "source": [
        "theta = np.array([0,0,0], ndmin=2).T\n",
        "theta"
      ],
      "execution_count": null,
      "outputs": [
        {
          "output_type": "execute_result",
          "data": {
            "text/plain": [
              "array([[0],\n",
              "       [0],\n",
              "       [0]])"
            ]
          },
          "metadata": {
            "tags": []
          },
          "execution_count": 42
        }
      ]
    },
    {
      "cell_type": "code",
      "metadata": {
        "colab": {
          "base_uri": "https://localhost:8080/"
        },
        "id": "_0j6cmTLjibY",
        "outputId": "494fb3c2-cd0c-44eb-a6de-dc01272e0dda"
      },
      "source": [
        "custo_reglin_multi(X_norm, y, theta)"
      ],
      "execution_count": null,
      "outputs": [
        {
          "output_type": "execute_result",
          "data": {
            "text/plain": [
              "65591548106.45744"
            ]
          },
          "metadata": {
            "tags": []
          },
          "execution_count": 43
        }
      ]
    },
    {
      "cell_type": "code",
      "metadata": {
        "id": "2JHhcOVJksPC"
      },
      "source": [
        "custo, theta = gd_reglin_multi.gd(X_norm, y, 0.01, 5000, theta)"
      ],
      "execution_count": null,
      "outputs": []
    },
    {
      "cell_type": "code",
      "metadata": {
        "colab": {
          "base_uri": "https://localhost:8080/"
        },
        "id": "4lX66agvqe21",
        "outputId": "766a769b-84c4-499c-9508-6e7ff209d156"
      },
      "source": [
        "print(f'Custo: {custo}\\nTheta:\\n{theta}')"
      ],
      "execution_count": null,
      "outputs": [
        {
          "output_type": "stream",
          "text": [
            "Custo: 2043280050.6028287\n",
            "Theta:\n",
            "[[340412.65957447]\n",
            " [109447.79645425]\n",
            " [ -6578.35483877]]\n"
          ],
          "name": "stdout"
        }
      ]
    },
    {
      "cell_type": "markdown",
      "metadata": {
        "id": "xx4bupTnrj49"
      },
      "source": [
        "#3 Regressão Logística"
      ]
    },
    {
      "cell_type": "markdown",
      "metadata": {
        "id": "qnAMu2H0sPSc"
      },
      "source": [
        "##Análise preliminar dos dados"
      ]
    },
    {
      "cell_type": "code",
      "metadata": {
        "colab": {
          "base_uri": "https://localhost:8080/"
        },
        "id": "1Jbc_c58sSqO",
        "outputId": "34aa08e1-7dff-4977-a115-2d858c3899a5"
      },
      "source": [
        "#Carga dos dados usando as bibliotecas pandas e numpy\n",
        "arquivo = 'data/ex2data1.txt'\n",
        "dados = pd.read_table(arquivo,\n",
        "                      sep=',',\n",
        "                      header=None,\n",
        "                      names=['Prova 1', 'Prova 2', 'Aprovado'])\n",
        "\n",
        "dados.head()"
      ],
      "execution_count": null,
      "outputs": [
        {
          "output_type": "execute_result",
          "data": {
            "text/html": [
              "<div>\n",
              "<style scoped>\n",
              "    .dataframe tbody tr th:only-of-type {\n",
              "        vertical-align: middle;\n",
              "    }\n",
              "\n",
              "    .dataframe tbody tr th {\n",
              "        vertical-align: top;\n",
              "    }\n",
              "\n",
              "    .dataframe thead th {\n",
              "        text-align: right;\n",
              "    }\n",
              "</style>\n",
              "<table border=\"1\" class=\"dataframe\">\n",
              "  <thead>\n",
              "    <tr style=\"text-align: right;\">\n",
              "      <th></th>\n",
              "      <th>Prova 1</th>\n",
              "      <th>Prova 2</th>\n",
              "      <th>Aprovado</th>\n",
              "    </tr>\n",
              "  </thead>\n",
              "  <tbody>\n",
              "    <tr>\n",
              "      <th>0</th>\n",
              "      <td>34.623660</td>\n",
              "      <td>78.024693</td>\n",
              "      <td>0</td>\n",
              "    </tr>\n",
              "    <tr>\n",
              "      <th>1</th>\n",
              "      <td>30.286711</td>\n",
              "      <td>43.894998</td>\n",
              "      <td>0</td>\n",
              "    </tr>\n",
              "    <tr>\n",
              "      <th>2</th>\n",
              "      <td>35.847409</td>\n",
              "      <td>72.902198</td>\n",
              "      <td>0</td>\n",
              "    </tr>\n",
              "    <tr>\n",
              "      <th>3</th>\n",
              "      <td>60.182599</td>\n",
              "      <td>86.308552</td>\n",
              "      <td>1</td>\n",
              "    </tr>\n",
              "    <tr>\n",
              "      <th>4</th>\n",
              "      <td>79.032736</td>\n",
              "      <td>75.344376</td>\n",
              "      <td>1</td>\n",
              "    </tr>\n",
              "  </tbody>\n",
              "</table>\n",
              "</div>"
            ],
            "text/plain": [
              "     Prova 1    Prova 2  Aprovado\n",
              "0  34.623660  78.024693         0\n",
              "1  30.286711  43.894998         0\n",
              "2  35.847409  72.902198         0\n",
              "3  60.182599  86.308552         1\n",
              "4  79.032736  75.344376         1"
            ]
          },
          "metadata": {
            "tags": []
          },
          "execution_count": 50
        }
      ]
    },
    {
      "cell_type": "code",
      "metadata": {
        "colab": {
          "base_uri": "https://localhost:8080/"
        },
        "id": "eRAYElQWstVC",
        "outputId": "ea33a46f-7ec8-46d4-a67a-59137679c655"
      },
      "source": [
        "dados.describe()"
      ],
      "execution_count": null,
      "outputs": [
        {
          "output_type": "execute_result",
          "data": {
            "text/html": [
              "<div>\n",
              "<style scoped>\n",
              "    .dataframe tbody tr th:only-of-type {\n",
              "        vertical-align: middle;\n",
              "    }\n",
              "\n",
              "    .dataframe tbody tr th {\n",
              "        vertical-align: top;\n",
              "    }\n",
              "\n",
              "    .dataframe thead th {\n",
              "        text-align: right;\n",
              "    }\n",
              "</style>\n",
              "<table border=\"1\" class=\"dataframe\">\n",
              "  <thead>\n",
              "    <tr style=\"text-align: right;\">\n",
              "      <th></th>\n",
              "      <th>Prova 1</th>\n",
              "      <th>Prova 2</th>\n",
              "      <th>Aprovado</th>\n",
              "    </tr>\n",
              "  </thead>\n",
              "  <tbody>\n",
              "    <tr>\n",
              "      <th>count</th>\n",
              "      <td>100.000000</td>\n",
              "      <td>100.000000</td>\n",
              "      <td>100.000000</td>\n",
              "    </tr>\n",
              "    <tr>\n",
              "      <th>mean</th>\n",
              "      <td>65.644274</td>\n",
              "      <td>66.221998</td>\n",
              "      <td>0.600000</td>\n",
              "    </tr>\n",
              "    <tr>\n",
              "      <th>std</th>\n",
              "      <td>19.458222</td>\n",
              "      <td>18.582783</td>\n",
              "      <td>0.492366</td>\n",
              "    </tr>\n",
              "    <tr>\n",
              "      <th>min</th>\n",
              "      <td>30.058822</td>\n",
              "      <td>30.603263</td>\n",
              "      <td>0.000000</td>\n",
              "    </tr>\n",
              "    <tr>\n",
              "      <th>25%</th>\n",
              "      <td>50.919511</td>\n",
              "      <td>48.179205</td>\n",
              "      <td>0.000000</td>\n",
              "    </tr>\n",
              "    <tr>\n",
              "      <th>50%</th>\n",
              "      <td>67.032988</td>\n",
              "      <td>67.682381</td>\n",
              "      <td>1.000000</td>\n",
              "    </tr>\n",
              "    <tr>\n",
              "      <th>75%</th>\n",
              "      <td>80.212529</td>\n",
              "      <td>79.360605</td>\n",
              "      <td>1.000000</td>\n",
              "    </tr>\n",
              "    <tr>\n",
              "      <th>max</th>\n",
              "      <td>99.827858</td>\n",
              "      <td>98.869436</td>\n",
              "      <td>1.000000</td>\n",
              "    </tr>\n",
              "  </tbody>\n",
              "</table>\n",
              "</div>"
            ],
            "text/plain": [
              "          Prova 1     Prova 2    Aprovado\n",
              "count  100.000000  100.000000  100.000000\n",
              "mean    65.644274   66.221998    0.600000\n",
              "std     19.458222   18.582783    0.492366\n",
              "min     30.058822   30.603263    0.000000\n",
              "25%     50.919511   48.179205    0.000000\n",
              "50%     67.032988   67.682381    1.000000\n",
              "75%     80.212529   79.360605    1.000000\n",
              "max     99.827858   98.869436    1.000000"
            ]
          },
          "metadata": {
            "tags": []
          },
          "execution_count": 51
        }
      ]
    },
    {
      "cell_type": "code",
      "metadata": {
        "colab": {
          "base_uri": "https://localhost:8080/"
        },
        "id": "w7kMxbd5tDJV",
        "outputId": "3d8d8c62-21db-45cd-9ebe-8fc3fcba8791"
      },
      "source": [
        "dados.info()"
      ],
      "execution_count": null,
      "outputs": [
        {
          "output_type": "stream",
          "text": [
            "<class 'pandas.core.frame.DataFrame'>\n",
            "RangeIndex: 100 entries, 0 to 99\n",
            "Data columns (total 3 columns):\n",
            " #   Column    Non-Null Count  Dtype  \n",
            "---  ------    --------------  -----  \n",
            " 0   Prova 1   100 non-null    float64\n",
            " 1   Prova 2   100 non-null    float64\n",
            " 2   Aprovado  100 non-null    int64  \n",
            "dtypes: float64(2), int64(1)\n",
            "memory usage: 2.5 KB\n"
          ],
          "name": "stdout"
        }
      ]
    },
    {
      "cell_type": "markdown",
      "metadata": {
        "id": "BgC90PsbrqRR"
      },
      "source": [
        "##3.1 Visualização dos dados"
      ]
    },
    {
      "cell_type": "code",
      "metadata": {
        "id": "7_kna_7Xq62k"
      },
      "source": [
        "import plot_ex2data1"
      ],
      "execution_count": null,
      "outputs": []
    },
    {
      "cell_type": "markdown",
      "metadata": {
        "id": "eo9s-BWA9jO-"
      },
      "source": [
        "A visualização a seguir apresenta a dispersão dos resultados de aprovação ou reprovação em função das notas das provas 1 e 2."
      ]
    },
    {
      "cell_type": "code",
      "metadata": {
        "colab": {
          "base_uri": "https://localhost:8080/"
        },
        "id": "Q-YHXZ86rG4h",
        "outputId": "413df588-822f-4eec-82dd-2fe31cf57a24"
      },
      "source": [
        "plot_ex2data1.plot(dados)"
      ],
      "execution_count": null,
      "outputs": [
        {
          "output_type": "display_data",
          "data": {
            "image/png": "[encoded data removed]",
            "text/plain": [
              "<Figure size 864x576 with 1 Axes>"
            ]
          },
          "metadata": {
            "tags": [],
            "needs_background": "light"
          }
        }
      ]
    },
    {
      "cell_type": "markdown",
      "metadata": {
        "id": "JjUdAPcN94Tb"
      },
      "source": [
        "##3.2 Implementação"
      ]
    },
    {
      "cell_type": "markdown",
      "metadata": {
        "id": "g3O2odFr-D5x"
      },
      "source": [
        "###3.2.1 Função Sigmoide"
      ]
    },
    {
      "cell_type": "code",
      "metadata": {
        "id": "JTA_vR0K-B-R"
      },
      "source": [
        "from sigmoide import sigmoide"
      ],
      "execution_count": null,
      "outputs": []
    },
    {
      "cell_type": "code",
      "metadata": {
        "colab": {
          "base_uri": "https://localhost:8080/"
        },
        "id": "U6TuooBW-NWF",
        "outputId": "ef8eba01-1d1e-45f5-fc2d-6b9fa3fd765d"
      },
      "source": [
        "sigmoide(0)"
      ],
      "execution_count": null,
      "outputs": [
        {
          "output_type": "execute_result",
          "data": {
            "text/plain": [
              "0.5"
            ]
          },
          "metadata": {
            "tags": []
          },
          "execution_count": 56
        }
      ]
    },
    {
      "cell_type": "markdown",
      "metadata": {
        "id": "nG7lrGrI-c3_"
      },
      "source": [
        "Para teste da função ```sigmoide``` implementada, esta foi executada com parâmetro ```z=0```. O resultado esperado como retorno para este caso é um valor de 0.5."
      ]
    },
    {
      "cell_type": "markdown",
      "metadata": {
        "id": "B23KrMeW--TC"
      },
      "source": [
        "###3.2.2 Função de custo e gradiente descendente"
      ]
    },
    {
      "cell_type": "markdown",
      "metadata": {
        "id": "KFzvSbC2iopi"
      },
      "source": [
        "Uso da função ```importarDados``` para carregar as estruturas de dados necessárias para computação das funções de custo e do gradiente descendente."
      ]
    },
    {
      "cell_type": "code",
      "metadata": {
        "id": "JRxLl8MD_CZt"
      },
      "source": [
        "from custo_reglog import custo_reglog"
      ],
      "execution_count": null,
      "outputs": []
    },
    {
      "cell_type": "code",
      "metadata": {
        "id": "eiEd7NYGYIYC"
      },
      "source": [
        "dados, X, y = plot_ex2data1.importarDados(insertOnes=False)"
      ],
      "execution_count": null,
      "outputs": []
    },
    {
      "cell_type": "code",
      "metadata": {
        "colab": {
          "base_uri": "https://localhost:8080/"
        },
        "id": "L_z-U_3HY6dt",
        "outputId": "4a99e425-89c3-4a3b-c500-c33ed73d823d"
      },
      "source": [
        "X.shape"
      ],
      "execution_count": null,
      "outputs": [
        {
          "output_type": "execute_result",
          "data": {
            "text/plain": [
              "(100, 2)"
            ]
          },
          "metadata": {
            "tags": []
          },
          "execution_count": 59
        }
      ]
    },
    {
      "cell_type": "code",
      "metadata": {
        "id": "APvapCwzYN1J"
      },
      "source": [
        "examData_norm, mean_examData, std_examData = normalizar_caracteristica(X)"
      ],
      "execution_count": null,
      "outputs": []
    },
    {
      "cell_type": "code",
      "metadata": {
        "colab": {
          "base_uri": "https://localhost:8080/"
        },
        "id": "OJi5HxWrY_Zi",
        "outputId": "806b5da1-6629-4a56-f37b-edf4cd66496a"
      },
      "source": [
        "examData_norm.shape"
      ],
      "execution_count": null,
      "outputs": [
        {
          "output_type": "execute_result",
          "data": {
            "text/plain": [
              "(100, 3)"
            ]
          },
          "metadata": {
            "tags": []
          },
          "execution_count": 61
        }
      ]
    },
    {
      "cell_type": "code",
      "metadata": {
        "id": "g7h9-npYZDeV"
      },
      "source": [
        "labels_norm, mean_labels, std_labels = normalizar(y)"
      ],
      "execution_count": null,
      "outputs": []
    },
    {
      "cell_type": "code",
      "metadata": {
        "colab": {
          "base_uri": "https://localhost:8080/"
        },
        "id": "KG7-EfbZZDsl",
        "outputId": "a1aea34c-4506-42b0-8a77-533067d731ef"
      },
      "source": [
        "y.shape"
      ],
      "execution_count": null,
      "outputs": [
        {
          "output_type": "execute_result",
          "data": {
            "text/plain": [
              "(100, 1)"
            ]
          },
          "metadata": {
            "tags": []
          },
          "execution_count": 63
        }
      ]
    },
    {
      "cell_type": "code",
      "metadata": {
        "colab": {
          "base_uri": "https://localhost:8080/"
        },
        "id": "NGCfuJ5-ZFm3",
        "outputId": "70a9b6ba-923f-4dd6-8be1-f7494ea9f45f"
      },
      "source": [
        "labels_norm.shape"
      ],
      "execution_count": null,
      "outputs": [
        {
          "output_type": "execute_result",
          "data": {
            "text/plain": [
              "(100, 1)"
            ]
          },
          "metadata": {
            "tags": []
          },
          "execution_count": 64
        }
      ]
    },
    {
      "cell_type": "code",
      "metadata": {
        "id": "GmiyQ_zoZa89"
      },
      "source": [
        "y2, mean_y2, std_y2 = normalizar_caracteristica(y)"
      ],
      "execution_count": null,
      "outputs": []
    },
    {
      "cell_type": "code",
      "metadata": {
        "colab": {
          "base_uri": "https://localhost:8080/"
        },
        "id": "APylsmBZZmry",
        "outputId": "3d300cbe-28f5-438c-90a6-0b22556a7f19"
      },
      "source": [
        "y2"
      ],
      "execution_count": null,
      "outputs": [
        {
          "output_type": "execute_result",
          "data": {
            "text/plain": [
              "array([[ 1.        , -1.22474487],\n",
              "       [ 1.        , -1.22474487],\n",
              "       [ 1.        , -1.22474487],\n",
              "       [ 1.        ,  0.81649658],\n",
              "       [ 1.        ,  0.81649658],\n",
              "       [ 1.        , -1.22474487],\n",
              "       [ 1.        ,  0.81649658],\n",
              "       [ 1.        ,  0.81649658],\n",
              "       [ 1.        ,  0.81649658],\n",
              "       [ 1.        ,  0.81649658],\n",
              "       [ 1.        , -1.22474487],\n",
              "       [ 1.        , -1.22474487],\n",
              "       [ 1.        ,  0.81649658],\n",
              "       [ 1.        ,  0.81649658],\n",
              "       [ 1.        , -1.22474487],\n",
              "       [ 1.        ,  0.81649658],\n",
              "       [ 1.        ,  0.81649658],\n",
              "       [ 1.        , -1.22474487],\n",
              "       [ 1.        ,  0.81649658],\n",
              "       [ 1.        ,  0.81649658],\n",
              "       [ 1.        , -1.22474487],\n",
              "       [ 1.        ,  0.81649658],\n",
              "       [ 1.        , -1.22474487],\n",
              "       [ 1.        , -1.22474487],\n",
              "       [ 1.        ,  0.81649658],\n",
              "       [ 1.        ,  0.81649658],\n",
              "       [ 1.        ,  0.81649658],\n",
              "       [ 1.        , -1.22474487],\n",
              "       [ 1.        , -1.22474487],\n",
              "       [ 1.        , -1.22474487],\n",
              "       [ 1.        ,  0.81649658],\n",
              "       [ 1.        ,  0.81649658],\n",
              "       [ 1.        , -1.22474487],\n",
              "       [ 1.        ,  0.81649658],\n",
              "       [ 1.        , -1.22474487],\n",
              "       [ 1.        , -1.22474487],\n",
              "       [ 1.        , -1.22474487],\n",
              "       [ 1.        ,  0.81649658],\n",
              "       [ 1.        , -1.22474487],\n",
              "       [ 1.        , -1.22474487],\n",
              "       [ 1.        ,  0.81649658],\n",
              "       [ 1.        , -1.22474487],\n",
              "       [ 1.        ,  0.81649658],\n",
              "       [ 1.        , -1.22474487],\n",
              "       [ 1.        , -1.22474487],\n",
              "       [ 1.        , -1.22474487],\n",
              "       [ 1.        ,  0.81649658],\n",
              "       [ 1.        ,  0.81649658],\n",
              "       [ 1.        ,  0.81649658],\n",
              "       [ 1.        ,  0.81649658],\n",
              "       [ 1.        ,  0.81649658],\n",
              "       [ 1.        ,  0.81649658],\n",
              "       [ 1.        ,  0.81649658],\n",
              "       [ 1.        , -1.22474487],\n",
              "       [ 1.        , -1.22474487],\n",
              "       [ 1.        , -1.22474487],\n",
              "       [ 1.        ,  0.81649658],\n",
              "       [ 1.        , -1.22474487],\n",
              "       [ 1.        ,  0.81649658],\n",
              "       [ 1.        ,  0.81649658],\n",
              "       [ 1.        ,  0.81649658],\n",
              "       [ 1.        , -1.22474487],\n",
              "       [ 1.        , -1.22474487],\n",
              "       [ 1.        , -1.22474487],\n",
              "       [ 1.        , -1.22474487],\n",
              "       [ 1.        , -1.22474487],\n",
              "       [ 1.        ,  0.81649658],\n",
              "       [ 1.        , -1.22474487],\n",
              "       [ 1.        ,  0.81649658],\n",
              "       [ 1.        ,  0.81649658],\n",
              "       [ 1.        , -1.22474487],\n",
              "       [ 1.        ,  0.81649658],\n",
              "       [ 1.        ,  0.81649658],\n",
              "       [ 1.        ,  0.81649658],\n",
              "       [ 1.        ,  0.81649658],\n",
              "       [ 1.        ,  0.81649658],\n",
              "       [ 1.        ,  0.81649658],\n",
              "       [ 1.        ,  0.81649658],\n",
              "       [ 1.        , -1.22474487],\n",
              "       [ 1.        , -1.22474487],\n",
              "       [ 1.        ,  0.81649658],\n",
              "       [ 1.        ,  0.81649658],\n",
              "       [ 1.        ,  0.81649658],\n",
              "       [ 1.        ,  0.81649658],\n",
              "       [ 1.        ,  0.81649658],\n",
              "       [ 1.        ,  0.81649658],\n",
              "       [ 1.        , -1.22474487],\n",
              "       [ 1.        ,  0.81649658],\n",
              "       [ 1.        ,  0.81649658],\n",
              "       [ 1.        , -1.22474487],\n",
              "       [ 1.        ,  0.81649658],\n",
              "       [ 1.        ,  0.81649658],\n",
              "       [ 1.        , -1.22474487],\n",
              "       [ 1.        ,  0.81649658],\n",
              "       [ 1.        ,  0.81649658],\n",
              "       [ 1.        ,  0.81649658],\n",
              "       [ 1.        ,  0.81649658],\n",
              "       [ 1.        ,  0.81649658],\n",
              "       [ 1.        ,  0.81649658],\n",
              "       [ 1.        ,  0.81649658]])"
            ]
          },
          "metadata": {
            "tags": []
          },
          "execution_count": 66
        }
      ]
    },
    {
      "cell_type": "markdown",
      "metadata": {
        "id": "8ZcNbXzruj5F"
      },
      "source": [
        "Inicialização dos valores de $\\theta$ como zero, para submissão à função de custos."
      ]
    },
    {
      "cell_type": "code",
      "metadata": {
        "colab": {
          "base_uri": "https://localhost:8080/"
        },
        "id": "SsrHSsCbbREY",
        "outputId": "0021e1d8-90d1-47cb-84e8-9f5049a10eb3"
      },
      "source": [
        "theta = np.array([0,0,0], ndmin=2)\n",
        "theta"
      ],
      "execution_count": null,
      "outputs": [
        {
          "output_type": "execute_result",
          "data": {
            "text/plain": [
              "array([[0, 0, 0]])"
            ]
          },
          "metadata": {
            "tags": []
          },
          "execution_count": 67
        }
      ]
    },
    {
      "cell_type": "code",
      "metadata": {
        "colab": {
          "base_uri": "https://localhost:8080/"
        },
        "id": "p4mW-vVRbWn6",
        "outputId": "5b7d4253-8de7-4b0f-c210-50b6203b0403"
      },
      "source": [
        "theta.shape"
      ],
      "execution_count": null,
      "outputs": [
        {
          "output_type": "execute_result",
          "data": {
            "text/plain": [
              "(1, 3)"
            ]
          },
          "metadata": {
            "tags": []
          },
          "execution_count": 68
        }
      ]
    },
    {
      "cell_type": "code",
      "metadata": {
        "id": "l78vY4VYbE3f"
      },
      "source": [
        "Jnorm = custo_reglog(theta, examData_norm, labels_norm)"
      ],
      "execution_count": null,
      "outputs": []
    },
    {
      "cell_type": "code",
      "metadata": {
        "colab": {
          "base_uri": "https://localhost:8080/"
        },
        "id": "mI45m7mtb-Xj",
        "outputId": "517025c7-a3aa-4a10-a84a-0f8cd9cc07ea"
      },
      "source": [
        "Jnorm"
      ],
      "execution_count": null,
      "outputs": [
        {
          "output_type": "execute_result",
          "data": {
            "text/plain": [
              "0.6931471805599453"
            ]
          },
          "metadata": {
            "tags": []
          },
          "execution_count": 70
        }
      ]
    },
    {
      "cell_type": "code",
      "metadata": {
        "id": "swTmAUYodDCX"
      },
      "source": [
        "X = np.c_[np.ones((X.shape[0], 1)), X]"
      ],
      "execution_count": null,
      "outputs": []
    },
    {
      "cell_type": "code",
      "metadata": {
        "colab": {
          "base_uri": "https://localhost:8080/"
        },
        "id": "QsJHT2CVikVv",
        "outputId": "b9a30e3c-1040-46b4-b6d0-20595a7b000b"
      },
      "source": [
        "J = custo_reglog(theta, X, y)\n",
        "J"
      ],
      "execution_count": null,
      "outputs": [
        {
          "output_type": "execute_result",
          "data": {
            "text/plain": [
              "0.6931471805599453"
            ]
          },
          "metadata": {
            "tags": []
          },
          "execution_count": 72
        }
      ]
    },
    {
      "cell_type": "markdown",
      "metadata": {
        "id": "Gr3twslPi3Sp"
      },
      "source": [
        "Ao executar a função de custo com os valores de $\\theta$ zerados, tando com os valores originais quanto com os valores normalizados, obtemos o custo de 0.693, o que corresponde ao valor esperado para o teste da função."
      ]
    },
    {
      "cell_type": "markdown",
      "metadata": {
        "id": "QFz2zkbCjhAw"
      },
      "source": [
        "**Comentários sobre a normalização dos conjunto de dados**\n",
        "* O código proposto no exercício, ***seção 3.2.2 - Listagem 2***, indica a normalização dos atributos, por isso na etapa anterior realizamos os testes tanto com os dados originais quanto com estes normalizados.\n",
        "* Contudo, a listagem dos dados originais (reproduzida a seguir) indica que os atributos estão em uma ordem de grandeza similar. Portanto, será averiguada na continuidade da análise se há necessidade de normalização ou não, mas a princípio esta normalização aparenta ser desnecessária para este conjunto de dados.\n",
        "* Apesar destas considerações, a normalização para garantir que as características tenham escalas similares é importante para que o gradiente descedente não demore muito para convergir para o mínimo global da função em modelos que não tenham um único mínimo da função de custo."
      ]
    },
    {
      "cell_type": "code",
      "metadata": {
        "colab": {
          "base_uri": "https://localhost:8080/"
        },
        "id": "y_GCGQI_ja-U",
        "outputId": "ada1c109-2283-4d71-ee55-c5dcfaf57d6b"
      },
      "source": [
        "dados.describe()"
      ],
      "execution_count": null,
      "outputs": [
        {
          "output_type": "execute_result",
          "data": {
            "text/html": [
              "<div>\n",
              "<style scoped>\n",
              "    .dataframe tbody tr th:only-of-type {\n",
              "        vertical-align: middle;\n",
              "    }\n",
              "\n",
              "    .dataframe tbody tr th {\n",
              "        vertical-align: top;\n",
              "    }\n",
              "\n",
              "    .dataframe thead th {\n",
              "        text-align: right;\n",
              "    }\n",
              "</style>\n",
              "<table border=\"1\" class=\"dataframe\">\n",
              "  <thead>\n",
              "    <tr style=\"text-align: right;\">\n",
              "      <th></th>\n",
              "      <th>Prova 1</th>\n",
              "      <th>Prova 2</th>\n",
              "      <th>Aprovado</th>\n",
              "    </tr>\n",
              "  </thead>\n",
              "  <tbody>\n",
              "    <tr>\n",
              "      <th>count</th>\n",
              "      <td>100.000000</td>\n",
              "      <td>100.000000</td>\n",
              "      <td>100.000000</td>\n",
              "    </tr>\n",
              "    <tr>\n",
              "      <th>mean</th>\n",
              "      <td>65.644274</td>\n",
              "      <td>66.221998</td>\n",
              "      <td>0.600000</td>\n",
              "    </tr>\n",
              "    <tr>\n",
              "      <th>std</th>\n",
              "      <td>19.458222</td>\n",
              "      <td>18.582783</td>\n",
              "      <td>0.492366</td>\n",
              "    </tr>\n",
              "    <tr>\n",
              "      <th>min</th>\n",
              "      <td>30.058822</td>\n",
              "      <td>30.603263</td>\n",
              "      <td>0.000000</td>\n",
              "    </tr>\n",
              "    <tr>\n",
              "      <th>25%</th>\n",
              "      <td>50.919511</td>\n",
              "      <td>48.179205</td>\n",
              "      <td>0.000000</td>\n",
              "    </tr>\n",
              "    <tr>\n",
              "      <th>50%</th>\n",
              "      <td>67.032988</td>\n",
              "      <td>67.682381</td>\n",
              "      <td>1.000000</td>\n",
              "    </tr>\n",
              "    <tr>\n",
              "      <th>75%</th>\n",
              "      <td>80.212529</td>\n",
              "      <td>79.360605</td>\n",
              "      <td>1.000000</td>\n",
              "    </tr>\n",
              "    <tr>\n",
              "      <th>max</th>\n",
              "      <td>99.827858</td>\n",
              "      <td>98.869436</td>\n",
              "      <td>1.000000</td>\n",
              "    </tr>\n",
              "  </tbody>\n",
              "</table>\n",
              "</div>"
            ],
            "text/plain": [
              "          Prova 1     Prova 2    Aprovado\n",
              "count  100.000000  100.000000  100.000000\n",
              "mean    65.644274   66.221998    0.600000\n",
              "std     19.458222   18.582783    0.492366\n",
              "min     30.058822   30.603263    0.000000\n",
              "25%     50.919511   48.179205    0.000000\n",
              "50%     67.032988   67.682381    1.000000\n",
              "75%     80.212529   79.360605    1.000000\n",
              "max     99.827858   98.869436    1.000000"
            ]
          },
          "metadata": {
            "tags": []
          },
          "execution_count": 73
        }
      ]
    },
    {
      "cell_type": "markdown",
      "metadata": {
        "id": "ljkRpLHBk4mc"
      },
      "source": [
        "###3.2.3 Aprendizado dos parâmetros"
      ]
    },
    {
      "cell_type": "markdown",
      "metadata": {
        "id": "19iVUvDJxkae"
      },
      "source": [
        "Neste ponto usamos a função ```fmin_tnc``` da biblioteca ```scipy.optimize``` e a implmentação do gradiente descendente para encontrar o vetor de $\\theta$ que minimiza a função de custo."
      ]
    },
    {
      "cell_type": "code",
      "metadata": {
        "id": "8sn1oidNYhge"
      },
      "source": [
        "import scipy.optimize as opt"
      ],
      "execution_count": null,
      "outputs": []
    },
    {
      "cell_type": "code",
      "metadata": {
        "id": "lb1UlbZBYquV"
      },
      "source": [
        "from gd_reglog import gd_reglog"
      ],
      "execution_count": null,
      "outputs": []
    },
    {
      "cell_type": "code",
      "metadata": {
        "id": "LxazJxfjcC-Z"
      },
      "source": [
        "result = opt.fmin_tnc(func=custo_reglog,\n",
        "                      x0=theta,\n",
        "                      fprime=gd_reglog,\n",
        "                      args=(X, y))"
      ],
      "execution_count": null,
      "outputs": []
    },
    {
      "cell_type": "code",
      "metadata": {
        "colab": {
          "base_uri": "https://localhost:8080/"
        },
        "id": "tLqgRZkRdHoG",
        "outputId": "342cbf75-c1ce-4fc9-bec9-2ff3b5163428"
      },
      "source": [
        "result[0]"
      ],
      "execution_count": null,
      "outputs": [
        {
          "output_type": "execute_result",
          "data": {
            "text/plain": [
              "array([-25.16131861,   0.20623159,   0.20147149])"
            ]
          },
          "metadata": {
            "tags": []
          },
          "execution_count": 77
        }
      ]
    },
    {
      "cell_type": "markdown",
      "metadata": {
        "id": "HqN6iMTDme6T"
      },
      "source": [
        "Com a aplicação do gradiente descendente encontramos os vetor $\\theta = [-25.16131861,   0.20623159,   0.20147149]^T$.\n",
        "\n",
        "---\n",
        "\n",
        "Usamos este vetor para calcular a função de custo e encontramos um valor de 0.203, conforme código a seguir."
      ]
    },
    {
      "cell_type": "code",
      "metadata": {
        "colab": {
          "base_uri": "https://localhost:8080/"
        },
        "id": "MduvlnQ5evAf",
        "outputId": "59245024-51dc-4059-a738-b5f9ebbc5081"
      },
      "source": [
        "custo_reglog(result[0], X, y)"
      ],
      "execution_count": null,
      "outputs": [
        {
          "output_type": "execute_result",
          "data": {
            "text/plain": [
              "0.2034977015894746"
            ]
          },
          "metadata": {
            "tags": []
          },
          "execution_count": 78
        }
      ]
    },
    {
      "cell_type": "markdown",
      "metadata": {
        "id": "6al1vgxmma7d"
      },
      "source": [
        "###3.2.4 Avaliação do modelo"
      ]
    },
    {
      "cell_type": "markdown",
      "metadata": {
        "id": "5o63pjTnw3Xw"
      },
      "source": [
        "As funções a seguir realizam a predição e a probabilidade desta predição usando os parâmetros (vetor *theta*) calculados na etapa anterior."
      ]
    },
    {
      "cell_type": "code",
      "metadata": {
        "id": "_W9PmvUmaHx4"
      },
      "source": [
        "#from predizer_aprovacao import predizer, acuracia\n",
        "\"\"\"\n",
        "Funções do exercício substituídas pelas versões abaixo devido necessidades de \n",
        "ajuste na forma como os dados são recebidos, tratados ou calculados.\n",
        "\"\"\"\n",
        "\n",
        "def pred_log(theta, x):\n",
        "  \"\"\"\n",
        "  Função realizada predição da classe para x de acordo com os valores de theta.\n",
        "  \"\"\"\n",
        "  y_prob = prob_log(theta,x)\n",
        "  return np.round(y_prob).astype(np.int)\n",
        "\n",
        "def prob_log(theta, x):\n",
        "  \"\"\"\n",
        "  Função calcula a probabilidade de x pertencer a classe 1\n",
        "  \"\"\"\n",
        "  return sigmoide(np.dot(x, theta))"
      ],
      "execution_count": null,
      "outputs": []
    },
    {
      "cell_type": "markdown",
      "metadata": {
        "id": "AUxBEHRIqKWY"
      },
      "source": [
        "Aplicando os valores de $\\theta$ para prever a aprovação de uma luno com notas 45 e 85 para provas 1 e 2, respectivamente, encontramos o seguinte resultado:\n",
        "* Previsão: Aprovação;\n",
        "* Probabilidade: 0,8."
      ]
    },
    {
      "cell_type": "code",
      "metadata": {
        "id": "NwEHEPsqdVN7"
      },
      "source": [
        "aluno = np.array([1., 45., 85.], ndmin=2)"
      ],
      "execution_count": null,
      "outputs": []
    },
    {
      "cell_type": "code",
      "metadata": {
        "colab": {
          "base_uri": "https://localhost:8080/"
        },
        "id": "PxGLhQtHdlGr",
        "outputId": "1dfa76b0-5ade-4141-fde8-cae948ff5213"
      },
      "source": [
        "aluno.T.shape"
      ],
      "execution_count": null,
      "outputs": [
        {
          "output_type": "execute_result",
          "data": {
            "text/plain": [
              "(3, 1)"
            ]
          },
          "metadata": {
            "tags": []
          },
          "execution_count": 81
        }
      ]
    },
    {
      "cell_type": "code",
      "metadata": {
        "colab": {
          "base_uri": "https://localhost:8080/"
        },
        "id": "Sk4IMIXWc6jX",
        "outputId": "8d50e81e-ad78-4ade-8822-42bca2db4f20"
      },
      "source": [
        "p = pred_log(result[0], aluno)\n",
        "print(p)"
      ],
      "execution_count": null,
      "outputs": [
        {
          "output_type": "stream",
          "text": [
            "[1]\n"
          ],
          "name": "stdout"
        }
      ]
    },
    {
      "cell_type": "code",
      "metadata": {
        "colab": {
          "base_uri": "https://localhost:8080/"
        },
        "id": "Hc4T3xZRqkw3",
        "outputId": "cb292aac-a71e-4c4d-873e-f2602e3942e7"
      },
      "source": [
        "situacao = ['Aprovado' if p[0] == 1 else 'Reprovado']\n",
        "print(situacao)"
      ],
      "execution_count": null,
      "outputs": [
        {
          "output_type": "stream",
          "text": [
            "['Aprovado']\n"
          ],
          "name": "stdout"
        }
      ]
    },
    {
      "cell_type": "code",
      "metadata": {
        "id": "ANV18_XHeAOc"
      },
      "source": [
        "probAluno = prob_log(result[0], aluno)"
      ],
      "execution_count": null,
      "outputs": []
    },
    {
      "cell_type": "code",
      "metadata": {
        "colab": {
          "base_uri": "https://localhost:8080/"
        },
        "id": "zqoogoutpoBZ",
        "outputId": "11e1cfa9-69c7-446d-f479-2f4e66b81aaa"
      },
      "source": [
        "print(f'{probAluno[0]:.1f}')"
      ],
      "execution_count": null,
      "outputs": [
        {
          "output_type": "stream",
          "text": [
            "0.8\n"
          ],
          "name": "stdout"
        }
      ]
    },
    {
      "cell_type": "markdown",
      "metadata": {
        "id": "-MRH3yKR0mt-"
      },
      "source": [
        "Aplicando os valores de $\\theta$ para prever a aprovação em relação aos dados da matriz $X$ que contém os valores origiais do conjunto de treinamento.\n",
        "* Previsão: Os valores 1 no vetor resultante equivalem à aprovação do aluno, enquanto os valores 0 equivalem à reprovação;\n",
        "* Acurácia: apresenta a percentagem de acertos."
      ]
    },
    {
      "cell_type": "code",
      "metadata": {
        "id": "sa11OuSSaMQF"
      },
      "source": [
        "previsao = pred_log(result[0], X)"
      ],
      "execution_count": null,
      "outputs": []
    },
    {
      "cell_type": "code",
      "metadata": {
        "colab": {
          "base_uri": "https://localhost:8080/"
        },
        "id": "taLsxDDhadKN",
        "outputId": "436fb4cd-15db-43e0-fd67-697c91792c0d"
      },
      "source": [
        "print(previsao)"
      ],
      "execution_count": null,
      "outputs": [
        {
          "output_type": "stream",
          "text": [
            "[0 0 0 1 1 0 1 0 1 1 1 0 1 1 0 1 0 0 1 1 0 1 0 0 1 1 1 1 0 0 1 1 0 0 0 0 1\n",
            " 1 0 0 1 0 1 1 0 0 1 1 1 1 1 1 1 0 0 0 1 1 1 1 1 0 0 0 0 0 1 0 1 1 0 1 1 1\n",
            " 1 1 1 1 0 1 1 1 1 0 1 1 0 1 1 0 1 1 0 1 1 1 1 1 0 1]\n"
          ],
          "name": "stdout"
        }
      ]
    },
    {
      "cell_type": "code",
      "metadata": {
        "id": "7CQtVmWja0y2"
      },
      "source": [
        "def acur(X, y, result):\n",
        "    theta_min = np.matrix(result[0]).T  \n",
        "    #predicoes = predict(theta_min, X)  \n",
        "    predicoes = pred_log(theta_min, X)  \n",
        "    corretas = [1 if ((a == 1 and b == 1) or (a == 0 and b == 0)) else 0 for (a, b) in zip(predicoes, y)]  \n",
        "    return (sum(map(int, corretas)) % len(corretas))"
      ],
      "execution_count": null,
      "outputs": []
    },
    {
      "cell_type": "code",
      "metadata": {
        "colab": {
          "base_uri": "https://localhost:8080/"
        },
        "id": "pVyOxkfyaR6e",
        "outputId": "75add91f-b035-472a-c8e1-81cafff7521e"
      },
      "source": [
        "acur(X, y, result)"
      ],
      "execution_count": null,
      "outputs": [
        {
          "output_type": "execute_result",
          "data": {
            "text/plain": [
              "89"
            ]
          },
          "metadata": {
            "tags": []
          },
          "execution_count": 89
        }
      ]
    },
    {
      "cell_type": "markdown",
      "metadata": {
        "id": "1PEMHr_zh02n"
      },
      "source": [
        "#4 Regressão Logística com Regularização"
      ]
    },
    {
      "cell_type": "markdown",
      "metadata": {
        "id": "5ITbQ25XqwmG"
      },
      "source": [
        "##Análise preliminar dos dados"
      ]
    },
    {
      "cell_type": "code",
      "metadata": {
        "id": "l0CdeZC-8yT3"
      },
      "source": [
        "data = pd.read_csv('data/ex2data2.txt',\n",
        "                   header = None,\n",
        "                   names = ['Teste 1', 'Teste 2', 'Status'])"
      ],
      "execution_count": null,
      "outputs": []
    },
    {
      "cell_type": "code",
      "metadata": {
        "colab": {
          "base_uri": "https://localhost:8080/"
        },
        "id": "6dWwjCsGqzbq",
        "outputId": "997541dd-ccd2-47ef-ff75-43c2b7188091"
      },
      "source": [
        "data.head()"
      ],
      "execution_count": null,
      "outputs": [
        {
          "output_type": "execute_result",
          "data": {
            "text/html": [
              "<div>\n",
              "<style scoped>\n",
              "    .dataframe tbody tr th:only-of-type {\n",
              "        vertical-align: middle;\n",
              "    }\n",
              "\n",
              "    .dataframe tbody tr th {\n",
              "        vertical-align: top;\n",
              "    }\n",
              "\n",
              "    .dataframe thead th {\n",
              "        text-align: right;\n",
              "    }\n",
              "</style>\n",
              "<table border=\"1\" class=\"dataframe\">\n",
              "  <thead>\n",
              "    <tr style=\"text-align: right;\">\n",
              "      <th></th>\n",
              "      <th>Teste 1</th>\n",
              "      <th>Teste 2</th>\n",
              "      <th>Status</th>\n",
              "    </tr>\n",
              "  </thead>\n",
              "  <tbody>\n",
              "    <tr>\n",
              "      <th>0</th>\n",
              "      <td>0.051267</td>\n",
              "      <td>0.69956</td>\n",
              "      <td>1</td>\n",
              "    </tr>\n",
              "    <tr>\n",
              "      <th>1</th>\n",
              "      <td>-0.092742</td>\n",
              "      <td>0.68494</td>\n",
              "      <td>1</td>\n",
              "    </tr>\n",
              "    <tr>\n",
              "      <th>2</th>\n",
              "      <td>-0.213710</td>\n",
              "      <td>0.69225</td>\n",
              "      <td>1</td>\n",
              "    </tr>\n",
              "    <tr>\n",
              "      <th>3</th>\n",
              "      <td>-0.375000</td>\n",
              "      <td>0.50219</td>\n",
              "      <td>1</td>\n",
              "    </tr>\n",
              "    <tr>\n",
              "      <th>4</th>\n",
              "      <td>-0.513250</td>\n",
              "      <td>0.46564</td>\n",
              "      <td>1</td>\n",
              "    </tr>\n",
              "  </tbody>\n",
              "</table>\n",
              "</div>"
            ],
            "text/plain": [
              "    Teste 1  Teste 2  Status\n",
              "0  0.051267  0.69956       1\n",
              "1 -0.092742  0.68494       1\n",
              "2 -0.213710  0.69225       1\n",
              "3 -0.375000  0.50219       1\n",
              "4 -0.513250  0.46564       1"
            ]
          },
          "metadata": {
            "tags": []
          },
          "execution_count": 91
        }
      ]
    },
    {
      "cell_type": "code",
      "metadata": {
        "colab": {
          "base_uri": "https://localhost:8080/"
        },
        "id": "8l85gXHvq1XV",
        "outputId": "e4b39064-51fe-4eb1-aa25-ec235f156c14"
      },
      "source": [
        "data.describe()"
      ],
      "execution_count": null,
      "outputs": [
        {
          "output_type": "execute_result",
          "data": {
            "text/html": [
              "<div>\n",
              "<style scoped>\n",
              "    .dataframe tbody tr th:only-of-type {\n",
              "        vertical-align: middle;\n",
              "    }\n",
              "\n",
              "    .dataframe tbody tr th {\n",
              "        vertical-align: top;\n",
              "    }\n",
              "\n",
              "    .dataframe thead th {\n",
              "        text-align: right;\n",
              "    }\n",
              "</style>\n",
              "<table border=\"1\" class=\"dataframe\">\n",
              "  <thead>\n",
              "    <tr style=\"text-align: right;\">\n",
              "      <th></th>\n",
              "      <th>Teste 1</th>\n",
              "      <th>Teste 2</th>\n",
              "      <th>Status</th>\n",
              "    </tr>\n",
              "  </thead>\n",
              "  <tbody>\n",
              "    <tr>\n",
              "      <th>count</th>\n",
              "      <td>118.000000</td>\n",
              "      <td>118.000000</td>\n",
              "      <td>118.000000</td>\n",
              "    </tr>\n",
              "    <tr>\n",
              "      <th>mean</th>\n",
              "      <td>0.054779</td>\n",
              "      <td>0.183102</td>\n",
              "      <td>0.491525</td>\n",
              "    </tr>\n",
              "    <tr>\n",
              "      <th>std</th>\n",
              "      <td>0.496654</td>\n",
              "      <td>0.519743</td>\n",
              "      <td>0.502060</td>\n",
              "    </tr>\n",
              "    <tr>\n",
              "      <th>min</th>\n",
              "      <td>-0.830070</td>\n",
              "      <td>-0.769740</td>\n",
              "      <td>0.000000</td>\n",
              "    </tr>\n",
              "    <tr>\n",
              "      <th>25%</th>\n",
              "      <td>-0.372120</td>\n",
              "      <td>-0.254385</td>\n",
              "      <td>0.000000</td>\n",
              "    </tr>\n",
              "    <tr>\n",
              "      <th>50%</th>\n",
              "      <td>-0.006336</td>\n",
              "      <td>0.213455</td>\n",
              "      <td>0.000000</td>\n",
              "    </tr>\n",
              "    <tr>\n",
              "      <th>75%</th>\n",
              "      <td>0.478970</td>\n",
              "      <td>0.646562</td>\n",
              "      <td>1.000000</td>\n",
              "    </tr>\n",
              "    <tr>\n",
              "      <th>max</th>\n",
              "      <td>1.070900</td>\n",
              "      <td>1.108900</td>\n",
              "      <td>1.000000</td>\n",
              "    </tr>\n",
              "  </tbody>\n",
              "</table>\n",
              "</div>"
            ],
            "text/plain": [
              "          Teste 1     Teste 2      Status\n",
              "count  118.000000  118.000000  118.000000\n",
              "mean     0.054779    0.183102    0.491525\n",
              "std      0.496654    0.519743    0.502060\n",
              "min     -0.830070   -0.769740    0.000000\n",
              "25%     -0.372120   -0.254385    0.000000\n",
              "50%     -0.006336    0.213455    0.000000\n",
              "75%      0.478970    0.646562    1.000000\n",
              "max      1.070900    1.108900    1.000000"
            ]
          },
          "metadata": {
            "tags": []
          },
          "execution_count": 92
        }
      ]
    },
    {
      "cell_type": "code",
      "metadata": {
        "colab": {
          "base_uri": "https://localhost:8080/"
        },
        "id": "x1zTCWtg4BeC",
        "outputId": "48d0f147-f14c-4b15-c079-8d18982a4bc2"
      },
      "source": [
        "data.Status.value_counts()"
      ],
      "execution_count": null,
      "outputs": [
        {
          "output_type": "execute_result",
          "data": {
            "text/plain": [
              "0    60\n",
              "1    58\n",
              "Name: Status, dtype: int64"
            ]
          },
          "metadata": {
            "tags": []
          },
          "execution_count": 93
        }
      ]
    },
    {
      "cell_type": "markdown",
      "metadata": {
        "id": "gUat5qlF-Mbo"
      },
      "source": [
        "##4.1 Visualização gráfica"
      ]
    },
    {
      "cell_type": "markdown",
      "metadata": {
        "id": "UD8fW7guritU"
      },
      "source": [
        "A função criada abaixo analisa a coluna Resultado do conjunto de dados (classe $y$), e gera a dispersão de acordo com sua aceitação ou rejeição. Sendo aceito quando $y=1$ e rejeitado quando $y=0$."
      ]
    },
    {
      "cell_type": "code",
      "metadata": {
        "id": "gtctJGxr8-cc"
      },
      "source": [
        "X = data.iloc[:, :2]\n",
        "y = data.iloc[:, 2]"
      ],
      "execution_count": null,
      "outputs": []
    },
    {
      "cell_type": "code",
      "metadata": {
        "id": "3QvXHnYB9BO3"
      },
      "source": [
        "def plot_(X, y):\n",
        "    positive = y == 1\n",
        "    negative = y == 0\n",
        "\n",
        "    plt.figure(figsize=(10,6))\n",
        "    \n",
        "    plt.plot(X[positive, 0], X[positive, 1],\n",
        "             'b+', markeredgewidth=2, markersize=7, alpha=0.7)\n",
        "    plt.plot(X[negative, 0], X[negative, 1],\n",
        "             'ro', markerfacecolor='r', markersize=7, alpha=0.7)"
      ],
      "execution_count": null,
      "outputs": []
    },
    {
      "cell_type": "code",
      "metadata": {
        "id": "pABtlwsb4hb0",
        "colab": {
          "base_uri": "https://localhost:8080/"
        },
        "outputId": "c33c849c-14ed-4e2f-9b81-0b434e8560c9"
      },
      "source": [
        "#Outras alternativas de geração do gráfico  \n",
        "\"\"\"\n",
        "def plotData(X, y, filename = 'target/plot4.1.png'):\n",
        "  labels = ['Microchip Test 1', 'Microchip Test 2']\n",
        "  legends = ['$y=1$: Aceito', '$y=0$: Rejeitado']\n",
        "\n",
        "  # gerando o grafico de dispersao para analise preliminar dos dados\n",
        "  positive = y == 1\n",
        "  negative = y == 0\n",
        "\n",
        "  fig, ax = plt.subplots(figsize=(12,8))\n",
        "    \n",
        "  ax.scatter(X[positive, 0], X[positive, 1],\n",
        "               c='b', marker='+', label=legends[0],\n",
        "               alpha=0.6)\n",
        "    \n",
        "  ax.scatter(X[negative, 0], X[negative, 1],\n",
        "               c='r', marker='o', label=legends[1],\n",
        "               alpha=0.6)\n",
        "    \n",
        "  #ax.set_yticks([-0.8, -0.6, -0.4, -0.2, 0, 0.2, 0.4, 0.6, 0.8, 1, 1.2])\n",
        "  #ax.set_xticks([-1, -0.5, 0, 0.5, 1, 1.5])\n",
        "\n",
        "  ax.legend()\n",
        "\n",
        "  ax.set_xlabel(labels[0])\n",
        "  ax.set_ylabel(labels[1])\n",
        "\n",
        "  sns.despine()\n",
        "  plt.savefig(filename)\n",
        "  plt.show()\n",
        "\n",
        "def dispers(data, filename = 'target/plot4.1.png'):\n",
        "\n",
        "    # gerando o grafico de dispersao para analise preliminar dos dados\n",
        "\n",
        "    positivo = data[data['Resultado'].isin([1])]\n",
        "    negativo = data[data['Resultado'].isin([0])]\n",
        "\n",
        "    fig, ax = plt.subplots(figsize=(12,8))\n",
        "    \n",
        "    ax.scatter(positivo['Test 1'], positivo['Test 2'],\n",
        "               s=50, c='b', marker='+', label='$y=1$: Aceito',\n",
        "               alpha=0.6)\n",
        "    ax.scatter(negativo['Test 1'], negativo['Test 2'],\n",
        "               s=50, c='r', marker='o', label='$y=0$: Rejeitado',\n",
        "               alpha=0.6)\n",
        "    ax.set_yticks([-0.8, -0.6, -0.4, -0.2, 0, 0.2, 0.4, 0.6, 0.8, 1, 1.2])\n",
        "    ax.set_xticks([-1, -0.5, 0, 0.5, 1, 1.5])\n",
        "    ax.legend()\n",
        "    ax.set_xlabel('Microchip Test 1')\n",
        "    ax.set_ylabel('Microchip Test 2')\n",
        "\n",
        "    if not os.path.exists(os.path.dirname(filename)):\n",
        "        os.makedirs(os.path.dirname(filename))\n",
        "\n",
        "    sns.despine()\n",
        "    plt.savefig(filename)\n",
        "    plt.show()\n",
        "\"\"\""
      ],
      "execution_count": null,
      "outputs": [
        {
          "output_type": "execute_result",
          "data": {
            "application/vnd.google.colaboratory.intrinsic+json": {
              "type": "string"
            },
            "text/plain": [
              "\"\\ndef plotData(X, y, filename = 'target/plot4.1.png'):\\n  labels = ['Microchip Test 1', 'Microchip Test 2']\\n  legends = ['$y=1$: Aceito', '$y=0$: Rejeitado']\\n\\n  # gerando o grafico de dispersao para analise preliminar dos dados\\n  positive = y == 1\\n  negative = y == 0\\n\\n  fig, ax = plt.subplots(figsize=(12,8))\\n    \\n  ax.scatter(X[positive, 0], X[positive, 1],\\n               c='b', marker='+', label=legends[0],\\n               alpha=0.6)\\n    \\n  ax.scatter(X[negative, 0], X[negative, 1],\\n               c='r', marker='o', label=legends[1],\\n               alpha=0.6)\\n    \\n  #ax.set_yticks([-0.8, -0.6, -0.4, -0.2, 0, 0.2, 0.4, 0.6, 0.8, 1, 1.2])\\n  #ax.set_xticks([-1, -0.5, 0, 0.5, 1, 1.5])\\n\\n  ax.legend()\\n\\n  ax.set_xlabel(labels[0])\\n  ax.set_ylabel(labels[1])\\n\\n  sns.despine()\\n  plt.savefig(filename)\\n  plt.show()\\n\\ndef dispers(data, filename = 'target/plot4.1.png'):\\n\\n    # gerando o grafico de dispersao para analise preliminar dos dados\\n\\n    positivo = data[data['Resultado'].isin([1])]\\n    negativo = data[data['Resultado'].isin([0])]\\n\\n    fig, ax = plt.subplots(figsize=(12,8))\\n    \\n    ax.scatter(positivo['Test 1'], positivo['Test 2'],\\n               s=50, c='b', marker='+', label='$y=1$: Aceito',\\n               alpha=0.6)\\n    ax.scatter(negativo['Test 1'], negativo['Test 2'],\\n               s=50, c='r', marker='o', label='$y=0$: Rejeitado',\\n               alpha=0.6)\\n    ax.set_yticks([-0.8, -0.6, -0.4, -0.2, 0, 0.2, 0.4, 0.6, 0.8, 1, 1.2])\\n    ax.set_xticks([-1, -0.5, 0, 0.5, 1, 1.5])\\n    ax.legend()\\n    ax.set_xlabel('Microchip Test 1')\\n    ax.set_ylabel('Microchip Test 2')\\n\\n    if not os.path.exists(os.path.dirname(filename)):\\n        os.makedirs(os.path.dirname(filename))\\n\\n    sns.despine()\\n    plt.savefig(filename)\\n    plt.show()\\n\""
            ]
          },
          "metadata": {
            "tags": []
          },
          "execution_count": 96
        }
      ]
    },
    {
      "cell_type": "code",
      "metadata": {
        "colab": {
          "base_uri": "https://localhost:8080/"
        },
        "id": "cwdBHiqu9Gu1",
        "outputId": "7434cd4d-ab1b-4b20-d4af-93dffd0ff149"
      },
      "source": [
        "# Visualização dos dados  - Pontos de dados do conjunto (fig 4)\n",
        "plot_(np.array(X), np.array(y))\n",
        "\n",
        "# Rótulos e legenda\n",
        "plt.xlabel('Microchip Test 1')\n",
        "plt.ylabel('Microchip Test 2')\n",
        "plt.legend(['y = 1: Aceito', 'y = 0: Rejeitado'])\n",
        "\n",
        "plt.show()"
      ],
      "execution_count": null,
      "outputs": [
        {
          "output_type": "display_data",
          "data": {
            "image/png": "[encoded data removed]",
            "text/plain": [
              "<Figure size 720x432 with 1 Axes>"
            ]
          },
          "metadata": {
            "tags": [],
            "needs_background": "light"
          }
        }
      ]
    },
    {
      "cell_type": "markdown",
      "metadata": {
        "id": "ZzWeS97or7lY"
      },
      "source": [
        "O gráfico da dispersão gerada apresentada os testes aceitos marcados em azul e os rejeitados marcados em vermelho."
      ]
    },
    {
      "cell_type": "markdown",
      "metadata": {
        "id": "DrhpS47Y-O1w"
      },
      "source": [
        "##4.2 Mapeamento de características"
      ]
    },
    {
      "cell_type": "markdown",
      "metadata": {
        "id": "VTY032ZdsLof"
      },
      "source": [
        "Nesta seção realizamos o mapeamento de características usando as características originais, notas dos Testes 1 e 2 (tratados como $x_1$ e $x_2$), para gerar novas características correspondendentes a seus termos polinomiais até o expoente de grau 6. \n",
        "\n",
        "Para este objetivo, é usada a função ```mapFeature``` que recebe os valores de $x_1$ e $x_2$, o grau polinomial e retorna um vetor com os termos polinomiais de $x_1$ e $x_2$ até o grau definido, neste caso um vetor 28 colunas, equivalentes aos termos, e 118 linhas, equivalentes à aplicação do polinômio aos valores originais da linha correspondente."
      ]
    },
    {
      "cell_type": "code",
      "metadata": {
        "id": "TdCv9O5M-2Hz"
      },
      "source": [
        "X1 = X.iloc[:, 0]\n",
        "X2 = X.iloc[:, 1]"
      ],
      "execution_count": null,
      "outputs": []
    },
    {
      "cell_type": "code",
      "metadata": {
        "id": "bQlaUXZlsO7y"
      },
      "source": [
        "from mapFeature import mapFeature"
      ],
      "execution_count": null,
      "outputs": []
    },
    {
      "cell_type": "code",
      "metadata": {
        "id": "XoTq0VVK-IIu"
      },
      "source": [
        "caract = mapFeature(X1, X2, degree=6)"
      ],
      "execution_count": null,
      "outputs": []
    },
    {
      "cell_type": "markdown",
      "metadata": {
        "id": "TpkW4LvgsaSB"
      },
      "source": [
        "A listagem a seguir confere os valores do vetor gerado no mapeamento de características e as dimensões deste vetor. "
      ]
    },
    {
      "cell_type": "code",
      "metadata": {
        "colab": {
          "base_uri": "https://localhost:8080/"
        },
        "id": "F0YRmhje-6lY",
        "outputId": "0feba4f2-a638-4de3-9393-87e152a59d1d"
      },
      "source": [
        "caract"
      ],
      "execution_count": null,
      "outputs": [
        {
          "output_type": "execute_result",
          "data": {
            "text/plain": [
              "array([[ 1.00000000e+00,  5.12670000e-02,  6.99560000e-01, ...,\n",
              "         6.29470940e-04,  8.58939846e-03,  1.17205992e-01],\n",
              "       [ 1.00000000e+00, -9.27420000e-02,  6.84940000e-01, ...,\n",
              "         1.89305413e-03, -1.39810280e-02,  1.03255971e-01],\n",
              "       [ 1.00000000e+00, -2.13710000e-01,  6.92250000e-01, ...,\n",
              "         1.04882142e-02, -3.39734512e-02,  1.10046893e-01],\n",
              "       ...,\n",
              "       [ 1.00000000e+00, -4.84450000e-01,  9.99270000e-01, ...,\n",
              "         2.34007252e-01, -4.82684337e-01,  9.95627986e-01],\n",
              "       [ 1.00000000e+00, -6.33640000e-03,  9.99270000e-01, ...,\n",
              "         4.00328554e-05, -6.31330588e-03,  9.95627986e-01],\n",
              "       [ 1.00000000e+00,  6.32650000e-01, -3.06120000e-02, ...,\n",
              "         3.51474517e-07, -1.70067777e-08,  8.22905998e-10]])"
            ]
          },
          "metadata": {
            "tags": []
          },
          "execution_count": 101
        }
      ]
    },
    {
      "cell_type": "code",
      "metadata": {
        "colab": {
          "base_uri": "https://localhost:8080/"
        },
        "id": "9-7lwNBL-9Eq",
        "outputId": "449a1080-d7e9-4620-ed86-08595f9aae5e"
      },
      "source": [
        "caract.shape"
      ],
      "execution_count": null,
      "outputs": [
        {
          "output_type": "execute_result",
          "data": {
            "text/plain": [
              "(118, 28)"
            ]
          },
          "metadata": {
            "tags": []
          },
          "execution_count": 102
        }
      ]
    },
    {
      "cell_type": "markdown",
      "metadata": {
        "id": "g8f82BLg_CoF"
      },
      "source": [
        "##4.3 Função de Custo e Gradiente Descendente"
      ]
    },
    {
      "cell_type": "code",
      "metadata": {
        "id": "zAGWulLrXnBN"
      },
      "source": [
        "from sigmoide import sigmoide"
      ],
      "execution_count": null,
      "outputs": []
    },
    {
      "cell_type": "code",
      "metadata": {
        "id": "kO6g7gZs_Y5y"
      },
      "source": [
        "def costFunctionReg_(theta, X, y, lambda_):\n",
        "  \"\"\"\n",
        "  Função para cálculo do custo e do gradiente descendente\n",
        "  \"\"\"\n",
        "  # número de exemplos de treinamento\n",
        "  m = len(y)  \n",
        "\n",
        "  # Cálculo do custo e do gradiente para a regressão logística\n",
        "  h_theta = sigmoide(np.matmul(X, theta))\n",
        "  ones = np.ones(m)\n",
        "  J = -1 / m * (np.matmul(y, np.log(h_theta)) + np.matmul(ones - y, np.log(ones - h_theta)))\n",
        "  grad = 1 / m * np.matmul(X.transpose(), h_theta - y)\n",
        "\n",
        "  # Cálculo do custo e do gradiente para a regressão logística com regularização\n",
        "  J += lambda_ / (2 * m) * np.matmul(theta[1:], theta[1:])\n",
        "  grad[1:] += lambda_ / m * theta[1:]\n",
        "\n",
        "  return J, grad"
      ],
      "execution_count": null,
      "outputs": []
    },
    {
      "cell_type": "code",
      "metadata": {
        "id": "gE4xdvPF_Etc",
        "colab": {
          "base_uri": "https://localhost:8080/"
        },
        "outputId": "7d0d461e-9186-47c0-d27a-3880e9c3eef7"
      },
      "source": [
        "theta = np.zeros(28)\n",
        "theta.shape"
      ],
      "execution_count": null,
      "outputs": [
        {
          "output_type": "execute_result",
          "data": {
            "text/plain": [
              "(28,)"
            ]
          },
          "metadata": {
            "tags": []
          },
          "execution_count": 105
        }
      ]
    },
    {
      "cell_type": "code",
      "metadata": {
        "colab": {
          "base_uri": "https://localhost:8080/"
        },
        "id": "JsTk6tw-Cabp",
        "outputId": "ed53bd1c-eb05-42aa-c603-0079419dce36"
      },
      "source": [
        "costFunctionReg_(theta, caract, y, 100)[0]"
      ],
      "execution_count": null,
      "outputs": [
        {
          "output_type": "execute_result",
          "data": {
            "text/plain": [
              "0.6931471805599454"
            ]
          },
          "metadata": {
            "tags": []
          },
          "execution_count": 106
        }
      ]
    },
    {
      "cell_type": "code",
      "metadata": {
        "colab": {
          "base_uri": "https://localhost:8080/"
        },
        "id": "a3PvsUYOCfC5",
        "outputId": "188b5d54-8c48-41cc-8cd1-749dae2cda44"
      },
      "source": [
        "costFunctionReg_(theta, caract, y, 0)[0]"
      ],
      "execution_count": null,
      "outputs": [
        {
          "output_type": "execute_result",
          "data": {
            "text/plain": [
              "0.6931471805599454"
            ]
          },
          "metadata": {
            "tags": []
          },
          "execution_count": 107
        }
      ]
    },
    {
      "cell_type": "code",
      "metadata": {
        "colab": {
          "base_uri": "https://localhost:8080/"
        },
        "id": "ItJeo2fEBhDY",
        "outputId": "fa45cf82-6a7d-445f-e6ae-50475c0a8915"
      },
      "source": [
        "# Parâmetro de regularização\n",
        "lambda_ = 1\n",
        "\n",
        "# Cálculo do custo e gradiente para lambda = 1\n",
        "j, theta_ = costFunctionReg_(theta, caract, y, lambda_)\n",
        "\n",
        "print(f'J: {j}')\n",
        "print(f'theta:\\n {theta_}')"
      ],
      "execution_count": null,
      "outputs": [
        {
          "output_type": "stream",
          "text": [
            "J: 0.6931471805599454\n",
            "theta:\n",
            " [8.47457627e-03 1.87880932e-02 7.77711864e-05 5.03446395e-02\n",
            " 1.15013308e-02 3.76648474e-02 1.83559872e-02 7.32393391e-03\n",
            " 8.19244468e-03 2.34764889e-02 3.93486234e-02 2.23923907e-03\n",
            " 1.28600503e-02 3.09593720e-03 3.93028171e-02 1.99707467e-02\n",
            " 4.32983232e-03 3.38643902e-03 5.83822078e-03 4.47629067e-03\n",
            " 3.10079849e-02 3.10312442e-02 1.09740238e-03 6.31570797e-03\n",
            " 4.08503006e-04 7.26504316e-03 1.37646175e-03 3.87936363e-02]\n"
          ],
          "name": "stdout"
        }
      ]
    },
    {
      "cell_type": "markdown",
      "metadata": {
        "id": "Su2UGYD-X--W"
      },
      "source": [
        "A seguir temos outra implementação da função de custos, mas com os mesmos resultados. Execução realizada para checagem dos resultados e comparação com a implementação anterior."
      ]
    },
    {
      "cell_type": "code",
      "metadata": {
        "id": "VbPUdvWDWiWz"
      },
      "source": [
        "def costFunctionReg(theta, X, y, lambda_):\n",
        "  \"\"\"\n",
        "  Função para cálculo de custo com regularização e GD\n",
        "  ### Versão atualizada em 30/03/2021 ###\n",
        "  \"\"\"\n",
        "  m = y.size\n",
        "  J = 0\n",
        "  grad = np.zeros(theta.shape)\n",
        "  h = sigmoide(X.dot(theta.T))\n",
        "  temp = theta\n",
        "  temp[0] = 0\n",
        "  J = (1 / m) * np.sum(-y.dot(np.log(h)) - (1 - y).dot(np.log(1 - h))) + (lambda_ / (2 * m)) * np.sum(np.square(temp))\n",
        "  grad = (1 / m) * (h - y).dot(X)\n",
        "  grad = grad + (lambda_ / m) * temp\n",
        "  return J, grad"
      ],
      "execution_count": null,
      "outputs": []
    },
    {
      "cell_type": "code",
      "metadata": {
        "colab": {
          "base_uri": "https://localhost:8080/"
        },
        "id": "5360_mMTWl9_",
        "outputId": "19240c62-8594-45bc-c7fd-0a59ae38e6bb"
      },
      "source": [
        "costFunctionReg(theta, caract, y, 0)"
      ],
      "execution_count": null,
      "outputs": [
        {
          "output_type": "execute_result",
          "data": {
            "text/plain": [
              "(0.6931471805599454,\n",
              " array([8.47457627e-03, 1.87880932e-02, 7.77711864e-05, 5.03446395e-02,\n",
              "        1.15013308e-02, 3.76648474e-02, 1.83559872e-02, 7.32393391e-03,\n",
              "        8.19244468e-03, 2.34764889e-02, 3.93486234e-02, 2.23923907e-03,\n",
              "        1.28600503e-02, 3.09593720e-03, 3.93028171e-02, 1.99707467e-02,\n",
              "        4.32983232e-03, 3.38643902e-03, 5.83822078e-03, 4.47629067e-03,\n",
              "        3.10079849e-02, 3.10312442e-02, 1.09740238e-03, 6.31570797e-03,\n",
              "        4.08503006e-04, 7.26504316e-03, 1.37646175e-03, 3.87936363e-02]))"
            ]
          },
          "metadata": {
            "tags": []
          },
          "execution_count": 110
        }
      ]
    },
    {
      "cell_type": "code",
      "metadata": {
        "colab": {
          "base_uri": "https://localhost:8080/"
        },
        "id": "QzB-h-l8XOjn",
        "outputId": "2d7d3b39-d1ba-44cf-f5f7-d0b7e41cb3c0"
      },
      "source": [
        "costFunctionReg(theta, caract, y, 100)"
      ],
      "execution_count": null,
      "outputs": [
        {
          "output_type": "execute_result",
          "data": {
            "text/plain": [
              "(0.6931471805599454,\n",
              " array([8.47457627e-03, 1.87880932e-02, 7.77711864e-05, 5.03446395e-02,\n",
              "        1.15013308e-02, 3.76648474e-02, 1.83559872e-02, 7.32393391e-03,\n",
              "        8.19244468e-03, 2.34764889e-02, 3.93486234e-02, 2.23923907e-03,\n",
              "        1.28600503e-02, 3.09593720e-03, 3.93028171e-02, 1.99707467e-02,\n",
              "        4.32983232e-03, 3.38643902e-03, 5.83822078e-03, 4.47629067e-03,\n",
              "        3.10079849e-02, 3.10312442e-02, 1.09740238e-03, 6.31570797e-03,\n",
              "        4.08503006e-04, 7.26504316e-03, 1.37646175e-03, 3.87936363e-02]))"
            ]
          },
          "metadata": {
            "tags": []
          },
          "execution_count": 111
        }
      ]
    },
    {
      "cell_type": "code",
      "metadata": {
        "colab": {
          "base_uri": "https://localhost:8080/"
        },
        "id": "rSn0ZLJ4Xunm",
        "outputId": "c72cffa5-0638-4de6-e6de-1cddc79ab29e"
      },
      "source": [
        "costFunctionReg(theta, caract, y, 1)"
      ],
      "execution_count": null,
      "outputs": [
        {
          "output_type": "execute_result",
          "data": {
            "text/plain": [
              "(0.6931471805599454,\n",
              " array([8.47457627e-03, 1.87880932e-02, 7.77711864e-05, 5.03446395e-02,\n",
              "        1.15013308e-02, 3.76648474e-02, 1.83559872e-02, 7.32393391e-03,\n",
              "        8.19244468e-03, 2.34764889e-02, 3.93486234e-02, 2.23923907e-03,\n",
              "        1.28600503e-02, 3.09593720e-03, 3.93028171e-02, 1.99707467e-02,\n",
              "        4.32983232e-03, 3.38643902e-03, 5.83822078e-03, 4.47629067e-03,\n",
              "        3.10079849e-02, 3.10312442e-02, 1.09740238e-03, 6.31570797e-03,\n",
              "        4.08503006e-04, 7.26504316e-03, 1.37646175e-03, 3.87936363e-02]))"
            ]
          },
          "metadata": {
            "tags": []
          },
          "execution_count": 112
        }
      ]
    },
    {
      "cell_type": "markdown",
      "metadata": {
        "id": "TiaE_cJis3Fs"
      },
      "source": [
        "Para teste da função de custos para **Regressão Logística Regularizada**, a mesma foi executada com os valores de $\\theta$ zerados e o valor de $\\lambda=1$, obtendo $J$ com valor esperado (0.693). O mesmo valor é obtido ao testar com $\\lambda=0$ e $\\lambda=100$.\n",
        "\n",
        "---\n",
        "A seguir aplicamos a função de custos para obtenção dos valores otimizados de $\\theta$."
      ]
    },
    {
      "cell_type": "code",
      "metadata": {
        "colab": {
          "base_uri": "https://localhost:8080/"
        },
        "id": "9H2eDfDpDwoU",
        "outputId": "b2300820-9175-4cab-df81-a7745a370b34"
      },
      "source": [
        "lambda_ = 1\n",
        "\n",
        "fun = lambda t: costFunctionReg(t, caract, y, lambda_)[0]\n",
        "jac = lambda t: costFunctionReg(t, caract, y, lambda_)[1]\n",
        "options = {'disp': True, 'maxiter': 400}\n",
        "\n",
        "# Otimização de theta\n",
        "res = opt.minimize(fun, theta, jac = jac, options = options)\n",
        "theta_ = res.x\n",
        "J = res.fun"
      ],
      "execution_count": null,
      "outputs": [
        {
          "output_type": "stream",
          "text": [
            "Optimization terminated successfully.\n",
            "         Current function value: 0.529003\n",
            "         Iterations: 47\n",
            "         Function evaluations: 48\n",
            "         Gradient evaluations: 48\n"
          ],
          "name": "stdout"
        }
      ]
    },
    {
      "cell_type": "code",
      "metadata": {
        "colab": {
          "base_uri": "https://localhost:8080/"
        },
        "id": "cP6qexJfucLp",
        "outputId": "ae704147-f378-45c8-f0b0-758a29f2f224"
      },
      "source": [
        "print(J, theta_, sep='\\n')"
      ],
      "execution_count": null,
      "outputs": [
        {
          "output_type": "stream",
          "text": [
            "0.5290027422869217\n",
            "[ 1.27268739  0.62557016  1.1809665  -2.01919822 -0.91761468 -1.43194199\n",
            "  0.12375921 -0.36513086 -0.35703388 -0.17485805 -1.45843772 -0.05129676\n",
            " -0.61603963 -0.2746414  -1.19282569 -0.24270336 -0.20570022 -0.04499768\n",
            " -0.27782709 -0.29525851 -0.45613294 -1.04377851  0.02762813 -0.29265642\n",
            "  0.01543393 -0.32759318 -0.14389199 -0.92460119]\n"
          ],
          "name": "stdout"
        }
      ]
    },
    {
      "cell_type": "markdown",
      "metadata": {
        "id": "Gc5iyw9JDLej"
      },
      "source": [
        "##4.4 Esboço da Fronteira de Decisão"
      ]
    },
    {
      "cell_type": "code",
      "metadata": {
        "id": "8_w5S-v-DNyN"
      },
      "source": [
        "def plotDecisionBoundary_(theta, X, y):\n",
        "  \"\"\"\n",
        "  Função para plotar fronteira de decisão\n",
        "  \"\"\"\n",
        "\n",
        "  plot_(X[:, 1:], y)\n",
        "\n",
        "  if X.shape[1] <= 3:\n",
        "    plot_x = np.array([min(X[:, 1]) - 2, max(X[:, 1]) + 2])\n",
        "\n",
        "    # Cálculo da linha da fronteira de decisão\n",
        "    plot_y = -1 / theta[2] * (theta[1] * plot_x + theta[0])\n",
        "\n",
        "    # Plotagem do gráfico\n",
        "    plt.plot(plot_x, plot_y)\n",
        "\n",
        "    plt.xlim([30, 100])\n",
        "    plt.ylim([30, 100])\n",
        "\n",
        "  else:\n",
        "    u = np.linspace(-1, 1.5, 50)\n",
        "    v = np.linspace(-1, 1.5, 50)\n",
        "    z = np.zeros((len(u), len(v)))\n",
        "\n",
        "    for i in range(len(u)):\n",
        "      for j in range(len(v)):\n",
        "        z[i, j] = np.matmul(\n",
        "            mapFeature(u[i:i + 1], v[j:j + 1]),\n",
        "            theta)\n",
        "        \n",
        "    u, v = np.meshgrid(u, v)\n",
        "\n",
        "    cs = plt.contour(u, v, z.transpose(), [0], linewidth=2, colors='green')\n",
        "    cs.collections[0].set_label('')"
      ],
      "execution_count": null,
      "outputs": []
    },
    {
      "cell_type": "markdown",
      "metadata": {
        "id": "_qHqZmMGv31a"
      },
      "source": [
        "A função criada acima e aplicada a seguir, recebe os valores ótimos de $\\theta$, as características mapeadadas a partir dos termos dos polinômios de $x1$ e $x2$ e os valores da classe alvo ($y$).\n",
        "\n",
        "Como estes dados é feita a plotagem da dispersão dos valores e sobre estes é esboçada a **Fronteira de Decisão**, apresentada em verde nesta representação, que separa os valores positivos e negativos."
      ]
    },
    {
      "cell_type": "code",
      "metadata": {
        "colab": {
          "base_uri": "https://localhost:8080/"
        },
        "id": "vcu4CDDGDZLV",
        "outputId": "db3f5242-4896-4fd6-87bc-6269410fd0af"
      },
      "source": [
        "# Gráfico da fronteira de decisão\n",
        "plotDecisionBoundary_(theta_, caract, y);\n",
        "plt.title(f'$\\lambda$ = {lambda_:g}')\n",
        "\n",
        "# Rótulos e legenda\n",
        "plt.xlabel('Microchip Teste 1')\n",
        "plt.ylabel('Microchip Teste 2')\n",
        "\n",
        "plt.legend(['y = 1: Aceito',\n",
        "            'y = 0: Rejeitado',\n",
        "            'Fronteira de Decisão'])\n",
        "plt.show()"
      ],
      "execution_count": null,
      "outputs": [
        {
          "output_type": "stream",
          "text": [
            "/usr/local/lib/python3.7/dist-packages/ipykernel_launcher.py:33: UserWarning: The following kwargs were not used by contour: 'linewidth'\n"
          ],
          "name": "stderr"
        },
        {
          "output_type": "display_data",
          "data": {
            "image/png": "[encoded data removed]",
            "text/plain": [
              "<Figure size 720x432 with 1 Axes>"
            ]
          },
          "metadata": {
            "tags": [],
            "needs_background": "light"
          }
        }
      ]
    },
    {
      "cell_type": "markdown",
      "metadata": {
        "id": "ct9AJumsjsTI"
      },
      "source": [
        "#5 Regressão Linear com Regularização"
      ]
    },
    {
      "cell_type": "markdown",
      "metadata": {
        "id": "XaI3E_oDjxV_"
      },
      "source": [
        "##Análise preliminar dos dados"
      ]
    },
    {
      "cell_type": "code",
      "metadata": {
        "id": "9_RglYZGjzyf"
      },
      "source": [
        "import scipy.io as spio\n",
        "arquivo = 'data/ex5data1.mat'\n",
        "data = spio.loadmat(arquivo,\n",
        "                    squeeze_me=True)"
      ],
      "execution_count": null,
      "outputs": []
    },
    {
      "cell_type": "code",
      "metadata": {
        "id": "4_ZZVS6ykmAO"
      },
      "source": [
        "treinamento = pd.DataFrame({'X': data['X'],\n",
        "                            'y': data['y']})"
      ],
      "execution_count": null,
      "outputs": []
    },
    {
      "cell_type": "code",
      "metadata": {
        "id": "nLztD0HkpRRr"
      },
      "source": [
        "validacao = pd.DataFrame({'Xval': data['Xval'],\n",
        "                            'yval': data['yval']})"
      ],
      "execution_count": null,
      "outputs": []
    },
    {
      "cell_type": "code",
      "metadata": {
        "id": "Mp_dCDgGpiiw"
      },
      "source": [
        "teste = pd.DataFrame({'Xtest': data['Xtest'],\n",
        "                            'ytest': data['ytest']})"
      ],
      "execution_count": null,
      "outputs": []
    },
    {
      "cell_type": "code",
      "metadata": {
        "colab": {
          "base_uri": "https://localhost:8080/"
        },
        "id": "QRN2BXmup3VA",
        "outputId": "a21c29e1-ddef-4893-f9e1-b4061d88ced4"
      },
      "source": [
        "treinamento.describe()"
      ],
      "execution_count": null,
      "outputs": [
        {
          "output_type": "execute_result",
          "data": {
            "text/html": [
              "<div>\n",
              "<style scoped>\n",
              "    .dataframe tbody tr th:only-of-type {\n",
              "        vertical-align: middle;\n",
              "    }\n",
              "\n",
              "    .dataframe tbody tr th {\n",
              "        vertical-align: top;\n",
              "    }\n",
              "\n",
              "    .dataframe thead th {\n",
              "        text-align: right;\n",
              "    }\n",
              "</style>\n",
              "<table border=\"1\" class=\"dataframe\">\n",
              "  <thead>\n",
              "    <tr style=\"text-align: right;\">\n",
              "      <th></th>\n",
              "      <th>X</th>\n",
              "      <th>y</th>\n",
              "    </tr>\n",
              "  </thead>\n",
              "  <tbody>\n",
              "    <tr>\n",
              "      <th>count</th>\n",
              "      <td>12.000000</td>\n",
              "      <td>12.000000</td>\n",
              "    </tr>\n",
              "    <tr>\n",
              "      <th>mean</th>\n",
              "      <td>-5.085426</td>\n",
              "      <td>11.217589</td>\n",
              "    </tr>\n",
              "    <tr>\n",
              "      <th>std</th>\n",
              "      <td>29.964402</td>\n",
              "      <td>13.048466</td>\n",
              "    </tr>\n",
              "    <tr>\n",
              "      <th>min</th>\n",
              "      <td>-48.058829</td>\n",
              "      <td>1.173257</td>\n",
              "    </tr>\n",
              "    <tr>\n",
              "      <th>25%</th>\n",
              "      <td>-30.541301</td>\n",
              "      <td>2.494216</td>\n",
              "    </tr>\n",
              "    <tr>\n",
              "      <th>50%</th>\n",
              "      <td>-3.776152</td>\n",
              "      <td>3.735931</td>\n",
              "    </tr>\n",
              "    <tr>\n",
              "      <th>75%</th>\n",
              "      <td>17.171532</td>\n",
              "      <td>16.720808</td>\n",
              "    </tr>\n",
              "    <tr>\n",
              "      <th>max</th>\n",
              "      <td>37.492187</td>\n",
              "      <td>36.837955</td>\n",
              "    </tr>\n",
              "  </tbody>\n",
              "</table>\n",
              "</div>"
            ],
            "text/plain": [
              "               X          y\n",
              "count  12.000000  12.000000\n",
              "mean   -5.085426  11.217589\n",
              "std    29.964402  13.048466\n",
              "min   -48.058829   1.173257\n",
              "25%   -30.541301   2.494216\n",
              "50%    -3.776152   3.735931\n",
              "75%    17.171532  16.720808\n",
              "max    37.492187  36.837955"
            ]
          },
          "metadata": {
            "tags": []
          },
          "execution_count": 121
        }
      ]
    },
    {
      "cell_type": "code",
      "metadata": {
        "colab": {
          "base_uri": "https://localhost:8080/"
        },
        "id": "NSoAT2b4p5Pn",
        "outputId": "84730970-c807-418e-c105-206c8bf0b8d0"
      },
      "source": [
        "validacao.describe()"
      ],
      "execution_count": null,
      "outputs": [
        {
          "output_type": "execute_result",
          "data": {
            "text/html": [
              "<div>\n",
              "<style scoped>\n",
              "    .dataframe tbody tr th:only-of-type {\n",
              "        vertical-align: middle;\n",
              "    }\n",
              "\n",
              "    .dataframe tbody tr th {\n",
              "        vertical-align: top;\n",
              "    }\n",
              "\n",
              "    .dataframe thead th {\n",
              "        text-align: right;\n",
              "    }\n",
              "</style>\n",
              "<table border=\"1\" class=\"dataframe\">\n",
              "  <thead>\n",
              "    <tr style=\"text-align: right;\">\n",
              "      <th></th>\n",
              "      <th>Xval</th>\n",
              "      <th>yval</th>\n",
              "    </tr>\n",
              "  </thead>\n",
              "  <tbody>\n",
              "    <tr>\n",
              "      <th>count</th>\n",
              "      <td>21.000000</td>\n",
              "      <td>21.000000</td>\n",
              "    </tr>\n",
              "    <tr>\n",
              "      <th>mean</th>\n",
              "      <td>-4.207026</td>\n",
              "      <td>12.906584</td>\n",
              "    </tr>\n",
              "    <tr>\n",
              "      <th>std</th>\n",
              "      <td>30.293175</td>\n",
              "      <td>13.028210</td>\n",
              "    </tr>\n",
              "    <tr>\n",
              "      <th>min</th>\n",
              "      <td>-50.013244</td>\n",
              "      <td>-0.000044</td>\n",
              "    </tr>\n",
              "    <tr>\n",
              "      <th>25%</th>\n",
              "      <td>-31.109554</td>\n",
              "      <td>4.170202</td>\n",
              "    </tr>\n",
              "    <tr>\n",
              "      <th>50%</th>\n",
              "      <td>-3.263862</td>\n",
              "      <td>8.348712</td>\n",
              "    </tr>\n",
              "    <tr>\n",
              "      <th>75%</th>\n",
              "      <td>25.374099</td>\n",
              "      <td>19.365053</td>\n",
              "    </tr>\n",
              "    <tr>\n",
              "      <th>max</th>\n",
              "      <td>46.282369</td>\n",
              "      <td>52.781928</td>\n",
              "    </tr>\n",
              "  </tbody>\n",
              "</table>\n",
              "</div>"
            ],
            "text/plain": [
              "            Xval       yval\n",
              "count  21.000000  21.000000\n",
              "mean   -4.207026  12.906584\n",
              "std    30.293175  13.028210\n",
              "min   -50.013244  -0.000044\n",
              "25%   -31.109554   4.170202\n",
              "50%    -3.263862   8.348712\n",
              "75%    25.374099  19.365053\n",
              "max    46.282369  52.781928"
            ]
          },
          "metadata": {
            "tags": []
          },
          "execution_count": 122
        }
      ]
    },
    {
      "cell_type": "code",
      "metadata": {
        "colab": {
          "base_uri": "https://localhost:8080/"
        },
        "id": "GdVjThy9p70N",
        "outputId": "fa2453d3-86bc-404b-90bc-bf7361b02253"
      },
      "source": [
        "teste.describe()"
      ],
      "execution_count": null,
      "outputs": [
        {
          "output_type": "execute_result",
          "data": {
            "text/html": [
              "<div>\n",
              "<style scoped>\n",
              "    .dataframe tbody tr th:only-of-type {\n",
              "        vertical-align: middle;\n",
              "    }\n",
              "\n",
              "    .dataframe tbody tr th {\n",
              "        vertical-align: top;\n",
              "    }\n",
              "\n",
              "    .dataframe thead th {\n",
              "        text-align: right;\n",
              "    }\n",
              "</style>\n",
              "<table border=\"1\" class=\"dataframe\">\n",
              "  <thead>\n",
              "    <tr style=\"text-align: right;\">\n",
              "      <th></th>\n",
              "      <th>Xtest</th>\n",
              "      <th>ytest</th>\n",
              "    </tr>\n",
              "  </thead>\n",
              "  <tbody>\n",
              "    <tr>\n",
              "      <th>count</th>\n",
              "      <td>21.000000</td>\n",
              "      <td>21.000000</td>\n",
              "    </tr>\n",
              "    <tr>\n",
              "      <th>mean</th>\n",
              "      <td>-4.564866</td>\n",
              "      <td>13.449414</td>\n",
              "    </tr>\n",
              "    <tr>\n",
              "      <th>std</th>\n",
              "      <td>30.929739</td>\n",
              "      <td>14.541524</td>\n",
              "    </tr>\n",
              "    <tr>\n",
              "      <th>min</th>\n",
              "      <td>-55.940571</td>\n",
              "      <td>0.130430</td>\n",
              "    </tr>\n",
              "    <tr>\n",
              "      <th>25%</th>\n",
              "      <td>-33.318004</td>\n",
              "      <td>4.079367</td>\n",
              "    </tr>\n",
              "    <tr>\n",
              "      <th>50%</th>\n",
              "      <td>-6.132596</td>\n",
              "      <td>6.566065</td>\n",
              "    </tr>\n",
              "    <tr>\n",
              "      <th>75%</th>\n",
              "      <td>21.261183</td>\n",
              "      <td>17.088487</td>\n",
              "    </tr>\n",
              "    <tr>\n",
              "      <th>max</th>\n",
              "      <td>44.209886</td>\n",
              "      <td>55.384373</td>\n",
              "    </tr>\n",
              "  </tbody>\n",
              "</table>\n",
              "</div>"
            ],
            "text/plain": [
              "           Xtest      ytest\n",
              "count  21.000000  21.000000\n",
              "mean   -4.564866  13.449414\n",
              "std    30.929739  14.541524\n",
              "min   -55.940571   0.130430\n",
              "25%   -33.318004   4.079367\n",
              "50%    -6.132596   6.566065\n",
              "75%    21.261183  17.088487\n",
              "max    44.209886  55.384373"
            ]
          },
          "metadata": {
            "tags": []
          },
          "execution_count": 123
        }
      ]
    },
    {
      "cell_type": "markdown",
      "metadata": {
        "id": "r_743mcDnD-R"
      },
      "source": [
        "##5.1 Visualização dos dados"
      ]
    },
    {
      "cell_type": "code",
      "metadata": {
        "colab": {
          "base_uri": "https://localhost:8080/"
        },
        "id": "NUBxdf57lXEi",
        "outputId": "8f1af61f-1e5f-46b9-e4fd-f1fab9803ef9"
      },
      "source": [
        "plt.figure(figsize=(10,6))\n",
        "plt.scatter(treinamento['X'], treinamento['y'],\n",
        "            color='r', alpha=0.7,\n",
        "            marker='x')\n",
        "\n",
        "plt.xlabel('Mudança no nível de água (x)')\n",
        "plt.ylabel('Água saindo da barragem (y)')\n",
        "\n",
        "plt.yticks([0,5,10,15,20,25,35,40])\n",
        "plt.xticks([-50,-40,-30,-20,-10,0,10,20,30,40,])\n",
        "\n",
        "sns.despine()\n",
        "\n",
        "plt.savefig('target/plot5.1.png')"
      ],
      "execution_count": null,
      "outputs": [
        {
          "output_type": "display_data",
          "data": {
            "image/png": "[encoded data removed]",
            "text/plain": [
              "<Figure size 720x432 with 1 Axes>"
            ]
          },
          "metadata": {
            "tags": [],
            "needs_background": "light"
          }
        }
      ]
    },
    {
      "cell_type": "markdown",
      "metadata": {
        "id": "YPVoqrMcHBEp"
      },
      "source": [
        "##5.2 Função de custo da regressão linear regularizada"
      ]
    },
    {
      "cell_type": "markdown",
      "metadata": {
        "id": "xC_7HmP1adVa"
      },
      "source": [
        "Esta seção realizada a aplicação da função de custo, implmentada a função de custo da regressão linear regularizada $J(\\theta)$, conforme abaixo, que implementa $\\lambda$ como um hiperparâmetro que controla o grau de regularização impondo uma penalidade sobre o custo total $J$\n",
        "\n",
        "$\n",
        "J(\\theta) = \\frac{1}{2m}[ \\sum_{i=1}^{m} (h\\theta(x^i) - (y^i)^2]+\\frac{\\lambda}{2m} \\sum_{j=1}^{n} \\theta _j^2\n",
        "$\n",
        "\n"
      ]
    },
    {
      "cell_type": "code",
      "metadata": {
        "colab": {
          "base_uri": "https://localhost:8080/"
        },
        "id": "0rJktordJo3j",
        "outputId": "02cb4e38-fe0c-4e83-80cd-243b245779b8"
      },
      "source": [
        "X_ = np.array(treinamento['X'], ndmin=2).T\n",
        "X_.shape"
      ],
      "execution_count": null,
      "outputs": [
        {
          "output_type": "execute_result",
          "data": {
            "text/plain": [
              "(12, 1)"
            ]
          },
          "metadata": {
            "tags": []
          },
          "execution_count": 125
        }
      ]
    },
    {
      "cell_type": "code",
      "metadata": {
        "colab": {
          "base_uri": "https://localhost:8080/"
        },
        "id": "oCxmfJnWY3ks",
        "outputId": "1787d1e1-c4fe-4e99-f309-80c8f0b4fb27"
      },
      "source": [
        "X_ = np.c_[np.ones((X_.shape[0], 1)), X_]\n",
        "X_.shape"
      ],
      "execution_count": null,
      "outputs": [
        {
          "output_type": "execute_result",
          "data": {
            "text/plain": [
              "(12, 2)"
            ]
          },
          "metadata": {
            "tags": []
          },
          "execution_count": 126
        }
      ]
    },
    {
      "cell_type": "code",
      "metadata": {
        "colab": {
          "base_uri": "https://localhost:8080/"
        },
        "id": "rwSadFuzKQW4",
        "outputId": "22fadf68-ee68-4f51-dbdd-d10a6652700d"
      },
      "source": [
        "y_ = np.array(treinamento['y'], ndmin=2).T\n",
        "y_.shape"
      ],
      "execution_count": null,
      "outputs": [
        {
          "output_type": "execute_result",
          "data": {
            "text/plain": [
              "(12, 1)"
            ]
          },
          "metadata": {
            "tags": []
          },
          "execution_count": 127
        }
      ]
    },
    {
      "cell_type": "code",
      "metadata": {
        "id": "qGOF7GDmYpSA"
      },
      "source": [
        "from custo_reglin_regularizada import custo_reglin_regularizada"
      ],
      "execution_count": null,
      "outputs": []
    },
    {
      "cell_type": "code",
      "metadata": {
        "colab": {
          "base_uri": "https://localhost:8080/"
        },
        "id": "gq4_5zFNYvGk",
        "outputId": "8a8a49a9-d4f8-477d-a33a-bee90c81dc7f"
      },
      "source": [
        "_lambda = 1\n",
        "theta = np.array([[1,1]]) #inicialização\n",
        "J = custo_reglin_regularizada(theta, X_, y_, _lambda)\n",
        "print('Custo = ', J)"
      ],
      "execution_count": null,
      "outputs": [
        {
          "output_type": "stream",
          "text": [
            "Custo =  303.9931922202643\n"
          ],
          "name": "stdout"
        }
      ]
    },
    {
      "cell_type": "markdown",
      "metadata": {
        "id": "wlHcyy_HdyQf"
      },
      "source": [
        "Usando *theta* inicializado como (1,1) obtemos o valor de custo de 303.993, conforme previsto para confirmar a corretude da função implementada."
      ]
    },
    {
      "cell_type": "markdown",
      "metadata": {
        "id": "_hKklg6NLpOn"
      },
      "source": [
        "##5.3 Gradiente da regressão linear regularizada"
      ]
    },
    {
      "cell_type": "markdown",
      "metadata": {
        "id": "kjSqktSoiSSI"
      },
      "source": [
        "A seguir aplicamos a função implementada do gradiente descedente para calcular com os mesmos parâmetros usados na seção anterior, ou seja, valores de $\\theta$ inicializados como (1,1) e $\\lambda=1$.\n",
        "\n",
        "Com estes parâmetros encontramos como resultado (-15.303, 598.250)."
      ]
    },
    {
      "cell_type": "code",
      "metadata": {
        "id": "a_sB5X15eXBz"
      },
      "source": [
        "from gd_reglin_regularizada import gd_reglin_regularizada"
      ],
      "execution_count": null,
      "outputs": []
    },
    {
      "cell_type": "code",
      "metadata": {
        "colab": {
          "base_uri": "https://localhost:8080/"
        },
        "id": "AXjiXXywha62",
        "outputId": "ac630f9f-134d-4f73-a9e7-a3ade72fa990"
      },
      "source": [
        "gd_reglin_regularizada(theta, X_, y_, _lambda)"
      ],
      "execution_count": null,
      "outputs": [
        {
          "output_type": "execute_result",
          "data": {
            "text/plain": [
              "matrix([[-15.30301567],\n",
              "        [598.25074417]])"
            ]
          },
          "metadata": {
            "tags": []
          },
          "execution_count": 131
        }
      ]
    },
    {
      "cell_type": "markdown",
      "metadata": {
        "id": "cmvI7wOXgqWI"
      },
      "source": [
        "##5.4 Ajustando os parâmetros da regressão linear"
      ]
    },
    {
      "cell_type": "markdown",
      "metadata": {
        "id": "9L0nMBB4hAHi"
      },
      "source": [
        "Nessa seção usamos a função de custos regularizada para ajustar os valores ótimos de $\\theta$, mas usando $\\lambda=0$, ou seja, sem regularização. Em seguida é feita a visualização da curva de regressão com os valores ótimos identificados.\n",
        "\n",
        "---\n",
        "\n",
        "Nesta primeira célula, importamos a ferramenta de otimização de valores da biblioteca ```scipy``` e definimos uma função usa esta ferramenta para encontrar os valores ótimos de $\\theta$."
      ]
    },
    {
      "cell_type": "code",
      "metadata": {
        "id": "XtEy5GixedgQ"
      },
      "source": [
        "import scipy.optimize as opt\n",
        "def encontrar_theta_otimo(theta, X, y, _lambda):\n",
        "    return opt.fmin_tnc(func = custo_reglin_regularizada, \n",
        "        x0=theta, fprime=gd_reglin_regularizada, \n",
        "        args=(X, y, _lambda))"
      ],
      "execution_count": null,
      "outputs": []
    },
    {
      "cell_type": "markdown",
      "metadata": {
        "id": "KQBNTyuzjrjw"
      },
      "source": [
        "O trecho abaixo aplica a otimização do gradiente descedente, sem regularização ($\\lambda=0$), encontrando os valores (13.087, 0.367) com um custo de 22.374.\n",
        "\n",
        "Em seguida é gerada a curva de ajustamento da regressão linear e realizada sua plotagem em conjunto com a dispersão dos dados originais."
      ]
    },
    {
      "cell_type": "code",
      "metadata": {
        "id": "eTuDnKdKe-5w"
      },
      "source": [
        "_lambda = 0\n",
        "result = encontrar_theta_otimo(theta, X_, y_, _lambda)\n",
        "theta = result[0]\n",
        "J = custo_reglin_regularizada(theta, X_, y_, _lambda)"
      ],
      "execution_count": null,
      "outputs": []
    },
    {
      "cell_type": "code",
      "metadata": {
        "colab": {
          "base_uri": "https://localhost:8080/"
        },
        "id": "GzSGzYVifP63",
        "outputId": "4c108135-5e7b-4c60-c606-a3f58e936fc6"
      },
      "source": [
        "print('Vetor de parâmetros = ', theta)\n",
        "print('Custo = ', J)"
      ],
      "execution_count": null,
      "outputs": [
        {
          "output_type": "stream",
          "text": [
            "Vetor de parâmetros =  [13.08790367  0.36777923]\n",
            "Custo =  22.373906495108923\n"
          ],
          "name": "stdout"
        }
      ]
    },
    {
      "cell_type": "code",
      "metadata": {
        "id": "P3G0vxNZfXBf"
      },
      "source": [
        "h = X_.dot(theta.T)"
      ],
      "execution_count": null,
      "outputs": []
    },
    {
      "cell_type": "code",
      "metadata": {
        "colab": {
          "base_uri": "https://localhost:8080/"
        },
        "id": "9bZpFknwf2Xp",
        "outputId": "bf34e682-b599-4701-b109-596da2edc41b"
      },
      "source": [
        "plt.figure(figsize=(10,6))\n",
        "plt.scatter(treinamento['X'], y_,\n",
        "            color='r', alpha=0.7,\n",
        "            marker='x')\n",
        "\n",
        "plt.plot(treinamento['X'], h)\n",
        "\n",
        "plt.xlabel('Mudança no nível de água (x)')\n",
        "plt.ylabel('Água saindo da barragem (y)')\n",
        "\n",
        "plt.yticks([0,5,10,15,20,25,35,40])\n",
        "plt.xticks([-50,-40,-30,-20,-10,0,10,20,30,40,])\n",
        "\n",
        "sns.despine()\n",
        "\n",
        "plt.savefig('target/plot5.4.png')"
      ],
      "execution_count": null,
      "outputs": [
        {
          "output_type": "display_data",
          "data": {
            "image/png": "[encoded data removed]",
            "text/plain": [
              "<Figure size 720x432 with 1 Axes>"
            ]
          },
          "metadata": {
            "tags": [],
            "needs_background": "light"
          }
        }
      ]
    },
    {
      "cell_type": "markdown",
      "metadata": {
        "id": "J0IxilWwv29B"
      },
      "source": [
        "Como percebemos pela visualização o modelo possui um alto viés, não conseguindo acompanhar o comportamento dos dados e portanto, tendo baixa capacidade preditiva."
      ]
    },
    {
      "cell_type": "markdown",
      "metadata": {
        "id": "hkVFfuVw4CBK"
      },
      "source": [
        "#6 Viés-Variância"
      ]
    },
    {
      "cell_type": "markdown",
      "metadata": {
        "id": "jWxrhkj7t-zu"
      },
      "source": [
        "##6.1 Curva de aprendizado"
      ]
    },
    {
      "cell_type": "markdown",
      "metadata": {
        "id": "MDEQ1YyWvJN9"
      },
      "source": [
        "Nessa seção é feito o cálculo dos erros usando conjunto de treino e conjunto de validação para permitir a comparação entre as duas situações e gerar a curva de aprendizado que permite essa avaliação de forma gráfica."
      ]
    },
    {
      "cell_type": "code",
      "metadata": {
        "id": "EflWNmqVKRx7"
      },
      "source": [
        "def learningCurve(theta, X, y, X_val, y_val, _lambda):\n",
        "    m = len(X)\n",
        "    erros_treino = np.zeros(m)\n",
        "    erros_val = np.zeros(m)\n",
        "    qtds_exemplos = []\n",
        "    \n",
        "    for i in range(1,m+1):\n",
        "        X_train = X[:i,:]\n",
        "        y_train = y[:i]\n",
        "        qtds_exemplos.append(len(X_train))\n",
        "        \n",
        "        result = encontrar_theta_otimo(theta, X_train, y_train, _lambda)\n",
        "        theta = result[0]\n",
        "        \n",
        "        J_train = custo_reglin_regularizada(theta, X_train, y_train, _lambda=0)\n",
        "        J_val = custo_reglin_regularizada(theta, X_val, y_val, _lambda)\n",
        "        \n",
        "        erros_treino[i-1] = J_train\n",
        "        erros_val[i-1] = J_val\n",
        "    \n",
        "    return qtds_exemplos, erros_treino, erros_val"
      ],
      "execution_count": null,
      "outputs": []
    },
    {
      "cell_type": "code",
      "metadata": {
        "id": "Z-rn4oVqn-1r"
      },
      "source": [
        "X_val = np.array(validacao['Xval'], ndmin=2).T"
      ],
      "execution_count": null,
      "outputs": []
    },
    {
      "cell_type": "code",
      "metadata": {
        "id": "6K3yTNFFoLor"
      },
      "source": [
        "X_val = np.c_[np.ones((X_val.shape[0], 1)), X_val]"
      ],
      "execution_count": null,
      "outputs": []
    },
    {
      "cell_type": "code",
      "metadata": {
        "id": "skEuJPISoPt_"
      },
      "source": [
        "y_val = np.array(validacao['yval'], ndmin=2).T"
      ],
      "execution_count": null,
      "outputs": []
    },
    {
      "cell_type": "code",
      "metadata": {
        "id": "ak-AbY4LnCDB"
      },
      "source": [
        "lamb=0\n",
        "theta = np.array([[1,1]]).T #inicialização"
      ],
      "execution_count": null,
      "outputs": []
    },
    {
      "cell_type": "code",
      "metadata": {
        "id": "7a9Ndj5AJSwi"
      },
      "source": [
        "qtds_exemplos, erros_treino, erros_val = learningCurve(theta,\n",
        "                                                       X_, y_,\n",
        "                                                       X_val, y_val,\n",
        "                                                       lamb)"
      ],
      "execution_count": null,
      "outputs": []
    },
    {
      "cell_type": "code",
      "metadata": {
        "colab": {
          "base_uri": "https://localhost:8080/"
        },
        "id": "5X_ddT8tqDRL",
        "outputId": "9d909a1a-05ba-48a9-de85-37b070081bec"
      },
      "source": [
        "print(f'Quantidade de exempos: {qtds_exemplos}\\n\\nErros de treino: {erros_treino}\\n\\nErros de validação: {erros_val}')"
      ],
      "execution_count": null,
      "outputs": [
        {
          "output_type": "stream",
          "text": [
            "Quantidade de exempos: [1, 2, 3, 4, 5, 6, 7, 8, 9, 10, 11, 12]\n",
            "\n",
            "Erros de treino: [8.63153419e-18 6.09573022e-18 3.28659505e+00 2.84267769e+00\n",
            " 1.31540488e+01 1.94439625e+01 2.00985217e+01 1.81728587e+01\n",
            " 2.26094054e+01 2.32614616e+01 2.43172496e+01 2.23739065e+01]\n",
            "\n",
            "Erros de validação: [169.87070841 110.30036593  45.01023162  48.36891133  35.86516478\n",
            "  33.82996162  31.97098581  30.86244633  31.13599796  28.93620747\n",
            "  29.55143162  29.43381813]\n"
          ],
          "name": "stdout"
        }
      ]
    },
    {
      "cell_type": "markdown",
      "metadata": {
        "id": "7luRChdsvbKm"
      },
      "source": [
        "A visualização gráfica a seguir apresenta a curva de aprendizado da Regressão Linear com os dados de treino e validação, comparando a evolução dos erros para diferentes tamanhos dos conjuntos de treinamento.\n",
        "\n",
        "É possível perceber que os erros no conjunto que os erros de treino começam com erros muito inferiores aos encontrados no conjunto de validação e vão convergindo para o mesmo nível à medida que o número de exemplos aumenta.Contudo, mesmo quando encontram um nível similar a um platô ainda há um *gap* entre as duas curvas, mostrando que o modelo erra menos no conjunto de treino. Este comportamento é indício de um modelo com *underfitting*."
      ]
    },
    {
      "cell_type": "code",
      "metadata": {
        "colab": {
          "base_uri": "https://localhost:8080/"
        },
        "id": "9QHtpWJOrHBt",
        "outputId": "6bbfbe42-7c5f-40ca-a294-e3ea8191f940"
      },
      "source": [
        "plt.figure(figsize=(10,6))\n",
        "plt.plot(erros_treino, 'b', alpha=0.7)\n",
        "plt.plot(erros_val, 'g--', alpha=0.7)\n",
        "plt.legend(['Treino', 'Validação'])\n",
        "plt.xlabel('Número de exemplos de treinamento')\n",
        "plt.ylabel('Erro')\n",
        "plt.title('Curva de Aprendizado da Regressão Linear')\n",
        "sns.despine()"
      ],
      "execution_count": null,
      "outputs": [
        {
          "output_type": "display_data",
          "data": {
            "image/png": "[encoded data removed]",
            "text/plain": [
              "<Figure size 720x432 with 1 Axes>"
            ]
          },
          "metadata": {
            "tags": [],
            "needs_background": "light"
          }
        }
      ]
    },
    {
      "cell_type": "markdown",
      "metadata": {
        "id": "dtn-MIvsVnJC"
      },
      "source": [
        "#7 Regressão Polinomial"
      ]
    },
    {
      "cell_type": "markdown",
      "metadata": {
        "id": "9ASWuZtiWvwj"
      },
      "source": [
        "##7.1 Regressão polinomial - aprendizado"
      ]
    },
    {
      "cell_type": "markdown",
      "metadata": {
        "id": "JQsmZ4Yx2vdW"
      },
      "source": [
        "Inicialmente realizamos a geração de novas características equivalantes com base no polinômio de grau 8 do $X$ original."
      ]
    },
    {
      "cell_type": "code",
      "metadata": {
        "id": "ItOH9-t9V27i"
      },
      "source": [
        "from poly_features import polyFeatures"
      ],
      "execution_count": null,
      "outputs": []
    },
    {
      "cell_type": "code",
      "metadata": {
        "id": "9bASJO7BLvEG"
      },
      "source": [
        "X_ = np.array(data['X'], ndmin=2).T"
      ],
      "execution_count": null,
      "outputs": []
    },
    {
      "cell_type": "code",
      "metadata": {
        "id": "Y7USDj8ZWG5I"
      },
      "source": [
        "grau = 8\n",
        "X_poli = polyFeatures(X_, grau)"
      ],
      "execution_count": null,
      "outputs": []
    },
    {
      "cell_type": "code",
      "metadata": {
        "colab": {
          "base_uri": "https://localhost:8080/"
        },
        "id": "w2Vu_bAcW80m",
        "outputId": "78962440-2a9b-45cc-c0b6-ce3bbe053e64"
      },
      "source": [
        "X_poli.shape"
      ],
      "execution_count": null,
      "outputs": [
        {
          "output_type": "execute_result",
          "data": {
            "text/plain": [
              "(12, 8)"
            ]
          },
          "metadata": {
            "tags": []
          },
          "execution_count": 148
        }
      ]
    },
    {
      "cell_type": "code",
      "metadata": {
        "colab": {
          "base_uri": "https://localhost:8080/"
        },
        "id": "a1zCaqg6MFSG",
        "outputId": "d48a9141-2de3-4003-9a79-99dccc256475"
      },
      "source": [
        "X_"
      ],
      "execution_count": null,
      "outputs": [
        {
          "output_type": "execute_result",
          "data": {
            "text/plain": [
              "array([[-15.93675813],\n",
              "       [-29.15297922],\n",
              "       [ 36.18954863],\n",
              "       [ 37.49218733],\n",
              "       [-48.05882945],\n",
              "       [ -8.94145794],\n",
              "       [ 15.30779289],\n",
              "       [-34.70626581],\n",
              "       [  1.38915437],\n",
              "       [-44.38375985],\n",
              "       [  7.01350208],\n",
              "       [ 22.76274892]])"
            ]
          },
          "metadata": {
            "tags": []
          },
          "execution_count": 149
        }
      ]
    },
    {
      "cell_type": "code",
      "metadata": {
        "colab": {
          "base_uri": "https://localhost:8080/"
        },
        "id": "TYh2tyPkMGuA",
        "outputId": "89cc2639-47e0-4a48-88b1-40c3e2b9fc95"
      },
      "source": [
        "X_poli[:5]"
      ],
      "execution_count": null,
      "outputs": [
        {
          "output_type": "execute_result",
          "data": {
            "text/plain": [
              "array([[-1.59367581e+01,  2.53980260e+02, -4.04762197e+03,\n",
              "         6.45059724e+04, -1.02801608e+06,  1.63832436e+07,\n",
              "        -2.61095791e+08,  4.16102047e+09],\n",
              "       [-2.91529792e+01,  8.49896197e+02, -2.47770062e+04,\n",
              "         7.22323546e+05, -2.10578833e+07,  6.13900035e+08,\n",
              "        -1.78970150e+10,  5.21751305e+11],\n",
              "       [ 3.61895486e+01,  1.30968343e+03,  4.73968522e+04,\n",
              "         1.71527069e+06,  6.20748719e+07,  2.24646160e+09,\n",
              "         8.12984311e+10,  2.94215353e+12],\n",
              "       [ 3.74921873e+01,  1.40566411e+03,  5.27014222e+04,\n",
              "         1.97589159e+06,  7.40804977e+07,  2.77743990e+09,\n",
              "         1.04132297e+11,  3.90414759e+12],\n",
              "       [-4.80588295e+01,  2.30965109e+03, -1.10999128e+05,\n",
              "         5.33448815e+06, -2.56369256e+08,  1.23208064e+10,\n",
              "        -5.92123532e+11,  2.84567638e+13]])"
            ]
          },
          "metadata": {
            "tags": []
          },
          "execution_count": 150
        }
      ]
    },
    {
      "cell_type": "markdown",
      "metadata": {
        "id": "LORF6lFC3qAT"
      },
      "source": [
        "Em seguida normalizamos as características para deixá-las na mesma escala."
      ]
    },
    {
      "cell_type": "code",
      "metadata": {
        "id": "U13P-hFVCvhe"
      },
      "source": [
        "from normalizacao import normalizar_caracteristica"
      ],
      "execution_count": null,
      "outputs": []
    },
    {
      "cell_type": "code",
      "metadata": {
        "id": "FBrdhgp_McB8"
      },
      "source": [
        "X_Norm, X_Norm_mean, X_Norm_std = normalizar_caracteristica(X_poli)"
      ],
      "execution_count": null,
      "outputs": []
    },
    {
      "cell_type": "code",
      "metadata": {
        "colab": {
          "base_uri": "https://localhost:8080/"
        },
        "id": "tyv7LptUX3IT",
        "outputId": "a12130a7-9679-42ba-f11e-bbef4baf9462"
      },
      "source": [
        "X_Norm.shape"
      ],
      "execution_count": null,
      "outputs": [
        {
          "output_type": "execute_result",
          "data": {
            "text/plain": [
              "(12, 9)"
            ]
          },
          "metadata": {
            "tags": []
          },
          "execution_count": 153
        }
      ]
    },
    {
      "cell_type": "code",
      "metadata": {
        "id": "-eRu_tz1YJLY",
        "colab": {
          "base_uri": "https://localhost:8080/"
        },
        "outputId": "1645b5ae-b819-49f3-fd0f-e72850ffc96a"
      },
      "source": [
        "X_[0]"
      ],
      "execution_count": null,
      "outputs": [
        {
          "output_type": "execute_result",
          "data": {
            "text/plain": [
              "array([-15.93675813])"
            ]
          },
          "metadata": {
            "tags": []
          },
          "execution_count": 154
        }
      ]
    },
    {
      "cell_type": "code",
      "metadata": {
        "colab": {
          "base_uri": "https://localhost:8080/"
        },
        "id": "V2Alrl2F2phJ",
        "outputId": "f3097d54-c597-4a46-8cfb-986ba5eea29d"
      },
      "source": [
        "X_poli[0]"
      ],
      "execution_count": null,
      "outputs": [
        {
          "output_type": "execute_result",
          "data": {
            "text/plain": [
              "array([-1.59367581e+01,  2.53980260e+02, -4.04762197e+03,  6.45059724e+04,\n",
              "       -1.02801608e+06,  1.63832436e+07, -2.61095791e+08,  4.16102047e+09])"
            ]
          },
          "metadata": {
            "tags": []
          },
          "execution_count": 155
        }
      ]
    },
    {
      "cell_type": "code",
      "metadata": {
        "colab": {
          "base_uri": "https://localhost:8080/"
        },
        "id": "dGOoZTo70rDb",
        "outputId": "6ae8e692-a4f4-4da1-a2c0-1e743783c282"
      },
      "source": [
        "X_Norm[0]"
      ],
      "execution_count": null,
      "outputs": [
        {
          "output_type": "execute_result",
          "data": {
            "text/plain": [
              "array([ 1.        , -0.3782437 , -0.78866232,  0.19032872, -0.7375913 ,\n",
              "        0.32025197, -0.6171516 ,  0.35983501, -0.53109126])"
            ]
          },
          "metadata": {
            "tags": []
          },
          "execution_count": 156
        }
      ]
    },
    {
      "cell_type": "markdown",
      "metadata": {
        "id": "PsxqEWjINEmI"
      },
      "source": [
        "Nesta parte da análise, serão aprendidos os parâmetros e gerada a visualização com a regressão polinomial."
      ]
    },
    {
      "cell_type": "code",
      "metadata": {
        "colab": {
          "base_uri": "https://localhost:8080/"
        },
        "id": "xCedde3f4Ahz",
        "outputId": "550c5d47-87a0-44f0-c319-a7419f827749"
      },
      "source": [
        "print(X_Norm.shape, y_.shape)"
      ],
      "execution_count": null,
      "outputs": [
        {
          "output_type": "stream",
          "text": [
            "(12, 9) (12, 1)\n"
          ],
          "name": "stdout"
        }
      ]
    },
    {
      "cell_type": "code",
      "metadata": {
        "id": "wnLNCwiE9ZBT"
      },
      "source": [
        "from custo_reglin_multi import custo_reglin_multi\n",
        "import gd_reglin_multi\n",
        "from plot_ex5data1 import plot_ex5data1\n",
        "from plot_learning_curve import plot_learning_curve"
      ],
      "execution_count": null,
      "outputs": []
    },
    {
      "cell_type": "code",
      "metadata": {
        "colab": {
          "base_uri": "https://localhost:8080/"
        },
        "id": "8ZjNNBOHNl2i",
        "outputId": "8b602f72-2b5c-408b-cf0e-2d2f5768a089"
      },
      "source": [
        "_lambda = 0.003\n",
        "theta = np.ones((X_Norm.shape[1])) #inicialização\n",
        "result = encontrar_theta_otimo(theta, X_Norm, y_, _lambda)\n",
        "theta_ = result[0]\n",
        "\n",
        "print('Vetor de parâmetros\\n',theta_)"
      ],
      "execution_count": null,
      "outputs": [
        {
          "output_type": "stream",
          "text": [
            "Vetor de parâmetros\n",
            " [ 11.21758156  11.23243789  13.34820938   8.58292448  -9.26145596\n",
            " -10.73863263   4.12880494   1.77973445  -3.39673752]\n"
          ],
          "name": "stdout"
        }
      ]
    },
    {
      "cell_type": "code",
      "metadata": {
        "colab": {
          "base_uri": "https://localhost:8080/"
        },
        "id": "cjnklSCRBx0d",
        "outputId": "e21d3ea6-ff51-4b6d-90c4-eeb6ba183c65"
      },
      "source": [
        "print(y_.shape, theta_.shape)"
      ],
      "execution_count": null,
      "outputs": [
        {
          "output_type": "stream",
          "text": [
            "(12, 1) (9,)\n"
          ],
          "name": "stdout"
        }
      ]
    },
    {
      "cell_type": "code",
      "metadata": {
        "colab": {
          "base_uri": "https://localhost:8080/"
        },
        "id": "FwG_FwIxORSF",
        "outputId": "173188c3-7606-4f8e-a089-a97911cfcc63"
      },
      "source": [
        "x = np.linspace(-65,60,50)\n",
        "x = x.reshape((len(x),1))\n",
        "x_poli = polyFeatures(x, grau)\n",
        "x_poli = (x_poli - X_Norm_mean) / X_Norm_std\n",
        "x_poli = np.insert(x_poli, 0, 1, axis=1)\n",
        "\n",
        "h = x_poli.dot(np.matrix(theta_).T)\n",
        "\n",
        "plot_ex5data1(X_, y_)\n",
        "plt.plot(x, h, 'b--')\n",
        "plt.title('Ajuste polinomial ($\\lambda = 0$)')\n",
        "plt.axis((-70,70,-60,50))\n",
        "plt.show()"
      ],
      "execution_count": null,
      "outputs": [
        {
          "output_type": "display_data",
          "data": {
            "image/png": "[encoded data removed]",
            "text/plain": [
              "<Figure size 576x360 with 1 Axes>"
            ]
          },
          "metadata": {
            "tags": [],
            "needs_background": "light"
          }
        }
      ]
    },
    {
      "cell_type": "markdown",
      "metadata": {
        "id": "li16Id7EPvlc"
      },
      "source": [
        "O modelo gerado pelo ajuste polinomial se adequa bem aos dados, conforme pode ser visto pela curva marcada em azul na visualização. Contudo, o modelo demonstra ter alta variância e com *overfitting*.\n",
        "\n",
        "---\n",
        "\n",
        "Para reforçar esta análise, plotamos a curva de aprendizado que demonstra que o modelo possui erros de treinamento muito baixos, se aproximando de 0, mas elevados níveis de erro de validação."
      ]
    },
    {
      "cell_type": "code",
      "metadata": {
        "id": "pI48nl4DSPEf"
      },
      "source": [
        "X_val = np.array(data['Xval'], ndmin=2).T"
      ],
      "execution_count": null,
      "outputs": []
    },
    {
      "cell_type": "code",
      "metadata": {
        "id": "uJnG0-IFQY9A"
      },
      "source": [
        "X_poli_val = polyFeatures(X_val, grau)"
      ],
      "execution_count": null,
      "outputs": []
    },
    {
      "cell_type": "code",
      "metadata": {
        "id": "8RBgfsxhRNK3"
      },
      "source": [
        "X_norm_val, _, _ = normalizar_caracteristica(X_poli_val)"
      ],
      "execution_count": null,
      "outputs": []
    },
    {
      "cell_type": "code",
      "metadata": {
        "colab": {
          "base_uri": "https://localhost:8080/"
        },
        "id": "FPw2jsTdSEgo",
        "outputId": "3821e29a-8e5a-4990-efe7-7aa97b950bac"
      },
      "source": [
        "X_norm_val[0]"
      ],
      "execution_count": null,
      "outputs": [
        {
          "output_type": "execute_result",
          "data": {
            "text/plain": [
              "array([ 1.        , -0.42416069, -0.75311565,  0.12753599, -0.7369401 ,\n",
              "        0.24552665, -0.63413413,  0.26698715, -0.55310478])"
            ]
          },
          "metadata": {
            "tags": []
          },
          "execution_count": 165
        }
      ]
    },
    {
      "cell_type": "code",
      "metadata": {
        "id": "TzeYaKuIRG8t"
      },
      "source": [
        "theta = np.ones((X_norm_val.shape[1])) #inicialização"
      ],
      "execution_count": null,
      "outputs": []
    },
    {
      "cell_type": "code",
      "metadata": {
        "colab": {
          "base_uri": "https://localhost:8080/"
        },
        "id": "d4Zhh0wPQ3R2",
        "outputId": "8e22fe70-4eda-4dec-f08d-6c35321250b0"
      },
      "source": [
        "numero_exemplos, erros_treino, erros_val = learningCurve(theta, X_Norm, y_, X_norm_val, y_val, _lambda=0)\n",
        "titulo = 'Curva de aprendizado para regressão linear polinomial'\n",
        "plot_learning_curve(numero_exemplos, erros_treino, erros_val, titulo)"
      ],
      "execution_count": null,
      "outputs": [
        {
          "output_type": "display_data",
          "data": {
            "image/png": "[encoded data removed]",
            "text/plain": [
              "<Figure size 576x360 with 1 Axes>"
            ]
          },
          "metadata": {
            "tags": [],
            "needs_background": "light"
          }
        }
      ]
    },
    {
      "cell_type": "markdown",
      "metadata": {
        "id": "8kwife5G5woO"
      },
      "source": [
        "#Referências"
      ]
    },
    {
      "cell_type": "markdown",
      "metadata": {
        "id": "N5OVMr0b5ziU"
      },
      "source": [
        "**Referências**\n",
        "\n",
        "McKinney, Wes (2018). **Python para Análise de Dados**: tratamento de dados com pandas, numpy e iPython. Traduzido por Lúcia A. Kinoshita. Novatec.\n",
        "\n",
        "Géron, Aurélien (2019). **Mãos à Obra Aprendizagem de Máquina com Scikit-Learn & TensorFlow:** Conceitos, ferramentas e técnicas para a construção de sistemas inteligentes. Traduzido por Rafael Contatori. Alta Books.\n",
        "\n",
        "Grus, Joel (2016). **Data Science do Zero:** Primeiras regras com Python. Traduzido por Welington Nascimento. Alta Books.\n",
        "\n",
        "---\n",
        "\n",
        "**Algoritmos e conjuntos de dados:**\n",
        "\n",
        "https://github.com/MLRG-CEFET-RJ/ml-class/tree/master/ml-t1"
      ]
    }
  ]
}