{
  "nbformat": 4,
  "nbformat_minor": 0,
  "metadata": {
    "colab": {
      "name": "Janio_Souza_Lima_ML-T1.ipynb",
      "provenance": [],
      "collapsed_sections": [
        "4anwwi9AXjEF",
        "ZmcIy83GWTwc",
        "-_JrahrRWXcK",
        "Z3VCULfMXV5v",
        "nZ8IG6WexPP7",
        "q5aFGDcNFOkR",
        "LLO5LLJnFcGN",
        "xx4bupTnrj49",
        "1PEMHr_zh02n",
        "5ITbQ25XqwmG",
        "ct9AJumsjsTI",
        "XaI3E_oDjxV_",
        "r_743mcDnD-R",
        "YPVoqrMcHBEp",
        "jWxrhkj7t-zu"
      ],
      "toc_visible": true
    },
    "kernelspec": {
      "name": "python3",
      "display_name": "Python 3"
    }
  },
  "cells": [
    {
      "cell_type": "markdown",
      "metadata": {
        "id": "ptkA5dKWWJVL"
      },
      "source": [
        "#**CEFET-RJ**\n",
        "\n",
        "**Programa de Pós-Gradução em Ciência da Computação - PPCIC**\n",
        "\n",
        "**Mestrado em Ciência da Computação**\n",
        "\n",
        "**Disciplina: Aprendizado de Máquina - 2021/1**\n",
        "\n",
        "* **Trabalho 01**\n",
        "* **Professor**: Eduardo Bezerra\n",
        "* **Aluno**: Janio de Souza Lima"
      ]
    },
    {
      "cell_type": "markdown",
      "metadata": {
        "id": "4anwwi9AXjEF"
      },
      "source": [
        "##Preparação do ambiente"
      ]
    },
    {
      "cell_type": "markdown",
      "metadata": {
        "id": "BfzO6DbX6OKD"
      },
      "source": [
        "Importação de bibliotecas"
      ]
    },
    {
      "cell_type": "code",
      "metadata": {
        "id": "WjU2VUQuXk88"
      },
      "source": [
        "#Importação de bibliotecas\n",
        "import pandas as pd\n",
        "import numpy as np\n",
        "import seaborn as sns\n",
        "from matplotlib import pyplot as plt\n",
        "import scipy.optimize as opt"
      ],
      "execution_count": 1,
      "outputs": []
    },
    {
      "cell_type": "markdown",
      "metadata": {
        "id": "yE_ovAy36XVL"
      },
      "source": [
        "Carga de arquivos para ambiente (apenas para uso deste notebook no Google Colab)"
      ]
    },
    {
      "cell_type": "code",
      "metadata": {
        "id": "d_Y_4EBO6DY3"
      },
      "source": [
        "from google.colab import drive"
      ],
      "execution_count": 2,
      "outputs": []
    },
    {
      "cell_type": "code",
      "metadata": {
        "colab": {
          "base_uri": "https://localhost:8080/"
        },
        "id": "7uZ-awNx88p4",
        "outputId": "184b6de0-6975-4d54-900f-a4991240c920"
      },
      "source": [
        "#Conecta o Google Colab ao Google Drive\n",
        "drive.mount('/content/drive')"
      ],
      "execution_count": 3,
      "outputs": [
        {
          "output_type": "stream",
          "text": [
            "Drive already mounted at /content/drive; to attempt to forcibly remount, call drive.mount(\"/content/drive\", force_remount=True).\n"
          ],
          "name": "stdout"
        }
      ]
    },
    {
      "cell_type": "markdown",
      "metadata": {
        "id": "F4rSnChkMHdG"
      },
      "source": [
        "A etapa anterior apenas conecta ao seu Google Drive, após rodá-la e autenticar a sessão usando o link da API da Google, o código abaixo deve ser executado para apontar para o diretório de trabalho no qual estão gravados os códigos e bibliotecas personalziadas que serão usados na análise.\n",
        "\n",
        "Os códigos* em questão estão disponíveis em: https://github.com/MLRG-CEFET-RJ/ml-class/tree/master/ml-t1/code\n",
        "\n",
        "** Em alguns casos foi necessário adaptar partes das funções originais disponíveis no repositório citado ou substituí-las por versões que estão escritas nas próprias células deste notebook*\n",
        "\n",
        "A pasta com os dados deve ser gravada neste mesmo diretório com o nome *data*, assim os trechos nos quais os conjuntos de dados são carregados rodarão sem problemas."
      ]
    },
    {
      "cell_type": "code",
      "metadata": {
        "id": "r0QvKrwd9QmG"
      },
      "source": [
        "#Define o path dos códigos e dados como diretório de trabalho atual\n",
        "import os\n",
        "dir = '/content/drive/My Drive/Mestrado PPCIC/03. Curso/3. Aprendizado/code'\n",
        "os.chdir(dir)"
      ],
      "execution_count": 4,
      "outputs": []
    },
    {
      "cell_type": "markdown",
      "metadata": {
        "id": "ZmcIy83GWTwc"
      },
      "source": [
        "#1 Regressão Linear com uma variável"
      ]
    },
    {
      "cell_type": "markdown",
      "metadata": {
        "id": "-_JrahrRWXcK"
      },
      "source": [
        "##Análise preliminar dos dados"
      ]
    },
    {
      "cell_type": "code",
      "metadata": {
        "colab": {
          "base_uri": "https://localhost:8080/",
          "height": 0
        },
        "id": "9Q54KE-XduPm",
        "outputId": "9e8debbb-56bf-41f3-e67d-c64885408cc9"
      },
      "source": [
        "#Carga dos dados usando as bibliotecas pandas e numpy\n",
        "arquivo = 'data/ex1data1.txt'\n",
        "dados = pd.read_table(arquivo,\n",
        "                      sep=',',\n",
        "                      header=None,\n",
        "                      names=['Population', 'Profit'])\n",
        "\n",
        "#Convertendo os dados para numpy array\n",
        "x = np.array(dados.Population)\n",
        "y = np.array(dados.Profit)\n",
        "\n",
        "dados.head()"
      ],
      "execution_count": 5,
      "outputs": [
        {
          "output_type": "execute_result",
          "data": {
            "text/html": [
              "<div>\n",
              "<style scoped>\n",
              "    .dataframe tbody tr th:only-of-type {\n",
              "        vertical-align: middle;\n",
              "    }\n",
              "\n",
              "    .dataframe tbody tr th {\n",
              "        vertical-align: top;\n",
              "    }\n",
              "\n",
              "    .dataframe thead th {\n",
              "        text-align: right;\n",
              "    }\n",
              "</style>\n",
              "<table border=\"1\" class=\"dataframe\">\n",
              "  <thead>\n",
              "    <tr style=\"text-align: right;\">\n",
              "      <th></th>\n",
              "      <th>Population</th>\n",
              "      <th>Profit</th>\n",
              "    </tr>\n",
              "  </thead>\n",
              "  <tbody>\n",
              "    <tr>\n",
              "      <th>0</th>\n",
              "      <td>6.1101</td>\n",
              "      <td>17.5920</td>\n",
              "    </tr>\n",
              "    <tr>\n",
              "      <th>1</th>\n",
              "      <td>5.5277</td>\n",
              "      <td>9.1302</td>\n",
              "    </tr>\n",
              "    <tr>\n",
              "      <th>2</th>\n",
              "      <td>8.5186</td>\n",
              "      <td>13.6620</td>\n",
              "    </tr>\n",
              "    <tr>\n",
              "      <th>3</th>\n",
              "      <td>7.0032</td>\n",
              "      <td>11.8540</td>\n",
              "    </tr>\n",
              "    <tr>\n",
              "      <th>4</th>\n",
              "      <td>5.8598</td>\n",
              "      <td>6.8233</td>\n",
              "    </tr>\n",
              "  </tbody>\n",
              "</table>\n",
              "</div>"
            ],
            "text/plain": [
              "   Population   Profit\n",
              "0      6.1101  17.5920\n",
              "1      5.5277   9.1302\n",
              "2      8.5186  13.6620\n",
              "3      7.0032  11.8540\n",
              "4      5.8598   6.8233"
            ]
          },
          "metadata": {
            "tags": []
          },
          "execution_count": 5
        }
      ]
    },
    {
      "cell_type": "code",
      "metadata": {
        "colab": {
          "base_uri": "https://localhost:8080/"
        },
        "id": "AEiSmNpzet2g",
        "outputId": "516cc625-1a27-4932-bcdf-04cc388345db"
      },
      "source": [
        "#Informações gerais do dataset carregado\n",
        "dados.info()"
      ],
      "execution_count": 6,
      "outputs": [
        {
          "output_type": "stream",
          "text": [
            "<class 'pandas.core.frame.DataFrame'>\n",
            "RangeIndex: 97 entries, 0 to 96\n",
            "Data columns (total 2 columns):\n",
            " #   Column      Non-Null Count  Dtype  \n",
            "---  ------      --------------  -----  \n",
            " 0   Population  97 non-null     float64\n",
            " 1   Profit      97 non-null     float64\n",
            "dtypes: float64(2)\n",
            "memory usage: 1.6 KB\n"
          ],
          "name": "stdout"
        }
      ]
    },
    {
      "cell_type": "code",
      "metadata": {
        "colab": {
          "base_uri": "https://localhost:8080/",
          "height": 0
        },
        "id": "jsoXODG1e6oG",
        "outputId": "d3426c87-c23b-450f-adbe-9247a762c48f"
      },
      "source": [
        "#Sumário estatístico dos dados\n",
        "dados.describe()"
      ],
      "execution_count": 7,
      "outputs": [
        {
          "output_type": "execute_result",
          "data": {
            "text/html": [
              "<div>\n",
              "<style scoped>\n",
              "    .dataframe tbody tr th:only-of-type {\n",
              "        vertical-align: middle;\n",
              "    }\n",
              "\n",
              "    .dataframe tbody tr th {\n",
              "        vertical-align: top;\n",
              "    }\n",
              "\n",
              "    .dataframe thead th {\n",
              "        text-align: right;\n",
              "    }\n",
              "</style>\n",
              "<table border=\"1\" class=\"dataframe\">\n",
              "  <thead>\n",
              "    <tr style=\"text-align: right;\">\n",
              "      <th></th>\n",
              "      <th>Population</th>\n",
              "      <th>Profit</th>\n",
              "    </tr>\n",
              "  </thead>\n",
              "  <tbody>\n",
              "    <tr>\n",
              "      <th>count</th>\n",
              "      <td>97.000000</td>\n",
              "      <td>97.000000</td>\n",
              "    </tr>\n",
              "    <tr>\n",
              "      <th>mean</th>\n",
              "      <td>8.159800</td>\n",
              "      <td>5.839135</td>\n",
              "    </tr>\n",
              "    <tr>\n",
              "      <th>std</th>\n",
              "      <td>3.869884</td>\n",
              "      <td>5.510262</td>\n",
              "    </tr>\n",
              "    <tr>\n",
              "      <th>min</th>\n",
              "      <td>5.026900</td>\n",
              "      <td>-2.680700</td>\n",
              "    </tr>\n",
              "    <tr>\n",
              "      <th>25%</th>\n",
              "      <td>5.707700</td>\n",
              "      <td>1.986900</td>\n",
              "    </tr>\n",
              "    <tr>\n",
              "      <th>50%</th>\n",
              "      <td>6.589400</td>\n",
              "      <td>4.562300</td>\n",
              "    </tr>\n",
              "    <tr>\n",
              "      <th>75%</th>\n",
              "      <td>8.578100</td>\n",
              "      <td>7.046700</td>\n",
              "    </tr>\n",
              "    <tr>\n",
              "      <th>max</th>\n",
              "      <td>22.203000</td>\n",
              "      <td>24.147000</td>\n",
              "    </tr>\n",
              "  </tbody>\n",
              "</table>\n",
              "</div>"
            ],
            "text/plain": [
              "       Population     Profit\n",
              "count   97.000000  97.000000\n",
              "mean     8.159800   5.839135\n",
              "std      3.869884   5.510262\n",
              "min      5.026900  -2.680700\n",
              "25%      5.707700   1.986900\n",
              "50%      6.589400   4.562300\n",
              "75%      8.578100   7.046700\n",
              "max     22.203000  24.147000"
            ]
          },
          "metadata": {
            "tags": []
          },
          "execution_count": 7
        }
      ]
    },
    {
      "cell_type": "code",
      "metadata": {
        "colab": {
          "base_uri": "https://localhost:8080/"
        },
        "id": "hzZofIC8hvn5",
        "outputId": "94ad86d6-a856-4905-bb03-a5563107d8f7"
      },
      "source": [
        "#Correlação entre as variáveis do conjunto de dados\n",
        "print(f'Correlação entre a característica (População) e o alvo (Lucro): {dados.Population.corr(dados.Profit, method=\"pearson\"):.3f}')"
      ],
      "execution_count": 8,
      "outputs": [
        {
          "output_type": "stream",
          "text": [
            "Correlação entre a característica (População) e o alvo (Lucro): 0.838\n"
          ],
          "name": "stdout"
        }
      ]
    },
    {
      "cell_type": "markdown",
      "metadata": {
        "id": "d70Kb2kViNDg"
      },
      "source": [
        "##1.1 Visualização dos dados"
      ]
    },
    {
      "cell_type": "code",
      "metadata": {
        "colab": {
          "base_uri": "https://localhost:8080/",
          "height": 0
        },
        "id": "Hhmc66w7ei-U",
        "outputId": "967781bd-becc-497c-cda7-fa95fd0d5299"
      },
      "source": [
        "#Geração do gráfico de dispersão\n",
        "plt.scatter(dados.Population,\n",
        "            dados.Profit,\n",
        "            marker='x',\n",
        "            color='red',\n",
        "            alpha=0.6)\n",
        "\n",
        "plt.xticks([4,6,8,10,12,14,16,18,20,22,24])\n",
        "plt.yticks([-5,0,5,10,15,20,25])\n",
        "\n",
        "plt.title('População da cidade x Lucro da filial')\n",
        "plt.xlabel('População (10k)')\n",
        "plt.ylabel('Lucro ($ 10k)')\n",
        "\n",
        "plt.savefig('target/plot1.1.png')\n",
        "\n",
        "sns.despine()"
      ],
      "execution_count": 9,
      "outputs": [
        {
          "output_type": "display_data",
          "data": {
            "image/png": "[encoded data removed]",
            "text/plain": [
              "<Figure size 432x288 with 1 Axes>"
            ]
          },
          "metadata": {
            "tags": [],
            "needs_background": "light"
          }
        }
      ]
    },
    {
      "cell_type": "markdown",
      "metadata": {
        "id": "0x6Ak_1jfG9q"
      },
      "source": [
        "**Checagem:** Carga dos dados e geração do gráfico de dispersão com a função ```plot``` da biblioteca personalizada fornecida no exercício."
      ]
    },
    {
      "cell_type": "code",
      "metadata": {
        "id": "lxBsV_sxfxmr"
      },
      "source": [
        "import plot_ex1data1"
      ],
      "execution_count": 10,
      "outputs": []
    },
    {
      "cell_type": "code",
      "metadata": {
        "colab": {
          "base_uri": "https://localhost:8080/",
          "height": 0
        },
        "id": "daTWnlatWS54",
        "outputId": "20b471dd-9b63-419b-fa48-f164daf0b645"
      },
      "source": [
        "plot_ex1data1.plot()"
      ],
      "execution_count": 11,
      "outputs": [
        {
          "output_type": "display_data",
          "data": {
            "image/png": "[encoded data removed]",
            "text/plain": [
              "<Figure size 432x288 with 1 Axes>"
            ]
          },
          "metadata": {
            "tags": [],
            "needs_background": "light"
          }
        }
      ]
    },
    {
      "cell_type": "markdown",
      "metadata": {
        "id": "Q-YTWyV0Wk-T"
      },
      "source": [
        "Tanto a visualização da dispersão dos dados quanto a correlação calculada na análise preliminar demonstram que as variáveis \"População\" e \"Lucro\" apresentam uma correlação positiva entre si. Indicando um crescimento do lucro à medida que são observadas populações maiores."
      ]
    },
    {
      "cell_type": "markdown",
      "metadata": {
        "id": "Z3VCULfMXV5v"
      },
      "source": [
        "##1.2 Gradiente Descendente"
      ]
    },
    {
      "cell_type": "markdown",
      "metadata": {
        "id": "cyRS97Zd1RCf"
      },
      "source": [
        "Carga do conjunto de dados, organizando os valores dos dados de População e Lucro em X e y, respectivamente."
      ]
    },
    {
      "cell_type": "code",
      "metadata": {
        "id": "JGuCGSPbir-i"
      },
      "source": [
        "X, y = plot_ex1data1.importarDados('/data/ex1data1.txt',\n",
        "                                   ['Population', 'Profit'])"
      ],
      "execution_count": 12,
      "outputs": []
    },
    {
      "cell_type": "code",
      "metadata": {
        "colab": {
          "base_uri": "https://localhost:8080/"
        },
        "id": "fFjy8QCGlgCY",
        "outputId": "f668d4f0-b935-4c78-fe84-5c7ae2da58be"
      },
      "source": [
        "X.shape"
      ],
      "execution_count": 13,
      "outputs": [
        {
          "output_type": "execute_result",
          "data": {
            "text/plain": [
              "(97, 1)"
            ]
          },
          "metadata": {
            "tags": []
          },
          "execution_count": 13
        }
      ]
    },
    {
      "cell_type": "markdown",
      "metadata": {
        "id": "EApE2Wr8xyba"
      },
      "source": [
        "A carga dos dados da forma acima gera uma matriz X com 97 linhas e 1 coluna. Como a função de custos precisa que esta matriz seja composta por uma coluna de valores 1 relativa ao $\\theta_0$ e outra com os valores das características de X, usamos o código a seguir para gerar a matriz no formato necessário. Isto se faz necessário para multiplicação do vetor de exemplos pelo vetor *theta*."
      ]
    },
    {
      "cell_type": "code",
      "metadata": {
        "colab": {
          "base_uri": "https://localhost:8080/"
        },
        "id": "Qd6rpSw_l95E",
        "outputId": "50e3c95d-f285-44fe-f8c6-322b082bcbb1"
      },
      "source": [
        "X = np.c_[np.ones((X.shape[0], 1)), x]\n",
        "X.shape"
      ],
      "execution_count": 14,
      "outputs": [
        {
          "output_type": "execute_result",
          "data": {
            "text/plain": [
              "(97, 2)"
            ]
          },
          "metadata": {
            "tags": []
          },
          "execution_count": 14
        }
      ]
    },
    {
      "cell_type": "markdown",
      "metadata": {
        "id": "IZc9rCm3X6WS"
      },
      "source": [
        "**Aplicação da função de custo**\n",
        " \n",
        "Como pode ser observado na saída abaixo, obtemos um valor de 32,07 ao aplicarmos a função de custo para o conjunto de dados com os valores de $\\theta$ = 0."
      ]
    },
    {
      "cell_type": "markdown",
      "metadata": {
        "id": "zoB9w0djyLVx"
      },
      "source": [
        "Neste ponto, criamos uma matriz de duas dimensões com os valores de $\\theta$ zerados, para permitir realizar o teste da função de custos e posteriormente aplicar o Gradiente Descendente para calcular os valores de $\\theta$ otimizados."
      ]
    },
    {
      "cell_type": "code",
      "metadata": {
        "id": "1oOz-zspmelu"
      },
      "source": [
        "theta = np.array([0,0], ndmin=2).T"
      ],
      "execution_count": 15,
      "outputs": []
    },
    {
      "cell_type": "code",
      "metadata": {
        "colab": {
          "base_uri": "https://localhost:8080/"
        },
        "id": "booPJNVgnBZW",
        "outputId": "d6d027ff-f9bf-47eb-a99b-76aee1f378fd"
      },
      "source": [
        "theta"
      ],
      "execution_count": 16,
      "outputs": [
        {
          "output_type": "execute_result",
          "data": {
            "text/plain": [
              "array([[0],\n",
              "       [0]])"
            ]
          },
          "metadata": {
            "tags": []
          },
          "execution_count": 16
        }
      ]
    },
    {
      "cell_type": "markdown",
      "metadata": {
        "id": "UC-wkoO7ydJZ"
      },
      "source": [
        "Neste ponto aplicamos a função de custo com os parâmetros zerados para testar a implementação. Obtemos como resultado o valor previsto no exercício (32,07), confirmando a correção da implementação da função de custo."
      ]
    },
    {
      "cell_type": "code",
      "metadata": {
        "colab": {
          "base_uri": "https://localhost:8080/"
        },
        "id": "4tWExGuaXyko",
        "outputId": "59ba4fb4-49da-413f-ec0b-950597373998"
      },
      "source": [
        "from custo_reglin_uni import custo_reglin_uni\n",
        "custo_reglin_uni(X, y, theta)"
      ],
      "execution_count": 17,
      "outputs": [
        {
          "output_type": "execute_result",
          "data": {
            "text/plain": [
              "32.072733877455676"
            ]
          },
          "metadata": {
            "tags": []
          },
          "execution_count": 17
        }
      ]
    },
    {
      "cell_type": "markdown",
      "metadata": {
        "id": "ONVg-TRNi7Ho"
      },
      "source": [
        "Com a função de custo já testada, os valores de theta iniciados com valor 0 e a matriz X já devidamente complementada com uma coluna de valores 1, aplicamos a função do gradiente descendente para encontrar os valores de theta."
      ]
    },
    {
      "cell_type": "code",
      "metadata": {
        "id": "ZY0F76M5ZRzC"
      },
      "source": [
        "from gd_reglin_uni import gd_reglin_uni"
      ],
      "execution_count": 18,
      "outputs": []
    },
    {
      "cell_type": "code",
      "metadata": {
        "id": "a_B4-BTWpCwl"
      },
      "source": [
        "alpha=0.01\n",
        "epochs=5000"
      ],
      "execution_count": 19,
      "outputs": []
    },
    {
      "cell_type": "code",
      "metadata": {
        "id": "_GmenmqJZgtp"
      },
      "source": [
        "history, theta = gd_reglin_uni(X, y, alpha, epochs, theta)"
      ],
      "execution_count": 20,
      "outputs": []
    },
    {
      "cell_type": "code",
      "metadata": {
        "colab": {
          "base_uri": "https://localhost:8080/"
        },
        "id": "js4x8xYoZsKo",
        "outputId": "cca3a578-a34e-4ac8-f22c-11851f69ea17"
      },
      "source": [
        "#print(custo, theta)\n",
        "print(f'Custo: {history[-1]}\\nTheta0: {theta[0][0]}\\nTheta1: {theta[1][0]}')"
      ],
      "execution_count": 21,
      "outputs": [
        {
          "output_type": "stream",
          "text": [
            "Custo: 4.476971396982805\n",
            "Theta0: -3.8953005106571683\n",
            "Theta1: 1.1929853860482196\n"
          ],
          "name": "stdout"
        }
      ]
    },
    {
      "cell_type": "markdown",
      "metadata": {
        "id": "B6lG_23BzXAD"
      },
      "source": [
        "Considerando a aplicação do Gradiente Descendente com o valor de alpha = 0.01, 5000 épocas e os valores de theta começando em 0, obtemos $\\theta_0 = -3.895$ e $\\theta_1 = 1.193$. Além disso, obtemos o valor de custo de 4.47 a partir da função $J(\\theta)$.\n",
        "\n",
        "---"
      ]
    },
    {
      "cell_type": "markdown",
      "metadata": {
        "id": "UGVIt-2u0S6q"
      },
      "source": [
        "A seguir apresentamos a visualização da dispersão dos dados originais, marcados em vermelho, e a reta de ajustamento da **Regressão Linear**, marcada em azul."
      ]
    },
    {
      "cell_type": "code",
      "metadata": {
        "id": "0fyALy_9oyjk"
      },
      "source": [
        "import visualizar_reta"
      ],
      "execution_count": 22,
      "outputs": []
    },
    {
      "cell_type": "code",
      "metadata": {
        "colab": {
          "base_uri": "https://localhost:8080/",
          "height": 0
        },
        "id": "ickJXbIfpdzN",
        "outputId": "97cb761b-8a8f-4ed0-b700-31a312b5da59"
      },
      "source": [
        "visualizar_reta.plot('/data/ex1data1.txt',\n",
        "                     theta)"
      ],
      "execution_count": 23,
      "outputs": [
        {
          "output_type": "display_data",
          "data": {
            "image/png": "[encoded data removed]",
            "text/plain": [
              "<Figure size 432x288 with 1 Axes>"
            ]
          },
          "metadata": {
            "tags": [],
            "needs_background": "light"
          }
        },
        {
          "output_type": "display_data",
          "data": {
            "text/plain": [
              "<Figure size 432x288 with 0 Axes>"
            ]
          },
          "metadata": {
            "tags": []
          }
        }
      ]
    },
    {
      "cell_type": "markdown",
      "metadata": {
        "id": "S1FKtICpwRPP"
      },
      "source": [
        "**Uso da equação da regressão linear para previsão de valores**\n",
        "\n",
        "Modelo de Regressão Linear: $h\\theta(x) = \\theta_0 + \\theta_1x = -3.895 + 1.193 \\times x$ (1)"
      ]
    },
    {
      "cell_type": "code",
      "metadata": {
        "id": "Q5fGDJp3u9zs"
      },
      "source": [
        "def predicao(x, theta):\n",
        "  \"\"\"\n",
        "  Função recebe um valor (escalar) x e retorna o valor previsto de y\n",
        "  usando a equação da regressão linear construída nas etapas anteriores\n",
        "  \"\"\"\n",
        "  \n",
        "  pred = theta[0] + theta[1] * x\n",
        "\n",
        "  return pred"
      ],
      "execution_count": 24,
      "outputs": []
    },
    {
      "cell_type": "code",
      "metadata": {
        "colab": {
          "base_uri": "https://localhost:8080/"
        },
        "id": "F_TdNVeVvG6Z",
        "outputId": "6dba8031-a5f4-4c68-908f-6b614ea34c79"
      },
      "source": [
        "population = 35000\n",
        "lucro = predicao(population, theta)\n",
        "print(f'{lucro[0]:.2f}')"
      ],
      "execution_count": 25,
      "outputs": [
        {
          "output_type": "stream",
          "text": [
            "41750.59\n"
          ],
          "name": "stdout"
        }
      ]
    },
    {
      "cell_type": "code",
      "metadata": {
        "colab": {
          "base_uri": "https://localhost:8080/"
        },
        "id": "sLyTQXjKvRn5",
        "outputId": "8dae1a5d-afe8-4fcd-b3e9-7f05e8d7dbbe"
      },
      "source": [
        "population = 70000\n",
        "lucro = predicao(population, theta)\n",
        "print(f'{lucro[0]:.2f}')"
      ],
      "execution_count": 26,
      "outputs": [
        {
          "output_type": "stream",
          "text": [
            "83505.08\n"
          ],
          "name": "stdout"
        }
      ]
    },
    {
      "cell_type": "markdown",
      "metadata": {
        "id": "GGu8S7pEwjLZ"
      },
      "source": [
        "De acordo com a Equação 1 da regressão linear encontrada:\n",
        "* Para uma população de 35.000 habitantes o lucro previsto é de $ 41.750,59;\n",
        "\n",
        "* Para 70.000 habitantes o lucro previsto é de $83.505,08.\n",
        "\n",
        "---\n",
        "\n",
        "  $h\\theta(x) = \\theta_0 + \\theta_1x = -3.895 + 1.193 \\times x$ (1)\n",
        "   \n",
        "  Então, para $x = 35000$, $y=41750,59$ e para $x = 70000$, $y=83505,08$."
      ]
    },
    {
      "cell_type": "markdown",
      "metadata": {
        "id": "nZ8IG6WexPP7"
      },
      "source": [
        "##1.3 Visualização de $J(\\theta)$"
      ]
    },
    {
      "cell_type": "code",
      "metadata": {
        "id": "rmvrrjiExOkw"
      },
      "source": [
        "import visualizar_J_surface\n",
        "import visualizar_J_contour"
      ],
      "execution_count": 27,
      "outputs": []
    },
    {
      "cell_type": "markdown",
      "metadata": {
        "id": "4q8Z3NTF5EOm"
      },
      "source": [
        "**Gráfico das curvas de nível da função de custo**"
      ]
    },
    {
      "cell_type": "code",
      "metadata": {
        "colab": {
          "base_uri": "https://localhost:8080/",
          "height": 0
        },
        "id": "5Fc3EtPM2sji",
        "outputId": "6776681d-c6b9-4bba-e125-39e3891ef24a"
      },
      "source": [
        "J = visualizar_J_contour.plot(X, y, theta)"
      ],
      "execution_count": 28,
      "outputs": [
        {
          "output_type": "stream",
          "text": [
            "/content/drive/My Drive/Mestrado PPCIC/03. Curso/3. Aprendizado/code/visualizar_J_contour.py:27: UserWarning: The following kwargs were not used by contour: 'color'\n",
            "  ax.contour(theta0, theta1, J, levels=np.logspace(-1, 4, 20), color='blue')\n"
          ],
          "name": "stderr"
        },
        {
          "output_type": "display_data",
          "data": {
            "text/plain": [
              "<Figure size 432x288 with 0 Axes>"
            ]
          },
          "metadata": {
            "tags": []
          }
        },
        {
          "output_type": "display_data",
          "data": {
            "image/png": "[encoded data removed]",
            "text/plain": [
              "<Figure size 432x288 with 1 Axes>"
            ]
          },
          "metadata": {
            "tags": [],
            "needs_background": "light"
          }
        },
        {
          "output_type": "display_data",
          "data": {
            "text/plain": [
              "<Figure size 432x288 with 0 Axes>"
            ]
          },
          "metadata": {
            "tags": []
          }
        }
      ]
    },
    {
      "cell_type": "markdown",
      "metadata": {
        "id": "bkRpXkwf5JOt"
      },
      "source": [
        "**Gráfico com recorte da superfície da função de custo**"
      ]
    },
    {
      "cell_type": "code",
      "metadata": {
        "colab": {
          "base_uri": "https://localhost:8080/",
          "height": 0
        },
        "id": "LY0GUOSv3ivU",
        "outputId": "42b0ec9c-e9cc-449a-c370-2f209b18eb6d"
      },
      "source": [
        "visualizar_J_surface.plot(J)"
      ],
      "execution_count": 29,
      "outputs": [
        {
          "output_type": "display_data",
          "data": {
            "image/png": "[encoded data removed]",
            "text/plain": [
              "<Figure size 432x288 with 1 Axes>"
            ]
          },
          "metadata": {
            "tags": [],
            "needs_background": "light"
          }
        },
        {
          "output_type": "execute_result",
          "data": {
            "text/plain": [
              "<mpl_toolkits.mplot3d.art3d.Poly3DCollection at 0x7fc1be1ee950>"
            ]
          },
          "metadata": {
            "tags": []
          },
          "execution_count": 29
        },
        {
          "output_type": "display_data",
          "data": {
            "text/plain": [
              "<Figure size 432x288 with 0 Axes>"
            ]
          },
          "metadata": {
            "tags": []
          }
        }
      ]
    },
    {
      "cell_type": "markdown",
      "metadata": {
        "id": "CY4Wk02F3s2W"
      },
      "source": [
        "**ANÁLISE DO RESULTADO DA ETAPA:** Nas visualizações desta subseção, primeiro apresentamos a visualização na qual o valor do mínimo global da função é exibido como um ponto vermelho nas coordenadas equivalentes aos valores de theta.\n",
        "\n",
        "A segunda visualização, por sua vez, exibe um recorte da superfície da função $J(\\theta)$ da **Regressão Linear**."
      ]
    },
    {
      "cell_type": "markdown",
      "metadata": {
        "id": "q5aFGDcNFOkR"
      },
      "source": [
        "#2 Regressão Linear com Múltiplas Variáveis"
      ]
    },
    {
      "cell_type": "markdown",
      "metadata": {
        "id": "LLO5LLJnFcGN"
      },
      "source": [
        "##Análise preliminar dos dados"
      ]
    },
    {
      "cell_type": "code",
      "metadata": {
        "colab": {
          "base_uri": "https://localhost:8080/",
          "height": 0
        },
        "id": "0pJ6pntUFfe2",
        "outputId": "c98bde76-7b62-4f48-a3ac-b6fab4a8d02a"
      },
      "source": [
        "#Carga dos dados usando as bibliotecas pandas e numpy\n",
        "arquivo = 'data/ex1data2.txt'\n",
        "dados = pd.read_table(arquivo,\n",
        "                      sep=',',\n",
        "                      header=None,\n",
        "                      names=['Tamanho', 'Dormitorios', 'Preco'])\n",
        "\n",
        "dados.head()"
      ],
      "execution_count": 30,
      "outputs": [
        {
          "output_type": "execute_result",
          "data": {
            "text/html": [
              "<div>\n",
              "<style scoped>\n",
              "    .dataframe tbody tr th:only-of-type {\n",
              "        vertical-align: middle;\n",
              "    }\n",
              "\n",
              "    .dataframe tbody tr th {\n",
              "        vertical-align: top;\n",
              "    }\n",
              "\n",
              "    .dataframe thead th {\n",
              "        text-align: right;\n",
              "    }\n",
              "</style>\n",
              "<table border=\"1\" class=\"dataframe\">\n",
              "  <thead>\n",
              "    <tr style=\"text-align: right;\">\n",
              "      <th></th>\n",
              "      <th>Tamanho</th>\n",
              "      <th>Dormitorios</th>\n",
              "      <th>Preco</th>\n",
              "    </tr>\n",
              "  </thead>\n",
              "  <tbody>\n",
              "    <tr>\n",
              "      <th>0</th>\n",
              "      <td>2104</td>\n",
              "      <td>3</td>\n",
              "      <td>399900</td>\n",
              "    </tr>\n",
              "    <tr>\n",
              "      <th>1</th>\n",
              "      <td>1600</td>\n",
              "      <td>3</td>\n",
              "      <td>329900</td>\n",
              "    </tr>\n",
              "    <tr>\n",
              "      <th>2</th>\n",
              "      <td>2400</td>\n",
              "      <td>3</td>\n",
              "      <td>369000</td>\n",
              "    </tr>\n",
              "    <tr>\n",
              "      <th>3</th>\n",
              "      <td>1416</td>\n",
              "      <td>2</td>\n",
              "      <td>232000</td>\n",
              "    </tr>\n",
              "    <tr>\n",
              "      <th>4</th>\n",
              "      <td>3000</td>\n",
              "      <td>4</td>\n",
              "      <td>539900</td>\n",
              "    </tr>\n",
              "  </tbody>\n",
              "</table>\n",
              "</div>"
            ],
            "text/plain": [
              "   Tamanho  Dormitorios   Preco\n",
              "0     2104            3  399900\n",
              "1     1600            3  329900\n",
              "2     2400            3  369000\n",
              "3     1416            2  232000\n",
              "4     3000            4  539900"
            ]
          },
          "metadata": {
            "tags": []
          },
          "execution_count": 30
        }
      ]
    },
    {
      "cell_type": "code",
      "metadata": {
        "colab": {
          "base_uri": "https://localhost:8080/",
          "height": 0
        },
        "id": "Ig6v44YCGOa3",
        "outputId": "d74090d3-e951-47a4-a69f-733a09dfb9c7"
      },
      "source": [
        "dados.describe()"
      ],
      "execution_count": 31,
      "outputs": [
        {
          "output_type": "execute_result",
          "data": {
            "text/html": [
              "<div>\n",
              "<style scoped>\n",
              "    .dataframe tbody tr th:only-of-type {\n",
              "        vertical-align: middle;\n",
              "    }\n",
              "\n",
              "    .dataframe tbody tr th {\n",
              "        vertical-align: top;\n",
              "    }\n",
              "\n",
              "    .dataframe thead th {\n",
              "        text-align: right;\n",
              "    }\n",
              "</style>\n",
              "<table border=\"1\" class=\"dataframe\">\n",
              "  <thead>\n",
              "    <tr style=\"text-align: right;\">\n",
              "      <th></th>\n",
              "      <th>Tamanho</th>\n",
              "      <th>Dormitorios</th>\n",
              "      <th>Preco</th>\n",
              "    </tr>\n",
              "  </thead>\n",
              "  <tbody>\n",
              "    <tr>\n",
              "      <th>count</th>\n",
              "      <td>47.000000</td>\n",
              "      <td>47.000000</td>\n",
              "      <td>47.000000</td>\n",
              "    </tr>\n",
              "    <tr>\n",
              "      <th>mean</th>\n",
              "      <td>2000.680851</td>\n",
              "      <td>3.170213</td>\n",
              "      <td>340412.659574</td>\n",
              "    </tr>\n",
              "    <tr>\n",
              "      <th>std</th>\n",
              "      <td>794.702354</td>\n",
              "      <td>0.760982</td>\n",
              "      <td>125039.899586</td>\n",
              "    </tr>\n",
              "    <tr>\n",
              "      <th>min</th>\n",
              "      <td>852.000000</td>\n",
              "      <td>1.000000</td>\n",
              "      <td>169900.000000</td>\n",
              "    </tr>\n",
              "    <tr>\n",
              "      <th>25%</th>\n",
              "      <td>1432.000000</td>\n",
              "      <td>3.000000</td>\n",
              "      <td>249900.000000</td>\n",
              "    </tr>\n",
              "    <tr>\n",
              "      <th>50%</th>\n",
              "      <td>1888.000000</td>\n",
              "      <td>3.000000</td>\n",
              "      <td>299900.000000</td>\n",
              "    </tr>\n",
              "    <tr>\n",
              "      <th>75%</th>\n",
              "      <td>2269.000000</td>\n",
              "      <td>4.000000</td>\n",
              "      <td>384450.000000</td>\n",
              "    </tr>\n",
              "    <tr>\n",
              "      <th>max</th>\n",
              "      <td>4478.000000</td>\n",
              "      <td>5.000000</td>\n",
              "      <td>699900.000000</td>\n",
              "    </tr>\n",
              "  </tbody>\n",
              "</table>\n",
              "</div>"
            ],
            "text/plain": [
              "           Tamanho  Dormitorios          Preco\n",
              "count    47.000000    47.000000      47.000000\n",
              "mean   2000.680851     3.170213  340412.659574\n",
              "std     794.702354     0.760982  125039.899586\n",
              "min     852.000000     1.000000  169900.000000\n",
              "25%    1432.000000     3.000000  249900.000000\n",
              "50%    1888.000000     3.000000  299900.000000\n",
              "75%    2269.000000     4.000000  384450.000000\n",
              "max    4478.000000     5.000000  699900.000000"
            ]
          },
          "metadata": {
            "tags": []
          },
          "execution_count": 31
        }
      ]
    },
    {
      "cell_type": "code",
      "metadata": {
        "colab": {
          "base_uri": "https://localhost:8080/"
        },
        "id": "3kQUi02DGTul",
        "outputId": "eda817f9-f49d-4095-ee53-ac693fff3bba"
      },
      "source": [
        "dados.info()"
      ],
      "execution_count": 32,
      "outputs": [
        {
          "output_type": "stream",
          "text": [
            "<class 'pandas.core.frame.DataFrame'>\n",
            "RangeIndex: 47 entries, 0 to 46\n",
            "Data columns (total 3 columns):\n",
            " #   Column       Non-Null Count  Dtype\n",
            "---  ------       --------------  -----\n",
            " 0   Tamanho      47 non-null     int64\n",
            " 1   Dormitorios  47 non-null     int64\n",
            " 2   Preco        47 non-null     int64\n",
            "dtypes: int64(3)\n",
            "memory usage: 1.2 KB\n"
          ],
          "name": "stdout"
        }
      ]
    },
    {
      "cell_type": "code",
      "metadata": {
        "colab": {
          "base_uri": "https://localhost:8080/",
          "height": 0
        },
        "id": "mH3ogATaGZJS",
        "outputId": "c885dc4b-ced1-45f0-bad0-473b704f4ec9"
      },
      "source": [
        "dados.corr()"
      ],
      "execution_count": 33,
      "outputs": [
        {
          "output_type": "execute_result",
          "data": {
            "text/html": [
              "<div>\n",
              "<style scoped>\n",
              "    .dataframe tbody tr th:only-of-type {\n",
              "        vertical-align: middle;\n",
              "    }\n",
              "\n",
              "    .dataframe tbody tr th {\n",
              "        vertical-align: top;\n",
              "    }\n",
              "\n",
              "    .dataframe thead th {\n",
              "        text-align: right;\n",
              "    }\n",
              "</style>\n",
              "<table border=\"1\" class=\"dataframe\">\n",
              "  <thead>\n",
              "    <tr style=\"text-align: right;\">\n",
              "      <th></th>\n",
              "      <th>Tamanho</th>\n",
              "      <th>Dormitorios</th>\n",
              "      <th>Preco</th>\n",
              "    </tr>\n",
              "  </thead>\n",
              "  <tbody>\n",
              "    <tr>\n",
              "      <th>Tamanho</th>\n",
              "      <td>1.000000</td>\n",
              "      <td>0.559967</td>\n",
              "      <td>0.854988</td>\n",
              "    </tr>\n",
              "    <tr>\n",
              "      <th>Dormitorios</th>\n",
              "      <td>0.559967</td>\n",
              "      <td>1.000000</td>\n",
              "      <td>0.442261</td>\n",
              "    </tr>\n",
              "    <tr>\n",
              "      <th>Preco</th>\n",
              "      <td>0.854988</td>\n",
              "      <td>0.442261</td>\n",
              "      <td>1.000000</td>\n",
              "    </tr>\n",
              "  </tbody>\n",
              "</table>\n",
              "</div>"
            ],
            "text/plain": [
              "              Tamanho  Dormitorios     Preco\n",
              "Tamanho      1.000000     0.559967  0.854988\n",
              "Dormitorios  0.559967     1.000000  0.442261\n",
              "Preco        0.854988     0.442261  1.000000"
            ]
          },
          "metadata": {
            "tags": []
          },
          "execution_count": 33
        }
      ]
    },
    {
      "cell_type": "markdown",
      "metadata": {
        "id": "eToqJg4oG33p"
      },
      "source": [
        "##2.1 Normalização das características"
      ]
    },
    {
      "cell_type": "markdown",
      "metadata": {
        "id": "uUUVcFTRKi_Y"
      },
      "source": [
        "Carga dos dados, armazenando as características na Matriz X e o alvo no vetor y. Conferência das dimensões da matriz X e de seu conteúdo."
      ]
    },
    {
      "cell_type": "code",
      "metadata": {
        "id": "-54fx86oG9Cl"
      },
      "source": [
        "X, y = plot_ex1data1.importarDados('/data/ex1data2.txt',\n",
        "                                   ['Tamanho', 'Dormitorios', 'Preco'])"
      ],
      "execution_count": 34,
      "outputs": []
    },
    {
      "cell_type": "code",
      "metadata": {
        "colab": {
          "base_uri": "https://localhost:8080/"
        },
        "id": "D94a79dwHXQV",
        "outputId": "9baa1d5d-7ece-48c1-99dd-81c572889b81"
      },
      "source": [
        "X.shape"
      ],
      "execution_count": 35,
      "outputs": [
        {
          "output_type": "execute_result",
          "data": {
            "text/plain": [
              "(47, 2)"
            ]
          },
          "metadata": {
            "tags": []
          },
          "execution_count": 35
        }
      ]
    },
    {
      "cell_type": "code",
      "metadata": {
        "id": "epmFVO1ZKq83",
        "colab": {
          "base_uri": "https://localhost:8080/"
        },
        "outputId": "093e8f78-cbc9-4720-e27c-4b3433ec0488"
      },
      "source": [
        "X[:10]"
      ],
      "execution_count": 36,
      "outputs": [
        {
          "output_type": "execute_result",
          "data": {
            "text/plain": [
              "array([[2104,    3],\n",
              "       [1600,    3],\n",
              "       [2400,    3],\n",
              "       [1416,    2],\n",
              "       [3000,    4],\n",
              "       [1985,    4],\n",
              "       [1534,    3],\n",
              "       [1427,    3],\n",
              "       [1380,    3],\n",
              "       [1494,    3]])"
            ]
          },
          "metadata": {
            "tags": []
          },
          "execution_count": 36
        }
      ]
    },
    {
      "cell_type": "markdown",
      "metadata": {
        "id": "TUqfJyxcKz8o"
      },
      "source": [
        "Aplicação da função ```normalizar_caracteristica``` para normalização das características armazenadas na matriz X e adição da coluna de 1 para representar o $\\theta_0$."
      ]
    },
    {
      "cell_type": "code",
      "metadata": {
        "id": "PwhIV-nVJ7u5"
      },
      "source": [
        "from normalizacao import normalizar_caracteristica"
      ],
      "execution_count": 37,
      "outputs": []
    },
    {
      "cell_type": "code",
      "metadata": {
        "id": "eIZEEfOeKDLK"
      },
      "source": [
        "X_norm, mean_X, std_X = normalizar_caracteristica(X)"
      ],
      "execution_count": 38,
      "outputs": []
    },
    {
      "cell_type": "markdown",
      "metadata": {
        "id": "c7z6EIy_M8pm"
      },
      "source": [
        "Conferência dos dados normalizados. A função realizada a normalização usando Z-Score, gerando valores em uma escala similar."
      ]
    },
    {
      "cell_type": "code",
      "metadata": {
        "colab": {
          "base_uri": "https://localhost:8080/"
        },
        "id": "W1txDhiEKQGK",
        "outputId": "47ccd32a-4e3a-41b5-e998-875e68b69d29"
      },
      "source": [
        "X_norm[:5]"
      ],
      "execution_count": 39,
      "outputs": [
        {
          "output_type": "execute_result",
          "data": {
            "text/plain": [
              "array([[ 1.        ,  0.13141542, -0.22609337],\n",
              "       [ 1.        , -0.5096407 , -0.22609337],\n",
              "       [ 1.        ,  0.5079087 , -0.22609337],\n",
              "       [ 1.        , -0.74367706, -1.5543919 ],\n",
              "       [ 1.        ,  1.27107075,  1.10220517]])"
            ]
          },
          "metadata": {
            "tags": []
          },
          "execution_count": 39
        }
      ]
    },
    {
      "cell_type": "markdown",
      "metadata": {
        "id": "9B8w_gVENBO7"
      },
      "source": [
        "**ANÁLISE DO RESULTADO DA ETAPA:**\n",
        "Como a normalização é feita como uma operação vetorizada e com uso de estruturas de dados e funções das bibliotecas pandas e numpy que permitem a entrada de dados tanto de valores individuais quanto de matrizes completas sem necessidade de declaração explícita das características que serão analisadas, além de otimizar o desempenho do cálculo em comparação com operações tradicionais de loop, em função da operação conhecida como *broadcasting* que percorre todos os exemplos (linhas) de cada característica percorrida. Portanto, a função ```normalizar_característica``` consegue funcionar corretamente independentemente do número de características ou exemplos do conjunto de dados recebido como parâmetro."
      ]
    },
    {
      "cell_type": "markdown",
      "metadata": {
        "id": "_QoUB1dlVbm4"
      },
      "source": [
        "Guardando valores da média e desvio padrão utilizados, para uso posterior.\n",
        "\n",
        "Para armazenamento destas medidas estatísticas, alterei a função ```normalizar_caracteristica``` do código ```normalizacao.py```, apenas acrescentado no retorno as variáveis equivalentes a estas medidas que já eram calculadas na função devido à sua necessidade para o cálculo dos valores normalizados das características do conjunto de dados em análise.\n",
        "\n",
        "Na linha abaixo são aprsentados os valores da média e desvio padrão, respectivamente, para cada característica."
      ]
    },
    {
      "cell_type": "code",
      "metadata": {
        "colab": {
          "base_uri": "https://localhost:8080/"
        },
        "id": "yBnMxmkHVcHE",
        "outputId": "5ec15e27-9e56-4cc2-94b1-913aa91e1a89"
      },
      "source": [
        "print(f'Média: {mean_X}\\nDesvio padrão: {std_X}')"
      ],
      "execution_count": 40,
      "outputs": [
        {
          "output_type": "stream",
          "text": [
            "Média: [2000.68085106    3.17021277]\n",
            "Desvio padrão: [7.86202619e+02 7.52842809e-01]\n"
          ],
          "name": "stdout"
        }
      ]
    },
    {
      "cell_type": "markdown",
      "metadata": {
        "id": "7uDG_oQWf0ie"
      },
      "source": [
        "##2.2 Gradiente descendente"
      ]
    },
    {
      "cell_type": "markdown",
      "metadata": {
        "id": "qrfswatAgDFa"
      },
      "source": [
        "Implementação da função de custos e do gradiente descendente para regressão linear com múltiplas variáveis"
      ]
    },
    {
      "cell_type": "code",
      "metadata": {
        "id": "AfyJklSasQXN"
      },
      "source": [
        "from gd_reglin_multi import gd"
      ],
      "execution_count": 41,
      "outputs": []
    },
    {
      "cell_type": "code",
      "metadata": {
        "colab": {
          "base_uri": "https://localhost:8080/"
        },
        "id": "jIDaxL3jgate",
        "outputId": "3d8ba0ed-a36a-4200-879a-fcc92db784ad"
      },
      "source": [
        "theta = np.array([0,0,0], ndmin=2).T\n",
        "theta"
      ],
      "execution_count": 42,
      "outputs": [
        {
          "output_type": "execute_result",
          "data": {
            "text/plain": [
              "array([[0],\n",
              "       [0],\n",
              "       [0]])"
            ]
          },
          "metadata": {
            "tags": []
          },
          "execution_count": 42
        }
      ]
    },
    {
      "cell_type": "code",
      "metadata": {
        "id": "db4njlw5sdQx"
      },
      "source": [
        "alpha = 0.01\n",
        "epochs = 500"
      ],
      "execution_count": 43,
      "outputs": []
    },
    {
      "cell_type": "code",
      "metadata": {
        "id": "2JHhcOVJksPC"
      },
      "source": [
        "history, theta = gd(X_norm, y, alpha, epochs, theta)"
      ],
      "execution_count": 44,
      "outputs": []
    },
    {
      "cell_type": "code",
      "metadata": {
        "colab": {
          "base_uri": "https://localhost:8080/"
        },
        "id": "4lX66agvqe21",
        "outputId": "0778d877-7ad7-4e26-bb74-6106241a0c89"
      },
      "source": [
        "print(f'Custo: {history[-1]}\\nTheta:\\n{theta}')"
      ],
      "execution_count": 45,
      "outputs": [
        {
          "output_type": "stream",
          "text": [
            "Custo: 2063782403.6748846\n",
            "Theta:\n",
            "[[ 3.38175984e+05]\n",
            " [ 1.03032124e+05]\n",
            " [-2.02325233e+02]]\n"
          ],
          "name": "stdout"
        }
      ]
    },
    {
      "cell_type": "markdown",
      "metadata": {
        "id": "sw5hAmRgtSX-"
      },
      "source": [
        "Com a execução do gradiente descendente considerando taxa de aprendizado de $\\alpha=0.01$, 500 épocas e $\\theta$ iniciando em (0,0,0), encontramos os valores ótimos de $\\theta$ e custo apresentados na última célula.\n",
        "\n",
        "---\n",
        "\n",
        "A visualização abaixo apresenta a curva de aprendizado ao longo das iterações do gradiente descedente."
      ]
    },
    {
      "cell_type": "code",
      "metadata": {
        "colab": {
          "base_uri": "https://localhost:8080/",
          "height": 0
        },
        "id": "8VQOyAtXtLFw",
        "outputId": "6beab80b-a62f-48c5-b093-ecebfe173273"
      },
      "source": [
        "plt.figure(figsize=(10,6))\n",
        "plt.plot(history)\n",
        "plt.savefig('target/plot2.2.png')"
      ],
      "execution_count": 46,
      "outputs": [
        {
          "output_type": "display_data",
          "data": {
            "image/png": "[encoded data removed]",
            "text/plain": [
              "<Figure size 720x432 with 1 Axes>"
            ]
          },
          "metadata": {
            "tags": [],
            "needs_background": "light"
          }
        }
      ]
    },
    {
      "cell_type": "markdown",
      "metadata": {
        "id": "xx4bupTnrj49"
      },
      "source": [
        "#3 Regressão Logística"
      ]
    },
    {
      "cell_type": "markdown",
      "metadata": {
        "id": "qnAMu2H0sPSc"
      },
      "source": [
        "##Análise preliminar dos dados"
      ]
    },
    {
      "cell_type": "code",
      "metadata": {
        "colab": {
          "base_uri": "https://localhost:8080/",
          "height": 0
        },
        "id": "1Jbc_c58sSqO",
        "outputId": "5e49bf54-874d-46b1-c5ec-cfcad6f6dd85"
      },
      "source": [
        "#Carga dos dados usando as bibliotecas pandas e numpy\n",
        "arquivo = 'data/ex2data1.txt'\n",
        "dados = pd.read_table(arquivo,\n",
        "                      sep=',',\n",
        "                      header=None,\n",
        "                      names=['Prova 1', 'Prova 2', 'Aprovado'])\n",
        "\n",
        "dados.head()"
      ],
      "execution_count": 47,
      "outputs": [
        {
          "output_type": "execute_result",
          "data": {
            "text/html": [
              "<div>\n",
              "<style scoped>\n",
              "    .dataframe tbody tr th:only-of-type {\n",
              "        vertical-align: middle;\n",
              "    }\n",
              "\n",
              "    .dataframe tbody tr th {\n",
              "        vertical-align: top;\n",
              "    }\n",
              "\n",
              "    .dataframe thead th {\n",
              "        text-align: right;\n",
              "    }\n",
              "</style>\n",
              "<table border=\"1\" class=\"dataframe\">\n",
              "  <thead>\n",
              "    <tr style=\"text-align: right;\">\n",
              "      <th></th>\n",
              "      <th>Prova 1</th>\n",
              "      <th>Prova 2</th>\n",
              "      <th>Aprovado</th>\n",
              "    </tr>\n",
              "  </thead>\n",
              "  <tbody>\n",
              "    <tr>\n",
              "      <th>0</th>\n",
              "      <td>34.623660</td>\n",
              "      <td>78.024693</td>\n",
              "      <td>0</td>\n",
              "    </tr>\n",
              "    <tr>\n",
              "      <th>1</th>\n",
              "      <td>30.286711</td>\n",
              "      <td>43.894998</td>\n",
              "      <td>0</td>\n",
              "    </tr>\n",
              "    <tr>\n",
              "      <th>2</th>\n",
              "      <td>35.847409</td>\n",
              "      <td>72.902198</td>\n",
              "      <td>0</td>\n",
              "    </tr>\n",
              "    <tr>\n",
              "      <th>3</th>\n",
              "      <td>60.182599</td>\n",
              "      <td>86.308552</td>\n",
              "      <td>1</td>\n",
              "    </tr>\n",
              "    <tr>\n",
              "      <th>4</th>\n",
              "      <td>79.032736</td>\n",
              "      <td>75.344376</td>\n",
              "      <td>1</td>\n",
              "    </tr>\n",
              "  </tbody>\n",
              "</table>\n",
              "</div>"
            ],
            "text/plain": [
              "     Prova 1    Prova 2  Aprovado\n",
              "0  34.623660  78.024693         0\n",
              "1  30.286711  43.894998         0\n",
              "2  35.847409  72.902198         0\n",
              "3  60.182599  86.308552         1\n",
              "4  79.032736  75.344376         1"
            ]
          },
          "metadata": {
            "tags": []
          },
          "execution_count": 47
        }
      ]
    },
    {
      "cell_type": "code",
      "metadata": {
        "colab": {
          "base_uri": "https://localhost:8080/",
          "height": 0
        },
        "id": "eRAYElQWstVC",
        "outputId": "a74a4fdd-6204-401d-da3a-b403d8473f85"
      },
      "source": [
        "dados.describe()"
      ],
      "execution_count": 48,
      "outputs": [
        {
          "output_type": "execute_result",
          "data": {
            "text/html": [
              "<div>\n",
              "<style scoped>\n",
              "    .dataframe tbody tr th:only-of-type {\n",
              "        vertical-align: middle;\n",
              "    }\n",
              "\n",
              "    .dataframe tbody tr th {\n",
              "        vertical-align: top;\n",
              "    }\n",
              "\n",
              "    .dataframe thead th {\n",
              "        text-align: right;\n",
              "    }\n",
              "</style>\n",
              "<table border=\"1\" class=\"dataframe\">\n",
              "  <thead>\n",
              "    <tr style=\"text-align: right;\">\n",
              "      <th></th>\n",
              "      <th>Prova 1</th>\n",
              "      <th>Prova 2</th>\n",
              "      <th>Aprovado</th>\n",
              "    </tr>\n",
              "  </thead>\n",
              "  <tbody>\n",
              "    <tr>\n",
              "      <th>count</th>\n",
              "      <td>100.000000</td>\n",
              "      <td>100.000000</td>\n",
              "      <td>100.000000</td>\n",
              "    </tr>\n",
              "    <tr>\n",
              "      <th>mean</th>\n",
              "      <td>65.644274</td>\n",
              "      <td>66.221998</td>\n",
              "      <td>0.600000</td>\n",
              "    </tr>\n",
              "    <tr>\n",
              "      <th>std</th>\n",
              "      <td>19.458222</td>\n",
              "      <td>18.582783</td>\n",
              "      <td>0.492366</td>\n",
              "    </tr>\n",
              "    <tr>\n",
              "      <th>min</th>\n",
              "      <td>30.058822</td>\n",
              "      <td>30.603263</td>\n",
              "      <td>0.000000</td>\n",
              "    </tr>\n",
              "    <tr>\n",
              "      <th>25%</th>\n",
              "      <td>50.919511</td>\n",
              "      <td>48.179205</td>\n",
              "      <td>0.000000</td>\n",
              "    </tr>\n",
              "    <tr>\n",
              "      <th>50%</th>\n",
              "      <td>67.032988</td>\n",
              "      <td>67.682381</td>\n",
              "      <td>1.000000</td>\n",
              "    </tr>\n",
              "    <tr>\n",
              "      <th>75%</th>\n",
              "      <td>80.212529</td>\n",
              "      <td>79.360605</td>\n",
              "      <td>1.000000</td>\n",
              "    </tr>\n",
              "    <tr>\n",
              "      <th>max</th>\n",
              "      <td>99.827858</td>\n",
              "      <td>98.869436</td>\n",
              "      <td>1.000000</td>\n",
              "    </tr>\n",
              "  </tbody>\n",
              "</table>\n",
              "</div>"
            ],
            "text/plain": [
              "          Prova 1     Prova 2    Aprovado\n",
              "count  100.000000  100.000000  100.000000\n",
              "mean    65.644274   66.221998    0.600000\n",
              "std     19.458222   18.582783    0.492366\n",
              "min     30.058822   30.603263    0.000000\n",
              "25%     50.919511   48.179205    0.000000\n",
              "50%     67.032988   67.682381    1.000000\n",
              "75%     80.212529   79.360605    1.000000\n",
              "max     99.827858   98.869436    1.000000"
            ]
          },
          "metadata": {
            "tags": []
          },
          "execution_count": 48
        }
      ]
    },
    {
      "cell_type": "code",
      "metadata": {
        "colab": {
          "base_uri": "https://localhost:8080/"
        },
        "id": "w7kMxbd5tDJV",
        "outputId": "503784ae-a987-4af6-eb1f-1efd844c2b4b"
      },
      "source": [
        "dados.info()"
      ],
      "execution_count": 49,
      "outputs": [
        {
          "output_type": "stream",
          "text": [
            "<class 'pandas.core.frame.DataFrame'>\n",
            "RangeIndex: 100 entries, 0 to 99\n",
            "Data columns (total 3 columns):\n",
            " #   Column    Non-Null Count  Dtype  \n",
            "---  ------    --------------  -----  \n",
            " 0   Prova 1   100 non-null    float64\n",
            " 1   Prova 2   100 non-null    float64\n",
            " 2   Aprovado  100 non-null    int64  \n",
            "dtypes: float64(2), int64(1)\n",
            "memory usage: 2.5 KB\n"
          ],
          "name": "stdout"
        }
      ]
    },
    {
      "cell_type": "markdown",
      "metadata": {
        "id": "BgC90PsbrqRR"
      },
      "source": [
        "##3.1 Visualização dos dados"
      ]
    },
    {
      "cell_type": "code",
      "metadata": {
        "id": "7_kna_7Xq62k"
      },
      "source": [
        "import plot_ex2data1"
      ],
      "execution_count": 50,
      "outputs": []
    },
    {
      "cell_type": "markdown",
      "metadata": {
        "id": "eo9s-BWA9jO-"
      },
      "source": [
        "A visualização a seguir apresenta a dispersão dos resultados de aprovação ou reprovação em função das notas das provas 1 e 2."
      ]
    },
    {
      "cell_type": "code",
      "metadata": {
        "colab": {
          "base_uri": "https://localhost:8080/",
          "height": 0
        },
        "id": "Q-YHXZ86rG4h",
        "outputId": "79ca3605-d224-43e8-dd6c-d6b4f8842cd7"
      },
      "source": [
        "plot_ex2data1.plot(dados)\n",
        "plt.savefig('target/plot3.1.png')"
      ],
      "execution_count": 51,
      "outputs": [
        {
          "output_type": "display_data",
          "data": {
            "image/png": "[encoded data removed]",
            "text/plain": [
              "<Figure size 864x576 with 1 Axes>"
            ]
          },
          "metadata": {
            "tags": [],
            "needs_background": "light"
          }
        },
        {
          "output_type": "display_data",
          "data": {
            "text/plain": [
              "<Figure size 432x288 with 0 Axes>"
            ]
          },
          "metadata": {
            "tags": []
          }
        }
      ]
    },
    {
      "cell_type": "markdown",
      "metadata": {
        "id": "JjUdAPcN94Tb"
      },
      "source": [
        "##3.2 Implementação"
      ]
    },
    {
      "cell_type": "markdown",
      "metadata": {
        "id": "g3O2odFr-D5x"
      },
      "source": [
        "###3.2.1 Função Sigmoide"
      ]
    },
    {
      "cell_type": "code",
      "metadata": {
        "id": "JTA_vR0K-B-R"
      },
      "source": [
        "from sigmoide import sigmoide"
      ],
      "execution_count": 52,
      "outputs": []
    },
    {
      "cell_type": "code",
      "metadata": {
        "colab": {
          "base_uri": "https://localhost:8080/"
        },
        "id": "U6TuooBW-NWF",
        "outputId": "ffa3ce74-d00d-4d79-c918-b236bba40b8e"
      },
      "source": [
        "sigmoide(0)"
      ],
      "execution_count": 53,
      "outputs": [
        {
          "output_type": "execute_result",
          "data": {
            "text/plain": [
              "0.5"
            ]
          },
          "metadata": {
            "tags": []
          },
          "execution_count": 53
        }
      ]
    },
    {
      "cell_type": "markdown",
      "metadata": {
        "id": "nG7lrGrI-c3_"
      },
      "source": [
        "Para teste da função ```sigmoide``` implementada, esta foi executada com parâmetro ```z=0```. O resultado esperado como retorno para este caso é um valor de 0.5."
      ]
    },
    {
      "cell_type": "markdown",
      "metadata": {
        "id": "B23KrMeW--TC"
      },
      "source": [
        "###3.2.2 Função de custo e gradiente descendente"
      ]
    },
    {
      "cell_type": "markdown",
      "metadata": {
        "id": "KFzvSbC2iopi"
      },
      "source": [
        "Uso da função ```importarDados``` para carregar as estruturas de dados necessárias para computação das funções de custo e do gradiente descendente."
      ]
    },
    {
      "cell_type": "code",
      "metadata": {
        "id": "JRxLl8MD_CZt"
      },
      "source": [
        "from custo_reglog import custo_reglog"
      ],
      "execution_count": 54,
      "outputs": []
    },
    {
      "cell_type": "code",
      "metadata": {
        "id": "eiEd7NYGYIYC"
      },
      "source": [
        "dados, X, y = plot_ex2data1.importarDados(insertOnes=False)"
      ],
      "execution_count": 55,
      "outputs": []
    },
    {
      "cell_type": "code",
      "metadata": {
        "colab": {
          "base_uri": "https://localhost:8080/"
        },
        "id": "L_z-U_3HY6dt",
        "outputId": "09488c56-2001-4a6c-86e9-18867b21c6ed"
      },
      "source": [
        "X.shape"
      ],
      "execution_count": 56,
      "outputs": [
        {
          "output_type": "execute_result",
          "data": {
            "text/plain": [
              "(100, 2)"
            ]
          },
          "metadata": {
            "tags": []
          },
          "execution_count": 56
        }
      ]
    },
    {
      "cell_type": "code",
      "metadata": {
        "id": "APvapCwzYN1J"
      },
      "source": [
        "examData_norm, mean_examData, std_examData = normalizar_caracteristica(X)"
      ],
      "execution_count": 57,
      "outputs": []
    },
    {
      "cell_type": "code",
      "metadata": {
        "colab": {
          "base_uri": "https://localhost:8080/"
        },
        "id": "OJi5HxWrY_Zi",
        "outputId": "c13626f5-eae9-4243-bde5-74e623afedc8"
      },
      "source": [
        "examData_norm.shape"
      ],
      "execution_count": 58,
      "outputs": [
        {
          "output_type": "execute_result",
          "data": {
            "text/plain": [
              "(100, 3)"
            ]
          },
          "metadata": {
            "tags": []
          },
          "execution_count": 58
        }
      ]
    },
    {
      "cell_type": "code",
      "metadata": {
        "colab": {
          "base_uri": "https://localhost:8080/"
        },
        "id": "KG7-EfbZZDsl",
        "outputId": "b08916d9-c091-4405-cbc7-3dd85704cdf9"
      },
      "source": [
        "y.shape"
      ],
      "execution_count": 59,
      "outputs": [
        {
          "output_type": "execute_result",
          "data": {
            "text/plain": [
              "(100, 1)"
            ]
          },
          "metadata": {
            "tags": []
          },
          "execution_count": 59
        }
      ]
    },
    {
      "cell_type": "markdown",
      "metadata": {
        "id": "8ZcNbXzruj5F"
      },
      "source": [
        "Inicialização dos valores de $\\theta$ como zero, para submissão à função de custos."
      ]
    },
    {
      "cell_type": "code",
      "metadata": {
        "colab": {
          "base_uri": "https://localhost:8080/"
        },
        "id": "SsrHSsCbbREY",
        "outputId": "f38c0ab4-15a1-4a95-a36c-db30360208b1"
      },
      "source": [
        "theta = np.array([0,0,0], ndmin=2)\n",
        "theta"
      ],
      "execution_count": 60,
      "outputs": [
        {
          "output_type": "execute_result",
          "data": {
            "text/plain": [
              "array([[0, 0, 0]])"
            ]
          },
          "metadata": {
            "tags": []
          },
          "execution_count": 60
        }
      ]
    },
    {
      "cell_type": "code",
      "metadata": {
        "colab": {
          "base_uri": "https://localhost:8080/"
        },
        "id": "p4mW-vVRbWn6",
        "outputId": "64a40d8b-ca3e-4d95-8587-d41692ad62f9"
      },
      "source": [
        "theta.shape"
      ],
      "execution_count": 61,
      "outputs": [
        {
          "output_type": "execute_result",
          "data": {
            "text/plain": [
              "(1, 3)"
            ]
          },
          "metadata": {
            "tags": []
          },
          "execution_count": 61
        }
      ]
    },
    {
      "cell_type": "code",
      "metadata": {
        "id": "swTmAUYodDCX"
      },
      "source": [
        "X = np.c_[np.ones((X.shape[0], 1)), X]"
      ],
      "execution_count": 62,
      "outputs": []
    },
    {
      "cell_type": "code",
      "metadata": {
        "colab": {
          "base_uri": "https://localhost:8080/"
        },
        "id": "QsJHT2CVikVv",
        "outputId": "f5585c7f-95d6-45fe-c702-123d981c94fc"
      },
      "source": [
        "J = custo_reglog(theta, X, y)\n",
        "J"
      ],
      "execution_count": 63,
      "outputs": [
        {
          "output_type": "execute_result",
          "data": {
            "text/plain": [
              "0.6931471805599453"
            ]
          },
          "metadata": {
            "tags": []
          },
          "execution_count": 63
        }
      ]
    },
    {
      "cell_type": "markdown",
      "metadata": {
        "id": "Gr3twslPi3Sp"
      },
      "source": [
        "Ao executar a função de custo com os valores de $\\theta$ zerados, tando com os valores originais quanto com os valores normalizados, obtemos o custo de 0.693, o que corresponde ao valor esperado para o teste da função."
      ]
    },
    {
      "cell_type": "markdown",
      "metadata": {
        "id": "QFz2zkbCjhAw"
      },
      "source": [
        "**Comentários sobre a normalização dos conjunto de dados**\n",
        "* O código proposto no exercício, ***seção 3.2.2 - Listagem 2***, indica a normalização dos atributos, por isso na etapa anterior realizamos os testes tanto com os dados originais quanto com estes normalizados.\n",
        "* Contudo, a listagem dos dados originais (reproduzida a seguir) indica que os atributos estão em uma ordem de grandeza similar. Portanto, será averiguada na continuidade da análise se há necessidade de normalização ou não, mas a princípio esta normalização aparenta ser desnecessária para este conjunto de dados.\n",
        "* Apesar destas considerações, a normalização para garantir que as características tenham escalas similares é importante para que o gradiente descedente não demore muito para convergir para o mínimo global da função em modelos que não tenham um único mínimo da função de custo."
      ]
    },
    {
      "cell_type": "code",
      "metadata": {
        "colab": {
          "base_uri": "https://localhost:8080/",
          "height": 0
        },
        "id": "y_GCGQI_ja-U",
        "outputId": "7d7e5fc0-bd4f-4026-b478-d50ad9534afc"
      },
      "source": [
        "dados.describe()"
      ],
      "execution_count": 64,
      "outputs": [
        {
          "output_type": "execute_result",
          "data": {
            "text/html": [
              "<div>\n",
              "<style scoped>\n",
              "    .dataframe tbody tr th:only-of-type {\n",
              "        vertical-align: middle;\n",
              "    }\n",
              "\n",
              "    .dataframe tbody tr th {\n",
              "        vertical-align: top;\n",
              "    }\n",
              "\n",
              "    .dataframe thead th {\n",
              "        text-align: right;\n",
              "    }\n",
              "</style>\n",
              "<table border=\"1\" class=\"dataframe\">\n",
              "  <thead>\n",
              "    <tr style=\"text-align: right;\">\n",
              "      <th></th>\n",
              "      <th>Prova 1</th>\n",
              "      <th>Prova 2</th>\n",
              "      <th>Aprovado</th>\n",
              "    </tr>\n",
              "  </thead>\n",
              "  <tbody>\n",
              "    <tr>\n",
              "      <th>count</th>\n",
              "      <td>100.000000</td>\n",
              "      <td>100.000000</td>\n",
              "      <td>100.000000</td>\n",
              "    </tr>\n",
              "    <tr>\n",
              "      <th>mean</th>\n",
              "      <td>65.644274</td>\n",
              "      <td>66.221998</td>\n",
              "      <td>0.600000</td>\n",
              "    </tr>\n",
              "    <tr>\n",
              "      <th>std</th>\n",
              "      <td>19.458222</td>\n",
              "      <td>18.582783</td>\n",
              "      <td>0.492366</td>\n",
              "    </tr>\n",
              "    <tr>\n",
              "      <th>min</th>\n",
              "      <td>30.058822</td>\n",
              "      <td>30.603263</td>\n",
              "      <td>0.000000</td>\n",
              "    </tr>\n",
              "    <tr>\n",
              "      <th>25%</th>\n",
              "      <td>50.919511</td>\n",
              "      <td>48.179205</td>\n",
              "      <td>0.000000</td>\n",
              "    </tr>\n",
              "    <tr>\n",
              "      <th>50%</th>\n",
              "      <td>67.032988</td>\n",
              "      <td>67.682381</td>\n",
              "      <td>1.000000</td>\n",
              "    </tr>\n",
              "    <tr>\n",
              "      <th>75%</th>\n",
              "      <td>80.212529</td>\n",
              "      <td>79.360605</td>\n",
              "      <td>1.000000</td>\n",
              "    </tr>\n",
              "    <tr>\n",
              "      <th>max</th>\n",
              "      <td>99.827858</td>\n",
              "      <td>98.869436</td>\n",
              "      <td>1.000000</td>\n",
              "    </tr>\n",
              "  </tbody>\n",
              "</table>\n",
              "</div>"
            ],
            "text/plain": [
              "          Prova 1     Prova 2    Aprovado\n",
              "count  100.000000  100.000000  100.000000\n",
              "mean    65.644274   66.221998    0.600000\n",
              "std     19.458222   18.582783    0.492366\n",
              "min     30.058822   30.603263    0.000000\n",
              "25%     50.919511   48.179205    0.000000\n",
              "50%     67.032988   67.682381    1.000000\n",
              "75%     80.212529   79.360605    1.000000\n",
              "max     99.827858   98.869436    1.000000"
            ]
          },
          "metadata": {
            "tags": []
          },
          "execution_count": 64
        }
      ]
    },
    {
      "cell_type": "markdown",
      "metadata": {
        "id": "ljkRpLHBk4mc"
      },
      "source": [
        "###3.2.3 Aprendizado dos parâmetros"
      ]
    },
    {
      "cell_type": "markdown",
      "metadata": {
        "id": "19iVUvDJxkae"
      },
      "source": [
        "Neste ponto usamos a função ```fmin_tnc``` da biblioteca ```scipy.optimize``` e a implmentação do gradiente descendente para encontrar o vetor de $\\theta$ que minimiza a função de custo."
      ]
    },
    {
      "cell_type": "code",
      "metadata": {
        "id": "8sn1oidNYhge"
      },
      "source": [
        "import scipy.optimize as opt"
      ],
      "execution_count": 65,
      "outputs": []
    },
    {
      "cell_type": "code",
      "metadata": {
        "id": "lb1UlbZBYquV"
      },
      "source": [
        "from custo_reglog import custo_reglog"
      ],
      "execution_count": 66,
      "outputs": []
    },
    {
      "cell_type": "code",
      "metadata": {
        "id": "L2rrIMRD5vBt"
      },
      "source": [
        "#from gd_reglog import gd_reglog\n",
        "def gd_reglog(theta, X, y):\n",
        "    theta = np.matrix(theta)\n",
        "    X = np.matrix(X)\n",
        "    y = np.matrix(y)\n",
        "\n",
        "    parametros = int(theta.ravel().shape[1])\n",
        "    grad = np.zeros(parametros)\n",
        "\n",
        "    erro = sigmoide(X * theta.T) - y\n",
        "\n",
        "    for i in range(parametros):\n",
        "        term = np.multiply(erro, X[:,i])\n",
        "        grad[i] = np.sum(term) / len(X)\n",
        "\n",
        "    return grad"
      ],
      "execution_count": 67,
      "outputs": []
    },
    {
      "cell_type": "code",
      "metadata": {
        "id": "LxazJxfjcC-Z"
      },
      "source": [
        "result = opt.fmin_tnc(func=custo_reglog, x0=theta, fprime=gd_reglog, args=(examData_norm, y))\n",
        "theta_ = result[0]\n",
        "J = custo_reglog(theta_, examData_norm, y)"
      ],
      "execution_count": 68,
      "outputs": []
    },
    {
      "cell_type": "code",
      "metadata": {
        "colab": {
          "base_uri": "https://localhost:8080/"
        },
        "id": "tLqgRZkRdHoG",
        "outputId": "81f68bec-0c14-4d16-d301-6c861f796f9d"
      },
      "source": [
        "theta_"
      ],
      "execution_count": 69,
      "outputs": [
        {
          "output_type": "execute_result",
          "data": {
            "text/plain": [
              "array([1.71787865, 3.99150585, 3.72363973])"
            ]
          },
          "metadata": {
            "tags": []
          },
          "execution_count": 69
        }
      ]
    },
    {
      "cell_type": "code",
      "metadata": {
        "colab": {
          "base_uri": "https://localhost:8080/"
        },
        "id": "JpydW48RwmsR",
        "outputId": "3592141b-91d2-4198-bb0b-20539c1e9d5e"
      },
      "source": [
        "print('Custo = ', J)"
      ],
      "execution_count": 70,
      "outputs": [
        {
          "output_type": "stream",
          "text": [
            "Custo =  0.20349771564631666\n"
          ],
          "name": "stdout"
        }
      ]
    },
    {
      "cell_type": "markdown",
      "metadata": {
        "id": "HqN6iMTDme6T"
      },
      "source": [
        "Com a aplicação do gradiente descendente encontramos (1.718, 3.992, 3.724) com vetor de valores ótimos de $\\theta$.\n",
        "\n",
        "---\n",
        "\n",
        "Usamos este vetor para calcular a função de custo e encontramos um valor de 0.203, conforme código a seguir."
      ]
    },
    {
      "cell_type": "markdown",
      "metadata": {
        "id": "6al1vgxmma7d"
      },
      "source": [
        "###3.2.4 Avaliação do modelo"
      ]
    },
    {
      "cell_type": "markdown",
      "metadata": {
        "id": "5o63pjTnw3Xw"
      },
      "source": [
        "As funções a seguir realizam a predição e a probabilidade desta predição usando os parâmetros (vetor *theta*) calculados na etapa anterior."
      ]
    },
    {
      "cell_type": "markdown",
      "metadata": {
        "id": "AUxBEHRIqKWY"
      },
      "source": [
        "Aplicando os valores de $\\theta$ para prever a aprovação de uma luno com notas 45 e 85 para provas 1 e 2, respectivamente, encontramos o seguinte resultado:\n",
        "* Previsão: Aprovação;\n",
        "* Probabilidade: 0,78."
      ]
    },
    {
      "cell_type": "code",
      "metadata": {
        "colab": {
          "base_uri": "https://localhost:8080/"
        },
        "id": "pTEQeXI9zKdc",
        "outputId": "0bfd5768-8bef-44ef-ee9c-935b01ebb248"
      },
      "source": [
        "new_x = np.array([45,85]) \n",
        "\n",
        "new_x_norm = (new_x - mean_examData) / std_examData\n",
        "new_x_norm = np.insert(new_x_norm, 0, 1)\n",
        "\n",
        "theta = np.matrix(theta_)\n",
        "\n",
        "h = sigmoide(new_x_norm.dot(theta.T)) * 100\n",
        "\n",
        "print('Probabilidade de aprovação: {0:.0f}%'.format(h[0,0]))"
      ],
      "execution_count": 71,
      "outputs": [
        {
          "output_type": "stream",
          "text": [
            "Probabilidade de aprovação: 78%\n"
          ],
          "name": "stdout"
        }
      ]
    },
    {
      "cell_type": "code",
      "metadata": {
        "id": "_W9PmvUmaHx4"
      },
      "source": [
        "\n",
        "#from predizer_aprovacao import predizer, acuracia\n",
        "\"\"\"\n",
        "Funções do exercício substituídas pelas versões abaixo devido necessidades de \n",
        "ajuste na forma como os dados são recebidos, tratados ou calculados.\n",
        "\"\"\"\n",
        "\n",
        "def pred_log(theta, x):\n",
        "  \"\"\"\n",
        "  Função realizada predição da classe para x de acordo com os valores de theta.\n",
        "  \"\"\"\n",
        "  y_prob = prob_log(theta,x)\n",
        "  return np.round(y_prob).astype(np.int)\n",
        "\n",
        "def prob_log(theta, x):\n",
        "  \"\"\"\n",
        "  Função calcula a probabilidade de x pertencer a classe 1\n",
        "  \"\"\"\n",
        "  return sigmoide(np.dot(x, theta))"
      ],
      "execution_count": 72,
      "outputs": []
    },
    {
      "cell_type": "markdown",
      "metadata": {
        "id": "-MRH3yKR0mt-"
      },
      "source": [
        "Aplicando os valores de $\\theta$ para prever a aprovação em relação aos dados da matriz $X$ que contém os valores origiais do conjunto de treinamento.\n",
        "* Previsão: Os valores 1 no vetor resultante equivalem à aprovação do aluno, enquanto os valores 0 equivalem à reprovação;\n",
        "* Acurácia: apresenta a percentagem de acertos."
      ]
    },
    {
      "cell_type": "code",
      "metadata": {
        "id": "paRv-_BxzzEl"
      },
      "source": [
        "def predizer(theta, X):\n",
        "    probabilidade = sigmoide(X * theta.T)\n",
        "    return [1 if x >= 0.5 else 0 for x in probabilidade]\n",
        "\n",
        "def acuracia(X, y, result):\n",
        "    theta_min = np.matrix(result[0])  \n",
        "    predicoes = predizer(theta_min, X)  \n",
        "    corretas = [1 if ((a == 1 and b == 1) or (a == 0 and b == 0)) else 0 for (a, b) in zip(predicoes, y)]  \n",
        "    return (sum(map(int, corretas)) % len(corretas))"
      ],
      "execution_count": 73,
      "outputs": []
    },
    {
      "cell_type": "code",
      "metadata": {
        "colab": {
          "base_uri": "https://localhost:8080/"
        },
        "id": "ercZQwm01dff",
        "outputId": "a614371b-0fee-4623-8583-a58880a35eaf"
      },
      "source": [
        "pred_log(theta_, examData_norm)"
      ],
      "execution_count": 74,
      "outputs": [
        {
          "output_type": "execute_result",
          "data": {
            "text/plain": [
              "array([0, 0, 0, 1, 1, 0, 1, 0, 1, 1, 1, 0, 1, 1, 0, 1, 0, 0, 1, 1, 0, 1,\n",
              "       0, 0, 1, 1, 1, 1, 0, 0, 1, 1, 0, 0, 0, 0, 1, 1, 0, 0, 1, 0, 1, 1,\n",
              "       0, 0, 1, 1, 1, 1, 1, 1, 1, 0, 0, 0, 1, 1, 1, 1, 1, 0, 0, 0, 0, 0,\n",
              "       1, 0, 1, 1, 0, 1, 1, 1, 1, 1, 1, 1, 0, 1, 1, 1, 1, 0, 1, 1, 0, 1,\n",
              "       1, 0, 1, 1, 0, 1, 1, 1, 1, 1, 0, 1])"
            ]
          },
          "metadata": {
            "tags": []
          },
          "execution_count": 74
        }
      ]
    },
    {
      "cell_type": "code",
      "metadata": {
        "colab": {
          "base_uri": "https://localhost:8080/"
        },
        "id": "7stWnWtt3W1s",
        "outputId": "a901d1b1-fcd5-433d-969c-6581c3eb14ae"
      },
      "source": [
        "acc = acuracia(examData_norm, y, result)\n",
        "\n",
        "print('Acurácia sobre o conjunto de treinamento: {0:.0f}%.'.format(acc))"
      ],
      "execution_count": 75,
      "outputs": [
        {
          "output_type": "stream",
          "text": [
            "Acurácia sobre o conjunto de treinamento: 89%.\n"
          ],
          "name": "stdout"
        }
      ]
    },
    {
      "cell_type": "markdown",
      "metadata": {
        "id": "1PEMHr_zh02n"
      },
      "source": [
        "#4 Regressão Logística com Regularização"
      ]
    },
    {
      "cell_type": "markdown",
      "metadata": {
        "id": "5ITbQ25XqwmG"
      },
      "source": [
        "##Análise preliminar dos dados"
      ]
    },
    {
      "cell_type": "code",
      "metadata": {
        "id": "l0CdeZC-8yT3"
      },
      "source": [
        "data = pd.read_csv('data/ex2data2.txt',\n",
        "                   header = None,\n",
        "                   names = ['Teste 1', 'Teste 2', 'Status'])"
      ],
      "execution_count": 76,
      "outputs": []
    },
    {
      "cell_type": "code",
      "metadata": {
        "colab": {
          "base_uri": "https://localhost:8080/",
          "height": 0
        },
        "id": "6dWwjCsGqzbq",
        "outputId": "57a1edd4-2137-4dfc-c429-142783ec697b"
      },
      "source": [
        "data.head()"
      ],
      "execution_count": 77,
      "outputs": [
        {
          "output_type": "execute_result",
          "data": {
            "text/html": [
              "<div>\n",
              "<style scoped>\n",
              "    .dataframe tbody tr th:only-of-type {\n",
              "        vertical-align: middle;\n",
              "    }\n",
              "\n",
              "    .dataframe tbody tr th {\n",
              "        vertical-align: top;\n",
              "    }\n",
              "\n",
              "    .dataframe thead th {\n",
              "        text-align: right;\n",
              "    }\n",
              "</style>\n",
              "<table border=\"1\" class=\"dataframe\">\n",
              "  <thead>\n",
              "    <tr style=\"text-align: right;\">\n",
              "      <th></th>\n",
              "      <th>Teste 1</th>\n",
              "      <th>Teste 2</th>\n",
              "      <th>Status</th>\n",
              "    </tr>\n",
              "  </thead>\n",
              "  <tbody>\n",
              "    <tr>\n",
              "      <th>0</th>\n",
              "      <td>0.051267</td>\n",
              "      <td>0.69956</td>\n",
              "      <td>1</td>\n",
              "    </tr>\n",
              "    <tr>\n",
              "      <th>1</th>\n",
              "      <td>-0.092742</td>\n",
              "      <td>0.68494</td>\n",
              "      <td>1</td>\n",
              "    </tr>\n",
              "    <tr>\n",
              "      <th>2</th>\n",
              "      <td>-0.213710</td>\n",
              "      <td>0.69225</td>\n",
              "      <td>1</td>\n",
              "    </tr>\n",
              "    <tr>\n",
              "      <th>3</th>\n",
              "      <td>-0.375000</td>\n",
              "      <td>0.50219</td>\n",
              "      <td>1</td>\n",
              "    </tr>\n",
              "    <tr>\n",
              "      <th>4</th>\n",
              "      <td>-0.513250</td>\n",
              "      <td>0.46564</td>\n",
              "      <td>1</td>\n",
              "    </tr>\n",
              "  </tbody>\n",
              "</table>\n",
              "</div>"
            ],
            "text/plain": [
              "    Teste 1  Teste 2  Status\n",
              "0  0.051267  0.69956       1\n",
              "1 -0.092742  0.68494       1\n",
              "2 -0.213710  0.69225       1\n",
              "3 -0.375000  0.50219       1\n",
              "4 -0.513250  0.46564       1"
            ]
          },
          "metadata": {
            "tags": []
          },
          "execution_count": 77
        }
      ]
    },
    {
      "cell_type": "code",
      "metadata": {
        "colab": {
          "base_uri": "https://localhost:8080/",
          "height": 0
        },
        "id": "8l85gXHvq1XV",
        "outputId": "2bf7400a-5afa-42fa-8c9d-acf04ee689a9"
      },
      "source": [
        "data.describe()"
      ],
      "execution_count": 78,
      "outputs": [
        {
          "output_type": "execute_result",
          "data": {
            "text/html": [
              "<div>\n",
              "<style scoped>\n",
              "    .dataframe tbody tr th:only-of-type {\n",
              "        vertical-align: middle;\n",
              "    }\n",
              "\n",
              "    .dataframe tbody tr th {\n",
              "        vertical-align: top;\n",
              "    }\n",
              "\n",
              "    .dataframe thead th {\n",
              "        text-align: right;\n",
              "    }\n",
              "</style>\n",
              "<table border=\"1\" class=\"dataframe\">\n",
              "  <thead>\n",
              "    <tr style=\"text-align: right;\">\n",
              "      <th></th>\n",
              "      <th>Teste 1</th>\n",
              "      <th>Teste 2</th>\n",
              "      <th>Status</th>\n",
              "    </tr>\n",
              "  </thead>\n",
              "  <tbody>\n",
              "    <tr>\n",
              "      <th>count</th>\n",
              "      <td>118.000000</td>\n",
              "      <td>118.000000</td>\n",
              "      <td>118.000000</td>\n",
              "    </tr>\n",
              "    <tr>\n",
              "      <th>mean</th>\n",
              "      <td>0.054779</td>\n",
              "      <td>0.183102</td>\n",
              "      <td>0.491525</td>\n",
              "    </tr>\n",
              "    <tr>\n",
              "      <th>std</th>\n",
              "      <td>0.496654</td>\n",
              "      <td>0.519743</td>\n",
              "      <td>0.502060</td>\n",
              "    </tr>\n",
              "    <tr>\n",
              "      <th>min</th>\n",
              "      <td>-0.830070</td>\n",
              "      <td>-0.769740</td>\n",
              "      <td>0.000000</td>\n",
              "    </tr>\n",
              "    <tr>\n",
              "      <th>25%</th>\n",
              "      <td>-0.372120</td>\n",
              "      <td>-0.254385</td>\n",
              "      <td>0.000000</td>\n",
              "    </tr>\n",
              "    <tr>\n",
              "      <th>50%</th>\n",
              "      <td>-0.006336</td>\n",
              "      <td>0.213455</td>\n",
              "      <td>0.000000</td>\n",
              "    </tr>\n",
              "    <tr>\n",
              "      <th>75%</th>\n",
              "      <td>0.478970</td>\n",
              "      <td>0.646562</td>\n",
              "      <td>1.000000</td>\n",
              "    </tr>\n",
              "    <tr>\n",
              "      <th>max</th>\n",
              "      <td>1.070900</td>\n",
              "      <td>1.108900</td>\n",
              "      <td>1.000000</td>\n",
              "    </tr>\n",
              "  </tbody>\n",
              "</table>\n",
              "</div>"
            ],
            "text/plain": [
              "          Teste 1     Teste 2      Status\n",
              "count  118.000000  118.000000  118.000000\n",
              "mean     0.054779    0.183102    0.491525\n",
              "std      0.496654    0.519743    0.502060\n",
              "min     -0.830070   -0.769740    0.000000\n",
              "25%     -0.372120   -0.254385    0.000000\n",
              "50%     -0.006336    0.213455    0.000000\n",
              "75%      0.478970    0.646562    1.000000\n",
              "max      1.070900    1.108900    1.000000"
            ]
          },
          "metadata": {
            "tags": []
          },
          "execution_count": 78
        }
      ]
    },
    {
      "cell_type": "code",
      "metadata": {
        "colab": {
          "base_uri": "https://localhost:8080/"
        },
        "id": "x1zTCWtg4BeC",
        "outputId": "f5093ddc-481f-441f-839c-3f2d68925ee9"
      },
      "source": [
        "data.Status.value_counts()"
      ],
      "execution_count": 79,
      "outputs": [
        {
          "output_type": "execute_result",
          "data": {
            "text/plain": [
              "0    60\n",
              "1    58\n",
              "Name: Status, dtype: int64"
            ]
          },
          "metadata": {
            "tags": []
          },
          "execution_count": 79
        }
      ]
    },
    {
      "cell_type": "markdown",
      "metadata": {
        "id": "gUat5qlF-Mbo"
      },
      "source": [
        "##4.1 Visualização gráfica"
      ]
    },
    {
      "cell_type": "markdown",
      "metadata": {
        "id": "UD8fW7guritU"
      },
      "source": [
        "A função criada abaixo analisa a coluna Resultado do conjunto de dados (classe $y$), e gera a dispersão de acordo com sua aceitação ou rejeição. Sendo aceito quando $y=1$ e rejeitado quando $y=0$."
      ]
    },
    {
      "cell_type": "code",
      "metadata": {
        "id": "gtctJGxr8-cc"
      },
      "source": [
        "Xplot = data.iloc[:, :2]\n",
        "yplot = data.iloc[:, 2]"
      ],
      "execution_count": 80,
      "outputs": []
    },
    {
      "cell_type": "code",
      "metadata": {
        "id": "3QvXHnYB9BO3"
      },
      "source": [
        "def plot_(X, y):\n",
        "    positive = y == 1\n",
        "    negative = y == 0\n",
        "\n",
        "    plt.figure(figsize=(10,6))\n",
        "    \n",
        "    plt.plot(X[positive, 0], X[positive, 1],\n",
        "             'b+', markeredgewidth=2, markersize=7, alpha=0.7)\n",
        "    plt.plot(X[negative, 0], X[negative, 1],\n",
        "             'ro', markerfacecolor='r', markersize=7, alpha=0.7)"
      ],
      "execution_count": 81,
      "outputs": []
    },
    {
      "cell_type": "code",
      "metadata": {
        "colab": {
          "base_uri": "https://localhost:8080/",
          "height": 0
        },
        "id": "cwdBHiqu9Gu1",
        "outputId": "7b4374a8-2d91-4bc7-b967-d97092ddf264"
      },
      "source": [
        "# Visualização dos dados  - Pontos de dados do conjunto (fig 4)\n",
        "plot_(np.array(Xplot), np.array(yplot))\n",
        "\n",
        "# Rótulos e legenda\n",
        "plt.xlabel('Microchip Test 1')\n",
        "plt.ylabel('Microchip Test 2')\n",
        "plt.legend(['y = 1: Aceito', 'y = 0: Rejeitado'])\n",
        "\n",
        "plt.savefig('target/plot4.1.png')\n",
        "\n",
        "plt.show()"
      ],
      "execution_count": 82,
      "outputs": [
        {
          "output_type": "display_data",
          "data": {
            "image/png": "[encoded data removed]",
            "text/plain": [
              "<Figure size 720x432 with 1 Axes>"
            ]
          },
          "metadata": {
            "tags": [],
            "needs_background": "light"
          }
        }
      ]
    },
    {
      "cell_type": "markdown",
      "metadata": {
        "id": "ZzWeS97or7lY"
      },
      "source": [
        "O gráfico da dispersão gerada apresentada os testes aceitos marcados em azul e os rejeitados marcados em vermelho."
      ]
    },
    {
      "cell_type": "markdown",
      "metadata": {
        "id": "DrhpS47Y-O1w"
      },
      "source": [
        "##4.2 Mapeamento de características"
      ]
    },
    {
      "cell_type": "markdown",
      "metadata": {
        "id": "VTY032ZdsLof"
      },
      "source": [
        "Nesta seção realizamos o mapeamento de características usando as características originais, notas dos Testes 1 e 2 (tratados como $x_1$ e $x_2$), para gerar novas características correspondendentes a seus termos polinomiais até o expoente de grau 6. \n",
        "\n",
        "Para este objetivo, é usada a função ```mapFeature``` que recebe os valores de $x_1$ e $x_2$, o grau polinomial e retorna um vetor com os termos polinomiais de $x_1$ e $x_2$ até o grau definido, neste caso um vetor 28 colunas, equivalentes aos termos, e 118 linhas, equivalentes à aplicação do polinômio aos valores originais da linha correspondente."
      ]
    },
    {
      "cell_type": "code",
      "metadata": {
        "colab": {
          "base_uri": "https://localhost:8080/",
          "height": 0
        },
        "id": "1qmrEowP9Man",
        "outputId": "a21a5fb4-9bbf-43ea-b524-4d285e7cf658"
      },
      "source": [
        "%run util/read_dataset.py\n",
        "\n",
        "filepath = 'data/ex2data2.txt'\n",
        "X, y = read_dataset(filepath)\n",
        "X[:5,:]"
      ],
      "execution_count": 83,
      "outputs": [
        {
          "output_type": "execute_result",
          "data": {
            "text/plain": [
              "array([[ 0.051267,  0.69956 ],\n",
              "       [-0.092742,  0.68494 ],\n",
              "       [-0.21371 ,  0.69225 ],\n",
              "       [-0.375   ,  0.50219 ],\n",
              "       [-0.51325 ,  0.46564 ]])"
            ]
          },
          "metadata": {
            "tags": []
          },
          "execution_count": 83
        },
        {
          "output_type": "display_data",
          "data": {
            "text/plain": [
              "<Figure size 432x288 with 0 Axes>"
            ]
          },
          "metadata": {
            "tags": []
          }
        }
      ]
    },
    {
      "cell_type": "code",
      "metadata": {
        "id": "TdCv9O5M-2Hz",
        "colab": {
          "base_uri": "https://localhost:8080/"
        },
        "outputId": "a4ec22cd-1c48-4d13-b61a-cec882e51a2c"
      },
      "source": [
        "%run mapFeature.py\n",
        "\n",
        "feature_1 = np.array(X[:,0])\n",
        "feature_2 = np.array(X[:,1])\n",
        "\n",
        "X = mapFeature(feature_1, feature_2)\n",
        "\n",
        "print(X.shape)"
      ],
      "execution_count": 84,
      "outputs": [
        {
          "output_type": "stream",
          "text": [
            "(118, 28)\n"
          ],
          "name": "stdout"
        }
      ]
    },
    {
      "cell_type": "markdown",
      "metadata": {
        "id": "TpkW4LvgsaSB"
      },
      "source": [
        "A listagem a seguir confere os valores do vetor gerado no mapeamento de características e as dimensões deste vetor. "
      ]
    },
    {
      "cell_type": "code",
      "metadata": {
        "colab": {
          "base_uri": "https://localhost:8080/"
        },
        "id": "F0YRmhje-6lY",
        "outputId": "243978cf-cae5-4fc7-e778-5d700a4b6a81"
      },
      "source": [
        "X"
      ],
      "execution_count": 85,
      "outputs": [
        {
          "output_type": "execute_result",
          "data": {
            "text/plain": [
              "array([[ 1.00000000e+00,  5.12670000e-02,  6.99560000e-01, ...,\n",
              "         6.29470940e-04,  8.58939846e-03,  1.17205992e-01],\n",
              "       [ 1.00000000e+00, -9.27420000e-02,  6.84940000e-01, ...,\n",
              "         1.89305413e-03, -1.39810280e-02,  1.03255971e-01],\n",
              "       [ 1.00000000e+00, -2.13710000e-01,  6.92250000e-01, ...,\n",
              "         1.04882142e-02, -3.39734512e-02,  1.10046893e-01],\n",
              "       ...,\n",
              "       [ 1.00000000e+00, -4.84450000e-01,  9.99270000e-01, ...,\n",
              "         2.34007252e-01, -4.82684337e-01,  9.95627986e-01],\n",
              "       [ 1.00000000e+00, -6.33640000e-03,  9.99270000e-01, ...,\n",
              "         4.00328554e-05, -6.31330588e-03,  9.95627986e-01],\n",
              "       [ 1.00000000e+00,  6.32650000e-01, -3.06120000e-02, ...,\n",
              "         3.51474517e-07, -1.70067777e-08,  8.22905998e-10]])"
            ]
          },
          "metadata": {
            "tags": []
          },
          "execution_count": 85
        }
      ]
    },
    {
      "cell_type": "code",
      "metadata": {
        "colab": {
          "base_uri": "https://localhost:8080/"
        },
        "id": "9-7lwNBL-9Eq",
        "outputId": "d0eaec8e-0fbb-4af4-dd6d-1758595e861b"
      },
      "source": [
        "X.shape"
      ],
      "execution_count": 86,
      "outputs": [
        {
          "output_type": "execute_result",
          "data": {
            "text/plain": [
              "(118, 28)"
            ]
          },
          "metadata": {
            "tags": []
          },
          "execution_count": 86
        }
      ]
    },
    {
      "cell_type": "markdown",
      "metadata": {
        "id": "g8f82BLg_CoF"
      },
      "source": [
        "##4.3 Função de Custo e Gradiente Descendente"
      ]
    },
    {
      "cell_type": "code",
      "metadata": {
        "id": "zAGWulLrXnBN"
      },
      "source": [
        "from sigmoide import sigmoide"
      ],
      "execution_count": 87,
      "outputs": []
    },
    {
      "cell_type": "markdown",
      "metadata": {
        "id": "3pcUVLNB-0uy"
      },
      "source": [
        "Para $\\lambda=1$"
      ]
    },
    {
      "cell_type": "code",
      "metadata": {
        "colab": {
          "base_uri": "https://localhost:8080/"
        },
        "id": "Zv2_zHgx7BI9",
        "outputId": "94d8f528-3935-4440-d917-051fd0cc7bfc"
      },
      "source": [
        "%run custo_reglog_reg.py\n",
        "\n",
        "_lambda = 1\n",
        "theta = np.zeros((X.shape[1])) #inicialização\n",
        "J = custo_reglog_reg(theta, X, y, _lambda)\n",
        "print('Custo = ', J)"
      ],
      "execution_count": 88,
      "outputs": [
        {
          "output_type": "stream",
          "text": [
            "Custo =  0.6931471805599451\n"
          ],
          "name": "stdout"
        }
      ]
    },
    {
      "cell_type": "markdown",
      "metadata": {
        "id": "opFnASj0J7mJ"
      },
      "source": [
        "Para $\\lambda=0$"
      ]
    },
    {
      "cell_type": "code",
      "metadata": {
        "colab": {
          "base_uri": "https://localhost:8080/"
        },
        "id": "IL6D5HCS8eam",
        "outputId": "c1b58926-3eed-4289-a81a-6f6949ce3ad3"
      },
      "source": [
        "%run custo_reglog_reg.py\n",
        "%run gd_reglog_reg.py\n",
        "\n",
        "_lambda = 0\n",
        "theta = np.zeros((X.shape[1])) #inicialização\n",
        "result = opt.fmin_tnc(func=custo_reglog_reg, x0=theta, fprime=gd_reglog_reg, args=(X, y, _lambda))\n",
        "theta = result[0]\n",
        "J = custo_reglog_reg(theta, X, y, _lambda)\n",
        "\n",
        "print('Vetor de parâmetros = ', theta)\n",
        "print('\\nCusto = ', J)"
      ],
      "execution_count": 89,
      "outputs": [
        {
          "output_type": "stream",
          "text": [
            "Vetor de parâmetros =  [   12.77908481    16.49992762     7.36168342  -140.0689641\n",
            "   -82.626573     -47.32272413  -134.29479797  -113.6610402\n",
            "   -56.14324677    -4.10861092   510.70466523   507.56922885\n",
            "   566.66305886   258.98915504    56.95402121   247.5193485\n",
            "   350.83103498   371.75202507   194.13604466    69.46621389\n",
            "    15.14801323  -600.92424344  -821.86040683 -1106.80924821\n",
            "  -848.64036255  -706.48745788  -292.82673998   -50.26186711]\n",
            "\n",
            "Custo =  0.25308573494688313\n"
          ],
          "name": "stdout"
        }
      ]
    },
    {
      "cell_type": "markdown",
      "metadata": {
        "id": "b0nrDjT0-sdG"
      },
      "source": [
        "Para $\\lambda=100$"
      ]
    },
    {
      "cell_type": "code",
      "metadata": {
        "colab": {
          "base_uri": "https://localhost:8080/"
        },
        "id": "l0U4nqBh-LZ4",
        "outputId": "f3106739-fa23-4fe7-8ad3-c67b1229838e"
      },
      "source": [
        "_lambda = 100\n",
        "theta = np.zeros((X.shape[1])) #inicialização\n",
        "result = opt.fmin_tnc(func=custo_reglog_reg, x0=theta, fprime=gd_reglog_reg, args=(X, y, _lambda))\n",
        "theta = result[0]\n",
        "J = custo_reglog_reg(theta, X, y, _lambda)\n",
        "\n",
        "print('Vetor de parâmetros = ', theta)\n",
        "print('\\nCusto = ', J)"
      ],
      "execution_count": 90,
      "outputs": [
        {
          "output_type": "stream",
          "text": [
            "Vetor de parâmetros =  [ 2.87015383e-04 -2.10544242e-03  1.22391072e-03 -6.79678110e-03\n",
            " -1.74408066e-03 -4.46041042e-03 -2.26497645e-03 -9.37866502e-04\n",
            " -1.13248462e-03 -2.62435498e-03 -5.46183984e-03 -3.06831194e-04\n",
            " -1.75796213e-03 -4.68279970e-04 -5.03984839e-03 -2.62545344e-03\n",
            " -5.89312935e-04 -4.48411790e-04 -7.84188445e-04 -6.48156747e-04\n",
            " -3.88185402e-03 -4.31900558e-03 -1.35539797e-04 -8.84096665e-04\n",
            " -4.96564783e-05 -9.97763028e-04 -2.09723993e-04 -5.06602296e-03]\n",
            "\n",
            "Custo =  0.6927650676796886\n"
          ],
          "name": "stdout"
        }
      ]
    },
    {
      "cell_type": "markdown",
      "metadata": {
        "id": "TiaE_cJis3Fs"
      },
      "source": [
        "Para teste da função de custos para **Regressão Logística Regularizada**, a mesma foi executada com os valores de $\\theta$ zerados e o valor de $\\lambda=1$, obtendo $J$ com valor esperado (0.693). Em seguida foram realizadas execuções também com com $\\lambda=0$ e $\\lambda=100$.\n",
        "\n",
        "---\n",
        "A seguir aplicamos a função de custos para obtenção dos valores otimizados de $\\theta$."
      ]
    },
    {
      "cell_type": "code",
      "metadata": {
        "colab": {
          "base_uri": "https://localhost:8080/"
        },
        "id": "iMPLsCAZ-T2v",
        "outputId": "01d58e01-ce7f-4209-85a9-652c3b14c172"
      },
      "source": [
        "_lambda = 1\n",
        "theta = np.zeros((X.shape[1])) #inicialização\n",
        "result = opt.fmin_tnc(func=custo_reglog_reg, x0=theta, fprime=gd_reglog_reg, args=(X, y, _lambda))\n",
        "theta = result[0]\n",
        "J = custo_reglog_reg(theta, X, y, _lambda)\n",
        "\n",
        "print('Vetor de parâmetros = ', theta)\n",
        "print('\\nCusto = ', J)"
      ],
      "execution_count": 91,
      "outputs": [
        {
          "output_type": "stream",
          "text": [
            "Vetor de parâmetros =  [ 0.51126521  0.28141979  0.56732707 -0.89264983 -0.33269562 -0.50931638\n",
            "  0.06978521 -0.14679472 -0.15051146 -0.04162217 -0.63602971 -0.03068704\n",
            " -0.26998237 -0.08940903 -0.47099374 -0.07027425 -0.08868329 -0.0384868\n",
            " -0.11459476 -0.10674824 -0.18602658 -0.43208855  0.00445043 -0.13397984\n",
            " -0.00181124 -0.14157615 -0.03660799 -0.37996296]\n",
            "\n",
            "Custo =  0.651887301156613\n"
          ],
          "name": "stdout"
        }
      ]
    },
    {
      "cell_type": "markdown",
      "metadata": {
        "id": "Gc5iyw9JDLej"
      },
      "source": [
        "##4.4 Esboço da Fronteira de Decisão"
      ]
    },
    {
      "cell_type": "markdown",
      "metadata": {
        "id": "_qHqZmMGv31a"
      },
      "source": [
        "Apresentamos a seguir plotagem da dispersão dos valores e sobre estes é esboçada a **Fronteira de Decisão**, representada pela forma em verde neste gráfico, que separa os valores positivos e negativos do nosso conjunto de dados.\n",
        "\n",
        "Esta fronteira foi desenhada com a função ```plotDecisionBoundary```, que recebe os valores ótimos de $\\theta$, as características mapeadadas a partir dos termos dos polinômios de $x1$ e $x2$ e os valores da classe alvo ($y$)."
      ]
    },
    {
      "cell_type": "code",
      "metadata": {
        "colab": {
          "base_uri": "https://localhost:8080/",
          "height": 0
        },
        "id": "Qz0sLvos_iZw",
        "outputId": "660bec22-4bad-486e-ecaf-1dfcf0cdb601"
      },
      "source": [
        "%run plotDecisionBoundary.py\n",
        "%matplotlib inline\n",
        "\n",
        "plot_(np.array(Xplot),\n",
        "      np.array(yplot))\n",
        "\n",
        "plotDecisionBoundary(theta, X, y)\n",
        "plt.xlabel('Microship teste 1')\n",
        "plt.ylabel('Microship teste 2')\n",
        "plt.legend(['y = 1', 'y = 0'])\n",
        "plt.grid(False)\n",
        "plt.title('lambda = %0.2f' % _lambda)\n",
        "plt.savefig('target/plot4.4.png')"
      ],
      "execution_count": 92,
      "outputs": [
        {
          "output_type": "stream",
          "text": [
            "/content/drive/My Drive/Mestrado PPCIC/03. Curso/3. Aprendizado/code/mapFeature.py:17: VisibleDeprecationWarning: Creating an ndarray from ragged nested sequences (which is a list-or-tuple of lists-or-tuples-or ndarrays with different lengths or shapes) is deprecated. If you meant to do this, you must specify 'dtype=object' when creating the ndarray\n",
            "  return np.array(out)\n"
          ],
          "name": "stderr"
        },
        {
          "output_type": "display_data",
          "data": {
            "image/png": "[encoded data removed]",
            "text/plain": [
              "<Figure size 720x432 with 1 Axes>"
            ]
          },
          "metadata": {
            "tags": [],
            "needs_background": "light"
          }
        }
      ]
    },
    {
      "cell_type": "markdown",
      "metadata": {
        "id": "ct9AJumsjsTI"
      },
      "source": [
        "#5 Regressão Linear com Regularização"
      ]
    },
    {
      "cell_type": "markdown",
      "metadata": {
        "id": "XaI3E_oDjxV_"
      },
      "source": [
        "##Análise preliminar dos dados"
      ]
    },
    {
      "cell_type": "code",
      "metadata": {
        "id": "9_RglYZGjzyf"
      },
      "source": [
        "import scipy.io as spio\n",
        "arquivo = 'data/ex5data1.mat'\n",
        "data = spio.loadmat(arquivo,\n",
        "                    squeeze_me=True)"
      ],
      "execution_count": 93,
      "outputs": []
    },
    {
      "cell_type": "code",
      "metadata": {
        "id": "4_ZZVS6ykmAO"
      },
      "source": [
        "treinamento = pd.DataFrame({'X': data['X'],\n",
        "                            'y': data['y']})"
      ],
      "execution_count": 94,
      "outputs": []
    },
    {
      "cell_type": "code",
      "metadata": {
        "id": "nLztD0HkpRRr"
      },
      "source": [
        "validacao = pd.DataFrame({'Xval': data['Xval'],\n",
        "                            'yval': data['yval']})"
      ],
      "execution_count": 95,
      "outputs": []
    },
    {
      "cell_type": "code",
      "metadata": {
        "id": "Mp_dCDgGpiiw"
      },
      "source": [
        "teste = pd.DataFrame({'Xtest': data['Xtest'],\n",
        "                            'ytest': data['ytest']})"
      ],
      "execution_count": 96,
      "outputs": []
    },
    {
      "cell_type": "code",
      "metadata": {
        "colab": {
          "base_uri": "https://localhost:8080/",
          "height": 0
        },
        "id": "QRN2BXmup3VA",
        "outputId": "d02d5327-d9e9-40e4-b4db-ea450978f2ac"
      },
      "source": [
        "treinamento.describe()"
      ],
      "execution_count": 97,
      "outputs": [
        {
          "output_type": "execute_result",
          "data": {
            "text/html": [
              "<div>\n",
              "<style scoped>\n",
              "    .dataframe tbody tr th:only-of-type {\n",
              "        vertical-align: middle;\n",
              "    }\n",
              "\n",
              "    .dataframe tbody tr th {\n",
              "        vertical-align: top;\n",
              "    }\n",
              "\n",
              "    .dataframe thead th {\n",
              "        text-align: right;\n",
              "    }\n",
              "</style>\n",
              "<table border=\"1\" class=\"dataframe\">\n",
              "  <thead>\n",
              "    <tr style=\"text-align: right;\">\n",
              "      <th></th>\n",
              "      <th>X</th>\n",
              "      <th>y</th>\n",
              "    </tr>\n",
              "  </thead>\n",
              "  <tbody>\n",
              "    <tr>\n",
              "      <th>count</th>\n",
              "      <td>12.000000</td>\n",
              "      <td>12.000000</td>\n",
              "    </tr>\n",
              "    <tr>\n",
              "      <th>mean</th>\n",
              "      <td>-5.085426</td>\n",
              "      <td>11.217589</td>\n",
              "    </tr>\n",
              "    <tr>\n",
              "      <th>std</th>\n",
              "      <td>29.964402</td>\n",
              "      <td>13.048466</td>\n",
              "    </tr>\n",
              "    <tr>\n",
              "      <th>min</th>\n",
              "      <td>-48.058829</td>\n",
              "      <td>1.173257</td>\n",
              "    </tr>\n",
              "    <tr>\n",
              "      <th>25%</th>\n",
              "      <td>-30.541301</td>\n",
              "      <td>2.494216</td>\n",
              "    </tr>\n",
              "    <tr>\n",
              "      <th>50%</th>\n",
              "      <td>-3.776152</td>\n",
              "      <td>3.735931</td>\n",
              "    </tr>\n",
              "    <tr>\n",
              "      <th>75%</th>\n",
              "      <td>17.171532</td>\n",
              "      <td>16.720808</td>\n",
              "    </tr>\n",
              "    <tr>\n",
              "      <th>max</th>\n",
              "      <td>37.492187</td>\n",
              "      <td>36.837955</td>\n",
              "    </tr>\n",
              "  </tbody>\n",
              "</table>\n",
              "</div>"
            ],
            "text/plain": [
              "               X          y\n",
              "count  12.000000  12.000000\n",
              "mean   -5.085426  11.217589\n",
              "std    29.964402  13.048466\n",
              "min   -48.058829   1.173257\n",
              "25%   -30.541301   2.494216\n",
              "50%    -3.776152   3.735931\n",
              "75%    17.171532  16.720808\n",
              "max    37.492187  36.837955"
            ]
          },
          "metadata": {
            "tags": []
          },
          "execution_count": 97
        }
      ]
    },
    {
      "cell_type": "code",
      "metadata": {
        "colab": {
          "base_uri": "https://localhost:8080/",
          "height": 0
        },
        "id": "NSoAT2b4p5Pn",
        "outputId": "12e3df2f-d701-471e-e18e-eab8a2e81486"
      },
      "source": [
        "validacao.describe()"
      ],
      "execution_count": 98,
      "outputs": [
        {
          "output_type": "execute_result",
          "data": {
            "text/html": [
              "<div>\n",
              "<style scoped>\n",
              "    .dataframe tbody tr th:only-of-type {\n",
              "        vertical-align: middle;\n",
              "    }\n",
              "\n",
              "    .dataframe tbody tr th {\n",
              "        vertical-align: top;\n",
              "    }\n",
              "\n",
              "    .dataframe thead th {\n",
              "        text-align: right;\n",
              "    }\n",
              "</style>\n",
              "<table border=\"1\" class=\"dataframe\">\n",
              "  <thead>\n",
              "    <tr style=\"text-align: right;\">\n",
              "      <th></th>\n",
              "      <th>Xval</th>\n",
              "      <th>yval</th>\n",
              "    </tr>\n",
              "  </thead>\n",
              "  <tbody>\n",
              "    <tr>\n",
              "      <th>count</th>\n",
              "      <td>21.000000</td>\n",
              "      <td>21.000000</td>\n",
              "    </tr>\n",
              "    <tr>\n",
              "      <th>mean</th>\n",
              "      <td>-4.207026</td>\n",
              "      <td>12.906584</td>\n",
              "    </tr>\n",
              "    <tr>\n",
              "      <th>std</th>\n",
              "      <td>30.293175</td>\n",
              "      <td>13.028210</td>\n",
              "    </tr>\n",
              "    <tr>\n",
              "      <th>min</th>\n",
              "      <td>-50.013244</td>\n",
              "      <td>-0.000044</td>\n",
              "    </tr>\n",
              "    <tr>\n",
              "      <th>25%</th>\n",
              "      <td>-31.109554</td>\n",
              "      <td>4.170202</td>\n",
              "    </tr>\n",
              "    <tr>\n",
              "      <th>50%</th>\n",
              "      <td>-3.263862</td>\n",
              "      <td>8.348712</td>\n",
              "    </tr>\n",
              "    <tr>\n",
              "      <th>75%</th>\n",
              "      <td>25.374099</td>\n",
              "      <td>19.365053</td>\n",
              "    </tr>\n",
              "    <tr>\n",
              "      <th>max</th>\n",
              "      <td>46.282369</td>\n",
              "      <td>52.781928</td>\n",
              "    </tr>\n",
              "  </tbody>\n",
              "</table>\n",
              "</div>"
            ],
            "text/plain": [
              "            Xval       yval\n",
              "count  21.000000  21.000000\n",
              "mean   -4.207026  12.906584\n",
              "std    30.293175  13.028210\n",
              "min   -50.013244  -0.000044\n",
              "25%   -31.109554   4.170202\n",
              "50%    -3.263862   8.348712\n",
              "75%    25.374099  19.365053\n",
              "max    46.282369  52.781928"
            ]
          },
          "metadata": {
            "tags": []
          },
          "execution_count": 98
        }
      ]
    },
    {
      "cell_type": "code",
      "metadata": {
        "colab": {
          "base_uri": "https://localhost:8080/",
          "height": 0
        },
        "id": "GdVjThy9p70N",
        "outputId": "902fecec-ecfe-4842-e553-9d44f6d228d7"
      },
      "source": [
        "teste.describe()"
      ],
      "execution_count": 99,
      "outputs": [
        {
          "output_type": "execute_result",
          "data": {
            "text/html": [
              "<div>\n",
              "<style scoped>\n",
              "    .dataframe tbody tr th:only-of-type {\n",
              "        vertical-align: middle;\n",
              "    }\n",
              "\n",
              "    .dataframe tbody tr th {\n",
              "        vertical-align: top;\n",
              "    }\n",
              "\n",
              "    .dataframe thead th {\n",
              "        text-align: right;\n",
              "    }\n",
              "</style>\n",
              "<table border=\"1\" class=\"dataframe\">\n",
              "  <thead>\n",
              "    <tr style=\"text-align: right;\">\n",
              "      <th></th>\n",
              "      <th>Xtest</th>\n",
              "      <th>ytest</th>\n",
              "    </tr>\n",
              "  </thead>\n",
              "  <tbody>\n",
              "    <tr>\n",
              "      <th>count</th>\n",
              "      <td>21.000000</td>\n",
              "      <td>21.000000</td>\n",
              "    </tr>\n",
              "    <tr>\n",
              "      <th>mean</th>\n",
              "      <td>-4.564866</td>\n",
              "      <td>13.449414</td>\n",
              "    </tr>\n",
              "    <tr>\n",
              "      <th>std</th>\n",
              "      <td>30.929739</td>\n",
              "      <td>14.541524</td>\n",
              "    </tr>\n",
              "    <tr>\n",
              "      <th>min</th>\n",
              "      <td>-55.940571</td>\n",
              "      <td>0.130430</td>\n",
              "    </tr>\n",
              "    <tr>\n",
              "      <th>25%</th>\n",
              "      <td>-33.318004</td>\n",
              "      <td>4.079367</td>\n",
              "    </tr>\n",
              "    <tr>\n",
              "      <th>50%</th>\n",
              "      <td>-6.132596</td>\n",
              "      <td>6.566065</td>\n",
              "    </tr>\n",
              "    <tr>\n",
              "      <th>75%</th>\n",
              "      <td>21.261183</td>\n",
              "      <td>17.088487</td>\n",
              "    </tr>\n",
              "    <tr>\n",
              "      <th>max</th>\n",
              "      <td>44.209886</td>\n",
              "      <td>55.384373</td>\n",
              "    </tr>\n",
              "  </tbody>\n",
              "</table>\n",
              "</div>"
            ],
            "text/plain": [
              "           Xtest      ytest\n",
              "count  21.000000  21.000000\n",
              "mean   -4.564866  13.449414\n",
              "std    30.929739  14.541524\n",
              "min   -55.940571   0.130430\n",
              "25%   -33.318004   4.079367\n",
              "50%    -6.132596   6.566065\n",
              "75%    21.261183  17.088487\n",
              "max    44.209886  55.384373"
            ]
          },
          "metadata": {
            "tags": []
          },
          "execution_count": 99
        }
      ]
    },
    {
      "cell_type": "markdown",
      "metadata": {
        "id": "r_743mcDnD-R"
      },
      "source": [
        "##5.1 Visualização dos dados"
      ]
    },
    {
      "cell_type": "code",
      "metadata": {
        "colab": {
          "base_uri": "https://localhost:8080/",
          "height": 0
        },
        "id": "NUBxdf57lXEi",
        "outputId": "3190c116-84dc-4a70-bcb5-95936921a7b4"
      },
      "source": [
        "plt.figure(figsize=(10,6))\n",
        "plt.scatter(treinamento['X'], treinamento['y'],\n",
        "            color='r', alpha=0.7,\n",
        "            marker='x')\n",
        "\n",
        "plt.xlabel('Mudança no nível de água (x)')\n",
        "plt.ylabel('Água saindo da barragem (y)')\n",
        "\n",
        "plt.yticks([0,5,10,15,20,25,35,40])\n",
        "plt.xticks([-50,-40,-30,-20,-10,0,10,20,30,40,])\n",
        "\n",
        "sns.despine()\n",
        "\n",
        "plt.savefig('target/plot5.1.png')"
      ],
      "execution_count": 100,
      "outputs": [
        {
          "output_type": "display_data",
          "data": {
            "image/png": "[encoded data removed]",
            "text/plain": [
              "<Figure size 720x432 with 1 Axes>"
            ]
          },
          "metadata": {
            "tags": [],
            "needs_background": "light"
          }
        }
      ]
    },
    {
      "cell_type": "markdown",
      "metadata": {
        "id": "YPVoqrMcHBEp"
      },
      "source": [
        "##5.2 Função de custo da regressão linear regularizada"
      ]
    },
    {
      "cell_type": "markdown",
      "metadata": {
        "id": "xC_7HmP1adVa"
      },
      "source": [
        "Esta seção realizada a aplicação da função de custo, implmentada a função de custo da regressão linear regularizada $J(\\theta)$, conforme abaixo, que implementa $\\lambda$ como um hiperparâmetro que controla o grau de regularização impondo uma penalidade sobre o custo total $J$\n",
        "\n",
        "$\n",
        "J(\\theta) = \\frac{1}{2m}[ \\sum_{i=1}^{m} (h\\theta(x^i) - (y^i)^2]+\\frac{\\lambda}{2m} \\sum_{j=1}^{n} \\theta _j^2\n",
        "$\n",
        "\n"
      ]
    },
    {
      "cell_type": "code",
      "metadata": {
        "colab": {
          "base_uri": "https://localhost:8080/"
        },
        "id": "0rJktordJo3j",
        "outputId": "0173ef7c-e583-406c-ff4a-da3bc5358346"
      },
      "source": [
        "X_ = np.array(treinamento['X'], ndmin=2).T\n",
        "X_.shape"
      ],
      "execution_count": 101,
      "outputs": [
        {
          "output_type": "execute_result",
          "data": {
            "text/plain": [
              "(12, 1)"
            ]
          },
          "metadata": {
            "tags": []
          },
          "execution_count": 101
        }
      ]
    },
    {
      "cell_type": "code",
      "metadata": {
        "colab": {
          "base_uri": "https://localhost:8080/"
        },
        "id": "oCxmfJnWY3ks",
        "outputId": "a134851a-b5e3-4a77-abc9-a1afded312e5"
      },
      "source": [
        "X_ = np.c_[np.ones((X_.shape[0], 1)), X_]\n",
        "X_.shape"
      ],
      "execution_count": 102,
      "outputs": [
        {
          "output_type": "execute_result",
          "data": {
            "text/plain": [
              "(12, 2)"
            ]
          },
          "metadata": {
            "tags": []
          },
          "execution_count": 102
        }
      ]
    },
    {
      "cell_type": "code",
      "metadata": {
        "colab": {
          "base_uri": "https://localhost:8080/"
        },
        "id": "rwSadFuzKQW4",
        "outputId": "3257d5e8-650e-499b-f506-d4a1e5d4b48d"
      },
      "source": [
        "y_ = np.array(treinamento['y'], ndmin=2).T\n",
        "y_.shape"
      ],
      "execution_count": 103,
      "outputs": [
        {
          "output_type": "execute_result",
          "data": {
            "text/plain": [
              "(12, 1)"
            ]
          },
          "metadata": {
            "tags": []
          },
          "execution_count": 103
        }
      ]
    },
    {
      "cell_type": "code",
      "metadata": {
        "id": "qGOF7GDmYpSA"
      },
      "source": [
        "from custo_reglin_regularizada import custo_reglin_regularizada"
      ],
      "execution_count": 104,
      "outputs": []
    },
    {
      "cell_type": "code",
      "metadata": {
        "colab": {
          "base_uri": "https://localhost:8080/"
        },
        "id": "gq4_5zFNYvGk",
        "outputId": "5156ad88-fef8-417d-d339-a3f56771c118"
      },
      "source": [
        "_lambda = 1\n",
        "theta = np.array([[1,1]]) #inicialização\n",
        "J = custo_reglin_regularizada(theta, X_, y_, _lambda)\n",
        "print('Custo = ', J)"
      ],
      "execution_count": 105,
      "outputs": [
        {
          "output_type": "stream",
          "text": [
            "Custo =  303.9931922202643\n"
          ],
          "name": "stdout"
        }
      ]
    },
    {
      "cell_type": "markdown",
      "metadata": {
        "id": "wlHcyy_HdyQf"
      },
      "source": [
        "Usando *theta* inicializado como (1,1) obtemos o valor de custo de 303.993, conforme previsto para confirmar a corretude da função implementada."
      ]
    },
    {
      "cell_type": "markdown",
      "metadata": {
        "id": "_hKklg6NLpOn"
      },
      "source": [
        "##5.3 Gradiente da regressão linear regularizada"
      ]
    },
    {
      "cell_type": "markdown",
      "metadata": {
        "id": "kjSqktSoiSSI"
      },
      "source": [
        "A seguir aplicamos a função implementada do gradiente descedente para calcular com os mesmos parâmetros usados na seção anterior, ou seja, valores de $\\theta$ inicializados como (1,1) e $\\lambda=1$.\n",
        "\n",
        "Com estes parâmetros encontramos como resultado (-15.303, 598.250)."
      ]
    },
    {
      "cell_type": "code",
      "metadata": {
        "id": "a_sB5X15eXBz"
      },
      "source": [
        "from gd_reglin_regularizada import gd_reglin_regularizada"
      ],
      "execution_count": 106,
      "outputs": []
    },
    {
      "cell_type": "code",
      "metadata": {
        "colab": {
          "base_uri": "https://localhost:8080/"
        },
        "id": "AXjiXXywha62",
        "outputId": "e322e728-a707-4cc4-f17d-0b5e720535d9"
      },
      "source": [
        "gd_reglin_regularizada(theta, X_, y_, _lambda)"
      ],
      "execution_count": 107,
      "outputs": [
        {
          "output_type": "execute_result",
          "data": {
            "text/plain": [
              "matrix([[-15.30301567],\n",
              "        [598.25074417]])"
            ]
          },
          "metadata": {
            "tags": []
          },
          "execution_count": 107
        }
      ]
    },
    {
      "cell_type": "markdown",
      "metadata": {
        "id": "cmvI7wOXgqWI"
      },
      "source": [
        "##5.4 Ajustando os parâmetros da regressão linear"
      ]
    },
    {
      "cell_type": "markdown",
      "metadata": {
        "id": "9L0nMBB4hAHi"
      },
      "source": [
        "Nessa seção usamos a função de custos regularizada para ajustar os valores ótimos de $\\theta$, mas usando $\\lambda=0$, ou seja, sem regularização. Em seguida é feita a visualização da curva de regressão com os valores ótimos identificados.\n",
        "\n",
        "---\n",
        "\n",
        "Nesta primeira célula, importamos a ferramenta de otimização de valores da biblioteca ```scipy``` e definimos uma função usa esta ferramenta para encontrar os valores ótimos de $\\theta$."
      ]
    },
    {
      "cell_type": "code",
      "metadata": {
        "id": "XtEy5GixedgQ"
      },
      "source": [
        "import scipy.optimize as opt\n",
        "def encontrar_theta_otimo(theta, X, y, _lambda):\n",
        "    return opt.fmin_tnc(func = custo_reglin_regularizada, \n",
        "        x0=theta, fprime=gd_reglin_regularizada, \n",
        "        args=(X, y, _lambda))"
      ],
      "execution_count": 108,
      "outputs": []
    },
    {
      "cell_type": "markdown",
      "metadata": {
        "id": "KQBNTyuzjrjw"
      },
      "source": [
        "O trecho abaixo aplica a otimização do gradiente descedente, sem regularização ($\\lambda=0$), encontrando os valores (13.087, 0.367) com um custo de 22.374.\n",
        "\n",
        "Em seguida é gerada a curva de ajustamento da regressão linear e realizada sua plotagem em conjunto com a dispersão dos dados originais."
      ]
    },
    {
      "cell_type": "code",
      "metadata": {
        "id": "eTuDnKdKe-5w"
      },
      "source": [
        "_lambda = 0\n",
        "result = encontrar_theta_otimo(theta, X_, y_, _lambda)\n",
        "theta = result[0]\n",
        "J = custo_reglin_regularizada(theta, X_, y_, _lambda)"
      ],
      "execution_count": 109,
      "outputs": []
    },
    {
      "cell_type": "code",
      "metadata": {
        "colab": {
          "base_uri": "https://localhost:8080/"
        },
        "id": "GzSGzYVifP63",
        "outputId": "3076df96-d0e2-40e5-8418-9ac94978d66e"
      },
      "source": [
        "print('Vetor de parâmetros = ', theta)\n",
        "print('Custo = ', J)"
      ],
      "execution_count": 110,
      "outputs": [
        {
          "output_type": "stream",
          "text": [
            "Vetor de parâmetros =  [13.08790367  0.36777923]\n",
            "Custo =  22.373906495108923\n"
          ],
          "name": "stdout"
        }
      ]
    },
    {
      "cell_type": "code",
      "metadata": {
        "id": "P3G0vxNZfXBf"
      },
      "source": [
        "h = X_.dot(theta.T)"
      ],
      "execution_count": 111,
      "outputs": []
    },
    {
      "cell_type": "code",
      "metadata": {
        "colab": {
          "base_uri": "https://localhost:8080/",
          "height": 0
        },
        "id": "9bZpFknwf2Xp",
        "outputId": "57a30aa3-f358-490e-b9c8-736165bdde5c"
      },
      "source": [
        "plt.figure(figsize=(10,6))\n",
        "plt.scatter(treinamento['X'], y_,\n",
        "            color='r', alpha=0.7,\n",
        "            marker='x')\n",
        "\n",
        "plt.plot(treinamento['X'], h)\n",
        "\n",
        "plt.xlabel('Mudança no nível de água (x)')\n",
        "plt.ylabel('Água saindo da barragem (y)')\n",
        "\n",
        "plt.yticks([0,5,10,15,20,25,35,40])\n",
        "plt.xticks([-50,-40,-30,-20,-10,0,10,20,30,40,])\n",
        "\n",
        "sns.despine()\n",
        "\n",
        "plt.savefig('target/plot5.4.png')"
      ],
      "execution_count": 112,
      "outputs": [
        {
          "output_type": "display_data",
          "data": {
            "image/png": "[encoded data removed]",
            "text/plain": [
              "<Figure size 720x432 with 1 Axes>"
            ]
          },
          "metadata": {
            "tags": [],
            "needs_background": "light"
          }
        }
      ]
    },
    {
      "cell_type": "markdown",
      "metadata": {
        "id": "J0IxilWwv29B"
      },
      "source": [
        "Como percebemos pela visualização o modelo possui um alto viés, não conseguindo acompanhar o comportamento dos dados e portanto, tendo baixa capacidade preditiva."
      ]
    },
    {
      "cell_type": "markdown",
      "metadata": {
        "id": "hkVFfuVw4CBK"
      },
      "source": [
        "#6 Viés-Variância"
      ]
    },
    {
      "cell_type": "markdown",
      "metadata": {
        "id": "jWxrhkj7t-zu"
      },
      "source": [
        "##6.1 Curva de aprendizado"
      ]
    },
    {
      "cell_type": "markdown",
      "metadata": {
        "id": "MDEQ1YyWvJN9"
      },
      "source": [
        "Nessa seção é feito o cálculo dos erros usando conjunto de treino e conjunto de validação para permitir a comparação entre as duas situações e gerar a curva de aprendizado que permite essa avaliação de forma gráfica."
      ]
    },
    {
      "cell_type": "code",
      "metadata": {
        "id": "EflWNmqVKRx7"
      },
      "source": [
        "def learningCurve(theta, X, y, X_val, y_val, _lambda):\n",
        "    m = len(X)\n",
        "    erros_treino = np.zeros(m)\n",
        "    erros_val = np.zeros(m)\n",
        "    qtds_exemplos = []\n",
        "    \n",
        "    for i in range(1,m+1):\n",
        "        X_train = X[:i,:]\n",
        "        y_train = y[:i]\n",
        "        qtds_exemplos.append(len(X_train))\n",
        "        \n",
        "        result = encontrar_theta_otimo(theta, X_train, y_train, _lambda)\n",
        "        theta = result[0]\n",
        "        \n",
        "        J_train = custo_reglin_regularizada(theta, X_train, y_train, _lambda=0)\n",
        "        J_val = custo_reglin_regularizada(theta, X_val, y_val, _lambda)\n",
        "        \n",
        "        erros_treino[i-1] = J_train\n",
        "        erros_val[i-1] = J_val\n",
        "    \n",
        "    return qtds_exemplos, erros_treino, erros_val"
      ],
      "execution_count": 113,
      "outputs": []
    },
    {
      "cell_type": "code",
      "metadata": {
        "id": "Z-rn4oVqn-1r"
      },
      "source": [
        "X_val = np.array(validacao['Xval'], ndmin=2).T"
      ],
      "execution_count": 114,
      "outputs": []
    },
    {
      "cell_type": "code",
      "metadata": {
        "id": "6K3yTNFFoLor"
      },
      "source": [
        "X_val = np.c_[np.ones((X_val.shape[0], 1)), X_val]"
      ],
      "execution_count": 115,
      "outputs": []
    },
    {
      "cell_type": "code",
      "metadata": {
        "id": "skEuJPISoPt_"
      },
      "source": [
        "y_val = np.array(validacao['yval'], ndmin=2).T"
      ],
      "execution_count": 116,
      "outputs": []
    },
    {
      "cell_type": "code",
      "metadata": {
        "id": "ak-AbY4LnCDB"
      },
      "source": [
        "lamb=0\n",
        "theta = np.array([[1,1]]).T #inicialização"
      ],
      "execution_count": 117,
      "outputs": []
    },
    {
      "cell_type": "code",
      "metadata": {
        "id": "7a9Ndj5AJSwi"
      },
      "source": [
        "qtds_exemplos, erros_treino, erros_val = learningCurve(theta,\n",
        "                                                       X_, y_,\n",
        "                                                       X_val, y_val,\n",
        "                                                       lamb)"
      ],
      "execution_count": 118,
      "outputs": []
    },
    {
      "cell_type": "code",
      "metadata": {
        "colab": {
          "base_uri": "https://localhost:8080/"
        },
        "id": "5X_ddT8tqDRL",
        "outputId": "b563f01d-548e-49fc-afd4-087fa5924244"
      },
      "source": [
        "print(f'Quantidade de exempos: {qtds_exemplos}\\n\\nErros de treino: {erros_treino}\\n\\nErros de validação: {erros_val}')"
      ],
      "execution_count": 119,
      "outputs": [
        {
          "output_type": "stream",
          "text": [
            "Quantidade de exempos: [1, 2, 3, 4, 5, 6, 7, 8, 9, 10, 11, 12]\n",
            "\n",
            "Erros de treino: [8.63153419e-18 6.09573022e-18 3.28659505e+00 2.84267769e+00\n",
            " 1.31540488e+01 1.94439625e+01 2.00985217e+01 1.81728587e+01\n",
            " 2.26094054e+01 2.32614616e+01 2.43172496e+01 2.23739065e+01]\n",
            "\n",
            "Erros de validação: [169.87070841 110.30036593  45.01023162  48.36891133  35.86516478\n",
            "  33.82996162  31.97098581  30.86244633  31.13599796  28.93620747\n",
            "  29.55143162  29.43381813]\n"
          ],
          "name": "stdout"
        }
      ]
    },
    {
      "cell_type": "markdown",
      "metadata": {
        "id": "7luRChdsvbKm"
      },
      "source": [
        "A visualização gráfica a seguir apresenta a curva de aprendizado da Regressão Linear com os dados de treino e validação, comparando a evolução dos erros para diferentes tamanhos dos conjuntos de treinamento.\n",
        "\n",
        "É possível perceber que os erros no conjunto de treino começam muito inferiores aos encontrados no conjunto de validação e vão convergindo para o mesmo nível à medida que o número de exemplos aumenta. Contudo, mesmo quando encontram um nível similar a um platô ainda há um *gap* entre as duas curvas, mostrando que o modelo erra menos no conjunto de treino."
      ]
    },
    {
      "cell_type": "code",
      "metadata": {
        "colab": {
          "base_uri": "https://localhost:8080/",
          "height": 0
        },
        "id": "9QHtpWJOrHBt",
        "outputId": "420c056e-0abb-4672-f7f3-cb0f133e10f7"
      },
      "source": [
        "plt.figure(figsize=(10,6))\n",
        "plt.plot(erros_treino, alpha=0.7)\n",
        "plt.plot(erros_val, '--', alpha=0.7)\n",
        "plt.legend(['Treino', 'Validação'])\n",
        "plt.xlabel('Número de exemplos de treinamento')\n",
        "plt.ylabel('Erro')\n",
        "plt.title('Curva de Aprendizado da Regressão Linear')\n",
        "plt.savefig('target/plot6.1.png')\n",
        "sns.despine()"
      ],
      "execution_count": 120,
      "outputs": [
        {
          "output_type": "display_data",
          "data": {
            "image/png": "[encoded data removed]",
            "text/plain": [
              "<Figure size 720x432 with 1 Axes>"
            ]
          },
          "metadata": {
            "tags": [],
            "needs_background": "light"
          }
        }
      ]
    },
    {
      "cell_type": "markdown",
      "metadata": {
        "id": "dtn-MIvsVnJC"
      },
      "source": [
        "#7 Regressão Polinomial"
      ]
    },
    {
      "cell_type": "markdown",
      "metadata": {
        "id": "9ASWuZtiWvwj"
      },
      "source": [
        "##7.1 Regressão polinomial - aprendizado"
      ]
    },
    {
      "cell_type": "markdown",
      "metadata": {
        "id": "JQsmZ4Yx2vdW"
      },
      "source": [
        "Inicialmente realizamos a geração de novas características equivalantes com base no polinômio de grau 8 do $X$ original."
      ]
    },
    {
      "cell_type": "code",
      "metadata": {
        "id": "ItOH9-t9V27i"
      },
      "source": [
        "from poly_features import polyFeatures"
      ],
      "execution_count": 145,
      "outputs": []
    },
    {
      "cell_type": "code",
      "metadata": {
        "id": "9bASJO7BLvEG"
      },
      "source": [
        "X_ = np.array(data['X'], ndmin=2).T"
      ],
      "execution_count": 146,
      "outputs": []
    },
    {
      "cell_type": "code",
      "metadata": {
        "id": "Y7USDj8ZWG5I"
      },
      "source": [
        "grau = 8\n",
        "X_poli = polyFeatures(X_, grau)"
      ],
      "execution_count": 147,
      "outputs": []
    },
    {
      "cell_type": "code",
      "metadata": {
        "colab": {
          "base_uri": "https://localhost:8080/"
        },
        "id": "w2Vu_bAcW80m",
        "outputId": "f83c1c3d-cdf9-4dcd-9b0f-055f5d42ceff"
      },
      "source": [
        "X_poli.shape"
      ],
      "execution_count": 148,
      "outputs": [
        {
          "output_type": "execute_result",
          "data": {
            "text/plain": [
              "(12, 8)"
            ]
          },
          "metadata": {
            "tags": []
          },
          "execution_count": 148
        }
      ]
    },
    {
      "cell_type": "code",
      "metadata": {
        "colab": {
          "base_uri": "https://localhost:8080/"
        },
        "id": "a1zCaqg6MFSG",
        "outputId": "57a4919d-066f-489e-f6a1-8692f5e28208"
      },
      "source": [
        "X_"
      ],
      "execution_count": 149,
      "outputs": [
        {
          "output_type": "execute_result",
          "data": {
            "text/plain": [
              "array([[-15.93675813],\n",
              "       [-29.15297922],\n",
              "       [ 36.18954863],\n",
              "       [ 37.49218733],\n",
              "       [-48.05882945],\n",
              "       [ -8.94145794],\n",
              "       [ 15.30779289],\n",
              "       [-34.70626581],\n",
              "       [  1.38915437],\n",
              "       [-44.38375985],\n",
              "       [  7.01350208],\n",
              "       [ 22.76274892]])"
            ]
          },
          "metadata": {
            "tags": []
          },
          "execution_count": 149
        }
      ]
    },
    {
      "cell_type": "code",
      "metadata": {
        "colab": {
          "base_uri": "https://localhost:8080/"
        },
        "id": "TYh2tyPkMGuA",
        "outputId": "68a5de9d-621c-4cc3-b879-df2c083f6ed8"
      },
      "source": [
        "X_poli[:5]"
      ],
      "execution_count": 150,
      "outputs": [
        {
          "output_type": "execute_result",
          "data": {
            "text/plain": [
              "array([[-1.59367581e+01,  2.53980260e+02, -4.04762197e+03,\n",
              "         6.45059724e+04, -1.02801608e+06,  1.63832436e+07,\n",
              "        -2.61095791e+08,  4.16102047e+09],\n",
              "       [-2.91529792e+01,  8.49896197e+02, -2.47770062e+04,\n",
              "         7.22323546e+05, -2.10578833e+07,  6.13900035e+08,\n",
              "        -1.78970150e+10,  5.21751305e+11],\n",
              "       [ 3.61895486e+01,  1.30968343e+03,  4.73968522e+04,\n",
              "         1.71527069e+06,  6.20748719e+07,  2.24646160e+09,\n",
              "         8.12984311e+10,  2.94215353e+12],\n",
              "       [ 3.74921873e+01,  1.40566411e+03,  5.27014222e+04,\n",
              "         1.97589159e+06,  7.40804977e+07,  2.77743990e+09,\n",
              "         1.04132297e+11,  3.90414759e+12],\n",
              "       [-4.80588295e+01,  2.30965109e+03, -1.10999128e+05,\n",
              "         5.33448815e+06, -2.56369256e+08,  1.23208064e+10,\n",
              "        -5.92123532e+11,  2.84567638e+13]])"
            ]
          },
          "metadata": {
            "tags": []
          },
          "execution_count": 150
        }
      ]
    },
    {
      "cell_type": "markdown",
      "metadata": {
        "id": "LORF6lFC3qAT"
      },
      "source": [
        "Em seguida normalizamos as características para deixá-las na mesma escala."
      ]
    },
    {
      "cell_type": "code",
      "metadata": {
        "id": "U13P-hFVCvhe"
      },
      "source": [
        "from normalizacao import normalizar_caracteristica"
      ],
      "execution_count": 151,
      "outputs": []
    },
    {
      "cell_type": "code",
      "metadata": {
        "id": "FBrdhgp_McB8"
      },
      "source": [
        "X_Norm, X_Norm_mean, X_Norm_std = normalizar_caracteristica(X_poli)"
      ],
      "execution_count": 152,
      "outputs": []
    },
    {
      "cell_type": "code",
      "metadata": {
        "colab": {
          "base_uri": "https://localhost:8080/"
        },
        "id": "tyv7LptUX3IT",
        "outputId": "037ba1a0-47c4-4eab-fd22-b0c3c416bb78"
      },
      "source": [
        "X_Norm.shape"
      ],
      "execution_count": 153,
      "outputs": [
        {
          "output_type": "execute_result",
          "data": {
            "text/plain": [
              "(12, 9)"
            ]
          },
          "metadata": {
            "tags": []
          },
          "execution_count": 153
        }
      ]
    },
    {
      "cell_type": "code",
      "metadata": {
        "id": "-eRu_tz1YJLY",
        "colab": {
          "base_uri": "https://localhost:8080/"
        },
        "outputId": "b5a00a4c-649c-411b-ad4a-a19968ef7363"
      },
      "source": [
        "X_[0]"
      ],
      "execution_count": 154,
      "outputs": [
        {
          "output_type": "execute_result",
          "data": {
            "text/plain": [
              "array([-15.93675813])"
            ]
          },
          "metadata": {
            "tags": []
          },
          "execution_count": 154
        }
      ]
    },
    {
      "cell_type": "code",
      "metadata": {
        "colab": {
          "base_uri": "https://localhost:8080/"
        },
        "id": "V2Alrl2F2phJ",
        "outputId": "38cfe4ac-4369-4b81-8e4d-e7951a8f2ef7"
      },
      "source": [
        "X_poli[0]"
      ],
      "execution_count": 155,
      "outputs": [
        {
          "output_type": "execute_result",
          "data": {
            "text/plain": [
              "array([-1.59367581e+01,  2.53980260e+02, -4.04762197e+03,  6.45059724e+04,\n",
              "       -1.02801608e+06,  1.63832436e+07, -2.61095791e+08,  4.16102047e+09])"
            ]
          },
          "metadata": {
            "tags": []
          },
          "execution_count": 155
        }
      ]
    },
    {
      "cell_type": "code",
      "metadata": {
        "colab": {
          "base_uri": "https://localhost:8080/"
        },
        "id": "dGOoZTo70rDb",
        "outputId": "1b486b84-4514-43e6-daf0-2e442aad20e9"
      },
      "source": [
        "X_Norm[0]"
      ],
      "execution_count": 156,
      "outputs": [
        {
          "output_type": "execute_result",
          "data": {
            "text/plain": [
              "array([ 1.        , -0.3782437 , -0.78866232,  0.19032872, -0.7375913 ,\n",
              "        0.32025197, -0.6171516 ,  0.35983501, -0.53109126])"
            ]
          },
          "metadata": {
            "tags": []
          },
          "execution_count": 156
        }
      ]
    },
    {
      "cell_type": "markdown",
      "metadata": {
        "id": "PsxqEWjINEmI"
      },
      "source": [
        "Nesta parte da análise, serão aprendidos os parâmetros e gerada a visualização com a regressão polinomial."
      ]
    },
    {
      "cell_type": "code",
      "metadata": {
        "colab": {
          "base_uri": "https://localhost:8080/"
        },
        "id": "xCedde3f4Ahz",
        "outputId": "cbf5206b-dbb4-4be3-bf60-6454afcd7615"
      },
      "source": [
        "print(X_Norm.shape, y_.shape)"
      ],
      "execution_count": 157,
      "outputs": [
        {
          "output_type": "stream",
          "text": [
            "(12, 9) (12, 1)\n"
          ],
          "name": "stdout"
        }
      ]
    },
    {
      "cell_type": "code",
      "metadata": {
        "id": "wnLNCwiE9ZBT"
      },
      "source": [
        "from custo_reglin_multi import custo_reglin_multi\n",
        "import gd_reglin_multi\n",
        "from plot_ex5data1 import plot_ex5data1\n",
        "from plot_learning_curve import plot_learning_curve"
      ],
      "execution_count": 158,
      "outputs": []
    },
    {
      "cell_type": "code",
      "metadata": {
        "colab": {
          "base_uri": "https://localhost:8080/"
        },
        "id": "8ZjNNBOHNl2i",
        "outputId": "5216ab4b-197d-46c8-ff4f-0d3bf272b13b"
      },
      "source": [
        "_lambda = 0.003\n",
        "theta = np.ones((X_Norm.shape[1])) #inicialização\n",
        "result = encontrar_theta_otimo(theta, X_Norm, y_, _lambda)\n",
        "theta_ = result[0]\n",
        "\n",
        "print('Vetor de parâmetros\\n',theta_)"
      ],
      "execution_count": 159,
      "outputs": [
        {
          "output_type": "stream",
          "text": [
            "Vetor de parâmetros\n",
            " [ 11.21758156  11.23243789  13.34820938   8.58292448  -9.26145596\n",
            " -10.73863263   4.12880494   1.77973445  -3.39673752]\n"
          ],
          "name": "stdout"
        }
      ]
    },
    {
      "cell_type": "code",
      "metadata": {
        "colab": {
          "base_uri": "https://localhost:8080/"
        },
        "id": "cjnklSCRBx0d",
        "outputId": "89eccfd4-7421-412c-c8aa-da32196ed34c"
      },
      "source": [
        "print(y_.shape, theta_.shape)"
      ],
      "execution_count": 160,
      "outputs": [
        {
          "output_type": "stream",
          "text": [
            "(12, 1) (9,)\n"
          ],
          "name": "stdout"
        }
      ]
    },
    {
      "cell_type": "code",
      "metadata": {
        "colab": {
          "base_uri": "https://localhost:8080/",
          "height": 0
        },
        "id": "FwG_FwIxORSF",
        "outputId": "877e98ff-6c48-4805-ef7a-818a63c494d4"
      },
      "source": [
        "x = np.linspace(-65,60,50)\n",
        "x = x.reshape((len(x),1))\n",
        "x_poli = polyFeatures(x, grau)\n",
        "x_poli = (x_poli - X_Norm_mean) / X_Norm_std\n",
        "x_poli = np.insert(x_poli, 0, 1, axis=1)\n",
        "\n",
        "h = x_poli.dot(np.matrix(theta_).T)\n",
        "\n",
        "plot_ex5data1(X_, y_)\n",
        "plt.plot(x, h, 'b--')\n",
        "\n",
        "plt.title('Ajuste polinomial ($\\lambda = 0$)')\n",
        "plt.axis((-70,70,-60,50))\n",
        "\n",
        "plt.savefig('target/plot7.1.1.png')"
      ],
      "execution_count": 161,
      "outputs": [
        {
          "output_type": "display_data",
          "data": {
            "image/png": "[encoded data removed]",
            "text/plain": [
              "<Figure size 576x360 with 1 Axes>"
            ]
          },
          "metadata": {
            "tags": [],
            "needs_background": "light"
          }
        }
      ]
    },
    {
      "cell_type": "markdown",
      "metadata": {
        "id": "li16Id7EPvlc"
      },
      "source": [
        "O modelo gerado pelo ajuste polinomial se adequa bem aos dados, conforme pode ser visto pela curva marcada em azul na visualização. Contudo, o modelo demonstra ter alta variância e com *overfitting*.\n",
        "\n",
        "---\n",
        "\n",
        "Para reforçar esta análise, plotamos a curva de aprendizado que demonstra que o modelo possui erros de treinamento muito baixos, se aproximando de 0, mas elevados níveis de erro de validação."
      ]
    },
    {
      "cell_type": "code",
      "metadata": {
        "id": "pI48nl4DSPEf"
      },
      "source": [
        "X_val = np.array(data['Xval'], ndmin=2).T"
      ],
      "execution_count": 162,
      "outputs": []
    },
    {
      "cell_type": "code",
      "metadata": {
        "id": "uJnG0-IFQY9A"
      },
      "source": [
        "X_poli_val = polyFeatures(X_val, grau)"
      ],
      "execution_count": 163,
      "outputs": []
    },
    {
      "cell_type": "code",
      "metadata": {
        "id": "8RBgfsxhRNK3"
      },
      "source": [
        "X_norm_val, _, _ = normalizar_caracteristica(X_poli_val)"
      ],
      "execution_count": 164,
      "outputs": []
    },
    {
      "cell_type": "code",
      "metadata": {
        "colab": {
          "base_uri": "https://localhost:8080/"
        },
        "id": "FPw2jsTdSEgo",
        "outputId": "be493ea2-0eb8-4ae6-8fbe-8b148c61082c"
      },
      "source": [
        "X_norm_val[0]"
      ],
      "execution_count": 165,
      "outputs": [
        {
          "output_type": "execute_result",
          "data": {
            "text/plain": [
              "array([ 1.        , -0.42416069, -0.75311565,  0.12753599, -0.7369401 ,\n",
              "        0.24552665, -0.63413413,  0.26698715, -0.55310478])"
            ]
          },
          "metadata": {
            "tags": []
          },
          "execution_count": 165
        }
      ]
    },
    {
      "cell_type": "code",
      "metadata": {
        "id": "TzeYaKuIRG8t"
      },
      "source": [
        "theta = np.ones((X_norm_val.shape[1])) #inicialização"
      ],
      "execution_count": 166,
      "outputs": []
    },
    {
      "cell_type": "code",
      "metadata": {
        "id": "d4Zhh0wPQ3R2"
      },
      "source": [
        "numero_exemplos, erros_treino, erros_val = learningCurve(theta, X_Norm, y_, X_norm_val, y_val, _lambda=0)"
      ],
      "execution_count": 167,
      "outputs": []
    },
    {
      "cell_type": "code",
      "metadata": {
        "colab": {
          "base_uri": "https://localhost:8080/",
          "height": 0
        },
        "id": "jEWNhlrgRPZk",
        "outputId": "52b8e02b-fc62-433f-9ce0-b84346e66b33"
      },
      "source": [
        "plt.figure(figsize=(10,6))\n",
        "plt.plot(erros_treino, alpha=0.7)\n",
        "plt.plot(erros_val, '--', alpha=0.7)\n",
        "plt.legend(['Treino', 'Validação'])\n",
        "plt.xlabel('Número de exemplos de treinamento')\n",
        "plt.ylabel('Erro')\n",
        "plt.title('Curva de Aprendizado da Regressão Linear')\n",
        "plt.savefig('target/plot7.1.2.png')\n",
        "sns.despine()"
      ],
      "execution_count": 168,
      "outputs": [
        {
          "output_type": "display_data",
          "data": {
            "image/png": "[encoded data removed]",
            "text/plain": [
              "<Figure size 720x432 with 1 Axes>"
            ]
          },
          "metadata": {
            "tags": [],
            "needs_background": "light"
          }
        }
      ]
    },
    {
      "cell_type": "markdown",
      "metadata": {
        "id": "8kwife5G5woO"
      },
      "source": [
        "#Referências"
      ]
    },
    {
      "cell_type": "markdown",
      "metadata": {
        "id": "N5OVMr0b5ziU"
      },
      "source": [
        "**Referências**\n",
        "\n",
        "McKinney, Wes (2018). **Python para Análise de Dados**: tratamento de dados com pandas, numpy e iPython. Traduzido por Lúcia A. Kinoshita. Novatec.\n",
        "\n",
        "Géron, Aurélien (2019). **Mãos à Obra Aprendizagem de Máquina com Scikit-Learn & TensorFlow:** Conceitos, ferramentas e técnicas para a construção de sistemas inteligentes. Traduzido por Rafael Contatori. Alta Books.\n",
        "\n",
        "Grus, Joel (2016). **Data Science do Zero:** Primeiras regras com Python. Traduzido por Welington Nascimento. Alta Books.\n",
        "\n",
        "---\n",
        "\n",
        "**Algoritmos e conjuntos de dados:**\n",
        "\n",
        "https://github.com/MLRG-CEFET-RJ/ml-class/tree/master/ml-t1"
      ]
    }
  ]
}