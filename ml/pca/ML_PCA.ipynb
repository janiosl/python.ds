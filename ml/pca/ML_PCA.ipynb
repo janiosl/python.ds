{
  "nbformat": 4,
  "nbformat_minor": 0,
  "metadata": {
    "colab": {
      "name": "ML_PCA.ipynb",
      "provenance": [],
      "toc_visible": true,
      "authorship_tag": "ABX9TyNAi0dwYw3fcuWzLwjamadx",
      "include_colab_link": true
    },
    "kernelspec": {
      "name": "python3",
      "display_name": "Python 3"
    },
    "language_info": {
      "name": "python"
    }
  },
  "cells": [
    {
      "cell_type": "markdown",
      "metadata": {
        "id": "view-in-github",
        "colab_type": "text"
      },
      "source": [
        "<a href=\"https://colab.research.google.com/github/janiosl/python.ds/blob/master/ml/pca/ML_PCA.ipynb\" target=\"_parent\"><img src=\"https://colab.research.google.com/assets/colab-badge.svg\" alt=\"Open In Colab\"/></a>"
      ]
    },
    {
      "cell_type": "markdown",
      "metadata": {
        "id": "jx6dzC-l0KTt"
      },
      "source": [
        "#CEFET/RJ\n",
        "\n",
        "**PPCIC - Programa de Pós-Graduação em Ciência da Computação**\n",
        "\n",
        "**Mestrado em Ciência da Computação**\n",
        "\n",
        "---\n",
        "\n",
        "**Algoritmo PCA: Análise de Componentes Principais**\n",
        "\n",
        "**Disciplina**: Aprendizado de Máquina\n",
        "\n",
        "**Professor**: Eduardo Bezerra\n",
        "\n",
        "**Aluno**: Janio de Souza Lima"
      ]
    },
    {
      "cell_type": "markdown",
      "metadata": {
        "id": "IyXt6Jpl2V1K"
      },
      "source": [
        "#1 PCA - Principal Componente Analysis"
      ]
    },
    {
      "cell_type": "code",
      "metadata": {
        "id": "0LmvxtJO2Zmh"
      },
      "source": [
        "import scipy\n",
        "import pandas as pd\n",
        "import numpy as np\n",
        "import seaborn as sns\n",
        "from matplotlib import pyplot as plt"
      ],
      "execution_count": 4,
      "outputs": []
    },
    {
      "cell_type": "markdown",
      "metadata": {
        "id": "E5VRne_w2aLj"
      },
      "source": [
        "#2 Redução de Dimensionalidade"
      ]
    },
    {
      "cell_type": "markdown",
      "metadata": {
        "id": "xtqPdoFv2fz8"
      },
      "source": [
        "As ações dessa seção estão sendo implementadas seguindo a lógica do script `main.py` disponível no repositório fornecido pelo Prof. Eduardo Bezerra para disciplina Aprendizado de Máquina*, contudo executadas de maneira separada nas células do notebook para melhor acompanhamento de cada etapa do processo de *redução de dimensionalidade*.\n",
        "\n",
        "*https://github.com/MLRG-CEFET-RJ/ml-class/tree/master/ml-t2/pca"
      ]
    },
    {
      "cell_type": "markdown",
      "metadata": {
        "id": "KbyD2lD35xH-"
      },
      "source": [
        "##2.1 Conjunto de dados de exemplo"
      ]
    },
    {
      "cell_type": "code",
      "metadata": {
        "id": "LC7R6B1r48zf"
      },
      "source": [
        "#Carga do conjunto de dados\n",
        "arquivo = 'https://raw.githubusercontent.com/janiosl/python.ds/master/data/ex7data1_mat_to_csv.csv'\n",
        "X = pd.read_csv(arquivo)\n",
        "X = np.array([X.x1, X.x2]).T"
      ],
      "execution_count": 5,
      "outputs": []
    },
    {
      "cell_type": "code",
      "metadata": {
        "colab": {
          "base_uri": "https://localhost:8080/",
          "height": 499
        },
        "id": "KeH-MTzD0CGr",
        "outputId": "087513c3-f2ea-4caa-df09-0217b87ea93a"
      },
      "source": [
        "#Plotagem dos dados originais\n",
        "plt.figure(figsize=(10,8))\n",
        "plt.plot(X[:,0], X[:,1], 'bo')\n",
        "plt.title('Conjunto de dados originais')\n",
        "sns.despine()\n",
        "#plt.savefig('../target/plot2.1.png')"
      ],
      "execution_count": 6,
      "outputs": [
        {
          "output_type": "display_data",
          "data": {
            "image/png": "[encoded data removed]",
            "text/plain": [
              "<Figure size 720x576 with 1 Axes>"
            ]
          },
          "metadata": {
            "tags": [],
            "needs_background": "light"
          }
        }
      ]
    },
    {
      "cell_type": "markdown",
      "metadata": {
        "id": "BNCdU5-_5yoh"
      },
      "source": [
        "##2.2 Implementação do PCA - *Principal Component Analysis*"
      ]
    },
    {
      "cell_type": "markdown",
      "metadata": {
        "id": "_ZT7Yj0w52P2"
      },
      "source": [
        "Conferência das características adicionais e normalização antes de iniciar o processo de PCA."
      ]
    },
    {
      "cell_type": "code",
      "metadata": {
        "colab": {
          "base_uri": "https://localhost:8080/"
        },
        "id": "-2DyyOlY54PG",
        "outputId": "39863f4f-f4d9-4afd-b1d0-be1cade5ef10"
      },
      "source": [
        "X[:5]"
      ],
      "execution_count": 7,
      "outputs": [
        {
          "output_type": "execute_result",
          "data": {
            "text/plain": [
              "array([[3.38156267, 3.38911268],\n",
              "       [4.52787538, 5.8541781 ],\n",
              "       [2.65568187, 4.41199472],\n",
              "       [2.76523467, 3.71541365],\n",
              "       [2.84656011, 4.17550645]])"
            ]
          },
          "metadata": {
            "tags": []
          },
          "execution_count": 7
        }
      ]
    },
    {
      "cell_type": "code",
      "metadata": {
        "id": "AWrJTPLT6Fi0"
      },
      "source": [
        "def normalize_features(X):\n",
        "\tmu = np.mean(X,axis=0)\n",
        "\tsigma = np.std(X,axis=0)\n",
        "\tnormalized_X = np.divide(X - mu,sigma)\n",
        "\n",
        "\treturn (normalized_X, mu, sigma)\n",
        " \n",
        "X_norm, mu, sigma = normalize_features(X)"
      ],
      "execution_count": 8,
      "outputs": []
    },
    {
      "cell_type": "code",
      "metadata": {
        "colab": {
          "base_uri": "https://localhost:8080/"
        },
        "id": "AD_Q3Vpo6PCD",
        "outputId": "639bb68a-7c26-4df0-dae8-56d47bb2f0f8"
      },
      "source": [
        "#Conferência do resultado da normalização\n",
        "print(X_norm[:5], mu, sigma, sep='\\n\\n')"
      ],
      "execution_count": 9,
      "outputs": [
        {
          "output_type": "stream",
          "text": [
            "[[-0.52331306 -1.59279252]\n",
            " [ 0.46381518  0.84034523]\n",
            " [-1.14839331 -0.58315891]\n",
            " [-1.05405373 -1.27071783]\n",
            " [-0.98402167 -0.81658417]]\n",
            "\n",
            "[3.98926528 5.00280585]\n",
            "\n",
            "[1.16126017 1.01312201]\n"
          ],
          "name": "stdout"
        }
      ]
    },
    {
      "cell_type": "markdown",
      "metadata": {
        "id": "unjWlfhC6TNs"
      },
      "source": [
        "Implmentação do PCA a partir das equações:\n",
        "\n",
        "**Matriz de Covariância:**\n",
        "\n",
        "$\n",
        "\\Sigma = \\frac{1}{m}XX^T\n",
        "$\n",
        "\n",
        "Onde:\n",
        "* $X$ é matriz de dados originais\n",
        "* $m$ é o número de exemplos\n",
        "* $\\Sigma$ é a matriz de covariância de $X$ com dimensões $m\\times m$\n",
        "\n",
        "**PCA**:\n",
        "\n",
        "Obtido pela decomposição da matriz de covariância $\\Sigma$ através da técnica *decomposição de valores singulares* (SVD) implementada através da biblioteca `numpy` na função `linalg.svd`.\n"
      ]
    },
    {
      "cell_type": "code",
      "metadata": {
        "id": "YAfJy2fX6Toe"
      },
      "source": [
        "#Implementação do PCA em uma função personalizada\n",
        "def pca(X):\n",
        "\t################################################\n",
        "\t# Essa funcao deve retornar U e S, duas das\n",
        "\t# tres matrizes geradas pela decomposicao\n",
        "\t# da matriz de covariância de X.\n",
        "  #U => Componentes principais\n",
        "  #S => Vetor com os valores singulares\n",
        "\t################################################\n",
        "\n",
        "  #Define m como o número de exemplos de X\n",
        "  m = X_norm.shape[0]\n",
        "\n",
        "  #Calcula a matriz de covariância\n",
        "  X_mc = (1/m) * np.dot(X.T, X)\n",
        "\n",
        "  #Decomposição da matriz de covariância (SVD)\n",
        "  U, S, V = np.linalg.svd(X_mc)\n",
        "\n",
        "  return (U, S)"
      ],
      "execution_count": 10,
      "outputs": []
    },
    {
      "cell_type": "code",
      "metadata": {
        "colab": {
          "base_uri": "https://localhost:8080/"
        },
        "id": "Ym3YAFOC6YAR",
        "outputId": "8abacf4e-55cf-483d-847d-38e2f425af3f"
      },
      "source": [
        "U, S = pca(X_norm)\n",
        "print('PCA de X:', U, sep='\\n')"
      ],
      "execution_count": 11,
      "outputs": [
        {
          "output_type": "stream",
          "text": [
            "PCA de X:\n",
            "[[-0.70710678 -0.70710678]\n",
            " [-0.70710678  0.70710678]]\n"
          ],
          "name": "stdout"
        }
      ]
    },
    {
      "cell_type": "markdown",
      "metadata": {
        "id": "45A88IPO6bYy"
      },
      "source": [
        "##2.3 Redução da Dimensionalidade"
      ]
    },
    {
      "cell_type": "markdown",
      "metadata": {
        "id": "lBGyxlwT6dp9"
      },
      "source": [
        "Nas subseções a seguir será feita a utilização dos autovetores retornados pelo PCA para projetar o conjunto de dados originais para o espaço unidemsional.\n",
        "\n",
        "Antes de iniciar este processo, apresentamos a seguir uma visualização dos autovetores gerados."
      ]
    },
    {
      "cell_type": "code",
      "metadata": {
        "colab": {
          "base_uri": "https://localhost:8080/",
          "height": 567
        },
        "id": "gSaxLQFN6fTx",
        "outputId": "dd2d221d-bf25-4437-c812-f238e1999399"
      },
      "source": [
        "plt.figure(figsize=(10,8))\n",
        "\n",
        "plt.axis('equal')\n",
        "plt.plot(X_norm[:,0], X_norm[:,1], 'bo', alpha=0.5)\n",
        "\n",
        "K = 2\n",
        "for axis, color in zip(U[:K], ['yellow','green']):\n",
        "  start, end = np.zeros(2), (mu + sigma * axis)[:K] - (mu)[:K]\n",
        "  plt.annotate('', xy=end,xytext=start,\n",
        "               arrowprops=dict(facecolor=color, width=0.8))\n",
        "plt.title('Visualização dos autovetores - PCA')\n",
        "plt.legend(['Dados Normalizados'], loc=2)\n",
        "\n",
        "plt.axis('equal')"
      ],
      "execution_count": 12,
      "outputs": [
        {
          "output_type": "execute_result",
          "data": {
            "text/plain": [
              "(-2.6226554725605085,\n",
              " 1.8588310209460759,\n",
              " -2.3179210938856967,\n",
              " 2.5511398119504243)"
            ]
          },
          "metadata": {
            "tags": []
          },
          "execution_count": 12
        },
        {
          "output_type": "display_data",
          "data": {
            "image/png": "[encoded data removed]",
            "text/plain": [
              "<Figure size 720x576 with 1 Axes>"
            ]
          },
          "metadata": {
            "tags": [],
            "needs_background": "light"
          }
        }
      ]
    },
    {
      "cell_type": "markdown",
      "metadata": {
        "id": "6pB8-Q_I6jpg"
      },
      "source": [
        "###2.3.1 Projetando os dados nos componentes principais"
      ]
    },
    {
      "cell_type": "markdown",
      "metadata": {
        "id": "y-wPJfvA6m-c"
      },
      "source": [
        "Uso do PCA para projetar os dados para o novo espaço dimensional através da função `project_data`. Cada linha equivale à projeção de um exemplo bidimensional para o espaço unidimensional, definido neste exemplo pelo parâmetro $K=1$."
      ]
    },
    {
      "cell_type": "code",
      "metadata": {
        "colab": {
          "base_uri": "https://localhost:8080/"
        },
        "id": "OxKg2QXS6oym",
        "outputId": "0fcf6f38-d643-4262-9078-320fd8775840"
      },
      "source": [
        "def project_data(X, U, K):\n",
        "\tU_reduce = U[:, 0:K]\n",
        "\tZ = np.zeros((len(X), K))\n",
        "\tfor i in range(len(X)):\n",
        "\t\tx = X[i,:]\n",
        "\t\tprojection_k = np.dot(x, U_reduce)\n",
        "\t\tZ[i] = projection_k\n",
        "\treturn Z\n",
        "\n",
        "\n",
        "#Realizando a projeção\n",
        "K = 1\n",
        "Z = project_data(X_norm, U, K)\n",
        "\n",
        "#Exibindo as primeiras observações dos dados projetados\n",
        "Z[:10]"
      ],
      "execution_count": 13,
      "outputs": [
        {
          "output_type": "execute_result",
          "data": {
            "text/plain": [
              "array([[ 1.49631261],\n",
              "       [-0.92218067],\n",
              "       [ 1.22439232],\n",
              "       [ 1.64386173],\n",
              "       [ 1.2732206 ],\n",
              "       [-0.97681976],\n",
              "       [ 1.26881187],\n",
              "       [-2.34148278],\n",
              "       [-0.02999141],\n",
              "       [-0.78171789]])"
            ]
          },
          "metadata": {
            "tags": []
          },
          "execution_count": 13
        }
      ]
    },
    {
      "cell_type": "markdown",
      "metadata": {
        "id": "fVOS4x8q62LJ"
      },
      "source": [
        "###2.3.2 Reconstruindo uma aproximação dos dados"
      ]
    },
    {
      "cell_type": "markdown",
      "metadata": {
        "id": "2j01Ml-D64Ah"
      },
      "source": [
        "Realização do processo inverso para recuperar os dados do espaço unidimensional para o espaço dimensional original. Este tipo de processo ocorre com algum nível de perda, por isso, os valores projetados de volta para a dimensão original não serão necessariamente iguais aos valores que lhes deram origem."
      ]
    },
    {
      "cell_type": "code",
      "metadata": {
        "colab": {
          "base_uri": "https://localhost:8080/"
        },
        "id": "rKIcw-bA64fB",
        "outputId": "d137f170-956e-4348-e1b9-f618a02aa6ab"
      },
      "source": [
        "def recover_data(Z, U, K):\n",
        "\tX_rec = np.zeros((len(Z), len(U)))\n",
        "\tfor i in range(len(Z)):\n",
        "\t\tv = Z[i,:]\n",
        "\t\tfor j in range(np.size(U,1)):\n",
        "\t\t\trecovered_j = np.dot(v.T,U[j,0:K])\n",
        "\t\t\tX_rec[i][j] = recovered_j\n",
        "\treturn X_rec\n",
        "\n",
        "\n",
        "X_rec = recover_data(Z, U, K)\n",
        "#Exibindo as primeiras observações dos dados recuperados\n",
        "X_rec[:10]"
      ],
      "execution_count": 14,
      "outputs": [
        {
          "output_type": "execute_result",
          "data": {
            "text/plain": [
              "array([[-1.05805279, -1.05805279],\n",
              "       [ 0.65208021,  0.65208021],\n",
              "       [-0.86577611, -0.86577611],\n",
              "       [-1.16238578, -1.16238578],\n",
              "       [-0.90030292, -0.90030292],\n",
              "       [ 0.69071588,  0.69071588],\n",
              "       [-0.89718548, -0.89718548],\n",
              "       [ 1.65567835,  1.65567835],\n",
              "       [ 0.02120713,  0.02120713],\n",
              "       [ 0.55275802,  0.55275802]])"
            ]
          },
          "metadata": {
            "tags": []
          },
          "execution_count": 14
        }
      ]
    },
    {
      "cell_type": "markdown",
      "metadata": {
        "id": "1Wtl45Er7BqD"
      },
      "source": [
        "###2.3.3 Visualizando as projeções"
      ]
    },
    {
      "cell_type": "markdown",
      "metadata": {
        "id": "O6wLraoub4lb"
      },
      "source": [
        "Na visualização abaixo são exibidos em conjunto os dados originais normalizados e sua versão projetada do espaço bidimensional para o espaço unidimensional. O objetivo do PCA é com estes dados projetados para um novo espaço, utilizá-los em algoritmos de aprendizado de máquina nos quais a dimensão original não seja adequada."
      ]
    },
    {
      "cell_type": "code",
      "metadata": {
        "colab": {
          "base_uri": "https://localhost:8080/",
          "height": 567
        },
        "id": "5Nfxi1S-7CdH",
        "outputId": "c1dd3105-3589-4b14-9533-ad023f63c84b"
      },
      "source": [
        "plt.figure(figsize=(10,8))\n",
        "\n",
        "plt.plot(X_norm[:,0], X_norm[:,1], 'bo', alpha=0.5)\n",
        "plt.plot(X_rec[:,0], X_rec[:,1], 'rx')\n",
        "\n",
        "plt.title('Visualização da Projeção de Dados - PCA')\n",
        "plt.legend(['Dados Normalizados', 'Dados Projetados'], loc=2)\n",
        "\n",
        "plt.axis('equal')"
      ],
      "execution_count": 15,
      "outputs": [
        {
          "output_type": "execute_result",
          "data": {
            "text/plain": [
              "(-2.6226830356073587,\n",
              " 1.8594098449299337,\n",
              " -2.487155577529654,\n",
              " 2.5591985968858504)"
            ]
          },
          "metadata": {
            "tags": []
          },
          "execution_count": 15
        },
        {
          "output_type": "display_data",
          "data": {
            "image/png": "[encoded data removed]",
            "text/plain": [
              "<Figure size 720x576 with 1 Axes>"
            ]
          },
          "metadata": {
            "tags": [],
            "needs_background": "light"
          }
        }
      ]
    },
    {
      "cell_type": "markdown",
      "metadata": {
        "id": "6coCUwV6dcl3"
      },
      "source": [
        "#3 Versão simplificada PCA no Scikit-Learn"
      ]
    },
    {
      "cell_type": "markdown",
      "metadata": {
        "id": "cNmm49CAfUJ2"
      },
      "source": [
        "As células a seguir realizam de forma simplificada a criação e aplicação dos transformadores para normalizar e em seguida projetar os dados."
      ]
    },
    {
      "cell_type": "code",
      "metadata": {
        "id": "GDs9zgzadgZD"
      },
      "source": [
        "#Classe usada para criação o transformador\n",
        "from sklearn.decomposition import PCA\n",
        "#Criação do transformador\n",
        "pca = PCA(n_components=1)"
      ],
      "execution_count": 31,
      "outputs": []
    },
    {
      "cell_type": "code",
      "metadata": {
        "id": "PG1FWGJ-dnuh"
      },
      "source": [
        "#Normalização dos dados\n",
        "from sklearn.preprocessing import StandardScaler\n",
        "normalizar = StandardScaler()"
      ],
      "execution_count": 32,
      "outputs": []
    },
    {
      "cell_type": "code",
      "metadata": {
        "id": "WSfIwa7teCf0"
      },
      "source": [
        "#Aplicação da normalização\n",
        "X_norm_ = normalizar.fit_transform(X)"
      ],
      "execution_count": 33,
      "outputs": []
    },
    {
      "cell_type": "code",
      "metadata": {
        "id": "I_FiFiZMdkwG"
      },
      "source": [
        "#Aplicação do PCA\n",
        "Z_ = pca.fit_transform(X_norm)"
      ],
      "execution_count": 34,
      "outputs": []
    },
    {
      "cell_type": "markdown",
      "metadata": {
        "id": "bTJD6glKfLET"
      },
      "source": [
        "Como pode ser visto na conferência abaixo os resultados obtidos foram os mesmos da implementação do zero do algoritmo PCA constante na seção 2.3.1."
      ]
    },
    {
      "cell_type": "code",
      "metadata": {
        "colab": {
          "base_uri": "https://localhost:8080/"
        },
        "id": "r-BfzL5pev3b",
        "outputId": "c5c7c25c-fbca-4eec-ab62-2e33b4010a19"
      },
      "source": [
        "#Conferência dos dados\n",
        "Z_[:10]"
      ],
      "execution_count": 35,
      "outputs": [
        {
          "output_type": "execute_result",
          "data": {
            "text/plain": [
              "array([[ 1.49631261],\n",
              "       [-0.92218067],\n",
              "       [ 1.22439232],\n",
              "       [ 1.64386173],\n",
              "       [ 1.2732206 ],\n",
              "       [-0.97681976],\n",
              "       [ 1.26881187],\n",
              "       [-2.34148278],\n",
              "       [-0.02999141],\n",
              "       [-0.78171789]])"
            ]
          },
          "metadata": {
            "tags": []
          },
          "execution_count": 35
        }
      ]
    },
    {
      "cell_type": "markdown",
      "metadata": {
        "id": "q5tXnbvvflUn"
      },
      "source": [
        "Por fim, com a biblioteca `Scikit-Learn` este processo poderia ser ainda mais simplificado com a criação de um `Pipeline` para realizar as etapas em sequência, conforme demonstramos a seguir.\n",
        "\n",
        "**OBSERVAÇÃO:** Para executar esta versão sem a realização dos passos anteriores dessa seção, precisaríamos apenas adicionar a importação das classes `StandardScaler` e `PCA` antes de criar o pipeline."
      ]
    },
    {
      "cell_type": "code",
      "metadata": {
        "colab": {
          "base_uri": "https://localhost:8080/"
        },
        "id": "lkvXeX4ffyBc",
        "outputId": "20f4b211-9561-4bf9-ff89-8eadd920a1d9"
      },
      "source": [
        "#Criação do Pipelie\n",
        "from sklearn.pipeline import Pipeline\n",
        "pipeline = Pipeline([\n",
        "                     ('norm', StandardScaler()),\n",
        "                     ('pca', PCA(n_components=1))\n",
        "])\n",
        "\n",
        "#Execução do Pipeline\n",
        "Z_pip = pipeline.fit_transform(X_norm)\n",
        "\n",
        "#Conferência do resultado\n",
        "Z_pip[:10]"
      ],
      "execution_count": 36,
      "outputs": [
        {
          "output_type": "execute_result",
          "data": {
            "text/plain": [
              "array([[ 1.49631261],\n",
              "       [-0.92218067],\n",
              "       [ 1.22439232],\n",
              "       [ 1.64386173],\n",
              "       [ 1.2732206 ],\n",
              "       [-0.97681976],\n",
              "       [ 1.26881187],\n",
              "       [-2.34148278],\n",
              "       [-0.02999141],\n",
              "       [-0.78171789]])"
            ]
          },
          "metadata": {
            "tags": []
          },
          "execution_count": 36
        }
      ]
    },
    {
      "cell_type": "markdown",
      "metadata": {
        "id": "zDcgamAMhrsi"
      },
      "source": [
        "Também é possível usar a recuperação dos dados com o PCA usando o método `.inverse_transform`, conforme demonstrado abaixo."
      ]
    },
    {
      "cell_type": "code",
      "metadata": {
        "colab": {
          "base_uri": "https://localhost:8080/"
        },
        "id": "BRkU3VPGhryu",
        "outputId": "a76d6ed8-3d9d-44cf-a6fe-d6d6a1e01001"
      },
      "source": [
        "X_inv = pca.inverse_transform(Z_pip)\n",
        "X_inv[:10]"
      ],
      "execution_count": 37,
      "outputs": [
        {
          "output_type": "execute_result",
          "data": {
            "text/plain": [
              "array([[-1.05805279, -1.05805279],\n",
              "       [ 0.65208021,  0.65208021],\n",
              "       [-0.86577611, -0.86577611],\n",
              "       [-1.16238578, -1.16238578],\n",
              "       [-0.90030292, -0.90030292],\n",
              "       [ 0.69071588,  0.69071588],\n",
              "       [-0.89718548, -0.89718548],\n",
              "       [ 1.65567835,  1.65567835],\n",
              "       [ 0.02120713,  0.02120713],\n",
              "       [ 0.55275802,  0.55275802]])"
            ]
          },
          "metadata": {
            "tags": []
          },
          "execution_count": 37
        }
      ]
    },
    {
      "cell_type": "markdown",
      "metadata": {
        "id": "-UQJw1HbiD_u"
      },
      "source": [
        "Como demonstração final, visualizamos o mesmo gráfico usado na conclusão da implementação do zero para efeito de comparação."
      ]
    },
    {
      "cell_type": "code",
      "metadata": {
        "colab": {
          "base_uri": "https://localhost:8080/",
          "height": 567
        },
        "id": "zU5WaOplh8Qt",
        "outputId": "d250895e-3bad-4dcc-8713-775917f12f13"
      },
      "source": [
        "plt.figure(figsize=(10,8))\n",
        "\n",
        "plt.plot(X_norm_[:,0], X_norm_[:,1], 'bo', alpha=0.5)\n",
        "plt.plot(X_inv[:,0], X_rec[:,1], 'rx')\n",
        "\n",
        "plt.title('Visualização da Projeção de Dados - PCA no Scikit-Lear')\n",
        "plt.legend(['Dados Normalizados', 'Dados Projetados'], loc=2)\n",
        "\n",
        "plt.axis('equal')"
      ],
      "execution_count": 38,
      "outputs": [
        {
          "output_type": "execute_result",
          "data": {
            "text/plain": [
              "(-2.6226830356073587,\n",
              " 1.859409844929935,\n",
              " -2.487155577529654,\n",
              " 2.5591985968858504)"
            ]
          },
          "metadata": {
            "tags": []
          },
          "execution_count": 38
        },
        {
          "output_type": "display_data",
          "data": {
            "image/png": "[encoded data removed]",
            "text/plain": [
              "<Figure size 720x576 with 1 Axes>"
            ]
          },
          "metadata": {
            "tags": [],
            "needs_background": "light"
          }
        }
      ]
    },
    {
      "cell_type": "markdown",
      "metadata": {
        "id": "yW9Lw0W70SRg"
      },
      "source": [
        "#Referências e Links"
      ]
    },
    {
      "cell_type": "markdown",
      "metadata": {
        "id": "GgXQB_R20Izb"
      },
      "source": [
        "**Referências**\n",
        "\n",
        "Géron, Aurélien (2019). **Mãos à Obra Aprendizagem de Máquina com Scikit-Learn & TensorFlow:** Conceitos, ferramentas e técnicas para a construção de sistemas inteligentes. Traduzido por Rafael Contatori. Alta Books.\n",
        "\n",
        "Grus, Joel (2016). **Data Science do Zero:** Primeiras regras com Python. Traduzido por Welington Nascimento. Alta Books.\n",
        "\n",
        "McKinney, Wes (2018). **Python para Análise de Dados**: tratamento de dados com pandas, numpy e iPython. Traduzido por Lúcia A. Kinoshita. Novatec.\n",
        "\n",
        "---\n",
        "\n",
        "\n",
        "Conteúdos adicionais e explicações detalhadas do algoritmo em:\n",
        "Redução de Dimensionalidade: https://github.com/MLRG-CEFET-RJ/ml-class/blob/master/ml_ppcic_dim_reduc.ipynb\n",
        "\n",
        "Análise de Componentes Principais - PCA: https://pt.wikipedia.org/wiki/An%C3%A1lise_de_componentes_principais"
      ]
    }
  ]
}