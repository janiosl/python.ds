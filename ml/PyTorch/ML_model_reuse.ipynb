{
  "nbformat": 4,
  "nbformat_minor": 0,
  "metadata": {
    "colab": {
      "name": "ML_model_reuse.ipynb",
      "provenance": [],
      "authorship_tag": "ABX9TyMRlyS6ixvtxamSh0OglHNu",
      "include_colab_link": true
    },
    "kernelspec": {
      "name": "python3",
      "display_name": "Python 3"
    },
    "language_info": {
      "name": "python"
    }
  },
  "cells": [
    {
      "cell_type": "markdown",
      "metadata": {
        "id": "view-in-github",
        "colab_type": "text"
      },
      "source": [
        "<a href=\"https://colab.research.google.com/github/janiosl/python.ds/blob/master/ml/PyTorch/ML_model_reuse.ipynb\" target=\"_parent\"><img src=\"https://colab.research.google.com/assets/colab-badge.svg\" alt=\"Open In Colab\"/></a>"
      ]
    },
    {
      "cell_type": "code",
      "metadata": {
        "id": "JomPt14Pp882"
      },
      "source": [
        "from google.colab import drive"
      ],
      "execution_count": 1,
      "outputs": []
    },
    {
      "cell_type": "code",
      "metadata": {
        "colab": {
          "base_uri": "https://localhost:8080/"
        },
        "id": "sFIIw5ljqFk4",
        "outputId": "d3e5a124-f812-4ca6-be38-66f92dfc0185"
      },
      "source": [
        "#Conecta o Google Colab ao Google Drive\n",
        "drive.mount('/content/drive')"
      ],
      "execution_count": 2,
      "outputs": [
        {
          "output_type": "stream",
          "text": [
            "Drive already mounted at /content/drive; to attempt to forcibly remount, call drive.mount(\"/content/drive\", force_remount=True).\n"
          ],
          "name": "stdout"
        }
      ]
    },
    {
      "cell_type": "code",
      "metadata": {
        "id": "pd7OJZRHqHn8"
      },
      "source": [
        "#Define o path dos códigos e dados como diretório de trabalho atual\n",
        "###ALTERAR PARA O DIRETÓRIO DO SEU GOOGLE DRIVE OU LOCAL ALTERNATIVO\n",
        "import os\n",
        "dir = '/content/drive/My Drive/Mestrado PPCIC/03. Curso/3. Aprendizado/t3'\n",
        "os.chdir(dir)"
      ],
      "execution_count": 3,
      "outputs": []
    },
    {
      "cell_type": "code",
      "metadata": {
        "id": "CfrXKMmPqL47"
      },
      "source": [
        "##============================================\n",
        "##Preparação do Ambiente\n",
        "##============================================\n",
        "\n",
        "#Bibliotecas para carga e tratamento\n",
        "import pandas as pd\n",
        "import numpy as np\n",
        "\n",
        "\n",
        "#Importações do PyTorch para criação de modelos e preparação de variáveis\n",
        "import torch\n",
        "from torch.autograd import Variable\n",
        "\n",
        "\n",
        "#Biblioteca para cálculo das métricas de avaliação e tratamento dos datasets\n",
        "from sklearn.metrics import confusion_matrix, classification_report\n",
        "from sklearn.model_selection import train_test_split\n",
        "from sklearn.preprocessing import StandardScaler\n",
        "\n",
        "\n",
        "#Importações do PyTorch para criação da Rede Neural\n",
        "import torch.nn as nn\n",
        "import torch.nn.functional as F\n",
        "\n",
        "#Biblioteca para carga do modelo treinado\n",
        "import pickle"
      ],
      "execution_count": 4,
      "outputs": []
    },
    {
      "cell_type": "code",
      "metadata": {
        "id": "nodCLPaNrgWZ"
      },
      "source": [
        "#Definção dos títulos das colunas\n",
        "headers = ['ESCT', 'NDEP', 'RENDA', 'TIPOR', 'VBEM', 'NPARC',\n",
        "           'VPARC', 'TEL', 'IDADE', 'RESMS', 'ENTRADA', 'CLASSE']"
      ],
      "execution_count": 5,
      "outputs": []
    },
    {
      "cell_type": "code",
      "metadata": {
        "id": "KodhNC2iqTpn"
      },
      "source": [
        "#Carregar conjunto de dados para análise\n",
        "#Carga do conjunto de teste\n",
        "arquivo = 'https://raw.githubusercontent.com/MLRG-CEFET-RJ/ml-class/master/ml-t3/datasets/credtest.txt'\n",
        "data_test = pd.read_csv(arquivo, sep='\\t', header=None, names=headers)"
      ],
      "execution_count": 6,
      "outputs": []
    },
    {
      "cell_type": "code",
      "metadata": {
        "colab": {
          "base_uri": "https://localhost:8080/",
          "height": 204
        },
        "id": "Cg06DUN0qjWd",
        "outputId": "ffdc7b11-736c-4986-a1d3-03f9bf8420cb"
      },
      "source": [
        "#Usando a lógica estuda para recarregar os dados e refazer a separação\n",
        "data_test_ = pd.get_dummies(data=data_test,\n",
        "               prefix='ESCT',\n",
        "               columns=['ESCT'],\n",
        "               drop_first=True)\n",
        "\n",
        "data_test_.head()"
      ],
      "execution_count": 7,
      "outputs": [
        {
          "output_type": "execute_result",
          "data": {
            "text/html": [
              "<div>\n",
              "<style scoped>\n",
              "    .dataframe tbody tr th:only-of-type {\n",
              "        vertical-align: middle;\n",
              "    }\n",
              "\n",
              "    .dataframe tbody tr th {\n",
              "        vertical-align: top;\n",
              "    }\n",
              "\n",
              "    .dataframe thead th {\n",
              "        text-align: right;\n",
              "    }\n",
              "</style>\n",
              "<table border=\"1\" class=\"dataframe\">\n",
              "  <thead>\n",
              "    <tr style=\"text-align: right;\">\n",
              "      <th></th>\n",
              "      <th>NDEP</th>\n",
              "      <th>RENDA</th>\n",
              "      <th>TIPOR</th>\n",
              "      <th>VBEM</th>\n",
              "      <th>NPARC</th>\n",
              "      <th>VPARC</th>\n",
              "      <th>TEL</th>\n",
              "      <th>IDADE</th>\n",
              "      <th>RESMS</th>\n",
              "      <th>ENTRADA</th>\n",
              "      <th>CLASSE</th>\n",
              "      <th>ESCT_1</th>\n",
              "      <th>ESCT_2</th>\n",
              "      <th>ESCT_3</th>\n",
              "    </tr>\n",
              "  </thead>\n",
              "  <tbody>\n",
              "    <tr>\n",
              "      <th>0</th>\n",
              "      <td>2</td>\n",
              "      <td>500</td>\n",
              "      <td>1</td>\n",
              "      <td>618</td>\n",
              "      <td>10</td>\n",
              "      <td>85</td>\n",
              "      <td>0</td>\n",
              "      <td>36</td>\n",
              "      <td>6</td>\n",
              "      <td>0</td>\n",
              "      <td>0</td>\n",
              "      <td>0</td>\n",
              "      <td>0</td>\n",
              "      <td>0</td>\n",
              "    </tr>\n",
              "    <tr>\n",
              "      <th>1</th>\n",
              "      <td>0</td>\n",
              "      <td>813</td>\n",
              "      <td>0</td>\n",
              "      <td>552</td>\n",
              "      <td>4</td>\n",
              "      <td>119</td>\n",
              "      <td>0</td>\n",
              "      <td>43</td>\n",
              "      <td>48</td>\n",
              "      <td>119</td>\n",
              "      <td>1</td>\n",
              "      <td>1</td>\n",
              "      <td>0</td>\n",
              "      <td>0</td>\n",
              "    </tr>\n",
              "    <tr>\n",
              "      <th>2</th>\n",
              "      <td>0</td>\n",
              "      <td>350</td>\n",
              "      <td>0</td>\n",
              "      <td>488</td>\n",
              "      <td>12</td>\n",
              "      <td>66</td>\n",
              "      <td>0</td>\n",
              "      <td>43</td>\n",
              "      <td>0</td>\n",
              "      <td>0</td>\n",
              "      <td>1</td>\n",
              "      <td>0</td>\n",
              "      <td>0</td>\n",
              "      <td>1</td>\n",
              "    </tr>\n",
              "    <tr>\n",
              "      <th>3</th>\n",
              "      <td>0</td>\n",
              "      <td>1530</td>\n",
              "      <td>0</td>\n",
              "      <td>381</td>\n",
              "      <td>1</td>\n",
              "      <td>398</td>\n",
              "      <td>0</td>\n",
              "      <td>28</td>\n",
              "      <td>48</td>\n",
              "      <td>0</td>\n",
              "      <td>1</td>\n",
              "      <td>1</td>\n",
              "      <td>0</td>\n",
              "      <td>0</td>\n",
              "    </tr>\n",
              "    <tr>\n",
              "      <th>4</th>\n",
              "      <td>0</td>\n",
              "      <td>688</td>\n",
              "      <td>1</td>\n",
              "      <td>396</td>\n",
              "      <td>10</td>\n",
              "      <td>60</td>\n",
              "      <td>0</td>\n",
              "      <td>49</td>\n",
              "      <td>72</td>\n",
              "      <td>0</td>\n",
              "      <td>1</td>\n",
              "      <td>0</td>\n",
              "      <td>0</td>\n",
              "      <td>0</td>\n",
              "    </tr>\n",
              "  </tbody>\n",
              "</table>\n",
              "</div>"
            ],
            "text/plain": [
              "   NDEP  RENDA  TIPOR  VBEM  NPARC  ...  ENTRADA  CLASSE  ESCT_1  ESCT_2  ESCT_3\n",
              "0     2    500      1   618     10  ...        0       0       0       0       0\n",
              "1     0    813      0   552      4  ...      119       1       1       0       0\n",
              "2     0    350      0   488     12  ...        0       1       0       0       1\n",
              "3     0   1530      0   381      1  ...        0       1       1       0       0\n",
              "4     0    688      1   396     10  ...        0       1       0       0       0\n",
              "\n",
              "[5 rows x 14 columns]"
            ]
          },
          "metadata": {
            "tags": []
          },
          "execution_count": 7
        }
      ]
    },
    {
      "cell_type": "code",
      "metadata": {
        "id": "Pd2_VKQNqnWv"
      },
      "source": [
        "#Transformação dos atributos e da classe alvo em matrizes\n",
        "y_test = np.array(data_test['CLASSE'])"
      ],
      "execution_count": 8,
      "outputs": []
    },
    {
      "cell_type": "code",
      "metadata": {
        "id": "BjPmMIBPqqnh"
      },
      "source": [
        "#Separação dos atributos precisa atentar que a ordem das colunas mudou\n",
        "##=============================================================================\n",
        "\n",
        "#Recuperação dos nomes das colunas\n",
        "atributos = list(data_test_.columns)\n",
        "\n",
        "#Eliminação da colunas com a classe na lista de atributos\n",
        "atributos.remove('CLASSE')"
      ],
      "execution_count": 9,
      "outputs": []
    },
    {
      "cell_type": "code",
      "metadata": {
        "id": "gzT3hs91quYe"
      },
      "source": [
        "#Transformação dos atributos e da classe alvo em matrizes\n",
        "X_test = np.array(data_test_.loc[:, atributos])"
      ],
      "execution_count": 10,
      "outputs": []
    },
    {
      "cell_type": "code",
      "metadata": {
        "id": "HgqIZ3PZqxxV"
      },
      "source": [
        "#Criação do transformador para noramlização\n",
        "norm = StandardScaler()\n",
        "\n",
        "#Normalização das características\n",
        "X_test = norm.fit_transform(X_test)"
      ],
      "execution_count": 11,
      "outputs": []
    },
    {
      "cell_type": "code",
      "metadata": {
        "id": "s65q6tsdq1yO"
      },
      "source": [
        "#Atributos e classes de teste\n",
        "X_test = Variable(torch.Tensor(X_test).float())\n",
        "y_test = Variable(torch.Tensor(y_test).long())"
      ],
      "execution_count": 12,
      "outputs": []
    },
    {
      "cell_type": "code",
      "metadata": {
        "colab": {
          "base_uri": "https://localhost:8080/"
        },
        "id": "UGWeFlVZr2q0",
        "outputId": "60fca64f-7b4e-4110-abfb-2e76836c9cb2"
      },
      "source": [
        "#Instalação da biblioteca para integração da sintonização no Pythorch\n",
        "!pip install skorch\n",
        "\n",
        "#Biblioteca para adaptação sintonização de Hiperparâmetro ao Pytorch\n",
        "from skorch import NeuralNetClassifier\n",
        "#Biblioteca para sintonização de Hiperparâmetro\n",
        "from sklearn.model_selection import GridSearchCV"
      ],
      "execution_count": 13,
      "outputs": [
        {
          "output_type": "stream",
          "text": [
            "Requirement already satisfied: skorch in /usr/local/lib/python3.7/dist-packages (0.10.0)\n",
            "Requirement already satisfied: scipy>=1.1.0 in /usr/local/lib/python3.7/dist-packages (from skorch) (1.4.1)\n",
            "Requirement already satisfied: scikit-learn>=0.19.1 in /usr/local/lib/python3.7/dist-packages (from skorch) (0.22.2.post1)\n",
            "Requirement already satisfied: tabulate>=0.7.7 in /usr/local/lib/python3.7/dist-packages (from skorch) (0.8.9)\n",
            "Requirement already satisfied: numpy>=1.13.3 in /usr/local/lib/python3.7/dist-packages (from skorch) (1.19.5)\n",
            "Requirement already satisfied: tqdm>=4.14.0 in /usr/local/lib/python3.7/dist-packages (from skorch) (4.41.1)\n",
            "Requirement already satisfied: joblib>=0.11 in /usr/local/lib/python3.7/dist-packages (from scikit-learn>=0.19.1->skorch) (1.0.1)\n"
          ],
          "name": "stdout"
        }
      ]
    },
    {
      "cell_type": "code",
      "metadata": {
        "id": "N3kLz4OetvMR"
      },
      "source": [
        "#Apontar para sua rede neural\n",
        "#O pickle carregar o modelo treinado, mas a classe original é necessária\n",
        "#Exemplo disponível em:\n",
        "# https://github.com/janiosl/python.ds/blob/master/ml/PyTorch/ML_PyTorch_MLP.py\n",
        "from rna.ML_PyTorch_MLP import Net_"
      ],
      "execution_count": 14,
      "outputs": []
    },
    {
      "cell_type": "code",
      "metadata": {
        "colab": {
          "base_uri": "https://localhost:8080/"
        },
        "id": "mWKzyrm5qPCe",
        "outputId": "794acd49-d4be-436e-f00e-a76f768bf5a1"
      },
      "source": [
        "#Carregar modelo armazenado\n",
        "with open('target/JANIO_T3_MLP_GS.pkl', 'rb') as f:\n",
        "    model = pickle.load(f)\n",
        "\n",
        "\n",
        "print('Modelo salvo\\nPara usar, basta reativar o código acima')"
      ],
      "execution_count": 15,
      "outputs": [
        {
          "output_type": "stream",
          "text": [
            "Modelo salvo\n",
            "Para usar, basta reativar o código acima\n"
          ],
          "name": "stdout"
        }
      ]
    },
    {
      "cell_type": "code",
      "metadata": {
        "colab": {
          "base_uri": "https://localhost:8080/"
        },
        "id": "oi7gsp7xqWTJ",
        "outputId": "0907f11a-d1e9-4e38-e1ab-dedd2db399d1"
      },
      "source": [
        "#Aplicar o modelo carregado para realizar predições\n",
        "\n",
        "#Predição no conjunto de testes\n",
        "y_pred = model.predict(X_test)\n",
        "\n",
        "#Avaliação Final da Rede Neural nos dados de teste\n",
        "\n",
        "#Matriz de confusão\n",
        "print('Matriz de confusão')\n",
        "print(confusion_matrix(y_test.data, y_pred))\n",
        "\n",
        "#Relatório de avaliação da classificação\n",
        "print('-' * 60, end='\\n\\n')\n",
        "print('Relatório de avaliação da classificação')\n",
        "print(classification_report(y_test.data, y_pred,\n",
        "                            zero_division=0))"
      ],
      "execution_count": 16,
      "outputs": [
        {
          "output_type": "stream",
          "text": [
            "Matriz de confusão\n",
            "[[301   5]\n",
            " [ 49 222]]\n",
            "------------------------------------------------------------\n",
            "\n",
            "Relatório de avaliação da classificação\n",
            "              precision    recall  f1-score   support\n",
            "\n",
            "           0       0.86      0.98      0.92       306\n",
            "           1       0.98      0.82      0.89       271\n",
            "\n",
            "    accuracy                           0.91       577\n",
            "   macro avg       0.92      0.90      0.90       577\n",
            "weighted avg       0.92      0.91      0.91       577\n",
            "\n"
          ],
          "name": "stdout"
        }
      ]
    }
  ]
}