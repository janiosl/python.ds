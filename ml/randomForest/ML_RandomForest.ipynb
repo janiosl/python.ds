{
  "nbformat": 4,
  "nbformat_minor": 0,
  "metadata": {
    "colab": {
      "name": "ML_RandomForest.ipynb",
      "provenance": [],
      "collapsed_sections": [],
      "toc_visible": true
    },
    "kernelspec": {
      "name": "python3",
      "display_name": "Python 3"
    },
    "language_info": {
      "name": "python"
    }
  },
  "cells": [
    {
      "cell_type": "markdown",
      "metadata": {
        "id": "DGotfxJeplb4"
      },
      "source": [
        "#CEFET/RJ\n",
        "\n",
        "**PPCIC - Programa de Pós-Graduação em Ciência da Computação**\n",
        "\n",
        "**Mestrado em Ciência da Computação**\n",
        "\n",
        "---\n",
        "\n",
        "**Random Forests: Florestas Aleatórias**\n",
        "\n",
        "**Disciplina**: Aprendizado de Máquina\n",
        "\n",
        "**Professor**: Eduardo Bezerra\n",
        "\n",
        "**Aluno**: Janio de Souza Lima"
      ]
    },
    {
      "cell_type": "markdown",
      "metadata": {
        "id": "uSrmFKgQpuJu"
      },
      "source": [
        "#1 O que são Florestas Aleatórias?"
      ]
    },
    {
      "cell_type": "markdown",
      "metadata": {
        "id": "YzutIW4Oq6Px"
      },
      "source": [
        "*Random Forests* é um método [ensemble learning](https://github.com/janiosl/python.ds/blob/master/ml/ensemble/ML_EnsembleLearning.ipynb) baseado em [Decision Trees](https://github.com/janiosl/python.ds/blob/master/ml/dTree/ML_DecisionTrees.ipynb), ou seja, o algoritmo é construído com base no treinamento de diversas árvores de decisão. As árvores individuais normalmente são treinadas em diferentes conjuntos de treinamento dos dados originais usando a técnica de *bagging* que realiza amostragens aleatórias sem reposição. Também é possível criar florestas aleatórias usando conjuntos de combinações lineares aleatórias dos atributos originais  [Han, 2012].\n",
        "\n",
        "![random forest](https://upload.wikimedia.org/wikipedia/commons/7/76/Random_forest_diagram_complete.png)\n",
        "\n",
        "Figura 1 - Ilustração de uma floresta aleatória ([Wikipedia](https://en.wikipedia.org/wiki/Random_forest))\n",
        "\n"
      ]
    },
    {
      "cell_type": "markdown",
      "metadata": {
        "id": "IA4LmB4Wp2a_"
      },
      "source": [
        "##1.1 Implementação do Algoritmo com Scikit-Learn"
      ]
    },
    {
      "cell_type": "code",
      "metadata": {
        "id": "6p7dk1qU2H_8"
      },
      "source": [
        "#Carga do conjunto de dados\n",
        "from sklearn.model_selection import train_test_split\n",
        "from sklearn.datasets import make_moons\n",
        "\n",
        "X, y = make_moons(n_samples=500, noise=0.30, random_state=42)\n",
        "X_train, X_test, y_train, y_test = train_test_split(X, y, random_state=42)"
      ],
      "execution_count": null,
      "outputs": []
    },
    {
      "cell_type": "code",
      "metadata": {
        "id": "JCidGKqopge1"
      },
      "source": [
        "#Criação do objeto com o algoritmo RandomForestClassifier\n",
        "from sklearn.ensemble import RandomForestClassifier\n",
        "\n",
        "rnd_clf = RandomForestClassifier(n_estimators=500,\n",
        "                                 max_leaf_nodes=16,\n",
        "                                 n_jobs=-1)"
      ],
      "execution_count": null,
      "outputs": []
    },
    {
      "cell_type": "markdown",
      "metadata": {
        "id": "bzoQYYW05XKa"
      },
      "source": [
        "Além da implementação acima, a floresta aletória também pode ser construída usado o *bagging classifier* da forma abaixo, obtendo os mesmos resultados."
      ]
    },
    {
      "cell_type": "code",
      "metadata": {
        "id": "UIi2c27o5ixe"
      },
      "source": [
        "#Criação do modelo\n",
        "from sklearn.ensemble import BaggingClassifier\n",
        "from sklearn.tree import DecisionTreeClassifier\n",
        "\n",
        "bag_clf = BaggingClassifier(\n",
        "    DecisionTreeClassifier(splitter='random', max_leaf_nodes=16),\n",
        "    n_estimators=500,\n",
        "    max_samples=1.0,\n",
        "    bootstrap=True,\n",
        "    random_state=42)"
      ],
      "execution_count": null,
      "outputs": []
    },
    {
      "cell_type": "markdown",
      "metadata": {
        "id": "ryOYoM5rpynq"
      },
      "source": [
        "#2 Treinamento, Aplicação e Avaliação do Modelo"
      ]
    },
    {
      "cell_type": "markdown",
      "metadata": {
        "id": "PK5ocIRMp8Rr"
      },
      "source": [
        "##2.1 Treinamento e realização de predições"
      ]
    },
    {
      "cell_type": "code",
      "metadata": {
        "colab": {
          "base_uri": "https://localhost:8080/"
        },
        "id": "MWs4pAAMp_Hj",
        "outputId": "d03fb4fc-55a4-47ef-8b15-d67d51949b1a"
      },
      "source": [
        "#Treinamento do modelo\n",
        "rnd_clf.fit(X_train, y_train)"
      ],
      "execution_count": null,
      "outputs": [
        {
          "output_type": "execute_result",
          "data": {
            "text/plain": [
              "RandomForestClassifier(bootstrap=True, ccp_alpha=0.0, class_weight=None,\n",
              "                       criterion='gini', max_depth=None, max_features='auto',\n",
              "                       max_leaf_nodes=16, max_samples=None,\n",
              "                       min_impurity_decrease=0.0, min_impurity_split=None,\n",
              "                       min_samples_leaf=1, min_samples_split=2,\n",
              "                       min_weight_fraction_leaf=0.0, n_estimators=500,\n",
              "                       n_jobs=-1, oob_score=False, random_state=None, verbose=0,\n",
              "                       warm_start=False)"
            ]
          },
          "metadata": {
            "tags": []
          },
          "execution_count": 5
        }
      ]
    },
    {
      "cell_type": "code",
      "metadata": {
        "id": "Q8-XaoTX3K66"
      },
      "source": [
        "#Predições\n",
        "y_pred_rf = rnd_clf.predict(X_test)"
      ],
      "execution_count": null,
      "outputs": []
    },
    {
      "cell_type": "code",
      "metadata": {
        "colab": {
          "base_uri": "https://localhost:8080/"
        },
        "id": "Y3YlV5b83UP8",
        "outputId": "ee31f94b-0854-4128-f075-00b8b6ceade5"
      },
      "source": [
        "#Conferência dos resultados\n",
        "y_pred_rf"
      ],
      "execution_count": null,
      "outputs": [
        {
          "output_type": "execute_result",
          "data": {
            "text/plain": [
              "array([0, 0, 0, 1, 1, 1, 0, 0, 0, 0, 1, 0, 1, 1, 1, 0, 0, 1, 1, 0, 0, 1,\n",
              "       0, 0, 0, 0, 1, 0, 1, 0, 1, 1, 0, 0, 1, 0, 0, 1, 1, 1, 1, 1, 0, 0,\n",
              "       0, 0, 1, 0, 1, 0, 1, 1, 0, 0, 1, 0, 1, 1, 0, 1, 0, 1, 1, 0, 1, 0,\n",
              "       0, 0, 0, 1, 0, 0, 1, 1, 0, 0, 1, 1, 0, 0, 1, 1, 1, 0, 1, 1, 1, 0,\n",
              "       1, 1, 1, 0, 0, 0, 0, 1, 0, 1, 0, 1, 0, 1, 1, 0, 0, 0, 0, 0, 1, 1,\n",
              "       1, 0, 0, 1, 0, 0, 0, 0, 0, 1, 1, 1, 0, 0, 0])"
            ]
          },
          "metadata": {
            "tags": []
          },
          "execution_count": 7
        }
      ]
    },
    {
      "cell_type": "markdown",
      "metadata": {
        "id": "xpDU7AJP4A17"
      },
      "source": [
        "##2.2 Avaliação dos resultados do modelo treinado"
      ]
    },
    {
      "cell_type": "code",
      "metadata": {
        "colab": {
          "base_uri": "https://localhost:8080/"
        },
        "id": "aMtw5WvV3V_G",
        "outputId": "89b4951f-69d7-448d-e35e-f22524da1e02"
      },
      "source": [
        "#Geração do relatório de avaliação da classificação\n",
        "from sklearn.metrics import classification_report\n",
        "print(classification_report(y_test, y_pred_rf))"
      ],
      "execution_count": null,
      "outputs": [
        {
          "output_type": "stream",
          "text": [
            "              precision    recall  f1-score   support\n",
            "\n",
            "           0       0.87      0.97      0.91        61\n",
            "           1       0.96      0.86      0.91        64\n",
            "\n",
            "    accuracy                           0.91       125\n",
            "   macro avg       0.92      0.91      0.91       125\n",
            "weighted avg       0.92      0.91      0.91       125\n",
            "\n"
          ],
          "name": "stdout"
        }
      ]
    },
    {
      "cell_type": "markdown",
      "metadata": {
        "id": "6FYrtDc76j_p"
      },
      "source": [
        "Abaixo realizamos o treinamento e predição usando a implementação com o *bagging classifier* criado na etapa anterior para comparação dos resultados."
      ]
    },
    {
      "cell_type": "code",
      "metadata": {
        "colab": {
          "base_uri": "https://localhost:8080/"
        },
        "id": "q9ihgmR86Uvf",
        "outputId": "e4798cd8-a5fa-4c23-bd82-735d7c03cc68"
      },
      "source": [
        "bag_clf.fit(X_train, y_train)"
      ],
      "execution_count": null,
      "outputs": [
        {
          "output_type": "execute_result",
          "data": {
            "text/plain": [
              "BaggingClassifier(base_estimator=DecisionTreeClassifier(ccp_alpha=0.0,\n",
              "                                                        class_weight=None,\n",
              "                                                        criterion='gini',\n",
              "                                                        max_depth=None,\n",
              "                                                        max_features=None,\n",
              "                                                        max_leaf_nodes=16,\n",
              "                                                        min_impurity_decrease=0.0,\n",
              "                                                        min_impurity_split=None,\n",
              "                                                        min_samples_leaf=1,\n",
              "                                                        min_samples_split=2,\n",
              "                                                        min_weight_fraction_leaf=0.0,\n",
              "                                                        presort='deprecated',\n",
              "                                                        random_state=None,\n",
              "                                                        splitter='random'),\n",
              "                  bootstrap=True, bootstrap_features=False, max_features=1.0,\n",
              "                  max_samples=1.0, n_estimators=500, n_jobs=None,\n",
              "                  oob_score=False, random_state=42, verbose=0,\n",
              "                  warm_start=False)"
            ]
          },
          "metadata": {
            "tags": []
          },
          "execution_count": 12
        }
      ]
    },
    {
      "cell_type": "code",
      "metadata": {
        "colab": {
          "base_uri": "https://localhost:8080/"
        },
        "id": "X5NOjES_6EqS",
        "outputId": "7c9e0e55-6feb-49fd-9f4a-4566f7c41bfb"
      },
      "source": [
        "y_pred_bag = bag_clf.predict(X_test)\n",
        "print(classification_report(y_test, y_pred_bag))"
      ],
      "execution_count": null,
      "outputs": [
        {
          "output_type": "stream",
          "text": [
            "              precision    recall  f1-score   support\n",
            "\n",
            "           0       0.88      0.97      0.92        61\n",
            "           1       0.97      0.88      0.92        64\n",
            "\n",
            "    accuracy                           0.92       125\n",
            "   macro avg       0.92      0.92      0.92       125\n",
            "weighted avg       0.92      0.92      0.92       125\n",
            "\n"
          ],
          "name": "stdout"
        }
      ]
    },
    {
      "cell_type": "markdown",
      "metadata": {
        "id": "bhpPTsfLAfoe"
      },
      "source": [
        "#3 Avaliação de importância de características"
      ]
    },
    {
      "cell_type": "markdown",
      "metadata": {
        "id": "HFirJncnAmPC"
      },
      "source": [
        "É possível usar uma *random forest* para avaliar o peso das características. O código abaixo realiza esta tarefa"
      ]
    },
    {
      "cell_type": "code",
      "metadata": {
        "id": "vtv1EVwEAlQ5"
      },
      "source": [
        "#Carga dos dados de exemplo\n",
        "from sklearn.datasets import load_iris\n",
        "iris = load_iris()"
      ],
      "execution_count": null,
      "outputs": []
    },
    {
      "cell_type": "code",
      "metadata": {
        "colab": {
          "base_uri": "https://localhost:8080/"
        },
        "id": "_Q4nrWhzBCej",
        "outputId": "5d60bcbf-d70b-4c88-cb8c-25b77d89a2a8"
      },
      "source": [
        "#Criação e treinamento do modelo\n",
        "rnd_clf = RandomForestClassifier(n_estimators=500, n_jobs=-1)\n",
        "rnd_clf.fit(iris['data'], iris['target'])"
      ],
      "execution_count": null,
      "outputs": [
        {
          "output_type": "execute_result",
          "data": {
            "text/plain": [
              "RandomForestClassifier(bootstrap=True, ccp_alpha=0.0, class_weight=None,\n",
              "                       criterion='gini', max_depth=None, max_features='auto',\n",
              "                       max_leaf_nodes=None, max_samples=None,\n",
              "                       min_impurity_decrease=0.0, min_impurity_split=None,\n",
              "                       min_samples_leaf=1, min_samples_split=2,\n",
              "                       min_weight_fraction_leaf=0.0, n_estimators=500,\n",
              "                       n_jobs=-1, oob_score=False, random_state=None, verbose=0,\n",
              "                       warm_start=False)"
            ]
          },
          "metadata": {
            "tags": []
          },
          "execution_count": 16
        }
      ]
    },
    {
      "cell_type": "markdown",
      "metadata": {
        "id": "Sc7_VLGLBmRc"
      },
      "source": [
        "Exibição dos atributos e sua respectiva importância para o modelo treinado."
      ]
    },
    {
      "cell_type": "code",
      "metadata": {
        "colab": {
          "base_uri": "https://localhost:8080/"
        },
        "id": "X-ZbWnjgBZTU",
        "outputId": "c37fa712-f401-4308-f581-5e3528870919"
      },
      "source": [
        "for name, score in zip(iris['feature_names'], rnd_clf.feature_importances_):\n",
        "  print(name, score)"
      ],
      "execution_count": null,
      "outputs": [
        {
          "output_type": "stream",
          "text": [
            "sepal length (cm) 0.10902096547886679\n",
            "sepal width (cm) 0.023197950248631857\n",
            "petal length (cm) 0.4273193040324781\n",
            "petal width (cm) 0.44046178024002314\n"
          ],
          "name": "stdout"
        }
      ]
    },
    {
      "cell_type": "markdown",
      "metadata": {
        "id": "_Iu2XNROqFJn"
      },
      "source": [
        "#Referências e Links"
      ]
    },
    {
      "cell_type": "markdown",
      "metadata": {
        "id": "b8ptzjVwqJFu"
      },
      "source": [
        "**Referências**\n",
        "\n",
        "Han, Jiawei. Kamber, Micheline. Pei, Jian (2012) **Data Mining:** Concepts and techniques. Morgan Kaufmann, 3rd Edition.\n",
        "\n",
        "McKinney, Wes (2018). **Python para Análise de Dados**: tratamento de dados com pandas, numpy e iPython. Traduzido por Lúcia A. Kinoshita. Novatec.\n",
        "\n",
        "Géron, Aurélien (2019). **Mãos à Obra Aprendizagem de Máquina com Scikit-Learn & TensorFlow:** Conceitos, ferramentas e técnicas para a construção de sistemas inteligentes. Traduzido por Rafael Contatori. Alta Books.\n",
        "\n",
        "Grus, Joel (2016). **Data Science do Zero:** Primeiras regras com Python. Traduzido por Welington Nascimento. Alta Books.\n",
        "\n",
        "---\n",
        "Conteúdos adicionais e explicações detalhadas do algoritmo em:\n",
        "\n",
        "https://github.com/ageron/handson-ml2/blob/master/07_ensemble_learning_and_random_forests.ipynb\n",
        "\n",
        "https://github.com/janiosl/python.ds/blob/master/ml/ensemble/ML_EnsembleLearning.ipynb\n",
        "\n",
        "https://github.com/janiosl/python.ds/blob/master/ml/dTree/ML_DecisionTrees.ipynb\n",
        "\n",
        "https://en.wikipedia.org/wiki/Random_forest"
      ]
    }
  ]
}