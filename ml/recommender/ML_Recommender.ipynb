{
  "nbformat": 4,
  "nbformat_minor": 0,
  "metadata": {
    "colab": {
      "name": "ML_Recommender.ipynb",
      "provenance": [],
      "collapsed_sections": [],
      "toc_visible": true
    },
    "kernelspec": {
      "name": "python3",
      "display_name": "Python 3"
    },
    "language_info": {
      "name": "python"
    }
  },
  "cells": [
    {
      "cell_type": "markdown",
      "metadata": {
        "id": "h08PjlazFDVh"
      },
      "source": [
        "#CEFET/RJ\n",
        "\n",
        "**PPCIC - Programa de Pós-Graduação em Ciência da Computação**\n",
        "\n",
        "**Mestrado em Ciência da Computação**\n",
        "\n",
        "---\n",
        "\n",
        "**Sistemas de Recomendação**\n",
        "\n",
        "**Disciplina**: Aprendizado de Máquina\n",
        "\n",
        "**Professor**: Eduardo Bezerra\n",
        "\n",
        "**Aluno**: Janio de Souza Lima"
      ]
    },
    {
      "cell_type": "markdown",
      "metadata": {
        "id": "IeCt3lX9FIBK"
      },
      "source": [
        "#1 Métodos simplificados de recomendação"
      ]
    },
    {
      "cell_type": "markdown",
      "metadata": {
        "id": "PoN37PZaFL8B"
      },
      "source": [
        "##1.1 Recomendação pela popularidade"
      ]
    },
    {
      "cell_type": "markdown",
      "metadata": {
        "id": "-eKfzEz3KQPX"
      },
      "source": [
        "Nesse primeiro exemplo, usaremos um conjunto de dados hipotéticos de assuntos de interesse de usuários que serão identificado pela sua posição na lista e em que cada lista interna representa os assuntos de interesse desse usuário. Por exemplo o usuário na primeira posição (`users_interests[0]`) é interessado nos assuntos da lista `['Hadoop', 'Big Data', 'HBase', 'Java', 'Spark', 'Storm', 'Cassandra']`. Com base na frequência de interesses será analisada a popularidade dos assuntos, realizadas duas formas simplificadas de recomendação e implementadas outras formas mais avançadas nas próximas seções [Grus, 2016]."
      ]
    },
    {
      "cell_type": "code",
      "metadata": {
        "id": "BZTOlhR2HBH2"
      },
      "source": [
        "import math\n",
        "from collections import Counter, defaultdict"
      ],
      "execution_count": null,
      "outputs": []
    },
    {
      "cell_type": "code",
      "metadata": {
        "id": "FHMnvACNE0Wv"
      },
      "source": [
        "#Dados de exemplo - Assuntos de interesse de Cientistas de Dados\n",
        "users_interests = [\n",
        "    ['Hadoop', 'Big Data', 'HBase', 'Java', 'Spark', 'Storm', 'Cassandra'],\n",
        "    ['NoSQL', 'MongoDB', 'Cassandra', 'HBase', 'Postgres'],\n",
        "    ['Python', 'scikit-learn', 'scipy', 'numpy', 'statsmodels', 'pandas'],\n",
        "    ['R', 'Python', 'statistics', 'regression', 'probability'],\n",
        "    ['machine learning', 'regression', 'decision trees', 'libsvm'],\n",
        "    ['Python', 'R', 'Java', 'C++', 'Haskell', 'programming languages'],\n",
        "    ['statistics', 'probability', 'mathematics', 'theory'],\n",
        "    ['machine learning', 'scikit-learn', 'Mahout', 'neural networks'],\n",
        "    ['neural networks', 'deep learning', 'Big Data', 'artificial intelligence'],\n",
        "    ['Hadoop', 'Java', 'MapReduce', 'Big Data'],\n",
        "    ['statistics', 'R', 'statsmodels'],\n",
        "    ['C++', 'deep learning', 'artificial intelligence', 'probability'],\n",
        "    ['pandas', 'R', 'Python'],\n",
        "    ['databases', 'HBase', 'Postgres', 'MySQL', 'MongoDB'],\n",
        "    ['libsvm', 'regression', 'support vector machines']\n",
        "]"
      ],
      "execution_count": null,
      "outputs": []
    },
    {
      "cell_type": "code",
      "metadata": {
        "id": "61jv9a_xG20e"
      },
      "source": [
        "#Definição de assuntos mais populares\n",
        "popular_interests = Counter(interest\n",
        "                            for user_interests in users_interests\n",
        "                            for interest in user_interests).most_common()"
      ],
      "execution_count": null,
      "outputs": []
    },
    {
      "cell_type": "markdown",
      "metadata": {
        "id": "jTdhvvw8LjCw"
      },
      "source": [
        "A primeira recomendação, que seria possível por exemplo para um usuário novo para o qual não se tem nenhum conhecimento sobre seus assuntos de interesse, é a recomendação direta dos assuntos mais populares da lista."
      ]
    },
    {
      "cell_type": "code",
      "metadata": {
        "colab": {
          "base_uri": "https://localhost:8080/"
        },
        "id": "G2dHdQL6IfxL",
        "outputId": "cc0c0da7-bec6-47bd-99d0-b9ddafb6b2e5"
      },
      "source": [
        "#Recomendação simplificada sem considerar interesses do usuário\n",
        "n_recomendacoes = 5\n",
        "popular_interests[0:n_recomendacoes]"
      ],
      "execution_count": null,
      "outputs": [
        {
          "output_type": "execute_result",
          "data": {
            "text/plain": [
              "[('Python', 4), ('R', 4), ('Big Data', 3), ('HBase', 3), ('Java', 3)]"
            ]
          },
          "metadata": {
            "tags": []
          },
          "execution_count": 4
        }
      ]
    },
    {
      "cell_type": "markdown",
      "metadata": {
        "id": "ZwrBegbjMKyQ"
      },
      "source": [
        "A segunda abordagem, ainda muito simples, é realizar a sugestão dos assuntos mais populares que o usuário ainda não tem interesse."
      ]
    },
    {
      "cell_type": "code",
      "metadata": {
        "id": "yhZ7jVHcHLLX"
      },
      "source": [
        "def most_popular_new_interests(user_interests, max_results=5):\n",
        "    \"\"\"\n",
        "    Função recomendadora simples\n",
        "    Considera apenas a popularidade dos temas\n",
        "    \"\"\"\n",
        "    suggestions = [(interest, frequency)\n",
        "                   for interest, frequency in popular_interests\n",
        "                   if interest not in user_interests]\n",
        "\n",
        "    return suggestions[:max_results]"
      ],
      "execution_count": null,
      "outputs": []
    },
    {
      "cell_type": "code",
      "metadata": {
        "colab": {
          "base_uri": "https://localhost:8080/"
        },
        "id": "thk744l0HR-U",
        "outputId": "82868b26-bef1-446d-9165-a129706554f6"
      },
      "source": [
        "#Recomendação simplificada que sugere novos temas populares\n",
        "most_popular_new_interests(users_interests[1], 5)"
      ],
      "execution_count": null,
      "outputs": [
        {
          "output_type": "execute_result",
          "data": {
            "text/plain": [
              "[('Python', 4), ('R', 4), ('Big Data', 3), ('Java', 3), ('statistics', 3)]"
            ]
          },
          "metadata": {
            "tags": []
          },
          "execution_count": 6
        }
      ]
    },
    {
      "cell_type": "markdown",
      "metadata": {
        "id": "BG-SCGDEQVfD"
      },
      "source": [
        "##1.2 Filtragem colaborativa baseada no usuário"
      ]
    },
    {
      "cell_type": "markdown",
      "metadata": {
        "id": "jzxGt093RfpA"
      },
      "source": [
        "Na abordagem anterior o maior foco foi na popularidade dos assuntos de forma geral, sem levar em conta os interesses do usuário para o qual se fazia a recomendação. O máximo que foi feito foi a remoção dos temas que já estavam registrados em seus interesses. Nessa seção, será usada uma abordagem que busca identificar a similaridade entre os usuários, para que as recomendações levem em consideração os interesses atuais do usuário e a similaridade com interesses de outros usuário para recomendar novos assuntos."
      ]
    },
    {
      "cell_type": "markdown",
      "metadata": {
        "id": "mE9eWQ7MQ51o"
      },
      "source": [
        "![](https://upload.wikimedia.org/wikipedia/commons/5/52/Collaborative_filtering.gif)\n",
        "\n",
        "Figura 1 - Ilutração didática da filtragem colaborativa ([Wikipedia](https://en.wikipedia.org/wiki/Recommender_system))"
      ]
    },
    {
      "cell_type": "code",
      "metadata": {
        "id": "KaDOTn3ISOaC"
      },
      "source": [
        "import numpy as np"
      ],
      "execution_count": null,
      "outputs": []
    },
    {
      "cell_type": "code",
      "metadata": {
        "id": "UIvxT1YoQYqV"
      },
      "source": [
        "#As funções a seguir foram transcritas de Grus [2016]\n",
        "def cosine_similarity(v, w):\n",
        "  \"\"\"\n",
        "  Cálculo de similaridade entre usuários\n",
        "  Baseado na técnica similaridade de cossenos\n",
        "  \"\"\"\n",
        "  return np.dot(v, w) / math.sqrt(np.dot(v, v) * np.dot(w, w))\n",
        "\n",
        "\n",
        "def make_users_interest_vector(user_interests):\n",
        "  \"\"\"\n",
        "  Função cria um vetor booleano de 1 para interesse no assunto\n",
        "  e 0 para ausência de interesse no assunto\n",
        "  \"\"\"\n",
        "  return [1 if interest in user_interests else 0\n",
        "            for interest in unique_interests]\n",
        "\n",
        "\n",
        "def most_similar_users_to(user_id):\n",
        "    pairs = [(other_user_id, similarity)\n",
        "             for other_user_id, similarity in\n",
        "             enumerate(user_similarities[user_id])\n",
        "             if user_id != other_user_id and similarity > 0]\n",
        "    return sorted(pairs,\n",
        "                  key=lambda pair: pair[1],\n",
        "                  reverse=True)\n",
        "\n",
        "\n",
        "def user_based_suggestions(user_id, include_current_interests=False):\n",
        "    suggestions = defaultdict(float)\n",
        "    for other_user_id, similarity in most_similar_users_to(user_id):\n",
        "        for interest in users_interests[other_user_id]:\n",
        "            suggestions[interest] += similarity\n",
        "\n",
        "    suggestions = sorted(suggestions.items(),\n",
        "                         key=lambda pair: pair[1],\n",
        "                         reverse=True)\n",
        "\n",
        "    if include_current_interests:\n",
        "        return suggestions\n",
        "    else:\n",
        "        return [(suggestion, weight)\n",
        "                for suggestion, weight in suggestions\n",
        "                if suggestion not in users_interests[user_id]]"
      ],
      "execution_count": null,
      "outputs": []
    },
    {
      "cell_type": "code",
      "metadata": {
        "id": "OBbAcg6ySG2_"
      },
      "source": [
        "#Organização dos interesses\n",
        "unique_interests = sorted(list({interest\n",
        "                                for user_interests in users_interests\n",
        "                                for interest in user_interests}))"
      ],
      "execution_count": null,
      "outputs": []
    },
    {
      "cell_type": "code",
      "metadata": {
        "id": "M63_bQpNSdkT"
      },
      "source": [
        "#Criação de uma matriz booleana dos interesses\n",
        "user_interest_matrix = list(map(make_users_interest_vector, users_interests))\n",
        "user_interest_matrix = np.array(user_interest_matrix)"
      ],
      "execution_count": null,
      "outputs": []
    },
    {
      "cell_type": "code",
      "metadata": {
        "id": "FeZikJkxS_t_"
      },
      "source": [
        "#Cálculo da similaridade entre os usuários\n",
        "user_similarities = [[cosine_similarity(interest_vector_i, interest_vector_j)\n",
        "                      for interest_vector_j in user_interest_matrix]\n",
        "                     for interest_vector_i in user_interest_matrix]"
      ],
      "execution_count": null,
      "outputs": []
    },
    {
      "cell_type": "code",
      "metadata": {
        "colab": {
          "base_uri": "https://localhost:8080/"
        },
        "id": "-XXZhp2eTOaz",
        "outputId": "896c2489-b0d8-4961-8e65-d48c38d68c41"
      },
      "source": [
        "#Analisar a similaridade entre os usuários 0 e 8\n",
        "user_similarities[0][8]"
      ],
      "execution_count": null,
      "outputs": [
        {
          "output_type": "execute_result",
          "data": {
            "text/plain": [
              "0.1889822365046136"
            ]
          },
          "metadata": {
            "tags": []
          },
          "execution_count": 12
        }
      ]
    },
    {
      "cell_type": "code",
      "metadata": {
        "colab": {
          "base_uri": "https://localhost:8080/"
        },
        "id": "L86U2uoYVLxy",
        "outputId": "9283e83c-9c37-43e1-cd9f-f522409b3a9d"
      },
      "source": [
        "#Análise dos usuários mais similares ao usuário 0\n",
        "user_id = 0\n",
        "most_similar_users_to(user_id)"
      ],
      "execution_count": null,
      "outputs": [
        {
          "output_type": "execute_result",
          "data": {
            "text/plain": [
              "[(9, 0.5669467095138409),\n",
              " (1, 0.3380617018914066),\n",
              " (8, 0.1889822365046136),\n",
              " (13, 0.1690308509457033),\n",
              " (5, 0.1543033499620919)]"
            ]
          },
          "metadata": {
            "tags": []
          },
          "execution_count": 13
        }
      ]
    },
    {
      "cell_type": "code",
      "metadata": {
        "colab": {
          "base_uri": "https://localhost:8080/"
        },
        "id": "GLpqW9OgVmGg",
        "outputId": "44fa98c4-a772-4640-a4c6-75ba7acf5bef"
      },
      "source": [
        "#Apresentar as sugestões para o usuário 0\n",
        "user_based_suggestions(user_id)"
      ],
      "execution_count": null,
      "outputs": [
        {
          "output_type": "execute_result",
          "data": {
            "text/plain": [
              "[('MapReduce', 0.5669467095138409),\n",
              " ('MongoDB', 0.50709255283711),\n",
              " ('Postgres', 0.50709255283711),\n",
              " ('NoSQL', 0.3380617018914066),\n",
              " ('neural networks', 0.1889822365046136),\n",
              " ('deep learning', 0.1889822365046136),\n",
              " ('artificial intelligence', 0.1889822365046136),\n",
              " ('databases', 0.1690308509457033),\n",
              " ('MySQL', 0.1690308509457033),\n",
              " ('Python', 0.1543033499620919),\n",
              " ('R', 0.1543033499620919),\n",
              " ('C++', 0.1543033499620919),\n",
              " ('Haskell', 0.1543033499620919),\n",
              " ('programming languages', 0.1543033499620919)]"
            ]
          },
          "metadata": {
            "tags": []
          },
          "execution_count": 14
        }
      ]
    },
    {
      "cell_type": "markdown",
      "metadata": {
        "id": "NTVVw85DREo3"
      },
      "source": [
        "##1.3 Filtragem colaborativa baseada em itens"
      ]
    },
    {
      "cell_type": "markdown",
      "metadata": {
        "id": "pU74b7KYnoE2"
      },
      "source": [
        "Um conceito importante relacionado aos sistemas recomendadores é a mineração de padrões frequentes que referem-se a identificação de relações recorrentes entre itens de um conjunto de dados [Han, 2012]. Um exemplo didático interessante, baseado em regras de associação, é a análise de cestas de mercado em que se recomendam itens de acordo com a a análise de padrões frequentes de itens que são adquiridos em conjunto por outros clientes, como é ilustrado na Figura 2. Há diversos algoritmos que realizam este tipo de tarefa de mineração de dados, mas nessa seção iniciaremos com a continuidade do exemplo anterior e a implementação simplificada de funções para recomendação colaborativa baseada em itens como apresentada por Grus [2016]. \n",
        "\n",
        "![Análise de cesta de mercado](https://ars.els-cdn.com/content/image/3-s2.0-B978012381479100006X-f06-01-9780123814791.jpg?_)\n",
        "\n",
        "Figura 2 - Análise de cesta de mercado [Han, 2012]"
      ]
    },
    {
      "cell_type": "code",
      "metadata": {
        "id": "-8AY2v-9pliz"
      },
      "source": [
        "interest_user_matrix = [[user_interest_vector[j]\n",
        "                         for user_interest_vector in user_interest_matrix]\n",
        "                        for j, _ in enumerate(unique_interests)]"
      ],
      "execution_count": null,
      "outputs": []
    },
    {
      "cell_type": "markdown",
      "metadata": {
        "id": "6U58xlFSqdcb"
      },
      "source": [
        "O código acima faz a transposição da matriz de interesses"
      ]
    },
    {
      "cell_type": "code",
      "metadata": {
        "colab": {
          "base_uri": "https://localhost:8080/"
        },
        "id": "sU9hgrVdqeQ2",
        "outputId": "11a56faa-ebcb-4147-8d2b-f02677d92272"
      },
      "source": [
        "interest_user_matrix[0]"
      ],
      "execution_count": null,
      "outputs": [
        {
          "output_type": "execute_result",
          "data": {
            "text/plain": [
              "[1, 0, 0, 0, 0, 0, 0, 0, 1, 1, 0, 0, 0, 0, 0]"
            ]
          },
          "metadata": {
            "tags": []
          },
          "execution_count": 17
        }
      ]
    },
    {
      "cell_type": "markdown",
      "metadata": {
        "id": "y0NU3VHIrLCi"
      },
      "source": [
        "Em seguida, na célula a seguir, é calculada a similaridade entre os interesses."
      ]
    },
    {
      "cell_type": "code",
      "metadata": {
        "id": "7-zV7xZWrET3"
      },
      "source": [
        "interest_similarities = [[cosine_similarity(user_vector_i, user_vector_j)\n",
        "                           for user_vector_j in interest_user_matrix]\n",
        "                          for user_vector_i in interest_user_matrix]"
      ],
      "execution_count": null,
      "outputs": []
    },
    {
      "cell_type": "code",
      "metadata": {
        "id": "xKCkyDmKrWp0"
      },
      "source": [
        "#As funções a seguir foram transcritas de Grus [2016]\n",
        "def most_similar_interests_to(interest_id):\n",
        "    similarities = interest_similarities[interest_id]\n",
        "    pairs = [(unique_interests[other_interest_id], similarity)\n",
        "             for other_interest_id, similarity in enumerate(similarities)\n",
        "             if interest_id != other_interest_id and similarity > 0]\n",
        "    \n",
        "    return sorted(pairs,\n",
        "                  key=lambda pair: pair[1],\n",
        "                  reverse=True)\n",
        "\n",
        "\n",
        "def item_based_suggestions(user_id, include_current_interests=False):\n",
        "    suggestions = defaultdict(float)\n",
        "    user_interest_vector = user_interest_matrix[user_id]\n",
        "\n",
        "    for interest_id, is_interested in enumerate(user_interest_vector):\n",
        "        if is_interested == 1:\n",
        "            similar_interests = most_similar_interests_to(interest_id)\n",
        "            for interest, similarity in similar_interests:\n",
        "                suggestions[interest] += similarity\n",
        "\n",
        "    suggestions = sorted(suggestions.items(),\n",
        "                         key=lambda pair: pair[1],\n",
        "                         reverse=True)\n",
        "\n",
        "    if include_current_interests:\n",
        "        return suggestions\n",
        "    else:\n",
        "        return [(suggestion, weight)\n",
        "                for suggestion, weight in suggestions\n",
        "                if suggestion not in users_interests[user_id]]"
      ],
      "execution_count": null,
      "outputs": []
    },
    {
      "cell_type": "markdown",
      "metadata": {
        "id": "zHwzXJkgsMRg"
      },
      "source": [
        "Aplicamos a seguir a função `most_similar_interests_to` para analisar a similaridade com um determinado assunto (item do conjunto de dados)."
      ]
    },
    {
      "cell_type": "code",
      "metadata": {
        "colab": {
          "base_uri": "https://localhost:8080/",
          "height": 35
        },
        "id": "H5KjQNMIsIuB",
        "outputId": "a3d3e4a5-075b-4646-eb41-cc9ed8cc1957"
      },
      "source": [
        "unique_interests[0]"
      ],
      "execution_count": null,
      "outputs": [
        {
          "output_type": "execute_result",
          "data": {
            "application/vnd.google.colaboratory.intrinsic+json": {
              "type": "string"
            },
            "text/plain": [
              "'Big Data'"
            ]
          },
          "metadata": {
            "tags": []
          },
          "execution_count": 22
        }
      ]
    },
    {
      "cell_type": "code",
      "metadata": {
        "colab": {
          "base_uri": "https://localhost:8080/"
        },
        "id": "vnK1qoVgrnHv",
        "outputId": "51889356-cb7f-4fbd-973b-8287b0fbb0b8"
      },
      "source": [
        "#Analisar similaridade com o assunto 'Big Data'\n",
        "insterst_id=0 #Big Data\n",
        "most_similar_interests_to(insterst_id)"
      ],
      "execution_count": null,
      "outputs": [
        {
          "output_type": "execute_result",
          "data": {
            "text/plain": [
              "[('Hadoop', 0.8164965809277261),\n",
              " ('Java', 0.6666666666666666),\n",
              " ('MapReduce', 0.5773502691896258),\n",
              " ('Spark', 0.5773502691896258),\n",
              " ('Storm', 0.5773502691896258),\n",
              " ('Cassandra', 0.4082482904638631),\n",
              " ('artificial intelligence', 0.4082482904638631),\n",
              " ('deep learning', 0.4082482904638631),\n",
              " ('neural networks', 0.4082482904638631),\n",
              " ('HBase', 0.3333333333333333)]"
            ]
          },
          "metadata": {
            "tags": []
          },
          "execution_count": 21
        }
      ]
    },
    {
      "cell_type": "markdown",
      "metadata": {
        "id": "33w6nkSSsf1z"
      },
      "source": [
        "Por fim, realizamos a recomendação para um usuário baseado na similaridade de interesses."
      ]
    },
    {
      "cell_type": "code",
      "metadata": {
        "colab": {
          "base_uri": "https://localhost:8080/"
        },
        "id": "uqdXoiF1scOP",
        "outputId": "8dc7f25f-bd8d-4cc8-b70a-a97109b6368e"
      },
      "source": [
        "user_id = 0\n",
        "item_based_suggestions(user_id)"
      ],
      "execution_count": null,
      "outputs": [
        {
          "output_type": "execute_result",
          "data": {
            "text/plain": [
              "[('MapReduce', 1.861807319565799),\n",
              " ('MongoDB', 1.3164965809277263),\n",
              " ('Postgres', 1.3164965809277263),\n",
              " ('NoSQL', 1.2844570503761732),\n",
              " ('MySQL', 0.5773502691896258),\n",
              " ('databases', 0.5773502691896258),\n",
              " ('Haskell', 0.5773502691896258),\n",
              " ('programming languages', 0.5773502691896258),\n",
              " ('artificial intelligence', 0.4082482904638631),\n",
              " ('deep learning', 0.4082482904638631),\n",
              " ('neural networks', 0.4082482904638631),\n",
              " ('C++', 0.4082482904638631),\n",
              " ('Python', 0.2886751345948129),\n",
              " ('R', 0.2886751345948129)]"
            ]
          },
          "metadata": {
            "tags": []
          },
          "execution_count": 23
        }
      ]
    },
    {
      "cell_type": "markdown",
      "metadata": {
        "id": "m0nf5JnpFRjd"
      },
      "source": [
        "#2 Algoritmos para implementação de sistemas recomendadores"
      ]
    },
    {
      "cell_type": "markdown",
      "metadata": {
        "id": "Vr2JyV0kwGy0"
      },
      "source": [
        "As implementações das seções anteriores, apesar de funciorem com conjuntos de dados limitados, tem objetivo mais didático. Elas não tem capacidade de escalonamento, sobretudo por usarem estruturas de dados simples do Python com baixa perfomance em conjuntos de dados maiores."
      ]
    },
    {
      "cell_type": "markdown",
      "metadata": {
        "id": "2e5OEbQtFVYI"
      },
      "source": [
        "##2.1 Mineração de padrões frequentes\n",
        "\n"
      ]
    },
    {
      "cell_type": "markdown",
      "metadata": {
        "id": "0_4kt4HkPgLf"
      },
      "source": [
        "**Frequent itemset e regras de associação**\n",
        "\n",
        "* Itemset: uma combinação de itens existentes na base de dados.\n",
        "* $support(A=>B) = P(A \\cup B)$\n",
        "* $confidence(A=>B) = P(B|A) = \\frac{support(A \\cup B)}{support(A)}$\n",
        "\n",
        "Seção em desenvolvimento..."
      ]
    },
    {
      "cell_type": "markdown",
      "metadata": {
        "id": "mWfuUpM8FZ2r"
      },
      "source": [
        "#Referências e links"
      ]
    },
    {
      "cell_type": "markdown",
      "metadata": {
        "id": "zeI-I6-hFdA9"
      },
      "source": [
        "**Referências**\n",
        "\n",
        "Grus, Joel (2016). **Data Science do Zero:** Primeiras regras com Python. Traduzido por Welington Nascimento. Alta Books.\n",
        "\n",
        "Han, Jiawei. Kamber, Micheline. Pei, Jian (2012) **Data Mining:** Concepts and techniques. Morgan Kaufmann, 3rd Edition.\n",
        "\n",
        "McKinney, Wes (2018). **Python para Análise de Dados**: tratamento de dados com pandas, numpy e iPython. Traduzido por Lúcia A. Kinoshita. Novatec.\n",
        "\n",
        "---\n",
        "Conteúdos adicionais e explicações detalhadas do algoritmo em:\n",
        "\n",
        "https://www.youtube.com/watch?v=4-dMKU9zThA&list=PLTy3TWJeueGw1eeP1cvaIiTzJrIljcVAq&index=14"
      ]
    }
  ]
}