{
  "nbformat": 4,
  "nbformat_minor": 0,
  "metadata": {
    "colab": {
      "name": "Janio_Souza_Lima_ML-T2.ipynb",
      "provenance": [],
      "collapsed_sections": [
        "umIC3HrENTbj",
        "nJZsyV7k-GQL",
        "k9PFjTon-J-g",
        "vkDs0-aJ-MlK"
      ],
      "toc_visible": true
    },
    "kernelspec": {
      "name": "python3",
      "display_name": "Python 3"
    }
  },
  "cells": [
    {
      "cell_type": "markdown",
      "metadata": {
        "id": "ptkA5dKWWJVL"
      },
      "source": [
        "#**CEFET-RJ**\n",
        "\n",
        "**Programa de Pós-Gradução em Ciência da Computação - PPCIC**\n",
        "\n",
        "**Mestrado em Ciência da Computação**\n",
        "\n",
        "**Disciplina: Aprendizado de Máquina - 2021/1**\n",
        "\n",
        "* **Trabalho 02**\n",
        "* **Professor**: Eduardo Bezerra\n",
        "* **Aluno**: Janio de Souza Lima"
      ]
    },
    {
      "cell_type": "markdown",
      "metadata": {
        "id": "4anwwi9AXjEF"
      },
      "source": [
        "##Preparação do ambiente"
      ]
    },
    {
      "cell_type": "markdown",
      "metadata": {
        "id": "BfzO6DbX6OKD"
      },
      "source": [
        "Importação de bibliotecas"
      ]
    },
    {
      "cell_type": "code",
      "metadata": {
        "id": "WjU2VUQuXk88"
      },
      "source": [
        "#Importação de bibliotecas\n",
        "import pandas as pd\n",
        "import numpy as np\n",
        "import seaborn as sns\n",
        "from matplotlib import pyplot as plt\n",
        "import scipy.optimize as opt"
      ],
      "execution_count": 45,
      "outputs": []
    },
    {
      "cell_type": "markdown",
      "metadata": {
        "id": "yE_ovAy36XVL"
      },
      "source": [
        "Carga de arquivos para ambiente (apenas para uso deste notebook no Google Colab)"
      ]
    },
    {
      "cell_type": "code",
      "metadata": {
        "id": "d_Y_4EBO6DY3"
      },
      "source": [
        "from google.colab import drive"
      ],
      "execution_count": 46,
      "outputs": []
    },
    {
      "cell_type": "code",
      "metadata": {
        "colab": {
          "base_uri": "https://localhost:8080/"
        },
        "id": "7uZ-awNx88p4",
        "outputId": "96cbf099-1381-4213-858a-7aeeb55bc1dd"
      },
      "source": [
        "#Conecta o Google Colab ao Google Drive\n",
        "drive.mount('/content/drive')"
      ],
      "execution_count": 47,
      "outputs": [
        {
          "output_type": "stream",
          "text": [
            "Drive already mounted at /content/drive; to attempt to forcibly remount, call drive.mount(\"/content/drive\", force_remount=True).\n"
          ],
          "name": "stdout"
        }
      ]
    },
    {
      "cell_type": "markdown",
      "metadata": {
        "id": "F4rSnChkMHdG"
      },
      "source": [
        "A etapa anterior apenas conecta ao seu Google Drive, após rodá-la e autenticar a sessão usando o link da API da Google, o código abaixo deve ser executado para apontar para o diretório de trabalho no qual estão gravados os códigos e bibliotecas personalziadas que serão usados na análise.\n",
        "\n",
        "Os códigos* em questão estão disponíveis em: https://github.com/MLRG-CEFET-RJ/ml-class/tree/master/ml-t1/code\n",
        "\n",
        "** Em alguns casos foi necessário adaptar partes das funções originais disponíveis no repositório citado ou substituí-las por versões que estão escritas nas próprias células deste notebook*\n",
        "\n",
        "A pasta com os dados deve ser gravada neste mesmo diretório com o nome *data*, assim os trechos nos quais os conjuntos de dados são carregados rodarão sem problemas."
      ]
    },
    {
      "cell_type": "code",
      "metadata": {
        "id": "r0QvKrwd9QmG"
      },
      "source": [
        "#Define o path dos códigos e dados como diretório de trabalho atual\n",
        "import os\n",
        "dir = '/content/drive/My Drive/Mestrado PPCIC/03. Curso/3. Aprendizado/t2'\n",
        "os.chdir(dir)"
      ],
      "execution_count": 48,
      "outputs": []
    },
    {
      "cell_type": "code",
      "metadata": {
        "id": "1-FJCvNgnYp0"
      },
      "source": [
        "#Bibliotecas/módulos utilitários personalizados\n",
        "from util.read_dataset import read_dataset"
      ],
      "execution_count": 49,
      "outputs": []
    },
    {
      "cell_type": "markdown",
      "metadata": {
        "id": "w3hrc_yS-BsI"
      },
      "source": [
        "#1 Aprendizado Supervisionado Revisitado"
      ]
    },
    {
      "cell_type": "markdown",
      "metadata": {
        "id": "cugOxsJsAPWg"
      },
      "source": [
        "##1.1 Aprendizado com Regressores"
      ]
    },
    {
      "cell_type": "markdown",
      "metadata": {
        "id": "EfhhMeXcASrj"
      },
      "source": [
        "###1.1.1 Regressão com uma variável"
      ]
    },
    {
      "cell_type": "markdown",
      "metadata": {
        "id": "Uy7uouWd-Fj_"
      },
      "source": [
        "Análise preliminar dos dados"
      ]
    },
    {
      "cell_type": "code",
      "metadata": {
        "colab": {
          "base_uri": "https://localhost:8080/",
          "height": 198
        },
        "id": "Mqs8O9c6-Zcq",
        "outputId": "f66dcb49-4887-4e85-91bf-f6a9526155d0"
      },
      "source": [
        "#Carga dos dados usando as bibliotecas pandas e numpy\n",
        "arquivo = 'https://raw.githubusercontent.com/MLRG-CEFET-RJ/ml-class/master/ml-t1/data/ex1data1.txt'\n",
        "dados = pd.read_table(arquivo,\n",
        "                      sep=',',\n",
        "                      header=None,\n",
        "                      names=['Population', 'Profit'])\n",
        "\n",
        "#Convertendo os dados para numpy array\n",
        "X = np.array(dados.Population)\n",
        "X = X.reshape(-1, 1)\n",
        "y = np.array(dados.Profit)\n",
        "\n",
        "dados.head()"
      ],
      "execution_count": 50,
      "outputs": [
        {
          "output_type": "execute_result",
          "data": {
            "text/html": [
              "<div>\n",
              "<style scoped>\n",
              "    .dataframe tbody tr th:only-of-type {\n",
              "        vertical-align: middle;\n",
              "    }\n",
              "\n",
              "    .dataframe tbody tr th {\n",
              "        vertical-align: top;\n",
              "    }\n",
              "\n",
              "    .dataframe thead th {\n",
              "        text-align: right;\n",
              "    }\n",
              "</style>\n",
              "<table border=\"1\" class=\"dataframe\">\n",
              "  <thead>\n",
              "    <tr style=\"text-align: right;\">\n",
              "      <th></th>\n",
              "      <th>Population</th>\n",
              "      <th>Profit</th>\n",
              "    </tr>\n",
              "  </thead>\n",
              "  <tbody>\n",
              "    <tr>\n",
              "      <th>0</th>\n",
              "      <td>6.1101</td>\n",
              "      <td>17.5920</td>\n",
              "    </tr>\n",
              "    <tr>\n",
              "      <th>1</th>\n",
              "      <td>5.5277</td>\n",
              "      <td>9.1302</td>\n",
              "    </tr>\n",
              "    <tr>\n",
              "      <th>2</th>\n",
              "      <td>8.5186</td>\n",
              "      <td>13.6620</td>\n",
              "    </tr>\n",
              "    <tr>\n",
              "      <th>3</th>\n",
              "      <td>7.0032</td>\n",
              "      <td>11.8540</td>\n",
              "    </tr>\n",
              "    <tr>\n",
              "      <th>4</th>\n",
              "      <td>5.8598</td>\n",
              "      <td>6.8233</td>\n",
              "    </tr>\n",
              "  </tbody>\n",
              "</table>\n",
              "</div>"
            ],
            "text/plain": [
              "   Population   Profit\n",
              "0      6.1101  17.5920\n",
              "1      5.5277   9.1302\n",
              "2      8.5186  13.6620\n",
              "3      7.0032  11.8540\n",
              "4      5.8598   6.8233"
            ]
          },
          "metadata": {
            "tags": []
          },
          "execution_count": 50
        }
      ]
    },
    {
      "cell_type": "code",
      "metadata": {
        "colab": {
          "base_uri": "https://localhost:8080/"
        },
        "id": "woDCwolX_UEQ",
        "outputId": "31b37f24-f9a6-4248-bf2e-07fc60744b60"
      },
      "source": [
        "#Informações gerais do dataset carregado\n",
        "dados.info()"
      ],
      "execution_count": 51,
      "outputs": [
        {
          "output_type": "stream",
          "text": [
            "<class 'pandas.core.frame.DataFrame'>\n",
            "RangeIndex: 97 entries, 0 to 96\n",
            "Data columns (total 2 columns):\n",
            " #   Column      Non-Null Count  Dtype  \n",
            "---  ------      --------------  -----  \n",
            " 0   Population  97 non-null     float64\n",
            " 1   Profit      97 non-null     float64\n",
            "dtypes: float64(2)\n",
            "memory usage: 1.6 KB\n"
          ],
          "name": "stdout"
        }
      ]
    },
    {
      "cell_type": "code",
      "metadata": {
        "colab": {
          "base_uri": "https://localhost:8080/",
          "height": 288
        },
        "id": "CC2iG3xr_Vu5",
        "outputId": "9c73e970-ff8f-46ee-dd17-5f884ca292f3"
      },
      "source": [
        "#Sumário estatístico dos dados\n",
        "dados.describe()"
      ],
      "execution_count": 52,
      "outputs": [
        {
          "output_type": "execute_result",
          "data": {
            "text/html": [
              "<div>\n",
              "<style scoped>\n",
              "    .dataframe tbody tr th:only-of-type {\n",
              "        vertical-align: middle;\n",
              "    }\n",
              "\n",
              "    .dataframe tbody tr th {\n",
              "        vertical-align: top;\n",
              "    }\n",
              "\n",
              "    .dataframe thead th {\n",
              "        text-align: right;\n",
              "    }\n",
              "</style>\n",
              "<table border=\"1\" class=\"dataframe\">\n",
              "  <thead>\n",
              "    <tr style=\"text-align: right;\">\n",
              "      <th></th>\n",
              "      <th>Population</th>\n",
              "      <th>Profit</th>\n",
              "    </tr>\n",
              "  </thead>\n",
              "  <tbody>\n",
              "    <tr>\n",
              "      <th>count</th>\n",
              "      <td>97.000000</td>\n",
              "      <td>97.000000</td>\n",
              "    </tr>\n",
              "    <tr>\n",
              "      <th>mean</th>\n",
              "      <td>8.159800</td>\n",
              "      <td>5.839135</td>\n",
              "    </tr>\n",
              "    <tr>\n",
              "      <th>std</th>\n",
              "      <td>3.869884</td>\n",
              "      <td>5.510262</td>\n",
              "    </tr>\n",
              "    <tr>\n",
              "      <th>min</th>\n",
              "      <td>5.026900</td>\n",
              "      <td>-2.680700</td>\n",
              "    </tr>\n",
              "    <tr>\n",
              "      <th>25%</th>\n",
              "      <td>5.707700</td>\n",
              "      <td>1.986900</td>\n",
              "    </tr>\n",
              "    <tr>\n",
              "      <th>50%</th>\n",
              "      <td>6.589400</td>\n",
              "      <td>4.562300</td>\n",
              "    </tr>\n",
              "    <tr>\n",
              "      <th>75%</th>\n",
              "      <td>8.578100</td>\n",
              "      <td>7.046700</td>\n",
              "    </tr>\n",
              "    <tr>\n",
              "      <th>max</th>\n",
              "      <td>22.203000</td>\n",
              "      <td>24.147000</td>\n",
              "    </tr>\n",
              "  </tbody>\n",
              "</table>\n",
              "</div>"
            ],
            "text/plain": [
              "       Population     Profit\n",
              "count   97.000000  97.000000\n",
              "mean     8.159800   5.839135\n",
              "std      3.869884   5.510262\n",
              "min      5.026900  -2.680700\n",
              "25%      5.707700   1.986900\n",
              "50%      6.589400   4.562300\n",
              "75%      8.578100   7.046700\n",
              "max     22.203000  24.147000"
            ]
          },
          "metadata": {
            "tags": []
          },
          "execution_count": 52
        }
      ]
    },
    {
      "cell_type": "code",
      "metadata": {
        "colab": {
          "base_uri": "https://localhost:8080/",
          "height": 350
        },
        "id": "bCLly-1GAWWP",
        "outputId": "cd5b5829-75ce-4e8d-e202-25393fa38ca9"
      },
      "source": [
        "#Geração do gráfico de dispersão\n",
        "plt.figure(figsize=(9,5))\n",
        "plt.scatter(dados.Population,\n",
        "            dados.Profit,\n",
        "            marker='x',\n",
        "            color='red',\n",
        "            alpha=0.6)\n",
        "\n",
        "plt.xticks([4,6,8,10,12,14,16,18,20,22,24])\n",
        "plt.yticks([-5,0,5,10,15,20,25])\n",
        "\n",
        "plt.title('População da cidade x Lucro da filial')\n",
        "plt.xlabel('População (10k)')\n",
        "plt.ylabel('Lucro ($ 10k)')\n",
        "\n",
        "plt.savefig('target/plot1.1.1.png')\n",
        "\n",
        "sns.despine()"
      ],
      "execution_count": 53,
      "outputs": [
        {
          "output_type": "display_data",
          "data": {
            "image/png": "[encoded data removed]",
            "text/plain": [
              "<Figure size 648x360 with 1 Axes>"
            ]
          },
          "metadata": {
            "tags": [],
            "needs_background": "light"
          }
        }
      ]
    },
    {
      "cell_type": "markdown",
      "metadata": {
        "id": "BnwkCtdNChr5"
      },
      "source": [
        "Criação de modelos de regressão baseados nos algoritmos ***k-NN*** e ***Decision Trees***."
      ]
    },
    {
      "cell_type": "markdown",
      "metadata": {
        "id": "azGR6AFZNAuj"
      },
      "source": [
        "####Aplicação básica do **k-NN** sem sintonização de hiperparâmetros.\n",
        "\n",
        "---\n",
        "\n",
        "Na geração do modelo ***k-NN*** abaixo foi definido, de forma arbitrária, o parâmetro `n_neighbors`."
      ]
    },
    {
      "cell_type": "code",
      "metadata": {
        "id": "-sq9HX6DBG6O"
      },
      "source": [
        "from sklearn.neighbors import KNeighborsRegressor\n",
        "from sklearn.model_selection import train_test_split"
      ],
      "execution_count": 54,
      "outputs": []
    },
    {
      "cell_type": "code",
      "metadata": {
        "id": "6KmRscVQDMAA"
      },
      "source": [
        "#Divisão dos valores em treino e teste\n",
        "#OBSERVAÇÃO: random_state está sendo usado para reprodutibilidade dos resultados\n",
        "X_train, X_test, y_train, y_test = train_test_split(X, y, \n",
        "                                                    test_size=0.2, \n",
        "                                                    random_state=42)"
      ],
      "execution_count": 55,
      "outputs": []
    },
    {
      "cell_type": "code",
      "metadata": {
        "id": "YXoXUg-ODhsW"
      },
      "source": [
        "#Criação do objeto com os parâmetros do modelo\n",
        "model = KNeighborsRegressor(n_neighbors = 15, weights = 'distance')"
      ],
      "execution_count": 56,
      "outputs": []
    },
    {
      "cell_type": "code",
      "metadata": {
        "colab": {
          "base_uri": "https://localhost:8080/"
        },
        "id": "joTwehCHEMUt",
        "outputId": "9e148e35-80b6-4797-e3ea-91d6846d206f"
      },
      "source": [
        "#Treinamento do modelo\n",
        "model.fit(X_train, y_train)"
      ],
      "execution_count": 57,
      "outputs": [
        {
          "output_type": "execute_result",
          "data": {
            "text/plain": [
              "KNeighborsRegressor(algorithm='auto', leaf_size=30, metric='minkowski',\n",
              "                    metric_params=None, n_jobs=None, n_neighbors=15, p=2,\n",
              "                    weights='distance')"
            ]
          },
          "metadata": {
            "tags": []
          },
          "execution_count": 57
        }
      ]
    },
    {
      "cell_type": "code",
      "metadata": {
        "id": "zbVwOyudFaRC"
      },
      "source": [
        "y_pred = model.predict(X_test)"
      ],
      "execution_count": 58,
      "outputs": []
    },
    {
      "cell_type": "code",
      "metadata": {
        "colab": {
          "base_uri": "https://localhost:8080/"
        },
        "id": "4nd9w-IDFe_W",
        "outputId": "29b51ad8-c22d-473e-89bc-a19e0bba1dd5"
      },
      "source": [
        "y_pred"
      ],
      "execution_count": 59,
      "outputs": [
        {
          "output_type": "execute_result",
          "data": {
            "text/plain": [
              "array([19.18341697,  2.09002643,  1.81531929,  3.52056822,  0.45514218,\n",
              "        7.28814371, 22.33804637,  8.04648035,  1.90584025,  2.64326988,\n",
              "        4.25026806,  4.50127752,  2.68126569, 10.15035769,  4.93402555,\n",
              "        4.53103741,  2.0256771 ,  1.32693927,  3.43575169,  4.85189867])"
            ]
          },
          "metadata": {
            "tags": []
          },
          "execution_count": 59
        }
      ]
    },
    {
      "cell_type": "code",
      "metadata": {
        "id": "nSK-Ovv1Er9x"
      },
      "source": [
        "from sklearn.metrics import mean_squared_error\n",
        "from math import sqrt"
      ],
      "execution_count": 60,
      "outputs": []
    },
    {
      "cell_type": "code",
      "metadata": {
        "colab": {
          "base_uri": "https://localhost:8080/"
        },
        "id": "yTrKEsREFmyh",
        "outputId": "67f27ed7-f6fb-4571-de81-3cd73f7b5e05"
      },
      "source": [
        "#Avaliação do modelo\n",
        "rmse_knn = sqrt(mean_squared_error(y_test, y_pred))\n",
        "print(rmse_knn)"
      ],
      "execution_count": 61,
      "outputs": [
        {
          "output_type": "stream",
          "text": [
            "3.9782475830030886\n"
          ],
          "name": "stdout"
        }
      ]
    },
    {
      "cell_type": "markdown",
      "metadata": {
        "id": "umIC3HrENTbj"
      },
      "source": [
        "####Aplicação básica do algoritmo **Decision Trees** sem sintonização de hiperparâmetros.\n",
        "\n",
        "---\n",
        "\n",
        "Na geração do modelo da árvore de decisão abaixo foi definido, de forma arbitrária, o parâmetro `max_depth` para limitar a profundidade da árvore e reduzir a possibilidade de sobreajustamento."
      ]
    },
    {
      "cell_type": "code",
      "metadata": {
        "id": "Z9gNcdsdLYgX"
      },
      "source": [
        "from sklearn.tree import DecisionTreeRegressor"
      ],
      "execution_count": 62,
      "outputs": []
    },
    {
      "cell_type": "code",
      "metadata": {
        "colab": {
          "base_uri": "https://localhost:8080/"
        },
        "id": "IulJ4XHzLfHz",
        "outputId": "3af6d09d-4ef9-494a-e481-b518c17aa64d"
      },
      "source": [
        "#Criação e treinamento do modelo\n",
        "tree_reg = DecisionTreeRegressor(max_depth=2)\n",
        "tree_reg.fit(X_train, y_train)"
      ],
      "execution_count": 63,
      "outputs": [
        {
          "output_type": "execute_result",
          "data": {
            "text/plain": [
              "DecisionTreeRegressor(ccp_alpha=0.0, criterion='mse', max_depth=2,\n",
              "                      max_features=None, max_leaf_nodes=None,\n",
              "                      min_impurity_decrease=0.0, min_impurity_split=None,\n",
              "                      min_samples_leaf=1, min_samples_split=2,\n",
              "                      min_weight_fraction_leaf=0.0, presort='deprecated',\n",
              "                      random_state=None, splitter='best')"
            ]
          },
          "metadata": {
            "tags": []
          },
          "execution_count": 63
        }
      ]
    },
    {
      "cell_type": "code",
      "metadata": {
        "id": "znP_5T3zLx-4"
      },
      "source": [
        "import os\n",
        "from graphviz import Source\n",
        "from sklearn.tree import export_graphviz"
      ],
      "execution_count": 64,
      "outputs": []
    },
    {
      "cell_type": "code",
      "metadata": {
        "colab": {
          "base_uri": "https://localhost:8080/",
          "height": 0
        },
        "id": "WaAjQDHqLjG2",
        "outputId": "e4d2ec1e-b0aa-429b-cbd6-eccad00bc70b"
      },
      "source": [
        "export_graphviz(\n",
        "        tree_reg,\n",
        "        out_file='reg_tree.dot',\n",
        "        feature_names=['Population'],\n",
        "        class_names=['Profit'],\n",
        "        rounded=True,\n",
        "        filled=True\n",
        "    )\n",
        "\n",
        "Source.from_file('reg_tree.dot')"
      ],
      "execution_count": 65,
      "outputs": [
        {
          "output_type": "execute_result",
          "data": {
            "text/plain": [
              "<graphviz.files.Source at 0x7f6ef31e1050>"
            ],
            "image/svg+xml": "<?xml version=\"1.0\" encoding=\"UTF-8\" standalone=\"no\"?>\n<!DOCTYPE svg PUBLIC \"-//W3C//DTD SVG 1.1//EN\"\n \"http://www.w3.org/Graphics/SVG/1.1/DTD/svg11.dtd\">\n<!-- Generated by graphviz version 2.40.1 (20161225.0304)\n -->\n<!-- Title: Tree Pages: 1 -->\n<svg width=\"518pt\" height=\"269pt\"\n viewBox=\"0.00 0.00 517.50 269.00\" xmlns=\"http://www.w3.org/2000/svg\" xmlns:xlink=\"http://www.w3.org/1999/xlink\">\n<g id=\"graph0\" class=\"graph\" transform=\"scale(1 1) rotate(0) translate(4 265)\">\n<title>Tree</title>\n<polygon fill=\"#ffffff\" stroke=\"transparent\" points=\"-4,4 -4,-265 513.5,-265 513.5,4 -4,4\"/>\n<!-- 0 -->\n<g id=\"node1\" class=\"node\">\n<title>0</title>\n<path fill=\"#fceee5\" stroke=\"#000000\" d=\"M312.5,-261C312.5,-261 181.5,-261 181.5,-261 175.5,-261 169.5,-255 169.5,-249 169.5,-249 169.5,-205 169.5,-205 169.5,-199 175.5,-193 181.5,-193 181.5,-193 312.5,-193 312.5,-193 318.5,-193 324.5,-199 324.5,-205 324.5,-205 324.5,-249 324.5,-249 324.5,-255 318.5,-261 312.5,-261\"/>\n<text text-anchor=\"middle\" x=\"247\" y=\"-245.8\" font-family=\"Helvetica,sans-Serif\" font-size=\"14.00\" fill=\"#000000\">Population &lt;= 13.006</text>\n<text text-anchor=\"middle\" x=\"247\" y=\"-230.8\" font-family=\"Helvetica,sans-Serif\" font-size=\"14.00\" fill=\"#000000\">mse = 29.647</text>\n<text text-anchor=\"middle\" x=\"247\" y=\"-215.8\" font-family=\"Helvetica,sans-Serif\" font-size=\"14.00\" fill=\"#000000\">samples = 77</text>\n<text text-anchor=\"middle\" x=\"247\" y=\"-200.8\" font-family=\"Helvetica,sans-Serif\" font-size=\"14.00\" fill=\"#000000\">value = 5.746</text>\n</g>\n<!-- 1 -->\n<g id=\"node2\" class=\"node\">\n<title>1</title>\n<path fill=\"#fdf7f3\" stroke=\"#000000\" d=\"M224,-157C224,-157 102,-157 102,-157 96,-157 90,-151 90,-145 90,-145 90,-101 90,-101 90,-95 96,-89 102,-89 102,-89 224,-89 224,-89 230,-89 236,-95 236,-101 236,-101 236,-145 236,-145 236,-151 230,-157 224,-157\"/>\n<text text-anchor=\"middle\" x=\"163\" y=\"-141.8\" font-family=\"Helvetica,sans-Serif\" font-size=\"14.00\" fill=\"#000000\">Population &lt;= 8.294</text>\n<text text-anchor=\"middle\" x=\"163\" y=\"-126.8\" font-family=\"Helvetica,sans-Serif\" font-size=\"14.00\" fill=\"#000000\">mse = 11.788</text>\n<text text-anchor=\"middle\" x=\"163\" y=\"-111.8\" font-family=\"Helvetica,sans-Serif\" font-size=\"14.00\" fill=\"#000000\">samples = 69</text>\n<text text-anchor=\"middle\" x=\"163\" y=\"-96.8\" font-family=\"Helvetica,sans-Serif\" font-size=\"14.00\" fill=\"#000000\">value = 4.371</text>\n</g>\n<!-- 0&#45;&gt;1 -->\n<g id=\"edge1\" class=\"edge\">\n<title>0&#45;&gt;1</title>\n<path fill=\"none\" stroke=\"#000000\" d=\"M219.4953,-192.9465C212.3159,-184.0578 204.4924,-174.3716 197.019,-165.1188\"/>\n<polygon fill=\"#000000\" stroke=\"#000000\" points=\"199.5727,-162.7102 190.5665,-157.13 194.1271,-167.1086 199.5727,-162.7102\"/>\n<text text-anchor=\"middle\" x=\"187.9219\" y=\"-178.2897\" font-family=\"Helvetica,sans-Serif\" font-size=\"14.00\" fill=\"#000000\">True</text>\n</g>\n<!-- 4 -->\n<g id=\"node5\" class=\"node\">\n<title>4</title>\n<path fill=\"#eba06a\" stroke=\"#000000\" d=\"M397.5,-157C397.5,-157 266.5,-157 266.5,-157 260.5,-157 254.5,-151 254.5,-145 254.5,-145 254.5,-101 254.5,-101 254.5,-95 260.5,-89 266.5,-89 266.5,-89 397.5,-89 397.5,-89 403.5,-89 409.5,-95 409.5,-101 409.5,-101 409.5,-145 409.5,-145 409.5,-151 403.5,-157 397.5,-157\"/>\n<text text-anchor=\"middle\" x=\"332\" y=\"-141.8\" font-family=\"Helvetica,sans-Serif\" font-size=\"14.00\" fill=\"#000000\">Population &lt;= 16.926</text>\n<text text-anchor=\"middle\" x=\"332\" y=\"-126.8\" font-family=\"Helvetica,sans-Serif\" font-size=\"14.00\" fill=\"#000000\">mse = 26.717</text>\n<text text-anchor=\"middle\" x=\"332\" y=\"-111.8\" font-family=\"Helvetica,sans-Serif\" font-size=\"14.00\" fill=\"#000000\">samples = 8</text>\n<text text-anchor=\"middle\" x=\"332\" y=\"-96.8\" font-family=\"Helvetica,sans-Serif\" font-size=\"14.00\" fill=\"#000000\">value = 17.606</text>\n</g>\n<!-- 0&#45;&gt;4 -->\n<g id=\"edge4\" class=\"edge\">\n<title>0&#45;&gt;4</title>\n<path fill=\"none\" stroke=\"#000000\" d=\"M274.8322,-192.9465C282.097,-184.0578 290.0136,-174.3716 297.576,-165.1188\"/>\n<polygon fill=\"#000000\" stroke=\"#000000\" points=\"300.487,-167.0878 304.1053,-157.13 295.0669,-162.658 300.487,-167.0878\"/>\n<text text-anchor=\"middle\" x=\"306.6059\" y=\"-178.3046\" font-family=\"Helvetica,sans-Serif\" font-size=\"14.00\" fill=\"#000000\">False</text>\n</g>\n<!-- 2 -->\n<g id=\"node3\" class=\"node\">\n<title>2</title>\n<path fill=\"#ffffff\" stroke=\"#000000\" d=\"M92,-53C92,-53 12,-53 12,-53 6,-53 0,-47 0,-41 0,-41 0,-12 0,-12 0,-6 6,0 12,0 12,0 92,0 92,0 98,0 104,-6 104,-12 104,-12 104,-41 104,-41 104,-47 98,-53 92,-53\"/>\n<text text-anchor=\"middle\" x=\"52\" y=\"-37.8\" font-family=\"Helvetica,sans-Serif\" font-size=\"14.00\" fill=\"#000000\">mse = 7.469</text>\n<text text-anchor=\"middle\" x=\"52\" y=\"-22.8\" font-family=\"Helvetica,sans-Serif\" font-size=\"14.00\" fill=\"#000000\">samples = 52</text>\n<text text-anchor=\"middle\" x=\"52\" y=\"-7.8\" font-family=\"Helvetica,sans-Serif\" font-size=\"14.00\" fill=\"#000000\">value = 3.212</text>\n</g>\n<!-- 1&#45;&gt;2 -->\n<g id=\"edge2\" class=\"edge\">\n<title>1&#45;&gt;2</title>\n<path fill=\"none\" stroke=\"#000000\" d=\"M123.8656,-88.9777C113.0167,-79.546 101.2516,-69.3178 90.4426,-59.9208\"/>\n<polygon fill=\"#000000\" stroke=\"#000000\" points=\"92.6108,-57.1681 82.7677,-53.2485 88.0181,-62.4508 92.6108,-57.1681\"/>\n</g>\n<!-- 3 -->\n<g id=\"node4\" class=\"node\">\n<title>3</title>\n<path fill=\"#f9e0ce\" stroke=\"#000000\" d=\"M214,-53C214,-53 134,-53 134,-53 128,-53 122,-47 122,-41 122,-41 122,-12 122,-12 122,-6 128,0 134,0 134,0 214,0 214,0 220,0 226,-6 226,-12 226,-12 226,-41 226,-41 226,-47 220,-53 214,-53\"/>\n<text text-anchor=\"middle\" x=\"174\" y=\"-37.8\" font-family=\"Helvetica,sans-Serif\" font-size=\"14.00\" fill=\"#000000\">mse = 8.302</text>\n<text text-anchor=\"middle\" x=\"174\" y=\"-22.8\" font-family=\"Helvetica,sans-Serif\" font-size=\"14.00\" fill=\"#000000\">samples = 17</text>\n<text text-anchor=\"middle\" x=\"174\" y=\"-7.8\" font-family=\"Helvetica,sans-Serif\" font-size=\"14.00\" fill=\"#000000\">value = 7.918</text>\n</g>\n<!-- 1&#45;&gt;3 -->\n<g id=\"edge3\" class=\"edge\">\n<title>1&#45;&gt;3</title>\n<path fill=\"none\" stroke=\"#000000\" d=\"M166.8782,-88.9777C167.828,-80.6449 168.8488,-71.6903 169.8124,-63.2364\"/>\n<polygon fill=\"#000000\" stroke=\"#000000\" points=\"173.2958,-63.5806 170.951,-53.2485 166.3408,-62.7877 173.2958,-63.5806\"/>\n</g>\n<!-- 5 -->\n<g id=\"node6\" class=\"node\">\n<title>5</title>\n<path fill=\"#f2c09c\" stroke=\"#000000\" d=\"M366.5,-53C366.5,-53 277.5,-53 277.5,-53 271.5,-53 265.5,-47 265.5,-41 265.5,-41 265.5,-12 265.5,-12 265.5,-6 271.5,0 277.5,0 277.5,0 366.5,0 366.5,0 372.5,0 378.5,-6 378.5,-12 378.5,-12 378.5,-41 378.5,-41 378.5,-47 372.5,-53 366.5,-53\"/>\n<text text-anchor=\"middle\" x=\"322\" y=\"-37.8\" font-family=\"Helvetica,sans-Serif\" font-size=\"14.00\" fill=\"#000000\">mse = 6.369</text>\n<text text-anchor=\"middle\" x=\"322\" y=\"-22.8\" font-family=\"Helvetica,sans-Serif\" font-size=\"14.00\" fill=\"#000000\">samples = 4</text>\n<text text-anchor=\"middle\" x=\"322\" y=\"-7.8\" font-family=\"Helvetica,sans-Serif\" font-size=\"14.00\" fill=\"#000000\">value = 12.827</text>\n</g>\n<!-- 4&#45;&gt;5 -->\n<g id=\"edge5\" class=\"edge\">\n<title>4&#45;&gt;5</title>\n<path fill=\"none\" stroke=\"#000000\" d=\"M328.4744,-88.9777C327.6109,-80.6449 326.6829,-71.6903 325.8069,-63.2364\"/>\n<polygon fill=\"#000000\" stroke=\"#000000\" points=\"329.2841,-62.8344 324.7719,-53.2485 322.3213,-63.556 329.2841,-62.8344\"/>\n</g>\n<!-- 6 -->\n<g id=\"node7\" class=\"node\">\n<title>6</title>\n<path fill=\"#e58139\" stroke=\"#000000\" d=\"M497.5,-53C497.5,-53 408.5,-53 408.5,-53 402.5,-53 396.5,-47 396.5,-41 396.5,-41 396.5,-12 396.5,-12 396.5,-6 402.5,0 408.5,0 408.5,0 497.5,0 497.5,0 503.5,0 509.5,-6 509.5,-12 509.5,-12 509.5,-41 509.5,-41 509.5,-47 503.5,-53 497.5,-53\"/>\n<text text-anchor=\"middle\" x=\"453\" y=\"-37.8\" font-family=\"Helvetica,sans-Serif\" font-size=\"14.00\" fill=\"#000000\">mse = 1.373</text>\n<text text-anchor=\"middle\" x=\"453\" y=\"-22.8\" font-family=\"Helvetica,sans-Serif\" font-size=\"14.00\" fill=\"#000000\">samples = 4</text>\n<text text-anchor=\"middle\" x=\"453\" y=\"-7.8\" font-family=\"Helvetica,sans-Serif\" font-size=\"14.00\" fill=\"#000000\">value = 22.386</text>\n</g>\n<!-- 4&#45;&gt;6 -->\n<g id=\"edge6\" class=\"edge\">\n<title>4&#45;&gt;6</title>\n<path fill=\"none\" stroke=\"#000000\" d=\"M374.6601,-88.9777C386.6011,-79.4545 399.5605,-69.1191 411.437,-59.6473\"/>\n<polygon fill=\"#000000\" stroke=\"#000000\" points=\"413.8246,-62.22 419.4605,-53.2485 409.46,-56.7473 413.8246,-62.22\"/>\n</g>\n</g>\n</svg>\n"
          },
          "metadata": {
            "tags": []
          },
          "execution_count": 65
        }
      ]
    },
    {
      "cell_type": "code",
      "metadata": {
        "id": "JtY1DC3pL2Cc"
      },
      "source": [
        "#Converter arquivo .dot em .png\n",
        "!dot -Tpng reg_tree.dot -o target/reg_tree.png"
      ],
      "execution_count": 66,
      "outputs": []
    },
    {
      "cell_type": "code",
      "metadata": {
        "id": "8dtOvgKXMRkf"
      },
      "source": [
        "y_pred = tree_reg.predict(X_test)"
      ],
      "execution_count": 67,
      "outputs": []
    },
    {
      "cell_type": "code",
      "metadata": {
        "colab": {
          "base_uri": "https://localhost:8080/"
        },
        "id": "iGYYCDXYMUHp",
        "outputId": "5e723423-f012-4195-fe96-e96310a8ac99"
      },
      "source": [
        "y_pred"
      ],
      "execution_count": 68,
      "outputs": [
        {
          "output_type": "execute_result",
          "data": {
            "text/plain": [
              "array([22.386     ,  3.211595  ,  3.211595  ,  3.211595  ,  3.211595  ,\n",
              "        7.91843529, 22.386     ,  7.91843529,  3.211595  ,  3.211595  ,\n",
              "        3.211595  ,  3.211595  ,  3.211595  ,  7.91843529,  3.211595  ,\n",
              "        3.211595  ,  3.211595  ,  3.211595  ,  3.211595  ,  3.211595  ])"
            ]
          },
          "metadata": {
            "tags": []
          },
          "execution_count": 68
        }
      ]
    },
    {
      "cell_type": "code",
      "metadata": {
        "colab": {
          "base_uri": "https://localhost:8080/"
        },
        "id": "GFat9NiUMYGC",
        "outputId": "eb358939-571f-4fe0-ee2f-d8f8cf7954f4"
      },
      "source": [
        "#Avaliação do modelo\n",
        "rmse_dtree = sqrt(mean_squared_error(y_test, y_pred))\n",
        "print(rmse_dtree)"
      ],
      "execution_count": 69,
      "outputs": [
        {
          "output_type": "stream",
          "text": [
            "4.215675881663337\n"
          ],
          "name": "stdout"
        }
      ]
    },
    {
      "cell_type": "code",
      "metadata": {
        "colab": {
          "base_uri": "https://localhost:8080/"
        },
        "id": "rYO0Xi9oDKa8",
        "outputId": "8519793d-3313-48d6-8ee3-66db12bf790a"
      },
      "source": [
        "#print(f'RMSE k-NN: {rmse_knn:.3f}\\nRMSE Decition Tree: {rmse_dtree:.3f}')\n",
        "print('RMSE dos modelos\\n\\nk-NN               | Decision Tree')\n",
        "print('-'*40)\n",
        "print(rmse_knn, rmse_dtree, sep=' | ')"
      ],
      "execution_count": 70,
      "outputs": [
        {
          "output_type": "stream",
          "text": [
            "RMSE dos modelos\n",
            "\n",
            "k-NN               | Decision Tree\n",
            "----------------------------------------\n",
            "3.9782475830030886 | 4.215675881663337\n"
          ],
          "name": "stdout"
        }
      ]
    },
    {
      "cell_type": "markdown",
      "metadata": {
        "id": "wtA5BQlqoX8Z"
      },
      "source": [
        "Como os modelos anteriores foram treinados utilizando parâmetros definidios de maneira harbitrária, mesmo que seja possível compará-los usando a métrica escolhida (RMSE), não é possível afirmar que eles já apresentam os melhores resultados que cada algoritmo seria capaz de apresentar para este conjunto de dados.\n",
        "\n",
        "Para buscar resultados mais otimizados que auxiliem na escolha do algoritmo e do modelo, utilizaremos a sintonização de hiperparâmetros usando validação cruzada e testes de valores aleatórios dos hiperparâmetros. Para essa implementação será usada a função `RandomizedSearchCV` da bibliotca Scikit-Learn."
      ]
    },
    {
      "cell_type": "code",
      "metadata": {
        "id": "hAQSB-_loXe7"
      },
      "source": [
        "from sklearn.model_selection import RandomizedSearchCV"
      ],
      "execution_count": 71,
      "outputs": []
    },
    {
      "cell_type": "markdown",
      "metadata": {
        "id": "CL38JwF8q2Bq"
      },
      "source": [
        "#### Aplicação do algoritmo ***k-NN*** com sintonização de hiperparâmetros.\n",
        "\n",
        "---\n",
        "\n",
        "Para seleção do modelo ***k-NN*** abaixo foram realizados testes com valores diferentes para o parâmetro `n_neighbors`."
      ]
    },
    {
      "cell_type": "code",
      "metadata": {
        "id": "em5pnvHBz8WS"
      },
      "source": [
        "#Criação do objeto sem o parâmetro que será analisado\n",
        "knn = KNeighborsRegressor(weights = 'distance')"
      ],
      "execution_count": 72,
      "outputs": []
    },
    {
      "cell_type": "code",
      "metadata": {
        "id": "2RRuGys5q8Gq"
      },
      "source": [
        "#Definição dos valores de parâmetros para teste\n",
        "param = {'n_neighbors': [5, 10, 15, 20, 25, 30]}"
      ],
      "execution_count": 73,
      "outputs": []
    },
    {
      "cell_type": "code",
      "metadata": {
        "id": "qgkM4UHmzJF_"
      },
      "source": [
        "randomGrd_search = RandomizedSearchCV(knn,\n",
        "                                      param,\n",
        "                                      n_iter=20,\n",
        "                                      cv=5,\n",
        "                                      scoring='neg_mean_squared_error')"
      ],
      "execution_count": 74,
      "outputs": []
    },
    {
      "cell_type": "code",
      "metadata": {
        "colab": {
          "base_uri": "https://localhost:8080/"
        },
        "id": "YnItHw_X0_9y",
        "outputId": "7c68ddf5-15db-4406-ebd1-33ef69c74a04"
      },
      "source": [
        "randomGrd_search.fit(X_train, y_train)"
      ],
      "execution_count": 75,
      "outputs": [
        {
          "output_type": "stream",
          "text": [
            "/usr/local/lib/python3.7/dist-packages/sklearn/model_selection/_search.py:281: UserWarning: The total space of parameters 6 is smaller than n_iter=20. Running 6 iterations. For exhaustive searches, use GridSearchCV.\n",
            "  % (grid_size, self.n_iter, grid_size), UserWarning)\n"
          ],
          "name": "stderr"
        },
        {
          "output_type": "execute_result",
          "data": {
            "text/plain": [
              "RandomizedSearchCV(cv=5, error_score=nan,\n",
              "                   estimator=KNeighborsRegressor(algorithm='auto', leaf_size=30,\n",
              "                                                 metric='minkowski',\n",
              "                                                 metric_params=None,\n",
              "                                                 n_jobs=None, n_neighbors=5,\n",
              "                                                 p=2, weights='distance'),\n",
              "                   iid='deprecated', n_iter=20, n_jobs=None,\n",
              "                   param_distributions={'n_neighbors': [5, 10, 15, 20, 25, 30]},\n",
              "                   pre_dispatch='2*n_jobs', random_state=None, refit=True,\n",
              "                   return_train_score=False, scoring='neg_mean_squared_error',\n",
              "                   verbose=0)"
            ]
          },
          "metadata": {
            "tags": []
          },
          "execution_count": 75
        }
      ]
    },
    {
      "cell_type": "code",
      "metadata": {
        "colab": {
          "base_uri": "https://localhost:8080/"
        },
        "id": "rPfUNeQN1C7I",
        "outputId": "1d475736-4c1b-409a-b2ed-fbdf1bf598ec"
      },
      "source": [
        "cvres = randomGrd_search.cv_results_\n",
        "\n",
        "for mean_score, params in zip(cvres['mean_test_score'], cvres['params']):\n",
        "    print(np.sqrt(-mean_score), params)"
      ],
      "execution_count": 76,
      "outputs": [
        {
          "output_type": "stream",
          "text": [
            "3.421699000444819 {'n_neighbors': 5}\n",
            "3.4375151995051834 {'n_neighbors': 10}\n",
            "3.502240429800021 {'n_neighbors': 15}\n",
            "3.5857621897655014 {'n_neighbors': 20}\n",
            "3.6579755754920162 {'n_neighbors': 25}\n",
            "3.738083076740441 {'n_neighbors': 30}\n"
          ],
          "name": "stdout"
        }
      ]
    },
    {
      "cell_type": "code",
      "metadata": {
        "colab": {
          "base_uri": "https://localhost:8080/"
        },
        "id": "3-PpPGq81MQl",
        "outputId": "6fd72fc1-57fb-4c07-ea7f-3ba2efa2457f"
      },
      "source": [
        "print('Parâmetros do melhor modelo:')\n",
        "randomGrd_search.best_params_"
      ],
      "execution_count": 77,
      "outputs": [
        {
          "output_type": "stream",
          "text": [
            "Parâmetros do melhor modelo:\n"
          ],
          "name": "stdout"
        },
        {
          "output_type": "execute_result",
          "data": {
            "text/plain": [
              "{'n_neighbors': 5}"
            ]
          },
          "metadata": {
            "tags": []
          },
          "execution_count": 77
        }
      ]
    },
    {
      "cell_type": "code",
      "metadata": {
        "colab": {
          "base_uri": "https://localhost:8080/"
        },
        "id": "Q4bfQH001XWv",
        "outputId": "dff1cbce-1499-46c5-a7eb-cf7cb0203971"
      },
      "source": [
        "best_rmse_knn = np.sqrt(-randomGrd_search.best_score_)\n",
        "print(f'RMSE Melhor modelo: {best_rmse_knn:.3f}')"
      ],
      "execution_count": 78,
      "outputs": [
        {
          "output_type": "stream",
          "text": [
            "RMSE Melhor modelo: 3.422\n"
          ],
          "name": "stdout"
        }
      ]
    },
    {
      "cell_type": "markdown",
      "metadata": {
        "id": "xcpmnYhn1kui"
      },
      "source": [
        "Criação do modelo baseado no melhor resultado da selação de hiperparâmetros."
      ]
    },
    {
      "cell_type": "code",
      "metadata": {
        "id": "j5ekjauK1ZBN"
      },
      "source": [
        "#Recuperação do modelo treinado\n",
        "best_knn = randomGrd_search.best_estimator_"
      ],
      "execution_count": 79,
      "outputs": []
    },
    {
      "cell_type": "code",
      "metadata": {
        "colab": {
          "base_uri": "https://localhost:8080/"
        },
        "id": "InwZCOFF1pyQ",
        "outputId": "99d6f98c-b0da-42ed-85c0-2031a16da316"
      },
      "source": [
        "#Aplicação do modelo treinado nos dados de teste\n",
        "final_pred = best_knn.predict(X_test)\n",
        "final_pred"
      ],
      "execution_count": 80,
      "outputs": [
        {
          "output_type": "execute_result",
          "data": {
            "text/plain": [
              "array([21.92758308,  1.80275007,  1.7051642 ,  3.51739838, -0.13539576,\n",
              "        6.06857021, 22.5835162 ,  8.03758736,  1.74865393,  2.35961441,\n",
              "        4.31765663,  4.71402868,  2.77345774, 10.2193069 ,  4.81380551,\n",
              "        5.07143949,  1.89242745,  0.98349951,  3.73561435,  4.65381532])"
            ]
          },
          "metadata": {
            "tags": []
          },
          "execution_count": 80
        }
      ]
    },
    {
      "cell_type": "code",
      "metadata": {
        "colab": {
          "base_uri": "https://localhost:8080/"
        },
        "id": "EwWZXQp21253",
        "outputId": "7416ce44-0536-45df-e816-fef76a1f94aa"
      },
      "source": [
        "#Avaliação do modelo\n",
        "final_mse_knn = mean_squared_error(y_test, final_pred)\n",
        "final_rmse_knn = np.sqrt(final_mse_knn)\n",
        "final_rmse_knn"
      ],
      "execution_count": 81,
      "outputs": [
        {
          "output_type": "execute_result",
          "data": {
            "text/plain": [
              "4.155912760314783"
            ]
          },
          "metadata": {
            "tags": []
          },
          "execution_count": 81
        }
      ]
    },
    {
      "cell_type": "markdown",
      "metadata": {
        "id": "DXD2Q4_f5HLz"
      },
      "source": [
        "####Aplicação do algoritmo ***Decision Trees*** com sintonização de hiperparâmetros.\n",
        "\n",
        "---\n",
        "\n",
        "Para seleção do modelo abaixo foram realizados testes com valores diferentes para os parâmetros `max_depth` que define a profundidade da árvore e `criterion`."
      ]
    },
    {
      "cell_type": "code",
      "metadata": {
        "id": "qOV-BuHi3qhr"
      },
      "source": [
        "#help(DecisionTreeRegressor)"
      ],
      "execution_count": 82,
      "outputs": []
    },
    {
      "cell_type": "code",
      "metadata": {
        "id": "X--G85StuDeR"
      },
      "source": [
        "dtree = DecisionTreeRegressor()"
      ],
      "execution_count": 83,
      "outputs": []
    },
    {
      "cell_type": "code",
      "metadata": {
        "id": "5XR7VjeR2H04"
      },
      "source": [
        "param = {'max_depth': [2, 3, 4, None],\n",
        "         'criterion': ['mse', 'friedman_mse', 'mae']}"
      ],
      "execution_count": 84,
      "outputs": []
    },
    {
      "cell_type": "code",
      "metadata": {
        "id": "AvSGRXbT1557"
      },
      "source": [
        "randomGrd_search = RandomizedSearchCV(dtree,\n",
        "                                      param,\n",
        "                                      n_iter=20,\n",
        "                                      cv=5,\n",
        "                                      scoring='neg_mean_squared_error')"
      ],
      "execution_count": 85,
      "outputs": []
    },
    {
      "cell_type": "code",
      "metadata": {
        "colab": {
          "base_uri": "https://localhost:8080/"
        },
        "id": "6eEtEoJc4P7J",
        "outputId": "f03e3b1b-61e0-4a84-b6c2-3c2994eaf6d1"
      },
      "source": [
        "randomGrd_search.fit(X_train, y_train)"
      ],
      "execution_count": 86,
      "outputs": [
        {
          "output_type": "stream",
          "text": [
            "/usr/local/lib/python3.7/dist-packages/sklearn/model_selection/_search.py:281: UserWarning: The total space of parameters 12 is smaller than n_iter=20. Running 12 iterations. For exhaustive searches, use GridSearchCV.\n",
            "  % (grid_size, self.n_iter, grid_size), UserWarning)\n"
          ],
          "name": "stderr"
        },
        {
          "output_type": "execute_result",
          "data": {
            "text/plain": [
              "RandomizedSearchCV(cv=5, error_score=nan,\n",
              "                   estimator=DecisionTreeRegressor(ccp_alpha=0.0,\n",
              "                                                   criterion='mse',\n",
              "                                                   max_depth=None,\n",
              "                                                   max_features=None,\n",
              "                                                   max_leaf_nodes=None,\n",
              "                                                   min_impurity_decrease=0.0,\n",
              "                                                   min_impurity_split=None,\n",
              "                                                   min_samples_leaf=1,\n",
              "                                                   min_samples_split=2,\n",
              "                                                   min_weight_fraction_leaf=0.0,\n",
              "                                                   presort='deprecated',\n",
              "                                                   random_state=None,\n",
              "                                                   splitter='best'),\n",
              "                   iid='deprecated', n_iter=20, n_jobs=None,\n",
              "                   param_distributions={'criterion': ['mse', 'friedman_mse',\n",
              "                                                      'mae'],\n",
              "                                        'max_depth': [2, 3, 4, None]},\n",
              "                   pre_dispatch='2*n_jobs', random_state=None, refit=True,\n",
              "                   return_train_score=False, scoring='neg_mean_squared_error',\n",
              "                   verbose=0)"
            ]
          },
          "metadata": {
            "tags": []
          },
          "execution_count": 86
        }
      ]
    },
    {
      "cell_type": "markdown",
      "metadata": {
        "id": "jsos3CeM9UA8"
      },
      "source": [
        "Abaixo são exisbidos os resultados para as combinações de parâmetros. Em seguida são exibidos os parâmetros e a avaliação do melhor modelo encontrado."
      ]
    },
    {
      "cell_type": "code",
      "metadata": {
        "colab": {
          "base_uri": "https://localhost:8080/"
        },
        "id": "0LHW2bZg4cFq",
        "outputId": "f59de4ee-8cc7-4e8c-d0f0-3e36d05dcae6"
      },
      "source": [
        "cvres = randomGrd_search.cv_results_\n",
        "\n",
        "for mean_score, params in zip(cvres['mean_test_score'], cvres['params']):\n",
        "    print(np.sqrt(-mean_score), params)"
      ],
      "execution_count": 87,
      "outputs": [
        {
          "output_type": "stream",
          "text": [
            "3.1785438718568404 {'max_depth': 2, 'criterion': 'mse'}\n",
            "3.289172585528215 {'max_depth': 3, 'criterion': 'mse'}\n",
            "3.2522741967508164 {'max_depth': 4, 'criterion': 'mse'}\n",
            "4.1125717238964254 {'max_depth': None, 'criterion': 'mse'}\n",
            "3.1785438718568404 {'max_depth': 2, 'criterion': 'friedman_mse'}\n",
            "3.289172585528215 {'max_depth': 3, 'criterion': 'friedman_mse'}\n",
            "3.2522741967508164 {'max_depth': 4, 'criterion': 'friedman_mse'}\n",
            "4.1125717238964254 {'max_depth': None, 'criterion': 'friedman_mse'}\n",
            "3.3392085336981676 {'max_depth': 2, 'criterion': 'mae'}\n",
            "3.2540882640699964 {'max_depth': 3, 'criterion': 'mae'}\n",
            "3.632254573071467 {'max_depth': 4, 'criterion': 'mae'}\n",
            "4.112562991735497 {'max_depth': None, 'criterion': 'mae'}\n"
          ],
          "name": "stdout"
        }
      ]
    },
    {
      "cell_type": "code",
      "metadata": {
        "colab": {
          "base_uri": "https://localhost:8080/"
        },
        "id": "_U-h6jkq788F",
        "outputId": "664de209-6a0f-46a7-d95b-d6f279cd9dc2"
      },
      "source": [
        "print('Parâmetros do melhor modelo:')\n",
        "randomGrd_search.best_params_"
      ],
      "execution_count": 88,
      "outputs": [
        {
          "output_type": "stream",
          "text": [
            "Parâmetros do melhor modelo:\n"
          ],
          "name": "stdout"
        },
        {
          "output_type": "execute_result",
          "data": {
            "text/plain": [
              "{'criterion': 'mse', 'max_depth': 2}"
            ]
          },
          "metadata": {
            "tags": []
          },
          "execution_count": 88
        }
      ]
    },
    {
      "cell_type": "code",
      "metadata": {
        "colab": {
          "base_uri": "https://localhost:8080/"
        },
        "id": "5d0Lx2Ja8gAm",
        "outputId": "caff709e-1006-4f4b-a142-3737291fa227"
      },
      "source": [
        "best_rmse_tree = np.sqrt(-randomGrd_search.best_score_)\n",
        "print(f'RMSE Melhor modelo: {best_rmse_tree:.3f}')"
      ],
      "execution_count": 89,
      "outputs": [
        {
          "output_type": "stream",
          "text": [
            "RMSE Melhor modelo: 3.179\n"
          ],
          "name": "stdout"
        }
      ]
    },
    {
      "cell_type": "markdown",
      "metadata": {
        "id": "tEbf7mi2-gV6"
      },
      "source": [
        "Criação de um modelo com base nos melhores parâmetros."
      ]
    },
    {
      "cell_type": "code",
      "metadata": {
        "id": "ss3OOxB29_y0"
      },
      "source": [
        "#Recuperação do modelo treinado\n",
        "best_tree = randomGrd_search.best_estimator_"
      ],
      "execution_count": 90,
      "outputs": []
    },
    {
      "cell_type": "code",
      "metadata": {
        "id": "sD7TKe9F-K_Q",
        "colab": {
          "base_uri": "https://localhost:8080/"
        },
        "outputId": "59651d41-50cc-43ac-8eff-4541eb4a5970"
      },
      "source": [
        "#Aplicação do modelo treinado nos dados de teste\n",
        "final_pred = best_tree.predict(X_test)\n",
        "final_pred"
      ],
      "execution_count": 91,
      "outputs": [
        {
          "output_type": "execute_result",
          "data": {
            "text/plain": [
              "array([22.386     ,  3.211595  ,  3.211595  ,  3.211595  ,  3.211595  ,\n",
              "        7.91843529, 22.386     ,  7.91843529,  3.211595  ,  3.211595  ,\n",
              "        3.211595  ,  3.211595  ,  3.211595  ,  7.91843529,  3.211595  ,\n",
              "        3.211595  ,  3.211595  ,  3.211595  ,  3.211595  ,  3.211595  ])"
            ]
          },
          "metadata": {
            "tags": []
          },
          "execution_count": 91
        }
      ]
    },
    {
      "cell_type": "code",
      "metadata": {
        "colab": {
          "base_uri": "https://localhost:8080/"
        },
        "id": "ZTlbIzdC-VP1",
        "outputId": "435cd0cb-6fd4-48b4-9c67-be137fc87808"
      },
      "source": [
        "#Avaliação do modelo\n",
        "final_mse_dtree = mean_squared_error(y_test, final_pred)\n",
        "final_rmse_dtree = np.sqrt(final_mse_dtree)\n",
        "final_rmse_dtree"
      ],
      "execution_count": 92,
      "outputs": [
        {
          "output_type": "execute_result",
          "data": {
            "text/plain": [
              "4.215675881663337"
            ]
          },
          "metadata": {
            "tags": []
          },
          "execution_count": 92
        }
      ]
    },
    {
      "cell_type": "markdown",
      "metadata": {
        "id": "8t4VtHd74evz"
      },
      "source": [
        "**Comparação dos resultados finais**"
      ]
    },
    {
      "cell_type": "code",
      "metadata": {
        "colab": {
          "base_uri": "https://localhost:8080/"
        },
        "id": "HuUAgdh64V7Y",
        "outputId": "e42cb148-ce12-4f0b-b93f-11a910f1e164"
      },
      "source": [
        "print('RMSE dos modelos selecionados\\n\\nAnálise      | k-NN              | Decision Tree')\n",
        "print('-'*55)\n",
        "print('Val. Cruzada', best_rmse_knn, best_rmse_tree, sep=' | ')\n",
        "print('Teste       ', final_rmse_knn, final_rmse_dtree, sep=' | ')"
      ],
      "execution_count": 93,
      "outputs": [
        {
          "output_type": "stream",
          "text": [
            "RMSE dos modelos selecionados\n",
            "\n",
            "Análise      | k-NN              | Decision Tree\n",
            "-------------------------------------------------------\n",
            "Val. Cruzada | 3.421699000444819 | 3.1785438718568404\n",
            "Teste        | 4.155912760314783 | 4.215675881663337\n"
          ],
          "name": "stdout"
        }
      ]
    },
    {
      "cell_type": "markdown",
      "metadata": {
        "id": "OngUTTk-FW2T"
      },
      "source": [
        "###1.1.2 Regressão com múltiplas variáveis"
      ]
    },
    {
      "cell_type": "markdown",
      "metadata": {
        "id": "moRCHek7Fc_w"
      },
      "source": [
        "Análise preliminar dos dados"
      ]
    },
    {
      "cell_type": "code",
      "metadata": {
        "id": "JNaD42q0FdG_",
        "colab": {
          "base_uri": "https://localhost:8080/",
          "height": 198
        },
        "outputId": "8ec4635d-d2fe-4499-f1b8-e4e4feb3c0da"
      },
      "source": [
        "#Carga dos dados usando as bibliotecas pandas e numpy\n",
        "#arquivo = 'data/ex1data2.txt'\n",
        "arquivo = 'https://raw.githubusercontent.com/MLRG-CEFET-RJ/ml-class/master/ml-t1/data/ex1data2.txt'\n",
        "dados = pd.read_table(arquivo,\n",
        "                      sep=',',\n",
        "                      header=None,\n",
        "                      names=['Tamanho', 'Dormitorios', 'Preco'])\n",
        "\n",
        "dados.head()"
      ],
      "execution_count": 94,
      "outputs": [
        {
          "output_type": "execute_result",
          "data": {
            "text/html": [
              "<div>\n",
              "<style scoped>\n",
              "    .dataframe tbody tr th:only-of-type {\n",
              "        vertical-align: middle;\n",
              "    }\n",
              "\n",
              "    .dataframe tbody tr th {\n",
              "        vertical-align: top;\n",
              "    }\n",
              "\n",
              "    .dataframe thead th {\n",
              "        text-align: right;\n",
              "    }\n",
              "</style>\n",
              "<table border=\"1\" class=\"dataframe\">\n",
              "  <thead>\n",
              "    <tr style=\"text-align: right;\">\n",
              "      <th></th>\n",
              "      <th>Tamanho</th>\n",
              "      <th>Dormitorios</th>\n",
              "      <th>Preco</th>\n",
              "    </tr>\n",
              "  </thead>\n",
              "  <tbody>\n",
              "    <tr>\n",
              "      <th>0</th>\n",
              "      <td>2104</td>\n",
              "      <td>3</td>\n",
              "      <td>399900</td>\n",
              "    </tr>\n",
              "    <tr>\n",
              "      <th>1</th>\n",
              "      <td>1600</td>\n",
              "      <td>3</td>\n",
              "      <td>329900</td>\n",
              "    </tr>\n",
              "    <tr>\n",
              "      <th>2</th>\n",
              "      <td>2400</td>\n",
              "      <td>3</td>\n",
              "      <td>369000</td>\n",
              "    </tr>\n",
              "    <tr>\n",
              "      <th>3</th>\n",
              "      <td>1416</td>\n",
              "      <td>2</td>\n",
              "      <td>232000</td>\n",
              "    </tr>\n",
              "    <tr>\n",
              "      <th>4</th>\n",
              "      <td>3000</td>\n",
              "      <td>4</td>\n",
              "      <td>539900</td>\n",
              "    </tr>\n",
              "  </tbody>\n",
              "</table>\n",
              "</div>"
            ],
            "text/plain": [
              "   Tamanho  Dormitorios   Preco\n",
              "0     2104            3  399900\n",
              "1     1600            3  329900\n",
              "2     2400            3  369000\n",
              "3     1416            2  232000\n",
              "4     3000            4  539900"
            ]
          },
          "metadata": {
            "tags": []
          },
          "execution_count": 94
        }
      ]
    },
    {
      "cell_type": "code",
      "metadata": {
        "colab": {
          "base_uri": "https://localhost:8080/"
        },
        "id": "o94OfYZYeMYj",
        "outputId": "7401f803-afe9-4348-874f-964b58b5a8d5"
      },
      "source": [
        "dados.info()"
      ],
      "execution_count": 95,
      "outputs": [
        {
          "output_type": "stream",
          "text": [
            "<class 'pandas.core.frame.DataFrame'>\n",
            "RangeIndex: 47 entries, 0 to 46\n",
            "Data columns (total 3 columns):\n",
            " #   Column       Non-Null Count  Dtype\n",
            "---  ------       --------------  -----\n",
            " 0   Tamanho      47 non-null     int64\n",
            " 1   Dormitorios  47 non-null     int64\n",
            " 2   Preco        47 non-null     int64\n",
            "dtypes: int64(3)\n",
            "memory usage: 1.2 KB\n"
          ],
          "name": "stdout"
        }
      ]
    },
    {
      "cell_type": "code",
      "metadata": {
        "colab": {
          "base_uri": "https://localhost:8080/",
          "height": 288
        },
        "id": "wb3K47oIeJpM",
        "outputId": "58f335c1-176f-4639-9495-ba5e2752aa64"
      },
      "source": [
        "dados.describe()"
      ],
      "execution_count": 96,
      "outputs": [
        {
          "output_type": "execute_result",
          "data": {
            "text/html": [
              "<div>\n",
              "<style scoped>\n",
              "    .dataframe tbody tr th:only-of-type {\n",
              "        vertical-align: middle;\n",
              "    }\n",
              "\n",
              "    .dataframe tbody tr th {\n",
              "        vertical-align: top;\n",
              "    }\n",
              "\n",
              "    .dataframe thead th {\n",
              "        text-align: right;\n",
              "    }\n",
              "</style>\n",
              "<table border=\"1\" class=\"dataframe\">\n",
              "  <thead>\n",
              "    <tr style=\"text-align: right;\">\n",
              "      <th></th>\n",
              "      <th>Tamanho</th>\n",
              "      <th>Dormitorios</th>\n",
              "      <th>Preco</th>\n",
              "    </tr>\n",
              "  </thead>\n",
              "  <tbody>\n",
              "    <tr>\n",
              "      <th>count</th>\n",
              "      <td>47.000000</td>\n",
              "      <td>47.000000</td>\n",
              "      <td>47.000000</td>\n",
              "    </tr>\n",
              "    <tr>\n",
              "      <th>mean</th>\n",
              "      <td>2000.680851</td>\n",
              "      <td>3.170213</td>\n",
              "      <td>340412.659574</td>\n",
              "    </tr>\n",
              "    <tr>\n",
              "      <th>std</th>\n",
              "      <td>794.702354</td>\n",
              "      <td>0.760982</td>\n",
              "      <td>125039.899586</td>\n",
              "    </tr>\n",
              "    <tr>\n",
              "      <th>min</th>\n",
              "      <td>852.000000</td>\n",
              "      <td>1.000000</td>\n",
              "      <td>169900.000000</td>\n",
              "    </tr>\n",
              "    <tr>\n",
              "      <th>25%</th>\n",
              "      <td>1432.000000</td>\n",
              "      <td>3.000000</td>\n",
              "      <td>249900.000000</td>\n",
              "    </tr>\n",
              "    <tr>\n",
              "      <th>50%</th>\n",
              "      <td>1888.000000</td>\n",
              "      <td>3.000000</td>\n",
              "      <td>299900.000000</td>\n",
              "    </tr>\n",
              "    <tr>\n",
              "      <th>75%</th>\n",
              "      <td>2269.000000</td>\n",
              "      <td>4.000000</td>\n",
              "      <td>384450.000000</td>\n",
              "    </tr>\n",
              "    <tr>\n",
              "      <th>max</th>\n",
              "      <td>4478.000000</td>\n",
              "      <td>5.000000</td>\n",
              "      <td>699900.000000</td>\n",
              "    </tr>\n",
              "  </tbody>\n",
              "</table>\n",
              "</div>"
            ],
            "text/plain": [
              "           Tamanho  Dormitorios          Preco\n",
              "count    47.000000    47.000000      47.000000\n",
              "mean   2000.680851     3.170213  340412.659574\n",
              "std     794.702354     0.760982  125039.899586\n",
              "min     852.000000     1.000000  169900.000000\n",
              "25%    1432.000000     3.000000  249900.000000\n",
              "50%    1888.000000     3.000000  299900.000000\n",
              "75%    2269.000000     4.000000  384450.000000\n",
              "max    4478.000000     5.000000  699900.000000"
            ]
          },
          "metadata": {
            "tags": []
          },
          "execution_count": 96
        }
      ]
    },
    {
      "cell_type": "markdown",
      "metadata": {
        "id": "iHZMJ1w_hHUq"
      },
      "source": [
        "Conforme análise das características do conjunto de dados, temos \"Tamanho\" na escala de 852 a 4478, enquanto \"Dormitórios\" apresenta escala de 1 a 5. Para geração de modelos usando estas características realizamos a padronização das esclas usando a função `StandardScaler` que gera novas características com base na subtração da média dos valores originais e em seguida pela divisão desta subtração pela da variância dos valores."
      ]
    },
    {
      "cell_type": "code",
      "metadata": {
        "id": "b8Wu4MmQfnHx"
      },
      "source": [
        "#Organização dos dados em váveis separadas\n",
        "X, y = read_dataset(arquivo)"
      ],
      "execution_count": 97,
      "outputs": []
    },
    {
      "cell_type": "code",
      "metadata": {
        "colab": {
          "base_uri": "https://localhost:8080/"
        },
        "id": "RG7S9AKxgfXZ",
        "outputId": "ce3247e6-ab51-41eb-8107-f52d92e5657f"
      },
      "source": [
        "X[:5]"
      ],
      "execution_count": 98,
      "outputs": [
        {
          "output_type": "execute_result",
          "data": {
            "text/plain": [
              "array([[2104,    3],\n",
              "       [1600,    3],\n",
              "       [2400,    3],\n",
              "       [1416,    2],\n",
              "       [3000,    4]])"
            ]
          },
          "metadata": {
            "tags": []
          },
          "execution_count": 98
        }
      ]
    },
    {
      "cell_type": "code",
      "metadata": {
        "id": "ZIvl3CwrjaVt"
      },
      "source": [
        "#Divisão dos valores em treino e teste\n",
        "#OBSERVAÇÃO: random_state está sendo usado para reprodutibilidade dos resultados\n",
        "X_train, X_test, y_train, y_test = train_test_split(X, y, \n",
        "                                                    test_size=0.2, \n",
        "                                                    random_state=42)"
      ],
      "execution_count": 99,
      "outputs": []
    },
    {
      "cell_type": "code",
      "metadata": {
        "id": "hMW3_wjNe1mm"
      },
      "source": [
        "from sklearn.preprocessing import StandardScaler\n",
        "std_norm = StandardScaler()"
      ],
      "execution_count": 100,
      "outputs": []
    },
    {
      "cell_type": "code",
      "metadata": {
        "id": "94PIQVfPfFtX"
      },
      "source": [
        "X_train_norm = std_norm.fit_transform(X_train)"
      ],
      "execution_count": 101,
      "outputs": []
    },
    {
      "cell_type": "markdown",
      "metadata": {
        "id": "rc5rUnq5-8FA"
      },
      "source": [
        "Exibição dos primeiros registros das características normalizadas."
      ]
    },
    {
      "cell_type": "code",
      "metadata": {
        "colab": {
          "base_uri": "https://localhost:8080/"
        },
        "id": "KcGeJdC2gcLF",
        "outputId": "48897f36-534e-42c0-8224-0c112c13d677"
      },
      "source": [
        "X_train_norm[:5]"
      ],
      "execution_count": 102,
      "outputs": [
        {
          "output_type": "execute_result",
          "data": {
            "text/plain": [
              "array([[-0.77562586, -0.16666667],\n",
              "       [-0.72751943, -1.4       ],\n",
              "       [-0.56983725, -0.16666667],\n",
              "       [-0.3961196 , -1.4       ],\n",
              "       [ 1.57223508, -0.16666667]])"
            ]
          },
          "metadata": {
            "tags": []
          },
          "execution_count": 102
        }
      ]
    },
    {
      "cell_type": "markdown",
      "metadata": {
        "id": "mt2fO8Eg-rxT"
      },
      "source": [
        "####Aplicação do algoritmo ***k-NN*** para múltiplas variáveis com sintonização de hiperparâmetros.\n",
        "\n",
        "---\n",
        "\n",
        "Para seleção do modelo ***k-NN*** abaixo foram realizados testes com valores diferentes para o parâmetro `n_neighbors`."
      ]
    },
    {
      "cell_type": "code",
      "metadata": {
        "id": "Ih99ekXOkmi4"
      },
      "source": [
        "#Criação do objeto sem o parâmetro que será analisado\n",
        "knn_multi = KNeighborsRegressor(weights = 'distance')"
      ],
      "execution_count": 103,
      "outputs": []
    },
    {
      "cell_type": "code",
      "metadata": {
        "id": "cvyv_TISkpAL"
      },
      "source": [
        "#Definição dos valores de parâmetros para teste\n",
        "param = {'n_neighbors': [5, 10, 15, 20, 25, 30]}\n",
        "folds = 10\n",
        "iter = 20"
      ],
      "execution_count": 104,
      "outputs": []
    },
    {
      "cell_type": "code",
      "metadata": {
        "id": "Rntzt5UMkvD7"
      },
      "source": [
        "#Seleção do modelo\n",
        "randomGrd_search = RandomizedSearchCV(knn_multi,\n",
        "                                      param,\n",
        "                                      n_iter=iter,\n",
        "                                      cv=folds,\n",
        "                                      scoring='neg_mean_squared_error')"
      ],
      "execution_count": 105,
      "outputs": []
    },
    {
      "cell_type": "code",
      "metadata": {
        "colab": {
          "base_uri": "https://localhost:8080/"
        },
        "id": "HTlEaR9olHhx",
        "outputId": "1a806304-1e48-47d5-a1cf-4aebdc4b6337"
      },
      "source": [
        "randomGrd_search.fit(X_train_norm, y_train)"
      ],
      "execution_count": 106,
      "outputs": [
        {
          "output_type": "stream",
          "text": [
            "/usr/local/lib/python3.7/dist-packages/sklearn/model_selection/_search.py:281: UserWarning: The total space of parameters 6 is smaller than n_iter=20. Running 6 iterations. For exhaustive searches, use GridSearchCV.\n",
            "  % (grid_size, self.n_iter, grid_size), UserWarning)\n"
          ],
          "name": "stderr"
        },
        {
          "output_type": "execute_result",
          "data": {
            "text/plain": [
              "RandomizedSearchCV(cv=10, error_score=nan,\n",
              "                   estimator=KNeighborsRegressor(algorithm='auto', leaf_size=30,\n",
              "                                                 metric='minkowski',\n",
              "                                                 metric_params=None,\n",
              "                                                 n_jobs=None, n_neighbors=5,\n",
              "                                                 p=2, weights='distance'),\n",
              "                   iid='deprecated', n_iter=20, n_jobs=None,\n",
              "                   param_distributions={'n_neighbors': [5, 10, 15, 20, 25, 30]},\n",
              "                   pre_dispatch='2*n_jobs', random_state=None, refit=True,\n",
              "                   return_train_score=False, scoring='neg_mean_squared_error',\n",
              "                   verbose=0)"
            ]
          },
          "metadata": {
            "tags": []
          },
          "execution_count": 106
        }
      ]
    },
    {
      "cell_type": "code",
      "metadata": {
        "colab": {
          "base_uri": "https://localhost:8080/"
        },
        "id": "N-o-0_yflSCI",
        "outputId": "5f2faca1-92ac-4dea-9276-318dd938cadf"
      },
      "source": [
        "cvres = randomGrd_search.cv_results_\n",
        "\n",
        "for mean_score, params in zip(cvres['mean_test_score'], cvres['params']):\n",
        "    print(np.sqrt(-mean_score), params)"
      ],
      "execution_count": 107,
      "outputs": [
        {
          "output_type": "stream",
          "text": [
            "89173.06023867214 {'n_neighbors': 5}\n",
            "93454.50479832542 {'n_neighbors': 10}\n",
            "95139.19854183818 {'n_neighbors': 15}\n",
            "98240.57896269095 {'n_neighbors': 20}\n",
            "101649.78472920597 {'n_neighbors': 25}\n",
            "103559.9205182651 {'n_neighbors': 30}\n"
          ],
          "name": "stdout"
        }
      ]
    },
    {
      "cell_type": "code",
      "metadata": {
        "colab": {
          "base_uri": "https://localhost:8080/"
        },
        "id": "D1Gp4rpslcTO",
        "outputId": "719dd596-04a4-41ad-8a00-b83e1988c1d3"
      },
      "source": [
        "print('Parâmetros do melhor modelo:')\n",
        "randomGrd_search.best_params_"
      ],
      "execution_count": 108,
      "outputs": [
        {
          "output_type": "stream",
          "text": [
            "Parâmetros do melhor modelo:\n"
          ],
          "name": "stdout"
        },
        {
          "output_type": "execute_result",
          "data": {
            "text/plain": [
              "{'n_neighbors': 5}"
            ]
          },
          "metadata": {
            "tags": []
          },
          "execution_count": 108
        }
      ]
    },
    {
      "cell_type": "code",
      "metadata": {
        "colab": {
          "base_uri": "https://localhost:8080/"
        },
        "id": "SPqAYgL9lite",
        "outputId": "88e8551e-0dd1-470c-cdfc-b1e9a59e4d24"
      },
      "source": [
        "best_rmse_knn_multi = np.sqrt(-randomGrd_search.best_score_)\n",
        "print(f'RMSE Melhor modelo: {best_rmse_knn_multi:.3f}')"
      ],
      "execution_count": 109,
      "outputs": [
        {
          "output_type": "stream",
          "text": [
            "RMSE Melhor modelo: 89173.060\n"
          ],
          "name": "stdout"
        }
      ]
    },
    {
      "cell_type": "code",
      "metadata": {
        "id": "2MnKi6IDmfWc"
      },
      "source": [
        "best_knn_multi = randomGrd_search.best_estimator_"
      ],
      "execution_count": 110,
      "outputs": []
    },
    {
      "cell_type": "code",
      "metadata": {
        "id": "m4881Zr7n4yK"
      },
      "source": [
        "X_test_norm = std_norm.transform(X_test)"
      ],
      "execution_count": 111,
      "outputs": []
    },
    {
      "cell_type": "code",
      "metadata": {
        "colab": {
          "base_uri": "https://localhost:8080/"
        },
        "id": "LmCYEnKfoD-B",
        "outputId": "2f2ee034-9317-4855-beaa-db5a4ad66d28"
      },
      "source": [
        "X_test_norm"
      ],
      "execution_count": 112,
      "outputs": [
        {
          "output_type": "execute_result",
          "data": {
            "text/plain": [
              "array([[ 0.7557621 , -0.16666667],\n",
              "       [ 0.26935266,  1.06666667],\n",
              "       [-0.67139527, -0.16666667],\n",
              "       [-1.016158  , -0.16666667],\n",
              "       [ 2.5784612 , -0.16666667],\n",
              "       [-0.9640427 , -0.16666667],\n",
              "       [-0.09411813, -0.16666667],\n",
              "       [ 1.43058838,  1.06666667],\n",
              "       [ 1.3891634 ,  1.06666667],\n",
              "       [-1.14978697, -0.16666667]])"
            ]
          },
          "metadata": {
            "tags": []
          },
          "execution_count": 112
        }
      ]
    },
    {
      "cell_type": "code",
      "metadata": {
        "colab": {
          "base_uri": "https://localhost:8080/"
        },
        "id": "5EJ_tOkWmkIV",
        "outputId": "1ac70888-7027-452e-8e65-9e5979dba495"
      },
      "source": [
        "y_pred = best_knn_multi.predict(X_test_norm)\n",
        "y_pred"
      ],
      "execution_count": 113,
      "outputs": [
        {
          "output_type": "execute_result",
          "data": {
            "text/plain": [
              "array([[355079.60585198],\n",
              "       [342191.83142914],\n",
              "       [238838.70312658],\n",
              "       [236567.75201609],\n",
              "       [479465.38956135],\n",
              "       [207865.55639361],\n",
              "       [314377.27434853],\n",
              "       [431224.78985145],\n",
              "       [430267.63439037],\n",
              "       [226282.35596918]])"
            ]
          },
          "metadata": {
            "tags": []
          },
          "execution_count": 113
        }
      ]
    },
    {
      "cell_type": "code",
      "metadata": {
        "id": "GjnOqSi7oKT7",
        "colab": {
          "base_uri": "https://localhost:8080/"
        },
        "outputId": "3fe59f13-fb59-433c-9317-557134111ac1"
      },
      "source": [
        "#Avaliação do modelo\n",
        "final_mse_knn_multi = mean_squared_error(y_test, y_pred)\n",
        "final_rmse_knn_multi = np.sqrt(final_mse_knn_multi)\n",
        "final_rmse_knn_multi"
      ],
      "execution_count": 114,
      "outputs": [
        {
          "output_type": "execute_result",
          "data": {
            "text/plain": [
              "110098.96523558114"
            ]
          },
          "metadata": {
            "tags": []
          },
          "execution_count": 114
        }
      ]
    },
    {
      "cell_type": "markdown",
      "metadata": {
        "id": "Jmt596ZkkU0l"
      },
      "source": [
        "####Aplicação do algoritmo ***Decision Trees*** para múltiplas variáveis com sintonização de hiperparâmetros.\n",
        "\n",
        "---\n",
        "\n",
        "Para seleção do modelo abaixo foram realizados testes com valores diferentes para os parâmetros `max_depth` que define a profundidade da árvore e `criterion`."
      ]
    },
    {
      "cell_type": "code",
      "metadata": {
        "id": "g2ccmbtwjj9G"
      },
      "source": [
        "#Criação do objeto para treinamento seleção do modelo\n",
        "dtree_multi = DecisionTreeRegressor()"
      ],
      "execution_count": 115,
      "outputs": []
    },
    {
      "cell_type": "code",
      "metadata": {
        "id": "btaoN6_yASN8"
      },
      "source": [
        "param = {'max_depth': [2, 3, 4, None],\n",
        "         'criterion': ['mse', 'friedman_mse', 'mae']}\n",
        "folds = 10\n",
        "iter = 20"
      ],
      "execution_count": 116,
      "outputs": []
    },
    {
      "cell_type": "code",
      "metadata": {
        "id": "M8mj9-2zAdT-"
      },
      "source": [
        "randomGrd_search = RandomizedSearchCV(dtree_multi,\n",
        "                                      param,\n",
        "                                      n_iter=iter,\n",
        "                                      cv=folds,\n",
        "                                      scoring='neg_mean_squared_error')"
      ],
      "execution_count": 117,
      "outputs": []
    },
    {
      "cell_type": "code",
      "metadata": {
        "colab": {
          "base_uri": "https://localhost:8080/"
        },
        "id": "3R8dXHQuAo8D",
        "outputId": "5a3e24ed-23d2-4969-f088-fe9803a60a82"
      },
      "source": [
        "#Aplicação do randomized grid search para seleção do modelo\n",
        "randomGrd_search.fit(X_train_norm, y_train)"
      ],
      "execution_count": 118,
      "outputs": [
        {
          "output_type": "stream",
          "text": [
            "/usr/local/lib/python3.7/dist-packages/sklearn/model_selection/_search.py:281: UserWarning: The total space of parameters 12 is smaller than n_iter=20. Running 12 iterations. For exhaustive searches, use GridSearchCV.\n",
            "  % (grid_size, self.n_iter, grid_size), UserWarning)\n"
          ],
          "name": "stderr"
        },
        {
          "output_type": "execute_result",
          "data": {
            "text/plain": [
              "RandomizedSearchCV(cv=10, error_score=nan,\n",
              "                   estimator=DecisionTreeRegressor(ccp_alpha=0.0,\n",
              "                                                   criterion='mse',\n",
              "                                                   max_depth=None,\n",
              "                                                   max_features=None,\n",
              "                                                   max_leaf_nodes=None,\n",
              "                                                   min_impurity_decrease=0.0,\n",
              "                                                   min_impurity_split=None,\n",
              "                                                   min_samples_leaf=1,\n",
              "                                                   min_samples_split=2,\n",
              "                                                   min_weight_fraction_leaf=0.0,\n",
              "                                                   presort='deprecated',\n",
              "                                                   random_state=None,\n",
              "                                                   splitter='best'),\n",
              "                   iid='deprecated', n_iter=20, n_jobs=None,\n",
              "                   param_distributions={'criterion': ['mse', 'friedman_mse',\n",
              "                                                      'mae'],\n",
              "                                        'max_depth': [2, 3, 4, None]},\n",
              "                   pre_dispatch='2*n_jobs', random_state=None, refit=True,\n",
              "                   return_train_score=False, scoring='neg_mean_squared_error',\n",
              "                   verbose=0)"
            ]
          },
          "metadata": {
            "tags": []
          },
          "execution_count": 118
        }
      ]
    },
    {
      "cell_type": "code",
      "metadata": {
        "colab": {
          "base_uri": "https://localhost:8080/"
        },
        "id": "WH9p8LfbAvXz",
        "outputId": "8e56066a-379b-4344-b7cc-2f966e02f436"
      },
      "source": [
        "cvres = randomGrd_search.cv_results_\n",
        "\n",
        "for mean_score, params in zip(cvres['mean_test_score'], cvres['params']):\n",
        "    print(np.sqrt(-mean_score), params)"
      ],
      "execution_count": 119,
      "outputs": [
        {
          "output_type": "stream",
          "text": [
            "90019.82674720637 {'max_depth': 2, 'criterion': 'mse'}\n",
            "88517.28882579893 {'max_depth': 3, 'criterion': 'mse'}\n",
            "99996.2289004372 {'max_depth': 4, 'criterion': 'mse'}\n",
            "105172.40436766196 {'max_depth': None, 'criterion': 'mse'}\n",
            "90019.82674720637 {'max_depth': 2, 'criterion': 'friedman_mse'}\n",
            "87988.09272010982 {'max_depth': 3, 'criterion': 'friedman_mse'}\n",
            "99068.38723762585 {'max_depth': 4, 'criterion': 'friedman_mse'}\n",
            "104214.84104391435 {'max_depth': None, 'criterion': 'friedman_mse'}\n",
            "93773.17343920027 {'max_depth': 2, 'criterion': 'mae'}\n",
            "94670.98542386151 {'max_depth': 3, 'criterion': 'mae'}\n",
            "102797.15629379866 {'max_depth': 4, 'criterion': 'mae'}\n",
            "105756.3389296752 {'max_depth': None, 'criterion': 'mae'}\n"
          ],
          "name": "stdout"
        }
      ]
    },
    {
      "cell_type": "code",
      "metadata": {
        "colab": {
          "base_uri": "https://localhost:8080/"
        },
        "id": "ZZDN04apA2KB",
        "outputId": "e1f4659c-b50a-402b-c155-b5776a7b79d3"
      },
      "source": [
        "print('Parâmetros do melhor modelo:')\n",
        "randomGrd_search.best_params_"
      ],
      "execution_count": 120,
      "outputs": [
        {
          "output_type": "stream",
          "text": [
            "Parâmetros do melhor modelo:\n"
          ],
          "name": "stdout"
        },
        {
          "output_type": "execute_result",
          "data": {
            "text/plain": [
              "{'criterion': 'friedman_mse', 'max_depth': 3}"
            ]
          },
          "metadata": {
            "tags": []
          },
          "execution_count": 120
        }
      ]
    },
    {
      "cell_type": "code",
      "metadata": {
        "colab": {
          "base_uri": "https://localhost:8080/"
        },
        "id": "NrjPBkJmA-pa",
        "outputId": "bbe6c1d3-829c-4e0c-977b-998d42ad9f86"
      },
      "source": [
        "best_rmse_dtree_multi = np.sqrt(-randomGrd_search.best_score_)\n",
        "print(f'RMSE Melhor modelo: {best_rmse_dtree_multi:.3f}')"
      ],
      "execution_count": 121,
      "outputs": [
        {
          "output_type": "stream",
          "text": [
            "RMSE Melhor modelo: 87988.093\n"
          ],
          "name": "stdout"
        }
      ]
    },
    {
      "cell_type": "code",
      "metadata": {
        "id": "Xr9Gb4TdBS7e"
      },
      "source": [
        "#Recuperação do modelo treinado\n",
        "best_tree_multi = randomGrd_search.best_estimator_"
      ],
      "execution_count": 122,
      "outputs": []
    },
    {
      "cell_type": "code",
      "metadata": {
        "colab": {
          "base_uri": "https://localhost:8080/"
        },
        "id": "gocVTSV6BiM4",
        "outputId": "3e20ba1e-ef25-4414-b964-163f9bf9456e"
      },
      "source": [
        "#Aplicação do modelo treinado nos dados de teste\n",
        "y_pred = best_tree_multi.predict(X_test_norm)\n",
        "y_pred"
      ],
      "execution_count": 123,
      "outputs": [
        {
          "output_type": "execute_result",
          "data": {
            "text/plain": [
              "array([384459.8       , 384459.8       , 225854.45454545, 225854.45454545,\n",
              "       549000.        , 225854.45454545, 291633.25      , 579900.        ,\n",
              "       579900.        , 225854.45454545])"
            ]
          },
          "metadata": {
            "tags": []
          },
          "execution_count": 123
        }
      ]
    },
    {
      "cell_type": "code",
      "metadata": {
        "colab": {
          "base_uri": "https://localhost:8080/"
        },
        "id": "OGpR54Z4Bolf",
        "outputId": "82ecdf8e-fc8a-43ef-af07-923a8d2e2f0f"
      },
      "source": [
        "#Avaliação do modelo\n",
        "final_mse_dtree_multi = mean_squared_error(y_test, y_pred)\n",
        "final_rmse_dtree_multi = np.sqrt(final_mse_dtree_multi)\n",
        "final_rmse_dtree_multi"
      ],
      "execution_count": 124,
      "outputs": [
        {
          "output_type": "execute_result",
          "data": {
            "text/plain": [
              "91432.34147965061"
            ]
          },
          "metadata": {
            "tags": []
          },
          "execution_count": 124
        }
      ]
    },
    {
      "cell_type": "code",
      "metadata": {
        "colab": {
          "base_uri": "https://localhost:8080/"
        },
        "id": "64fEeaK3B44N",
        "outputId": "b7edc2b7-0aad-430b-ad7d-9cf1cc429e85"
      },
      "source": [
        "print('RMSE dos modelos selecionados\\n\\nAnálise      | k-NN              | Decision Tree')\n",
        "print('-'*55)\n",
        "print('Val. Cruzada', best_rmse_knn_multi, best_rmse_dtree_multi, sep=' | ')\n",
        "print('Teste       ', final_rmse_knn_multi, final_rmse_dtree_multi, sep=' | ')"
      ],
      "execution_count": 125,
      "outputs": [
        {
          "output_type": "stream",
          "text": [
            "RMSE dos modelos selecionados\n",
            "\n",
            "Análise      | k-NN              | Decision Tree\n",
            "-------------------------------------------------------\n",
            "Val. Cruzada | 89173.06023867214 | 87988.09272010982\n",
            "Teste        | 110098.96523558114 | 91432.34147965061\n"
          ],
          "name": "stdout"
        }
      ]
    },
    {
      "cell_type": "markdown",
      "metadata": {
        "id": "s3zQ4hHIC0dq"
      },
      "source": [
        "##1.2 Aprendizado de Classificadores"
      ]
    },
    {
      "cell_type": "markdown",
      "metadata": {
        "id": "2YexmANEC5sY"
      },
      "source": [
        "Análise preliminar dos dados"
      ]
    },
    {
      "cell_type": "code",
      "metadata": {
        "id": "j5M5K8j2C59D",
        "colab": {
          "base_uri": "https://localhost:8080/",
          "height": 198
        },
        "outputId": "0f740665-ab83-4634-8339-f9345f9e97f4"
      },
      "source": [
        "#Carga dos dados usando as bibliotecas pandas e numpy\n",
        "#arquivo = 'data/ex2data1.txt'\n",
        "arquivo = 'https://raw.githubusercontent.com/MLRG-CEFET-RJ/ml-class/master/ml-t1/data/ex2data1.txt'\n",
        "dados = pd.read_table(arquivo,\n",
        "                      sep=',',\n",
        "                      header=None,\n",
        "                      names=['Prova 1', 'Prova 2', 'Aprovado'])\n",
        "\n",
        "dados.head()"
      ],
      "execution_count": 126,
      "outputs": [
        {
          "output_type": "execute_result",
          "data": {
            "text/html": [
              "<div>\n",
              "<style scoped>\n",
              "    .dataframe tbody tr th:only-of-type {\n",
              "        vertical-align: middle;\n",
              "    }\n",
              "\n",
              "    .dataframe tbody tr th {\n",
              "        vertical-align: top;\n",
              "    }\n",
              "\n",
              "    .dataframe thead th {\n",
              "        text-align: right;\n",
              "    }\n",
              "</style>\n",
              "<table border=\"1\" class=\"dataframe\">\n",
              "  <thead>\n",
              "    <tr style=\"text-align: right;\">\n",
              "      <th></th>\n",
              "      <th>Prova 1</th>\n",
              "      <th>Prova 2</th>\n",
              "      <th>Aprovado</th>\n",
              "    </tr>\n",
              "  </thead>\n",
              "  <tbody>\n",
              "    <tr>\n",
              "      <th>0</th>\n",
              "      <td>34.623660</td>\n",
              "      <td>78.024693</td>\n",
              "      <td>0</td>\n",
              "    </tr>\n",
              "    <tr>\n",
              "      <th>1</th>\n",
              "      <td>30.286711</td>\n",
              "      <td>43.894998</td>\n",
              "      <td>0</td>\n",
              "    </tr>\n",
              "    <tr>\n",
              "      <th>2</th>\n",
              "      <td>35.847409</td>\n",
              "      <td>72.902198</td>\n",
              "      <td>0</td>\n",
              "    </tr>\n",
              "    <tr>\n",
              "      <th>3</th>\n",
              "      <td>60.182599</td>\n",
              "      <td>86.308552</td>\n",
              "      <td>1</td>\n",
              "    </tr>\n",
              "    <tr>\n",
              "      <th>4</th>\n",
              "      <td>79.032736</td>\n",
              "      <td>75.344376</td>\n",
              "      <td>1</td>\n",
              "    </tr>\n",
              "  </tbody>\n",
              "</table>\n",
              "</div>"
            ],
            "text/plain": [
              "     Prova 1    Prova 2  Aprovado\n",
              "0  34.623660  78.024693         0\n",
              "1  30.286711  43.894998         0\n",
              "2  35.847409  72.902198         0\n",
              "3  60.182599  86.308552         1\n",
              "4  79.032736  75.344376         1"
            ]
          },
          "metadata": {
            "tags": []
          },
          "execution_count": 126
        }
      ]
    },
    {
      "cell_type": "code",
      "metadata": {
        "colab": {
          "base_uri": "https://localhost:8080/",
          "height": 288
        },
        "id": "1NUtnzbDmqTn",
        "outputId": "1d584a9e-b8e8-473c-da56-1e7edfdb87ec"
      },
      "source": [
        "dados.describe()"
      ],
      "execution_count": 127,
      "outputs": [
        {
          "output_type": "execute_result",
          "data": {
            "text/html": [
              "<div>\n",
              "<style scoped>\n",
              "    .dataframe tbody tr th:only-of-type {\n",
              "        vertical-align: middle;\n",
              "    }\n",
              "\n",
              "    .dataframe tbody tr th {\n",
              "        vertical-align: top;\n",
              "    }\n",
              "\n",
              "    .dataframe thead th {\n",
              "        text-align: right;\n",
              "    }\n",
              "</style>\n",
              "<table border=\"1\" class=\"dataframe\">\n",
              "  <thead>\n",
              "    <tr style=\"text-align: right;\">\n",
              "      <th></th>\n",
              "      <th>Prova 1</th>\n",
              "      <th>Prova 2</th>\n",
              "      <th>Aprovado</th>\n",
              "    </tr>\n",
              "  </thead>\n",
              "  <tbody>\n",
              "    <tr>\n",
              "      <th>count</th>\n",
              "      <td>100.000000</td>\n",
              "      <td>100.000000</td>\n",
              "      <td>100.000000</td>\n",
              "    </tr>\n",
              "    <tr>\n",
              "      <th>mean</th>\n",
              "      <td>65.644274</td>\n",
              "      <td>66.221998</td>\n",
              "      <td>0.600000</td>\n",
              "    </tr>\n",
              "    <tr>\n",
              "      <th>std</th>\n",
              "      <td>19.458222</td>\n",
              "      <td>18.582783</td>\n",
              "      <td>0.492366</td>\n",
              "    </tr>\n",
              "    <tr>\n",
              "      <th>min</th>\n",
              "      <td>30.058822</td>\n",
              "      <td>30.603263</td>\n",
              "      <td>0.000000</td>\n",
              "    </tr>\n",
              "    <tr>\n",
              "      <th>25%</th>\n",
              "      <td>50.919511</td>\n",
              "      <td>48.179205</td>\n",
              "      <td>0.000000</td>\n",
              "    </tr>\n",
              "    <tr>\n",
              "      <th>50%</th>\n",
              "      <td>67.032988</td>\n",
              "      <td>67.682381</td>\n",
              "      <td>1.000000</td>\n",
              "    </tr>\n",
              "    <tr>\n",
              "      <th>75%</th>\n",
              "      <td>80.212529</td>\n",
              "      <td>79.360605</td>\n",
              "      <td>1.000000</td>\n",
              "    </tr>\n",
              "    <tr>\n",
              "      <th>max</th>\n",
              "      <td>99.827858</td>\n",
              "      <td>98.869436</td>\n",
              "      <td>1.000000</td>\n",
              "    </tr>\n",
              "  </tbody>\n",
              "</table>\n",
              "</div>"
            ],
            "text/plain": [
              "          Prova 1     Prova 2    Aprovado\n",
              "count  100.000000  100.000000  100.000000\n",
              "mean    65.644274   66.221998    0.600000\n",
              "std     19.458222   18.582783    0.492366\n",
              "min     30.058822   30.603263    0.000000\n",
              "25%     50.919511   48.179205    0.000000\n",
              "50%     67.032988   67.682381    1.000000\n",
              "75%     80.212529   79.360605    1.000000\n",
              "max     99.827858   98.869436    1.000000"
            ]
          },
          "metadata": {
            "tags": []
          },
          "execution_count": 127
        }
      ]
    },
    {
      "cell_type": "code",
      "metadata": {
        "colab": {
          "base_uri": "https://localhost:8080/"
        },
        "id": "RfpFmSDVmth9",
        "outputId": "2beb950b-be01-43be-ec7a-9e0ca2cf0c8d"
      },
      "source": [
        "dados.info()"
      ],
      "execution_count": 128,
      "outputs": [
        {
          "output_type": "stream",
          "text": [
            "<class 'pandas.core.frame.DataFrame'>\n",
            "RangeIndex: 100 entries, 0 to 99\n",
            "Data columns (total 3 columns):\n",
            " #   Column    Non-Null Count  Dtype  \n",
            "---  ------    --------------  -----  \n",
            " 0   Prova 1   100 non-null    float64\n",
            " 1   Prova 2   100 non-null    float64\n",
            " 2   Aprovado  100 non-null    int64  \n",
            "dtypes: float64(2), int64(1)\n",
            "memory usage: 2.5 KB\n"
          ],
          "name": "stdout"
        }
      ]
    },
    {
      "cell_type": "code",
      "metadata": {
        "id": "UbxYpW_gm39a"
      },
      "source": [
        "#Organização do conjunto de dados para uso na modelagem\n",
        "X, y = read_dataset(arquivo)"
      ],
      "execution_count": 129,
      "outputs": []
    },
    {
      "cell_type": "code",
      "metadata": {
        "colab": {
          "base_uri": "https://localhost:8080/"
        },
        "id": "53gI2StineqN",
        "outputId": "67375bf2-63f2-4631-85f4-02b71e8770a8"
      },
      "source": [
        "print(\n",
        "    X[:5],\n",
        "    y[:5],\n",
        "    sep='\\n\\n'\n",
        ")"
      ],
      "execution_count": 130,
      "outputs": [
        {
          "output_type": "stream",
          "text": [
            "[[34.62365962 78.02469282]\n",
            " [30.28671077 43.89499752]\n",
            " [35.84740877 72.90219803]\n",
            " [60.18259939 86.3085521 ]\n",
            " [79.03273605 75.34437644]]\n",
            "\n",
            "[[0]\n",
            " [0]\n",
            " [0]\n",
            " [1]\n",
            " [1]]\n"
          ],
          "name": "stdout"
        }
      ]
    },
    {
      "cell_type": "markdown",
      "metadata": {
        "id": "y2ukNUu7n5fM"
      },
      "source": [
        "###1.2.1 Visualização de dados"
      ]
    },
    {
      "cell_type": "markdown",
      "metadata": {
        "id": "0OEwEsOnn-dc"
      },
      "source": [
        "Abaixo visualizamos a dispersão entre os valores das notas das provas 1 e 2 e a marcação do resultado esperado de aprovação ou reprovação."
      ]
    },
    {
      "cell_type": "code",
      "metadata": {
        "id": "JFIVsBH5n-mz",
        "colab": {
          "base_uri": "https://localhost:8080/",
          "height": 35
        },
        "outputId": "c9028081-0620-4a11-f0a9-d6c8022dd12c"
      },
      "source": [
        "%run plot_ex2data1.py"
      ],
      "execution_count": 131,
      "outputs": [
        {
          "output_type": "display_data",
          "data": {
            "text/plain": [
              "<Figure size 432x288 with 0 Axes>"
            ]
          },
          "metadata": {
            "tags": []
          }
        }
      ]
    },
    {
      "cell_type": "code",
      "metadata": {
        "colab": {
          "base_uri": "https://localhost:8080/",
          "height": 497
        },
        "id": "NuhAhnhGphR0",
        "outputId": "a0c5fd52-5679-420e-a1d8-e85bf8ae331f"
      },
      "source": [
        "filename='target/plot1.2.png'\n",
        "plot(dados, filename)"
      ],
      "execution_count": 132,
      "outputs": [
        {
          "output_type": "display_data",
          "data": {
            "image/png": "[encoded data removed]",
            "text/plain": [
              "<Figure size 864x576 with 1 Axes>"
            ]
          },
          "metadata": {
            "tags": [],
            "needs_background": "light"
          }
        }
      ]
    },
    {
      "cell_type": "markdown",
      "metadata": {
        "id": "9iWCjKASqNJU"
      },
      "source": [
        "###1.2.2 Ajuste dos modelos"
      ]
    },
    {
      "cell_type": "markdown",
      "metadata": {
        "id": "k82sJaveqP0v"
      },
      "source": [
        "Nesta seção criaremos modelos de classificação baseados nos algoritmos ***Naive Bayes***, ***Regressão Logística***, ***k-NN*** e ***Decision Tree***."
      ]
    },
    {
      "cell_type": "markdown",
      "metadata": {
        "id": "0GgSUw3288n5"
      },
      "source": [
        "* Carga das bibliotecas e preparação dos dados para treinamento dos modelos."
      ]
    },
    {
      "cell_type": "code",
      "metadata": {
        "id": "rwdDubGt5SEF"
      },
      "source": [
        "#Importação das classes para geração dos modelos\n",
        "from sklearn.naive_bayes import GaussianNB\n",
        "from sklearn.linear_model import LogisticRegression\n",
        "from sklearn.neighbors import KNeighborsClassifier\n",
        "from sklearn.tree import DecisionTreeClassifier"
      ],
      "execution_count": 133,
      "outputs": []
    },
    {
      "cell_type": "code",
      "metadata": {
        "id": "02lD7lzi-C-d"
      },
      "source": [
        "#Separação dos conjuntos de treino e teste\n",
        "X_train, X_test, y_train, y_test = train_test_split(X, y, \n",
        "                                                    test_size=0.2, \n",
        "                                                    random_state=42)"
      ],
      "execution_count": 134,
      "outputs": []
    },
    {
      "cell_type": "markdown",
      "metadata": {
        "id": "rFzcLL7l-2NL"
      },
      "source": [
        "* **Criação e Treinamento dos modelos**"
      ]
    },
    {
      "cell_type": "markdown",
      "metadata": {
        "id": "IKxyL4KvGT5g"
      },
      "source": [
        "####Ajuste do modelo ***Gaussain Naive Bayes***"
      ]
    },
    {
      "cell_type": "markdown",
      "metadata": {
        "id": "RLntYSKuPRm3"
      },
      "source": [
        "Para o modelo *Naive Bayes* usamos a função `GaussianNB` em sua configuração padrão, sem sintonização de hiperparâmetros."
      ]
    },
    {
      "cell_type": "code",
      "metadata": {
        "colab": {
          "base_uri": "https://localhost:8080/"
        },
        "id": "wMximH4x_HOT",
        "outputId": "a214c8fe-debd-4130-bf22-7795f57f7a66"
      },
      "source": [
        "#Gaussain Naive Bayes\n",
        "gnb_clf = GaussianNB()\n",
        "gnb_clf.fit(X_train, y_train.ravel())"
      ],
      "execution_count": 135,
      "outputs": [
        {
          "output_type": "execute_result",
          "data": {
            "text/plain": [
              "GaussianNB(priors=None, var_smoothing=1e-09)"
            ]
          },
          "metadata": {
            "tags": []
          },
          "execution_count": 135
        }
      ]
    },
    {
      "cell_type": "markdown",
      "metadata": {
        "id": "0ONUPhTOGdl1"
      },
      "source": [
        "####Ajuste do modelo ***Regressão Logística***"
      ]
    },
    {
      "cell_type": "markdown",
      "metadata": {
        "id": "oUeaRCIjPnH-"
      },
      "source": [
        "No caso da regressão logística, tendo em vista uma maior gama de opções de parâmetros na função implementada na biblioteca `Scikit-Learn`, foi realizada a sintonização dos hiperparâmetros relativos à penalidade, ao número máximo de iterações e do algoritmo usado na otimização (`solver`)."
      ]
    },
    {
      "cell_type": "code",
      "metadata": {
        "id": "AqTr8WYBI_ZD"
      },
      "source": [
        "#Criação do modelo para execução do tuning\n",
        "log_reg_tun = LogisticRegression()"
      ],
      "execution_count": 136,
      "outputs": []
    },
    {
      "cell_type": "code",
      "metadata": {
        "colab": {
          "base_uri": "https://localhost:8080/"
        },
        "id": "UKdKlYr-JF-U",
        "outputId": "adc12f2e-f9d6-489a-8a37-898589061742"
      },
      "source": [
        "#Definição dos valores de parâmetros para teste\n",
        "param = {'penalty': ['l1', 'l2', 'none'],\n",
        "         'solver': ['newton-cg', 'lbfgs', 'liblinear', 'sag', 'saga'],\n",
        "         'max_iter': [100, 150, 200]\n",
        "         }\n",
        "\n",
        "folds = 5 #Quantidade de camadas para validação cruzada\n",
        "iter = 20 #Quantidade de iterações do random search\n",
        "\n",
        "#Seleção do modelo\n",
        "randomGrd_search = RandomizedSearchCV(log_reg_tun,\n",
        "                                      param,\n",
        "                                      n_iter=iter,\n",
        "                                      cv=folds,\n",
        "                                      scoring='neg_mean_squared_error'\n",
        "                                      )\n",
        "\n",
        "\n",
        "#Execução do tuning\n",
        "randomGrd_search.fit(X_train, y_train.ravel())"
      ],
      "execution_count": 137,
      "outputs": [
        {
          "output_type": "stream",
          "text": [
            "/usr/local/lib/python3.7/dist-packages/sklearn/linear_model/_sag.py:330: ConvergenceWarning: The max_iter was reached which means the coef_ did not converge\n",
            "  \"the coef_ did not converge\", ConvergenceWarning)\n",
            "/usr/local/lib/python3.7/dist-packages/sklearn/linear_model/_sag.py:330: ConvergenceWarning: The max_iter was reached which means the coef_ did not converge\n",
            "  \"the coef_ did not converge\", ConvergenceWarning)\n",
            "/usr/local/lib/python3.7/dist-packages/sklearn/linear_model/_sag.py:330: ConvergenceWarning: The max_iter was reached which means the coef_ did not converge\n",
            "  \"the coef_ did not converge\", ConvergenceWarning)\n",
            "/usr/local/lib/python3.7/dist-packages/sklearn/linear_model/_sag.py:330: ConvergenceWarning: The max_iter was reached which means the coef_ did not converge\n",
            "  \"the coef_ did not converge\", ConvergenceWarning)\n",
            "/usr/local/lib/python3.7/dist-packages/sklearn/linear_model/_sag.py:330: ConvergenceWarning: The max_iter was reached which means the coef_ did not converge\n",
            "  \"the coef_ did not converge\", ConvergenceWarning)\n",
            "/usr/local/lib/python3.7/dist-packages/sklearn/model_selection/_validation.py:536: FitFailedWarning: Estimator fit failed. The score on this train-test partition for these parameters will be set to nan. Details: \n",
            "ValueError: Solver newton-cg supports only 'l2' or 'none' penalties, got l1 penalty.\n",
            "\n",
            "  FitFailedWarning)\n",
            "/usr/local/lib/python3.7/dist-packages/sklearn/linear_model/_sag.py:330: ConvergenceWarning: The max_iter was reached which means the coef_ did not converge\n",
            "  \"the coef_ did not converge\", ConvergenceWarning)\n",
            "/usr/local/lib/python3.7/dist-packages/sklearn/linear_model/_sag.py:330: ConvergenceWarning: The max_iter was reached which means the coef_ did not converge\n",
            "  \"the coef_ did not converge\", ConvergenceWarning)\n",
            "/usr/local/lib/python3.7/dist-packages/sklearn/linear_model/_sag.py:330: ConvergenceWarning: The max_iter was reached which means the coef_ did not converge\n",
            "  \"the coef_ did not converge\", ConvergenceWarning)\n",
            "/usr/local/lib/python3.7/dist-packages/sklearn/linear_model/_sag.py:330: ConvergenceWarning: The max_iter was reached which means the coef_ did not converge\n",
            "  \"the coef_ did not converge\", ConvergenceWarning)\n",
            "/usr/local/lib/python3.7/dist-packages/sklearn/linear_model/_sag.py:330: ConvergenceWarning: The max_iter was reached which means the coef_ did not converge\n",
            "  \"the coef_ did not converge\", ConvergenceWarning)\n",
            "/usr/local/lib/python3.7/dist-packages/sklearn/linear_model/_sag.py:330: ConvergenceWarning: The max_iter was reached which means the coef_ did not converge\n",
            "  \"the coef_ did not converge\", ConvergenceWarning)\n",
            "/usr/local/lib/python3.7/dist-packages/sklearn/linear_model/_sag.py:330: ConvergenceWarning: The max_iter was reached which means the coef_ did not converge\n",
            "  \"the coef_ did not converge\", ConvergenceWarning)\n",
            "/usr/local/lib/python3.7/dist-packages/sklearn/linear_model/_sag.py:330: ConvergenceWarning: The max_iter was reached which means the coef_ did not converge\n",
            "  \"the coef_ did not converge\", ConvergenceWarning)\n",
            "/usr/local/lib/python3.7/dist-packages/sklearn/linear_model/_sag.py:330: ConvergenceWarning: The max_iter was reached which means the coef_ did not converge\n",
            "  \"the coef_ did not converge\", ConvergenceWarning)\n",
            "/usr/local/lib/python3.7/dist-packages/sklearn/linear_model/_sag.py:330: ConvergenceWarning: The max_iter was reached which means the coef_ did not converge\n",
            "  \"the coef_ did not converge\", ConvergenceWarning)\n",
            "/usr/local/lib/python3.7/dist-packages/sklearn/linear_model/_sag.py:330: ConvergenceWarning: The max_iter was reached which means the coef_ did not converge\n",
            "  \"the coef_ did not converge\", ConvergenceWarning)\n",
            "/usr/local/lib/python3.7/dist-packages/sklearn/linear_model/_sag.py:330: ConvergenceWarning: The max_iter was reached which means the coef_ did not converge\n",
            "  \"the coef_ did not converge\", ConvergenceWarning)\n",
            "/usr/local/lib/python3.7/dist-packages/sklearn/linear_model/_sag.py:330: ConvergenceWarning: The max_iter was reached which means the coef_ did not converge\n",
            "  \"the coef_ did not converge\", ConvergenceWarning)\n",
            "/usr/local/lib/python3.7/dist-packages/sklearn/linear_model/_sag.py:330: ConvergenceWarning: The max_iter was reached which means the coef_ did not converge\n",
            "  \"the coef_ did not converge\", ConvergenceWarning)\n",
            "/usr/local/lib/python3.7/dist-packages/sklearn/linear_model/_sag.py:330: ConvergenceWarning: The max_iter was reached which means the coef_ did not converge\n",
            "  \"the coef_ did not converge\", ConvergenceWarning)\n",
            "/usr/local/lib/python3.7/dist-packages/sklearn/linear_model/_sag.py:330: ConvergenceWarning: The max_iter was reached which means the coef_ did not converge\n",
            "  \"the coef_ did not converge\", ConvergenceWarning)\n",
            "/usr/local/lib/python3.7/dist-packages/sklearn/linear_model/_sag.py:330: ConvergenceWarning: The max_iter was reached which means the coef_ did not converge\n",
            "  \"the coef_ did not converge\", ConvergenceWarning)\n",
            "/usr/local/lib/python3.7/dist-packages/sklearn/linear_model/_sag.py:330: ConvergenceWarning: The max_iter was reached which means the coef_ did not converge\n",
            "  \"the coef_ did not converge\", ConvergenceWarning)\n",
            "/usr/local/lib/python3.7/dist-packages/sklearn/linear_model/_sag.py:330: ConvergenceWarning: The max_iter was reached which means the coef_ did not converge\n",
            "  \"the coef_ did not converge\", ConvergenceWarning)\n",
            "/usr/local/lib/python3.7/dist-packages/sklearn/linear_model/_sag.py:330: ConvergenceWarning: The max_iter was reached which means the coef_ did not converge\n",
            "  \"the coef_ did not converge\", ConvergenceWarning)\n",
            "/usr/local/lib/python3.7/dist-packages/sklearn/model_selection/_validation.py:536: FitFailedWarning: Estimator fit failed. The score on this train-test partition for these parameters will be set to nan. Details: \n",
            "ValueError: penalty='none' is not supported for the liblinear solver\n",
            "\n",
            "  FitFailedWarning)\n",
            "/usr/local/lib/python3.7/dist-packages/sklearn/model_selection/_validation.py:536: FitFailedWarning: Estimator fit failed. The score on this train-test partition for these parameters will be set to nan. Details: \n",
            "ValueError: Solver sag supports only 'l2' or 'none' penalties, got l1 penalty.\n",
            "\n",
            "  FitFailedWarning)\n",
            "/usr/local/lib/python3.7/dist-packages/sklearn/linear_model/_sag.py:330: ConvergenceWarning: The max_iter was reached which means the coef_ did not converge\n",
            "  \"the coef_ did not converge\", ConvergenceWarning)\n",
            "/usr/local/lib/python3.7/dist-packages/sklearn/linear_model/_sag.py:330: ConvergenceWarning: The max_iter was reached which means the coef_ did not converge\n",
            "  \"the coef_ did not converge\", ConvergenceWarning)\n",
            "/usr/local/lib/python3.7/dist-packages/sklearn/linear_model/_sag.py:330: ConvergenceWarning: The max_iter was reached which means the coef_ did not converge\n",
            "  \"the coef_ did not converge\", ConvergenceWarning)\n",
            "/usr/local/lib/python3.7/dist-packages/sklearn/linear_model/_sag.py:330: ConvergenceWarning: The max_iter was reached which means the coef_ did not converge\n",
            "  \"the coef_ did not converge\", ConvergenceWarning)\n",
            "/usr/local/lib/python3.7/dist-packages/sklearn/linear_model/_sag.py:330: ConvergenceWarning: The max_iter was reached which means the coef_ did not converge\n",
            "  \"the coef_ did not converge\", ConvergenceWarning)\n",
            "/usr/local/lib/python3.7/dist-packages/sklearn/model_selection/_validation.py:536: FitFailedWarning: Estimator fit failed. The score on this train-test partition for these parameters will be set to nan. Details: \n",
            "ValueError: Solver lbfgs supports only 'l2' or 'none' penalties, got l1 penalty.\n",
            "\n",
            "  FitFailedWarning)\n",
            "/usr/local/lib/python3.7/dist-packages/sklearn/model_selection/_validation.py:536: FitFailedWarning: Estimator fit failed. The score on this train-test partition for these parameters will be set to nan. Details: \n",
            "ValueError: Solver sag supports only 'l2' or 'none' penalties, got l1 penalty.\n",
            "\n",
            "  FitFailedWarning)\n",
            "/usr/local/lib/python3.7/dist-packages/sklearn/linear_model/_sag.py:330: ConvergenceWarning: The max_iter was reached which means the coef_ did not converge\n",
            "  \"the coef_ did not converge\", ConvergenceWarning)\n",
            "/usr/local/lib/python3.7/dist-packages/sklearn/linear_model/_sag.py:330: ConvergenceWarning: The max_iter was reached which means the coef_ did not converge\n",
            "  \"the coef_ did not converge\", ConvergenceWarning)\n",
            "/usr/local/lib/python3.7/dist-packages/sklearn/linear_model/_sag.py:330: ConvergenceWarning: The max_iter was reached which means the coef_ did not converge\n",
            "  \"the coef_ did not converge\", ConvergenceWarning)\n",
            "/usr/local/lib/python3.7/dist-packages/sklearn/linear_model/_sag.py:330: ConvergenceWarning: The max_iter was reached which means the coef_ did not converge\n",
            "  \"the coef_ did not converge\", ConvergenceWarning)\n",
            "/usr/local/lib/python3.7/dist-packages/sklearn/linear_model/_sag.py:330: ConvergenceWarning: The max_iter was reached which means the coef_ did not converge\n",
            "  \"the coef_ did not converge\", ConvergenceWarning)\n",
            "/usr/local/lib/python3.7/dist-packages/sklearn/model_selection/_validation.py:536: FitFailedWarning: Estimator fit failed. The score on this train-test partition for these parameters will be set to nan. Details: \n",
            "ValueError: penalty='none' is not supported for the liblinear solver\n",
            "\n",
            "  FitFailedWarning)\n",
            "/usr/local/lib/python3.7/dist-packages/sklearn/model_selection/_validation.py:536: FitFailedWarning: Estimator fit failed. The score on this train-test partition for these parameters will be set to nan. Details: \n",
            "ValueError: Solver newton-cg supports only 'l2' or 'none' penalties, got l1 penalty.\n",
            "\n",
            "  FitFailedWarning)\n"
          ],
          "name": "stderr"
        },
        {
          "output_type": "execute_result",
          "data": {
            "text/plain": [
              "RandomizedSearchCV(cv=5, error_score=nan,\n",
              "                   estimator=LogisticRegression(C=1.0, class_weight=None,\n",
              "                                                dual=False, fit_intercept=True,\n",
              "                                                intercept_scaling=1,\n",
              "                                                l1_ratio=None, max_iter=100,\n",
              "                                                multi_class='auto', n_jobs=None,\n",
              "                                                penalty='l2', random_state=None,\n",
              "                                                solver='lbfgs', tol=0.0001,\n",
              "                                                verbose=0, warm_start=False),\n",
              "                   iid='deprecated', n_iter=20, n_jobs=None,\n",
              "                   param_distributions={'max_iter': [100, 150, 200],\n",
              "                                        'penalty': ['l1', 'l2', 'none'],\n",
              "                                        'solver': ['newton-cg', 'lbfgs',\n",
              "                                                   'liblinear', 'sag',\n",
              "                                                   'saga']},\n",
              "                   pre_dispatch='2*n_jobs', random_state=None, refit=True,\n",
              "                   return_train_score=False, scoring='neg_mean_squared_error',\n",
              "                   verbose=0)"
            ]
          },
          "metadata": {
            "tags": []
          },
          "execution_count": 137
        }
      ]
    },
    {
      "cell_type": "markdown",
      "metadata": {
        "id": "Wrx2qkTZOEdz"
      },
      "source": [
        "Ao realizar o tuning para esse modelo uma série de combinações de parâmetros apresentou alertas, por isso, realizamos a análise complementar dos detalhes das saídas na célula abaixo."
      ]
    },
    {
      "cell_type": "code",
      "metadata": {
        "colab": {
          "base_uri": "https://localhost:8080/"
        },
        "id": "zc8N6fqBN7eD",
        "outputId": "95f12fcd-7d5a-4afa-e99d-a95ebfe75c95"
      },
      "source": [
        "cvres = randomGrd_search.cv_results_\n",
        "\n",
        "for mean_score, params in zip(cvres['mean_test_score'], cvres['params']):\n",
        "    print(np.sqrt(-mean_score), params)"
      ],
      "execution_count": 138,
      "outputs": [
        {
          "output_type": "stream",
          "text": [
            "0.6324555320336759 {'solver': 'saga', 'penalty': 'l1', 'max_iter': 100}\n",
            "nan {'solver': 'newton-cg', 'penalty': 'l1', 'max_iter': 100}\n",
            "0.6324555320336759 {'solver': 'saga', 'penalty': 'l2', 'max_iter': 100}\n",
            "0.4472135954999579 {'solver': 'liblinear', 'penalty': 'l2', 'max_iter': 200}\n",
            "0.4472135954999579 {'solver': 'liblinear', 'penalty': 'l2', 'max_iter': 150}\n",
            "0.6324555320336759 {'solver': 'sag', 'penalty': 'l2', 'max_iter': 100}\n",
            "0.6324555320336759 {'solver': 'saga', 'penalty': 'none', 'max_iter': 150}\n",
            "0.6324555320336759 {'solver': 'sag', 'penalty': 'l2', 'max_iter': 150}\n",
            "nan {'solver': 'liblinear', 'penalty': 'none', 'max_iter': 100}\n",
            "nan {'solver': 'sag', 'penalty': 'l1', 'max_iter': 100}\n",
            "nan {'solver': 'liblinear', 'penalty': 'none', 'max_iter': 200}\n",
            "0.6324555320336759 {'solver': 'sag', 'penalty': 'none', 'max_iter': 100}\n",
            "nan {'solver': 'lbfgs', 'penalty': 'l1', 'max_iter': 200}\n",
            "nan {'solver': 'lbfgs', 'penalty': 'l1', 'max_iter': 150}\n",
            "nan {'solver': 'sag', 'penalty': 'l1', 'max_iter': 150}\n",
            "0.31622776601683794 {'solver': 'newton-cg', 'penalty': 'none', 'max_iter': 200}\n",
            "0.6324555320336759 {'solver': 'sag', 'penalty': 'l2', 'max_iter': 200}\n",
            "nan {'solver': 'liblinear', 'penalty': 'none', 'max_iter': 150}\n",
            "0.31622776601683794 {'solver': 'newton-cg', 'penalty': 'l2', 'max_iter': 200}\n",
            "nan {'solver': 'newton-cg', 'penalty': 'l1', 'max_iter': 150}\n"
          ],
          "name": "stdout"
        }
      ]
    },
    {
      "cell_type": "markdown",
      "metadata": {
        "id": "RcKX936bO8mB"
      },
      "source": [
        "Apesar dos alertas e de algumas opções com resultado nulo (nan) para a métrica de comparação, a maioria das iterações chegou a composições de parâmetros comparáveis, por isso, continuamos com nas seções a seguir com o uso do modelo selecionado.\n",
        "\n",
        "---\n",
        "\n",
        "Nas células a seguir realizarmos a exibição dos parâmetros selecionados e em seguida criamos o modelo baseado no *tuning* de parâmetros."
      ]
    },
    {
      "cell_type": "code",
      "metadata": {
        "colab": {
          "base_uri": "https://localhost:8080/"
        },
        "id": "BFSs3td_M0rZ",
        "outputId": "9a8b2204-15bf-4eee-9517-d3aea994bd6c"
      },
      "source": [
        "#Exibição do modelo selecionado\n",
        "print('Parâmetros do melhor modelo:')\n",
        "randomGrd_search.best_params_"
      ],
      "execution_count": 139,
      "outputs": [
        {
          "output_type": "stream",
          "text": [
            "Parâmetros do melhor modelo:\n"
          ],
          "name": "stdout"
        },
        {
          "output_type": "execute_result",
          "data": {
            "text/plain": [
              "{'max_iter': 200, 'penalty': 'none', 'solver': 'newton-cg'}"
            ]
          },
          "metadata": {
            "tags": []
          },
          "execution_count": 139
        }
      ]
    },
    {
      "cell_type": "code",
      "metadata": {
        "id": "Yc44HsVV6knO"
      },
      "source": [
        "#Modelo sem tuning\n",
        "#log_reg = LogisticRegression()\n",
        "#log_reg.fit(X_train, y_train.ravel()\n",
        "\n",
        "#Modelo com tuning\n",
        "log_reg = randomGrd_search.best_estimator_"
      ],
      "execution_count": 140,
      "outputs": []
    },
    {
      "cell_type": "markdown",
      "metadata": {
        "id": "BxFLLWaBGhst"
      },
      "source": [
        "####Ajuste do modelo ***k-NN***"
      ]
    },
    {
      "cell_type": "markdown",
      "metadata": {
        "id": "4SzxXoJFQQU6"
      },
      "source": [
        "Para o modelo ***k-NN*** foi realizada a sintonização de hiperparâmetros de forma similar à seção em que o algoritmo foi usado para regressão, ou seja, buscando analisar um valor adequado para o hiperparâmetro $k$."
      ]
    },
    {
      "cell_type": "code",
      "metadata": {
        "id": "JpmWFrVXAB9G"
      },
      "source": [
        "#Criação do modelo sem parâmetros para realizar tuning\n",
        "knn_clf_tun = KNeighborsClassifier()"
      ],
      "execution_count": 141,
      "outputs": []
    },
    {
      "cell_type": "code",
      "metadata": {
        "colab": {
          "base_uri": "https://localhost:8080/"
        },
        "id": "ktIrhrmsAIs2",
        "outputId": "94b8e108-99f5-40f7-84e0-42d5bcb3b058"
      },
      "source": [
        "#Definição dos valores de parâmetros para teste\n",
        "param = {'n_neighbors': [5, 10, 15, 20, 25, 30]}\n",
        "\n",
        "folds = 5 #Quantidade de camadas para validação cruzada\n",
        "iter = 20 #Quantidade de iterações do random search\n",
        "\n",
        "#Seleção do modelo\n",
        "randomGrd_search = RandomizedSearchCV(knn_clf_tun,\n",
        "                                      param,\n",
        "                                      n_iter=iter,\n",
        "                                      cv=folds,\n",
        "                                      scoring='neg_mean_squared_error'\n",
        "                                      )\n",
        "\n",
        "\n",
        "#Execução do tuning\n",
        "randomGrd_search.fit(X_train, y_train.ravel())"
      ],
      "execution_count": 142,
      "outputs": [
        {
          "output_type": "stream",
          "text": [
            "/usr/local/lib/python3.7/dist-packages/sklearn/model_selection/_search.py:281: UserWarning: The total space of parameters 6 is smaller than n_iter=20. Running 6 iterations. For exhaustive searches, use GridSearchCV.\n",
            "  % (grid_size, self.n_iter, grid_size), UserWarning)\n"
          ],
          "name": "stderr"
        },
        {
          "output_type": "execute_result",
          "data": {
            "text/plain": [
              "RandomizedSearchCV(cv=5, error_score=nan,\n",
              "                   estimator=KNeighborsClassifier(algorithm='auto',\n",
              "                                                  leaf_size=30,\n",
              "                                                  metric='minkowski',\n",
              "                                                  metric_params=None,\n",
              "                                                  n_jobs=None, n_neighbors=5,\n",
              "                                                  p=2, weights='uniform'),\n",
              "                   iid='deprecated', n_iter=20, n_jobs=None,\n",
              "                   param_distributions={'n_neighbors': [5, 10, 15, 20, 25, 30]},\n",
              "                   pre_dispatch='2*n_jobs', random_state=None, refit=True,\n",
              "                   return_train_score=False, scoring='neg_mean_squared_error',\n",
              "                   verbose=0)"
            ]
          },
          "metadata": {
            "tags": []
          },
          "execution_count": 142
        }
      ]
    },
    {
      "cell_type": "markdown",
      "metadata": {
        "id": "Dsl0-nOnQmim"
      },
      "source": [
        "A sintonização ocorrem sem problemas, exceto pelo alerta relativo ao número de iterações do próprio `RandomizedSearchCV`, mas esta situação foi tratada pela própria função que limitou as iterações ao necessário pela quantidade de opções a serem avaliadas.\n",
        "\n",
        "---\n",
        "\n",
        "Nas células a seguir é apresentando o valor indicado para $k$ e em seguia gerado o modelo com base na sintonização executada."
      ]
    },
    {
      "cell_type": "code",
      "metadata": {
        "colab": {
          "base_uri": "https://localhost:8080/"
        },
        "id": "pYRHsLOgA4Ed",
        "outputId": "5cdc98d4-891f-4b20-9eea-05fe8f073b6a"
      },
      "source": [
        "#Exibição do modelo selecionado\n",
        "print('Parâmetros do melhor modelo:')\n",
        "randomGrd_search.best_params_"
      ],
      "execution_count": 143,
      "outputs": [
        {
          "output_type": "stream",
          "text": [
            "Parâmetros do melhor modelo:\n"
          ],
          "name": "stdout"
        },
        {
          "output_type": "execute_result",
          "data": {
            "text/plain": [
              "{'n_neighbors': 15}"
            ]
          },
          "metadata": {
            "tags": []
          },
          "execution_count": 143
        }
      ]
    },
    {
      "cell_type": "code",
      "metadata": {
        "id": "TR6-j1jNA2gJ"
      },
      "source": [
        "#Modelo sem tuning\n",
        "#k-NN\n",
        "#k = 3\n",
        "#knn_clf = KNeighborsClassifier(n_neighbors=k)\n",
        "#knn_clf.fit(X_train, y_train)\n",
        "\n",
        "#Modelo com tuning\n",
        "knn_clf = randomGrd_search.best_estimator_"
      ],
      "execution_count": 144,
      "outputs": []
    },
    {
      "cell_type": "markdown",
      "metadata": {
        "id": "t6f5oDgGGmIY"
      },
      "source": [
        "####Ajuste do modelo ***Decision Tree***"
      ]
    },
    {
      "cell_type": "markdown",
      "metadata": {
        "id": "_lT1Ch0ZRYHP"
      },
      "source": [
        "O modelo da árvore de decisão para classificação também foi gerado com a sintonização de hiperparâmetros, buscando um valor adequado da profundidade da árvore."
      ]
    },
    {
      "cell_type": "code",
      "metadata": {
        "id": "-cLhZ6IVFiaj"
      },
      "source": [
        "#Criação do modelo sem parâmetros para realizar tuning\n",
        "dtree_clf_tun = DecisionTreeClassifier()"
      ],
      "execution_count": 145,
      "outputs": []
    },
    {
      "cell_type": "code",
      "metadata": {
        "colab": {
          "base_uri": "https://localhost:8080/"
        },
        "id": "tFnAanDYFVbt",
        "outputId": "27b7586d-8689-43e3-9036-6f51275251f8"
      },
      "source": [
        "#Definição dos valores de parâmetros para teste\n",
        "param = {'max_depth': [2, 3, 4, None]\n",
        "         }\n",
        "\n",
        "folds = 5 #Quantidade de camadas para validação cruzada\n",
        "iter = 20 #Quantidade de iterações do random search\n",
        "\n",
        "#Seleção do modelo\n",
        "randomGrd_search = RandomizedSearchCV(dtree_clf_tun,\n",
        "                                      param,\n",
        "                                      n_iter=iter,\n",
        "                                      cv=folds,\n",
        "                                      scoring='neg_mean_squared_error'\n",
        "                                      )\n",
        "\n",
        "\n",
        "#Execução do tuning\n",
        "randomGrd_search.fit(X_train, y_train)"
      ],
      "execution_count": 146,
      "outputs": [
        {
          "output_type": "stream",
          "text": [
            "/usr/local/lib/python3.7/dist-packages/sklearn/model_selection/_search.py:281: UserWarning: The total space of parameters 4 is smaller than n_iter=20. Running 4 iterations. For exhaustive searches, use GridSearchCV.\n",
            "  % (grid_size, self.n_iter, grid_size), UserWarning)\n"
          ],
          "name": "stderr"
        },
        {
          "output_type": "execute_result",
          "data": {
            "text/plain": [
              "RandomizedSearchCV(cv=5, error_score=nan,\n",
              "                   estimator=DecisionTreeClassifier(ccp_alpha=0.0,\n",
              "                                                    class_weight=None,\n",
              "                                                    criterion='gini',\n",
              "                                                    max_depth=None,\n",
              "                                                    max_features=None,\n",
              "                                                    max_leaf_nodes=None,\n",
              "                                                    min_impurity_decrease=0.0,\n",
              "                                                    min_impurity_split=None,\n",
              "                                                    min_samples_leaf=1,\n",
              "                                                    min_samples_split=2,\n",
              "                                                    min_weight_fraction_leaf=0.0,\n",
              "                                                    presort='deprecated',\n",
              "                                                    random_state=None,\n",
              "                                                    splitter='best'),\n",
              "                   iid='deprecated', n_iter=20, n_jobs=None,\n",
              "                   param_distributions={'max_depth': [2, 3, 4, None]},\n",
              "                   pre_dispatch='2*n_jobs', random_state=None, refit=True,\n",
              "                   return_train_score=False, scoring='neg_mean_squared_error',\n",
              "                   verbose=0)"
            ]
          },
          "metadata": {
            "tags": []
          },
          "execution_count": 146
        }
      ]
    },
    {
      "cell_type": "markdown",
      "metadata": {
        "id": "Rh5x5SjfRoBB"
      },
      "source": [
        "Nas células a seguir é apresentando o valor indicado para profunidade da árvore (`max_depth`) e em seguia gerado o modelo."
      ]
    },
    {
      "cell_type": "code",
      "metadata": {
        "colab": {
          "base_uri": "https://localhost:8080/"
        },
        "id": "VT9ohQkeGEIP",
        "outputId": "e95315b3-97cd-4d63-d32e-0e1eee3cc75d"
      },
      "source": [
        "#Exibição do modelo selecionado\n",
        "print('Parâmetros do melhor modelo:')\n",
        "randomGrd_search.best_params_"
      ],
      "execution_count": 147,
      "outputs": [
        {
          "output_type": "stream",
          "text": [
            "Parâmetros do melhor modelo:\n"
          ],
          "name": "stdout"
        },
        {
          "output_type": "execute_result",
          "data": {
            "text/plain": [
              "{'max_depth': 4}"
            ]
          },
          "metadata": {
            "tags": []
          },
          "execution_count": 147
        }
      ]
    },
    {
      "cell_type": "code",
      "metadata": {
        "id": "tLiogwzS6SxL"
      },
      "source": [
        "#Modelo sem tuning\n",
        "#dtree_clf = DecisionTreeClassifier(max_depth=3)\n",
        "#dtree_clf.fit(X_train, y_train)\n",
        "\n",
        "#Modelo com tuning\n",
        "dtree_clf = randomGrd_search.best_estimator_"
      ],
      "execution_count": 148,
      "outputs": []
    },
    {
      "cell_type": "markdown",
      "metadata": {
        "id": "gY2au0_o5lbT"
      },
      "source": [
        "###1.2.3 Avaliação dos modelos"
      ]
    },
    {
      "cell_type": "markdown",
      "metadata": {
        "id": "dV6aIIn75oQO"
      },
      "source": [
        "Carga de métricas da bibliotca Scikit-Learn"
      ]
    },
    {
      "cell_type": "code",
      "metadata": {
        "id": "-nxWmw2U5oaO"
      },
      "source": [
        "from sklearn.metrics import classification_report, confusion_matrix"
      ],
      "execution_count": 149,
      "outputs": []
    },
    {
      "cell_type": "markdown",
      "metadata": {
        "id": "X3mEhX9pPN1j"
      },
      "source": [
        "####Avaliação do modelo ***Gaussian Naive Bayes***\n",
        "\n",
        "Com o modelo treinado na seção anterior, realizamos a seguir a predição das classes: $y=1$: Aprovado ou $y=0$: Reprovado"
      ]
    },
    {
      "cell_type": "code",
      "metadata": {
        "colab": {
          "base_uri": "https://localhost:8080/"
        },
        "id": "Jco2WB1aEOMj",
        "outputId": "aeaf343c-1433-4ea0-dc69-5804ae41d0c0"
      },
      "source": [
        "#Predição com modelo Gaussian Naive Bayes\n",
        "gnb_pred = gnb_clf.predict(X_test)\n",
        "gnb_pred"
      ],
      "execution_count": 150,
      "outputs": [
        {
          "output_type": "execute_result",
          "data": {
            "text/plain": [
              "array([0, 0, 0, 0, 0, 0, 0, 1, 1, 0, 1, 1, 1, 0, 1, 1, 1, 0, 1, 1])"
            ]
          },
          "metadata": {
            "tags": []
          },
          "execution_count": 150
        }
      ]
    },
    {
      "cell_type": "markdown",
      "metadata": {
        "id": "Pjm3pZScPoAD"
      },
      "source": [
        "Como pode ser visto na matriz de confusão. Os resultados predominantes estão são de verdadeiros positivos (9 ocorrências) e verdadeiros negativos (7 ocorrências). A visualização do mapa de calor da matriz de confusão, facilita esta análise, pela apresentação de concentração de cores mais escuras (maior densidade de valores) nos quadrantes correspondentes ao encontro entre a classe real e a classe prevista. Contudo, ainda há ocorrências em proporção relevante para o tamanho do conjunto de dados classificados como falsos positivos ou falsos negativos."
      ]
    },
    {
      "cell_type": "code",
      "metadata": {
        "id": "1sV1joRaEymH"
      },
      "source": [
        "#Apresentação da Matriz de Confusão do Modelo\n",
        "modelo_title = 'Gaussian Naive Bayes'\n",
        "cm = confusion_matrix(y_test, gnb_pred)"
      ],
      "execution_count": 151,
      "outputs": []
    },
    {
      "cell_type": "code",
      "metadata": {
        "colab": {
          "base_uri": "https://localhost:8080/"
        },
        "id": "216_A487MExX",
        "outputId": "0186f4a0-38d4-405a-f046-56aee13f511a"
      },
      "source": [
        "tn, fp, fn, tp = cm.ravel()\n",
        "print(f'Matriz de Confusão:\\nTN: {tn} | FP: {fp}\\n--------------\\nFN: {fn} | TP: {tp}')"
      ],
      "execution_count": 152,
      "outputs": [
        {
          "output_type": "stream",
          "text": [
            "Matriz de Confusão:\n",
            "TN: 7 | FP: 1\n",
            "--------------\n",
            "FN: 3 | TP: 9\n"
          ],
          "name": "stdout"
        }
      ]
    },
    {
      "cell_type": "code",
      "metadata": {
        "colab": {
          "base_uri": "https://localhost:8080/"
        },
        "id": "Sqjl1AMH5VM5",
        "outputId": "9b43ccd6-b951-4e82-8cff-3d5343931a93"
      },
      "source": [
        "#Reorganização da matriz confusão para \n",
        "cm_reorganizada = np.array([[tp, fn], [fp, tn]])\n",
        "cm_reorganizada"
      ],
      "execution_count": 153,
      "outputs": [
        {
          "output_type": "execute_result",
          "data": {
            "text/plain": [
              "array([[9, 3],\n",
              "       [1, 7]])"
            ]
          },
          "metadata": {
            "tags": []
          },
          "execution_count": 153
        }
      ]
    },
    {
      "cell_type": "code",
      "metadata": {
        "colab": {
          "base_uri": "https://localhost:8080/"
        },
        "id": "wKbqOjvL5tYh",
        "outputId": "ddedc030-66ca-44b8-e711-5e8354780424"
      },
      "source": [
        "cm_reorganizada.shape"
      ],
      "execution_count": 154,
      "outputs": [
        {
          "output_type": "execute_result",
          "data": {
            "text/plain": [
              "(2, 2)"
            ]
          },
          "metadata": {
            "tags": []
          },
          "execution_count": 154
        }
      ]
    },
    {
      "cell_type": "code",
      "metadata": {
        "colab": {
          "base_uri": "https://localhost:8080/",
          "height": 540
        },
        "id": "mVT7fXUZFR1n",
        "outputId": "9f4f0baf-e697-4d01-f5a2-675daa2a4917"
      },
      "source": [
        "#Visualização Gráfica da Matriz de Confusão\n",
        "fig = plt.figure(figsize=(10,8))\n",
        "fig.suptitle('Matriz de Confusão', fontsize=14, fontweight='bold')\n",
        "\n",
        "sns.heatmap(cm_reorganizada, cmap='Blues', annot=True)\n",
        "\n",
        "plt.title(modelo_title, fontsize=14)\n",
        "plt.xlabel('Predição', fontsize=12)\n",
        "plt.ylabel('Referência', fontsize=12)\n",
        "\n",
        "plt.xticks([])\n",
        "plt.yticks([])\n",
        "\n",
        "plt.annotate('TP', (0.3,0.5), fontweight='bold')\n",
        "plt.annotate('FN', (1.3,0.5), fontweight='bold')\n",
        "plt.annotate('FP', (0.3,1.5), fontweight='bold')\n",
        "plt.annotate('TN', (1.3,1.5), fontweight='bold')\n",
        "\n",
        "plt.savefig('target/plot1.2.3.1.png')"
      ],
      "execution_count": 155,
      "outputs": [
        {
          "output_type": "display_data",
          "data": {
            "image/png": "[encoded data removed]",
            "text/plain": [
              "<Figure size 720x576 with 2 Axes>"
            ]
          },
          "metadata": {
            "tags": [],
            "needs_background": "light"
          }
        }
      ]
    },
    {
      "cell_type": "markdown",
      "metadata": {
        "id": "kjkpQVaAVGkM"
      },
      "source": [
        "A seguir é apresentado um relatório da classificação com métricas relevantes para o aprofundamento na avaliação do resultado das predições do modelo."
      ]
    },
    {
      "cell_type": "code",
      "metadata": {
        "colab": {
          "base_uri": "https://localhost:8080/"
        },
        "id": "B7JzCTM6Eg25",
        "outputId": "4ebde13e-29fe-4061-a9b7-b30235b46d67"
      },
      "source": [
        "#Relatório da classificação\n",
        "print(classification_report(y_test, gnb_pred))"
      ],
      "execution_count": 156,
      "outputs": [
        {
          "output_type": "stream",
          "text": [
            "              precision    recall  f1-score   support\n",
            "\n",
            "           0       0.70      0.88      0.78         8\n",
            "           1       0.90      0.75      0.82        12\n",
            "\n",
            "    accuracy                           0.80        20\n",
            "   macro avg       0.80      0.81      0.80        20\n",
            "weighted avg       0.82      0.80      0.80        20\n",
            "\n"
          ],
          "name": "stdout"
        }
      ]
    },
    {
      "cell_type": "markdown",
      "metadata": {
        "id": "2bJTyt-MVsWz"
      },
      "source": [
        "####Avaliação do modelo ***Regressão Logística***"
      ]
    },
    {
      "cell_type": "code",
      "metadata": {
        "colab": {
          "base_uri": "https://localhost:8080/"
        },
        "id": "SYUImOG9VseI",
        "outputId": "db0329fd-8c24-4496-dff2-d689cd932c47"
      },
      "source": [
        "#Predição com modelo Regressão Logística\n",
        "log_reg_pred = log_reg.predict(X_test)\n",
        "log_reg_pred"
      ],
      "execution_count": 157,
      "outputs": [
        {
          "output_type": "execute_result",
          "data": {
            "text/plain": [
              "array([0, 0, 0, 0, 0, 0, 0, 1, 1, 0, 1, 1, 1, 0, 1, 1, 1, 0, 1, 1])"
            ]
          },
          "metadata": {
            "tags": []
          },
          "execution_count": 157
        }
      ]
    },
    {
      "cell_type": "code",
      "metadata": {
        "id": "tS1h3Kn-Weqf"
      },
      "source": [
        "#Apresentação da Matriz de Confusão do Modelo\n",
        "modelo_title = 'Regressão Logística'\n",
        "cm = confusion_matrix(y_test, log_reg_pred)"
      ],
      "execution_count": 158,
      "outputs": []
    },
    {
      "cell_type": "code",
      "metadata": {
        "colab": {
          "base_uri": "https://localhost:8080/"
        },
        "id": "7b23nvgLWups",
        "outputId": "fe447801-8699-4230-edb0-53a40d6311b9"
      },
      "source": [
        "tn, fp, fn, tp = cm.ravel()\n",
        "print(f'Matriz de Confusão:\\nTN: {tn} | FP: {fp}\\n--------------\\nFN: {fn} | TP: {tp}')"
      ],
      "execution_count": 159,
      "outputs": [
        {
          "output_type": "stream",
          "text": [
            "Matriz de Confusão:\n",
            "TN: 7 | FP: 1\n",
            "--------------\n",
            "FN: 3 | TP: 9\n"
          ],
          "name": "stdout"
        }
      ]
    },
    {
      "cell_type": "code",
      "metadata": {
        "colab": {
          "base_uri": "https://localhost:8080/",
          "height": 540
        },
        "id": "8pDrBTCyWxw5",
        "outputId": "e262db6d-3610-4b5c-c272-bef0eced72ee"
      },
      "source": [
        "#Reorganização da matriz confusão para \n",
        "cm_reorganizada = np.array([[tp, fn], [fp, tn]])\n",
        "\n",
        "#Visualização Gráfica da Matriz de Confusão\n",
        "fig = plt.figure(figsize=(10,8))\n",
        "fig.suptitle('Matriz de Confusão', fontsize=14, fontweight='bold')\n",
        "\n",
        "sns.heatmap(cm_reorganizada, cmap='Blues', annot=True)\n",
        "\n",
        "plt.title(modelo_title, fontsize=14)\n",
        "plt.xlabel('Predição', fontsize=12)\n",
        "plt.ylabel('Referência', fontsize=12)\n",
        "\n",
        "plt.xticks([])\n",
        "plt.yticks([])\n",
        "\n",
        "plt.annotate('TP', (0.3,0.5), fontweight='bold')\n",
        "plt.annotate('FN', (1.3,0.5), fontweight='bold')\n",
        "plt.annotate('FP', (0.3,1.5), fontweight='bold')\n",
        "plt.annotate('TN', (1.3,1.5), fontweight='bold')\n",
        "\n",
        "plt.savefig('target/plot1.2.3.2.png')"
      ],
      "execution_count": 160,
      "outputs": [
        {
          "output_type": "display_data",
          "data": {
            "image/png": "[encoded data removed]",
            "text/plain": [
              "<Figure size 720x576 with 2 Axes>"
            ]
          },
          "metadata": {
            "tags": [],
            "needs_background": "light"
          }
        }
      ]
    },
    {
      "cell_type": "code",
      "metadata": {
        "colab": {
          "base_uri": "https://localhost:8080/"
        },
        "id": "nZEjAYVcW3cO",
        "outputId": "62804e65-142a-46d6-80f1-ade4b2e67f1e"
      },
      "source": [
        "#Relatório da classificação\n",
        "print(classification_report(y_test, log_reg_pred))"
      ],
      "execution_count": 161,
      "outputs": [
        {
          "output_type": "stream",
          "text": [
            "              precision    recall  f1-score   support\n",
            "\n",
            "           0       0.70      0.88      0.78         8\n",
            "           1       0.90      0.75      0.82        12\n",
            "\n",
            "    accuracy                           0.80        20\n",
            "   macro avg       0.80      0.81      0.80        20\n",
            "weighted avg       0.82      0.80      0.80        20\n",
            "\n"
          ],
          "name": "stdout"
        }
      ]
    },
    {
      "cell_type": "markdown",
      "metadata": {
        "id": "6Fbq0WnZV0tB"
      },
      "source": [
        "####Avaliação do modelo ***k-NN***"
      ]
    },
    {
      "cell_type": "code",
      "metadata": {
        "colab": {
          "base_uri": "https://localhost:8080/"
        },
        "id": "DHRFvLbmV02V",
        "outputId": "8fbd94f6-199f-4b93-e90d-73b948e7eec7"
      },
      "source": [
        "#Predição com modelo k-NN\n",
        "knn_clf_pred = knn_clf.predict(X_test)\n",
        "knn_clf_pred"
      ],
      "execution_count": 162,
      "outputs": [
        {
          "output_type": "execute_result",
          "data": {
            "text/plain": [
              "array([0, 0, 0, 0, 0, 0, 0, 1, 1, 0, 1, 1, 1, 0, 1, 1, 1, 1, 1, 1])"
            ]
          },
          "metadata": {
            "tags": []
          },
          "execution_count": 162
        }
      ]
    },
    {
      "cell_type": "code",
      "metadata": {
        "id": "7n9yLGJ6XJge"
      },
      "source": [
        "#Apresentação da Matriz de Confusão do Modelo\n",
        "modelo_title = 'k-NN'\n",
        "cm = confusion_matrix(y_test, knn_clf_pred)"
      ],
      "execution_count": 163,
      "outputs": []
    },
    {
      "cell_type": "code",
      "metadata": {
        "colab": {
          "base_uri": "https://localhost:8080/"
        },
        "id": "uwfxyPcFXN_V",
        "outputId": "55aa4cae-3c71-468c-d09b-97e73174c2f2"
      },
      "source": [
        "tn, fp, fn, tp = cm.ravel()\n",
        "print(f'Matriz de Confusão:\\nTN: {tn} | FP: {fp}\\n--------------\\nFN: {fn} | TP: {tp}')"
      ],
      "execution_count": 164,
      "outputs": [
        {
          "output_type": "stream",
          "text": [
            "Matriz de Confusão:\n",
            "TN: 7 | FP: 1\n",
            "--------------\n",
            "FN: 2 | TP: 10\n"
          ],
          "name": "stdout"
        }
      ]
    },
    {
      "cell_type": "code",
      "metadata": {
        "colab": {
          "base_uri": "https://localhost:8080/",
          "height": 540
        },
        "id": "jZAknB2GXSwC",
        "outputId": "a4172133-d045-4924-aa1c-44d5d9701200"
      },
      "source": [
        "#Reorganização da matriz confusão para \n",
        "cm_reorganizada = np.array([[tp, fn], [fp, tn]])\n",
        "\n",
        "#Visualização Gráfica da Matriz de Confusão\n",
        "fig = plt.figure(figsize=(10,8))\n",
        "fig.suptitle('Matriz de Confusão', fontsize=14, fontweight='bold')\n",
        "\n",
        "sns.heatmap(cm_reorganizada, cmap='Blues', annot=True)\n",
        "\n",
        "plt.title(modelo_title, fontsize=14)\n",
        "plt.xlabel('Predição', fontsize=12)\n",
        "plt.ylabel('Referência', fontsize=12)\n",
        "\n",
        "plt.xticks([])\n",
        "plt.yticks([])\n",
        "\n",
        "plt.annotate('TP', (0.3,0.5), fontweight='bold')\n",
        "plt.annotate('FN', (1.3,0.5), fontweight='bold')\n",
        "plt.annotate('FP', (0.3,1.5), fontweight='bold')\n",
        "plt.annotate('TN', (1.3,1.5), fontweight='bold')\n",
        "\n",
        "plt.savefig('target/plot1.2.3.3.png')"
      ],
      "execution_count": 165,
      "outputs": [
        {
          "output_type": "display_data",
          "data": {
            "image/png": "[encoded data removed]",
            "text/plain": [
              "<Figure size 720x576 with 2 Axes>"
            ]
          },
          "metadata": {
            "tags": [],
            "needs_background": "light"
          }
        }
      ]
    },
    {
      "cell_type": "code",
      "metadata": {
        "colab": {
          "base_uri": "https://localhost:8080/"
        },
        "id": "dlrhtcSJXTOu",
        "outputId": "1467ec57-c068-422e-ed6f-42d379287cf5"
      },
      "source": [
        "#Relatório da classificação\n",
        "print(classification_report(y_test, knn_clf_pred))"
      ],
      "execution_count": 166,
      "outputs": [
        {
          "output_type": "stream",
          "text": [
            "              precision    recall  f1-score   support\n",
            "\n",
            "           0       0.78      0.88      0.82         8\n",
            "           1       0.91      0.83      0.87        12\n",
            "\n",
            "    accuracy                           0.85        20\n",
            "   macro avg       0.84      0.85      0.85        20\n",
            "weighted avg       0.86      0.85      0.85        20\n",
            "\n"
          ],
          "name": "stdout"
        }
      ]
    },
    {
      "cell_type": "markdown",
      "metadata": {
        "id": "l9wT6Ea5WG9Q"
      },
      "source": [
        "####Avaliação do modelo ***Decision Tree***"
      ]
    },
    {
      "cell_type": "code",
      "metadata": {
        "colab": {
          "base_uri": "https://localhost:8080/"
        },
        "id": "HARNHcVaWHFw",
        "outputId": "ddc5d13a-6ccd-4bd0-c57e-b357f624d46a"
      },
      "source": [
        "#Predição com modelo Decision Tree\n",
        "dtree_pred = dtree_clf.predict(X_test)\n",
        "dtree_pred"
      ],
      "execution_count": 167,
      "outputs": [
        {
          "output_type": "execute_result",
          "data": {
            "text/plain": [
              "array([0, 0, 0, 1, 0, 0, 0, 1, 0, 0, 1, 1, 1, 0, 1, 1, 1, 0, 1, 1])"
            ]
          },
          "metadata": {
            "tags": []
          },
          "execution_count": 167
        }
      ]
    },
    {
      "cell_type": "code",
      "metadata": {
        "id": "1bIoLvPxXdHP"
      },
      "source": [
        "#Apresentação da Matriz de Confusão do Modelo\n",
        "modelo_title = 'Decision Tree'\n",
        "cm = confusion_matrix(y_test, dtree_pred)"
      ],
      "execution_count": 168,
      "outputs": []
    },
    {
      "cell_type": "code",
      "metadata": {
        "colab": {
          "base_uri": "https://localhost:8080/"
        },
        "id": "pLJ3UWrc2ZJK",
        "outputId": "deb49931-5426-4f69-fb32-8b3a082fd5a9"
      },
      "source": [
        "cm"
      ],
      "execution_count": 169,
      "outputs": [
        {
          "output_type": "execute_result",
          "data": {
            "text/plain": [
              "array([[7, 1],\n",
              "       [3, 9]])"
            ]
          },
          "metadata": {
            "tags": []
          },
          "execution_count": 169
        }
      ]
    },
    {
      "cell_type": "code",
      "metadata": {
        "colab": {
          "base_uri": "https://localhost:8080/"
        },
        "id": "ORnNxWbM2kZq",
        "outputId": "408d7e60-1ecb-4172-fcb2-1e4484161d54"
      },
      "source": [
        "cm.shape"
      ],
      "execution_count": 170,
      "outputs": [
        {
          "output_type": "execute_result",
          "data": {
            "text/plain": [
              "(2, 2)"
            ]
          },
          "metadata": {
            "tags": []
          },
          "execution_count": 170
        }
      ]
    },
    {
      "cell_type": "code",
      "metadata": {
        "colab": {
          "base_uri": "https://localhost:8080/"
        },
        "id": "_ZW8v2tHXkzY",
        "outputId": "26b4d229-cf72-415d-d2bf-e3889ae4b7ac"
      },
      "source": [
        "tn, fp, fn, tp = cm.ravel()\n",
        "print(f'Matriz de Confusão:\\nTN: {tn} | FP: {fp}\\n--------------\\nFN: {fn} | TP: {tp}')"
      ],
      "execution_count": 171,
      "outputs": [
        {
          "output_type": "stream",
          "text": [
            "Matriz de Confusão:\n",
            "TN: 7 | FP: 1\n",
            "--------------\n",
            "FN: 3 | TP: 9\n"
          ],
          "name": "stdout"
        }
      ]
    },
    {
      "cell_type": "code",
      "metadata": {
        "colab": {
          "base_uri": "https://localhost:8080/",
          "height": 540
        },
        "id": "v4tuNF3AXnLi",
        "outputId": "013a3b73-a65f-4ed0-e879-c91f23948370"
      },
      "source": [
        "#Reorganização da matriz confusão para \n",
        "cm_reorganizada = np.array([[tp, fn], [fp, tn]])\n",
        "\n",
        "#Visualização Gráfica da Matriz de Confusão\n",
        "fig = plt.figure(figsize=(10,8))\n",
        "fig.suptitle('Matriz de Confusão', fontsize=14, fontweight='bold')\n",
        "\n",
        "sns.heatmap(cm_reorganizada, cmap='Blues', annot=True)\n",
        "\n",
        "plt.title(modelo_title, fontsize=14)\n",
        "plt.xlabel('Predição', fontsize=12)\n",
        "plt.ylabel('Referência', fontsize=12)\n",
        "\n",
        "plt.xticks([])\n",
        "plt.yticks([])\n",
        "\n",
        "plt.annotate('TP', (0.3,0.5), fontweight='bold')\n",
        "plt.annotate('FN', (1.3,0.5), fontweight='bold')\n",
        "plt.annotate('FP', (0.3,1.5), fontweight='bold')\n",
        "plt.annotate('TN', (1.3,1.5), fontweight='bold')\n",
        "\n",
        "plt.savefig('target/plot1.2.3.4.png')"
      ],
      "execution_count": 172,
      "outputs": [
        {
          "output_type": "display_data",
          "data": {
            "image/png": "[encoded data removed]",
            "text/plain": [
              "<Figure size 720x576 with 2 Axes>"
            ]
          },
          "metadata": {
            "tags": [],
            "needs_background": "light"
          }
        }
      ]
    },
    {
      "cell_type": "code",
      "metadata": {
        "colab": {
          "base_uri": "https://localhost:8080/"
        },
        "id": "g7o_IgAVXt2D",
        "outputId": "eddd0d37-011d-4f03-be7f-c9097b55029a"
      },
      "source": [
        "#Relatório da classificação\n",
        "print(classification_report(y_test, dtree_pred))"
      ],
      "execution_count": 173,
      "outputs": [
        {
          "output_type": "stream",
          "text": [
            "              precision    recall  f1-score   support\n",
            "\n",
            "           0       0.70      0.88      0.78         8\n",
            "           1       0.90      0.75      0.82        12\n",
            "\n",
            "    accuracy                           0.80        20\n",
            "   macro avg       0.80      0.81      0.80        20\n",
            "weighted avg       0.82      0.80      0.80        20\n",
            "\n"
          ],
          "name": "stdout"
        }
      ]
    },
    {
      "cell_type": "markdown",
      "metadata": {
        "id": "MBaar8gE5rdc"
      },
      "source": [
        "###1.2.4 Mapeamento de características"
      ]
    },
    {
      "cell_type": "markdown",
      "metadata": {
        "id": "qjb_IMfZ5xrL"
      },
      "source": [
        "A fim de analisarmos possibilidades de melhoria no modelo de ***Regressão Logística***, experimentaremos a seguir a realização do mapeamento de características. Para isso, será realizada a criação de novas características a partir de polinômios criados com base nos valores originais de $X$ em um espaço dimensional maior."
      ]
    },
    {
      "cell_type": "code",
      "metadata": {
        "id": "-W6QIIJ_38sq"
      },
      "source": [
        "#Biblioteca para geração de características polinomiais\n",
        "from sklearn.preprocessing import PolynomialFeatures"
      ],
      "execution_count": 174,
      "outputs": []
    },
    {
      "cell_type": "code",
      "metadata": {
        "id": "y2FVgVtw4GXG"
      },
      "source": [
        "#Cria objeto para mapeamento de características\n",
        "grau = 6\n",
        "poly = PolynomialFeatures(grau)"
      ],
      "execution_count": 175,
      "outputs": []
    },
    {
      "cell_type": "code",
      "metadata": {
        "id": "AyW5RJgb5iUv"
      },
      "source": [
        "#Aplicação da transformação no conjunto de dados estudado\n",
        "X_poly = poly.fit_transform(X)\n"
      ],
      "execution_count": 176,
      "outputs": []
    },
    {
      "cell_type": "markdown",
      "metadata": {
        "id": "tXyZJW_Cep34"
      },
      "source": [
        "Como pode ser visto nas saídas abaixo o conjunto de dados originais que tinha dimensão $100x2$ agora é representado pelas características mapeadas com dimensão $100x28$, ou seja, cada exemplo representa um vetor com 28 dimens~]oes."
      ]
    },
    {
      "cell_type": "code",
      "metadata": {
        "colab": {
          "base_uri": "https://localhost:8080/"
        },
        "id": "KVFYkcqA6Ped",
        "outputId": "02180756-7ad2-4c1b-db1a-7ed611a4f9cb"
      },
      "source": [
        "print('Dimensões dos conjuntos de dados')\n",
        "print('-'*40)\n",
        "print(f'Características originais: {X.shape}\\nCaracterísticas mapeadas:  {X_poly.shape}')"
      ],
      "execution_count": 177,
      "outputs": [
        {
          "output_type": "stream",
          "text": [
            "Dimensões dos conjuntos de dados\n",
            "----------------------------------------\n",
            "Características originais: (100, 2)\n",
            "Características mapeadas:  (100, 28)\n"
          ],
          "name": "stdout"
        }
      ]
    },
    {
      "cell_type": "markdown",
      "metadata": {
        "id": "IIKimWV8fx5U"
      },
      "source": [
        "A listagem a seguir, por sua vez, exibe o primeiro registro dos dados originais e dos valores mapeados."
      ]
    },
    {
      "cell_type": "code",
      "metadata": {
        "colab": {
          "base_uri": "https://localhost:8080/"
        },
        "id": "x3TPRAZSf6gB",
        "outputId": "8925f354-0e1e-4424-baec-3a2ac3ddf0c0"
      },
      "source": [
        "#Conferindo os valores originais (primeiros registros)\n",
        "X[:1]"
      ],
      "execution_count": 178,
      "outputs": [
        {
          "output_type": "execute_result",
          "data": {
            "text/plain": [
              "array([[34.62365962, 78.02469282]])"
            ]
          },
          "metadata": {
            "tags": []
          },
          "execution_count": 178
        }
      ]
    },
    {
      "cell_type": "code",
      "metadata": {
        "colab": {
          "base_uri": "https://localhost:8080/"
        },
        "id": "Or3E-uQufuB1",
        "outputId": "45e96900-8e79-4c46-f021-634cf9d5e0de"
      },
      "source": [
        "#Conferindo os valores mapeados (primeiros registros)\n",
        "X_poly[:1]"
      ],
      "execution_count": 179,
      "outputs": [
        {
          "output_type": "execute_result",
          "data": {
            "text/plain": [
              "array([[1.00000000e+00, 3.46236596e+01, 7.80246928e+01, 1.19879781e+03,\n",
              "        2.70150041e+03, 6.08785269e+03, 4.15067672e+04, 9.35358305e+04,\n",
              "        2.10783739e+05, 4.75002836e+05, 1.43711618e+06, 3.23855276e+06,\n",
              "        7.29810445e+06, 1.64463365e+07, 3.70619504e+07, 4.97582214e+07,\n",
              "        1.12130548e+08, 2.52687084e+08, 5.69432357e+08, 1.28322035e+09,\n",
              "        2.89174729e+09, 1.72281172e+09, 3.88236994e+09, 8.74895160e+09,\n",
              "        1.97158321e+10, 4.44297848e+10, 1.00122874e+11, 2.25627694e+11]])"
            ]
          },
          "metadata": {
            "tags": []
          },
          "execution_count": 179
        }
      ]
    },
    {
      "cell_type": "markdown",
      "metadata": {
        "id": "kdc7zON8rI2v"
      },
      "source": [
        "Separação do conjunto de treinamento e testes"
      ]
    },
    {
      "cell_type": "code",
      "metadata": {
        "id": "Aoc91LPgrIQi"
      },
      "source": [
        "#Divisão dos valores em treino e teste\n",
        "#OBSERVAÇÃO: random_state está sendo usado para reprodutibilidade dos resultados\n",
        "Xp_train, Xp_test, yp_train, yp_test = train_test_split(X_poly, y, \n",
        "                                                    test_size=0.2, \n",
        "                                                    random_state=42)"
      ],
      "execution_count": 180,
      "outputs": []
    },
    {
      "cell_type": "markdown",
      "metadata": {
        "id": "P_oEw3BKgdjf"
      },
      "source": [
        "* Criação de um novo modelo de ***Regressão Logística*** baseada nas características mapeadas."
      ]
    },
    {
      "cell_type": "code",
      "metadata": {
        "id": "DfYBURsugmQS"
      },
      "source": [
        "#Criação do modelo base para sintonização de parâmetros\n",
        "reg_log_poly_tun = LogisticRegression()"
      ],
      "execution_count": 181,
      "outputs": []
    },
    {
      "cell_type": "code",
      "metadata": {
        "colab": {
          "base_uri": "https://localhost:8080/"
        },
        "id": "oKlkGvyvg4D0",
        "outputId": "be3a07f5-fad6-4196-d7cd-6cc844ed113f"
      },
      "source": [
        "#Definição dos valores de parâmetros para teste\n",
        "param = {'penalty': ['l1', 'l2', 'none'],\n",
        "         'solver': ['newton-cg', 'lbfgs', 'liblinear', 'sag', 'saga'],\n",
        "         'max_iter': [100, 150, 200]\n",
        "         }\n",
        "\n",
        "folds = 5 #Quantidade de camadas para validação cruzada\n",
        "iter = 20 #Quantidade de iterações do random search\n",
        "\n",
        "#Seleção do modelo\n",
        "randomGrd_search = RandomizedSearchCV(reg_log_poly_tun,\n",
        "                                      param,\n",
        "                                      n_iter=iter,\n",
        "                                      cv=folds,\n",
        "                                      scoring='neg_mean_squared_error'\n",
        "                                      )\n",
        "\n",
        "\n",
        "#Execução do tuning\n",
        "randomGrd_search.fit(Xp_train, yp_train.ravel())"
      ],
      "execution_count": 182,
      "outputs": [
        {
          "output_type": "stream",
          "text": [
            "/usr/local/lib/python3.7/dist-packages/sklearn/svm/_base.py:947: ConvergenceWarning: Liblinear failed to converge, increase the number of iterations.\n",
            "  \"the number of iterations.\", ConvergenceWarning)\n",
            "/usr/local/lib/python3.7/dist-packages/sklearn/svm/_base.py:947: ConvergenceWarning: Liblinear failed to converge, increase the number of iterations.\n",
            "  \"the number of iterations.\", ConvergenceWarning)\n",
            "/usr/local/lib/python3.7/dist-packages/sklearn/linear_model/_sag.py:330: ConvergenceWarning: The max_iter was reached which means the coef_ did not converge\n",
            "  \"the coef_ did not converge\", ConvergenceWarning)\n",
            "/usr/local/lib/python3.7/dist-packages/sklearn/linear_model/_sag.py:330: ConvergenceWarning: The max_iter was reached which means the coef_ did not converge\n",
            "  \"the coef_ did not converge\", ConvergenceWarning)\n",
            "/usr/local/lib/python3.7/dist-packages/sklearn/linear_model/_sag.py:330: ConvergenceWarning: The max_iter was reached which means the coef_ did not converge\n",
            "  \"the coef_ did not converge\", ConvergenceWarning)\n",
            "/usr/local/lib/python3.7/dist-packages/sklearn/linear_model/_sag.py:330: ConvergenceWarning: The max_iter was reached which means the coef_ did not converge\n",
            "  \"the coef_ did not converge\", ConvergenceWarning)\n",
            "/usr/local/lib/python3.7/dist-packages/sklearn/linear_model/_sag.py:330: ConvergenceWarning: The max_iter was reached which means the coef_ did not converge\n",
            "  \"the coef_ did not converge\", ConvergenceWarning)\n",
            "/usr/local/lib/python3.7/dist-packages/sklearn/model_selection/_validation.py:536: FitFailedWarning: Estimator fit failed. The score on this train-test partition for these parameters will be set to nan. Details: \n",
            "ValueError: Solver lbfgs supports only 'l2' or 'none' penalties, got l1 penalty.\n",
            "\n",
            "  FitFailedWarning)\n",
            "/usr/local/lib/python3.7/dist-packages/sklearn/linear_model/_sag.py:330: ConvergenceWarning: The max_iter was reached which means the coef_ did not converge\n",
            "  \"the coef_ did not converge\", ConvergenceWarning)\n",
            "/usr/local/lib/python3.7/dist-packages/sklearn/linear_model/_sag.py:330: ConvergenceWarning: The max_iter was reached which means the coef_ did not converge\n",
            "  \"the coef_ did not converge\", ConvergenceWarning)\n",
            "/usr/local/lib/python3.7/dist-packages/sklearn/linear_model/_sag.py:330: ConvergenceWarning: The max_iter was reached which means the coef_ did not converge\n",
            "  \"the coef_ did not converge\", ConvergenceWarning)\n",
            "/usr/local/lib/python3.7/dist-packages/sklearn/linear_model/_sag.py:330: ConvergenceWarning: The max_iter was reached which means the coef_ did not converge\n",
            "  \"the coef_ did not converge\", ConvergenceWarning)\n",
            "/usr/local/lib/python3.7/dist-packages/sklearn/linear_model/_sag.py:330: ConvergenceWarning: The max_iter was reached which means the coef_ did not converge\n",
            "  \"the coef_ did not converge\", ConvergenceWarning)\n",
            "/usr/local/lib/python3.7/dist-packages/sklearn/model_selection/_validation.py:536: FitFailedWarning: Estimator fit failed. The score on this train-test partition for these parameters will be set to nan. Details: \n",
            "ValueError: penalty='none' is not supported for the liblinear solver\n",
            "\n",
            "  FitFailedWarning)\n",
            "/usr/local/lib/python3.7/dist-packages/sklearn/model_selection/_validation.py:536: FitFailedWarning: Estimator fit failed. The score on this train-test partition for these parameters will be set to nan. Details: \n",
            "ValueError: Solver newton-cg supports only 'l2' or 'none' penalties, got l1 penalty.\n",
            "\n",
            "  FitFailedWarning)\n",
            "/usr/local/lib/python3.7/dist-packages/sklearn/model_selection/_validation.py:536: FitFailedWarning: Estimator fit failed. The score on this train-test partition for these parameters will be set to nan. Details: \n",
            "ValueError: Solver sag supports only 'l2' or 'none' penalties, got l1 penalty.\n",
            "\n",
            "  FitFailedWarning)\n",
            "/usr/local/lib/python3.7/dist-packages/sklearn/utils/optimize.py:212: ConvergenceWarning: newton-cg failed to converge. Increase the number of iterations.\n",
            "  \"number of iterations.\", ConvergenceWarning)\n",
            "/usr/local/lib/python3.7/dist-packages/sklearn/utils/optimize.py:212: ConvergenceWarning: newton-cg failed to converge. Increase the number of iterations.\n",
            "  \"number of iterations.\", ConvergenceWarning)\n",
            "/usr/local/lib/python3.7/dist-packages/sklearn/utils/optimize.py:212: ConvergenceWarning: newton-cg failed to converge. Increase the number of iterations.\n",
            "  \"number of iterations.\", ConvergenceWarning)\n",
            "/usr/local/lib/python3.7/dist-packages/sklearn/model_selection/_validation.py:536: FitFailedWarning: Estimator fit failed. The score on this train-test partition for these parameters will be set to nan. Details: \n",
            "ValueError: Solver lbfgs supports only 'l2' or 'none' penalties, got l1 penalty.\n",
            "\n",
            "  FitFailedWarning)\n",
            "/usr/local/lib/python3.7/dist-packages/sklearn/utils/optimize.py:212: ConvergenceWarning: newton-cg failed to converge. Increase the number of iterations.\n",
            "  \"number of iterations.\", ConvergenceWarning)\n",
            "/usr/local/lib/python3.7/dist-packages/sklearn/utils/optimize.py:212: ConvergenceWarning: newton-cg failed to converge. Increase the number of iterations.\n",
            "  \"number of iterations.\", ConvergenceWarning)\n",
            "/usr/local/lib/python3.7/dist-packages/sklearn/utils/optimize.py:212: ConvergenceWarning: newton-cg failed to converge. Increase the number of iterations.\n",
            "  \"number of iterations.\", ConvergenceWarning)\n",
            "/usr/local/lib/python3.7/dist-packages/sklearn/utils/optimize.py:212: ConvergenceWarning: newton-cg failed to converge. Increase the number of iterations.\n",
            "  \"number of iterations.\", ConvergenceWarning)\n",
            "/usr/local/lib/python3.7/dist-packages/sklearn/linear_model/_sag.py:330: ConvergenceWarning: The max_iter was reached which means the coef_ did not converge\n",
            "  \"the coef_ did not converge\", ConvergenceWarning)\n",
            "/usr/local/lib/python3.7/dist-packages/sklearn/linear_model/_sag.py:330: ConvergenceWarning: The max_iter was reached which means the coef_ did not converge\n",
            "  \"the coef_ did not converge\", ConvergenceWarning)\n",
            "/usr/local/lib/python3.7/dist-packages/sklearn/linear_model/_sag.py:330: ConvergenceWarning: The max_iter was reached which means the coef_ did not converge\n",
            "  \"the coef_ did not converge\", ConvergenceWarning)\n",
            "/usr/local/lib/python3.7/dist-packages/sklearn/linear_model/_sag.py:330: ConvergenceWarning: The max_iter was reached which means the coef_ did not converge\n",
            "  \"the coef_ did not converge\", ConvergenceWarning)\n",
            "/usr/local/lib/python3.7/dist-packages/sklearn/linear_model/_sag.py:330: ConvergenceWarning: The max_iter was reached which means the coef_ did not converge\n",
            "  \"the coef_ did not converge\", ConvergenceWarning)\n",
            "/usr/local/lib/python3.7/dist-packages/sklearn/linear_model/_sag.py:330: ConvergenceWarning: The max_iter was reached which means the coef_ did not converge\n",
            "  \"the coef_ did not converge\", ConvergenceWarning)\n",
            "/usr/local/lib/python3.7/dist-packages/sklearn/linear_model/_sag.py:330: ConvergenceWarning: The max_iter was reached which means the coef_ did not converge\n",
            "  \"the coef_ did not converge\", ConvergenceWarning)\n",
            "/usr/local/lib/python3.7/dist-packages/sklearn/linear_model/_sag.py:330: ConvergenceWarning: The max_iter was reached which means the coef_ did not converge\n",
            "  \"the coef_ did not converge\", ConvergenceWarning)\n",
            "/usr/local/lib/python3.7/dist-packages/sklearn/linear_model/_sag.py:330: ConvergenceWarning: The max_iter was reached which means the coef_ did not converge\n",
            "  \"the coef_ did not converge\", ConvergenceWarning)\n",
            "/usr/local/lib/python3.7/dist-packages/sklearn/linear_model/_sag.py:330: ConvergenceWarning: The max_iter was reached which means the coef_ did not converge\n",
            "  \"the coef_ did not converge\", ConvergenceWarning)\n",
            "/usr/local/lib/python3.7/dist-packages/sklearn/svm/_base.py:947: ConvergenceWarning: Liblinear failed to converge, increase the number of iterations.\n",
            "  \"the number of iterations.\", ConvergenceWarning)\n",
            "/usr/local/lib/python3.7/dist-packages/sklearn/svm/_base.py:947: ConvergenceWarning: Liblinear failed to converge, increase the number of iterations.\n",
            "  \"the number of iterations.\", ConvergenceWarning)\n",
            "/usr/local/lib/python3.7/dist-packages/sklearn/svm/_base.py:947: ConvergenceWarning: Liblinear failed to converge, increase the number of iterations.\n",
            "  \"the number of iterations.\", ConvergenceWarning)\n",
            "/usr/local/lib/python3.7/dist-packages/sklearn/linear_model/_sag.py:330: ConvergenceWarning: The max_iter was reached which means the coef_ did not converge\n",
            "  \"the coef_ did not converge\", ConvergenceWarning)\n",
            "/usr/local/lib/python3.7/dist-packages/sklearn/linear_model/_sag.py:330: ConvergenceWarning: The max_iter was reached which means the coef_ did not converge\n",
            "  \"the coef_ did not converge\", ConvergenceWarning)\n",
            "/usr/local/lib/python3.7/dist-packages/sklearn/linear_model/_sag.py:330: ConvergenceWarning: The max_iter was reached which means the coef_ did not converge\n",
            "  \"the coef_ did not converge\", ConvergenceWarning)\n",
            "/usr/local/lib/python3.7/dist-packages/sklearn/linear_model/_sag.py:330: ConvergenceWarning: The max_iter was reached which means the coef_ did not converge\n",
            "  \"the coef_ did not converge\", ConvergenceWarning)\n",
            "/usr/local/lib/python3.7/dist-packages/sklearn/linear_model/_sag.py:330: ConvergenceWarning: The max_iter was reached which means the coef_ did not converge\n",
            "  \"the coef_ did not converge\", ConvergenceWarning)\n",
            "/usr/local/lib/python3.7/dist-packages/sklearn/linear_model/_sag.py:330: ConvergenceWarning: The max_iter was reached which means the coef_ did not converge\n",
            "  \"the coef_ did not converge\", ConvergenceWarning)\n",
            "/usr/local/lib/python3.7/dist-packages/sklearn/linear_model/_sag.py:330: ConvergenceWarning: The max_iter was reached which means the coef_ did not converge\n",
            "  \"the coef_ did not converge\", ConvergenceWarning)\n",
            "/usr/local/lib/python3.7/dist-packages/sklearn/linear_model/_sag.py:330: ConvergenceWarning: The max_iter was reached which means the coef_ did not converge\n",
            "  \"the coef_ did not converge\", ConvergenceWarning)\n",
            "/usr/local/lib/python3.7/dist-packages/sklearn/linear_model/_sag.py:330: ConvergenceWarning: The max_iter was reached which means the coef_ did not converge\n",
            "  \"the coef_ did not converge\", ConvergenceWarning)\n",
            "/usr/local/lib/python3.7/dist-packages/sklearn/linear_model/_sag.py:330: ConvergenceWarning: The max_iter was reached which means the coef_ did not converge\n",
            "  \"the coef_ did not converge\", ConvergenceWarning)\n",
            "/usr/local/lib/python3.7/dist-packages/sklearn/model_selection/_validation.py:536: FitFailedWarning: Estimator fit failed. The score on this train-test partition for these parameters will be set to nan. Details: \n",
            "ValueError: penalty='none' is not supported for the liblinear solver\n",
            "\n",
            "  FitFailedWarning)\n",
            "/usr/local/lib/python3.7/dist-packages/sklearn/linear_model/_sag.py:330: ConvergenceWarning: The max_iter was reached which means the coef_ did not converge\n",
            "  \"the coef_ did not converge\", ConvergenceWarning)\n",
            "/usr/local/lib/python3.7/dist-packages/sklearn/linear_model/_sag.py:330: ConvergenceWarning: The max_iter was reached which means the coef_ did not converge\n",
            "  \"the coef_ did not converge\", ConvergenceWarning)\n",
            "/usr/local/lib/python3.7/dist-packages/sklearn/linear_model/_sag.py:330: ConvergenceWarning: The max_iter was reached which means the coef_ did not converge\n",
            "  \"the coef_ did not converge\", ConvergenceWarning)\n",
            "/usr/local/lib/python3.7/dist-packages/sklearn/linear_model/_sag.py:330: ConvergenceWarning: The max_iter was reached which means the coef_ did not converge\n",
            "  \"the coef_ did not converge\", ConvergenceWarning)\n",
            "/usr/local/lib/python3.7/dist-packages/sklearn/linear_model/_sag.py:330: ConvergenceWarning: The max_iter was reached which means the coef_ did not converge\n",
            "  \"the coef_ did not converge\", ConvergenceWarning)\n",
            "/usr/local/lib/python3.7/dist-packages/sklearn/svm/_base.py:947: ConvergenceWarning: Liblinear failed to converge, increase the number of iterations.\n",
            "  \"the number of iterations.\", ConvergenceWarning)\n"
          ],
          "name": "stderr"
        },
        {
          "output_type": "execute_result",
          "data": {
            "text/plain": [
              "RandomizedSearchCV(cv=5, error_score=nan,\n",
              "                   estimator=LogisticRegression(C=1.0, class_weight=None,\n",
              "                                                dual=False, fit_intercept=True,\n",
              "                                                intercept_scaling=1,\n",
              "                                                l1_ratio=None, max_iter=100,\n",
              "                                                multi_class='auto', n_jobs=None,\n",
              "                                                penalty='l2', random_state=None,\n",
              "                                                solver='lbfgs', tol=0.0001,\n",
              "                                                verbose=0, warm_start=False),\n",
              "                   iid='deprecated', n_iter=20, n_jobs=None,\n",
              "                   param_distributions={'max_iter': [100, 150, 200],\n",
              "                                        'penalty': ['l1', 'l2', 'none'],\n",
              "                                        'solver': ['newton-cg', 'lbfgs',\n",
              "                                                   'liblinear', 'sag',\n",
              "                                                   'saga']},\n",
              "                   pre_dispatch='2*n_jobs', random_state=None, refit=True,\n",
              "                   return_train_score=False, scoring='neg_mean_squared_error',\n",
              "                   verbose=0)"
            ]
          },
          "metadata": {
            "tags": []
          },
          "execution_count": 182
        }
      ]
    },
    {
      "cell_type": "code",
      "metadata": {
        "colab": {
          "base_uri": "https://localhost:8080/"
        },
        "id": "0v9LdcKxhAQR",
        "outputId": "a94b2460-1473-45cc-d652-de5a250f3b05"
      },
      "source": [
        "cvres = randomGrd_search.cv_results_\n",
        "\n",
        "for mean_score, params in zip(cvres['mean_test_score'], cvres['params']):\n",
        "    print(np.sqrt(-mean_score), params)"
      ],
      "execution_count": 183,
      "outputs": [
        {
          "output_type": "stream",
          "text": [
            "0.15811388300841897 {'solver': 'liblinear', 'penalty': 'l1', 'max_iter': 150}\n",
            "0.22360679774997896 {'solver': 'lbfgs', 'penalty': 'l2', 'max_iter': 150}\n",
            "0.19364916731037085 {'solver': 'liblinear', 'penalty': 'l2', 'max_iter': 200}\n",
            "0.6123724356957945 {'solver': 'sag', 'penalty': 'none', 'max_iter': 200}\n",
            "nan {'solver': 'lbfgs', 'penalty': 'l1', 'max_iter': 100}\n",
            "0.6123724356957945 {'solver': 'sag', 'penalty': 'l2', 'max_iter': 200}\n",
            "nan {'solver': 'liblinear', 'penalty': 'none', 'max_iter': 100}\n",
            "0.22360679774997896 {'solver': 'newton-cg', 'penalty': 'l2', 'max_iter': 200}\n",
            "nan {'solver': 'newton-cg', 'penalty': 'l1', 'max_iter': 100}\n",
            "nan {'solver': 'sag', 'penalty': 'l1', 'max_iter': 150}\n",
            "0.22360679774997896 {'solver': 'newton-cg', 'penalty': 'none', 'max_iter': 100}\n",
            "nan {'solver': 'lbfgs', 'penalty': 'l1', 'max_iter': 200}\n",
            "0.22360679774997896 {'solver': 'newton-cg', 'penalty': 'l2', 'max_iter': 100}\n",
            "0.6123724356957945 {'solver': 'sag', 'penalty': 'none', 'max_iter': 100}\n",
            "0.6123724356957945 {'solver': 'saga', 'penalty': 'l1', 'max_iter': 200}\n",
            "0.15811388300841897 {'solver': 'liblinear', 'penalty': 'l1', 'max_iter': 200}\n",
            "0.6123724356957945 {'solver': 'saga', 'penalty': 'l1', 'max_iter': 150}\n",
            "0.6123724356957945 {'solver': 'saga', 'penalty': 'none', 'max_iter': 200}\n",
            "nan {'solver': 'liblinear', 'penalty': 'none', 'max_iter': 200}\n",
            "0.6123724356957945 {'solver': 'saga', 'penalty': 'none', 'max_iter': 100}\n"
          ],
          "name": "stdout"
        }
      ]
    },
    {
      "cell_type": "code",
      "metadata": {
        "colab": {
          "base_uri": "https://localhost:8080/"
        },
        "id": "EovwLkq_hEi7",
        "outputId": "cff6bd4b-1cb4-4b33-829f-7f09ea082a5e"
      },
      "source": [
        "#Exibição do modelo selecionado\n",
        "print('Parâmetros do melhor modelo:')\n",
        "randomGrd_search.best_params_"
      ],
      "execution_count": 184,
      "outputs": [
        {
          "output_type": "stream",
          "text": [
            "Parâmetros do melhor modelo:\n"
          ],
          "name": "stdout"
        },
        {
          "output_type": "execute_result",
          "data": {
            "text/plain": [
              "{'max_iter': 150, 'penalty': 'l1', 'solver': 'liblinear'}"
            ]
          },
          "metadata": {
            "tags": []
          },
          "execution_count": 184
        }
      ]
    },
    {
      "cell_type": "code",
      "metadata": {
        "id": "ZEWkyEXYhIyY"
      },
      "source": [
        "#Modelo com tuning\n",
        "reg_log_poly = randomGrd_search.best_estimator_"
      ],
      "execution_count": 185,
      "outputs": []
    },
    {
      "cell_type": "code",
      "metadata": {
        "colab": {
          "base_uri": "https://localhost:8080/"
        },
        "id": "i1Y6kQy8qqFh",
        "outputId": "74ebb30f-8c98-4a00-a9a7-6f3488b9c5f9"
      },
      "source": [
        "#Predição com modelo Regressão Logística\n",
        "y_pred_poly = reg_log_poly.predict(Xp_test)\n",
        "y_pred_poly"
      ],
      "execution_count": 186,
      "outputs": [
        {
          "output_type": "execute_result",
          "data": {
            "text/plain": [
              "array([1, 0, 0, 0, 0, 0, 0, 1, 0, 0, 1, 1, 1, 1, 1, 1, 1, 1, 1, 1])"
            ]
          },
          "metadata": {
            "tags": []
          },
          "execution_count": 186
        }
      ]
    },
    {
      "cell_type": "code",
      "metadata": {
        "id": "9lvFBGKprxcO"
      },
      "source": [
        "#Apresentação da Matriz de Confusão do Modelo\n",
        "modelo_title = 'Regressão Logística com Características Polinomiais'\n",
        "cm = confusion_matrix(y_test, y_pred_poly)\n",
        "tn, fp, fn, tp = cm.ravel()"
      ],
      "execution_count": 187,
      "outputs": []
    },
    {
      "cell_type": "code",
      "metadata": {
        "colab": {
          "base_uri": "https://localhost:8080/",
          "height": 540
        },
        "id": "G3mmHxVHsJHa",
        "outputId": "ae9babea-3cd3-4614-d8f0-093191c46a9b"
      },
      "source": [
        "#Reorganização da matriz confusão para \n",
        "cm_reorganizada = np.array([[tp, fn], [fp, tn]])\n",
        "\n",
        "#Visualização Gráfica da Matriz de Confusão\n",
        "fig = plt.figure(figsize=(10,8))\n",
        "fig.suptitle('Matriz de Confusão', fontsize=14, fontweight='bold')\n",
        "\n",
        "sns.heatmap(cm_reorganizada, cmap='Blues', annot=True)\n",
        "\n",
        "plt.title(modelo_title, fontsize=14)\n",
        "plt.xlabel('Predição', fontsize=12)\n",
        "plt.ylabel('Referência', fontsize=12)\n",
        "\n",
        "plt.xticks([])\n",
        "plt.yticks([])\n",
        "\n",
        "plt.annotate('TP', (0.3,0.5), fontweight='bold')\n",
        "plt.annotate('FN', (1.3,0.5), fontweight='bold')\n",
        "plt.annotate('FP', (0.3,1.5), fontweight='bold')\n",
        "plt.annotate('TN', (1.3,1.5), fontweight='bold')\n",
        "\n",
        "plt.savefig('target/plot1.2.4.png')"
      ],
      "execution_count": 188,
      "outputs": [
        {
          "output_type": "display_data",
          "data": {
            "image/png": "[encoded data removed]",
            "text/plain": [
              "<Figure size 720x576 with 2 Axes>"
            ]
          },
          "metadata": {
            "tags": [],
            "needs_background": "light"
          }
        }
      ]
    },
    {
      "cell_type": "code",
      "metadata": {
        "colab": {
          "base_uri": "https://localhost:8080/"
        },
        "id": "1CUzq9FVsPIy",
        "outputId": "d321c95b-35ab-4aa1-adb4-a190dcf04f28"
      },
      "source": [
        "#Relatório da classificação\n",
        "print(classification_report(y_test, y_pred_poly))"
      ],
      "execution_count": 189,
      "outputs": [
        {
          "output_type": "stream",
          "text": [
            "              precision    recall  f1-score   support\n",
            "\n",
            "           0       1.00      1.00      1.00         8\n",
            "           1       1.00      1.00      1.00        12\n",
            "\n",
            "    accuracy                           1.00        20\n",
            "   macro avg       1.00      1.00      1.00        20\n",
            "weighted avg       1.00      1.00      1.00        20\n",
            "\n"
          ],
          "name": "stdout"
        }
      ]
    },
    {
      "cell_type": "markdown",
      "metadata": {
        "id": "M_jW34ERsfYj"
      },
      "source": [
        "Com a combinação de mapeamento de características e sintonização de hiperparâmetros chegou-se a um modelo que acertou todas as classificações previstas nos rótulos. Isso é evidenciado pela matriz de confusão e pelo relatório de classificação apresentados nas células anteriores.\n",
        "\n",
        "---\n",
        "\n",
        "Este comportamento, apesar de aparentemente positivo, pode significar sobreajuste do modelo ao conjunto de dados e prejudicar a capacidade de generalização do modelo. Na próxima seção avaliaremos como fica a fronteira de decisão do modelo e em seguida analisar maneiras de lidar com o sobreajuste."
      ]
    },
    {
      "cell_type": "markdown",
      "metadata": {
        "id": "h3uEwVh05yHW"
      },
      "source": [
        "###1.2.5 Esboço da fronteira de decisão"
      ]
    },
    {
      "cell_type": "code",
      "metadata": {
        "colab": {
          "base_uri": "https://localhost:8080/"
        },
        "id": "2YUTv3SRwrtT",
        "outputId": "58e8592f-9c41-4ca2-b308-1e5017bb58f3"
      },
      "source": [
        "reg_log_poly"
      ],
      "execution_count": 190,
      "outputs": [
        {
          "output_type": "execute_result",
          "data": {
            "text/plain": [
              "LogisticRegression(C=1.0, class_weight=None, dual=False, fit_intercept=True,\n",
              "                   intercept_scaling=1, l1_ratio=None, max_iter=150,\n",
              "                   multi_class='auto', n_jobs=None, penalty='l1',\n",
              "                   random_state=None, solver='liblinear', tol=0.0001, verbose=0,\n",
              "                   warm_start=False)"
            ]
          },
          "metadata": {
            "tags": []
          },
          "execution_count": 190
        }
      ]
    },
    {
      "cell_type": "code",
      "metadata": {
        "colab": {
          "base_uri": "https://localhost:8080/"
        },
        "id": "3ber6cyqodEY",
        "outputId": "be65b240-5473-4d84-ab8f-21939b51f6f3"
      },
      "source": [
        "#Predição com modelo Regressão Logística\n",
        "y_proba_poly = reg_log_poly.predict_proba(Xp_test)\n",
        "y_proba_poly"
      ],
      "execution_count": 191,
      "outputs": [
        {
          "output_type": "execute_result",
          "data": {
            "text/plain": [
              "array([[1.14671315e-01, 8.85328685e-01],\n",
              "       [1.00000000e+00, 5.09116049e-18],\n",
              "       [1.00000000e+00, 1.75913606e-12],\n",
              "       [8.92383965e-01, 1.07616035e-01],\n",
              "       [9.99999999e-01, 1.02085842e-09],\n",
              "       [1.00000000e+00, 1.57063183e-20],\n",
              "       [9.99999999e-01, 1.49261609e-09],\n",
              "       [0.00000000e+00, 1.00000000e+00],\n",
              "       [9.99999975e-01, 2.45954503e-08],\n",
              "       [1.00000000e+00, 1.09076014e-19],\n",
              "       [0.00000000e+00, 1.00000000e+00],\n",
              "       [0.00000000e+00, 1.00000000e+00],\n",
              "       [0.00000000e+00, 1.00000000e+00],\n",
              "       [4.41848369e-04, 9.99558152e-01],\n",
              "       [0.00000000e+00, 1.00000000e+00],\n",
              "       [0.00000000e+00, 1.00000000e+00],\n",
              "       [0.00000000e+00, 1.00000000e+00],\n",
              "       [1.04058425e-08, 9.99999990e-01],\n",
              "       [0.00000000e+00, 1.00000000e+00],\n",
              "       [0.00000000e+00, 1.00000000e+00]])"
            ]
          },
          "metadata": {
            "tags": []
          },
          "execution_count": 191
        }
      ]
    },
    {
      "cell_type": "code",
      "metadata": {
        "id": "iAP0biZKtGnG"
      },
      "source": [
        "stop = max(Xp_test[0])\n",
        "start = min(Xp_test[0])\n",
        "tamanho = len(y_proba_poly)\n",
        "x_n = np.linspace(start, stop, tamanho)"
      ],
      "execution_count": 192,
      "outputs": []
    },
    {
      "cell_type": "code",
      "metadata": {
        "colab": {
          "base_uri": "https://localhost:8080/",
          "height": 296
        },
        "id": "R9htwFjEsW1d",
        "outputId": "4998e5c8-6914-4375-dcbd-17bac3ecf6cf"
      },
      "source": [
        "plt.plot(x_n, y_proba_poly[:,0], 'b--')\n",
        "plt.plot(x_n, y_proba_poly[:,1], 'g')\n",
        "plt.ylabel('Probabilidade')"
      ],
      "execution_count": 193,
      "outputs": [
        {
          "output_type": "execute_result",
          "data": {
            "text/plain": [
              "Text(0, 0.5, 'Probabilidade')"
            ]
          },
          "metadata": {
            "tags": []
          },
          "execution_count": 193
        },
        {
          "output_type": "display_data",
          "data": {
            "image/png": "[encoded data removed]",
            "text/plain": [
              "<Figure size 432x288 with 1 Axes>"
            ]
          },
          "metadata": {
            "tags": [],
            "needs_background": "light"
          }
        }
      ]
    },
    {
      "cell_type": "code",
      "metadata": {
        "colab": {
          "base_uri": "https://localhost:8080/"
        },
        "id": "YfZUXSJww04d",
        "outputId": "4dca72bd-2062-4c5b-ff20-8b63544a6b75"
      },
      "source": [
        "theta0 = reg_log_poly.intercept_\n",
        "theta0"
      ],
      "execution_count": 194,
      "outputs": [
        {
          "output_type": "execute_result",
          "data": {
            "text/plain": [
              "array([0.])"
            ]
          },
          "metadata": {
            "tags": []
          },
          "execution_count": 194
        }
      ]
    },
    {
      "cell_type": "code",
      "metadata": {
        "colab": {
          "base_uri": "https://localhost:8080/"
        },
        "id": "aYs_okxlw48D",
        "outputId": "81c346bc-c4ed-45d3-d3ec-9b6e5a331f0e"
      },
      "source": [
        "theta = reg_log_poly.coef_[0]\n",
        "theta"
      ],
      "execution_count": 195,
      "outputs": [
        {
          "output_type": "execute_result",
          "data": {
            "text/plain": [
              "array([ 0.00000000e+00, -2.43913747e-02, -8.47847606e-03, -2.38980464e-03,\n",
              "       -3.89830755e-03, -8.89710421e-03, -2.18991765e-05, -1.88033363e-06,\n",
              "       -2.86680000e-05, -1.01650738e-04, -2.59719866e-07,  3.28793333e-07,\n",
              "        8.25439013e-07,  2.08404994e-08, -5.47280800e-07, -3.78557353e-09,\n",
              "        5.50319067e-09,  2.36681481e-08,  3.10250861e-08,  1.31410984e-08,\n",
              "        8.38586417e-09,  1.30112025e-12,  0.00000000e+00,  4.09310205e-11,\n",
              "        2.97719542e-10,  3.46106663e-10,  5.97677036e-11,  5.58709166e-12])"
            ]
          },
          "metadata": {
            "tags": []
          },
          "execution_count": 195
        }
      ]
    },
    {
      "cell_type": "code",
      "metadata": {
        "colab": {
          "base_uri": "https://localhost:8080/"
        },
        "id": "1MB6-BR4xNii",
        "outputId": "2a44c9c5-520c-401d-c23a-29974edd255b"
      },
      "source": [
        "theta.shape"
      ],
      "execution_count": 196,
      "outputs": [
        {
          "output_type": "execute_result",
          "data": {
            "text/plain": [
              "(28,)"
            ]
          },
          "metadata": {
            "tags": []
          },
          "execution_count": 196
        }
      ]
    },
    {
      "cell_type": "code",
      "metadata": {
        "id": "zlNRvOtdg_0A"
      },
      "source": [
        "from matplotlib.colors import ListedColormap"
      ],
      "execution_count": 197,
      "outputs": []
    },
    {
      "cell_type": "code",
      "metadata": {
        "id": "SmN2Ls-thG1O"
      },
      "source": [
        "#Criação da fronteira de decisão\n",
        "##===================================\n",
        "##ANALISAR\n",
        "##===================================\n",
        "def plot_decision_boundary(clf, X, y, axes=[-1.5, 2.45, -1, 1.5], alpha=0.5, contour=True):\n",
        "    x1s = np.linspace(axes[0], axes[1], 100)\n",
        "    x2s = np.linspace(axes[2], axes[3], 100)\n",
        "    x1, x2 = np.meshgrid(x1s, x2s)\n",
        "    X_new = np.c_[x1.ravel(), x2.ravel()]\n",
        "    y_pred = clf.predict(X_new).reshape(x1.shape)\n",
        "    custom_cmap = ListedColormap(['#fafab0','#9898ff','#a0faa0'])\n",
        "    plt.contourf(x1, x2, y_pred, alpha=0.3, cmap=custom_cmap)\n",
        "    if contour:\n",
        "        custom_cmap2 = ListedColormap(['#7d7d58','#4c4c7f','#507d50'])\n",
        "        plt.contour(x1, x2, y_pred, cmap=custom_cmap2, alpha=0.8)\n",
        "    plt.plot(X[:, 0][y==0], X[:, 1][y==0], \"yo\", alpha=alpha)\n",
        "    plt.plot(X[:, 0][y==1], X[:, 1][y==1], \"bs\", alpha=alpha)\n",
        "    plt.axis(axes)\n",
        "    plt.xlabel(r\"$x_1$\", fontsize=18)\n",
        "    plt.ylabel(r\"$x_2$\", fontsize=18, rotation=0)"
      ],
      "execution_count": 198,
      "outputs": []
    },
    {
      "cell_type": "code",
      "metadata": {
        "colab": {
          "base_uri": "https://localhost:8080/"
        },
        "id": "9ULnv5qZkQ7K",
        "outputId": "9e810475-517b-4b02-998c-6bfc7dfa7012"
      },
      "source": [
        "X[:5]"
      ],
      "execution_count": 199,
      "outputs": [
        {
          "output_type": "execute_result",
          "data": {
            "text/plain": [
              "array([[34.62365962, 78.02469282],\n",
              "       [30.28671077, 43.89499752],\n",
              "       [35.84740877, 72.90219803],\n",
              "       [60.18259939, 86.3085521 ],\n",
              "       [79.03273605, 75.34437644]])"
            ]
          },
          "metadata": {
            "tags": []
          },
          "execution_count": 199
        }
      ]
    },
    {
      "cell_type": "code",
      "metadata": {
        "id": "aaydfTDEmHlj"
      },
      "source": [
        "x0 = X_test[:,0].reshape(-1,1)\n",
        "x1 = X_test[:,1].reshape(-1,1)\n",
        "y_pred_db = y_pred_poly.reshape(x0.shape)"
      ],
      "execution_count": 200,
      "outputs": []
    },
    {
      "cell_type": "code",
      "metadata": {
        "colab": {
          "base_uri": "https://localhost:8080/"
        },
        "id": "Qhyx9-fSjWKO",
        "outputId": "58d0b6d4-7f58-48fd-803b-98a482bd05e7"
      },
      "source": [
        "Xp_test[:1]"
      ],
      "execution_count": 201,
      "outputs": [
        {
          "output_type": "execute_result",
          "data": {
            "text/plain": [
              "array([[1.00000000e+00, 5.72387063e+01, 5.95142820e+01, 3.27626950e+03,\n",
              "        3.40652051e+03, 3.54194976e+03, 1.87529428e+05, 1.94984827e+05,\n",
              "        2.02736622e+05, 2.10796597e+05, 1.07339418e+07, 1.11606792e+07,\n",
              "        1.16043820e+07, 1.20657245e+07, 1.25454081e+07, 6.14396945e+08,\n",
              "        6.38822841e+08, 6.64219812e+08, 6.90626461e+08, 7.18082930e+08,\n",
              "        7.46630955e+08, 3.51672863e+10, 3.65653930e+10, 3.80190827e+10,\n",
              "        3.95305652e+10, 4.11021379e+10, 4.27361900e+10, 4.44352052e+10]])"
            ]
          },
          "metadata": {
            "tags": []
          },
          "execution_count": 201
        }
      ]
    },
    {
      "cell_type": "code",
      "metadata": {
        "id": "x3-cgsD06E67",
        "colab": {
          "base_uri": "https://localhost:8080/",
          "height": 497
        },
        "outputId": "4ea16946-05ec-47d7-e2d8-f118a6a61985"
      },
      "source": [
        "#%run plotDecisionBoundary.py\n",
        "#%matplotlib inline\n",
        "\n",
        "filename='target/plot1.2.5.1.png'\n",
        "plot(dados, filename)"
      ],
      "execution_count": 202,
      "outputs": [
        {
          "output_type": "display_data",
          "data": {
            "image/png": "[encoded data removed]",
            "text/plain": [
              "<Figure size 864x576 with 1 Axes>"
            ]
          },
          "metadata": {
            "tags": [],
            "needs_background": "light"
          }
        }
      ]
    },
    {
      "cell_type": "markdown",
      "metadata": {
        "id": "X55V6F2lrpa3"
      },
      "source": [
        "**SEÇÃO EM ELABORAÇÃO**\n",
        "* Conclusão da fronteira de decisão pendente"
      ]
    },
    {
      "cell_type": "markdown",
      "metadata": {
        "id": "PKqkbwGktdmx"
      },
      "source": [
        "##1.3 Regularização"
      ]
    },
    {
      "cell_type": "markdown",
      "metadata": {
        "id": "AdpMorwFtjIP"
      },
      "source": [
        "Carga do conjunto de dados e análise prévia"
      ]
    },
    {
      "cell_type": "code",
      "metadata": {
        "id": "xVN60P76tjRD"
      },
      "source": [
        "import scipy.io as spio\n",
        "arquivo = 'data/ex5data1.mat'\n",
        "data = spio.loadmat(arquivo,\n",
        "                    squeeze_me=True)"
      ],
      "execution_count": 203,
      "outputs": []
    },
    {
      "cell_type": "code",
      "metadata": {
        "id": "Yi80KCQ1kM1v"
      },
      "source": [
        "X_train = np.array(data['X'])\n",
        "y_train = np.array(data['y'])"
      ],
      "execution_count": 204,
      "outputs": []
    },
    {
      "cell_type": "code",
      "metadata": {
        "id": "kHt_uGw3kOUZ"
      },
      "source": [
        "X_val = np.array(data['Xval'])\n",
        "y_val = np.array(data['yval'])"
      ],
      "execution_count": 205,
      "outputs": []
    },
    {
      "cell_type": "code",
      "metadata": {
        "id": "MegXMZcAkP5U"
      },
      "source": [
        "X_test =  np.array(data['Xtest'])\n",
        "y_test = np.array(data['ytest'])"
      ],
      "execution_count": 206,
      "outputs": []
    },
    {
      "cell_type": "markdown",
      "metadata": {
        "id": "Xooo6_B2kc9d"
      },
      "source": [
        "##1.3.1 Visualização dos dados"
      ]
    },
    {
      "cell_type": "code",
      "metadata": {
        "colab": {
          "base_uri": "https://localhost:8080/",
          "height": 393
        },
        "id": "qXe9IhFjkfLM",
        "outputId": "6663ef12-3d72-4d57-f441-42d5bdc09a89"
      },
      "source": [
        "plt.figure(figsize=(10,6))\n",
        "plt.scatter(X_train, y_train,\n",
        "            color='r', alpha=0.7,\n",
        "            marker='x')\n",
        "\n",
        "plt.xlabel('Mudança no nível de água (x)')\n",
        "plt.ylabel('Água saindo da barragem (y)')\n",
        "\n",
        "plt.yticks([0,5,10,15,20,25,35,40])\n",
        "plt.xticks([-50,-40,-30,-20,-10,0,10,20,30,40,])\n",
        "\n",
        "sns.despine()\n",
        "\n",
        "plt.savefig('target/plot1.3.1.png')"
      ],
      "execution_count": 207,
      "outputs": [
        {
          "output_type": "display_data",
          "data": {
            "image/png": "[encoded data removed]",
            "text/plain": [
              "<Figure size 720x432 with 1 Axes>"
            ]
          },
          "metadata": {
            "tags": [],
            "needs_background": "light"
          }
        }
      ]
    },
    {
      "cell_type": "markdown",
      "metadata": {
        "id": "wHO21NQhkpnr"
      },
      "source": [
        "##1.3.2 Ajuste de um Regressor Linear"
      ]
    },
    {
      "cell_type": "markdown",
      "metadata": {
        "id": "-hxx7Od2kuxI"
      },
      "source": [
        "Criação do modelo de Regressão Linear"
      ]
    },
    {
      "cell_type": "code",
      "metadata": {
        "id": "mScYT_A_ku6l"
      },
      "source": [
        "#Importação da classe do Scikit-Learn e criação do objeto com o regressor\n",
        "from sklearn.linear_model import LinearRegression\n",
        "lin_reg = LinearRegression()"
      ],
      "execution_count": 208,
      "outputs": []
    },
    {
      "cell_type": "code",
      "metadata": {
        "colab": {
          "base_uri": "https://localhost:8080/"
        },
        "id": "eJ8A2yDzlpTN",
        "outputId": "ea13c1d2-1e32-4485-a61c-378aaea3e26f"
      },
      "source": [
        "lin_reg.fit(X_train.reshape(-1, 1), y_train)"
      ],
      "execution_count": 209,
      "outputs": [
        {
          "output_type": "execute_result",
          "data": {
            "text/plain": [
              "LinearRegression(copy_X=True, fit_intercept=True, n_jobs=None, normalize=False)"
            ]
          },
          "metadata": {
            "tags": []
          },
          "execution_count": 209
        }
      ]
    },
    {
      "cell_type": "markdown",
      "metadata": {
        "id": "2K-nbYYOneF2"
      },
      "source": [
        "Com o modelo gerado é possível carregar os coeficientes da regressão linear"
      ]
    },
    {
      "cell_type": "code",
      "metadata": {
        "id": "t8aguPHSnXO7"
      },
      "source": [
        "#Extrair coeficientes\n",
        "inclinacao = lin_reg.coef_\n",
        "intersecao = lin_reg.intercept_\n",
        "theta = np.array([intersecao, inclinacao[0]])"
      ],
      "execution_count": 210,
      "outputs": []
    },
    {
      "cell_type": "code",
      "metadata": {
        "colab": {
          "base_uri": "https://localhost:8080/"
        },
        "id": "Av6JSntCnozA",
        "outputId": "35218c30-c353-4585-a8c7-387d896de834"
      },
      "source": [
        "# imprimir os valores encontrados para os parâmetros\n",
        "print(f'Vetor de parâmetros: {theta}')\n",
        "print(f'Equação:             Ŷ = {intersecao:.3f} + {inclinacao[0]:.3f} * X')"
      ],
      "execution_count": 211,
      "outputs": [
        {
          "output_type": "stream",
          "text": [
            "Vetor de parâmetros: [13.08790351  0.36777923]\n",
            "Equação:             Ŷ = 13.088 + 0.368 * X\n"
          ],
          "name": "stdout"
        }
      ]
    },
    {
      "cell_type": "markdown",
      "metadata": {
        "id": "cfChOeUnpxiP"
      },
      "source": [
        "Com o modelo criado, temos os parâmetros da equação da reta de ajustamento, conforme segue:\n",
        "\n",
        "$\n",
        "\\hat{Y}=\\theta_0 + \\theta_1x\n",
        "$\n",
        "\n",
        "$\n",
        "\\hat{Y}=13.088 + 0.368x\n",
        "$\n",
        "\n",
        "---\n",
        "\n",
        "Como pode ser visto na visualização da dispersão dos atributos com a reta de ajustamento da ***Regressão Linear*** o modelo não apresenta uma capacidade preditiva adequada. Aparentemente o modelo está *subajustado*."
      ]
    },
    {
      "cell_type": "code",
      "metadata": {
        "colab": {
          "base_uri": "https://localhost:8080/",
          "height": 390
        },
        "id": "LQ-4JHBPodaJ",
        "outputId": "ba117192-a35e-4015-ee1b-8c8f30c6b3a6"
      },
      "source": [
        "#Plotar pontos e retas com parâmetros otimizados\n",
        "plt.figure(figsize=(10,6))\n",
        "\n",
        "plt.scatter(X_train, y_train, \n",
        "            color='r', alpha=0.7,\n",
        "            marker='x')\n",
        "plt.plot(X_train, (X_train * inclinacao + intersecao), color='b', alpha=0.7)\n",
        "plt.legend(['Reta de Ajustamento', 'Dispersão dos dados'])\n",
        "plt.title('Regressão Linear Simples')\n",
        "\n",
        "plt.yticks([0,5,10,15,20,25,35,40])\n",
        "plt.xticks([-50,-40,-30,-20,-10,0,10,20,30,40,])\n",
        "\n",
        "sns.despine()\n",
        "plt.savefig('target/plot1.3.2.png')"
      ],
      "execution_count": 214,
      "outputs": [
        {
          "output_type": "display_data",
          "data": {
            "image/png": "[encoded data removed]",
            "text/plain": [
              "<Figure size 720x432 with 1 Axes>"
            ]
          },
          "metadata": {
            "tags": [],
            "needs_background": "light"
          }
        }
      ]
    },
    {
      "cell_type": "markdown",
      "metadata": {
        "id": "nJZsyV7k-GQL"
      },
      "source": [
        "#2 Redução de Dimensionalidade"
      ]
    },
    {
      "cell_type": "code",
      "metadata": {
        "id": "Hodv78HF_S_d"
      },
      "source": [
        ""
      ],
      "execution_count": 212,
      "outputs": []
    },
    {
      "cell_type": "markdown",
      "metadata": {
        "id": "piYwV2ps-Jg_"
      },
      "source": [
        ""
      ]
    },
    {
      "cell_type": "code",
      "metadata": {
        "id": "pSWiYbkF-Jy7"
      },
      "source": [
        ""
      ],
      "execution_count": 212,
      "outputs": []
    },
    {
      "cell_type": "markdown",
      "metadata": {
        "id": "k9PFjTon-J-g"
      },
      "source": [
        "#3 Agrupamento"
      ]
    },
    {
      "cell_type": "markdown",
      "metadata": {
        "id": "ydA4gTL6-MGN"
      },
      "source": [
        ""
      ]
    },
    {
      "cell_type": "code",
      "metadata": {
        "id": "Ejd-bkKn-MRq"
      },
      "source": [
        ""
      ],
      "execution_count": 212,
      "outputs": []
    },
    {
      "cell_type": "markdown",
      "metadata": {
        "id": "vkDs0-aJ-MlK"
      },
      "source": [
        "#4 Detecção de Anomalias"
      ]
    },
    {
      "cell_type": "markdown",
      "metadata": {
        "id": "YMchP4P4-PNz"
      },
      "source": [
        ""
      ]
    },
    {
      "cell_type": "code",
      "metadata": {
        "id": "znHJ6Pyt-PZF"
      },
      "source": [
        ""
      ],
      "execution_count": 212,
      "outputs": []
    },
    {
      "cell_type": "markdown",
      "metadata": {
        "id": "8kwife5G5woO"
      },
      "source": [
        "#Referências"
      ]
    },
    {
      "cell_type": "markdown",
      "metadata": {
        "id": "N5OVMr0b5ziU"
      },
      "source": [
        "**Referências**\n",
        "\n",
        "McKinney, Wes (2018). **Python para Análise de Dados**: tratamento de dados com pandas, numpy e iPython. Traduzido por Lúcia A. Kinoshita. Novatec.\n",
        "\n",
        "Géron, Aurélien (2019). **Mãos à Obra Aprendizagem de Máquina com Scikit-Learn & TensorFlow:** Conceitos, ferramentas e técnicas para a construção de sistemas inteligentes. Traduzido por Rafael Contatori. Alta Books.\n",
        "\n",
        "Grus, Joel (2016). **Data Science do Zero:** Primeiras regras com Python. Traduzido por Welington Nascimento. Alta Books.\n",
        "\n",
        "---\n",
        "\n",
        "**Algoritmos e conjuntos de dados:**\n",
        "\n",
        "https://github.com/MLRG-CEFET-RJ/ml-class/blob/master/ppcic_ml_modelselection.ipynb\n",
        "\n",
        "https://github.com/MLRG-CEFET-RJ/ml-class/blob/master/ppcic_ml_modeleval_sup.ipynb\n",
        "\n",
        "https://github.com/MLRG-CEFET-RJ/ml-class/blob/master/ppcic_ml_dtree.ipynb\n",
        "\n",
        "https://github.com/MLRG-CEFET-RJ/ml-class/blob/master/ppcic_ml_knn.ipynb\n",
        "\n",
        "https://github.com/MLRG-CEFET-RJ/ml-class/blob/master/ppcic_ml_naivebayes.ipynb\n"
      ]
    }
  ]
}