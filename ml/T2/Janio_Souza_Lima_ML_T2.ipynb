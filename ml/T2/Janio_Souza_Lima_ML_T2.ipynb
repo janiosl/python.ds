{
  "nbformat": 4,
  "nbformat_minor": 0,
  "metadata": {
    "colab": {
      "name": "Janio_Souza_Lima_ML-T2.ipynb",
      "provenance": [],
      "collapsed_sections": [
        "w3hrc_yS-BsI",
        "vkDs0-aJ-MlK"
      ],
      "authorship_tag": "ABX9TyPT8w4GXtq0KQF/68PoDm+a",
      "include_colab_link": true
    },
    "kernelspec": {
      "name": "python3",
      "display_name": "Python 3"
    }
  },
  "cells": [
    {
      "cell_type": "markdown",
      "metadata": {
        "id": "view-in-github",
        "colab_type": "text"
      },
      "source": [
        "<a href=\"https://colab.research.google.com/github/janiosl/python.ds/blob/master/ml/T2/Janio_Souza_Lima_ML_T2.ipynb\" target=\"_parent\"><img src=\"https://colab.research.google.com/assets/colab-badge.svg\" alt=\"Open In Colab\"/></a>"
      ]
    },
    {
      "cell_type": "markdown",
      "metadata": {
        "id": "ptkA5dKWWJVL"
      },
      "source": [
        "#**CEFET-RJ**\n",
        "\n",
        "**Programa de Pós-Gradução em Ciência da Computação - PPCIC**\n",
        "\n",
        "**Mestrado em Ciência da Computação**\n",
        "\n",
        "**Disciplina: Aprendizado de Máquina - 2021/1**\n",
        "\n",
        "* **Trabalho 02**\n",
        "* **Professor**: Eduardo Bezerra\n",
        "* **Aluno**: Janio de Souza Lima"
      ]
    },
    {
      "cell_type": "markdown",
      "metadata": {
        "id": "4anwwi9AXjEF"
      },
      "source": [
        "##Preparação do ambiente"
      ]
    },
    {
      "cell_type": "markdown",
      "metadata": {
        "id": "BfzO6DbX6OKD"
      },
      "source": [
        "Importação de bibliotecas"
      ]
    },
    {
      "cell_type": "code",
      "metadata": {
        "id": "WjU2VUQuXk88"
      },
      "source": [
        "#Importação de bibliotecas\n",
        "import pandas as pd\n",
        "import numpy as np\n",
        "import seaborn as sns\n",
        "from matplotlib import pyplot as plt\n",
        "import scipy.optimize as opt"
      ],
      "execution_count": 1,
      "outputs": []
    },
    {
      "cell_type": "markdown",
      "metadata": {
        "id": "yE_ovAy36XVL"
      },
      "source": [
        "Carga de arquivos para ambiente (apenas para uso deste notebook no Google Colab)"
      ]
    },
    {
      "cell_type": "code",
      "metadata": {
        "id": "d_Y_4EBO6DY3"
      },
      "source": [
        "from google.colab import drive"
      ],
      "execution_count": 2,
      "outputs": []
    },
    {
      "cell_type": "code",
      "metadata": {
        "colab": {
          "base_uri": "https://localhost:8080/"
        },
        "id": "7uZ-awNx88p4",
        "outputId": "90a8ce20-4b4d-47ff-8e0f-4dca824e81bc"
      },
      "source": [
        "#Conecta o Google Colab ao Google Drive\n",
        "drive.mount('/content/drive')"
      ],
      "execution_count": 3,
      "outputs": [
        {
          "output_type": "stream",
          "text": [
            "Drive already mounted at /content/drive; to attempt to forcibly remount, call drive.mount(\"/content/drive\", force_remount=True).\n"
          ],
          "name": "stdout"
        }
      ]
    },
    {
      "cell_type": "markdown",
      "metadata": {
        "id": "F4rSnChkMHdG"
      },
      "source": [
        "A etapa anterior apenas conecta ao seu Google Drive, após rodá-la e autenticar a sessão usando o link da API da Google, o código abaixo deve ser executado para apontar para o diretório de trabalho no qual estão gravados os códigos e bibliotecas personalziadas que serão usados na análise.\n",
        "\n",
        "Os códigos* em questão estão disponíveis em: https://github.com/MLRG-CEFET-RJ/ml-class/tree/master/ml-t1/code\n",
        "\n",
        "** Em alguns casos foi necessário adaptar partes das funções originais disponíveis no repositório citado ou substituí-las por versões que estão escritas nas próprias células deste notebook* ou no repositório disponível em: https://github.com/janiosl/python.ds/tree/master/ml/T1/code.\n",
        "\n",
        "A pasta com os dados deve ser gravada neste mesmo diretório com o nome *data*, assim os trechos nos quais os conjuntos de dados são carregados rodarão sem problemas."
      ]
    },
    {
      "cell_type": "code",
      "metadata": {
        "id": "r0QvKrwd9QmG"
      },
      "source": [
        "#Define o path dos códigos e dados como diretório de trabalho atual\n",
        "import os\n",
        "dir = '/content/drive/My Drive/Mestrado PPCIC/03. Curso/3. Aprendizado/t2'\n",
        "os.chdir(dir)"
      ],
      "execution_count": 4,
      "outputs": []
    },
    {
      "cell_type": "code",
      "metadata": {
        "id": "1-FJCvNgnYp0"
      },
      "source": [
        "#Bibliotecas/módulos utilitários personalizados\n",
        "from util.read_dataset import read_dataset"
      ],
      "execution_count": 5,
      "outputs": []
    },
    {
      "cell_type": "markdown",
      "metadata": {
        "id": "w3hrc_yS-BsI"
      },
      "source": [
        "#1 Aprendizado Supervisionado Revisitado"
      ]
    },
    {
      "cell_type": "markdown",
      "metadata": {
        "id": "cugOxsJsAPWg"
      },
      "source": [
        "##1.1 Aprendizado com Regressores"
      ]
    },
    {
      "cell_type": "markdown",
      "metadata": {
        "id": "EfhhMeXcASrj"
      },
      "source": [
        "###1.1.1 Regressão com uma variável"
      ]
    },
    {
      "cell_type": "markdown",
      "metadata": {
        "id": "Uy7uouWd-Fj_"
      },
      "source": [
        "Análise preliminar dos dados"
      ]
    },
    {
      "cell_type": "code",
      "metadata": {
        "colab": {
          "base_uri": "https://localhost:8080/",
          "height": 0
        },
        "id": "Mqs8O9c6-Zcq",
        "outputId": "32f2b805-2fd1-4d83-952d-d217fc0e9fd3"
      },
      "source": [
        "#Carga dos dados usando as bibliotecas pandas e numpy\n",
        "arquivo = 'https://raw.githubusercontent.com/MLRG-CEFET-RJ/ml-class/master/ml-t1/data/ex1data1.txt'\n",
        "dados = pd.read_table(arquivo,\n",
        "                      sep=',',\n",
        "                      header=None,\n",
        "                      names=['Population', 'Profit'])\n",
        "\n",
        "#Convertendo os dados para numpy array\n",
        "X = np.array(dados.Population)\n",
        "X = X.reshape(-1, 1)\n",
        "y = np.array(dados.Profit)\n",
        "\n",
        "dados.head()"
      ],
      "execution_count": 6,
      "outputs": [
        {
          "output_type": "execute_result",
          "data": {
            "text/html": [
              "<div>\n",
              "<style scoped>\n",
              "    .dataframe tbody tr th:only-of-type {\n",
              "        vertical-align: middle;\n",
              "    }\n",
              "\n",
              "    .dataframe tbody tr th {\n",
              "        vertical-align: top;\n",
              "    }\n",
              "\n",
              "    .dataframe thead th {\n",
              "        text-align: right;\n",
              "    }\n",
              "</style>\n",
              "<table border=\"1\" class=\"dataframe\">\n",
              "  <thead>\n",
              "    <tr style=\"text-align: right;\">\n",
              "      <th></th>\n",
              "      <th>Population</th>\n",
              "      <th>Profit</th>\n",
              "    </tr>\n",
              "  </thead>\n",
              "  <tbody>\n",
              "    <tr>\n",
              "      <th>0</th>\n",
              "      <td>6.1101</td>\n",
              "      <td>17.5920</td>\n",
              "    </tr>\n",
              "    <tr>\n",
              "      <th>1</th>\n",
              "      <td>5.5277</td>\n",
              "      <td>9.1302</td>\n",
              "    </tr>\n",
              "    <tr>\n",
              "      <th>2</th>\n",
              "      <td>8.5186</td>\n",
              "      <td>13.6620</td>\n",
              "    </tr>\n",
              "    <tr>\n",
              "      <th>3</th>\n",
              "      <td>7.0032</td>\n",
              "      <td>11.8540</td>\n",
              "    </tr>\n",
              "    <tr>\n",
              "      <th>4</th>\n",
              "      <td>5.8598</td>\n",
              "      <td>6.8233</td>\n",
              "    </tr>\n",
              "  </tbody>\n",
              "</table>\n",
              "</div>"
            ],
            "text/plain": [
              "   Population   Profit\n",
              "0      6.1101  17.5920\n",
              "1      5.5277   9.1302\n",
              "2      8.5186  13.6620\n",
              "3      7.0032  11.8540\n",
              "4      5.8598   6.8233"
            ]
          },
          "metadata": {
            "tags": []
          },
          "execution_count": 6
        }
      ]
    },
    {
      "cell_type": "code",
      "metadata": {
        "colab": {
          "base_uri": "https://localhost:8080/"
        },
        "id": "woDCwolX_UEQ",
        "outputId": "de8e5054-3591-4de6-9443-82da746d7fcc"
      },
      "source": [
        "#Informações gerais do dataset carregado\n",
        "dados.info()"
      ],
      "execution_count": 7,
      "outputs": [
        {
          "output_type": "stream",
          "text": [
            "<class 'pandas.core.frame.DataFrame'>\n",
            "RangeIndex: 97 entries, 0 to 96\n",
            "Data columns (total 2 columns):\n",
            " #   Column      Non-Null Count  Dtype  \n",
            "---  ------      --------------  -----  \n",
            " 0   Population  97 non-null     float64\n",
            " 1   Profit      97 non-null     float64\n",
            "dtypes: float64(2)\n",
            "memory usage: 1.6 KB\n"
          ],
          "name": "stdout"
        }
      ]
    },
    {
      "cell_type": "code",
      "metadata": {
        "colab": {
          "base_uri": "https://localhost:8080/",
          "height": 0
        },
        "id": "CC2iG3xr_Vu5",
        "outputId": "ae5fed5c-d46b-4742-fc38-d95cd1aec489"
      },
      "source": [
        "#Sumário estatístico dos dados\n",
        "dados.describe()"
      ],
      "execution_count": 8,
      "outputs": [
        {
          "output_type": "execute_result",
          "data": {
            "text/html": [
              "<div>\n",
              "<style scoped>\n",
              "    .dataframe tbody tr th:only-of-type {\n",
              "        vertical-align: middle;\n",
              "    }\n",
              "\n",
              "    .dataframe tbody tr th {\n",
              "        vertical-align: top;\n",
              "    }\n",
              "\n",
              "    .dataframe thead th {\n",
              "        text-align: right;\n",
              "    }\n",
              "</style>\n",
              "<table border=\"1\" class=\"dataframe\">\n",
              "  <thead>\n",
              "    <tr style=\"text-align: right;\">\n",
              "      <th></th>\n",
              "      <th>Population</th>\n",
              "      <th>Profit</th>\n",
              "    </tr>\n",
              "  </thead>\n",
              "  <tbody>\n",
              "    <tr>\n",
              "      <th>count</th>\n",
              "      <td>97.000000</td>\n",
              "      <td>97.000000</td>\n",
              "    </tr>\n",
              "    <tr>\n",
              "      <th>mean</th>\n",
              "      <td>8.159800</td>\n",
              "      <td>5.839135</td>\n",
              "    </tr>\n",
              "    <tr>\n",
              "      <th>std</th>\n",
              "      <td>3.869884</td>\n",
              "      <td>5.510262</td>\n",
              "    </tr>\n",
              "    <tr>\n",
              "      <th>min</th>\n",
              "      <td>5.026900</td>\n",
              "      <td>-2.680700</td>\n",
              "    </tr>\n",
              "    <tr>\n",
              "      <th>25%</th>\n",
              "      <td>5.707700</td>\n",
              "      <td>1.986900</td>\n",
              "    </tr>\n",
              "    <tr>\n",
              "      <th>50%</th>\n",
              "      <td>6.589400</td>\n",
              "      <td>4.562300</td>\n",
              "    </tr>\n",
              "    <tr>\n",
              "      <th>75%</th>\n",
              "      <td>8.578100</td>\n",
              "      <td>7.046700</td>\n",
              "    </tr>\n",
              "    <tr>\n",
              "      <th>max</th>\n",
              "      <td>22.203000</td>\n",
              "      <td>24.147000</td>\n",
              "    </tr>\n",
              "  </tbody>\n",
              "</table>\n",
              "</div>"
            ],
            "text/plain": [
              "       Population     Profit\n",
              "count   97.000000  97.000000\n",
              "mean     8.159800   5.839135\n",
              "std      3.869884   5.510262\n",
              "min      5.026900  -2.680700\n",
              "25%      5.707700   1.986900\n",
              "50%      6.589400   4.562300\n",
              "75%      8.578100   7.046700\n",
              "max     22.203000  24.147000"
            ]
          },
          "metadata": {
            "tags": []
          },
          "execution_count": 8
        }
      ]
    },
    {
      "cell_type": "code",
      "metadata": {
        "colab": {
          "base_uri": "https://localhost:8080/",
          "height": 0
        },
        "id": "bCLly-1GAWWP",
        "outputId": "74955122-c883-4a3d-e9ff-e8ffb5b02ee3"
      },
      "source": [
        "#Geração do gráfico de dispersão\n",
        "plt.figure(figsize=(9,5))\n",
        "plt.scatter(dados.Population,\n",
        "            dados.Profit,\n",
        "            marker='x',\n",
        "            color='red',\n",
        "            alpha=0.6)\n",
        "\n",
        "plt.xticks([4,6,8,10,12,14,16,18,20,22,24])\n",
        "plt.yticks([-5,0,5,10,15,20,25])\n",
        "\n",
        "plt.title('População da cidade x Lucro da filial')\n",
        "plt.xlabel('População (10k)')\n",
        "plt.ylabel('Lucro ($ 10k)')\n",
        "\n",
        "plt.savefig('target/plot1.1.1.png')\n",
        "\n",
        "sns.despine()"
      ],
      "execution_count": 9,
      "outputs": [
        {
          "output_type": "display_data",
          "data": {
            "image/png": "[encoded data removed]",
            "text/plain": [
              "<Figure size 648x360 with 1 Axes>"
            ]
          },
          "metadata": {
            "tags": [],
            "needs_background": "light"
          }
        }
      ]
    },
    {
      "cell_type": "markdown",
      "metadata": {
        "id": "BnwkCtdNChr5"
      },
      "source": [
        "Criação de modelos de regressão baseados nos algoritmos ***k-NN*** e ***Decision Trees***."
      ]
    },
    {
      "cell_type": "markdown",
      "metadata": {
        "id": "azGR6AFZNAuj"
      },
      "source": [
        "####Aplicação básica do **k-NN** sem sintonização de hiperparâmetros.\n",
        "\n",
        "---\n",
        "\n",
        "Na geração do modelo ***k-NN*** abaixo foi definido, de forma arbitrária, o parâmetro `n_neighbors`."
      ]
    },
    {
      "cell_type": "code",
      "metadata": {
        "id": "-sq9HX6DBG6O"
      },
      "source": [
        "from sklearn.neighbors import KNeighborsRegressor\n",
        "from sklearn.model_selection import train_test_split"
      ],
      "execution_count": 10,
      "outputs": []
    },
    {
      "cell_type": "code",
      "metadata": {
        "id": "6KmRscVQDMAA"
      },
      "source": [
        "#Divisão dos valores em treino e teste\n",
        "#OBSERVAÇÃO: random_state está sendo usado para reprodutibilidade dos resultados\n",
        "X_train, X_test, y_train, y_test = train_test_split(X, y, \n",
        "                                                    test_size=0.2, \n",
        "                                                    random_state=42)"
      ],
      "execution_count": 11,
      "outputs": []
    },
    {
      "cell_type": "code",
      "metadata": {
        "id": "YXoXUg-ODhsW"
      },
      "source": [
        "#Criação do objeto com os parâmetros do modelo\n",
        "model = KNeighborsRegressor(n_neighbors = 15, weights = 'distance')"
      ],
      "execution_count": 12,
      "outputs": []
    },
    {
      "cell_type": "code",
      "metadata": {
        "colab": {
          "base_uri": "https://localhost:8080/"
        },
        "id": "joTwehCHEMUt",
        "outputId": "4b0f41cb-47e9-4ad2-df37-4895870fff4d"
      },
      "source": [
        "#Treinamento do modelo\n",
        "model.fit(X_train, y_train)"
      ],
      "execution_count": 13,
      "outputs": [
        {
          "output_type": "execute_result",
          "data": {
            "text/plain": [
              "KNeighborsRegressor(algorithm='auto', leaf_size=30, metric='minkowski',\n",
              "                    metric_params=None, n_jobs=None, n_neighbors=15, p=2,\n",
              "                    weights='distance')"
            ]
          },
          "metadata": {
            "tags": []
          },
          "execution_count": 13
        }
      ]
    },
    {
      "cell_type": "code",
      "metadata": {
        "id": "zbVwOyudFaRC"
      },
      "source": [
        "y_pred = model.predict(X_test)"
      ],
      "execution_count": 14,
      "outputs": []
    },
    {
      "cell_type": "code",
      "metadata": {
        "colab": {
          "base_uri": "https://localhost:8080/"
        },
        "id": "4nd9w-IDFe_W",
        "outputId": "0d078ebb-4c42-41ff-9433-e1505efc6d73"
      },
      "source": [
        "y_pred"
      ],
      "execution_count": 15,
      "outputs": [
        {
          "output_type": "execute_result",
          "data": {
            "text/plain": [
              "array([19.18341697,  2.09002643,  1.81531929,  3.52056822,  0.45514218,\n",
              "        7.28814371, 22.33804637,  8.04648035,  1.90584025,  2.64326988,\n",
              "        4.25026806,  4.50127752,  2.68126569, 10.15035769,  4.93402555,\n",
              "        4.53103741,  2.0256771 ,  1.32693927,  3.43575169,  4.85189867])"
            ]
          },
          "metadata": {
            "tags": []
          },
          "execution_count": 15
        }
      ]
    },
    {
      "cell_type": "code",
      "metadata": {
        "id": "nSK-Ovv1Er9x"
      },
      "source": [
        "from sklearn.metrics import mean_squared_error\n",
        "from math import sqrt"
      ],
      "execution_count": 16,
      "outputs": []
    },
    {
      "cell_type": "code",
      "metadata": {
        "colab": {
          "base_uri": "https://localhost:8080/"
        },
        "id": "yTrKEsREFmyh",
        "outputId": "6d3e0ed3-88c9-4767-cd2e-4dad91801aad"
      },
      "source": [
        "#Avaliação do modelo\n",
        "rmse_knn = sqrt(mean_squared_error(y_test, y_pred))\n",
        "print(rmse_knn)"
      ],
      "execution_count": 17,
      "outputs": [
        {
          "output_type": "stream",
          "text": [
            "3.9782475830030886\n"
          ],
          "name": "stdout"
        }
      ]
    },
    {
      "cell_type": "markdown",
      "metadata": {
        "id": "umIC3HrENTbj"
      },
      "source": [
        "####Aplicação básica do algoritmo **Decision Trees** sem sintonização de hiperparâmetros.\n",
        "\n",
        "---\n",
        "\n",
        "Na geração do modelo da árvore de decisão abaixo foi definido, de forma arbitrária, o parâmetro `max_depth` para limitar a profundidade da árvore e reduzir a possibilidade de sobreajustamento."
      ]
    },
    {
      "cell_type": "code",
      "metadata": {
        "id": "Z9gNcdsdLYgX"
      },
      "source": [
        "from sklearn.tree import DecisionTreeRegressor"
      ],
      "execution_count": 18,
      "outputs": []
    },
    {
      "cell_type": "code",
      "metadata": {
        "colab": {
          "base_uri": "https://localhost:8080/"
        },
        "id": "IulJ4XHzLfHz",
        "outputId": "ab619387-dc07-4303-894e-340e4182435b"
      },
      "source": [
        "#Criação e treinamento do modelo\n",
        "tree_reg = DecisionTreeRegressor(max_depth=2)\n",
        "tree_reg.fit(X_train, y_train)"
      ],
      "execution_count": 19,
      "outputs": [
        {
          "output_type": "execute_result",
          "data": {
            "text/plain": [
              "DecisionTreeRegressor(ccp_alpha=0.0, criterion='mse', max_depth=2,\n",
              "                      max_features=None, max_leaf_nodes=None,\n",
              "                      min_impurity_decrease=0.0, min_impurity_split=None,\n",
              "                      min_samples_leaf=1, min_samples_split=2,\n",
              "                      min_weight_fraction_leaf=0.0, presort='deprecated',\n",
              "                      random_state=None, splitter='best')"
            ]
          },
          "metadata": {
            "tags": []
          },
          "execution_count": 19
        }
      ]
    },
    {
      "cell_type": "code",
      "metadata": {
        "id": "znP_5T3zLx-4"
      },
      "source": [
        "import os\n",
        "from graphviz import Source\n",
        "from sklearn.tree import export_graphviz"
      ],
      "execution_count": 20,
      "outputs": []
    },
    {
      "cell_type": "code",
      "metadata": {
        "colab": {
          "base_uri": "https://localhost:8080/",
          "height": 0
        },
        "id": "WaAjQDHqLjG2",
        "outputId": "a1b7f763-6eae-4735-e370-fc185ca78baf"
      },
      "source": [
        "export_graphviz(\n",
        "        tree_reg,\n",
        "        out_file='reg_tree.dot',\n",
        "        feature_names=['Population'],\n",
        "        class_names=['Profit'],\n",
        "        rounded=True,\n",
        "        filled=True\n",
        "    )\n",
        "\n",
        "Source.from_file('reg_tree.dot')"
      ],
      "execution_count": 21,
      "outputs": [
        {
          "output_type": "execute_result",
          "data": {
            "text/plain": [
              "<graphviz.files.Source at 0x7f6c59971050>"
            ],
            "image/svg+xml": "<?xml version=\"1.0\" encoding=\"UTF-8\" standalone=\"no\"?>\n<!DOCTYPE svg PUBLIC \"-//W3C//DTD SVG 1.1//EN\"\n \"http://www.w3.org/Graphics/SVG/1.1/DTD/svg11.dtd\">\n<!-- Generated by graphviz version 2.40.1 (20161225.0304)\n -->\n<!-- Title: Tree Pages: 1 -->\n<svg width=\"518pt\" height=\"269pt\"\n viewBox=\"0.00 0.00 517.50 269.00\" xmlns=\"http://www.w3.org/2000/svg\" xmlns:xlink=\"http://www.w3.org/1999/xlink\">\n<g id=\"graph0\" class=\"graph\" transform=\"scale(1 1) rotate(0) translate(4 265)\">\n<title>Tree</title>\n<polygon fill=\"#ffffff\" stroke=\"transparent\" points=\"-4,4 -4,-265 513.5,-265 513.5,4 -4,4\"/>\n<!-- 0 -->\n<g id=\"node1\" class=\"node\">\n<title>0</title>\n<path fill=\"#fceee5\" stroke=\"#000000\" d=\"M312.5,-261C312.5,-261 181.5,-261 181.5,-261 175.5,-261 169.5,-255 169.5,-249 169.5,-249 169.5,-205 169.5,-205 169.5,-199 175.5,-193 181.5,-193 181.5,-193 312.5,-193 312.5,-193 318.5,-193 324.5,-199 324.5,-205 324.5,-205 324.5,-249 324.5,-249 324.5,-255 318.5,-261 312.5,-261\"/>\n<text text-anchor=\"middle\" x=\"247\" y=\"-245.8\" font-family=\"Helvetica,sans-Serif\" font-size=\"14.00\" fill=\"#000000\">Population &lt;= 13.006</text>\n<text text-anchor=\"middle\" x=\"247\" y=\"-230.8\" font-family=\"Helvetica,sans-Serif\" font-size=\"14.00\" fill=\"#000000\">mse = 29.647</text>\n<text text-anchor=\"middle\" x=\"247\" y=\"-215.8\" font-family=\"Helvetica,sans-Serif\" font-size=\"14.00\" fill=\"#000000\">samples = 77</text>\n<text text-anchor=\"middle\" x=\"247\" y=\"-200.8\" font-family=\"Helvetica,sans-Serif\" font-size=\"14.00\" fill=\"#000000\">value = 5.746</text>\n</g>\n<!-- 1 -->\n<g id=\"node2\" class=\"node\">\n<title>1</title>\n<path fill=\"#fdf7f3\" stroke=\"#000000\" d=\"M224,-157C224,-157 102,-157 102,-157 96,-157 90,-151 90,-145 90,-145 90,-101 90,-101 90,-95 96,-89 102,-89 102,-89 224,-89 224,-89 230,-89 236,-95 236,-101 236,-101 236,-145 236,-145 236,-151 230,-157 224,-157\"/>\n<text text-anchor=\"middle\" x=\"163\" y=\"-141.8\" font-family=\"Helvetica,sans-Serif\" font-size=\"14.00\" fill=\"#000000\">Population &lt;= 8.294</text>\n<text text-anchor=\"middle\" x=\"163\" y=\"-126.8\" font-family=\"Helvetica,sans-Serif\" font-size=\"14.00\" fill=\"#000000\">mse = 11.788</text>\n<text text-anchor=\"middle\" x=\"163\" y=\"-111.8\" font-family=\"Helvetica,sans-Serif\" font-size=\"14.00\" fill=\"#000000\">samples = 69</text>\n<text text-anchor=\"middle\" x=\"163\" y=\"-96.8\" font-family=\"Helvetica,sans-Serif\" font-size=\"14.00\" fill=\"#000000\">value = 4.371</text>\n</g>\n<!-- 0&#45;&gt;1 -->\n<g id=\"edge1\" class=\"edge\">\n<title>0&#45;&gt;1</title>\n<path fill=\"none\" stroke=\"#000000\" d=\"M219.4953,-192.9465C212.3159,-184.0578 204.4924,-174.3716 197.019,-165.1188\"/>\n<polygon fill=\"#000000\" stroke=\"#000000\" points=\"199.5727,-162.7102 190.5665,-157.13 194.1271,-167.1086 199.5727,-162.7102\"/>\n<text text-anchor=\"middle\" x=\"187.9219\" y=\"-178.2897\" font-family=\"Helvetica,sans-Serif\" font-size=\"14.00\" fill=\"#000000\">True</text>\n</g>\n<!-- 4 -->\n<g id=\"node5\" class=\"node\">\n<title>4</title>\n<path fill=\"#eba06a\" stroke=\"#000000\" d=\"M397.5,-157C397.5,-157 266.5,-157 266.5,-157 260.5,-157 254.5,-151 254.5,-145 254.5,-145 254.5,-101 254.5,-101 254.5,-95 260.5,-89 266.5,-89 266.5,-89 397.5,-89 397.5,-89 403.5,-89 409.5,-95 409.5,-101 409.5,-101 409.5,-145 409.5,-145 409.5,-151 403.5,-157 397.5,-157\"/>\n<text text-anchor=\"middle\" x=\"332\" y=\"-141.8\" font-family=\"Helvetica,sans-Serif\" font-size=\"14.00\" fill=\"#000000\">Population &lt;= 16.926</text>\n<text text-anchor=\"middle\" x=\"332\" y=\"-126.8\" font-family=\"Helvetica,sans-Serif\" font-size=\"14.00\" fill=\"#000000\">mse = 26.717</text>\n<text text-anchor=\"middle\" x=\"332\" y=\"-111.8\" font-family=\"Helvetica,sans-Serif\" font-size=\"14.00\" fill=\"#000000\">samples = 8</text>\n<text text-anchor=\"middle\" x=\"332\" y=\"-96.8\" font-family=\"Helvetica,sans-Serif\" font-size=\"14.00\" fill=\"#000000\">value = 17.606</text>\n</g>\n<!-- 0&#45;&gt;4 -->\n<g id=\"edge4\" class=\"edge\">\n<title>0&#45;&gt;4</title>\n<path fill=\"none\" stroke=\"#000000\" d=\"M274.8322,-192.9465C282.097,-184.0578 290.0136,-174.3716 297.576,-165.1188\"/>\n<polygon fill=\"#000000\" stroke=\"#000000\" points=\"300.487,-167.0878 304.1053,-157.13 295.0669,-162.658 300.487,-167.0878\"/>\n<text text-anchor=\"middle\" x=\"306.6059\" y=\"-178.3046\" font-family=\"Helvetica,sans-Serif\" font-size=\"14.00\" fill=\"#000000\">False</text>\n</g>\n<!-- 2 -->\n<g id=\"node3\" class=\"node\">\n<title>2</title>\n<path fill=\"#ffffff\" stroke=\"#000000\" d=\"M92,-53C92,-53 12,-53 12,-53 6,-53 0,-47 0,-41 0,-41 0,-12 0,-12 0,-6 6,0 12,0 12,0 92,0 92,0 98,0 104,-6 104,-12 104,-12 104,-41 104,-41 104,-47 98,-53 92,-53\"/>\n<text text-anchor=\"middle\" x=\"52\" y=\"-37.8\" font-family=\"Helvetica,sans-Serif\" font-size=\"14.00\" fill=\"#000000\">mse = 7.469</text>\n<text text-anchor=\"middle\" x=\"52\" y=\"-22.8\" font-family=\"Helvetica,sans-Serif\" font-size=\"14.00\" fill=\"#000000\">samples = 52</text>\n<text text-anchor=\"middle\" x=\"52\" y=\"-7.8\" font-family=\"Helvetica,sans-Serif\" font-size=\"14.00\" fill=\"#000000\">value = 3.212</text>\n</g>\n<!-- 1&#45;&gt;2 -->\n<g id=\"edge2\" class=\"edge\">\n<title>1&#45;&gt;2</title>\n<path fill=\"none\" stroke=\"#000000\" d=\"M123.8656,-88.9777C113.0167,-79.546 101.2516,-69.3178 90.4426,-59.9208\"/>\n<polygon fill=\"#000000\" stroke=\"#000000\" points=\"92.6108,-57.1681 82.7677,-53.2485 88.0181,-62.4508 92.6108,-57.1681\"/>\n</g>\n<!-- 3 -->\n<g id=\"node4\" class=\"node\">\n<title>3</title>\n<path fill=\"#f9e0ce\" stroke=\"#000000\" d=\"M214,-53C214,-53 134,-53 134,-53 128,-53 122,-47 122,-41 122,-41 122,-12 122,-12 122,-6 128,0 134,0 134,0 214,0 214,0 220,0 226,-6 226,-12 226,-12 226,-41 226,-41 226,-47 220,-53 214,-53\"/>\n<text text-anchor=\"middle\" x=\"174\" y=\"-37.8\" font-family=\"Helvetica,sans-Serif\" font-size=\"14.00\" fill=\"#000000\">mse = 8.302</text>\n<text text-anchor=\"middle\" x=\"174\" y=\"-22.8\" font-family=\"Helvetica,sans-Serif\" font-size=\"14.00\" fill=\"#000000\">samples = 17</text>\n<text text-anchor=\"middle\" x=\"174\" y=\"-7.8\" font-family=\"Helvetica,sans-Serif\" font-size=\"14.00\" fill=\"#000000\">value = 7.918</text>\n</g>\n<!-- 1&#45;&gt;3 -->\n<g id=\"edge3\" class=\"edge\">\n<title>1&#45;&gt;3</title>\n<path fill=\"none\" stroke=\"#000000\" d=\"M166.8782,-88.9777C167.828,-80.6449 168.8488,-71.6903 169.8124,-63.2364\"/>\n<polygon fill=\"#000000\" stroke=\"#000000\" points=\"173.2958,-63.5806 170.951,-53.2485 166.3408,-62.7877 173.2958,-63.5806\"/>\n</g>\n<!-- 5 -->\n<g id=\"node6\" class=\"node\">\n<title>5</title>\n<path fill=\"#f2c09c\" stroke=\"#000000\" d=\"M366.5,-53C366.5,-53 277.5,-53 277.5,-53 271.5,-53 265.5,-47 265.5,-41 265.5,-41 265.5,-12 265.5,-12 265.5,-6 271.5,0 277.5,0 277.5,0 366.5,0 366.5,0 372.5,0 378.5,-6 378.5,-12 378.5,-12 378.5,-41 378.5,-41 378.5,-47 372.5,-53 366.5,-53\"/>\n<text text-anchor=\"middle\" x=\"322\" y=\"-37.8\" font-family=\"Helvetica,sans-Serif\" font-size=\"14.00\" fill=\"#000000\">mse = 6.369</text>\n<text text-anchor=\"middle\" x=\"322\" y=\"-22.8\" font-family=\"Helvetica,sans-Serif\" font-size=\"14.00\" fill=\"#000000\">samples = 4</text>\n<text text-anchor=\"middle\" x=\"322\" y=\"-7.8\" font-family=\"Helvetica,sans-Serif\" font-size=\"14.00\" fill=\"#000000\">value = 12.827</text>\n</g>\n<!-- 4&#45;&gt;5 -->\n<g id=\"edge5\" class=\"edge\">\n<title>4&#45;&gt;5</title>\n<path fill=\"none\" stroke=\"#000000\" d=\"M328.4744,-88.9777C327.6109,-80.6449 326.6829,-71.6903 325.8069,-63.2364\"/>\n<polygon fill=\"#000000\" stroke=\"#000000\" points=\"329.2841,-62.8344 324.7719,-53.2485 322.3213,-63.556 329.2841,-62.8344\"/>\n</g>\n<!-- 6 -->\n<g id=\"node7\" class=\"node\">\n<title>6</title>\n<path fill=\"#e58139\" stroke=\"#000000\" d=\"M497.5,-53C497.5,-53 408.5,-53 408.5,-53 402.5,-53 396.5,-47 396.5,-41 396.5,-41 396.5,-12 396.5,-12 396.5,-6 402.5,0 408.5,0 408.5,0 497.5,0 497.5,0 503.5,0 509.5,-6 509.5,-12 509.5,-12 509.5,-41 509.5,-41 509.5,-47 503.5,-53 497.5,-53\"/>\n<text text-anchor=\"middle\" x=\"453\" y=\"-37.8\" font-family=\"Helvetica,sans-Serif\" font-size=\"14.00\" fill=\"#000000\">mse = 1.373</text>\n<text text-anchor=\"middle\" x=\"453\" y=\"-22.8\" font-family=\"Helvetica,sans-Serif\" font-size=\"14.00\" fill=\"#000000\">samples = 4</text>\n<text text-anchor=\"middle\" x=\"453\" y=\"-7.8\" font-family=\"Helvetica,sans-Serif\" font-size=\"14.00\" fill=\"#000000\">value = 22.386</text>\n</g>\n<!-- 4&#45;&gt;6 -->\n<g id=\"edge6\" class=\"edge\">\n<title>4&#45;&gt;6</title>\n<path fill=\"none\" stroke=\"#000000\" d=\"M374.6601,-88.9777C386.6011,-79.4545 399.5605,-69.1191 411.437,-59.6473\"/>\n<polygon fill=\"#000000\" stroke=\"#000000\" points=\"413.8246,-62.22 419.4605,-53.2485 409.46,-56.7473 413.8246,-62.22\"/>\n</g>\n</g>\n</svg>\n"
          },
          "metadata": {
            "tags": []
          },
          "execution_count": 21
        }
      ]
    },
    {
      "cell_type": "code",
      "metadata": {
        "id": "JtY1DC3pL2Cc"
      },
      "source": [
        "#Converter arquivo .dot em .png\n",
        "!dot -Tpng reg_tree.dot -o target/reg_tree.png"
      ],
      "execution_count": 22,
      "outputs": []
    },
    {
      "cell_type": "code",
      "metadata": {
        "id": "8dtOvgKXMRkf"
      },
      "source": [
        "y_pred = tree_reg.predict(X_test)"
      ],
      "execution_count": 23,
      "outputs": []
    },
    {
      "cell_type": "code",
      "metadata": {
        "colab": {
          "base_uri": "https://localhost:8080/"
        },
        "id": "iGYYCDXYMUHp",
        "outputId": "d913dee2-6bd7-449b-e527-e25210af2bdc"
      },
      "source": [
        "y_pred"
      ],
      "execution_count": 24,
      "outputs": [
        {
          "output_type": "execute_result",
          "data": {
            "text/plain": [
              "array([22.386     ,  3.211595  ,  3.211595  ,  3.211595  ,  3.211595  ,\n",
              "        7.91843529, 22.386     ,  7.91843529,  3.211595  ,  3.211595  ,\n",
              "        3.211595  ,  3.211595  ,  3.211595  ,  7.91843529,  3.211595  ,\n",
              "        3.211595  ,  3.211595  ,  3.211595  ,  3.211595  ,  3.211595  ])"
            ]
          },
          "metadata": {
            "tags": []
          },
          "execution_count": 24
        }
      ]
    },
    {
      "cell_type": "code",
      "metadata": {
        "colab": {
          "base_uri": "https://localhost:8080/"
        },
        "id": "GFat9NiUMYGC",
        "outputId": "217918f6-daa0-44d2-c080-f055cd7f93dd"
      },
      "source": [
        "#Avaliação do modelo\n",
        "rmse_dtree = sqrt(mean_squared_error(y_test, y_pred))\n",
        "print(rmse_dtree)"
      ],
      "execution_count": 25,
      "outputs": [
        {
          "output_type": "stream",
          "text": [
            "4.215675881663337\n"
          ],
          "name": "stdout"
        }
      ]
    },
    {
      "cell_type": "code",
      "metadata": {
        "colab": {
          "base_uri": "https://localhost:8080/"
        },
        "id": "rYO0Xi9oDKa8",
        "outputId": "e77b260b-a4a7-40a4-e655-de36ac0e9268"
      },
      "source": [
        "#print(f'RMSE k-NN: {rmse_knn:.3f}\\nRMSE Decition Tree: {rmse_dtree:.3f}')\n",
        "print('RMSE dos modelos\\n\\nk-NN               | Decision Tree')\n",
        "print('-'*40)\n",
        "print(rmse_knn, rmse_dtree, sep=' | ')"
      ],
      "execution_count": 26,
      "outputs": [
        {
          "output_type": "stream",
          "text": [
            "RMSE dos modelos\n",
            "\n",
            "k-NN               | Decision Tree\n",
            "----------------------------------------\n",
            "3.9782475830030886 | 4.215675881663337\n"
          ],
          "name": "stdout"
        }
      ]
    },
    {
      "cell_type": "markdown",
      "metadata": {
        "id": "wtA5BQlqoX8Z"
      },
      "source": [
        "Como os modelos anteriores foram treinados utilizando parâmetros definidios de maneira harbitrária, mesmo que seja possível compará-los usando a métrica escolhida (RMSE), não é possível afirmar que eles já apresentam os melhores resultados que cada algoritmo seria capaz de apresentar para este conjunto de dados.\n",
        "\n",
        "Para buscar resultados mais otimizados que auxiliem na escolha do algoritmo e do modelo, utilizaremos a sintonização de hiperparâmetros usando validação cruzada e testes de valores aleatórios dos hiperparâmetros. Para essa implementação será usada a função `RandomizedSearchCV` da bibliotca Scikit-Learn."
      ]
    },
    {
      "cell_type": "code",
      "metadata": {
        "id": "hAQSB-_loXe7"
      },
      "source": [
        "from sklearn.model_selection import RandomizedSearchCV"
      ],
      "execution_count": 27,
      "outputs": []
    },
    {
      "cell_type": "markdown",
      "metadata": {
        "id": "CL38JwF8q2Bq"
      },
      "source": [
        "#### Aplicação do algoritmo ***k-NN*** com sintonização de hiperparâmetros.\n",
        "\n",
        "---\n",
        "\n",
        "Para seleção do modelo ***k-NN*** abaixo foram realizados testes com valores diferentes para o parâmetro `n_neighbors`."
      ]
    },
    {
      "cell_type": "code",
      "metadata": {
        "id": "em5pnvHBz8WS"
      },
      "source": [
        "#Criação do objeto sem o parâmetro que será analisado\n",
        "knn = KNeighborsRegressor(weights = 'distance')"
      ],
      "execution_count": 28,
      "outputs": []
    },
    {
      "cell_type": "code",
      "metadata": {
        "id": "2RRuGys5q8Gq"
      },
      "source": [
        "#Definição dos valores de parâmetros para teste\n",
        "param = {'n_neighbors': [5, 10, 15, 20, 25, 30]}"
      ],
      "execution_count": 29,
      "outputs": []
    },
    {
      "cell_type": "code",
      "metadata": {
        "id": "qgkM4UHmzJF_"
      },
      "source": [
        "randomGrd_search = RandomizedSearchCV(knn,\n",
        "                                      param,\n",
        "                                      n_iter=20,\n",
        "                                      cv=5,\n",
        "                                      scoring='neg_mean_squared_error')"
      ],
      "execution_count": 30,
      "outputs": []
    },
    {
      "cell_type": "code",
      "metadata": {
        "colab": {
          "base_uri": "https://localhost:8080/"
        },
        "id": "YnItHw_X0_9y",
        "outputId": "d807e22d-3743-4dba-908e-4dfdd8705d91"
      },
      "source": [
        "randomGrd_search.fit(X_train, y_train)"
      ],
      "execution_count": 31,
      "outputs": [
        {
          "output_type": "stream",
          "text": [
            "/usr/local/lib/python3.7/dist-packages/sklearn/model_selection/_search.py:281: UserWarning: The total space of parameters 6 is smaller than n_iter=20. Running 6 iterations. For exhaustive searches, use GridSearchCV.\n",
            "  % (grid_size, self.n_iter, grid_size), UserWarning)\n"
          ],
          "name": "stderr"
        },
        {
          "output_type": "execute_result",
          "data": {
            "text/plain": [
              "RandomizedSearchCV(cv=5, error_score=nan,\n",
              "                   estimator=KNeighborsRegressor(algorithm='auto', leaf_size=30,\n",
              "                                                 metric='minkowski',\n",
              "                                                 metric_params=None,\n",
              "                                                 n_jobs=None, n_neighbors=5,\n",
              "                                                 p=2, weights='distance'),\n",
              "                   iid='deprecated', n_iter=20, n_jobs=None,\n",
              "                   param_distributions={'n_neighbors': [5, 10, 15, 20, 25, 30]},\n",
              "                   pre_dispatch='2*n_jobs', random_state=None, refit=True,\n",
              "                   return_train_score=False, scoring='neg_mean_squared_error',\n",
              "                   verbose=0)"
            ]
          },
          "metadata": {
            "tags": []
          },
          "execution_count": 31
        }
      ]
    },
    {
      "cell_type": "code",
      "metadata": {
        "colab": {
          "base_uri": "https://localhost:8080/"
        },
        "id": "rPfUNeQN1C7I",
        "outputId": "ee497f20-8123-4767-e6fd-eb4f5fb19f01"
      },
      "source": [
        "cvres = randomGrd_search.cv_results_\n",
        "\n",
        "for mean_score, params in zip(cvres['mean_test_score'], cvres['params']):\n",
        "    print(np.sqrt(-mean_score), params)"
      ],
      "execution_count": 32,
      "outputs": [
        {
          "output_type": "stream",
          "text": [
            "3.421699000444819 {'n_neighbors': 5}\n",
            "3.4375151995051834 {'n_neighbors': 10}\n",
            "3.502240429800021 {'n_neighbors': 15}\n",
            "3.5857621897655014 {'n_neighbors': 20}\n",
            "3.6579755754920162 {'n_neighbors': 25}\n",
            "3.738083076740441 {'n_neighbors': 30}\n"
          ],
          "name": "stdout"
        }
      ]
    },
    {
      "cell_type": "code",
      "metadata": {
        "colab": {
          "base_uri": "https://localhost:8080/"
        },
        "id": "3-PpPGq81MQl",
        "outputId": "0727c7ac-9a93-47ba-aaf2-389616fe2fd7"
      },
      "source": [
        "print('Parâmetros do melhor modelo:')\n",
        "randomGrd_search.best_params_"
      ],
      "execution_count": 33,
      "outputs": [
        {
          "output_type": "stream",
          "text": [
            "Parâmetros do melhor modelo:\n"
          ],
          "name": "stdout"
        },
        {
          "output_type": "execute_result",
          "data": {
            "text/plain": [
              "{'n_neighbors': 5}"
            ]
          },
          "metadata": {
            "tags": []
          },
          "execution_count": 33
        }
      ]
    },
    {
      "cell_type": "code",
      "metadata": {
        "colab": {
          "base_uri": "https://localhost:8080/"
        },
        "id": "Q4bfQH001XWv",
        "outputId": "7a0aecf4-4f30-4469-fe8f-93457f816dfc"
      },
      "source": [
        "best_rmse_knn = np.sqrt(-randomGrd_search.best_score_)\n",
        "print(f'RMSE Melhor modelo: {best_rmse_knn:.3f}')"
      ],
      "execution_count": 34,
      "outputs": [
        {
          "output_type": "stream",
          "text": [
            "RMSE Melhor modelo: 3.422\n"
          ],
          "name": "stdout"
        }
      ]
    },
    {
      "cell_type": "markdown",
      "metadata": {
        "id": "xcpmnYhn1kui"
      },
      "source": [
        "Criação do modelo baseado no melhor resultado da selação de hiperparâmetros."
      ]
    },
    {
      "cell_type": "code",
      "metadata": {
        "id": "j5ekjauK1ZBN"
      },
      "source": [
        "#Recuperação do modelo treinado\n",
        "best_knn = randomGrd_search.best_estimator_"
      ],
      "execution_count": 35,
      "outputs": []
    },
    {
      "cell_type": "code",
      "metadata": {
        "colab": {
          "base_uri": "https://localhost:8080/"
        },
        "id": "InwZCOFF1pyQ",
        "outputId": "cc0b2910-f2d5-4afc-c61e-b233bf6ac30e"
      },
      "source": [
        "#Aplicação do modelo treinado nos dados de teste\n",
        "final_pred = best_knn.predict(X_test)\n",
        "final_pred"
      ],
      "execution_count": 36,
      "outputs": [
        {
          "output_type": "execute_result",
          "data": {
            "text/plain": [
              "array([21.92758308,  1.80275007,  1.7051642 ,  3.51739838, -0.13539576,\n",
              "        6.06857021, 22.5835162 ,  8.03758736,  1.74865393,  2.35961441,\n",
              "        4.31765663,  4.71402868,  2.77345774, 10.2193069 ,  4.81380551,\n",
              "        5.07143949,  1.89242745,  0.98349951,  3.73561435,  4.65381532])"
            ]
          },
          "metadata": {
            "tags": []
          },
          "execution_count": 36
        }
      ]
    },
    {
      "cell_type": "code",
      "metadata": {
        "colab": {
          "base_uri": "https://localhost:8080/"
        },
        "id": "EwWZXQp21253",
        "outputId": "0bd36e25-43d0-427f-eb85-347c98f0e850"
      },
      "source": [
        "#Avaliação do modelo\n",
        "final_mse_knn = mean_squared_error(y_test, final_pred)\n",
        "final_rmse_knn = np.sqrt(final_mse_knn)\n",
        "final_rmse_knn"
      ],
      "execution_count": 37,
      "outputs": [
        {
          "output_type": "execute_result",
          "data": {
            "text/plain": [
              "4.155912760314783"
            ]
          },
          "metadata": {
            "tags": []
          },
          "execution_count": 37
        }
      ]
    },
    {
      "cell_type": "markdown",
      "metadata": {
        "id": "DXD2Q4_f5HLz"
      },
      "source": [
        "####Aplicação do algoritmo ***Decision Trees*** com sintonização de hiperparâmetros.\n",
        "\n",
        "---\n",
        "\n",
        "Para seleção do modelo abaixo foram realizados testes com valores diferentes para os parâmetros `max_depth` que define a profundidade da árvore e `criterion`."
      ]
    },
    {
      "cell_type": "code",
      "metadata": {
        "id": "qOV-BuHi3qhr"
      },
      "source": [
        "#help(DecisionTreeRegressor)"
      ],
      "execution_count": 38,
      "outputs": []
    },
    {
      "cell_type": "code",
      "metadata": {
        "id": "X--G85StuDeR"
      },
      "source": [
        "dtree = DecisionTreeRegressor()"
      ],
      "execution_count": 39,
      "outputs": []
    },
    {
      "cell_type": "code",
      "metadata": {
        "id": "5XR7VjeR2H04"
      },
      "source": [
        "param = {'max_depth': [2, 3, 4, None],\n",
        "         'criterion': ['mse', 'friedman_mse', 'mae']}"
      ],
      "execution_count": 40,
      "outputs": []
    },
    {
      "cell_type": "code",
      "metadata": {
        "id": "AvSGRXbT1557"
      },
      "source": [
        "randomGrd_search = RandomizedSearchCV(dtree,\n",
        "                                      param,\n",
        "                                      n_iter=20,\n",
        "                                      cv=5,\n",
        "                                      scoring='neg_mean_squared_error')"
      ],
      "execution_count": 41,
      "outputs": []
    },
    {
      "cell_type": "code",
      "metadata": {
        "colab": {
          "base_uri": "https://localhost:8080/"
        },
        "id": "6eEtEoJc4P7J",
        "outputId": "18b996d0-74da-47e7-c0e6-89244d15a022"
      },
      "source": [
        "randomGrd_search.fit(X_train, y_train)"
      ],
      "execution_count": 42,
      "outputs": [
        {
          "output_type": "stream",
          "text": [
            "/usr/local/lib/python3.7/dist-packages/sklearn/model_selection/_search.py:281: UserWarning: The total space of parameters 12 is smaller than n_iter=20. Running 12 iterations. For exhaustive searches, use GridSearchCV.\n",
            "  % (grid_size, self.n_iter, grid_size), UserWarning)\n"
          ],
          "name": "stderr"
        },
        {
          "output_type": "execute_result",
          "data": {
            "text/plain": [
              "RandomizedSearchCV(cv=5, error_score=nan,\n",
              "                   estimator=DecisionTreeRegressor(ccp_alpha=0.0,\n",
              "                                                   criterion='mse',\n",
              "                                                   max_depth=None,\n",
              "                                                   max_features=None,\n",
              "                                                   max_leaf_nodes=None,\n",
              "                                                   min_impurity_decrease=0.0,\n",
              "                                                   min_impurity_split=None,\n",
              "                                                   min_samples_leaf=1,\n",
              "                                                   min_samples_split=2,\n",
              "                                                   min_weight_fraction_leaf=0.0,\n",
              "                                                   presort='deprecated',\n",
              "                                                   random_state=None,\n",
              "                                                   splitter='best'),\n",
              "                   iid='deprecated', n_iter=20, n_jobs=None,\n",
              "                   param_distributions={'criterion': ['mse', 'friedman_mse',\n",
              "                                                      'mae'],\n",
              "                                        'max_depth': [2, 3, 4, None]},\n",
              "                   pre_dispatch='2*n_jobs', random_state=None, refit=True,\n",
              "                   return_train_score=False, scoring='neg_mean_squared_error',\n",
              "                   verbose=0)"
            ]
          },
          "metadata": {
            "tags": []
          },
          "execution_count": 42
        }
      ]
    },
    {
      "cell_type": "markdown",
      "metadata": {
        "id": "jsos3CeM9UA8"
      },
      "source": [
        "Abaixo são exisbidos os resultados para as combinações de parâmetros. Em seguida são exibidos os parâmetros e a avaliação do melhor modelo encontrado."
      ]
    },
    {
      "cell_type": "code",
      "metadata": {
        "colab": {
          "base_uri": "https://localhost:8080/"
        },
        "id": "0LHW2bZg4cFq",
        "outputId": "4f4cd7de-54e3-432a-ba86-24808299d072"
      },
      "source": [
        "cvres = randomGrd_search.cv_results_\n",
        "\n",
        "for mean_score, params in zip(cvres['mean_test_score'], cvres['params']):\n",
        "    print(np.sqrt(-mean_score), params)"
      ],
      "execution_count": 43,
      "outputs": [
        {
          "output_type": "stream",
          "text": [
            "3.1785438718568404 {'max_depth': 2, 'criterion': 'mse'}\n",
            "3.289172585528215 {'max_depth': 3, 'criterion': 'mse'}\n",
            "3.2522741967508164 {'max_depth': 4, 'criterion': 'mse'}\n",
            "4.1125717238964254 {'max_depth': None, 'criterion': 'mse'}\n",
            "3.1785438718568404 {'max_depth': 2, 'criterion': 'friedman_mse'}\n",
            "3.289172585528215 {'max_depth': 3, 'criterion': 'friedman_mse'}\n",
            "3.2522741967508164 {'max_depth': 4, 'criterion': 'friedman_mse'}\n",
            "4.1125717238964254 {'max_depth': None, 'criterion': 'friedman_mse'}\n",
            "3.3392085336981676 {'max_depth': 2, 'criterion': 'mae'}\n",
            "3.2540882640699964 {'max_depth': 3, 'criterion': 'mae'}\n",
            "3.632254573071467 {'max_depth': 4, 'criterion': 'mae'}\n",
            "4.112562991735497 {'max_depth': None, 'criterion': 'mae'}\n"
          ],
          "name": "stdout"
        }
      ]
    },
    {
      "cell_type": "code",
      "metadata": {
        "colab": {
          "base_uri": "https://localhost:8080/"
        },
        "id": "_U-h6jkq788F",
        "outputId": "de68e1ac-97e8-4aa1-e23d-0efd63d871d0"
      },
      "source": [
        "print('Parâmetros do melhor modelo:')\n",
        "randomGrd_search.best_params_"
      ],
      "execution_count": 44,
      "outputs": [
        {
          "output_type": "stream",
          "text": [
            "Parâmetros do melhor modelo:\n"
          ],
          "name": "stdout"
        },
        {
          "output_type": "execute_result",
          "data": {
            "text/plain": [
              "{'criterion': 'mse', 'max_depth': 2}"
            ]
          },
          "metadata": {
            "tags": []
          },
          "execution_count": 44
        }
      ]
    },
    {
      "cell_type": "code",
      "metadata": {
        "colab": {
          "base_uri": "https://localhost:8080/"
        },
        "id": "5d0Lx2Ja8gAm",
        "outputId": "f32bb2c6-033c-4e87-c736-89b1dd8fd658"
      },
      "source": [
        "best_rmse_tree = np.sqrt(-randomGrd_search.best_score_)\n",
        "print(f'RMSE Melhor modelo: {best_rmse_tree:.3f}')"
      ],
      "execution_count": 45,
      "outputs": [
        {
          "output_type": "stream",
          "text": [
            "RMSE Melhor modelo: 3.179\n"
          ],
          "name": "stdout"
        }
      ]
    },
    {
      "cell_type": "markdown",
      "metadata": {
        "id": "tEbf7mi2-gV6"
      },
      "source": [
        "Criação de um modelo com base nos melhores parâmetros."
      ]
    },
    {
      "cell_type": "code",
      "metadata": {
        "id": "ss3OOxB29_y0"
      },
      "source": [
        "#Recuperação do modelo treinado\n",
        "best_tree = randomGrd_search.best_estimator_"
      ],
      "execution_count": 46,
      "outputs": []
    },
    {
      "cell_type": "code",
      "metadata": {
        "id": "sD7TKe9F-K_Q",
        "colab": {
          "base_uri": "https://localhost:8080/"
        },
        "outputId": "3fd7fad1-5171-459a-80d0-d1cf3afbd4e4"
      },
      "source": [
        "#Aplicação do modelo treinado nos dados de teste\n",
        "final_pred = best_tree.predict(X_test)\n",
        "final_pred"
      ],
      "execution_count": 47,
      "outputs": [
        {
          "output_type": "execute_result",
          "data": {
            "text/plain": [
              "array([22.386     ,  3.211595  ,  3.211595  ,  3.211595  ,  3.211595  ,\n",
              "        7.91843529, 22.386     ,  7.91843529,  3.211595  ,  3.211595  ,\n",
              "        3.211595  ,  3.211595  ,  3.211595  ,  7.91843529,  3.211595  ,\n",
              "        3.211595  ,  3.211595  ,  3.211595  ,  3.211595  ,  3.211595  ])"
            ]
          },
          "metadata": {
            "tags": []
          },
          "execution_count": 47
        }
      ]
    },
    {
      "cell_type": "code",
      "metadata": {
        "colab": {
          "base_uri": "https://localhost:8080/"
        },
        "id": "ZTlbIzdC-VP1",
        "outputId": "549a50df-0c7d-471e-c1ab-136212578439"
      },
      "source": [
        "#Avaliação do modelo\n",
        "final_mse_dtree = mean_squared_error(y_test, final_pred)\n",
        "final_rmse_dtree = np.sqrt(final_mse_dtree)\n",
        "final_rmse_dtree"
      ],
      "execution_count": 48,
      "outputs": [
        {
          "output_type": "execute_result",
          "data": {
            "text/plain": [
              "4.215675881663337"
            ]
          },
          "metadata": {
            "tags": []
          },
          "execution_count": 48
        }
      ]
    },
    {
      "cell_type": "markdown",
      "metadata": {
        "id": "8t4VtHd74evz"
      },
      "source": [
        "**Comparação dos resultados finais**"
      ]
    },
    {
      "cell_type": "code",
      "metadata": {
        "colab": {
          "base_uri": "https://localhost:8080/"
        },
        "id": "HuUAgdh64V7Y",
        "outputId": "d2d372ed-2ef5-4ffe-b4c2-627ddceb3026"
      },
      "source": [
        "print('RMSE dos modelos selecionados\\n\\nAnálise      | k-NN              | Decision Tree')\n",
        "print('-'*55)\n",
        "print('Val. Cruzada', best_rmse_knn, best_rmse_tree, sep=' | ')\n",
        "print('Teste       ', final_rmse_knn, final_rmse_dtree, sep=' | ')"
      ],
      "execution_count": 49,
      "outputs": [
        {
          "output_type": "stream",
          "text": [
            "RMSE dos modelos selecionados\n",
            "\n",
            "Análise      | k-NN              | Decision Tree\n",
            "-------------------------------------------------------\n",
            "Val. Cruzada | 3.421699000444819 | 3.1785438718568404\n",
            "Teste        | 4.155912760314783 | 4.215675881663337\n"
          ],
          "name": "stdout"
        }
      ]
    },
    {
      "cell_type": "markdown",
      "metadata": {
        "id": "OngUTTk-FW2T"
      },
      "source": [
        "###1.1.2 Regressão com múltiplas variáveis"
      ]
    },
    {
      "cell_type": "markdown",
      "metadata": {
        "id": "moRCHek7Fc_w"
      },
      "source": [
        "Análise preliminar dos dados"
      ]
    },
    {
      "cell_type": "code",
      "metadata": {
        "id": "JNaD42q0FdG_",
        "colab": {
          "base_uri": "https://localhost:8080/",
          "height": 0
        },
        "outputId": "2c3e7e2f-4af5-4c2a-9e32-e59d9378c0cc"
      },
      "source": [
        "#Carga dos dados usando as bibliotecas pandas e numpy\n",
        "#arquivo = 'data/ex1data2.txt'\n",
        "arquivo = 'https://raw.githubusercontent.com/MLRG-CEFET-RJ/ml-class/master/ml-t1/data/ex1data2.txt'\n",
        "dados = pd.read_table(arquivo,\n",
        "                      sep=',',\n",
        "                      header=None,\n",
        "                      names=['Tamanho', 'Dormitorios', 'Preco'])\n",
        "\n",
        "dados.head()"
      ],
      "execution_count": 50,
      "outputs": [
        {
          "output_type": "execute_result",
          "data": {
            "text/html": [
              "<div>\n",
              "<style scoped>\n",
              "    .dataframe tbody tr th:only-of-type {\n",
              "        vertical-align: middle;\n",
              "    }\n",
              "\n",
              "    .dataframe tbody tr th {\n",
              "        vertical-align: top;\n",
              "    }\n",
              "\n",
              "    .dataframe thead th {\n",
              "        text-align: right;\n",
              "    }\n",
              "</style>\n",
              "<table border=\"1\" class=\"dataframe\">\n",
              "  <thead>\n",
              "    <tr style=\"text-align: right;\">\n",
              "      <th></th>\n",
              "      <th>Tamanho</th>\n",
              "      <th>Dormitorios</th>\n",
              "      <th>Preco</th>\n",
              "    </tr>\n",
              "  </thead>\n",
              "  <tbody>\n",
              "    <tr>\n",
              "      <th>0</th>\n",
              "      <td>2104</td>\n",
              "      <td>3</td>\n",
              "      <td>399900</td>\n",
              "    </tr>\n",
              "    <tr>\n",
              "      <th>1</th>\n",
              "      <td>1600</td>\n",
              "      <td>3</td>\n",
              "      <td>329900</td>\n",
              "    </tr>\n",
              "    <tr>\n",
              "      <th>2</th>\n",
              "      <td>2400</td>\n",
              "      <td>3</td>\n",
              "      <td>369000</td>\n",
              "    </tr>\n",
              "    <tr>\n",
              "      <th>3</th>\n",
              "      <td>1416</td>\n",
              "      <td>2</td>\n",
              "      <td>232000</td>\n",
              "    </tr>\n",
              "    <tr>\n",
              "      <th>4</th>\n",
              "      <td>3000</td>\n",
              "      <td>4</td>\n",
              "      <td>539900</td>\n",
              "    </tr>\n",
              "  </tbody>\n",
              "</table>\n",
              "</div>"
            ],
            "text/plain": [
              "   Tamanho  Dormitorios   Preco\n",
              "0     2104            3  399900\n",
              "1     1600            3  329900\n",
              "2     2400            3  369000\n",
              "3     1416            2  232000\n",
              "4     3000            4  539900"
            ]
          },
          "metadata": {
            "tags": []
          },
          "execution_count": 50
        }
      ]
    },
    {
      "cell_type": "code",
      "metadata": {
        "colab": {
          "base_uri": "https://localhost:8080/"
        },
        "id": "o94OfYZYeMYj",
        "outputId": "0c261ed3-ae2b-451b-d684-d9dcda292efc"
      },
      "source": [
        "dados.info()"
      ],
      "execution_count": 51,
      "outputs": [
        {
          "output_type": "stream",
          "text": [
            "<class 'pandas.core.frame.DataFrame'>\n",
            "RangeIndex: 47 entries, 0 to 46\n",
            "Data columns (total 3 columns):\n",
            " #   Column       Non-Null Count  Dtype\n",
            "---  ------       --------------  -----\n",
            " 0   Tamanho      47 non-null     int64\n",
            " 1   Dormitorios  47 non-null     int64\n",
            " 2   Preco        47 non-null     int64\n",
            "dtypes: int64(3)\n",
            "memory usage: 1.2 KB\n"
          ],
          "name": "stdout"
        }
      ]
    },
    {
      "cell_type": "code",
      "metadata": {
        "colab": {
          "base_uri": "https://localhost:8080/",
          "height": 0
        },
        "id": "wb3K47oIeJpM",
        "outputId": "d1db461b-5f2e-4b7f-8450-c22b5f59af73"
      },
      "source": [
        "dados.describe()"
      ],
      "execution_count": 52,
      "outputs": [
        {
          "output_type": "execute_result",
          "data": {
            "text/html": [
              "<div>\n",
              "<style scoped>\n",
              "    .dataframe tbody tr th:only-of-type {\n",
              "        vertical-align: middle;\n",
              "    }\n",
              "\n",
              "    .dataframe tbody tr th {\n",
              "        vertical-align: top;\n",
              "    }\n",
              "\n",
              "    .dataframe thead th {\n",
              "        text-align: right;\n",
              "    }\n",
              "</style>\n",
              "<table border=\"1\" class=\"dataframe\">\n",
              "  <thead>\n",
              "    <tr style=\"text-align: right;\">\n",
              "      <th></th>\n",
              "      <th>Tamanho</th>\n",
              "      <th>Dormitorios</th>\n",
              "      <th>Preco</th>\n",
              "    </tr>\n",
              "  </thead>\n",
              "  <tbody>\n",
              "    <tr>\n",
              "      <th>count</th>\n",
              "      <td>47.000000</td>\n",
              "      <td>47.000000</td>\n",
              "      <td>47.000000</td>\n",
              "    </tr>\n",
              "    <tr>\n",
              "      <th>mean</th>\n",
              "      <td>2000.680851</td>\n",
              "      <td>3.170213</td>\n",
              "      <td>340412.659574</td>\n",
              "    </tr>\n",
              "    <tr>\n",
              "      <th>std</th>\n",
              "      <td>794.702354</td>\n",
              "      <td>0.760982</td>\n",
              "      <td>125039.899586</td>\n",
              "    </tr>\n",
              "    <tr>\n",
              "      <th>min</th>\n",
              "      <td>852.000000</td>\n",
              "      <td>1.000000</td>\n",
              "      <td>169900.000000</td>\n",
              "    </tr>\n",
              "    <tr>\n",
              "      <th>25%</th>\n",
              "      <td>1432.000000</td>\n",
              "      <td>3.000000</td>\n",
              "      <td>249900.000000</td>\n",
              "    </tr>\n",
              "    <tr>\n",
              "      <th>50%</th>\n",
              "      <td>1888.000000</td>\n",
              "      <td>3.000000</td>\n",
              "      <td>299900.000000</td>\n",
              "    </tr>\n",
              "    <tr>\n",
              "      <th>75%</th>\n",
              "      <td>2269.000000</td>\n",
              "      <td>4.000000</td>\n",
              "      <td>384450.000000</td>\n",
              "    </tr>\n",
              "    <tr>\n",
              "      <th>max</th>\n",
              "      <td>4478.000000</td>\n",
              "      <td>5.000000</td>\n",
              "      <td>699900.000000</td>\n",
              "    </tr>\n",
              "  </tbody>\n",
              "</table>\n",
              "</div>"
            ],
            "text/plain": [
              "           Tamanho  Dormitorios          Preco\n",
              "count    47.000000    47.000000      47.000000\n",
              "mean   2000.680851     3.170213  340412.659574\n",
              "std     794.702354     0.760982  125039.899586\n",
              "min     852.000000     1.000000  169900.000000\n",
              "25%    1432.000000     3.000000  249900.000000\n",
              "50%    1888.000000     3.000000  299900.000000\n",
              "75%    2269.000000     4.000000  384450.000000\n",
              "max    4478.000000     5.000000  699900.000000"
            ]
          },
          "metadata": {
            "tags": []
          },
          "execution_count": 52
        }
      ]
    },
    {
      "cell_type": "markdown",
      "metadata": {
        "id": "iHZMJ1w_hHUq"
      },
      "source": [
        "Conforme análise das características do conjunto de dados, temos \"Tamanho\" na escala de 852 a 4478, enquanto \"Dormitórios\" apresenta escala de 1 a 5. Para geração de modelos usando estas características realizamos a padronização das esclas usando a função `StandardScaler` que gera novas características com base na subtração da média dos valores originais e em seguida pela divisão desta subtração pela da variância dos valores."
      ]
    },
    {
      "cell_type": "code",
      "metadata": {
        "id": "b8Wu4MmQfnHx"
      },
      "source": [
        "#Organização dos dados em váveis separadas\n",
        "X, y = read_dataset(arquivo)"
      ],
      "execution_count": 53,
      "outputs": []
    },
    {
      "cell_type": "code",
      "metadata": {
        "colab": {
          "base_uri": "https://localhost:8080/"
        },
        "id": "RG7S9AKxgfXZ",
        "outputId": "cd543740-4d11-4fe0-f78a-e9f3e5715903"
      },
      "source": [
        "X[:5]"
      ],
      "execution_count": 54,
      "outputs": [
        {
          "output_type": "execute_result",
          "data": {
            "text/plain": [
              "array([[2104,    3],\n",
              "       [1600,    3],\n",
              "       [2400,    3],\n",
              "       [1416,    2],\n",
              "       [3000,    4]])"
            ]
          },
          "metadata": {
            "tags": []
          },
          "execution_count": 54
        }
      ]
    },
    {
      "cell_type": "code",
      "metadata": {
        "id": "ZIvl3CwrjaVt"
      },
      "source": [
        "#Divisão dos valores em treino e teste\n",
        "#OBSERVAÇÃO: random_state está sendo usado para reprodutibilidade dos resultados\n",
        "X_train, X_test, y_train, y_test = train_test_split(X, y, \n",
        "                                                    test_size=0.2, \n",
        "                                                    random_state=42)"
      ],
      "execution_count": 55,
      "outputs": []
    },
    {
      "cell_type": "code",
      "metadata": {
        "id": "hMW3_wjNe1mm"
      },
      "source": [
        "from sklearn.preprocessing import StandardScaler\n",
        "std_norm = StandardScaler()"
      ],
      "execution_count": 56,
      "outputs": []
    },
    {
      "cell_type": "code",
      "metadata": {
        "id": "94PIQVfPfFtX"
      },
      "source": [
        "X_train_norm = std_norm.fit_transform(X_train)"
      ],
      "execution_count": 57,
      "outputs": []
    },
    {
      "cell_type": "markdown",
      "metadata": {
        "id": "rc5rUnq5-8FA"
      },
      "source": [
        "Exibição dos primeiros registros das características normalizadas."
      ]
    },
    {
      "cell_type": "code",
      "metadata": {
        "colab": {
          "base_uri": "https://localhost:8080/"
        },
        "id": "KcGeJdC2gcLF",
        "outputId": "a54febe0-8a76-4a05-f291-1f736b44e477"
      },
      "source": [
        "X_train_norm[:5]"
      ],
      "execution_count": 58,
      "outputs": [
        {
          "output_type": "execute_result",
          "data": {
            "text/plain": [
              "array([[-0.77562586, -0.16666667],\n",
              "       [-0.72751943, -1.4       ],\n",
              "       [-0.56983725, -0.16666667],\n",
              "       [-0.3961196 , -1.4       ],\n",
              "       [ 1.57223508, -0.16666667]])"
            ]
          },
          "metadata": {
            "tags": []
          },
          "execution_count": 58
        }
      ]
    },
    {
      "cell_type": "markdown",
      "metadata": {
        "id": "mt2fO8Eg-rxT"
      },
      "source": [
        "####Aplicação do algoritmo ***k-NN*** para múltiplas variáveis com sintonização de hiperparâmetros.\n",
        "\n",
        "---\n",
        "\n",
        "Para seleção do modelo ***k-NN*** abaixo foram realizados testes com valores diferentes para o parâmetro `n_neighbors`."
      ]
    },
    {
      "cell_type": "code",
      "metadata": {
        "id": "Ih99ekXOkmi4"
      },
      "source": [
        "#Criação do objeto sem o parâmetro que será analisado\n",
        "knn_multi = KNeighborsRegressor(weights = 'distance')"
      ],
      "execution_count": 59,
      "outputs": []
    },
    {
      "cell_type": "code",
      "metadata": {
        "id": "cvyv_TISkpAL"
      },
      "source": [
        "#Definição dos valores de parâmetros para teste\n",
        "param = {'n_neighbors': [5, 10, 15, 20, 25, 30]}\n",
        "folds = 10\n",
        "iter = 20"
      ],
      "execution_count": 60,
      "outputs": []
    },
    {
      "cell_type": "code",
      "metadata": {
        "id": "Rntzt5UMkvD7"
      },
      "source": [
        "#Seleção do modelo\n",
        "randomGrd_search = RandomizedSearchCV(knn_multi,\n",
        "                                      param,\n",
        "                                      n_iter=iter,\n",
        "                                      cv=folds,\n",
        "                                      scoring='neg_mean_squared_error')"
      ],
      "execution_count": 61,
      "outputs": []
    },
    {
      "cell_type": "code",
      "metadata": {
        "colab": {
          "base_uri": "https://localhost:8080/"
        },
        "id": "HTlEaR9olHhx",
        "outputId": "6ca1a73d-44e0-45a7-cf75-48f8f8256baa"
      },
      "source": [
        "randomGrd_search.fit(X_train_norm, y_train)"
      ],
      "execution_count": 62,
      "outputs": [
        {
          "output_type": "stream",
          "text": [
            "/usr/local/lib/python3.7/dist-packages/sklearn/model_selection/_search.py:281: UserWarning: The total space of parameters 6 is smaller than n_iter=20. Running 6 iterations. For exhaustive searches, use GridSearchCV.\n",
            "  % (grid_size, self.n_iter, grid_size), UserWarning)\n"
          ],
          "name": "stderr"
        },
        {
          "output_type": "execute_result",
          "data": {
            "text/plain": [
              "RandomizedSearchCV(cv=10, error_score=nan,\n",
              "                   estimator=KNeighborsRegressor(algorithm='auto', leaf_size=30,\n",
              "                                                 metric='minkowski',\n",
              "                                                 metric_params=None,\n",
              "                                                 n_jobs=None, n_neighbors=5,\n",
              "                                                 p=2, weights='distance'),\n",
              "                   iid='deprecated', n_iter=20, n_jobs=None,\n",
              "                   param_distributions={'n_neighbors': [5, 10, 15, 20, 25, 30]},\n",
              "                   pre_dispatch='2*n_jobs', random_state=None, refit=True,\n",
              "                   return_train_score=False, scoring='neg_mean_squared_error',\n",
              "                   verbose=0)"
            ]
          },
          "metadata": {
            "tags": []
          },
          "execution_count": 62
        }
      ]
    },
    {
      "cell_type": "code",
      "metadata": {
        "colab": {
          "base_uri": "https://localhost:8080/"
        },
        "id": "N-o-0_yflSCI",
        "outputId": "2c9461af-dd69-423c-9e2d-21b9dfe0b2da"
      },
      "source": [
        "cvres = randomGrd_search.cv_results_\n",
        "\n",
        "for mean_score, params in zip(cvres['mean_test_score'], cvres['params']):\n",
        "    print(np.sqrt(-mean_score), params)"
      ],
      "execution_count": 63,
      "outputs": [
        {
          "output_type": "stream",
          "text": [
            "89173.06023867214 {'n_neighbors': 5}\n",
            "93454.50479832542 {'n_neighbors': 10}\n",
            "95139.19854183818 {'n_neighbors': 15}\n",
            "98240.57896269095 {'n_neighbors': 20}\n",
            "101649.78472920597 {'n_neighbors': 25}\n",
            "103559.9205182651 {'n_neighbors': 30}\n"
          ],
          "name": "stdout"
        }
      ]
    },
    {
      "cell_type": "code",
      "metadata": {
        "colab": {
          "base_uri": "https://localhost:8080/"
        },
        "id": "D1Gp4rpslcTO",
        "outputId": "bebd0fc4-7d16-42c0-bc87-e361d7afe8c8"
      },
      "source": [
        "print('Parâmetros do melhor modelo:')\n",
        "randomGrd_search.best_params_"
      ],
      "execution_count": 64,
      "outputs": [
        {
          "output_type": "stream",
          "text": [
            "Parâmetros do melhor modelo:\n"
          ],
          "name": "stdout"
        },
        {
          "output_type": "execute_result",
          "data": {
            "text/plain": [
              "{'n_neighbors': 5}"
            ]
          },
          "metadata": {
            "tags": []
          },
          "execution_count": 64
        }
      ]
    },
    {
      "cell_type": "code",
      "metadata": {
        "colab": {
          "base_uri": "https://localhost:8080/"
        },
        "id": "SPqAYgL9lite",
        "outputId": "55749aa6-2b40-47f2-f57a-f6aff0c47df5"
      },
      "source": [
        "best_rmse_knn_multi = np.sqrt(-randomGrd_search.best_score_)\n",
        "print(f'RMSE Melhor modelo: {best_rmse_knn_multi:.3f}')"
      ],
      "execution_count": 65,
      "outputs": [
        {
          "output_type": "stream",
          "text": [
            "RMSE Melhor modelo: 89173.060\n"
          ],
          "name": "stdout"
        }
      ]
    },
    {
      "cell_type": "code",
      "metadata": {
        "id": "2MnKi6IDmfWc"
      },
      "source": [
        "best_knn_multi = randomGrd_search.best_estimator_"
      ],
      "execution_count": 66,
      "outputs": []
    },
    {
      "cell_type": "code",
      "metadata": {
        "id": "m4881Zr7n4yK"
      },
      "source": [
        "X_test_norm = std_norm.transform(X_test)"
      ],
      "execution_count": 67,
      "outputs": []
    },
    {
      "cell_type": "code",
      "metadata": {
        "colab": {
          "base_uri": "https://localhost:8080/"
        },
        "id": "LmCYEnKfoD-B",
        "outputId": "0a9d11e5-dbdb-48f5-99a1-02038c8dcee6"
      },
      "source": [
        "X_test_norm"
      ],
      "execution_count": 68,
      "outputs": [
        {
          "output_type": "execute_result",
          "data": {
            "text/plain": [
              "array([[ 0.7557621 , -0.16666667],\n",
              "       [ 0.26935266,  1.06666667],\n",
              "       [-0.67139527, -0.16666667],\n",
              "       [-1.016158  , -0.16666667],\n",
              "       [ 2.5784612 , -0.16666667],\n",
              "       [-0.9640427 , -0.16666667],\n",
              "       [-0.09411813, -0.16666667],\n",
              "       [ 1.43058838,  1.06666667],\n",
              "       [ 1.3891634 ,  1.06666667],\n",
              "       [-1.14978697, -0.16666667]])"
            ]
          },
          "metadata": {
            "tags": []
          },
          "execution_count": 68
        }
      ]
    },
    {
      "cell_type": "code",
      "metadata": {
        "colab": {
          "base_uri": "https://localhost:8080/"
        },
        "id": "5EJ_tOkWmkIV",
        "outputId": "576c0a0d-6a61-460a-b7db-2b2e27c4a52a"
      },
      "source": [
        "y_pred = best_knn_multi.predict(X_test_norm)\n",
        "y_pred"
      ],
      "execution_count": 69,
      "outputs": [
        {
          "output_type": "execute_result",
          "data": {
            "text/plain": [
              "array([[355079.60585198],\n",
              "       [342191.83142914],\n",
              "       [238838.70312658],\n",
              "       [236567.75201609],\n",
              "       [479465.38956135],\n",
              "       [207865.55639361],\n",
              "       [314377.27434853],\n",
              "       [431224.78985145],\n",
              "       [430267.63439037],\n",
              "       [226282.35596918]])"
            ]
          },
          "metadata": {
            "tags": []
          },
          "execution_count": 69
        }
      ]
    },
    {
      "cell_type": "code",
      "metadata": {
        "id": "GjnOqSi7oKT7",
        "colab": {
          "base_uri": "https://localhost:8080/"
        },
        "outputId": "057a58b4-1f74-4d67-e004-b454715bb80e"
      },
      "source": [
        "#Avaliação do modelo\n",
        "final_mse_knn_multi = mean_squared_error(y_test, y_pred)\n",
        "final_rmse_knn_multi = np.sqrt(final_mse_knn_multi)\n",
        "final_rmse_knn_multi"
      ],
      "execution_count": 70,
      "outputs": [
        {
          "output_type": "execute_result",
          "data": {
            "text/plain": [
              "110098.96523558114"
            ]
          },
          "metadata": {
            "tags": []
          },
          "execution_count": 70
        }
      ]
    },
    {
      "cell_type": "markdown",
      "metadata": {
        "id": "Jmt596ZkkU0l"
      },
      "source": [
        "####Aplicação do algoritmo ***Decision Trees*** para múltiplas variáveis com sintonização de hiperparâmetros.\n",
        "\n",
        "---\n",
        "\n",
        "Para seleção do modelo abaixo foram realizados testes com valores diferentes para os parâmetros `max_depth` que define a profundidade da árvore e `criterion`."
      ]
    },
    {
      "cell_type": "code",
      "metadata": {
        "id": "g2ccmbtwjj9G"
      },
      "source": [
        "#Criação do objeto para treinamento seleção do modelo\n",
        "dtree_multi = DecisionTreeRegressor()"
      ],
      "execution_count": 71,
      "outputs": []
    },
    {
      "cell_type": "code",
      "metadata": {
        "id": "btaoN6_yASN8"
      },
      "source": [
        "param = {'max_depth': [2, 3, 4, None],\n",
        "         'criterion': ['mse', 'friedman_mse', 'mae']}\n",
        "folds = 10\n",
        "iter = 20"
      ],
      "execution_count": 72,
      "outputs": []
    },
    {
      "cell_type": "code",
      "metadata": {
        "id": "M8mj9-2zAdT-"
      },
      "source": [
        "randomGrd_search = RandomizedSearchCV(dtree_multi,\n",
        "                                      param,\n",
        "                                      n_iter=iter,\n",
        "                                      cv=folds,\n",
        "                                      scoring='neg_mean_squared_error')"
      ],
      "execution_count": 73,
      "outputs": []
    },
    {
      "cell_type": "code",
      "metadata": {
        "colab": {
          "base_uri": "https://localhost:8080/"
        },
        "id": "3R8dXHQuAo8D",
        "outputId": "9cd0929a-034b-4b41-ef69-5f23803aaa15"
      },
      "source": [
        "#Aplicação do randomized grid search para seleção do modelo\n",
        "randomGrd_search.fit(X_train_norm, y_train)"
      ],
      "execution_count": 74,
      "outputs": [
        {
          "output_type": "stream",
          "text": [
            "/usr/local/lib/python3.7/dist-packages/sklearn/model_selection/_search.py:281: UserWarning: The total space of parameters 12 is smaller than n_iter=20. Running 12 iterations. For exhaustive searches, use GridSearchCV.\n",
            "  % (grid_size, self.n_iter, grid_size), UserWarning)\n"
          ],
          "name": "stderr"
        },
        {
          "output_type": "execute_result",
          "data": {
            "text/plain": [
              "RandomizedSearchCV(cv=10, error_score=nan,\n",
              "                   estimator=DecisionTreeRegressor(ccp_alpha=0.0,\n",
              "                                                   criterion='mse',\n",
              "                                                   max_depth=None,\n",
              "                                                   max_features=None,\n",
              "                                                   max_leaf_nodes=None,\n",
              "                                                   min_impurity_decrease=0.0,\n",
              "                                                   min_impurity_split=None,\n",
              "                                                   min_samples_leaf=1,\n",
              "                                                   min_samples_split=2,\n",
              "                                                   min_weight_fraction_leaf=0.0,\n",
              "                                                   presort='deprecated',\n",
              "                                                   random_state=None,\n",
              "                                                   splitter='best'),\n",
              "                   iid='deprecated', n_iter=20, n_jobs=None,\n",
              "                   param_distributions={'criterion': ['mse', 'friedman_mse',\n",
              "                                                      'mae'],\n",
              "                                        'max_depth': [2, 3, 4, None]},\n",
              "                   pre_dispatch='2*n_jobs', random_state=None, refit=True,\n",
              "                   return_train_score=False, scoring='neg_mean_squared_error',\n",
              "                   verbose=0)"
            ]
          },
          "metadata": {
            "tags": []
          },
          "execution_count": 74
        }
      ]
    },
    {
      "cell_type": "code",
      "metadata": {
        "colab": {
          "base_uri": "https://localhost:8080/"
        },
        "id": "WH9p8LfbAvXz",
        "outputId": "ece41605-ed12-4be1-ddeb-d94a0cc7e7d6"
      },
      "source": [
        "cvres = randomGrd_search.cv_results_\n",
        "\n",
        "for mean_score, params in zip(cvres['mean_test_score'], cvres['params']):\n",
        "    print(np.sqrt(-mean_score), params)"
      ],
      "execution_count": 75,
      "outputs": [
        {
          "output_type": "stream",
          "text": [
            "90019.82674720637 {'max_depth': 2, 'criterion': 'mse'}\n",
            "88517.28882579893 {'max_depth': 3, 'criterion': 'mse'}\n",
            "99068.38723762585 {'max_depth': 4, 'criterion': 'mse'}\n",
            "103309.04554043175 {'max_depth': None, 'criterion': 'mse'}\n",
            "90019.82674720637 {'max_depth': 2, 'criterion': 'friedman_mse'}\n",
            "87988.09272010982 {'max_depth': 3, 'criterion': 'friedman_mse'}\n",
            "99996.2289004372 {'max_depth': 4, 'criterion': 'friedman_mse'}\n",
            "103809.53718457182 {'max_depth': None, 'criterion': 'friedman_mse'}\n",
            "93773.17343920027 {'max_depth': 2, 'criterion': 'mae'}\n",
            "95149.49149167849 {'max_depth': 3, 'criterion': 'mae'}\n",
            "103560.39465979101 {'max_depth': 4, 'criterion': 'mae'}\n",
            "106355.31591701627 {'max_depth': None, 'criterion': 'mae'}\n"
          ],
          "name": "stdout"
        }
      ]
    },
    {
      "cell_type": "code",
      "metadata": {
        "colab": {
          "base_uri": "https://localhost:8080/"
        },
        "id": "ZZDN04apA2KB",
        "outputId": "1125b36b-3f20-4e11-c9cc-e3ccf2288ca6"
      },
      "source": [
        "print('Parâmetros do melhor modelo:')\n",
        "randomGrd_search.best_params_"
      ],
      "execution_count": 76,
      "outputs": [
        {
          "output_type": "stream",
          "text": [
            "Parâmetros do melhor modelo:\n"
          ],
          "name": "stdout"
        },
        {
          "output_type": "execute_result",
          "data": {
            "text/plain": [
              "{'criterion': 'friedman_mse', 'max_depth': 3}"
            ]
          },
          "metadata": {
            "tags": []
          },
          "execution_count": 76
        }
      ]
    },
    {
      "cell_type": "code",
      "metadata": {
        "colab": {
          "base_uri": "https://localhost:8080/"
        },
        "id": "NrjPBkJmA-pa",
        "outputId": "6f389652-cf3c-46ac-91df-942994325e6a"
      },
      "source": [
        "best_rmse_dtree_multi = np.sqrt(-randomGrd_search.best_score_)\n",
        "print(f'RMSE Melhor modelo: {best_rmse_dtree_multi:.3f}')"
      ],
      "execution_count": 77,
      "outputs": [
        {
          "output_type": "stream",
          "text": [
            "RMSE Melhor modelo: 87988.093\n"
          ],
          "name": "stdout"
        }
      ]
    },
    {
      "cell_type": "code",
      "metadata": {
        "id": "Xr9Gb4TdBS7e"
      },
      "source": [
        "#Recuperação do modelo treinado\n",
        "best_tree_multi = randomGrd_search.best_estimator_"
      ],
      "execution_count": 78,
      "outputs": []
    },
    {
      "cell_type": "code",
      "metadata": {
        "colab": {
          "base_uri": "https://localhost:8080/"
        },
        "id": "gocVTSV6BiM4",
        "outputId": "bd255dde-d774-467b-fdee-6070a935a459"
      },
      "source": [
        "#Aplicação do modelo treinado nos dados de teste\n",
        "y_pred = best_tree_multi.predict(X_test_norm)\n",
        "y_pred"
      ],
      "execution_count": 79,
      "outputs": [
        {
          "output_type": "execute_result",
          "data": {
            "text/plain": [
              "array([384459.8       , 384459.8       , 225854.45454545, 225854.45454545,\n",
              "       549000.        , 225854.45454545, 291633.25      , 579900.        ,\n",
              "       579900.        , 225854.45454545])"
            ]
          },
          "metadata": {
            "tags": []
          },
          "execution_count": 79
        }
      ]
    },
    {
      "cell_type": "code",
      "metadata": {
        "colab": {
          "base_uri": "https://localhost:8080/"
        },
        "id": "OGpR54Z4Bolf",
        "outputId": "5e96048d-b37f-4f82-bab0-0efcf9be7a15"
      },
      "source": [
        "#Avaliação do modelo\n",
        "final_mse_dtree_multi = mean_squared_error(y_test, y_pred)\n",
        "final_rmse_dtree_multi = np.sqrt(final_mse_dtree_multi)\n",
        "final_rmse_dtree_multi"
      ],
      "execution_count": 80,
      "outputs": [
        {
          "output_type": "execute_result",
          "data": {
            "text/plain": [
              "91432.34147965061"
            ]
          },
          "metadata": {
            "tags": []
          },
          "execution_count": 80
        }
      ]
    },
    {
      "cell_type": "code",
      "metadata": {
        "colab": {
          "base_uri": "https://localhost:8080/"
        },
        "id": "64fEeaK3B44N",
        "outputId": "050f0214-1604-444a-bd13-b8ccde1e5d53"
      },
      "source": [
        "print('RMSE dos modelos selecionados\\n\\nAnálise      | k-NN              | Decision Tree')\n",
        "print('-'*55)\n",
        "print('Val. Cruzada', best_rmse_knn_multi, best_rmse_dtree_multi, sep=' | ')\n",
        "print('Teste       ', final_rmse_knn_multi, final_rmse_dtree_multi, sep=' | ')"
      ],
      "execution_count": 81,
      "outputs": [
        {
          "output_type": "stream",
          "text": [
            "RMSE dos modelos selecionados\n",
            "\n",
            "Análise      | k-NN              | Decision Tree\n",
            "-------------------------------------------------------\n",
            "Val. Cruzada | 89173.06023867214 | 87988.09272010982\n",
            "Teste        | 110098.96523558114 | 91432.34147965061\n"
          ],
          "name": "stdout"
        }
      ]
    },
    {
      "cell_type": "markdown",
      "metadata": {
        "id": "s3zQ4hHIC0dq"
      },
      "source": [
        "##1.2 Aprendizado de Classificadores"
      ]
    },
    {
      "cell_type": "markdown",
      "metadata": {
        "id": "2YexmANEC5sY"
      },
      "source": [
        "Análise preliminar dos dados"
      ]
    },
    {
      "cell_type": "code",
      "metadata": {
        "id": "j5M5K8j2C59D",
        "colab": {
          "base_uri": "https://localhost:8080/",
          "height": 0
        },
        "outputId": "e70a44fb-66f9-4154-d7af-5caa3fa54bcc"
      },
      "source": [
        "#Carga dos dados usando as bibliotecas pandas e numpy\n",
        "#arquivo = 'data/ex2data1.txt'\n",
        "arquivo = 'https://raw.githubusercontent.com/MLRG-CEFET-RJ/ml-class/master/ml-t1/data/ex2data1.txt'\n",
        "dados = pd.read_table(arquivo,\n",
        "                      sep=',',\n",
        "                      header=None,\n",
        "                      names=['Prova 1', 'Prova 2', 'Aprovado'])\n",
        "\n",
        "dados.head()"
      ],
      "execution_count": 82,
      "outputs": [
        {
          "output_type": "execute_result",
          "data": {
            "text/html": [
              "<div>\n",
              "<style scoped>\n",
              "    .dataframe tbody tr th:only-of-type {\n",
              "        vertical-align: middle;\n",
              "    }\n",
              "\n",
              "    .dataframe tbody tr th {\n",
              "        vertical-align: top;\n",
              "    }\n",
              "\n",
              "    .dataframe thead th {\n",
              "        text-align: right;\n",
              "    }\n",
              "</style>\n",
              "<table border=\"1\" class=\"dataframe\">\n",
              "  <thead>\n",
              "    <tr style=\"text-align: right;\">\n",
              "      <th></th>\n",
              "      <th>Prova 1</th>\n",
              "      <th>Prova 2</th>\n",
              "      <th>Aprovado</th>\n",
              "    </tr>\n",
              "  </thead>\n",
              "  <tbody>\n",
              "    <tr>\n",
              "      <th>0</th>\n",
              "      <td>34.623660</td>\n",
              "      <td>78.024693</td>\n",
              "      <td>0</td>\n",
              "    </tr>\n",
              "    <tr>\n",
              "      <th>1</th>\n",
              "      <td>30.286711</td>\n",
              "      <td>43.894998</td>\n",
              "      <td>0</td>\n",
              "    </tr>\n",
              "    <tr>\n",
              "      <th>2</th>\n",
              "      <td>35.847409</td>\n",
              "      <td>72.902198</td>\n",
              "      <td>0</td>\n",
              "    </tr>\n",
              "    <tr>\n",
              "      <th>3</th>\n",
              "      <td>60.182599</td>\n",
              "      <td>86.308552</td>\n",
              "      <td>1</td>\n",
              "    </tr>\n",
              "    <tr>\n",
              "      <th>4</th>\n",
              "      <td>79.032736</td>\n",
              "      <td>75.344376</td>\n",
              "      <td>1</td>\n",
              "    </tr>\n",
              "  </tbody>\n",
              "</table>\n",
              "</div>"
            ],
            "text/plain": [
              "     Prova 1    Prova 2  Aprovado\n",
              "0  34.623660  78.024693         0\n",
              "1  30.286711  43.894998         0\n",
              "2  35.847409  72.902198         0\n",
              "3  60.182599  86.308552         1\n",
              "4  79.032736  75.344376         1"
            ]
          },
          "metadata": {
            "tags": []
          },
          "execution_count": 82
        }
      ]
    },
    {
      "cell_type": "code",
      "metadata": {
        "colab": {
          "base_uri": "https://localhost:8080/",
          "height": 0
        },
        "id": "1NUtnzbDmqTn",
        "outputId": "584a2a44-0271-434c-fbfe-440b26e015da"
      },
      "source": [
        "dados.describe()"
      ],
      "execution_count": 83,
      "outputs": [
        {
          "output_type": "execute_result",
          "data": {
            "text/html": [
              "<div>\n",
              "<style scoped>\n",
              "    .dataframe tbody tr th:only-of-type {\n",
              "        vertical-align: middle;\n",
              "    }\n",
              "\n",
              "    .dataframe tbody tr th {\n",
              "        vertical-align: top;\n",
              "    }\n",
              "\n",
              "    .dataframe thead th {\n",
              "        text-align: right;\n",
              "    }\n",
              "</style>\n",
              "<table border=\"1\" class=\"dataframe\">\n",
              "  <thead>\n",
              "    <tr style=\"text-align: right;\">\n",
              "      <th></th>\n",
              "      <th>Prova 1</th>\n",
              "      <th>Prova 2</th>\n",
              "      <th>Aprovado</th>\n",
              "    </tr>\n",
              "  </thead>\n",
              "  <tbody>\n",
              "    <tr>\n",
              "      <th>count</th>\n",
              "      <td>100.000000</td>\n",
              "      <td>100.000000</td>\n",
              "      <td>100.000000</td>\n",
              "    </tr>\n",
              "    <tr>\n",
              "      <th>mean</th>\n",
              "      <td>65.644274</td>\n",
              "      <td>66.221998</td>\n",
              "      <td>0.600000</td>\n",
              "    </tr>\n",
              "    <tr>\n",
              "      <th>std</th>\n",
              "      <td>19.458222</td>\n",
              "      <td>18.582783</td>\n",
              "      <td>0.492366</td>\n",
              "    </tr>\n",
              "    <tr>\n",
              "      <th>min</th>\n",
              "      <td>30.058822</td>\n",
              "      <td>30.603263</td>\n",
              "      <td>0.000000</td>\n",
              "    </tr>\n",
              "    <tr>\n",
              "      <th>25%</th>\n",
              "      <td>50.919511</td>\n",
              "      <td>48.179205</td>\n",
              "      <td>0.000000</td>\n",
              "    </tr>\n",
              "    <tr>\n",
              "      <th>50%</th>\n",
              "      <td>67.032988</td>\n",
              "      <td>67.682381</td>\n",
              "      <td>1.000000</td>\n",
              "    </tr>\n",
              "    <tr>\n",
              "      <th>75%</th>\n",
              "      <td>80.212529</td>\n",
              "      <td>79.360605</td>\n",
              "      <td>1.000000</td>\n",
              "    </tr>\n",
              "    <tr>\n",
              "      <th>max</th>\n",
              "      <td>99.827858</td>\n",
              "      <td>98.869436</td>\n",
              "      <td>1.000000</td>\n",
              "    </tr>\n",
              "  </tbody>\n",
              "</table>\n",
              "</div>"
            ],
            "text/plain": [
              "          Prova 1     Prova 2    Aprovado\n",
              "count  100.000000  100.000000  100.000000\n",
              "mean    65.644274   66.221998    0.600000\n",
              "std     19.458222   18.582783    0.492366\n",
              "min     30.058822   30.603263    0.000000\n",
              "25%     50.919511   48.179205    0.000000\n",
              "50%     67.032988   67.682381    1.000000\n",
              "75%     80.212529   79.360605    1.000000\n",
              "max     99.827858   98.869436    1.000000"
            ]
          },
          "metadata": {
            "tags": []
          },
          "execution_count": 83
        }
      ]
    },
    {
      "cell_type": "code",
      "metadata": {
        "colab": {
          "base_uri": "https://localhost:8080/"
        },
        "id": "RfpFmSDVmth9",
        "outputId": "a70d7de6-8113-4e48-fedd-b59a99dd1eec"
      },
      "source": [
        "dados.info()"
      ],
      "execution_count": 84,
      "outputs": [
        {
          "output_type": "stream",
          "text": [
            "<class 'pandas.core.frame.DataFrame'>\n",
            "RangeIndex: 100 entries, 0 to 99\n",
            "Data columns (total 3 columns):\n",
            " #   Column    Non-Null Count  Dtype  \n",
            "---  ------    --------------  -----  \n",
            " 0   Prova 1   100 non-null    float64\n",
            " 1   Prova 2   100 non-null    float64\n",
            " 2   Aprovado  100 non-null    int64  \n",
            "dtypes: float64(2), int64(1)\n",
            "memory usage: 2.5 KB\n"
          ],
          "name": "stdout"
        }
      ]
    },
    {
      "cell_type": "code",
      "metadata": {
        "id": "UbxYpW_gm39a"
      },
      "source": [
        "#Organização do conjunto de dados para uso na modelagem\n",
        "X, y = read_dataset(arquivo)"
      ],
      "execution_count": 85,
      "outputs": []
    },
    {
      "cell_type": "code",
      "metadata": {
        "colab": {
          "base_uri": "https://localhost:8080/"
        },
        "id": "53gI2StineqN",
        "outputId": "1cafa83a-8793-4879-d325-8d787189f940"
      },
      "source": [
        "print(\n",
        "    X[:5],\n",
        "    y[:5],\n",
        "    sep='\\n\\n'\n",
        ")"
      ],
      "execution_count": 86,
      "outputs": [
        {
          "output_type": "stream",
          "text": [
            "[[34.62365962 78.02469282]\n",
            " [30.28671077 43.89499752]\n",
            " [35.84740877 72.90219803]\n",
            " [60.18259939 86.3085521 ]\n",
            " [79.03273605 75.34437644]]\n",
            "\n",
            "[[0]\n",
            " [0]\n",
            " [0]\n",
            " [1]\n",
            " [1]]\n"
          ],
          "name": "stdout"
        }
      ]
    },
    {
      "cell_type": "markdown",
      "metadata": {
        "id": "y2ukNUu7n5fM"
      },
      "source": [
        "###1.2.1 Visualização de dados"
      ]
    },
    {
      "cell_type": "markdown",
      "metadata": {
        "id": "0OEwEsOnn-dc"
      },
      "source": [
        "Abaixo visualizamos a dispersão entre os valores das notas das provas 1 e 2 e a marcação do resultado esperado de aprovação ou reprovação."
      ]
    },
    {
      "cell_type": "code",
      "metadata": {
        "id": "JFIVsBH5n-mz",
        "colab": {
          "base_uri": "https://localhost:8080/",
          "height": 0
        },
        "outputId": "7c71a5ce-7f0c-4e9e-eb58-2278b6b1494d"
      },
      "source": [
        "%run plot_ex2data1.py"
      ],
      "execution_count": 87,
      "outputs": [
        {
          "output_type": "display_data",
          "data": {
            "text/plain": [
              "<Figure size 432x288 with 0 Axes>"
            ]
          },
          "metadata": {
            "tags": []
          }
        }
      ]
    },
    {
      "cell_type": "code",
      "metadata": {
        "colab": {
          "base_uri": "https://localhost:8080/",
          "height": 0
        },
        "id": "NuhAhnhGphR0",
        "outputId": "fa01393e-4e9b-497d-9065-66e31cc2ffce"
      },
      "source": [
        "filename='target/plot1.2.png'\n",
        "plot(dados, filename)"
      ],
      "execution_count": 88,
      "outputs": [
        {
          "output_type": "display_data",
          "data": {
            "image/png": "[encoded data removed]",
            "text/plain": [
              "<Figure size 864x576 with 1 Axes>"
            ]
          },
          "metadata": {
            "tags": [],
            "needs_background": "light"
          }
        }
      ]
    },
    {
      "cell_type": "markdown",
      "metadata": {
        "id": "9iWCjKASqNJU"
      },
      "source": [
        "###1.2.2 Ajuste dos modelos"
      ]
    },
    {
      "cell_type": "markdown",
      "metadata": {
        "id": "k82sJaveqP0v"
      },
      "source": [
        "Nesta seção criaremos modelos de classificação baseados nos algoritmos ***Naive Bayes***, ***Regressão Logística***, ***k-NN*** e ***Decision Tree***."
      ]
    },
    {
      "cell_type": "markdown",
      "metadata": {
        "id": "0GgSUw3288n5"
      },
      "source": [
        "* Carga das bibliotecas e preparação dos dados para treinamento dos modelos."
      ]
    },
    {
      "cell_type": "code",
      "metadata": {
        "id": "rwdDubGt5SEF"
      },
      "source": [
        "#Importação das classes para geração dos modelos\n",
        "from sklearn.naive_bayes import GaussianNB\n",
        "from sklearn.linear_model import LogisticRegression\n",
        "from sklearn.neighbors import KNeighborsClassifier\n",
        "from sklearn.tree import DecisionTreeClassifier"
      ],
      "execution_count": 89,
      "outputs": []
    },
    {
      "cell_type": "code",
      "metadata": {
        "id": "02lD7lzi-C-d"
      },
      "source": [
        "#Separação dos conjuntos de treino e teste\n",
        "X_train, X_test, y_train, y_test = train_test_split(X, y, \n",
        "                                                    test_size=0.2, \n",
        "                                                    random_state=42)"
      ],
      "execution_count": 90,
      "outputs": []
    },
    {
      "cell_type": "markdown",
      "metadata": {
        "id": "rFzcLL7l-2NL"
      },
      "source": [
        "* **Criação e Treinamento dos modelos**"
      ]
    },
    {
      "cell_type": "markdown",
      "metadata": {
        "id": "IKxyL4KvGT5g"
      },
      "source": [
        "####Ajuste do modelo ***Gaussain Naive Bayes***"
      ]
    },
    {
      "cell_type": "markdown",
      "metadata": {
        "id": "RLntYSKuPRm3"
      },
      "source": [
        "Para o modelo *Naive Bayes* usamos a função `GaussianNB` em sua configuração padrão, sem sintonização de hiperparâmetros."
      ]
    },
    {
      "cell_type": "code",
      "metadata": {
        "colab": {
          "base_uri": "https://localhost:8080/"
        },
        "id": "wMximH4x_HOT",
        "outputId": "8343df79-28dd-4b49-b19a-c1be578ee868"
      },
      "source": [
        "#Gaussain Naive Bayes\n",
        "gnb_clf = GaussianNB()\n",
        "gnb_clf.fit(X_train, y_train.ravel())"
      ],
      "execution_count": 91,
      "outputs": [
        {
          "output_type": "execute_result",
          "data": {
            "text/plain": [
              "GaussianNB(priors=None, var_smoothing=1e-09)"
            ]
          },
          "metadata": {
            "tags": []
          },
          "execution_count": 91
        }
      ]
    },
    {
      "cell_type": "markdown",
      "metadata": {
        "id": "0ONUPhTOGdl1"
      },
      "source": [
        "####Ajuste do modelo ***Regressão Logística***"
      ]
    },
    {
      "cell_type": "markdown",
      "metadata": {
        "id": "oUeaRCIjPnH-"
      },
      "source": [
        "No caso da regressão logística, tendo em vista uma maior gama de opções de parâmetros na função implementada na biblioteca `Scikit-Learn`, foi realizada a sintonização dos hiperparâmetros relativos à penalidade, ao número máximo de iterações e do algoritmo usado na otimização (`solver`)."
      ]
    },
    {
      "cell_type": "code",
      "metadata": {
        "id": "AqTr8WYBI_ZD"
      },
      "source": [
        "#Criação do modelo para execução do tuning\n",
        "log_reg_tun = LogisticRegression()"
      ],
      "execution_count": 92,
      "outputs": []
    },
    {
      "cell_type": "code",
      "metadata": {
        "colab": {
          "base_uri": "https://localhost:8080/"
        },
        "id": "UKdKlYr-JF-U",
        "outputId": "2d6d9bf4-27b6-48db-a57d-fe65ecdd9179"
      },
      "source": [
        "#Definição dos valores de parâmetros para teste\n",
        "param = {'penalty': ['l1', 'l2', 'none'],\n",
        "         'solver': ['newton-cg', 'lbfgs', 'liblinear', 'sag', 'saga'],\n",
        "         'max_iter': [100, 150, 200]\n",
        "         }\n",
        "\n",
        "folds = 5 #Quantidade de camadas para validação cruzada\n",
        "iter = 20 #Quantidade de iterações do random search\n",
        "\n",
        "#Seleção do modelo\n",
        "randomGrd_search = RandomizedSearchCV(log_reg_tun,\n",
        "                                      param,\n",
        "                                      n_iter=iter,\n",
        "                                      cv=folds,\n",
        "                                      scoring='neg_mean_squared_error'\n",
        "                                      )\n",
        "\n",
        "\n",
        "#Execução do tuning\n",
        "randomGrd_search.fit(X_train, y_train.ravel())"
      ],
      "execution_count": 93,
      "outputs": [
        {
          "output_type": "stream",
          "text": [
            "/usr/local/lib/python3.7/dist-packages/sklearn/linear_model/_sag.py:330: ConvergenceWarning: The max_iter was reached which means the coef_ did not converge\n",
            "  \"the coef_ did not converge\", ConvergenceWarning)\n",
            "/usr/local/lib/python3.7/dist-packages/sklearn/linear_model/_sag.py:330: ConvergenceWarning: The max_iter was reached which means the coef_ did not converge\n",
            "  \"the coef_ did not converge\", ConvergenceWarning)\n",
            "/usr/local/lib/python3.7/dist-packages/sklearn/linear_model/_sag.py:330: ConvergenceWarning: The max_iter was reached which means the coef_ did not converge\n",
            "  \"the coef_ did not converge\", ConvergenceWarning)\n",
            "/usr/local/lib/python3.7/dist-packages/sklearn/linear_model/_sag.py:330: ConvergenceWarning: The max_iter was reached which means the coef_ did not converge\n",
            "  \"the coef_ did not converge\", ConvergenceWarning)\n",
            "/usr/local/lib/python3.7/dist-packages/sklearn/linear_model/_sag.py:330: ConvergenceWarning: The max_iter was reached which means the coef_ did not converge\n",
            "  \"the coef_ did not converge\", ConvergenceWarning)\n",
            "/usr/local/lib/python3.7/dist-packages/sklearn/linear_model/_sag.py:330: ConvergenceWarning: The max_iter was reached which means the coef_ did not converge\n",
            "  \"the coef_ did not converge\", ConvergenceWarning)\n",
            "/usr/local/lib/python3.7/dist-packages/sklearn/linear_model/_sag.py:330: ConvergenceWarning: The max_iter was reached which means the coef_ did not converge\n",
            "  \"the coef_ did not converge\", ConvergenceWarning)\n",
            "/usr/local/lib/python3.7/dist-packages/sklearn/linear_model/_sag.py:330: ConvergenceWarning: The max_iter was reached which means the coef_ did not converge\n",
            "  \"the coef_ did not converge\", ConvergenceWarning)\n",
            "/usr/local/lib/python3.7/dist-packages/sklearn/linear_model/_sag.py:330: ConvergenceWarning: The max_iter was reached which means the coef_ did not converge\n",
            "  \"the coef_ did not converge\", ConvergenceWarning)\n",
            "/usr/local/lib/python3.7/dist-packages/sklearn/linear_model/_sag.py:330: ConvergenceWarning: The max_iter was reached which means the coef_ did not converge\n",
            "  \"the coef_ did not converge\", ConvergenceWarning)\n",
            "/usr/local/lib/python3.7/dist-packages/sklearn/linear_model/_sag.py:330: ConvergenceWarning: The max_iter was reached which means the coef_ did not converge\n",
            "  \"the coef_ did not converge\", ConvergenceWarning)\n",
            "/usr/local/lib/python3.7/dist-packages/sklearn/linear_model/_sag.py:330: ConvergenceWarning: The max_iter was reached which means the coef_ did not converge\n",
            "  \"the coef_ did not converge\", ConvergenceWarning)\n",
            "/usr/local/lib/python3.7/dist-packages/sklearn/linear_model/_sag.py:330: ConvergenceWarning: The max_iter was reached which means the coef_ did not converge\n",
            "  \"the coef_ did not converge\", ConvergenceWarning)\n",
            "/usr/local/lib/python3.7/dist-packages/sklearn/linear_model/_sag.py:330: ConvergenceWarning: The max_iter was reached which means the coef_ did not converge\n",
            "  \"the coef_ did not converge\", ConvergenceWarning)\n",
            "/usr/local/lib/python3.7/dist-packages/sklearn/model_selection/_validation.py:536: FitFailedWarning: Estimator fit failed. The score on this train-test partition for these parameters will be set to nan. Details: \n",
            "ValueError: penalty='none' is not supported for the liblinear solver\n",
            "\n",
            "  FitFailedWarning)\n",
            "/usr/local/lib/python3.7/dist-packages/sklearn/linear_model/_sag.py:330: ConvergenceWarning: The max_iter was reached which means the coef_ did not converge\n",
            "  \"the coef_ did not converge\", ConvergenceWarning)\n",
            "/usr/local/lib/python3.7/dist-packages/sklearn/linear_model/_sag.py:330: ConvergenceWarning: The max_iter was reached which means the coef_ did not converge\n",
            "  \"the coef_ did not converge\", ConvergenceWarning)\n",
            "/usr/local/lib/python3.7/dist-packages/sklearn/linear_model/_sag.py:330: ConvergenceWarning: The max_iter was reached which means the coef_ did not converge\n",
            "  \"the coef_ did not converge\", ConvergenceWarning)\n",
            "/usr/local/lib/python3.7/dist-packages/sklearn/linear_model/_sag.py:330: ConvergenceWarning: The max_iter was reached which means the coef_ did not converge\n",
            "  \"the coef_ did not converge\", ConvergenceWarning)\n",
            "/usr/local/lib/python3.7/dist-packages/sklearn/linear_model/_sag.py:330: ConvergenceWarning: The max_iter was reached which means the coef_ did not converge\n",
            "  \"the coef_ did not converge\", ConvergenceWarning)\n",
            "/usr/local/lib/python3.7/dist-packages/sklearn/model_selection/_validation.py:536: FitFailedWarning: Estimator fit failed. The score on this train-test partition for these parameters will be set to nan. Details: \n",
            "ValueError: Solver lbfgs supports only 'l2' or 'none' penalties, got l1 penalty.\n",
            "\n",
            "  FitFailedWarning)\n",
            "/usr/local/lib/python3.7/dist-packages/sklearn/linear_model/_sag.py:330: ConvergenceWarning: The max_iter was reached which means the coef_ did not converge\n",
            "  \"the coef_ did not converge\", ConvergenceWarning)\n",
            "/usr/local/lib/python3.7/dist-packages/sklearn/linear_model/_sag.py:330: ConvergenceWarning: The max_iter was reached which means the coef_ did not converge\n",
            "  \"the coef_ did not converge\", ConvergenceWarning)\n",
            "/usr/local/lib/python3.7/dist-packages/sklearn/linear_model/_sag.py:330: ConvergenceWarning: The max_iter was reached which means the coef_ did not converge\n",
            "  \"the coef_ did not converge\", ConvergenceWarning)\n",
            "/usr/local/lib/python3.7/dist-packages/sklearn/linear_model/_sag.py:330: ConvergenceWarning: The max_iter was reached which means the coef_ did not converge\n",
            "  \"the coef_ did not converge\", ConvergenceWarning)\n",
            "/usr/local/lib/python3.7/dist-packages/sklearn/linear_model/_sag.py:330: ConvergenceWarning: The max_iter was reached which means the coef_ did not converge\n",
            "  \"the coef_ did not converge\", ConvergenceWarning)\n",
            "/usr/local/lib/python3.7/dist-packages/sklearn/linear_model/_sag.py:330: ConvergenceWarning: The max_iter was reached which means the coef_ did not converge\n",
            "  \"the coef_ did not converge\", ConvergenceWarning)\n",
            "/usr/local/lib/python3.7/dist-packages/sklearn/linear_model/_sag.py:330: ConvergenceWarning: The max_iter was reached which means the coef_ did not converge\n",
            "  \"the coef_ did not converge\", ConvergenceWarning)\n",
            "/usr/local/lib/python3.7/dist-packages/sklearn/linear_model/_sag.py:330: ConvergenceWarning: The max_iter was reached which means the coef_ did not converge\n",
            "  \"the coef_ did not converge\", ConvergenceWarning)\n",
            "/usr/local/lib/python3.7/dist-packages/sklearn/linear_model/_sag.py:330: ConvergenceWarning: The max_iter was reached which means the coef_ did not converge\n",
            "  \"the coef_ did not converge\", ConvergenceWarning)\n",
            "/usr/local/lib/python3.7/dist-packages/sklearn/linear_model/_sag.py:330: ConvergenceWarning: The max_iter was reached which means the coef_ did not converge\n",
            "  \"the coef_ did not converge\", ConvergenceWarning)\n",
            "/usr/local/lib/python3.7/dist-packages/sklearn/model_selection/_validation.py:536: FitFailedWarning: Estimator fit failed. The score on this train-test partition for these parameters will be set to nan. Details: \n",
            "ValueError: Solver sag supports only 'l2' or 'none' penalties, got l1 penalty.\n",
            "\n",
            "  FitFailedWarning)\n",
            "/usr/local/lib/python3.7/dist-packages/sklearn/linear_model/_sag.py:330: ConvergenceWarning: The max_iter was reached which means the coef_ did not converge\n",
            "  \"the coef_ did not converge\", ConvergenceWarning)\n",
            "/usr/local/lib/python3.7/dist-packages/sklearn/linear_model/_sag.py:330: ConvergenceWarning: The max_iter was reached which means the coef_ did not converge\n",
            "  \"the coef_ did not converge\", ConvergenceWarning)\n",
            "/usr/local/lib/python3.7/dist-packages/sklearn/linear_model/_sag.py:330: ConvergenceWarning: The max_iter was reached which means the coef_ did not converge\n",
            "  \"the coef_ did not converge\", ConvergenceWarning)\n",
            "/usr/local/lib/python3.7/dist-packages/sklearn/linear_model/_sag.py:330: ConvergenceWarning: The max_iter was reached which means the coef_ did not converge\n",
            "  \"the coef_ did not converge\", ConvergenceWarning)\n",
            "/usr/local/lib/python3.7/dist-packages/sklearn/model_selection/_validation.py:536: FitFailedWarning: Estimator fit failed. The score on this train-test partition for these parameters will be set to nan. Details: \n",
            "ValueError: Solver lbfgs supports only 'l2' or 'none' penalties, got l1 penalty.\n",
            "\n",
            "  FitFailedWarning)\n",
            "/usr/local/lib/python3.7/dist-packages/sklearn/model_selection/_validation.py:536: FitFailedWarning: Estimator fit failed. The score on this train-test partition for these parameters will be set to nan. Details: \n",
            "ValueError: penalty='none' is not supported for the liblinear solver\n",
            "\n",
            "  FitFailedWarning)\n",
            "/usr/local/lib/python3.7/dist-packages/sklearn/model_selection/_validation.py:536: FitFailedWarning: Estimator fit failed. The score on this train-test partition for these parameters will be set to nan. Details: \n",
            "ValueError: Solver newton-cg supports only 'l2' or 'none' penalties, got l1 penalty.\n",
            "\n",
            "  FitFailedWarning)\n",
            "/usr/local/lib/python3.7/dist-packages/sklearn/linear_model/_sag.py:330: ConvergenceWarning: The max_iter was reached which means the coef_ did not converge\n",
            "  \"the coef_ did not converge\", ConvergenceWarning)\n",
            "/usr/local/lib/python3.7/dist-packages/sklearn/linear_model/_sag.py:330: ConvergenceWarning: The max_iter was reached which means the coef_ did not converge\n",
            "  \"the coef_ did not converge\", ConvergenceWarning)\n",
            "/usr/local/lib/python3.7/dist-packages/sklearn/linear_model/_sag.py:330: ConvergenceWarning: The max_iter was reached which means the coef_ did not converge\n",
            "  \"the coef_ did not converge\", ConvergenceWarning)\n",
            "/usr/local/lib/python3.7/dist-packages/sklearn/linear_model/_sag.py:330: ConvergenceWarning: The max_iter was reached which means the coef_ did not converge\n",
            "  \"the coef_ did not converge\", ConvergenceWarning)\n",
            "/usr/local/lib/python3.7/dist-packages/sklearn/linear_model/_sag.py:330: ConvergenceWarning: The max_iter was reached which means the coef_ did not converge\n",
            "  \"the coef_ did not converge\", ConvergenceWarning)\n"
          ],
          "name": "stderr"
        },
        {
          "output_type": "execute_result",
          "data": {
            "text/plain": [
              "RandomizedSearchCV(cv=5, error_score=nan,\n",
              "                   estimator=LogisticRegression(C=1.0, class_weight=None,\n",
              "                                                dual=False, fit_intercept=True,\n",
              "                                                intercept_scaling=1,\n",
              "                                                l1_ratio=None, max_iter=100,\n",
              "                                                multi_class='auto', n_jobs=None,\n",
              "                                                penalty='l2', random_state=None,\n",
              "                                                solver='lbfgs', tol=0.0001,\n",
              "                                                verbose=0, warm_start=False),\n",
              "                   iid='deprecated', n_iter=20, n_jobs=None,\n",
              "                   param_distributions={'max_iter': [100, 150, 200],\n",
              "                                        'penalty': ['l1', 'l2', 'none'],\n",
              "                                        'solver': ['newton-cg', 'lbfgs',\n",
              "                                                   'liblinear', 'sag',\n",
              "                                                   'saga']},\n",
              "                   pre_dispatch='2*n_jobs', random_state=None, refit=True,\n",
              "                   return_train_score=False, scoring='neg_mean_squared_error',\n",
              "                   verbose=0)"
            ]
          },
          "metadata": {
            "tags": []
          },
          "execution_count": 93
        }
      ]
    },
    {
      "cell_type": "markdown",
      "metadata": {
        "id": "Wrx2qkTZOEdz"
      },
      "source": [
        "Ao realizar o tuning para esse modelo uma série de combinações de parâmetros apresentou alertas, por isso, realizamos a análise complementar dos detalhes das saídas na célula abaixo."
      ]
    },
    {
      "cell_type": "code",
      "metadata": {
        "colab": {
          "base_uri": "https://localhost:8080/"
        },
        "id": "zc8N6fqBN7eD",
        "outputId": "efb08f42-a7b0-4a81-c94b-a12049aaa3f4"
      },
      "source": [
        "cvres = randomGrd_search.cv_results_\n",
        "\n",
        "for mean_score, params in zip(cvres['mean_test_score'], cvres['params']):\n",
        "    print(np.sqrt(-mean_score), params)"
      ],
      "execution_count": 94,
      "outputs": [
        {
          "output_type": "stream",
          "text": [
            "0.6324555320336759 {'solver': 'sag', 'penalty': 'l2', 'max_iter': 150}\n",
            "0.6324555320336759 {'solver': 'sag', 'penalty': 'none', 'max_iter': 200}\n",
            "0.31622776601683794 {'solver': 'lbfgs', 'penalty': 'none', 'max_iter': 100}\n",
            "0.6324555320336759 {'solver': 'saga', 'penalty': 'l1', 'max_iter': 150}\n",
            "0.31622776601683794 {'solver': 'lbfgs', 'penalty': 'none', 'max_iter': 150}\n",
            "nan {'solver': 'liblinear', 'penalty': 'none', 'max_iter': 200}\n",
            "0.4472135954999579 {'solver': 'liblinear', 'penalty': 'l2', 'max_iter': 200}\n",
            "0.6324555320336759 {'solver': 'saga', 'penalty': 'l1', 'max_iter': 200}\n",
            "0.4472135954999579 {'solver': 'liblinear', 'penalty': 'l2', 'max_iter': 150}\n",
            "nan {'solver': 'lbfgs', 'penalty': 'l1', 'max_iter': 150}\n",
            "0.6324555320336759 {'solver': 'sag', 'penalty': 'l2', 'max_iter': 200}\n",
            "0.6324555320336759 {'solver': 'sag', 'penalty': 'l2', 'max_iter': 100}\n",
            "0.31622776601683794 {'solver': 'newton-cg', 'penalty': 'none', 'max_iter': 100}\n",
            "nan {'solver': 'sag', 'penalty': 'l1', 'max_iter': 150}\n",
            "0.6324555320336759 {'solver': 'saga', 'penalty': 'l2', 'max_iter': 150}\n",
            "nan {'solver': 'lbfgs', 'penalty': 'l1', 'max_iter': 200}\n",
            "nan {'solver': 'liblinear', 'penalty': 'none', 'max_iter': 100}\n",
            "nan {'solver': 'newton-cg', 'penalty': 'l1', 'max_iter': 100}\n",
            "0.6324555320336759 {'solver': 'saga', 'penalty': 'l2', 'max_iter': 100}\n",
            "0.4472135954999579 {'solver': 'liblinear', 'penalty': 'l2', 'max_iter': 100}\n"
          ],
          "name": "stdout"
        }
      ]
    },
    {
      "cell_type": "markdown",
      "metadata": {
        "id": "RcKX936bO8mB"
      },
      "source": [
        "Apesar dos alertas e de algumas opções com resultado nulo (nan) para a métrica de comparação, a maioria das iterações chegou a composições de parâmetros comparáveis, por isso, continuamos com nas seções a seguir com o uso do modelo selecionado.\n",
        "\n",
        "---\n",
        "\n",
        "Nas células a seguir realizarmos a exibição dos parâmetros selecionados e em seguida criamos o modelo baseado no *tuning* de parâmetros."
      ]
    },
    {
      "cell_type": "code",
      "metadata": {
        "colab": {
          "base_uri": "https://localhost:8080/"
        },
        "id": "BFSs3td_M0rZ",
        "outputId": "5ad28294-2ba7-4e42-9006-aa306ef00d9a"
      },
      "source": [
        "#Exibição do modelo selecionado\n",
        "print('Parâmetros do melhor modelo:')\n",
        "randomGrd_search.best_params_"
      ],
      "execution_count": 95,
      "outputs": [
        {
          "output_type": "stream",
          "text": [
            "Parâmetros do melhor modelo:\n"
          ],
          "name": "stdout"
        },
        {
          "output_type": "execute_result",
          "data": {
            "text/plain": [
              "{'max_iter': 100, 'penalty': 'none', 'solver': 'lbfgs'}"
            ]
          },
          "metadata": {
            "tags": []
          },
          "execution_count": 95
        }
      ]
    },
    {
      "cell_type": "code",
      "metadata": {
        "id": "Yc44HsVV6knO"
      },
      "source": [
        "#Modelo sem tuning\n",
        "#log_reg = LogisticRegression()\n",
        "#log_reg.fit(X_train, y_train.ravel()\n",
        "\n",
        "#Modelo com tuning\n",
        "log_reg = randomGrd_search.best_estimator_"
      ],
      "execution_count": 96,
      "outputs": []
    },
    {
      "cell_type": "markdown",
      "metadata": {
        "id": "BxFLLWaBGhst"
      },
      "source": [
        "####Ajuste do modelo ***k-NN***"
      ]
    },
    {
      "cell_type": "markdown",
      "metadata": {
        "id": "4SzxXoJFQQU6"
      },
      "source": [
        "Para o modelo ***k-NN*** foi realizada a sintonização de hiperparâmetros de forma similar à seção em que o algoritmo foi usado para regressão, ou seja, buscando analisar um valor adequado para o hiperparâmetro $k$."
      ]
    },
    {
      "cell_type": "code",
      "metadata": {
        "id": "JpmWFrVXAB9G"
      },
      "source": [
        "#Criação do modelo sem parâmetros para realizar tuning\n",
        "knn_clf_tun = KNeighborsClassifier()"
      ],
      "execution_count": 97,
      "outputs": []
    },
    {
      "cell_type": "code",
      "metadata": {
        "colab": {
          "base_uri": "https://localhost:8080/"
        },
        "id": "ktIrhrmsAIs2",
        "outputId": "83ed2fd1-c67d-4a62-b39c-831e49b36f3e"
      },
      "source": [
        "#Definição dos valores de parâmetros para teste\n",
        "param = {'n_neighbors': [5, 10, 15, 20, 25, 30]}\n",
        "\n",
        "folds = 5 #Quantidade de camadas para validação cruzada\n",
        "iter = 20 #Quantidade de iterações do random search\n",
        "\n",
        "#Seleção do modelo\n",
        "randomGrd_search = RandomizedSearchCV(knn_clf_tun,\n",
        "                                      param,\n",
        "                                      n_iter=iter,\n",
        "                                      cv=folds,\n",
        "                                      scoring='neg_mean_squared_error'\n",
        "                                      )\n",
        "\n",
        "\n",
        "#Execução do tuning\n",
        "randomGrd_search.fit(X_train, y_train.ravel())"
      ],
      "execution_count": 98,
      "outputs": [
        {
          "output_type": "stream",
          "text": [
            "/usr/local/lib/python3.7/dist-packages/sklearn/model_selection/_search.py:281: UserWarning: The total space of parameters 6 is smaller than n_iter=20. Running 6 iterations. For exhaustive searches, use GridSearchCV.\n",
            "  % (grid_size, self.n_iter, grid_size), UserWarning)\n"
          ],
          "name": "stderr"
        },
        {
          "output_type": "execute_result",
          "data": {
            "text/plain": [
              "RandomizedSearchCV(cv=5, error_score=nan,\n",
              "                   estimator=KNeighborsClassifier(algorithm='auto',\n",
              "                                                  leaf_size=30,\n",
              "                                                  metric='minkowski',\n",
              "                                                  metric_params=None,\n",
              "                                                  n_jobs=None, n_neighbors=5,\n",
              "                                                  p=2, weights='uniform'),\n",
              "                   iid='deprecated', n_iter=20, n_jobs=None,\n",
              "                   param_distributions={'n_neighbors': [5, 10, 15, 20, 25, 30]},\n",
              "                   pre_dispatch='2*n_jobs', random_state=None, refit=True,\n",
              "                   return_train_score=False, scoring='neg_mean_squared_error',\n",
              "                   verbose=0)"
            ]
          },
          "metadata": {
            "tags": []
          },
          "execution_count": 98
        }
      ]
    },
    {
      "cell_type": "markdown",
      "metadata": {
        "id": "Dsl0-nOnQmim"
      },
      "source": [
        "A sintonização ocorrem sem problemas, exceto pelo alerta relativo ao número de iterações do próprio `RandomizedSearchCV`, mas esta situação foi tratada pela própria função que limitou as iterações ao necessário pela quantidade de opções a serem avaliadas.\n",
        "\n",
        "---\n",
        "\n",
        "Nas células a seguir é apresentando o valor indicado para $k$ e em seguia gerado o modelo com base na sintonização executada."
      ]
    },
    {
      "cell_type": "code",
      "metadata": {
        "colab": {
          "base_uri": "https://localhost:8080/"
        },
        "id": "pYRHsLOgA4Ed",
        "outputId": "d8eca50f-e0a5-4508-c543-d49c562d39ac"
      },
      "source": [
        "#Exibição do modelo selecionado\n",
        "print('Parâmetros do melhor modelo:')\n",
        "randomGrd_search.best_params_"
      ],
      "execution_count": 99,
      "outputs": [
        {
          "output_type": "stream",
          "text": [
            "Parâmetros do melhor modelo:\n"
          ],
          "name": "stdout"
        },
        {
          "output_type": "execute_result",
          "data": {
            "text/plain": [
              "{'n_neighbors': 15}"
            ]
          },
          "metadata": {
            "tags": []
          },
          "execution_count": 99
        }
      ]
    },
    {
      "cell_type": "code",
      "metadata": {
        "id": "TR6-j1jNA2gJ"
      },
      "source": [
        "#Modelo sem tuning\n",
        "#k-NN\n",
        "#k = 3\n",
        "#knn_clf = KNeighborsClassifier(n_neighbors=k)\n",
        "#knn_clf.fit(X_train, y_train)\n",
        "\n",
        "#Modelo com tuning\n",
        "knn_clf = randomGrd_search.best_estimator_"
      ],
      "execution_count": 100,
      "outputs": []
    },
    {
      "cell_type": "markdown",
      "metadata": {
        "id": "t6f5oDgGGmIY"
      },
      "source": [
        "####Ajuste do modelo ***Decision Tree***"
      ]
    },
    {
      "cell_type": "markdown",
      "metadata": {
        "id": "_lT1Ch0ZRYHP"
      },
      "source": [
        "O modelo da árvore de decisão para classificação também foi gerado com a sintonização de hiperparâmetros, buscando um valor adequado da profundidade da árvore."
      ]
    },
    {
      "cell_type": "code",
      "metadata": {
        "id": "-cLhZ6IVFiaj"
      },
      "source": [
        "#Criação do modelo sem parâmetros para realizar tuning\n",
        "dtree_clf_tun = DecisionTreeClassifier()"
      ],
      "execution_count": 101,
      "outputs": []
    },
    {
      "cell_type": "code",
      "metadata": {
        "colab": {
          "base_uri": "https://localhost:8080/"
        },
        "id": "tFnAanDYFVbt",
        "outputId": "d19bad5d-dd4e-4040-9564-973035e757e2"
      },
      "source": [
        "#Definição dos valores de parâmetros para teste\n",
        "param = {'max_depth': [2, 3, 4, None]\n",
        "         }\n",
        "\n",
        "folds = 5 #Quantidade de camadas para validação cruzada\n",
        "iter = 20 #Quantidade de iterações do random search\n",
        "\n",
        "#Seleção do modelo\n",
        "randomGrd_search = RandomizedSearchCV(dtree_clf_tun,\n",
        "                                      param,\n",
        "                                      n_iter=iter,\n",
        "                                      cv=folds,\n",
        "                                      scoring='neg_mean_squared_error'\n",
        "                                      )\n",
        "\n",
        "\n",
        "#Execução do tuning\n",
        "randomGrd_search.fit(X_train, y_train)"
      ],
      "execution_count": 102,
      "outputs": [
        {
          "output_type": "stream",
          "text": [
            "/usr/local/lib/python3.7/dist-packages/sklearn/model_selection/_search.py:281: UserWarning: The total space of parameters 4 is smaller than n_iter=20. Running 4 iterations. For exhaustive searches, use GridSearchCV.\n",
            "  % (grid_size, self.n_iter, grid_size), UserWarning)\n"
          ],
          "name": "stderr"
        },
        {
          "output_type": "execute_result",
          "data": {
            "text/plain": [
              "RandomizedSearchCV(cv=5, error_score=nan,\n",
              "                   estimator=DecisionTreeClassifier(ccp_alpha=0.0,\n",
              "                                                    class_weight=None,\n",
              "                                                    criterion='gini',\n",
              "                                                    max_depth=None,\n",
              "                                                    max_features=None,\n",
              "                                                    max_leaf_nodes=None,\n",
              "                                                    min_impurity_decrease=0.0,\n",
              "                                                    min_impurity_split=None,\n",
              "                                                    min_samples_leaf=1,\n",
              "                                                    min_samples_split=2,\n",
              "                                                    min_weight_fraction_leaf=0.0,\n",
              "                                                    presort='deprecated',\n",
              "                                                    random_state=None,\n",
              "                                                    splitter='best'),\n",
              "                   iid='deprecated', n_iter=20, n_jobs=None,\n",
              "                   param_distributions={'max_depth': [2, 3, 4, None]},\n",
              "                   pre_dispatch='2*n_jobs', random_state=None, refit=True,\n",
              "                   return_train_score=False, scoring='neg_mean_squared_error',\n",
              "                   verbose=0)"
            ]
          },
          "metadata": {
            "tags": []
          },
          "execution_count": 102
        }
      ]
    },
    {
      "cell_type": "markdown",
      "metadata": {
        "id": "Rh5x5SjfRoBB"
      },
      "source": [
        "Nas células a seguir é apresentando o valor indicado para profunidade da árvore (`max_depth`) e em seguia gerado o modelo."
      ]
    },
    {
      "cell_type": "code",
      "metadata": {
        "colab": {
          "base_uri": "https://localhost:8080/"
        },
        "id": "VT9ohQkeGEIP",
        "outputId": "118c8edf-f135-47d7-8563-6f4c4f801779"
      },
      "source": [
        "#Exibição do modelo selecionado\n",
        "print('Parâmetros do melhor modelo:')\n",
        "randomGrd_search.best_params_"
      ],
      "execution_count": 103,
      "outputs": [
        {
          "output_type": "stream",
          "text": [
            "Parâmetros do melhor modelo:\n"
          ],
          "name": "stdout"
        },
        {
          "output_type": "execute_result",
          "data": {
            "text/plain": [
              "{'max_depth': 3}"
            ]
          },
          "metadata": {
            "tags": []
          },
          "execution_count": 103
        }
      ]
    },
    {
      "cell_type": "code",
      "metadata": {
        "id": "tLiogwzS6SxL"
      },
      "source": [
        "#Modelo sem tuning\n",
        "#dtree_clf = DecisionTreeClassifier(max_depth=3)\n",
        "#dtree_clf.fit(X_train, y_train)\n",
        "\n",
        "#Modelo com tuning\n",
        "dtree_clf = randomGrd_search.best_estimator_"
      ],
      "execution_count": 104,
      "outputs": []
    },
    {
      "cell_type": "markdown",
      "metadata": {
        "id": "gY2au0_o5lbT"
      },
      "source": [
        "###1.2.3 Avaliação dos modelos"
      ]
    },
    {
      "cell_type": "markdown",
      "metadata": {
        "id": "dV6aIIn75oQO"
      },
      "source": [
        "Carga de métricas da bibliotca Scikit-Learn"
      ]
    },
    {
      "cell_type": "code",
      "metadata": {
        "id": "-nxWmw2U5oaO"
      },
      "source": [
        "from sklearn.metrics import classification_report, confusion_matrix"
      ],
      "execution_count": 105,
      "outputs": []
    },
    {
      "cell_type": "markdown",
      "metadata": {
        "id": "X3mEhX9pPN1j"
      },
      "source": [
        "####Avaliação do modelo ***Gaussian Naive Bayes***\n",
        "\n",
        "Com o modelo treinado na seção anterior, realizamos a seguir a predição das classes: $y=1$: Aprovado ou $y=0$: Reprovado"
      ]
    },
    {
      "cell_type": "code",
      "metadata": {
        "colab": {
          "base_uri": "https://localhost:8080/"
        },
        "id": "Jco2WB1aEOMj",
        "outputId": "65e4fff2-b5aa-414c-ace7-91aec117c798"
      },
      "source": [
        "#Predição com modelo Gaussian Naive Bayes\n",
        "gnb_pred = gnb_clf.predict(X_test)\n",
        "gnb_pred"
      ],
      "execution_count": 106,
      "outputs": [
        {
          "output_type": "execute_result",
          "data": {
            "text/plain": [
              "array([0, 0, 0, 0, 0, 0, 0, 1, 1, 0, 1, 1, 1, 0, 1, 1, 1, 0, 1, 1])"
            ]
          },
          "metadata": {
            "tags": []
          },
          "execution_count": 106
        }
      ]
    },
    {
      "cell_type": "markdown",
      "metadata": {
        "id": "Pjm3pZScPoAD"
      },
      "source": [
        "Como pode ser visto na matriz de confusão. Os resultados predominantes estão são de verdadeiros positivos (9 ocorrências) e verdadeiros negativos (7 ocorrências). A visualização do mapa de calor da matriz de confusão, facilita esta análise, pela apresentação de concentração de cores mais escuras (maior densidade de valores) nos quadrantes correspondentes ao encontro entre a classe real e a classe prevista. Contudo, ainda há ocorrências em proporção relevante para o tamanho do conjunto de dados classificados como falsos positivos ou falsos negativos."
      ]
    },
    {
      "cell_type": "code",
      "metadata": {
        "id": "1sV1joRaEymH"
      },
      "source": [
        "#Apresentação da Matriz de Confusão do Modelo\n",
        "modelo_title = 'Gaussian Naive Bayes'\n",
        "cm = confusion_matrix(y_test, gnb_pred)"
      ],
      "execution_count": 107,
      "outputs": []
    },
    {
      "cell_type": "code",
      "metadata": {
        "colab": {
          "base_uri": "https://localhost:8080/"
        },
        "id": "216_A487MExX",
        "outputId": "4d39a117-064b-4834-d7e8-07a9ebd332f9"
      },
      "source": [
        "tn, fp, fn, tp = cm.ravel()\n",
        "print(f'Matriz de Confusão:\\nTN: {tn} | FP: {fp}\\n--------------\\nFN: {fn} | TP: {tp}')"
      ],
      "execution_count": 108,
      "outputs": [
        {
          "output_type": "stream",
          "text": [
            "Matriz de Confusão:\n",
            "TN: 7 | FP: 1\n",
            "--------------\n",
            "FN: 3 | TP: 9\n"
          ],
          "name": "stdout"
        }
      ]
    },
    {
      "cell_type": "code",
      "metadata": {
        "colab": {
          "base_uri": "https://localhost:8080/"
        },
        "id": "Sqjl1AMH5VM5",
        "outputId": "1fef1a70-242f-4659-af36-254dfa582338"
      },
      "source": [
        "#Reorganização da matriz confusão para \n",
        "cm_reorganizada = np.array([[tp, fn], [fp, tn]])\n",
        "cm_reorganizada"
      ],
      "execution_count": 109,
      "outputs": [
        {
          "output_type": "execute_result",
          "data": {
            "text/plain": [
              "array([[9, 3],\n",
              "       [1, 7]])"
            ]
          },
          "metadata": {
            "tags": []
          },
          "execution_count": 109
        }
      ]
    },
    {
      "cell_type": "code",
      "metadata": {
        "colab": {
          "base_uri": "https://localhost:8080/"
        },
        "id": "wKbqOjvL5tYh",
        "outputId": "7d2107ba-7f51-4d14-e0ed-a5b14780194e"
      },
      "source": [
        "cm_reorganizada.shape"
      ],
      "execution_count": 110,
      "outputs": [
        {
          "output_type": "execute_result",
          "data": {
            "text/plain": [
              "(2, 2)"
            ]
          },
          "metadata": {
            "tags": []
          },
          "execution_count": 110
        }
      ]
    },
    {
      "cell_type": "code",
      "metadata": {
        "colab": {
          "base_uri": "https://localhost:8080/",
          "height": 0
        },
        "id": "mVT7fXUZFR1n",
        "outputId": "0e7fe8c9-74dd-4171-8f12-189e2aa9754b"
      },
      "source": [
        "#Visualização Gráfica da Matriz de Confusão\n",
        "fig = plt.figure(figsize=(10,8))\n",
        "fig.suptitle('Matriz de Confusão', fontsize=14, fontweight='bold')\n",
        "\n",
        "sns.heatmap(cm_reorganizada, cmap='Blues', annot=True)\n",
        "\n",
        "plt.title(modelo_title, fontsize=14)\n",
        "plt.xlabel('Predição', fontsize=12)\n",
        "plt.ylabel('Referência', fontsize=12)\n",
        "\n",
        "plt.xticks([])\n",
        "plt.yticks([])\n",
        "\n",
        "plt.annotate('TP', (0.3,0.5), fontweight='bold')\n",
        "plt.annotate('FN', (1.3,0.5), fontweight='bold')\n",
        "plt.annotate('FP', (0.3,1.5), fontweight='bold')\n",
        "plt.annotate('TN', (1.3,1.5), fontweight='bold')\n",
        "\n",
        "plt.savefig('target/plot1.2.3.1.png')"
      ],
      "execution_count": 111,
      "outputs": [
        {
          "output_type": "display_data",
          "data": {
            "image/png": "[encoded data removed]",
            "text/plain": [
              "<Figure size 720x576 with 2 Axes>"
            ]
          },
          "metadata": {
            "tags": [],
            "needs_background": "light"
          }
        }
      ]
    },
    {
      "cell_type": "markdown",
      "metadata": {
        "id": "kjkpQVaAVGkM"
      },
      "source": [
        "A seguir é apresentado um relatório da classificação com métricas relevantes para o aprofundamento na avaliação do resultado das predições do modelo."
      ]
    },
    {
      "cell_type": "code",
      "metadata": {
        "colab": {
          "base_uri": "https://localhost:8080/"
        },
        "id": "B7JzCTM6Eg25",
        "outputId": "9441ba9d-65e5-4742-bfd0-64ee30c577a7"
      },
      "source": [
        "#Relatório da classificação\n",
        "print(classification_report(y_test, gnb_pred))"
      ],
      "execution_count": 112,
      "outputs": [
        {
          "output_type": "stream",
          "text": [
            "              precision    recall  f1-score   support\n",
            "\n",
            "           0       0.70      0.88      0.78         8\n",
            "           1       0.90      0.75      0.82        12\n",
            "\n",
            "    accuracy                           0.80        20\n",
            "   macro avg       0.80      0.81      0.80        20\n",
            "weighted avg       0.82      0.80      0.80        20\n",
            "\n"
          ],
          "name": "stdout"
        }
      ]
    },
    {
      "cell_type": "markdown",
      "metadata": {
        "id": "2bJTyt-MVsWz"
      },
      "source": [
        "####Avaliação do modelo ***Regressão Logística***"
      ]
    },
    {
      "cell_type": "code",
      "metadata": {
        "colab": {
          "base_uri": "https://localhost:8080/"
        },
        "id": "SYUImOG9VseI",
        "outputId": "17f67bad-850a-4284-a575-e2540181f405"
      },
      "source": [
        "#Predição com modelo Regressão Logística\n",
        "log_reg_pred = log_reg.predict(X_test)\n",
        "log_reg_pred"
      ],
      "execution_count": 113,
      "outputs": [
        {
          "output_type": "execute_result",
          "data": {
            "text/plain": [
              "array([0, 0, 0, 0, 0, 0, 0, 1, 1, 0, 1, 1, 1, 0, 1, 1, 1, 0, 1, 1])"
            ]
          },
          "metadata": {
            "tags": []
          },
          "execution_count": 113
        }
      ]
    },
    {
      "cell_type": "code",
      "metadata": {
        "id": "tS1h3Kn-Weqf"
      },
      "source": [
        "#Apresentação da Matriz de Confusão do Modelo\n",
        "modelo_title = 'Regressão Logística'\n",
        "cm = confusion_matrix(y_test, log_reg_pred)"
      ],
      "execution_count": 114,
      "outputs": []
    },
    {
      "cell_type": "code",
      "metadata": {
        "colab": {
          "base_uri": "https://localhost:8080/"
        },
        "id": "7b23nvgLWups",
        "outputId": "25806313-5c0a-4216-a997-57057b81d1be"
      },
      "source": [
        "tn, fp, fn, tp = cm.ravel()\n",
        "print(f'Matriz de Confusão:\\nTN: {tn} | FP: {fp}\\n--------------\\nFN: {fn} | TP: {tp}')"
      ],
      "execution_count": 115,
      "outputs": [
        {
          "output_type": "stream",
          "text": [
            "Matriz de Confusão:\n",
            "TN: 7 | FP: 1\n",
            "--------------\n",
            "FN: 3 | TP: 9\n"
          ],
          "name": "stdout"
        }
      ]
    },
    {
      "cell_type": "code",
      "metadata": {
        "colab": {
          "base_uri": "https://localhost:8080/",
          "height": 0
        },
        "id": "8pDrBTCyWxw5",
        "outputId": "fc40b821-8876-42bd-a350-7382571532ff"
      },
      "source": [
        "#Reorganização da matriz confusão para \n",
        "cm_reorganizada = np.array([[tp, fn], [fp, tn]])\n",
        "\n",
        "#Visualização Gráfica da Matriz de Confusão\n",
        "fig = plt.figure(figsize=(10,8))\n",
        "fig.suptitle('Matriz de Confusão', fontsize=14, fontweight='bold')\n",
        "\n",
        "sns.heatmap(cm_reorganizada, cmap='Blues', annot=True)\n",
        "\n",
        "plt.title(modelo_title, fontsize=14)\n",
        "plt.xlabel('Predição', fontsize=12)\n",
        "plt.ylabel('Referência', fontsize=12)\n",
        "\n",
        "plt.xticks([])\n",
        "plt.yticks([])\n",
        "\n",
        "plt.annotate('TP', (0.3,0.5), fontweight='bold')\n",
        "plt.annotate('FN', (1.3,0.5), fontweight='bold')\n",
        "plt.annotate('FP', (0.3,1.5), fontweight='bold')\n",
        "plt.annotate('TN', (1.3,1.5), fontweight='bold')\n",
        "\n",
        "plt.savefig('target/plot1.2.3.2.png')"
      ],
      "execution_count": 116,
      "outputs": [
        {
          "output_type": "display_data",
          "data": {
            "image/png": "[encoded data removed]",
            "text/plain": [
              "<Figure size 720x576 with 2 Axes>"
            ]
          },
          "metadata": {
            "tags": [],
            "needs_background": "light"
          }
        }
      ]
    },
    {
      "cell_type": "code",
      "metadata": {
        "colab": {
          "base_uri": "https://localhost:8080/"
        },
        "id": "nZEjAYVcW3cO",
        "outputId": "fd579b3a-d006-4281-9c35-a342b99212d8"
      },
      "source": [
        "#Relatório da classificação\n",
        "print(classification_report(y_test, log_reg_pred))"
      ],
      "execution_count": 117,
      "outputs": [
        {
          "output_type": "stream",
          "text": [
            "              precision    recall  f1-score   support\n",
            "\n",
            "           0       0.70      0.88      0.78         8\n",
            "           1       0.90      0.75      0.82        12\n",
            "\n",
            "    accuracy                           0.80        20\n",
            "   macro avg       0.80      0.81      0.80        20\n",
            "weighted avg       0.82      0.80      0.80        20\n",
            "\n"
          ],
          "name": "stdout"
        }
      ]
    },
    {
      "cell_type": "markdown",
      "metadata": {
        "id": "6Fbq0WnZV0tB"
      },
      "source": [
        "####Avaliação do modelo ***k-NN***"
      ]
    },
    {
      "cell_type": "code",
      "metadata": {
        "colab": {
          "base_uri": "https://localhost:8080/"
        },
        "id": "DHRFvLbmV02V",
        "outputId": "4f430973-dfe9-41e8-f68b-bb480ac7f468"
      },
      "source": [
        "#Predição com modelo k-NN\n",
        "knn_clf_pred = knn_clf.predict(X_test)\n",
        "knn_clf_pred"
      ],
      "execution_count": 118,
      "outputs": [
        {
          "output_type": "execute_result",
          "data": {
            "text/plain": [
              "array([0, 0, 0, 0, 0, 0, 0, 1, 1, 0, 1, 1, 1, 0, 1, 1, 1, 1, 1, 1])"
            ]
          },
          "metadata": {
            "tags": []
          },
          "execution_count": 118
        }
      ]
    },
    {
      "cell_type": "code",
      "metadata": {
        "id": "7n9yLGJ6XJge"
      },
      "source": [
        "#Apresentação da Matriz de Confusão do Modelo\n",
        "modelo_title = 'k-NN'\n",
        "cm = confusion_matrix(y_test, knn_clf_pred)"
      ],
      "execution_count": 119,
      "outputs": []
    },
    {
      "cell_type": "code",
      "metadata": {
        "colab": {
          "base_uri": "https://localhost:8080/"
        },
        "id": "uwfxyPcFXN_V",
        "outputId": "546e41c4-12fe-4528-f729-9d97c58d53e9"
      },
      "source": [
        "tn, fp, fn, tp = cm.ravel()\n",
        "print(f'Matriz de Confusão:\\nTN: {tn} | FP: {fp}\\n--------------\\nFN: {fn} | TP: {tp}')"
      ],
      "execution_count": 120,
      "outputs": [
        {
          "output_type": "stream",
          "text": [
            "Matriz de Confusão:\n",
            "TN: 7 | FP: 1\n",
            "--------------\n",
            "FN: 2 | TP: 10\n"
          ],
          "name": "stdout"
        }
      ]
    },
    {
      "cell_type": "code",
      "metadata": {
        "colab": {
          "base_uri": "https://localhost:8080/",
          "height": 0
        },
        "id": "jZAknB2GXSwC",
        "outputId": "5d0937ad-2fbb-43c2-db45-02ace310f7ee"
      },
      "source": [
        "#Reorganização da matriz confusão para \n",
        "cm_reorganizada = np.array([[tp, fn], [fp, tn]])\n",
        "\n",
        "#Visualização Gráfica da Matriz de Confusão\n",
        "fig = plt.figure(figsize=(10,8))\n",
        "fig.suptitle('Matriz de Confusão', fontsize=14, fontweight='bold')\n",
        "\n",
        "sns.heatmap(cm_reorganizada, cmap='Blues', annot=True)\n",
        "\n",
        "plt.title(modelo_title, fontsize=14)\n",
        "plt.xlabel('Predição', fontsize=12)\n",
        "plt.ylabel('Referência', fontsize=12)\n",
        "\n",
        "plt.xticks([])\n",
        "plt.yticks([])\n",
        "\n",
        "plt.annotate('TP', (0.3,0.5), fontweight='bold')\n",
        "plt.annotate('FN', (1.3,0.5), fontweight='bold')\n",
        "plt.annotate('FP', (0.3,1.5), fontweight='bold')\n",
        "plt.annotate('TN', (1.3,1.5), fontweight='bold')\n",
        "\n",
        "plt.savefig('target/plot1.2.3.3.png')"
      ],
      "execution_count": 121,
      "outputs": [
        {
          "output_type": "display_data",
          "data": {
            "image/png": "[encoded data removed]",
            "text/plain": [
              "<Figure size 720x576 with 2 Axes>"
            ]
          },
          "metadata": {
            "tags": [],
            "needs_background": "light"
          }
        }
      ]
    },
    {
      "cell_type": "code",
      "metadata": {
        "colab": {
          "base_uri": "https://localhost:8080/"
        },
        "id": "dlrhtcSJXTOu",
        "outputId": "37f2a3f8-def2-42a6-8019-877b80bbafe7"
      },
      "source": [
        "#Relatório da classificação\n",
        "print(classification_report(y_test, knn_clf_pred))"
      ],
      "execution_count": 122,
      "outputs": [
        {
          "output_type": "stream",
          "text": [
            "              precision    recall  f1-score   support\n",
            "\n",
            "           0       0.78      0.88      0.82         8\n",
            "           1       0.91      0.83      0.87        12\n",
            "\n",
            "    accuracy                           0.85        20\n",
            "   macro avg       0.84      0.85      0.85        20\n",
            "weighted avg       0.86      0.85      0.85        20\n",
            "\n"
          ],
          "name": "stdout"
        }
      ]
    },
    {
      "cell_type": "markdown",
      "metadata": {
        "id": "l9wT6Ea5WG9Q"
      },
      "source": [
        "####Avaliação do modelo ***Decision Tree***"
      ]
    },
    {
      "cell_type": "code",
      "metadata": {
        "colab": {
          "base_uri": "https://localhost:8080/"
        },
        "id": "HARNHcVaWHFw",
        "outputId": "2d1800d3-4a92-4719-c753-283be2ad729d"
      },
      "source": [
        "#Predição com modelo Decision Tree\n",
        "dtree_pred = dtree_clf.predict(X_test)\n",
        "dtree_pred"
      ],
      "execution_count": 123,
      "outputs": [
        {
          "output_type": "execute_result",
          "data": {
            "text/plain": [
              "array([0, 0, 0, 1, 0, 0, 0, 1, 0, 0, 1, 1, 1, 0, 1, 1, 1, 0, 1, 1])"
            ]
          },
          "metadata": {
            "tags": []
          },
          "execution_count": 123
        }
      ]
    },
    {
      "cell_type": "code",
      "metadata": {
        "id": "1bIoLvPxXdHP"
      },
      "source": [
        "#Apresentação da Matriz de Confusão do Modelo\n",
        "modelo_title = 'Decision Tree'\n",
        "cm = confusion_matrix(y_test, dtree_pred)"
      ],
      "execution_count": 124,
      "outputs": []
    },
    {
      "cell_type": "code",
      "metadata": {
        "colab": {
          "base_uri": "https://localhost:8080/"
        },
        "id": "pLJ3UWrc2ZJK",
        "outputId": "e388813b-ef16-4dc9-e06d-d38bd6165f0c"
      },
      "source": [
        "cm"
      ],
      "execution_count": 125,
      "outputs": [
        {
          "output_type": "execute_result",
          "data": {
            "text/plain": [
              "array([[7, 1],\n",
              "       [3, 9]])"
            ]
          },
          "metadata": {
            "tags": []
          },
          "execution_count": 125
        }
      ]
    },
    {
      "cell_type": "code",
      "metadata": {
        "colab": {
          "base_uri": "https://localhost:8080/"
        },
        "id": "ORnNxWbM2kZq",
        "outputId": "8bae6b67-b14d-45e0-cabb-a5e136f4dc62"
      },
      "source": [
        "cm.shape"
      ],
      "execution_count": 126,
      "outputs": [
        {
          "output_type": "execute_result",
          "data": {
            "text/plain": [
              "(2, 2)"
            ]
          },
          "metadata": {
            "tags": []
          },
          "execution_count": 126
        }
      ]
    },
    {
      "cell_type": "code",
      "metadata": {
        "colab": {
          "base_uri": "https://localhost:8080/"
        },
        "id": "_ZW8v2tHXkzY",
        "outputId": "316adb93-4b44-4d87-ff58-d2c66c60f001"
      },
      "source": [
        "tn, fp, fn, tp = cm.ravel()\n",
        "print(f'Matriz de Confusão:\\nTN: {tn} | FP: {fp}\\n--------------\\nFN: {fn} | TP: {tp}')"
      ],
      "execution_count": 127,
      "outputs": [
        {
          "output_type": "stream",
          "text": [
            "Matriz de Confusão:\n",
            "TN: 7 | FP: 1\n",
            "--------------\n",
            "FN: 3 | TP: 9\n"
          ],
          "name": "stdout"
        }
      ]
    },
    {
      "cell_type": "code",
      "metadata": {
        "colab": {
          "base_uri": "https://localhost:8080/",
          "height": 0
        },
        "id": "v4tuNF3AXnLi",
        "outputId": "967c21b3-f592-481a-e9e0-5455587e0dfa"
      },
      "source": [
        "#Reorganização da matriz confusão para \n",
        "cm_reorganizada = np.array([[tp, fn], [fp, tn]])\n",
        "\n",
        "#Visualização Gráfica da Matriz de Confusão\n",
        "fig = plt.figure(figsize=(10,8))\n",
        "fig.suptitle('Matriz de Confusão', fontsize=14, fontweight='bold')\n",
        "\n",
        "sns.heatmap(cm_reorganizada, cmap='Blues', annot=True)\n",
        "\n",
        "plt.title(modelo_title, fontsize=14)\n",
        "plt.xlabel('Predição', fontsize=12)\n",
        "plt.ylabel('Referência', fontsize=12)\n",
        "\n",
        "plt.xticks([])\n",
        "plt.yticks([])\n",
        "\n",
        "plt.annotate('TP', (0.3,0.5), fontweight='bold')\n",
        "plt.annotate('FN', (1.3,0.5), fontweight='bold')\n",
        "plt.annotate('FP', (0.3,1.5), fontweight='bold')\n",
        "plt.annotate('TN', (1.3,1.5), fontweight='bold')\n",
        "\n",
        "plt.savefig('target/plot1.2.3.4.png')"
      ],
      "execution_count": 128,
      "outputs": [
        {
          "output_type": "display_data",
          "data": {
            "image/png": "[encoded data removed]",
            "text/plain": [
              "<Figure size 720x576 with 2 Axes>"
            ]
          },
          "metadata": {
            "tags": [],
            "needs_background": "light"
          }
        }
      ]
    },
    {
      "cell_type": "code",
      "metadata": {
        "colab": {
          "base_uri": "https://localhost:8080/"
        },
        "id": "g7o_IgAVXt2D",
        "outputId": "f9181c63-041e-4340-be93-49f2e59812a2"
      },
      "source": [
        "#Relatório da classificação\n",
        "print(classification_report(y_test, dtree_pred))"
      ],
      "execution_count": 129,
      "outputs": [
        {
          "output_type": "stream",
          "text": [
            "              precision    recall  f1-score   support\n",
            "\n",
            "           0       0.70      0.88      0.78         8\n",
            "           1       0.90      0.75      0.82        12\n",
            "\n",
            "    accuracy                           0.80        20\n",
            "   macro avg       0.80      0.81      0.80        20\n",
            "weighted avg       0.82      0.80      0.80        20\n",
            "\n"
          ],
          "name": "stdout"
        }
      ]
    },
    {
      "cell_type": "markdown",
      "metadata": {
        "id": "MBaar8gE5rdc"
      },
      "source": [
        "###1.2.4 Mapeamento de características"
      ]
    },
    {
      "cell_type": "markdown",
      "metadata": {
        "id": "qjb_IMfZ5xrL"
      },
      "source": [
        "A fim de analisarmos possibilidades de melhoria no modelo de ***Regressão Logística***, experimentaremos a seguir a realização do mapeamento de características. Para isso, será realizada a criação de novas características a partir de polinômios criados com base nos valores originais de $X$ em um espaço dimensional maior."
      ]
    },
    {
      "cell_type": "code",
      "metadata": {
        "id": "-W6QIIJ_38sq"
      },
      "source": [
        "#Biblioteca para geração de características polinomiais\n",
        "from sklearn.preprocessing import PolynomialFeatures"
      ],
      "execution_count": 130,
      "outputs": []
    },
    {
      "cell_type": "code",
      "metadata": {
        "id": "y2FVgVtw4GXG"
      },
      "source": [
        "#Cria objeto para mapeamento de características\n",
        "grau = 6\n",
        "poly = PolynomialFeatures(grau)"
      ],
      "execution_count": 131,
      "outputs": []
    },
    {
      "cell_type": "code",
      "metadata": {
        "id": "AyW5RJgb5iUv"
      },
      "source": [
        "#Aplicação da transformação no conjunto de dados estudado\n",
        "X_poly = poly.fit_transform(X)\n"
      ],
      "execution_count": 132,
      "outputs": []
    },
    {
      "cell_type": "markdown",
      "metadata": {
        "id": "tXyZJW_Cep34"
      },
      "source": [
        "Como pode ser visto nas saídas abaixo o conjunto de dados originais que tinha dimensão $100x2$ agora é representado pelas características mapeadas com dimensão $100x28$, ou seja, cada exemplo representa um vetor com 28 dimens~]oes."
      ]
    },
    {
      "cell_type": "code",
      "metadata": {
        "colab": {
          "base_uri": "https://localhost:8080/"
        },
        "id": "KVFYkcqA6Ped",
        "outputId": "881ceacf-5017-4291-d173-a2e6450f6e3a"
      },
      "source": [
        "print('Dimensões dos conjuntos de dados')\n",
        "print('-'*40)\n",
        "print(f'Características originais: {X.shape}\\nCaracterísticas mapeadas:  {X_poly.shape}')"
      ],
      "execution_count": 133,
      "outputs": [
        {
          "output_type": "stream",
          "text": [
            "Dimensões dos conjuntos de dados\n",
            "----------------------------------------\n",
            "Características originais: (100, 2)\n",
            "Características mapeadas:  (100, 28)\n"
          ],
          "name": "stdout"
        }
      ]
    },
    {
      "cell_type": "markdown",
      "metadata": {
        "id": "IIKimWV8fx5U"
      },
      "source": [
        "A listagem a seguir, por sua vez, exibe o primeiro registro dos dados originais e dos valores mapeados."
      ]
    },
    {
      "cell_type": "code",
      "metadata": {
        "colab": {
          "base_uri": "https://localhost:8080/"
        },
        "id": "x3TPRAZSf6gB",
        "outputId": "18289d7f-1ccb-44e6-9efe-a5632bb7518b"
      },
      "source": [
        "#Conferindo os valores originais (primeiros registros)\n",
        "X[:1]"
      ],
      "execution_count": 134,
      "outputs": [
        {
          "output_type": "execute_result",
          "data": {
            "text/plain": [
              "array([[34.62365962, 78.02469282]])"
            ]
          },
          "metadata": {
            "tags": []
          },
          "execution_count": 134
        }
      ]
    },
    {
      "cell_type": "code",
      "metadata": {
        "colab": {
          "base_uri": "https://localhost:8080/"
        },
        "id": "Or3E-uQufuB1",
        "outputId": "52d066ae-d919-40d2-d0d4-6c213725395c"
      },
      "source": [
        "#Conferindo os valores mapeados (primeiros registros)\n",
        "X_poly[:1]"
      ],
      "execution_count": 135,
      "outputs": [
        {
          "output_type": "execute_result",
          "data": {
            "text/plain": [
              "array([[1.00000000e+00, 3.46236596e+01, 7.80246928e+01, 1.19879781e+03,\n",
              "        2.70150041e+03, 6.08785269e+03, 4.15067672e+04, 9.35358305e+04,\n",
              "        2.10783739e+05, 4.75002836e+05, 1.43711618e+06, 3.23855276e+06,\n",
              "        7.29810445e+06, 1.64463365e+07, 3.70619504e+07, 4.97582214e+07,\n",
              "        1.12130548e+08, 2.52687084e+08, 5.69432357e+08, 1.28322035e+09,\n",
              "        2.89174729e+09, 1.72281172e+09, 3.88236994e+09, 8.74895160e+09,\n",
              "        1.97158321e+10, 4.44297848e+10, 1.00122874e+11, 2.25627694e+11]])"
            ]
          },
          "metadata": {
            "tags": []
          },
          "execution_count": 135
        }
      ]
    },
    {
      "cell_type": "markdown",
      "metadata": {
        "id": "kdc7zON8rI2v"
      },
      "source": [
        "Separação do conjunto de treinamento e testes"
      ]
    },
    {
      "cell_type": "code",
      "metadata": {
        "id": "Aoc91LPgrIQi"
      },
      "source": [
        "#Divisão dos valores em treino e teste\n",
        "#OBSERVAÇÃO: random_state está sendo usado para reprodutibilidade dos resultados\n",
        "Xp_train, Xp_test, yp_train, yp_test = train_test_split(X_poly, y, \n",
        "                                                    test_size=0.2, \n",
        "                                                    random_state=42)"
      ],
      "execution_count": 136,
      "outputs": []
    },
    {
      "cell_type": "markdown",
      "metadata": {
        "id": "P_oEw3BKgdjf"
      },
      "source": [
        "* Criação de um novo modelo de ***Regressão Logística*** baseada nas características mapeadas."
      ]
    },
    {
      "cell_type": "code",
      "metadata": {
        "id": "DfYBURsugmQS"
      },
      "source": [
        "#Criação do modelo base para sintonização de parâmetros\n",
        "reg_log_poly_tun = LogisticRegression()"
      ],
      "execution_count": 137,
      "outputs": []
    },
    {
      "cell_type": "code",
      "metadata": {
        "colab": {
          "base_uri": "https://localhost:8080/"
        },
        "id": "oKlkGvyvg4D0",
        "outputId": "62fa8f83-ff72-404a-efaa-78e87d3d0db2"
      },
      "source": [
        "#Definição dos valores de parâmetros para teste\n",
        "param = {'penalty': ['l1', 'l2', 'none'],\n",
        "         'solver': ['newton-cg', 'lbfgs', 'liblinear', 'sag', 'saga'],\n",
        "         'max_iter': [100, 150, 200]\n",
        "         }\n",
        "\n",
        "folds = 5 #Quantidade de camadas para validação cruzada\n",
        "iter = 20 #Quantidade de iterações do random search\n",
        "\n",
        "#Seleção do modelo\n",
        "randomGrd_search = RandomizedSearchCV(reg_log_poly_tun,\n",
        "                                      param,\n",
        "                                      n_iter=iter,\n",
        "                                      cv=folds,\n",
        "                                      scoring='neg_mean_squared_error'\n",
        "                                      )\n",
        "\n",
        "\n",
        "#Execução do tuning\n",
        "randomGrd_search.fit(Xp_train, yp_train.ravel())"
      ],
      "execution_count": 138,
      "outputs": [
        {
          "output_type": "stream",
          "text": [
            "/usr/local/lib/python3.7/dist-packages/sklearn/linear_model/_sag.py:330: ConvergenceWarning: The max_iter was reached which means the coef_ did not converge\n",
            "  \"the coef_ did not converge\", ConvergenceWarning)\n",
            "/usr/local/lib/python3.7/dist-packages/sklearn/linear_model/_sag.py:330: ConvergenceWarning: The max_iter was reached which means the coef_ did not converge\n",
            "  \"the coef_ did not converge\", ConvergenceWarning)\n",
            "/usr/local/lib/python3.7/dist-packages/sklearn/linear_model/_sag.py:330: ConvergenceWarning: The max_iter was reached which means the coef_ did not converge\n",
            "  \"the coef_ did not converge\", ConvergenceWarning)\n",
            "/usr/local/lib/python3.7/dist-packages/sklearn/linear_model/_sag.py:330: ConvergenceWarning: The max_iter was reached which means the coef_ did not converge\n",
            "  \"the coef_ did not converge\", ConvergenceWarning)\n",
            "/usr/local/lib/python3.7/dist-packages/sklearn/linear_model/_sag.py:330: ConvergenceWarning: The max_iter was reached which means the coef_ did not converge\n",
            "  \"the coef_ did not converge\", ConvergenceWarning)\n",
            "/usr/local/lib/python3.7/dist-packages/sklearn/model_selection/_validation.py:536: FitFailedWarning: Estimator fit failed. The score on this train-test partition for these parameters will be set to nan. Details: \n",
            "ValueError: Solver newton-cg supports only 'l2' or 'none' penalties, got l1 penalty.\n",
            "\n",
            "  FitFailedWarning)\n",
            "/usr/local/lib/python3.7/dist-packages/sklearn/linear_model/_sag.py:330: ConvergenceWarning: The max_iter was reached which means the coef_ did not converge\n",
            "  \"the coef_ did not converge\", ConvergenceWarning)\n",
            "/usr/local/lib/python3.7/dist-packages/sklearn/linear_model/_sag.py:330: ConvergenceWarning: The max_iter was reached which means the coef_ did not converge\n",
            "  \"the coef_ did not converge\", ConvergenceWarning)\n",
            "/usr/local/lib/python3.7/dist-packages/sklearn/linear_model/_sag.py:330: ConvergenceWarning: The max_iter was reached which means the coef_ did not converge\n",
            "  \"the coef_ did not converge\", ConvergenceWarning)\n",
            "/usr/local/lib/python3.7/dist-packages/sklearn/linear_model/_sag.py:330: ConvergenceWarning: The max_iter was reached which means the coef_ did not converge\n",
            "  \"the coef_ did not converge\", ConvergenceWarning)\n",
            "/usr/local/lib/python3.7/dist-packages/sklearn/linear_model/_sag.py:330: ConvergenceWarning: The max_iter was reached which means the coef_ did not converge\n",
            "  \"the coef_ did not converge\", ConvergenceWarning)\n",
            "/usr/local/lib/python3.7/dist-packages/sklearn/svm/_base.py:947: ConvergenceWarning: Liblinear failed to converge, increase the number of iterations.\n",
            "  \"the number of iterations.\", ConvergenceWarning)\n",
            "/usr/local/lib/python3.7/dist-packages/sklearn/svm/_base.py:947: ConvergenceWarning: Liblinear failed to converge, increase the number of iterations.\n",
            "  \"the number of iterations.\", ConvergenceWarning)\n",
            "/usr/local/lib/python3.7/dist-packages/sklearn/svm/_base.py:947: ConvergenceWarning: Liblinear failed to converge, increase the number of iterations.\n",
            "  \"the number of iterations.\", ConvergenceWarning)\n",
            "/usr/local/lib/python3.7/dist-packages/sklearn/linear_model/_sag.py:330: ConvergenceWarning: The max_iter was reached which means the coef_ did not converge\n",
            "  \"the coef_ did not converge\", ConvergenceWarning)\n",
            "/usr/local/lib/python3.7/dist-packages/sklearn/linear_model/_sag.py:330: ConvergenceWarning: The max_iter was reached which means the coef_ did not converge\n",
            "  \"the coef_ did not converge\", ConvergenceWarning)\n",
            "/usr/local/lib/python3.7/dist-packages/sklearn/linear_model/_sag.py:330: ConvergenceWarning: The max_iter was reached which means the coef_ did not converge\n",
            "  \"the coef_ did not converge\", ConvergenceWarning)\n",
            "/usr/local/lib/python3.7/dist-packages/sklearn/linear_model/_sag.py:330: ConvergenceWarning: The max_iter was reached which means the coef_ did not converge\n",
            "  \"the coef_ did not converge\", ConvergenceWarning)\n",
            "/usr/local/lib/python3.7/dist-packages/sklearn/linear_model/_sag.py:330: ConvergenceWarning: The max_iter was reached which means the coef_ did not converge\n",
            "  \"the coef_ did not converge\", ConvergenceWarning)\n",
            "/usr/local/lib/python3.7/dist-packages/sklearn/model_selection/_validation.py:536: FitFailedWarning: Estimator fit failed. The score on this train-test partition for these parameters will be set to nan. Details: \n",
            "ValueError: Solver newton-cg supports only 'l2' or 'none' penalties, got l1 penalty.\n",
            "\n",
            "  FitFailedWarning)\n",
            "/usr/local/lib/python3.7/dist-packages/sklearn/linear_model/_sag.py:330: ConvergenceWarning: The max_iter was reached which means the coef_ did not converge\n",
            "  \"the coef_ did not converge\", ConvergenceWarning)\n",
            "/usr/local/lib/python3.7/dist-packages/sklearn/linear_model/_sag.py:330: ConvergenceWarning: The max_iter was reached which means the coef_ did not converge\n",
            "  \"the coef_ did not converge\", ConvergenceWarning)\n",
            "/usr/local/lib/python3.7/dist-packages/sklearn/linear_model/_sag.py:330: ConvergenceWarning: The max_iter was reached which means the coef_ did not converge\n",
            "  \"the coef_ did not converge\", ConvergenceWarning)\n",
            "/usr/local/lib/python3.7/dist-packages/sklearn/linear_model/_sag.py:330: ConvergenceWarning: The max_iter was reached which means the coef_ did not converge\n",
            "  \"the coef_ did not converge\", ConvergenceWarning)\n",
            "/usr/local/lib/python3.7/dist-packages/sklearn/linear_model/_sag.py:330: ConvergenceWarning: The max_iter was reached which means the coef_ did not converge\n",
            "  \"the coef_ did not converge\", ConvergenceWarning)\n",
            "/usr/local/lib/python3.7/dist-packages/sklearn/linear_model/_sag.py:330: ConvergenceWarning: The max_iter was reached which means the coef_ did not converge\n",
            "  \"the coef_ did not converge\", ConvergenceWarning)\n",
            "/usr/local/lib/python3.7/dist-packages/sklearn/linear_model/_sag.py:330: ConvergenceWarning: The max_iter was reached which means the coef_ did not converge\n",
            "  \"the coef_ did not converge\", ConvergenceWarning)\n",
            "/usr/local/lib/python3.7/dist-packages/sklearn/linear_model/_sag.py:330: ConvergenceWarning: The max_iter was reached which means the coef_ did not converge\n",
            "  \"the coef_ did not converge\", ConvergenceWarning)\n",
            "/usr/local/lib/python3.7/dist-packages/sklearn/linear_model/_sag.py:330: ConvergenceWarning: The max_iter was reached which means the coef_ did not converge\n",
            "  \"the coef_ did not converge\", ConvergenceWarning)\n",
            "/usr/local/lib/python3.7/dist-packages/sklearn/linear_model/_sag.py:330: ConvergenceWarning: The max_iter was reached which means the coef_ did not converge\n",
            "  \"the coef_ did not converge\", ConvergenceWarning)\n",
            "/usr/local/lib/python3.7/dist-packages/sklearn/linear_model/_sag.py:330: ConvergenceWarning: The max_iter was reached which means the coef_ did not converge\n",
            "  \"the coef_ did not converge\", ConvergenceWarning)\n",
            "/usr/local/lib/python3.7/dist-packages/sklearn/linear_model/_sag.py:330: ConvergenceWarning: The max_iter was reached which means the coef_ did not converge\n",
            "  \"the coef_ did not converge\", ConvergenceWarning)\n",
            "/usr/local/lib/python3.7/dist-packages/sklearn/linear_model/_sag.py:330: ConvergenceWarning: The max_iter was reached which means the coef_ did not converge\n",
            "  \"the coef_ did not converge\", ConvergenceWarning)\n",
            "/usr/local/lib/python3.7/dist-packages/sklearn/linear_model/_sag.py:330: ConvergenceWarning: The max_iter was reached which means the coef_ did not converge\n",
            "  \"the coef_ did not converge\", ConvergenceWarning)\n",
            "/usr/local/lib/python3.7/dist-packages/sklearn/linear_model/_sag.py:330: ConvergenceWarning: The max_iter was reached which means the coef_ did not converge\n",
            "  \"the coef_ did not converge\", ConvergenceWarning)\n",
            "/usr/local/lib/python3.7/dist-packages/sklearn/model_selection/_validation.py:536: FitFailedWarning: Estimator fit failed. The score on this train-test partition for these parameters will be set to nan. Details: \n",
            "ValueError: penalty='none' is not supported for the liblinear solver\n",
            "\n",
            "  FitFailedWarning)\n",
            "/usr/local/lib/python3.7/dist-packages/sklearn/utils/optimize.py:212: ConvergenceWarning: newton-cg failed to converge. Increase the number of iterations.\n",
            "  \"number of iterations.\", ConvergenceWarning)\n",
            "/usr/local/lib/python3.7/dist-packages/sklearn/utils/optimize.py:212: ConvergenceWarning: newton-cg failed to converge. Increase the number of iterations.\n",
            "  \"number of iterations.\", ConvergenceWarning)\n",
            "/usr/local/lib/python3.7/dist-packages/sklearn/utils/optimize.py:212: ConvergenceWarning: newton-cg failed to converge. Increase the number of iterations.\n",
            "  \"number of iterations.\", ConvergenceWarning)\n",
            "/usr/local/lib/python3.7/dist-packages/sklearn/linear_model/_sag.py:330: ConvergenceWarning: The max_iter was reached which means the coef_ did not converge\n",
            "  \"the coef_ did not converge\", ConvergenceWarning)\n",
            "/usr/local/lib/python3.7/dist-packages/sklearn/linear_model/_sag.py:330: ConvergenceWarning: The max_iter was reached which means the coef_ did not converge\n",
            "  \"the coef_ did not converge\", ConvergenceWarning)\n",
            "/usr/local/lib/python3.7/dist-packages/sklearn/linear_model/_sag.py:330: ConvergenceWarning: The max_iter was reached which means the coef_ did not converge\n",
            "  \"the coef_ did not converge\", ConvergenceWarning)\n",
            "/usr/local/lib/python3.7/dist-packages/sklearn/linear_model/_sag.py:330: ConvergenceWarning: The max_iter was reached which means the coef_ did not converge\n",
            "  \"the coef_ did not converge\", ConvergenceWarning)\n",
            "/usr/local/lib/python3.7/dist-packages/sklearn/linear_model/_sag.py:330: ConvergenceWarning: The max_iter was reached which means the coef_ did not converge\n",
            "  \"the coef_ did not converge\", ConvergenceWarning)\n",
            "/usr/local/lib/python3.7/dist-packages/sklearn/model_selection/_validation.py:536: FitFailedWarning: Estimator fit failed. The score on this train-test partition for these parameters will be set to nan. Details: \n",
            "ValueError: Solver newton-cg supports only 'l2' or 'none' penalties, got l1 penalty.\n",
            "\n",
            "  FitFailedWarning)\n",
            "/usr/local/lib/python3.7/dist-packages/sklearn/svm/_base.py:947: ConvergenceWarning: Liblinear failed to converge, increase the number of iterations.\n",
            "  \"the number of iterations.\", ConvergenceWarning)\n"
          ],
          "name": "stderr"
        },
        {
          "output_type": "execute_result",
          "data": {
            "text/plain": [
              "RandomizedSearchCV(cv=5, error_score=nan,\n",
              "                   estimator=LogisticRegression(C=1.0, class_weight=None,\n",
              "                                                dual=False, fit_intercept=True,\n",
              "                                                intercept_scaling=1,\n",
              "                                                l1_ratio=None, max_iter=100,\n",
              "                                                multi_class='auto', n_jobs=None,\n",
              "                                                penalty='l2', random_state=None,\n",
              "                                                solver='lbfgs', tol=0.0001,\n",
              "                                                verbose=0, warm_start=False),\n",
              "                   iid='deprecated', n_iter=20, n_jobs=None,\n",
              "                   param_distributions={'max_iter': [100, 150, 200],\n",
              "                                        'penalty': ['l1', 'l2', 'none'],\n",
              "                                        'solver': ['newton-cg', 'lbfgs',\n",
              "                                                   'liblinear', 'sag',\n",
              "                                                   'saga']},\n",
              "                   pre_dispatch='2*n_jobs', random_state=None, refit=True,\n",
              "                   return_train_score=False, scoring='neg_mean_squared_error',\n",
              "                   verbose=0)"
            ]
          },
          "metadata": {
            "tags": []
          },
          "execution_count": 138
        }
      ]
    },
    {
      "cell_type": "code",
      "metadata": {
        "colab": {
          "base_uri": "https://localhost:8080/"
        },
        "id": "0v9LdcKxhAQR",
        "outputId": "b7ff4719-7e9e-4792-a2a9-93f0acd22ccd"
      },
      "source": [
        "cvres = randomGrd_search.cv_results_\n",
        "\n",
        "for mean_score, params in zip(cvres['mean_test_score'], cvres['params']):\n",
        "    print(np.sqrt(-mean_score), params)"
      ],
      "execution_count": 139,
      "outputs": [
        {
          "output_type": "stream",
          "text": [
            "0.6123724356957945 {'solver': 'saga', 'penalty': 'l2', 'max_iter': 150}\n",
            "0.22360679774997896 {'solver': 'lbfgs', 'penalty': 'none', 'max_iter': 200}\n",
            "0.22360679774997896 {'solver': 'newton-cg', 'penalty': 'none', 'max_iter': 150}\n",
            "0.22360679774997896 {'solver': 'lbfgs', 'penalty': 'l2', 'max_iter': 100}\n",
            "0.22360679774997896 {'solver': 'newton-cg', 'penalty': 'l2', 'max_iter': 150}\n",
            "nan {'solver': 'newton-cg', 'penalty': 'l1', 'max_iter': 150}\n",
            "0.6123724356957945 {'solver': 'saga', 'penalty': 'l1', 'max_iter': 150}\n",
            "0.15811388300841897 {'solver': 'liblinear', 'penalty': 'l1', 'max_iter': 100}\n",
            "0.6123724356957945 {'solver': 'sag', 'penalty': 'l2', 'max_iter': 200}\n",
            "0.22360679774997896 {'solver': 'lbfgs', 'penalty': 'l2', 'max_iter': 200}\n",
            "nan {'solver': 'newton-cg', 'penalty': 'l1', 'max_iter': 200}\n",
            "0.6123724356957945 {'solver': 'saga', 'penalty': 'none', 'max_iter': 200}\n",
            "0.6123724356957945 {'solver': 'sag', 'penalty': 'l2', 'max_iter': 100}\n",
            "0.6123724356957945 {'solver': 'sag', 'penalty': 'none', 'max_iter': 100}\n",
            "nan {'solver': 'liblinear', 'penalty': 'none', 'max_iter': 200}\n",
            "nan {'solver': 'liblinear', 'penalty': 'none', 'max_iter': 100}\n",
            "0.22360679774997896 {'solver': 'newton-cg', 'penalty': 'none', 'max_iter': 100}\n",
            "0.6123724356957945 {'solver': 'saga', 'penalty': 'l2', 'max_iter': 100}\n",
            "0.19364916731037085 {'solver': 'liblinear', 'penalty': 'l2', 'max_iter': 100}\n",
            "nan {'solver': 'newton-cg', 'penalty': 'l1', 'max_iter': 100}\n"
          ],
          "name": "stdout"
        }
      ]
    },
    {
      "cell_type": "code",
      "metadata": {
        "colab": {
          "base_uri": "https://localhost:8080/"
        },
        "id": "EovwLkq_hEi7",
        "outputId": "8b5bde0d-ee6c-482a-84d0-ac0fb29331ae"
      },
      "source": [
        "#Exibição do modelo selecionado\n",
        "print('Parâmetros do melhor modelo:')\n",
        "randomGrd_search.best_params_"
      ],
      "execution_count": 140,
      "outputs": [
        {
          "output_type": "stream",
          "text": [
            "Parâmetros do melhor modelo:\n"
          ],
          "name": "stdout"
        },
        {
          "output_type": "execute_result",
          "data": {
            "text/plain": [
              "{'max_iter': 100, 'penalty': 'l1', 'solver': 'liblinear'}"
            ]
          },
          "metadata": {
            "tags": []
          },
          "execution_count": 140
        }
      ]
    },
    {
      "cell_type": "code",
      "metadata": {
        "id": "ZEWkyEXYhIyY"
      },
      "source": [
        "#Modelo com tuning\n",
        "reg_log_poly = randomGrd_search.best_estimator_"
      ],
      "execution_count": 141,
      "outputs": []
    },
    {
      "cell_type": "code",
      "metadata": {
        "colab": {
          "base_uri": "https://localhost:8080/"
        },
        "id": "i1Y6kQy8qqFh",
        "outputId": "1a2b941f-826f-4602-dba8-7f5a79a7917e"
      },
      "source": [
        "#Predição com modelo Regressão Logística\n",
        "y_pred_poly = reg_log_poly.predict(Xp_test)\n",
        "y_pred_poly"
      ],
      "execution_count": 142,
      "outputs": [
        {
          "output_type": "execute_result",
          "data": {
            "text/plain": [
              "array([1, 0, 0, 0, 0, 0, 0, 1, 0, 0, 1, 1, 1, 1, 1, 1, 1, 1, 1, 1])"
            ]
          },
          "metadata": {
            "tags": []
          },
          "execution_count": 142
        }
      ]
    },
    {
      "cell_type": "code",
      "metadata": {
        "id": "9lvFBGKprxcO"
      },
      "source": [
        "#Apresentação da Matriz de Confusão do Modelo\n",
        "modelo_title = 'Regressão Logística com Características Polinomiais'\n",
        "cm = confusion_matrix(y_test, y_pred_poly)\n",
        "tn, fp, fn, tp = cm.ravel()"
      ],
      "execution_count": 143,
      "outputs": []
    },
    {
      "cell_type": "code",
      "metadata": {
        "colab": {
          "base_uri": "https://localhost:8080/",
          "height": 0
        },
        "id": "G3mmHxVHsJHa",
        "outputId": "671cdb7b-66f3-4c4c-e3df-dbb70fa2a9b3"
      },
      "source": [
        "#Reorganização da matriz confusão para \n",
        "cm_reorganizada = np.array([[tp, fn], [fp, tn]])\n",
        "\n",
        "#Visualização Gráfica da Matriz de Confusão\n",
        "fig = plt.figure(figsize=(10,8))\n",
        "fig.suptitle('Matriz de Confusão', fontsize=14, fontweight='bold')\n",
        "\n",
        "sns.heatmap(cm_reorganizada, cmap='Blues', annot=True)\n",
        "\n",
        "plt.title(modelo_title, fontsize=14)\n",
        "plt.xlabel('Predição', fontsize=12)\n",
        "plt.ylabel('Referência', fontsize=12)\n",
        "\n",
        "plt.xticks([])\n",
        "plt.yticks([])\n",
        "\n",
        "plt.annotate('TP', (0.3,0.5), fontweight='bold')\n",
        "plt.annotate('FN', (1.3,0.5), fontweight='bold')\n",
        "plt.annotate('FP', (0.3,1.5), fontweight='bold')\n",
        "plt.annotate('TN', (1.3,1.5), fontweight='bold')\n",
        "\n",
        "plt.savefig('target/plot1.2.4.png')"
      ],
      "execution_count": 144,
      "outputs": [
        {
          "output_type": "display_data",
          "data": {
            "image/png": "[encoded data removed]",
            "text/plain": [
              "<Figure size 720x576 with 2 Axes>"
            ]
          },
          "metadata": {
            "tags": [],
            "needs_background": "light"
          }
        }
      ]
    },
    {
      "cell_type": "code",
      "metadata": {
        "colab": {
          "base_uri": "https://localhost:8080/"
        },
        "id": "1CUzq9FVsPIy",
        "outputId": "f355c04b-ad89-46b7-8907-ac6a3a04e2bd"
      },
      "source": [
        "#Relatório da classificação\n",
        "print(classification_report(y_test, y_pred_poly))"
      ],
      "execution_count": 145,
      "outputs": [
        {
          "output_type": "stream",
          "text": [
            "              precision    recall  f1-score   support\n",
            "\n",
            "           0       1.00      1.00      1.00         8\n",
            "           1       1.00      1.00      1.00        12\n",
            "\n",
            "    accuracy                           1.00        20\n",
            "   macro avg       1.00      1.00      1.00        20\n",
            "weighted avg       1.00      1.00      1.00        20\n",
            "\n"
          ],
          "name": "stdout"
        }
      ]
    },
    {
      "cell_type": "markdown",
      "metadata": {
        "id": "M_jW34ERsfYj"
      },
      "source": [
        "Com a combinação de mapeamento de características e sintonização de hiperparâmetros chegou-se a um modelo que acertou todas as classificações previstas nos rótulos. Isso é evidenciado pela matriz de confusão e pelo relatório de classificação apresentados nas células anteriores.\n",
        "\n",
        "---\n",
        "\n",
        "Este comportamento, apesar de aparentemente positivo, pode significar sobreajuste do modelo ao conjunto de dados e prejudicar a capacidade de generalização do modelo. Na próxima seção avaliaremos como fica a fronteira de decisão do modelo e em seguida analisar maneiras de lidar com o sobreajuste."
      ]
    },
    {
      "cell_type": "markdown",
      "metadata": {
        "id": "h3uEwVh05yHW"
      },
      "source": [
        "###1.2.5 Esboço da fronteira de decisão"
      ]
    },
    {
      "cell_type": "markdown",
      "metadata": {
        "id": "VGf5ow5ECpGz"
      },
      "source": [
        "A fronteira de decisão permite identificar no conjunto de dados as fronteiras identificadas pelo classificador treinado para separação as classes existentes.\n",
        "\n",
        "---\n",
        "\n",
        "Para relembrar os dados e identificar a probabilidade de classificação das classes, exibimos abaixo a previsão de probabilidade no conjunto de testes e em seguida exibimos as estatísticas descritivas dos dados do conjunto original."
      ]
    },
    {
      "cell_type": "code",
      "metadata": {
        "colab": {
          "base_uri": "https://localhost:8080/"
        },
        "id": "3ber6cyqodEY",
        "outputId": "e6b1941c-9350-407e-a81e-78eca046958b"
      },
      "source": [
        "#Predição com modelo Regressão Logística\n",
        "y_proba_poly = reg_log_poly.predict_proba(Xp_test)\n",
        "y_proba_poly"
      ],
      "execution_count": 146,
      "outputs": [
        {
          "output_type": "execute_result",
          "data": {
            "text/plain": [
              "array([[1.19486304e-01, 8.80513696e-01],\n",
              "       [1.00000000e+00, 4.15394930e-18],\n",
              "       [1.00000000e+00, 1.51401001e-12],\n",
              "       [8.95865459e-01, 1.04134541e-01],\n",
              "       [9.99999999e-01, 9.02309342e-10],\n",
              "       [1.00000000e+00, 1.16939977e-20],\n",
              "       [9.99999999e-01, 1.32914487e-09],\n",
              "       [0.00000000e+00, 1.00000000e+00],\n",
              "       [9.99999979e-01, 2.07690068e-08],\n",
              "       [1.00000000e+00, 7.99355895e-20],\n",
              "       [0.00000000e+00, 1.00000000e+00],\n",
              "       [0.00000000e+00, 1.00000000e+00],\n",
              "       [0.00000000e+00, 1.00000000e+00],\n",
              "       [4.82013721e-04, 9.99517986e-01],\n",
              "       [0.00000000e+00, 1.00000000e+00],\n",
              "       [0.00000000e+00, 1.00000000e+00],\n",
              "       [0.00000000e+00, 1.00000000e+00],\n",
              "       [1.16305533e-08, 9.99999988e-01],\n",
              "       [0.00000000e+00, 1.00000000e+00],\n",
              "       [0.00000000e+00, 1.00000000e+00]])"
            ]
          },
          "metadata": {
            "tags": []
          },
          "execution_count": 146
        }
      ]
    },
    {
      "cell_type": "code",
      "metadata": {
        "colab": {
          "base_uri": "https://localhost:8080/",
          "height": 0
        },
        "id": "I7Exa2FzDT-U",
        "outputId": "36e51a26-4c05-4084-a39c-83c313a2ec3d"
      },
      "source": [
        "dados.describe()"
      ],
      "execution_count": 147,
      "outputs": [
        {
          "output_type": "execute_result",
          "data": {
            "text/html": [
              "<div>\n",
              "<style scoped>\n",
              "    .dataframe tbody tr th:only-of-type {\n",
              "        vertical-align: middle;\n",
              "    }\n",
              "\n",
              "    .dataframe tbody tr th {\n",
              "        vertical-align: top;\n",
              "    }\n",
              "\n",
              "    .dataframe thead th {\n",
              "        text-align: right;\n",
              "    }\n",
              "</style>\n",
              "<table border=\"1\" class=\"dataframe\">\n",
              "  <thead>\n",
              "    <tr style=\"text-align: right;\">\n",
              "      <th></th>\n",
              "      <th>Prova 1</th>\n",
              "      <th>Prova 2</th>\n",
              "      <th>Aprovado</th>\n",
              "    </tr>\n",
              "  </thead>\n",
              "  <tbody>\n",
              "    <tr>\n",
              "      <th>count</th>\n",
              "      <td>100.000000</td>\n",
              "      <td>100.000000</td>\n",
              "      <td>100.000000</td>\n",
              "    </tr>\n",
              "    <tr>\n",
              "      <th>mean</th>\n",
              "      <td>65.644274</td>\n",
              "      <td>66.221998</td>\n",
              "      <td>0.600000</td>\n",
              "    </tr>\n",
              "    <tr>\n",
              "      <th>std</th>\n",
              "      <td>19.458222</td>\n",
              "      <td>18.582783</td>\n",
              "      <td>0.492366</td>\n",
              "    </tr>\n",
              "    <tr>\n",
              "      <th>min</th>\n",
              "      <td>30.058822</td>\n",
              "      <td>30.603263</td>\n",
              "      <td>0.000000</td>\n",
              "    </tr>\n",
              "    <tr>\n",
              "      <th>25%</th>\n",
              "      <td>50.919511</td>\n",
              "      <td>48.179205</td>\n",
              "      <td>0.000000</td>\n",
              "    </tr>\n",
              "    <tr>\n",
              "      <th>50%</th>\n",
              "      <td>67.032988</td>\n",
              "      <td>67.682381</td>\n",
              "      <td>1.000000</td>\n",
              "    </tr>\n",
              "    <tr>\n",
              "      <th>75%</th>\n",
              "      <td>80.212529</td>\n",
              "      <td>79.360605</td>\n",
              "      <td>1.000000</td>\n",
              "    </tr>\n",
              "    <tr>\n",
              "      <th>max</th>\n",
              "      <td>99.827858</td>\n",
              "      <td>98.869436</td>\n",
              "      <td>1.000000</td>\n",
              "    </tr>\n",
              "  </tbody>\n",
              "</table>\n",
              "</div>"
            ],
            "text/plain": [
              "          Prova 1     Prova 2    Aprovado\n",
              "count  100.000000  100.000000  100.000000\n",
              "mean    65.644274   66.221998    0.600000\n",
              "std     19.458222   18.582783    0.492366\n",
              "min     30.058822   30.603263    0.000000\n",
              "25%     50.919511   48.179205    0.000000\n",
              "50%     67.032988   67.682381    1.000000\n",
              "75%     80.212529   79.360605    1.000000\n",
              "max     99.827858   98.869436    1.000000"
            ]
          },
          "metadata": {
            "tags": []
          },
          "execution_count": 147
        }
      ]
    },
    {
      "cell_type": "markdown",
      "metadata": {
        "id": "OWVzSqFLDzST"
      },
      "source": [
        "Para calcular a fronteira de decisão criaremos uma função personalizada que gera uma visualização da dispersão das notas das provas 1 e 2 de maneira similar ao que foi feito na seção 1.2.1. Sobre estes dados plotados será desenhada a fronteira de decisão calculada pela aplicação do modelo *regressor* em um conjunto de dados que representa os limites (mínimo e máximo) das características originais.\n",
        "\n",
        "Os detalhes das etapas da geração dos dados, aplicação da predição da probabilidade e construção da fronteira de decisão a partir do gráfico de contorno (função `contour` da biblioteca `matplotlib.pyplot`) estão descritos nos comentários da função abaixo."
      ]
    },
    {
      "cell_type": "code",
      "metadata": {
        "id": "obJ8UwShc6K6"
      },
      "source": [
        "def plotFronteira(data, model, filename = 'target/plot.png'):\n",
        "  \n",
        "  ##PREPARAÇÃO DA FRONTEIRA DE DECISÃO\n",
        "  #Cria dados com valores contidos nos limites do conjunto de dados original\n",
        "  i = min(data.iloc[:, 0]) - 5\n",
        "  s = max(data.iloc[:, 0]) + 5\n",
        "  xx, yy = np.mgrid[i:s:.1, i:s:.1]\n",
        "  grid = np.c_[xx.ravel(), yy.ravel()]\n",
        "\n",
        "  #Realiza a transformação polinomial dos dados gerados\n",
        "  grid_poly = poly.fit_transform(grid)\n",
        "  #Calcula a probabilidade das classes\n",
        "  probs = model.predict_proba(grid_poly)[:, 1].reshape(xx.shape)\n",
        "\n",
        "  ##GERAÇÃO DO GRÁFICO DE DISPERSÃO\n",
        "  #Separação dos valores das classes\n",
        "  positivo = data[data['Aprovado'].isin([1])]\n",
        "  negativo = data[data['Aprovado'].isin([0])]\n",
        "\n",
        "  #Gerando o grafico de dispersao para analise preliminar dos dados\n",
        "  fig, ax = plt.subplots(figsize=(12,8))\n",
        "\n",
        "  ax.scatter(positivo['Prova 1'], positivo['Prova 2'],\n",
        "             s=50, c='k', marker='+', label='Aprovado')\n",
        "  \n",
        "  ax.scatter(negativo['Prova 1'], negativo['Prova 2'],\n",
        "             s=50, c='y', marker='o', label='Nao Aprovado')\n",
        "  \n",
        "  ##PLOTAGEM DA FRONTEIRA DE DECISÃO\n",
        "  ax.contour(xx, yy, probs, levels=[0.5],\n",
        "             colors=['r'])\n",
        "  \n",
        "  ##CONFIGURAÇÕES VISUAIS ADICIONAIS\n",
        "  ax.legend()\n",
        "\n",
        "  ax.set_xlabel('Nota da Prova 1')\n",
        "  ax.set_ylabel('Nota da Prova 2')\n",
        "  sns.despine()\n",
        "\n",
        "  ##GRAVAÇÃO DO RESULTADO\n",
        "  if not os.path.exists(os.path.dirname(filename)):\n",
        "    os.makedirs(os.path.dirname(filename))\n",
        "\n",
        "  \n",
        "  plt.savefig(filename)\n",
        "  plt.show() "
      ],
      "execution_count": 148,
      "outputs": []
    },
    {
      "cell_type": "markdown",
      "metadata": {
        "id": "5aSpYnc4E8BG"
      },
      "source": [
        "Ao executarmos a função ao nosso conjunto de dados estudado, percebemos que a fronteira de decisão consegue separar de maneira adequada as classes $y=1$: Aprovado e $y=0$: Reprovado.\n",
        "\n",
        "---\n",
        "\n",
        "O ponto de atenção para este modelo é o risco de sobreajustamento, pois a fronteira de decisão contorna de maneira praticamente perfeita o conjunto de dados analisado. Isto já foi percebido na seção anterior quando analisamos a matriz de confusão e o relatório de classificação do modelo."
      ]
    },
    {
      "cell_type": "code",
      "metadata": {
        "colab": {
          "base_uri": "https://localhost:8080/",
          "height": 0
        },
        "id": "Y6vsSJSobjmx",
        "outputId": "9f001fea-2251-4128-b1c8-01b909b5e770"
      },
      "source": [
        "model = reg_log_poly\n",
        "filename='target/plot1.2.5.png'\n",
        "plotFronteira(dados, model, filename)"
      ],
      "execution_count": 149,
      "outputs": [
        {
          "output_type": "display_data",
          "data": {
            "image/png": "[encoded data removed]",
            "text/plain": [
              "<Figure size 864x576 with 1 Axes>"
            ]
          },
          "metadata": {
            "tags": [],
            "needs_background": "light"
          }
        }
      ]
    },
    {
      "cell_type": "markdown",
      "metadata": {
        "id": "PKqkbwGktdmx"
      },
      "source": [
        "##1.3 Regularização"
      ]
    },
    {
      "cell_type": "markdown",
      "metadata": {
        "id": "AdpMorwFtjIP"
      },
      "source": [
        "Carga do conjunto de dados e análise prévia"
      ]
    },
    {
      "cell_type": "code",
      "metadata": {
        "id": "xVN60P76tjRD"
      },
      "source": [
        "import scipy.io as spio\n",
        "arquivo = 'data/ex5data1.mat'\n",
        "data = spio.loadmat(arquivo,\n",
        "                    squeeze_me=True)"
      ],
      "execution_count": 150,
      "outputs": []
    },
    {
      "cell_type": "code",
      "metadata": {
        "colab": {
          "base_uri": "https://localhost:8080/"
        },
        "id": "8oOC42_fvR-r",
        "outputId": "d40ba694-3edd-4c8c-960b-de435617a8d7"
      },
      "source": [
        "data"
      ],
      "execution_count": 151,
      "outputs": [
        {
          "output_type": "execute_result",
          "data": {
            "text/plain": [
              "{'X': array([-15.93675813, -29.15297922,  36.18954863,  37.49218733,\n",
              "        -48.05882945,  -8.94145794,  15.30779289, -34.70626581,\n",
              "          1.38915437, -44.38375985,   7.01350208,  22.76274892]),\n",
              " 'Xtest': array([-33.31800399, -37.91216403, -51.20693795,  -6.13259585,\n",
              "         21.26118327, -40.31952949, -14.54153167,  32.55976024,\n",
              "         13.39343255,  44.20988595,  -1.14267768, -12.76686065,\n",
              "         34.05450539,  39.22350028,   1.97449674,  29.6217551 ,\n",
              "        -23.66962971,  -9.01180139, -55.94057091, -35.70859752,\n",
              "          9.51020533]),\n",
              " 'Xval': array([-16.74653578, -14.57747075,  34.51575866, -47.01007574,\n",
              "         36.97511905, -40.68611002,  -4.47201098,  26.53363489,\n",
              "        -42.7976831 ,  25.37409938, -31.10955398,  27.31176864,\n",
              "         -3.26386201,  -1.81827649, -40.7196624 , -50.01324365,\n",
              "        -17.41177155,   3.5881937 ,   7.08548026,  46.28236902,\n",
              "         14.61228909]),\n",
              " '__globals__': [],\n",
              " '__header__': b'MATLAB 5.0 MAT-file, Platform: GLNXA64, Created on: Fri Nov  4 22:27:26 2011',\n",
              " '__version__': '1.0',\n",
              " 'y': array([ 2.13431051,  1.17325668, 34.35910918, 36.83795516,  2.80896507,\n",
              "         2.12107248, 14.71026831,  2.61418439,  3.74017167,  3.73169131,\n",
              "         7.62765885, 22.7524283 ]),\n",
              " 'ytest': array([ 3.31688953,  5.39768952,  0.13042984,  6.1925982 , 17.08848712,\n",
              "         0.79950805,  2.82479183, 28.62123334, 17.04639081, 55.38437334,\n",
              "         4.07936733,  8.27039793, 31.32355102, 39.15906103,  8.08727989,\n",
              "        24.11134389,  2.4773548 ,  6.56606472,  6.0380888 ,  4.69273956,\n",
              "        10.83004606]),\n",
              " 'yval': array([ 4.17020201e+00,  4.06726280e+00,  3.18730676e+01,  1.06236562e+01,\n",
              "         3.18360213e+01,  4.95936972e+00,  4.45159880e+00,  2.22763185e+01,\n",
              "        -4.38738274e-05,  2.05038016e+01,  3.85834476e+00,  1.93650529e+01,\n",
              "         4.88376281e+00,  1.10971588e+01,  7.46170827e+00,  1.47693464e+00,\n",
              "         2.71916388e+00,  1.09269007e+01,  8.34871235e+00,  5.27819280e+01,\n",
              "         1.33573396e+01])}"
            ]
          },
          "metadata": {
            "tags": []
          },
          "execution_count": 151
        }
      ]
    },
    {
      "cell_type": "code",
      "metadata": {
        "id": "Yi80KCQ1kM1v"
      },
      "source": [
        "X_train = np.array(data['X'])\n",
        "y_train = np.array(data['y'])"
      ],
      "execution_count": 152,
      "outputs": []
    },
    {
      "cell_type": "code",
      "metadata": {
        "id": "kHt_uGw3kOUZ"
      },
      "source": [
        "X_val = np.array(data['Xval'])\n",
        "y_val = np.array(data['yval'])"
      ],
      "execution_count": 153,
      "outputs": []
    },
    {
      "cell_type": "code",
      "metadata": {
        "id": "MegXMZcAkP5U"
      },
      "source": [
        "X_test =  np.array(data['Xtest'])\n",
        "y_test = np.array(data['ytest'])"
      ],
      "execution_count": 154,
      "outputs": []
    },
    {
      "cell_type": "markdown",
      "metadata": {
        "id": "Xooo6_B2kc9d"
      },
      "source": [
        "###1.3.1 Visualização dos dados"
      ]
    },
    {
      "cell_type": "code",
      "metadata": {
        "colab": {
          "base_uri": "https://localhost:8080/",
          "height": 0
        },
        "id": "qXe9IhFjkfLM",
        "outputId": "b5232629-ba7c-41c8-928a-9c743dd04ae3"
      },
      "source": [
        "plt.figure(figsize=(10,6))\n",
        "plt.scatter(X_train, y_train,\n",
        "            color='r', alpha=0.7,\n",
        "            marker='x')\n",
        "\n",
        "plt.xlabel('Mudança no nível de água (x)')\n",
        "plt.ylabel('Água saindo da barragem (y)')\n",
        "\n",
        "plt.yticks([0,5,10,15,20,25,35,40])\n",
        "plt.xticks([-50,-40,-30,-20,-10,0,10,20,30,40,])\n",
        "\n",
        "sns.despine()\n",
        "\n",
        "plt.savefig('target/plot1.3.1.png')"
      ],
      "execution_count": 155,
      "outputs": [
        {
          "output_type": "display_data",
          "data": {
            "image/png": "[encoded data removed]",
            "text/plain": [
              "<Figure size 720x432 with 1 Axes>"
            ]
          },
          "metadata": {
            "tags": [],
            "needs_background": "light"
          }
        }
      ]
    },
    {
      "cell_type": "markdown",
      "metadata": {
        "id": "wHO21NQhkpnr"
      },
      "source": [
        "###1.3.2 Ajuste de um Regressor Linear"
      ]
    },
    {
      "cell_type": "markdown",
      "metadata": {
        "id": "-hxx7Od2kuxI"
      },
      "source": [
        "Criação do modelo de Regressão Linear"
      ]
    },
    {
      "cell_type": "code",
      "metadata": {
        "id": "mScYT_A_ku6l"
      },
      "source": [
        "#Importação da classe do Scikit-Learn e criação do objeto com o regressor\n",
        "from sklearn.linear_model import LinearRegression\n",
        "lin_reg = LinearRegression()"
      ],
      "execution_count": 156,
      "outputs": []
    },
    {
      "cell_type": "code",
      "metadata": {
        "colab": {
          "base_uri": "https://localhost:8080/"
        },
        "id": "eJ8A2yDzlpTN",
        "outputId": "31ec0617-85c4-489d-c18f-7d0f03b42ef0"
      },
      "source": [
        "lin_reg.fit(X_train.reshape(-1, 1), y_train)"
      ],
      "execution_count": 157,
      "outputs": [
        {
          "output_type": "execute_result",
          "data": {
            "text/plain": [
              "LinearRegression(copy_X=True, fit_intercept=True, n_jobs=None, normalize=False)"
            ]
          },
          "metadata": {
            "tags": []
          },
          "execution_count": 157
        }
      ]
    },
    {
      "cell_type": "markdown",
      "metadata": {
        "id": "2K-nbYYOneF2"
      },
      "source": [
        "Com o modelo gerado é possível carregar os coeficientes da regressão linear"
      ]
    },
    {
      "cell_type": "code",
      "metadata": {
        "id": "t8aguPHSnXO7"
      },
      "source": [
        "#Extrair coeficientes\n",
        "inclinacao = lin_reg.coef_\n",
        "intersecao = lin_reg.intercept_\n",
        "theta = np.array([intersecao, inclinacao[0]])"
      ],
      "execution_count": 158,
      "outputs": []
    },
    {
      "cell_type": "code",
      "metadata": {
        "colab": {
          "base_uri": "https://localhost:8080/"
        },
        "id": "Av6JSntCnozA",
        "outputId": "58d07f69-fdfe-4bd0-ffef-20fabfe06ca9"
      },
      "source": [
        "# imprimir os valores encontrados para os parâmetros\n",
        "print(f'Vetor de parâmetros: {theta}')\n",
        "print(f'Equação:             Ŷ = {intersecao:.3f} + {inclinacao[0]:.3f} * X')"
      ],
      "execution_count": 159,
      "outputs": [
        {
          "output_type": "stream",
          "text": [
            "Vetor de parâmetros: [13.08790351  0.36777923]\n",
            "Equação:             Ŷ = 13.088 + 0.368 * X\n"
          ],
          "name": "stdout"
        }
      ]
    },
    {
      "cell_type": "markdown",
      "metadata": {
        "id": "cfChOeUnpxiP"
      },
      "source": [
        "Com o modelo criado, temos os parâmetros da equação da reta de ajustamento, conforme segue:\n",
        "\n",
        "$\n",
        "\\hat{Y}=\\theta_0 + \\theta_1x\n",
        "$\n",
        "\n",
        "$\n",
        "\\hat{Y}=13.088 + 0.368x\n",
        "$\n",
        "\n",
        "---\n",
        "\n",
        "Como pode ser visto na visualização da dispersão dos atributos com a reta de ajustamento da ***Regressão Linear*** o modelo não apresenta uma capacidade preditiva adequada. Aparentemente o modelo está *subajustado*."
      ]
    },
    {
      "cell_type": "code",
      "metadata": {
        "colab": {
          "base_uri": "https://localhost:8080/",
          "height": 0
        },
        "id": "LQ-4JHBPodaJ",
        "outputId": "83630e36-a40b-435e-aaa5-65f6d2c9b655"
      },
      "source": [
        "#Plotar pontos e retas com parâmetros otimizados\n",
        "plt.figure(figsize=(10,6))\n",
        "\n",
        "plt.scatter(X_train, y_train, \n",
        "            color='r', alpha=0.7,\n",
        "            marker='x')\n",
        "plt.plot(X_train, (X_train * inclinacao + intersecao), color='b', alpha=0.7)\n",
        "plt.legend(['Reta de Ajustamento', 'Dispersão dos dados'])\n",
        "plt.title('Regressão Linear Simples')\n",
        "\n",
        "plt.yticks([0,5,10,15,20,25,35,40])\n",
        "plt.xticks([-50,-40,-30,-20,-10,0,10,20,30,40,])\n",
        "\n",
        "sns.despine()\n",
        "plt.savefig('target/plot1.3.2.png')"
      ],
      "execution_count": 160,
      "outputs": [
        {
          "output_type": "display_data",
          "data": {
            "image/png": "[encoded data removed]",
            "text/plain": [
              "<Figure size 720x432 with 1 Axes>"
            ]
          },
          "metadata": {
            "tags": [],
            "needs_background": "light"
          }
        }
      ]
    },
    {
      "cell_type": "markdown",
      "metadata": {
        "id": "rFYoSj3dJw69"
      },
      "source": [
        "###1.3.3 Curvas de aprendizado"
      ]
    },
    {
      "cell_type": "markdown",
      "metadata": {
        "id": "xmxhM9DgJ0sF"
      },
      "source": [
        "O trecho a seguir realiza o uso da função `learning_curve` da biblioteca Scikit-Learn para cálculos os dados para visualização da curva de aprendizagem, que demonstra o nível de erro do modelo à medida que são alteradas as quantidades de observações no conjunto de treinamento e validação.\n",
        "\n",
        "Contudo, neste exemplo, os dados não são os mais adequados, pois nosso conjunto de dados já estava separado entre treinamento e validação, mas a função espera receber um conjunto de dados com os exemplos de teste e validação, pois implementa esta divisão de maneira interna para os dados fornecidos. Como passamos o conjunto de treinamento, a função considerou como conjunto de validação parte dos dados que já foram usados para treinamento do modelo."
      ]
    },
    {
      "cell_type": "code",
      "metadata": {
        "id": "QO8ubV-QJ0yP"
      },
      "source": [
        "#Biblioteca para cálculo da curva de aprendizado\n",
        "from sklearn.model_selection import learning_curve"
      ],
      "execution_count": 161,
      "outputs": []
    },
    {
      "cell_type": "code",
      "metadata": {
        "id": "a63suoboKbf-"
      },
      "source": [
        "train_sizes = [1, 2, 3, 4, 5, 6, 7, 8, 9, 10, 11, 12]\n",
        "qtds_exemplos, erros_treino, erros_val = learning_curve(lin_reg,\n",
        "                                                        X_test.reshape(-1,1),\n",
        "                                                        y_test.reshape(-1,1),\n",
        "                                                        scoring='neg_mean_squared_error',\n",
        "                                                        train_sizes=train_sizes\n",
        "                                                        )"
      ],
      "execution_count": 162,
      "outputs": []
    },
    {
      "cell_type": "code",
      "metadata": {
        "id": "znfSQtyBMYzT"
      },
      "source": [
        "#Cálculo dos erros baseado na média dos treinamentos\n",
        "erros_t = np.mean(-erros_treino, axis=1)\n",
        "erros_v = np.mean(-erros_val, axis=1)"
      ],
      "execution_count": 163,
      "outputs": []
    },
    {
      "cell_type": "code",
      "metadata": {
        "colab": {
          "base_uri": "https://localhost:8080/",
          "height": 0
        },
        "id": "s7QnP9EmMFJq",
        "outputId": "14f75091-2c06-455e-947f-26e6465d36fe"
      },
      "source": [
        "plt.figure(figsize=(10,6))\n",
        "\n",
        "plt.plot(erros_t, alpha=0.7)\n",
        "plt.plot(erros_v, 'g--', alpha=0.7)\n",
        "\n",
        "plt.legend(['Treino', 'Validação'])\n",
        "plt.xlabel('Número de exemplos de treinamento')\n",
        "plt.ylabel('Erro')\n",
        "plt.title('Curva de Aprendizado da Regressão Linear')\n",
        "\n",
        "plt.savefig('target/plot1.3.3.1.png')\n",
        "sns.despine()"
      ],
      "execution_count": 164,
      "outputs": [
        {
          "output_type": "display_data",
          "data": {
            "image/png": "[encoded data removed]",
            "text/plain": [
              "<Figure size 720x432 with 1 Axes>"
            ]
          },
          "metadata": {
            "tags": [],
            "needs_background": "light"
          }
        }
      ]
    },
    {
      "cell_type": "markdown",
      "metadata": {
        "id": "WnOnZwQoW7-p"
      },
      "source": [
        "Na célula abaixo é realizada uma implementação do zero do cálculo da curva de aprendizado que recebe os dados previamente divididos em treinamento e validação. Em seguida a implementação é usada para geração da curva de aprendizado do modelo de **Regressão Linear**."
      ]
    },
    {
      "cell_type": "code",
      "metadata": {
        "id": "h-L1-ENKX3S_"
      },
      "source": [
        "#Bibliotecas implementadas a partir de https://github.com/MLRG-CEFET-RJ/ml-class\n",
        "from custo_reglin_regularizada import custo_reglin_regularizada\n",
        "from gd_reglin_regularizada import gd_reglin_regularizada\n",
        "\n",
        "#Biblioteca para otimização da função de custo\n",
        "import scipy.optimize as opt\n",
        "\n",
        "\n",
        "def encontrar_theta_otimo(theta, X, y, _lambda):\n",
        "  \"\"\"\n",
        "  Função para aplicação da função de custo e encontrar o vetor otimizado de \n",
        "  parâmetros theta\n",
        "  \"\"\"\n",
        "  return opt.fmin_tnc(func = custo_reglin_regularizada,\n",
        "                      x0=theta, fprime=gd_reglin_regularizada,\n",
        "                      args=(X, y, _lambda))\n",
        "    \n",
        "def learningCurve(theta, X, y, X_val, y_val, _lambda):\n",
        "  \"\"\"\n",
        "  Função para cálculo dos erros de treino e validação para uso como\n",
        "  elementos para visualização da curva de aprendizado\n",
        "  \"\"\"\n",
        "  m = len(X)\n",
        "  erros_treino = np.zeros(m)\n",
        "  erros_val = np.zeros(m)\n",
        "  qtds_exemplos = []\n",
        "  \n",
        "  for i in range(1,m+1):\n",
        "      X_train = X[:i,:]\n",
        "      y_train = y[:i]\n",
        "      qtds_exemplos.append(len(X_train))\n",
        "      \n",
        "      result = encontrar_theta_otimo(theta, X_train, y_train, _lambda)\n",
        "      theta = result[0]\n",
        "      \n",
        "      J_train = custo_reglin_regularizada(theta, X_train, y_train, _lambda=0)\n",
        "      J_val = custo_reglin_regularizada(theta, X_val, y_val, _lambda)\n",
        "      \n",
        "      erros_treino[i-1] = J_train\n",
        "      erros_val[i-1] = J_val\n",
        "  \n",
        "  return qtds_exemplos, erros_treino, erros_val"
      ],
      "execution_count": 165,
      "outputs": []
    },
    {
      "cell_type": "code",
      "metadata": {
        "id": "l4r46CnTY25M"
      },
      "source": [
        "#Parâmetros da função\n",
        "lamb=0 #Lambda zerada para não efetuar regularização\n",
        "theta = np.array([[1,1]]).T #inicialização do vetor theta\n",
        "\n",
        "#Organização das dimensões dos valores de treino e validação\n",
        "X_val_ = np.array(data['Xval'], ndmin=2).T\n",
        "X_val_ = np.c_[np.ones((X_val_.shape[0], 1)), X_val_]\n",
        "y_val_ = np.array(data['yval'], ndmin=2).T\n",
        "\n",
        "X_train_ = np.array(data['X'], ndmin=2).T\n",
        "X_train_ = np.c_[np.ones((X_train_.shape[0], 1)), X_train_]\n",
        "y_train_ = np.array(data['y'], ndmin=2).T"
      ],
      "execution_count": 166,
      "outputs": []
    },
    {
      "cell_type": "code",
      "metadata": {
        "colab": {
          "base_uri": "https://localhost:8080/"
        },
        "id": "23Hrm-SHZFgE",
        "outputId": "c7b9bf4f-9ba8-4381-aad2-5990ba85f8f3"
      },
      "source": [
        "qtds_exemplos, erros_treino, erros_val = learningCurve(theta,\n",
        "                                                       X_train_, y_train_,\n",
        "                                                       X_val_, y_val_,\n",
        "                                                       lamb)\n",
        "\n",
        "print(f'Quantidade de exempos: {qtds_exemplos}\\n\\nErros de treino: {erros_treino}\\n\\nErros de validação: {erros_val}')"
      ],
      "execution_count": 167,
      "outputs": [
        {
          "output_type": "stream",
          "text": [
            "Quantidade de exempos: [1, 2, 3, 4, 5, 6, 7, 8, 9, 10, 11, 12]\n",
            "\n",
            "Erros de treino: [8.63153419e-18 6.09573022e-18 3.28659505e+00 2.84267769e+00\n",
            " 1.31540488e+01 1.94439625e+01 2.00985217e+01 1.81728587e+01\n",
            " 2.26094054e+01 2.32614616e+01 2.43172496e+01 2.23739065e+01]\n",
            "\n",
            "Erros de validação: [169.87070841 110.30036593  45.01023162  48.36891133  35.86516478\n",
            "  33.82996162  31.97098581  30.86244633  31.13599796  28.93620747\n",
            "  29.55143162  29.43381813]\n"
          ],
          "name": "stdout"
        }
      ]
    },
    {
      "cell_type": "code",
      "metadata": {
        "colab": {
          "base_uri": "https://localhost:8080/",
          "height": 0
        },
        "id": "KTcZlrYearXr",
        "outputId": "04dd7f86-b27d-42d7-ddf2-0f39702621ae"
      },
      "source": [
        "plt.figure(figsize=(10,6))\n",
        "\n",
        "plt.plot(erros_treino, alpha=0.7)\n",
        "plt.plot(erros_val, 'g--', alpha=0.7)\n",
        "\n",
        "plt.legend(['Treino', 'Validação'])\n",
        "plt.xlabel('Número de exemplos de treinamento')\n",
        "plt.ylabel('Erro')\n",
        "plt.title('Curva de Aprendizado da Regressão Linear')\n",
        "\n",
        "plt.savefig('target/plot1.3.3.2.png')\n",
        "sns.despine()"
      ],
      "execution_count": 168,
      "outputs": [
        {
          "output_type": "display_data",
          "data": {
            "image/png": "[encoded data removed]",
            "text/plain": [
              "<Figure size 720x432 with 1 Axes>"
            ]
          },
          "metadata": {
            "tags": [],
            "needs_background": "light"
          }
        }
      ]
    },
    {
      "cell_type": "markdown",
      "metadata": {
        "id": "XGpJdbl5bYYb"
      },
      "source": [
        "É possível perceber que os erros no conjunto de treino começam muito inferiores aos encontrados no conjunto de validação e vão convergindo para o mesmo nível à medida que o número de exemplos aumenta. Contudo, mesmo quando encontram um nível similar a um platô ainda há um *gap* entre as duas curvas, mostrando que o modelo erra menos no conjunto de treino.\n",
        "\n",
        "**OBSERVAÇÃO**: A segunda curva ilustra de maneira mais correta a mudança do nível de erro da aplicação do modelo no conjunto de treinamento e validação fornecidos pelo conjunto de dados analisado. Na geração da curva através da função carregada da bibliotca *Scikit-Learn* forçamos a quantidade de exemplos para igualar aos tamanhos obtidos na função personalizada para melhorar a capacidade de comparação, isso foi feito definindo manualmente o parâmetro `train_sizes`."
      ]
    },
    {
      "cell_type": "markdown",
      "metadata": {
        "id": "-CKtIRp5l4Np"
      },
      "source": [
        "###1.3.4 Ajuste de um regressor polinomial não-regularizado"
      ]
    },
    {
      "cell_type": "markdown",
      "metadata": {
        "id": "_WmV5ljLl9TB"
      },
      "source": [
        "Para lidar com o problema do subajustamento usamos a abordagem de mapeamento de novas características usando a classe `PolynomialFeatures` do Scikit-Learn."
      ]
    },
    {
      "cell_type": "code",
      "metadata": {
        "id": "B_EegbFimVWA"
      },
      "source": [
        "#Importação da classe com o transformador\n",
        "from sklearn.preprocessing import PolynomialFeatures\n",
        "\n",
        "#Criação do transformador para mapeamento de características polinomiais\n",
        "grau = 8\n",
        "poly = PolynomialFeatures(grau)"
      ],
      "execution_count": 169,
      "outputs": []
    },
    {
      "cell_type": "code",
      "metadata": {
        "colab": {
          "base_uri": "https://localhost:8080/"
        },
        "id": "ab0eAstcnNRf",
        "outputId": "293c9cea-29c9-4dc9-85bf-025bf5ca67f1"
      },
      "source": [
        "#Exibição dos dados originais de X\n",
        "X_train.reshape(12,1)"
      ],
      "execution_count": 170,
      "outputs": [
        {
          "output_type": "execute_result",
          "data": {
            "text/plain": [
              "array([[-15.93675813],\n",
              "       [-29.15297922],\n",
              "       [ 36.18954863],\n",
              "       [ 37.49218733],\n",
              "       [-48.05882945],\n",
              "       [ -8.94145794],\n",
              "       [ 15.30779289],\n",
              "       [-34.70626581],\n",
              "       [  1.38915437],\n",
              "       [-44.38375985],\n",
              "       [  7.01350208],\n",
              "       [ 22.76274892]])"
            ]
          },
          "metadata": {
            "tags": []
          },
          "execution_count": 170
        }
      ]
    },
    {
      "cell_type": "code",
      "metadata": {
        "colab": {
          "base_uri": "https://localhost:8080/"
        },
        "id": "7qp7NvaOm60X",
        "outputId": "8e3863a0-3742-41d8-b55b-99c7641329af"
      },
      "source": [
        "#Aplicação do transformar e conferência de valores gerados\n",
        "X_poly = poly.fit_transform(X_train.reshape(12,1))\n",
        "X_poly[:1]"
      ],
      "execution_count": 171,
      "outputs": [
        {
          "output_type": "execute_result",
          "data": {
            "text/plain": [
              "array([[ 1.00000000e+00, -1.59367581e+01,  2.53980260e+02,\n",
              "        -4.04762197e+03,  6.45059724e+04, -1.02801608e+06,\n",
              "         1.63832436e+07, -2.61095791e+08,  4.16102047e+09]])"
            ]
          },
          "metadata": {
            "tags": []
          },
          "execution_count": 171
        }
      ]
    },
    {
      "cell_type": "markdown",
      "metadata": {
        "id": "ax7UIBDkofDc"
      },
      "source": [
        "Como os valores gerados pelos polinômios estão em escalas diferentes, será realizada a normalização dos valores antes de treinar o novo modelo."
      ]
    },
    {
      "cell_type": "code",
      "metadata": {
        "id": "8wZrQLCMoLcY"
      },
      "source": [
        "#Importação da classe com o transformador\n",
        "from sklearn.preprocessing import StandardScaler\n",
        "\n",
        "#Criação do transformador para normalização de características\n",
        "#Este transformador usa o algoritmo Z-Score\n",
        "normalizar_caracteristica = StandardScaler()"
      ],
      "execution_count": 172,
      "outputs": []
    },
    {
      "cell_type": "code",
      "metadata": {
        "id": "tH4M6_4ipM6G"
      },
      "source": [
        "X_norm = normalizar_caracteristica.fit_transform(X_poly)"
      ],
      "execution_count": 173,
      "outputs": []
    },
    {
      "cell_type": "markdown",
      "metadata": {
        "id": "GHc0px9c8Cif"
      },
      "source": [
        "Valores da média e desvio padrão usados na transformação guardados para uso posterior no uso do modelo para apresentação da curva de ajustamento da regressão."
      ]
    },
    {
      "cell_type": "code",
      "metadata": {
        "colab": {
          "base_uri": "https://localhost:8080/"
        },
        "id": "QAMCjo1k2_yZ",
        "outputId": "99e1f28f-0b29-4f9f-beaf-90f0618a6a1a"
      },
      "source": [
        "X_norm_mean = normalizar_caracteristica.mean_\n",
        "X_norm_std = normalizar_caracteristica.scale_\n",
        "print(X_norm_mean, '\\n\\n', X_norm_mean)"
      ],
      "execution_count": 174,
      "outputs": [
        {
          "output_type": "stream",
          "text": [
            "[ 1.00000000e+00 -5.08542635e+00  8.48904834e+02 -1.28290173e+04\n",
            "  1.28967789e+06 -2.98314592e+07  2.29330301e+09 -6.84527284e+10\n",
            "  4.42233759e+12] \n",
            "\n",
            " [ 1.00000000e+00 -5.08542635e+00  8.48904834e+02 -1.28290173e+04\n",
            "  1.28967789e+06 -2.98314592e+07  2.29330301e+09 -6.84527284e+10\n",
            "  4.42233759e+12]\n"
          ],
          "name": "stdout"
        }
      ]
    },
    {
      "cell_type": "markdown",
      "metadata": {
        "id": "I_w4FMaaqOCe"
      },
      "source": [
        "Uso das características polinomiais normalizadas para treinar um novo modelo de **Regressão Linear Polinomial**."
      ]
    },
    {
      "cell_type": "code",
      "metadata": {
        "id": "GOLbQ9-Dp7mU"
      },
      "source": [
        "#Importação da classe do Scikit-Learn e criação do objeto com o regressor\n",
        "from sklearn.linear_model import LinearRegression\n",
        "lin_reg_poly = LinearRegression()"
      ],
      "execution_count": 175,
      "outputs": []
    },
    {
      "cell_type": "code",
      "metadata": {
        "colab": {
          "base_uri": "https://localhost:8080/"
        },
        "id": "hZRsy62AqYRz",
        "outputId": "b6612c5e-d1cd-4163-88ff-b44cf26b1848"
      },
      "source": [
        "lin_reg_poly.fit(X_norm, y_train)"
      ],
      "execution_count": 176,
      "outputs": [
        {
          "output_type": "execute_result",
          "data": {
            "text/plain": [
              "LinearRegression(copy_X=True, fit_intercept=True, n_jobs=None, normalize=False)"
            ]
          },
          "metadata": {
            "tags": []
          },
          "execution_count": 176
        }
      ]
    },
    {
      "cell_type": "markdown",
      "metadata": {
        "id": "7vwrAOO78_N2"
      },
      "source": [
        "Geração do vetor de parâmetros $\\theta$ otimizados a partir dos dados gerados pelo modelo treinado."
      ]
    },
    {
      "cell_type": "code",
      "metadata": {
        "id": "X6BQcSZNtaZr"
      },
      "source": [
        "theta_ = lin_reg_poly.coef_"
      ],
      "execution_count": 177,
      "outputs": []
    },
    {
      "cell_type": "code",
      "metadata": {
        "colab": {
          "base_uri": "https://localhost:8080/"
        },
        "id": "GNYNtAXw3-KA",
        "outputId": "8d7e1b0d-ef84-4d9a-d8f7-664da770b153"
      },
      "source": [
        "theta_"
      ],
      "execution_count": 178,
      "outputs": [
        {
          "output_type": "execute_result",
          "data": {
            "text/plain": [
              "array([  0.        ,   9.13124818,  18.17727033,  28.9301793 ,\n",
              "       -27.23824133, -74.47076142,   6.77178106,  60.68644113,\n",
              "        20.63841717])"
            ]
          },
          "metadata": {
            "tags": []
          },
          "execution_count": 178
        }
      ]
    },
    {
      "cell_type": "code",
      "metadata": {
        "colab": {
          "base_uri": "https://localhost:8080/"
        },
        "id": "LPAoTu11tkKU",
        "outputId": "cea8c405-540c-4f22-f132-ed90e758b2d1"
      },
      "source": [
        "lin_reg_poly.intercept_"
      ],
      "execution_count": 179,
      "outputs": [
        {
          "output_type": "execute_result",
          "data": {
            "text/plain": [
              "11.217589325366374"
            ]
          },
          "metadata": {
            "tags": []
          },
          "execution_count": 179
        }
      ]
    },
    {
      "cell_type": "code",
      "metadata": {
        "id": "aFDoJb8c3M6c"
      },
      "source": [
        "theta_ = np.insert(theta_, 0, lin_reg_poly.intercept_)"
      ],
      "execution_count": 180,
      "outputs": []
    },
    {
      "cell_type": "code",
      "metadata": {
        "colab": {
          "base_uri": "https://localhost:8080/"
        },
        "id": "2txVU8aD4UZ8",
        "outputId": "fbb3e62c-6c19-45fa-fad3-ac8c994d0e83"
      },
      "source": [
        "theta_"
      ],
      "execution_count": 181,
      "outputs": [
        {
          "output_type": "execute_result",
          "data": {
            "text/plain": [
              "array([ 11.21758933,   0.        ,   9.13124818,  18.17727033,\n",
              "        28.9301793 , -27.23824133, -74.47076142,   6.77178106,\n",
              "        60.68644113,  20.63841717])"
            ]
          },
          "metadata": {
            "tags": []
          },
          "execution_count": 181
        }
      ]
    },
    {
      "cell_type": "markdown",
      "metadata": {
        "id": "OXWF6C8S9J0F"
      },
      "source": [
        "Visualização do modelo de ***Regressão Polinomial*** para predição do $y$."
      ]
    },
    {
      "cell_type": "code",
      "metadata": {
        "colab": {
          "base_uri": "https://localhost:8080/",
          "height": 0
        },
        "id": "EeCW3XFCtAUz",
        "outputId": "3adef9cb-204b-408a-fbc5-494e3d6c3fc2"
      },
      "source": [
        "#Preparação dos valores para gerar curva de ajustamento da regressão\n",
        "x = np.linspace(-65,60,50)\n",
        "x = x.reshape((len(x),1))\n",
        "x_poli = poly.fit_transform(x)\n",
        "\n",
        "#Transformação usando a média e desvio padrão usando na normalização\n",
        "x_poli = (x_poli - X_norm_mean) / X_norm_std\n",
        "x_poli = np.insert(x_poli, 0, 1, axis=1)\n",
        "\n",
        "h = x_poli.dot(np.matrix(theta_).T)\n",
        "\n",
        "#Plotar dispersão dos dados\n",
        "plt.scatter(X_train, y_train,\n",
        "            color='r', alpha=0.7,\n",
        "            marker='x')\n",
        "\n",
        "plt.title('Regressão Polinomial\\nAjuste polinomial ($\\lambda = 0$)')\n",
        "plt.xlabel('Mudança no nível de água (x)')\n",
        "plt.ylabel('Água saindo da barragem (y)')\n",
        "\n",
        "#Plotar Regressão\n",
        "plt.plot(x, h, 'b--')\n",
        "\n",
        "plt.axis((-80,80,-60,60))\n",
        "sns.despine()\n",
        "\n",
        "plt.savefig('target/plot1.3.4.1.png')"
      ],
      "execution_count": 182,
      "outputs": [
        {
          "output_type": "display_data",
          "data": {
            "image/png": "[encoded data removed]",
            "text/plain": [
              "<Figure size 432x288 with 1 Axes>"
            ]
          },
          "metadata": {
            "tags": [],
            "needs_background": "light"
          }
        }
      ]
    },
    {
      "cell_type": "markdown",
      "metadata": {
        "id": "NblBrvb48o7t"
      },
      "source": [
        "Como pode ser observada na visualização o modelo se ajusta perfeitamente aos dados analisados. Contudo esse comportamento pode demonstrar *sobreajuste* aos dados de treinamento, prejudicando a capacidade de generalização do modelo.\n",
        "\n",
        "---\n",
        "\n",
        "Para continuar a análise será apresentada a curva de aprendizado para este modelo polinomial, mas para minimizar o problema citado na seção 1.3.3 fizemos a concatenção dos conjuntos de treinamento e validação nas células a seguir. Desta forma, o algoritmo da classe `learning_curve` de cálculo da curva de aprendizado pode fazer sua própria separação dos exemplos de treinamento e teste para comparar os níveis de erro."
      ]
    },
    {
      "cell_type": "code",
      "metadata": {
        "colab": {
          "base_uri": "https://localhost:8080/"
        },
        "id": "SWNwgQ_N-cxR",
        "outputId": "ed90fcf0-f094-4f5f-86cd-0fea27a63e70"
      },
      "source": [
        "#Mapeamento das características polinomiais\n",
        "X_poli_val = poly.fit_transform(X_val.reshape(21,1))\n",
        "\n",
        "#Aplicação da normalização\n",
        "X_norm_val = normalizar_caracteristica.fit_transform(X_poli_val)\n",
        "X_norm_val[0]"
      ],
      "execution_count": 183,
      "outputs": [
        {
          "output_type": "execute_result",
          "data": {
            "text/plain": [
              "array([ 0.        , -0.42416069, -0.75311565,  0.12753599, -0.7369401 ,\n",
              "        0.24552665, -0.63413413,  0.26698715, -0.55310478])"
            ]
          },
          "metadata": {
            "tags": []
          },
          "execution_count": 183
        }
      ]
    },
    {
      "cell_type": "markdown",
      "metadata": {
        "id": "q4oEBPlYKbc0"
      },
      "source": [
        "* A seguir conferimos das dimensões dos conjuntos de treinamento e validação originais do conjunto de dados antes de realizar a concatenção.\n",
        "* Com as dimensões conferidas realizamos a concatenação"
      ]
    },
    {
      "cell_type": "code",
      "metadata": {
        "colab": {
          "base_uri": "https://localhost:8080/"
        },
        "id": "7uRhV8CYAtV5",
        "outputId": "0e970e68-6fb8-4657-9fdd-dc461e7dea11"
      },
      "source": [
        "print(X_norm_val.shape, X_norm.shape)"
      ],
      "execution_count": 184,
      "outputs": [
        {
          "output_type": "stream",
          "text": [
            "(21, 9) (12, 9)\n"
          ],
          "name": "stdout"
        }
      ]
    },
    {
      "cell_type": "code",
      "metadata": {
        "colab": {
          "base_uri": "https://localhost:8080/"
        },
        "id": "r-R2N0EQGOs7",
        "outputId": "da6eb627-9f86-46d5-fbe1-37166aca6de7"
      },
      "source": [
        "#Concatenção das características (X)\n",
        "X_ = np.concatenate((X_norm, X_norm_val))\n",
        "X_.shape"
      ],
      "execution_count": 185,
      "outputs": [
        {
          "output_type": "execute_result",
          "data": {
            "text/plain": [
              "(33, 9)"
            ]
          },
          "metadata": {
            "tags": []
          },
          "execution_count": 185
        }
      ]
    },
    {
      "cell_type": "code",
      "metadata": {
        "colab": {
          "base_uri": "https://localhost:8080/"
        },
        "id": "IgNarIOOK6pP",
        "outputId": "2a5088e6-d798-483c-eaaf-6233ddae75b0"
      },
      "source": [
        "print(y_train.shape, y_val.shape)"
      ],
      "execution_count": 186,
      "outputs": [
        {
          "output_type": "stream",
          "text": [
            "(12,) (21,)\n"
          ],
          "name": "stdout"
        }
      ]
    },
    {
      "cell_type": "code",
      "metadata": {
        "colab": {
          "base_uri": "https://localhost:8080/"
        },
        "id": "6mlSIzw0H71D",
        "outputId": "9e3e5fe1-b471-4b0c-d254-bdcd0f9dbc73"
      },
      "source": [
        "#Concatenção da variável algo (y)\n",
        "y_ = np.concatenate((y_train, y_val))\n",
        "y_.shape"
      ],
      "execution_count": 187,
      "outputs": [
        {
          "output_type": "execute_result",
          "data": {
            "text/plain": [
              "(33,)"
            ]
          },
          "metadata": {
            "tags": []
          },
          "execution_count": 187
        }
      ]
    },
    {
      "cell_type": "markdown",
      "metadata": {
        "id": "KB5AyxU4LI1c"
      },
      "source": [
        "Cálculo dos erros de treinamento e validação e visualização da curva de aprendizagem."
      ]
    },
    {
      "cell_type": "code",
      "metadata": {
        "colab": {
          "base_uri": "https://localhost:8080/",
          "height": 0
        },
        "id": "40YHr-6wCMP3",
        "outputId": "a4009827-c49d-4702-e1e4-5b8cc7f7c57a"
      },
      "source": [
        "train_sizes = [1, 2, 3, 4, 5, 6, 7, 8, 9, 10, 11, 12]\n",
        "qtds_exemplos, erros_treino, erros_val = learning_curve(lin_reg_poly,\n",
        "                                                        #X_norm_val, y_val.reshape(-1,1),\n",
        "                                                        #X_norm, y_train.reshape(-1,1),\n",
        "                                                        X_, y_,\n",
        "                                                        scoring='neg_mean_squared_error',\n",
        "                                                        train_sizes=train_sizes\n",
        "                                                        )\n",
        "\n",
        "#Cálculo dos erros baseado na média dos treinamentos\n",
        "erros_t = np.mean(-erros_treino, axis=1)\n",
        "erros_v = np.mean(-erros_val, axis=1)\n",
        "\n",
        "plt.figure(figsize=(10,6))\n",
        "\n",
        "plt.plot(erros_t, alpha=0.7)\n",
        "plt.plot(erros_v, 'g--', alpha=0.7)\n",
        "\n",
        "plt.legend(['Treino', 'Validação'])\n",
        "plt.xlabel('Número de exemplos de treinamento')\n",
        "plt.ylabel('Erro')\n",
        "plt.title('Curva de Aprendizado da Regressão Linear')\n",
        "\n",
        "plt.savefig('target/plot1.3.4.2.png')\n",
        "sns.despine()"
      ],
      "execution_count": 188,
      "outputs": [
        {
          "output_type": "display_data",
          "data": {
            "image/png": "[encoded data removed]",
            "text/plain": [
              "<Figure size 720x432 with 1 Axes>"
            ]
          },
          "metadata": {
            "tags": [],
            "needs_background": "light"
          }
        }
      ]
    },
    {
      "cell_type": "markdown",
      "metadata": {
        "id": "pprquvG_I_eY"
      },
      "source": [
        "Para reforçar esta análise, plotamos a curva de aprendizado que demonstra que o modelo possui erros de treinamento muito baixos, se aproximando de 0, mas elevados níveis de erro de validação que reduzem ao longo do tempo, mas são inconstantes (aumentando e reduzindo em tamanhos diferentes de exemplos de treinamento) e se aproximam do nível de erro de treinamento em raras ocasiões, mas nunca se igualam ou melhoram em relação a estes erros de treinamento."
      ]
    },
    {
      "cell_type": "markdown",
      "metadata": {
        "id": "QYipOXprLTIc"
      },
      "source": [
        "###1.3.5 Ajuste de um regressor polinomial regularizado"
      ]
    },
    {
      "cell_type": "markdown",
      "metadata": {
        "id": "JmygsiXzLWxZ"
      },
      "source": [
        "Para solucionar o problema de *sobreajuste* serão gerados regressores com regularização. Esta abordagem consiste no uso de um parâmetro que impõe uma penalidade à função de custos da regressão."
      ]
    },
    {
      "cell_type": "code",
      "metadata": {
        "id": "9oSPhyY62k-d"
      },
      "source": [
        "from sklearn.model_selection import GridSearchCV\n",
        "#Quantidade de camadas para validação cruzada\n",
        "cv = 5\n",
        "\n",
        "#Hiperparâmetros para tuning\n",
        "param_grid = [\n",
        "              {'alpha': [1.25, 1.5, 1.75, 2]}\n",
        "              ]"
      ],
      "execution_count": 189,
      "outputs": []
    },
    {
      "cell_type": "markdown",
      "metadata": {
        "id": "2iqcmxvo1SKf"
      },
      "source": [
        "####Regularização Ridge"
      ]
    },
    {
      "cell_type": "code",
      "metadata": {
        "id": "y-lgqp_hLW5W"
      },
      "source": [
        "from sklearn.linear_model import Ridge\n",
        "ridge_reg = Ridge()"
      ],
      "execution_count": 190,
      "outputs": []
    },
    {
      "cell_type": "code",
      "metadata": {
        "colab": {
          "base_uri": "https://localhost:8080/"
        },
        "id": "7ISeLWCx0Nbn",
        "outputId": "11605668-0d73-4635-ed5f-4a2260a7a193"
      },
      "source": [
        "#Execução do tuning de hiperparâmetros\n",
        "grid_search = GridSearchCV(ridge_reg, param_grid, cv=cv,\n",
        "                           scoring='neg_mean_squared_error',\n",
        "                           return_train_score=True)\n",
        "grid_search.fit(X_norm, y_train)"
      ],
      "execution_count": 191,
      "outputs": [
        {
          "output_type": "execute_result",
          "data": {
            "text/plain": [
              "GridSearchCV(cv=5, error_score=nan,\n",
              "             estimator=Ridge(alpha=1.0, copy_X=True, fit_intercept=True,\n",
              "                             max_iter=None, normalize=False, random_state=None,\n",
              "                             solver='auto', tol=0.001),\n",
              "             iid='deprecated', n_jobs=None,\n",
              "             param_grid=[{'alpha': [1.25, 1.5, 1.75, 2]}],\n",
              "             pre_dispatch='2*n_jobs', refit=True, return_train_score=True,\n",
              "             scoring='neg_mean_squared_error', verbose=0)"
            ]
          },
          "metadata": {
            "tags": []
          },
          "execution_count": 191
        }
      ]
    },
    {
      "cell_type": "code",
      "metadata": {
        "colab": {
          "base_uri": "https://localhost:8080/"
        },
        "id": "1LaB677F0nKU",
        "outputId": "8d03cd3a-7822-4370-fc4a-93dd457e6b07"
      },
      "source": [
        "grid_search.best_params_"
      ],
      "execution_count": 192,
      "outputs": [
        {
          "output_type": "execute_result",
          "data": {
            "text/plain": [
              "{'alpha': 1.25}"
            ]
          },
          "metadata": {
            "tags": []
          },
          "execution_count": 192
        }
      ]
    },
    {
      "cell_type": "code",
      "metadata": {
        "colab": {
          "base_uri": "https://localhost:8080/"
        },
        "id": "QE0-z_Gh2afH",
        "outputId": "97d36431-9a99-401a-d59f-77c7b2ee93ca"
      },
      "source": [
        "print('RMSE do melhor estimador:')\n",
        "np.sqrt(-grid_search.best_score_)"
      ],
      "execution_count": 193,
      "outputs": [
        {
          "output_type": "stream",
          "text": [
            "RMSE do melhor estimador:\n"
          ],
          "name": "stdout"
        },
        {
          "output_type": "execute_result",
          "data": {
            "text/plain": [
              "3.020398609371885"
            ]
          },
          "metadata": {
            "tags": []
          },
          "execution_count": 193
        }
      ]
    },
    {
      "cell_type": "code",
      "metadata": {
        "id": "uiYAaVJ50sAA"
      },
      "source": [
        "ridge_reg_ = grid_search.best_estimator_"
      ],
      "execution_count": 194,
      "outputs": []
    },
    {
      "cell_type": "markdown",
      "metadata": {
        "id": "tTPzvJ-i1Wcp"
      },
      "source": [
        "####Regularização Lasso"
      ]
    },
    {
      "cell_type": "code",
      "metadata": {
        "id": "had6bveQ1Yqq"
      },
      "source": [
        "from sklearn.linear_model import Lasso\n",
        "lasso_reg = Lasso()"
      ],
      "execution_count": 195,
      "outputs": []
    },
    {
      "cell_type": "code",
      "metadata": {
        "colab": {
          "base_uri": "https://localhost:8080/"
        },
        "id": "WhWaE0JJ1n16",
        "outputId": "4f444755-0ac2-4c86-a9f0-787206d7f2a0"
      },
      "source": [
        "#Execução do tuning de hiperparâmetros\n",
        "grid_search = GridSearchCV(lasso_reg, param_grid, cv=cv,\n",
        "                           scoring='neg_mean_squared_error',\n",
        "                           return_train_score=True)\n",
        "grid_search.fit(X_norm, y_train)"
      ],
      "execution_count": 196,
      "outputs": [
        {
          "output_type": "execute_result",
          "data": {
            "text/plain": [
              "GridSearchCV(cv=5, error_score=nan,\n",
              "             estimator=Lasso(alpha=1.0, copy_X=True, fit_intercept=True,\n",
              "                             max_iter=1000, normalize=False, positive=False,\n",
              "                             precompute=False, random_state=None,\n",
              "                             selection='cyclic', tol=0.0001, warm_start=False),\n",
              "             iid='deprecated', n_jobs=None,\n",
              "             param_grid=[{'alpha': [1.25, 1.5, 1.75, 2]}],\n",
              "             pre_dispatch='2*n_jobs', refit=True, return_train_score=True,\n",
              "             scoring='neg_mean_squared_error', verbose=0)"
            ]
          },
          "metadata": {
            "tags": []
          },
          "execution_count": 196
        }
      ]
    },
    {
      "cell_type": "code",
      "metadata": {
        "colab": {
          "base_uri": "https://localhost:8080/"
        },
        "id": "OT8Nxoej1pwj",
        "outputId": "21b9e615-1035-4bb2-d079-d6bca1462bc7"
      },
      "source": [
        "grid_search.best_params_"
      ],
      "execution_count": 197,
      "outputs": [
        {
          "output_type": "execute_result",
          "data": {
            "text/plain": [
              "{'alpha': 1.25}"
            ]
          },
          "metadata": {
            "tags": []
          },
          "execution_count": 197
        }
      ]
    },
    {
      "cell_type": "code",
      "metadata": {
        "colab": {
          "base_uri": "https://localhost:8080/"
        },
        "id": "MlmUJ6PK2NbS",
        "outputId": "d455f143-2e2e-436e-eec6-4340d2a9ada7"
      },
      "source": [
        "print('RMSE do melhor estimador:')\n",
        "np.sqrt(-grid_search.best_score_)"
      ],
      "execution_count": 198,
      "outputs": [
        {
          "output_type": "stream",
          "text": [
            "RMSE do melhor estimador:\n"
          ],
          "name": "stdout"
        },
        {
          "output_type": "execute_result",
          "data": {
            "text/plain": [
              "3.1913917962842993"
            ]
          },
          "metadata": {
            "tags": []
          },
          "execution_count": 198
        }
      ]
    },
    {
      "cell_type": "code",
      "metadata": {
        "id": "MLjbwQuR1t1r"
      },
      "source": [
        "lasso_reg_ = grid_search.best_estimator_"
      ],
      "execution_count": 199,
      "outputs": []
    },
    {
      "cell_type": "markdown",
      "metadata": {
        "id": "zujpUjgE8jce"
      },
      "source": [
        "Ao realizar a sintonização do hiperparâmetro, encontramos $\\alpha = 1.25$, tanto para regularização *Ridge* quanto para regularização *Lasso*. O erro encontrado para *Ridge* foi **RMSE** = 3.020, enquanto *Lasso* apresentou **RMSE** = 3.191.\n",
        "\n",
        "Cabe ressaltar que em difentes composições de valores para serem testados no `GridSearchCV`, sempre foi escolhido o menor valor do dicionário usado na variável `param_grid`. Foram realizados experimentos inicialmente com seguintes valores:\n",
        "* i de 0 a 1.5 em intervalos de 0.5;\n",
        "* ii de 0.5 a 1.5 com intervalores de 0.25;\n",
        "* iii de 1 a 2 com intervalores de 0.25;\n",
        "* iv Finalmente foi usado os valores que ficaram nos experimentos acima (1.25 a 2). Essa escolha foi feita porque o valor 1 já é o padrão e ao adicioná-la nas opções i e ii era indicado um parâmetro que levaria a uma menor regularização e na opção iii o resultado equivaleria a simplesmente usar o algoritmo em uma forma padrão (sem sintonização de hiperparâmetros)."
      ]
    },
    {
      "cell_type": "markdown",
      "metadata": {
        "id": "b3HMwtTR42op"
      },
      "source": [
        "####Comparação da curva de aprendizado"
      ]
    },
    {
      "cell_type": "markdown",
      "metadata": {
        "id": "N7XWlNum47rX"
      },
      "source": [
        "Com os modelos treinados com base no hiperparâmetro já otimizado na etapa anterior, usamos os modelos regularizados para plotar a curva de aprendizado de ambos modelos."
      ]
    },
    {
      "cell_type": "code",
      "metadata": {
        "id": "BJwZYxmg593F"
      },
      "source": [
        "#Curva de aprendizado Ridge\n",
        "qtds_exemplos, erros_treinoRidge, erros_valRidge = learning_curve(ridge_reg_,\n",
        "                                                        X_, y_,\n",
        "                                                        scoring='neg_mean_squared_error',\n",
        "                                                        #train_sizes=train_sizes\n",
        "                                                        )\n",
        "\n",
        "#Curva de aprendizado Lasso\n",
        "qtds_exemplos, erros_treinoLasso, erros_valLasso = learning_curve(lasso_reg_,\n",
        "                                                        X_, y_,\n",
        "                                                        scoring='neg_mean_squared_error',\n",
        "                                                        #train_sizes=train_sizes\n",
        "                                                        )"
      ],
      "execution_count": 200,
      "outputs": []
    },
    {
      "cell_type": "code",
      "metadata": {
        "id": "-cYmkoZq6ZJo"
      },
      "source": [
        "#Cálculo dos erros baseado na média dos treinamentos\n",
        "erros_treinoRidge = np.mean(-erros_treinoRidge, axis=1)\n",
        "erros_valRidge = np.mean(-erros_valRidge, axis=1)\n",
        "\n",
        "erros_treinoLasso = np.mean(-erros_treinoLasso, axis=1)\n",
        "erros_valLasso = np.mean(-erros_valLasso, axis=1)"
      ],
      "execution_count": 201,
      "outputs": []
    },
    {
      "cell_type": "code",
      "metadata": {
        "colab": {
          "base_uri": "https://localhost:8080/",
          "height": 0
        },
        "id": "l0pt7p655DE_",
        "outputId": "b9d2ee99-f520-40f9-ef54-0ab4634634f1"
      },
      "source": [
        "fig = plt.figure(figsize=(20,6))\n",
        "\n",
        "ax1 = fig.add_subplot(1,2,1)\n",
        "ax2 = fig.add_subplot(1,2,2)\n",
        "\n",
        "#Curva de aprendizado da Regressão Regularizada Ridge\n",
        "ax1.plot(erros_treinoRidge, alpha=0.7)\n",
        "ax1.plot(erros_valRidge, 'g--', alpha=0.7)\n",
        "\n",
        "#ax1.legend(['Treino', 'Validação'])\n",
        "ax1.set_xlabel('Número de exemplos de treinamento')\n",
        "ax1.set_ylabel('Erro')\n",
        "ax1.set_title('Curva de Aprendizado da Regularização Ridge')\n",
        "\n",
        "#Curva de aprendizado da Regressão Regularizada Lasso\n",
        "ax2.plot(erros_treinoLasso, alpha=0.7)\n",
        "ax2.plot(erros_valLasso, 'g--', alpha=0.7)\n",
        "\n",
        "#Rótulos e legendas dos gráficos\n",
        "ax2.legend(['Treino', 'Validação'])\n",
        "ax2.set_xlabel('Número de exemplos de treinamento')\n",
        "ax2.set_title('Curva de Aprendizado da Regularização Lasso')\n",
        "\n",
        "#Ajustes visuais finais\n",
        "sns.despine()\n",
        "plt.subplots_adjust(wspace=0)\n",
        "plt.savefig('target/plot1.3.5.1.png')"
      ],
      "execution_count": 202,
      "outputs": [
        {
          "output_type": "display_data",
          "data": {
            "image/png": "[encoded data removed]",
            "text/plain": [
              "<Figure size 1440x432 with 2 Axes>"
            ]
          },
          "metadata": {
            "tags": [],
            "needs_background": "light"
          }
        }
      ]
    },
    {
      "cell_type": "markdown",
      "metadata": {
        "id": "3Hlv11WM8XaU"
      },
      "source": [
        "Pelas curvas de aprendizado, percebe-se um resultado ligeiramente melhor com a *Regularização Ridge*, contudo em ambos casos o nível de erros em treinamento continua muito inferior ao erros de validação nos exemplos de tamanho menores. Mesmo com a regularização efetuada não é possível chegar a uma conclusão definitiva de que este modelo teria boa capacidade de generalização e o problema de *sobreajustamento* está solucionado.\n",
        "\n",
        "Uma possibilidade que não foi experimentada nesse trabalho em função das limitações do conjunto de dados original foi o fornecimento de mais dados para treinamento e comparação de outros modelos. Em algumas análises desta seção, sobretudo na curva de aprendizado da ***Regularização Ridge*** os erros de treinamento parecem convergir à medida que o tamanho dos exemplos aumenta, o que poderia ser uma solução para um modelo melhor. Nesta linha, ainda tentamos a abordagem de juntar os conjuntos de treinamento e validação para permitir que os algoritmos usados fizessem novas separações de subconjuntos diferentes, mas esta técnica foi limitada pelo tamanho do conjunto de dados completos."
      ]
    },
    {
      "cell_type": "markdown",
      "metadata": {
        "id": "0cwL1g-HU5yg"
      },
      "source": [
        "---\n",
        "\n",
        "Finalmente, com o melhor modelo selecionado, considerando as limitações já mencionadas, o aplicaremos para predição no subconjunto de dados de testes."
      ]
    },
    {
      "cell_type": "code",
      "metadata": {
        "id": "RAhAj3k1HbDq"
      },
      "source": [
        "#Criação de um pipeline para simplificação do mapeamento e normalização\n",
        "from sklearn.pipeline import Pipeline\n",
        "\n",
        "pipeline = Pipeline([\n",
        "                     ('polyFeature', PolynomialFeatures(degree=grau)),\n",
        "                     ('normFeature', StandardScaler())\n",
        "                     ])\n",
        "\n",
        "#Aplicação do pipeline de transformação nos dados de teste\n",
        "X_test_norm = pipeline.fit_transform(X_test.reshape(-1,1))"
      ],
      "execution_count": 203,
      "outputs": []
    },
    {
      "cell_type": "code",
      "metadata": {
        "colab": {
          "base_uri": "https://localhost:8080/"
        },
        "id": "yvitE5xmUsSa",
        "outputId": "e93f32aa-a258-4d5a-b343-f0ea5f5ad86a"
      },
      "source": [
        "#Aplicação do modelo para predição dos novos valores\n",
        "y_pred = ridge_reg_.predict(X_test_norm)\n",
        "y_pred"
      ],
      "execution_count": 204,
      "outputs": [
        {
          "output_type": "execute_result",
          "data": {
            "text/plain": [
              "array([ 2.46502217,  2.4195676 ,  2.66374081,  5.23480665, 15.62137876,\n",
              "        2.42868542,  3.82810714, 24.97805201, 11.37834586, 42.15283338,\n",
              "        6.3681624 ,  4.07748286, 26.63879656, 33.47580835,  7.20815243,\n",
              "       22.05044271,  2.89745808,  4.68693305,  2.82533319,  2.43028097,\n",
              "        9.73998543])"
            ]
          },
          "metadata": {
            "tags": []
          },
          "execution_count": 204
        }
      ]
    },
    {
      "cell_type": "markdown",
      "metadata": {
        "id": "LvszfNKtbfiY"
      },
      "source": [
        "Ao avaliarmos o resultado no conjunto de testes obtemos $RMSE=4.057$. Ao compararmos as predições com os dados rotulados percebemos que o modelo tem boa capacidade preditiva e o ajustamento não é tão perfeito quanto no exemplo *sobreajustado* o que é uma características positiva, pois pode indicar uma melhor capacidade de generalização."
      ]
    },
    {
      "cell_type": "code",
      "metadata": {
        "colab": {
          "base_uri": "https://localhost:8080/"
        },
        "id": "lBM3OqSYWqOj",
        "outputId": "e01d24a1-5bf4-48b0-8719-d9b7e6aa380f"
      },
      "source": [
        "from sklearn.metrics import mean_squared_error\n",
        "\n",
        "print('RMSE com conjunto de teste:')\n",
        "np.sqrt(mean_squared_error(y_true=y_test, y_pred=y_pred))"
      ],
      "execution_count": 205,
      "outputs": [
        {
          "output_type": "stream",
          "text": [
            "RMSE com conjunto de teste:\n"
          ],
          "name": "stdout"
        },
        {
          "output_type": "execute_result",
          "data": {
            "text/plain": [
              "4.056965171181899"
            ]
          },
          "metadata": {
            "tags": []
          },
          "execution_count": 205
        }
      ]
    },
    {
      "cell_type": "code",
      "metadata": {
        "colab": {
          "base_uri": "https://localhost:8080/",
          "height": 0
        },
        "id": "VwT_FpZcX4_T",
        "outputId": "ea47a5d8-742c-4d9d-dab5-e641550dda69"
      },
      "source": [
        "plt.figure(figsize=(10,6))\n",
        "\n",
        "#Plotagem das observações e rótulos\n",
        "plt.plot(X_test, y_test, 'rx', alpha=0.7)\n",
        "#Plotagem das predições\n",
        "plt.scatter(X_test, y_pred, color='b', marker='_')\n",
        "\n",
        "plt.title('Regressão Polinomial\\nRegularização Ridge ($alpha$=1.25)')\n",
        "plt.legend(['Conjunto Teste', 'Predição'])\n",
        "plt.ylabel('$y$')\n",
        "plt.xlabel('$X$')\n",
        "\n",
        "sns.despine()\n",
        "plt.savefig('target/plot1.3.5.2.png')"
      ],
      "execution_count": 206,
      "outputs": [
        {
          "output_type": "display_data",
          "data": {
            "image/png": "[encoded data removed]",
            "text/plain": [
              "<Figure size 720x432 with 1 Axes>"
            ]
          },
          "metadata": {
            "tags": [],
            "needs_background": "light"
          }
        }
      ]
    },
    {
      "cell_type": "markdown",
      "metadata": {
        "id": "wxeWdL-b0akz"
      },
      "source": [
        "####Comparação final dos modelos para o conjunto de dados"
      ]
    },
    {
      "cell_type": "markdown",
      "metadata": {
        "id": "miTJN8TC0gdL"
      },
      "source": [
        "A seguir realizamos uma visualização conjunta para comparação dos modelos selecionados em cada etapa para este conjunto de dados. A descrição dos detalhes da construção da visualização estão nos comentários da célula a seguir. A interpretação das visualizações pode ser vista em cada uma das etapas anteriores dessa seção. As visualizações podem estar ligeiramente diferentes dos gráficos separados porque fizemos o uso de limites nos eixos $y$ e $x$ únicos para facilitar a comparação na mesma escala, além disso as legendas e rótulos foram apresentadas apenas uma vez para deixar os gráficos mais limpos e permitir o foco da análise nos dados apresentados."
      ]
    },
    {
      "cell_type": "code",
      "metadata": {
        "colab": {
          "base_uri": "https://localhost:8080/",
          "height": 0
        },
        "id": "eZZGsXKGjxg8",
        "outputId": "17498fbc-a9e9-4173-eac8-bad7320bf187"
      },
      "source": [
        "##===============================================\n",
        "##COMPARAÇÃO FINAL DOS MODELOS PARA O DATASET\n",
        "##===============================================\n",
        "#Limites dos eixos compartilhados\n",
        "ylim = [-10,60]\n",
        "xlim = [-65,60]\n",
        "\n",
        "#Construção da base para subplots\n",
        "fig = plt.figure(figsize=(24,7))\n",
        "fig.suptitle('Comparação dos Modelos')\n",
        "\n",
        "ax1 = fig.add_subplot(1,3,1)\n",
        "ax2 = fig.add_subplot(1,3,2)\n",
        "ax3 = fig.add_subplot(1,3,3)\n",
        "\n",
        "\n",
        "##===============================================\n",
        "##Regressão Linear Simples\n",
        "##===============================================\n",
        "#Plotar dispersão dos dados\n",
        "ax1.scatter(X_train, y_train, \n",
        "            color='r', alpha=0.7,\n",
        "            marker='x')\n",
        "\n",
        "#Plotar Regressão\n",
        "ax1.plot(X_train, (X_train * inclinacao + intersecao),\n",
        "         color='b', alpha=0.7)\n",
        "\n",
        "#Configurações visuais adicionais\n",
        "ax1.set_title('Regressão Linear Simples\\nDados Treinamento', fontsize='small')\n",
        "ax1.legend(['Regressão', 'Observações'], loc=2)\n",
        "ax1.set_ylabel('Água saindo da barragem ($y$)')\n",
        "ax1.set_ylim(ylim)\n",
        "ax1.set_xlim(xlim)\n",
        "\n",
        "\n",
        "##===============================================\n",
        "##Regressão Linear Polinomial - Sem regularização\n",
        "##===============================================\n",
        "#Plotar dispersão dos dados\n",
        "ax2.scatter(X_train, y_train,\n",
        "            color='r', alpha=0.7,\n",
        "            marker='x')\n",
        "\n",
        "#Plotar Regressão\n",
        "ax2.plot(x, h, 'b--')\n",
        "\n",
        "#Configurações visuais adicionais\n",
        "ax2.set_title('Regressão Linear Polinomial - Sem regularização\\nDados Treinamento',\n",
        "              fontsize='small')\n",
        "ax2.set_ylim(ylim)\n",
        "ax2.set_xlim(xlim)\n",
        "ax2.set_xlabel('Mudança no nível de água ($x$)')\n",
        "ax2.set_yticks([])\n",
        "\n",
        "\n",
        "##=================================================\n",
        "#Regressão Linear Polinomial - Regularização Ridge\n",
        "##=================================================\n",
        "#Plotar dispersão dos dados\n",
        "ax3.plot(X_test, y_test, 'rx', alpha=0.7)\n",
        "\n",
        "#Plotar Regressão\n",
        "ax3.scatter(X_test, y_pred, color='b', marker='_')\n",
        "\n",
        "#Configurações visuais adicionais\n",
        "ax3.set_title('Regressão Linear Polinomial - Regularização Ridge ($alpha$=1.25)\\nDados Teste',\n",
        "              fontsize='small')\n",
        "ax3.set_ylim(ylim)\n",
        "ax3.set_xlim(xlim)\n",
        "\n",
        "#Configurações finais para o conjunto de subplots\n",
        "sns.despine()\n",
        "plt.subplots_adjust(wspace=0.1)\n",
        "plt.savefig('target/plot1.3.5.3.png')"
      ],
      "execution_count": 207,
      "outputs": [
        {
          "output_type": "display_data",
          "data": {
            "image/png": "[encoded data removed]",
            "text/plain": [
              "<Figure size 1728x504 with 3 Axes>"
            ]
          },
          "metadata": {
            "tags": [],
            "needs_background": "light"
          }
        }
      ]
    },
    {
      "cell_type": "markdown",
      "metadata": {
        "id": "nJZsyV7k-GQL"
      },
      "source": [
        "#2 Redução de Dimensionalidade"
      ]
    },
    {
      "cell_type": "markdown",
      "metadata": {
        "id": "K0y4ZsPWXTu3"
      },
      "source": [
        "As ações dessa seção estão sendo implementadas seguindo a lógica do script* `pca/main.py`, contudo executadas de maneira separada nas células do notebook para melhor acompanhamento de cada etapa do processo de *redução de dimensionalidade*.\n",
        "\n",
        "*Disponível em: https://github.com/MLRG-CEFET-RJ/ml-class/tree/master/ml-t2/pca"
      ]
    },
    {
      "cell_type": "markdown",
      "metadata": {
        "id": "fxC-6dEJiAgX"
      },
      "source": [
        "##2.1 Conjunto de dados de exemplo"
      ]
    },
    {
      "cell_type": "code",
      "metadata": {
        "id": "LroDEed5ldU5",
        "colab": {
          "base_uri": "https://localhost:8080/",
          "height": 35
        },
        "outputId": "297dd603-3526-4a78-abcf-e33c79203c1b"
      },
      "source": [
        "#Reposicionamento do diretório de trabalho\n",
        "os.chdir('./pca')\n",
        "os.getcwd()"
      ],
      "execution_count": 208,
      "outputs": [
        {
          "output_type": "execute_result",
          "data": {
            "application/vnd.google.colaboratory.intrinsic+json": {
              "type": "string"
            },
            "text/plain": [
              "'/content/drive/My Drive/Mestrado PPCIC/03. Curso/3. Aprendizado/t2/pca'"
            ]
          },
          "metadata": {
            "tags": []
          },
          "execution_count": 208
        }
      ]
    },
    {
      "cell_type": "markdown",
      "metadata": {
        "id": "w5eWFEVwW1IM"
      },
      "source": [
        "A seguir visualizamos o conjunto de dados originais."
      ]
    },
    {
      "cell_type": "code",
      "metadata": {
        "colab": {
          "base_uri": "https://localhost:8080/",
          "height": 499
        },
        "id": "_a_HOuSDmvTd",
        "outputId": "9b772741-2e75-4c84-c062-9b3804aef518"
      },
      "source": [
        "#Carga do conjunto de dados\n",
        "import scipy\n",
        "raw_mat = scipy.io.loadmat('../data/ex7data1.mat')\n",
        "X = raw_mat.get('X')\n",
        "\n",
        "#Plotagem dos dados originais\n",
        "plt.figure(figsize=(10,8))\n",
        "plt.plot(X[:,0], X[:,1], 'bo')\n",
        "plt.title('Conjunto de dados originais')\n",
        "sns.despine()\n",
        "plt.savefig('../target/plot2.1.png')"
      ],
      "execution_count": 209,
      "outputs": [
        {
          "output_type": "display_data",
          "data": {
            "image/png": "[encoded data removed]",
            "text/plain": [
              "<Figure size 720x576 with 1 Axes>"
            ]
          },
          "metadata": {
            "tags": [],
            "needs_background": "light"
          }
        }
      ]
    },
    {
      "cell_type": "markdown",
      "metadata": {
        "id": "5rzklfnQwNEM"
      },
      "source": [
        "##2.2 Implementação do PCA - *Principal Component Analysis*"
      ]
    },
    {
      "cell_type": "markdown",
      "metadata": {
        "id": "69n5qmBSwTn2"
      },
      "source": [
        "Conferência das características adicionais e normalização antes de iniciar o processo de PCA."
      ]
    },
    {
      "cell_type": "code",
      "metadata": {
        "colab": {
          "base_uri": "https://localhost:8080/"
        },
        "id": "Jm35X9BhXl1m",
        "outputId": "98fd7c7f-2c4c-44a7-c893-8cd924e55659"
      },
      "source": [
        "#Visualização das primeiras linhas do conjunto de dados\n",
        "X[:10]"
      ],
      "execution_count": 210,
      "outputs": [
        {
          "output_type": "execute_result",
          "data": {
            "text/plain": [
              "array([[3.38156267, 3.38911268],\n",
              "       [4.52787538, 5.8541781 ],\n",
              "       [2.65568187, 4.41199472],\n",
              "       [2.76523467, 3.71541365],\n",
              "       [2.84656011, 4.17550645],\n",
              "       [3.89067196, 6.48838087],\n",
              "       [3.47580524, 3.63284876],\n",
              "       [5.91129845, 6.68076853],\n",
              "       [3.92889397, 5.09844661],\n",
              "       [4.56183537, 5.62329929]])"
            ]
          },
          "metadata": {
            "tags": []
          },
          "execution_count": 210
        }
      ]
    },
    {
      "cell_type": "code",
      "metadata": {
        "id": "wuEnHu_pwTuC"
      },
      "source": [
        "#Normalização das características\n",
        "from main import normalize_features\n",
        "X_norm, mu, sigma = normalize_features(X)"
      ],
      "execution_count": 211,
      "outputs": []
    },
    {
      "cell_type": "code",
      "metadata": {
        "colab": {
          "base_uri": "https://localhost:8080/"
        },
        "id": "l25rdEQxWtsg",
        "outputId": "f4205bac-ecc0-4fee-ad4c-703ff2dd456a"
      },
      "source": [
        "#Conferência do resultado da normalização\n",
        "print(X_norm[:5], mu, sigma, sep='\\n\\n')"
      ],
      "execution_count": 212,
      "outputs": [
        {
          "output_type": "stream",
          "text": [
            "[[-0.52331306 -1.59279252]\n",
            " [ 0.46381518  0.84034523]\n",
            " [-1.14839331 -0.58315891]\n",
            " [-1.05405373 -1.27071783]\n",
            " [-0.98402167 -0.81658417]]\n",
            "\n",
            "[3.98926528 5.00280585]\n",
            "\n",
            "[1.16126017 1.01312201]\n"
          ],
          "name": "stdout"
        }
      ]
    },
    {
      "cell_type": "markdown",
      "metadata": {
        "id": "otA7eCAqjqEZ"
      },
      "source": [
        "Implmentação do PCA a partir das equações:\n",
        "\n",
        "**Matriz de Covariância:**\n",
        "\n",
        "$\n",
        "\\Sigma = \\frac{1}{m}XX^T\n",
        "$\n",
        "\n",
        "Onde:\n",
        "* $X$ é matriz de dados originais\n",
        "* $m$ é o número de exemplos\n",
        "* $\\Sigma$ é a matriz de covariância de $X$ com dimensões $m\\times m$\n",
        "\n",
        "**PCA**:\n",
        "\n",
        "Obtido pela decomposição da matriz de covariância $\\Sigma$ através da técnica *decomposição de valores singulares* (SVD) implementada através da biblioteca `numpy` na função `linalg.svd`.\n"
      ]
    },
    {
      "cell_type": "code",
      "metadata": {
        "id": "EesvVgSFYbXi"
      },
      "source": [
        "#Implementação do PCA em uma função personalizada\n",
        "def pca(X):\n",
        "  ################################################\n",
        "  # Essa funcao deve retornar U e S, duas das\n",
        "  # tres matrizes geradas pela decomposicao\n",
        "  # da matriz de covariância de X.\n",
        "  #U => Componentes principais\n",
        "  #S => Vetor com os valores singulares\n",
        "  ################################################\n",
        "  \n",
        "  #Define m como o número de exemplos de X\n",
        "  m = X_norm.shape[0]\n",
        "\n",
        "  #Calcula a matriz de covariância\n",
        "  X_mc = (1/m) * np.dot(X.T, X)\n",
        "\n",
        "  #Decomposição da matriz de covariância (SVD)\n",
        "  U, S, V = np.linalg.svd(X_mc)\n",
        "\n",
        "  return (U, S)"
      ],
      "execution_count": 213,
      "outputs": []
    },
    {
      "cell_type": "code",
      "metadata": {
        "colab": {
          "base_uri": "https://localhost:8080/"
        },
        "id": "TQKSY-nSYdxH",
        "outputId": "3ae91b7b-8382-4b24-ca15-2493ebeddb4c"
      },
      "source": [
        "U, S = pca(X_norm)\n",
        "print('PCA de X:', U, sep='\\n')"
      ],
      "execution_count": 214,
      "outputs": [
        {
          "output_type": "stream",
          "text": [
            "PCA de X:\n",
            "[[-0.70710678 -0.70710678]\n",
            " [-0.70710678  0.70710678]]\n"
          ],
          "name": "stdout"
        }
      ]
    },
    {
      "cell_type": "code",
      "metadata": {
        "colab": {
          "base_uri": "https://localhost:8080/"
        },
        "id": "j4vGkGGxiCZo",
        "outputId": "1001a8fa-e5cc-4e0e-8a87-1051dfba0d1c"
      },
      "source": [
        "#Conferência das dimensões\n",
        "print(X_norm.shape, U.shape)"
      ],
      "execution_count": 215,
      "outputs": [
        {
          "output_type": "stream",
          "text": [
            "(50, 2) (2, 2)\n"
          ],
          "name": "stdout"
        }
      ]
    },
    {
      "cell_type": "markdown",
      "metadata": {
        "id": "TSe5GyB2cji8"
      },
      "source": [
        "##2.3 Redução da Dimensionalidade"
      ]
    },
    {
      "cell_type": "markdown",
      "metadata": {
        "id": "34zqNCtPcmRz"
      },
      "source": [
        "Nas subseções a seguir será feita a utilização dos autovetores retornados pelo PCA para projetar o conjunto de dados originais para o espaço unidemsional.\n",
        "\n",
        "Antes de iniciar este processo, apresentamos a seguir uma visualização dos autovetores gerados."
      ]
    },
    {
      "cell_type": "code",
      "metadata": {
        "colab": {
          "base_uri": "https://localhost:8080/",
          "height": 499
        },
        "id": "HzK-wSffcxiy",
        "outputId": "bcfaeb76-d2a1-4d3f-fce8-2b6fec844b33"
      },
      "source": [
        "plt.figure(figsize=(10,8))\n",
        "\n",
        "plt.axis('equal')\n",
        "plt.plot(X_norm[:,0], X_norm[:,1], 'bo', alpha=0.5)\n",
        "\n",
        "K = 2\n",
        "for axis, color in zip(U[:K], ['yellow','green']):\n",
        "  start, end = np.zeros(2), (mu + sigma * axis)[:K] - (mu)[:K]\n",
        "  plt.annotate('', xy=end,xytext=start,\n",
        "               arrowprops=dict(facecolor=color, width=0.8))\n",
        "plt.title('Visualização dos autovetores - PCA')\n",
        "plt.legend(['Dados Normalizados'], loc=2)\n",
        "\n",
        "plt.axis('equal')\n",
        "plt.savefig('../target/plot2.3.png')"
      ],
      "execution_count": 216,
      "outputs": [
        {
          "output_type": "display_data",
          "data": {
            "image/png": "[encoded data removed]",
            "text/plain": [
              "<Figure size 720x576 with 1 Axes>"
            ]
          },
          "metadata": {
            "tags": [],
            "needs_background": "light"
          }
        }
      ]
    },
    {
      "cell_type": "markdown",
      "metadata": {
        "id": "1GUsEtT-mTYq"
      },
      "source": [
        "###2.3.1 Projetando os dados nos componentes principais"
      ]
    },
    {
      "cell_type": "markdown",
      "metadata": {
        "id": "h3c7dgkrnWZP"
      },
      "source": [
        "Uso do PCA para projetar os dados para o novo espaço dimensional através da função `project_data`. Cada linha equivale à projeção de um exemplo bidimensional para o espaço unidimensional, definido neste exemplo pelo parâmetro $K=1$."
      ]
    },
    {
      "cell_type": "code",
      "metadata": {
        "id": "1LWfJ_xHfGvi"
      },
      "source": [
        "from main import project_data\n",
        "#Realizando a projeção\n",
        "K = 1\n",
        "Z = project_data(X_norm, U, K)"
      ],
      "execution_count": 217,
      "outputs": []
    },
    {
      "cell_type": "code",
      "metadata": {
        "colab": {
          "base_uri": "https://localhost:8080/"
        },
        "id": "KrBYZfVmmsxv",
        "outputId": "621b6b76-0e15-4191-c6b6-153350f08cd4"
      },
      "source": [
        "#Exibindo as primeiras observações dos dados projetados\n",
        "Z[:10]"
      ],
      "execution_count": 218,
      "outputs": [
        {
          "output_type": "execute_result",
          "data": {
            "text/plain": [
              "array([[ 1.49631261],\n",
              "       [-0.92218067],\n",
              "       [ 1.22439232],\n",
              "       [ 1.64386173],\n",
              "       [ 1.2732206 ],\n",
              "       [-0.97681976],\n",
              "       [ 1.26881187],\n",
              "       [-2.34148278],\n",
              "       [-0.02999141],\n",
              "       [-0.78171789]])"
            ]
          },
          "metadata": {
            "tags": []
          },
          "execution_count": 218
        }
      ]
    },
    {
      "cell_type": "code",
      "metadata": {
        "colab": {
          "base_uri": "https://localhost:8080/"
        },
        "id": "Q74mY8BTpDlj",
        "outputId": "3ba040f4-e2e6-48f7-a708-d8baddc4df8e"
      },
      "source": [
        "#Projetando apenas o primeiro exemplo de X\n",
        "print('X original:', X[0])\n",
        "print('X normalizado:', X_norm[0])\n",
        "print('X projetado para 1 dim:', project_data(X_norm[0].reshape(-1,1).T, U, K))"
      ],
      "execution_count": 219,
      "outputs": [
        {
          "output_type": "stream",
          "text": [
            "X original: [3.38156267 3.38911268]\n",
            "X normalizado: [-0.52331306 -1.59279252]\n",
            "X projetado para 1 dim: [[1.49631261]]\n"
          ],
          "name": "stdout"
        }
      ]
    },
    {
      "cell_type": "markdown",
      "metadata": {
        "id": "6UuzM0_nmjjt"
      },
      "source": [
        "###2.3.2 Reconstruindo uma aproximação dos dados"
      ]
    },
    {
      "cell_type": "markdown",
      "metadata": {
        "id": "Fr20Ifg4np4T"
      },
      "source": [
        "Realização do processo inverso para recuperar os dados do espaço unidimensional para o espaço dimensional original. Este tipo de processo ocorre com algum nível de perda, por isso, os valores projetados de volta para a dimensão original não serão necessariamente iguais aos valores que lhes deram origem."
      ]
    },
    {
      "cell_type": "code",
      "metadata": {
        "id": "JZtshrPYmjtK"
      },
      "source": [
        "from main import recover_data\n",
        "X_rec = recover_data(Z, U, K)"
      ],
      "execution_count": 220,
      "outputs": []
    },
    {
      "cell_type": "code",
      "metadata": {
        "colab": {
          "base_uri": "https://localhost:8080/"
        },
        "id": "JzHSlPTHmuBP",
        "outputId": "883c891d-5325-41bf-a457-f42d4514fe46"
      },
      "source": [
        "#Exibindo as primeiras observações dos dados recuperados\n",
        "X_rec[:10]"
      ],
      "execution_count": 221,
      "outputs": [
        {
          "output_type": "execute_result",
          "data": {
            "text/plain": [
              "array([[-1.05805279, -1.05805279],\n",
              "       [ 0.65208021,  0.65208021],\n",
              "       [-0.86577611, -0.86577611],\n",
              "       [-1.16238578, -1.16238578],\n",
              "       [-0.90030292, -0.90030292],\n",
              "       [ 0.69071588,  0.69071588],\n",
              "       [-0.89718548, -0.89718548],\n",
              "       [ 1.65567835,  1.65567835],\n",
              "       [ 0.02120713,  0.02120713],\n",
              "       [ 0.55275802,  0.55275802]])"
            ]
          },
          "metadata": {
            "tags": []
          },
          "execution_count": 221
        }
      ]
    },
    {
      "cell_type": "markdown",
      "metadata": {
        "id": "BJtfb_rnmxRE"
      },
      "source": [
        "###2.3.3 Visualizando as projeções"
      ]
    },
    {
      "cell_type": "markdown",
      "metadata": {
        "id": "O_RM8rAs8B8b"
      },
      "source": [
        "Por fim, para conferência do resultado da redução da dimensionalidade, projetamos a seguir as observações originais (normalizadas) e os dados projetados para uma dimensão. "
      ]
    },
    {
      "cell_type": "code",
      "metadata": {
        "colab": {
          "base_uri": "https://localhost:8080/",
          "height": 499
        },
        "id": "ah7ZpAXAfAO-",
        "outputId": "67ec31e8-12f9-4ee8-c42e-632d28555ca6"
      },
      "source": [
        "plt.figure(figsize=(10,8))\n",
        "\n",
        "plt.plot(X_norm[:,0], X_norm[:,1], 'bo', alpha=0.5)\n",
        "plt.plot(X_rec[:,0], X_rec[:,1], 'rx')\n",
        "\n",
        "plt.title('Visualização da Projeção de Dados - PCA')\n",
        "plt.legend(['Dados Normalizados', 'Dados Projetados'], loc=2)\n",
        "\n",
        "plt.axis('equal')\n",
        "plt.savefig('../target/plot2.3.3.png')"
      ],
      "execution_count": 222,
      "outputs": [
        {
          "output_type": "display_data",
          "data": {
            "image/png": "[encoded data removed]",
            "text/plain": [
              "<Figure size 720x576 with 1 Axes>"
            ]
          },
          "metadata": {
            "tags": [],
            "needs_background": "light"
          }
        }
      ]
    },
    {
      "cell_type": "markdown",
      "metadata": {
        "id": "k9PFjTon-J-g"
      },
      "source": [
        "#3 Agrupamento"
      ]
    },
    {
      "cell_type": "markdown",
      "metadata": {
        "id": "jG9H_TFJMG6I"
      },
      "source": [
        "As ações dessa seção estão sendo implementadas seguindo a lógica do script* `kmeans/main.py`, contudo executadas de maneira separada nas células do notebook para melhor acompanhamento de cada etapa do processo de agrupamento usano o algoritmo *k-Means*.\n",
        "\n",
        "*Disponível em: https://github.com/MLRG-CEFET-RJ/ml-class/tree/master/ml-t2/kmeans"
      ]
    },
    {
      "cell_type": "markdown",
      "metadata": {
        "id": "ydA4gTL6-MGN"
      },
      "source": [
        "##3.1 Implmentando K-means"
      ]
    },
    {
      "cell_type": "code",
      "metadata": {
        "id": "Ejd-bkKn-MRq",
        "colab": {
          "base_uri": "https://localhost:8080/"
        },
        "outputId": "67e3f10d-7277-48d6-d8f1-7981ce8eeb37"
      },
      "source": [
        "#Retornando para o diretório de trabalho inicial\n",
        "os.chdir('../')\n",
        "\n",
        "#Carga dos dados\n",
        "raw_mat = scipy.io.loadmat('data/ex7data2.mat')\n",
        "X = raw_mat.get('X')\n",
        "X[:5]"
      ],
      "execution_count": 223,
      "outputs": [
        {
          "output_type": "execute_result",
          "data": {
            "text/plain": [
              "array([[1.84207953, 4.6075716 ],\n",
              "       [5.65858312, 4.79996405],\n",
              "       [6.35257892, 3.2908545 ],\n",
              "       [2.90401653, 4.61220411],\n",
              "       [3.23197916, 4.93989405]])"
            ]
          },
          "metadata": {
            "tags": []
          },
          "execution_count": 223
        }
      ]
    },
    {
      "cell_type": "markdown",
      "metadata": {
        "id": "eKK2uYQgKtaw"
      },
      "source": [
        "Visualização dos dados originais para uma exploração visual inicial."
      ]
    },
    {
      "cell_type": "code",
      "metadata": {
        "colab": {
          "base_uri": "https://localhost:8080/",
          "height": 499
        },
        "id": "M4LwsSsRKXnm",
        "outputId": "3268015f-0a3f-4609-e005-aa99a357659b"
      },
      "source": [
        "plt.figure(figsize=(10,8))\n",
        "\n",
        "#Dispersão dos dados\n",
        "plt.scatter(X[:, 0], X[:, 1], marker='o', alpha=0.7)\n",
        "plt.title('Dispersão dos dados')\n",
        "\n",
        "sns.despine()\n",
        "\n",
        "plt.savefig('target/plot3.1.png')"
      ],
      "execution_count": 224,
      "outputs": [
        {
          "output_type": "display_data",
          "data": {
            "image/png": "[encoded data removed]",
            "text/plain": [
              "<Figure size 720x576 with 1 Axes>"
            ]
          },
          "metadata": {
            "tags": [],
            "needs_background": "light"
          }
        }
      ]
    },
    {
      "cell_type": "markdown",
      "metadata": {
        "id": "rRCQk1a6RPG6"
      },
      "source": [
        "###3.1.1 Implementação simplificada com Scikit-Learn"
      ]
    },
    {
      "cell_type": "markdown",
      "metadata": {
        "id": "iGXrRwUzRT6v"
      },
      "source": [
        "Para melhor entendimento das tarefas necessárias para as próximas seções, inicialmente está sendo feita a implementação de um modelo *k-Means* com a bilioteca `Scikit-Learn`, usando a classe `KMeans`."
      ]
    },
    {
      "cell_type": "code",
      "metadata": {
        "colab": {
          "base_uri": "https://localhost:8080/"
        },
        "id": "5AugUN05RjdQ",
        "outputId": "f333052c-d062-4410-dd35-7b46a2cb6e38"
      },
      "source": [
        "from sklearn.cluster import KMeans\n",
        "k = 3\n",
        "\n",
        "#Criação do objeto com o agrupador\n",
        "kmeans = KMeans(n_clusters=k)\n",
        "\n",
        "#Treinamento do modelo\n",
        "kmeans.fit(X)"
      ],
      "execution_count": 225,
      "outputs": [
        {
          "output_type": "execute_result",
          "data": {
            "text/plain": [
              "KMeans(algorithm='auto', copy_x=True, init='k-means++', max_iter=300,\n",
              "       n_clusters=3, n_init=10, n_jobs=None, precompute_distances='auto',\n",
              "       random_state=None, tol=0.0001, verbose=0)"
            ]
          },
          "metadata": {
            "tags": []
          },
          "execution_count": 225
        }
      ]
    },
    {
      "cell_type": "code",
      "metadata": {
        "colab": {
          "base_uri": "https://localhost:8080/"
        },
        "id": "fHF3E7y7Ry-6",
        "outputId": "6639eae9-27e9-46bb-944b-29334b42d8e6"
      },
      "source": [
        "#Uso do modelo para predição dos grupos\n",
        "y_pred = kmeans.predict(X)\n",
        "y_pred"
      ],
      "execution_count": 226,
      "outputs": [
        {
          "output_type": "execute_result",
          "data": {
            "text/plain": [
              "array([0, 2, 2, 0, 0, 0, 0, 0, 0, 0, 0, 0, 0, 0, 0, 0, 0, 0, 0, 0, 0, 0,\n",
              "       0, 0, 0, 0, 0, 0, 0, 0, 0, 0, 0, 0, 0, 0, 0, 0, 0, 0, 0, 0, 0, 0,\n",
              "       0, 0, 0, 0, 0, 0, 0, 0, 0, 0, 0, 0, 0, 0, 0, 0, 0, 0, 0, 0, 0, 0,\n",
              "       0, 0, 0, 0, 0, 0, 0, 0, 0, 0, 0, 0, 0, 0, 0, 0, 0, 0, 2, 0, 0, 0,\n",
              "       0, 0, 0, 0, 0, 0, 0, 0, 0, 0, 0, 0, 1, 1, 1, 1, 1, 1, 1, 1, 1, 1,\n",
              "       1, 1, 1, 1, 1, 1, 1, 1, 1, 1, 1, 1, 1, 1, 1, 1, 1, 1, 1, 1, 1, 1,\n",
              "       1, 1, 1, 1, 1, 1, 1, 1, 1, 1, 1, 1, 1, 1, 1, 1, 1, 1, 1, 1, 1, 1,\n",
              "       1, 1, 1, 1, 1, 1, 1, 1, 1, 1, 1, 1, 1, 1, 1, 1, 1, 1, 1, 1, 1, 1,\n",
              "       1, 1, 1, 1, 1, 1, 1, 1, 1, 1, 1, 1, 1, 1, 1, 1, 1, 1, 1, 1, 1, 1,\n",
              "       1, 1, 2, 2, 2, 2, 2, 2, 2, 2, 2, 2, 2, 2, 2, 2, 2, 2, 2, 2, 2, 2,\n",
              "       2, 2, 2, 2, 2, 2, 2, 2, 2, 2, 2, 2, 2, 2, 2, 2, 2, 2, 2, 1, 2, 2,\n",
              "       2, 2, 2, 2, 2, 2, 2, 2, 2, 2, 2, 2, 2, 2, 2, 2, 2, 2, 2, 2, 2, 2,\n",
              "       2, 1, 2, 2, 2, 2, 2, 2, 2, 2, 2, 2, 2, 2, 2, 2, 2, 2, 2, 2, 2, 2,\n",
              "       2, 2, 2, 2, 2, 2, 2, 2, 2, 2, 2, 2, 2, 0], dtype=int32)"
            ]
          },
          "metadata": {
            "tags": []
          },
          "execution_count": 226
        }
      ]
    },
    {
      "cell_type": "code",
      "metadata": {
        "colab": {
          "base_uri": "https://localhost:8080/"
        },
        "id": "SYY2L2qWSMNm",
        "outputId": "925984a2-a494-4b23-deb6-b13965298808"
      },
      "source": [
        "#Identificação dos centroides de cada grupo\n",
        "kmeans.cluster_centers_"
      ],
      "execution_count": 227,
      "outputs": [
        {
          "output_type": "execute_result",
          "data": {
            "text/plain": [
              "array([[1.95399466, 5.02557006],\n",
              "       [3.04367119, 1.01541041],\n",
              "       [6.03366736, 3.00052511]])"
            ]
          },
          "metadata": {
            "tags": []
          },
          "execution_count": 227
        }
      ]
    },
    {
      "cell_type": "code",
      "metadata": {
        "colab": {
          "base_uri": "https://localhost:8080/",
          "height": 515
        },
        "id": "A3BUHlNESTKI",
        "outputId": "c17b00fa-f60d-4bd5-c26f-e2f95e3587bc"
      },
      "source": [
        "#Visualização do resultado do agrupamento\n",
        "plt.figure(figsize=(10,8))\n",
        "\n",
        "#Plotagem da dispersão com cores para diferenciar os grupos\n",
        "#Neste gráfico usamos os modelos previstos para definir a cor dos grupos\n",
        "plt.scatter(X[:, 0], X[:, 1], c=y_pred, s=20, cmap='viridis', alpha=0.7)\n",
        "\n",
        "#Plotagem do centróide de cada grupo\n",
        "centers = kmeans.cluster_centers_\n",
        "plt.scatter(centers[:, 0], centers[:, 1], c='black', s=200, alpha=0.5)\n",
        "\n",
        "#Configurações visuais adicionais\n",
        "plt.title('Agrupamento k-Means\\n$k=3$')\n",
        "sns.despine()\n",
        "\n",
        "plt.savefig('target/plot3.1.1.png')"
      ],
      "execution_count": 228,
      "outputs": [
        {
          "output_type": "display_data",
          "data": {
            "image/png": "[encoded data removed]",
            "text/plain": [
              "<Figure size 720x576 with 1 Axes>"
            ]
          },
          "metadata": {
            "tags": [],
            "needs_background": "light"
          }
        }
      ]
    },
    {
      "cell_type": "markdown",
      "metadata": {
        "id": "rcmdQxjmMdTM"
      },
      "source": [
        "##3.2 Encontrando centróides mais próximos"
      ]
    },
    {
      "cell_type": "markdown",
      "metadata": {
        "id": "1GC1cxIxW0no"
      },
      "source": [
        "**Implementação do zero do algoritmo k-Means:**\n",
        "\n",
        "Os detalhes da implementação estão nos comentários da função. Após sua implementação é realizado o teste nos primeiros três exemplos do conjunto de dados, para os quais espera-se a classificação nos grupos 0, 2 e 1, respectivamente.\n"
      ]
    },
    {
      "cell_type": "code",
      "metadata": {
        "id": "J25BVIw1W47F"
      },
      "source": [
        "#Implementação da função para cálculo dos centróides\n",
        "def find_closest_centroids(X, centroids):\n",
        "  K = np.size(centroids, 0)\n",
        "  idx = np.zeros((len(X), 1), dtype=np.int8)\n",
        "  \n",
        "  ##################################################\n",
        "  # SEU CODIGO AQUI\n",
        "  #Quantidade de exemplos no conjunto de dados\n",
        "  m = np.size(X, 0)\n",
        "\n",
        "  for i in range(m):\n",
        "\n",
        "    for j in range(K):\n",
        "      #Calcula a distância Euclidiana entre o i-ésimo X e o j-ésimo centroide\n",
        "      distance = np.linalg.norm(X[i] - initial_centroids[j])\n",
        "    \n",
        "      #Se for a primeira iteração de m seta min_dist = distance\n",
        "      if j == 0:\n",
        "        min_dist = distance\n",
        "\n",
        "      #Compara as distâncias de cada iteração\n",
        "      #Se for a menor atribue o valor a min_dist e grava o índice do centroide\n",
        "      if distance < min_dist:\n",
        "        min_dist = distance\n",
        "        idx[i] = j\n",
        "  ##################################################\n",
        "\n",
        "  return idx"
      ],
      "execution_count": 245,
      "outputs": []
    },
    {
      "cell_type": "code",
      "metadata": {
        "colab": {
          "base_uri": "https://localhost:8080/"
        },
        "id": "SexZJ6iNEkec",
        "outputId": "7e827f24-0f9f-4eac-eb57-fe6121c0bf63"
      },
      "source": [
        "#Centróides iniciais\n",
        "initial_centroids = np.array([[3, 3], [6, 2], [8, 5]])\n",
        "\n",
        "#Conferência da função com os três primeiros exemplos\n",
        "#Valores esperados [0 1 2]\n",
        "find_closest_centroids(X[:3], initial_centroids)"
      ],
      "execution_count": 246,
      "outputs": [
        {
          "output_type": "execute_result",
          "data": {
            "text/plain": [
              "array([[0],\n",
              "       [2],\n",
              "       [1]], dtype=int8)"
            ]
          },
          "metadata": {
            "tags": []
          },
          "execution_count": 246
        }
      ]
    },
    {
      "cell_type": "markdown",
      "metadata": {
        "id": "MRx-FlxfFihG"
      },
      "source": [
        "Uma vez que os valores previstos foram confirmados de maneira adequada, a função é aplicada abaixo para identificar os centroides para o conjunto de dados completo. Em seguida é gerada a visualizção das atribuições iniciais de pontos aos k grupos."
      ]
    },
    {
      "cell_type": "code",
      "metadata": {
        "id": "5EY33pm2YdbS"
      },
      "source": [
        "#Aplicação da função\n",
        "idx = find_closest_centroids(X, initial_centroids)"
      ],
      "execution_count": 247,
      "outputs": []
    },
    {
      "cell_type": "code",
      "metadata": {
        "colab": {
          "base_uri": "https://localhost:8080/",
          "height": 499
        },
        "id": "KSGLNZmRFx-w",
        "outputId": "dd62b1bb-fe9f-426c-af71-5a0743f67a1a"
      },
      "source": [
        "#Visualização do resultado do agrupamento\n",
        "plt.figure(figsize=(10,8))\n",
        "\n",
        "#Visualização e cada grupo\n",
        "plt.scatter(X[np.where(idx==0),0],X[np.where(idx==0),1], marker='o')\n",
        "plt.scatter(X[np.where(idx==1),0],X[np.where(idx==1),1], marker='x')\n",
        "plt.scatter(X[np.where(idx==2),0],X[np.where(idx==2),1], marker='+')\n",
        "\n",
        "#Configurações visuais adicionais\n",
        "plt.title('Atribuições iniciais do agrupamento')\n",
        "\n",
        "plt.savefig('target/plot3.2.png')"
      ],
      "execution_count": 251,
      "outputs": [
        {
          "output_type": "display_data",
          "data": {
            "image/png": "[encoded data removed]",
            "text/plain": [
              "<Figure size 720x576 with 1 Axes>"
            ]
          },
          "metadata": {
            "tags": [],
            "needs_background": "light"
          }
        }
      ]
    },
    {
      "cell_type": "markdown",
      "metadata": {
        "id": "0DRwOf5GGo7V"
      },
      "source": [
        "O agrupamento inicial já conseguiu fazer uma diferenciação básica das observações, contudo, percebe-se claramente pontos marcados em azul em localizações bem distantes. Além disso o grupo identificado pelas marcações em verde quase não se distinguem dos valores à direita e acima dos valores laranja. Por fim, há valores dos três grupos misturados em algumas coordenadas do gráfico, como no caso da parte superior esquerda, por volta das coordenadas [2, 3]."
      ]
    },
    {
      "cell_type": "markdown",
      "metadata": {
        "id": "VNzMx30WHd_a"
      },
      "source": [
        "##3.3 Atualizações dos centróides"
      ]
    },
    {
      "cell_type": "code",
      "metadata": {
        "id": "ewJ5AYNRHgi-"
      },
      "source": [
        ""
      ],
      "execution_count": null,
      "outputs": []
    },
    {
      "cell_type": "markdown",
      "metadata": {
        "id": "vkDs0-aJ-MlK"
      },
      "source": [
        "#4 Detecção de Anomalias"
      ]
    },
    {
      "cell_type": "markdown",
      "metadata": {
        "id": "YMchP4P4-PNz"
      },
      "source": [
        ""
      ]
    },
    {
      "cell_type": "code",
      "metadata": {
        "id": "znHJ6Pyt-PZF"
      },
      "source": [
        ""
      ],
      "execution_count": 232,
      "outputs": []
    },
    {
      "cell_type": "markdown",
      "metadata": {
        "id": "8kwife5G5woO"
      },
      "source": [
        "#Referências"
      ]
    },
    {
      "cell_type": "markdown",
      "metadata": {
        "id": "N5OVMr0b5ziU"
      },
      "source": [
        "**Referências**\n",
        "\n",
        "McKinney, Wes (2018). **Python para Análise de Dados**: tratamento de dados com pandas, numpy e iPython. Traduzido por Lúcia A. Kinoshita. Novatec.\n",
        "\n",
        "Géron, Aurélien (2019). **Mãos à Obra Aprendizagem de Máquina com Scikit-Learn & TensorFlow:** Conceitos, ferramentas e técnicas para a construção de sistemas inteligentes. Traduzido por Rafael Contatori. Alta Books.\n",
        "\n",
        "Grus, Joel (2016). **Data Science do Zero:** Primeiras regras com Python. Traduzido por Welington Nascimento. Alta Books.\n",
        "\n",
        "---\n",
        "\n",
        "**Algoritmos e conjuntos de dados:**\n",
        "\n",
        "Bibliotecas personalizadas e conjuntos de dados usados na análise: https://github.com/MLRG-CEFET-RJ/ml-class/tree/master/ml-t1/code\n",
        "\n",
        "Códigos complementares usados na análise: https://github.com/janiosl/python.ds/tree/master/ml/T1/code\n",
        "\n",
        "Seleção de modelos: https://github.com/MLRG-CEFET-RJ/ml-class/blob/master/ppcic_ml_modelselection.ipynb\n",
        "\n",
        "Avaliação de modelo: https://github.com/MLRG-CEFET-RJ/ml-class/blob/master/ppcic_ml_modeleval_sup.ipynb\n",
        "\n",
        "Árvore de decisão: https://github.com/MLRG-CEFET-RJ/ml-class/blob/master/ppcic_ml_dtree.ipynb\n",
        "\n",
        "kNN: https://github.com/MLRG-CEFET-RJ/ml-class/blob/master/ppcic_ml_knn.ipynb\n",
        "\n",
        "Naive Bayes: https://github.com/MLRG-CEFET-RJ/ml-class/blob/master/ppcic_ml_naivebayes.ipynb\n",
        "\n",
        "Curva de aprendizado: https://scikit-learn.org/stable/modules/generated/sklearn.model_selection.learning_curve.html#sklearn.model_selection.learning_curve\n",
        "\n",
        "Aplicação das funções curva de aprendizado: https://scikit-learn.org/stable/auto_examples/model_selection/plot_learning_curve.html\n",
        "\n",
        "Análise de Componentes Principais - PCA: https://pt.wikipedia.org/wiki/An%C3%A1lise_de_componentes_principais\n",
        "\n",
        "Agrupamento: https://github.com/MLRG-CEFET-RJ/ml-class/blob/master/ml_clustering.ipynb"
      ]
    }
  ]
}