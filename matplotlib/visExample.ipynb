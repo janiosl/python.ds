{
  "nbformat": 4,
  "nbformat_minor": 0,
  "metadata": {
    "colab": {
      "provenance": [],
      "authorship_tag": "ABX9TyMrbOJsW3YzXViQxWh5+lah",
      "include_colab_link": true
    },
    "kernelspec": {
      "name": "python3",
      "display_name": "Python 3"
    },
    "language_info": {
      "name": "python"
    }
  },
  "cells": [
    {
      "cell_type": "markdown",
      "metadata": {
        "id": "view-in-github",
        "colab_type": "text"
      },
      "source": [
        "<a href=\"https://colab.research.google.com/github/janiosl/python.ds/blob/master/matplotlib/visExample.ipynb\" target=\"_parent\"><img src=\"https://colab.research.google.com/assets/colab-badge.svg\" alt=\"Open In Colab\"/></a>"
      ]
    },
    {
      "cell_type": "markdown",
      "source": [
        "# Análise de dados"
      ],
      "metadata": {
        "id": "SpNWLfklQHJQ"
      }
    },
    {
      "cell_type": "code",
      "execution_count": null,
      "metadata": {
        "id": "S2z2ENdqPrZI"
      },
      "outputs": [],
      "source": []
    },
    {
      "cell_type": "code",
      "source": [],
      "metadata": {
        "id": "nEgRW5D3QXnR"
      },
      "execution_count": null,
      "outputs": []
    },
    {
      "cell_type": "code",
      "source": [],
      "metadata": {
        "id": "QFfqbZr8QX7-"
      },
      "execution_count": null,
      "outputs": []
    },
    {
      "cell_type": "markdown",
      "source": [
        "# Visualização de dados"
      ],
      "metadata": {
        "id": "QA_DysOuQTmO"
      }
    },
    {
      "cell_type": "code",
      "source": [],
      "metadata": {
        "id": "8l8EwpGAQcFE"
      },
      "execution_count": null,
      "outputs": []
    },
    {
      "cell_type": "code",
      "source": [],
      "metadata": {
        "id": "ngdD70HRQcqj"
      },
      "execution_count": null,
      "outputs": []
    },
    {
      "cell_type": "code",
      "source": [],
      "metadata": {
        "id": "pDYBbPAkQc_w"
      },
      "execution_count": null,
      "outputs": []
    },
    {
      "cell_type": "markdown",
      "source": [
        "# Análise dos resultados"
      ],
      "metadata": {
        "id": "XTNhPATYQlm5"
      }
    },
    {
      "cell_type": "markdown",
      "source": [
        "Análise do resultado XPTO"
      ],
      "metadata": {
        "id": "gmFE7BRqQo5-"
      }
    }
  ]
}