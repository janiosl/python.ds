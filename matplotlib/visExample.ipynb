{
  "nbformat": 4,
  "nbformat_minor": 0,
  "metadata": {
    "colab": {
      "provenance": [],
      "authorship_tag": "ABX9TyObAI0kdMplrEi6ty/bN2uO",
      "include_colab_link": true
    },
    "kernelspec": {
      "name": "python3",
      "display_name": "Python 3"
    },
    "language_info": {
      "name": "python"
    }
  },
  "cells": [
    {
      "cell_type": "markdown",
      "metadata": {
        "id": "view-in-github",
        "colab_type": "text"
      },
      "source": [
        "<a href=\"https://colab.research.google.com/github/janiosl/python.ds/blob/master/matplotlib/visExample.ipynb\" target=\"_parent\"><img src=\"https://colab.research.google.com/assets/colab-badge.svg\" alt=\"Open In Colab\"/></a>"
      ]
    },
    {
      "cell_type": "markdown",
      "source": [
        "# Curso de Formação de Economistas"
      ],
      "metadata": {
        "id": "SpNWLfklQHJQ"
      }
    },
    {
      "cell_type": "markdown",
      "source": [
        "## Análise de dados"
      ],
      "metadata": {
        "id": "HjqaFez2SIPs"
      }
    },
    {
      "cell_type": "markdown",
      "source": [
        "### Carga de dados"
      ],
      "metadata": {
        "id": "io61NyI4SV4R"
      }
    },
    {
      "cell_type": "code",
      "execution_count": 4,
      "metadata": {
        "colab": {
          "base_uri": "https://localhost:8080/"
        },
        "id": "S2z2ENdqPrZI",
        "outputId": "4263c861-364c-4c57-96a2-092b0cb2f5cf"
      },
      "outputs": [
        {
          "output_type": "stream",
          "name": "stdout",
          "text": [
            "1\n"
          ]
        }
      ],
      "source": [
        "print(1)"
      ]
    },
    {
      "cell_type": "code",
      "source": [
        "a = 2"
      ],
      "metadata": {
        "id": "nEgRW5D3QXnR"
      },
      "execution_count": 5,
      "outputs": []
    },
    {
      "cell_type": "markdown",
      "source": [
        "### Preprocessamento"
      ],
      "metadata": {
        "id": "qfxz5k9xSYWW"
      }
    },
    {
      "cell_type": "code",
      "source": [
        "b = a ** 2\n",
        "print(b)"
      ],
      "metadata": {
        "colab": {
          "base_uri": "https://localhost:8080/"
        },
        "id": "QFfqbZr8QX7-",
        "outputId": "476fb924-34a9-43e1-c9d3-e329dae2101e"
      },
      "execution_count": 3,
      "outputs": [
        {
          "output_type": "stream",
          "name": "stdout",
          "text": [
            "4\n"
          ]
        }
      ]
    },
    {
      "cell_type": "markdown",
      "source": [
        "## Visualização de dados"
      ],
      "metadata": {
        "id": "QA_DysOuQTmO"
      }
    },
    {
      "cell_type": "code",
      "source": [],
      "metadata": {
        "id": "8l8EwpGAQcFE"
      },
      "execution_count": null,
      "outputs": []
    },
    {
      "cell_type": "code",
      "source": [],
      "metadata": {
        "id": "ngdD70HRQcqj"
      },
      "execution_count": null,
      "outputs": []
    },
    {
      "cell_type": "code",
      "source": [],
      "metadata": {
        "id": "pDYBbPAkQc_w"
      },
      "execution_count": null,
      "outputs": []
    },
    {
      "cell_type": "markdown",
      "source": [
        "## Análise dos resultados"
      ],
      "metadata": {
        "id": "XTNhPATYQlm5"
      }
    },
    {
      "cell_type": "markdown",
      "source": [
        "Análise do resultado XPTO"
      ],
      "metadata": {
        "id": "gmFE7BRqQo5-"
      }
    }
  ]
}