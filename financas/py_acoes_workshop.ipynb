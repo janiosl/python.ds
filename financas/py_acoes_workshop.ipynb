{
  "nbformat": 4,
  "nbformat_minor": 0,
  "metadata": {
    "colab": {
      "name": "py_acoes_workshop.ipynb",
      "provenance": [],
      "collapsed_sections": [],
      "include_colab_link": true
    },
    "kernelspec": {
      "name": "python3",
      "display_name": "Python 3"
    }
  },
  "cells": [
    {
      "cell_type": "markdown",
      "metadata": {
        "id": "view-in-github",
        "colab_type": "text"
      },
      "source": [
        "<a href=\"https://colab.research.google.com/github/janiosl/python.ds/blob/master/py_acoes_workshop.ipynb\" target=\"_parent\"><img src=\"https://colab.research.google.com/assets/colab-badge.svg\" alt=\"Open In Colab\"/></a>"
      ]
    },
    {
      "cell_type": "markdown",
      "metadata": {
        "id": "UToiLUURNDPR"
      },
      "source": [
        "\n",
        "Referência:\n",
        "\n",
        "RODRIGUES, Paulo (2019). Python Aplicado: Bolsa de Valores - Um guia para construção de análises e indicadores. \n",
        "\n",
        "* Exemplos ajustado em função de atualização de pacotes e para melhor uso na plataforma Google Colab.\n",
        "* Para uso de alguns gráficos é necessário a criação de uma conta gratuita ou paga da ferramenta Chart Studio (https://chart-studio.plotly.com).\n",
        "\n"
      ]
    },
    {
      "cell_type": "code",
      "metadata": {
        "id": "9xb_qL5CkitT",
        "outputId": "8d98cc30-2d40-4dc8-8ade-499041e7a884",
        "colab": {
          "base_uri": "https://localhost:8080/"
        }
      },
      "source": [
        "#Instala o pacote para geração dos gráficos de análise de ações\n",
        "!pip install chart-studio"
      ],
      "execution_count": 1,
      "outputs": [
        {
          "output_type": "stream",
          "text": [
            "Collecting chart-studio\n",
            "\u001b[?25l  Downloading https://files.pythonhosted.org/packages/ca/ce/330794a6b6ca4b9182c38fc69dd2a9cbff60fd49421cb8648ee5fee352dc/chart_studio-1.1.0-py3-none-any.whl (64kB)\n",
            "\r\u001b[K     |█████                           | 10kB 17.6MB/s eta 0:00:01\r\u001b[K     |██████████▏                     | 20kB 17.8MB/s eta 0:00:01\r\u001b[K     |███████████████▎                | 30kB 11.0MB/s eta 0:00:01\r\u001b[K     |████████████████████▍           | 40kB 8.7MB/s eta 0:00:01\r\u001b[K     |█████████████████████████▍      | 51kB 4.3MB/s eta 0:00:01\r\u001b[K     |██████████████████████████████▌ | 61kB 4.6MB/s eta 0:00:01\r\u001b[K     |████████████████████████████████| 71kB 3.5MB/s \n",
            "\u001b[?25hRequirement already satisfied: plotly in /usr/local/lib/python3.6/dist-packages (from chart-studio) (4.4.1)\n",
            "Requirement already satisfied: retrying>=1.3.3 in /usr/local/lib/python3.6/dist-packages (from chart-studio) (1.3.3)\n",
            "Requirement already satisfied: requests in /usr/local/lib/python3.6/dist-packages (from chart-studio) (2.23.0)\n",
            "Requirement already satisfied: six in /usr/local/lib/python3.6/dist-packages (from chart-studio) (1.15.0)\n",
            "Requirement already satisfied: urllib3!=1.25.0,!=1.25.1,<1.26,>=1.21.1 in /usr/local/lib/python3.6/dist-packages (from requests->chart-studio) (1.24.3)\n",
            "Requirement already satisfied: certifi>=2017.4.17 in /usr/local/lib/python3.6/dist-packages (from requests->chart-studio) (2020.6.20)\n",
            "Requirement already satisfied: chardet<4,>=3.0.2 in /usr/local/lib/python3.6/dist-packages (from requests->chart-studio) (3.0.4)\n",
            "Requirement already satisfied: idna<3,>=2.5 in /usr/local/lib/python3.6/dist-packages (from requests->chart-studio) (2.10)\n",
            "Installing collected packages: chart-studio\n",
            "Successfully installed chart-studio-1.1.0\n"
          ],
          "name": "stdout"
        }
      ]
    },
    {
      "cell_type": "code",
      "metadata": {
        "id": "S0SYsEb3lP-U"
      },
      "source": [
        ""
      ],
      "execution_count": 1,
      "outputs": []
    },
    {
      "cell_type": "markdown",
      "metadata": {
        "id": "YXzXa-ZNlQqO"
      },
      "source": [
        "Importação das bibliotecas matemáticas, estatísticas e de geração de gráficos para nossa análise."
      ]
    },
    {
      "cell_type": "code",
      "metadata": {
        "id": "bM45xSKv6nKI"
      },
      "source": [
        "#Bibliotecas\n",
        "import pandas as pd\n",
        "import pandas_datareader as pdr\n",
        "import datetime\n",
        "import numpy as np\n",
        "import plotly.graph_objects as go\n",
        "from matplotlib import pyplot as plt\n",
        "import seaborn as sns\n",
        "import chart_studio.plotly as py"
      ],
      "execution_count": 2,
      "outputs": []
    },
    {
      "cell_type": "markdown",
      "metadata": {
        "id": "2zdaBnuDOGFv"
      },
      "source": [
        "Para rodar a célula abaixo os dados deverão ser substituídos pelo seus dados de login na ferramenta Chart Studio."
      ]
    },
    {
      "cell_type": "code",
      "metadata": {
        "id": "4808N_PBG-gU"
      },
      "source": [
        "#Login na ferramenta de geração de gráficos\n",
        "#Substituir dados abaixo por seu usuário e api key gerados no Char-Studio\n",
        "plotly_username = 'usuario'\n",
        "plotly_key = 'api key'\n",
        "\n",
        "py.sign_in(plotly_username, plotly_key)"
      ],
      "execution_count": 3,
      "outputs": []
    },
    {
      "cell_type": "code",
      "metadata": {
        "id": "_iAnr8cp7NIf"
      },
      "source": [
        "def get(tickers, startdate, enddate):\n",
        "  \"\"\"\n",
        "  Função criada por Paulo Rodrigues (2019)\n",
        "  Realiza downoads dos dados a partir da base do Yahoo Finance\n",
        "  Agrupa por acao e ordena por data\n",
        "  \"\"\"\n",
        "\n",
        "  def data(ticker):\n",
        "    #Download dos dados\n",
        "    return (pdr.get_data_yahoo(ticker,\n",
        "                               start=startdate,\n",
        "                               end=enddate))\n",
        "    \n",
        "  #Aplica funcao de download aos papeis desejados\n",
        "  datas = map(data, tickers)\n",
        "\n",
        "  #Retorna os dados organizados\n",
        "  return (pd.concat(datas,\n",
        "                    keys=tickers,\n",
        "                    names=['Ticker', 'Date']))"
      ],
      "execution_count": 4,
      "outputs": []
    },
    {
      "cell_type": "code",
      "metadata": {
        "id": "dEmkI_JTAXib"
      },
      "source": [
        "#Dados dos papeis e da consulta\n",
        "tickers = ['GGBR4.SA', 'CIEL3.SA', 'BBDC4.SA']\n",
        "start_date = datetime.datetime(2016, 1, 1)\n",
        "hoje = datetime.datetime.now()\n",
        "\n",
        "\n",
        "end_date = hoje - datetime.timedelta(1)"
      ],
      "execution_count": 5,
      "outputs": []
    },
    {
      "cell_type": "code",
      "metadata": {
        "id": "4Q1JhENfBNq2"
      },
      "source": [
        "#Consulta dados\n",
        "all_data = get(tickers, start_date, end_date)"
      ],
      "execution_count": 6,
      "outputs": []
    },
    {
      "cell_type": "code",
      "metadata": {
        "id": "8cIYfw_sBbsx",
        "outputId": "362b320d-30e5-4132-c445-8984a7b72f30",
        "colab": {
          "base_uri": "https://localhost:8080/",
          "height": 235
        }
      },
      "source": [
        "all_data.head()"
      ],
      "execution_count": 7,
      "outputs": [
        {
          "output_type": "execute_result",
          "data": {
            "text/html": [
              "<div>\n",
              "<style scoped>\n",
              "    .dataframe tbody tr th:only-of-type {\n",
              "        vertical-align: middle;\n",
              "    }\n",
              "\n",
              "    .dataframe tbody tr th {\n",
              "        vertical-align: top;\n",
              "    }\n",
              "\n",
              "    .dataframe thead th {\n",
              "        text-align: right;\n",
              "    }\n",
              "</style>\n",
              "<table border=\"1\" class=\"dataframe\">\n",
              "  <thead>\n",
              "    <tr style=\"text-align: right;\">\n",
              "      <th></th>\n",
              "      <th></th>\n",
              "      <th>High</th>\n",
              "      <th>Low</th>\n",
              "      <th>Open</th>\n",
              "      <th>Close</th>\n",
              "      <th>Volume</th>\n",
              "      <th>Adj Close</th>\n",
              "    </tr>\n",
              "    <tr>\n",
              "      <th>Ticker</th>\n",
              "      <th>Date</th>\n",
              "      <th></th>\n",
              "      <th></th>\n",
              "      <th></th>\n",
              "      <th></th>\n",
              "      <th></th>\n",
              "      <th></th>\n",
              "    </tr>\n",
              "  </thead>\n",
              "  <tbody>\n",
              "    <tr>\n",
              "      <th rowspan=\"5\" valign=\"top\">GGBR4.SA</th>\n",
              "      <th>2016-01-04</th>\n",
              "      <td>4.67</td>\n",
              "      <td>4.51</td>\n",
              "      <td>4.60</td>\n",
              "      <td>4.54</td>\n",
              "      <td>5058600.0</td>\n",
              "      <td>4.274928</td>\n",
              "    </tr>\n",
              "    <tr>\n",
              "      <th>2016-01-05</th>\n",
              "      <td>4.61</td>\n",
              "      <td>4.33</td>\n",
              "      <td>4.55</td>\n",
              "      <td>4.33</td>\n",
              "      <td>6887400.0</td>\n",
              "      <td>4.077188</td>\n",
              "    </tr>\n",
              "    <tr>\n",
              "      <th>2016-01-06</th>\n",
              "      <td>4.33</td>\n",
              "      <td>3.98</td>\n",
              "      <td>4.33</td>\n",
              "      <td>3.98</td>\n",
              "      <td>10245800.0</td>\n",
              "      <td>3.747624</td>\n",
              "    </tr>\n",
              "    <tr>\n",
              "      <th>2016-01-07</th>\n",
              "      <td>3.90</td>\n",
              "      <td>3.70</td>\n",
              "      <td>3.90</td>\n",
              "      <td>3.80</td>\n",
              "      <td>12284300.0</td>\n",
              "      <td>3.578134</td>\n",
              "    </tr>\n",
              "    <tr>\n",
              "      <th>2016-01-08</th>\n",
              "      <td>4.05</td>\n",
              "      <td>3.89</td>\n",
              "      <td>3.92</td>\n",
              "      <td>3.93</td>\n",
              "      <td>10692400.0</td>\n",
              "      <td>3.700544</td>\n",
              "    </tr>\n",
              "  </tbody>\n",
              "</table>\n",
              "</div>"
            ],
            "text/plain": [
              "                     High   Low  Open  Close      Volume  Adj Close\n",
              "Ticker   Date                                                      \n",
              "GGBR4.SA 2016-01-04  4.67  4.51  4.60   4.54   5058600.0   4.274928\n",
              "         2016-01-05  4.61  4.33  4.55   4.33   6887400.0   4.077188\n",
              "         2016-01-06  4.33  3.98  4.33   3.98  10245800.0   3.747624\n",
              "         2016-01-07  3.90  3.70  3.90   3.80  12284300.0   3.578134\n",
              "         2016-01-08  4.05  3.89  3.92   3.93  10692400.0   3.700544"
            ]
          },
          "metadata": {
            "tags": []
          },
          "execution_count": 7
        }
      ]
    },
    {
      "cell_type": "code",
      "metadata": {
        "id": "1rc0GM-RBgfK",
        "outputId": "f43ca168-f10e-4151-85fd-ec889818ac56",
        "colab": {
          "base_uri": "https://localhost:8080/",
          "height": 235
        }
      },
      "source": [
        "all_data.tail()"
      ],
      "execution_count": 8,
      "outputs": [
        {
          "output_type": "execute_result",
          "data": {
            "text/html": [
              "<div>\n",
              "<style scoped>\n",
              "    .dataframe tbody tr th:only-of-type {\n",
              "        vertical-align: middle;\n",
              "    }\n",
              "\n",
              "    .dataframe tbody tr th {\n",
              "        vertical-align: top;\n",
              "    }\n",
              "\n",
              "    .dataframe thead th {\n",
              "        text-align: right;\n",
              "    }\n",
              "</style>\n",
              "<table border=\"1\" class=\"dataframe\">\n",
              "  <thead>\n",
              "    <tr style=\"text-align: right;\">\n",
              "      <th></th>\n",
              "      <th></th>\n",
              "      <th>High</th>\n",
              "      <th>Low</th>\n",
              "      <th>Open</th>\n",
              "      <th>Close</th>\n",
              "      <th>Volume</th>\n",
              "      <th>Adj Close</th>\n",
              "    </tr>\n",
              "    <tr>\n",
              "      <th>Ticker</th>\n",
              "      <th>Date</th>\n",
              "      <th></th>\n",
              "      <th></th>\n",
              "      <th></th>\n",
              "      <th></th>\n",
              "      <th></th>\n",
              "      <th></th>\n",
              "    </tr>\n",
              "  </thead>\n",
              "  <tbody>\n",
              "    <tr>\n",
              "      <th rowspan=\"5\" valign=\"top\">BBDC4.SA</th>\n",
              "      <th>2020-11-09</th>\n",
              "      <td>23.260000</td>\n",
              "      <td>21.860001</td>\n",
              "      <td>22.150000</td>\n",
              "      <td>22.940001</td>\n",
              "      <td>119615700.0</td>\n",
              "      <td>22.940001</td>\n",
              "    </tr>\n",
              "    <tr>\n",
              "      <th>2020-11-10</th>\n",
              "      <td>24.620001</td>\n",
              "      <td>23.020000</td>\n",
              "      <td>23.020000</td>\n",
              "      <td>24.420000</td>\n",
              "      <td>135808900.0</td>\n",
              "      <td>24.420000</td>\n",
              "    </tr>\n",
              "    <tr>\n",
              "      <th>2020-11-11</th>\n",
              "      <td>24.590000</td>\n",
              "      <td>23.620001</td>\n",
              "      <td>24.360001</td>\n",
              "      <td>24.320000</td>\n",
              "      <td>76246400.0</td>\n",
              "      <td>24.320000</td>\n",
              "    </tr>\n",
              "    <tr>\n",
              "      <th>2020-11-12</th>\n",
              "      <td>24.320000</td>\n",
              "      <td>23.209999</td>\n",
              "      <td>24.299999</td>\n",
              "      <td>23.360001</td>\n",
              "      <td>54954900.0</td>\n",
              "      <td>23.360001</td>\n",
              "    </tr>\n",
              "    <tr>\n",
              "      <th>2020-11-13</th>\n",
              "      <td>24.100000</td>\n",
              "      <td>23.330000</td>\n",
              "      <td>23.610001</td>\n",
              "      <td>24.010000</td>\n",
              "      <td>30707700.0</td>\n",
              "      <td>24.010000</td>\n",
              "    </tr>\n",
              "  </tbody>\n",
              "</table>\n",
              "</div>"
            ],
            "text/plain": [
              "                          High        Low  ...       Volume  Adj Close\n",
              "Ticker   Date                              ...                        \n",
              "BBDC4.SA 2020-11-09  23.260000  21.860001  ...  119615700.0  22.940001\n",
              "         2020-11-10  24.620001  23.020000  ...  135808900.0  24.420000\n",
              "         2020-11-11  24.590000  23.620001  ...   76246400.0  24.320000\n",
              "         2020-11-12  24.320000  23.209999  ...   54954900.0  23.360001\n",
              "         2020-11-13  24.100000  23.330000  ...   30707700.0  24.010000\n",
              "\n",
              "[5 rows x 6 columns]"
            ]
          },
          "metadata": {
            "tags": []
          },
          "execution_count": 8
        }
      ]
    },
    {
      "cell_type": "markdown",
      "metadata": {
        "id": "ZBMBA9IAEnA2"
      },
      "source": [
        "Analisar renatabilidade da carteia"
      ]
    },
    {
      "cell_type": "markdown",
      "metadata": {
        "id": "fwx6HDyGJmDp"
      },
      "source": [
        "Analise grafica das acoes"
      ]
    },
    {
      "cell_type": "code",
      "metadata": {
        "id": "1yrJC7hlJrF7"
      },
      "source": [
        "#Plotar dados como candlestic\n",
        "trace = go.Candlestick(x=all_data.loc['BBDC4.SA'].index,\n",
        "                       open=all_data.loc['BBDC4.SA'].Open,\n",
        "                       high=all_data.loc['BBDC4.SA'].High,\n",
        "                       low=all_data.loc['BBDC4.SA'].Low,\n",
        "                       close=all_data.loc['BBDC4.SA'].Close)\n",
        "\n",
        "data = [trace]"
      ],
      "execution_count": 9,
      "outputs": []
    },
    {
      "cell_type": "code",
      "metadata": {
        "id": "Hb7plWxYK2Ms",
        "outputId": "e7e44243-1113-4930-9f5f-4a9bdf567df4",
        "colab": {
          "base_uri": "https://localhost:8080/",
          "height": 546
        }
      },
      "source": [
        "py.iplot(data)"
      ],
      "execution_count": 10,
      "outputs": [
        {
          "output_type": "execute_result",
          "data": {
            "text/html": [
              "\n",
              "        <iframe\n",
              "            width=\"100%\"\n",
              "            height=\"525px\"\n",
              "            src=\"https://plotly.com/~janio.oriente/982.embed\"\n",
              "            frameborder=\"0\"\n",
              "            allowfullscreen\n",
              "        ></iframe>\n",
              "        "
            ],
            "text/plain": [
              "<IPython.lib.display.IFrame at 0x7f02e2fdabe0>"
            ]
          },
          "metadata": {
            "tags": []
          },
          "execution_count": 10
        }
      ]
    },
    {
      "cell_type": "code",
      "metadata": {
        "id": "e262gomRTNjq",
        "outputId": "d47161db-2ec6-4166-e4a3-31c66d32c596",
        "colab": {
          "base_uri": "https://localhost:8080/"
        }
      },
      "source": [
        "data = all_data.reset_index()\n",
        "data = data.set_index(['Date', 'Ticker']).sort_index()\n",
        "close = data['Close']\n",
        "\n",
        "#Gerar variavel com todos os dias da semana do dataset analisado\n",
        "all_weekdays = pd.date_range(start=start_date, end=end_date, freq='B')\n",
        "\n",
        "#Usar variavel gerada para reindexar os dados\n",
        "#Preencher dias sem movimento com NaN (not a number - numpy)\n",
        "close = close.reindex(pd.MultiIndex.from_product([all_weekdays, tickers],\n",
        "                                                 names=['Date', 'Ticker']),\n",
        "                      fill_value=np.NaN)\n",
        "\n",
        "close.tail(12)"
      ],
      "execution_count": 11,
      "outputs": [
        {
          "output_type": "execute_result",
          "data": {
            "text/plain": [
              "Date        Ticker  \n",
              "2020-11-10  GGBR4.SA    20.830000\n",
              "            CIEL3.SA     3.750000\n",
              "            BBDC4.SA    24.420000\n",
              "2020-11-11  GGBR4.SA    20.930000\n",
              "            CIEL3.SA     3.800000\n",
              "            BBDC4.SA    24.320000\n",
              "2020-11-12  GGBR4.SA    20.680000\n",
              "            CIEL3.SA     3.690000\n",
              "            BBDC4.SA    23.360001\n",
              "2020-11-13  GGBR4.SA    20.920000\n",
              "            CIEL3.SA     3.730000\n",
              "            BBDC4.SA    24.010000\n",
              "Name: Close, dtype: float64"
            ]
          },
          "metadata": {
            "tags": []
          },
          "execution_count": 11
        }
      ]
    },
    {
      "cell_type": "code",
      "metadata": {
        "id": "a5y_iB--TgI3",
        "outputId": "bee08f92-0414-4f08-8ae5-1bf7deb5fae5",
        "colab": {
          "base_uri": "https://localhost:8080/",
          "height": 235
        }
      },
      "source": [
        "close = close.reset_index().pivot(index='Date',\n",
        "                                  columns='Ticker',\n",
        "                                  values='Close')\n",
        "\n",
        "close.head()"
      ],
      "execution_count": 12,
      "outputs": [
        {
          "output_type": "execute_result",
          "data": {
            "text/html": [
              "<div>\n",
              "<style scoped>\n",
              "    .dataframe tbody tr th:only-of-type {\n",
              "        vertical-align: middle;\n",
              "    }\n",
              "\n",
              "    .dataframe tbody tr th {\n",
              "        vertical-align: top;\n",
              "    }\n",
              "\n",
              "    .dataframe thead th {\n",
              "        text-align: right;\n",
              "    }\n",
              "</style>\n",
              "<table border=\"1\" class=\"dataframe\">\n",
              "  <thead>\n",
              "    <tr style=\"text-align: right;\">\n",
              "      <th>Ticker</th>\n",
              "      <th>BBDC4.SA</th>\n",
              "      <th>CIEL3.SA</th>\n",
              "      <th>GGBR4.SA</th>\n",
              "    </tr>\n",
              "    <tr>\n",
              "      <th>Date</th>\n",
              "      <th></th>\n",
              "      <th></th>\n",
              "      <th></th>\n",
              "    </tr>\n",
              "  </thead>\n",
              "  <tbody>\n",
              "    <tr>\n",
              "      <th>2016-01-01</th>\n",
              "      <td>NaN</td>\n",
              "      <td>NaN</td>\n",
              "      <td>NaN</td>\n",
              "    </tr>\n",
              "    <tr>\n",
              "      <th>2016-01-04</th>\n",
              "      <td>11.8958</td>\n",
              "      <td>22.368099</td>\n",
              "      <td>4.54</td>\n",
              "    </tr>\n",
              "    <tr>\n",
              "      <th>2016-01-05</th>\n",
              "      <td>11.9271</td>\n",
              "      <td>23.437500</td>\n",
              "      <td>4.33</td>\n",
              "    </tr>\n",
              "    <tr>\n",
              "      <th>2016-01-06</th>\n",
              "      <td>11.7581</td>\n",
              "      <td>23.798599</td>\n",
              "      <td>3.98</td>\n",
              "    </tr>\n",
              "    <tr>\n",
              "      <th>2016-01-07</th>\n",
              "      <td>11.5202</td>\n",
              "      <td>23.888901</td>\n",
              "      <td>3.80</td>\n",
              "    </tr>\n",
              "  </tbody>\n",
              "</table>\n",
              "</div>"
            ],
            "text/plain": [
              "Ticker      BBDC4.SA   CIEL3.SA  GGBR4.SA\n",
              "Date                                     \n",
              "2016-01-01       NaN        NaN       NaN\n",
              "2016-01-04   11.8958  22.368099      4.54\n",
              "2016-01-05   11.9271  23.437500      4.33\n",
              "2016-01-06   11.7581  23.798599      3.98\n",
              "2016-01-07   11.5202  23.888901      3.80"
            ]
          },
          "metadata": {
            "tags": []
          },
          "execution_count": 12
        }
      ]
    },
    {
      "cell_type": "code",
      "metadata": {
        "id": "4qhoMGAJTitx",
        "outputId": "805abf2b-3782-462e-ef93-5dcb177119d6",
        "colab": {
          "base_uri": "https://localhost:8080/"
        }
      },
      "source": [
        "data = all_data.pct_change()\n",
        "data.loc['BBDC4.SA'].Close.head()"
      ],
      "execution_count": 13,
      "outputs": [
        {
          "output_type": "execute_result",
          "data": {
            "text/plain": [
              "Date\n",
              "2016-01-04    2.189222\n",
              "2016-01-05    0.002631\n",
              "2016-01-06   -0.014169\n",
              "2016-01-07   -0.020233\n",
              "2016-01-08   -0.019566\n",
              "Name: Close, dtype: float64"
            ]
          },
          "metadata": {
            "tags": []
          },
          "execution_count": 13
        }
      ]
    },
    {
      "cell_type": "code",
      "metadata": {
        "id": "cR9PmeNgUC0l",
        "outputId": "45c22185-bef8-4958-9274-de331c731097",
        "colab": {
          "base_uri": "https://localhost:8080/",
          "height": 235
        }
      },
      "source": [
        "log_returns = np.log(close.dropna()).diff()\n",
        "log_returns.head()"
      ],
      "execution_count": 14,
      "outputs": [
        {
          "output_type": "execute_result",
          "data": {
            "text/html": [
              "<div>\n",
              "<style scoped>\n",
              "    .dataframe tbody tr th:only-of-type {\n",
              "        vertical-align: middle;\n",
              "    }\n",
              "\n",
              "    .dataframe tbody tr th {\n",
              "        vertical-align: top;\n",
              "    }\n",
              "\n",
              "    .dataframe thead th {\n",
              "        text-align: right;\n",
              "    }\n",
              "</style>\n",
              "<table border=\"1\" class=\"dataframe\">\n",
              "  <thead>\n",
              "    <tr style=\"text-align: right;\">\n",
              "      <th>Ticker</th>\n",
              "      <th>BBDC4.SA</th>\n",
              "      <th>CIEL3.SA</th>\n",
              "      <th>GGBR4.SA</th>\n",
              "    </tr>\n",
              "    <tr>\n",
              "      <th>Date</th>\n",
              "      <th></th>\n",
              "      <th></th>\n",
              "      <th></th>\n",
              "    </tr>\n",
              "  </thead>\n",
              "  <tbody>\n",
              "    <tr>\n",
              "      <th>2016-01-04</th>\n",
              "      <td>NaN</td>\n",
              "      <td>NaN</td>\n",
              "      <td>NaN</td>\n",
              "    </tr>\n",
              "    <tr>\n",
              "      <th>2016-01-05</th>\n",
              "      <td>0.002628</td>\n",
              "      <td>0.046702</td>\n",
              "      <td>-0.047359</td>\n",
              "    </tr>\n",
              "    <tr>\n",
              "      <th>2016-01-06</th>\n",
              "      <td>-0.014271</td>\n",
              "      <td>0.015289</td>\n",
              "      <td>-0.084286</td>\n",
              "    </tr>\n",
              "    <tr>\n",
              "      <th>2016-01-07</th>\n",
              "      <td>-0.020440</td>\n",
              "      <td>0.003787</td>\n",
              "      <td>-0.046281</td>\n",
              "    </tr>\n",
              "    <tr>\n",
              "      <th>2016-01-08</th>\n",
              "      <td>-0.019760</td>\n",
              "      <td>0.017293</td>\n",
              "      <td>0.033638</td>\n",
              "    </tr>\n",
              "  </tbody>\n",
              "</table>\n",
              "</div>"
            ],
            "text/plain": [
              "Ticker      BBDC4.SA  CIEL3.SA  GGBR4.SA\n",
              "Date                                    \n",
              "2016-01-04       NaN       NaN       NaN\n",
              "2016-01-05  0.002628  0.046702 -0.047359\n",
              "2016-01-06 -0.014271  0.015289 -0.084286\n",
              "2016-01-07 -0.020440  0.003787 -0.046281\n",
              "2016-01-08 -0.019760  0.017293  0.033638"
            ]
          },
          "metadata": {
            "tags": []
          },
          "execution_count": 14
        }
      ]
    },
    {
      "cell_type": "code",
      "metadata": {
        "id": "jctP7pzHTxt8"
      },
      "source": [
        "layout = go.Layout(\n",
        "    title='Result',\n",
        "    yaxis=dict(\n",
        "        title='Cumulative log returns',\n",
        "        titlefont=dict(\n",
        "            size=18,\n",
        "            color='#7f7f7f'\n",
        "        )\n",
        "    )\n",
        ")\n",
        "axis = []"
      ],
      "execution_count": 15,
      "outputs": []
    },
    {
      "cell_type": "markdown",
      "metadata": {
        "id": "vPkcFOcuDo1X"
      },
      "source": [
        "**Análise gráfica do retorno das ações analisadas**"
      ]
    },
    {
      "cell_type": "code",
      "metadata": {
        "id": "-i_G-s-1T2fw",
        "outputId": "717e9f5d-6c9c-42d9-8b72-23b0671ba4e6",
        "colab": {
          "base_uri": "https://localhost:8080/",
          "height": 546
        }
      },
      "source": [
        "for d in log_returns:\n",
        "  axi = go.Scatter(x=log_returns.index,\n",
        "                   y=log_returns[d].cumsum(),\n",
        "                   name=d,\n",
        "                   opacity=1)\n",
        "  axis.append(axi)\n",
        "\n",
        "fig = dict(data=axis, layout=layout)\n",
        "\n",
        "py.iplot(fig)"
      ],
      "execution_count": 16,
      "outputs": [
        {
          "output_type": "execute_result",
          "data": {
            "text/html": [
              "\n",
              "        <iframe\n",
              "            width=\"100%\"\n",
              "            height=\"525px\"\n",
              "            src=\"https://plotly.com/~janio.oriente/984.embed\"\n",
              "            frameborder=\"0\"\n",
              "            allowfullscreen\n",
              "        ></iframe>\n",
              "        "
            ],
            "text/plain": [
              "<IPython.lib.display.IFrame at 0x7f02e54799e8>"
            ]
          },
          "metadata": {
            "tags": []
          },
          "execution_count": 16
        }
      ]
    },
    {
      "cell_type": "code",
      "metadata": {
        "id": "YODtUJWfT6hC"
      },
      "source": [
        "layout2 = go.Layout(\n",
        "    title='Result',\n",
        "    yaxis=dict(\n",
        "        title='Total relative returns (%)',\n",
        "        titlefont=dict(\n",
        "            size=18,\n",
        "            color='#7f7f7f'\n",
        "            )\n",
        "        )\n",
        ")\n",
        "axis2 = []"
      ],
      "execution_count": 17,
      "outputs": []
    },
    {
      "cell_type": "code",
      "metadata": {
        "id": "c7uX1WWMUQ64",
        "outputId": "f5119048-1fe4-4eb4-a0a1-5af01aae8f8e",
        "colab": {
          "base_uri": "https://localhost:8080/",
          "height": 546
        }
      },
      "source": [
        "for d in log_returns:\n",
        "  axi2 = go.Scatter(\n",
        "      x=log_returns.index,\n",
        "      y=100 * (np.exp(log_returns[d].cumsum()) - 1),\n",
        "      name=d,\n",
        "      opacity=1\n",
        "  )\n",
        "  axis2.append(axi2)\n",
        "\n",
        "fig2 = dict(data=axis2, layout=layout2)\n",
        "py.iplot(fig2)"
      ],
      "execution_count": 18,
      "outputs": [
        {
          "output_type": "execute_result",
          "data": {
            "text/html": [
              "\n",
              "        <iframe\n",
              "            width=\"100%\"\n",
              "            height=\"525px\"\n",
              "            src=\"https://plotly.com/~janio.oriente/986.embed\"\n",
              "            frameborder=\"0\"\n",
              "            allowfullscreen\n",
              "        ></iframe>\n",
              "        "
            ],
            "text/plain": [
              "<IPython.lib.display.IFrame at 0x7f02e292ecc0>"
            ]
          },
          "metadata": {
            "tags": []
          },
          "execution_count": 18
        }
      ]
    },
    {
      "cell_type": "code",
      "metadata": {
        "id": "WV-soIzaACog"
      },
      "source": [
        "bbdc = all_data.loc['BBDC4.SA'].dropna()\n",
        "bbdc = bbdc['2019-06-01':]\n",
        "window = 21\n",
        "MA = bbdc.Close.rolling(window=window).mean()"
      ],
      "execution_count": 19,
      "outputs": []
    },
    {
      "cell_type": "code",
      "metadata": {
        "id": "z3ctoH9YjawS",
        "outputId": "c111adee-b7ff-4c53-df20-9a90d4dec888",
        "colab": {
          "base_uri": "https://localhost:8080/",
          "height": 546
        }
      },
      "source": [
        "trace_avg = go.Scatter(x=MA.index,\n",
        "                       y=MA,\n",
        "                       name='BBDC4.SA MA(21)',\n",
        "                       line=dict(color='#BEBECF'),\n",
        "                       opacity=1)\n",
        "\n",
        "trace_candles = go.Candlestick(x=bbdc.index,\n",
        "                               open=bbdc.Open,\n",
        "                               high=bbdc.High,\n",
        "                               low=bbdc.Low,\n",
        "                               close=bbdc.Close,\n",
        "                               name='Price')\n",
        "\n",
        "data = [trace_avg, trace_candles]\n",
        "fig = dict(data=data)\n",
        "py.iplot(fig)"
      ],
      "execution_count": 20,
      "outputs": [
        {
          "output_type": "execute_result",
          "data": {
            "text/html": [
              "\n",
              "        <iframe\n",
              "            width=\"100%\"\n",
              "            height=\"525px\"\n",
              "            src=\"https://plotly.com/~janio.oriente/988.embed\"\n",
              "            frameborder=\"0\"\n",
              "            allowfullscreen\n",
              "        ></iframe>\n",
              "        "
            ],
            "text/plain": [
              "<IPython.lib.display.IFrame at 0x7f02e314fb38>"
            ]
          },
          "metadata": {
            "tags": []
          },
          "execution_count": 20
        }
      ]
    },
    {
      "cell_type": "markdown",
      "metadata": {
        "id": "UQT1ez0GD7p4"
      },
      "source": [
        "**Cálculo e análise de média móvel dos preços das ações**\n",
        "* Cálculos baseados no preço de fechamento das ações"
      ]
    },
    {
      "cell_type": "code",
      "metadata": {
        "id": "ANgOsO_LkZXJ"
      },
      "source": [
        "window = 21\n",
        "K = (2 / (window + 1))\n",
        "bbdc = all_data.loc['BBDC4.SA'].dropna()\n",
        "bbdc = bbdc['2019-06-01':]\n",
        "MA = bbdc.Close.rolling(window=window).mean().dropna()"
      ],
      "execution_count": 21,
      "outputs": []
    },
    {
      "cell_type": "code",
      "metadata": {
        "id": "4KHHYjrimYCJ"
      },
      "source": [
        "ema_data = pd.DataFrame(index=MA.index)\n",
        "ema_data['Price'] = bbdc.Close\n",
        "ema_data['MA'] = MA\n",
        "ema_data['EMA'] = np.NaN"
      ],
      "execution_count": 22,
      "outputs": []
    },
    {
      "cell_type": "code",
      "metadata": {
        "id": "qQY5eBMZm7X8",
        "outputId": "e3b9cef1-8feb-4ab7-c6cf-f9d250a794cc",
        "colab": {
          "base_uri": "https://localhost:8080/",
          "height": 235
        }
      },
      "source": [
        "ema_data.head()"
      ],
      "execution_count": 23,
      "outputs": [
        {
          "output_type": "execute_result",
          "data": {
            "text/html": [
              "<div>\n",
              "<style scoped>\n",
              "    .dataframe tbody tr th:only-of-type {\n",
              "        vertical-align: middle;\n",
              "    }\n",
              "\n",
              "    .dataframe tbody tr th {\n",
              "        vertical-align: top;\n",
              "    }\n",
              "\n",
              "    .dataframe thead th {\n",
              "        text-align: right;\n",
              "    }\n",
              "</style>\n",
              "<table border=\"1\" class=\"dataframe\">\n",
              "  <thead>\n",
              "    <tr style=\"text-align: right;\">\n",
              "      <th></th>\n",
              "      <th>Price</th>\n",
              "      <th>MA</th>\n",
              "      <th>EMA</th>\n",
              "    </tr>\n",
              "    <tr>\n",
              "      <th>Date</th>\n",
              "      <th></th>\n",
              "      <th></th>\n",
              "      <th></th>\n",
              "    </tr>\n",
              "  </thead>\n",
              "  <tbody>\n",
              "    <tr>\n",
              "      <th>2019-07-02</th>\n",
              "      <td>37.730000</td>\n",
              "      <td>37.104762</td>\n",
              "      <td>NaN</td>\n",
              "    </tr>\n",
              "    <tr>\n",
              "      <th>2019-07-03</th>\n",
              "      <td>38.400002</td>\n",
              "      <td>37.177143</td>\n",
              "      <td>NaN</td>\n",
              "    </tr>\n",
              "    <tr>\n",
              "      <th>2019-07-04</th>\n",
              "      <td>39.070000</td>\n",
              "      <td>37.273334</td>\n",
              "      <td>NaN</td>\n",
              "    </tr>\n",
              "    <tr>\n",
              "      <th>2019-07-05</th>\n",
              "      <td>39.410000</td>\n",
              "      <td>37.412857</td>\n",
              "      <td>NaN</td>\n",
              "    </tr>\n",
              "    <tr>\n",
              "      <th>2019-07-08</th>\n",
              "      <td>39.230000</td>\n",
              "      <td>37.505715</td>\n",
              "      <td>NaN</td>\n",
              "    </tr>\n",
              "  </tbody>\n",
              "</table>\n",
              "</div>"
            ],
            "text/plain": [
              "                Price         MA  EMA\n",
              "Date                                 \n",
              "2019-07-02  37.730000  37.104762  NaN\n",
              "2019-07-03  38.400002  37.177143  NaN\n",
              "2019-07-04  39.070000  37.273334  NaN\n",
              "2019-07-05  39.410000  37.412857  NaN\n",
              "2019-07-08  39.230000  37.505715  NaN"
            ]
          },
          "metadata": {
            "tags": []
          },
          "execution_count": 23
        }
      ]
    },
    {
      "cell_type": "code",
      "metadata": {
        "id": "swHvvkNtnC3i",
        "outputId": "a664fe2b-8090-4930-d7c2-a38fb3f64f9b",
        "colab": {
          "base_uri": "https://localhost:8080/",
          "height": 235
        }
      },
      "source": [
        "ema_data.EMA[0] = ema_data.MA[1]\n",
        "ema_data.head()"
      ],
      "execution_count": 24,
      "outputs": [
        {
          "output_type": "execute_result",
          "data": {
            "text/html": [
              "<div>\n",
              "<style scoped>\n",
              "    .dataframe tbody tr th:only-of-type {\n",
              "        vertical-align: middle;\n",
              "    }\n",
              "\n",
              "    .dataframe tbody tr th {\n",
              "        vertical-align: top;\n",
              "    }\n",
              "\n",
              "    .dataframe thead th {\n",
              "        text-align: right;\n",
              "    }\n",
              "</style>\n",
              "<table border=\"1\" class=\"dataframe\">\n",
              "  <thead>\n",
              "    <tr style=\"text-align: right;\">\n",
              "      <th></th>\n",
              "      <th>Price</th>\n",
              "      <th>MA</th>\n",
              "      <th>EMA</th>\n",
              "    </tr>\n",
              "    <tr>\n",
              "      <th>Date</th>\n",
              "      <th></th>\n",
              "      <th></th>\n",
              "      <th></th>\n",
              "    </tr>\n",
              "  </thead>\n",
              "  <tbody>\n",
              "    <tr>\n",
              "      <th>2019-07-02</th>\n",
              "      <td>37.730000</td>\n",
              "      <td>37.104762</td>\n",
              "      <td>37.177143</td>\n",
              "    </tr>\n",
              "    <tr>\n",
              "      <th>2019-07-03</th>\n",
              "      <td>38.400002</td>\n",
              "      <td>37.177143</td>\n",
              "      <td>NaN</td>\n",
              "    </tr>\n",
              "    <tr>\n",
              "      <th>2019-07-04</th>\n",
              "      <td>39.070000</td>\n",
              "      <td>37.273334</td>\n",
              "      <td>NaN</td>\n",
              "    </tr>\n",
              "    <tr>\n",
              "      <th>2019-07-05</th>\n",
              "      <td>39.410000</td>\n",
              "      <td>37.412857</td>\n",
              "      <td>NaN</td>\n",
              "    </tr>\n",
              "    <tr>\n",
              "      <th>2019-07-08</th>\n",
              "      <td>39.230000</td>\n",
              "      <td>37.505715</td>\n",
              "      <td>NaN</td>\n",
              "    </tr>\n",
              "  </tbody>\n",
              "</table>\n",
              "</div>"
            ],
            "text/plain": [
              "                Price         MA        EMA\n",
              "Date                                       \n",
              "2019-07-02  37.730000  37.104762  37.177143\n",
              "2019-07-03  38.400002  37.177143        NaN\n",
              "2019-07-04  39.070000  37.273334        NaN\n",
              "2019-07-05  39.410000  37.412857        NaN\n",
              "2019-07-08  39.230000  37.505715        NaN"
            ]
          },
          "metadata": {
            "tags": []
          },
          "execution_count": 24
        }
      ]
    },
    {
      "cell_type": "code",
      "metadata": {
        "id": "BO-MM98YnQKz"
      },
      "source": [
        "for i in range(1, len(ema_data)):\n",
        "  ema_data.EMA[i] = (ema_data.Price[i] * K) + ((1 - K) * ema_data.EMA[i-1])"
      ],
      "execution_count": 25,
      "outputs": []
    },
    {
      "cell_type": "code",
      "metadata": {
        "id": "DfDqXv9Bn3wB",
        "outputId": "58bd0c28-770e-45b9-bc68-a90888b5ab9a",
        "colab": {
          "base_uri": "https://localhost:8080/",
          "height": 235
        }
      },
      "source": [
        "ema_data.head()"
      ],
      "execution_count": 26,
      "outputs": [
        {
          "output_type": "execute_result",
          "data": {
            "text/html": [
              "<div>\n",
              "<style scoped>\n",
              "    .dataframe tbody tr th:only-of-type {\n",
              "        vertical-align: middle;\n",
              "    }\n",
              "\n",
              "    .dataframe tbody tr th {\n",
              "        vertical-align: top;\n",
              "    }\n",
              "\n",
              "    .dataframe thead th {\n",
              "        text-align: right;\n",
              "    }\n",
              "</style>\n",
              "<table border=\"1\" class=\"dataframe\">\n",
              "  <thead>\n",
              "    <tr style=\"text-align: right;\">\n",
              "      <th></th>\n",
              "      <th>Price</th>\n",
              "      <th>MA</th>\n",
              "      <th>EMA</th>\n",
              "    </tr>\n",
              "    <tr>\n",
              "      <th>Date</th>\n",
              "      <th></th>\n",
              "      <th></th>\n",
              "      <th></th>\n",
              "    </tr>\n",
              "  </thead>\n",
              "  <tbody>\n",
              "    <tr>\n",
              "      <th>2019-07-02</th>\n",
              "      <td>37.730000</td>\n",
              "      <td>37.104762</td>\n",
              "      <td>37.177143</td>\n",
              "    </tr>\n",
              "    <tr>\n",
              "      <th>2019-07-03</th>\n",
              "      <td>38.400002</td>\n",
              "      <td>37.177143</td>\n",
              "      <td>37.288312</td>\n",
              "    </tr>\n",
              "    <tr>\n",
              "      <th>2019-07-04</th>\n",
              "      <td>39.070000</td>\n",
              "      <td>37.273334</td>\n",
              "      <td>37.450284</td>\n",
              "    </tr>\n",
              "    <tr>\n",
              "      <th>2019-07-05</th>\n",
              "      <td>39.410000</td>\n",
              "      <td>37.412857</td>\n",
              "      <td>37.628440</td>\n",
              "    </tr>\n",
              "    <tr>\n",
              "      <th>2019-07-08</th>\n",
              "      <td>39.230000</td>\n",
              "      <td>37.505715</td>\n",
              "      <td>37.774036</td>\n",
              "    </tr>\n",
              "  </tbody>\n",
              "</table>\n",
              "</div>"
            ],
            "text/plain": [
              "                Price         MA        EMA\n",
              "Date                                       \n",
              "2019-07-02  37.730000  37.104762  37.177143\n",
              "2019-07-03  38.400002  37.177143  37.288312\n",
              "2019-07-04  39.070000  37.273334  37.450284\n",
              "2019-07-05  39.410000  37.412857  37.628440\n",
              "2019-07-08  39.230000  37.505715  37.774036"
            ]
          },
          "metadata": {
            "tags": []
          },
          "execution_count": 26
        }
      ]
    },
    {
      "cell_type": "code",
      "metadata": {
        "id": "uv7lUrjan7VZ",
        "outputId": "40f68496-5424-4e24-fe8c-0e28bc495ba8",
        "colab": {
          "base_uri": "https://localhost:8080/",
          "height": 546
        }
      },
      "source": [
        "trace_ma = go.Scatter(x=ema_data.index,\n",
        "                      y=ema_data.MA,\n",
        "                      name='BBDC4.SA MA(21)',\n",
        "                      line=dict(color='#BEBECF'),\n",
        "                      opacity=1)\n",
        "\n",
        "trace_ema = go.Scatter(x=ema_data.index,\n",
        "                       y=ema_data.EMA,\n",
        "                       name='BBDC4.SA EMA(21)',\n",
        "                       line=dict(color='#17BECF'),\n",
        "                       opacity=1)\n",
        "\n",
        "trace_candles = go.Candlestick(x=bbdc.index,\n",
        "                               open=bbdc.Open,\n",
        "                               high=bbdc.High,\n",
        "                               low=bbdc.Low,\n",
        "                               close=bbdc.Close,\n",
        "                               name='Price')\n",
        "\n",
        "data = [trace_ma, trace_ema, trace_candles]\n",
        "fig = dict(data=data)\n",
        "py.iplot(fig)"
      ],
      "execution_count": 27,
      "outputs": [
        {
          "output_type": "execute_result",
          "data": {
            "text/html": [
              "\n",
              "        <iframe\n",
              "            width=\"100%\"\n",
              "            height=\"525px\"\n",
              "            src=\"https://plotly.com/~janio.oriente/990.embed\"\n",
              "            frameborder=\"0\"\n",
              "            allowfullscreen\n",
              "        ></iframe>\n",
              "        "
            ],
            "text/plain": [
              "<IPython.lib.display.IFrame at 0x7f02e29ca9b0>"
            ]
          },
          "metadata": {
            "tags": []
          },
          "execution_count": 27
        }
      ]
    },
    {
      "cell_type": "markdown",
      "metadata": {
        "id": "ukL8irSVEGSG"
      },
      "source": [
        "**Cruzamento de médias móveis**\n",
        "\n",
        "No gráfico a seguir são comparadas as médias móveis de curto e longo prazo, como forma de subsidiar decisão de compra ou venda dos papéis.\n",
        "* **Compra**: Média curta cruza a média longa para cima\n",
        "* **Venda**: Média curta cruza a média longa para baixo"
      ]
    },
    {
      "cell_type": "code",
      "metadata": {
        "id": "wmLvlhDcpYbT"
      },
      "source": [
        "#Cruzamento de medias\n",
        "bbdc = close.loc[:, 'BBDC4.SA'].dropna()\n",
        "short_rolling_bbdc = bbdc.rolling(window=9).mean()\n",
        "long_rolling_bbdc = bbdc.rolling(window=21).mean()"
      ],
      "execution_count": 28,
      "outputs": []
    },
    {
      "cell_type": "code",
      "metadata": {
        "id": "q0jWKBGVtjuv"
      },
      "source": [
        "trace_short = go.Scatter(x=short_rolling_bbdc.index,\n",
        "                         y=short_rolling_bbdc,\n",
        "                         name='BBDC4.SA Short',\n",
        "                         line=dict(color='#17BECF'),\n",
        "                         opacity=1)\n",
        "\n",
        "trace_long = go.Scatter(x=long_rolling_bbdc.index,\n",
        "                         y=long_rolling_bbdc,\n",
        "                         name='BBDC4.SA Long',\n",
        "                         line=dict(color='#7F7F7F'),\n",
        "                         opacity=1)\n",
        "\n",
        "trace_price = go.Scatter(x=bbdc.index,\n",
        "                         y=bbdc,\n",
        "                         name='BBDC4.SA',\n",
        "                         line=dict(color='#B22222'),\n",
        "                         opacity=0.8)\n",
        "\n",
        "data = [trace_short, trace_long, trace_price]"
      ],
      "execution_count": 29,
      "outputs": []
    },
    {
      "cell_type": "code",
      "metadata": {
        "id": "xX3aDLDopcXz",
        "outputId": "93758c61-c276-423d-81c0-6fa355d09d3b",
        "colab": {
          "base_uri": "https://localhost:8080/",
          "height": 546
        }
      },
      "source": [
        "fig = dict(data=data)\n",
        "py.iplot(fig)"
      ],
      "execution_count": 30,
      "outputs": [
        {
          "output_type": "execute_result",
          "data": {
            "text/html": [
              "\n",
              "        <iframe\n",
              "            width=\"100%\"\n",
              "            height=\"525px\"\n",
              "            src=\"https://plotly.com/~janio.oriente/992.embed\"\n",
              "            frameborder=\"0\"\n",
              "            allowfullscreen\n",
              "        ></iframe>\n",
              "        "
            ],
            "text/plain": [
              "<IPython.lib.display.IFrame at 0x7f02e2e02be0>"
            ]
          },
          "metadata": {
            "tags": []
          },
          "execution_count": 30
        }
      ]
    }
  ]
}