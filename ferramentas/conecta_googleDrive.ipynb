{
  "nbformat": 4,
  "nbformat_minor": 0,
  "metadata": {
    "colab": {
      "name": "conecta_googleDrive.ipynb",
      "provenance": [],
      "collapsed_sections": []
    },
    "kernelspec": {
      "name": "python3",
      "display_name": "Python 3"
    },
    "language_info": {
      "name": "python"
    }
  },
  "cells": [
    {
      "cell_type": "markdown",
      "metadata": {
        "id": "pztepKqdPuL8"
      },
      "source": [
        "#Python DS\n",
        "**Conexão entre Google Colab e Google Drive**\n",
        "\n",
        "Trabalhando com dados de maneira persistente no Google Colab."
      ]
    },
    {
      "cell_type": "markdown",
      "metadata": {
        "id": "squxVodZtGQS"
      },
      "source": [
        "#1 Carga de arquivos para ambiente (apenas para uso deste notebook no Google Colab)"
      ]
    },
    {
      "cell_type": "markdown",
      "metadata": {
        "id": "naEu84_6tPxi"
      },
      "source": [
        "##1.1 Importação da biblioteca necessária"
      ]
    },
    {
      "cell_type": "code",
      "metadata": {
        "id": "rKDu7D-Ns8pG"
      },
      "source": [
        "from google.colab import drive"
      ],
      "execution_count": 25,
      "outputs": []
    },
    {
      "cell_type": "markdown",
      "metadata": {
        "id": "ULtpHGRDtFGX"
      },
      "source": [
        "##1.2 Autenticação do seu usuário Google e Montagem do Drive"
      ]
    },
    {
      "cell_type": "code",
      "metadata": {
        "id": "laFJ-ZiVtZQr"
      },
      "source": [
        "#Conecta o Google Colab ao Google Drive\n",
        "drive.mount('/content/drive')"
      ],
      "execution_count": null,
      "outputs": []
    },
    {
      "cell_type": "markdown",
      "metadata": {
        "id": "EOGTuO5Hteag"
      },
      "source": [
        "##1.3 Configuração do diretório de trabalho"
      ]
    },
    {
      "cell_type": "code",
      "metadata": {
        "id": "ofnoRkRCtdp1"
      },
      "source": [
        "#Define o path desejado como diretório de trabalho atual\n",
        "import os\n",
        "dir = '/content/drive/My Drive/Python/datasets'\n",
        "os.chdir(dir)"
      ],
      "execution_count": 27,
      "outputs": []
    },
    {
      "cell_type": "markdown",
      "metadata": {
        "id": "Koz8ielqt5jR"
      },
      "source": [
        "#2 Testar a conexão"
      ]
    },
    {
      "cell_type": "markdown",
      "metadata": {
        "id": "DJpnijmxt7zP"
      },
      "source": [
        "Vamos carregar um dataset existente no diretório para confirmar o sucesso da configuração do ambiente."
      ]
    },
    {
      "cell_type": "code",
      "metadata": {
        "id": "Ui8pcQFEuCsw"
      },
      "source": [
        "import pandas as pd\n",
        "from matplotlib import pyplot as plt"
      ],
      "execution_count": 21,
      "outputs": []
    },
    {
      "cell_type": "code",
      "metadata": {
        "id": "dEhIZd1xuEFE"
      },
      "source": [
        "arquivo = 'housing.csv'\n",
        "precoCasas = pd.read_csv(arquivo)"
      ],
      "execution_count": 28,
      "outputs": []
    },
    {
      "cell_type": "code",
      "metadata": {
        "colab": {
          "base_uri": "https://localhost:8080/",
          "height": 195
        },
        "id": "RO7Rj2UUuW3P",
        "outputId": "160f6c07-ca7c-4caf-d364-8b75b720d064"
      },
      "source": [
        "precoCasas.head()"
      ],
      "execution_count": 29,
      "outputs": [
        {
          "output_type": "execute_result",
          "data": {
            "text/html": [
              "<div>\n",
              "<style scoped>\n",
              "    .dataframe tbody tr th:only-of-type {\n",
              "        vertical-align: middle;\n",
              "    }\n",
              "\n",
              "    .dataframe tbody tr th {\n",
              "        vertical-align: top;\n",
              "    }\n",
              "\n",
              "    .dataframe thead th {\n",
              "        text-align: right;\n",
              "    }\n",
              "</style>\n",
              "<table border=\"1\" class=\"dataframe\">\n",
              "  <thead>\n",
              "    <tr style=\"text-align: right;\">\n",
              "      <th></th>\n",
              "      <th>longitude</th>\n",
              "      <th>latitude</th>\n",
              "      <th>housing_median_age</th>\n",
              "      <th>total_rooms</th>\n",
              "      <th>total_bedrooms</th>\n",
              "      <th>population</th>\n",
              "      <th>households</th>\n",
              "      <th>median_income</th>\n",
              "      <th>median_house_value</th>\n",
              "      <th>ocean_proximity</th>\n",
              "    </tr>\n",
              "  </thead>\n",
              "  <tbody>\n",
              "    <tr>\n",
              "      <th>0</th>\n",
              "      <td>-122.23</td>\n",
              "      <td>37.88</td>\n",
              "      <td>41.0</td>\n",
              "      <td>880.0</td>\n",
              "      <td>129.0</td>\n",
              "      <td>322.0</td>\n",
              "      <td>126.0</td>\n",
              "      <td>8.3252</td>\n",
              "      <td>452600.0</td>\n",
              "      <td>NEAR BAY</td>\n",
              "    </tr>\n",
              "    <tr>\n",
              "      <th>1</th>\n",
              "      <td>-122.22</td>\n",
              "      <td>37.86</td>\n",
              "      <td>21.0</td>\n",
              "      <td>7099.0</td>\n",
              "      <td>1106.0</td>\n",
              "      <td>2401.0</td>\n",
              "      <td>1138.0</td>\n",
              "      <td>8.3014</td>\n",
              "      <td>358500.0</td>\n",
              "      <td>NEAR BAY</td>\n",
              "    </tr>\n",
              "    <tr>\n",
              "      <th>2</th>\n",
              "      <td>-122.24</td>\n",
              "      <td>37.85</td>\n",
              "      <td>52.0</td>\n",
              "      <td>1467.0</td>\n",
              "      <td>190.0</td>\n",
              "      <td>496.0</td>\n",
              "      <td>177.0</td>\n",
              "      <td>7.2574</td>\n",
              "      <td>352100.0</td>\n",
              "      <td>NEAR BAY</td>\n",
              "    </tr>\n",
              "    <tr>\n",
              "      <th>3</th>\n",
              "      <td>-122.25</td>\n",
              "      <td>37.85</td>\n",
              "      <td>52.0</td>\n",
              "      <td>1274.0</td>\n",
              "      <td>235.0</td>\n",
              "      <td>558.0</td>\n",
              "      <td>219.0</td>\n",
              "      <td>5.6431</td>\n",
              "      <td>341300.0</td>\n",
              "      <td>NEAR BAY</td>\n",
              "    </tr>\n",
              "    <tr>\n",
              "      <th>4</th>\n",
              "      <td>-122.25</td>\n",
              "      <td>37.85</td>\n",
              "      <td>52.0</td>\n",
              "      <td>1627.0</td>\n",
              "      <td>280.0</td>\n",
              "      <td>565.0</td>\n",
              "      <td>259.0</td>\n",
              "      <td>3.8462</td>\n",
              "      <td>342200.0</td>\n",
              "      <td>NEAR BAY</td>\n",
              "    </tr>\n",
              "  </tbody>\n",
              "</table>\n",
              "</div>"
            ],
            "text/plain": [
              "   longitude  latitude  ...  median_house_value  ocean_proximity\n",
              "0    -122.23     37.88  ...            452600.0         NEAR BAY\n",
              "1    -122.22     37.86  ...            358500.0         NEAR BAY\n",
              "2    -122.24     37.85  ...            352100.0         NEAR BAY\n",
              "3    -122.25     37.85  ...            341300.0         NEAR BAY\n",
              "4    -122.25     37.85  ...            342200.0         NEAR BAY\n",
              "\n",
              "[5 rows x 10 columns]"
            ]
          },
          "metadata": {
            "tags": []
          },
          "execution_count": 29
        }
      ]
    },
    {
      "cell_type": "code",
      "metadata": {
        "colab": {
          "base_uri": "https://localhost:8080/",
          "height": 275
        },
        "id": "pUDMwWQEuaTL",
        "outputId": "c784a047-267a-418b-a3d3-d6990204712c"
      },
      "source": [
        "precoCasas.plot(kind='scatter', x='longitude', y='latitude',\n",
        "             alpha=0.4,\n",
        "             colorbar=True)"
      ],
      "execution_count": 30,
      "outputs": [
        {
          "output_type": "execute_result",
          "data": {
            "text/plain": [
              "<matplotlib.axes._subplots.AxesSubplot at 0x7f739b27cbd0>"
            ]
          },
          "metadata": {
            "tags": []
          },
          "execution_count": 30
        },
        {
          "output_type": "display_data",
          "data": {
            "image/png": "[encoded data removed]",
            "text/plain": [
              "<Figure size 432x288 with 2 Axes>"
            ]
          },
          "metadata": {
            "tags": [],
            "needs_background": "light"
          }
        }
      ]
    },
    {
      "cell_type": "markdown",
      "metadata": {
        "id": "uLoFCQAAvk8q"
      },
      "source": [
        "![Housing](https://github.com/janiosl/python.ds/blob/master/data/housing.png?raw=true)\n",
        "\n",
        "Figura 1 - Preço médio de casas no estado da Califórnia (Géron, 2019)"
      ]
    },
    {
      "cell_type": "markdown",
      "metadata": {
        "id": "zc80X3dv34rB"
      },
      "source": [
        "#Referências e links"
      ]
    },
    {
      "cell_type": "markdown",
      "metadata": {
        "id": "FPeR0xpP39Fr"
      },
      "source": [
        "**Referências:**\n",
        "\n",
        "Géron, Aurélien (2019). **Mãos à Obra Aprendizagem de Máquina com Scikit-Learn & TensorFlow**: Conceitos, ferramentas e técnicas para a construção de sistemas inteligentes. Traduzido por Rafael Contatori. Alta Books.\n",
        "\n",
        "---\n",
        "**Material complementar:**\n",
        "\n",
        "* Playlist Ferramentas Complementares ao Python: https://youtube.com/playlist?list=PL0XxTDj23A1Ftg-rb_pIaFE3pPROwWtbw\n",
        "* Conjunto de dados: https://raw.githubusercontent.com/janiosl/python.ds/master/data/housing.csv\n",
        "* Exercícios do livro Mãos à obra Aprendizagem de Máquina com Scikit-Learn & TensorFlow: https://github.com/ageron/handson-ml2"
      ]
    }
  ]
}