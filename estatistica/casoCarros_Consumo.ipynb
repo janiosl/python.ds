{
  "nbformat": 4,
  "nbformat_minor": 0,
  "metadata": {
    "colab": {
      "name": "casoCarros_Consumo.ipynb",
      "provenance": [],
      "collapsed_sections": [],
      "authorship_tag": "ABX9TyM3qkGA9IEuJhabIqFLOuy+",
      "include_colab_link": true
    },
    "kernelspec": {
      "name": "python3",
      "display_name": "Python 3"
    },
    "language_info": {
      "name": "python"
    }
  },
  "cells": [
    {
      "cell_type": "markdown",
      "metadata": {
        "id": "view-in-github",
        "colab_type": "text"
      },
      "source": [
        "<a href=\"https://colab.research.google.com/github/janiosl/python.ds/blob/master/estatistica/casoCarros_Consumo.ipynb\" target=\"_parent\"><img src=\"https://colab.research.google.com/assets/colab-badge.svg\" alt=\"Open In Colab\"/></a>"
      ]
    },
    {
      "cell_type": "markdown",
      "metadata": {
        "id": "XOtSt98CaeHg"
      },
      "source": [
        "#Análise do Consumo de Combustível"
      ]
    },
    {
      "cell_type": "markdown",
      "metadata": {
        "id": "GwPxVVD1aknB"
      },
      "source": [
        "Análise do conjunto de dados `mpg` disponível no pacote `ggplot2`* para identificação do consumo de combustível e comparação de características de diversos modelos de automóveis para identificar sua relação com o nível de consumo.\n",
        "\n",
        "*O pacote citado é implementado na linguagem R, mas geramos uma versão do dataset adaptada em csv. Disponível em: https://raw.githubusercontent.com/janiosl/python.ds/master/data/mpg.csv\n"
      ]
    },
    {
      "cell_type": "markdown",
      "metadata": {
        "id": "s9Jpa0v7VNWc"
      },
      "source": [
        "# Preparação do ambiente"
      ]
    },
    {
      "cell_type": "code",
      "metadata": {
        "id": "wNxip7oLU0VH"
      },
      "source": [
        "#Bibliotecas\n",
        "import pandas as pd\n",
        "import numpy as np\n",
        "import seaborn as sns\n",
        "from matplotlib import pyplot as plt"
      ],
      "execution_count": null,
      "outputs": []
    },
    {
      "cell_type": "code",
      "metadata": {
        "colab": {
          "base_uri": "https://localhost:8080/"
        },
        "id": "qKOEbeeiVS-s",
        "outputId": "10399a4d-14d2-4029-e966-c0581f35e618"
      },
      "source": [
        "#Conexão com google drive para gravação de análises\n",
        "from google.colab import drive\n",
        "drive.mount('/content/drive')"
      ],
      "execution_count": null,
      "outputs": [
        {
          "output_type": "stream",
          "text": [
            "Mounted at /content/drive\n"
          ],
          "name": "stdout"
        }
      ]
    },
    {
      "cell_type": "code",
      "metadata": {
        "id": "bV-_JCuoVj4u"
      },
      "source": [
        "#Define o path dos dados como diretório de trabalho atual\n",
        "import os\n",
        "dir = '/content/drive/My Drive/Python/casoCarros_Consumo'\n",
        "os.chdir(dir)"
      ],
      "execution_count": null,
      "outputs": []
    },
    {
      "cell_type": "markdown",
      "metadata": {
        "id": "vSs-n18rVP2O"
      },
      "source": [
        "#1 Análise preliminar dos dados"
      ]
    },
    {
      "cell_type": "markdown",
      "metadata": {
        "id": "JxbQ7j5bciFk"
      },
      "source": [
        "As duas células abaixo realizam a mesma ação: definição do nome do arquivo com o conjunto de dados.\n",
        "\n",
        "Deixamos ambas apenas para exemplificar a possibilidade de carga dos arquivos do caminho do Google Drive definido na etapa de prepação do ambiente. Caso não esteja usando o Google Drive pode carregar a partir do caminho do github na segunda opção.\n",
        "\n",
        "Em seguida é feita a carga do conjunto de dados do arquivo escolhido usando a biblioteca `pandas` e exibidas as primeiras ocorrências através do método `.head()` aplicável para a maioria dos tipos de objetos criados com `pandas`."
      ]
    },
    {
      "cell_type": "code",
      "metadata": {
        "id": "RdKrzjvAcA9M"
      },
      "source": [
        "#PRIMEIRA OPÇÃO\n",
        "#Carga do conjunto de dados a partir do google drive\n",
        "arquivo = 'mpg.csv'"
      ],
      "execution_count": null,
      "outputs": []
    },
    {
      "cell_type": "code",
      "metadata": {
        "id": "hl8V9pebU_Fi"
      },
      "source": [
        "#SEGUNDA OPÇÃO\n",
        "#Carga do conjunto de dados a partir do GitHub do PythonDS\n",
        "arquivo = 'https://raw.githubusercontent.com/janiosl/python.ds/master/data/mpg.csv'"
      ],
      "execution_count": null,
      "outputs": []
    },
    {
      "cell_type": "code",
      "metadata": {
        "colab": {
          "base_uri": "https://localhost:8080/",
          "height": 204
        },
        "id": "d79u3nNIcQOU",
        "outputId": "d8448180-cb76-4baa-9406-3756ea584f36"
      },
      "source": [
        "#Carga e visualização das primeiras observações do conjunto de dados\n",
        "carros = pd.read_csv(arquivo)\n",
        "carros.head()"
      ],
      "execution_count": null,
      "outputs": [
        {
          "output_type": "execute_result",
          "data": {
            "text/html": [
              "<div>\n",
              "<style scoped>\n",
              "    .dataframe tbody tr th:only-of-type {\n",
              "        vertical-align: middle;\n",
              "    }\n",
              "\n",
              "    .dataframe tbody tr th {\n",
              "        vertical-align: top;\n",
              "    }\n",
              "\n",
              "    .dataframe thead th {\n",
              "        text-align: right;\n",
              "    }\n",
              "</style>\n",
              "<table border=\"1\" class=\"dataframe\">\n",
              "  <thead>\n",
              "    <tr style=\"text-align: right;\">\n",
              "      <th></th>\n",
              "      <th>manufacturer</th>\n",
              "      <th>model</th>\n",
              "      <th>displ</th>\n",
              "      <th>year</th>\n",
              "      <th>cyl</th>\n",
              "      <th>trans</th>\n",
              "      <th>drv</th>\n",
              "      <th>cty</th>\n",
              "      <th>hwy</th>\n",
              "      <th>fl</th>\n",
              "      <th>class</th>\n",
              "    </tr>\n",
              "  </thead>\n",
              "  <tbody>\n",
              "    <tr>\n",
              "      <th>0</th>\n",
              "      <td>audi</td>\n",
              "      <td>a4</td>\n",
              "      <td>1.8</td>\n",
              "      <td>1999</td>\n",
              "      <td>4</td>\n",
              "      <td>auto(l5)</td>\n",
              "      <td>f</td>\n",
              "      <td>18</td>\n",
              "      <td>29</td>\n",
              "      <td>p</td>\n",
              "      <td>compact</td>\n",
              "    </tr>\n",
              "    <tr>\n",
              "      <th>1</th>\n",
              "      <td>audi</td>\n",
              "      <td>a4</td>\n",
              "      <td>1.8</td>\n",
              "      <td>1999</td>\n",
              "      <td>4</td>\n",
              "      <td>manual(m5)</td>\n",
              "      <td>f</td>\n",
              "      <td>21</td>\n",
              "      <td>29</td>\n",
              "      <td>p</td>\n",
              "      <td>compact</td>\n",
              "    </tr>\n",
              "    <tr>\n",
              "      <th>2</th>\n",
              "      <td>audi</td>\n",
              "      <td>a4</td>\n",
              "      <td>2.0</td>\n",
              "      <td>2008</td>\n",
              "      <td>4</td>\n",
              "      <td>manual(m6)</td>\n",
              "      <td>f</td>\n",
              "      <td>20</td>\n",
              "      <td>31</td>\n",
              "      <td>p</td>\n",
              "      <td>compact</td>\n",
              "    </tr>\n",
              "    <tr>\n",
              "      <th>3</th>\n",
              "      <td>audi</td>\n",
              "      <td>a4</td>\n",
              "      <td>2.0</td>\n",
              "      <td>2008</td>\n",
              "      <td>4</td>\n",
              "      <td>auto(av)</td>\n",
              "      <td>f</td>\n",
              "      <td>21</td>\n",
              "      <td>30</td>\n",
              "      <td>p</td>\n",
              "      <td>compact</td>\n",
              "    </tr>\n",
              "    <tr>\n",
              "      <th>4</th>\n",
              "      <td>audi</td>\n",
              "      <td>a4</td>\n",
              "      <td>2.8</td>\n",
              "      <td>1999</td>\n",
              "      <td>6</td>\n",
              "      <td>auto(l5)</td>\n",
              "      <td>f</td>\n",
              "      <td>16</td>\n",
              "      <td>26</td>\n",
              "      <td>p</td>\n",
              "      <td>compact</td>\n",
              "    </tr>\n",
              "  </tbody>\n",
              "</table>\n",
              "</div>"
            ],
            "text/plain": [
              "  manufacturer model  displ  year  cyl       trans drv  cty  hwy fl    class\n",
              "0         audi    a4    1.8  1999    4    auto(l5)   f   18   29  p  compact\n",
              "1         audi    a4    1.8  1999    4  manual(m5)   f   21   29  p  compact\n",
              "2         audi    a4    2.0  2008    4  manual(m6)   f   20   31  p  compact\n",
              "3         audi    a4    2.0  2008    4    auto(av)   f   21   30  p  compact\n",
              "4         audi    a4    2.8  1999    6    auto(l5)   f   16   26  p  compact"
            ]
          },
          "metadata": {
            "tags": []
          },
          "execution_count": 5
        }
      ]
    },
    {
      "cell_type": "markdown",
      "metadata": {
        "id": "kV_BTBkX5ucy"
      },
      "source": [
        "Segue uma breve descrição dos dados, conforme documentação da biblioteca `ggplot2` da linguagem R [Hadley Wickham et al, 2021].\n",
        "\n",
        "* Conjunto de dados: `mpg`\n",
        "* Descrição constante no pacote: Dados de economia de combustível de 1999 a 2008 para 38 modelos populares de carros.\n",
        "\n",
        "Conjunto de dados com 234 linhas e 11 características.\n",
        "\n",
        "* `manufacturer`: nome do fabricante\n",
        "* `model`: modelo do carro\n",
        "* `displ`: capacidade/cilindrada do motor em litros\n",
        "* `year`: ano de fabricação\n",
        "* `cyl`: número de cilindros do motor\n",
        "* `trans`: tipo de transmissão\n",
        "* `drv`: tipo de tração. f = tração dianteira, r = tração traseira, 4 = 4x4\n",
        "* `cty`: milhas por galão na cidade\n",
        "* `hwy`: milhas por galão na estrada\n",
        "* `fl`: tipo de combustível\n",
        "* `class`: categoria de carro\n",
        "\n",
        "---"
      ]
    },
    {
      "cell_type": "markdown",
      "metadata": {
        "id": "i7qW9UlE4M9P"
      },
      "source": [
        "Nas duas células abaixo consultamos as seguintes informações:\n",
        "* O resumo das estatísticas descritivas básicas do conjunto de dados (contagem, média, desvio padrão, valores mínimos e máximo e quartis), sem a necessidade de cálculo individualizado. Para isso usamos o método `.describe()` embutido em conjutos de dados carregados através do `pandas` para simplificar esse tipo de análise.\n",
        "* As informações gerais do conjunto de dados, como tipos de variáveis, quantidade de observações e colunas e existência ou não de valores nulos. Neste caso usamos o método `.info()`."
      ]
    },
    {
      "cell_type": "code",
      "metadata": {
        "colab": {
          "base_uri": "https://localhost:8080/",
          "height": 297
        },
        "id": "NBm_bUjfYYAm",
        "outputId": "33ef91d2-241c-4454-989c-3b27154707d3"
      },
      "source": [
        "#Resumo estatístico do conjunto de dados\n",
        "carros.describe()"
      ],
      "execution_count": null,
      "outputs": [
        {
          "output_type": "execute_result",
          "data": {
            "text/html": [
              "<div>\n",
              "<style scoped>\n",
              "    .dataframe tbody tr th:only-of-type {\n",
              "        vertical-align: middle;\n",
              "    }\n",
              "\n",
              "    .dataframe tbody tr th {\n",
              "        vertical-align: top;\n",
              "    }\n",
              "\n",
              "    .dataframe thead th {\n",
              "        text-align: right;\n",
              "    }\n",
              "</style>\n",
              "<table border=\"1\" class=\"dataframe\">\n",
              "  <thead>\n",
              "    <tr style=\"text-align: right;\">\n",
              "      <th></th>\n",
              "      <th>displ</th>\n",
              "      <th>year</th>\n",
              "      <th>cyl</th>\n",
              "      <th>cty</th>\n",
              "      <th>hwy</th>\n",
              "    </tr>\n",
              "  </thead>\n",
              "  <tbody>\n",
              "    <tr>\n",
              "      <th>count</th>\n",
              "      <td>234.000000</td>\n",
              "      <td>234.000000</td>\n",
              "      <td>234.000000</td>\n",
              "      <td>234.000000</td>\n",
              "      <td>234.000000</td>\n",
              "    </tr>\n",
              "    <tr>\n",
              "      <th>mean</th>\n",
              "      <td>3.471795</td>\n",
              "      <td>2003.500000</td>\n",
              "      <td>5.888889</td>\n",
              "      <td>16.858974</td>\n",
              "      <td>23.440171</td>\n",
              "    </tr>\n",
              "    <tr>\n",
              "      <th>std</th>\n",
              "      <td>1.291959</td>\n",
              "      <td>4.509646</td>\n",
              "      <td>1.611534</td>\n",
              "      <td>4.255946</td>\n",
              "      <td>5.954643</td>\n",
              "    </tr>\n",
              "    <tr>\n",
              "      <th>min</th>\n",
              "      <td>1.600000</td>\n",
              "      <td>1999.000000</td>\n",
              "      <td>4.000000</td>\n",
              "      <td>9.000000</td>\n",
              "      <td>12.000000</td>\n",
              "    </tr>\n",
              "    <tr>\n",
              "      <th>25%</th>\n",
              "      <td>2.400000</td>\n",
              "      <td>1999.000000</td>\n",
              "      <td>4.000000</td>\n",
              "      <td>14.000000</td>\n",
              "      <td>18.000000</td>\n",
              "    </tr>\n",
              "    <tr>\n",
              "      <th>50%</th>\n",
              "      <td>3.300000</td>\n",
              "      <td>2003.500000</td>\n",
              "      <td>6.000000</td>\n",
              "      <td>17.000000</td>\n",
              "      <td>24.000000</td>\n",
              "    </tr>\n",
              "    <tr>\n",
              "      <th>75%</th>\n",
              "      <td>4.600000</td>\n",
              "      <td>2008.000000</td>\n",
              "      <td>8.000000</td>\n",
              "      <td>19.000000</td>\n",
              "      <td>27.000000</td>\n",
              "    </tr>\n",
              "    <tr>\n",
              "      <th>max</th>\n",
              "      <td>7.000000</td>\n",
              "      <td>2008.000000</td>\n",
              "      <td>8.000000</td>\n",
              "      <td>35.000000</td>\n",
              "      <td>44.000000</td>\n",
              "    </tr>\n",
              "  </tbody>\n",
              "</table>\n",
              "</div>"
            ],
            "text/plain": [
              "            displ         year         cyl         cty         hwy\n",
              "count  234.000000   234.000000  234.000000  234.000000  234.000000\n",
              "mean     3.471795  2003.500000    5.888889   16.858974   23.440171\n",
              "std      1.291959     4.509646    1.611534    4.255946    5.954643\n",
              "min      1.600000  1999.000000    4.000000    9.000000   12.000000\n",
              "25%      2.400000  1999.000000    4.000000   14.000000   18.000000\n",
              "50%      3.300000  2003.500000    6.000000   17.000000   24.000000\n",
              "75%      4.600000  2008.000000    8.000000   19.000000   27.000000\n",
              "max      7.000000  2008.000000    8.000000   35.000000   44.000000"
            ]
          },
          "metadata": {
            "tags": []
          },
          "execution_count": 6
        }
      ]
    },
    {
      "cell_type": "code",
      "metadata": {
        "colab": {
          "base_uri": "https://localhost:8080/"
        },
        "id": "wkJU9QcS4izS",
        "outputId": "b703b7ff-f2f6-46e6-e4e4-6fcd0f6d9218"
      },
      "source": [
        "carros.info()"
      ],
      "execution_count": null,
      "outputs": [
        {
          "output_type": "stream",
          "text": [
            "<class 'pandas.core.frame.DataFrame'>\n",
            "RangeIndex: 234 entries, 0 to 233\n",
            "Data columns (total 11 columns):\n",
            " #   Column        Non-Null Count  Dtype  \n",
            "---  ------        --------------  -----  \n",
            " 0   manufacturer  234 non-null    object \n",
            " 1   model         234 non-null    object \n",
            " 2   displ         234 non-null    float64\n",
            " 3   year          234 non-null    int64  \n",
            " 4   cyl           234 non-null    int64  \n",
            " 5   trans         234 non-null    object \n",
            " 6   drv           234 non-null    object \n",
            " 7   cty           234 non-null    int64  \n",
            " 8   hwy           234 non-null    int64  \n",
            " 9   fl            234 non-null    object \n",
            " 10  class         234 non-null    object \n",
            "dtypes: float64(1), int64(4), object(6)\n",
            "memory usage: 20.2+ KB\n"
          ],
          "name": "stdout"
        }
      ]
    },
    {
      "cell_type": "markdown",
      "metadata": {
        "id": "wOpYnHrM8o3w"
      },
      "source": [
        "##1.1 Análise do consumo dos carros existentes no conjunto de dados completo."
      ]
    },
    {
      "cell_type": "code",
      "metadata": {
        "colab": {
          "base_uri": "https://localhost:8080/"
        },
        "id": "Fj8pK5dkkxmS",
        "outputId": "e0405e93-a60a-4e49-efd0-717efba8f285"
      },
      "source": [
        "#Amplitude do consumo (milhas por galão na estrada)\n",
        "print('Amplitude do consumo na estrada:\\n',\n",
        "      carros.hwy.max() - carros.hwy.min(),\n",
        "      'milhas por galão')"
      ],
      "execution_count": null,
      "outputs": [
        {
          "output_type": "stream",
          "text": [
            "Amplitude do consumo na estrada:\n",
            " 32 milhas por galão\n"
          ],
          "name": "stdout"
        }
      ]
    },
    {
      "cell_type": "code",
      "metadata": {
        "colab": {
          "base_uri": "https://localhost:8080/"
        },
        "id": "VT-fgwbXdodu",
        "outputId": "39040256-c631-4c71-8af0-22d18c3f8a70"
      },
      "source": [
        "#Consumo médio por marca\n",
        "c_mean = carros['hwy'].groupby(by=carros.manufacturer).mean()\n",
        "\n",
        "#Ordenação (opcional, mas recomendável como boa prática de visualização)\n",
        "c_mean.sort_values(ascending=False, inplace=True)\n",
        "\n",
        "#Exibição\n",
        "c_mean"
      ],
      "execution_count": null,
      "outputs": [
        {
          "output_type": "execute_result",
          "data": {
            "text/plain": [
              "manufacturer\n",
              "honda         32.555556\n",
              "volkswagen    29.222222\n",
              "hyundai       26.857143\n",
              "audi          26.444444\n",
              "pontiac       26.400000\n",
              "subaru        25.571429\n",
              "toyota        24.911765\n",
              "nissan        24.615385\n",
              "chevrolet     21.894737\n",
              "ford          19.360000\n",
              "mercury       18.000000\n",
              "dodge         17.945946\n",
              "jeep          17.625000\n",
              "lincoln       17.000000\n",
              "land rover    16.500000\n",
              "Name: hwy, dtype: float64"
            ]
          },
          "metadata": {
            "tags": []
          },
          "execution_count": 18
        }
      ]
    },
    {
      "cell_type": "code",
      "metadata": {
        "colab": {
          "base_uri": "https://localhost:8080/",
          "height": 405
        },
        "id": "hoygJe4ueRyz",
        "outputId": "7ae69486-bb2f-49dd-c2cf-c425c033d31e"
      },
      "source": [
        "#Visualização do consumo médio\n",
        "plt.figure(figsize=(10,6))\n",
        "\n",
        "c_mean.plot(\n",
        "    kind='barh',\n",
        "    title='Milhas por galão\\nMédia por Marca')\n",
        "\n",
        "plt.grid()\n",
        "sns.despine()\n",
        "\n",
        "graf_file = 'target/1.1.1_consMedio_carros.png'\n",
        "plt.savefig(graf_file)"
      ],
      "execution_count": null,
      "outputs": [
        {
          "output_type": "display_data",
          "data": {
            "image/png": "[encoded data removed]",
            "text/plain": [
              "<Figure size 720x432 with 1 Axes>"
            ]
          },
          "metadata": {
            "tags": [],
            "needs_background": "light"
          }
        }
      ]
    },
    {
      "cell_type": "code",
      "metadata": {
        "colab": {
          "base_uri": "https://localhost:8080/"
        },
        "id": "r3-F2uVMiBrg",
        "outputId": "c09865ab-7738-4fb2-88a7-61879c31bf8c"
      },
      "source": [
        "#Mediana do consumo por marca\n",
        "c_med = carros['hwy'].groupby(by=carros.manufacturer).median()\n",
        "\n",
        "#Ordenação (opcional, mas recomendável como boa prática de visualização)\n",
        "c_med.sort_values(ascending=False, inplace=True)\n",
        "\n",
        "#Exibição\n",
        "c_med"
      ],
      "execution_count": null,
      "outputs": [
        {
          "output_type": "execute_result",
          "data": {
            "text/plain": [
              "manufacturer\n",
              "honda         32.0\n",
              "volkswagen    29.0\n",
              "hyundai       26.5\n",
              "toyota        26.0\n",
              "subaru        26.0\n",
              "pontiac       26.0\n",
              "nissan        26.0\n",
              "audi          26.0\n",
              "chevrolet     23.0\n",
              "jeep          18.5\n",
              "mercury       18.0\n",
              "ford          18.0\n",
              "lincoln       17.0\n",
              "dodge         17.0\n",
              "land rover    16.5\n",
              "Name: hwy, dtype: float64"
            ]
          },
          "metadata": {
            "tags": []
          },
          "execution_count": 25
        }
      ]
    },
    {
      "cell_type": "code",
      "metadata": {
        "colab": {
          "base_uri": "https://localhost:8080/",
          "height": 405
        },
        "id": "QWzCss2yiOp_",
        "outputId": "fdbeb0c7-11e6-41ac-f826-d43ab5844780"
      },
      "source": [
        "#Visualização da mediana do consumo\n",
        "plt.figure(figsize=(10,6))\n",
        "\n",
        "c_med.plot(\n",
        "    kind='barh',\n",
        "    title='Milhas por galão\\nMediana por Marca',\n",
        "    color='orange',\n",
        "    alpha=0.5)\n",
        "\n",
        "plt.grid()\n",
        "sns.despine()\n",
        "\n",
        "graf_file = 'target/1.1.2_consMediano_carros.png'\n",
        "plt.savefig(graf_file)"
      ],
      "execution_count": null,
      "outputs": [
        {
          "output_type": "display_data",
          "data": {
            "image/png": "[encoded data removed]",
            "text/plain": [
              "<Figure size 720x432 with 1 Axes>"
            ]
          },
          "metadata": {
            "tags": [],
            "needs_background": "light"
          }
        }
      ]
    },
    {
      "cell_type": "code",
      "metadata": {
        "colab": {
          "base_uri": "https://localhost:8080/",
          "height": 419
        },
        "id": "0ZLEE6p9fRBH",
        "outputId": "e7f00b11-3608-44dc-9d98-6cb29a8180ce"
      },
      "source": [
        "plt.figure(figsize=(9,6))\n",
        "\n",
        "plt.hist(carros.hwy)\n",
        "\n",
        "plt.title('Consumo de combustível\\nTodas as marcas')\n",
        "plt.xlabel('Faixas de consumo')\n",
        "plt.ylabel('Observações')\n",
        "sns.despine()\n",
        "\n",
        "graf_file = 'target/1.1.3_hist_carros.png'\n",
        "plt.savefig(graf_file)"
      ],
      "execution_count": null,
      "outputs": [
        {
          "output_type": "display_data",
          "data": {
            "image/png": "[encoded data removed]",
            "text/plain": [
              "<Figure size 648x432 with 1 Axes>"
            ]
          },
          "metadata": {
            "tags": [],
            "needs_background": "light"
          }
        }
      ]
    },
    {
      "cell_type": "code",
      "metadata": {
        "colab": {
          "base_uri": "https://localhost:8080/",
          "height": 388
        },
        "id": "Ap5czmYpf8pp",
        "outputId": "b52a816f-b9e3-42b6-f21d-f03cd78bd234"
      },
      "source": [
        "plt.figure(figsize=(7,6))\n",
        "\n",
        "plt.boxplot(carros.hwy)\n",
        "\n",
        "plt.title('Consumo de combustível\\nTodas as marcas')\n",
        "plt.ylabel('Milhas por galão')\n",
        "plt.xticks([])\n",
        "sns.despine(bottom=True)\n",
        "\n",
        "graf_file = 'target/1.1.4_boxplot_carros.png'\n",
        "plt.savefig(graf_file)"
      ],
      "execution_count": null,
      "outputs": [
        {
          "output_type": "display_data",
          "data": {
            "image/png": "[encoded data removed]",
            "text/plain": [
              "<Figure size 504x432 with 1 Axes>"
            ]
          },
          "metadata": {
            "tags": [],
            "needs_background": "light"
          }
        }
      ]
    },
    {
      "cell_type": "markdown",
      "metadata": {
        "id": "q0n4wSqy9A-Z"
      },
      "source": [
        "##1.2 Detalhamento do consumo dos carros da marca com maior consumo identificado no dentre as modelos analisados."
      ]
    },
    {
      "cell_type": "code",
      "metadata": {
        "colab": {
          "base_uri": "https://localhost:8080/",
          "height": 206
        },
        "id": "zquWm9loinBO",
        "outputId": "071fddf3-c6b1-4b2d-91a0-00cb68c98739"
      },
      "source": [
        "honda = carros[carros.manufacturer=='honda']\n",
        "honda.head()"
      ],
      "execution_count": null,
      "outputs": [
        {
          "output_type": "execute_result",
          "data": {
            "text/html": [
              "<div>\n",
              "<style scoped>\n",
              "    .dataframe tbody tr th:only-of-type {\n",
              "        vertical-align: middle;\n",
              "    }\n",
              "\n",
              "    .dataframe tbody tr th {\n",
              "        vertical-align: top;\n",
              "    }\n",
              "\n",
              "    .dataframe thead th {\n",
              "        text-align: right;\n",
              "    }\n",
              "</style>\n",
              "<table border=\"1\" class=\"dataframe\">\n",
              "  <thead>\n",
              "    <tr style=\"text-align: right;\">\n",
              "      <th></th>\n",
              "      <th>manufacturer</th>\n",
              "      <th>model</th>\n",
              "      <th>displ</th>\n",
              "      <th>year</th>\n",
              "      <th>cyl</th>\n",
              "      <th>trans</th>\n",
              "      <th>drv</th>\n",
              "      <th>cty</th>\n",
              "      <th>hwy</th>\n",
              "      <th>fl</th>\n",
              "      <th>class</th>\n",
              "    </tr>\n",
              "  </thead>\n",
              "  <tbody>\n",
              "    <tr>\n",
              "      <th>99</th>\n",
              "      <td>honda</td>\n",
              "      <td>civic</td>\n",
              "      <td>1.6</td>\n",
              "      <td>1999</td>\n",
              "      <td>4</td>\n",
              "      <td>manual(m5)</td>\n",
              "      <td>f</td>\n",
              "      <td>28</td>\n",
              "      <td>33</td>\n",
              "      <td>r</td>\n",
              "      <td>subcompact</td>\n",
              "    </tr>\n",
              "    <tr>\n",
              "      <th>100</th>\n",
              "      <td>honda</td>\n",
              "      <td>civic</td>\n",
              "      <td>1.6</td>\n",
              "      <td>1999</td>\n",
              "      <td>4</td>\n",
              "      <td>auto(l4)</td>\n",
              "      <td>f</td>\n",
              "      <td>24</td>\n",
              "      <td>32</td>\n",
              "      <td>r</td>\n",
              "      <td>subcompact</td>\n",
              "    </tr>\n",
              "    <tr>\n",
              "      <th>101</th>\n",
              "      <td>honda</td>\n",
              "      <td>civic</td>\n",
              "      <td>1.6</td>\n",
              "      <td>1999</td>\n",
              "      <td>4</td>\n",
              "      <td>manual(m5)</td>\n",
              "      <td>f</td>\n",
              "      <td>25</td>\n",
              "      <td>32</td>\n",
              "      <td>r</td>\n",
              "      <td>subcompact</td>\n",
              "    </tr>\n",
              "    <tr>\n",
              "      <th>102</th>\n",
              "      <td>honda</td>\n",
              "      <td>civic</td>\n",
              "      <td>1.6</td>\n",
              "      <td>1999</td>\n",
              "      <td>4</td>\n",
              "      <td>manual(m5)</td>\n",
              "      <td>f</td>\n",
              "      <td>23</td>\n",
              "      <td>29</td>\n",
              "      <td>p</td>\n",
              "      <td>subcompact</td>\n",
              "    </tr>\n",
              "    <tr>\n",
              "      <th>103</th>\n",
              "      <td>honda</td>\n",
              "      <td>civic</td>\n",
              "      <td>1.6</td>\n",
              "      <td>1999</td>\n",
              "      <td>4</td>\n",
              "      <td>auto(l4)</td>\n",
              "      <td>f</td>\n",
              "      <td>24</td>\n",
              "      <td>32</td>\n",
              "      <td>r</td>\n",
              "      <td>subcompact</td>\n",
              "    </tr>\n",
              "  </tbody>\n",
              "</table>\n",
              "</div>"
            ],
            "text/plain": [
              "    manufacturer  model  displ  year  cyl  ... drv cty  hwy  fl       class\n",
              "99         honda  civic    1.6  1999    4  ...   f  28   33   r  subcompact\n",
              "100        honda  civic    1.6  1999    4  ...   f  24   32   r  subcompact\n",
              "101        honda  civic    1.6  1999    4  ...   f  25   32   r  subcompact\n",
              "102        honda  civic    1.6  1999    4  ...   f  23   29   p  subcompact\n",
              "103        honda  civic    1.6  1999    4  ...   f  24   32   r  subcompact\n",
              "\n",
              "[5 rows x 11 columns]"
            ]
          },
          "metadata": {
            "tags": []
          },
          "execution_count": 36
        }
      ]
    },
    {
      "cell_type": "code",
      "metadata": {
        "colab": {
          "base_uri": "https://localhost:8080/",
          "height": 300
        },
        "id": "4wHUF95F3KYg",
        "outputId": "de77abd8-aeda-4437-e449-70820c4eaa9c"
      },
      "source": [
        "honda.describe()"
      ],
      "execution_count": null,
      "outputs": [
        {
          "output_type": "execute_result",
          "data": {
            "text/html": [
              "<div>\n",
              "<style scoped>\n",
              "    .dataframe tbody tr th:only-of-type {\n",
              "        vertical-align: middle;\n",
              "    }\n",
              "\n",
              "    .dataframe tbody tr th {\n",
              "        vertical-align: top;\n",
              "    }\n",
              "\n",
              "    .dataframe thead th {\n",
              "        text-align: right;\n",
              "    }\n",
              "</style>\n",
              "<table border=\"1\" class=\"dataframe\">\n",
              "  <thead>\n",
              "    <tr style=\"text-align: right;\">\n",
              "      <th></th>\n",
              "      <th>displ</th>\n",
              "      <th>year</th>\n",
              "      <th>cyl</th>\n",
              "      <th>cty</th>\n",
              "      <th>hwy</th>\n",
              "    </tr>\n",
              "  </thead>\n",
              "  <tbody>\n",
              "    <tr>\n",
              "      <th>count</th>\n",
              "      <td>9.000000</td>\n",
              "      <td>9.000000</td>\n",
              "      <td>9.0</td>\n",
              "      <td>9.000000</td>\n",
              "      <td>9.000000</td>\n",
              "    </tr>\n",
              "    <tr>\n",
              "      <th>mean</th>\n",
              "      <td>1.711111</td>\n",
              "      <td>2003.000000</td>\n",
              "      <td>4.0</td>\n",
              "      <td>24.444444</td>\n",
              "      <td>32.555556</td>\n",
              "    </tr>\n",
              "    <tr>\n",
              "      <th>std</th>\n",
              "      <td>0.145297</td>\n",
              "      <td>4.743416</td>\n",
              "      <td>0.0</td>\n",
              "      <td>1.943651</td>\n",
              "      <td>2.554952</td>\n",
              "    </tr>\n",
              "    <tr>\n",
              "      <th>min</th>\n",
              "      <td>1.600000</td>\n",
              "      <td>1999.000000</td>\n",
              "      <td>4.0</td>\n",
              "      <td>21.000000</td>\n",
              "      <td>29.000000</td>\n",
              "    </tr>\n",
              "    <tr>\n",
              "      <th>25%</th>\n",
              "      <td>1.600000</td>\n",
              "      <td>1999.000000</td>\n",
              "      <td>4.0</td>\n",
              "      <td>24.000000</td>\n",
              "      <td>32.000000</td>\n",
              "    </tr>\n",
              "    <tr>\n",
              "      <th>50%</th>\n",
              "      <td>1.600000</td>\n",
              "      <td>1999.000000</td>\n",
              "      <td>4.0</td>\n",
              "      <td>24.000000</td>\n",
              "      <td>32.000000</td>\n",
              "    </tr>\n",
              "    <tr>\n",
              "      <th>75%</th>\n",
              "      <td>1.800000</td>\n",
              "      <td>2008.000000</td>\n",
              "      <td>4.0</td>\n",
              "      <td>25.000000</td>\n",
              "      <td>34.000000</td>\n",
              "    </tr>\n",
              "    <tr>\n",
              "      <th>max</th>\n",
              "      <td>2.000000</td>\n",
              "      <td>2008.000000</td>\n",
              "      <td>4.0</td>\n",
              "      <td>28.000000</td>\n",
              "      <td>36.000000</td>\n",
              "    </tr>\n",
              "  </tbody>\n",
              "</table>\n",
              "</div>"
            ],
            "text/plain": [
              "          displ         year  cyl        cty        hwy\n",
              "count  9.000000     9.000000  9.0   9.000000   9.000000\n",
              "mean   1.711111  2003.000000  4.0  24.444444  32.555556\n",
              "std    0.145297     4.743416  0.0   1.943651   2.554952\n",
              "min    1.600000  1999.000000  4.0  21.000000  29.000000\n",
              "25%    1.600000  1999.000000  4.0  24.000000  32.000000\n",
              "50%    1.600000  1999.000000  4.0  24.000000  32.000000\n",
              "75%    1.800000  2008.000000  4.0  25.000000  34.000000\n",
              "max    2.000000  2008.000000  4.0  28.000000  36.000000"
            ]
          },
          "metadata": {
            "tags": []
          },
          "execution_count": 37
        }
      ]
    },
    {
      "cell_type": "code",
      "metadata": {
        "colab": {
          "base_uri": "https://localhost:8080/",
          "height": 300
        },
        "id": "tk2EzfWv3QTH",
        "outputId": "5a54a09d-640e-4b14-b2c3-e800b8e6e5f0"
      },
      "source": [
        "carros.describe()"
      ],
      "execution_count": null,
      "outputs": [
        {
          "output_type": "execute_result",
          "data": {
            "text/html": [
              "<div>\n",
              "<style scoped>\n",
              "    .dataframe tbody tr th:only-of-type {\n",
              "        vertical-align: middle;\n",
              "    }\n",
              "\n",
              "    .dataframe tbody tr th {\n",
              "        vertical-align: top;\n",
              "    }\n",
              "\n",
              "    .dataframe thead th {\n",
              "        text-align: right;\n",
              "    }\n",
              "</style>\n",
              "<table border=\"1\" class=\"dataframe\">\n",
              "  <thead>\n",
              "    <tr style=\"text-align: right;\">\n",
              "      <th></th>\n",
              "      <th>displ</th>\n",
              "      <th>year</th>\n",
              "      <th>cyl</th>\n",
              "      <th>cty</th>\n",
              "      <th>hwy</th>\n",
              "    </tr>\n",
              "  </thead>\n",
              "  <tbody>\n",
              "    <tr>\n",
              "      <th>count</th>\n",
              "      <td>234.000000</td>\n",
              "      <td>234.000000</td>\n",
              "      <td>234.000000</td>\n",
              "      <td>234.000000</td>\n",
              "      <td>234.000000</td>\n",
              "    </tr>\n",
              "    <tr>\n",
              "      <th>mean</th>\n",
              "      <td>3.471795</td>\n",
              "      <td>2003.500000</td>\n",
              "      <td>5.888889</td>\n",
              "      <td>16.858974</td>\n",
              "      <td>23.440171</td>\n",
              "    </tr>\n",
              "    <tr>\n",
              "      <th>std</th>\n",
              "      <td>1.291959</td>\n",
              "      <td>4.509646</td>\n",
              "      <td>1.611534</td>\n",
              "      <td>4.255946</td>\n",
              "      <td>5.954643</td>\n",
              "    </tr>\n",
              "    <tr>\n",
              "      <th>min</th>\n",
              "      <td>1.600000</td>\n",
              "      <td>1999.000000</td>\n",
              "      <td>4.000000</td>\n",
              "      <td>9.000000</td>\n",
              "      <td>12.000000</td>\n",
              "    </tr>\n",
              "    <tr>\n",
              "      <th>25%</th>\n",
              "      <td>2.400000</td>\n",
              "      <td>1999.000000</td>\n",
              "      <td>4.000000</td>\n",
              "      <td>14.000000</td>\n",
              "      <td>18.000000</td>\n",
              "    </tr>\n",
              "    <tr>\n",
              "      <th>50%</th>\n",
              "      <td>3.300000</td>\n",
              "      <td>2003.500000</td>\n",
              "      <td>6.000000</td>\n",
              "      <td>17.000000</td>\n",
              "      <td>24.000000</td>\n",
              "    </tr>\n",
              "    <tr>\n",
              "      <th>75%</th>\n",
              "      <td>4.600000</td>\n",
              "      <td>2008.000000</td>\n",
              "      <td>8.000000</td>\n",
              "      <td>19.000000</td>\n",
              "      <td>27.000000</td>\n",
              "    </tr>\n",
              "    <tr>\n",
              "      <th>max</th>\n",
              "      <td>7.000000</td>\n",
              "      <td>2008.000000</td>\n",
              "      <td>8.000000</td>\n",
              "      <td>35.000000</td>\n",
              "      <td>44.000000</td>\n",
              "    </tr>\n",
              "  </tbody>\n",
              "</table>\n",
              "</div>"
            ],
            "text/plain": [
              "            displ         year         cyl         cty         hwy\n",
              "count  234.000000   234.000000  234.000000  234.000000  234.000000\n",
              "mean     3.471795  2003.500000    5.888889   16.858974   23.440171\n",
              "std      1.291959     4.509646    1.611534    4.255946    5.954643\n",
              "min      1.600000  1999.000000    4.000000    9.000000   12.000000\n",
              "25%      2.400000  1999.000000    4.000000   14.000000   18.000000\n",
              "50%      3.300000  2003.500000    6.000000   17.000000   24.000000\n",
              "75%      4.600000  2008.000000    8.000000   19.000000   27.000000\n",
              "max      7.000000  2008.000000    8.000000   35.000000   44.000000"
            ]
          },
          "metadata": {
            "tags": []
          },
          "execution_count": 38
        }
      ]
    },
    {
      "cell_type": "code",
      "metadata": {
        "id": "Jx9ZFsb2mXlX"
      },
      "source": [
        "#Gravação do subconjunto de dados em csv\n",
        "output = 'target/honda.csv'\n",
        "honda.to_csv(output, index=False, sep=',')"
      ],
      "execution_count": null,
      "outputs": []
    },
    {
      "cell_type": "code",
      "metadata": {
        "colab": {
          "base_uri": "https://localhost:8080/"
        },
        "id": "v02W5VLCjnXf",
        "outputId": "5f7cdc32-fa0d-4c85-ee54-f57176ec8150"
      },
      "source": [
        "#Média de consumo da marca\n",
        "honda.hwy.mean()"
      ],
      "execution_count": null,
      "outputs": [
        {
          "output_type": "execute_result",
          "data": {
            "text/plain": [
              "32.55555555555556"
            ]
          },
          "metadata": {
            "tags": []
          },
          "execution_count": 41
        }
      ]
    },
    {
      "cell_type": "code",
      "metadata": {
        "colab": {
          "base_uri": "https://localhost:8080/"
        },
        "id": "ixNaR0Vqjqod",
        "outputId": "8bc52524-e232-43e2-e235-f06c830d6df6"
      },
      "source": [
        "#Desvio padrão do consumo\n",
        "honda.hwy.std()"
      ],
      "execution_count": null,
      "outputs": [
        {
          "output_type": "execute_result",
          "data": {
            "text/plain": [
              "2.5549516194593154"
            ]
          },
          "metadata": {
            "tags": []
          },
          "execution_count": 42
        }
      ]
    },
    {
      "cell_type": "code",
      "metadata": {
        "colab": {
          "base_uri": "https://localhost:8080/"
        },
        "id": "nvXtLUaqkd2d",
        "outputId": "e94d86ba-c518-4e39-b398-311f40730efe"
      },
      "source": [
        "#Amplitude do consumo\n",
        "amplitude = (honda.hwy.max() - honda.hwy.min())\n",
        "amplitude"
      ],
      "execution_count": null,
      "outputs": [
        {
          "output_type": "execute_result",
          "data": {
            "text/plain": [
              "7"
            ]
          },
          "metadata": {
            "tags": []
          },
          "execution_count": 43
        }
      ]
    },
    {
      "cell_type": "code",
      "metadata": {
        "id": "2hvo9WQdjVxi"
      },
      "source": [
        "honda.describe()"
      ],
      "execution_count": null,
      "outputs": []
    },
    {
      "cell_type": "code",
      "metadata": {
        "colab": {
          "base_uri": "https://localhost:8080/",
          "height": 388
        },
        "id": "ShgnBwIvjii9",
        "outputId": "26802275-d681-42d0-f4ae-4f10cf242581"
      },
      "source": [
        "plt.figure(figsize=(7,6))\n",
        "\n",
        "plt.boxplot(honda.hwy)\n",
        "\n",
        "plt.title('Consumo de combustível\\nHonda')\n",
        "plt.ylabel('Milhas por galão')\n",
        "plt.xticks([])\n",
        "sns.despine(bottom=True)\n",
        "\n",
        "graf_file = 'target/1.2.1_boxplot_honda.png'\n",
        "plt.savefig(graf_file)"
      ],
      "execution_count": null,
      "outputs": [
        {
          "output_type": "display_data",
          "data": {
            "image/png": "[encoded data removed]",
            "text/plain": [
              "<Figure size 504x432 with 1 Axes>"
            ]
          },
          "metadata": {
            "tags": [],
            "needs_background": "light"
          }
        }
      ]
    },
    {
      "cell_type": "markdown",
      "metadata": {
        "id": "gJR87x0XHclK"
      },
      "source": [
        "##1.3 Exercícios"
      ]
    },
    {
      "cell_type": "markdown",
      "metadata": {
        "id": "shx_4FXWHgPk"
      },
      "source": [
        "1. Cria um novo subconjunto de dados de consumo da marca Jeep.\n",
        "2. Calcule o consumo médio na cidade para esta marca, a amplitude e o desvio padrão deste consumo. Avalie se essas medidas indicam que a maioria dos modelos da marca tem consumo similar ou há grandes diferenças.\n",
        "3. Gere o gráfico Boxplot para este subconjunto de dados\n",
        "4. Avalie se a distribuição dos dados, baseada na análise do Boxplot, indica similaridades ou diferenças em relação ao conjunto completo de carros e à marca Honda"
      ]
    },
    {
      "cell_type": "markdown",
      "metadata": {
        "id": "sEVbUkYCaWBl"
      },
      "source": [
        "#2 Análise da relação entre variáveis do conjunto de dados"
      ]
    },
    {
      "cell_type": "code",
      "metadata": {
        "colab": {
          "base_uri": "https://localhost:8080/",
          "height": 206
        },
        "id": "gj-vFgDGgfQl",
        "outputId": "09f3b64b-c35e-466e-ded7-0e202542a1d9"
      },
      "source": [
        "#Matriz de correlação de todas as características numéricas\n",
        "carros.corr()"
      ],
      "execution_count": null,
      "outputs": [
        {
          "output_type": "execute_result",
          "data": {
            "text/html": [
              "<div>\n",
              "<style scoped>\n",
              "    .dataframe tbody tr th:only-of-type {\n",
              "        vertical-align: middle;\n",
              "    }\n",
              "\n",
              "    .dataframe tbody tr th {\n",
              "        vertical-align: top;\n",
              "    }\n",
              "\n",
              "    .dataframe thead th {\n",
              "        text-align: right;\n",
              "    }\n",
              "</style>\n",
              "<table border=\"1\" class=\"dataframe\">\n",
              "  <thead>\n",
              "    <tr style=\"text-align: right;\">\n",
              "      <th></th>\n",
              "      <th>displ</th>\n",
              "      <th>year</th>\n",
              "      <th>cyl</th>\n",
              "      <th>cty</th>\n",
              "      <th>hwy</th>\n",
              "    </tr>\n",
              "  </thead>\n",
              "  <tbody>\n",
              "    <tr>\n",
              "      <th>displ</th>\n",
              "      <td>1.000000</td>\n",
              "      <td>0.147843</td>\n",
              "      <td>0.930227</td>\n",
              "      <td>-0.798524</td>\n",
              "      <td>-0.766020</td>\n",
              "    </tr>\n",
              "    <tr>\n",
              "      <th>year</th>\n",
              "      <td>0.147843</td>\n",
              "      <td>1.000000</td>\n",
              "      <td>0.122245</td>\n",
              "      <td>-0.037232</td>\n",
              "      <td>0.002158</td>\n",
              "    </tr>\n",
              "    <tr>\n",
              "      <th>cyl</th>\n",
              "      <td>0.930227</td>\n",
              "      <td>0.122245</td>\n",
              "      <td>1.000000</td>\n",
              "      <td>-0.805771</td>\n",
              "      <td>-0.761912</td>\n",
              "    </tr>\n",
              "    <tr>\n",
              "      <th>cty</th>\n",
              "      <td>-0.798524</td>\n",
              "      <td>-0.037232</td>\n",
              "      <td>-0.805771</td>\n",
              "      <td>1.000000</td>\n",
              "      <td>0.955916</td>\n",
              "    </tr>\n",
              "    <tr>\n",
              "      <th>hwy</th>\n",
              "      <td>-0.766020</td>\n",
              "      <td>0.002158</td>\n",
              "      <td>-0.761912</td>\n",
              "      <td>0.955916</td>\n",
              "      <td>1.000000</td>\n",
              "    </tr>\n",
              "  </tbody>\n",
              "</table>\n",
              "</div>"
            ],
            "text/plain": [
              "          displ      year       cyl       cty       hwy\n",
              "displ  1.000000  0.147843  0.930227 -0.798524 -0.766020\n",
              "year   0.147843  1.000000  0.122245 -0.037232  0.002158\n",
              "cyl    0.930227  0.122245  1.000000 -0.805771 -0.761912\n",
              "cty   -0.798524 -0.037232 -0.805771  1.000000  0.955916\n",
              "hwy   -0.766020  0.002158 -0.761912  0.955916  1.000000"
            ]
          },
          "metadata": {
            "tags": []
          },
          "execution_count": 57
        }
      ]
    },
    {
      "cell_type": "markdown",
      "metadata": {
        "id": "Q6TUx8ea-s6E"
      },
      "source": [
        "A matriz de correlação calculada acima, auxilia na interpretação geral da relação entre todas as variáveis numéricas do conuunto de dados. Sempre que se faz este tipo de análise é extremamente relevante conhecer a área de domínio, pois os números analisados isolados podem levar a interpretações equivocadas.\n",
        "\n",
        "Por exemplo, percebemos que a correlação entre cty e hwy é quase perfeita positiva (próximo de 1). Contudo neste conjunto de dados estas variáveis são muito similares, pois hwy é a quantidade de milhas percorridas na estrada por galão de combustível, enquanto cty é a quantidade de milhas percorridas por galão na estrada. Assim, a análise dessa correlação ou a busca de criação de uma regressão entre estas variáveis não faz sentido.\n",
        "\n",
        "A avaliação mais aprofundada da relação entre capacidade do motor e consumo (hwy ou cty) com características relativas à capacidade do motor (displ ou cyl), por sua vez, nos parece um ponto de partida razoável para análise. Deste modo, escolhemos arbitrariamente as variáveis hwy e displ para analisar esta relação entre consumo e capacidade. As próximas partes dessa seção realizam esta análise."
      ]
    },
    {
      "cell_type": "code",
      "metadata": {
        "colab": {
          "base_uri": "https://localhost:8080/",
          "height": 287
        },
        "id": "9UHvu-UWMuTw",
        "outputId": "049b1643-2956-43f1-c28f-cc02a79e1a40"
      },
      "source": [
        "sns.heatmap(carros.corr(),\n",
        "            cmap='Reds',\n",
        "            vmin=-1,\n",
        "            vmax=1)"
      ],
      "execution_count": null,
      "outputs": [
        {
          "output_type": "execute_result",
          "data": {
            "text/plain": [
              "<matplotlib.axes._subplots.AxesSubplot at 0x7fad70bf9290>"
            ]
          },
          "metadata": {
            "tags": []
          },
          "execution_count": 60
        },
        {
          "output_type": "display_data",
          "data": {
            "image/png": "[encoded data removed]",
            "text/plain": [
              "<Figure size 432x288 with 2 Axes>"
            ]
          },
          "metadata": {
            "tags": [],
            "needs_background": "light"
          }
        }
      ]
    },
    {
      "cell_type": "code",
      "metadata": {
        "colab": {
          "base_uri": "https://localhost:8080/"
        },
        "id": "cMbKeIlTZw8P",
        "outputId": "b986894d-7517-4ea0-8953-e7f455c0e28b"
      },
      "source": [
        "#Correlação entre consumo e tamanho do motor\n",
        "carros.hwy.corr(carros.displ)"
      ],
      "execution_count": null,
      "outputs": [
        {
          "output_type": "execute_result",
          "data": {
            "text/plain": [
              "-0.7660200208864681"
            ]
          },
          "metadata": {
            "tags": []
          },
          "execution_count": 61
        }
      ]
    },
    {
      "cell_type": "code",
      "metadata": {
        "colab": {
          "base_uri": "https://localhost:8080/",
          "height": 406
        },
        "id": "Whkzwva6YkNL",
        "outputId": "8d9df77b-1e99-4524-e409-180e298342c3"
      },
      "source": [
        "plt.figure(figsize=(9,6))\n",
        "\n",
        "plt.scatter(carros.displ, carros.hwy, s=10)\n",
        "\n",
        "plt.title('Análise de eficiência no gasto de combustível', fontsize=14)\n",
        "plt.ylabel('Consumo na estrada: Milhas por galão')\n",
        "plt.xlabel('Capacidade do Motor Motor')\n",
        "\n",
        "sns.despine()\n",
        "\n",
        "graf_file = 'target/2_dispers_carros.png'\n",
        "plt.savefig(graf_file)"
      ],
      "execution_count": null,
      "outputs": [
        {
          "output_type": "display_data",
          "data": {
            "image/png": "[encoded data removed]",
            "text/plain": [
              "<Figure size 648x432 with 1 Axes>"
            ]
          },
          "metadata": {
            "tags": [],
            "needs_background": "light"
          }
        }
      ]
    },
    {
      "cell_type": "markdown",
      "metadata": {
        "id": "_Djs4-Zr9uLw"
      },
      "source": [
        "Tanto pelo cálculo efetuado da correlação quanto pela visualização dos dados identificados que as variáveis `hwy` e `displ` apresentam correlação negativa. Há diveras formas de analisar o nível de correlação, classificando-a entre nula, moderada, forte, etc., não nos atentaremos a este tipo de análise, mas é relevante notarmos que pelo número calculado a correlação indica que a capacidade/cilindrada do motor influencia em aproximadamente 76% o consumo de combustível para o conjunto de dados analisado. Na próxima seção esta análise será aprofundada e buscaremos elaborar um modelo que auxilie na interpretação dessa relação e seu uso para previsão de valores futuros de consumo, considerando um valor conhecido de capacidade/cilindrada de motor."
      ]
    },
    {
      "cell_type": "markdown",
      "metadata": {
        "id": "-OSlxPKjo3Wh"
      },
      "source": [
        "#3 Modelo de Regressão Linear"
      ]
    },
    {
      "cell_type": "markdown",
      "metadata": {
        "id": "slNGHhN3o78Y"
      },
      "source": [
        "##3.1 Criação e Treinamento do Modelo de Aprendizado de Máquina"
      ]
    },
    {
      "cell_type": "code",
      "metadata": {
        "id": "X6ON21Jho8Cv"
      },
      "source": [
        "#Criar objeto com o algoritmo do modelo\n",
        "from sklearn.linear_model import LinearRegression\n",
        "lm = LinearRegression()"
      ],
      "execution_count": null,
      "outputs": []
    },
    {
      "cell_type": "code",
      "metadata": {
        "id": "hKWQ81RLxP-n"
      },
      "source": [
        "#Preparar dados\n",
        "X = np.array(carros.displ).reshape(-1,1)\n",
        "y = np.array(carros.hwy).reshape(-1,1)"
      ],
      "execution_count": null,
      "outputs": []
    },
    {
      "cell_type": "code",
      "metadata": {
        "id": "FRG1gCYfx3WO"
      },
      "source": [
        "from sklearn.model_selection import train_test_split\n",
        "#Divisão dos valores em treino e teste\n",
        "#OBSERVAÇÃO: random_state está sendo usado para reprodutibilidade dos resultados\n",
        "X_train, X_test, y_train, y_test = train_test_split(X, y, \n",
        "                                                    test_size=0.2, \n",
        "                                                    random_state=31)"
      ],
      "execution_count": null,
      "outputs": []
    },
    {
      "cell_type": "code",
      "metadata": {
        "colab": {
          "base_uri": "https://localhost:8080/"
        },
        "id": "_2PVk7fePuBO",
        "outputId": "403c8ec1-0ecb-4d4c-8f47-8b3b5229c35e"
      },
      "source": [
        "y_train.shape"
      ],
      "execution_count": null,
      "outputs": [
        {
          "output_type": "execute_result",
          "data": {
            "text/plain": [
              "(187, 1)"
            ]
          },
          "metadata": {
            "tags": []
          },
          "execution_count": 70
        }
      ]
    },
    {
      "cell_type": "code",
      "metadata": {
        "colab": {
          "base_uri": "https://localhost:8080/"
        },
        "id": "lmInXK28xCBQ",
        "outputId": "0cabe922-4a80-45c7-82c9-8a0a5f5b3258"
      },
      "source": [
        "#Treinar modelo*\n",
        "lm.fit(X_train, y_train)"
      ],
      "execution_count": null,
      "outputs": [
        {
          "output_type": "execute_result",
          "data": {
            "text/plain": [
              "LinearRegression(copy_X=True, fit_intercept=True, n_jobs=None, normalize=False)"
            ]
          },
          "metadata": {
            "tags": []
          },
          "execution_count": 71
        }
      ]
    },
    {
      "cell_type": "markdown",
      "metadata": {
        "id": "g7I7xzfoB1bC"
      },
      "source": [
        "##3.2 Aplicação do modelo para visualização da Regressão Linear"
      ]
    },
    {
      "cell_type": "code",
      "metadata": {
        "id": "qO3Xg-BMzw-r"
      },
      "source": [
        "# extrair coeficientes\n",
        "inclinacao = lm.coef_\n",
        "intersecao = lm.intercept_"
      ],
      "execution_count": null,
      "outputs": []
    },
    {
      "cell_type": "code",
      "metadata": {
        "colab": {
          "base_uri": "https://localhost:8080/",
          "height": 404
        },
        "id": "cERr3BAd0Jlw",
        "outputId": "4e2c52d2-5c55-4368-b422-fd8b825ad4cf"
      },
      "source": [
        "# plotar pontos e retas com parâmetros otimizados\n",
        "plt.figure(figsize=(9,6))\n",
        "\n",
        "plt.scatter(X_test, y_test, s=10)\n",
        "plt.plot(X_test, (X_test * inclinacao + intersecao), color='g')\n",
        "\n",
        "plt.legend(['Reta de Ajustamento', 'Dispersão dos dados'])\n",
        "plt.title(\n",
        "    'Regressão Linear Simples')\n",
        "\n",
        "plt.ylabel('Consumo na estrada: Milhas por galão')\n",
        "plt.xlabel('Capacidade do Motor Motor')\n",
        "\n",
        "sns.despine()\n",
        "\n",
        "graf_file = 'target/03_linearRegression_carros.png'\n",
        "plt.savefig(graf_file)"
      ],
      "execution_count": null,
      "outputs": [
        {
          "output_type": "display_data",
          "data": {
            "image/png": "[encoded data removed]",
            "text/plain": [
              "<Figure size 648x432 with 1 Axes>"
            ]
          },
          "metadata": {
            "tags": [],
            "needs_background": "light"
          }
        }
      ]
    },
    {
      "cell_type": "markdown",
      "metadata": {
        "id": "x4y6fgYHB_bH"
      },
      "source": [
        "##3.3 Previsão e avaliação do modelo"
      ]
    },
    {
      "cell_type": "markdown",
      "metadata": {
        "id": "hUqsWDj7zxmu"
      },
      "source": [
        "Aplicação do modelo para previsão a partir do conjunto de teste"
      ]
    },
    {
      "cell_type": "code",
      "metadata": {
        "colab": {
          "base_uri": "https://localhost:8080/"
        },
        "id": "Wnvm5u3rypDv",
        "outputId": "2a0cca68-47fd-4ac6-9df8-5f2f04a9dc78"
      },
      "source": [
        "y_pred = lm.predict(X_test)\n",
        "y_pred[:5]"
      ],
      "execution_count": null,
      "outputs": [
        {
          "output_type": "execute_result",
          "data": {
            "text/plain": [
              "array([[20.76912486],\n",
              "       [27.89012353],\n",
              "       [27.17802366],\n",
              "       [18.98887519],\n",
              "       [16.85257559]])"
            ]
          },
          "metadata": {
            "tags": []
          },
          "execution_count": 74
        }
      ]
    },
    {
      "cell_type": "code",
      "metadata": {
        "colab": {
          "base_uri": "https://localhost:8080/"
        },
        "id": "hZWWR6NuRB9i",
        "outputId": "fd9b4ff5-28aa-4f90-dae6-5c9ff27b7f69"
      },
      "source": [
        "X_test[:5]"
      ],
      "execution_count": null,
      "outputs": [
        {
          "output_type": "execute_result",
          "data": {
            "text/plain": [
              "array([[4.2],\n",
              "       [2.2],\n",
              "       [2.4],\n",
              "       [4.7],\n",
              "       [5.3]])"
            ]
          },
          "metadata": {
            "tags": []
          },
          "execution_count": 76
        }
      ]
    },
    {
      "cell_type": "code",
      "metadata": {
        "colab": {
          "base_uri": "https://localhost:8080/"
        },
        "id": "2sguNHhPRQox",
        "outputId": "3f6fd4f3-50f3-442d-866d-3f80e6d82b94"
      },
      "source": [
        "#Predição para um carro com motor 3.0\n",
        "X_conhecido = np.array([3.0]).reshape(-1,1)\n",
        "lm.predict(X_conhecido)"
      ],
      "execution_count": null,
      "outputs": [
        {
          "output_type": "execute_result",
          "data": {
            "text/plain": [
              "array([[25.04172406]])"
            ]
          },
          "metadata": {
            "tags": []
          },
          "execution_count": 78
        }
      ]
    },
    {
      "cell_type": "markdown",
      "metadata": {
        "id": "bwpBvQloCD6X"
      },
      "source": [
        "Avaliação do modleo usando coeficiente de determinação ($R^2$)"
      ]
    },
    {
      "cell_type": "code",
      "metadata": {
        "colab": {
          "base_uri": "https://localhost:8080/"
        },
        "id": "RZE3p34w3s75",
        "outputId": "3f9c2cec-1b7f-4ce3-913d-6ea32f50a041"
      },
      "source": [
        "#Avaliação do modelo\n",
        "r2 = lm.score(X_test, y_test)\n",
        "print(f'R² do modelo: {r2:.3f}')"
      ],
      "execution_count": null,
      "outputs": [
        {
          "output_type": "stream",
          "text": [
            "R² do modelo: 0.728\n"
          ],
          "name": "stdout"
        }
      ]
    },
    {
      "cell_type": "markdown",
      "metadata": {
        "id": "cXexNjTII4Qh"
      },
      "source": [
        "##3.4 Exercícios"
      ]
    },
    {
      "cell_type": "markdown",
      "metadata": {
        "id": "EzjhvJrPI650"
      },
      "source": [
        "1. Crie um modelo de regressão linear usando a quantidade de cilindros e o consumo de combustível na cidade."
      ]
    },
    {
      "cell_type": "markdown",
      "metadata": {
        "id": "z_NO4Xpvo8Lr"
      },
      "source": [
        "#Referências e Conteúdo Complementar"
      ]
    },
    {
      "cell_type": "markdown",
      "metadata": {
        "id": "EhStnjlEo_BY"
      },
      "source": [
        "**Referências**:\n",
        "\n",
        "Géron, Aurélien (2019). **Mãos à Obra Aprendizagem de Máquina com Scikit-Learn & TensorFlow:** Conceitos, ferramentas e técnicas para a construção de sistemas inteligentes. Traduzido por Rafael Contatori. Alta Books.\n",
        "\n",
        "Hadley Wickham, Winston Chang, Lionel Henry, Thomas Lin Pedersen, Kohske Takahashi, Claus Wilke, Kara Woo, Hiroaki Yutani, Dewey (2021) **ggplot2**. Disponível em: <https://ggplot2.tidyverse.org/reference/mpg.html> \n",
        "\n",
        "McKinney, Wes (2018). **Python para Análise de Dados**: tratamento de dados com pandas, numpy e iPython. Traduzido por Lúcia A. Kinoshita. Novatec.\n",
        "\n",
        "Toledo, Geraldo Luciano e Ovalle, Ivo Izidório (1985) **Estatítisca Básica**. São Paulo: Atlas\n",
        "\n",
        "---\n",
        "\n",
        "**Links e leituras complementares**:\n",
        "* Playlist do Canal Python DS sobre Estatística Básica: https://youtube.com/playlist?list=PL0XxTDj23A1F4-nrAMDlRxvZkKJmCw2Qb\n",
        "* Repositório de estudo sobre estatística básica: https://github.com/janiosl/python.ds/tree/master/estatistica\n",
        "* Repositório de estudo sobre machine learning: https://github.com/janiosl/python.ds/tree/master/ml"
      ]
    }
  ]
}