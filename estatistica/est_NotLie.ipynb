{
  "nbformat": 4,
  "nbformat_minor": 0,
  "metadata": {
    "colab": {
      "name": "est_NotLie.ipynb",
      "provenance": [],
      "authorship_tag": "ABX9TyNkmfVAEpi21KdCJv0Rf7At",
      "include_colab_link": true
    },
    "kernelspec": {
      "name": "python3",
      "display_name": "Python 3"
    },
    "language_info": {
      "name": "python"
    }
  },
  "cells": [
    {
      "cell_type": "markdown",
      "metadata": {
        "id": "view-in-github",
        "colab_type": "text"
      },
      "source": [
        "<a href=\"https://colab.research.google.com/github/janiosl/python.ds/blob/master/estatistica/est_NotLie.ipynb\" target=\"_parent\"><img src=\"https://colab.research.google.com/assets/colab-badge.svg\" alt=\"Open In Colab\"/></a>"
      ]
    },
    {
      "cell_type": "markdown",
      "metadata": {
        "id": "FskSjIe13rLt"
      },
      "source": [
        "# 1 Amostra enviesada"
      ]
    },
    {
      "cell_type": "markdown",
      "metadata": {
        "id": "Vi1eOb65O2aU"
      },
      "source": [
        "Marca X afirma que o uso diário de seu creme dental melhora em *40%* a condições caries."
      ]
    },
    {
      "cell_type": "markdown",
      "metadata": {
        "id": "QSB4vkU5Pkt0"
      },
      "source": [
        "### Perguntas relacionadas à afirmação \"melhora em 40%\""
      ]
    },
    {
      "cell_type": "markdown",
      "metadata": {
        "id": "QM78xCzBPVTi"
      },
      "source": [
        "* MELHOROU EM RELAÇÃO AO CONCORRENTE?\n",
        "* MELHOROU EM RELAÇÃO À PRÓPRIA MARCA X?\n",
        "* MELHOROU EM RELAÇÃO À SITUAÇÃO DAS PESSSOAS QUE PARTICIPARAM DA PESQUISA?"
      ]
    },
    {
      "cell_type": "markdown",
      "metadata": {
        "id": "8iNIV2o0PrTt"
      },
      "source": [
        "### Perguntas relacionadas à amostra"
      ]
    },
    {
      "cell_type": "markdown",
      "metadata": {
        "id": "riZSJvUmPtqz"
      },
      "source": [
        "* QUANTAS PESSOAS PARTICIPARAM DO ESTUDO?\n",
        "* ESTAS PESSOAS REPRESENTAM A POPULAÇÃO DO PÚBLICO ALVO?\n",
        "* COMO FORAM CONDUZIDAS OS ESTUDOS?"
      ]
    },
    {
      "cell_type": "markdown",
      "metadata": {
        "id": "DtmTTzRP3_MA"
      },
      "source": [
        "# 2 Manipulação ou escolha seletiva de média, moda e mediana"
      ]
    },
    {
      "cell_type": "code",
      "metadata": {
        "id": "-zPqnJDHLE6f"
      },
      "source": [
        "import numpy as np"
      ],
      "execution_count": 1,
      "outputs": []
    },
    {
      "cell_type": "code",
      "metadata": {
        "id": "_c4_LpyJ4Fbm"
      },
      "source": [
        "renda_bairroXPTO = [3000, 2800, 3200, 4500, 20000,\n",
        "                    50000, 100000, 2000, 2500, 3000]"
      ],
      "execution_count": 2,
      "outputs": []
    },
    {
      "cell_type": "code",
      "metadata": {
        "colab": {
          "base_uri": "https://localhost:8080/"
        },
        "id": "4ovZmKi3K-ch",
        "outputId": "ece2d451-2176-4c3a-efe8-27d1aae6fc07"
      },
      "source": [
        "#Rendimento médio na visão de quem quer mostrar que o bairro tem pessoas de alta renda\n",
        "np.mean(renda_bairroXPTO)"
      ],
      "execution_count": 3,
      "outputs": [
        {
          "output_type": "execute_result",
          "data": {
            "text/plain": [
              "19100.0"
            ]
          },
          "metadata": {},
          "execution_count": 3
        }
      ]
    },
    {
      "cell_type": "code",
      "metadata": {
        "colab": {
          "base_uri": "https://localhost:8080/"
        },
        "id": "-4NaBxJyLJ2P",
        "outputId": "4bef32f5-3d2a-4fd5-e234-2b7f65bd75a3"
      },
      "source": [
        "#Rendimento médio na visão de quem quer mostrar que o bairro tem pessoas com renda menor\n",
        "np.median(renda_bairroXPTO)"
      ],
      "execution_count": 4,
      "outputs": [
        {
          "output_type": "execute_result",
          "data": {
            "text/plain": [
              "3100.0"
            ]
          },
          "metadata": {},
          "execution_count": 4
        }
      ]
    },
    {
      "cell_type": "markdown",
      "metadata": {
        "id": "Do1kjYvK4F1w"
      },
      "source": [
        "# 3 Ocultação de dados relevantes sobre os números"
      ]
    },
    {
      "cell_type": "markdown",
      "metadata": {
        "id": "PKtuPRBlB5Oa"
      },
      "source": [
        "## Exemplo da comparação de números absolutos"
      ]
    },
    {
      "cell_type": "code",
      "metadata": {
        "id": "4ZfVkC2E4LYh"
      },
      "source": [
        "qi_alunoA = 98\n",
        "qi_alunoB = 96"
      ],
      "execution_count": 5,
      "outputs": []
    },
    {
      "cell_type": "code",
      "metadata": {
        "id": "J04XsNzU-HeU"
      },
      "source": [
        "me = 3"
      ],
      "execution_count": 6,
      "outputs": []
    },
    {
      "cell_type": "code",
      "metadata": {
        "colab": {
          "base_uri": "https://localhost:8080/"
        },
        "id": "ag-6NP9B-OAP",
        "outputId": "871053f9-3f5d-4807-d206-65e77bb022ef"
      },
      "source": [
        "#Limites Aluno A\n",
        "print(qi_alunoA - me, qi_alunoA + me)"
      ],
      "execution_count": 7,
      "outputs": [
        {
          "output_type": "stream",
          "text": [
            "95 101\n"
          ],
          "name": "stdout"
        }
      ]
    },
    {
      "cell_type": "code",
      "metadata": {
        "colab": {
          "base_uri": "https://localhost:8080/"
        },
        "id": "N_bDE1gh-jsH",
        "outputId": "03f21e98-428f-4559-c895-2fba69595183"
      },
      "source": [
        "#Limites Aluno B\n",
        "print(qi_alunoB - me, qi_alunoB + me)"
      ],
      "execution_count": 8,
      "outputs": [
        {
          "output_type": "stream",
          "text": [
            "93 99\n"
          ],
          "name": "stdout"
        }
      ]
    },
    {
      "cell_type": "markdown",
      "metadata": {
        "id": "SKeTJJ6jB9g4"
      },
      "source": [
        "## Exemplo ocultação da amplitude de dados"
      ]
    },
    {
      "cell_type": "code",
      "metadata": {
        "colab": {
          "base_uri": "https://localhost:8080/",
          "height": 206
        },
        "id": "10wX4x-9CHj6",
        "outputId": "327fe8f2-9170-44b2-ba1f-525a8bbc5005"
      },
      "source": [
        "import pandas as pd\n",
        "#Carga do conjunto de dados a partir do GitHub do PythonDS\n",
        "arquivo = 'https://raw.githubusercontent.com/janiosl/python.ds/master/data/mpg.csv'\n",
        "#Carga e visualização das primeiras observações do conjunto de dados\n",
        "carros = pd.read_csv(arquivo)\n",
        "carros.head()"
      ],
      "execution_count": 9,
      "outputs": [
        {
          "output_type": "execute_result",
          "data": {
            "text/html": [
              "<div>\n",
              "<style scoped>\n",
              "    .dataframe tbody tr th:only-of-type {\n",
              "        vertical-align: middle;\n",
              "    }\n",
              "\n",
              "    .dataframe tbody tr th {\n",
              "        vertical-align: top;\n",
              "    }\n",
              "\n",
              "    .dataframe thead th {\n",
              "        text-align: right;\n",
              "    }\n",
              "</style>\n",
              "<table border=\"1\" class=\"dataframe\">\n",
              "  <thead>\n",
              "    <tr style=\"text-align: right;\">\n",
              "      <th></th>\n",
              "      <th>manufacturer</th>\n",
              "      <th>model</th>\n",
              "      <th>displ</th>\n",
              "      <th>year</th>\n",
              "      <th>cyl</th>\n",
              "      <th>trans</th>\n",
              "      <th>drv</th>\n",
              "      <th>cty</th>\n",
              "      <th>hwy</th>\n",
              "      <th>fl</th>\n",
              "      <th>class</th>\n",
              "    </tr>\n",
              "  </thead>\n",
              "  <tbody>\n",
              "    <tr>\n",
              "      <th>0</th>\n",
              "      <td>audi</td>\n",
              "      <td>a4</td>\n",
              "      <td>1.8</td>\n",
              "      <td>1999</td>\n",
              "      <td>4</td>\n",
              "      <td>auto(l5)</td>\n",
              "      <td>f</td>\n",
              "      <td>18</td>\n",
              "      <td>29</td>\n",
              "      <td>p</td>\n",
              "      <td>compact</td>\n",
              "    </tr>\n",
              "    <tr>\n",
              "      <th>1</th>\n",
              "      <td>audi</td>\n",
              "      <td>a4</td>\n",
              "      <td>1.8</td>\n",
              "      <td>1999</td>\n",
              "      <td>4</td>\n",
              "      <td>manual(m5)</td>\n",
              "      <td>f</td>\n",
              "      <td>21</td>\n",
              "      <td>29</td>\n",
              "      <td>p</td>\n",
              "      <td>compact</td>\n",
              "    </tr>\n",
              "    <tr>\n",
              "      <th>2</th>\n",
              "      <td>audi</td>\n",
              "      <td>a4</td>\n",
              "      <td>2.0</td>\n",
              "      <td>2008</td>\n",
              "      <td>4</td>\n",
              "      <td>manual(m6)</td>\n",
              "      <td>f</td>\n",
              "      <td>20</td>\n",
              "      <td>31</td>\n",
              "      <td>p</td>\n",
              "      <td>compact</td>\n",
              "    </tr>\n",
              "    <tr>\n",
              "      <th>3</th>\n",
              "      <td>audi</td>\n",
              "      <td>a4</td>\n",
              "      <td>2.0</td>\n",
              "      <td>2008</td>\n",
              "      <td>4</td>\n",
              "      <td>auto(av)</td>\n",
              "      <td>f</td>\n",
              "      <td>21</td>\n",
              "      <td>30</td>\n",
              "      <td>p</td>\n",
              "      <td>compact</td>\n",
              "    </tr>\n",
              "    <tr>\n",
              "      <th>4</th>\n",
              "      <td>audi</td>\n",
              "      <td>a4</td>\n",
              "      <td>2.8</td>\n",
              "      <td>1999</td>\n",
              "      <td>6</td>\n",
              "      <td>auto(l5)</td>\n",
              "      <td>f</td>\n",
              "      <td>16</td>\n",
              "      <td>26</td>\n",
              "      <td>p</td>\n",
              "      <td>compact</td>\n",
              "    </tr>\n",
              "  </tbody>\n",
              "</table>\n",
              "</div>"
            ],
            "text/plain": [
              "  manufacturer model  displ  year  cyl       trans drv  cty  hwy fl    class\n",
              "0         audi    a4    1.8  1999    4    auto(l5)   f   18   29  p  compact\n",
              "1         audi    a4    1.8  1999    4  manual(m5)   f   21   29  p  compact\n",
              "2         audi    a4    2.0  2008    4  manual(m6)   f   20   31  p  compact\n",
              "3         audi    a4    2.0  2008    4    auto(av)   f   21   30  p  compact\n",
              "4         audi    a4    2.8  1999    6    auto(l5)   f   16   26  p  compact"
            ]
          },
          "metadata": {},
          "execution_count": 9
        }
      ]
    },
    {
      "cell_type": "code",
      "metadata": {
        "colab": {
          "base_uri": "https://localhost:8080/"
        },
        "id": "4t_jzy7uCMcD",
        "outputId": "b0f01c2d-2289-4563-ef8f-185cdcbe36aa"
      },
      "source": [
        "#Média de consumo na estrada\n",
        "media = carros.hwy.mean()\n",
        "media"
      ],
      "execution_count": 10,
      "outputs": [
        {
          "output_type": "execute_result",
          "data": {
            "text/plain": [
              "23.44017094017094"
            ]
          },
          "metadata": {},
          "execution_count": 10
        }
      ]
    },
    {
      "cell_type": "code",
      "metadata": {
        "colab": {
          "base_uri": "https://localhost:8080/"
        },
        "id": "zavoNfEtCTaR",
        "outputId": "7c464183-6c78-4b56-9738-12a7aee108b4"
      },
      "source": [
        "#Mediana de consumo na estrada\n",
        "mediana = carros.hwy.median()\n",
        "mediana"
      ],
      "execution_count": 11,
      "outputs": [
        {
          "output_type": "execute_result",
          "data": {
            "text/plain": [
              "24.0"
            ]
          },
          "metadata": {},
          "execution_count": 11
        }
      ]
    },
    {
      "cell_type": "code",
      "metadata": {
        "colab": {
          "base_uri": "https://localhost:8080/"
        },
        "id": "IsQmfxbtCXTP",
        "outputId": "23af059e-b3d7-4ee3-c58c-e9a1480bc137"
      },
      "source": [
        "len(carros[carros['hwy']==mediana])"
      ],
      "execution_count": 12,
      "outputs": [
        {
          "output_type": "execute_result",
          "data": {
            "text/plain": [
              "13"
            ]
          },
          "metadata": {},
          "execution_count": 12
        }
      ]
    },
    {
      "cell_type": "code",
      "metadata": {
        "colab": {
          "base_uri": "https://localhost:8080/"
        },
        "id": "OqsmEnxgC82D",
        "outputId": "6cb21fe8-f1d6-4686-ad2b-741f2b95b3d8"
      },
      "source": [
        "len(carros[carros['hwy']==media])"
      ],
      "execution_count": 13,
      "outputs": [
        {
          "output_type": "execute_result",
          "data": {
            "text/plain": [
              "0"
            ]
          },
          "metadata": {},
          "execution_count": 13
        }
      ]
    },
    {
      "cell_type": "code",
      "metadata": {
        "colab": {
          "base_uri": "https://localhost:8080/"
        },
        "id": "UGhyRs7ADCYi",
        "outputId": "66ca02e2-b872-439d-d449-6384c9b480bc"
      },
      "source": [
        "len(carros[carros['hwy']==int(media)])"
      ],
      "execution_count": 14,
      "outputs": [
        {
          "output_type": "execute_result",
          "data": {
            "text/plain": [
              "7"
            ]
          },
          "metadata": {},
          "execution_count": 14
        }
      ]
    },
    {
      "cell_type": "code",
      "metadata": {
        "colab": {
          "base_uri": "https://localhost:8080/"
        },
        "id": "3d9IEYeuDFJw",
        "outputId": "836c256a-d701-487d-f34d-958906535222"
      },
      "source": [
        "(13/234)*100"
      ],
      "execution_count": 15,
      "outputs": [
        {
          "output_type": "execute_result",
          "data": {
            "text/plain": [
              "5.555555555555555"
            ]
          },
          "metadata": {},
          "execution_count": 15
        }
      ]
    },
    {
      "cell_type": "code",
      "metadata": {
        "colab": {
          "base_uri": "https://localhost:8080/"
        },
        "id": "BAbpl2VEDH_y",
        "outputId": "1678bdd0-2b08-4acd-b1ac-9ad17b1a8526"
      },
      "source": [
        "(7/234)*100"
      ],
      "execution_count": 16,
      "outputs": [
        {
          "output_type": "execute_result",
          "data": {
            "text/plain": [
              "2.9914529914529915"
            ]
          },
          "metadata": {},
          "execution_count": 16
        }
      ]
    },
    {
      "cell_type": "code",
      "metadata": {
        "colab": {
          "base_uri": "https://localhost:8080/"
        },
        "id": "dbatXHoCDREm",
        "outputId": "0a3f6fbd-4330-4f22-eb68-7d5807c90ab9"
      },
      "source": [
        "#Amplitude do consumo (milhas por galão na estrada)\n",
        "print('Amplitude do consumo na estrada:\\n',\n",
        "      carros.hwy.max() - carros.hwy.min(),\n",
        "      'milhas por galão')"
      ],
      "execution_count": 17,
      "outputs": [
        {
          "output_type": "stream",
          "text": [
            "Amplitude do consumo na estrada:\n",
            " 32 milhas por galão\n"
          ],
          "name": "stdout"
        }
      ]
    },
    {
      "cell_type": "code",
      "metadata": {
        "colab": {
          "base_uri": "https://localhost:8080/"
        },
        "id": "L_ZywyzlDTLL",
        "outputId": "e3304e87-0a07-403f-c218-2e425ecc7b4c"
      },
      "source": [
        "carros.hwy.max()"
      ],
      "execution_count": 18,
      "outputs": [
        {
          "output_type": "execute_result",
          "data": {
            "text/plain": [
              "44"
            ]
          },
          "metadata": {},
          "execution_count": 18
        }
      ]
    },
    {
      "cell_type": "code",
      "metadata": {
        "colab": {
          "base_uri": "https://localhost:8080/"
        },
        "id": "3MrBBG_dDVCm",
        "outputId": "4fb3fa99-fc90-4b1a-a04d-c67c9c028f6d"
      },
      "source": [
        "carros.hwy.min()"
      ],
      "execution_count": 19,
      "outputs": [
        {
          "output_type": "execute_result",
          "data": {
            "text/plain": [
              "12"
            ]
          },
          "metadata": {},
          "execution_count": 19
        }
      ]
    },
    {
      "cell_type": "markdown",
      "metadata": {
        "id": "Y3aeqmQL4Lh2"
      },
      "source": [
        "# 4 Gráficos enganosos"
      ]
    },
    {
      "cell_type": "code",
      "metadata": {
        "colab": {
          "base_uri": "https://localhost:8080/"
        },
        "id": "S-4bYIxF4Qti",
        "outputId": "02d61c3c-db45-4969-f453-e8642f609279"
      },
      "source": [
        "#Consumo médio por marca\n",
        "c_mean = carros['hwy'].groupby(by=carros.manufacturer).mean()\n",
        "\n",
        "#Ordenação (opcional, mas recomendável como boa prática de visualização)\n",
        "c_mean.sort_values(ascending=False, inplace=True)\n",
        "\n",
        "#Exibição\n",
        "c_mean"
      ],
      "execution_count": 20,
      "outputs": [
        {
          "output_type": "execute_result",
          "data": {
            "text/plain": [
              "manufacturer\n",
              "honda         32.555556\n",
              "volkswagen    29.222222\n",
              "hyundai       26.857143\n",
              "audi          26.444444\n",
              "pontiac       26.400000\n",
              "subaru        25.571429\n",
              "toyota        24.911765\n",
              "nissan        24.615385\n",
              "chevrolet     21.894737\n",
              "ford          19.360000\n",
              "mercury       18.000000\n",
              "dodge         17.945946\n",
              "jeep          17.625000\n",
              "lincoln       17.000000\n",
              "land rover    16.500000\n",
              "Name: hwy, dtype: float64"
            ]
          },
          "metadata": {},
          "execution_count": 20
        }
      ]
    },
    {
      "cell_type": "code",
      "metadata": {
        "id": "9rtwtDf8Dcgr"
      },
      "source": [
        "from matplotlib import pyplot as plt\n",
        "import seaborn as sns"
      ],
      "execution_count": 21,
      "outputs": []
    },
    {
      "cell_type": "code",
      "metadata": {
        "colab": {
          "base_uri": "https://localhost:8080/",
          "height": 391
        },
        "id": "YBgUXbOKDZiC",
        "outputId": "14b5f62f-eeb0-49fc-d6b1-c83de6a623eb"
      },
      "source": [
        "#Visualização do consumo médio\n",
        "plt.figure(figsize=(10,6))\n",
        "\n",
        "c_mean.plot(\n",
        "    kind='barh',\n",
        "    title='Milhas por galão\\nMédia por Marca')\n",
        "\n",
        "plt.grid()\n",
        "sns.despine()"
      ],
      "execution_count": 22,
      "outputs": [
        {
          "output_type": "display_data",
          "data": {
            "image/png": "[encoded data removed]",
            "text/plain": [
              "<Figure size 720x432 with 1 Axes>"
            ]
          },
          "metadata": {
            "needs_background": "light"
          }
        }
      ]
    },
    {
      "cell_type": "code",
      "metadata": {
        "colab": {
          "base_uri": "https://localhost:8080/",
          "height": 385
        },
        "id": "LoQn-o5gDhcL",
        "outputId": "4aae1122-c8ca-4f56-839f-e0b2909c2c7d"
      },
      "source": [
        "#Visualização do consumo médio\n",
        "plt.figure(figsize=(10,6))\n",
        "\n",
        "c_mean.plot(\n",
        "    kind='barh',\n",
        "    title='Milhas por galão\\nMédia por Marca',\n",
        "    xlim=(0,20))\n",
        "\n",
        "plt.grid()\n",
        "sns.despine()"
      ],
      "execution_count": 23,
      "outputs": [
        {
          "output_type": "display_data",
          "data": {
            "image/png": "[encoded data removed]",
            "text/plain": [
              "<Figure size 720x432 with 1 Axes>"
            ]
          },
          "metadata": {
            "needs_background": "light"
          }
        }
      ]
    },
    {
      "cell_type": "markdown",
      "metadata": {
        "id": "AyUpEF6P4Q2D"
      },
      "source": [
        "# 5 Correlações espúrias"
      ]
    },
    {
      "cell_type": "markdown",
      "metadata": {
        "id": "7lt-bny0KX7t"
      },
      "source": [
        "Exemplo simples para entender a correlação.\n",
        "*ATENÇÃO*: Apesar de serem dados fictícios, não há problemas aparentes neles ou na correlação identificada."
      ]
    },
    {
      "cell_type": "code",
      "metadata": {
        "colab": {
          "base_uri": "https://localhost:8080/",
          "height": 363
        },
        "id": "VLl5EIN2KKZ6",
        "outputId": "d0a2f032-986a-4a9f-81a7-e38c7afeb4e3"
      },
      "source": [
        "\"\"\"\n",
        "Exemplo\n",
        "Dados socio-econômicos de famílias\n",
        "\"\"\"\n",
        "colunas = ['FAMILIA', 'RENDA', 'POUPANCA', 'FILHOS', 'ANOS_ESTUDO']\n",
        "familias = pd.DataFrame({'d1': list('ABCDEFGHIJ'),\n",
        "                        'd2': [10, 15, 12, 70, 80,\n",
        "                               100, 20, 30, 10, 60],\n",
        "                        'd3': [4, 7, 5, 20, 20,\n",
        "                               30, 8, 8, 3, 15],\n",
        "                        'd4': [8, 6, 5, 1, 2,\n",
        "                               2, 3, 2, 6, 1],\n",
        "                        'd5': [3, 4, 5, 12, 16,\n",
        "                               18, 8, 8, 4, 8]\n",
        "                         })\n",
        "familias.columns = colunas\n",
        "familias"
      ],
      "execution_count": 24,
      "outputs": [
        {
          "output_type": "execute_result",
          "data": {
            "text/html": [
              "<div>\n",
              "<style scoped>\n",
              "    .dataframe tbody tr th:only-of-type {\n",
              "        vertical-align: middle;\n",
              "    }\n",
              "\n",
              "    .dataframe tbody tr th {\n",
              "        vertical-align: top;\n",
              "    }\n",
              "\n",
              "    .dataframe thead th {\n",
              "        text-align: right;\n",
              "    }\n",
              "</style>\n",
              "<table border=\"1\" class=\"dataframe\">\n",
              "  <thead>\n",
              "    <tr style=\"text-align: right;\">\n",
              "      <th></th>\n",
              "      <th>FAMILIA</th>\n",
              "      <th>RENDA</th>\n",
              "      <th>POUPANCA</th>\n",
              "      <th>FILHOS</th>\n",
              "      <th>ANOS_ESTUDO</th>\n",
              "    </tr>\n",
              "  </thead>\n",
              "  <tbody>\n",
              "    <tr>\n",
              "      <th>0</th>\n",
              "      <td>A</td>\n",
              "      <td>10</td>\n",
              "      <td>4</td>\n",
              "      <td>8</td>\n",
              "      <td>3</td>\n",
              "    </tr>\n",
              "    <tr>\n",
              "      <th>1</th>\n",
              "      <td>B</td>\n",
              "      <td>15</td>\n",
              "      <td>7</td>\n",
              "      <td>6</td>\n",
              "      <td>4</td>\n",
              "    </tr>\n",
              "    <tr>\n",
              "      <th>2</th>\n",
              "      <td>C</td>\n",
              "      <td>12</td>\n",
              "      <td>5</td>\n",
              "      <td>5</td>\n",
              "      <td>5</td>\n",
              "    </tr>\n",
              "    <tr>\n",
              "      <th>3</th>\n",
              "      <td>D</td>\n",
              "      <td>70</td>\n",
              "      <td>20</td>\n",
              "      <td>1</td>\n",
              "      <td>12</td>\n",
              "    </tr>\n",
              "    <tr>\n",
              "      <th>4</th>\n",
              "      <td>E</td>\n",
              "      <td>80</td>\n",
              "      <td>20</td>\n",
              "      <td>2</td>\n",
              "      <td>16</td>\n",
              "    </tr>\n",
              "    <tr>\n",
              "      <th>5</th>\n",
              "      <td>F</td>\n",
              "      <td>100</td>\n",
              "      <td>30</td>\n",
              "      <td>2</td>\n",
              "      <td>18</td>\n",
              "    </tr>\n",
              "    <tr>\n",
              "      <th>6</th>\n",
              "      <td>G</td>\n",
              "      <td>20</td>\n",
              "      <td>8</td>\n",
              "      <td>3</td>\n",
              "      <td>8</td>\n",
              "    </tr>\n",
              "    <tr>\n",
              "      <th>7</th>\n",
              "      <td>H</td>\n",
              "      <td>30</td>\n",
              "      <td>8</td>\n",
              "      <td>2</td>\n",
              "      <td>8</td>\n",
              "    </tr>\n",
              "    <tr>\n",
              "      <th>8</th>\n",
              "      <td>I</td>\n",
              "      <td>10</td>\n",
              "      <td>3</td>\n",
              "      <td>6</td>\n",
              "      <td>4</td>\n",
              "    </tr>\n",
              "    <tr>\n",
              "      <th>9</th>\n",
              "      <td>J</td>\n",
              "      <td>60</td>\n",
              "      <td>15</td>\n",
              "      <td>1</td>\n",
              "      <td>8</td>\n",
              "    </tr>\n",
              "  </tbody>\n",
              "</table>\n",
              "</div>"
            ],
            "text/plain": [
              "  FAMILIA  RENDA  POUPANCA  FILHOS  ANOS_ESTUDO\n",
              "0       A     10         4       8            3\n",
              "1       B     15         7       6            4\n",
              "2       C     12         5       5            5\n",
              "3       D     70        20       1           12\n",
              "4       E     80        20       2           16\n",
              "5       F    100        30       2           18\n",
              "6       G     20         8       3            8\n",
              "7       H     30         8       2            8\n",
              "8       I     10         3       6            4\n",
              "9       J     60        15       1            8"
            ]
          },
          "metadata": {},
          "execution_count": 24
        }
      ]
    },
    {
      "cell_type": "code",
      "metadata": {
        "colab": {
          "base_uri": "https://localhost:8080/"
        },
        "id": "OaWeRgrYKLvb",
        "outputId": "dcdc076b-3b43-42f8-8aaf-f85d5b859962"
      },
      "source": [
        "#Cálculo da correlação\n",
        "corr1 = familias['RENDA'].corr(familias['POUPANCA'])\n",
        "print(corr1)"
      ],
      "execution_count": 25,
      "outputs": [
        {
          "output_type": "stream",
          "text": [
            "0.9835181477979665\n"
          ],
          "name": "stdout"
        }
      ]
    },
    {
      "cell_type": "code",
      "metadata": {
        "colab": {
          "base_uri": "https://localhost:8080/",
          "height": 268
        },
        "id": "2OhRjKxMKRgO",
        "outputId": "2bc55d71-2e06-4f12-d27e-3fecb4958b12"
      },
      "source": [
        "#Demonstração gráfica\n",
        "plt.scatter(familias['RENDA'],\n",
        "            familias['POUPANCA'])\n",
        "plt.title('Dispersão entre Renda Familiar e Poupança')\n",
        "plt.xticks([])\n",
        "plt.yticks([])\n",
        "sns.despine()"
      ],
      "execution_count": 26,
      "outputs": [
        {
          "output_type": "display_data",
          "data": {
            "image/png": "[encoded data removed]",
            "text/plain": [
              "<Figure size 432x288 with 1 Axes>"
            ]
          },
          "metadata": {}
        }
      ]
    },
    {
      "cell_type": "markdown",
      "metadata": {
        "id": "JrC1l0iaEJZH"
      },
      "source": [
        "Agora vejamos alguns exemplos de correlações espúrias:\n",
        "\n",
        "[Correlações espúrias](https://www.tylervigen.com/spurious-correlations)"
      ]
    },
    {
      "cell_type": "markdown",
      "metadata": {
        "id": "LWe4ZCA84b6P"
      },
      "source": [
        "# Referências"
      ]
    },
    {
      "cell_type": "markdown",
      "metadata": {
        "id": "YSIpMDxj4eOJ"
      },
      "source": [
        "Darrel Huff, Irving Geis. **Como mentir com estatística**. Intrínseca, 2019.\n",
        "\n",
        "Hadley Wickham, Winston Chang, Lionel Henry, Thomas Lin Pedersen, Kohske Takahashi, Claus Wilke, Kara Woo, Hiroaki Yutani, Dewey (2021) **ggplot2**. Disponível em: https://ggplot2.tidyverse.org/reference/mpg.html\n",
        "\n",
        "McKinney, Wes. **Python para Análise de Dados**: tratamento de dados com pandas, numpy e iPython. Traduzido por Lúcia A. Kinoshita. Novatec, 2018.\n",
        "\n",
        "Morettin, Pedro. A., Bussab, Wilton de O. Estatística Básica. 9. ed. São Paulo: Saraiva, 2017.\n",
        "\n",
        "Toledo, Geraldo Luciano e Ovalle, Ivo Izidório **Estatítisca Básica**. São Paulo: Atlas, 1985."
      ]
    }
  ]
}