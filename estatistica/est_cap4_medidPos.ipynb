{
  "nbformat": 4,
  "nbformat_minor": 0,
  "metadata": {
    "colab": {
      "name": "est_cap4_medidPos.ipynb",
      "provenance": [],
      "collapsed_sections": [
        "4CrteH0s1ECO",
        "BLWNzuyD0_1J",
        "OjYZVXRYbEZ2",
        "otbMDz1C50-u"
      ],
      "toc_visible": true
    },
    "kernelspec": {
      "name": "python3",
      "display_name": "Python 3"
    }
  },
  "cells": [
    {
      "cell_type": "markdown",
      "metadata": {
        "id": "1RdoMI9G4IiI"
      },
      "source": [
        "**Medidas de posição**\n",
        "\n",
        "*Referência: TOLEDO, Geraldo Luciano e OVALLE, Ivo Izidório (1985) Estatítisca Básica. São Paulo: Atlas*\n",
        "\n",
        "Detalhes no capítulo 4 do livro"
      ]
    },
    {
      "cell_type": "markdown",
      "metadata": {
        "id": "guljOAvr5oCG"
      },
      "source": [
        "#1 Médias"
      ]
    },
    {
      "cell_type": "markdown",
      "metadata": {
        "id": "4CrteH0s1ECO"
      },
      "source": [
        "##1.1 *Média* aritimética"
      ]
    },
    {
      "cell_type": "code",
      "metadata": {
        "id": "bSeTvAVS0-ds",
        "colab": {
          "base_uri": "https://localhost:8080/"
        },
        "outputId": "0816c22e-815f-4843-cb82-69668762d48a"
      },
      "source": [
        "\"\"\"\n",
        "Média aritimética\n",
        "Soma dos dados / n\n",
        "\"\"\"\n",
        "x = [10, 60, 360]\n",
        "media = sum(x) / len(x)\n",
        "media"
      ],
      "execution_count": 1,
      "outputs": [
        {
          "output_type": "execute_result",
          "data": {
            "text/plain": [
              "143.33333333333334"
            ]
          },
          "metadata": {
            "tags": []
          },
          "execution_count": 1
        }
      ]
    },
    {
      "cell_type": "markdown",
      "metadata": {
        "id": "gFsqQ4lK0kDR"
      },
      "source": [
        "Equação para cálculo da média aritimética:\n",
        "\n",
        "$\n",
        "\\hat{X} = \\frac{\\sum \\limits_{i=1}^{n}xi}{n}\n",
        "$"
      ]
    },
    {
      "cell_type": "code",
      "metadata": {
        "id": "nJCnpnec1MiN",
        "colab": {
          "base_uri": "https://localhost:8080/"
        },
        "outputId": "dfbebd3a-8792-4afb-e41c-896c2b3e16df"
      },
      "source": [
        "import numpy as np\n",
        "np.mean(x)"
      ],
      "execution_count": 2,
      "outputs": [
        {
          "output_type": "execute_result",
          "data": {
            "text/plain": [
              "143.33333333333334"
            ]
          },
          "metadata": {
            "tags": []
          },
          "execution_count": 2
        }
      ]
    },
    {
      "cell_type": "code",
      "metadata": {
        "id": "w7Ovri1DTCZO",
        "colab": {
          "base_uri": "https://localhost:8080/"
        },
        "outputId": "dca32369-239b-4f31-91e8-2c31d3053341"
      },
      "source": [
        "\"\"\"\n",
        "Média aritimética ponderada\n",
        "soma(dados * pesos) / soma(pesos)\n",
        "\"\"\"\n",
        "pesos = [1, 2, 3, 4]\n",
        "notas = [8, 7, 9, 9]\n",
        "\n",
        "notasXpesos = [notas[i] * pesos[i] for i in range(0, len(notas))]\n",
        "media_pond = sum(notasXpesos) / sum(pesos)\n",
        "media_pond"
      ],
      "execution_count": 3,
      "outputs": [
        {
          "output_type": "execute_result",
          "data": {
            "text/plain": [
              "8.5"
            ]
          },
          "metadata": {
            "tags": []
          },
          "execution_count": 3
        }
      ]
    },
    {
      "cell_type": "markdown",
      "metadata": {
        "id": "BLWNzuyD0_1J"
      },
      "source": [
        "##1.2 Média Harmônica e Média Harmônica Ponderada\n"
      ]
    },
    {
      "cell_type": "code",
      "metadata": {
        "id": "tAq7ZUZj4Kcb"
      },
      "source": [
        "#Dados\n",
        "x = [10, 60, 360]\n",
        "y = [2, 2, 2, 2]"
      ],
      "execution_count": 4,
      "outputs": []
    },
    {
      "cell_type": "code",
      "metadata": {
        "id": "hg3pzHDO92PP",
        "colab": {
          "base_uri": "https://localhost:8080/"
        },
        "outputId": "47ed393e-af79-4200-ab3c-01f1aa36683d"
      },
      "source": [
        "\"\"\"\n",
        "Média harmônica (xh)\n",
        "xh = (1/(soma(1/xj)))\n",
        "xh = n/(sum(1/xj))\n",
        "Pág. 134 cap4 - Estatística Básica\n",
        "\"\"\"\n",
        "#Cálculo manual\n",
        "nX = len(x)\n",
        "somaX = (1 / x[0]) + (1 / x[1]) + (1 / x[2])\n",
        "print(f'Média harmônica = {nX} / {somaX:.4f}')"
      ],
      "execution_count": 5,
      "outputs": [
        {
          "output_type": "stream",
          "text": [
            "Média harmônica = 3 / 0.1194\n"
          ],
          "name": "stdout"
        }
      ]
    },
    {
      "cell_type": "code",
      "metadata": {
        "id": "L3ODGN-CpXGW"
      },
      "source": [
        "import numpy as np\n",
        "import statistics as sts"
      ],
      "execution_count": 6,
      "outputs": []
    },
    {
      "cell_type": "code",
      "metadata": {
        "id": "4_7G0utwpS7Z"
      },
      "source": [
        "c = [0.5, 0.7]"
      ],
      "execution_count": 7,
      "outputs": []
    },
    {
      "cell_type": "code",
      "metadata": {
        "colab": {
          "base_uri": "https://localhost:8080/"
        },
        "id": "Ys4ldVC0pbeg",
        "outputId": "eeb310e9-6333-493a-ded6-6be845bdd182"
      },
      "source": [
        "sts.harmonic_mean(c)"
      ],
      "execution_count": 8,
      "outputs": [
        {
          "output_type": "execute_result",
          "data": {
            "text/plain": [
              "0.5833333333333334"
            ]
          },
          "metadata": {
            "tags": []
          },
          "execution_count": 8
        }
      ]
    },
    {
      "cell_type": "markdown",
      "metadata": {
        "id": "aB9exBVEzDZv"
      },
      "source": [
        "Equação para cálculo da média harmônica:\n",
        "\n",
        "$\n",
        "\\hat{X_h} = \\frac{n}{\\sum \\limits_{j=1}^{n}\\frac{1}{xj}}\n",
        "$"
      ]
    },
    {
      "cell_type": "code",
      "metadata": {
        "id": "CBk3onYF-e_H",
        "colab": {
          "base_uri": "https://localhost:8080/"
        },
        "outputId": "138affb8-5436-4196-94c5-9d8ad076e20d"
      },
      "source": [
        "xh = nX / somaX\n",
        "print(f'Média harmônica = {xh:.4f}')"
      ],
      "execution_count": 9,
      "outputs": [
        {
          "output_type": "stream",
          "text": [
            "Média harmônica = 25.1163\n"
          ],
          "name": "stdout"
        }
      ]
    },
    {
      "cell_type": "code",
      "metadata": {
        "id": "HT21HXgm-pE-",
        "colab": {
          "base_uri": "https://localhost:8080/"
        },
        "outputId": "9890a082-f074-42f2-e31a-385df6446554"
      },
      "source": [
        "#Cáculo com loop\n",
        "somaX = [(1 / x[k]) for k in range(0, len(x))]\n",
        "somaX = sum(somaX)\n",
        "\n",
        "xh = nX / somaX\n",
        "xh"
      ],
      "execution_count": 10,
      "outputs": [
        {
          "output_type": "execute_result",
          "data": {
            "text/plain": [
              "25.11627906976744"
            ]
          },
          "metadata": {
            "tags": []
          },
          "execution_count": 10
        }
      ]
    },
    {
      "cell_type": "code",
      "metadata": {
        "id": "DlknNjYQ_Z0L",
        "colab": {
          "base_uri": "https://localhost:8080/"
        },
        "outputId": "58a0ae86-28e0-4070-c0ae-ff04eabf587f"
      },
      "source": [
        "nY = len(y)\n",
        "somaY = [(1 / y[k]) for k in range(0, len(y))]\n",
        "somaY = sum(somaY)\n",
        "yh = nY / somaY\n",
        "\n",
        "#Resultados\n",
        "print(f'Média harmônica = {nY} / {somaY:.4f}',\n",
        "      f'Média harmônica {yh:.4f}',\n",
        "      sep='\\n')"
      ],
      "execution_count": 11,
      "outputs": [
        {
          "output_type": "stream",
          "text": [
            "Média harmônica = 4 / 2.0000\n",
            "Média harmônica 2.0000\n"
          ],
          "name": "stdout"
        }
      ]
    },
    {
      "cell_type": "markdown",
      "metadata": {
        "id": "1bUHOv0-B-Up"
      },
      "source": [
        "Uma pessoa comprou 4 camisas a 30,00 por camisa e 2 camisas por 50,00 cada.\n",
        "*   120,00 em camisas de 30,00\n",
        "*   100,00 em camisas de 50,00   \n",
        "\n"
      ]
    },
    {
      "cell_type": "code",
      "metadata": {
        "id": "ikkSG9bj_4u3"
      },
      "source": [
        "#Dados\n",
        "gastos = [120, 100] #Ponderação (Preço x Quantidade)\n",
        "precos = [30, 50] #Dados\n",
        "quantidades = [4, 2]"
      ],
      "execution_count": 12,
      "outputs": []
    },
    {
      "cell_type": "code",
      "metadata": {
        "id": "64obLXykC5Gd",
        "colab": {
          "base_uri": "https://localhost:8080/"
        },
        "outputId": "a7fdbb15-7080-4d1d-a62e-48ed253f702b"
      },
      "source": [
        "\"\"\"\n",
        "Média harmônica ponderada\n",
        "xhP = 1 / (ponderacao / somaPonderacao)\n",
        "ponderacao = (peso1 * (1 / dado1) + ... + peson * (1 / dadon))\n",
        "\"\"\"\n",
        "somaGastos = sum(gastos)\n",
        "ponderacao = ((gastos[0] * (1 / precos[0])) + (gastos[1] * (1 / precos[1])))\n",
        "print(somaGastos, ponderacao)"
      ],
      "execution_count": 13,
      "outputs": [
        {
          "output_type": "stream",
          "text": [
            "220 6.0\n"
          ],
          "name": "stdout"
        }
      ]
    },
    {
      "cell_type": "code",
      "metadata": {
        "id": "uWE_2N-3EoLs",
        "colab": {
          "base_uri": "https://localhost:8080/"
        },
        "outputId": "2672c891-c88f-44f6-ec57-a487241e616b"
      },
      "source": [
        "precohP = 1  / (ponderacao / somaGastos)\n",
        "print(f'Média harmônica ponderada dos preçcos: {precohP:.2f}')"
      ],
      "execution_count": 14,
      "outputs": [
        {
          "output_type": "stream",
          "text": [
            "Média harmônica ponderada dos preçcos: 36.67\n"
          ],
          "name": "stdout"
        }
      ]
    },
    {
      "cell_type": "markdown",
      "metadata": {
        "id": "OjYZVXRYbEZ2"
      },
      "source": [
        "##1.3 Média Quadrática"
      ]
    },
    {
      "cell_type": "code",
      "metadata": {
        "id": "wMcizlLtbN57"
      },
      "source": [
        "\"\"\"\n",
        "Média quadrática simples\n",
        "mediaQ = raiz (soma(dados**2) / n)\n",
        "\"\"\"\n",
        "import numpy as np\n",
        "\n",
        "x = [2, 2, 2]\n",
        "y = [2, 3, 4, 5]"
      ],
      "execution_count": 15,
      "outputs": []
    },
    {
      "cell_type": "code",
      "metadata": {
        "id": "YTQdgQVJbu4P",
        "colab": {
          "base_uri": "https://localhost:8080/"
        },
        "outputId": "d2e833c0-a0aa-4d35-efef-7798a08e1287"
      },
      "source": [
        "nX = len(x)\n",
        "somaX2 = [x[k] ** 2 for k in range(0, len(x))]\n",
        "somaX2 = sum(somaX2)\n",
        "somaX2"
      ],
      "execution_count": 16,
      "outputs": [
        {
          "output_type": "execute_result",
          "data": {
            "text/plain": [
              "12"
            ]
          },
          "metadata": {
            "tags": []
          },
          "execution_count": 16
        }
      ]
    },
    {
      "cell_type": "code",
      "metadata": {
        "id": "BJ-S8qadcKGj",
        "colab": {
          "base_uri": "https://localhost:8080/"
        },
        "outputId": "255051e1-a6f4-4e42-949c-9c51f9e78524"
      },
      "source": [
        "mediaQ_x = np.sqrt(somaX2 / nX)\n",
        "print(f'Média quadrática de {x}: ')\n",
        "mediaQ_x"
      ],
      "execution_count": 17,
      "outputs": [
        {
          "output_type": "stream",
          "text": [
            "Média quadrática de [2, 2, 2]: \n"
          ],
          "name": "stdout"
        },
        {
          "output_type": "execute_result",
          "data": {
            "text/plain": [
              "2.0"
            ]
          },
          "metadata": {
            "tags": []
          },
          "execution_count": 17
        }
      ]
    },
    {
      "cell_type": "code",
      "metadata": {
        "id": "q9rncP7KcCa3",
        "colab": {
          "base_uri": "https://localhost:8080/"
        },
        "outputId": "d264b24c-281c-4745-bf13-fe5368097953"
      },
      "source": [
        "nY = len(y)\n",
        "somaY2 = sum([y[k] ** 2\n",
        "              for k in range(0, len(y))\n",
        "              ])\n",
        "somaY2"
      ],
      "execution_count": 18,
      "outputs": [
        {
          "output_type": "execute_result",
          "data": {
            "text/plain": [
              "54"
            ]
          },
          "metadata": {
            "tags": []
          },
          "execution_count": 18
        }
      ]
    },
    {
      "cell_type": "code",
      "metadata": {
        "id": "1JZBz20jc2qP",
        "colab": {
          "base_uri": "https://localhost:8080/"
        },
        "outputId": "a16589dd-a9a4-4047-b1b6-6c8b5df2f0ad"
      },
      "source": [
        "mediaQ_y = np.sqrt(somaY2 / nY)\n",
        "print(f'Média quadrática de {y}:')\n",
        "mediaQ_y"
      ],
      "execution_count": 19,
      "outputs": [
        {
          "output_type": "stream",
          "text": [
            "Média quadrática de [2, 3, 4, 5]:\n"
          ],
          "name": "stdout"
        },
        {
          "output_type": "execute_result",
          "data": {
            "text/plain": [
              "3.6742346141747673"
            ]
          },
          "metadata": {
            "tags": []
          },
          "execution_count": 19
        }
      ]
    },
    {
      "cell_type": "code",
      "metadata": {
        "id": "v807yYMhdCru",
        "colab": {
          "base_uri": "https://localhost:8080/"
        },
        "outputId": "34f85da9-5e05-44ab-8ac0-99157128ec35"
      },
      "source": [
        "\"\"\"\n",
        "Média quadrática ponderada\n",
        "mediaQP = raiz (soma(dados**2 * ponderacao)) / n\n",
        "\"\"\"\n",
        "dados = {3: 5,\n",
        "         5: 10,\n",
        "         7: 12,\n",
        "         9: 10,\n",
        "         11: 5}\n",
        "\n",
        "dados_list = [[3, 5, 7, 9, 11],\n",
        "              [5, 10, 12, 10, 5]\n",
        "              ]\n",
        "\n",
        "valores = list(dados.keys())\n",
        "valores"
      ],
      "execution_count": 20,
      "outputs": [
        {
          "output_type": "execute_result",
          "data": {
            "text/plain": [
              "[3, 5, 7, 9, 11]"
            ]
          },
          "metadata": {
            "tags": []
          },
          "execution_count": 20
        }
      ]
    },
    {
      "cell_type": "code",
      "metadata": {
        "id": "PDmmL_wyeVRN",
        "colab": {
          "base_uri": "https://localhost:8080/"
        },
        "outputId": "209b47e4-bb35-4cac-e9a6-fbb8b6b350ac"
      },
      "source": [
        "freq = list(dados.values())\n",
        "freq"
      ],
      "execution_count": 21,
      "outputs": [
        {
          "output_type": "execute_result",
          "data": {
            "text/plain": [
              "[5, 10, 12, 10, 5]"
            ]
          },
          "metadata": {
            "tags": []
          },
          "execution_count": 21
        }
      ]
    },
    {
      "cell_type": "code",
      "metadata": {
        "id": "wTtqN38kempf",
        "colab": {
          "base_uri": "https://localhost:8080/"
        },
        "outputId": "d56cf819-6d53-4eb0-f9cf-141ff7ef103d"
      },
      "source": [
        "valores2 = [valores[k] ** 2 for k in range(0, len(valores))]\n",
        "valores2"
      ],
      "execution_count": 22,
      "outputs": [
        {
          "output_type": "execute_result",
          "data": {
            "text/plain": [
              "[9, 25, 49, 81, 121]"
            ]
          },
          "metadata": {
            "tags": []
          },
          "execution_count": 22
        }
      ]
    },
    {
      "cell_type": "code",
      "metadata": {
        "id": "a59-GSXcfZnZ",
        "colab": {
          "base_uri": "https://localhost:8080/"
        },
        "outputId": "ec6257ce-ff42-4fe0-ca96-0689a6801569"
      },
      "source": [
        "#variável para cálculo, não confundir com tamanho do conjunto de dados\n",
        "n = len(valores)\n",
        "val2Xfreq = [valores2[k] * freq[k] for k in range(0, n)]\n",
        "val2Xfreq"
      ],
      "execution_count": 23,
      "outputs": [
        {
          "output_type": "execute_result",
          "data": {
            "text/plain": [
              "[45, 250, 588, 810, 605]"
            ]
          },
          "metadata": {
            "tags": []
          },
          "execution_count": 23
        }
      ]
    },
    {
      "cell_type": "code",
      "metadata": {
        "id": "7BOpcwXup1xp",
        "colab": {
          "base_uri": "https://localhost:8080/"
        },
        "outputId": "0f3870bd-7797-469f-bfd4-f64cf801d737"
      },
      "source": [
        "sum(val2Xfreq)"
      ],
      "execution_count": 24,
      "outputs": [
        {
          "output_type": "execute_result",
          "data": {
            "text/plain": [
              "2298"
            ]
          },
          "metadata": {
            "tags": []
          },
          "execution_count": 24
        }
      ]
    },
    {
      "cell_type": "code",
      "metadata": {
        "id": "npkSIm-Wp4D2",
        "colab": {
          "base_uri": "https://localhost:8080/"
        },
        "outputId": "a68226ad-9fed-4808-d238-887bc90172f5"
      },
      "source": [
        "from pprint import pprint\n",
        "#Variável refere-se ao tamanho (n) do conjunto de dados\n",
        "nX = sum(freq)\n",
        "mediaQP_x = np.sqrt(sum(val2Xfreq) / nX)\n",
        "\n",
        "#Exibição dos resultados\n",
        "print(f'Média quadrática ponderada dos dados: {mediaQP_x:.3f}')\n",
        "print('Dados:\\nValor : Frequência')\n",
        "for k, v in dados.items():\n",
        "  print(f'{k:5}', f'{v:5}', sep=' : ')"
      ],
      "execution_count": 25,
      "outputs": [
        {
          "output_type": "stream",
          "text": [
            "Média quadrática ponderada dos dados: 7.397\n",
            "Dados:\n",
            "Valor : Frequência\n",
            "    3 :     5\n",
            "    5 :    10\n",
            "    7 :    12\n",
            "    9 :    10\n",
            "   11 :     5\n"
          ],
          "name": "stdout"
        }
      ]
    },
    {
      "cell_type": "markdown",
      "metadata": {
        "id": "otbMDz1C50-u"
      },
      "source": [
        "##1.4 Comparação de médias e relação empírica entre medidas de posição"
      ]
    },
    {
      "cell_type": "markdown",
      "metadata": {
        "id": "IbK5D76_yXXG"
      },
      "source": [
        "Cálculo da média aritimética do mesmo conjunto de dados para comparação das duas medidas."
      ]
    },
    {
      "cell_type": "code",
      "metadata": {
        "id": "bCn8nC6_yg8L",
        "colab": {
          "base_uri": "https://localhost:8080/"
        },
        "outputId": "581e1261-c047-47dc-aa24-8d8eff025785"
      },
      "source": [
        "valXfreq = [valores[k] * freq[k] for k in range(0, n)]\n",
        "valXfreq"
      ],
      "execution_count": 26,
      "outputs": [
        {
          "output_type": "execute_result",
          "data": {
            "text/plain": [
              "[15, 50, 84, 90, 55]"
            ]
          },
          "metadata": {
            "tags": []
          },
          "execution_count": 26
        }
      ]
    },
    {
      "cell_type": "code",
      "metadata": {
        "id": "yNLtNWUqzM3y",
        "colab": {
          "base_uri": "https://localhost:8080/"
        },
        "outputId": "45816136-6416-48a1-98ae-0551742d8c8e"
      },
      "source": [
        "sum(valXfreq)"
      ],
      "execution_count": 27,
      "outputs": [
        {
          "output_type": "execute_result",
          "data": {
            "text/plain": [
              "294"
            ]
          },
          "metadata": {
            "tags": []
          },
          "execution_count": 27
        }
      ]
    },
    {
      "cell_type": "code",
      "metadata": {
        "id": "HuzbbuGqzPVk",
        "colab": {
          "base_uri": "https://localhost:8080/"
        },
        "outputId": "5c6175f6-06ad-449b-e297-0469034b5dca"
      },
      "source": [
        "media_x = sum(valXfreq) / nX\n",
        "media_x"
      ],
      "execution_count": 28,
      "outputs": [
        {
          "output_type": "execute_result",
          "data": {
            "text/plain": [
              "7.0"
            ]
          },
          "metadata": {
            "tags": []
          },
          "execution_count": 28
        }
      ]
    },
    {
      "cell_type": "markdown",
      "metadata": {
        "id": "J3sk0VYjIO6B"
      },
      "source": [
        "Relação empírica entre média, moda e mediana\n",
        "\n",
        "De forma simplificada:\n",
        "*   Média: medida de tendência central para descrever resumidamente uma distribuição de frequência. Vide exemplos anteriores (diversas formas de obtenção) de um valor central dos dados\n",
        "*   Mo - Moda: valor mais frequente no conjunto de dados\n",
        "*   Md - Mediana: valor central do conjunto de dados em que ao menos 50% dos valores sejam iguais ou maiores a ela\n",
        "\n",
        "Condições para relações empíricas:\n",
        "1.   Distribuição unimodal;\n",
        "2.   Distribuição fracamente assimétrica;\n",
        "3.   Número de observações grande e pequena escala de unidades que divide a distribuição.\n",
        "\n",
        "Relações:\n",
        "* média = (3Md - Mo) / 2\n",
        "* Mo = 3md - 2media\n",
        "* Md = (2media + Mo) / 3\n"
      ]
    },
    {
      "cell_type": "markdown",
      "metadata": {
        "id": "dbEtNjhW6D_t"
      },
      "source": [
        "#2 Moda e Mediana"
      ]
    },
    {
      "cell_type": "code",
      "metadata": {
        "id": "W9cHx5m_JSV1"
      },
      "source": [
        "#Dados\n",
        "classes = ['5 |- 25',\n",
        "           '25 |- 45',\n",
        "           '45 |- 65',\n",
        "           '65 |- 85',\n",
        "           '85 |- 105',\n",
        "           '105 |- 125',\n",
        "           '125 |- 145',\n",
        "           '145 |- 165']\n",
        "k = 8\n",
        "usuarios_fj = [4, 6, 14, 26, 14, 8, 6, 2]\n",
        "n = sum(usuarios_fj)\n",
        "k = len(usuarios_fj)\n",
        "xj = [15, 35, 55, 75, 95, 115, 135, 155]\n",
        "usr_Acum_Fj = [4, 10, 24, 50, 64, 72, 78]"
      ],
      "execution_count": 29,
      "outputs": []
    },
    {
      "cell_type": "code",
      "metadata": {
        "id": "DIJ9MRKPKPw4",
        "colab": {
          "base_uri": "https://localhost:8080/"
        },
        "outputId": "14989357-634b-410d-ffb5-544121d058b9"
      },
      "source": [
        "xjfj = [usuarios_fj[i] * xj[i] for i in range(0, len(usuarios_fj))]\n",
        "xjfj"
      ],
      "execution_count": 30,
      "outputs": [
        {
          "output_type": "execute_result",
          "data": {
            "text/plain": [
              "[60, 210, 770, 1950, 1330, 920, 810, 310]"
            ]
          },
          "metadata": {
            "tags": []
          },
          "execution_count": 30
        }
      ]
    },
    {
      "cell_type": "code",
      "metadata": {
        "id": "6FURu5UiLHDB",
        "colab": {
          "base_uri": "https://localhost:8080/"
        },
        "outputId": "0c6d953f-c7ce-4594-8a35-5c5b7f451687"
      },
      "source": [
        "#Cálculo da média\n",
        "media = sum(xjfj) / n\n",
        "media"
      ],
      "execution_count": 31,
      "outputs": [
        {
          "output_type": "execute_result",
          "data": {
            "text/plain": [
              "79.5"
            ]
          },
          "metadata": {
            "tags": []
          },
          "execution_count": 31
        }
      ]
    },
    {
      "cell_type": "code",
      "metadata": {
        "id": "r0GUVzgQL1sq"
      },
      "source": [
        "#Mediana\n",
        "fMd = max(usuarios_fj) #Frequência da mediana\n",
        "posMd = usuarios_fj.index(fMd)\n",
        "classeMd = classes[posMd]\n",
        "l = 65 #Limite inferiro da classe mediana 65 |- 85\n",
        "c = 20 #Amplitude das classes\n",
        "eMd = n / 2 #Elemento mediano\n",
        "fAnt = usr_Acum_Fj[(usuarios_fj.index(fMd))-1] #Frequência anterior à mediana"
      ],
      "execution_count": 32,
      "outputs": []
    },
    {
      "cell_type": "code",
      "metadata": {
        "id": "mfcBy5M4M-Bi",
        "colab": {
          "base_uri": "https://localhost:8080/"
        },
        "outputId": "d65b895a-ca3e-4ddd-a5d1-1190042b0b1d"
      },
      "source": [
        "md = l + c * ((eMd - fAnt) / fMd)\n",
        "md"
      ],
      "execution_count": 33,
      "outputs": [
        {
          "output_type": "execute_result",
          "data": {
            "text/plain": [
              "77.3076923076923"
            ]
          },
          "metadata": {
            "tags": []
          },
          "execution_count": 33
        }
      ]
    },
    {
      "cell_type": "code",
      "metadata": {
        "id": "C4v98VIDNjou",
        "colab": {
          "base_uri": "https://localhost:8080/"
        },
        "outputId": "706b3539-01c1-4b51-f314-9846b8f4fe28"
      },
      "source": [
        "#Moda calculada\n",
        "\"\"\"\n",
        "mo = l + c * (delta1) / (datal1 + delta2)\n",
        "delta1 = freq. classe modal - freq. da classe anterior\n",
        "delta2 = freq. classe modal - freq. da classe posterior\n",
        "\"\"\"\n",
        "f_ant = usuarios_fj[(usuarios_fj.index(fMd)) - 1] #Freq. classe anterior\n",
        "f_post = usuarios_fj[(usuarios_fj.index(fMd)) + 1] #Freq. classe posterior\n",
        "delta1 = fMd - f_ant\n",
        "delta2 = fMd - f_post\n",
        "\n",
        "#Aplicação da fórmula\n",
        "mo = l + c * delta1 / (delta1 + delta2)\n",
        "mo"
      ],
      "execution_count": 34,
      "outputs": [
        {
          "output_type": "execute_result",
          "data": {
            "text/plain": [
              "75.0"
            ]
          },
          "metadata": {
            "tags": []
          },
          "execution_count": 34
        }
      ]
    },
    {
      "cell_type": "code",
      "metadata": {
        "id": "SOS-o8GqRmZl",
        "colab": {
          "base_uri": "https://localhost:8080/"
        },
        "outputId": "b2a6d219-9b84-4eb9-f498-179a26e552c8"
      },
      "source": [
        "#Moda pela relação empírica\n",
        "mo_emp = 3 * md - 2 * media\n",
        "mo_emp"
      ],
      "execution_count": 35,
      "outputs": [
        {
          "output_type": "execute_result",
          "data": {
            "text/plain": [
              "72.9230769230769"
            ]
          },
          "metadata": {
            "tags": []
          },
          "execution_count": 35
        }
      ]
    },
    {
      "cell_type": "code",
      "metadata": {
        "id": "WPzANf6FNq6p",
        "colab": {
          "base_uri": "https://localhost:8080/"
        },
        "outputId": "063f2da3-0de0-4e1c-cb43-7980da500b1f"
      },
      "source": [
        "#Mediana pela relação empírica\n",
        "md_emp = (2 * media + mo) / 3\n",
        "md_emp"
      ],
      "execution_count": 36,
      "outputs": [
        {
          "output_type": "execute_result",
          "data": {
            "text/plain": [
              "78.0"
            ]
          },
          "metadata": {
            "tags": []
          },
          "execution_count": 36
        }
      ]
    },
    {
      "cell_type": "code",
      "metadata": {
        "id": "SRpmnV77Nbvb",
        "colab": {
          "base_uri": "https://localhost:8080/"
        },
        "outputId": "74bcdc03-56db-44a4-d29c-db6f4bd90ddd"
      },
      "source": [
        "#Média pela relação empírica\n",
        "media_emp = (3 * md - mo) / 2\n",
        "media_emp"
      ],
      "execution_count": 37,
      "outputs": [
        {
          "output_type": "execute_result",
          "data": {
            "text/plain": [
              "78.46153846153845"
            ]
          },
          "metadata": {
            "tags": []
          },
          "execution_count": 37
        }
      ]
    },
    {
      "cell_type": "code",
      "metadata": {
        "id": "v016FaUNEiyN",
        "colab": {
          "base_uri": "https://localhost:8080/"
        },
        "outputId": "4d70e163-1efc-4d1d-e673-691f1794eb2a"
      },
      "source": [
        "\"\"\"\n",
        "As bibliotecas numpy e estatistics tem métodos para cálculo destas medidas\n",
        "de forma direta e simplificada\n",
        "\"\"\"\n",
        "import statistics as sts\n",
        "\n",
        "dados = [10, 10, 25, 32, 5]\n",
        "print('Média Mediana Moda\\n', np.mean(dados),\n",
        "      np.median(dados),\n",
        "      sts.mode(dados)\n",
        "      )"
      ],
      "execution_count": 38,
      "outputs": [
        {
          "output_type": "stream",
          "text": [
            "Média Mediana Moda\n",
            " 16.4 10.0 10\n"
          ],
          "name": "stdout"
        }
      ]
    },
    {
      "cell_type": "code",
      "metadata": {
        "id": "-wvNOi58FwD0",
        "colab": {
          "base_uri": "https://localhost:8080/",
          "height": 35
        },
        "outputId": "9e3c571b-e724-42ea-b96c-2e018e81f518"
      },
      "source": [
        "listaItens = [\"SP\", \"RJ\",\"MG\",\"SP\",\"TO\",\"RS\",\"SC\",\"SP\",\"SC\"]\n",
        "sts.mode(listaItens)"
      ],
      "execution_count": 39,
      "outputs": [
        {
          "output_type": "execute_result",
          "data": {
            "application/vnd.google.colaboratory.intrinsic+json": {
              "type": "string"
            },
            "text/plain": [
              "'SP'"
            ]
          },
          "metadata": {
            "tags": []
          },
          "execution_count": 39
        }
      ]
    },
    {
      "cell_type": "code",
      "metadata": {
        "id": "tS4j8KOgF-_G",
        "colab": {
          "base_uri": "https://localhost:8080/",
          "height": 35
        },
        "outputId": "b5aa94ac-9a7c-4152-faa6-ec69c7465986"
      },
      "source": [
        "lista = [2, 5, 7, 4, 1, 9, 5, 9, 2, 6, 7, 9, 4, 3, 5, 7]\n",
        "#sts.mode(lista)\n",
        "from scipy import stats as s\n",
        "moda = s.mode(lista, axis=None)\n",
        "\"\"\"\n",
        "Usar statistics.mode() com este conjunto de dados retorna um erro porque há mais de uma\n",
        "moda.\n",
        "Usar scipy.stats retorna apenas o menor valor entre as modas\n",
        "\"\"\""
      ],
      "execution_count": 40,
      "outputs": [
        {
          "output_type": "execute_result",
          "data": {
            "application/vnd.google.colaboratory.intrinsic+json": {
              "type": "string"
            },
            "text/plain": [
              "'\\nUsar statistics.mode() com este conjunto de dados retorna um erro porque há mais de uma\\nmoda.\\nUsar scipy.stats retorna apenas o menor valor entre as modas\\n'"
            ]
          },
          "metadata": {
            "tags": []
          },
          "execution_count": 40
        }
      ]
    },
    {
      "cell_type": "code",
      "metadata": {
        "id": "7F49D1enF_tv",
        "colab": {
          "base_uri": "https://localhost:8080/"
        },
        "outputId": "c40b06ad-1714-4de2-f54e-eaa0663a989e"
      },
      "source": [
        "moda"
      ],
      "execution_count": 41,
      "outputs": [
        {
          "output_type": "execute_result",
          "data": {
            "text/plain": [
              "ModeResult(mode=array([5]), count=array([3]))"
            ]
          },
          "metadata": {
            "tags": []
          },
          "execution_count": 41
        }
      ]
    },
    {
      "cell_type": "code",
      "metadata": {
        "id": "vV00Qy24G0KK",
        "colab": {
          "base_uri": "https://localhost:8080/"
        },
        "outputId": "e649d4c9-688a-4fb8-cc78-8fd4ec486422"
      },
      "source": [
        "moda[0]"
      ],
      "execution_count": 42,
      "outputs": [
        {
          "output_type": "execute_result",
          "data": {
            "text/plain": [
              "array([5])"
            ]
          },
          "metadata": {
            "tags": []
          },
          "execution_count": 42
        }
      ]
    },
    {
      "cell_type": "code",
      "metadata": {
        "id": "4yBxxI4MG9nF",
        "colab": {
          "base_uri": "https://localhost:8080/"
        },
        "outputId": "b1d1a5cf-9bb5-4f0c-a9dc-e90a72848d59"
      },
      "source": [
        "#Para verificar as múltiplas modas, usamos Counter e observamos most_common\n",
        "from collections import Counter\n",
        "freq_lista = Counter(lista)\n",
        "freq_lista.most_common()"
      ],
      "execution_count": 43,
      "outputs": [
        {
          "output_type": "execute_result",
          "data": {
            "text/plain": [
              "[(5, 3), (7, 3), (9, 3), (2, 2), (4, 2), (1, 1), (6, 1), (3, 1)]"
            ]
          },
          "metadata": {
            "tags": []
          },
          "execution_count": 43
        }
      ]
    },
    {
      "cell_type": "markdown",
      "metadata": {
        "id": "0YFLwOQQJTQa"
      },
      "source": [
        "Como observado, as múltiplas modas do conjunto de dados são 5, 7 e 9, todas com 3 ocorrências cada."
      ]
    },
    {
      "cell_type": "code",
      "metadata": {
        "id": "UAODFrqLG8aL",
        "colab": {
          "base_uri": "https://localhost:8080/"
        },
        "outputId": "46b715f4-5d63-442c-c14b-b06330085cc7"
      },
      "source": [
        "#Mediana\n",
        "np.median(lista)"
      ],
      "execution_count": 44,
      "outputs": [
        {
          "output_type": "execute_result",
          "data": {
            "text/plain": [
              "5.0"
            ]
          },
          "metadata": {
            "tags": []
          },
          "execution_count": 44
        }
      ]
    },
    {
      "cell_type": "code",
      "metadata": {
        "id": "Axk5iHzxG4FC",
        "colab": {
          "base_uri": "https://localhost:8080/"
        },
        "outputId": "f16866c0-af2b-454d-e25f-17385391887f"
      },
      "source": [
        "#Média\n",
        "np.mean(lista)"
      ],
      "execution_count": 45,
      "outputs": [
        {
          "output_type": "execute_result",
          "data": {
            "text/plain": [
              "5.3125"
            ]
          },
          "metadata": {
            "tags": []
          },
          "execution_count": 45
        }
      ]
    },
    {
      "cell_type": "markdown",
      "metadata": {
        "id": "iNJQfTPG6cXS"
      },
      "source": [
        "#3 Quartis, decis e percentis ou centis"
      ]
    },
    {
      "cell_type": "markdown",
      "metadata": {
        "id": "n47gzzHlKKCi"
      },
      "source": [
        "Medidas dividem os dados em partes iguais:\n",
        "*   Quartis: quatro partes\n",
        "*   Decis: dez partes\n",
        "*   Centis: cem partes\n",
        "\n",
        "\n",
        "\n"
      ]
    },
    {
      "cell_type": "code",
      "metadata": {
        "id": "l_hXr1NVKPdW",
        "colab": {
          "base_uri": "https://localhost:8080/"
        },
        "outputId": "6ba3bad6-d66c-4e5f-fd64-49163b1ef726"
      },
      "source": [
        "import pandas as pd\n",
        "serie = pd.Series(lista)\n",
        "serie"
      ],
      "execution_count": 46,
      "outputs": [
        {
          "output_type": "execute_result",
          "data": {
            "text/plain": [
              "0     2\n",
              "1     5\n",
              "2     7\n",
              "3     4\n",
              "4     1\n",
              "5     9\n",
              "6     5\n",
              "7     9\n",
              "8     2\n",
              "9     6\n",
              "10    7\n",
              "11    9\n",
              "12    4\n",
              "13    3\n",
              "14    5\n",
              "15    7\n",
              "dtype: int64"
            ]
          },
          "metadata": {
            "tags": []
          },
          "execution_count": 46
        }
      ]
    },
    {
      "cell_type": "markdown",
      "metadata": {
        "id": "-B9xuE5rR2nN"
      },
      "source": [
        "Qp={x(np)+1:n --> se np não é inteiro\n",
        "\n",
        "1/2(xnp:n+xnp+1:n) --> se np é inteiro"
      ]
    },
    {
      "cell_type": "code",
      "metadata": {
        "id": "ao9P_UazLJ9l",
        "colab": {
          "base_uri": "https://localhost:8080/"
        },
        "outputId": "ccebf3b6-b370-45a3-a99f-cb7c7b642571"
      },
      "source": [
        "#Quartis\n",
        "quartis = list(np.quantile(serie, [0.25, 0.5, 0.75, 1]))\n",
        "quartis"
      ],
      "execution_count": 47,
      "outputs": [
        {
          "output_type": "execute_result",
          "data": {
            "text/plain": [
              "[3.75, 5.0, 7.0, 9.0]"
            ]
          },
          "metadata": {
            "tags": []
          },
          "execution_count": 47
        }
      ]
    },
    {
      "cell_type": "code",
      "metadata": {
        "id": "ugeCHMvHRlup",
        "colab": {
          "base_uri": "https://localhost:8080/"
        },
        "outputId": "61d3c3be-2de8-4ccf-976d-7d3dcb6c16ee"
      },
      "source": [
        "#Cálculos manual\n",
        "lista_ord = sorted(lista)\n",
        "n = len(lista_ord)\n",
        "lista_ord"
      ],
      "execution_count": 48,
      "outputs": [
        {
          "output_type": "execute_result",
          "data": {
            "text/plain": [
              "[1, 2, 2, 3, 4, 4, 5, 5, 5, 6, 7, 7, 7, 9, 9, 9]"
            ]
          },
          "metadata": {
            "tags": []
          },
          "execution_count": 48
        }
      ]
    },
    {
      "cell_type": "code",
      "metadata": {
        "id": "4nrTB8WxTbEJ",
        "colab": {
          "base_uri": "https://localhost:8080/"
        },
        "outputId": "2f6d83f9-7bc9-415e-9fe5-ec6dd5a20370"
      },
      "source": [
        "q1_m = int(n / 4)\n",
        "q2_m = int((2 * n) / 4)\n",
        "q3_m = int((3 * n) / 4)\n",
        "print('Quartis:\\n', q1_m, q2_m, q3_m)"
      ],
      "execution_count": 49,
      "outputs": [
        {
          "output_type": "stream",
          "text": [
            "Quartis:\n",
            " 4 8 12\n"
          ],
          "name": "stdout"
        }
      ]
    },
    {
      "cell_type": "code",
      "metadata": {
        "id": "Fiu0dkQeUP5A",
        "colab": {
          "base_uri": "https://localhost:8080/"
        },
        "outputId": "459167b4-2f5f-460c-b86f-d35833b1bdc8"
      },
      "source": [
        "lista_por_quartis = []\n",
        "lista_por_quartis.append([lista_ord[k] for k in range(0, q1_m)])\n",
        "lista_por_quartis.append([lista_ord[k] for k in range(0, q2_m)])\n",
        "lista_por_quartis.append([lista_ord[k] for k in range(0, q3_m)])\n",
        "lista_por_quartis"
      ],
      "execution_count": 50,
      "outputs": [
        {
          "output_type": "execute_result",
          "data": {
            "text/plain": [
              "[[1, 2, 2, 3], [1, 2, 2, 3, 4, 4, 5, 5], [1, 2, 2, 3, 4, 4, 5, 5, 5, 6, 7, 7]]"
            ]
          },
          "metadata": {
            "tags": []
          },
          "execution_count": 50
        }
      ]
    },
    {
      "cell_type": "code",
      "metadata": {
        "id": "9D-rjvY4NJVD",
        "colab": {
          "base_uri": "https://localhost:8080/"
        },
        "outputId": "df9b69e7-b3ff-4eb0-c0e1-56d7fc219109"
      },
      "source": [
        "q1 = [lista[k]\n",
        "      for k in range(0, len(lista))\n",
        "      if lista[k] <= quartis[0]]\n",
        "q1"
      ],
      "execution_count": 51,
      "outputs": [
        {
          "output_type": "execute_result",
          "data": {
            "text/plain": [
              "[2, 1, 2, 3]"
            ]
          },
          "metadata": {
            "tags": []
          },
          "execution_count": 51
        }
      ]
    },
    {
      "cell_type": "code",
      "metadata": {
        "id": "osbaL0VoNhqI",
        "colab": {
          "base_uri": "https://localhost:8080/"
        },
        "outputId": "724a3f29-8233-4d74-ddb4-cabd1e2ecf7b"
      },
      "source": [
        "q2 = [lista[k]\n",
        "      for k in range(0, len(lista))\n",
        "      if lista[k] > quartis[0] and lista[k] <= quartis[1]]\n",
        "q2"
      ],
      "execution_count": 52,
      "outputs": [
        {
          "output_type": "execute_result",
          "data": {
            "text/plain": [
              "[5, 4, 5, 4, 5]"
            ]
          },
          "metadata": {
            "tags": []
          },
          "execution_count": 52
        }
      ]
    },
    {
      "cell_type": "code",
      "metadata": {
        "id": "mOJHsUsrNOHR",
        "colab": {
          "base_uri": "https://localhost:8080/"
        },
        "outputId": "e3dc10ad-8bdc-448c-9440-f3d520124682"
      },
      "source": [
        "q3 = [lista[k]\n",
        "      for k in range(0, len(lista))\n",
        "      if lista[k] > quartis[1] and lista[k] <= quartis[2]]\n",
        "q3"
      ],
      "execution_count": 53,
      "outputs": [
        {
          "output_type": "execute_result",
          "data": {
            "text/plain": [
              "[7, 6, 7, 7]"
            ]
          },
          "metadata": {
            "tags": []
          },
          "execution_count": 53
        }
      ]
    },
    {
      "cell_type": "code",
      "metadata": {
        "id": "LnDPEop6NQEp",
        "colab": {
          "base_uri": "https://localhost:8080/"
        },
        "outputId": "6e361b47-b3ac-4510-bf74-ee24bf69ac7e"
      },
      "source": [
        "q4 = [lista[k]\n",
        "      for k in range(0, len(lista))\n",
        "      if lista[k] > quartis[2]]\n",
        "q4"
      ],
      "execution_count": 54,
      "outputs": [
        {
          "output_type": "execute_result",
          "data": {
            "text/plain": [
              "[9, 9, 9]"
            ]
          },
          "metadata": {
            "tags": []
          },
          "execution_count": 54
        }
      ]
    },
    {
      "cell_type": "code",
      "metadata": {
        "id": "r3IaE3OGNCtj",
        "colab": {
          "base_uri": "https://localhost:8080/"
        },
        "outputId": "79e27f61-b4aa-4910-85e4-59e34b4d7648"
      },
      "source": [
        "#Organizando dados para conferência\n",
        "sorted(lista)"
      ],
      "execution_count": 55,
      "outputs": [
        {
          "output_type": "execute_result",
          "data": {
            "text/plain": [
              "[1, 2, 2, 3, 4, 4, 5, 5, 5, 6, 7, 7, 7, 9, 9, 9]"
            ]
          },
          "metadata": {
            "tags": []
          },
          "execution_count": 55
        }
      ]
    },
    {
      "cell_type": "markdown",
      "metadata": {
        "id": "ILXSNaz4-dLx"
      },
      "source": [
        "#4 Visualização gráfica de medidas estatísticas"
      ]
    },
    {
      "cell_type": "code",
      "metadata": {
        "id": "mi2qixCX72Ui"
      },
      "source": [
        "from matplotlib import pyplot as plt"
      ],
      "execution_count": 56,
      "outputs": []
    },
    {
      "cell_type": "markdown",
      "metadata": {
        "id": "87asOlZy_Gqe"
      },
      "source": [
        "##4.1 Quartis através do Box Plot"
      ]
    },
    {
      "cell_type": "markdown",
      "metadata": {
        "id": "rFqU6srX3tZS"
      },
      "source": [
        "A figura 1 exibe um boxplot e os principais elementos estatísticos que ele representa. Como pode ser visto, sua análise permite de forma simplificada identificar diversas informações sobre o conjunto de dados estudo.\n",
        "\n",
        "Dois elementos principais devem chamar a atenção assim que o gráfico é gerado:\n",
        "* Primeiramente deve-se buscar identificar se há valores acima do limite superior ou abaixo do limite inferior, o que indica que há *outliers* (valores discrepantes) no conjunto de dados que necessitem de tratamento seja pela sua remoção ou pela identificação do motivo de sua existência, conforme o tipo de análise que se deseja efetuar.\n",
        "* Em seguida deve ser analisada a posição da reta que corta a \"caixa\", pois esta indica a mediana dos dados e a partir dela fica visualmente mais fácil analisar a distribuição, pois um segmento de caixa maior para um lado ou para outro indica uma maior ou menor concentração dos dados naquela faixa de valores.\n",
        "\n",
        "![boxplot](https://upload.wikimedia.org/wikipedia/commons/c/c9/Elements_of_a_boxplot_pt.svg)\n",
        "\n",
        "Figura 1 - Medidas estatísticas em um boxplot\n",
        "\n",
        "Por fim, além das duas análises iniciais, uma vez identificação a presença ou ausência de *outliers* e a mediana do conjunto de dados, pode-se analisar com mais detalhes a distribuição dos dados pelos quartis."
      ]
    },
    {
      "cell_type": "code",
      "metadata": {
        "colab": {
          "base_uri": "https://localhost:8080/",
          "height": 410
        },
        "id": "QCC5Mh0y75Mh",
        "outputId": "c8f8f0c1-8ba3-45ee-da10-2a607097dc03"
      },
      "source": [
        "#Visualização Gráfica dos quartis através do Box Plot\n",
        "plt.boxplot(lista)"
      ],
      "execution_count": 57,
      "outputs": [
        {
          "output_type": "execute_result",
          "data": {
            "text/plain": [
              "{'boxes': [<matplotlib.lines.Line2D at 0x7f80b1d84a50>],\n",
              " 'caps': [<matplotlib.lines.Line2D at 0x7f80b1d663d0>,\n",
              "  <matplotlib.lines.Line2D at 0x7f80b1d66910>],\n",
              " 'fliers': [<matplotlib.lines.Line2D at 0x7f80b1db7f90>],\n",
              " 'means': [],\n",
              " 'medians': [<matplotlib.lines.Line2D at 0x7f80b1d66e90>],\n",
              " 'whiskers': [<matplotlib.lines.Line2D at 0x7f80b1d9d4d0>,\n",
              "  <matplotlib.lines.Line2D at 0x7f80b1d9d590>]}"
            ]
          },
          "metadata": {
            "tags": []
          },
          "execution_count": 57
        },
        {
          "output_type": "display_data",
          "data": {
            "image/png": "[encoded data removed]",
            "text/plain": [
              "<Figure size 432x288 with 1 Axes>"
            ]
          },
          "metadata": {
            "tags": [],
            "needs_background": "light"
          }
        }
      ]
    },
    {
      "cell_type": "markdown",
      "metadata": {
        "id": "kQRPvclZ696Q"
      },
      "source": [
        "Neste gráfico, analisamos a lista com o conjunto de dados simplificado usado na seção anterior. Se ele for analisado de acordo com as recomendações anteriores, podemos perceber que a distribuição dos valores nos quartis coincidem com os cálculos manuais que foram apresentados na seção 3.\n",
        "\n",
        "---\n",
        "\n",
        "Retornaremos ao gráfico de boxplot com conjunto de dados mais complexos na análise de frequência, como complemento à análise de histograma."
      ]
    },
    {
      "cell_type": "markdown",
      "metadata": {
        "id": "FM-bxnL1_LRf"
      },
      "source": [
        "##4.2 Média e mediana"
      ]
    },
    {
      "cell_type": "code",
      "metadata": {
        "id": "_SJoCtDFE0au"
      },
      "source": [
        "#Biblioteca para carga de dados\n",
        "import pandas as pd"
      ],
      "execution_count": 58,
      "outputs": []
    },
    {
      "cell_type": "code",
      "metadata": {
        "colab": {
          "base_uri": "https://localhost:8080/",
          "height": 198
        },
        "id": "bI9n-pK6DzSI",
        "outputId": "7b025e8b-9c57-4e35-9dda-51facac3a934"
      },
      "source": [
        "arquivo = 'https://raw.githubusercontent.com/janiosl/python.ds/master/data/yahoo_stock_12-12-2020.csv'\n",
        "acoes = pd.read_csv(arquivo)\n",
        "acoes.head()"
      ],
      "execution_count": 59,
      "outputs": [
        {
          "output_type": "execute_result",
          "data": {
            "text/html": [
              "<div>\n",
              "<style scoped>\n",
              "    .dataframe tbody tr th:only-of-type {\n",
              "        vertical-align: middle;\n",
              "    }\n",
              "\n",
              "    .dataframe tbody tr th {\n",
              "        vertical-align: top;\n",
              "    }\n",
              "\n",
              "    .dataframe thead th {\n",
              "        text-align: right;\n",
              "    }\n",
              "</style>\n",
              "<table border=\"1\" class=\"dataframe\">\n",
              "  <thead>\n",
              "    <tr style=\"text-align: right;\">\n",
              "      <th></th>\n",
              "      <th>Ticker</th>\n",
              "      <th>Date</th>\n",
              "      <th>High</th>\n",
              "      <th>Low</th>\n",
              "      <th>Open</th>\n",
              "      <th>Close</th>\n",
              "      <th>Volume</th>\n",
              "      <th>Adj Close</th>\n",
              "    </tr>\n",
              "  </thead>\n",
              "  <tbody>\n",
              "    <tr>\n",
              "      <th>0</th>\n",
              "      <td>GGBR4.SA</td>\n",
              "      <td>2010-01-04</td>\n",
              "      <td>29.799999</td>\n",
              "      <td>29.280001</td>\n",
              "      <td>29.299999</td>\n",
              "      <td>29.600000</td>\n",
              "      <td>2827700.0</td>\n",
              "      <td>25.257845</td>\n",
              "    </tr>\n",
              "    <tr>\n",
              "      <th>1</th>\n",
              "      <td>GGBR4.SA</td>\n",
              "      <td>2010-01-05</td>\n",
              "      <td>30.170000</td>\n",
              "      <td>29.650000</td>\n",
              "      <td>29.740000</td>\n",
              "      <td>30.100000</td>\n",
              "      <td>4480400.0</td>\n",
              "      <td>25.684504</td>\n",
              "    </tr>\n",
              "    <tr>\n",
              "      <th>2</th>\n",
              "      <td>GGBR4.SA</td>\n",
              "      <td>2010-01-06</td>\n",
              "      <td>30.379999</td>\n",
              "      <td>29.860001</td>\n",
              "      <td>29.959999</td>\n",
              "      <td>30.299999</td>\n",
              "      <td>4499900.0</td>\n",
              "      <td>25.855158</td>\n",
              "    </tr>\n",
              "    <tr>\n",
              "      <th>3</th>\n",
              "      <td>GGBR4.SA</td>\n",
              "      <td>2010-01-07</td>\n",
              "      <td>30.379999</td>\n",
              "      <td>29.520000</td>\n",
              "      <td>30.100000</td>\n",
              "      <td>29.620001</td>\n",
              "      <td>5695900.0</td>\n",
              "      <td>25.274918</td>\n",
              "    </tr>\n",
              "    <tr>\n",
              "      <th>4</th>\n",
              "      <td>GGBR4.SA</td>\n",
              "      <td>2010-01-08</td>\n",
              "      <td>29.879999</td>\n",
              "      <td>29.350000</td>\n",
              "      <td>29.719999</td>\n",
              "      <td>29.540001</td>\n",
              "      <td>4269500.0</td>\n",
              "      <td>25.206648</td>\n",
              "    </tr>\n",
              "  </tbody>\n",
              "</table>\n",
              "</div>"
            ],
            "text/plain": [
              "     Ticker        Date       High  ...      Close     Volume  Adj Close\n",
              "0  GGBR4.SA  2010-01-04  29.799999  ...  29.600000  2827700.0  25.257845\n",
              "1  GGBR4.SA  2010-01-05  30.170000  ...  30.100000  4480400.0  25.684504\n",
              "2  GGBR4.SA  2010-01-06  30.379999  ...  30.299999  4499900.0  25.855158\n",
              "3  GGBR4.SA  2010-01-07  30.379999  ...  29.620001  5695900.0  25.274918\n",
              "4  GGBR4.SA  2010-01-08  29.879999  ...  29.540001  4269500.0  25.206648\n",
              "\n",
              "[5 rows x 8 columns]"
            ]
          },
          "metadata": {
            "tags": []
          },
          "execution_count": 59
        }
      ]
    },
    {
      "cell_type": "markdown",
      "metadata": {
        "id": "wxWZ3FBRxm47"
      },
      "source": [
        "No trecho a seguir filtramos a coluna \"Close\" do conjunto de dados, que apresenta o preço de fechamento da ação analisada, e calculamos a media e mediana dos primeiros 30 dias. A representação gráfica permite difenciarmos as duas medidas de posição."
      ]
    },
    {
      "cell_type": "code",
      "metadata": {
        "colab": {
          "base_uri": "https://localhost:8080/"
        },
        "id": "s7qtS7EHEJZi",
        "outputId": "2d52e48a-8c67-493b-f698-6dc5fcc2cb3a"
      },
      "source": [
        "media = acoes.Close[:30].mean()\n",
        "media"
      ],
      "execution_count": 60,
      "outputs": [
        {
          "output_type": "execute_result",
          "data": {
            "text/plain": [
              "27.25600020090739"
            ]
          },
          "metadata": {
            "tags": []
          },
          "execution_count": 60
        }
      ]
    },
    {
      "cell_type": "code",
      "metadata": {
        "colab": {
          "base_uri": "https://localhost:8080/"
        },
        "id": "mk_3ihijF992",
        "outputId": "1c85e709-8939-4b2c-fe87-3205969a044a"
      },
      "source": [
        "mediana = acoes.Close[:30].median()\n",
        "mediana"
      ],
      "execution_count": 61,
      "outputs": [
        {
          "output_type": "execute_result",
          "data": {
            "text/plain": [
              "26.46500015258789"
            ]
          },
          "metadata": {
            "tags": []
          },
          "execution_count": 61
        }
      ]
    },
    {
      "cell_type": "code",
      "metadata": {
        "colab": {
          "base_uri": "https://localhost:8080/",
          "height": 283
        },
        "id": "mTuGbajAEOx9",
        "outputId": "2604f761-3d4b-4bc2-d997-b101adffee46"
      },
      "source": [
        "plt.plot(acoes.Close[:30])\n",
        "plt.plot([media for k in range(0, len(acoes.Close[:30]))], '--')\n",
        "plt.plot([mediana for k in range(0, len(acoes.Close[:30]))], '.')\n",
        "plt.legend(['Preço', 'Média de Preços', 'Mediana de Preços'])"
      ],
      "execution_count": 62,
      "outputs": [
        {
          "output_type": "execute_result",
          "data": {
            "text/plain": [
              "<matplotlib.legend.Legend at 0x7f80b189ce90>"
            ]
          },
          "metadata": {
            "tags": []
          },
          "execution_count": 62
        },
        {
          "output_type": "display_data",
          "data": {
            "image/png": "[encoded data removed]",
            "text/plain": [
              "<Figure size 432x288 with 1 Axes>"
            ]
          },
          "metadata": {
            "tags": [],
            "needs_background": "light"
          }
        }
      ]
    },
    {
      "cell_type": "markdown",
      "metadata": {
        "id": "-kl9UHcmHqzG"
      },
      "source": [
        "##4.3 Análise de Frequência com Histograma e Box Plot"
      ]
    },
    {
      "cell_type": "markdown",
      "metadata": {
        "id": "TYBZ1NMj0Ck0"
      },
      "source": [
        "O gráfico de histograma permite analisar a distribuição de frequência dos dados ao longo das faixas de valores, exibindo barras verticais que representam a concentração de dados em cada faixa de valor. A intuição principal que se pode tirar na primeira visualização dos dados é tentar identificar a localização da maior concentração de dados, que indicaria o posicionamento do ponto médio daquele conjunto de dados.\n",
        "\n",
        "Outra análise importante é verificar a distribuição dos dados, para identificar se ela é simétrica (Figura 2), ou seja, aproximadamente metade dos dados estão respectivamente à direita e à esquerda do ponto médio.\n",
        "\n",
        "![Simétricos](https://upload.wikimedia.org/wikipedia/commons/1/15/Symmetric-histogram.png)\n",
        "\n",
        "Figura 2 - Distribuição simétrica\n",
        "\n",
        "---\n",
        "\n",
        "![Calda direita](https://upload.wikimedia.org/wikipedia/commons/1/12/Skewed-right.png)\n",
        "\n",
        "Figura 3 - Distribuição assimétrica (com calda) à direita\n",
        "\n",
        "---\n",
        "\n",
        "![Calda esquerda](https://upload.wikimedia.org/wikipedia/commons/7/7b/Skewed-left.png)\n",
        "\n",
        "Figura 4 - Distribuição assimétrica (com calda) à esquerda"
      ]
    },
    {
      "cell_type": "markdown",
      "metadata": {
        "id": "UNtsvBA37gfI"
      },
      "source": [
        "Continuando a análise do conjunto de dados de preço de ações, a seguir é apresentado o histograma do preço de fechamento de ações (Close) para o período completo."
      ]
    },
    {
      "cell_type": "code",
      "metadata": {
        "colab": {
          "base_uri": "https://localhost:8080/",
          "height": 297
        },
        "id": "HXj1YFvUyxz7",
        "outputId": "fc89ea62-fe46-4076-d82c-ee66e2f1c1f2"
      },
      "source": [
        "plt.hist(acoes.Close)\n",
        "plt.title('Histograma do Preço de Ações - Período Completo')\n",
        "plt.xlabel('Faixas de Valores')\n",
        "plt.ylabel('Contagem de Observações')"
      ],
      "execution_count": 73,
      "outputs": [
        {
          "output_type": "execute_result",
          "data": {
            "text/plain": [
              "Text(0, 0.5, 'Contagem de Observações')"
            ]
          },
          "metadata": {
            "tags": []
          },
          "execution_count": 73
        },
        {
          "output_type": "display_data",
          "data": {
            "image/png": "[encoded data removed]",
            "text/plain": [
              "<Figure size 432x288 with 1 Axes>"
            ]
          },
          "metadata": {
            "tags": [],
            "needs_background": "light"
          }
        }
      ]
    },
    {
      "cell_type": "markdown",
      "metadata": {
        "id": "E4hiB-1F7tRh"
      },
      "source": [
        "À primeira vista os dados parecem ser simétricos, mas uma observação atenta, indica que há valores discrepantes puxando um pouco a calda dos dados para esquerda.\n",
        "\n",
        "---\n",
        "\n",
        "A geração do boxplot pode confirmar ou rejeitar esta análise inicial. Como pode ser visto na visualização deste gráfico gerada para o mesmo período, de fato há *outliers* após o limite superior do gráfico."
      ]
    },
    {
      "cell_type": "code",
      "metadata": {
        "colab": {
          "base_uri": "https://localhost:8080/",
          "height": 410
        },
        "id": "29mjy_WXy_7b",
        "outputId": "52ed7682-a270-4c1d-9f9e-67418f702a77"
      },
      "source": [
        "plt.boxplot(acoes.Close)"
      ],
      "execution_count": 66,
      "outputs": [
        {
          "output_type": "execute_result",
          "data": {
            "text/plain": [
              "{'boxes': [<matplotlib.lines.Line2D at 0x7f80acb51810>],\n",
              " 'caps': [<matplotlib.lines.Line2D at 0x7f80acb57850>,\n",
              "  <matplotlib.lines.Line2D at 0x7f80acb57d90>],\n",
              " 'fliers': [<matplotlib.lines.Line2D at 0x7f80acb5f890>],\n",
              " 'means': [],\n",
              " 'medians': [<matplotlib.lines.Line2D at 0x7f80acb5f350>],\n",
              " 'whiskers': [<matplotlib.lines.Line2D at 0x7f80acb51d90>,\n",
              "  <matplotlib.lines.Line2D at 0x7f80acb57310>]}"
            ]
          },
          "metadata": {
            "tags": []
          },
          "execution_count": 66
        },
        {
          "output_type": "display_data",
          "data": {
            "image/png": "[encoded data removed]",
            "text/plain": [
              "<Figure size 432x288 with 1 Axes>"
            ]
          },
          "metadata": {
            "tags": [],
            "needs_background": "light"
          }
        }
      ]
    },
    {
      "cell_type": "markdown",
      "metadata": {
        "id": "rB9gstKW8Rxh"
      },
      "source": [
        "Agora é feito um *zoom* nos dados, filtrando apenas os primeiros 30 dias do período estudo. A geração dos mesmos dados, demonstram que a distribuição dos valores naquele período é bem diferente do comportamento dos dados quando analisado o período completo."
      ]
    },
    {
      "cell_type": "code",
      "metadata": {
        "colab": {
          "base_uri": "https://localhost:8080/",
          "height": 313
        },
        "id": "FEQ0OO1GD5mV",
        "outputId": "26b27da0-091a-4fe7-f15e-f5b6d969720a"
      },
      "source": [
        "dias = 30\n",
        "plt.hist(acoes.Close[:dias])\n",
        "plt.title(f'Histograma do Preço de Ações - Primeiros {dias} dias')\n",
        "plt.xlabel('Faixas de Valores')\n",
        "plt.ylabel('Contagem de Observações')"
      ],
      "execution_count": 76,
      "outputs": [
        {
          "output_type": "execute_result",
          "data": {
            "text/plain": [
              "Text(0, 0.5, 'Contagem de Observações')"
            ]
          },
          "metadata": {
            "tags": []
          },
          "execution_count": 76
        },
        {
          "output_type": "display_data",
          "data": {
            "image/png": "[encoded data removed]",
            "text/plain": [
              "<Figure size 432x288 with 1 Axes>"
            ]
          },
          "metadata": {
            "tags": [],
            "needs_background": "light"
          }
        }
      ]
    },
    {
      "cell_type": "code",
      "metadata": {
        "colab": {
          "base_uri": "https://localhost:8080/",
          "height": 410
        },
        "id": "mlNWajfiy6cL",
        "outputId": "cb4df6d5-a597-40de-98af-e529966e812d"
      },
      "source": [
        "plt.boxplot(acoes.Close[:30])"
      ],
      "execution_count": 65,
      "outputs": [
        {
          "output_type": "execute_result",
          "data": {
            "text/plain": [
              "{'boxes': [<matplotlib.lines.Line2D at 0x7f80acc24710>],\n",
              " 'caps': [<matplotlib.lines.Line2D at 0x7f80acdc24d0>,\n",
              "  <matplotlib.lines.Line2D at 0x7f80acba52d0>],\n",
              " 'fliers': [<matplotlib.lines.Line2D at 0x7f80acba5d90>],\n",
              " 'means': [],\n",
              " 'medians': [<matplotlib.lines.Line2D at 0x7f80acba5850>],\n",
              " 'whiskers': [<matplotlib.lines.Line2D at 0x7f80acc24b50>,\n",
              "  <matplotlib.lines.Line2D at 0x7f80acdc20d0>]}"
            ]
          },
          "metadata": {
            "tags": []
          },
          "execution_count": 65
        },
        {
          "output_type": "display_data",
          "data": {
            "image/png": "[encoded data removed]",
            "text/plain": [
              "<Figure size 432x288 with 1 Axes>"
            ]
          },
          "metadata": {
            "tags": [],
            "needs_background": "light"
          }
        }
      ]
    },
    {
      "cell_type": "markdown",
      "metadata": {
        "id": "SABp7Dmi8u_X"
      },
      "source": [
        "Por fim, carregamos outro conjunto de dados que apresenta o preço médio de casas no estado da Califórnia nos Estados Unidos e diversas características dos imóveis analisados que podem ser usadas em tarefas de regressão para predição do preço de novos imóveis.\n",
        "\n",
        "Aqui fazemos apenas a geração dos gráfico da distribuição do preço médio usando os mesmos gráficos de histograma e boxplot, para ilustrar que em cenários reais o comportamento dos dados pode ser bem diferente dos exemplos didáticos mais simples. Deixamos para seu estudo a análise do significado dos dois gráficos para este conjunto de dados."
      ]
    },
    {
      "cell_type": "code",
      "metadata": {
        "id": "qfMvyzNT-isW"
      },
      "source": [
        "arquivo = 'https://raw.githubusercontent.com/janiosl/python.ds/master/data/housing.csv'\n",
        "casas = pd.read_csv(arquivo)"
      ],
      "execution_count": 68,
      "outputs": []
    },
    {
      "cell_type": "code",
      "metadata": {
        "colab": {
          "base_uri": "https://localhost:8080/",
          "height": 204
        },
        "id": "2Q8vusQI-4Q8",
        "outputId": "14343759-cd8f-4ef5-b27b-c9fba719ef9f"
      },
      "source": [
        "casas.head()"
      ],
      "execution_count": 69,
      "outputs": [
        {
          "output_type": "execute_result",
          "data": {
            "text/html": [
              "<div>\n",
              "<style scoped>\n",
              "    .dataframe tbody tr th:only-of-type {\n",
              "        vertical-align: middle;\n",
              "    }\n",
              "\n",
              "    .dataframe tbody tr th {\n",
              "        vertical-align: top;\n",
              "    }\n",
              "\n",
              "    .dataframe thead th {\n",
              "        text-align: right;\n",
              "    }\n",
              "</style>\n",
              "<table border=\"1\" class=\"dataframe\">\n",
              "  <thead>\n",
              "    <tr style=\"text-align: right;\">\n",
              "      <th></th>\n",
              "      <th>longitude</th>\n",
              "      <th>latitude</th>\n",
              "      <th>housing_median_age</th>\n",
              "      <th>total_rooms</th>\n",
              "      <th>total_bedrooms</th>\n",
              "      <th>population</th>\n",
              "      <th>households</th>\n",
              "      <th>median_income</th>\n",
              "      <th>median_house_value</th>\n",
              "      <th>ocean_proximity</th>\n",
              "    </tr>\n",
              "  </thead>\n",
              "  <tbody>\n",
              "    <tr>\n",
              "      <th>0</th>\n",
              "      <td>-122.23</td>\n",
              "      <td>37.88</td>\n",
              "      <td>41.0</td>\n",
              "      <td>880.0</td>\n",
              "      <td>129.0</td>\n",
              "      <td>322.0</td>\n",
              "      <td>126.0</td>\n",
              "      <td>8.3252</td>\n",
              "      <td>452600.0</td>\n",
              "      <td>NEAR BAY</td>\n",
              "    </tr>\n",
              "    <tr>\n",
              "      <th>1</th>\n",
              "      <td>-122.22</td>\n",
              "      <td>37.86</td>\n",
              "      <td>21.0</td>\n",
              "      <td>7099.0</td>\n",
              "      <td>1106.0</td>\n",
              "      <td>2401.0</td>\n",
              "      <td>1138.0</td>\n",
              "      <td>8.3014</td>\n",
              "      <td>358500.0</td>\n",
              "      <td>NEAR BAY</td>\n",
              "    </tr>\n",
              "    <tr>\n",
              "      <th>2</th>\n",
              "      <td>-122.24</td>\n",
              "      <td>37.85</td>\n",
              "      <td>52.0</td>\n",
              "      <td>1467.0</td>\n",
              "      <td>190.0</td>\n",
              "      <td>496.0</td>\n",
              "      <td>177.0</td>\n",
              "      <td>7.2574</td>\n",
              "      <td>352100.0</td>\n",
              "      <td>NEAR BAY</td>\n",
              "    </tr>\n",
              "    <tr>\n",
              "      <th>3</th>\n",
              "      <td>-122.25</td>\n",
              "      <td>37.85</td>\n",
              "      <td>52.0</td>\n",
              "      <td>1274.0</td>\n",
              "      <td>235.0</td>\n",
              "      <td>558.0</td>\n",
              "      <td>219.0</td>\n",
              "      <td>5.6431</td>\n",
              "      <td>341300.0</td>\n",
              "      <td>NEAR BAY</td>\n",
              "    </tr>\n",
              "    <tr>\n",
              "      <th>4</th>\n",
              "      <td>-122.25</td>\n",
              "      <td>37.85</td>\n",
              "      <td>52.0</td>\n",
              "      <td>1627.0</td>\n",
              "      <td>280.0</td>\n",
              "      <td>565.0</td>\n",
              "      <td>259.0</td>\n",
              "      <td>3.8462</td>\n",
              "      <td>342200.0</td>\n",
              "      <td>NEAR BAY</td>\n",
              "    </tr>\n",
              "  </tbody>\n",
              "</table>\n",
              "</div>"
            ],
            "text/plain": [
              "   longitude  latitude  ...  median_house_value  ocean_proximity\n",
              "0    -122.23     37.88  ...            452600.0         NEAR BAY\n",
              "1    -122.22     37.86  ...            358500.0         NEAR BAY\n",
              "2    -122.24     37.85  ...            352100.0         NEAR BAY\n",
              "3    -122.25     37.85  ...            341300.0         NEAR BAY\n",
              "4    -122.25     37.85  ...            342200.0         NEAR BAY\n",
              "\n",
              "[5 rows x 10 columns]"
            ]
          },
          "metadata": {
            "tags": []
          },
          "execution_count": 69
        }
      ]
    },
    {
      "cell_type": "code",
      "metadata": {
        "colab": {
          "base_uri": "https://localhost:8080/",
          "height": 384
        },
        "id": "3TlAU4v1-y8Z",
        "outputId": "d9dbfca7-ef39-470a-e46e-0d3313061a5e"
      },
      "source": [
        "plt.hist(casas.housing_median_age, bins=20)"
      ],
      "execution_count": 70,
      "outputs": [
        {
          "output_type": "execute_result",
          "data": {
            "text/plain": [
              "(array([ 124.,  595.,  381.,  723.,  540., 1695., 1268., 1413.,  847.,\n",
              "        1663., 1420.,  934., 1869., 1686., 1300.,  600., 1077.,  539.,\n",
              "         509., 1457.]),\n",
              " array([ 1.  ,  3.55,  6.1 ,  8.65, 11.2 , 13.75, 16.3 , 18.85, 21.4 ,\n",
              "        23.95, 26.5 , 29.05, 31.6 , 34.15, 36.7 , 39.25, 41.8 , 44.35,\n",
              "        46.9 , 49.45, 52.  ]),\n",
              " <a list of 20 Patch objects>)"
            ]
          },
          "metadata": {
            "tags": []
          },
          "execution_count": 70
        },
        {
          "output_type": "display_data",
          "data": {
            "image/png": "[encoded data removed]",
            "text/plain": [
              "<Figure size 432x288 with 1 Axes>"
            ]
          },
          "metadata": {
            "tags": [],
            "needs_background": "light"
          }
        }
      ]
    },
    {
      "cell_type": "code",
      "metadata": {
        "colab": {
          "base_uri": "https://localhost:8080/",
          "height": 401
        },
        "id": "NQCiIVgQzPGj",
        "outputId": "a2355a07-ee43-40da-bbf7-160efd6cad9b"
      },
      "source": [
        "plt.boxplot(casas.housing_median_age)"
      ],
      "execution_count": 71,
      "outputs": [
        {
          "output_type": "execute_result",
          "data": {
            "text/plain": [
              "{'boxes': [<matplotlib.lines.Line2D at 0x7f80ac9f6fd0>],\n",
              " 'caps': [<matplotlib.lines.Line2D at 0x7f80ac9fefd0>,\n",
              "  <matplotlib.lines.Line2D at 0x7f80ac985550>],\n",
              " 'fliers': [<matplotlib.lines.Line2D at 0x7f80ac98d050>],\n",
              " 'means': [],\n",
              " 'medians': [<matplotlib.lines.Line2D at 0x7f80ac985ad0>],\n",
              " 'whiskers': [<matplotlib.lines.Line2D at 0x7f80ac9fe550>,\n",
              "  <matplotlib.lines.Line2D at 0x7f80ac9fea90>]}"
            ]
          },
          "metadata": {
            "tags": []
          },
          "execution_count": 71
        },
        {
          "output_type": "display_data",
          "data": {
            "image/png": "[encoded data removed]",
            "text/plain": [
              "<Figure size 432x288 with 1 Axes>"
            ]
          },
          "metadata": {
            "tags": [],
            "needs_background": "light"
          }
        }
      ]
    },
    {
      "cell_type": "markdown",
      "metadata": {
        "id": "yMAggkDn4SOD"
      },
      "source": [
        "#Referências e Links"
      ]
    },
    {
      "cell_type": "markdown",
      "metadata": {
        "id": "50mHrunu4UG9"
      },
      "source": [
        "**Referências**\n",
        "\n",
        "TOLEDO, Geraldo Luciano e OVALLE, Ivo Izidório (1985) Estatítisca Básica. São Paulo: Atlas*\n",
        "\n",
        "---\n",
        "\n",
        "**Material complementar**:\n",
        "* Cálculo e intuição sobre média harmônica: https://mundoeducacao.uol.com.br/matematica/media-harmonica.htm\n",
        "* Boxplot: https://pt.wikipedia.org/wiki/Diagrama_de_caixa\n",
        "* Histograma: https://pt.wikipedia.org/wiki/Histograma"
      ]
    }
  ]
}