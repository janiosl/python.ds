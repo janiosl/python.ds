{
  "nbformat": 4,
  "nbformat_minor": 0,
  "metadata": {
    "colab": {
      "name": "est_cap4_medidPos.ipynb",
      "provenance": [],
      "collapsed_sections": [
        "4CrteH0s1ECO",
        "BLWNzuyD0_1J",
        "OjYZVXRYbEZ2",
        "otbMDz1C50-u"
      ],
      "toc_visible": true,
      "authorship_tag": "ABX9TyP9vT+WFt1Eezv3erzN9pg6",
      "include_colab_link": true
    },
    "kernelspec": {
      "name": "python3",
      "display_name": "Python 3"
    }
  },
  "cells": [
    {
      "cell_type": "markdown",
      "metadata": {
        "id": "view-in-github",
        "colab_type": "text"
      },
      "source": [
        "<a href=\"https://colab.research.google.com/github/janiosl/python.ds/blob/master/estatistica/est_cap4_medidPos.ipynb\" target=\"_parent\"><img src=\"https://colab.research.google.com/assets/colab-badge.svg\" alt=\"Open In Colab\"/></a>"
      ]
    },
    {
      "cell_type": "markdown",
      "metadata": {
        "id": "1RdoMI9G4IiI"
      },
      "source": [
        "#**Medidas de Posição e Visualização de Medidas Estatística**\n",
        "\n",
        "Desenvolvido por: Janio de Souza Lima\n",
        "\n",
        "Exemplos baseados prioritariamente no livro Estatística Básica (Toledo e Ovale, 1985) com adaptações feitas a partir dos exercícios, das funções nativas de Python e algumas bibliotecas complementares.\n",
        "\n",
        "Detalhes no capítulo 4 do livro\n",
        "\n",
        "* **Estudo Dirigdo desse Notebook**: https://youtube.com/playlist?list=PL0XxTDj23A1F4-nrAMDlRxvZkKJmCw2Qb"
      ]
    },
    {
      "cell_type": "markdown",
      "metadata": {
        "id": "guljOAvr5oCG"
      },
      "source": [
        "#1 Médias"
      ]
    },
    {
      "cell_type": "markdown",
      "metadata": {
        "id": "4CrteH0s1ECO"
      },
      "source": [
        "##1.1 *Média* aritimética"
      ]
    },
    {
      "cell_type": "code",
      "metadata": {
        "id": "bSeTvAVS0-ds",
        "colab": {
          "base_uri": "https://localhost:8080/"
        },
        "outputId": "a0e66e03-ee71-4ebe-98af-a672dae457f2"
      },
      "source": [
        "\"\"\"\n",
        "Média aritimética\n",
        "Soma dos dados / n\n",
        "\"\"\"\n",
        "x = [10, 60, 360]\n",
        "media = sum(x) / len(x)\n",
        "media"
      ],
      "execution_count": 1,
      "outputs": [
        {
          "output_type": "execute_result",
          "data": {
            "text/plain": [
              "143.33333333333334"
            ]
          },
          "metadata": {
            "tags": []
          },
          "execution_count": 1
        }
      ]
    },
    {
      "cell_type": "markdown",
      "metadata": {
        "id": "gFsqQ4lK0kDR"
      },
      "source": [
        "Equação para cálculo da média aritimética:\n",
        "\n",
        "$\n",
        "\\hat{X} = \\frac{\\sum \\limits_{i=1}^{n}xi}{n}\n",
        "$"
      ]
    },
    {
      "cell_type": "code",
      "metadata": {
        "id": "nJCnpnec1MiN",
        "colab": {
          "base_uri": "https://localhost:8080/"
        },
        "outputId": "295a3c98-0ca1-42c7-cfb0-fe4174035db8"
      },
      "source": [
        "import numpy as np\n",
        "np.mean(x)"
      ],
      "execution_count": 2,
      "outputs": [
        {
          "output_type": "execute_result",
          "data": {
            "text/plain": [
              "143.33333333333334"
            ]
          },
          "metadata": {
            "tags": []
          },
          "execution_count": 2
        }
      ]
    },
    {
      "cell_type": "code",
      "metadata": {
        "id": "w7Ovri1DTCZO",
        "colab": {
          "base_uri": "https://localhost:8080/"
        },
        "outputId": "57b83c5e-c34b-4303-8b57-b06674a50bf5"
      },
      "source": [
        "\"\"\"\n",
        "Média aritimética ponderada\n",
        "soma(dados * pesos) / soma(pesos)\n",
        "\"\"\"\n",
        "pesos = [1, 2, 3, 4]\n",
        "notas = [8, 7, 9, 9]\n",
        "\n",
        "notasXpesos = [notas[i] * pesos[i] for i in range(0, len(notas))]\n",
        "media_pond = sum(notasXpesos) / sum(pesos)\n",
        "media_pond"
      ],
      "execution_count": 3,
      "outputs": [
        {
          "output_type": "execute_result",
          "data": {
            "text/plain": [
              "8.5"
            ]
          },
          "metadata": {
            "tags": []
          },
          "execution_count": 3
        }
      ]
    },
    {
      "cell_type": "markdown",
      "metadata": {
        "id": "BLWNzuyD0_1J"
      },
      "source": [
        "##1.2 Média Harmônica e Média Harmônica Ponderada\n"
      ]
    },
    {
      "cell_type": "code",
      "metadata": {
        "id": "tAq7ZUZj4Kcb"
      },
      "source": [
        "#Dados\n",
        "x = [10, 60, 360]\n",
        "y = [2, 2, 2, 2]"
      ],
      "execution_count": 4,
      "outputs": []
    },
    {
      "cell_type": "code",
      "metadata": {
        "id": "hg3pzHDO92PP",
        "colab": {
          "base_uri": "https://localhost:8080/"
        },
        "outputId": "ad61a66a-4904-479f-beb9-2b18df6ddc1e"
      },
      "source": [
        "\"\"\"\n",
        "Média harmônica (xh)\n",
        "xh = (1/(soma(1/xj)))\n",
        "xh = n/(sum(1/xj))\n",
        "Pág. 134 cap4 - Estatística Básica\n",
        "\"\"\"\n",
        "#Cálculo manual\n",
        "nX = len(x)\n",
        "somaX = (1 / x[0]) + (1 / x[1]) + (1 / x[2])\n",
        "print(f'Média harmônica = {nX} / {somaX:.4f}')"
      ],
      "execution_count": 5,
      "outputs": [
        {
          "output_type": "stream",
          "text": [
            "Média harmônica = 3 / 0.1194\n"
          ],
          "name": "stdout"
        }
      ]
    },
    {
      "cell_type": "code",
      "metadata": {
        "id": "L3ODGN-CpXGW"
      },
      "source": [
        "import numpy as np\n",
        "import statistics as sts"
      ],
      "execution_count": 6,
      "outputs": []
    },
    {
      "cell_type": "code",
      "metadata": {
        "id": "4_7G0utwpS7Z"
      },
      "source": [
        "c = [0.5, 0.7]"
      ],
      "execution_count": 7,
      "outputs": []
    },
    {
      "cell_type": "code",
      "metadata": {
        "colab": {
          "base_uri": "https://localhost:8080/"
        },
        "id": "Ys4ldVC0pbeg",
        "outputId": "d0c1dc47-d193-4609-e4d7-8b4829e53d74"
      },
      "source": [
        "sts.harmonic_mean(c)"
      ],
      "execution_count": 8,
      "outputs": [
        {
          "output_type": "execute_result",
          "data": {
            "text/plain": [
              "0.5833333333333334"
            ]
          },
          "metadata": {
            "tags": []
          },
          "execution_count": 8
        }
      ]
    },
    {
      "cell_type": "markdown",
      "metadata": {
        "id": "aB9exBVEzDZv"
      },
      "source": [
        "Equação para cálculo da média harmônica:\n",
        "\n",
        "$\n",
        "\\hat{X_h} = \\frac{n}{\\sum \\limits_{j=1}^{n}\\frac{1}{xj}}\n",
        "$"
      ]
    },
    {
      "cell_type": "code",
      "metadata": {
        "id": "CBk3onYF-e_H",
        "colab": {
          "base_uri": "https://localhost:8080/"
        },
        "outputId": "4a38d866-dd0e-4c40-d578-9db1d97a5fb8"
      },
      "source": [
        "xh = nX / somaX\n",
        "print(f'Média harmônica = {xh:.4f}')"
      ],
      "execution_count": 9,
      "outputs": [
        {
          "output_type": "stream",
          "text": [
            "Média harmônica = 25.1163\n"
          ],
          "name": "stdout"
        }
      ]
    },
    {
      "cell_type": "code",
      "metadata": {
        "id": "HT21HXgm-pE-",
        "colab": {
          "base_uri": "https://localhost:8080/"
        },
        "outputId": "096534c0-9c42-45c5-c8b1-e7acf8536001"
      },
      "source": [
        "#Cáculo com loop\n",
        "somaX = [(1 / x[k]) for k in range(0, len(x))]\n",
        "somaX = sum(somaX)\n",
        "\n",
        "xh = nX / somaX\n",
        "xh"
      ],
      "execution_count": 10,
      "outputs": [
        {
          "output_type": "execute_result",
          "data": {
            "text/plain": [
              "25.11627906976744"
            ]
          },
          "metadata": {
            "tags": []
          },
          "execution_count": 10
        }
      ]
    },
    {
      "cell_type": "code",
      "metadata": {
        "id": "DlknNjYQ_Z0L",
        "colab": {
          "base_uri": "https://localhost:8080/"
        },
        "outputId": "55ab4284-5cdc-450a-be3d-4764a4dc5b4e"
      },
      "source": [
        "nY = len(y)\n",
        "somaY = [(1 / y[k]) for k in range(0, len(y))]\n",
        "somaY = sum(somaY)\n",
        "yh = nY / somaY\n",
        "\n",
        "#Resultados\n",
        "print(f'Média harmônica = {nY} / {somaY:.4f}',\n",
        "      f'Média harmônica {yh:.4f}',\n",
        "      sep='\\n')"
      ],
      "execution_count": 11,
      "outputs": [
        {
          "output_type": "stream",
          "text": [
            "Média harmônica = 4 / 2.0000\n",
            "Média harmônica 2.0000\n"
          ],
          "name": "stdout"
        }
      ]
    },
    {
      "cell_type": "markdown",
      "metadata": {
        "id": "1bUHOv0-B-Up"
      },
      "source": [
        "Uma pessoa comprou 4 camisas a 30,00 por camisa e 2 camisas por 50,00 cada.\n",
        "*   120,00 em camisas de 30,00\n",
        "*   100,00 em camisas de 50,00   \n",
        "\n"
      ]
    },
    {
      "cell_type": "code",
      "metadata": {
        "id": "ikkSG9bj_4u3"
      },
      "source": [
        "#Dados\n",
        "gastos = [120, 100] #Ponderação (Preço x Quantidade)\n",
        "precos = [30, 50] #Dados\n",
        "quantidades = [4, 2]"
      ],
      "execution_count": 12,
      "outputs": []
    },
    {
      "cell_type": "code",
      "metadata": {
        "id": "64obLXykC5Gd",
        "colab": {
          "base_uri": "https://localhost:8080/"
        },
        "outputId": "807f142d-7f86-4aa0-f74a-a7df7dc948b3"
      },
      "source": [
        "\"\"\"\n",
        "Média harmônica ponderada\n",
        "xhP = 1 / (ponderacao / somaPonderacao)\n",
        "ponderacao = (peso1 * (1 / dado1) + ... + peson * (1 / dadon))\n",
        "\"\"\"\n",
        "somaGastos = sum(gastos)\n",
        "ponderacao = ((gastos[0] * (1 / precos[0])) + (gastos[1] * (1 / precos[1])))\n",
        "print(somaGastos, ponderacao)"
      ],
      "execution_count": 13,
      "outputs": [
        {
          "output_type": "stream",
          "text": [
            "220 6.0\n"
          ],
          "name": "stdout"
        }
      ]
    },
    {
      "cell_type": "code",
      "metadata": {
        "id": "uWE_2N-3EoLs",
        "colab": {
          "base_uri": "https://localhost:8080/"
        },
        "outputId": "ad6eb573-8c85-40c6-8143-19f8e96d1c46"
      },
      "source": [
        "precohP = 1  / (ponderacao / somaGastos)\n",
        "print(f'Média harmônica ponderada dos preçcos: {precohP:.2f}')"
      ],
      "execution_count": 14,
      "outputs": [
        {
          "output_type": "stream",
          "text": [
            "Média harmônica ponderada dos preçcos: 36.67\n"
          ],
          "name": "stdout"
        }
      ]
    },
    {
      "cell_type": "markdown",
      "metadata": {
        "id": "OjYZVXRYbEZ2"
      },
      "source": [
        "##1.3 Média Quadrática"
      ]
    },
    {
      "cell_type": "code",
      "metadata": {
        "id": "wMcizlLtbN57"
      },
      "source": [
        "\"\"\"\n",
        "Média quadrática simples\n",
        "mediaQ = raiz (soma(dados**2) / n)\n",
        "\"\"\"\n",
        "import numpy as np\n",
        "\n",
        "x = [2, 2, 2]\n",
        "y = [2, 3, 4, 5]"
      ],
      "execution_count": 15,
      "outputs": []
    },
    {
      "cell_type": "code",
      "metadata": {
        "id": "YTQdgQVJbu4P",
        "colab": {
          "base_uri": "https://localhost:8080/"
        },
        "outputId": "620ffdd3-71ea-42a5-bd4e-d529437b048e"
      },
      "source": [
        "nX = len(x)\n",
        "somaX2 = [x[k] ** 2 for k in range(0, len(x))]\n",
        "somaX2 = sum(somaX2)\n",
        "somaX2"
      ],
      "execution_count": 16,
      "outputs": [
        {
          "output_type": "execute_result",
          "data": {
            "text/plain": [
              "12"
            ]
          },
          "metadata": {
            "tags": []
          },
          "execution_count": 16
        }
      ]
    },
    {
      "cell_type": "code",
      "metadata": {
        "id": "BJ-S8qadcKGj",
        "colab": {
          "base_uri": "https://localhost:8080/"
        },
        "outputId": "ef57da95-65ec-4d5d-e09c-5ce2fd62eeca"
      },
      "source": [
        "mediaQ_x = np.sqrt(somaX2 / nX)\n",
        "print(f'Média quadrática de {x}: ')\n",
        "mediaQ_x"
      ],
      "execution_count": 17,
      "outputs": [
        {
          "output_type": "stream",
          "text": [
            "Média quadrática de [2, 2, 2]: \n"
          ],
          "name": "stdout"
        },
        {
          "output_type": "execute_result",
          "data": {
            "text/plain": [
              "2.0"
            ]
          },
          "metadata": {
            "tags": []
          },
          "execution_count": 17
        }
      ]
    },
    {
      "cell_type": "code",
      "metadata": {
        "id": "q9rncP7KcCa3",
        "colab": {
          "base_uri": "https://localhost:8080/"
        },
        "outputId": "3c24ddb1-d7a6-49a4-f31e-200c5f2f932b"
      },
      "source": [
        "nY = len(y)\n",
        "somaY2 = sum([y[k] ** 2\n",
        "              for k in range(0, len(y))\n",
        "              ])\n",
        "somaY2"
      ],
      "execution_count": 18,
      "outputs": [
        {
          "output_type": "execute_result",
          "data": {
            "text/plain": [
              "54"
            ]
          },
          "metadata": {
            "tags": []
          },
          "execution_count": 18
        }
      ]
    },
    {
      "cell_type": "code",
      "metadata": {
        "id": "1JZBz20jc2qP",
        "colab": {
          "base_uri": "https://localhost:8080/"
        },
        "outputId": "eacb47b9-6c27-4e62-93b2-385b0edf5e43"
      },
      "source": [
        "mediaQ_y = np.sqrt(somaY2 / nY)\n",
        "print(f'Média quadrática de {y}:')\n",
        "mediaQ_y"
      ],
      "execution_count": 19,
      "outputs": [
        {
          "output_type": "stream",
          "text": [
            "Média quadrática de [2, 3, 4, 5]:\n"
          ],
          "name": "stdout"
        },
        {
          "output_type": "execute_result",
          "data": {
            "text/plain": [
              "3.6742346141747673"
            ]
          },
          "metadata": {
            "tags": []
          },
          "execution_count": 19
        }
      ]
    },
    {
      "cell_type": "code",
      "metadata": {
        "id": "v807yYMhdCru",
        "colab": {
          "base_uri": "https://localhost:8080/"
        },
        "outputId": "2962fa37-144e-422b-8605-7be0ec231b75"
      },
      "source": [
        "\"\"\"\n",
        "Média quadrática ponderada\n",
        "mediaQP = raiz (soma(dados**2 * ponderacao)) / n\n",
        "\"\"\"\n",
        "dados = {3: 5,\n",
        "         5: 10,\n",
        "         7: 12,\n",
        "         9: 10,\n",
        "         11: 5}\n",
        "\n",
        "dados_list = [[3, 5, 7, 9, 11],\n",
        "              [5, 10, 12, 10, 5]\n",
        "              ]\n",
        "\n",
        "valores = list(dados.keys())\n",
        "valores"
      ],
      "execution_count": 20,
      "outputs": [
        {
          "output_type": "execute_result",
          "data": {
            "text/plain": [
              "[3, 5, 7, 9, 11]"
            ]
          },
          "metadata": {
            "tags": []
          },
          "execution_count": 20
        }
      ]
    },
    {
      "cell_type": "code",
      "metadata": {
        "id": "PDmmL_wyeVRN",
        "colab": {
          "base_uri": "https://localhost:8080/"
        },
        "outputId": "b4ff59ff-629f-463d-8b43-b1019e52a877"
      },
      "source": [
        "freq = list(dados.values())\n",
        "freq"
      ],
      "execution_count": 21,
      "outputs": [
        {
          "output_type": "execute_result",
          "data": {
            "text/plain": [
              "[5, 10, 12, 10, 5]"
            ]
          },
          "metadata": {
            "tags": []
          },
          "execution_count": 21
        }
      ]
    },
    {
      "cell_type": "code",
      "metadata": {
        "id": "wTtqN38kempf",
        "colab": {
          "base_uri": "https://localhost:8080/"
        },
        "outputId": "57a4ba9f-7914-4309-f83d-5cb236b83dc7"
      },
      "source": [
        "valores2 = [valores[k] ** 2 for k in range(0, len(valores))]\n",
        "valores2"
      ],
      "execution_count": 22,
      "outputs": [
        {
          "output_type": "execute_result",
          "data": {
            "text/plain": [
              "[9, 25, 49, 81, 121]"
            ]
          },
          "metadata": {
            "tags": []
          },
          "execution_count": 22
        }
      ]
    },
    {
      "cell_type": "code",
      "metadata": {
        "id": "a59-GSXcfZnZ",
        "colab": {
          "base_uri": "https://localhost:8080/"
        },
        "outputId": "6cc17fc9-6944-4690-c13c-c1794d64cb78"
      },
      "source": [
        "#variável para cálculo, não confundir com tamanho do conjunto de dados\n",
        "n = len(valores)\n",
        "val2Xfreq = [valores2[k] * freq[k] for k in range(0, n)]\n",
        "val2Xfreq"
      ],
      "execution_count": 23,
      "outputs": [
        {
          "output_type": "execute_result",
          "data": {
            "text/plain": [
              "[45, 250, 588, 810, 605]"
            ]
          },
          "metadata": {
            "tags": []
          },
          "execution_count": 23
        }
      ]
    },
    {
      "cell_type": "code",
      "metadata": {
        "id": "7BOpcwXup1xp",
        "colab": {
          "base_uri": "https://localhost:8080/"
        },
        "outputId": "635103b8-979d-48a3-8d8a-3e4a98124a37"
      },
      "source": [
        "sum(val2Xfreq)"
      ],
      "execution_count": 24,
      "outputs": [
        {
          "output_type": "execute_result",
          "data": {
            "text/plain": [
              "2298"
            ]
          },
          "metadata": {
            "tags": []
          },
          "execution_count": 24
        }
      ]
    },
    {
      "cell_type": "code",
      "metadata": {
        "id": "npkSIm-Wp4D2",
        "colab": {
          "base_uri": "https://localhost:8080/"
        },
        "outputId": "6a8b4e5c-c34e-46de-b779-158cd8c649f9"
      },
      "source": [
        "from pprint import pprint\n",
        "#Variável refere-se ao tamanho (n) do conjunto de dados\n",
        "nX = sum(freq)\n",
        "mediaQP_x = np.sqrt(sum(val2Xfreq) / nX)\n",
        "\n",
        "#Exibição dos resultados\n",
        "print(f'Média quadrática ponderada dos dados: {mediaQP_x:.3f}')\n",
        "print('Dados:\\nValor : Frequência')\n",
        "for k, v in dados.items():\n",
        "  print(f'{k:5}', f'{v:5}', sep=' : ')"
      ],
      "execution_count": 25,
      "outputs": [
        {
          "output_type": "stream",
          "text": [
            "Média quadrática ponderada dos dados: 7.397\n",
            "Dados:\n",
            "Valor : Frequência\n",
            "    3 :     5\n",
            "    5 :    10\n",
            "    7 :    12\n",
            "    9 :    10\n",
            "   11 :     5\n"
          ],
          "name": "stdout"
        }
      ]
    },
    {
      "cell_type": "markdown",
      "metadata": {
        "id": "otbMDz1C50-u"
      },
      "source": [
        "##1.4 Comparação de médias e relação empírica entre medidas de posição"
      ]
    },
    {
      "cell_type": "markdown",
      "metadata": {
        "id": "IbK5D76_yXXG"
      },
      "source": [
        "Cálculo da média aritimética do mesmo conjunto de dados para comparação das duas medidas."
      ]
    },
    {
      "cell_type": "code",
      "metadata": {
        "id": "bCn8nC6_yg8L",
        "colab": {
          "base_uri": "https://localhost:8080/"
        },
        "outputId": "0bc83ebe-e0d2-48c0-f90e-85adc91e6586"
      },
      "source": [
        "valXfreq = [valores[k] * freq[k] for k in range(0, n)]\n",
        "valXfreq"
      ],
      "execution_count": 26,
      "outputs": [
        {
          "output_type": "execute_result",
          "data": {
            "text/plain": [
              "[15, 50, 84, 90, 55]"
            ]
          },
          "metadata": {
            "tags": []
          },
          "execution_count": 26
        }
      ]
    },
    {
      "cell_type": "code",
      "metadata": {
        "id": "yNLtNWUqzM3y",
        "colab": {
          "base_uri": "https://localhost:8080/"
        },
        "outputId": "4eb0a431-b3f3-4158-b645-a762911a1e55"
      },
      "source": [
        "sum(valXfreq)"
      ],
      "execution_count": 27,
      "outputs": [
        {
          "output_type": "execute_result",
          "data": {
            "text/plain": [
              "294"
            ]
          },
          "metadata": {
            "tags": []
          },
          "execution_count": 27
        }
      ]
    },
    {
      "cell_type": "code",
      "metadata": {
        "id": "HuzbbuGqzPVk",
        "colab": {
          "base_uri": "https://localhost:8080/"
        },
        "outputId": "07c8ad72-da9e-4061-badd-1f51640d75bb"
      },
      "source": [
        "media_x = sum(valXfreq) / nX\n",
        "media_x"
      ],
      "execution_count": 28,
      "outputs": [
        {
          "output_type": "execute_result",
          "data": {
            "text/plain": [
              "7.0"
            ]
          },
          "metadata": {
            "tags": []
          },
          "execution_count": 28
        }
      ]
    },
    {
      "cell_type": "markdown",
      "metadata": {
        "id": "J3sk0VYjIO6B"
      },
      "source": [
        "Relação empírica entre média, moda e mediana\n",
        "\n",
        "De forma simplificada:\n",
        "*   Média: medida de tendência central para descrever resumidamente uma distribuição de frequência. Vide exemplos anteriores (diversas formas de obtenção) de um valor central dos dados\n",
        "*   Mo - Moda: valor mais frequente no conjunto de dados\n",
        "*   Md - Mediana: valor central do conjunto de dados em que ao menos 50% dos valores sejam iguais ou maiores a ela\n",
        "\n",
        "Condições para relações empíricas:\n",
        "1.   Distribuição unimodal;\n",
        "2.   Distribuição fracamente assimétrica;\n",
        "3.   Número de observações grande e pequena escala de unidades que divide a distribuição.\n",
        "\n",
        "Relações:\n",
        "* média = (3Md - Mo) / 2\n",
        "* Mo = 3md - 2media\n",
        "* Md = (2media + Mo) / 3\n"
      ]
    },
    {
      "cell_type": "markdown",
      "metadata": {
        "id": "dbEtNjhW6D_t"
      },
      "source": [
        "#2 Moda e Mediana"
      ]
    },
    {
      "cell_type": "code",
      "metadata": {
        "id": "W9cHx5m_JSV1"
      },
      "source": [
        "#Dados\n",
        "classes = ['5 |- 25',\n",
        "           '25 |- 45',\n",
        "           '45 |- 65',\n",
        "           '65 |- 85',\n",
        "           '85 |- 105',\n",
        "           '105 |- 125',\n",
        "           '125 |- 145',\n",
        "           '145 |- 165']\n",
        "k = 8\n",
        "usuarios_fj = [4, 6, 14, 26, 14, 8, 6, 2]\n",
        "n = sum(usuarios_fj)\n",
        "k = len(usuarios_fj)\n",
        "xj = [15, 35, 55, 75, 95, 115, 135, 155]\n",
        "usr_Acum_Fj = [4, 10, 24, 50, 64, 72, 78]"
      ],
      "execution_count": 29,
      "outputs": []
    },
    {
      "cell_type": "code",
      "metadata": {
        "id": "DIJ9MRKPKPw4",
        "colab": {
          "base_uri": "https://localhost:8080/"
        },
        "outputId": "23037690-83a3-409d-a432-f5dfbbf6963e"
      },
      "source": [
        "xjfj = [usuarios_fj[i] * xj[i] for i in range(0, len(usuarios_fj))]\n",
        "xjfj"
      ],
      "execution_count": 30,
      "outputs": [
        {
          "output_type": "execute_result",
          "data": {
            "text/plain": [
              "[60, 210, 770, 1950, 1330, 920, 810, 310]"
            ]
          },
          "metadata": {
            "tags": []
          },
          "execution_count": 30
        }
      ]
    },
    {
      "cell_type": "code",
      "metadata": {
        "id": "6FURu5UiLHDB",
        "colab": {
          "base_uri": "https://localhost:8080/"
        },
        "outputId": "87e2f698-2f90-41e1-eaa4-4988317ab97a"
      },
      "source": [
        "#Cálculo da média\n",
        "media = sum(xjfj) / n\n",
        "media"
      ],
      "execution_count": 31,
      "outputs": [
        {
          "output_type": "execute_result",
          "data": {
            "text/plain": [
              "79.5"
            ]
          },
          "metadata": {
            "tags": []
          },
          "execution_count": 31
        }
      ]
    },
    {
      "cell_type": "code",
      "metadata": {
        "id": "r0GUVzgQL1sq"
      },
      "source": [
        "#Mediana\n",
        "fMd = max(usuarios_fj) #Frequência da mediana\n",
        "posMd = usuarios_fj.index(fMd)\n",
        "classeMd = classes[posMd]\n",
        "l = 65 #Limite inferiro da classe mediana 65 |- 85\n",
        "c = 20 #Amplitude das classes\n",
        "eMd = n / 2 #Elemento mediano\n",
        "fAnt = usr_Acum_Fj[(usuarios_fj.index(fMd))-1] #Frequência anterior à mediana"
      ],
      "execution_count": 32,
      "outputs": []
    },
    {
      "cell_type": "code",
      "metadata": {
        "id": "mfcBy5M4M-Bi",
        "colab": {
          "base_uri": "https://localhost:8080/"
        },
        "outputId": "41b461f6-6b02-45df-c289-b71de75701c2"
      },
      "source": [
        "md = l + c * ((eMd - fAnt) / fMd)\n",
        "md"
      ],
      "execution_count": 33,
      "outputs": [
        {
          "output_type": "execute_result",
          "data": {
            "text/plain": [
              "77.3076923076923"
            ]
          },
          "metadata": {
            "tags": []
          },
          "execution_count": 33
        }
      ]
    },
    {
      "cell_type": "code",
      "metadata": {
        "id": "C4v98VIDNjou",
        "colab": {
          "base_uri": "https://localhost:8080/"
        },
        "outputId": "b17654c7-bd8b-4fbb-ecb9-4d979c3315c1"
      },
      "source": [
        "#Moda calculada\n",
        "\"\"\"\n",
        "mo = l + c * (delta1) / (datal1 + delta2)\n",
        "delta1 = freq. classe modal - freq. da classe anterior\n",
        "delta2 = freq. classe modal - freq. da classe posterior\n",
        "\"\"\"\n",
        "f_ant = usuarios_fj[(usuarios_fj.index(fMd)) - 1] #Freq. classe anterior\n",
        "f_post = usuarios_fj[(usuarios_fj.index(fMd)) + 1] #Freq. classe posterior\n",
        "delta1 = fMd - f_ant\n",
        "delta2 = fMd - f_post\n",
        "\n",
        "#Aplicação da fórmula\n",
        "mo = l + c * delta1 / (delta1 + delta2)\n",
        "mo"
      ],
      "execution_count": 34,
      "outputs": [
        {
          "output_type": "execute_result",
          "data": {
            "text/plain": [
              "75.0"
            ]
          },
          "metadata": {
            "tags": []
          },
          "execution_count": 34
        }
      ]
    },
    {
      "cell_type": "code",
      "metadata": {
        "id": "SOS-o8GqRmZl",
        "colab": {
          "base_uri": "https://localhost:8080/"
        },
        "outputId": "06a6241f-b03f-4fdc-c262-7dee902fe025"
      },
      "source": [
        "#Moda pela relação empírica\n",
        "mo_emp = 3 * md - 2 * media\n",
        "mo_emp"
      ],
      "execution_count": 35,
      "outputs": [
        {
          "output_type": "execute_result",
          "data": {
            "text/plain": [
              "72.9230769230769"
            ]
          },
          "metadata": {
            "tags": []
          },
          "execution_count": 35
        }
      ]
    },
    {
      "cell_type": "code",
      "metadata": {
        "id": "WPzANf6FNq6p",
        "colab": {
          "base_uri": "https://localhost:8080/"
        },
        "outputId": "d8af023d-4f20-495d-dc89-87a885caec47"
      },
      "source": [
        "#Mediana pela relação empírica\n",
        "md_emp = (2 * media + mo) / 3\n",
        "md_emp"
      ],
      "execution_count": 36,
      "outputs": [
        {
          "output_type": "execute_result",
          "data": {
            "text/plain": [
              "78.0"
            ]
          },
          "metadata": {
            "tags": []
          },
          "execution_count": 36
        }
      ]
    },
    {
      "cell_type": "code",
      "metadata": {
        "id": "SRpmnV77Nbvb",
        "colab": {
          "base_uri": "https://localhost:8080/"
        },
        "outputId": "5c333d84-6a7e-4850-a164-da431769efe2"
      },
      "source": [
        "#Média pela relação empírica\n",
        "media_emp = (3 * md - mo) / 2\n",
        "media_emp"
      ],
      "execution_count": 37,
      "outputs": [
        {
          "output_type": "execute_result",
          "data": {
            "text/plain": [
              "78.46153846153845"
            ]
          },
          "metadata": {
            "tags": []
          },
          "execution_count": 37
        }
      ]
    },
    {
      "cell_type": "code",
      "metadata": {
        "id": "v016FaUNEiyN",
        "colab": {
          "base_uri": "https://localhost:8080/"
        },
        "outputId": "d0dd0278-55b3-4bc2-9dc2-adac18f5020c"
      },
      "source": [
        "\"\"\"\n",
        "As bibliotecas numpy e estatistics tem métodos para cálculo destas medidas\n",
        "de forma direta e simplificada\n",
        "\"\"\"\n",
        "import statistics as sts\n",
        "\n",
        "dados = [10, 10, 25, 32, 5]\n",
        "\n",
        "print('Média Mediana Moda\\n', np.mean(dados),\n",
        "      np.median(dados),\n",
        "      sts.mode(dados)\n",
        "      )"
      ],
      "execution_count": 38,
      "outputs": [
        {
          "output_type": "stream",
          "text": [
            "Média Mediana Moda\n",
            " 16.4 10.0 10\n"
          ],
          "name": "stdout"
        }
      ]
    },
    {
      "cell_type": "code",
      "metadata": {
        "id": "-wvNOi58FwD0",
        "colab": {
          "base_uri": "https://localhost:8080/",
          "height": 35
        },
        "outputId": "a291bc50-2c40-4714-e105-e636b98742be"
      },
      "source": [
        "listaItens = ['SP', 'RJ','MG','SP','TO','RS','SC','SP','SC']\n",
        "sts.mode(listaItens)"
      ],
      "execution_count": 39,
      "outputs": [
        {
          "output_type": "execute_result",
          "data": {
            "application/vnd.google.colaboratory.intrinsic+json": {
              "type": "string"
            },
            "text/plain": [
              "'SP'"
            ]
          },
          "metadata": {
            "tags": []
          },
          "execution_count": 39
        }
      ]
    },
    {
      "cell_type": "code",
      "metadata": {
        "id": "tS4j8KOgF-_G"
      },
      "source": [
        "\"\"\"\n",
        "Usar statistics.mode() com este conjunto de dados retorna um erro porque há mais de uma\n",
        "moda.\n",
        "Usar scipy.stats retorna apenas o menor valor entre as modas\n",
        "\"\"\"\n",
        "lista = [2, 5, 7, 4, 1, 9, 5, 9, 2, 6, 7, 9, 4, 3, 5, 7]\n",
        "#sts.mode(lista)\n",
        "from scipy import stats as s\n",
        "moda = s.mode(lista, axis=None)"
      ],
      "execution_count": 40,
      "outputs": []
    },
    {
      "cell_type": "code",
      "metadata": {
        "id": "7F49D1enF_tv",
        "colab": {
          "base_uri": "https://localhost:8080/"
        },
        "outputId": "889a88dc-9730-4514-aa62-6d5d39a7d730"
      },
      "source": [
        "moda"
      ],
      "execution_count": 41,
      "outputs": [
        {
          "output_type": "execute_result",
          "data": {
            "text/plain": [
              "ModeResult(mode=array([5]), count=array([3]))"
            ]
          },
          "metadata": {
            "tags": []
          },
          "execution_count": 41
        }
      ]
    },
    {
      "cell_type": "code",
      "metadata": {
        "id": "vV00Qy24G0KK",
        "colab": {
          "base_uri": "https://localhost:8080/"
        },
        "outputId": "71e356eb-e6ba-48d8-ed76-a39bea8856ef"
      },
      "source": [
        "moda[0]"
      ],
      "execution_count": 42,
      "outputs": [
        {
          "output_type": "execute_result",
          "data": {
            "text/plain": [
              "array([5])"
            ]
          },
          "metadata": {
            "tags": []
          },
          "execution_count": 42
        }
      ]
    },
    {
      "cell_type": "code",
      "metadata": {
        "id": "4yBxxI4MG9nF",
        "colab": {
          "base_uri": "https://localhost:8080/"
        },
        "outputId": "26d3b732-d2d0-417f-f9d5-fe47887c8666"
      },
      "source": [
        "#Para verificar as múltiplas modas, usamos Counter e observamos most_common\n",
        "from collections import Counter\n",
        "freq_lista = Counter(lista)\n",
        "freq_lista.most_common()"
      ],
      "execution_count": 43,
      "outputs": [
        {
          "output_type": "execute_result",
          "data": {
            "text/plain": [
              "[(5, 3), (7, 3), (9, 3), (2, 2), (4, 2), (1, 1), (6, 1), (3, 1)]"
            ]
          },
          "metadata": {
            "tags": []
          },
          "execution_count": 43
        }
      ]
    },
    {
      "cell_type": "markdown",
      "metadata": {
        "id": "0YFLwOQQJTQa"
      },
      "source": [
        "Como observado, as múltiplas modas do conjunto de dados são 5, 7 e 9, todas com 3 ocorrências cada."
      ]
    },
    {
      "cell_type": "code",
      "metadata": {
        "id": "UAODFrqLG8aL",
        "colab": {
          "base_uri": "https://localhost:8080/"
        },
        "outputId": "a2563922-f85a-4139-a8ae-8e016f1d5a9a"
      },
      "source": [
        "#Mediana\n",
        "np.median(lista)"
      ],
      "execution_count": 44,
      "outputs": [
        {
          "output_type": "execute_result",
          "data": {
            "text/plain": [
              "5.0"
            ]
          },
          "metadata": {
            "tags": []
          },
          "execution_count": 44
        }
      ]
    },
    {
      "cell_type": "code",
      "metadata": {
        "id": "Axk5iHzxG4FC",
        "colab": {
          "base_uri": "https://localhost:8080/"
        },
        "outputId": "a590f2cf-04ea-454f-ad67-2c123a283bb1"
      },
      "source": [
        "#Média\n",
        "np.mean(lista)"
      ],
      "execution_count": 45,
      "outputs": [
        {
          "output_type": "execute_result",
          "data": {
            "text/plain": [
              "5.3125"
            ]
          },
          "metadata": {
            "tags": []
          },
          "execution_count": 45
        }
      ]
    },
    {
      "cell_type": "markdown",
      "metadata": {
        "id": "iNJQfTPG6cXS"
      },
      "source": [
        "#3 Quartis, decis e percentis ou centis"
      ]
    },
    {
      "cell_type": "markdown",
      "metadata": {
        "id": "n47gzzHlKKCi"
      },
      "source": [
        "Medidas dividem os dados em partes iguais:\n",
        "*   Quartis: quatro partes\n",
        "*   Decis: dez partes\n",
        "*   Centis: cem partes\n",
        "\n",
        "\n",
        "\n"
      ]
    },
    {
      "cell_type": "code",
      "metadata": {
        "id": "l_hXr1NVKPdW",
        "colab": {
          "base_uri": "https://localhost:8080/"
        },
        "outputId": "350d0d2a-c7a7-4ea4-cc99-81062e324fac"
      },
      "source": [
        "import pandas as pd\n",
        "serie = pd.Series(lista)\n",
        "serie"
      ],
      "execution_count": 46,
      "outputs": [
        {
          "output_type": "execute_result",
          "data": {
            "text/plain": [
              "0     2\n",
              "1     5\n",
              "2     7\n",
              "3     4\n",
              "4     1\n",
              "5     9\n",
              "6     5\n",
              "7     9\n",
              "8     2\n",
              "9     6\n",
              "10    7\n",
              "11    9\n",
              "12    4\n",
              "13    3\n",
              "14    5\n",
              "15    7\n",
              "dtype: int64"
            ]
          },
          "metadata": {
            "tags": []
          },
          "execution_count": 46
        }
      ]
    },
    {
      "cell_type": "markdown",
      "metadata": {
        "id": "-B9xuE5rR2nN"
      },
      "source": [
        "Qp={x(np)+1:n --> se np não é inteiro\n",
        "\n",
        "1/2(xnp:n+xnp+1:n) --> se np é inteiro"
      ]
    },
    {
      "cell_type": "code",
      "metadata": {
        "id": "ao9P_UazLJ9l",
        "colab": {
          "base_uri": "https://localhost:8080/"
        },
        "outputId": "4c874422-b258-4aee-cd0f-6225695d54e8"
      },
      "source": [
        "#Quartis\n",
        "quartis = list(np.quantile(serie, [0.25, 0.5, 0.75, 1]))\n",
        "quartis"
      ],
      "execution_count": 47,
      "outputs": [
        {
          "output_type": "execute_result",
          "data": {
            "text/plain": [
              "[3.75, 5.0, 7.0, 9.0]"
            ]
          },
          "metadata": {
            "tags": []
          },
          "execution_count": 47
        }
      ]
    },
    {
      "cell_type": "code",
      "metadata": {
        "id": "ugeCHMvHRlup",
        "colab": {
          "base_uri": "https://localhost:8080/"
        },
        "outputId": "dc30f26e-b288-48b1-cacf-c1fd1cebeb5a"
      },
      "source": [
        "#Cálculos manual\n",
        "lista_ord = sorted(lista)\n",
        "n = len(lista_ord)\n",
        "lista_ord"
      ],
      "execution_count": 48,
      "outputs": [
        {
          "output_type": "execute_result",
          "data": {
            "text/plain": [
              "[1, 2, 2, 3, 4, 4, 5, 5, 5, 6, 7, 7, 7, 9, 9, 9]"
            ]
          },
          "metadata": {
            "tags": []
          },
          "execution_count": 48
        }
      ]
    },
    {
      "cell_type": "code",
      "metadata": {
        "id": "4nrTB8WxTbEJ",
        "colab": {
          "base_uri": "https://localhost:8080/"
        },
        "outputId": "ca1beaf9-3a1f-45f6-93db-120b06017853"
      },
      "source": [
        "q1_m = int(n / 4)\n",
        "q2_m = int((2 * n) / 4)\n",
        "q3_m = int((3 * n) / 4)\n",
        "print('Quartis:\\n', q1_m, q2_m, q3_m)"
      ],
      "execution_count": 49,
      "outputs": [
        {
          "output_type": "stream",
          "text": [
            "Quartis:\n",
            " 4 8 12\n"
          ],
          "name": "stdout"
        }
      ]
    },
    {
      "cell_type": "code",
      "metadata": {
        "id": "Fiu0dkQeUP5A",
        "colab": {
          "base_uri": "https://localhost:8080/"
        },
        "outputId": "a47c8ecf-edc6-4936-a90b-1b61734f47cf"
      },
      "source": [
        "lista_por_quartis = []\n",
        "lista_por_quartis.append([lista_ord[k] for k in range(0, q1_m)])\n",
        "lista_por_quartis.append([lista_ord[k] for k in range(0, q2_m)])\n",
        "lista_por_quartis.append([lista_ord[k] for k in range(0, q3_m)])\n",
        "lista_por_quartis"
      ],
      "execution_count": 50,
      "outputs": [
        {
          "output_type": "execute_result",
          "data": {
            "text/plain": [
              "[[1, 2, 2, 3], [1, 2, 2, 3, 4, 4, 5, 5], [1, 2, 2, 3, 4, 4, 5, 5, 5, 6, 7, 7]]"
            ]
          },
          "metadata": {
            "tags": []
          },
          "execution_count": 50
        }
      ]
    },
    {
      "cell_type": "code",
      "metadata": {
        "id": "9D-rjvY4NJVD",
        "colab": {
          "base_uri": "https://localhost:8080/"
        },
        "outputId": "5ad6b554-a34f-4bd2-cb3b-29b89ad4d57b"
      },
      "source": [
        "q1 = [lista[k]\n",
        "      for k in range(0, len(lista))\n",
        "      if lista[k] <= quartis[0]]\n",
        "q1"
      ],
      "execution_count": 51,
      "outputs": [
        {
          "output_type": "execute_result",
          "data": {
            "text/plain": [
              "[2, 1, 2, 3]"
            ]
          },
          "metadata": {
            "tags": []
          },
          "execution_count": 51
        }
      ]
    },
    {
      "cell_type": "code",
      "metadata": {
        "id": "osbaL0VoNhqI",
        "colab": {
          "base_uri": "https://localhost:8080/"
        },
        "outputId": "ba505d44-27a3-487a-b8c2-80680e0830c8"
      },
      "source": [
        "q2 = [lista[k]\n",
        "      for k in range(0, len(lista))\n",
        "      if lista[k] > quartis[0] and lista[k] <= quartis[1]]\n",
        "q2"
      ],
      "execution_count": 52,
      "outputs": [
        {
          "output_type": "execute_result",
          "data": {
            "text/plain": [
              "[5, 4, 5, 4, 5]"
            ]
          },
          "metadata": {
            "tags": []
          },
          "execution_count": 52
        }
      ]
    },
    {
      "cell_type": "code",
      "metadata": {
        "id": "mOJHsUsrNOHR",
        "colab": {
          "base_uri": "https://localhost:8080/"
        },
        "outputId": "aaabd224-9f3e-4afc-c00e-a6e39d0746a3"
      },
      "source": [
        "q3 = [lista[k]\n",
        "      for k in range(0, len(lista))\n",
        "      if lista[k] > quartis[1] and lista[k] <= quartis[2]]\n",
        "q3"
      ],
      "execution_count": 53,
      "outputs": [
        {
          "output_type": "execute_result",
          "data": {
            "text/plain": [
              "[7, 6, 7, 7]"
            ]
          },
          "metadata": {
            "tags": []
          },
          "execution_count": 53
        }
      ]
    },
    {
      "cell_type": "code",
      "metadata": {
        "id": "LnDPEop6NQEp",
        "colab": {
          "base_uri": "https://localhost:8080/"
        },
        "outputId": "9c5dec93-3e4e-4274-8778-1d4c45f186b2"
      },
      "source": [
        "q4 = [lista[k]\n",
        "      for k in range(0, len(lista))\n",
        "      if lista[k] > quartis[2]]\n",
        "q4"
      ],
      "execution_count": 54,
      "outputs": [
        {
          "output_type": "execute_result",
          "data": {
            "text/plain": [
              "[9, 9, 9]"
            ]
          },
          "metadata": {
            "tags": []
          },
          "execution_count": 54
        }
      ]
    },
    {
      "cell_type": "code",
      "metadata": {
        "id": "r3IaE3OGNCtj",
        "colab": {
          "base_uri": "https://localhost:8080/"
        },
        "outputId": "dc28d880-ddad-4c3a-990b-cebc83f66662"
      },
      "source": [
        "#Organizando dados para conferência\n",
        "sorted(lista)"
      ],
      "execution_count": 55,
      "outputs": [
        {
          "output_type": "execute_result",
          "data": {
            "text/plain": [
              "[1, 2, 2, 3, 4, 4, 5, 5, 5, 6, 7, 7, 7, 9, 9, 9]"
            ]
          },
          "metadata": {
            "tags": []
          },
          "execution_count": 55
        }
      ]
    },
    {
      "cell_type": "markdown",
      "metadata": {
        "id": "ILXSNaz4-dLx"
      },
      "source": [
        "#4 Visualização gráfica de medidas estatísticas"
      ]
    },
    {
      "cell_type": "code",
      "metadata": {
        "id": "mi2qixCX72Ui"
      },
      "source": [
        "from matplotlib import pyplot as plt"
      ],
      "execution_count": 56,
      "outputs": []
    },
    {
      "cell_type": "markdown",
      "metadata": {
        "id": "87asOlZy_Gqe"
      },
      "source": [
        "##4.1 Quartis através do Box Plot"
      ]
    },
    {
      "cell_type": "markdown",
      "metadata": {
        "id": "rFqU6srX3tZS"
      },
      "source": [
        "A figura 1 exibe um boxplot e os principais elementos estatísticos que ele representa. Como pode ser visto, sua análise permite de forma simplificada identificar diversas informações sobre o conjunto de dados estudo.\n",
        "\n",
        "Dois elementos principais devem chamar a atenção assim que o gráfico é gerado:\n",
        "* Primeiramente deve-se buscar identificar se há valores acima do limite superior ou abaixo do limite inferior, o que indica que há *outliers* (valores discrepantes) no conjunto de dados que necessitem de tratamento seja pela sua remoção ou pela identificação do motivo de sua existência, conforme o tipo de análise que se deseja efetuar.\n",
        "* Em seguida deve ser analisada a posição da reta que corta a \"caixa\", pois esta indica a mediana dos dados e a partir dela fica visualmente mais fácil analisar a distribuição, pois um segmento de caixa maior para um lado ou para outro indica uma maior ou menor concentração dos dados naquela faixa de valores.\n",
        "\n",
        "![boxplot](https://upload.wikimedia.org/wikipedia/commons/c/c9/Elements_of_a_boxplot_pt.svg)\n",
        "\n",
        "Figura 1 - Medidas estatísticas em um boxplot\n",
        "\n",
        "Por fim, além das duas análises iniciais, uma vez identificação a presença ou ausência de *outliers* e a mediana do conjunto de dados, pode-se analisar com mais detalhes a distribuição dos dados pelos quartis."
      ]
    },
    {
      "cell_type": "code",
      "metadata": {
        "colab": {
          "base_uri": "https://localhost:8080/"
        },
        "id": "88vw5m64eeD3",
        "outputId": "e3a1b5e1-3e58-4b25-a374-a98581d41d34"
      },
      "source": [
        "#Relembrando os valores da lista (organizada de maneira ordenada)\n",
        "sorted(lista)"
      ],
      "execution_count": 57,
      "outputs": [
        {
          "output_type": "execute_result",
          "data": {
            "text/plain": [
              "[1, 2, 2, 3, 4, 4, 5, 5, 5, 6, 7, 7, 7, 9, 9, 9]"
            ]
          },
          "metadata": {
            "tags": []
          },
          "execution_count": 57
        }
      ]
    },
    {
      "cell_type": "code",
      "metadata": {
        "colab": {
          "base_uri": "https://localhost:8080/",
          "height": 401
        },
        "id": "QCC5Mh0y75Mh",
        "outputId": "5c244c67-d035-447d-ea48-41df15547e93"
      },
      "source": [
        "#Visualização Gráfica dos quartis através do Box Plot\n",
        "plt.boxplot(lista)"
      ],
      "execution_count": 58,
      "outputs": [
        {
          "output_type": "execute_result",
          "data": {
            "text/plain": [
              "{'boxes': [<matplotlib.lines.Line2D at 0x7f6a41c8d150>],\n",
              " 'caps': [<matplotlib.lines.Line2D at 0x7f6a41c9a210>,\n",
              "  <matplotlib.lines.Line2D at 0x7f6a41c9a750>],\n",
              " 'fliers': [<matplotlib.lines.Line2D at 0x7f6a41c806d0>],\n",
              " 'means': [],\n",
              " 'medians': [<matplotlib.lines.Line2D at 0x7f6a41c9acd0>],\n",
              " 'whiskers': [<matplotlib.lines.Line2D at 0x7f6a41c8d750>,\n",
              "  <matplotlib.lines.Line2D at 0x7f6a41c8dc90>]}"
            ]
          },
          "metadata": {
            "tags": []
          },
          "execution_count": 58
        },
        {
          "output_type": "display_data",
          "data": {
            "image/png": "[encoded data removed]",
            "text/plain": [
              "<Figure size 432x288 with 1 Axes>"
            ]
          },
          "metadata": {
            "tags": [],
            "needs_background": "light"
          }
        }
      ]
    },
    {
      "cell_type": "markdown",
      "metadata": {
        "id": "kQRPvclZ696Q"
      },
      "source": [
        "Neste gráfico, analisamos a lista com o conjunto de dados simplificado usado na seção anterior. Se ele for analisado de acordo com as recomendações anteriores, podemos perceber que a distribuição dos valores nos quartis coincidem com os cálculos manuais que foram apresentados na seção 3.\n",
        "\n",
        "---\n",
        "\n",
        "Retornaremos ao gráfico de boxplot com conjunto de dados mais complexos na análise de frequência, como complemento à análise de histograma."
      ]
    },
    {
      "cell_type": "markdown",
      "metadata": {
        "id": "FM-bxnL1_LRf"
      },
      "source": [
        "##4.2 Média e mediana"
      ]
    },
    {
      "cell_type": "code",
      "metadata": {
        "id": "_SJoCtDFE0au"
      },
      "source": [
        "#Biblioteca para carga de dados\n",
        "import pandas as pd"
      ],
      "execution_count": 59,
      "outputs": []
    },
    {
      "cell_type": "code",
      "metadata": {
        "colab": {
          "base_uri": "https://localhost:8080/",
          "height": 204
        },
        "id": "bI9n-pK6DzSI",
        "outputId": "84a0b090-7700-452f-a7af-9749f614958b"
      },
      "source": [
        "arquivo = 'https://raw.githubusercontent.com/janiosl/python.ds/master/data/yahoo_stock_12-12-2020.csv'\n",
        "acoes = pd.read_csv(arquivo)\n",
        "acoes.head()"
      ],
      "execution_count": 60,
      "outputs": [
        {
          "output_type": "execute_result",
          "data": {
            "text/html": [
              "<div>\n",
              "<style scoped>\n",
              "    .dataframe tbody tr th:only-of-type {\n",
              "        vertical-align: middle;\n",
              "    }\n",
              "\n",
              "    .dataframe tbody tr th {\n",
              "        vertical-align: top;\n",
              "    }\n",
              "\n",
              "    .dataframe thead th {\n",
              "        text-align: right;\n",
              "    }\n",
              "</style>\n",
              "<table border=\"1\" class=\"dataframe\">\n",
              "  <thead>\n",
              "    <tr style=\"text-align: right;\">\n",
              "      <th></th>\n",
              "      <th>Ticker</th>\n",
              "      <th>Date</th>\n",
              "      <th>High</th>\n",
              "      <th>Low</th>\n",
              "      <th>Open</th>\n",
              "      <th>Close</th>\n",
              "      <th>Volume</th>\n",
              "      <th>Adj Close</th>\n",
              "    </tr>\n",
              "  </thead>\n",
              "  <tbody>\n",
              "    <tr>\n",
              "      <th>0</th>\n",
              "      <td>GGBR4.SA</td>\n",
              "      <td>2010-01-04</td>\n",
              "      <td>29.799999</td>\n",
              "      <td>29.280001</td>\n",
              "      <td>29.299999</td>\n",
              "      <td>29.600000</td>\n",
              "      <td>2827700.0</td>\n",
              "      <td>25.257845</td>\n",
              "    </tr>\n",
              "    <tr>\n",
              "      <th>1</th>\n",
              "      <td>GGBR4.SA</td>\n",
              "      <td>2010-01-05</td>\n",
              "      <td>30.170000</td>\n",
              "      <td>29.650000</td>\n",
              "      <td>29.740000</td>\n",
              "      <td>30.100000</td>\n",
              "      <td>4480400.0</td>\n",
              "      <td>25.684504</td>\n",
              "    </tr>\n",
              "    <tr>\n",
              "      <th>2</th>\n",
              "      <td>GGBR4.SA</td>\n",
              "      <td>2010-01-06</td>\n",
              "      <td>30.379999</td>\n",
              "      <td>29.860001</td>\n",
              "      <td>29.959999</td>\n",
              "      <td>30.299999</td>\n",
              "      <td>4499900.0</td>\n",
              "      <td>25.855158</td>\n",
              "    </tr>\n",
              "    <tr>\n",
              "      <th>3</th>\n",
              "      <td>GGBR4.SA</td>\n",
              "      <td>2010-01-07</td>\n",
              "      <td>30.379999</td>\n",
              "      <td>29.520000</td>\n",
              "      <td>30.100000</td>\n",
              "      <td>29.620001</td>\n",
              "      <td>5695900.0</td>\n",
              "      <td>25.274918</td>\n",
              "    </tr>\n",
              "    <tr>\n",
              "      <th>4</th>\n",
              "      <td>GGBR4.SA</td>\n",
              "      <td>2010-01-08</td>\n",
              "      <td>29.879999</td>\n",
              "      <td>29.350000</td>\n",
              "      <td>29.719999</td>\n",
              "      <td>29.540001</td>\n",
              "      <td>4269500.0</td>\n",
              "      <td>25.206648</td>\n",
              "    </tr>\n",
              "  </tbody>\n",
              "</table>\n",
              "</div>"
            ],
            "text/plain": [
              "     Ticker        Date       High  ...      Close     Volume  Adj Close\n",
              "0  GGBR4.SA  2010-01-04  29.799999  ...  29.600000  2827700.0  25.257845\n",
              "1  GGBR4.SA  2010-01-05  30.170000  ...  30.100000  4480400.0  25.684504\n",
              "2  GGBR4.SA  2010-01-06  30.379999  ...  30.299999  4499900.0  25.855158\n",
              "3  GGBR4.SA  2010-01-07  30.379999  ...  29.620001  5695900.0  25.274918\n",
              "4  GGBR4.SA  2010-01-08  29.879999  ...  29.540001  4269500.0  25.206648\n",
              "\n",
              "[5 rows x 8 columns]"
            ]
          },
          "metadata": {
            "tags": []
          },
          "execution_count": 60
        }
      ]
    },
    {
      "cell_type": "markdown",
      "metadata": {
        "id": "wxWZ3FBRxm47"
      },
      "source": [
        "No trecho a seguir filtramos a coluna \"Close\" do conjunto de dados, que apresenta o preço de fechamento da ação analisada, e calculamos a media e mediana dos primeiros 30 dias. A representação gráfica permite difenciarmos as duas medidas de posição."
      ]
    },
    {
      "cell_type": "code",
      "metadata": {
        "colab": {
          "base_uri": "https://localhost:8080/"
        },
        "id": "s7qtS7EHEJZi",
        "outputId": "3731e184-1d35-42a5-f86b-2312aee67f5b"
      },
      "source": [
        "media = acoes.Close[:30].mean()\n",
        "media"
      ],
      "execution_count": 61,
      "outputs": [
        {
          "output_type": "execute_result",
          "data": {
            "text/plain": [
              "27.25600020090739"
            ]
          },
          "metadata": {
            "tags": []
          },
          "execution_count": 61
        }
      ]
    },
    {
      "cell_type": "code",
      "metadata": {
        "colab": {
          "base_uri": "https://localhost:8080/"
        },
        "id": "mk_3ihijF992",
        "outputId": "a20ae604-23cf-4adf-c12e-fa44c1728b36"
      },
      "source": [
        "mediana = acoes.Close[:30].median()\n",
        "mediana"
      ],
      "execution_count": 62,
      "outputs": [
        {
          "output_type": "execute_result",
          "data": {
            "text/plain": [
              "26.46500015258789"
            ]
          },
          "metadata": {
            "tags": []
          },
          "execution_count": 62
        }
      ]
    },
    {
      "cell_type": "code",
      "metadata": {
        "colab": {
          "base_uri": "https://localhost:8080/",
          "height": 282
        },
        "id": "mTuGbajAEOx9",
        "outputId": "e103d9f9-b2b5-4ac9-f1fa-56ffda090f1d"
      },
      "source": [
        "plt.plot(acoes.Close[:30])\n",
        "#plt.plot([media for k in range(0, len(acoes.Close[:30]))], '--')\n",
        "plt.plot([mediana for k in range(0, len(acoes.Close[:30]))], '.')\n",
        "plt.legend(['Preço', 'Média de Preços', 'Mediana de Preços'])"
      ],
      "execution_count": 63,
      "outputs": [
        {
          "output_type": "execute_result",
          "data": {
            "text/plain": [
              "<matplotlib.legend.Legend at 0x7f6a412ce5d0>"
            ]
          },
          "metadata": {
            "tags": []
          },
          "execution_count": 63
        },
        {
          "output_type": "display_data",
          "data": {
            "image/png": "[encoded data removed]",
            "text/plain": [
              "<Figure size 432x288 with 1 Axes>"
            ]
          },
          "metadata": {
            "tags": [],
            "needs_background": "light"
          }
        }
      ]
    },
    {
      "cell_type": "markdown",
      "metadata": {
        "id": "-kl9UHcmHqzG"
      },
      "source": [
        "##4.3 Análise de Frequência com Histograma e Box Plot"
      ]
    },
    {
      "cell_type": "markdown",
      "metadata": {
        "id": "TYBZ1NMj0Ck0"
      },
      "source": [
        "O gráfico de histograma permite analisar a distribuição de frequência dos dados ao longo das faixas de valores, exibindo barras verticais que representam a concentração de dados em cada faixa de valor. A intuição principal que se pode tirar na primeira visualização dos dados é tentar identificar a localização da maior concentração de dados, que indicaria o posicionamento do ponto médio daquele conjunto de dados.\n",
        "\n",
        "Outra análise importante é verificar a distribuição dos dados, para identificar se ela é simétrica (Figura 2), ou seja, aproximadamente metade dos dados estão respectivamente à direita e à esquerda do ponto médio.\n",
        "\n",
        "![Simétricos](https://upload.wikimedia.org/wikipedia/commons/1/15/Symmetric-histogram.png)\n",
        "\n",
        "Figura 2 - Distribuição simétrica\n",
        "\n",
        "---\n",
        "\n",
        "![Calda direita](https://upload.wikimedia.org/wikipedia/commons/1/12/Skewed-right.png)\n",
        "\n",
        "Figura 3 - Distribuição assimétrica (com calda) à direita\n",
        "\n",
        "---\n",
        "\n",
        "![Calda esquerda](https://upload.wikimedia.org/wikipedia/commons/7/7b/Skewed-left.png)\n",
        "\n",
        "Figura 4 - Distribuição assimétrica (com calda) à esquerda"
      ]
    },
    {
      "cell_type": "markdown",
      "metadata": {
        "id": "UNtsvBA37gfI"
      },
      "source": [
        "Continuando a análise do conjunto de dados de preço de ações, a seguir é apresentado o histograma do preço de fechamento de ações (Close) para o período completo."
      ]
    },
    {
      "cell_type": "code",
      "metadata": {
        "colab": {
          "base_uri": "https://localhost:8080/",
          "height": 312
        },
        "id": "HXj1YFvUyxz7",
        "outputId": "3f983e64-b98c-46f8-98e1-5165a835f7b2"
      },
      "source": [
        "plt.hist(acoes.Close)\n",
        "plt.title('Histograma do Preço de Ações - Período Completo')\n",
        "plt.xlabel('Faixas de Valores')\n",
        "plt.ylabel('Contagem de Observações')"
      ],
      "execution_count": 64,
      "outputs": [
        {
          "output_type": "execute_result",
          "data": {
            "text/plain": [
              "Text(0, 0.5, 'Contagem de Observações')"
            ]
          },
          "metadata": {
            "tags": []
          },
          "execution_count": 64
        },
        {
          "output_type": "display_data",
          "data": {
            "image/png": "[encoded data removed]",
            "text/plain": [
              "<Figure size 432x288 with 1 Axes>"
            ]
          },
          "metadata": {
            "tags": [],
            "needs_background": "light"
          }
        }
      ]
    },
    {
      "cell_type": "markdown",
      "metadata": {
        "id": "E4hiB-1F7tRh"
      },
      "source": [
        "À primeira vista os dados parecem ser simétricos, mas uma observação atenta, indica que há valores discrepantes puxando um pouco a calda dos dados para esquerda.\n",
        "\n",
        "---\n",
        "\n",
        "A geração do boxplot pode confirmar ou rejeitar esta análise inicial. Como pode ser visto na visualização deste gráfico gerada para o mesmo período, de fato há *outliers* após o limite superior do gráfico."
      ]
    },
    {
      "cell_type": "code",
      "metadata": {
        "colab": {
          "base_uri": "https://localhost:8080/",
          "height": 401
        },
        "id": "29mjy_WXy_7b",
        "outputId": "81c36860-6a79-4642-e4b4-c7807fa1e951"
      },
      "source": [
        "plt.boxplot(acoes.Close)"
      ],
      "execution_count": 65,
      "outputs": [
        {
          "output_type": "execute_result",
          "data": {
            "text/plain": [
              "{'boxes': [<matplotlib.lines.Line2D at 0x7f6a41136210>],\n",
              " 'caps': [<matplotlib.lines.Line2D at 0x7f6a4113e250>,\n",
              "  <matplotlib.lines.Line2D at 0x7f6a4113e790>],\n",
              " 'fliers': [<matplotlib.lines.Line2D at 0x7f6a41145290>],\n",
              " 'means': [],\n",
              " 'medians': [<matplotlib.lines.Line2D at 0x7f6a4113ed10>],\n",
              " 'whiskers': [<matplotlib.lines.Line2D at 0x7f6a41136790>,\n",
              "  <matplotlib.lines.Line2D at 0x7f6a41136cd0>]}"
            ]
          },
          "metadata": {
            "tags": []
          },
          "execution_count": 65
        },
        {
          "output_type": "display_data",
          "data": {
            "image/png": "[encoded data removed]",
            "text/plain": [
              "<Figure size 432x288 with 1 Axes>"
            ]
          },
          "metadata": {
            "tags": [],
            "needs_background": "light"
          }
        }
      ]
    },
    {
      "cell_type": "markdown",
      "metadata": {
        "id": "rB9gstKW8Rxh"
      },
      "source": [
        "Agora é feito um *zoom* nos dados, filtrando apenas os primeiros 30 dias do período estudo. A geração dos mesmos dados, demonstram que a distribuição dos valores naquele período é bem diferente do comportamento dos dados quando analisado o período completo."
      ]
    },
    {
      "cell_type": "code",
      "metadata": {
        "colab": {
          "base_uri": "https://localhost:8080/",
          "height": 312
        },
        "id": "FEQ0OO1GD5mV",
        "outputId": "68f43f05-b97e-443e-ca4b-de592ef1f38a"
      },
      "source": [
        "dias = 30\n",
        "plt.hist(acoes.Close[:dias])\n",
        "plt.title(f'Histograma do Preço de Ações - Primeiros {dias} dias')\n",
        "plt.xlabel('Faixas de Valores')\n",
        "plt.ylabel('Contagem de Observações')"
      ],
      "execution_count": 66,
      "outputs": [
        {
          "output_type": "execute_result",
          "data": {
            "text/plain": [
              "Text(0, 0.5, 'Contagem de Observações')"
            ]
          },
          "metadata": {
            "tags": []
          },
          "execution_count": 66
        },
        {
          "output_type": "display_data",
          "data": {
            "image/png": "[encoded data removed]",
            "text/plain": [
              "<Figure size 432x288 with 1 Axes>"
            ]
          },
          "metadata": {
            "tags": [],
            "needs_background": "light"
          }
        }
      ]
    },
    {
      "cell_type": "code",
      "metadata": {
        "colab": {
          "base_uri": "https://localhost:8080/",
          "height": 401
        },
        "id": "mlNWajfiy6cL",
        "outputId": "356a1131-2d11-4189-fbb1-a3462e1244a7"
      },
      "source": [
        "plt.boxplot(acoes.Close[:30])"
      ],
      "execution_count": 67,
      "outputs": [
        {
          "output_type": "execute_result",
          "data": {
            "text/plain": [
              "{'boxes': [<matplotlib.lines.Line2D at 0x7f6a410b3150>],\n",
              " 'caps': [<matplotlib.lines.Line2D at 0x7f6a4103c190>,\n",
              "  <matplotlib.lines.Line2D at 0x7f6a4103c6d0>],\n",
              " 'fliers': [<matplotlib.lines.Line2D at 0x7f6a410441d0>],\n",
              " 'means': [],\n",
              " 'medians': [<matplotlib.lines.Line2D at 0x7f6a4103cc50>],\n",
              " 'whiskers': [<matplotlib.lines.Line2D at 0x7f6a410b36d0>,\n",
              "  <matplotlib.lines.Line2D at 0x7f6a410b3c10>]}"
            ]
          },
          "metadata": {
            "tags": []
          },
          "execution_count": 67
        },
        {
          "output_type": "display_data",
          "data": {
            "image/png": "[encoded data removed]",
            "text/plain": [
              "<Figure size 432x288 with 1 Axes>"
            ]
          },
          "metadata": {
            "tags": [],
            "needs_background": "light"
          }
        }
      ]
    },
    {
      "cell_type": "markdown",
      "metadata": {
        "id": "SABp7Dmi8u_X"
      },
      "source": [
        "Por fim, carregamos outro conjunto de dados que apresenta o preço médio de casas no estado da Califórnia nos Estados Unidos e diversas características dos imóveis analisados que podem ser usadas em tarefas de regressão para predição do preço de novos imóveis.\n",
        "\n",
        "Aqui fazemos apenas a geração dos gráfico da distribuição do preço médio usando os mesmos gráficos de histograma e boxplot, para ilustrar que em cenários reais o comportamento dos dados pode ser bem diferente dos exemplos didáticos mais simples. Deixamos para seu estudo a análise do significado dos dois gráficos para este conjunto de dados."
      ]
    },
    {
      "cell_type": "code",
      "metadata": {
        "id": "qfMvyzNT-isW"
      },
      "source": [
        "arquivo = 'https://raw.githubusercontent.com/janiosl/python.ds/master/data/housing.csv'\n",
        "casas = pd.read_csv(arquivo)"
      ],
      "execution_count": 68,
      "outputs": []
    },
    {
      "cell_type": "code",
      "metadata": {
        "colab": {
          "base_uri": "https://localhost:8080/",
          "height": 204
        },
        "id": "2Q8vusQI-4Q8",
        "outputId": "6887ba40-9db8-499e-d62b-ef306339fee1"
      },
      "source": [
        "casas.head()"
      ],
      "execution_count": 69,
      "outputs": [
        {
          "output_type": "execute_result",
          "data": {
            "text/html": [
              "<div>\n",
              "<style scoped>\n",
              "    .dataframe tbody tr th:only-of-type {\n",
              "        vertical-align: middle;\n",
              "    }\n",
              "\n",
              "    .dataframe tbody tr th {\n",
              "        vertical-align: top;\n",
              "    }\n",
              "\n",
              "    .dataframe thead th {\n",
              "        text-align: right;\n",
              "    }\n",
              "</style>\n",
              "<table border=\"1\" class=\"dataframe\">\n",
              "  <thead>\n",
              "    <tr style=\"text-align: right;\">\n",
              "      <th></th>\n",
              "      <th>longitude</th>\n",
              "      <th>latitude</th>\n",
              "      <th>housing_median_age</th>\n",
              "      <th>total_rooms</th>\n",
              "      <th>total_bedrooms</th>\n",
              "      <th>population</th>\n",
              "      <th>households</th>\n",
              "      <th>median_income</th>\n",
              "      <th>median_house_value</th>\n",
              "      <th>ocean_proximity</th>\n",
              "    </tr>\n",
              "  </thead>\n",
              "  <tbody>\n",
              "    <tr>\n",
              "      <th>0</th>\n",
              "      <td>-122.23</td>\n",
              "      <td>37.88</td>\n",
              "      <td>41.0</td>\n",
              "      <td>880.0</td>\n",
              "      <td>129.0</td>\n",
              "      <td>322.0</td>\n",
              "      <td>126.0</td>\n",
              "      <td>8.3252</td>\n",
              "      <td>452600.0</td>\n",
              "      <td>NEAR BAY</td>\n",
              "    </tr>\n",
              "    <tr>\n",
              "      <th>1</th>\n",
              "      <td>-122.22</td>\n",
              "      <td>37.86</td>\n",
              "      <td>21.0</td>\n",
              "      <td>7099.0</td>\n",
              "      <td>1106.0</td>\n",
              "      <td>2401.0</td>\n",
              "      <td>1138.0</td>\n",
              "      <td>8.3014</td>\n",
              "      <td>358500.0</td>\n",
              "      <td>NEAR BAY</td>\n",
              "    </tr>\n",
              "    <tr>\n",
              "      <th>2</th>\n",
              "      <td>-122.24</td>\n",
              "      <td>37.85</td>\n",
              "      <td>52.0</td>\n",
              "      <td>1467.0</td>\n",
              "      <td>190.0</td>\n",
              "      <td>496.0</td>\n",
              "      <td>177.0</td>\n",
              "      <td>7.2574</td>\n",
              "      <td>352100.0</td>\n",
              "      <td>NEAR BAY</td>\n",
              "    </tr>\n",
              "    <tr>\n",
              "      <th>3</th>\n",
              "      <td>-122.25</td>\n",
              "      <td>37.85</td>\n",
              "      <td>52.0</td>\n",
              "      <td>1274.0</td>\n",
              "      <td>235.0</td>\n",
              "      <td>558.0</td>\n",
              "      <td>219.0</td>\n",
              "      <td>5.6431</td>\n",
              "      <td>341300.0</td>\n",
              "      <td>NEAR BAY</td>\n",
              "    </tr>\n",
              "    <tr>\n",
              "      <th>4</th>\n",
              "      <td>-122.25</td>\n",
              "      <td>37.85</td>\n",
              "      <td>52.0</td>\n",
              "      <td>1627.0</td>\n",
              "      <td>280.0</td>\n",
              "      <td>565.0</td>\n",
              "      <td>259.0</td>\n",
              "      <td>3.8462</td>\n",
              "      <td>342200.0</td>\n",
              "      <td>NEAR BAY</td>\n",
              "    </tr>\n",
              "  </tbody>\n",
              "</table>\n",
              "</div>"
            ],
            "text/plain": [
              "   longitude  latitude  ...  median_house_value  ocean_proximity\n",
              "0    -122.23     37.88  ...            452600.0         NEAR BAY\n",
              "1    -122.22     37.86  ...            358500.0         NEAR BAY\n",
              "2    -122.24     37.85  ...            352100.0         NEAR BAY\n",
              "3    -122.25     37.85  ...            341300.0         NEAR BAY\n",
              "4    -122.25     37.85  ...            342200.0         NEAR BAY\n",
              "\n",
              "[5 rows x 10 columns]"
            ]
          },
          "metadata": {
            "tags": []
          },
          "execution_count": 69
        }
      ]
    },
    {
      "cell_type": "code",
      "metadata": {
        "colab": {
          "base_uri": "https://localhost:8080/",
          "height": 384
        },
        "id": "3TlAU4v1-y8Z",
        "outputId": "28967d18-2ee1-4f9f-845f-21920bf5940f"
      },
      "source": [
        "plt.hist(casas.housing_median_age, bins=20)"
      ],
      "execution_count": 70,
      "outputs": [
        {
          "output_type": "execute_result",
          "data": {
            "text/plain": [
              "(array([ 124.,  595.,  381.,  723.,  540., 1695., 1268., 1413.,  847.,\n",
              "        1663., 1420.,  934., 1869., 1686., 1300.,  600., 1077.,  539.,\n",
              "         509., 1457.]),\n",
              " array([ 1.  ,  3.55,  6.1 ,  8.65, 11.2 , 13.75, 16.3 , 18.85, 21.4 ,\n",
              "        23.95, 26.5 , 29.05, 31.6 , 34.15, 36.7 , 39.25, 41.8 , 44.35,\n",
              "        46.9 , 49.45, 52.  ]),\n",
              " <a list of 20 Patch objects>)"
            ]
          },
          "metadata": {
            "tags": []
          },
          "execution_count": 70
        },
        {
          "output_type": "display_data",
          "data": {
            "image/png": "[encoded data removed]",
            "text/plain": [
              "<Figure size 432x288 with 1 Axes>"
            ]
          },
          "metadata": {
            "tags": [],
            "needs_background": "light"
          }
        }
      ]
    },
    {
      "cell_type": "code",
      "metadata": {
        "colab": {
          "base_uri": "https://localhost:8080/",
          "height": 401
        },
        "id": "NQCiIVgQzPGj",
        "outputId": "9a24c01f-81f7-41f3-8859-14a3ad6392fb"
      },
      "source": [
        "plt.boxplot(casas.housing_median_age)"
      ],
      "execution_count": 71,
      "outputs": [
        {
          "output_type": "execute_result",
          "data": {
            "text/plain": [
              "{'boxes': [<matplotlib.lines.Line2D at 0x7f6a40fb4dd0>],\n",
              " 'caps': [<matplotlib.lines.Line2D at 0x7f6a40f3be10>,\n",
              "  <matplotlib.lines.Line2D at 0x7f6a40f43390>],\n",
              " 'fliers': [<matplotlib.lines.Line2D at 0x7f6a40f43e50>],\n",
              " 'means': [],\n",
              " 'medians': [<matplotlib.lines.Line2D at 0x7f6a40f43910>],\n",
              " 'whiskers': [<matplotlib.lines.Line2D at 0x7f6a40f3b390>,\n",
              "  <matplotlib.lines.Line2D at 0x7f6a40f3b8d0>]}"
            ]
          },
          "metadata": {
            "tags": []
          },
          "execution_count": 71
        },
        {
          "output_type": "display_data",
          "data": {
            "image/png": "[encoded data removed]",
            "text/plain": [
              "<Figure size 432x288 with 1 Axes>"
            ]
          },
          "metadata": {
            "tags": [],
            "needs_background": "light"
          }
        }
      ]
    },
    {
      "cell_type": "markdown",
      "metadata": {
        "id": "yMAggkDn4SOD"
      },
      "source": [
        "#Referências e Links"
      ]
    },
    {
      "cell_type": "markdown",
      "metadata": {
        "id": "50mHrunu4UG9"
      },
      "source": [
        "**Referências**\n",
        "\n",
        "TOLEDO, Geraldo Luciano e OVALLE, Ivo Izidório (1985) Estatítisca Básica. São Paulo: Atlas\n",
        "\n",
        "---\n",
        "\n",
        "**Material complementar**:\n",
        "* Estudo Dirigdo desse Notebook: https://youtube.com/playlist?list=PL0XxTDj23A1F4-nrAMDlRxvZkKJmCw2Qb\n",
        "* Cálculo e intuição sobre média harmônica: https://mundoeducacao.uol.com.br/matematica/media-harmonica.htm\n",
        "* Boxplot: https://pt.wikipedia.org/wiki/Diagrama_de_caixa\n",
        "* Histograma: https://pt.wikipedia.org/wiki/Histograma"
      ]
    }
  ]
}