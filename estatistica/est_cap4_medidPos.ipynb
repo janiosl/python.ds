{
  "nbformat": 4,
  "nbformat_minor": 0,
  "metadata": {
    "colab": {
      "name": "est_cap4_medidPos.ipynb",
      "provenance": [],
      "collapsed_sections": [],
      "authorship_tag": "ABX9TyPxaHFcDn8uryDR4RvO5D7r",
      "include_colab_link": true
    },
    "kernelspec": {
      "name": "python3",
      "display_name": "Python 3"
    }
  },
  "cells": [
    {
      "cell_type": "markdown",
      "metadata": {
        "id": "view-in-github",
        "colab_type": "text"
      },
      "source": [
        "<a href=\"https://colab.research.google.com/github/janiosl/python.ds/blob/master/est_cap4_medidPos.ipynb\" target=\"_parent\"><img src=\"https://colab.research.google.com/assets/colab-badge.svg\" alt=\"Open In Colab\"/></a>"
      ]
    },
    {
      "cell_type": "markdown",
      "metadata": {
        "id": "1RdoMI9G4IiI"
      },
      "source": [
        "**Medidas de posição**\n",
        "\n",
        "*Referência: TOLEDO, Geraldo Luciano e OVALLE, Ivo Izidório (1985) Estatítisca Básica. São Paulo: Atlas*\n",
        "\n",
        "Detalhes no capítulo 4 do livro"
      ]
    },
    {
      "cell_type": "markdown",
      "metadata": {
        "id": "4CrteH0s1ECO"
      },
      "source": [
        "*Média* aritimética"
      ]
    },
    {
      "cell_type": "code",
      "metadata": {
        "id": "bSeTvAVS0-ds",
        "colab": {
          "base_uri": "https://localhost:8080/"
        },
        "outputId": "c34f2054-7018-44f6-998e-c9f0c9d2b8f6"
      },
      "source": [
        "\"\"\"\n",
        "Média aritimética\n",
        "Soma dos dados / n\n",
        "\"\"\"\n",
        "x = [10, 60, 360]\n",
        "media = sum(x) / len(x)\n",
        "media"
      ],
      "execution_count": null,
      "outputs": [
        {
          "output_type": "execute_result",
          "data": {
            "text/plain": [
              "143.33333333333334"
            ]
          },
          "metadata": {
            "tags": []
          },
          "execution_count": 1
        }
      ]
    },
    {
      "cell_type": "markdown",
      "metadata": {
        "id": "gFsqQ4lK0kDR"
      },
      "source": [
        "$\\hat{X} = \\frac{\\sum \\limits_{i=1}^{n}xi}{n}$"
      ]
    },
    {
      "cell_type": "code",
      "metadata": {
        "id": "nJCnpnec1MiN",
        "colab": {
          "base_uri": "https://localhost:8080/"
        },
        "outputId": "83ced22f-dd69-4e02-8a3d-582ce55d97c0"
      },
      "source": [
        "import numpy as np\n",
        "np.mean(x)"
      ],
      "execution_count": null,
      "outputs": [
        {
          "output_type": "execute_result",
          "data": {
            "text/plain": [
              "143.33333333333334"
            ]
          },
          "metadata": {
            "tags": []
          },
          "execution_count": 2
        }
      ]
    },
    {
      "cell_type": "code",
      "metadata": {
        "id": "w7Ovri1DTCZO",
        "colab": {
          "base_uri": "https://localhost:8080/",
          "height": 34
        },
        "outputId": "cc9af688-dbf9-4ead-e375-8f58f1a87a12"
      },
      "source": [
        "\"\"\"\n",
        "Média aritimética ponderada\n",
        "soma(dados * pesos) / soma(pesos)\n",
        "\"\"\"\n",
        "pesos = [1, 2, 3, 4]\n",
        "notas = [8, 7, 9, 9]\n",
        "\n",
        "notasXpesos = [notas[i] * pesos[i] for i in range(0, len(notas))]\n",
        "media_pond = sum(notasXpesos) / sum(pesos)\n",
        "media_pond"
      ],
      "execution_count": null,
      "outputs": [
        {
          "output_type": "execute_result",
          "data": {
            "text/plain": [
              "8.5"
            ]
          },
          "metadata": {
            "tags": []
          },
          "execution_count": 169
        }
      ]
    },
    {
      "cell_type": "markdown",
      "metadata": {
        "id": "BLWNzuyD0_1J"
      },
      "source": [
        "Média Harmônica e Média Harmônica Ponderada\n"
      ]
    },
    {
      "cell_type": "code",
      "metadata": {
        "id": "tAq7ZUZj4Kcb"
      },
      "source": [
        "#Dados\n",
        "x = [10, 60, 360]\n",
        "y = [2, 2, 2, 2]"
      ],
      "execution_count": null,
      "outputs": []
    },
    {
      "cell_type": "code",
      "metadata": {
        "id": "hg3pzHDO92PP",
        "colab": {
          "base_uri": "https://localhost:8080/"
        },
        "outputId": "dd472504-8534-4827-c138-68c4e8f79508"
      },
      "source": [
        "\"\"\"\n",
        "Média harmônica (xh)\n",
        "xh = (1/(soma(1/xj)))\n",
        "xh = n/(sum(1/xj))\n",
        "Pág. 134 cap4 - Estatística Básica\n",
        "\"\"\"\n",
        "#Cálculo manual\n",
        "nX = len(x)\n",
        "somaX = (1 / x[0]) + (1 / x[1]) + (1 / x[2])\n",
        "print(f'Média harmônica = {nX} / {somaX:.4f}')"
      ],
      "execution_count": null,
      "outputs": [
        {
          "output_type": "stream",
          "text": [
            "Média harmônica = 3 / 0.1194\n"
          ],
          "name": "stdout"
        }
      ]
    },
    {
      "cell_type": "markdown",
      "metadata": {
        "id": "aB9exBVEzDZv"
      },
      "source": [
        "$\\hat{X_h} = \\frac{n}{\\sum \\limits_{j=1}^{n}\\frac{1}{xj}}$"
      ]
    },
    {
      "cell_type": "code",
      "metadata": {
        "id": "CBk3onYF-e_H",
        "colab": {
          "base_uri": "https://localhost:8080/"
        },
        "outputId": "dd97a7be-b047-485d-8b3b-6fa1d7268661"
      },
      "source": [
        "xh = nX / somaX\n",
        "print(f'Média harmônica = {xh:.4f}')"
      ],
      "execution_count": null,
      "outputs": [
        {
          "output_type": "stream",
          "text": [
            "Média harmônica = 25.1163\n"
          ],
          "name": "stdout"
        }
      ]
    },
    {
      "cell_type": "code",
      "metadata": {
        "id": "HT21HXgm-pE-",
        "colab": {
          "base_uri": "https://localhost:8080/",
          "height": 34
        },
        "outputId": "e2982933-871b-4376-ac70-e286d597c773"
      },
      "source": [
        "#Cáculo com loop\n",
        "somaX = [(1 / x[k]) for k in range(0, len(x))]\n",
        "somaX = sum(somaX)\n",
        "\n",
        "xh = nX / somaX\n",
        "xh"
      ],
      "execution_count": null,
      "outputs": [
        {
          "output_type": "execute_result",
          "data": {
            "text/plain": [
              "25.11627906976744"
            ]
          },
          "metadata": {
            "tags": []
          },
          "execution_count": 13
        }
      ]
    },
    {
      "cell_type": "code",
      "metadata": {
        "id": "DlknNjYQ_Z0L",
        "colab": {
          "base_uri": "https://localhost:8080/",
          "height": 52
        },
        "outputId": "92a9314e-0521-4f93-de3c-7e0504de7f4f"
      },
      "source": [
        "nY = len(y)\n",
        "somaY = [(1 / y[k]) for k in range(0, len(y))]\n",
        "somaY = sum(somaY)\n",
        "yh = nY / somaY\n",
        "\n",
        "#Resultados\n",
        "print(f'Média harmônica = {nY} / {somaY:.4f}',\n",
        "      f'Média harmônica {yh:.4f}',\n",
        "      sep='\\n')"
      ],
      "execution_count": null,
      "outputs": [
        {
          "output_type": "stream",
          "text": [
            "Média harmônica = 4 / 2.0000\n",
            "Média harmônica 2.0000\n"
          ],
          "name": "stdout"
        }
      ]
    },
    {
      "cell_type": "markdown",
      "metadata": {
        "id": "1bUHOv0-B-Up"
      },
      "source": [
        "Uma pessoa comprou 4 camisas a 30,00 por camisa e 2 camisas por 50,00 cada.\n",
        "*   120,00 em camisas de 30,00\n",
        "*   100,00 em camisas de 50,00   \n",
        "\n"
      ]
    },
    {
      "cell_type": "code",
      "metadata": {
        "id": "ikkSG9bj_4u3"
      },
      "source": [
        "#Dados\n",
        "gastos = [120, 100] #Ponderação (Preço x Quantidade)\n",
        "precos = [30, 50] #Dados\n",
        "quantidades = [4, 2]"
      ],
      "execution_count": null,
      "outputs": []
    },
    {
      "cell_type": "code",
      "metadata": {
        "id": "64obLXykC5Gd",
        "colab": {
          "base_uri": "https://localhost:8080/",
          "height": 34
        },
        "outputId": "fe2997cf-c8b1-4cb4-8be8-6439f8d35b8e"
      },
      "source": [
        "\"\"\"\n",
        "Média harmônica ponderada\n",
        "xhP = 1 / (ponderacao / somaPonderacao)\n",
        "ponderacao = (peso1 * (1 / dado1) + ... + peson * (1 / dadon))\n",
        "\"\"\"\n",
        "somaGastos = sum(gastos)\n",
        "ponderacao = ((gastos[0] * (1 / precos[0])) + (gastos[1] * (1 / precos[1])))\n",
        "print(somaGastos, ponderacao)"
      ],
      "execution_count": null,
      "outputs": [
        {
          "output_type": "stream",
          "text": [
            "220 6.0\n"
          ],
          "name": "stdout"
        }
      ]
    },
    {
      "cell_type": "code",
      "metadata": {
        "id": "uWE_2N-3EoLs",
        "colab": {
          "base_uri": "https://localhost:8080/",
          "height": 34
        },
        "outputId": "e321c0ff-6aab-460c-8129-5311a0d311d2"
      },
      "source": [
        "precohP = 1  / (ponderacao / somaGastos)\n",
        "print(f'Média harmônica ponderada dos preçcos: {precohP:.2f}')"
      ],
      "execution_count": null,
      "outputs": [
        {
          "output_type": "stream",
          "text": [
            "Média harmônica ponderada dos preçcos: 36.67\n"
          ],
          "name": "stdout"
        }
      ]
    },
    {
      "cell_type": "markdown",
      "metadata": {
        "id": "OjYZVXRYbEZ2"
      },
      "source": [
        "Média Quadrática"
      ]
    },
    {
      "cell_type": "code",
      "metadata": {
        "id": "wMcizlLtbN57"
      },
      "source": [
        "\"\"\"\n",
        "Média quadrática simples\n",
        "mediaQ = raiz (soma(dados**2) / n)\n",
        "\"\"\"\n",
        "import numpy as np\n",
        "\n",
        "x = [2, 2, 2]\n",
        "y = [2, 3, 4, 5]"
      ],
      "execution_count": null,
      "outputs": []
    },
    {
      "cell_type": "code",
      "metadata": {
        "id": "YTQdgQVJbu4P",
        "colab": {
          "base_uri": "https://localhost:8080/",
          "height": 34
        },
        "outputId": "f8d8ce9a-20b3-48ef-cc7d-d0b9a96d9742"
      },
      "source": [
        "nX = len(x)\n",
        "somaX2 = [x[k] ** 2 for k in range(0, len(x))]\n",
        "somaX2 = sum(somaX2)\n",
        "somaX2"
      ],
      "execution_count": null,
      "outputs": [
        {
          "output_type": "execute_result",
          "data": {
            "text/plain": [
              "12"
            ]
          },
          "metadata": {
            "tags": []
          },
          "execution_count": 54
        }
      ]
    },
    {
      "cell_type": "code",
      "metadata": {
        "id": "BJ-S8qadcKGj",
        "colab": {
          "base_uri": "https://localhost:8080/",
          "height": 52
        },
        "outputId": "20605ca3-49a6-4176-fba3-c8a53d7ce81f"
      },
      "source": [
        "mediaQ_x = np.sqrt(somaX2 / nX)\n",
        "print(f'Média quadrática de {x}: ')\n",
        "mediaQ_x"
      ],
      "execution_count": null,
      "outputs": [
        {
          "output_type": "stream",
          "text": [
            "Média quadrática de [2, 2, 2]: \n"
          ],
          "name": "stdout"
        },
        {
          "output_type": "execute_result",
          "data": {
            "text/plain": [
              "2.0"
            ]
          },
          "metadata": {
            "tags": []
          },
          "execution_count": 56
        }
      ]
    },
    {
      "cell_type": "code",
      "metadata": {
        "id": "q9rncP7KcCa3",
        "colab": {
          "base_uri": "https://localhost:8080/",
          "height": 34
        },
        "outputId": "c484dddc-4767-43de-c091-3f6442c7d72c"
      },
      "source": [
        "nY = len(y)\n",
        "somaY2 = sum([y[k] ** 2\n",
        "              for k in range(0, len(y))\n",
        "              ])\n",
        "somaY2"
      ],
      "execution_count": null,
      "outputs": [
        {
          "output_type": "execute_result",
          "data": {
            "text/plain": [
              "54"
            ]
          },
          "metadata": {
            "tags": []
          },
          "execution_count": 62
        }
      ]
    },
    {
      "cell_type": "code",
      "metadata": {
        "id": "1JZBz20jc2qP",
        "colab": {
          "base_uri": "https://localhost:8080/",
          "height": 52
        },
        "outputId": "8a1dfb59-49bc-4f7f-ab93-42198871a494"
      },
      "source": [
        "mediaQ_y = np.sqrt(somaY2 / nY)\n",
        "print(f'Média quadrática de {y}:')\n",
        "mediaQ_y"
      ],
      "execution_count": null,
      "outputs": [
        {
          "output_type": "stream",
          "text": [
            "Média quadrática de [2, 3, 4, 5]:\n"
          ],
          "name": "stdout"
        },
        {
          "output_type": "execute_result",
          "data": {
            "text/plain": [
              "3.6742346141747673"
            ]
          },
          "metadata": {
            "tags": []
          },
          "execution_count": 61
        }
      ]
    },
    {
      "cell_type": "code",
      "metadata": {
        "id": "v807yYMhdCru",
        "colab": {
          "base_uri": "https://localhost:8080/",
          "height": 34
        },
        "outputId": "48703c00-8787-420a-bda2-3f404f67716f"
      },
      "source": [
        "\"\"\"\n",
        "Média quadrática ponderada\n",
        "mediaQP = raiz (soma(dados**2 * ponderacao)) / n\n",
        "\"\"\"\n",
        "dados = {3: 5,\n",
        "         5: 10,\n",
        "         7: 12,\n",
        "         9: 10,\n",
        "         11: 5}\n",
        "\n",
        "dados_list = [[3, 5, 7, 9, 11],\n",
        "              [5, 10, 12, 10, 5]\n",
        "              ]\n",
        "\n",
        "valores = list(dados.keys())\n",
        "valores"
      ],
      "execution_count": null,
      "outputs": [
        {
          "output_type": "execute_result",
          "data": {
            "text/plain": [
              "[3, 5, 7, 9, 11]"
            ]
          },
          "metadata": {
            "tags": []
          },
          "execution_count": 80
        }
      ]
    },
    {
      "cell_type": "code",
      "metadata": {
        "id": "PDmmL_wyeVRN",
        "colab": {
          "base_uri": "https://localhost:8080/",
          "height": 34
        },
        "outputId": "da3e0621-32c9-4a47-983d-b6c0c4fe1b85"
      },
      "source": [
        "freq = list(dados.values())\n",
        "freq"
      ],
      "execution_count": null,
      "outputs": [
        {
          "output_type": "execute_result",
          "data": {
            "text/plain": [
              "[5, 10, 12, 10, 5]"
            ]
          },
          "metadata": {
            "tags": []
          },
          "execution_count": 81
        }
      ]
    },
    {
      "cell_type": "code",
      "metadata": {
        "id": "wTtqN38kempf",
        "colab": {
          "base_uri": "https://localhost:8080/",
          "height": 34
        },
        "outputId": "4fa1e248-e80a-4352-8867-7a258ac59c4d"
      },
      "source": [
        "valores2 = [valores[k] ** 2 for k in range(0, len(valores))]\n",
        "valores2"
      ],
      "execution_count": null,
      "outputs": [
        {
          "output_type": "execute_result",
          "data": {
            "text/plain": [
              "[9, 25, 49, 81, 121]"
            ]
          },
          "metadata": {
            "tags": []
          },
          "execution_count": 82
        }
      ]
    },
    {
      "cell_type": "code",
      "metadata": {
        "id": "a59-GSXcfZnZ",
        "colab": {
          "base_uri": "https://localhost:8080/",
          "height": 34
        },
        "outputId": "ed63d2e4-531b-42db-bb78-9a995a602c07"
      },
      "source": [
        "#variável para cálculo, não confundir com tamanho do conjunto de dados\n",
        "n = len(valores)\n",
        "val2Xfreq = [valores2[k] * freq[k] for k in range(0, n)]\n",
        "val2Xfreq"
      ],
      "execution_count": null,
      "outputs": [
        {
          "output_type": "execute_result",
          "data": {
            "text/plain": [
              "[45, 250, 588, 810, 605]"
            ]
          },
          "metadata": {
            "tags": []
          },
          "execution_count": 83
        }
      ]
    },
    {
      "cell_type": "code",
      "metadata": {
        "id": "7BOpcwXup1xp",
        "colab": {
          "base_uri": "https://localhost:8080/",
          "height": 34
        },
        "outputId": "edffa0dc-e494-4ca3-f9f8-86aeca0921af"
      },
      "source": [
        "sum(val2Xfreq)"
      ],
      "execution_count": null,
      "outputs": [
        {
          "output_type": "execute_result",
          "data": {
            "text/plain": [
              "2298"
            ]
          },
          "metadata": {
            "tags": []
          },
          "execution_count": 84
        }
      ]
    },
    {
      "cell_type": "code",
      "metadata": {
        "id": "npkSIm-Wp4D2",
        "colab": {
          "base_uri": "https://localhost:8080/",
          "height": 158
        },
        "outputId": "5052a221-49d5-456e-ee52-2241e1564b88"
      },
      "source": [
        "from pprint import pprint\n",
        "#Variável refere-se ao tamanho (n) do conjunto de dados\n",
        "nX = sum(freq)\n",
        "mediaQP_x = np.sqrt(sum(val2Xfreq) / nX)\n",
        "\n",
        "#Exibição dos resultados\n",
        "print(f'Média quadrática ponderada dos dados: {mediaQP_x:.3f}')\n",
        "print('Dados:\\nValor : Frequência')\n",
        "for k, v in dados.items():\n",
        "  print(f'{k:5}', f'{v:5}', sep=' : ')"
      ],
      "execution_count": null,
      "outputs": [
        {
          "output_type": "stream",
          "text": [
            "Média quadrática ponderada dos dados: 7.397\n",
            "Dados:\n",
            "Valor : Frequência\n",
            "    3 :     5\n",
            "    5 :    10\n",
            "    7 :    12\n",
            "    9 :    10\n",
            "   11 :     5\n"
          ],
          "name": "stdout"
        }
      ]
    },
    {
      "cell_type": "markdown",
      "metadata": {
        "id": "IbK5D76_yXXG"
      },
      "source": [
        "Cálculo da média aritimética do mesmo conjunto de dados para comparação das duas medidas."
      ]
    },
    {
      "cell_type": "code",
      "metadata": {
        "id": "bCn8nC6_yg8L",
        "colab": {
          "base_uri": "https://localhost:8080/",
          "height": 34
        },
        "outputId": "0c5ad8fd-a10e-4f2f-eab7-2b4ce55038cf"
      },
      "source": [
        "valXfreq = [valores[k] * freq[k] for k in range(0, n)]\n",
        "valXfreq"
      ],
      "execution_count": null,
      "outputs": [
        {
          "output_type": "execute_result",
          "data": {
            "text/plain": [
              "[15, 50, 84, 90, 55]"
            ]
          },
          "metadata": {
            "tags": []
          },
          "execution_count": 121
        }
      ]
    },
    {
      "cell_type": "code",
      "metadata": {
        "id": "yNLtNWUqzM3y",
        "colab": {
          "base_uri": "https://localhost:8080/",
          "height": 34
        },
        "outputId": "fcef2bc6-69a7-4395-bb24-a17d83074cb1"
      },
      "source": [
        "sum(valXfreq)"
      ],
      "execution_count": null,
      "outputs": [
        {
          "output_type": "execute_result",
          "data": {
            "text/plain": [
              "294"
            ]
          },
          "metadata": {
            "tags": []
          },
          "execution_count": 122
        }
      ]
    },
    {
      "cell_type": "code",
      "metadata": {
        "id": "HuzbbuGqzPVk",
        "colab": {
          "base_uri": "https://localhost:8080/",
          "height": 34
        },
        "outputId": "c2151002-20b4-4c4a-971e-86d0758cc19b"
      },
      "source": [
        "media_x = sum(valXfreq) / nX\n",
        "media_x"
      ],
      "execution_count": null,
      "outputs": [
        {
          "output_type": "execute_result",
          "data": {
            "text/plain": [
              "7.0"
            ]
          },
          "metadata": {
            "tags": []
          },
          "execution_count": 126
        }
      ]
    },
    {
      "cell_type": "markdown",
      "metadata": {
        "id": "J3sk0VYjIO6B"
      },
      "source": [
        "Relação empírica entre média, moda e mediana\n",
        "\n",
        "De forma simplificada:\n",
        "*   Média: medida de tendência central para descrever resumidamente uma distribuição de frequência. Vide exemplos anteriores (diversas formas de obtenção) de um valor central dos dados\n",
        "*   Mo - Moda: valor mais frequente no conjunto de dados\n",
        "*   Md - Mediana: valor central do conjunto de dados em que ao menos 50% dos valores sejam iguais ou maiores a ela\n",
        "\n",
        "Condições para relações empíricas:\n",
        "1.   Distribuição unimodal;\n",
        "2.   Distribuição fracamente assimétrica;\n",
        "3.   Número de observações grande e pequena escala de unidades que divide a distribuição.\n",
        "\n",
        "Relações:\n",
        "* média = (3Md - Mo) / 2\n",
        "* Mo = 3md - 2media\n",
        "* Md = (2media + Mo) / 3\n"
      ]
    },
    {
      "cell_type": "code",
      "metadata": {
        "id": "W9cHx5m_JSV1"
      },
      "source": [
        "#Dados\n",
        "classes = ['5 |- 25',\n",
        "           '25 |- 45',\n",
        "           '45 |- 65',\n",
        "           '65 |- 85',\n",
        "           '85 |- 105',\n",
        "           '105 |- 125',\n",
        "           '125 |- 145',\n",
        "           '145 |- 165']\n",
        "k = 8\n",
        "usuarios_fj = [4, 6, 14, 26, 14, 8, 6, 2]\n",
        "n = sum(usuarios_fj)\n",
        "k = len(usuarios_fj)\n",
        "xj = [15, 35, 55, 75, 95, 115, 135, 155]\n",
        "usr_Acum_Fj = [4, 10, 24, 50, 64, 72, 78]"
      ],
      "execution_count": null,
      "outputs": []
    },
    {
      "cell_type": "code",
      "metadata": {
        "id": "DIJ9MRKPKPw4",
        "colab": {
          "base_uri": "https://localhost:8080/",
          "height": 34
        },
        "outputId": "d9e54085-5c1a-40d8-ecaf-7105307b0fe3"
      },
      "source": [
        "xjfj = [usuarios_fj[i] * xj[i] for i in range(0, len(usuarios_fj))]\n",
        "xjfj"
      ],
      "execution_count": null,
      "outputs": [
        {
          "output_type": "execute_result",
          "data": {
            "text/plain": [
              "[60, 210, 770, 1950, 1330, 920, 810, 310]"
            ]
          },
          "metadata": {
            "tags": []
          },
          "execution_count": 141
        }
      ]
    },
    {
      "cell_type": "code",
      "metadata": {
        "id": "6FURu5UiLHDB",
        "colab": {
          "base_uri": "https://localhost:8080/",
          "height": 34
        },
        "outputId": "293be4c1-6f85-411d-c3c4-d41f43937615"
      },
      "source": [
        "#Cálculo da média\n",
        "media = sum(xjfj) / n\n",
        "media"
      ],
      "execution_count": null,
      "outputs": [
        {
          "output_type": "execute_result",
          "data": {
            "text/plain": [
              "79.5"
            ]
          },
          "metadata": {
            "tags": []
          },
          "execution_count": 142
        }
      ]
    },
    {
      "cell_type": "code",
      "metadata": {
        "id": "r0GUVzgQL1sq"
      },
      "source": [
        "#Mediana\n",
        "fMd = max(usuarios_fj) #Frequência da mediana\n",
        "posMd = usuarios_fj.index(fMd)\n",
        "classeMd = classes[posMd]\n",
        "l = 65 #Limite inferiro da classe mediana 65 |- 85\n",
        "c = 20 #Amplitude das classes\n",
        "eMd = n / 2 #Elemento mediano\n",
        "fAnt = usr_Acum_Fj[(usuarios_fj.index(fMd))-1] #Frequência anterior à mediana"
      ],
      "execution_count": null,
      "outputs": []
    },
    {
      "cell_type": "code",
      "metadata": {
        "id": "mfcBy5M4M-Bi",
        "colab": {
          "base_uri": "https://localhost:8080/",
          "height": 34
        },
        "outputId": "0f7d61e5-3059-4008-c661-d8fc27d04404"
      },
      "source": [
        "md = l + c * ((eMd - fAnt) / fMd)\n",
        "md"
      ],
      "execution_count": null,
      "outputs": [
        {
          "output_type": "execute_result",
          "data": {
            "text/plain": [
              "77.3076923076923"
            ]
          },
          "metadata": {
            "tags": []
          },
          "execution_count": 159
        }
      ]
    },
    {
      "cell_type": "code",
      "metadata": {
        "id": "C4v98VIDNjou",
        "colab": {
          "base_uri": "https://localhost:8080/",
          "height": 34
        },
        "outputId": "2cbd151c-da56-499e-e33a-4447b68dd2ac"
      },
      "source": [
        "#Moda calculada\n",
        "\"\"\"\n",
        "mo = l + c * (delta1) / (datal1 + delta2)\n",
        "delta1 = freq. classe modal - freq. da classe anterior\n",
        "delta2 = freq. classe modal - freq. da classe posterior\n",
        "\"\"\"\n",
        "f_ant = usuarios_fj[(usuarios_fj.index(fMd)) - 1] #Freq. classe anterior\n",
        "f_post = usuarios_fj[(usuarios_fj.index(fMd)) + 1] #Freq. classe posterior\n",
        "delta1 = fMd - f_ant\n",
        "delta2 = fMd - f_post\n",
        "\n",
        "#Aplicação da fórmula\n",
        "mo = l + c * delta1 / (delta1 + delta2)\n",
        "mo"
      ],
      "execution_count": null,
      "outputs": [
        {
          "output_type": "execute_result",
          "data": {
            "text/plain": [
              "75.0"
            ]
          },
          "metadata": {
            "tags": []
          },
          "execution_count": 176
        }
      ]
    },
    {
      "cell_type": "code",
      "metadata": {
        "id": "SOS-o8GqRmZl",
        "colab": {
          "base_uri": "https://localhost:8080/",
          "height": 34
        },
        "outputId": "14c5ee83-16b5-4af6-a208-beee4332a573"
      },
      "source": [
        "#Moda pela relação empírica\n",
        "mo_emp = 3 * md - 2 * media\n",
        "mo_emp"
      ],
      "execution_count": null,
      "outputs": [
        {
          "output_type": "execute_result",
          "data": {
            "text/plain": [
              "72.9230769230769"
            ]
          },
          "metadata": {
            "tags": []
          },
          "execution_count": 165
        }
      ]
    },
    {
      "cell_type": "code",
      "metadata": {
        "id": "WPzANf6FNq6p",
        "colab": {
          "base_uri": "https://localhost:8080/",
          "height": 34
        },
        "outputId": "84c0a419-df02-4d28-98d8-4a3b4e0898d8"
      },
      "source": [
        "#Mediana pela relação empírica\n",
        "md_emp = (2 * media + mo) / 3\n",
        "md_emp"
      ],
      "execution_count": null,
      "outputs": [
        {
          "output_type": "execute_result",
          "data": {
            "text/plain": [
              "78.0"
            ]
          },
          "metadata": {
            "tags": []
          },
          "execution_count": 166
        }
      ]
    },
    {
      "cell_type": "code",
      "metadata": {
        "id": "SRpmnV77Nbvb",
        "colab": {
          "base_uri": "https://localhost:8080/",
          "height": 34
        },
        "outputId": "f7d8e633-8730-4995-c2ac-ff7c559d07ac"
      },
      "source": [
        "#Média pela relação empírica\n",
        "media_emp = (3 * md - mo) / 2\n",
        "media_emp"
      ],
      "execution_count": null,
      "outputs": [
        {
          "output_type": "execute_result",
          "data": {
            "text/plain": [
              "78.46153846153845"
            ]
          },
          "metadata": {
            "tags": []
          },
          "execution_count": 167
        }
      ]
    },
    {
      "cell_type": "code",
      "metadata": {
        "id": "v016FaUNEiyN",
        "colab": {
          "base_uri": "https://localhost:8080/",
          "height": 52
        },
        "outputId": "45dae59f-2f60-477e-a73d-601a1a955ec3"
      },
      "source": [
        "\"\"\"\n",
        "As bibliotecas numpy e estatistics tem métodos para cálculo destas medidas\n",
        "de forma direta e simplificada\n",
        "\"\"\"\n",
        "import statistics as sts\n",
        "\n",
        "dados = [10, 10, 25, 32, 5]\n",
        "print('Média Mediana Moda\\n', np.mean(dados),\n",
        "      np.median(dados),\n",
        "      sts.mode(dados)\n",
        "      )"
      ],
      "execution_count": null,
      "outputs": [
        {
          "output_type": "stream",
          "text": [
            "Média Mediana Moda\n",
            " 16.4 10.0 10\n"
          ],
          "name": "stdout"
        }
      ]
    },
    {
      "cell_type": "code",
      "metadata": {
        "id": "AY6nZgTCFEvb",
        "colab": {
          "base_uri": "https://localhost:8080/",
          "height": 34
        },
        "outputId": "fb001f0b-4290-4e9a-baac-205d7cfb30f7"
      },
      "source": [
        "sts.harmonic_mean(dados)"
      ],
      "execution_count": null,
      "outputs": [
        {
          "output_type": "execute_result",
          "data": {
            "text/plain": [
              "10.610079575596817"
            ]
          },
          "metadata": {
            "tags": []
          },
          "execution_count": 5
        }
      ]
    },
    {
      "cell_type": "code",
      "metadata": {
        "id": "-wvNOi58FwD0",
        "colab": {
          "base_uri": "https://localhost:8080/",
          "height": 35
        },
        "outputId": "4fdb285a-c61d-4a2f-8bce-cca5511a74c2"
      },
      "source": [
        "listaItens = [\"SP\", \"RJ\",\"MG\",\"SP\",\"TO\",\"RS\",\"SC\",\"SP\",\"SC\"]\n",
        "sts.mode(listaItens)"
      ],
      "execution_count": null,
      "outputs": [
        {
          "output_type": "execute_result",
          "data": {
            "application/vnd.google.colaboratory.intrinsic": {
              "type": "string"
            },
            "text/plain": [
              "'SP'"
            ]
          },
          "metadata": {
            "tags": []
          },
          "execution_count": 6
        }
      ]
    },
    {
      "cell_type": "code",
      "metadata": {
        "id": "tS4j8KOgF-_G",
        "colab": {
          "base_uri": "https://localhost:8080/",
          "height": 35
        },
        "outputId": "2d9e68d6-935d-4b0f-e4ab-ae1b32a6c52b"
      },
      "source": [
        "lista = [2, 5, 7, 4, 1, 9, 5, 9, 2, 6, 7, 9, 4, 3, 5, 7]\n",
        "#sts.mode(lista)\n",
        "from scipy import stats as s\n",
        "moda = s.mode(lista, axis=None)\n",
        "\"\"\"\n",
        "Usar statistics.mode() com este conjunto de dados retorna um erro porque há mais de uma\n",
        "moda.\n",
        "Usar scipy.stats retorna apenas o menor valor entre as modas\n",
        "\"\"\""
      ],
      "execution_count": null,
      "outputs": [
        {
          "output_type": "execute_result",
          "data": {
            "application/vnd.google.colaboratory.intrinsic": {
              "type": "string"
            },
            "text/plain": [
              "'\\nUsar statistics.mode() com este conjunto de dados retorna um erro porque há mais de uma\\nmoda.\\nUsar scipy.stats retorna apenas o menor valor entre as modas\\n'"
            ]
          },
          "metadata": {
            "tags": []
          },
          "execution_count": 32
        }
      ]
    },
    {
      "cell_type": "code",
      "metadata": {
        "id": "7F49D1enF_tv",
        "colab": {
          "base_uri": "https://localhost:8080/",
          "height": 34
        },
        "outputId": "0a0a34de-90a6-4610-a9d5-ee89aec910a8"
      },
      "source": [
        "moda"
      ],
      "execution_count": null,
      "outputs": [
        {
          "output_type": "execute_result",
          "data": {
            "text/plain": [
              "ModeResult(mode=array([5]), count=array([3]))"
            ]
          },
          "metadata": {
            "tags": []
          },
          "execution_count": 20
        }
      ]
    },
    {
      "cell_type": "code",
      "metadata": {
        "id": "vV00Qy24G0KK",
        "colab": {
          "base_uri": "https://localhost:8080/",
          "height": 34
        },
        "outputId": "42febbbc-0553-4dc7-e1c9-f197c6593690"
      },
      "source": [
        "moda[0]"
      ],
      "execution_count": null,
      "outputs": [
        {
          "output_type": "execute_result",
          "data": {
            "text/plain": [
              "array([5])"
            ]
          },
          "metadata": {
            "tags": []
          },
          "execution_count": 24
        }
      ]
    },
    {
      "cell_type": "code",
      "metadata": {
        "id": "4yBxxI4MG9nF",
        "colab": {
          "base_uri": "https://localhost:8080/",
          "height": 34
        },
        "outputId": "cc03a5da-92d2-4eb2-a6a3-bd3655aec61f"
      },
      "source": [
        "#Para verificar as múltiplas modas, usamos Counter e observamos most_common\n",
        "from collections import Counter\n",
        "freq_lista = Counter(lista)\n",
        "freq_lista.most_common()"
      ],
      "execution_count": null,
      "outputs": [
        {
          "output_type": "execute_result",
          "data": {
            "text/plain": [
              "[(5, 3), (7, 3), (9, 3), (2, 2), (4, 2), (1, 1), (6, 1), (3, 1)]"
            ]
          },
          "metadata": {
            "tags": []
          },
          "execution_count": 26
        }
      ]
    },
    {
      "cell_type": "markdown",
      "metadata": {
        "id": "0YFLwOQQJTQa"
      },
      "source": [
        "Como observado, as múltiplas modas do conjunto de dados são 5, 7 e 9, todas com 3 ocorrências cada."
      ]
    },
    {
      "cell_type": "code",
      "metadata": {
        "id": "UAODFrqLG8aL",
        "colab": {
          "base_uri": "https://localhost:8080/",
          "height": 34
        },
        "outputId": "9dfa4171-e180-49d8-89b6-1b29410cf559"
      },
      "source": [
        "#Mediana\n",
        "np.median(lista)"
      ],
      "execution_count": null,
      "outputs": [
        {
          "output_type": "execute_result",
          "data": {
            "text/plain": [
              "5.0"
            ]
          },
          "metadata": {
            "tags": []
          },
          "execution_count": 27
        }
      ]
    },
    {
      "cell_type": "code",
      "metadata": {
        "id": "Axk5iHzxG4FC",
        "colab": {
          "base_uri": "https://localhost:8080/",
          "height": 34
        },
        "outputId": "04efcaab-d051-4b3b-81ba-d1e9a2af6ee1"
      },
      "source": [
        "#Média\n",
        "np.mean(lista)"
      ],
      "execution_count": null,
      "outputs": [
        {
          "output_type": "execute_result",
          "data": {
            "text/plain": [
              "5.3125"
            ]
          },
          "metadata": {
            "tags": []
          },
          "execution_count": 29
        }
      ]
    },
    {
      "cell_type": "markdown",
      "metadata": {
        "id": "n47gzzHlKKCi"
      },
      "source": [
        "**Quartis, decis e percentis ou centis**\n",
        "\n",
        "\n",
        "\n",
        "Medidas dividem os dados em partes iguais:\n",
        "*   Quartis: quatro partes\n",
        "*   Decis: dez partes\n",
        "*   Centis: cem partes\n",
        "\n",
        "\n",
        "\n"
      ]
    },
    {
      "cell_type": "code",
      "metadata": {
        "id": "l_hXr1NVKPdW",
        "colab": {
          "base_uri": "https://localhost:8080/",
          "height": 318
        },
        "outputId": "9f963b30-aad9-4e8a-8b6b-b87645108a85"
      },
      "source": [
        "import pandas as pd\n",
        "serie = pd.Series(lista)\n",
        "serie"
      ],
      "execution_count": null,
      "outputs": [
        {
          "output_type": "execute_result",
          "data": {
            "text/plain": [
              "0     2\n",
              "1     5\n",
              "2     7\n",
              "3     4\n",
              "4     1\n",
              "5     9\n",
              "6     5\n",
              "7     9\n",
              "8     2\n",
              "9     6\n",
              "10    7\n",
              "11    9\n",
              "12    4\n",
              "13    3\n",
              "14    5\n",
              "15    7\n",
              "dtype: int64"
            ]
          },
          "metadata": {
            "tags": []
          },
          "execution_count": 33
        }
      ]
    },
    {
      "cell_type": "markdown",
      "metadata": {
        "id": "-B9xuE5rR2nN"
      },
      "source": [
        "Qp={x(np)+1:n --> se np não é inteiro\n",
        "\n",
        "1/2(xnp:n+xnp+1:n) --> se np é inteiro"
      ]
    },
    {
      "cell_type": "code",
      "metadata": {
        "id": "ao9P_UazLJ9l",
        "colab": {
          "base_uri": "https://localhost:8080/",
          "height": 34
        },
        "outputId": "8eb5259b-a0c8-4d5c-a285-1b685d73fc88"
      },
      "source": [
        "#Quartis\n",
        "quartis = list(np.quantile(serie, [0.25, 0.5, 0.75, 1]))\n",
        "quartis\n"
      ],
      "execution_count": null,
      "outputs": [
        {
          "output_type": "execute_result",
          "data": {
            "text/plain": [
              "[3.75, 5.0, 7.0, 9.0]"
            ]
          },
          "metadata": {
            "tags": []
          },
          "execution_count": 59
        }
      ]
    },
    {
      "cell_type": "code",
      "metadata": {
        "id": "ugeCHMvHRlup",
        "colab": {
          "base_uri": "https://localhost:8080/",
          "height": 34
        },
        "outputId": "1c245f87-d72d-45ab-840f-6e3632cb95e8"
      },
      "source": [
        "#Cálculos manual\n",
        "lista_ord = sorted(lista)\n",
        "n = len(lista_ord)\n",
        "lista_ord"
      ],
      "execution_count": null,
      "outputs": [
        {
          "output_type": "execute_result",
          "data": {
            "text/plain": [
              "[1, 2, 2, 3, 4, 4, 5, 5, 5, 6, 7, 7, 7, 9, 9, 9]"
            ]
          },
          "metadata": {
            "tags": []
          },
          "execution_count": 66
        }
      ]
    },
    {
      "cell_type": "code",
      "metadata": {
        "id": "4nrTB8WxTbEJ",
        "colab": {
          "base_uri": "https://localhost:8080/",
          "height": 52
        },
        "outputId": "92338af9-ce33-4989-e9c2-8540ea6ccf75"
      },
      "source": [
        "q1_m = int(n / 4)\n",
        "q2_m = int((2 * n) / 4)\n",
        "q3_m = int((3 * n) / 4)\n",
        "print('Quartis:\\n', q1_m, q2_m, q3_m)"
      ],
      "execution_count": null,
      "outputs": [
        {
          "output_type": "stream",
          "text": [
            "Quartis:\n",
            " 4 8 12\n"
          ],
          "name": "stdout"
        }
      ]
    },
    {
      "cell_type": "code",
      "metadata": {
        "id": "Fiu0dkQeUP5A",
        "colab": {
          "base_uri": "https://localhost:8080/",
          "height": 34
        },
        "outputId": "0e4b32a6-ef09-484b-b8bd-d464f1eca63d"
      },
      "source": [
        "lista_por_quartis = []\n",
        "lista_por_quartis.append([lista_ord[k] for k in range(0, q1_m)])\n",
        "lista_por_quartis.append([lista_ord[k] for k in range(0, q2_m)])\n",
        "lista_por_quartis.append([lista_ord[k] for k in range(0, q3_m)])\n",
        "lista_por_quartis"
      ],
      "execution_count": null,
      "outputs": [
        {
          "output_type": "execute_result",
          "data": {
            "text/plain": [
              "[[1, 2, 2, 3], [1, 2, 2, 3, 4, 4, 5, 5], [1, 2, 2, 3, 4, 4, 5, 5, 5, 6, 7, 7]]"
            ]
          },
          "metadata": {
            "tags": []
          },
          "execution_count": 83
        }
      ]
    },
    {
      "cell_type": "code",
      "metadata": {
        "id": "9D-rjvY4NJVD",
        "colab": {
          "base_uri": "https://localhost:8080/",
          "height": 34
        },
        "outputId": "b7f13389-e26a-4646-bc64-063c482ac488"
      },
      "source": [
        "q1 = [lista[k]\n",
        "      for k in range(0, len(lista))\n",
        "      if lista[k] <= quartis[0]]\n",
        "q1"
      ],
      "execution_count": null,
      "outputs": [
        {
          "output_type": "execute_result",
          "data": {
            "text/plain": [
              "[2, 1, 2, 3]"
            ]
          },
          "metadata": {
            "tags": []
          },
          "execution_count": 49
        }
      ]
    },
    {
      "cell_type": "code",
      "metadata": {
        "id": "osbaL0VoNhqI",
        "colab": {
          "base_uri": "https://localhost:8080/",
          "height": 34
        },
        "outputId": "8fbc5481-b5dc-440b-d36d-8f2d58142d9d"
      },
      "source": [
        "q2 = [lista[k]\n",
        "      for k in range(0, len(lista))\n",
        "      if lista[k] > quartis[0] and lista[k] <= quartis[1]]\n",
        "q2"
      ],
      "execution_count": null,
      "outputs": [
        {
          "output_type": "execute_result",
          "data": {
            "text/plain": [
              "[5, 4, 5, 4, 5]"
            ]
          },
          "metadata": {
            "tags": []
          },
          "execution_count": 51
        }
      ]
    },
    {
      "cell_type": "code",
      "metadata": {
        "id": "mOJHsUsrNOHR",
        "colab": {
          "base_uri": "https://localhost:8080/",
          "height": 34
        },
        "outputId": "0e727666-72fb-4c8e-954a-72b13555f7c3"
      },
      "source": [
        "q3 = [lista[k]\n",
        "      for k in range(0, len(lista))\n",
        "      if lista[k] > quartis[1] and lista[k] <= quartis[2]]\n",
        "q3"
      ],
      "execution_count": null,
      "outputs": [
        {
          "output_type": "execute_result",
          "data": {
            "text/plain": [
              "[7, 6, 7, 7]"
            ]
          },
          "metadata": {
            "tags": []
          },
          "execution_count": 56
        }
      ]
    },
    {
      "cell_type": "code",
      "metadata": {
        "id": "LnDPEop6NQEp",
        "colab": {
          "base_uri": "https://localhost:8080/",
          "height": 34
        },
        "outputId": "1aa6b802-8b63-472e-f137-23d0ad55e3dc"
      },
      "source": [
        "q4 = [lista[k]\n",
        "      for k in range(0, len(lista))\n",
        "      if lista[k] > quartis[2]]\n",
        "q4"
      ],
      "execution_count": null,
      "outputs": [
        {
          "output_type": "execute_result",
          "data": {
            "text/plain": [
              "[9, 9, 9]"
            ]
          },
          "metadata": {
            "tags": []
          },
          "execution_count": 53
        }
      ]
    },
    {
      "cell_type": "code",
      "metadata": {
        "id": "r3IaE3OGNCtj",
        "colab": {
          "base_uri": "https://localhost:8080/",
          "height": 34
        },
        "outputId": "cb3e2b23-c957-4c62-a139-1eb91c74e2cd"
      },
      "source": [
        "#Organizando dados para conferência\n",
        "sorted(lista)"
      ],
      "execution_count": null,
      "outputs": [
        {
          "output_type": "execute_result",
          "data": {
            "text/plain": [
              "[1, 2, 2, 3, 4, 4, 5, 5, 5, 6, 7, 7, 7, 9, 9, 9]"
            ]
          },
          "metadata": {
            "tags": []
          },
          "execution_count": 55
        }
      ]
    }
  ]
}