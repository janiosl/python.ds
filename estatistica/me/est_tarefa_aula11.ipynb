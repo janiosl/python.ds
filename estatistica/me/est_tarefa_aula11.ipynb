{
  "nbformat": 4,
  "nbformat_minor": 0,
  "metadata": {
    "colab": {
      "name": "est_tarefa_aula11.ipynb",
      "provenance": [],
      "collapsed_sections": [],
      "toc_visible": true,
      "authorship_tag": "ABX9TyOEdlobL3kS50qyds5liAvX",
      "include_colab_link": true
    },
    "kernelspec": {
      "name": "python3",
      "display_name": "Python 3"
    },
    "language_info": {
      "name": "python"
    }
  },
  "cells": [
    {
      "cell_type": "markdown",
      "metadata": {
        "id": "view-in-github",
        "colab_type": "text"
      },
      "source": [
        "<a href=\"https://colab.research.google.com/github/janiosl/python.ds/blob/master/estatistica/me/est_tarefa_aula11.ipynb\" target=\"_parent\"><img src=\"https://colab.research.google.com/assets/colab-badge.svg\" alt=\"Open In Colab\"/></a>"
      ]
    },
    {
      "cell_type": "markdown",
      "metadata": {
        "id": "0fhJ6eq87fU8"
      },
      "source": [
        "#**CEFET-RJ**\n",
        "\n",
        "**Programa de Pós-Gradução em Ciência da Computação - PPCIC**\n",
        "\n",
        "**Mestrado em Ciência da Computação**\n",
        "\n",
        "**Disciplina: Métodos Estatísticos - 2021/2**\n",
        "\n",
        "* **Exercícios - Aula 11**\n",
        "* **Prof.: Diego Barreto Haddad**\n",
        "* **Aluno: Janio de Souza Lima**\n",
        "\n",
        "\n",
        "\n",
        "---"
      ]
    },
    {
      "cell_type": "markdown",
      "metadata": {
        "id": "UixQ926qoRlU"
      },
      "source": [
        "## Preparação do ambiente e funções gerais"
      ]
    },
    {
      "cell_type": "code",
      "metadata": {
        "id": "Pu2yyUDRbBN8"
      },
      "source": [
        "#Carga de bibliotecas usadas nas questões\n",
        "import numpy as np\n",
        "import pandas as pd\n",
        "import seaborn as sns\n",
        "\n",
        "from matplotlib import pyplot as plt\n",
        "from sklearn.linear_model import LinearRegression"
      ],
      "execution_count": 1,
      "outputs": []
    },
    {
      "cell_type": "markdown",
      "metadata": {
        "id": "-bzZNgNiwM96"
      },
      "source": [
        "## Questão 1:\n",
        "\n",
        "Experimento sobre sentimentos em relação ao nível de estresse e satisfação com a vida"
      ]
    },
    {
      "cell_type": "code",
      "metadata": {
        "id": "Pw63AXs0n7Av"
      },
      "source": [
        "#Tabulação do experimento\n",
        "sentimentos = pd.DataFrame(data={\n",
        "    'Participante': [1,2,3,4,5,6,7,8,9,10],\n",
        "    'Estresse': [11,25,19,7,23,6,11,22,25,10],\n",
        "    'Satisfação': [7,1,4,9,2,8,8,3,3,6]\n",
        "    })"
      ],
      "execution_count": 2,
      "outputs": []
    },
    {
      "cell_type": "code",
      "metadata": {
        "id": "bXkS0Q_3y07N",
        "colab": {
          "base_uri": "https://localhost:8080/",
          "height": 359
        },
        "outputId": "b0c6bad6-3c2f-43ee-8884-9da393c2b533"
      },
      "source": [
        "sentimentos"
      ],
      "execution_count": 3,
      "outputs": [
        {
          "output_type": "execute_result",
          "data": {
            "text/html": [
              "<div>\n",
              "<style scoped>\n",
              "    .dataframe tbody tr th:only-of-type {\n",
              "        vertical-align: middle;\n",
              "    }\n",
              "\n",
              "    .dataframe tbody tr th {\n",
              "        vertical-align: top;\n",
              "    }\n",
              "\n",
              "    .dataframe thead th {\n",
              "        text-align: right;\n",
              "    }\n",
              "</style>\n",
              "<table border=\"1\" class=\"dataframe\">\n",
              "  <thead>\n",
              "    <tr style=\"text-align: right;\">\n",
              "      <th></th>\n",
              "      <th>Participante</th>\n",
              "      <th>Estresse</th>\n",
              "      <th>Satisfação</th>\n",
              "    </tr>\n",
              "  </thead>\n",
              "  <tbody>\n",
              "    <tr>\n",
              "      <th>0</th>\n",
              "      <td>1</td>\n",
              "      <td>11</td>\n",
              "      <td>7</td>\n",
              "    </tr>\n",
              "    <tr>\n",
              "      <th>1</th>\n",
              "      <td>2</td>\n",
              "      <td>25</td>\n",
              "      <td>1</td>\n",
              "    </tr>\n",
              "    <tr>\n",
              "      <th>2</th>\n",
              "      <td>3</td>\n",
              "      <td>19</td>\n",
              "      <td>4</td>\n",
              "    </tr>\n",
              "    <tr>\n",
              "      <th>3</th>\n",
              "      <td>4</td>\n",
              "      <td>7</td>\n",
              "      <td>9</td>\n",
              "    </tr>\n",
              "    <tr>\n",
              "      <th>4</th>\n",
              "      <td>5</td>\n",
              "      <td>23</td>\n",
              "      <td>2</td>\n",
              "    </tr>\n",
              "    <tr>\n",
              "      <th>5</th>\n",
              "      <td>6</td>\n",
              "      <td>6</td>\n",
              "      <td>8</td>\n",
              "    </tr>\n",
              "    <tr>\n",
              "      <th>6</th>\n",
              "      <td>7</td>\n",
              "      <td>11</td>\n",
              "      <td>8</td>\n",
              "    </tr>\n",
              "    <tr>\n",
              "      <th>7</th>\n",
              "      <td>8</td>\n",
              "      <td>22</td>\n",
              "      <td>3</td>\n",
              "    </tr>\n",
              "    <tr>\n",
              "      <th>8</th>\n",
              "      <td>9</td>\n",
              "      <td>25</td>\n",
              "      <td>3</td>\n",
              "    </tr>\n",
              "    <tr>\n",
              "      <th>9</th>\n",
              "      <td>10</td>\n",
              "      <td>10</td>\n",
              "      <td>6</td>\n",
              "    </tr>\n",
              "  </tbody>\n",
              "</table>\n",
              "</div>"
            ],
            "text/plain": [
              "   Participante  Estresse  Satisfação\n",
              "0             1        11           7\n",
              "1             2        25           1\n",
              "2             3        19           4\n",
              "3             4         7           9\n",
              "4             5        23           2\n",
              "5             6         6           8\n",
              "6             7        11           8\n",
              "7             8        22           3\n",
              "8             9        25           3\n",
              "9            10        10           6"
            ]
          },
          "metadata": {},
          "execution_count": 3
        }
      ]
    },
    {
      "cell_type": "markdown",
      "metadata": {
        "id": "hWGxVUZd7Pb-"
      },
      "source": [
        "### (a) Visualização dos dados"
      ]
    },
    {
      "cell_type": "code",
      "metadata": {
        "colab": {
          "base_uri": "https://localhost:8080/",
          "height": 327
        },
        "id": "5adzzpIYJ3bB",
        "outputId": "42bae797-b715-4fab-f312-a3c772d0045e"
      },
      "source": [
        "plt.scatter(x=sentimentos['Estresse'],\n",
        "            y=sentimentos['Satisfação'])\n",
        "\n",
        "plt.title('Análise de dispersão\\nEstresse e Satisfação com a vida')\n",
        "\n",
        "sns.despine()\n",
        "\n",
        "plt.xlabel('Nível Estresse')\n",
        "plt.ylabel('Satisfação com a vida')"
      ],
      "execution_count": 16,
      "outputs": [
        {
          "output_type": "execute_result",
          "data": {
            "text/plain": [
              "Text(0, 0.5, 'Satisfação com a vida')"
            ]
          },
          "metadata": {},
          "execution_count": 16
        },
        {
          "output_type": "display_data",
          "data": {
            "image/png": "[encoded data removed]",
            "text/plain": [
              "<Figure size 432x288 with 1 Axes>"
            ]
          },
          "metadata": {
            "needs_background": "light"
          }
        }
      ]
    },
    {
      "cell_type": "markdown",
      "metadata": {
        "id": "WGVV4NFgJ2yz"
      },
      "source": [
        "### (b) Correlação entre as variáveis"
      ]
    },
    {
      "cell_type": "code",
      "metadata": {
        "colab": {
          "base_uri": "https://localhost:8080/"
        },
        "id": "OjvUpsCTKYj5",
        "outputId": "0b2af0ce-5e5c-4c7b-edce-3178133e961a"
      },
      "source": [
        "cor = sentimentos['Estresse'].corr(sentimentos['Satisfação'])\n",
        "\n",
        "print('Correlação entre nível de estresse e satisfação com a vida:')\n",
        "print(round(cor, 4))"
      ],
      "execution_count": 5,
      "outputs": [
        {
          "output_type": "stream",
          "name": "stdout",
          "text": [
            "Correlação entre nível de estresse e satisfação com a vida:\n",
            "-0.9573\n"
          ]
        }
      ]
    },
    {
      "cell_type": "markdown",
      "metadata": {
        "id": "NPs_E-kByMHp"
      },
      "source": [
        "## Questão 2:\n",
        "\n",
        "Produção de trigo e de farinha"
      ]
    },
    {
      "cell_type": "code",
      "metadata": {
        "id": "2UwG7g4mA87P"
      },
      "source": [
        "#Tabulação do experimento\n",
        "producao = pd.DataFrame(data={\n",
        "    'Trigo': [30,28,32,25,25,25,22,24,35,40],\n",
        "    'Farinha': [25,30,27,40,42,40,50,45,30,25]\n",
        "    })"
      ],
      "execution_count": 6,
      "outputs": []
    },
    {
      "cell_type": "code",
      "metadata": {
        "id": "104OWsvgI95c",
        "colab": {
          "base_uri": "https://localhost:8080/",
          "height": 359
        },
        "outputId": "6af4085b-3617-49bf-aa37-e0272aa0e0f9"
      },
      "source": [
        "producao"
      ],
      "execution_count": 7,
      "outputs": [
        {
          "output_type": "execute_result",
          "data": {
            "text/html": [
              "<div>\n",
              "<style scoped>\n",
              "    .dataframe tbody tr th:only-of-type {\n",
              "        vertical-align: middle;\n",
              "    }\n",
              "\n",
              "    .dataframe tbody tr th {\n",
              "        vertical-align: top;\n",
              "    }\n",
              "\n",
              "    .dataframe thead th {\n",
              "        text-align: right;\n",
              "    }\n",
              "</style>\n",
              "<table border=\"1\" class=\"dataframe\">\n",
              "  <thead>\n",
              "    <tr style=\"text-align: right;\">\n",
              "      <th></th>\n",
              "      <th>Trigo</th>\n",
              "      <th>Farinha</th>\n",
              "    </tr>\n",
              "  </thead>\n",
              "  <tbody>\n",
              "    <tr>\n",
              "      <th>0</th>\n",
              "      <td>30</td>\n",
              "      <td>25</td>\n",
              "    </tr>\n",
              "    <tr>\n",
              "      <th>1</th>\n",
              "      <td>28</td>\n",
              "      <td>30</td>\n",
              "    </tr>\n",
              "    <tr>\n",
              "      <th>2</th>\n",
              "      <td>32</td>\n",
              "      <td>27</td>\n",
              "    </tr>\n",
              "    <tr>\n",
              "      <th>3</th>\n",
              "      <td>25</td>\n",
              "      <td>40</td>\n",
              "    </tr>\n",
              "    <tr>\n",
              "      <th>4</th>\n",
              "      <td>25</td>\n",
              "      <td>42</td>\n",
              "    </tr>\n",
              "    <tr>\n",
              "      <th>5</th>\n",
              "      <td>25</td>\n",
              "      <td>40</td>\n",
              "    </tr>\n",
              "    <tr>\n",
              "      <th>6</th>\n",
              "      <td>22</td>\n",
              "      <td>50</td>\n",
              "    </tr>\n",
              "    <tr>\n",
              "      <th>7</th>\n",
              "      <td>24</td>\n",
              "      <td>45</td>\n",
              "    </tr>\n",
              "    <tr>\n",
              "      <th>8</th>\n",
              "      <td>35</td>\n",
              "      <td>30</td>\n",
              "    </tr>\n",
              "    <tr>\n",
              "      <th>9</th>\n",
              "      <td>40</td>\n",
              "      <td>25</td>\n",
              "    </tr>\n",
              "  </tbody>\n",
              "</table>\n",
              "</div>"
            ],
            "text/plain": [
              "   Trigo  Farinha\n",
              "0     30       25\n",
              "1     28       30\n",
              "2     32       27\n",
              "3     25       40\n",
              "4     25       42\n",
              "5     25       40\n",
              "6     22       50\n",
              "7     24       45\n",
              "8     35       30\n",
              "9     40       25"
            ]
          },
          "metadata": {},
          "execution_count": 7
        }
      ]
    },
    {
      "cell_type": "code",
      "metadata": {
        "id": "_abZq4jcJXrx"
      },
      "source": [
        "#Criar objeto com o algoritmo do modelo\n",
        "from sklearn.linear_model import LinearRegression\n",
        "lm = LinearRegression()"
      ],
      "execution_count": 8,
      "outputs": []
    },
    {
      "cell_type": "code",
      "metadata": {
        "id": "kYbsHhdyJUWm"
      },
      "source": [
        "#Preparar dados\n",
        "X = np.array(producao.Trigo).reshape(-1,1)\n",
        "y = np.array(producao.Farinha).reshape(-1,1)"
      ],
      "execution_count": 9,
      "outputs": []
    },
    {
      "cell_type": "code",
      "metadata": {
        "colab": {
          "base_uri": "https://localhost:8080/"
        },
        "id": "PQ3Y08xvKk9A",
        "outputId": "c93e339e-39c5-444e-8758-99750c2ac472"
      },
      "source": [
        "#Treinar modelo*\n",
        "lm.fit(X, y)"
      ],
      "execution_count": 10,
      "outputs": [
        {
          "output_type": "execute_result",
          "data": {
            "text/plain": [
              "LinearRegression(copy_X=True, fit_intercept=True, n_jobs=None, normalize=False)"
            ]
          },
          "metadata": {},
          "execution_count": 10
        }
      ]
    },
    {
      "cell_type": "code",
      "metadata": {
        "id": "Aktaq94WLtwM"
      },
      "source": [
        "# extrair coeficientes\n",
        "inclinacao = lm.coef_[0]\n",
        "intersecao = lm.intercept_"
      ],
      "execution_count": 11,
      "outputs": []
    },
    {
      "cell_type": "code",
      "metadata": {
        "colab": {
          "base_uri": "https://localhost:8080/",
          "height": 404
        },
        "id": "qiXDHDFPLvJ7",
        "outputId": "6a4aee0b-b459-4997-9bf8-b152a404ad6a"
      },
      "source": [
        "# plotar pontos e retas com parâmetros otimizados\n",
        "plt.figure(figsize=(9,6))\n",
        "\n",
        "plt.scatter(X, y, s=10)\n",
        "plt.plot(X, (X * inclinacao + intersecao), color='r')\n",
        "\n",
        "plt.legend(['Reta de Ajustamento', 'Dispersão dos dados'])\n",
        "plt.title(\n",
        "    'Regressão Linear Simples')\n",
        "\n",
        "plt.ylabel('Produção de Farinha')\n",
        "plt.xlabel('Produção de Trigo')\n",
        "\n",
        "sns.despine()"
      ],
      "execution_count": 14,
      "outputs": [
        {
          "output_type": "display_data",
          "data": {
            "image/png": "[encoded data removed]",
            "text/plain": [
              "<Figure size 648x432 with 1 Axes>"
            ]
          },
          "metadata": {
            "needs_background": "light"
          }
        }
      ]
    },
    {
      "cell_type": "code",
      "metadata": {
        "colab": {
          "base_uri": "https://localhost:8080/"
        },
        "id": "B_o-HO4bPCRl",
        "outputId": "6bfbe3ce-78ac-4f8d-e64b-6642abb522c4"
      },
      "source": [
        "# imprimir os valores encontrados para os parâmetros\n",
        "print(f'a - interseção: \\t{intersecao[0]:.4f}')\n",
        "print(f'b - inclinação: \\t{inclinacao[0]:.4f}\\n')\n",
        "print(f'Equação: Ŷ = {intersecao[0]:.4f}{inclinacao[0]:.4f}x')"
      ],
      "execution_count": 13,
      "outputs": [
        {
          "output_type": "stream",
          "name": "stdout",
          "text": [
            "a - interseção: \t74.1151\n",
            "b - inclinação: \t-1.3537\n",
            "\n",
            "Equação: Ŷ = 74.1151-1.3537x\n"
          ]
        }
      ]
    },
    {
      "cell_type": "markdown",
      "metadata": {
        "id": "NS-QzVB80lcd"
      },
      "source": [
        "#Referências"
      ]
    },
    {
      "cell_type": "markdown",
      "metadata": {
        "id": "dXyxCptN0nOp"
      },
      "source": [
        "Jay L. Devore. **Probabilidade e Estatística para engenharia e ciências**. Cengage, 2006.\n",
        "\n",
        "Pedro A. Morettin, Wilton de O. Bussab. **Estatística Básica**. Saraiva, 2017.\n",
        "\n",
        "Ronald E. Walpole, Raymond H. Myers, Sharon L. Myers e Keying Ye. **Probability & Statistics for Engineers & Scientistis**. Pearson, 2012.\n",
        "\n",
        "---\n",
        "\n",
        "**Códigos e materiais complementares:**\n",
        "* Versão online desse notebook: https://github.com/janiosl/python.ds/blob/master/estatistica/me/est_tarefa_aula07_08.ipynb"
      ]
    }
  ]
}