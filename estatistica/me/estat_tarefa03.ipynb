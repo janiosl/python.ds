{
  "nbformat": 4,
  "nbformat_minor": 0,
  "metadata": {
    "colab": {
      "name": "estat_tarefa03.ipynb",
      "provenance": [],
      "collapsed_sections": [],
      "toc_visible": true,
      "authorship_tag": "ABX9TyOYoZkuxMnMW/f27iYTwKzP",
      "include_colab_link": true
    },
    "kernelspec": {
      "name": "python3",
      "display_name": "Python 3"
    },
    "language_info": {
      "name": "python"
    }
  },
  "cells": [
    {
      "cell_type": "markdown",
      "metadata": {
        "id": "view-in-github",
        "colab_type": "text"
      },
      "source": [
        "<a href=\"https://colab.research.google.com/github/janiosl/python.ds/blob/master/estatistica/me/estat_tarefa03.ipynb\" target=\"_parent\"><img src=\"https://colab.research.google.com/assets/colab-badge.svg\" alt=\"Open In Colab\"/></a>"
      ]
    },
    {
      "cell_type": "markdown",
      "metadata": {
        "id": "ZJDPAD35dREV"
      },
      "source": [
        "#Métodos Estatísticos\n",
        "\n",
        "* **Prof.: Diego Barreto Haddad**\n",
        "* **Aluno: Janio de Souza Lima**\n",
        "\n",
        "**Exercícios 02**\n",
        "\n",
        "---"
      ]
    },
    {
      "cell_type": "markdown",
      "metadata": {
        "id": "yAAfJkvWfRC4"
      },
      "source": [
        "##1 Probabilidade de duas bolas vermelhas\n",
        "\n"
      ]
    },
    {
      "cell_type": "markdown",
      "metadata": {
        "id": "ZASvu6Xzf5jt"
      },
      "source": [
        "Dados para análise:\n",
        "* Bolas vermelhas: 8\n",
        "* Bolas brancas: 4\n",
        "* Total: 12 bolas\n",
        "* Retirada de duas bolas, sem reposição\n",
        "---\n",
        "* Questão:\n",
        "\n",
        "**Qual a probabilidade de ambas as bolas retiradas serem vermelhas?**"
      ]
    },
    {
      "cell_type": "code",
      "metadata": {
        "id": "E03yh1Mac04N",
        "colab": {
          "base_uri": "https://localhost:8080/"
        },
        "outputId": "a3f0d40b-4273-4d7f-d260-af9d2ee469fb"
      },
      "source": [
        "#Quantidades\n",
        "vermelhas = 8                #Quantidade de bolas vermelhas\n",
        "brancas = 4                  #Quantidade de bolas brancas\n",
        "total = vermelhas + brancas  #Total de bolas\n",
        "\n",
        "print('Quantidades iniciais')\n",
        "print(f'Bolas vermelhas: {vermelhas}\\nBolas brancas: {brancas}\\nTotasl: {total}')"
      ],
      "execution_count": 22,
      "outputs": [
        {
          "output_type": "stream",
          "text": [
            "Quantidades iniciais\n",
            "Bolas vermelhas: 8\n",
            "Bolas brancas: 4\n",
            "Totasl: 12\n"
          ],
          "name": "stdout"
        }
      ]
    },
    {
      "cell_type": "markdown",
      "metadata": {
        "id": "bZsqWTDRQMzo"
      },
      "source": [
        "Tendo em vista os pressupostos:\n",
        "\n",
        "a) a chance de retirada de cada bola individualmente é equiprovável;\n",
        "\n",
        "b) não há reposição das bolas, assim as probabilidades precisarão ser recalculadas a cada rodada;\n",
        "\n",
        "c) a primeira bola retirada precisa ser vermelha para que ambas também o sejam.\n",
        "\n",
        "Analisaremos a probabilidade condicional da segunda bola ser vermelha dado que a primeira é vermelha e o espaço amostral foi reduzido em uma bola."
      ]
    },
    {
      "cell_type": "code",
      "metadata": {
        "colab": {
          "base_uri": "https://localhost:8080/"
        },
        "id": "oz7cjJWCyWWO",
        "outputId": "198aa9cd-dee0-4c04-9161-66c3a5c59208"
      },
      "source": [
        "#Probabilidade inicial por cor de bola\n",
        "prob_v = vermelhas / total\n",
        "prob_b = brancas / total\n",
        "\n",
        "print(f'P(vermelha) = {prob_v:.3f}\\nP(branca) = {prob_b:.3f}')"
      ],
      "execution_count": 23,
      "outputs": [
        {
          "output_type": "stream",
          "text": [
            "P(vermelha) = 0.667\n",
            "P(branca) = 0.333\n"
          ],
          "name": "stdout"
        }
      ]
    },
    {
      "cell_type": "code",
      "metadata": {
        "colab": {
          "base_uri": "https://localhost:8080/"
        },
        "id": "de5FwZ_HypWg",
        "outputId": "2c1879a6-90ba-405e-b559-bea622445d07"
      },
      "source": [
        "#Rodada 1\n",
        "retira_vermelha = 1\n",
        "vermelhas -= 1\n",
        "total = vermelhas + brancas\n",
        "\n",
        "print('Quantidades após rodada 1')\n",
        "print(f'Bolas vermelhas: {vermelhas}\\nBolas brancas: {brancas}\\nTotasl: {total}')"
      ],
      "execution_count": 24,
      "outputs": [
        {
          "output_type": "stream",
          "text": [
            "Quantidades após rodada 1\n",
            "Bolas vermelhas: 7\n",
            "Bolas brancas: 4\n",
            "Totasl: 11\n"
          ],
          "name": "stdout"
        }
      ]
    },
    {
      "cell_type": "code",
      "metadata": {
        "colab": {
          "base_uri": "https://localhost:8080/"
        },
        "id": "OeLhMlmk0e21",
        "outputId": "544fe5ff-98ad-45b0-a3e4-d5240e6f4b74"
      },
      "source": [
        "#Probabilidade segunda rodada\n",
        "prob_rod2_v = vermelhas / total\n",
        "prob_rod2_b = brancas / total\n",
        "\n",
        "print(f'P(vermelha) = {prob_rod2_v:.3f}\\nP(branca) = {prob_rod2_b:.3f}')"
      ],
      "execution_count": 25,
      "outputs": [
        {
          "output_type": "stream",
          "text": [
            "P(vermelha) = 0.636\n",
            "P(branca) = 0.364\n"
          ],
          "name": "stdout"
        }
      ]
    },
    {
      "cell_type": "code",
      "metadata": {
        "colab": {
          "base_uri": "https://localhost:8080/"
        },
        "id": "IimUWN8T0xHZ",
        "outputId": "1ff47724-ee83-4344-f125-effce61d8da2"
      },
      "source": [
        "#Probabilidade das duas bolas serem vermelhas\n",
        "prob_2_vermelhas = prob_v * prob_rod2_v\n",
        "\n",
        "print(f'Probabilidade das duas vermelhas: {prob_2_vermelhas:.3f}')"
      ],
      "execution_count": 26,
      "outputs": [
        {
          "output_type": "stream",
          "text": [
            "Probabilidade das duas vermelhas: 0.424\n"
          ],
          "name": "stdout"
        }
      ]
    },
    {
      "cell_type": "markdown",
      "metadata": {
        "id": "Ho008Jij1_kV"
      },
      "source": [
        "##2 Probabilidade de sequência de valores em um dado de faces verdes e vermelhas\n",
        "\n",
        "\n",
        "\n"
      ]
    },
    {
      "cell_type": "markdown",
      "metadata": {
        "id": "zlpnAWat4aHj"
      },
      "source": [
        "Dados para análise:\n",
        "* Dado com 6 faces (D)\n",
        "* 4 faces verdes (g)\n",
        "* 2 faces vermelhas (r)\n",
        "* Sequências:\n",
        "1.   **S1 = R G R R R**\n",
        "2.   **S2 = R G R R R G**\n",
        "3.   **S3 = G R R R R R**\n",
        "---\n",
        "* Questões:\n",
        "\n",
        "**a) Qual a probabilidade de cada sequência?**"
      ]
    },
    {
      "cell_type": "code",
      "metadata": {
        "id": "4zUhkGNX2EGK",
        "colab": {
          "base_uri": "https://localhost:8080/"
        },
        "outputId": "936d486e-b0b3-491f-e68c-5bc9215ad768"
      },
      "source": [
        "#Quantidades\n",
        "r = 2      #Quantidade de faces vermelhas\n",
        "g = 4      #Quantidade de faces verdes\n",
        "D = r + g  #Total de faces do dado\n",
        "\n",
        "print('Características do dado')\n",
        "print(f'Faces vermelhas: {r}\\nFaces verdes: {g}\\nTotal de faces: {D}')"
      ],
      "execution_count": 33,
      "outputs": [
        {
          "output_type": "stream",
          "text": [
            "Características do dado\n",
            "Faces vermelhas: 2\n",
            "Faces verdes: 4\n",
            "Total de faces: 6\n"
          ],
          "name": "stdout"
        }
      ]
    },
    {
      "cell_type": "markdown",
      "metadata": {
        "id": "tqo7iXndOwGr"
      },
      "source": [
        "Tendo em vista os pressupostos:\n",
        "\n",
        "a) o dado não é viciado, ou seja, cada face individualmente é equiprovável;\n",
        "\n",
        "b) a ocorrência das cores são independentes;\n",
        "\n",
        "c) Dado não viciado, chance equiprovável para cada face.\n",
        "\n",
        "Analisaremos as probabilidades incondicionais de cada cor e calcularemos a probabilidade de cada sequência como um produto das probabilidades das cores."
      ]
    },
    {
      "cell_type": "code",
      "metadata": {
        "colab": {
          "base_uri": "https://localhost:8080/"
        },
        "id": "4TMJgKOWDEfL",
        "outputId": "dc22ab0c-12bd-477e-caa9-bb437951fe5d"
      },
      "source": [
        "#Probabilidade individual de cada cor de face\n",
        "prob_r = r / D\n",
        "prob_g = g / D\n",
        "\n",
        "print(f'P(r) = {prob_r:.3f}\\nP(g) = {prob_g:.3f}')"
      ],
      "execution_count": 35,
      "outputs": [
        {
          "output_type": "stream",
          "text": [
            "P(r) = 0.333\n",
            "P(g) = 0.667\n"
          ],
          "name": "stdout"
        }
      ]
    },
    {
      "cell_type": "code",
      "metadata": {
        "colab": {
          "base_uri": "https://localhost:8080/"
        },
        "id": "H5-oev-aFIE0",
        "outputId": "a23f89fc-9889-4c3a-a61f-ed93c9738f03"
      },
      "source": [
        "#Probabilidade da sequência 1: R G R R R\n",
        "p1 = prob_r * prob_g * prob_r * prob_r * prob_r\n",
        "p1"
      ],
      "execution_count": 36,
      "outputs": [
        {
          "output_type": "execute_result",
          "data": {
            "text/plain": [
              "0.008230452674897118"
            ]
          },
          "metadata": {
            "tags": []
          },
          "execution_count": 36
        }
      ]
    },
    {
      "cell_type": "code",
      "metadata": {
        "colab": {
          "base_uri": "https://localhost:8080/"
        },
        "id": "zU-IFwTBFH9Z",
        "outputId": "d49fda23-e3f7-4526-f60f-49f5eecb79d3"
      },
      "source": [
        "#Probabilidade da sequência 2: R G R R R G\n",
        "p2 = prob_r * prob_g * prob_r * prob_r * prob_r * prob_g\n",
        "p2"
      ],
      "execution_count": 37,
      "outputs": [
        {
          "output_type": "execute_result",
          "data": {
            "text/plain": [
              "0.005486968449931412"
            ]
          },
          "metadata": {
            "tags": []
          },
          "execution_count": 37
        }
      ]
    },
    {
      "cell_type": "code",
      "metadata": {
        "colab": {
          "base_uri": "https://localhost:8080/"
        },
        "id": "3JAy9fC0FHJP",
        "outputId": "3ab023c2-a65e-4c01-94f9-63fff60da9a4"
      },
      "source": [
        "#Probabilidade da sequência 3: G R R R R R\n",
        "p3 = prob_g * prob_r * prob_r * prob_r * prob_r * prob_r\n",
        "p3"
      ],
      "execution_count": 39,
      "outputs": [
        {
          "output_type": "execute_result",
          "data": {
            "text/plain": [
              "0.002743484224965706"
            ]
          },
          "metadata": {
            "tags": []
          },
          "execution_count": 39
        }
      ]
    },
    {
      "cell_type": "code",
      "metadata": {
        "colab": {
          "base_uri": "https://localhost:8080/"
        },
        "id": "4fCa7gFDNmCK",
        "outputId": "185c8d58-5a3f-45e8-d37d-dca73a9996f7"
      },
      "source": [
        "#Probabilidade de cada sequência\n",
        "print(f'P(S1) = {p1:.5f}\\nP(S2) = {p2:.5f}\\nP(S3) = {p3:.5f}')"
      ],
      "execution_count": 42,
      "outputs": [
        {
          "output_type": "stream",
          "text": [
            "P(S1) = 0.00823\n",
            "P(S2) = 0.00549\n",
            "P(S3) = 0.00274\n"
          ],
          "name": "stdout"
        }
      ]
    },
    {
      "cell_type": "markdown",
      "metadata": {
        "id": "ab0X0oeRE9eo"
      },
      "source": [
        "---\n",
        "b) **Qual sequência escolheria?**"
      ]
    },
    {
      "cell_type": "markdown",
      "metadata": {
        "id": "YM9cR1fsOjjM"
      },
      "source": [
        "Escolheria a primeira sequência (R G R R R), tendo em vista que ela tem a a maior probabilidade de ocorrência."
      ]
    },
    {
      "cell_type": "code",
      "metadata": {
        "colab": {
          "base_uri": "https://localhost:8080/"
        },
        "id": "nx_kMeg3ORIo",
        "outputId": "0b237382-b76e-4468-f2ce-8a4fcb79c38a"
      },
      "source": [
        "#Maior probabilidade\n",
        "max([p1, p2, p3])"
      ],
      "execution_count": 43,
      "outputs": [
        {
          "output_type": "execute_result",
          "data": {
            "text/plain": [
              "0.008230452674897118"
            ]
          },
          "metadata": {
            "tags": []
          },
          "execution_count": 43
        }
      ]
    },
    {
      "cell_type": "markdown",
      "metadata": {
        "id": "dOtD7SNx2EeN"
      },
      "source": [
        "##3 Probabilidade de respostas corretas em uma prova"
      ]
    },
    {
      "cell_type": "code",
      "metadata": {
        "id": "Z37EQYXn2JG5"
      },
      "source": [
        ""
      ],
      "execution_count": null,
      "outputs": []
    },
    {
      "cell_type": "code",
      "metadata": {
        "id": "rIbALbIn-ujv"
      },
      "source": [
        ""
      ],
      "execution_count": null,
      "outputs": []
    },
    {
      "cell_type": "markdown",
      "metadata": {
        "id": "SrTFzn_lzplI"
      },
      "source": [
        "## 4 Terceiro axioma da probabilidade"
      ]
    },
    {
      "cell_type": "markdown",
      "metadata": {
        "id": "SJcMcFD_zxln"
      },
      "source": [
        "Dados para análise:\n",
        "\n",
        "$P(A \\cup B) = P(A) + P(B) - P(A \\cap B)$ $^{(1)}$\n",
        "\n",
        "---\n",
        "* Questão:\n",
        "\n",
        "**Provar a expressão $(1)$ usando o terceiro axioma da probabilidade:**\n",
        "\n",
        "Conforme explicado por Dantas [2013], através da decomposição das expressões, a  $P(A \\cup B)$ pode ser escrita com a união de dois eventos mutamente exclusivos, $A \\cup B = A \\cup A^cB$, assim:\n",
        "\n",
        "$P(A \\cup B) = P(A) + P(A^cB)$ $^{(2)}$\n",
        "\n",
        "Uma vez que $B = A^cB \\cup (A \\cap B$), temos:\n",
        "\n",
        "$P(B) = P(A^cB) + P(A \\cap B)$ $^{(3)}$\n",
        "\n",
        "Removendo o valor de $P(A^cB)$ e substituindo na expressão $(2)$, temos:\n",
        "$P(A \\cup B) = P(A) + P(B) - P(A \\cap B)$\n",
        "\n",
        "Sinteticamente, podemos interpretar estas afirmações de acordo com o terceiro axioma da probabilidade [Devore, 2006] da seguinte maneira:\n",
        "\n",
        "Para termos a probabilidade de que ao menos $A$ ou $B$ ocorram e que ambos não ocorram simultaneamente, teremos a probabilidade dada pelo somatório das chances dos eventos individuais e complementar que a inclusão do termo que subtrai a probabilidade da intersecção entre $A$ e $B$ na expressão $(1)$, garante que teremos apenas a soma de suas probabilidades na condição de eventos mutuamente exclusivos.\n",
        "\n"
      ]
    },
    {
      "cell_type": "markdown",
      "metadata": {
        "id": "sYCB14P_BeXl"
      },
      "source": [
        "##Referências"
      ]
    },
    {
      "cell_type": "markdown",
      "metadata": {
        "id": "AuMOKwg-Bh2F"
      },
      "source": [
        "Carlos A. B. Dantas. **Probabilidade**: Um curso introdutório. EdUSP, 2013.\n",
        "\n",
        "Jay L. Devore. **Probabilidade e Estatística para Engenharia e Ciências**. Cengage, 2006.\n",
        "\n",
        "Ronald E. Walpole, Raymond H. Myers e Keying Ye. **Probability and Statistics for Engineers and Scientists**. Pearson, 2011.\n"
      ]
    }
  ]
}