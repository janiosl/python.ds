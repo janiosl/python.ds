{
  "nbformat": 4,
  "nbformat_minor": 0,
  "metadata": {
    "colab": {
      "name": "estat_tarefa03.ipynb",
      "provenance": [],
      "collapsed_sections": [],
      "toc_visible": true,
      "authorship_tag": "ABX9TyONX2gqE81bMpCpnJ860Ib7",
      "include_colab_link": true
    },
    "kernelspec": {
      "name": "python3",
      "display_name": "Python 3"
    },
    "language_info": {
      "name": "python"
    }
  },
  "cells": [
    {
      "cell_type": "markdown",
      "metadata": {
        "id": "view-in-github",
        "colab_type": "text"
      },
      "source": [
        "<a href=\"https://colab.research.google.com/github/janiosl/python.ds/blob/master/estatistica/me/estat_tarefa03.ipynb\" target=\"_parent\"><img src=\"https://colab.research.google.com/assets/colab-badge.svg\" alt=\"Open In Colab\"/></a>"
      ]
    },
    {
      "cell_type": "markdown",
      "metadata": {
        "id": "ZJDPAD35dREV"
      },
      "source": [
        "#Métodos Estatísticos\n",
        "\n",
        "* **Prof.: Diego Barreto Haddad**\n",
        "* **Aluno: Janio de Souza Lima**\n",
        "\n",
        "**Exercícios 03**\n",
        "\n",
        "---"
      ]
    },
    {
      "cell_type": "markdown",
      "metadata": {
        "id": "yAAfJkvWfRC4"
      },
      "source": [
        "##1 Probabilidade de duas bolas vermelhas\n",
        "\n"
      ]
    },
    {
      "cell_type": "markdown",
      "metadata": {
        "id": "ZASvu6Xzf5jt"
      },
      "source": [
        "Dados para análise:\n",
        "* Bolas vermelhas: 8\n",
        "* Bolas brancas: 4\n",
        "* Total: 12 bolas\n",
        "* Retirada de duas bolas, sem reposição\n",
        "---\n",
        "* Questão:\n",
        "\n",
        "**Qual a probabilidade de ambas as bolas retiradas serem vermelhas?**"
      ]
    },
    {
      "cell_type": "code",
      "metadata": {
        "id": "E03yh1Mac04N",
        "colab": {
          "base_uri": "https://localhost:8080/"
        },
        "outputId": "53b6c276-0d9c-4850-9780-4500712db1a9"
      },
      "source": [
        "#Quantidades\n",
        "vermelhas = 8                #Quantidade de bolas vermelhas\n",
        "brancas = 4                  #Quantidade de bolas brancas\n",
        "total = vermelhas + brancas  #Total de bolas\n",
        "\n",
        "print('Quantidades iniciais')\n",
        "print(f'Bolas vermelhas: {vermelhas}\\nBolas brancas: {brancas}\\nTotasl: {total}')"
      ],
      "execution_count": 1,
      "outputs": [
        {
          "output_type": "stream",
          "text": [
            "Quantidades iniciais\n",
            "Bolas vermelhas: 8\n",
            "Bolas brancas: 4\n",
            "Totasl: 12\n"
          ],
          "name": "stdout"
        }
      ]
    },
    {
      "cell_type": "markdown",
      "metadata": {
        "id": "bZsqWTDRQMzo"
      },
      "source": [
        "Tendo em vista os pressupostos:\n",
        "\n",
        "a) a chance de retirada de cada bola individualmente é equiprovável;\n",
        "\n",
        "b) não há reposição das bolas, assim as probabilidades precisarão ser recalculadas a cada rodada;\n",
        "\n",
        "c) a primeira bola retirada precisa ser vermelha para que ambas também o sejam.\n",
        "\n",
        "Analisaremos a probabilidade condicional da segunda bola ser vermelha dado que a primeira é vermelha e o espaço amostral foi reduzido em uma bola."
      ]
    },
    {
      "cell_type": "code",
      "metadata": {
        "colab": {
          "base_uri": "https://localhost:8080/"
        },
        "id": "oz7cjJWCyWWO",
        "outputId": "3abeae5e-8626-46b1-cc1b-6f00fe9d285b"
      },
      "source": [
        "#Probabilidade inicial por cor de bola\n",
        "prob_v = vermelhas / total\n",
        "prob_b = brancas / total\n",
        "\n",
        "print(f'P(vermelha) = {prob_v:.3f}\\nP(branca) = {prob_b:.3f}')"
      ],
      "execution_count": 2,
      "outputs": [
        {
          "output_type": "stream",
          "text": [
            "P(vermelha) = 0.667\n",
            "P(branca) = 0.333\n"
          ],
          "name": "stdout"
        }
      ]
    },
    {
      "cell_type": "code",
      "metadata": {
        "colab": {
          "base_uri": "https://localhost:8080/"
        },
        "id": "de5FwZ_HypWg",
        "outputId": "e0d6f90f-fd6d-4404-a882-8b810db0bbb6"
      },
      "source": [
        "#Rodada 1\n",
        "retira_vermelha = 1\n",
        "vermelhas -= 1\n",
        "total = vermelhas + brancas\n",
        "\n",
        "print('Quantidades após rodada 1')\n",
        "print(f'Bolas vermelhas: {vermelhas}\\nBolas brancas: {brancas}\\nTotasl: {total}')"
      ],
      "execution_count": 3,
      "outputs": [
        {
          "output_type": "stream",
          "text": [
            "Quantidades após rodada 1\n",
            "Bolas vermelhas: 7\n",
            "Bolas brancas: 4\n",
            "Totasl: 11\n"
          ],
          "name": "stdout"
        }
      ]
    },
    {
      "cell_type": "code",
      "metadata": {
        "colab": {
          "base_uri": "https://localhost:8080/"
        },
        "id": "OeLhMlmk0e21",
        "outputId": "32bc152d-3210-46fc-d0f9-a49154155881"
      },
      "source": [
        "#Probabilidade segunda rodada\n",
        "prob_rod2_v = vermelhas / total\n",
        "prob_rod2_b = brancas / total\n",
        "\n",
        "print(f'P(vermelha) = {prob_rod2_v:.3f}\\nP(branca) = {prob_rod2_b:.3f}')"
      ],
      "execution_count": 4,
      "outputs": [
        {
          "output_type": "stream",
          "text": [
            "P(vermelha) = 0.636\n",
            "P(branca) = 0.364\n"
          ],
          "name": "stdout"
        }
      ]
    },
    {
      "cell_type": "code",
      "metadata": {
        "colab": {
          "base_uri": "https://localhost:8080/"
        },
        "id": "IimUWN8T0xHZ",
        "outputId": "3d80002a-aeeb-4432-8c17-baeb03510a4c"
      },
      "source": [
        "#Probabilidade das duas bolas serem vermelhas\n",
        "prob_2_vermelhas = prob_v * prob_rod2_v\n",
        "\n",
        "print(f'Probabilidade das duas vermelhas: {prob_2_vermelhas:.3f}')"
      ],
      "execution_count": 5,
      "outputs": [
        {
          "output_type": "stream",
          "text": [
            "Probabilidade das duas vermelhas: 0.424\n"
          ],
          "name": "stdout"
        }
      ]
    },
    {
      "cell_type": "markdown",
      "metadata": {
        "id": "Ho008Jij1_kV"
      },
      "source": [
        "##2 Probabilidade de sequência de valores em um dado de faces verdes e vermelhas\n",
        "\n",
        "\n",
        "\n"
      ]
    },
    {
      "cell_type": "markdown",
      "metadata": {
        "id": "zlpnAWat4aHj"
      },
      "source": [
        "Dados para análise:\n",
        "* Dado com 6 faces (D)\n",
        "* 4 faces verdes (g)\n",
        "* 2 faces vermelhas (r)\n",
        "* Sequências:\n",
        "1.   **S1 = R G R R R**\n",
        "2.   **S2 = R G R R R G**\n",
        "3.   **S3 = G R R R R R**\n",
        "---\n",
        "* Questões:\n",
        "\n",
        "**a) Qual a probabilidade de cada sequência?**"
      ]
    },
    {
      "cell_type": "code",
      "metadata": {
        "id": "4zUhkGNX2EGK",
        "colab": {
          "base_uri": "https://localhost:8080/"
        },
        "outputId": "1e4a2361-207c-4398-ff76-8bb70527ff78"
      },
      "source": [
        "#Quantidades\n",
        "r = 2      #Quantidade de faces vermelhas\n",
        "g = 4      #Quantidade de faces verdes\n",
        "D = r + g  #Total de faces do dado\n",
        "\n",
        "print('Características do dado')\n",
        "print(f'Faces vermelhas: {r}\\nFaces verdes: {g}\\nTotal de faces: {D}')"
      ],
      "execution_count": 6,
      "outputs": [
        {
          "output_type": "stream",
          "text": [
            "Características do dado\n",
            "Faces vermelhas: 2\n",
            "Faces verdes: 4\n",
            "Total de faces: 6\n"
          ],
          "name": "stdout"
        }
      ]
    },
    {
      "cell_type": "markdown",
      "metadata": {
        "id": "tqo7iXndOwGr"
      },
      "source": [
        "Tendo em vista os pressupostos:\n",
        "\n",
        "a) o dado não é viciado, ou seja, cada face individualmente é equiprovável;\n",
        "\n",
        "b) a ocorrência das cores são independentes;\n",
        "\n",
        "c) Dado não viciado, chance equiprovável para cada face.\n",
        "\n",
        "Analisaremos as probabilidades incondicionais de cada cor e calcularemos a probabilidade de cada sequência como um produto das probabilidades das cores."
      ]
    },
    {
      "cell_type": "code",
      "metadata": {
        "colab": {
          "base_uri": "https://localhost:8080/"
        },
        "id": "4TMJgKOWDEfL",
        "outputId": "53721565-e912-4862-e62f-511e94859255"
      },
      "source": [
        "#Probabilidade individual de cada cor de face\n",
        "prob_r = r / D\n",
        "prob_g = g / D\n",
        "\n",
        "print(f'P(r) = {prob_r:.3f}\\nP(g) = {prob_g:.3f}')"
      ],
      "execution_count": 7,
      "outputs": [
        {
          "output_type": "stream",
          "text": [
            "P(r) = 0.333\n",
            "P(g) = 0.667\n"
          ],
          "name": "stdout"
        }
      ]
    },
    {
      "cell_type": "code",
      "metadata": {
        "colab": {
          "base_uri": "https://localhost:8080/"
        },
        "id": "H5-oev-aFIE0",
        "outputId": "fd899848-3586-43be-ae56-5f92d81b453c"
      },
      "source": [
        "#Probabilidade da sequência 1: R G R R R\n",
        "p1 = prob_r * prob_g * prob_r * prob_r * prob_r\n",
        "p1"
      ],
      "execution_count": 8,
      "outputs": [
        {
          "output_type": "execute_result",
          "data": {
            "text/plain": [
              "0.008230452674897118"
            ]
          },
          "metadata": {
            "tags": []
          },
          "execution_count": 8
        }
      ]
    },
    {
      "cell_type": "code",
      "metadata": {
        "colab": {
          "base_uri": "https://localhost:8080/"
        },
        "id": "zU-IFwTBFH9Z",
        "outputId": "a2dcd894-875e-42d9-b3b6-3d278c38f1a9"
      },
      "source": [
        "#Probabilidade da sequência 2: R G R R R G\n",
        "p2 = prob_r * prob_g * prob_r * prob_r * prob_r * prob_g\n",
        "p2"
      ],
      "execution_count": 9,
      "outputs": [
        {
          "output_type": "execute_result",
          "data": {
            "text/plain": [
              "0.005486968449931412"
            ]
          },
          "metadata": {
            "tags": []
          },
          "execution_count": 9
        }
      ]
    },
    {
      "cell_type": "code",
      "metadata": {
        "colab": {
          "base_uri": "https://localhost:8080/"
        },
        "id": "3JAy9fC0FHJP",
        "outputId": "beab757c-f4cb-4554-a6f3-4b2f83bc11f1"
      },
      "source": [
        "#Probabilidade da sequência 3: G R R R R R\n",
        "p3 = prob_g * prob_r * prob_r * prob_r * prob_r * prob_r\n",
        "p3"
      ],
      "execution_count": 10,
      "outputs": [
        {
          "output_type": "execute_result",
          "data": {
            "text/plain": [
              "0.002743484224965706"
            ]
          },
          "metadata": {
            "tags": []
          },
          "execution_count": 10
        }
      ]
    },
    {
      "cell_type": "code",
      "metadata": {
        "colab": {
          "base_uri": "https://localhost:8080/"
        },
        "id": "4fCa7gFDNmCK",
        "outputId": "1f600866-0ec0-4805-810d-1da8fd4cab66"
      },
      "source": [
        "#Probabilidade de cada sequência\n",
        "print(f'P(S1) = {p1:.5f}\\nP(S2) = {p2:.5f}\\nP(S3) = {p3:.5f}')"
      ],
      "execution_count": 11,
      "outputs": [
        {
          "output_type": "stream",
          "text": [
            "P(S1) = 0.00823\n",
            "P(S2) = 0.00549\n",
            "P(S3) = 0.00274\n"
          ],
          "name": "stdout"
        }
      ]
    },
    {
      "cell_type": "markdown",
      "metadata": {
        "id": "ab0X0oeRE9eo"
      },
      "source": [
        "---\n",
        "b) **Qual sequência escolheria?**"
      ]
    },
    {
      "cell_type": "markdown",
      "metadata": {
        "id": "YM9cR1fsOjjM"
      },
      "source": [
        "Escolheria a primeira sequência (R G R R R), tendo em vista que ela tem a a maior probabilidade de ocorrência."
      ]
    },
    {
      "cell_type": "code",
      "metadata": {
        "colab": {
          "base_uri": "https://localhost:8080/"
        },
        "id": "nx_kMeg3ORIo",
        "outputId": "14bce8c6-6b54-433f-b37e-48fe0594a624"
      },
      "source": [
        "#Maior probabilidade\n",
        "max([p1, p2, p3])"
      ],
      "execution_count": 12,
      "outputs": [
        {
          "output_type": "execute_result",
          "data": {
            "text/plain": [
              "0.008230452674897118"
            ]
          },
          "metadata": {
            "tags": []
          },
          "execution_count": 12
        }
      ]
    },
    {
      "cell_type": "markdown",
      "metadata": {
        "id": "dOtD7SNx2EeN"
      },
      "source": [
        "##3 Probabilidade de respostas corretas em uma prova"
      ]
    },
    {
      "cell_type": "markdown",
      "metadata": {
        "id": "ORv-4n7RsqWa"
      },
      "source": [
        "Dados para análise:\n",
        "* Cada questão tem 5 alternativas de respostas das quais apenas uma é correta\n",
        "* O aluno sabe a resposta correta com probabilidade 0.75\n",
        "* Quando o aluno não sabe a questão, ele chuta a resposta com probabilidade de 1/5 de acertá-la\n",
        "---\n",
        "Questão:\n",
        "**Qual a probabilidade do aluno escolher a resposta correta em uma dada questão?**"
      ]
    },
    {
      "cell_type": "markdown",
      "metadata": {
        "id": "UAUVQbVyWj0i"
      },
      "source": [
        "Eventos:\n",
        "* $A$: O aluno sabe a resposta\n",
        "* $B$: A resposta está correta\n",
        "\n",
        "![](https://github.com/janiosl/python.ds/blob/master/estatistica/me/target/tarefa03_quest%C3%A3o03.PNG?raw=true)\n",
        "\n",
        "Considerando os eventos $A$ e $B$ e o diagrama acima com a organização das lógica das probabilidades, temos:\n",
        "\n",
        "$P(A \\cap B) = P(A) * P(A|B) = 0.75 \\times 1 = 0.75$\n",
        "\n",
        "$P(A^c)P(B|A^c) = 0.25 \\times 0.20 = 0.05$\n",
        "\n",
        "Então a probabilidade do aluno acertar uma questão qualquer será:\n",
        "\n",
        "$P(B) = P(A \\cap B) + P(A^c)P(B|A^c) = 0.75 + 0.05 = 0.80$\n",
        "\n",
        "---\n",
        "\n",
        "As células a seguir realizam os cálculos acima para confirmarem o valor obtido.\n"
      ]
    },
    {
      "cell_type": "code",
      "metadata": {
        "id": "Z37EQYXn2JG5",
        "colab": {
          "base_uri": "https://localhost:8080/"
        },
        "outputId": "9ac8dd6e-32a9-4085-dc84-706288f50a36"
      },
      "source": [
        "#Considerar que sabe\n",
        "prob_acerto = 0.75\n",
        "prob_acerto"
      ],
      "execution_count": 26,
      "outputs": [
        {
          "output_type": "execute_result",
          "data": {
            "text/plain": [
              "0.75"
            ]
          },
          "metadata": {
            "tags": []
          },
          "execution_count": 26
        }
      ]
    },
    {
      "cell_type": "code",
      "metadata": {
        "id": "rIbALbIn-ujv",
        "colab": {
          "base_uri": "https://localhost:8080/"
        },
        "outputId": "05aa4450-9fb5-4d1e-9da1-5e0efd1b4ec3"
      },
      "source": [
        "#Chutar\n",
        "prob_chute = 1/5\n",
        "prob_chute *= (1 - prob_acerto)\n",
        "prob_chute"
      ],
      "execution_count": 27,
      "outputs": [
        {
          "output_type": "execute_result",
          "data": {
            "text/plain": [
              "0.05"
            ]
          },
          "metadata": {
            "tags": []
          },
          "execution_count": 27
        }
      ]
    },
    {
      "cell_type": "code",
      "metadata": {
        "colab": {
          "base_uri": "https://localhost:8080/"
        },
        "id": "OaVx6IxDrtpg",
        "outputId": "0c0c34f4-941d-4d5e-d9c4-096cc3e12c68"
      },
      "source": [
        "prob_acerto + prob_chute"
      ],
      "execution_count": 28,
      "outputs": [
        {
          "output_type": "execute_result",
          "data": {
            "text/plain": [
              "0.8"
            ]
          },
          "metadata": {
            "tags": []
          },
          "execution_count": 28
        }
      ]
    },
    {
      "cell_type": "markdown",
      "metadata": {
        "id": "SrTFzn_lzplI"
      },
      "source": [
        "## 4 Terceiro axioma da probabilidade"
      ]
    },
    {
      "cell_type": "markdown",
      "metadata": {
        "id": "SJcMcFD_zxln"
      },
      "source": [
        "Dados para análise:\n",
        "\n",
        "$P(A \\cup B) = P(A) + P(B) - P(A \\cap B)$ $^{(1)}$\n",
        "\n",
        "---\n",
        "* Questão:\n",
        "\n",
        "**Provar a expressão $(1)$ usando o terceiro axioma da probabilidade:**\n",
        "\n",
        "Conforme explicado por Dantas [2013], através da decomposição das expressões, a  $P(A \\cup B)$ pode ser escrita com a união de dois eventos mutamente exclusivos, $A \\cup B = A \\cup A^cB$, assim:\n",
        "\n",
        "$P(A \\cup B) = P(A) + P(A^cB)$ $^{(2)}$\n",
        "\n",
        "Uma vez que $B = A^cB \\cup (A \\cap B$), temos:\n",
        "\n",
        "$P(B) = P(A^cB) + P(A \\cap B)$ $^{(3)}$\n",
        "\n",
        "Removendo o valor de $P(A^cB)$ e substituindo na expressão $(2)$, temos:\n",
        "$P(A \\cup B) = P(A) + P(B) - P(A \\cap B)$\n",
        "\n",
        "Sinteticamente, podemos interpretar estas afirmações de acordo com o terceiro axioma da probabilidade [Devore, 2006] da seguinte maneira:\n",
        "\n",
        "Para termos a probabilidade de que ao menos $A$ ou $B$ ocorram e que ambos não ocorram simultaneamente, teremos a probabilidade dada pelo somatório das chances dos eventos individuais e complementar que a inclusão do termo que subtrai a probabilidade da intersecção entre $A$ e $B$ na expressão $(1)$, garante que teremos apenas a soma de suas probabilidades na condição de eventos mutuamente exclusivos.\n",
        "\n"
      ]
    },
    {
      "cell_type": "markdown",
      "metadata": {
        "id": "sYCB14P_BeXl"
      },
      "source": [
        "##Referências"
      ]
    },
    {
      "cell_type": "markdown",
      "metadata": {
        "id": "AuMOKwg-Bh2F"
      },
      "source": [
        "Carlos A. B. Dantas. **Probabilidade**: Um curso introdutório. EdUSP, 2013.\n",
        "\n",
        "Jay L. Devore. **Probabilidade e Estatística para Engenharia e Ciências**. Cengage, 2006.\n",
        "\n",
        "Ronald E. Walpole, Raymond H. Myers e Keying Ye. **Probability and Statistics for Engineers and Scientists**. Pearson, 2011.\n"
      ]
    }
  ]
}