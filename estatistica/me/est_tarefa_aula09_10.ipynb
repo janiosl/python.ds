{
  "nbformat": 4,
  "nbformat_minor": 0,
  "metadata": {
    "colab": {
      "name": "est_tarefa_aula09-10.ipynb",
      "provenance": [],
      "collapsed_sections": [],
      "authorship_tag": "ABX9TyNx1E73WObvU+n79yj2lamI",
      "include_colab_link": true
    },
    "kernelspec": {
      "name": "python3",
      "display_name": "Python 3"
    },
    "language_info": {
      "name": "python"
    }
  },
  "cells": [
    {
      "cell_type": "markdown",
      "metadata": {
        "id": "view-in-github",
        "colab_type": "text"
      },
      "source": [
        "<a href=\"https://colab.research.google.com/github/janiosl/python.ds/blob/master/estatistica/me/est_tarefa_aula09_10.ipynb\" target=\"_parent\"><img src=\"https://colab.research.google.com/assets/colab-badge.svg\" alt=\"Open In Colab\"/></a>"
      ]
    },
    {
      "cell_type": "markdown",
      "metadata": {
        "id": "0fhJ6eq87fU8"
      },
      "source": [
        "#**CEFET-RJ**\n",
        "\n",
        "**Programa de Pós-Gradução em Ciência da Computação - PPCIC**\n",
        "\n",
        "**Mestrado em Ciência da Computação**\n",
        "\n",
        "**Disciplina: Métodos Estatísticos - 2021/2**\n",
        "\n",
        "* **Exercícios - Aula 09 e 10**\n",
        "* **Prof.: Diego Barreto Haddad**\n",
        "* **Aluno: Janio de Souza Lima**\n",
        "\n",
        "\n",
        "\n",
        "---"
      ]
    },
    {
      "cell_type": "markdown",
      "metadata": {
        "id": "UixQ926qoRlU"
      },
      "source": [
        "## Preparação do ambiente e funções gerais"
      ]
    },
    {
      "cell_type": "code",
      "metadata": {
        "id": "Pu2yyUDRbBN8"
      },
      "source": [
        "#Carga de bibliotecas usadas nas questões\n",
        "import numpy as np\n",
        "import seaborn as sns\n",
        "from matplotlib import pyplot as plt"
      ],
      "execution_count": 1,
      "outputs": []
    },
    {
      "cell_type": "markdown",
      "metadata": {
        "id": "-bzZNgNiwM96"
      },
      "source": [
        "## Questão 1:\n",
        "\n",
        "A médias das provas de uma determinada disciplina tem uma média 470,3 e um desvio padrdão de 138, para uma amostra com 250 estudantes.  Construa intervalos de confiança de 95% e 99% e explique porque os intervalos são diferentes."
      ]
    },
    {
      "cell_type": "code",
      "metadata": {
        "id": "SVPt7RLftFhq"
      },
      "source": [
        "def ic(x_bar, sigma, n, conf, z):\n",
        "  #Função implementada com base em Jay L. Devore\n",
        "  l = x_bar - (z * (sigma/np.sqrt(n)))      #Limite inferior do intervalo\n",
        "  u = x_bar + (z * (sigma/np.sqrt(n))) #Limite superior do intervalo\n",
        "  return (l,u)"
      ],
      "execution_count": 2,
      "outputs": []
    },
    {
      "cell_type": "code",
      "metadata": {
        "id": "65_Vk6tEtu8a",
        "colab": {
          "base_uri": "https://localhost:8080/"
        },
        "outputId": "c3d7487d-1fb5-405f-8c91-a129ab48a0d1"
      },
      "source": [
        "#Teste da função para exemplo 7.1 Jay L. Devore\n",
        "#Espera-se que os valores seja aprox. (79.3, 80.7)\n",
        "ic(80, 2, 31, 0.95, 1.96)"
      ],
      "execution_count": 3,
      "outputs": [
        {
          "output_type": "execute_result",
          "data": {
            "text/plain": [
              "(79.29594721605504, 80.70405278394496)"
            ]
          },
          "metadata": {},
          "execution_count": 3
        }
      ]
    },
    {
      "cell_type": "code",
      "metadata": {
        "id": "NWZd0RNWs-KR"
      },
      "source": [
        "x_bar = 470.3\n",
        "sigma = 138\n",
        "n = 250"
      ],
      "execution_count": 4,
      "outputs": []
    },
    {
      "cell_type": "markdown",
      "metadata": {
        "id": "nA-_f8hEwDrj"
      },
      "source": [
        "* Cálculo do intervalo de confiança para 95%"
      ]
    },
    {
      "cell_type": "code",
      "metadata": {
        "id": "_KRL0xW7DGun"
      },
      "source": [
        "conf1 = 0.95\n",
        "z1 = 1.96"
      ],
      "execution_count": 5,
      "outputs": []
    },
    {
      "cell_type": "code",
      "metadata": {
        "id": "NK6KlVGTv8I1",
        "colab": {
          "base_uri": "https://localhost:8080/"
        },
        "outputId": "90043e56-f8bb-4bee-d2d5-2f193c358e3b"
      },
      "source": [
        "l1, u1 = ic(x_bar, sigma, n, conf1, z1)\n",
        "print(round(l1, 1), round(u1, 1))"
      ],
      "execution_count": 6,
      "outputs": [
        {
          "output_type": "stream",
          "name": "stdout",
          "text": [
            "453.2 487.4\n"
          ]
        }
      ]
    },
    {
      "cell_type": "markdown",
      "metadata": {
        "id": "TxpYUgYDwJ0c"
      },
      "source": [
        "* Cálculo do intervalo de confiança para 99%"
      ]
    },
    {
      "cell_type": "code",
      "metadata": {
        "id": "V56DkEtZssnO"
      },
      "source": [
        "conf2 = 0.99\n",
        "z2 = 2.58"
      ],
      "execution_count": 7,
      "outputs": []
    },
    {
      "cell_type": "code",
      "metadata": {
        "id": "fmhGg6yvvhHj",
        "colab": {
          "base_uri": "https://localhost:8080/"
        },
        "outputId": "3feda70a-195b-42b4-b81f-5baaf7bad543"
      },
      "source": [
        "l2, u2 = ic(x_bar, sigma, n, conf2, z2)\n",
        "print(round(l2, 1), round(u2, 1))"
      ],
      "execution_count": 8,
      "outputs": [
        {
          "output_type": "stream",
          "name": "stdout",
          "text": [
            "447.8 492.8\n"
          ]
        }
      ]
    },
    {
      "cell_type": "code",
      "metadata": {
        "colab": {
          "base_uri": "https://localhost:8080/",
          "height": 459
        },
        "id": "kmRC4_1N0sbJ",
        "outputId": "8ba64896-e6a7-46bd-8b07-6dbebb951365"
      },
      "source": [
        "#Comparação visual\n",
        "plt.figure(figsize=(5,7))\n",
        "plt.title('Comparação de IC para 95% e 99%\\n$\\overline{x}=470.3, \\sigma=138, n=250$',\n",
        "          fontweight='bold')\n",
        "\n",
        "#Dados dos intervalos calculados\n",
        "plt.plot([l1, l2], 'bo')\n",
        "plt.plot([u1, u2], 'go')\n",
        "plt.plot([x_bar, x_bar], 'r:')\n",
        "ymin = (min(l1, l2)-5)\n",
        "ymax = (max(u1, u2)+5)\n",
        "plt.ylim([ymin,ymax])\n",
        "\n",
        "#Níveis de confiança\n",
        "plt.annotate(str(conf1), (0,(ymin+1.2)))\n",
        "plt.annotate(str(conf2), (1,(ymin+1.2)))\n",
        "#Reta vertical para ligar os pontos do IC\n",
        "plt.axvline(x=0, ymin=0.2, ymax=0.8, color='gray')\n",
        "plt.axvline(x=1, ymin=0.1, ymax=0.9, color='gray')\n",
        "\n",
        "#Ajustes visuais\n",
        "plt.ylabel('Intervalo de Confiança', fontweight='bold')\n",
        "plt.xlabel('Nível de confiança', fontweight='bold')\n",
        "plt.xticks([])\n",
        "plt.legend(['Limite Inferior', 'Limite Superior', 'Média'], loc='upper center')\n",
        "sns.despine(bottom=True)"
      ],
      "execution_count": 9,
      "outputs": [
        {
          "output_type": "display_data",
          "data": {
            "image/png": "[encoded data removed]",
            "text/plain": [
              "<Figure size 360x504 with 1 Axes>"
            ]
          },
          "metadata": {
            "needs_background": "light"
          }
        }
      ]
    },
    {
      "cell_type": "markdown",
      "metadata": {
        "id": "6tGHtKkNy-vz"
      },
      "source": [
        "Observa-se que com para se ter um nível de confiança maior o intervalo é mais largo, pois como explica Devore [2006] o nível de confiança é inversamente relacionado à precisão, levando assim a termos intervalos cada vez maiores à medida que aumentamos a exigência do nível de confinça, chegando a $(- \\infty, \\infty)$ para uma confiança de 100%."
      ]
    },
    {
      "cell_type": "markdown",
      "metadata": {
        "id": "NPs_E-kByMHp"
      },
      "source": [
        "## Questão 2:\n",
        "\n",
        "Químicos orgânicos comumente purificam componente orgânicos por meio de cristalização fracionária. Um técnico de laboratório planeja preparar e purificar algumas amostras, cada uma das quais com 4,85 g de anilina.  Ele alega que seu procedimento teoricamente produz 3,34 g de acetanilida.  Numa amostra com 16 elementos, encontra-se uma média de 3,5, com um desvio padrão de 0,55.  Teste a alegação feita pelo químico."
      ]
    },
    {
      "cell_type": "code",
      "metadata": {
        "id": "rJqCp2FgDPLk"
      },
      "source": [
        ""
      ],
      "execution_count": 9,
      "outputs": []
    },
    {
      "cell_type": "markdown",
      "metadata": {
        "id": "19zRRkrDOS3n"
      },
      "source": [
        "## Questão 3:\n",
        "\n",
        "Uma máquina é projetada de modo a produzir um conteúdo médio de suco por garrafa igual a $\\mu$.  Uma amostra de 36 garrafas produz um conteúdo médio de 48,5 cl.  Teste a hipótese de que o conteúdo médio por garrafa sejade 50 cl, a um nível de significância de 5%.  Assuma que o desvio padrão da população seja $\\sigma = 5$ cl."
      ]
    },
    {
      "cell_type": "code",
      "metadata": {
        "id": "HQIe_NOJDPwm"
      },
      "source": [
        ""
      ],
      "execution_count": 9,
      "outputs": []
    },
    {
      "cell_type": "markdown",
      "metadata": {
        "id": "NS-QzVB80lcd"
      },
      "source": [
        "#Referências"
      ]
    },
    {
      "cell_type": "markdown",
      "metadata": {
        "id": "dXyxCptN0nOp"
      },
      "source": [
        "Jay L. Devore. **Probabilidade e Estatística para engenharia e ciências**. Cengage, 2006.\n",
        "\n",
        "Pedro A. Morettin, Wilton de O. Bussab. **Estatística Básica**. Saraiva, 2017.\n",
        "\n",
        "Ronald E. Walpole, Raymond H. Myers, Sharon L. Myers e Keying Ye. **Probability & Statistics for Engineers & Scientistis**. Pearson, 2012.\n",
        "\n",
        "---\n",
        "\n",
        "**Códigos e materiais complementares:**\n",
        "* Versão online desse notebook: https://github.com/janiosl/python.ds/blob/master/estatistica/me/est_tarefa_aula09_10.ipynb"
      ]
    }
  ]
}