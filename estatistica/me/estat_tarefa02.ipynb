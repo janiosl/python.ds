{
  "nbformat": 4,
  "nbformat_minor": 0,
  "metadata": {
    "colab": {
      "name": "estat_tarefa02.ipynb",
      "provenance": [],
      "collapsed_sections": [],
      "authorship_tag": "ABX9TyMiPaiDtoC/flNvKGq/451e",
      "include_colab_link": true
    },
    "kernelspec": {
      "name": "python3",
      "display_name": "Python 3"
    },
    "language_info": {
      "name": "python"
    }
  },
  "cells": [
    {
      "cell_type": "markdown",
      "metadata": {
        "id": "view-in-github",
        "colab_type": "text"
      },
      "source": [
        "<a href=\"https://colab.research.google.com/github/janiosl/python.ds/blob/master/estatistica/me/estat_tarefa02.ipynb\" target=\"_parent\"><img src=\"https://colab.research.google.com/assets/colab-badge.svg\" alt=\"Open In Colab\"/></a>"
      ]
    },
    {
      "cell_type": "markdown",
      "metadata": {
        "id": "ZJDPAD35dREV"
      },
      "source": [
        "#Métodos Estatísticos\n",
        "\n",
        "* **Prof.: Diego Barreto Haddad**\n",
        "* **Aluno: Janio de Souza Lima**\n",
        "\n",
        "Exercícios Aula 02\n",
        "\n",
        "Cópia para conferência desse notebook disponível em: https://github.com/janiosl/python.ds/blob/master/estatistica/me/estat_tarefa02.ipynb"
      ]
    },
    {
      "cell_type": "markdown",
      "metadata": {
        "id": "yAAfJkvWfRC4"
      },
      "source": [
        "##1 Avaliar efeito de regime de saúde envolvendo dieta e exercícios nas taxas de colesterol."
      ]
    },
    {
      "cell_type": "markdown",
      "metadata": {
        "id": "ZASvu6Xzf5jt"
      },
      "source": [
        "Dados para análise: Redução do colesterol por grupo.\n",
        "* Grupo controle: participantes que não realizaram o regime.\n",
        "* Grupo de tramento: participantes que realizaram o tratamento."
      ]
    },
    {
      "cell_type": "code",
      "metadata": {
        "id": "E03yh1Mac04N"
      },
      "source": [
        "grupo_controle = [7, 3, -4, 14, 2,\n",
        "                  5, 22, -7, 9, 5]\n",
        "                  \n",
        "grupo_tratamento = [-6, 5, 9, 4, 4,\n",
        "                    12, 37, 5, 3, 3]"
      ],
      "execution_count": 1,
      "outputs": []
    },
    {
      "cell_type": "markdown",
      "metadata": {
        "id": "xtwBm5xJf6_D"
      },
      "source": [
        "### a) Compute a média, a mediana e a média truncada de 10% (trimmed mean) para ambos os grupos."
      ]
    },
    {
      "cell_type": "markdown",
      "metadata": {
        "id": "miQ3Ek6yiUV-"
      },
      "source": [
        "As células a seguir realizam o cálculo das medidas solicitadas e sua exibição em tela."
      ]
    },
    {
      "cell_type": "code",
      "metadata": {
        "id": "-0nBf46VgJ0A"
      },
      "source": [
        "import numpy as np"
      ],
      "execution_count": 2,
      "outputs": []
    },
    {
      "cell_type": "code",
      "metadata": {
        "colab": {
          "base_uri": "https://localhost:8080/"
        },
        "id": "dApqY7bFfsli",
        "outputId": "275300f8-e0a8-4c19-86e9-52a1ca8da493"
      },
      "source": [
        "#Média de cada grupo\n",
        "media_controle = np.mean(grupo_controle)\n",
        "media_tratamento = np.mean(grupo_tratamento)\n",
        "\n",
        "#Visualização dos resultados\n",
        "print('Média dos grupos')\n",
        "print('-'*40)\n",
        "print(f'Grupo de controle: {media_controle}\\nGrupo de tratamento: {media_tratamento}')"
      ],
      "execution_count": 3,
      "outputs": [
        {
          "output_type": "stream",
          "text": [
            "Média dos grupos\n",
            "----------------------------------------\n",
            "Grupo de controle: 5.6\n",
            "Grupo de tratamento: 7.6\n"
          ],
          "name": "stdout"
        }
      ]
    },
    {
      "cell_type": "code",
      "metadata": {
        "id": "Go6BqnOtigq7"
      },
      "source": [
        "import pandas as pd"
      ],
      "execution_count": 4,
      "outputs": []
    },
    {
      "cell_type": "code",
      "metadata": {
        "id": "9h91htVXijLQ"
      },
      "source": [
        "reg = pd.DataFrame({'Grupo': ['Controle', 'Tratamento', 'Diferença do tratamento (%)'],\n",
        "                    'Média': [media_controle, media_tratamento,\n",
        "                              (media_tratamento-media_controle)/media_controle*100]})"
      ],
      "execution_count": 5,
      "outputs": []
    },
    {
      "cell_type": "code",
      "metadata": {
        "colab": {
          "base_uri": "https://localhost:8080/"
        },
        "id": "0g2KInJMghAV",
        "outputId": "6fe6fbf5-e3b9-48b2-d12c-91476bad52c2"
      },
      "source": [
        "#Mediana de cada grupo\n",
        "mediana_controle = np.median(grupo_controle)\n",
        "mediana_tratamento = np.median(grupo_tratamento)\n",
        "\n",
        "reg['Mediana'] = [mediana_controle, mediana_tratamento,\n",
        "                  (mediana_tratamento-mediana_controle)/mediana_controle*100]\n",
        "\n",
        "#Visualização dos resultados\n",
        "print('Mediana dos grupos')\n",
        "print('-'*40)\n",
        "print(f'Grupo de controle: {mediana_controle}\\nGrupo de tratamento: '+\n",
        "      f'{mediana_tratamento}')"
      ],
      "execution_count": 6,
      "outputs": [
        {
          "output_type": "stream",
          "text": [
            "Mediana dos grupos\n",
            "----------------------------------------\n",
            "Grupo de controle: 5.0\n",
            "Grupo de tratamento: 4.5\n"
          ],
          "name": "stdout"
        }
      ]
    },
    {
      "cell_type": "code",
      "metadata": {
        "id": "P0NG8G1_gpG3"
      },
      "source": [
        "from scipy import stats"
      ],
      "execution_count": 7,
      "outputs": []
    },
    {
      "cell_type": "code",
      "metadata": {
        "colab": {
          "base_uri": "https://localhost:8080/"
        },
        "id": "qdyYMc9mg7A8",
        "outputId": "62ae9d91-9453-47a8-bbea-6fd5138e532e"
      },
      "source": [
        "#Média trucada de cada grupo\n",
        "media_t_controle = stats.trim_mean(grupo_controle,\n",
        "                                         proportiontocut=0.10)\n",
        "media_t_tratamento = stats.trim_mean(grupo_tratamento,\n",
        "                                           proportiontocut=0.10)\n",
        "\n",
        "reg['Média Truncada'] = [media_t_controle, media_t_tratamento,\n",
        "                         (media_t_tratamento-media_t_controle)/media_t_controle*100]\n",
        "\n",
        "#Visualização dos resultados\n",
        "print('Média truncada* dos grupos')\n",
        "print('-'*40)\n",
        "print(f'Grupo de controle: {media_t_controle}\\nGrupo de tratamento: '+\n",
        "      f'{media_t_tratamento}')\n",
        "print('*Proporção de corte de 10%')"
      ],
      "execution_count": 8,
      "outputs": [
        {
          "output_type": "stream",
          "text": [
            "Média truncada* dos grupos\n",
            "----------------------------------------\n",
            "Grupo de controle: 5.125\n",
            "Grupo de tratamento: 5.625\n",
            "*Proporção de corte de 10%\n"
          ],
          "name": "stdout"
        }
      ]
    },
    {
      "cell_type": "code",
      "metadata": {
        "colab": {
          "base_uri": "https://localhost:8080/",
          "height": 142
        },
        "id": "QgM4_AD8jaRT",
        "outputId": "fa0aea4a-c109-4d7d-d842-abaec9867a41"
      },
      "source": [
        "#Visão consolidada das medidas\n",
        "reg"
      ],
      "execution_count": 9,
      "outputs": [
        {
          "output_type": "execute_result",
          "data": {
            "text/html": [
              "<div>\n",
              "<style scoped>\n",
              "    .dataframe tbody tr th:only-of-type {\n",
              "        vertical-align: middle;\n",
              "    }\n",
              "\n",
              "    .dataframe tbody tr th {\n",
              "        vertical-align: top;\n",
              "    }\n",
              "\n",
              "    .dataframe thead th {\n",
              "        text-align: right;\n",
              "    }\n",
              "</style>\n",
              "<table border=\"1\" class=\"dataframe\">\n",
              "  <thead>\n",
              "    <tr style=\"text-align: right;\">\n",
              "      <th></th>\n",
              "      <th>Grupo</th>\n",
              "      <th>Média</th>\n",
              "      <th>Mediana</th>\n",
              "      <th>Média Truncada</th>\n",
              "    </tr>\n",
              "  </thead>\n",
              "  <tbody>\n",
              "    <tr>\n",
              "      <th>0</th>\n",
              "      <td>Controle</td>\n",
              "      <td>5.600000</td>\n",
              "      <td>5.0</td>\n",
              "      <td>5.125000</td>\n",
              "    </tr>\n",
              "    <tr>\n",
              "      <th>1</th>\n",
              "      <td>Tratamento</td>\n",
              "      <td>7.600000</td>\n",
              "      <td>4.5</td>\n",
              "      <td>5.625000</td>\n",
              "    </tr>\n",
              "    <tr>\n",
              "      <th>2</th>\n",
              "      <td>Diferença do tratamento (%)</td>\n",
              "      <td>35.714286</td>\n",
              "      <td>-10.0</td>\n",
              "      <td>9.756098</td>\n",
              "    </tr>\n",
              "  </tbody>\n",
              "</table>\n",
              "</div>"
            ],
            "text/plain": [
              "                         Grupo      Média  Mediana  Média Truncada\n",
              "0                     Controle   5.600000      5.0        5.125000\n",
              "1                   Tratamento   7.600000      4.5        5.625000\n",
              "2  Diferença do tratamento (%)  35.714286    -10.0        9.756098"
            ]
          },
          "metadata": {
            "tags": []
          },
          "execution_count": 9
        }
      ]
    },
    {
      "cell_type": "markdown",
      "metadata": {
        "id": "rlaygVtHkGYZ"
      },
      "source": [
        "Como pode ser visto na tabela acima as medidas calculadas levam a diferentes conclusões sobre o efeito do regime.\n",
        "* **Média:** Indica que o tratamento obteve maior redução do nível de colesterol, com uma diferença de 35,71%.\n",
        "* **Média truncada:** Também indica que o tratamento obteve maior redução do nível de colesterol, porém com um nível de diferença menor (9.76%).\n",
        "* **Mediana:** Indica que o tratamento teve efeito negativo na redução do nível de colesterol, sendo 10% pior que nos participantes sem o tratamento.\n",
        "\n",
        "---\n"
      ]
    },
    {
      "cell_type": "markdown",
      "metadata": {
        "id": "HEfIpatZiaHx"
      },
      "source": [
        "###b) Explique o porquê a diferença nas médias sugere uma conclusão acerca do efeito do regime, enquanto que a diferença nas medianas ou na média truncada sugere uma conclusão distinta."
      ]
    },
    {
      "cell_type": "markdown",
      "metadata": {
        "id": "6U0s4mQXio2U"
      },
      "source": [
        "Os valores das medidas de posição analisados isoladamente podem levar a conclusões equivocadas, pois dependendo do tamanho do grupo, da dispersão dos dados, presença de anomalias ou outros fatores, as medidas podem ser influenciadas e diminuir sua capacidade explicativa do conjunto de dados. Para facilitar esta análise, construimos a seguir o gráfico diagrama de caixa (*boxplot*) para uma análise visual da distribuição dos dois conjuntos de dados."
      ]
    },
    {
      "cell_type": "code",
      "metadata": {
        "id": "F8xMrKKnipWN"
      },
      "source": [
        "from matplotlib import pyplot as plt\n",
        "import seaborn as sns"
      ],
      "execution_count": 10,
      "outputs": []
    },
    {
      "cell_type": "code",
      "metadata": {
        "colab": {
          "base_uri": "https://localhost:8080/",
          "height": 468
        },
        "id": "YyBQE_m3is0j",
        "outputId": "1e86dc52-e415-401f-d56c-c69bbdc923d9"
      },
      "source": [
        "fig, axes = plt.subplots(1,2)\n",
        "fig.set_size_inches(12,7)\n",
        "fig.suptitle('Efeito de Regime nas Taxas de Colesterol', fontweight='bold')\n",
        "\n",
        "axes[0].boxplot(grupo_controle)\n",
        "axes[0].grid()\n",
        "axes[0].set_ylim(-40,40)\n",
        "axes[0].set_xticks([])\n",
        "axes[0].set_title('Grupo de Controle', fontweight='bold')\n",
        "axes[0].set_ylabel('Redução de Colesterol')\n",
        "\n",
        "axes[1].boxplot(grupo_tratamento)\n",
        "axes[1].grid()\n",
        "axes[1].set_ylim(-40,40)\n",
        "axes[1].set_xticks([])\n",
        "axes[1].set_title('Grupo de Tratamento (Regime)', fontweight='bold')\n",
        "\n",
        "out = 'tar02_q1b_boxplot.png'\n",
        "plt.savefig(out)"
      ],
      "execution_count": 11,
      "outputs": [
        {
          "output_type": "display_data",
          "data": {
            "image/png": "[encoded data removed]",
            "text/plain": [
              "<Figure size 864x504 with 2 Axes>"
            ]
          },
          "metadata": {
            "tags": [],
            "needs_background": "light"
          }
        }
      ]
    },
    {
      "cell_type": "markdown",
      "metadata": {
        "id": "iL1wyYpAsbpy"
      },
      "source": [
        "Como se observa na análise gráfica há tanto uma diferença na distribuição quanto na ocorrência de valores extremos (*outliers*) em ambos conjuntos de dados. Além disso, no grupo de tratamento há uma amplitude maior dos valores acima da mediana, como pode ser visto tanto pelo menor segmento da caixa quanto do \"bigode\" na parte inferior do gráfico, enquanto no grupo de controle os a amplitude de valores é um pouco mais uniforme em ambos lados (abaixo e acima da mediana), apesar do grupo de controle também possuir um valor extremo acima de 20. Por fim, uma única observação no grupo de tratamento está em uma faixa de valor muito superior às demais observações, o que pode influenciar algumas medidas como explicado a seguir.\n",
        "\n",
        "Estas características dos dados levam a alguns efeitos nas medidas que explicam as conclusões discordantes, conforme segue:\n",
        "\n",
        "**Média:**\n",
        "* Esta medida não é robusta a valores extremos, ou seja, este tipo de valor afeta a medida aumentando ou diminuindo muito seu valor dependendo da extremidade em que eles se encontram. No caso em questão, o valor de 37 no conjunto de tratamento aumenta muito o valor da média, o que explica sua diferença de mais de 35% em relação ao grupo de controle. Esse fato junto com o tamanho muito pequeno dos conjuntos de dados pode indicar que a média não é uma boa medida para representar adequadamente os conjuntos, devendo-se, portanto ter cautela em conclusões sobre o estudo a partir da análise das médias dos grupos.\n",
        "\n",
        "**Média Truncada**:\n",
        "* A média trucada é calculada a partir da exclusão de parte das extremidades das observações. Neste caso, eliminamos 10% de cada extremidade (representado pelo parâmetro `proportioncut` na função `stats.trim_mean`). Apesar de ainda poder ser influenciado por valores extremos, seu impacto é menor que na média, por isso, a medida é considerada mais robusta a valores extremos e ao mesmo tempo mantém-se sensível aos valores no conjunto de dados.\n",
        "\n",
        "**Mediana:**\n",
        "* Por fim, a mediana é uma das medidas mais robustas a valores extremos, pois independente deles, sempre representará a posição mais central (em conjuntos ímpares) ou a média dos valores centrais. O problema é que quando há concentração de valores em um dos lados (abaixo ou acima da mediana), esta medida não será sensível a esta concentração.\n",
        "\n",
        "---"
      ]
    },
    {
      "cell_type": "markdown",
      "metadata": {
        "id": "Ho008Jij1_kV"
      },
      "source": [
        "##2 Durações de falhas de energia"
      ]
    },
    {
      "cell_type": "code",
      "metadata": {
        "id": "4zUhkGNX2EGK"
      },
      "source": [
        "falhas = [22, 18, 135, 15, 90, 78, 69, 98, 102,\n",
        "          83, 55, 28, 121, 120, 13, 22, 124, 112,\n",
        "          70, 66, 74, 89, 103, 24, 21, 112, 21,\n",
        "          40, 98, 87, 132, 115, 21, 28, 43, 37,\n",
        "          50, 96, 118, 158, 74, 78, 83, 93, 95]"
      ],
      "execution_count": 12,
      "outputs": []
    },
    {
      "cell_type": "markdown",
      "metadata": {
        "id": "BBU776F76WIy"
      },
      "source": [
        "###a) Média amostral e mediana amostral\n"
      ]
    },
    {
      "cell_type": "markdown",
      "metadata": {
        "id": "tqy2ghlU4Z6h"
      },
      "source": [
        "* **Média amostral:**"
      ]
    },
    {
      "cell_type": "code",
      "metadata": {
        "colab": {
          "base_uri": "https://localhost:8080/"
        },
        "id": "6Q2xJNpI2duL",
        "outputId": "cc3fc177-fbbf-4ff9-c812-d1544a51d3c0"
      },
      "source": [
        "#Cálculo manual da média amostral\n",
        "n = len(falhas)\n",
        "media_amostral = sum(falhas)/n\n",
        "\n",
        "print('Média amostral:')\n",
        "media_amostral"
      ],
      "execution_count": 13,
      "outputs": [
        {
          "output_type": "stream",
          "text": [
            "Média amostral:\n"
          ],
          "name": "stdout"
        },
        {
          "output_type": "execute_result",
          "data": {
            "text/plain": [
              "74.02222222222223"
            ]
          },
          "metadata": {
            "tags": []
          },
          "execution_count": 13
        }
      ]
    },
    {
      "cell_type": "code",
      "metadata": {
        "colab": {
          "base_uri": "https://localhost:8080/"
        },
        "id": "4e2QNg-Jk2Bi",
        "outputId": "5def9513-815f-4e45-9a0c-f198c2a96046"
      },
      "source": [
        "#Cálculo simplificado\n",
        "np.mean(falhas)"
      ],
      "execution_count": 14,
      "outputs": [
        {
          "output_type": "execute_result",
          "data": {
            "text/plain": [
              "74.02222222222223"
            ]
          },
          "metadata": {
            "tags": []
          },
          "execution_count": 14
        }
      ]
    },
    {
      "cell_type": "markdown",
      "metadata": {
        "id": "CEirA4HI6j0h"
      },
      "source": [
        "* **Mediana amostral:**"
      ]
    },
    {
      "cell_type": "code",
      "metadata": {
        "id": "ClBoF36w6zC2",
        "colab": {
          "base_uri": "https://localhost:8080/"
        },
        "outputId": "2079eb27-4b7d-4239-a8d3-f5471acdc844"
      },
      "source": [
        "mediana_amostral = np.median(falhas)\n",
        "print('Mediana amostral:')\n",
        "mediana_amostral"
      ],
      "execution_count": 15,
      "outputs": [
        {
          "output_type": "stream",
          "text": [
            "Mediana amostral:\n"
          ],
          "name": "stdout"
        },
        {
          "output_type": "execute_result",
          "data": {
            "text/plain": [
              "78.0"
            ]
          },
          "metadata": {
            "tags": []
          },
          "execution_count": 15
        }
      ]
    },
    {
      "cell_type": "code",
      "metadata": {
        "colab": {
          "base_uri": "https://localhost:8080/"
        },
        "id": "8EbQpR21dJL8",
        "outputId": "3f1862b3-c947-42e3-bef0-0d513c3a0ef4"
      },
      "source": [
        "#Cálculo manual\n",
        "n = len(falhas)\n",
        "\n",
        "if n % 2 == 0:\n",
        "  print('n par')\n",
        "  \n",
        "  #Reduzido 1 porque no Python os índices começam em 0\n",
        "  \"\"\"\n",
        "  No caso do índice em que é usado n+1 a subtração anula a adição,\n",
        "  mas foi mantido por questões didáticas para demonstrar que a adição é parte\n",
        "  da fórmula matemática da medida, enquanto a subtração se refere ao ajuste\n",
        "  do índice usado pelo Python\n",
        "  \"\"\"\n",
        "  idx_1 = (int(n/2))-1   \n",
        "  idx_2 = (int(n/2)+1)-1\n",
        "\n",
        "  mediana = 1/2*(sorted(falhas)[idx_1] + sorted(falhas)[idx_2])\n",
        "else:\n",
        "  print('n ímpar')\n",
        "  idx_mediana = int((n+1)/2)\n",
        "\n",
        "  #Reduzido 1 porque no Python os índices começam em 0\n",
        "  idx_mediana -= 1\n",
        "  mediana = sorted(falhas)[idx_mediana]\n",
        "\n",
        "print(f'Mediana amostral: {mediana}')"
      ],
      "execution_count": 16,
      "outputs": [
        {
          "output_type": "stream",
          "text": [
            "n ímpar\n",
            "Mediana amostral: 78\n"
          ],
          "name": "stdout"
        }
      ]
    },
    {
      "cell_type": "markdown",
      "metadata": {
        "id": "b0Sy5zm26bep"
      },
      "source": [
        "###b) Desvio padrão amostral"
      ]
    },
    {
      "cell_type": "markdown",
      "metadata": {
        "id": "4Mz2XIbG4-0v"
      },
      "source": [
        "Para cálculo do desvio padrão amostral é usado o ajuste do grau de liberade, usamos para isto a função `np.std` que possui um parâmetro para este ajuste (`ddof`), cujo valor é padrão é $0$. Ao ajustá-lo para $1$, o divisor usando nos cálculos para a ser $n-1$."
      ]
    },
    {
      "cell_type": "code",
      "metadata": {
        "colab": {
          "base_uri": "https://localhost:8080/"
        },
        "id": "SEH0blPc2kcH",
        "outputId": "af45edef-d1bd-4e94-be2c-cd218fe7854f"
      },
      "source": [
        "print('Desvio padrão amostral:')\n",
        "np.std(falhas,\n",
        "       ddof=1)"
      ],
      "execution_count": 17,
      "outputs": [
        {
          "output_type": "stream",
          "text": [
            "Desvio padrão amostral:\n"
          ],
          "name": "stdout"
        },
        {
          "output_type": "execute_result",
          "data": {
            "text/plain": [
              "39.25759271604139"
            ]
          },
          "metadata": {
            "tags": []
          },
          "execution_count": 17
        }
      ]
    },
    {
      "cell_type": "markdown",
      "metadata": {
        "id": "dOtD7SNx2EeN"
      },
      "source": [
        "##3 Diâmetros de cabeças de rebites"
      ]
    },
    {
      "cell_type": "code",
      "metadata": {
        "id": "Z37EQYXn2JG5"
      },
      "source": [
        "diametros = [6.72,6.77,6.82,6.70,6.78,6.70,6.62,6.75,\n",
        "             6.66,6.66,6.64,6.76,6.73,6.80,6.72,6.76,\n",
        "             6.76,6.68,6.66,6.62,6.72,6.76,6.70,6.78,\n",
        "             6.76,6.67,6.70,6.72,6.74,6.81,6.79,6.78,\n",
        "             6.66,6.76,6.76,6.72]"
      ],
      "execution_count": 18,
      "outputs": []
    },
    {
      "cell_type": "markdown",
      "metadata": {
        "id": "C205Y2LIAowg"
      },
      "source": [
        "###a) Média amostral e desvio padrão amostral"
      ]
    },
    {
      "cell_type": "code",
      "metadata": {
        "id": "rIbALbIn-ujv"
      },
      "source": [
        "#Cálculo manual da média amostral\n",
        "media_amostral = np.mean(diametros)\n",
        "\n",
        "dp_amostral = np.std(diametros,\n",
        "       ddof=1)"
      ],
      "execution_count": 19,
      "outputs": []
    },
    {
      "cell_type": "code",
      "metadata": {
        "colab": {
          "base_uri": "https://localhost:8080/"
        },
        "id": "As_K5Cte-0X5",
        "outputId": "e057a6be-c6b7-43e5-8b7e-2e6e448e372d"
      },
      "source": [
        "print(f'Média amostral: {media_amostral:.3f}')\n",
        "print(f'Desvio padrão amostral amostral: {dp_amostral:.3f}')"
      ],
      "execution_count": 20,
      "outputs": [
        {
          "output_type": "stream",
          "text": [
            "Média amostral: 6.726\n",
            "Desvio padrão amostral amostral: 0.054\n"
          ],
          "name": "stdout"
        }
      ]
    },
    {
      "cell_type": "markdown",
      "metadata": {
        "id": "pBxX28IdAtdF"
      },
      "source": [
        "###b) Histogramas de frequência relativa e impactos dos intervalos na informação visual"
      ]
    },
    {
      "cell_type": "markdown",
      "metadata": {
        "id": "rfTQHtNCBCrG"
      },
      "source": [
        "**Construção dos histogramas**:"
      ]
    },
    {
      "cell_type": "code",
      "metadata": {
        "colab": {
          "base_uri": "https://localhost:8080/",
          "height": 265
        },
        "id": "MNlFuBJT_Xtd",
        "outputId": "43c64467-7cde-4bfa-d9f0-305d28694388"
      },
      "source": [
        "plt.hist(diametros)\n",
        "sns.despine()\n",
        "\n",
        "out = 'tar02_q3b1_histograma.png'\n",
        "plt.savefig(out)"
      ],
      "execution_count": 21,
      "outputs": [
        {
          "output_type": "display_data",
          "data": {
            "image/png": "[encoded data removed]",
            "text/plain": [
              "<Figure size 432x288 with 1 Axes>"
            ]
          },
          "metadata": {
            "tags": [],
            "needs_background": "light"
          }
        }
      ]
    },
    {
      "cell_type": "code",
      "metadata": {
        "colab": {
          "base_uri": "https://localhost:8080/",
          "height": 265
        },
        "id": "tM9GTzir_bpT",
        "outputId": "ced38113-1f8c-4713-cbf9-bcba35845a74"
      },
      "source": [
        "plt.hist(diametros,\n",
        "         bins=7)\n",
        "sns.despine()\n",
        "\n",
        "out = 'tar02_q3b2_histograma.png'\n",
        "plt.savefig(out)"
      ],
      "execution_count": 22,
      "outputs": [
        {
          "output_type": "display_data",
          "data": {
            "image/png": "[encoded data removed]",
            "text/plain": [
              "<Figure size 432x288 with 1 Axes>"
            ]
          },
          "metadata": {
            "tags": [],
            "needs_background": "light"
          }
        }
      ]
    },
    {
      "cell_type": "code",
      "metadata": {
        "colab": {
          "base_uri": "https://localhost:8080/",
          "height": 265
        },
        "id": "RJFOR2yv_mhK",
        "outputId": "483118dc-f3b2-4c89-bfaa-ab159b5ad78e"
      },
      "source": [
        "plt.hist(diametros,\n",
        "         bins=5)\n",
        "sns.despine()\n",
        "\n",
        "out = 'tar02_q3b3_histograma.png'\n",
        "plt.savefig(out)"
      ],
      "execution_count": 23,
      "outputs": [
        {
          "output_type": "display_data",
          "data": {
            "image/png": "[encoded data removed]",
            "text/plain": [
              "<Figure size 432x288 with 1 Axes>"
            ]
          },
          "metadata": {
            "tags": [],
            "needs_background": "light"
          }
        }
      ]
    },
    {
      "cell_type": "markdown",
      "metadata": {
        "id": "AXXxFetPBFoa"
      },
      "source": [
        "**Análise do impacto dos intervalores:**\n",
        "O aumento da quantidade de faixas permite uma melhor visualização dos detalhes da distribuição e leva a menos perda de informações do conteúdo dentro de cada faixa, permitindo inclusive a visualização mais clara de faixas com ausência de dados. Por outro lado, com menos consegue dar uma visão mais sintética da distribuição, inclusive melhor visualização da existência ou não de formato de sino e clareza se os dados são unimodais ou multimodais, contudo essa sintetização gera maior perda de informação sobre os dados em cada faixa."
      ]
    },
    {
      "cell_type": "markdown",
      "metadata": {
        "id": "9kqegSA6AxiO"
      },
      "source": [
        "###c) Comentários sobre a distribuição dos dados (formato de sino)"
      ]
    },
    {
      "cell_type": "markdown",
      "metadata": {
        "id": "meWO3-r499w9"
      },
      "source": [
        "Independentemente da versão do histograma gerado, percebe-se que o formato da distribuição é similar ao formato de sino. A visualização a seguir, que apresenta a densidade dos dados reforça esta afirmação."
      ]
    },
    {
      "cell_type": "code",
      "metadata": {
        "colab": {
          "base_uri": "https://localhost:8080/",
          "height": 537
        },
        "id": "mQwg9DKN8Qmd",
        "outputId": "e2ad2686-5312-46ac-9e13-14bd6d419c2e"
      },
      "source": [
        "data = diametros\n",
        "\n",
        "plt.figure(figsize = (8, 8))\n",
        "sns.distplot(data)\n",
        "sns.despine()\n",
        "\n",
        "out = 'tar02_q3c3_histograma.png'\n",
        "plt.savefig(out)"
      ],
      "execution_count": 24,
      "outputs": [
        {
          "output_type": "stream",
          "text": [
            "/usr/local/lib/python3.7/dist-packages/seaborn/distributions.py:2557: FutureWarning: `distplot` is a deprecated function and will be removed in a future version. Please adapt your code to use either `displot` (a figure-level function with similar flexibility) or `histplot` (an axes-level function for histograms).\n",
            "  warnings.warn(msg, FutureWarning)\n"
          ],
          "name": "stderr"
        },
        {
          "output_type": "display_data",
          "data": {
            "image/png": "[encoded data removed]",
            "text/plain": [
              "<Figure size 576x576 with 1 Axes>"
            ]
          },
          "metadata": {
            "tags": [],
            "needs_background": "light"
          }
        }
      ]
    },
    {
      "cell_type": "markdown",
      "metadata": {
        "id": "sYCB14P_BeXl"
      },
      "source": [
        "##Referências:"
      ]
    },
    {
      "cell_type": "markdown",
      "metadata": {
        "id": "AuMOKwg-Bh2F"
      },
      "source": [
        "Geraldo Luciano Toledo e Ivo Izidório Ovalle. Estatística Básica. Atlas, 1985.\n",
        "\n",
        "Pedro A. Morettin e Wilton de O. Bussab. Estatística Básica. Saraiva, 2017.\n",
        "\n",
        "Peter Bruce e Andrew Bruce. Estatística Prática para Cientista de Dados. Alta Books, 2019.\n",
        "\n",
        "Ronald E. Walpole, Raymond H. Myers e Keying Ye. Probability and Statistics for Engineers and Scientists. Pearson, 2011."
      ]
    }
  ]
}