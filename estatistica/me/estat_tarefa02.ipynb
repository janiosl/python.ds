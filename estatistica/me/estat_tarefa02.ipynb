{
  "nbformat": 4,
  "nbformat_minor": 0,
  "metadata": {
    "colab": {
      "name": "estat_tarefa02.ipynb",
      "provenance": [],
      "collapsed_sections": [],
      "toc_visible": true,
      "authorship_tag": "ABX9TyNbb81Dq8dn1New4dMTRU+U",
      "include_colab_link": true
    },
    "kernelspec": {
      "name": "python3",
      "display_name": "Python 3"
    },
    "language_info": {
      "name": "python"
    }
  },
  "cells": [
    {
      "cell_type": "markdown",
      "metadata": {
        "id": "view-in-github",
        "colab_type": "text"
      },
      "source": [
        "<a href=\"https://colab.research.google.com/github/janiosl/python.ds/blob/master/estatistica/me/estat_tarefa02.ipynb\" target=\"_parent\"><img src=\"https://colab.research.google.com/assets/colab-badge.svg\" alt=\"Open In Colab\"/></a>"
      ]
    },
    {
      "cell_type": "markdown",
      "metadata": {
        "id": "ZJDPAD35dREV"
      },
      "source": [
        "#Métodos Estatísticos\n",
        "\n",
        "* **Prof.: Diego Barreto Haddad**\n",
        "* **Aluno: Janio de Souza Lima**\n",
        "\n",
        "Exercícios Aula 02"
      ]
    },
    {
      "cell_type": "markdown",
      "metadata": {
        "id": "yAAfJkvWfRC4"
      },
      "source": [
        "##1 Avaliar efeito de regime de saúde envolvendo dieta e exercícios nas taxas de colesterol."
      ]
    },
    {
      "cell_type": "markdown",
      "metadata": {
        "id": "ZASvu6Xzf5jt"
      },
      "source": [
        "Dados para análise: Redução do colesterol por grupo.\n",
        "* Grupo controle: participantes que não realizaram o regime.\n",
        "* Grupo de tramento: participantes que realizaram o tratamento."
      ]
    },
    {
      "cell_type": "code",
      "metadata": {
        "id": "E03yh1Mac04N"
      },
      "source": [
        "grupo_controle = [7, 3, -4, 14, 2,\n",
        "                  5, 22, -7, 9, 5]\n",
        "                  \n",
        "grupo_tratamento = [-6, 5, 9, 4, 4,\n",
        "                    12, 37, 5, 3, 3]"
      ],
      "execution_count": null,
      "outputs": []
    },
    {
      "cell_type": "markdown",
      "metadata": {
        "id": "xtwBm5xJf6_D"
      },
      "source": [
        "### a) Compute a média, a mediana e a média truncada de 10% (trimmed mean) para ambos os grupos."
      ]
    },
    {
      "cell_type": "markdown",
      "metadata": {
        "id": "miQ3Ek6yiUV-"
      },
      "source": [
        "As células a seguir realizam o cálculo das medidas solicitadas e sua exibição em tela."
      ]
    },
    {
      "cell_type": "code",
      "metadata": {
        "id": "-0nBf46VgJ0A"
      },
      "source": [
        "import numpy as np"
      ],
      "execution_count": null,
      "outputs": []
    },
    {
      "cell_type": "code",
      "metadata": {
        "colab": {
          "base_uri": "https://localhost:8080/"
        },
        "id": "dApqY7bFfsli",
        "outputId": "56a16c70-114b-404d-9b6c-6e1f6136a8f3"
      },
      "source": [
        "#Média de cada grupo\n",
        "media_controle = np.mean(grupo_controle)\n",
        "media_tratamento = np.mean(grupo_tratamento)\n",
        "\n",
        "#Visualização dos resultados\n",
        "print('Média dos grupos')\n",
        "print('-'*40)\n",
        "print(f'Grupo de controle: {media_controle}\\nGrupo de tratamento: {media_tratamento}')"
      ],
      "execution_count": null,
      "outputs": [
        {
          "output_type": "stream",
          "text": [
            "Média dos grupos\n",
            "----------------------------------------\n",
            "Grupo de controle: 5.6\n",
            "Grupo de tratamento: 7.6\n"
          ],
          "name": "stdout"
        }
      ]
    },
    {
      "cell_type": "code",
      "metadata": {
        "id": "Go6BqnOtigq7"
      },
      "source": [
        "import pandas as pd"
      ],
      "execution_count": null,
      "outputs": []
    },
    {
      "cell_type": "code",
      "metadata": {
        "id": "9h91htVXijLQ"
      },
      "source": [
        "reg = pd.DataFrame({'Grupo': ['Controle', 'Tratamento', 'Diferença do tratamento (%)'],\n",
        "                    'Média': [media_controle, media_tratamento,\n",
        "                              (media_tratamento-media_controle)/media_controle*100]})"
      ],
      "execution_count": null,
      "outputs": []
    },
    {
      "cell_type": "code",
      "metadata": {
        "colab": {
          "base_uri": "https://localhost:8080/"
        },
        "id": "0g2KInJMghAV",
        "outputId": "22bc378f-2925-4718-dfc1-a58eb5c753f4"
      },
      "source": [
        "#Mediana de cada grupo\n",
        "mediana_controle = np.median(grupo_controle)\n",
        "mediana_tratamento = np.median(grupo_tratamento)\n",
        "\n",
        "reg['Mediana'] = [mediana_controle, mediana_tratamento,\n",
        "                  (mediana_tratamento-mediana_controle)/mediana_controle*100]\n",
        "\n",
        "#Visualização dos resultados\n",
        "print('Mediana dos grupos')\n",
        "print('-'*40)\n",
        "print(f'Grupo de controle: {mediana_controle}\\nGrupo de tratamento: '+\n",
        "      f'{mediana_tratamento}')"
      ],
      "execution_count": null,
      "outputs": [
        {
          "output_type": "stream",
          "text": [
            "Mediana dos grupos\n",
            "----------------------------------------\n",
            "Grupo de controle: 5.0\n",
            "Grupo de tratamento: 4.5\n"
          ],
          "name": "stdout"
        }
      ]
    },
    {
      "cell_type": "code",
      "metadata": {
        "id": "P0NG8G1_gpG3"
      },
      "source": [
        "from scipy import stats"
      ],
      "execution_count": null,
      "outputs": []
    },
    {
      "cell_type": "code",
      "metadata": {
        "colab": {
          "base_uri": "https://localhost:8080/"
        },
        "id": "qdyYMc9mg7A8",
        "outputId": "68bda06d-b72f-412f-e5f2-543dd21a532c"
      },
      "source": [
        "#Média trucada de cada grupo\n",
        "media_t_controle = stats.trim_mean(grupo_controle,\n",
        "                                         proportiontocut=0.10)\n",
        "media_t_tratamento = stats.trim_mean(grupo_tratamento,\n",
        "                                           proportiontocut=0.10)\n",
        "\n",
        "reg['Média Truncada'] = [media_t_controle, media_t_tratamento,\n",
        "                         (media_t_tratamento-media_t_controle)/media_t_controle*100]\n",
        "\n",
        "#Visualização dos resultados\n",
        "print('Média truncada* dos grupos')\n",
        "print('-'*40)\n",
        "print(f'Grupo de controle: {media_t_controle}\\nGrupo de tratamento: '+\n",
        "      f'{media_t_tratamento}')\n",
        "print('*Proporção de corte de 10%')"
      ],
      "execution_count": null,
      "outputs": [
        {
          "output_type": "stream",
          "text": [
            "Média truncada* dos grupos\n",
            "----------------------------------------\n",
            "Grupo de controle: 5.125\n",
            "Grupo de tratamento: 5.625\n",
            "*Proporção de corte de 10%\n"
          ],
          "name": "stdout"
        }
      ]
    },
    {
      "cell_type": "code",
      "metadata": {
        "colab": {
          "base_uri": "https://localhost:8080/",
          "height": 142
        },
        "id": "QgM4_AD8jaRT",
        "outputId": "26fa2807-3311-41da-b095-56684b402be5"
      },
      "source": [
        "#Visão consolidada das medidas\n",
        "reg"
      ],
      "execution_count": null,
      "outputs": [
        {
          "output_type": "execute_result",
          "data": {
            "text/html": [
              "<div>\n",
              "<style scoped>\n",
              "    .dataframe tbody tr th:only-of-type {\n",
              "        vertical-align: middle;\n",
              "    }\n",
              "\n",
              "    .dataframe tbody tr th {\n",
              "        vertical-align: top;\n",
              "    }\n",
              "\n",
              "    .dataframe thead th {\n",
              "        text-align: right;\n",
              "    }\n",
              "</style>\n",
              "<table border=\"1\" class=\"dataframe\">\n",
              "  <thead>\n",
              "    <tr style=\"text-align: right;\">\n",
              "      <th></th>\n",
              "      <th>Grupo</th>\n",
              "      <th>Média</th>\n",
              "      <th>Mediana</th>\n",
              "      <th>Média Truncada</th>\n",
              "    </tr>\n",
              "  </thead>\n",
              "  <tbody>\n",
              "    <tr>\n",
              "      <th>0</th>\n",
              "      <td>Controle</td>\n",
              "      <td>5.600000</td>\n",
              "      <td>5.0</td>\n",
              "      <td>5.125000</td>\n",
              "    </tr>\n",
              "    <tr>\n",
              "      <th>1</th>\n",
              "      <td>Tratamento</td>\n",
              "      <td>7.600000</td>\n",
              "      <td>4.5</td>\n",
              "      <td>5.625000</td>\n",
              "    </tr>\n",
              "    <tr>\n",
              "      <th>2</th>\n",
              "      <td>Diferença do tratamento (%)</td>\n",
              "      <td>35.714286</td>\n",
              "      <td>-10.0</td>\n",
              "      <td>9.756098</td>\n",
              "    </tr>\n",
              "  </tbody>\n",
              "</table>\n",
              "</div>"
            ],
            "text/plain": [
              "                         Grupo      Média  Mediana  Média Truncada\n",
              "0                     Controle   5.600000      5.0        5.125000\n",
              "1                   Tratamento   7.600000      4.5        5.625000\n",
              "2  Diferença do tratamento (%)  35.714286    -10.0        9.756098"
            ]
          },
          "metadata": {
            "tags": []
          },
          "execution_count": 31
        }
      ]
    },
    {
      "cell_type": "markdown",
      "metadata": {
        "id": "rlaygVtHkGYZ"
      },
      "source": [
        "Como pode ser visto na tabela acima as medidas calculadas levam a diferentes conclusões sobre o efeito do regime.\n",
        "* **Média:** Indica que o tratamento obteve maior redução do nível de colesterol, com uma diferença de 35,71%.\n",
        "* **Média truncada:** Também indica que o tratamento obteve maior redução do nível de colesterol, porém com um nível de diferença menor (9.76%).\n",
        "* **Mediana:** Indica que o tratamento teve efeito negativo na redução do nível de colesterol, sendo 10% pior que nos participantes sem o tratamento.\n",
        "\n",
        "---\n"
      ]
    },
    {
      "cell_type": "markdown",
      "metadata": {
        "id": "HEfIpatZiaHx"
      },
      "source": [
        "###b) Explique o porquê a diferença nas médias sugere uma conclusão acerca do efeito do regime, enquanto que a diferença nas medianas ou na média truncada sugere uma conclusão distinta."
      ]
    },
    {
      "cell_type": "markdown",
      "metadata": {
        "id": "6U0s4mQXio2U"
      },
      "source": [
        "Os valores das medidas de posição analisados isoladamente podem levar a conclusões equivocadas, pois dependendo do tamanho do grupo, da dispersão dos dados, presença de anomalias ou outros fatores, as medidas podem ser influenciadas e diminuir sua capacidade explicativa do conjunto de dados. Para facilitar esta análise, construimos a seguir o gráfico diagrama de caixa (*boxplot*) para uma análise visual da distribuição dos dois conjuntos de dados."
      ]
    },
    {
      "cell_type": "code",
      "metadata": {
        "id": "F8xMrKKnipWN"
      },
      "source": [
        "from matplotlib import pyplot as plt"
      ],
      "execution_count": null,
      "outputs": []
    },
    {
      "cell_type": "code",
      "metadata": {
        "colab": {
          "base_uri": "https://localhost:8080/",
          "height": 485
        },
        "id": "YyBQE_m3is0j",
        "outputId": "18415fdb-371f-4f04-d2a2-5b5c85224165"
      },
      "source": [
        "fig, axes = plt.subplots(1,2)\n",
        "fig.set_size_inches(12,7)\n",
        "fig.suptitle('Efeito de Regime nas Taxas de Colesterol', fontweight='bold')\n",
        "\n",
        "axes[0].boxplot(grupo_controle)\n",
        "axes[0].grid()\n",
        "axes[0].set_ylim(-40,40)\n",
        "axes[0].set_xticks([])\n",
        "axes[0].set_title('Grupo de Controle', fontweight='bold')\n",
        "axes[0].set_ylabel('Redução de Colesterol')\n",
        "\n",
        "axes[1].boxplot(grupo_tratamento)\n",
        "axes[1].grid()\n",
        "axes[1].set_ylim(-40,40)\n",
        "axes[1].set_xticks([])\n",
        "axes[1].set_title('Grupo de Tratamento (Regime)', fontweight='bold')"
      ],
      "execution_count": null,
      "outputs": [
        {
          "output_type": "execute_result",
          "data": {
            "text/plain": [
              "Text(0.5, 1.0, 'Grupo de Tratamento (Regime)')"
            ]
          },
          "metadata": {
            "tags": []
          },
          "execution_count": 8
        },
        {
          "output_type": "display_data",
          "data": {
            "image/png": "[encoded data removed]",
            "text/plain": [
              "<Figure size 864x504 with 2 Axes>"
            ]
          },
          "metadata": {
            "tags": [],
            "needs_background": "light"
          }
        }
      ]
    },
    {
      "cell_type": "markdown",
      "metadata": {
        "id": "iL1wyYpAsbpy"
      },
      "source": [
        "Como se observa na análise gráfica há tanto uma diferença na distribuição quanto na ocorrência de valores extremos (*outliers*) em ambos conjuntos de dados. Além disso, no grupo de tratamento há uma amplitude maior dos valores acima da mediana, como pode ser visto tanto pelo menor segmento da caixa quanto do \"bigode\" na parte inferior do gráfico, enquanto no grupo de controle os a amplitude de valores é um pouco mais uniforme em ambos lados (abaixo e acima da mediana), apesar do grupo de controle também possuir um valor extremo acima de 20. Por fim, uma única observação no grupo de tratamento está em uma faixa de valor muito superior às demais observações, o que pode influenciar algumas medidas como explicado a seguir.\n",
        "\n",
        "Estas características dos dados levam a alguns efeitos nas medidas que explicam as conclusões discordantes, conforme segue:\n",
        "\n",
        "**Média:**\n",
        "* Esta medida não é robusta a valores extremos, ou seja, este tipo de valor afeta a medida aumentando ou diminuindo muito seu valor dependendo da extremidade em que eles se encontram. No caso em questão, o valor de 37 no conjunto de tratamento aumenta muito o valor da média, o que explica sua diferença de mais de 35% em relação ao grupo de controle. Esse fato junto com o tamanho muito pequeno dos conjuntos de dados pode indicar que a média não é uma boa medida para representar adequadamente os conjuntos, devendo-se, portanto ter cautela em conclusões sobre o estudo a partir da análise das médias dos grupos.\n",
        "\n",
        "**Média Truncada**:\n",
        "* A média trucada é calculada a partir da exclusão de parte das extremidades das observações. Neste caso, eliminamos 10% de cada extremidade (representado pelo parâmetro `proportioncut` na função `stats.trim_mean`). Apesar de ainda poder ser influenciado por valores extremos, seu impacto é menor que na média, por isso, a medida é considerada mais robusta a valores extremos e ao mesmo tempo mantém-se sensível aos valores no conjunto de dados.\n",
        "\n",
        "**Mediana:**\n",
        "* Por fim, a mediana é uma das medidas mais robustas a valores extremos, pois independente deles, sempre representará a posição mais central (em conjuntos ímpares) ou a média dos valores centrais. O problema é que quando há concentração de valores em um dos lados (abaixo ou acima da mediana), esta medida não será sensível a esta concentração.\n",
        "\n",
        "---"
      ]
    },
    {
      "cell_type": "markdown",
      "metadata": {
        "id": "Ho008Jij1_kV"
      },
      "source": [
        "##2 Durações de falhas de energia"
      ]
    },
    {
      "cell_type": "code",
      "metadata": {
        "id": "4zUhkGNX2EGK"
      },
      "source": [
        "falhas = [22, 18, 135, 15, 90, 78, 69, 98, 102,\n",
        "          83, 55, 28, 121, 120, 13, 22, 124, 112,\n",
        "          70, 66, 74, 89, 103, 24, 21, 112, 21,\n",
        "          40, 98, 87, 132, 115, 21, 28, 43, 37,\n",
        "          50, 96, 118, 158, 74, 78, 83, 93, 95]"
      ],
      "execution_count": null,
      "outputs": []
    },
    {
      "cell_type": "markdown",
      "metadata": {
        "id": "BBU776F76WIy"
      },
      "source": [
        "###a) Média amostral e mediana amostral\n"
      ]
    },
    {
      "cell_type": "markdown",
      "metadata": {
        "id": "tqy2ghlU4Z6h"
      },
      "source": [
        "* **Média amostral:** Na média amostral o grau de liberdade é ajustado para $n-1$, onde $n$ é o número de elementos. O cálculo abaixo realiza este ajuste e o cálculo manual da média."
      ]
    },
    {
      "cell_type": "code",
      "metadata": {
        "colab": {
          "base_uri": "https://localhost:8080/"
        },
        "id": "6Q2xJNpI2duL",
        "outputId": "63ccc4fc-8d7a-488e-c150-cdd99c779f89"
      },
      "source": [
        "#Cálculo manual da média amostral\n",
        "#Na média amostral o grau de liberdade é ajustado para n-1\n",
        "grau_de_liberdade = len(falhas)-1\n",
        "media_amostral = sum(falhas)/(grau_de_liberdade)\n",
        "\n",
        "print('Média amostral:')\n",
        "media_amostral"
      ],
      "execution_count": null,
      "outputs": [
        {
          "output_type": "stream",
          "text": [
            "Média amostral:\n"
          ],
          "name": "stdout"
        },
        {
          "output_type": "execute_result",
          "data": {
            "text/plain": [
              "75.70454545454545"
            ]
          },
          "metadata": {
            "tags": []
          },
          "execution_count": 10
        }
      ]
    },
    {
      "cell_type": "markdown",
      "metadata": {
        "id": "CEirA4HI6j0h"
      },
      "source": [
        "* **Mediana amostral:**"
      ]
    },
    {
      "cell_type": "code",
      "metadata": {
        "id": "ClBoF36w6zC2"
      },
      "source": [
        ""
      ],
      "execution_count": null,
      "outputs": []
    },
    {
      "cell_type": "markdown",
      "metadata": {
        "id": "b0Sy5zm26bep"
      },
      "source": [
        "###b) Desvio padrão amostral"
      ]
    },
    {
      "cell_type": "markdown",
      "metadata": {
        "id": "4Mz2XIbG4-0v"
      },
      "source": [
        "Para cálculo do desvio padrão amostral é usado o mesmo ajuste do grau de liberade, contudo, usamos para isto a função `np.std` que possui um parâmetro para este ajuste (`ddof`), cujo valor é padrão é $0$. Ao ajustá-lo para $1$, o divisor usando nos cálculos para a ser $n-1$."
      ]
    },
    {
      "cell_type": "code",
      "metadata": {
        "colab": {
          "base_uri": "https://localhost:8080/"
        },
        "id": "SEH0blPc2kcH",
        "outputId": "7e489a79-8b45-4236-ee44-33a875723761"
      },
      "source": [
        "print('Desvio padrão amostral:')\n",
        "np.std(falhas,\n",
        "       ddof=1)"
      ],
      "execution_count": null,
      "outputs": [
        {
          "output_type": "stream",
          "text": [
            "Desvio padrão amostral:\n"
          ],
          "name": "stdout"
        },
        {
          "output_type": "execute_result",
          "data": {
            "text/plain": [
              "39.25759271604139"
            ]
          },
          "metadata": {
            "tags": []
          },
          "execution_count": 11
        }
      ]
    },
    {
      "cell_type": "markdown",
      "metadata": {
        "id": "dOtD7SNx2EeN"
      },
      "source": [
        "##3 Diâmetros de cabeças de rebites"
      ]
    },
    {
      "cell_type": "code",
      "metadata": {
        "id": "Z37EQYXn2JG5"
      },
      "source": [
        "diametros = [6.72,6.77,6.82,6.70,6.78,6.70,6.62,6.75,\n",
        "             6.66,6.66,6.64,6.76,6.73,6.80,6.72,6.76,\n",
        "             6.76,6.68,6.66,6.62,6.72,6.76,6.70,6.78,\n",
        "             6.76,6.67,6.70,6.72,6.74,6.81,6.79,6.78,\n",
        "             6.66,6.76,6.76,6.72]"
      ],
      "execution_count": null,
      "outputs": []
    },
    {
      "cell_type": "markdown",
      "metadata": {
        "id": "C205Y2LIAowg"
      },
      "source": [
        "###a) Média amostral e desvio padrão amostral"
      ]
    },
    {
      "cell_type": "code",
      "metadata": {
        "id": "rIbALbIn-ujv"
      },
      "source": [
        "#Cálculo manual da média amostral\n",
        "#Na média amostral o grau de liberdade é ajustado para n-1\n",
        "grau_de_liberdade = len(diametros)-1\n",
        "media_amostral = sum(diametros)/(grau_de_liberdade)\n",
        "\n",
        "dp_amostral = np.std(diametros,\n",
        "       ddof=1)"
      ],
      "execution_count": null,
      "outputs": []
    },
    {
      "cell_type": "code",
      "metadata": {
        "colab": {
          "base_uri": "https://localhost:8080/"
        },
        "id": "As_K5Cte-0X5",
        "outputId": "3a406614-1bf7-4a5d-89fc-7143343bf546"
      },
      "source": [
        "print(f'Média amostral: {media_amostral:.3f}')\n",
        "print(f'Desvio padrão amostral amostral: {dp_amostral:.3f}')"
      ],
      "execution_count": null,
      "outputs": [
        {
          "output_type": "stream",
          "text": [
            "Média amostral: 6.918\n",
            "Desvio padrão amostral amostral: 0.054\n"
          ],
          "name": "stdout"
        }
      ]
    },
    {
      "cell_type": "markdown",
      "metadata": {
        "id": "pBxX28IdAtdF"
      },
      "source": [
        "###b) Histogramas de frequência relativa e impactos dos intervalos na informação visual"
      ]
    },
    {
      "cell_type": "markdown",
      "metadata": {
        "id": "rfTQHtNCBCrG"
      },
      "source": [
        "**Construção dos histogramas**:"
      ]
    },
    {
      "cell_type": "code",
      "metadata": {
        "colab": {
          "base_uri": "https://localhost:8080/",
          "height": 316
        },
        "id": "MNlFuBJT_Xtd",
        "outputId": "2f6823be-0a5f-44a0-bd96-7e7a63cf2daf"
      },
      "source": [
        "plt.hist(diametros)"
      ],
      "execution_count": null,
      "outputs": [
        {
          "output_type": "execute_result",
          "data": {
            "text/plain": [
              "(array([3., 0., 5., 1., 9., 1., 2., 8., 5., 2.]),\n",
              " array([6.62, 6.64, 6.66, 6.68, 6.7 , 6.72, 6.74, 6.76, 6.78, 6.8 , 6.82]),\n",
              " <a list of 10 Patch objects>)"
            ]
          },
          "metadata": {
            "tags": []
          },
          "execution_count": 15
        },
        {
          "output_type": "display_data",
          "data": {
            "image/png": "[encoded data removed]",
            "text/plain": [
              "<Figure size 432x288 with 1 Axes>"
            ]
          },
          "metadata": {
            "tags": [],
            "needs_background": "light"
          }
        }
      ]
    },
    {
      "cell_type": "code",
      "metadata": {
        "colab": {
          "base_uri": "https://localhost:8080/",
          "height": 333
        },
        "id": "tM9GTzir_bpT",
        "outputId": "d166e200-f51b-4b5f-a8b7-4148354eb777"
      },
      "source": [
        "plt.hist(diametros,\n",
        "         bins=7)"
      ],
      "execution_count": null,
      "outputs": [
        {
          "output_type": "execute_result",
          "data": {
            "text/plain": [
              "(array([3., 5., 5., 6., 9., 5., 3.]),\n",
              " array([6.62      , 6.64857143, 6.67714286, 6.70571429, 6.73428571,\n",
              "        6.76285714, 6.79142857, 6.82      ]),\n",
              " <a list of 7 Patch objects>)"
            ]
          },
          "metadata": {
            "tags": []
          },
          "execution_count": 16
        },
        {
          "output_type": "display_data",
          "data": {
            "image/png": "[encoded data removed]",
            "text/plain": [
              "<Figure size 432x288 with 1 Axes>"
            ]
          },
          "metadata": {
            "tags": [],
            "needs_background": "light"
          }
        }
      ]
    },
    {
      "cell_type": "code",
      "metadata": {
        "colab": {
          "base_uri": "https://localhost:8080/",
          "height": 316
        },
        "id": "RJFOR2yv_mhK",
        "outputId": "90f5df23-c2cb-4a4f-fb5c-7de4e0cfd41f"
      },
      "source": [
        "plt.hist(diametros,\n",
        "         bins=5)"
      ],
      "execution_count": null,
      "outputs": [
        {
          "output_type": "execute_result",
          "data": {
            "text/plain": [
              "(array([ 3.,  6., 10., 10.,  7.]),\n",
              " array([6.62, 6.66, 6.7 , 6.74, 6.78, 6.82]),\n",
              " <a list of 5 Patch objects>)"
            ]
          },
          "metadata": {
            "tags": []
          },
          "execution_count": 17
        },
        {
          "output_type": "display_data",
          "data": {
            "image/png": "[encoded data removed]",
            "text/plain": [
              "<Figure size 432x288 with 1 Axes>"
            ]
          },
          "metadata": {
            "tags": [],
            "needs_background": "light"
          }
        }
      ]
    },
    {
      "cell_type": "markdown",
      "metadata": {
        "id": "AXXxFetPBFoa"
      },
      "source": [
        "**Análise do impacto dos intervalores:**"
      ]
    },
    {
      "cell_type": "markdown",
      "metadata": {
        "id": "9kqegSA6AxiO"
      },
      "source": [
        "###c) Comentários sobre a distribuição dos dados (formato de sino)"
      ]
    },
    {
      "cell_type": "markdown",
      "metadata": {
        "id": "1da9r9JqBK7O"
      },
      "source": [
        ""
      ]
    },
    {
      "cell_type": "markdown",
      "metadata": {
        "id": "sYCB14P_BeXl"
      },
      "source": [
        "##Referências:"
      ]
    },
    {
      "cell_type": "markdown",
      "metadata": {
        "id": "AuMOKwg-Bh2F"
      },
      "source": [
        ""
      ]
    }
  ]
}