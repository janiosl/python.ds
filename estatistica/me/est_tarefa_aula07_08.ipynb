{
  "nbformat": 4,
  "nbformat_minor": 0,
  "metadata": {
    "colab": {
      "name": "est_tarefa_aula07-08.ipynb",
      "provenance": [],
      "collapsed_sections": [],
      "toc_visible": true,
      "authorship_tag": "ABX9TyOPI7DYcToWF6SmiM3O7pm1",
      "include_colab_link": true
    },
    "kernelspec": {
      "name": "python3",
      "display_name": "Python 3"
    },
    "language_info": {
      "name": "python"
    }
  },
  "cells": [
    {
      "cell_type": "markdown",
      "metadata": {
        "id": "view-in-github",
        "colab_type": "text"
      },
      "source": [
        "<a href=\"https://colab.research.google.com/github/janiosl/python.ds/blob/master/estatistica/me/est_tarefa_aula07_08.ipynb\" target=\"_parent\"><img src=\"https://colab.research.google.com/assets/colab-badge.svg\" alt=\"Open In Colab\"/></a>"
      ]
    },
    {
      "cell_type": "markdown",
      "metadata": {
        "id": "0fhJ6eq87fU8"
      },
      "source": [
        "#**CEFET-RJ**\n",
        "\n",
        "**Programa de Pós-Gradução em Ciência da Computação - PPCIC**\n",
        "\n",
        "**Mestrado em Ciência da Computação**\n",
        "\n",
        "**Disciplina: Métodos Estatísticos - 2021/2**\n",
        "\n",
        "* **Exercícios - Aula 07 e 09**\n",
        "* **Prof.: Diego Barreto Haddad**\n",
        "* **Aluno: Janio de Souza Lima**\n",
        "\n",
        "\n",
        "\n",
        "---"
      ]
    },
    {
      "cell_type": "markdown",
      "metadata": {
        "id": "UixQ926qoRlU"
      },
      "source": [
        "## Preparação do ambiente e funções gerais"
      ]
    },
    {
      "cell_type": "code",
      "metadata": {
        "id": "Pu2yyUDRbBN8"
      },
      "source": [
        "#Carga de bibliotecas usadas nas questões\n",
        "import numpy as np\n",
        "from matplotlib import pyplot as plt"
      ],
      "execution_count": 1,
      "outputs": []
    },
    {
      "cell_type": "code",
      "metadata": {
        "id": "qpEJV1Zee-JG"
      },
      "source": [
        "#Definindo uma semente para reprodutibilidade dos aleatórios\n",
        "np.random.seed(31)"
      ],
      "execution_count": 2,
      "outputs": []
    },
    {
      "cell_type": "code",
      "metadata": {
        "id": "-hu4feoryo6I"
      },
      "source": [
        "#Funções para auxiliar na resolução das questões\n",
        "def padrao(X, mu, sigma):\n",
        "  \"\"\"\n",
        "  Função de transformação para normal padrão\n",
        "  X: Variável aleatória que será transforamda\n",
        "  mu: média da variável aleatória\n",
        "  sigma: desvio padrão da variável aleatória\n",
        "  \"\"\"\n",
        "  Z = (X-mu)/sigma\n",
        "  return Z"
      ],
      "execution_count": 3,
      "outputs": []
    },
    {
      "cell_type": "markdown",
      "metadata": {
        "id": "-bzZNgNiwM96"
      },
      "source": [
        "## Questão 1:\n",
        "\n",
        "Assuma que os diâmetros de todos os pacotes de determinada marca de pizza sejam distribuídos consoante uma gaussiana, com uma média de $32$ cm e um desvio padrão de $0,3$ cm. Encontre a probabilidade de que a média dos diâmetros, $\\bar{X}$, de uma amostra aleatória de $20$ elementos deste tipo de pizza, se encontre entre $31,8$ e $31,9$ cm."
      ]
    },
    {
      "cell_type": "code",
      "metadata": {
        "id": "Pw63AXs0n7Av"
      },
      "source": [
        "#Parâmetros da distribuição\n",
        "mu = 32\n",
        "sigma = 0.3\n",
        "N = 20"
      ],
      "execution_count": 4,
      "outputs": []
    },
    {
      "cell_type": "code",
      "metadata": {
        "id": "bXkS0Q_3y07N"
      },
      "source": [
        "#Geração da amostra aleatória\n",
        "X = np.random.normal(mu, sigma, size=N)"
      ],
      "execution_count": 5,
      "outputs": []
    },
    {
      "cell_type": "code",
      "metadata": {
        "colab": {
          "base_uri": "https://localhost:8080/"
        },
        "id": "-9u75BWTzHIw",
        "outputId": "fbab9e1d-4303-4b4f-84af-d67b99b3b6c7"
      },
      "source": [
        "#Conferência dos valores\n",
        "X"
      ],
      "execution_count": 6,
      "outputs": [
        {
          "output_type": "execute_result",
          "data": {
            "text/plain": [
              "array([31.87557284, 31.8999894 , 32.0243276 , 31.76269191, 31.9344201 ,\n",
              "       31.77104095, 31.76686393, 32.55480696, 31.78831991, 31.97418739,\n",
              "       32.08637999, 31.96058404, 31.70517675, 31.72436261, 32.35983035,\n",
              "       31.89758773, 31.47241781, 32.01533524, 31.8284213 , 31.78983019])"
            ]
          },
          "metadata": {},
          "execution_count": 6
        }
      ]
    },
    {
      "cell_type": "code",
      "metadata": {
        "id": "dlbDoipbzgOX"
      },
      "source": [
        "#Transformação de X em um uma normal padrão\n",
        "Z = padrao(X, mu, sigma)"
      ],
      "execution_count": 7,
      "outputs": []
    },
    {
      "cell_type": "code",
      "metadata": {
        "colab": {
          "base_uri": "https://localhost:8080/"
        },
        "id": "ZabEpHoIznu6",
        "outputId": "9b292acc-5b45-49d5-aa38-2918808a1758"
      },
      "source": [
        "Z"
      ],
      "execution_count": 8,
      "outputs": [
        {
          "output_type": "execute_result",
          "data": {
            "text/plain": [
              "array([-0.41475721, -0.33336867,  0.08109199, -0.79102695, -0.21859967,\n",
              "       -0.76319684, -0.77712024,  1.84935652, -0.70560031, -0.08604203,\n",
              "        0.2879333 , -0.13138652, -0.98274415, -0.91879129,  1.19943449,\n",
              "       -0.34137424, -1.75860731,  0.05111747, -0.57192899, -0.70056604])"
            ]
          },
          "metadata": {},
          "execution_count": 8
        }
      ]
    },
    {
      "cell_type": "code",
      "metadata": {
        "id": "bkwjClaN6wRE"
      },
      "source": [
        "#Definição dos limites de acordo com o enunciado\n",
        "li = 31.8  #Limite inferior\n",
        "ls = 31.9 #Limite superior"
      ],
      "execution_count": 9,
      "outputs": []
    },
    {
      "cell_type": "code",
      "metadata": {
        "colab": {
          "base_uri": "https://localhost:8080/",
          "height": 298
        },
        "id": "EEluogeqzJHS",
        "outputId": "2384ca61-ab89-4d48-b1e8-e28a4c96c89d"
      },
      "source": [
        "#Histograma\n",
        "plt.title(f'Histograma da distribuição gaussina\\n$\\mu={mu}, \\sigma={sigma}$')\n",
        "count, bins, ignored = plt.hist(X, density=True)\n",
        "\n",
        "#Função densidade de probabilidade\n",
        "plt.plot(bins, 1/(sigma * np.sqrt(2* np.pi)) *\n",
        "         np.exp( - (bins - mu)**2 / (2 * sigma**2)),\n",
        "         linewidth=2, color='r')\n",
        "\n",
        "#Região desejada\n",
        "plt.axvline(li, color='orange', linestyle='dashed')\n",
        "plt.axvline(ls, color='orange', linestyle='dashed')\n",
        "\n",
        "plt.savefig('plot1.1.png')"
      ],
      "execution_count": 10,
      "outputs": [
        {
          "output_type": "display_data",
          "data": {
            "image/png": "[encoded data removed]",
            "text/plain": [
              "<Figure size 432x288 with 1 Axes>"
            ]
          },
          "metadata": {
            "needs_background": "light"
          }
        }
      ]
    },
    {
      "cell_type": "code",
      "metadata": {
        "colab": {
          "base_uri": "https://localhost:8080/"
        },
        "id": "nZuA8YRE7CO6",
        "outputId": "5786fcef-73c8-431f-84dc-2756161bcf94"
      },
      "source": [
        "#Transformação dos valores por aproximação gaussiana\n",
        "liZ = padrao(li, mu, sigma)\n",
        "lsZ = padrao(ls, mu, sigma)\n",
        "print(round(liZ, 2), round(lsZ, 2))"
      ],
      "execution_count": 11,
      "outputs": [
        {
          "output_type": "stream",
          "name": "stdout",
          "text": [
            "-0.67 -0.33\n"
          ]
        }
      ]
    },
    {
      "cell_type": "code",
      "metadata": {
        "colab": {
          "base_uri": "https://localhost:8080/",
          "height": 281
        },
        "id": "XPcMJ8H6Ln5e",
        "outputId": "7a1292cb-f037-4a85-bb8e-f472b7c98c34"
      },
      "source": [
        "#Histograma\n",
        "plt.title(f'Histograma da distribuição gaussina padrão')\n",
        "count, bins, ignored = plt.hist(Z, density=True)\n",
        "\n",
        "#Função densidade de probabilidade\n",
        "plt.plot(bins, 1/(1 * np.sqrt(2* np.pi)) *\n",
        "         np.exp( - (bins - 0)**2 / (2 * 1**2)),\n",
        "         linewidth=2, color='r')\n",
        "\n",
        "#Região Desejada\n",
        "plt.axvline(liZ, color='orange', linestyle='dashed')\n",
        "plt.axvline(lsZ, color='orange', linestyle='dashed')\n",
        "\n",
        "plt.savefig('plot1.2.png')"
      ],
      "execution_count": 12,
      "outputs": [
        {
          "output_type": "display_data",
          "data": {
            "image/png": "[encoded data removed]",
            "text/plain": [
              "<Figure size 432x288 with 1 Axes>"
            ]
          },
          "metadata": {
            "needs_background": "light"
          }
        }
      ]
    },
    {
      "cell_type": "markdown",
      "metadata": {
        "id": "hWGxVUZd7Pb-"
      },
      "source": [
        "A solução dessa questão busca encontrar a probabilidade sob a área contida entre as linhas verticais no gráfico exibido acima. Pela tabela A.3 [Walpole et al., 2012] temos o seguinte:\n",
        "\n",
        "* Para $z=-0.67$ a probabilidade é $0.2514$;\n",
        "* Para $z=-0.33$ a probabilidade $0.3707$\n",
        "* Analisando a probabilidade dos valores de $Z$ obtidos, considerando que a distribuição é centrada na média igual a $0$ e que a área total sob a curva é unitária, concluídos que a $Prob\\{-0.67 \\leq Z \\leq -0.33\\} = 0.1193$, então para a distribuição gaussiana com $\\mu = 32$ e $\\sigma=0.3$, a $Prob\\{31.8 \\leq X \\leq 31.9\\} \\approx 0.1193$."
      ]
    },
    {
      "cell_type": "markdown",
      "metadata": {
        "id": "NPs_E-kByMHp"
      },
      "source": [
        "## Questão 2:\n",
        "\n",
        "De acordo com uma empresa de consultoria, a checagem de uma conta corrente em grandes bancos custa entre R\\$ $350,00$ e R\\$ $450,00$ por ano. Suponha que o custo médio atual de checagem de todas as contas correntes em grandes bancos seja de R\\$ $400,00$ por ano, com um desvio padrão de R\\$ $30,00$. Seja $\\bar{X}$ o custo anual médio de uma amostra aleatória de $225$ contas correntes individuais em grandes bancos."
      ]
    },
    {
      "cell_type": "code",
      "metadata": {
        "id": "2UwG7g4mA87P"
      },
      "source": [
        "#Parâmetros da distribuição\n",
        "mu = 400\n",
        "sigma = 30\n",
        "N = 225"
      ],
      "execution_count": 13,
      "outputs": []
    },
    {
      "cell_type": "code",
      "metadata": {
        "id": "104OWsvgI95c"
      },
      "source": [
        "#Geração da amostra aleatória\n",
        "X = np.random.normal(mu, sigma, size=N)"
      ],
      "execution_count": 14,
      "outputs": []
    },
    {
      "cell_type": "code",
      "metadata": {
        "colab": {
          "base_uri": "https://localhost:8080/"
        },
        "id": "_abZq4jcJXrx",
        "outputId": "76608152-c23e-48c2-cb71-5f2704067f92"
      },
      "source": [
        "#Conferência dos primeiros 10 valores\n",
        "X[:10]"
      ],
      "execution_count": 15,
      "outputs": [
        {
          "output_type": "execute_result",
          "data": {
            "text/plain": [
              "array([371.94681275, 446.03457989, 459.32302106, 386.94621003,\n",
              "       395.96344314, 393.71305776, 376.99449538, 401.19911307,\n",
              "       418.35333899, 392.08524065])"
            ]
          },
          "metadata": {},
          "execution_count": 15
        }
      ]
    },
    {
      "cell_type": "markdown",
      "metadata": {
        "id": "6ZD-6MURHZHE"
      },
      "source": [
        "### a) Qual é a probabilidade de que o custo anual médio de se checar contas correntes nesta amostra se encontre distanciada no máximo em R\\$ $4,00$ da média populacional?"
      ]
    },
    {
      "cell_type": "code",
      "metadata": {
        "id": "kYbsHhdyJUWm",
        "colab": {
          "base_uri": "https://localhost:8080/"
        },
        "outputId": "a9fbc870-b66a-4cd3-f7b2-34a57a066685"
      },
      "source": [
        "#Definição dos limites de acordo com o enunciado\n",
        "li = mu - 4 #Limite inferior\n",
        "ls = mu + 4 #Limite superior\n",
        "print(li, ls)"
      ],
      "execution_count": 16,
      "outputs": [
        {
          "output_type": "stream",
          "name": "stdout",
          "text": [
            "396 404\n"
          ]
        }
      ]
    },
    {
      "cell_type": "code",
      "metadata": {
        "colab": {
          "base_uri": "https://localhost:8080/",
          "height": 298
        },
        "id": "PQ3Y08xvKk9A",
        "outputId": "f07651ec-0e7a-497e-8710-f78da94abad9"
      },
      "source": [
        "#Histograma\n",
        "plt.title(f'Histograma da distribuição gaussina\\n$\\mu={mu}, \\sigma={sigma}$')\n",
        "count, bins, ignored = plt.hist(X, 30, density=True)\n",
        "\n",
        "#Função densidade de probabilidade\n",
        "plt.plot(bins, 1/(sigma * np.sqrt(2* np.pi)) *\n",
        "         np.exp( - (bins - mu)**2 / (2 * sigma**2)),\n",
        "         linewidth=2, color='r')\n",
        "\n",
        "#Região desejada\n",
        "plt.axvline(li, color='orange', linestyle='dashed')\n",
        "plt.axvline(ls, color='orange', linestyle='dashed')\n",
        "\n",
        "plt.savefig('plot2.1.png')"
      ],
      "execution_count": 17,
      "outputs": [
        {
          "output_type": "display_data",
          "data": {
            "image/png": "[encoded data removed]",
            "text/plain": [
              "<Figure size 432x288 with 1 Axes>"
            ]
          },
          "metadata": {
            "needs_background": "light"
          }
        }
      ]
    },
    {
      "cell_type": "code",
      "metadata": {
        "colab": {
          "base_uri": "https://localhost:8080/"
        },
        "id": "7OIfCD6WJvjr",
        "outputId": "944e7faa-c350-4826-9ba9-be06921dcbe1"
      },
      "source": [
        "#Transformação dos valores por aproximação gaussiana\n",
        "liZ = padrao(li, mu, sigma)\n",
        "lsZ = padrao(ls, mu, sigma)\n",
        "print(round(liZ, 2), round(lsZ, 2))"
      ],
      "execution_count": 18,
      "outputs": [
        {
          "output_type": "stream",
          "name": "stdout",
          "text": [
            "-0.13 0.13\n"
          ]
        }
      ]
    },
    {
      "cell_type": "code",
      "metadata": {
        "id": "DSNYrLxPK-hf"
      },
      "source": [
        "Z = padrao(X, mu, sigma)"
      ],
      "execution_count": 19,
      "outputs": []
    },
    {
      "cell_type": "code",
      "metadata": {
        "colab": {
          "base_uri": "https://localhost:8080/",
          "height": 281
        },
        "id": "jirLujDpLEfb",
        "outputId": "e86d0dc9-1832-4942-ab62-07e278801fd6"
      },
      "source": [
        "#Histograma\n",
        "plt.title(f'Histograma da distribuição gaussina padrão')\n",
        "count, bins, ignored = plt.hist(Z, 30, density=True)\n",
        "\n",
        "#Função densidade de probabilidade\n",
        "plt.plot(bins, 1/(1 * np.sqrt(2* np.pi)) *\n",
        "         np.exp( - (bins - 0)**2 / (2 * 1**2)),\n",
        "         linewidth=2, color='r')\n",
        "\n",
        "#Região Desejada\n",
        "plt.axvline(liZ, color='orange', linestyle='dashed')\n",
        "plt.axvline(lsZ, color='orange', linestyle='dashed')\n",
        "\n",
        "plt.savefig('plot2.2.png')"
      ],
      "execution_count": 20,
      "outputs": [
        {
          "output_type": "display_data",
          "data": {
            "image/png": "[encoded data removed]",
            "text/plain": [
              "<Figure size 432x288 with 1 Axes>"
            ]
          },
          "metadata": {
            "needs_background": "light"
          }
        }
      ]
    },
    {
      "cell_type": "markdown",
      "metadata": {
        "id": "q6Iyrg31Me6N"
      },
      "source": [
        "A solução dessa questão busca encontrar a probabilidade sob a área contida entre as linhas verticais no gráfico exibido acima. Pela tabela A.3 [Walpole et al., 2012] temos o seguinte:\n",
        "\n",
        "* Para $z=-0.13$ a probabilidade é $0.4483$;\n",
        "* Para $z=0.13$ a probabilidade $0.5517$\n",
        "* Analisando a probabilidade dos valores de $Z$ obtidos, considerando que a distribuição é centrada na média igual a $0$ e que a área total sob a curva é unitária, concluídos que a $Prob\\{-0.13 \\leq Z \\leq 0.13\\} = 0.1034$, então para a distribuição gaussiana com $\\mu = 400$ e $\\sigma=30$, a $Prob\\{396 \\leq X \\leq 404\\} \\approx 0.1034$."
      ]
    },
    {
      "cell_type": "markdown",
      "metadata": {
        "id": "3V1luJlGHvOr"
      },
      "source": [
        "### b) Qual é a probabilidade de que o custo anual médio de se checar tais contas correntes nesta amostra seja inferior ao da média populacional por R\\$ $2,70$ ou mais?"
      ]
    },
    {
      "cell_type": "code",
      "metadata": {
        "colab": {
          "base_uri": "https://localhost:8080/"
        },
        "id": "Dn3FjR33sv3i",
        "outputId": "b85b35f0-fe8a-47e4-eef8-7c56d884382e"
      },
      "source": [
        "#Definição do valor de x\n",
        "x = mu - 2.7\n",
        "x"
      ],
      "execution_count": 21,
      "outputs": [
        {
          "output_type": "execute_result",
          "data": {
            "text/plain": [
              "397.3"
            ]
          },
          "metadata": {},
          "execution_count": 21
        }
      ]
    },
    {
      "cell_type": "code",
      "metadata": {
        "colab": {
          "base_uri": "https://localhost:8080/"
        },
        "id": "pUmQHyL_OLhx",
        "outputId": "526148e6-2b0c-45c1-feee-95a5e9830d0f"
      },
      "source": [
        "#Transformação por aproximação gaussiana\n",
        "z = padrao(x, mu, sigma)\n",
        "print(round(z, 2))"
      ],
      "execution_count": 22,
      "outputs": [
        {
          "output_type": "stream",
          "name": "stdout",
          "text": [
            "-0.09\n"
          ]
        }
      ]
    },
    {
      "cell_type": "code",
      "metadata": {
        "colab": {
          "base_uri": "https://localhost:8080/",
          "height": 281
        },
        "id": "BB66vz1aOjWx",
        "outputId": "80ebd2bd-8640-4fc7-e29a-97dc88c10457"
      },
      "source": [
        "#Histograma\n",
        "plt.title(f'Histograma da distribuição gaussina padrão')\n",
        "count, bins, ignored = plt.hist(Z, 30, density=True)\n",
        "\n",
        "#Função densidade de probabilidade\n",
        "plt.plot(bins, 1/(1 * np.sqrt(2* np.pi)) *\n",
        "         np.exp( - (bins - 0)**2 / (2 * 1**2)),\n",
        "         linewidth=2, color='r')\n",
        "\n",
        "#Região Desejada\n",
        "plt.axvline(z, color='orange', linestyle='dashed')\n",
        "\n",
        "plt.savefig('plot2.3.png')"
      ],
      "execution_count": 23,
      "outputs": [
        {
          "output_type": "display_data",
          "data": {
            "image/png": "[encoded data removed]",
            "text/plain": [
              "<Figure size 432x288 with 1 Axes>"
            ]
          },
          "metadata": {
            "needs_background": "light"
          }
        }
      ]
    },
    {
      "cell_type": "markdown",
      "metadata": {
        "id": "19zRRkrDOS3n"
      },
      "source": [
        "A solução dessa questão busca encontrar a probabilidade sob a área contida à esquerda da linha vertical no gráfico exibido acima.  Pela tabela A.3 [Walpole et al., 2012] temos o seguinte:\n",
        "\n",
        "* Para $z=-0.09$, temos que a $Prob\\{Z \\leq -0.09\\} = 0.4641$."
      ]
    },
    {
      "cell_type": "markdown",
      "metadata": {
        "id": "NS-QzVB80lcd"
      },
      "source": [
        "#Referências"
      ]
    },
    {
      "cell_type": "markdown",
      "metadata": {
        "id": "dXyxCptN0nOp"
      },
      "source": [
        "Jay L. Devore. **Probabilidade e Estatística para engenharia e ciências**. Cengage, 2006.\n",
        "\n",
        "Pedro A. Morettin, Wilton de O. Bussab. **Estatística Básica**. Saraiva, 2017.\n",
        "\n",
        "Ronald E. Walpole, Raymond H. Myers, Sharon L. Myers e Keying Ye. **Probability & Statistics for Engineers & Scientistis**. Pearson, 2012.\n",
        "\n",
        "---\n",
        "\n",
        "**Códigos e materiais complementares:**\n",
        "* Versão online desse notebook: https://github.com/janiosl/python.ds/blob/master/estatistica/meest_tarefa_aula07_08.ipynb"
      ]
    }
  ]
}