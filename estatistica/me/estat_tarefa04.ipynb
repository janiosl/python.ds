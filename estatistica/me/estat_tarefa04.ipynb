{
  "nbformat": 4,
  "nbformat_minor": 0,
  "metadata": {
    "colab": {
      "name": "estat_tarefa04.ipynb",
      "provenance": [],
      "collapsed_sections": [],
      "toc_visible": true,
      "authorship_tag": "ABX9TyObD7TASomfmS0ZUIwX9xiy",
      "include_colab_link": true
    },
    "kernelspec": {
      "name": "python3",
      "display_name": "Python 3"
    },
    "language_info": {
      "name": "python"
    }
  },
  "cells": [
    {
      "cell_type": "markdown",
      "metadata": {
        "id": "view-in-github",
        "colab_type": "text"
      },
      "source": [
        "<a href=\"https://colab.research.google.com/github/janiosl/python.ds/blob/master/estatistica/me/estat_tarefa04.ipynb\" target=\"_parent\"><img src=\"https://colab.research.google.com/assets/colab-badge.svg\" alt=\"Open In Colab\"/></a>"
      ]
    },
    {
      "cell_type": "markdown",
      "metadata": {
        "id": "ZJDPAD35dREV"
      },
      "source": [
        "#**CEFET-RJ**\n",
        "\n",
        "**Programa de Pós-Gradução em Ciência da Computação - PPCIC**\n",
        "\n",
        "**Mestrado em Ciência da Computação**\n",
        "\n",
        "**Disciplina: Métodos Estatísticos - 2021/2**\n",
        "\n",
        "* **Exercícios 04 - Aula 05**\n",
        "* **Prof.: Diego Barreto Haddad**\n",
        "* **Aluno: Janio de Souza Lima**\n",
        "\n",
        "\n",
        "\n",
        "---"
      ]
    },
    {
      "cell_type": "markdown",
      "metadata": {
        "id": "yAAfJkvWfRC4"
      },
      "source": [
        "##1 Um participante de um programa de televisão com perguntas tem que lidar com duas questões (questões 1 e 2), as quais ele tem que responder na ordem que ele quiser.\n",
        "\n"
      ]
    },
    {
      "cell_type": "markdown",
      "metadata": {
        "id": "ZASvu6Xzf5jt"
      },
      "source": [
        "* Questão:\n",
        "\n",
        "**Se a probabilidade de que ele saiba a resposta à $i$-ésima questão\n",
        "é $Pi$, para $i \\in \\{1,2\\}$, qual é a condição matemática para que valha a pena tentar primeiramente a questão $1$, de\n",
        "modo a maximizar o valor esperado de seu ganho total?**"
      ]
    },
    {
      "cell_type": "markdown",
      "metadata": {
        "id": "BcMuzbOqxGY2"
      },
      "source": [
        "Se o candidato optar por responder primeiramente à questão $1$, ele poderá obter como ganho:\n",
        "* 0: $P(1-P1)$\n",
        "* $V1$: $P(P1(1-P2))$\n",
        "* $V1+V2$: $P(P1P2)$\n",
        "\n",
        "Se o candidato optar por responder primeira à questão $2$, ele poderá obter como ganho:\n",
        "* 0: $P(1-P2)$\n",
        "* $V2$: $P(P2(1-P1))$\n",
        "* $V1+V2$: $P(P1P2)$\n",
        "\n",
        "Considerando $E_i$ o valor esperado para $i$-ésima estratégia. Para que a estratégia $1$ (escolher primeiro a questão $1$) seja mais vantajosa que a estratégia $2$ (escolher primeiroa a questão $2$), precisamos que $E_1 \\geq E_2$.\n",
        "\n",
        "Considerando as respostas às questões $1$ e $2$, respectivamente, como $R1$ e $R2$. Para identificar a situação para que esta condição seja satisfeita, calculamos o valor esperado de ganho, conforme segue:\n",
        "\n",
        "* Se $R1$ é correta e $R2$ é errada: $E_1 = V1$ e $E_2 = 0$\n",
        "* Se $R1$ e $R2$ são corretas: $E_1 = V1+V2$ e $E_2 = V1 + V2$\n",
        "* Se $R1$ é errada $R2$ é correta: $E_1 = 0$ e $E_2 = V2$\n",
        "\n",
        "Assim:\n",
        "\n",
        "$E_1 = V1P1 + V2P1P2$\n",
        "$E_2 = V2P2 + V1P1P2$\n",
        "\n",
        "Deste modo, vale a pena escolher primeiramente a questão 1 apenas se:\n",
        "$\\frac{V1}{V2} \\geq \\frac{P2(1-P1)}{P1(1-P2)}$"
      ]
    },
    {
      "cell_type": "markdown",
      "metadata": {
        "id": "Ho008Jij1_kV"
      },
      "source": [
        "##2 Prove que $E[(X - \\mu)^2] = E[X^2] - (E[X])^2$, onde $\\mu = E[X]$:\n",
        "\n",
        "\n",
        "\n"
      ]
    },
    {
      "cell_type": "markdown",
      "metadata": {
        "id": "zlpnAWat4aHj"
      },
      "source": [
        "Se $\\mu = E[X]$, então:\n",
        "\n",
        "Substituindo $\\mu$ por $E[X]$ na expressão $E[(X - \\mu)^2]$, temos:\n",
        "\n",
        "$E[(X - E[X])^2]$\n",
        "\n",
        "A partir da expressão anterior, podemos seguir com a seguinte lógica, com a aplicação do cálculo do quadrado da diferença na expressão interna (entre parênteses), considerando que $(a - b)^2 = a^2 + 2ab + b^2$ e considerando $a=X$ e $b=E[X]$, temos:\n",
        "\n",
        "$E[(X - E[X])^2] = E\\{X^2 - 2\\times X \\times E[X] + (E[X])^2\\}$\n",
        "\n",
        "Seguimos simplificando a expressão e chegamos ao seguinte resultado:\n",
        "\n",
        "$E[X^2] - 2 \\times E[X] \\times E[X] + (E[X])^2 = E[X^2] - 2 \\times (E[X])^2 + (E[X])^2 = E[X^2] - (E[X])^2$\n",
        "\n",
        "Deste modo, resta provado que $E[(X - \\mu)^2] = E[(X - E[X])^2]$ e $E[(X - E[X])^2] = E[X^2] - (E[X])^2$, então $E[(X - \\mu)^2] = E[X^2] - (E[X])^2$.\n"
      ]
    },
    {
      "cell_type": "markdown",
      "metadata": {
        "id": "dOtD7SNx2EeN"
      },
      "source": [
        "##3 Cinco moedas não viciadas são lançadas. Se tais lançamentos forem independentes, encontre a função de probabilidade do número $X$ de caras obtidas ao longo dos $5$ lançamentos."
      ]
    },
    {
      "cell_type": "markdown",
      "metadata": {
        "id": "ORv-4n7RsqWa"
      },
      "source": [
        "\n",
        "\n",
        "Dados para análise:\n",
        "* 5 moedas lançadas\n",
        "* Moedas não viciadas\n",
        "* Lançamentos independentes\n",
        "---\n",
        "Questão:\n",
        "**Função de probabilidade do número $X$ de caras obtidas**"
      ]
    },
    {
      "cell_type": "markdown",
      "metadata": {
        "id": "hP7PnnMh1kr_"
      },
      "source": [
        "$n = 5$\n",
        "\n",
        "$P(cara) = 1/2$\n",
        "\n",
        "$P(coroa) = 1/2$\n",
        "\n",
        "$f(x) = (\\frac{5}{x})(\\frac{1}{2})^n$\n"
      ]
    },
    {
      "cell_type": "markdown",
      "metadata": {
        "id": "sYCB14P_BeXl"
      },
      "source": [
        "##Referências"
      ]
    },
    {
      "cell_type": "markdown",
      "metadata": {
        "id": "AuMOKwg-Bh2F"
      },
      "source": [
        "Carlos A. B. Dantas. **Probabilidade**: Um curso introdutório. EdUSP, 2013.\n",
        "\n",
        "Jay L. Devore. **Probabilidade e Estatística para Engenharia e Ciências**. Cengage, 2006.\n",
        "\n",
        "Ronald E. Walpole, Raymond H. Myers e Keying Ye. **Probability and Statistics for Engineers and Scientists**. Pearson, 2011.\n",
        "\n",
        "---\n",
        "\n",
        "**Códigos e materiais complementares:**\n",
        "* Versão online desse notebook: https://github.com/janiosl/python.ds/blob/master/estatistica/me/estat_tarefa04.ipynb\n"
      ]
    }
  ]
}