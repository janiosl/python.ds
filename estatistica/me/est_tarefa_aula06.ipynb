{
  "nbformat": 4,
  "nbformat_minor": 0,
  "metadata": {
    "colab": {
      "name": "est_tarefa_aula06.ipynb",
      "provenance": [],
      "collapsed_sections": [],
      "toc_visible": true,
      "authorship_tag": "ABX9TyN1UOKXgOyJ1fZNFae5B0mP",
      "include_colab_link": true
    },
    "kernelspec": {
      "name": "python3",
      "display_name": "Python 3"
    },
    "language_info": {
      "name": "python"
    }
  },
  "cells": [
    {
      "cell_type": "markdown",
      "metadata": {
        "id": "view-in-github",
        "colab_type": "text"
      },
      "source": [
        "<a href=\"https://colab.research.google.com/github/janiosl/python.ds/blob/master/estatistica/me/est_tarefa_aula06.ipynb\" target=\"_parent\"><img src=\"https://colab.research.google.com/assets/colab-badge.svg\" alt=\"Open In Colab\"/></a>"
      ]
    },
    {
      "cell_type": "markdown",
      "metadata": {
        "id": "0fhJ6eq87fU8"
      },
      "source": [
        "#**CEFET-RJ**\n",
        "\n",
        "**Programa de Pós-Gradução em Ciência da Computação - PPCIC**\n",
        "\n",
        "**Mestrado em Ciência da Computação**\n",
        "\n",
        "**Disciplina: Métodos Estatísticos - 2021/2**\n",
        "\n",
        "* **Exercícios - Aula 06**\n",
        "* **Prof.: Diego Barreto Haddad**\n",
        "* **Aluno: Janio de Souza Lima**\n",
        "\n",
        "\n",
        "\n",
        "---"
      ]
    },
    {
      "cell_type": "markdown",
      "metadata": {
        "id": "UixQ926qoRlU"
      },
      "source": [
        "## Preparação do ambiente e funções gerais"
      ]
    },
    {
      "cell_type": "code",
      "metadata": {
        "id": "Pu2yyUDRbBN8"
      },
      "source": [
        "#Carga de bibliotecas usadas nas questões\n",
        "import numpy as np\n",
        "from matplotlib import pyplot as plt"
      ],
      "execution_count": 1,
      "outputs": []
    },
    {
      "cell_type": "code",
      "metadata": {
        "id": "qpEJV1Zee-JG"
      },
      "source": [
        "#Definindo uma semente para reprodutibilidade dos aleatórios\n",
        "np.random.seed(31)"
      ],
      "execution_count": 2,
      "outputs": []
    },
    {
      "cell_type": "code",
      "metadata": {
        "id": "mNZ8XBBupn-w"
      },
      "source": [
        "def padrao(X, mu, sigma):\n",
        "  \"\"\"\n",
        "  Função de transformação para normal padrão\n",
        "  X: Variável aleatória que será transforamda\n",
        "  mu: média da variável aleatória\n",
        "  sigma: desvio padrão da variável aleatória\n",
        "  \"\"\"\n",
        "  Z = (X-mu)/sigma\n",
        "  return Z\n",
        "\n",
        "\n",
        "def probMonteCarlo_unico(x, z, dir=0):\n",
        "  \"\"\"\n",
        "  Função para cálculo da probabilidade de ocorrência de um valor\n",
        "  x = conjunto de dados\n",
        "  z = valor a ser analisado\n",
        "  dir:\n",
        "    0: <=\n",
        "    1: <\n",
        "    2: >=\n",
        "    3: >\n",
        "  \"\"\"\n",
        "  N = len(x)\n",
        "  if dir == 0:\n",
        "    #Quantidade de valores de x abaixo de z\n",
        "    obsIntervalo = len(x[x<=z])\n",
        "  elif dir == 1:\n",
        "    obsIntervalo = len(x[x<z])\n",
        "  elif dir == 2:\n",
        "    obsIntervalo = len(x[x>=z])\n",
        "  elif dir == 3:\n",
        "    obsIntervalo = len(x[x>z])\n",
        "  else:\n",
        "    #Valor inválido\n",
        "    return None\n",
        "  \n",
        "  probX = np.round(obsIntervalo/N,4)\n",
        "\n",
        "  return probX\n",
        "\n",
        "\n",
        "def probMonteCarlo_duplo(x, li, ls):\n",
        "  \"\"\"\n",
        "  Função para cálculo da probabilidade de ocorrência de um intervalo\n",
        "  x = conjunto de dados\n",
        "  li = limite inferior da área desejada\n",
        "  ls = limite superior da área desejada\n",
        "  \"\"\"\n",
        "  N = len(x)\n",
        "  #Quantidade de valores de x acima de li e abaixo de ls\n",
        "  obsIntervalo = len(x[x>=li]) - len(x[x>=ls])\n",
        "\n",
        "  probX = np.round(obsIntervalo/N, 4)\n",
        "  return probX"
      ],
      "execution_count": 3,
      "outputs": []
    },
    {
      "cell_type": "markdown",
      "metadata": {
        "id": "-bzZNgNiwM96"
      },
      "source": [
        "## Questão 1:\n",
        "\n",
        "Seja uma variável aleatória gaussiana $X$ com média e desvio padrão unitários."
      ]
    },
    {
      "cell_type": "code",
      "metadata": {
        "id": "aNW7nhNho_st"
      },
      "source": [
        "mu = 1.0 #Média\n",
        "sigma = 1.0 #Desvio padrão"
      ],
      "execution_count": 4,
      "outputs": []
    },
    {
      "cell_type": "markdown",
      "metadata": {
        "id": "DX2M_lKP1qBR"
      },
      "source": [
        "### a) Apelando à Tabela A.3, calcule $Prob\\{X \\leq 1\\}$"
      ]
    },
    {
      "cell_type": "markdown",
      "metadata": {
        "id": "99dduDNGl7Mr"
      },
      "source": [
        "Transformação do valor $X=1$ para uma distribuição normal padrão, com $\\mu=0$ e $sigma = 1$."
      ]
    },
    {
      "cell_type": "code",
      "metadata": {
        "colab": {
          "base_uri": "https://localhost:8080/"
        },
        "id": "LHb7pyhQ4EGt",
        "outputId": "d25eb7da-5006-4d92-c423-f970c8e65acd"
      },
      "source": [
        "X = 1\n",
        "Z = padrao(X, mu, sigma)\n",
        "Z"
      ],
      "execution_count": 5,
      "outputs": [
        {
          "output_type": "execute_result",
          "data": {
            "text/plain": [
              "0.0"
            ]
          },
          "metadata": {},
          "execution_count": 5
        }
      ]
    },
    {
      "cell_type": "markdown",
      "metadata": {
        "id": "nfr7mpjq51Lc"
      },
      "source": [
        "Pela tabela A.3 [Walpole et al., 2012] para $z=0$ a probabilidade é $0.5$, ou seja, considerando que a distribuição é centrada na média igual a 0, a $Prob\\{Z \\leq 0\\} = 0.5$, então para a distribuição gaussiana com $\\mu = 1$ e $\\sigma=1$, a $Prob\\{X \\leq 1 \\} \\approx 0.5$."
      ]
    },
    {
      "cell_type": "markdown",
      "metadata": {
        "id": "NEX9PpmL59xP"
      },
      "source": [
        "### b) Desenvolver programa para responder a questão usando ensaios de Monte Carlo"
      ]
    },
    {
      "cell_type": "markdown",
      "metadata": {
        "id": "riKWyqBpwem_"
      },
      "source": [
        "Geração de valores aleatórios para a distribuição solicitada."
      ]
    },
    {
      "cell_type": "code",
      "metadata": {
        "id": "tOR8S9oMt0BB"
      },
      "source": [
        "N = 1000000 #Quantidade de números aleatórios\n",
        "x = np.random.normal(mu, sigma, size=N) #Geração dos números aleatórios"
      ],
      "execution_count": 6,
      "outputs": []
    },
    {
      "cell_type": "markdown",
      "metadata": {
        "id": "5_T0fPav_uWA"
      },
      "source": [
        "Visualização do histograma e da densidade de probabilidade dos números aleatórios gerados originalmente."
      ]
    },
    {
      "cell_type": "code",
      "metadata": {
        "colab": {
          "base_uri": "https://localhost:8080/",
          "height": 315
        },
        "id": "CwwPmh8Js6Wa",
        "outputId": "615dcc52-ab71-4bf7-ea02-854892df4e9a"
      },
      "source": [
        "#Histograma\n",
        "plt.title(f'Histograma da distribuição gaussina\\n$\\mu={mu}, \\sigma={sigma}$')\n",
        "count, bins, ignored = plt.hist(x, 30, density=True)\n",
        "\n",
        "#Função densidade de probabilidade\n",
        "plt.plot(bins, 1/(sigma * np.sqrt(2* np.pi)) *\n",
        "         np.exp( - (bins - mu)**2 / (2 * sigma**2)),\n",
        "         linewidth=2, color='r')"
      ],
      "execution_count": 7,
      "outputs": [
        {
          "output_type": "execute_result",
          "data": {
            "text/plain": [
              "[<matplotlib.lines.Line2D at 0x7fe24fa9c950>]"
            ]
          },
          "metadata": {},
          "execution_count": 7
        },
        {
          "output_type": "display_data",
          "data": {
            "image/png": "[encoded data removed]",
            "text/plain": [
              "<Figure size 432x288 with 1 Axes>"
            ]
          },
          "metadata": {
            "needs_background": "light"
          }
        }
      ]
    },
    {
      "cell_type": "markdown",
      "metadata": {
        "id": "CZecM2ppAZMN"
      },
      "source": [
        "Visualização do histograma dos números aleatórios transformados para uma distribuição normal padrão."
      ]
    },
    {
      "cell_type": "code",
      "metadata": {
        "colab": {
          "base_uri": "https://localhost:8080/",
          "height": 281
        },
        "id": "D5LDQDhc3zmz",
        "outputId": "8bd94900-036a-48d2-f0c0-b2b869342869"
      },
      "source": [
        "#Transformação de x em uma normal padrão\n",
        "#z = (x-mu)/sigma\n",
        "z = padrao(x, mu, sigma)\n",
        "\n",
        "#Histograma da variável transformada\n",
        "plt.title('Histograma da distribuição normal padrão')\n",
        "count, bins, ignored = plt.hist(z, 30, density=True)"
      ],
      "execution_count": 8,
      "outputs": [
        {
          "output_type": "display_data",
          "data": {
            "image/png": "[encoded data removed]",
            "text/plain": [
              "<Figure size 432x288 with 1 Axes>"
            ]
          },
          "metadata": {
            "needs_background": "light"
          }
        }
      ]
    },
    {
      "cell_type": "markdown",
      "metadata": {
        "id": "_k8cmXMg-zAe"
      },
      "source": [
        "Cálculo da proporção de observações no intervalo desejado (baseado nos valores aleatórios originais):"
      ]
    },
    {
      "cell_type": "code",
      "metadata": {
        "colab": {
          "base_uri": "https://localhost:8080/"
        },
        "id": "S8fWcRtjrG9D",
        "outputId": "fd7ee3d5-2c7b-4613-a82e-533da079a6e5"
      },
      "source": [
        "p = probMonteCarlo_unico(x, X, dir=0)\n",
        "p"
      ],
      "execution_count": 9,
      "outputs": [
        {
          "output_type": "execute_result",
          "data": {
            "text/plain": [
              "0.4993"
            ]
          },
          "metadata": {},
          "execution_count": 9
        }
      ]
    },
    {
      "cell_type": "markdown",
      "metadata": {
        "id": "a3NquZuSTQ_j"
      },
      "source": [
        "Pelos cálculos realizados usando ensaios de Monte Carlos chegamos a conclusão que $Prob\\{X \\leq 1\\} \\approx 0.5$."
      ]
    },
    {
      "cell_type": "markdown",
      "metadata": {
        "id": "NPs_E-kByMHp"
      },
      "source": [
        "## Questão 2:\n",
        "\n",
        "Seja uma variável aleatória gaussiana $X$ com média e desvio padrão unitários."
      ]
    },
    {
      "cell_type": "markdown",
      "metadata": {
        "id": "6ZD-6MURHZHE"
      },
      "source": [
        "### a) Apelando à Tabela A.3, calcule $Prob\\{-2 \\leq X \\leq 0.5\\}$"
      ]
    },
    {
      "cell_type": "code",
      "metadata": {
        "colab": {
          "base_uri": "https://localhost:8080/"
        },
        "id": "qaW4pIvdpd8v",
        "outputId": "56a4ee6b-9f7d-44c5-e2f9-935cb9917a19"
      },
      "source": [
        "#Reaproveitamento do parâmetros usados na questão 1\n",
        "print(f'mu: {mu}\\nsigma: {sigma}')"
      ],
      "execution_count": 10,
      "outputs": [
        {
          "output_type": "stream",
          "text": [
            "mu: 1.0\n",
            "sigma: 1.0\n"
          ],
          "name": "stdout"
        }
      ]
    },
    {
      "cell_type": "code",
      "metadata": {
        "id": "kYbsHhdyJUWm"
      },
      "source": [
        "#Definição dos limites de acordo com o enunciado\n",
        "li = -2  #Limite inferior\n",
        "ls = 0.5 #Limite superior"
      ],
      "execution_count": 11,
      "outputs": []
    },
    {
      "cell_type": "code",
      "metadata": {
        "colab": {
          "base_uri": "https://localhost:8080/"
        },
        "id": "iZ2-OMHreQnv",
        "outputId": "14c51d6c-25af-48b8-9fd7-a27ff119f287"
      },
      "source": [
        "liZ = padrao(li, mu, sigma)\n",
        "lsZ = padrao(ls, mu, sigma)\n",
        "print(liZ, lsZ)"
      ],
      "execution_count": 12,
      "outputs": [
        {
          "output_type": "stream",
          "text": [
            "-3.0 -0.5\n"
          ],
          "name": "stdout"
        }
      ]
    },
    {
      "cell_type": "markdown",
      "metadata": {
        "id": "tl_D1Dewjnbo"
      },
      "source": [
        "Pela tabela A.3 [Walpole et al., 2012] temos o seguinte:\n",
        "\n",
        "* Para $z=-3$ a probabilidade é $0.0013$;\n",
        "* Para $z=-0.5$ a probabilidade $0.3085$\n",
        "* Analisando a probabilidade dos valores de $Z$ obtidos, considerando que a distribuição é centrada na média igual a $0$ e que a área total sob a curva é unitária, concluídos que a $Prob\\{-3 \\leq Z \\leq -0.5\\} = 0.3072$, então para a distribuição gaussiana com $\\mu = 1$ e $\\sigma=1$, a $Prob\\{-2 \\leq X \\leq 0.5\\} \\approx 0.3072$."
      ]
    },
    {
      "cell_type": "markdown",
      "metadata": {
        "id": "3V1luJlGHvOr"
      },
      "source": [
        "### b) Desenvolver programa para responder a questão usando ensaios de Monte Carlo"
      ]
    },
    {
      "cell_type": "markdown",
      "metadata": {
        "id": "J-_Pl1jDH0KC"
      },
      "source": [
        "Para resolução da questão através de ensaios de Monte Carlo, reaproveitaremos os valores aleatórios já gerados na questão 1, tendo em vista que a distribuição possui os mesmos valores de $\\mu = 1$ e $\\sigma = 1$. Desta forma, atualizaremos os cálculos apenas para verificar o intervalo solicitado para $Prob\\{-2 \\leq X \\leq 0.5\\}$."
      ]
    },
    {
      "cell_type": "markdown",
      "metadata": {
        "id": "tqOQx7e4n-VQ"
      },
      "source": [
        "Visualização do histograma e da densidade de probabilidade dos números aleatórios gerados originalmente."
      ]
    },
    {
      "cell_type": "code",
      "metadata": {
        "colab": {
          "base_uri": "https://localhost:8080/",
          "height": 315
        },
        "id": "xOcWQCB8KOAi",
        "outputId": "3c5c1a05-fd8b-4780-ce31-753ea20fa119"
      },
      "source": [
        "#Histograma\n",
        "plt.title(f'Histograma da distribuição gaussina\\n$\\mu={mu}, \\sigma={sigma}$')\n",
        "count, bins, ignored = plt.hist(x, 30, density=True)\n",
        "\n",
        "#Função densidade de probabilidade\n",
        "plt.plot(bins, 1/(sigma * np.sqrt(2* np.pi)) *\n",
        "         np.exp( - (bins - mu)**2 / (2 * sigma**2)),\n",
        "         linewidth=2, color='r')"
      ],
      "execution_count": 13,
      "outputs": [
        {
          "output_type": "execute_result",
          "data": {
            "text/plain": [
              "[<matplotlib.lines.Line2D at 0x7fe24f988a50>]"
            ]
          },
          "metadata": {},
          "execution_count": 13
        },
        {
          "output_type": "display_data",
          "data": {
            "image/png": "[encoded data removed]",
            "text/plain": [
              "<Figure size 432x288 with 1 Axes>"
            ]
          },
          "metadata": {
            "needs_background": "light"
          }
        }
      ]
    },
    {
      "cell_type": "markdown",
      "metadata": {
        "id": "1e0IM1cUQM6v"
      },
      "source": [
        "Inicialmente calcularemos todos os valores que estarão no espaço sob a curva a partir do ponto -2"
      ]
    },
    {
      "cell_type": "code",
      "metadata": {
        "id": "cwag8Cx2yOnL",
        "colab": {
          "base_uri": "https://localhost:8080/"
        },
        "outputId": "6f006766-cdd4-4dbb-f6b5-3d62039f104b"
      },
      "source": [
        "#Quantidade de valores de x acima de -2\n",
        "len(x[x>=li])"
      ],
      "execution_count": 14,
      "outputs": [
        {
          "output_type": "execute_result",
          "data": {
            "text/plain": [
              "998660"
            ]
          },
          "metadata": {},
          "execution_count": 14
        }
      ]
    },
    {
      "cell_type": "markdown",
      "metadata": {
        "id": "1pG_8zg8QUOh"
      },
      "source": [
        "O valor obtido na saída anterior, indica quantas observações das $1000000$  estão a partir de -2. Portanto, para obter o valor no intervalo desejado, vamos verificar os valores que estão acima do limite superior $0.5$."
      ]
    },
    {
      "cell_type": "code",
      "metadata": {
        "colab": {
          "base_uri": "https://localhost:8080/"
        },
        "id": "DENQuUU5LB_R",
        "outputId": "212a0af7-7ecd-4995-a772-d402ac9b2bf2"
      },
      "source": [
        "#Quantidade de valores de x acima de 0.5\n",
        "len(x[x>=ls])"
      ],
      "execution_count": 15,
      "outputs": [
        {
          "output_type": "execute_result",
          "data": {
            "text/plain": [
              "691638"
            ]
          },
          "metadata": {},
          "execution_count": 15
        }
      ]
    },
    {
      "cell_type": "markdown",
      "metadata": {
        "id": "J4JGVDAVQ1km"
      },
      "source": [
        "Nessa etapa verificamos a quantidade de observações que estão a partir do valor $0.5$. Com estes dados, para descobrirmos os valores no intervalo $[-2,0.5]$, considerando que as observações de $X\\geq-2$ contém as observações de $X \\leq 0.5$, basta excluirmos os valores que estejam acima deste intervalo que o que sobrará serão exatamente os valores que atendem ao enunciao $-2 \\leq X \\leq 0.5$."
      ]
    },
    {
      "cell_type": "code",
      "metadata": {
        "colab": {
          "base_uri": "https://localhost:8080/"
        },
        "id": "Dn3FjR33sv3i",
        "outputId": "ca3f5f41-eb06-438b-9fc2-5066f55d08a3"
      },
      "source": [
        "p = probMonteCarlo_duplo(x, li, ls)\n",
        "p"
      ],
      "execution_count": 16,
      "outputs": [
        {
          "output_type": "execute_result",
          "data": {
            "text/plain": [
              "0.307"
            ]
          },
          "metadata": {},
          "execution_count": 16
        }
      ]
    },
    {
      "cell_type": "markdown",
      "metadata": {
        "id": "p1UAxHshSNgI"
      },
      "source": [
        "Pelos cálculos realizados usando ensaios de Monte Carlos chegamos a conclusão que $Prob\\{-2\\leq X \\leq0.5\\} \\approx 0.307$."
      ]
    },
    {
      "cell_type": "markdown",
      "metadata": {
        "id": "rvM4Q4d_wQxr"
      },
      "source": [
        "## Questão 3:\n",
        "\n",
        "Seja uma variável aleatória gaussiana $X$ com média $\\mu = 50$ e desvio padrão $\\sigma = 5$."
      ]
    },
    {
      "cell_type": "code",
      "metadata": {
        "id": "F7cx1YtvwUNE"
      },
      "source": [
        "N = 1000000 #Quantidade de números aleatórios\n",
        "mu = 50 #Média\n",
        "sigma = 5 #Desvio padrão"
      ],
      "execution_count": 17,
      "outputs": []
    },
    {
      "cell_type": "markdown",
      "metadata": {
        "id": "AIz3htbkVn3A"
      },
      "source": [
        "### a) Apelando à Tabela A.3, calcule $Prob\\{X \\leq 51\\}$"
      ]
    },
    {
      "cell_type": "markdown",
      "metadata": {
        "id": "7Ld8NdgyVpqx"
      },
      "source": [
        "Transformação do valor $51$."
      ]
    },
    {
      "cell_type": "code",
      "metadata": {
        "colab": {
          "base_uri": "https://localhost:8080/"
        },
        "id": "iuKYUIzugEOj",
        "outputId": "9e00e363-8313-4780-decf-cb093203e599"
      },
      "source": [
        "Z = padrao(51, mu, sigma)\n",
        "Z"
      ],
      "execution_count": 18,
      "outputs": [
        {
          "output_type": "execute_result",
          "data": {
            "text/plain": [
              "0.2"
            ]
          },
          "metadata": {},
          "execution_count": 18
        }
      ]
    },
    {
      "cell_type": "markdown",
      "metadata": {
        "id": "L7GGR87Lga0N"
      },
      "source": [
        "Pela aplicação da tabela A.3, para o valor de $z=0.2$ obtemos o valor da área sob a curva normal de $0.5793$."
      ]
    },
    {
      "cell_type": "markdown",
      "metadata": {
        "id": "3Nvp31m0VqBp"
      },
      "source": [
        "### b) Desenvolver programa para responder a questão usando ensaios de Monte Carlo"
      ]
    },
    {
      "cell_type": "markdown",
      "metadata": {
        "id": "CUdYh6fno2zS"
      },
      "source": [
        "Geração de valores aleatórios para a distribuição solicitada."
      ]
    },
    {
      "cell_type": "code",
      "metadata": {
        "id": "4f2IJX0PwaOP"
      },
      "source": [
        "x = np.random.normal(mu, sigma, size=N)"
      ],
      "execution_count": 19,
      "outputs": []
    },
    {
      "cell_type": "markdown",
      "metadata": {
        "id": "LsL-dfnso8b6"
      },
      "source": [
        "Visualização do histograma e da densidade de probabilidade dos números aleatórios gerados originalmente."
      ]
    },
    {
      "cell_type": "code",
      "metadata": {
        "colab": {
          "base_uri": "https://localhost:8080/",
          "height": 315
        },
        "id": "Bzw3rPwnwcfM",
        "outputId": "3b3a2cef-579d-4cad-f8bd-3d08d94ab89b"
      },
      "source": [
        "#Histograma\n",
        "plt.title(f'Histograma da distribuição gaussina\\n$\\mu={mu}, \\sigma={sigma}$')\n",
        "count, bins, ignored = plt.hist(x, 30, density=True)\n",
        "\n",
        "#Função densidade de probabilidade\n",
        "plt.plot(bins, 1/(sigma * np.sqrt(2* np.pi)) *\n",
        "         np.exp( - (bins - mu)**2 / (2 * sigma**2)),\n",
        "         linewidth=2, color='r')"
      ],
      "execution_count": 20,
      "outputs": [
        {
          "output_type": "execute_result",
          "data": {
            "text/plain": [
              "[<matplotlib.lines.Line2D at 0x7fe24f3493d0>]"
            ]
          },
          "metadata": {},
          "execution_count": 20
        },
        {
          "output_type": "display_data",
          "data": {
            "image/png": "[encoded data removed]",
            "text/plain": [
              "<Figure size 432x288 with 1 Axes>"
            ]
          },
          "metadata": {
            "needs_background": "light"
          }
        }
      ]
    },
    {
      "cell_type": "code",
      "metadata": {
        "colab": {
          "base_uri": "https://localhost:8080/",
          "height": 281
        },
        "id": "OB5kkCyc5AyJ",
        "outputId": "eb912dca-f320-44fb-bd87-fa53b73a5a93"
      },
      "source": [
        "#Transformação de x em uma normal padrão\n",
        "z = padrao(x, mu, sigma)\n",
        "\n",
        "#Histograma da variável transformada\n",
        "plt.title('Histograma da distribuição normal padrão')\n",
        "count, bins, ignored = plt.hist(z, 30, density=True)"
      ],
      "execution_count": 21,
      "outputs": [
        {
          "output_type": "display_data",
          "data": {
            "image/png": "[encoded data removed]",
            "text/plain": [
              "<Figure size 432x288 with 1 Axes>"
            ]
          },
          "metadata": {
            "needs_background": "light"
          }
        }
      ]
    },
    {
      "cell_type": "code",
      "metadata": {
        "id": "m5_TAcWCVsAh"
      },
      "source": [
        "X = 51"
      ],
      "execution_count": 22,
      "outputs": []
    },
    {
      "cell_type": "code",
      "metadata": {
        "colab": {
          "base_uri": "https://localhost:8080/"
        },
        "id": "EwT3nFAzrzTJ",
        "outputId": "df595270-cadf-476f-d62c-ac5415a9a1a2"
      },
      "source": [
        "p = probMonteCarlo_unico(x, X, dir=0)\n",
        "p"
      ],
      "execution_count": 23,
      "outputs": [
        {
          "output_type": "execute_result",
          "data": {
            "text/plain": [
              "0.5803"
            ]
          },
          "metadata": {},
          "execution_count": 23
        }
      ]
    },
    {
      "cell_type": "markdown",
      "metadata": {
        "id": "13utWWTxW5MV"
      },
      "source": [
        "Testando os valores transformando a distribuição para uma normal padrão."
      ]
    },
    {
      "cell_type": "code",
      "metadata": {
        "colab": {
          "base_uri": "https://localhost:8080/"
        },
        "id": "2IzxVjn6Whms",
        "outputId": "a2e87ab0-072c-4215-abea-e06b484c86e6"
      },
      "source": [
        "Z = padrao(X, mu, sigma)\n",
        "Z"
      ],
      "execution_count": 24,
      "outputs": [
        {
          "output_type": "execute_result",
          "data": {
            "text/plain": [
              "0.2"
            ]
          },
          "metadata": {},
          "execution_count": 24
        }
      ]
    },
    {
      "cell_type": "code",
      "metadata": {
        "colab": {
          "base_uri": "https://localhost:8080/"
        },
        "id": "utHtAmvGr3mo",
        "outputId": "6b60ff2c-1768-4b1a-be70-59aea0e9d4e3"
      },
      "source": [
        "p = probMonteCarlo_unico(z, Z, dir=0)\n",
        "p"
      ],
      "execution_count": 25,
      "outputs": [
        {
          "output_type": "execute_result",
          "data": {
            "text/plain": [
              "0.5803"
            ]
          },
          "metadata": {},
          "execution_count": 25
        }
      ]
    },
    {
      "cell_type": "markdown",
      "metadata": {
        "id": "tMn37HudW_RP"
      },
      "source": [
        "Pelos cálculos com ensaios de Monte Carlo chegamos a conclusão que $Prob\\{X \\leq 51\\} \\approx 0.58$."
      ]
    },
    {
      "cell_type": "markdown",
      "metadata": {
        "id": "gsaOzZ1DxT4_"
      },
      "source": [
        "## Questão 4:\n",
        "\n",
        "Seja uma variável aleatória gaussiana $X$ com média $\\mu = -10$ e desvio padrão $\\sigma = 2$."
      ]
    },
    {
      "cell_type": "code",
      "metadata": {
        "id": "mNJRHu16xZfC"
      },
      "source": [
        "N = 1000000 #Quantidade de números aleatórios\n",
        "mu = -10 #Média\n",
        "sigma = 2 #Desvio padrão"
      ],
      "execution_count": 26,
      "outputs": []
    },
    {
      "cell_type": "markdown",
      "metadata": {
        "id": "oQ3cA7gqnpeQ"
      },
      "source": [
        "### a) Apelando à Tabela A.3, calcule $Prob\\{-12 \\leq X \\leq -9\\}$"
      ]
    },
    {
      "cell_type": "code",
      "metadata": {
        "id": "GWSaBtMBnua3"
      },
      "source": [
        "#Definição dos limites de acordo com o enunciado\n",
        "li = -12  #Limite inferior\n",
        "ls = -9 #Limite superior"
      ],
      "execution_count": 27,
      "outputs": []
    },
    {
      "cell_type": "code",
      "metadata": {
        "colab": {
          "base_uri": "https://localhost:8080/"
        },
        "id": "epCaPBJBn3I-",
        "outputId": "cb2172c0-aac8-4b26-9c6e-13b812b3a679"
      },
      "source": [
        "liZ = padrao(li, mu, sigma)\n",
        "lsZ = padrao(ls, mu, sigma)\n",
        "print(liZ, lsZ)"
      ],
      "execution_count": 28,
      "outputs": [
        {
          "output_type": "stream",
          "text": [
            "-1.0 0.5\n"
          ],
          "name": "stdout"
        }
      ]
    },
    {
      "cell_type": "markdown",
      "metadata": {
        "id": "jK98R7Usn3j3"
      },
      "source": [
        "Pela tabela A.3 [Walpole et al., 2012] temos o seguinte:\n",
        "\n",
        "* Para $z=-1$ a probabilidade é $0.1587$;\n",
        "* Para $z=0.5$ a probabilidade $0.6915$\n",
        "* Analisando a probabilidade dos valores de $Z$ obtidos, considerando que a distribuição é centrada na média igual a $0$ e que a área total sob a curva é unitária, concluídos que a $Prob\\{-1 \\leq Z \\leq 0.5\\} = 0.5328$, então para a distribuição gaussiana com $\\mu = 1$ e $\\sigma=1$, a $Prob\\{-12 \\leq X \\leq -9.5\\} \\approx 0.5328$."
      ]
    },
    {
      "cell_type": "markdown",
      "metadata": {
        "id": "xawLyDgfn4AM"
      },
      "source": [
        "### b) Desenvolver programa para responder a questão usando ensaios de Monte Carlo"
      ]
    },
    {
      "cell_type": "code",
      "metadata": {
        "id": "MRppCeYFxao6"
      },
      "source": [
        "x = np.random.normal(mu, sigma, size=N)"
      ],
      "execution_count": 29,
      "outputs": []
    },
    {
      "cell_type": "code",
      "metadata": {
        "colab": {
          "base_uri": "https://localhost:8080/",
          "height": 315
        },
        "id": "3a7iVyG9xbnz",
        "outputId": "ac1cc847-f5f6-4252-c96e-f7dca1baef11"
      },
      "source": [
        "#Histograma\n",
        "plt.title(f'Histograma da distribuição gaussina\\n$\\mu={mu}, \\sigma={sigma}$')\n",
        "count, bins, ignored = plt.hist(x, 30, density=True)\n",
        "\n",
        "#Função densidade de probabilidade\n",
        "plt.plot(bins, 1/(sigma * np.sqrt(2* np.pi)) *\n",
        "         np.exp( - (bins - mu)**2 / (2 * sigma**2)),\n",
        "         linewidth=2, color='r')"
      ],
      "execution_count": 30,
      "outputs": [
        {
          "output_type": "execute_result",
          "data": {
            "text/plain": [
              "[<matplotlib.lines.Line2D at 0x7fe24f23afd0>]"
            ]
          },
          "metadata": {},
          "execution_count": 30
        },
        {
          "output_type": "display_data",
          "data": {
            "image/png": "[encoded data removed]",
            "text/plain": [
              "<Figure size 432x288 with 1 Axes>"
            ]
          },
          "metadata": {
            "needs_background": "light"
          }
        }
      ]
    },
    {
      "cell_type": "code",
      "metadata": {
        "colab": {
          "base_uri": "https://localhost:8080/",
          "height": 281
        },
        "id": "2B6yqckI5HGt",
        "outputId": "bfbf4cf7-f033-4be9-c9d3-4f45cb846a25"
      },
      "source": [
        "#Transformação de x em uma normal padrão\n",
        "z = padrao(x, mu, sigma)\n",
        "\n",
        "#Histograma da variável transformada\n",
        "plt.title('Histograma da distribuição normal padrão')\n",
        "count, bins, ignored = plt.hist(z, 30, density=True)"
      ],
      "execution_count": 31,
      "outputs": [
        {
          "output_type": "display_data",
          "data": {
            "image/png": "[encoded data removed]",
            "text/plain": [
              "<Figure size 432x288 with 1 Axes>"
            ]
          },
          "metadata": {
            "needs_background": "light"
          }
        }
      ]
    },
    {
      "cell_type": "code",
      "metadata": {
        "colab": {
          "base_uri": "https://localhost:8080/"
        },
        "id": "eX-as4TgpCao",
        "outputId": "c4c1b370-14fb-4fb3-cac4-2baf409d947c"
      },
      "source": [
        "#Quantidade de valores de x acima de -12\n",
        "len(x[x>=li])"
      ],
      "execution_count": 32,
      "outputs": [
        {
          "output_type": "execute_result",
          "data": {
            "text/plain": [
              "841572"
            ]
          },
          "metadata": {},
          "execution_count": 32
        }
      ]
    },
    {
      "cell_type": "code",
      "metadata": {
        "colab": {
          "base_uri": "https://localhost:8080/"
        },
        "id": "MfioGiX8pLmT",
        "outputId": "1d77564f-bd56-494f-8c1d-5693ce1060c5"
      },
      "source": [
        "#Quantidade de valores de x acima de -9\n",
        "len(x[x>=ls])"
      ],
      "execution_count": 33,
      "outputs": [
        {
          "output_type": "execute_result",
          "data": {
            "text/plain": [
              "308708"
            ]
          },
          "metadata": {},
          "execution_count": 33
        }
      ]
    },
    {
      "cell_type": "code",
      "metadata": {
        "colab": {
          "base_uri": "https://localhost:8080/"
        },
        "id": "IW3HM9oOtj7_",
        "outputId": "675dbbb3-64a2-4cc2-d26a-925a4ddbb512"
      },
      "source": [
        "probMonteCarlo_duplo(x, li, ls)"
      ],
      "execution_count": 34,
      "outputs": [
        {
          "output_type": "execute_result",
          "data": {
            "text/plain": [
              "0.5329"
            ]
          },
          "metadata": {},
          "execution_count": 34
        }
      ]
    },
    {
      "cell_type": "markdown",
      "metadata": {
        "id": "kaFQwbkFtzn5"
      },
      "source": [
        "Aplicando os ensaios de Monte Carlos chegamos a conclusão que $Prob\\{-12\\leq X \\leq-9\\} \\approx 0.5329$."
      ]
    },
    {
      "cell_type": "markdown",
      "metadata": {
        "id": "2cWDOAVxxkCY"
      },
      "source": [
        "## Questão 5:\n",
        "\n",
        "Uma distribuição binomial $X$ apresenta $n=100$. Qual a probabilidade de observarmos $r$ sucessos, com $50 \\leq r \\leq 60$, para diferentes valores de probabilidade de sucesso $p$?"
      ]
    },
    {
      "cell_type": "code",
      "metadata": {
        "id": "ZdyUMaNV0lDa"
      },
      "source": [
        "from scipy import special"
      ],
      "execution_count": 35,
      "outputs": []
    },
    {
      "cell_type": "code",
      "metadata": {
        "id": "PvCIiq__m2g0"
      },
      "source": [
        "def binProb(n, p):\n",
        "  \"\"\"\n",
        "  Função para cálculo direto pela distribuição binomial\n",
        "  \"\"\"\n",
        "  #Distribuição\n",
        "  x = np.arange(0, n+1, 1)\n",
        "  #Cálculo das probabilidades\n",
        "  p_i = np.zeros(n+1)\n",
        "  for k in x:\n",
        "    p_i[k]=special.binom(n, k)*(p)**k*(1-p)**(n-k)\n",
        "  \n",
        "  return x, p_i"
      ],
      "execution_count": 36,
      "outputs": []
    },
    {
      "cell_type": "code",
      "metadata": {
        "id": "26oDovFvyH7v"
      },
      "source": [
        "li = 50\n",
        "ls = 60\n",
        "n = 100\n",
        "prob = [0.3, 0.35, 0.4, 0.45, 0.5]"
      ],
      "execution_count": 37,
      "outputs": []
    },
    {
      "cell_type": "markdown",
      "metadata": {
        "id": "Lucfjm9rZSzu"
      },
      "source": [
        "* Cálculos para probabilidade 0.3"
      ]
    },
    {
      "cell_type": "code",
      "metadata": {
        "id": "pRNt7mfzFWZs"
      },
      "source": [
        "x1 = np.random.binomial(n=n, p=prob[0], size=n)"
      ],
      "execution_count": 38,
      "outputs": []
    },
    {
      "cell_type": "markdown",
      "metadata": {
        "id": "vPyaX2Z7mixP"
      },
      "source": [
        "Calculo de $\\mu$ e $\\sigma$ de acordo com as fórmulas para uma distribuição binomial:\n",
        "\n",
        "\n",
        "$\\mu = np$\n",
        "\n",
        "$\\sigma = \\sqrt{npq}$, onde $q = 1-p$"
      ]
    },
    {
      "cell_type": "code",
      "metadata": {
        "colab": {
          "base_uri": "https://localhost:8080/"
        },
        "id": "u6AGuGnPFXWx",
        "outputId": "e6bbffa2-0f34-4b8b-a71e-314687db61be"
      },
      "source": [
        "mu1 = n*prob[0]\n",
        "sigma1 = np.sqrt(n*prob[0]*(1-prob[0]))\n",
        "print(mu1, sigma1)"
      ],
      "execution_count": 39,
      "outputs": [
        {
          "output_type": "stream",
          "text": [
            "30.0 4.58257569495584\n"
          ],
          "name": "stdout"
        }
      ]
    },
    {
      "cell_type": "markdown",
      "metadata": {
        "id": "w2hy27vvz3EJ"
      },
      "source": [
        "Probabilidade direta usando a distribuição binomial"
      ]
    },
    {
      "cell_type": "code",
      "metadata": {
        "colab": {
          "base_uri": "https://localhost:8080/"
        },
        "id": "AwYiPZRfGRvd",
        "outputId": "e23aabe8-f41a-4afd-cdce-a15d5a9c0434"
      },
      "source": [
        "_, pbin1 = binProb(n, p=prob[0])\n",
        "\n",
        "pb1 = 0\n",
        "for i in range(len(pbin1)):\n",
        "  if (i>=50 and i<=60):\n",
        "    pb1 += pbin1[i]\n",
        "\n",
        "np.round(pb1, 4)"
      ],
      "execution_count": 41,
      "outputs": [
        {
          "output_type": "execute_result",
          "data": {
            "text/plain": [
              "0.0"
            ]
          },
          "metadata": {},
          "execution_count": 41
        }
      ]
    },
    {
      "cell_type": "markdown",
      "metadata": {
        "id": "-LMEgqP7zuWz"
      },
      "source": [
        "* Probabilidade por aproximação gaussiana"
      ]
    },
    {
      "cell_type": "code",
      "metadata": {
        "colab": {
          "base_uri": "https://localhost:8080/"
        },
        "id": "1-i-stmoGQ-4",
        "outputId": "219805a7-072b-4f5a-b9fe-ffc1e27d0e2d"
      },
      "source": [
        "liz = padrao(li, mu1, sigma1)\n",
        "lsz = padrao(ls, mu1, sigma1)\n",
        "print(liz, lsz)"
      ],
      "execution_count": 42,
      "outputs": [
        {
          "output_type": "stream",
          "text": [
            "4.364357804719848 6.546536707079771\n"
          ],
          "name": "stdout"
        }
      ]
    },
    {
      "cell_type": "code",
      "metadata": {
        "colab": {
          "base_uri": "https://localhost:8080/"
        },
        "id": "ttoOr7TtqMi5",
        "outputId": "91f3b9e7-f0c3-41fe-def5-9b5b16e9d604"
      },
      "source": [
        "z1 = padrao(x1, mu1, sigma1)\n",
        "\n",
        "pg1 = probMonteCarlo_duplo(z1, liz, lsz)\n",
        "pg1"
      ],
      "execution_count": 43,
      "outputs": [
        {
          "output_type": "execute_result",
          "data": {
            "text/plain": [
              "0.0"
            ]
          },
          "metadata": {},
          "execution_count": 43
        }
      ]
    },
    {
      "cell_type": "markdown",
      "metadata": {
        "id": "98B4BAUwkhdL"
      },
      "source": [
        "* Cálculos para probabilidades de 0.35, 0.4 e 0.45:"
      ]
    },
    {
      "cell_type": "markdown",
      "metadata": {
        "id": "DJV5FRZ2rJGI"
      },
      "source": [
        "Probabilidades usando a distribuição binomial"
      ]
    },
    {
      "cell_type": "code",
      "metadata": {
        "id": "32ERJFzfkeM-"
      },
      "source": [
        "#Criação da distribuição binomial para cada valor de p\n",
        "x2 = np.random.binomial(n=n, p=prob[1], size=n)\n",
        "x3 = np.random.binomial(n=n, p=prob[2], size=n)\n",
        "x4 = np.random.binomial(n=n, p=prob[3], size=n)"
      ],
      "execution_count": 44,
      "outputs": []
    },
    {
      "cell_type": "code",
      "metadata": {
        "id": "U2BaXsCxmAT3"
      },
      "source": [
        "#Cálculo da média e desvio padrão para cada p\n",
        "mu2 = n*prob[1]\n",
        "sigma2 = np.sqrt(n*prob[1]*(1-prob[1]))\n",
        "\n",
        "mu3 = n*prob[2]\n",
        "sigma3 = np.sqrt(n*prob[2]*(1-prob[2]))\n",
        "\n",
        "mu4 = n*prob[3]\n",
        "sigma4 = np.sqrt(n*prob[3]*(1-prob[3]))"
      ],
      "execution_count": 45,
      "outputs": []
    },
    {
      "cell_type": "code",
      "metadata": {
        "id": "Cj5UEINS04_h"
      },
      "source": [
        "#============================\n",
        "#p = 0.35\n",
        "#============================\n",
        "_, pbin2 = binProb(n, p=prob[1])\n",
        "\n",
        "pb2 = 0\n",
        "for i in range(len(pbin2)):\n",
        "  if (i>=50 and i<=60):\n",
        "    pb2 += pbin2[i]"
      ],
      "execution_count": 46,
      "outputs": []
    },
    {
      "cell_type": "code",
      "metadata": {
        "id": "LMArnUe91EBS"
      },
      "source": [
        "#============================\n",
        "#p = 0.40\n",
        "#============================\n",
        "_, pbin3 = binProb(n, p=prob[2])\n",
        "\n",
        "pb3 = 0\n",
        "for i in range(len(pbin3)):\n",
        "  if (i>=50 and i<=60):\n",
        "    pb3 += pbin3[i]"
      ],
      "execution_count": 47,
      "outputs": []
    },
    {
      "cell_type": "code",
      "metadata": {
        "id": "aqRgIj4U1dKu"
      },
      "source": [
        "#============================\n",
        "#p = 0.45\n",
        "#============================\n",
        "_, pbin4 = binProb(n, p=prob[3])\n",
        "\n",
        "pb4 = 0\n",
        "for i in range(len(pbin4)):\n",
        "  if (i>=50 and i<=60):\n",
        "    pb4 += pbin4[i]"
      ],
      "execution_count": 48,
      "outputs": []
    },
    {
      "cell_type": "code",
      "metadata": {
        "colab": {
          "base_uri": "https://localhost:8080/"
        },
        "id": "HSh3tYMk1oJf",
        "outputId": "37db9128-ab04-4019-fa0a-83a0c0d565ac"
      },
      "source": [
        "print(pb2, pb3, pb4)"
      ],
      "execution_count": 49,
      "outputs": [
        {
          "output_type": "stream",
          "text": [
            "0.0014504562911965848 0.02708115629457828 0.18178995278726676\n"
          ],
          "name": "stdout"
        }
      ]
    },
    {
      "cell_type": "markdown",
      "metadata": {
        "id": "RbVbAd93rMyv"
      },
      "source": [
        "Cálculo pela aproximação gaussiana"
      ]
    },
    {
      "cell_type": "code",
      "metadata": {
        "id": "eoriejc7rEz1"
      },
      "source": [
        "#============================\n",
        "#p = 0.35\n",
        "#============================\n",
        "#Transformações\n",
        "z2 = padrao(x2, mu2, sigma2)\n",
        "\n",
        "liz = padrao(li, mu2, sigma2)\n",
        "lsz = padrao(ls, mu2, sigma2)\n",
        "\n",
        "#Cálculo da probabilidade\n",
        "pg2 = probMonteCarlo_duplo(z2, liz, lsz)\n",
        "\n",
        "\n",
        "#============================\n",
        "#p = 0.40\n",
        "#============================\n",
        "#Transformações\n",
        "z3 = padrao(x3, mu3, sigma3)\n",
        "\n",
        "liz = padrao(li, mu3, sigma3)\n",
        "lsz = padrao(ls, mu3, sigma3)\n",
        "\n",
        "#Cálculo da probabilidade\n",
        "pg3 = probMonteCarlo_duplo(z3, liz, lsz)\n",
        "\n",
        "#============================\n",
        "#p = 0.45\n",
        "#============================\n",
        "#Transformações\n",
        "z4 = padrao(x4, mu4, sigma4)\n",
        "\n",
        "liz = padrao(li, mu4, sigma4)\n",
        "lsz = padrao(ls, mu4, sigma4)\n",
        "\n",
        "#Cálculo da probabilidade\n",
        "pg4 = probMonteCarlo_duplo(z4, liz, lsz)"
      ],
      "execution_count": 50,
      "outputs": []
    },
    {
      "cell_type": "code",
      "metadata": {
        "colab": {
          "base_uri": "https://localhost:8080/"
        },
        "id": "U7ckGp7PsmH2",
        "outputId": "a4dfa4cc-58bd-43b1-cf21-3c3abe7d17f8"
      },
      "source": [
        "print(pg2, pg3, pg4)"
      ],
      "execution_count": 51,
      "outputs": [
        {
          "output_type": "stream",
          "text": [
            "0.0 0.02 0.23\n"
          ],
          "name": "stdout"
        }
      ]
    },
    {
      "cell_type": "markdown",
      "metadata": {
        "id": "3nfuusTnZXef"
      },
      "source": [
        "* Cálculos para probabilidade 0.5"
      ]
    },
    {
      "cell_type": "code",
      "metadata": {
        "id": "ZjPP-lLMSsCC"
      },
      "source": [
        "x5 = np.random.binomial(n=n, p=prob[4], size=N)"
      ],
      "execution_count": 52,
      "outputs": []
    },
    {
      "cell_type": "code",
      "metadata": {
        "colab": {
          "base_uri": "https://localhost:8080/"
        },
        "id": "-6HhT73TtcIG",
        "outputId": "cf01a11f-2d1f-49d9-9e35-aa1292273123"
      },
      "source": [
        "mu5 = n*prob[4]\n",
        "sigma5 = np.sqrt(n*prob[4]*(1-prob[4]))\n",
        "print(mu5, sigma5)"
      ],
      "execution_count": 53,
      "outputs": [
        {
          "output_type": "stream",
          "text": [
            "50.0 5.0\n"
          ],
          "name": "stdout"
        }
      ]
    },
    {
      "cell_type": "code",
      "metadata": {
        "colab": {
          "base_uri": "https://localhost:8080/"
        },
        "id": "yCrnyN6HTILo",
        "outputId": "36fb40b1-fa62-44ed-e19f-cfaaecdba553"
      },
      "source": [
        "#============================\n",
        "#p = 0.5\n",
        "#============================\n",
        "_, pbin5 = binProb(n, p=prob[4])\n",
        "\n",
        "pb5 = 0\n",
        "for i in range(len(pbin5)):\n",
        "  if (i>=50 and i<=60):\n",
        "    pb5 += pbin5[i]\n",
        "\n",
        "np.round(pb5, 4)"
      ],
      "execution_count": 55,
      "outputs": [
        {
          "output_type": "execute_result",
          "data": {
            "text/plain": [
              "0.5222"
            ]
          },
          "metadata": {},
          "execution_count": 55
        }
      ]
    },
    {
      "cell_type": "code",
      "metadata": {
        "id": "nAYuE5XmS9IL"
      },
      "source": [
        "z5 = padrao(x5, mu5, sigma5)"
      ],
      "execution_count": 56,
      "outputs": []
    },
    {
      "cell_type": "code",
      "metadata": {
        "colab": {
          "base_uri": "https://localhost:8080/"
        },
        "id": "8C5XQz5_pvVN",
        "outputId": "c7c58320-dc80-43aa-800c-4cc1023890d9"
      },
      "source": [
        "liz = padrao(li, mu5, sigma5)\n",
        "lsz = padrao(ls, mu5, sigma5)\n",
        "print(liz, lsz)"
      ],
      "execution_count": 57,
      "outputs": [
        {
          "output_type": "stream",
          "text": [
            "0.0 2.0\n"
          ],
          "name": "stdout"
        }
      ]
    },
    {
      "cell_type": "code",
      "metadata": {
        "colab": {
          "base_uri": "https://localhost:8080/"
        },
        "id": "xYUqzxfsqzC0",
        "outputId": "c2870c4d-d214-4d0c-e371-5c454db4b887"
      },
      "source": [
        "pg5 = probMonteCarlo_duplo(z5, liz, lsz)\n",
        "pg5"
      ],
      "execution_count": 58,
      "outputs": [
        {
          "output_type": "execute_result",
          "data": {
            "text/plain": [
              "0.5122"
            ]
          },
          "metadata": {},
          "execution_count": 58
        }
      ]
    },
    {
      "cell_type": "markdown",
      "metadata": {
        "id": "uBTfYDcqk8ZH"
      },
      "source": [
        "Tabulação dos resultados"
      ]
    },
    {
      "cell_type": "code",
      "metadata": {
        "id": "R8G2d3MTk8E7"
      },
      "source": [
        "import pandas as pd"
      ],
      "execution_count": 59,
      "outputs": []
    },
    {
      "cell_type": "code",
      "metadata": {
        "colab": {
          "base_uri": "https://localhost:8080/",
          "height": 204
        },
        "id": "sGJChSa4k_2s",
        "outputId": "81469730-e1e4-4520-c423-f8528aca45c4"
      },
      "source": [
        "resultado = pd.DataFrame({'p':[p for p in prob],\n",
        "                          'Dist. binomial': [pb1, pb2, pb3, pb4, pb5],\n",
        "                          'Aprox. gaussiana': [pg1, pg2, pg3, pg4, pg5]}\n",
        "                         )\n",
        "resultado"
      ],
      "execution_count": 60,
      "outputs": [
        {
          "output_type": "execute_result",
          "data": {
            "text/html": [
              "<div>\n",
              "<style scoped>\n",
              "    .dataframe tbody tr th:only-of-type {\n",
              "        vertical-align: middle;\n",
              "    }\n",
              "\n",
              "    .dataframe tbody tr th {\n",
              "        vertical-align: top;\n",
              "    }\n",
              "\n",
              "    .dataframe thead th {\n",
              "        text-align: right;\n",
              "    }\n",
              "</style>\n",
              "<table border=\"1\" class=\"dataframe\">\n",
              "  <thead>\n",
              "    <tr style=\"text-align: right;\">\n",
              "      <th></th>\n",
              "      <th>p</th>\n",
              "      <th>Dist. binomial</th>\n",
              "      <th>Aprox. gaussiana</th>\n",
              "    </tr>\n",
              "  </thead>\n",
              "  <tbody>\n",
              "    <tr>\n",
              "      <th>0</th>\n",
              "      <td>0.30</td>\n",
              "      <td>0.000022</td>\n",
              "      <td>0.0000</td>\n",
              "    </tr>\n",
              "    <tr>\n",
              "      <th>1</th>\n",
              "      <td>0.35</td>\n",
              "      <td>0.001450</td>\n",
              "      <td>0.0000</td>\n",
              "    </tr>\n",
              "    <tr>\n",
              "      <th>2</th>\n",
              "      <td>0.40</td>\n",
              "      <td>0.027081</td>\n",
              "      <td>0.0200</td>\n",
              "    </tr>\n",
              "    <tr>\n",
              "      <th>3</th>\n",
              "      <td>0.45</td>\n",
              "      <td>0.181790</td>\n",
              "      <td>0.2300</td>\n",
              "    </tr>\n",
              "    <tr>\n",
              "      <th>4</th>\n",
              "      <td>0.50</td>\n",
              "      <td>0.522195</td>\n",
              "      <td>0.5122</td>\n",
              "    </tr>\n",
              "  </tbody>\n",
              "</table>\n",
              "</div>"
            ],
            "text/plain": [
              "      p  Dist. binomial  Aprox. gaussiana\n",
              "0  0.30        0.000022            0.0000\n",
              "1  0.35        0.001450            0.0000\n",
              "2  0.40        0.027081            0.0200\n",
              "3  0.45        0.181790            0.2300\n",
              "4  0.50        0.522195            0.5122"
            ]
          },
          "metadata": {},
          "execution_count": 60
        }
      ]
    },
    {
      "cell_type": "markdown",
      "metadata": {
        "id": "NS-QzVB80lcd"
      },
      "source": [
        "#Referências"
      ]
    },
    {
      "cell_type": "markdown",
      "metadata": {
        "id": "dXyxCptN0nOp"
      },
      "source": [
        "Jay L. Devore. **Probabilidade e Estatística para engenharia e ciências**. Cengage, 2006.\n",
        "\n",
        "Pedro A. Morettin, Wilton de O. Bussab. **Estatística Básica**. Saraiva, 2017.\n",
        "\n",
        "Ronald E. Walpole, Raymond H. Myers, Sharon L. Myers e Keying Ye. **Probability & Statistics for Engineers & Scientistis**. Pearson, 2012."
      ]
    }
  ]
}