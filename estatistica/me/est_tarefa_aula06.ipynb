{
  "nbformat": 4,
  "nbformat_minor": 0,
  "metadata": {
    "colab": {
      "name": "est_tarefa_aula06.ipynb",
      "provenance": [],
      "toc_visible": true,
      "authorship_tag": "ABX9TyOtkjiDkVkIcdqvpokF1Yd/",
      "include_colab_link": true
    },
    "kernelspec": {
      "name": "python3",
      "display_name": "Python 3"
    },
    "language_info": {
      "name": "python"
    }
  },
  "cells": [
    {
      "cell_type": "markdown",
      "metadata": {
        "id": "view-in-github",
        "colab_type": "text"
      },
      "source": [
        "<a href=\"https://colab.research.google.com/github/janiosl/python.ds/blob/master/estatistica/me/est_tarefa_aula06.ipynb\" target=\"_parent\"><img src=\"https://colab.research.google.com/assets/colab-badge.svg\" alt=\"Open In Colab\"/></a>"
      ]
    },
    {
      "cell_type": "markdown",
      "metadata": {
        "id": "0fhJ6eq87fU8"
      },
      "source": [
        "#**CEFET-RJ**\n",
        "\n",
        "**Programa de Pós-Gradução em Ciência da Computação - PPCIC**\n",
        "\n",
        "**Mestrado em Ciência da Computação**\n",
        "\n",
        "**Disciplina: Métodos Estatísticos - 2021/2**\n",
        "\n",
        "* **Exercícios - Aula 06**\n",
        "* **Prof.: Diego Barreto Haddad**\n",
        "* **Aluno: Janio de Souza Lima**\n",
        "\n",
        "\n",
        "\n",
        "---"
      ]
    },
    {
      "cell_type": "code",
      "metadata": {
        "id": "Pu2yyUDRbBN8"
      },
      "source": [
        "#Carga de bibliotecas usadas nas questões\n",
        "import numpy as np\n",
        "from matplotlib import pyplot as plt"
      ],
      "execution_count": 134,
      "outputs": []
    },
    {
      "cell_type": "code",
      "metadata": {
        "id": "qpEJV1Zee-JG"
      },
      "source": [
        "#Definindo uma semente para reprodutibilidade dos aleatórios\n",
        "np.random.seed(31)"
      ],
      "execution_count": 142,
      "outputs": []
    },
    {
      "cell_type": "code",
      "metadata": {
        "id": "FHx6c8pZebPl"
      },
      "source": [
        "def padrao(X, mu, sigma):\n",
        "  #Função de transformação para normal padrão\n",
        "  Z = (X-mu)/sigma\n",
        "  return Z"
      ],
      "execution_count": 143,
      "outputs": []
    },
    {
      "cell_type": "markdown",
      "metadata": {
        "id": "xdjNNm9RpFd1"
      },
      "source": [
        "Distribuição gaussiana"
      ]
    },
    {
      "cell_type": "markdown",
      "metadata": {
        "id": "-bzZNgNiwM96"
      },
      "source": [
        "## Questão 1:\n",
        "\n",
        "Seja uma variável aleatória gaussiana $X$ com média e desvio padrão unitários."
      ]
    },
    {
      "cell_type": "code",
      "metadata": {
        "id": "aNW7nhNho_st"
      },
      "source": [
        "mu = 1.0 #Média\n",
        "sigma = 1.0 #Desvio padrão"
      ],
      "execution_count": 144,
      "outputs": []
    },
    {
      "cell_type": "markdown",
      "metadata": {
        "id": "DX2M_lKP1qBR"
      },
      "source": [
        "### a) Apelando à Tabela A.3, calcule $Prob\\{X \\leq 1\\}$"
      ]
    },
    {
      "cell_type": "markdown",
      "metadata": {
        "id": "99dduDNGl7Mr"
      },
      "source": [
        "Transformação do valor $X=1$ para uma distribuição normal padrão, com $\\mu=0$ e $sigma = 1$."
      ]
    },
    {
      "cell_type": "code",
      "metadata": {
        "colab": {
          "base_uri": "https://localhost:8080/"
        },
        "id": "LHb7pyhQ4EGt",
        "outputId": "cb1b2b8f-e364-4f91-debc-c8f1747cc3e4"
      },
      "source": [
        "X = 1\n",
        "Z = padrao(X, mu, sigma)\n",
        "Z"
      ],
      "execution_count": 145,
      "outputs": [
        {
          "output_type": "execute_result",
          "data": {
            "text/plain": [
              "0.0"
            ]
          },
          "metadata": {},
          "execution_count": 145
        }
      ]
    },
    {
      "cell_type": "markdown",
      "metadata": {
        "id": "nfr7mpjq51Lc"
      },
      "source": [
        "Pela tabela A.3 [Walpole et al., 2012] para $Z=0$ a probabilidade é $0.5$, ou seja, considerando que a distribuição é centrada na média igual a 0, a $Prob\\{Z \\leq 0\\} = 0.5$, então para a distribuição gaussiana com $\\mu = 1$ e $\\sigma=1$, a $Prob\\{X \\leq 1 \\} \\approx 0.5$."
      ]
    },
    {
      "cell_type": "markdown",
      "metadata": {
        "id": "NEX9PpmL59xP"
      },
      "source": [
        "### b) Desenvolver programa para responder a questão usando ensaios de Monte Carlo"
      ]
    },
    {
      "cell_type": "markdown",
      "metadata": {
        "id": "riKWyqBpwem_"
      },
      "source": [
        "Geração de valores aleatórios para a distribuição solicitada."
      ]
    },
    {
      "cell_type": "code",
      "metadata": {
        "id": "tOR8S9oMt0BB"
      },
      "source": [
        "N = 1000000 #Quantidade de números aleatórios\n",
        "x = np.random.normal(mu, sigma, size=N) #Geração dos números aleatórios"
      ],
      "execution_count": 150,
      "outputs": []
    },
    {
      "cell_type": "markdown",
      "metadata": {
        "id": "5_T0fPav_uWA"
      },
      "source": [
        "Visualização do histograma e da densidade de probabilidade dos números aleatórios gerados originalmente."
      ]
    },
    {
      "cell_type": "code",
      "metadata": {
        "colab": {
          "base_uri": "https://localhost:8080/",
          "height": 298
        },
        "id": "CwwPmh8Js6Wa",
        "outputId": "7caea578-0d1c-4646-8459-8074b442ee15"
      },
      "source": [
        "#Histograma\n",
        "plt.title('Histograma de X')\n",
        "count, bins, ignored = plt.hist(x, 30, density=True)\n",
        "\n",
        "#Função densidade de probabilidade\n",
        "plt.plot(bins, 1/(sigma * np.sqrt(2* np.pi)) *\n",
        "         np.exp( - (bins - mu)**2 / (2 * sigma**2)),\n",
        "         linewidth=2, color='r')"
      ],
      "execution_count": 151,
      "outputs": [
        {
          "output_type": "execute_result",
          "data": {
            "text/plain": [
              "[<matplotlib.lines.Line2D at 0x7fdd07222f10>]"
            ]
          },
          "metadata": {},
          "execution_count": 151
        },
        {
          "output_type": "display_data",
          "data": {
            "image/png": "[encoded data removed]",
            "text/plain": [
              "<Figure size 432x288 with 1 Axes>"
            ]
          },
          "metadata": {
            "needs_background": "light"
          }
        }
      ]
    },
    {
      "cell_type": "markdown",
      "metadata": {
        "id": "_k8cmXMg-zAe"
      },
      "source": [
        "Cálculo da proporção de observações no intervalo desejado (baseado nos valores aleatórios originais):"
      ]
    },
    {
      "cell_type": "code",
      "metadata": {
        "colab": {
          "base_uri": "https://localhost:8080/"
        },
        "id": "cgZK-o0dISnh",
        "outputId": "c75a8c5c-b39f-4980-95d2-33004dea37b6"
      },
      "source": [
        "#Quantidade de valores de x abaixo de 1\n",
        "obsIntervalo = len(x[x<=X])\n",
        "obsIntervalo"
      ],
      "execution_count": 152,
      "outputs": [
        {
          "output_type": "execute_result",
          "data": {
            "text/plain": [
              "501208"
            ]
          },
          "metadata": {},
          "execution_count": 152
        }
      ]
    },
    {
      "cell_type": "code",
      "metadata": {
        "colab": {
          "base_uri": "https://localhost:8080/"
        },
        "id": "298FUL1C6Ovb",
        "outputId": "9e831f35-dd55-40aa-b6b3-e045c94b8d60"
      },
      "source": [
        "probX = obsIntervalo/N\n",
        "probX"
      ],
      "execution_count": 153,
      "outputs": [
        {
          "output_type": "execute_result",
          "data": {
            "text/plain": [
              "0.501208"
            ]
          },
          "metadata": {},
          "execution_count": 153
        }
      ]
    },
    {
      "cell_type": "markdown",
      "metadata": {
        "id": "a3NquZuSTQ_j"
      },
      "source": [
        "Pelos cálculos realizados chegamos a conclusão que $Prob\\{X \\leq 1\\} \\approx = 0.5$."
      ]
    },
    {
      "cell_type": "markdown",
      "metadata": {
        "id": "CZecM2ppAZMN"
      },
      "source": [
        "Visualização do histograma e da densidade de probabilidade dos números aleatórios transformados para uma distribuição normal padrão."
      ]
    },
    {
      "cell_type": "code",
      "metadata": {
        "colab": {
          "base_uri": "https://localhost:8080/",
          "height": 281
        },
        "id": "D5LDQDhc3zmz",
        "outputId": "54a7fed0-64cf-499f-93ff-9a9c16b71135"
      },
      "source": [
        "#Transformação de x em uma normal padrão\n",
        "#z = (x-mu)/sigma\n",
        "z = padrao(x, mu, sigma)\n",
        "\n",
        "#Histograma da variável transformada\n",
        "plt.title('Histograma de Z')\n",
        "count, bins, ignored = plt.hist(z, 30, density=True)"
      ],
      "execution_count": 154,
      "outputs": [
        {
          "output_type": "display_data",
          "data": {
            "image/png": "[encoded data removed]",
            "text/plain": [
              "<Figure size 432x288 with 1 Axes>"
            ]
          },
          "metadata": {
            "needs_background": "light"
          }
        }
      ]
    },
    {
      "cell_type": "markdown",
      "metadata": {
        "id": "MJQGJHi2E7Gr"
      },
      "source": [
        "Cálculo da proporção de observações no intervalo desejado (baseado nos valores transformados para normal padrão):"
      ]
    },
    {
      "cell_type": "code",
      "metadata": {
        "colab": {
          "base_uri": "https://localhost:8080/"
        },
        "id": "AV2a6y9dIpsm",
        "outputId": "798cbbfc-9374-4520-fd0c-e6edec49e755"
      },
      "source": [
        "#Quantidade de valores de z abaixo de 0\n",
        "obsIntervalo = len(z[z<=Z])\n",
        "obsIntervalo"
      ],
      "execution_count": 116,
      "outputs": [
        {
          "output_type": "execute_result",
          "data": {
            "text/plain": [
              "500182"
            ]
          },
          "metadata": {},
          "execution_count": 116
        }
      ]
    },
    {
      "cell_type": "code",
      "metadata": {
        "colab": {
          "base_uri": "https://localhost:8080/"
        },
        "id": "kLGMWebNEwGX",
        "outputId": "c332bcc2-65e9-49de-f06f-80c53eca702e"
      },
      "source": [
        "probZ = obsIntervalo/N\n",
        "probZ"
      ],
      "execution_count": 117,
      "outputs": [
        {
          "output_type": "execute_result",
          "data": {
            "text/plain": [
              "0.500182"
            ]
          },
          "metadata": {},
          "execution_count": 117
        }
      ]
    },
    {
      "cell_type": "markdown",
      "metadata": {
        "id": "NPs_E-kByMHp"
      },
      "source": [
        "## Questão 2:\n",
        "\n",
        "Seja uma variável aleatória gaussiana $X$ com média e desvio padrão unitários."
      ]
    },
    {
      "cell_type": "markdown",
      "metadata": {
        "id": "6ZD-6MURHZHE"
      },
      "source": [
        "### a) Apelando à Tabela A.3, calcule $Prob\\{-2 \\leq X \\leq 0.5\\}$"
      ]
    },
    {
      "cell_type": "code",
      "metadata": {
        "id": "kYbsHhdyJUWm"
      },
      "source": [
        "#Definição dos limites de acordo com o enunciado\n",
        "li = -2  #Limite inferior\n",
        "ls = 0.5 #Limite superior"
      ],
      "execution_count": 155,
      "outputs": []
    },
    {
      "cell_type": "code",
      "metadata": {
        "colab": {
          "base_uri": "https://localhost:8080/"
        },
        "id": "iZ2-OMHreQnv",
        "outputId": "64046637-7671-41e0-8a52-3ecbd3b224b1"
      },
      "source": [
        "liZ = padrao(li, mu, sigma)\n",
        "lsZ = padrao(ls, mu, sigma)\n",
        "print(liZ, lsZ)"
      ],
      "execution_count": 156,
      "outputs": [
        {
          "output_type": "stream",
          "text": [
            "-3.0 -0.5\n"
          ],
          "name": "stdout"
        }
      ]
    },
    {
      "cell_type": "markdown",
      "metadata": {
        "id": "3V1luJlGHvOr"
      },
      "source": [
        "### b) Desenvolver programa para responder a questão usando ensaios de Monte Carlo"
      ]
    },
    {
      "cell_type": "markdown",
      "metadata": {
        "id": "J-_Pl1jDH0KC"
      },
      "source": [
        "Para resolução da questão através de ensaios de Monte Carlo, reaproveitaremos os valores aleatórios já gerados na questão 1, tendo em vista que a distribuição possui os mesmos valores de $\\mu = 1$ e $\\sigma = 1$. Desta forma, atualizaremos os cálculos apenas para verificar o intervalo solicitado para $Prob\\{-2 \\leq X \\leq 0.5\\}$."
      ]
    },
    {
      "cell_type": "code",
      "metadata": {
        "colab": {
          "base_uri": "https://localhost:8080/",
          "height": 298
        },
        "id": "xOcWQCB8KOAi",
        "outputId": "0f8befa5-63c8-438d-a620-b98dd753c407"
      },
      "source": [
        "#Histograma\n",
        "plt.title('Histograma de X')\n",
        "count, bins, ignored = plt.hist(x, 30, density=True)\n",
        "\n",
        "#Função densidade de probabilidade\n",
        "plt.plot(bins, 1/(sigma * np.sqrt(2* np.pi)) *\n",
        "         np.exp( - (bins - mu)**2 / (2 * sigma**2)),\n",
        "         linewidth=2, color='r')"
      ],
      "execution_count": 157,
      "outputs": [
        {
          "output_type": "execute_result",
          "data": {
            "text/plain": [
              "[<matplotlib.lines.Line2D at 0x7fdd070fc4d0>]"
            ]
          },
          "metadata": {},
          "execution_count": 157
        },
        {
          "output_type": "display_data",
          "data": {
            "image/png": "[encoded data removed]",
            "text/plain": [
              "<Figure size 432x288 with 1 Axes>"
            ]
          },
          "metadata": {
            "needs_background": "light"
          }
        }
      ]
    },
    {
      "cell_type": "markdown",
      "metadata": {
        "id": "1e0IM1cUQM6v"
      },
      "source": [
        "Inicialmente calcularemos todos os valores que estarão no espaço sob a curva a partir do ponto -2"
      ]
    },
    {
      "cell_type": "code",
      "metadata": {
        "id": "cwag8Cx2yOnL",
        "colab": {
          "base_uri": "https://localhost:8080/"
        },
        "outputId": "06f61c27-45d1-48ec-9a2b-36326166bedb"
      },
      "source": [
        "#Quantidade de valores de x acima de -2\n",
        "len(x[x>=li])"
      ],
      "execution_count": 158,
      "outputs": [
        {
          "output_type": "execute_result",
          "data": {
            "text/plain": [
              "998604"
            ]
          },
          "metadata": {},
          "execution_count": 158
        }
      ]
    },
    {
      "cell_type": "markdown",
      "metadata": {
        "id": "1pG_8zg8QUOh"
      },
      "source": [
        "O valor obtido, indica que das $1000000$ observações $998708$ estão a partir de -2. Portanto, para obter o valor no intervalo desejado, vamos verificar os valores que estão acima do limite superior $0.5$."
      ]
    },
    {
      "cell_type": "code",
      "metadata": {
        "colab": {
          "base_uri": "https://localhost:8080/"
        },
        "id": "DENQuUU5LB_R",
        "outputId": "cc98c50e-32e4-4995-a8c2-bcb54910fc58"
      },
      "source": [
        "#Quantidade de valores de x acima de 0.5\n",
        "len(x[x>=ls])"
      ],
      "execution_count": 159,
      "outputs": [
        {
          "output_type": "execute_result",
          "data": {
            "text/plain": [
              "690868"
            ]
          },
          "metadata": {},
          "execution_count": 159
        }
      ]
    },
    {
      "cell_type": "markdown",
      "metadata": {
        "id": "J4JGVDAVQ1km"
      },
      "source": [
        "Verificamos que $690947$ observações estão a partir do valor $0.5$. Com estes dados, para descobrirmos os valores no intervalo $[-2,0.5]$, considerando que as observações de $X\\geq-2$ contém as observações de $X \\leq 0.5$, basta excluirmos os valores que estejam acima deste intervalo que o que sobrará serão exatamente os valores que atendem ao enunciao $-2 \\leq X \\leq 0.5$."
      ]
    },
    {
      "cell_type": "code",
      "metadata": {
        "colab": {
          "base_uri": "https://localhost:8080/"
        },
        "id": "zb25YxJYKflN",
        "outputId": "5c2c21ab-2829-4894-cc80-c00435f9610f"
      },
      "source": [
        "#Quantidade de valores de x acima de -2 e abaixo de 0.5\n",
        "obsIntervalo = len(x[x>=li]) - len(x[x>=ls])\n",
        "obsIntervalo"
      ],
      "execution_count": 160,
      "outputs": [
        {
          "output_type": "execute_result",
          "data": {
            "text/plain": [
              "307736"
            ]
          },
          "metadata": {},
          "execution_count": 160
        }
      ]
    },
    {
      "cell_type": "code",
      "metadata": {
        "colab": {
          "base_uri": "https://localhost:8080/"
        },
        "id": "6rjncjWsL7Et",
        "outputId": "231f4be2-383f-4528-b59a-c9770dfe07dc"
      },
      "source": [
        "probX = obsIntervalo/N\n",
        "probX"
      ],
      "execution_count": 161,
      "outputs": [
        {
          "output_type": "execute_result",
          "data": {
            "text/plain": [
              "0.307736"
            ]
          },
          "metadata": {},
          "execution_count": 161
        }
      ]
    },
    {
      "cell_type": "markdown",
      "metadata": {
        "id": "p1UAxHshSNgI"
      },
      "source": [
        "Aplicando a lógica descrita anteriormente, encontramos $307761$, assim chegamos a conclusão que $Prob\\{-2\\leq X \\leq0.5\\} \\approx 0.3078$."
      ]
    },
    {
      "cell_type": "markdown",
      "metadata": {
        "id": "rvM4Q4d_wQxr"
      },
      "source": [
        "## Questão 3:\n",
        "\n",
        "Seja uma variável aleatória gaussiana $X$ com média $\\mu = 50$ e desvio padrão $\\sigma = 5$."
      ]
    },
    {
      "cell_type": "code",
      "metadata": {
        "id": "F7cx1YtvwUNE"
      },
      "source": [
        "N = 1000000 #Quantidade de números aleatórios\n",
        "mu = 50 #Média\n",
        "sigma = 5 #Desvio padrão"
      ],
      "execution_count": 162,
      "outputs": []
    },
    {
      "cell_type": "code",
      "metadata": {
        "id": "4f2IJX0PwaOP"
      },
      "source": [
        "x = np.random.normal(mu, sigma, size=N)"
      ],
      "execution_count": 163,
      "outputs": []
    },
    {
      "cell_type": "code",
      "metadata": {
        "colab": {
          "base_uri": "https://localhost:8080/",
          "height": 282
        },
        "id": "Bzw3rPwnwcfM",
        "outputId": "d79bdc39-b24f-4060-c97e-05b80662f550"
      },
      "source": [
        "#Histograma\n",
        "count, bins, ignored = plt.hist(x, 30, density=True)\n",
        "\n",
        "#Função densidade de probabilidade\n",
        "plt.plot(bins, 1/(sigma * np.sqrt(2* np.pi)) *\n",
        "         np.exp( - (bins - mu)**2 / (2 * sigma**2)),\n",
        "         linewidth=2, color='r')"
      ],
      "execution_count": 164,
      "outputs": [
        {
          "output_type": "execute_result",
          "data": {
            "text/plain": [
              "[<matplotlib.lines.Line2D at 0x7fdd07011250>]"
            ]
          },
          "metadata": {},
          "execution_count": 164
        },
        {
          "output_type": "display_data",
          "data": {
            "image/png": "[encoded data removed]",
            "text/plain": [
              "<Figure size 432x288 with 1 Axes>"
            ]
          },
          "metadata": {
            "needs_background": "light"
          }
        }
      ]
    },
    {
      "cell_type": "code",
      "metadata": {
        "colab": {
          "base_uri": "https://localhost:8080/",
          "height": 281
        },
        "id": "OB5kkCyc5AyJ",
        "outputId": "a26cf612-0d42-4072-8214-e1c514f5a0d5"
      },
      "source": [
        "#Transformação de x em uma normal padrão\n",
        "z = padrao(x, mu, sigma)\n",
        "\n",
        "#Histograma da variável transformada\n",
        "plt.title('Histograma de Z')\n",
        "count, bins, ignored = plt.hist(z, 30, density=True)"
      ],
      "execution_count": 165,
      "outputs": [
        {
          "output_type": "display_data",
          "data": {
            "image/png": "[encoded data removed]",
            "text/plain": [
              "<Figure size 432x288 with 1 Axes>"
            ]
          },
          "metadata": {
            "needs_background": "light"
          }
        }
      ]
    },
    {
      "cell_type": "markdown",
      "metadata": {
        "id": "AIz3htbkVn3A"
      },
      "source": [
        "### a) Apelando à Tabela A.3, calcule $Prob\\{X \\leq 51\\}$"
      ]
    },
    {
      "cell_type": "markdown",
      "metadata": {
        "id": "7Ld8NdgyVpqx"
      },
      "source": [
        "Transformação do valor $51$."
      ]
    },
    {
      "cell_type": "code",
      "metadata": {
        "colab": {
          "base_uri": "https://localhost:8080/"
        },
        "id": "iuKYUIzugEOj",
        "outputId": "c3f60eee-bb84-42b3-e885-e0f1e199c436"
      },
      "source": [
        "Z = padrao(51, mu, sigma)\n",
        "Z"
      ],
      "execution_count": 166,
      "outputs": [
        {
          "output_type": "execute_result",
          "data": {
            "text/plain": [
              "0.2"
            ]
          },
          "metadata": {},
          "execution_count": 166
        }
      ]
    },
    {
      "cell_type": "markdown",
      "metadata": {
        "id": "L7GGR87Lga0N"
      },
      "source": [
        "Pela aplicação da tabela A.3, para o valor de $z=0.2$ obtemos o valor da área sob a curva normal de $0.5793$."
      ]
    },
    {
      "cell_type": "markdown",
      "metadata": {
        "id": "3Nvp31m0VqBp"
      },
      "source": [
        "### b) Desenvolver programa para responder a questão usando ensaios de Monte Carlo"
      ]
    },
    {
      "cell_type": "markdown",
      "metadata": {
        "id": "thFbg61BVrr9"
      },
      "source": [
        ""
      ]
    },
    {
      "cell_type": "code",
      "metadata": {
        "id": "m5_TAcWCVsAh"
      },
      "source": [
        "X = 51"
      ],
      "execution_count": 128,
      "outputs": []
    },
    {
      "cell_type": "code",
      "metadata": {
        "colab": {
          "base_uri": "https://localhost:8080/"
        },
        "id": "3DNZMLURWLTc",
        "outputId": "484fb892-dff7-4117-cc86-0708ec230c3e"
      },
      "source": [
        "#Quantidade de valores de x abaixo de 1\n",
        "obsIntervalo = len(x[x<=X])\n",
        "obsIntervalo"
      ],
      "execution_count": 129,
      "outputs": [
        {
          "output_type": "execute_result",
          "data": {
            "text/plain": [
              "578722"
            ]
          },
          "metadata": {},
          "execution_count": 129
        }
      ]
    },
    {
      "cell_type": "code",
      "metadata": {
        "colab": {
          "base_uri": "https://localhost:8080/"
        },
        "id": "Li6uugbpWNnx",
        "outputId": "745ca293-9e7a-4482-b371-ad695fc5e8aa"
      },
      "source": [
        "probX = obsIntervalo/N\n",
        "probX"
      ],
      "execution_count": 130,
      "outputs": [
        {
          "output_type": "execute_result",
          "data": {
            "text/plain": [
              "0.578722"
            ]
          },
          "metadata": {},
          "execution_count": 130
        }
      ]
    },
    {
      "cell_type": "markdown",
      "metadata": {
        "id": "13utWWTxW5MV"
      },
      "source": [
        "Testando os valores transformando a distribuição para uma normal padrão."
      ]
    },
    {
      "cell_type": "code",
      "metadata": {
        "colab": {
          "base_uri": "https://localhost:8080/"
        },
        "id": "2IzxVjn6Whms",
        "outputId": "b92a7583-d052-4a44-af91-e24f213b3758"
      },
      "source": [
        "Z = (X-mu)/sigma\n",
        "Z"
      ],
      "execution_count": 131,
      "outputs": [
        {
          "output_type": "execute_result",
          "data": {
            "text/plain": [
              "0.2"
            ]
          },
          "metadata": {},
          "execution_count": 131
        }
      ]
    },
    {
      "cell_type": "code",
      "metadata": {
        "colab": {
          "base_uri": "https://localhost:8080/"
        },
        "id": "DCsk0ZlVWuLb",
        "outputId": "916b265c-0f44-4e87-d2c1-7c395bd4d494"
      },
      "source": [
        "#Quantidade de valores de x abaixo de 1\n",
        "obsIntervalo = len(z[z<=Z])\n",
        "obsIntervalo"
      ],
      "execution_count": 132,
      "outputs": [
        {
          "output_type": "execute_result",
          "data": {
            "text/plain": [
              "578722"
            ]
          },
          "metadata": {},
          "execution_count": 132
        }
      ]
    },
    {
      "cell_type": "code",
      "metadata": {
        "colab": {
          "base_uri": "https://localhost:8080/"
        },
        "id": "HqmUYBijW0ve",
        "outputId": "3e9cef6f-f322-422d-ce73-62c06dc06696"
      },
      "source": [
        "probZ = obsIntervalo/N\n",
        "probZ"
      ],
      "execution_count": 133,
      "outputs": [
        {
          "output_type": "execute_result",
          "data": {
            "text/plain": [
              "0.578722"
            ]
          },
          "metadata": {},
          "execution_count": 133
        }
      ]
    },
    {
      "cell_type": "markdown",
      "metadata": {
        "id": "tMn37HudW_RP"
      },
      "source": [
        "Pelos cálculos com ensaios de Monte Carlo chegamos a conclusão que $Prob\\{X \\leq 51\\} \\approx = 0.5787$."
      ]
    },
    {
      "cell_type": "markdown",
      "metadata": {
        "id": "gsaOzZ1DxT4_"
      },
      "source": [
        "## Questão 4:\n",
        "\n",
        "Seja uma variável aleatória gaussiana $X$ com média $\\mu = -10$ e desvio padrão $\\sigma = 2$."
      ]
    },
    {
      "cell_type": "code",
      "metadata": {
        "id": "mNJRHu16xZfC"
      },
      "source": [
        "N = 1000000 #Quantidade de números aleatórios\n",
        "mu = -10 #Média\n",
        "sigma = 2 #Desvio padrão"
      ],
      "execution_count": 46,
      "outputs": []
    },
    {
      "cell_type": "code",
      "metadata": {
        "id": "MRppCeYFxao6"
      },
      "source": [
        "x = np.random.normal(mu, sigma, size=N)"
      ],
      "execution_count": 47,
      "outputs": []
    },
    {
      "cell_type": "code",
      "metadata": {
        "colab": {
          "base_uri": "https://localhost:8080/",
          "height": 282
        },
        "id": "3a7iVyG9xbnz",
        "outputId": "ad1e7cee-ae8e-4eca-a23f-fc1307364ab8"
      },
      "source": [
        "#Histograma\n",
        "count, bins, ignored = plt.hist(x, 30, density=True)\n",
        "\n",
        "#Função densidade de probabilidade\n",
        "plt.plot(bins, 1/(sigma * np.sqrt(2* np.pi)) *\n",
        "         np.exp( - (bins - mu)**2 / (2 * sigma**2)),\n",
        "         linewidth=2, color='r')"
      ],
      "execution_count": 48,
      "outputs": [
        {
          "output_type": "execute_result",
          "data": {
            "text/plain": [
              "[<matplotlib.lines.Line2D at 0x7fdd0c769350>]"
            ]
          },
          "metadata": {},
          "execution_count": 48
        },
        {
          "output_type": "display_data",
          "data": {
            "image/png": "[encoded data removed]",
            "text/plain": [
              "<Figure size 432x288 with 1 Axes>"
            ]
          },
          "metadata": {
            "needs_background": "light"
          }
        }
      ]
    },
    {
      "cell_type": "code",
      "metadata": {
        "colab": {
          "base_uri": "https://localhost:8080/",
          "height": 281
        },
        "id": "2B6yqckI5HGt",
        "outputId": "a6fe59ab-f07e-4247-a6af-ba594d2c7735"
      },
      "source": [
        "#Transformação de x em uma normal padrão\n",
        "z = (x-mu)/sigma\n",
        "\n",
        "#Histograma da variável transformada\n",
        "plt.title('Histograma de Z')\n",
        "count, bins, ignored = plt.hist(z, 30, density=True)"
      ],
      "execution_count": 49,
      "outputs": [
        {
          "output_type": "display_data",
          "data": {
            "image/png": "[encoded data removed]",
            "text/plain": [
              "<Figure size 432x288 with 1 Axes>"
            ]
          },
          "metadata": {
            "needs_background": "light"
          }
        }
      ]
    },
    {
      "cell_type": "markdown",
      "metadata": {
        "id": "2cWDOAVxxkCY"
      },
      "source": [
        "## Questão 5:\n",
        "\n",
        "Uma distribuição binomial $X$ apresenta $n=100$. Qual a probabilidade de observarmos $r$ sucessos, com $50 \\leq r \\leq 60$, para diferentes valores de probabilidade de sucesso $p$?"
      ]
    },
    {
      "cell_type": "markdown",
      "metadata": {
        "id": "NS-QzVB80lcd"
      },
      "source": [
        "#Referências"
      ]
    },
    {
      "cell_type": "markdown",
      "metadata": {
        "id": "dXyxCptN0nOp"
      },
      "source": [
        "Ronald E. Walpole, Raymond H. Myers, Sharon L. Myers e Keying Ye. **Probability & Statistics for Engineers & Scientistis**. Pearson, 2012."
      ]
    }
  ]
}