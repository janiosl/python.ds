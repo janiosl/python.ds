{
  "nbformat": 4,
  "nbformat_minor": 0,
  "metadata": {
    "colab": {
      "name": "estatistica_basica.ipynb",
      "provenance": [],
      "collapsed_sections": [
        "IvYkLCxsYNPT",
        "iiFLqmmSPw7m",
        "sEqq3KmLY2kT",
        "o3f3t91FYdbW"
      ],
      "toc_visible": true,
      "authorship_tag": "ABX9TyOvQiE8gwV4vkuynZ6tp7vt",
      "include_colab_link": true
    },
    "kernelspec": {
      "name": "python3",
      "display_name": "Python 3"
    }
  },
  "cells": [
    {
      "cell_type": "markdown",
      "metadata": {
        "id": "view-in-github",
        "colab_type": "text"
      },
      "source": [
        "<a href=\"https://colab.research.google.com/github/janiosl/python.ds/blob/master/estatistica/estatistica_basica.ipynb\" target=\"_parent\"><img src=\"https://colab.research.google.com/assets/colab-badge.svg\" alt=\"Open In Colab\"/></a>"
      ]
    },
    {
      "cell_type": "markdown",
      "metadata": {
        "id": "Y_JuVie6PS47"
      },
      "source": [
        "#**Estatística Básica**\n",
        "\n",
        "Desenvolvido por: Janio de Souza Lima\n",
        "\n",
        "Exemplos baseados prioritariamente no livro Estatística Básica (Toledo e Ovale, 1985) com adaptações feitas a partir dos exercícios, das funções nativas de Python e algumas bibliotecas complementares.\n",
        "\n",
        "Quando é usado algum material complementar, sempre busquei colocar o link da fonte.\n",
        "\n",
        "* **Estudo Dirigdo desse Notebook**: https://youtube.com/playlist?list=PL0XxTDj23A1F4-nrAMDlRxvZkKJmCw2Qb"
      ]
    },
    {
      "cell_type": "code",
      "metadata": {
        "id": "cWVqJvetJwDS"
      },
      "source": [
        "from datetime import datetime\n",
        "from collections import Counter\n",
        "import pandas as pd\n",
        "\n",
        "#Bibliotecas matemáticas e estatísticas\n",
        "import numpy as np\n",
        "from scipy.stats import spearmanr\n",
        "import statistics as sts\n",
        "from scipy import stats as s\n",
        "\n",
        "#Pacotes de machine learning e estatística\n",
        "from sklearn.datasets import load_diabetes\n",
        "from sklearn.linear_model import LinearRegression, Ridge\n",
        "from sklearn.preprocessing import PolynomialFeatures\n",
        "from sklearn.metrics import mean_squared_error\n",
        "from sklearn.pipeline import make_pipeline\n",
        "\n",
        "#Bibliotecas de visualização\n",
        "from matplotlib import pyplot as plt\n",
        "import seaborn as sns"
      ],
      "execution_count": 1,
      "outputs": []
    },
    {
      "cell_type": "markdown",
      "metadata": {
        "id": "IvYkLCxsYNPT"
      },
      "source": [
        "#1 **Medidas de dispersão**\n",
        "\n",
        "Detalhes no capítulo 5 do livro"
      ]
    },
    {
      "cell_type": "code",
      "metadata": {
        "id": "zj5_3nmUKHy4"
      },
      "source": [
        "#Produção diária de dois empregados hipotéticos\n",
        "empregadoA = [70, 71, 69, 70, 70]\n",
        "empregadoB = [60, 80, 70, 62, 83]"
      ],
      "execution_count": 2,
      "outputs": []
    },
    {
      "cell_type": "code",
      "metadata": {
        "id": "XhDc5y_bYm8q",
        "colab": {
          "base_uri": "https://localhost:8080/"
        },
        "outputId": "91dd5838-9c85-4af3-ff5e-b9bca3ece772"
      },
      "source": [
        "#Média da produção\n",
        "print('Média da produção:',\n",
        "      '\\nEmpregado A:', np.mean(empregadoA),\n",
        "      '\\nEmpregado B:', np.mean(empregadoB)\n",
        "      )"
      ],
      "execution_count": 3,
      "outputs": [
        {
          "output_type": "stream",
          "text": [
            "Média da produção: \n",
            "Empregado A: 70.0 \n",
            "Empregado B: 71.0\n"
          ],
          "name": "stdout"
        }
      ]
    },
    {
      "cell_type": "code",
      "metadata": {
        "id": "KGB2mTJ-Y8Oi",
        "colab": {
          "base_uri": "https://localhost:8080/",
          "height": 0
        },
        "outputId": "00d71aaa-145b-4d33-fb63-b7536d4b6a29"
      },
      "source": [
        "plt.plot(empregadoA, 'g:')\n",
        "plt.plot(empregadoB, 'b:')\n",
        "plt.ylabel('Produção')\n",
        "plt.xlabel('Tempo')\n",
        "plt.xticks([0,1,2,3,4])\n",
        "plt.legend(['Empregado A', 'Empregado B'],\n",
        "           loc='best')\n",
        "sns.despine()"
      ],
      "execution_count": 4,
      "outputs": [
        {
          "output_type": "display_data",
          "data": {
            "image/png": "[encoded data removed]",
            "text/plain": [
              "<Figure size 432x288 with 1 Axes>"
            ]
          },
          "metadata": {
            "tags": [],
            "needs_background": "light"
          }
        }
      ]
    },
    {
      "cell_type": "markdown",
      "metadata": {
        "id": "Zqen2z9G_kCj"
      },
      "source": [
        "##1.2 **Amplitude**: avalia dimensão do conjunto de dados"
      ]
    },
    {
      "cell_type": "code",
      "metadata": {
        "id": "dfx3acIlZidR",
        "colab": {
          "base_uri": "https://localhost:8080/"
        },
        "outputId": "0f0d5433-68e9-4312-d3c0-9933b0651ddc"
      },
      "source": [
        "\"\"\"\n",
        "Amplitude\n",
        "at = max(dados) - min(dados)\n",
        "\"\"\"\n",
        "at_empregadoA = max(empregadoA) - min(empregadoA)\n",
        "at_empregadoB = max(empregadoB) - min(empregadoB)\n",
        "\n",
        "print(f'Amplitude da produção dos empregados:\\nA: {at_empregadoA}\\nB: {at_empregadoB}')"
      ],
      "execution_count": 5,
      "outputs": [
        {
          "output_type": "stream",
          "text": [
            "Amplitude da produção dos empregados:\n",
            "A: 2\n",
            "B: 23\n"
          ],
          "name": "stdout"
        }
      ]
    },
    {
      "cell_type": "markdown",
      "metadata": {
        "id": "HKEvDZNb_vBl"
      },
      "source": [
        "##1.3 Desvio médio: média aritimética dos desvios em relação a uma das medidas de tendência central (média ou mediana)\n",
        "* Considera diferenças absolutas\n",
        "* Não é tão afetado por valores extremos com o desvio padrão\n",
        "* Quando calculado em relação à mediana tende a ser bem menor do que quando o cálculo é feito em relação a qualquer outra medida de tendência central"
      ]
    },
    {
      "cell_type": "code",
      "metadata": {
        "id": "cErcVG4Y_rIs",
        "colab": {
          "base_uri": "https://localhost:8080/"
        },
        "outputId": "0e5fe5ab-d3a7-4598-fc44-5e96f699b382"
      },
      "source": [
        "\"\"\"\n",
        "Desvio médio\n",
        "dm = (abs(soma(dados[k] - media) for k in dados)) / n\n",
        "\n",
        "O mesmo cálculo poderia ser feito, substituindo a média pela mediana\n",
        "Os valores de resultado seriam diferentes, mas a lógica seria similar,\n",
        "considerando a distância das obsevações em relação à mediana\n",
        "\"\"\"\n",
        "\n",
        "#empregadoA = [70, 71, 69, 70, 70]\n",
        "#empregadoB = [60, 80, 70, 62, 83]\n",
        "\n",
        "#Cálculo da média e dimensão dos conjuntos de dados\n",
        "mediaA = np.mean(empregadoA)\n",
        "nA = len(empregadoA)\n",
        "\n",
        "mediaB = np.mean(empregadoB)\n",
        "nB = len(empregadoB)\n",
        "\n",
        "#Cálculos dos desvios médios em 3 passos\n",
        "#Cálculo da diferença entre cada observação e a média\n",
        "dmA = [abs(empregadoA[k] - mediaA) for k in range(0, len(empregadoA))]\n",
        "dmA = sum(dmA) #Soma das diferenças\n",
        "dmA = dmA / nA #Obtenção do desvio médio\n",
        "\n",
        "#Mesmo cálculo efetuado para o segundo conjunto de dados\n",
        "dmB = [abs(empregadoB[k] - mediaB) for k in range(0, len(empregadoB))]\n",
        "dmB = sum(dmB)\n",
        "dmB = dmB / nB\n",
        "\n",
        "print(f'Desvio médio da produção dos empregados:\\nA: {dmA:.3f}\\nB: {dmB:.3f}')"
      ],
      "execution_count": 6,
      "outputs": [
        {
          "output_type": "stream",
          "text": [
            "Desvio médio da produção dos empregados:\n",
            "A: 0.400\n",
            "B: 8.400\n"
          ],
          "name": "stdout"
        }
      ]
    },
    {
      "cell_type": "markdown",
      "metadata": {
        "id": "NemX5EaCtNTw"
      },
      "source": [
        "##1.4 Outras medidas de dispersão:"
      ]
    },
    {
      "cell_type": "markdown",
      "metadata": {
        "id": "sonwk6FEExbV"
      },
      "source": [
        "\n",
        "###1.4.1 **Desvio padrão (S)**: avaliação de desvios em relação à média com base no quadrado dos desvios"
      ]
    },
    {
      "cell_type": "code",
      "metadata": {
        "id": "pHWmUidPc50S",
        "colab": {
          "base_uri": "https://localhost:8080/"
        },
        "outputId": "778cb390-c9ed-404a-9f39-28e832443aa8"
      },
      "source": [
        "\"\"\"\n",
        "Desvio padrão\n",
        "dp = sqrt(\n",
        "          (soma(dados[k] - media for k in dados) ** 2) / n\n",
        "          )\n",
        "\n",
        "sqrt => Raiz quadrada\n",
        "\"\"\"\n",
        "#Cálculo direto com biblioteca numpy\n",
        "dpA = np.std(empregadoA)\n",
        "\n",
        "dpB = np.std(empregadoB)\n",
        "print(f'Desvio padrão da produção dos empregados:\\nA: {dpA:.3f}\\nB: {dpB:.3f}') "
      ],
      "execution_count": 7,
      "outputs": [
        {
          "output_type": "stream",
          "text": [
            "Desvio padrão da produção dos empregados:\n",
            "A: 0.632\n",
            "B: 9.252\n"
          ],
          "name": "stdout"
        }
      ]
    },
    {
      "cell_type": "code",
      "metadata": {
        "id": "AMUgJCPWI8X3",
        "colab": {
          "base_uri": "https://localhost:8080/"
        },
        "outputId": "e9d49896-871e-4ec6-954d-e1e5959dd729"
      },
      "source": [
        "#Cálculo manual\n",
        "\n",
        "#Quadrado da diferença entre observações e a média\n",
        "dpAm = [(empregadoA[k] - mediaA) ** 2 for k in range(0, len(empregadoA))]\n",
        "dpBm = [(empregadoB[k] - mediaB) ** 2 for k in range(0, len(empregadoB))]\n",
        "\n",
        "#Soma do quadrado das diferenças\n",
        "dpAm = sum(dpAm)\n",
        "dpBm = sum(dpBm)\n",
        "\n",
        "#Soma dividida pela quantidade de elementos\n",
        "dpAm = dpAm / nA\n",
        "dpBm = dpBm / nB\n",
        "\n",
        "#Obtenção do desvio padrão\n",
        "dpAm = np.sqrt(dpAm)\n",
        "dpBm = np.sqrt(dpBm)\n",
        "\n",
        "print(dpAm,\n",
        "      dpBm,\n",
        "      sep='\\n')"
      ],
      "execution_count": 8,
      "outputs": [
        {
          "output_type": "stream",
          "text": [
            "0.6324555320336759\n",
            "9.252026804976301\n"
          ],
          "name": "stdout"
        }
      ]
    },
    {
      "cell_type": "code",
      "metadata": {
        "id": "rORgErcrj217",
        "colab": {
          "base_uri": "https://localhost:8080/",
          "height": 0
        },
        "outputId": "0901bc61-2144-4222-84c9-1cf35018c797"
      },
      "source": [
        "plt.barh(['A', 'B'],\n",
        "         [dpAm, dpBm],\n",
        "         color=['g', 'b'])\n",
        "plt.title('Comparação de desvios padrão (Fórmula população)')\n",
        "plt.ylabel('Empregados')\n",
        "plt.xlabel('Desvio padrão da produção')\n",
        "sns.despine()"
      ],
      "execution_count": 9,
      "outputs": [
        {
          "output_type": "display_data",
          "data": {
            "image/png": "[encoded data removed]",
            "text/plain": [
              "<Figure size 432x288 with 1 Axes>"
            ]
          },
          "metadata": {
            "tags": [],
            "needs_background": "light"
          }
        }
      ]
    },
    {
      "cell_type": "code",
      "metadata": {
        "id": "U7fkNeC8XRSS",
        "colab": {
          "base_uri": "https://localhost:8080/"
        },
        "outputId": "952df718-0536-45ac-c90e-b3c420a029fe"
      },
      "source": [
        "\"\"\"\n",
        "Desvio padrão para amostras\n",
        "dp = sqrt(\n",
        "          (soma(dados[k] - media for k in dados) ** 2) / (n - 1)\n",
        "          )\n",
        "O ajuste é realizado no divisor da fórmula que ao invés de n, considera n - 1\n",
        "Isso ocorre para chegarmos a uma estimativa melhor do parâmetro de população.\n",
        "\"\"\"\n",
        "\n",
        "#Cálculo quando o conjunto de dados refere-se a uma amostra\n",
        "#Quadrado da diferença entre observações e a média\n",
        "dpAm = [(empregadoA[k] - mediaA) ** 2 for k in range(0, len(empregadoA))]\n",
        "dpBm = [(empregadoB[k] - mediaB) ** 2 for k in range(0, len(empregadoB))]\n",
        "\n",
        "#Soma do quadrado das diferenças\n",
        "dpAm = sum(dpAm)\n",
        "dpBm = sum(dpBm)\n",
        "\n",
        "#Soma dividida pela quantidade de elementos\n",
        "dpAm = dpAm / (nA - 1)\n",
        "dpBm = dpBm / (nB - 1)\n",
        "\n",
        "#Obtenção do desvio padrão\n",
        "dpAm = np.sqrt(dpAm)\n",
        "dpBm = np.sqrt(dpBm)\n",
        "\n",
        "print(dpAm,\n",
        "      dpBm,\n",
        "      sep='\\n')"
      ],
      "execution_count": 10,
      "outputs": [
        {
          "output_type": "stream",
          "text": [
            "0.7071067811865476\n",
            "10.344080432788601\n"
          ],
          "name": "stdout"
        }
      ]
    },
    {
      "cell_type": "code",
      "metadata": {
        "id": "_RtrayVikgu3",
        "colab": {
          "base_uri": "https://localhost:8080/",
          "height": 0
        },
        "outputId": "8e8f6119-8f51-41e5-997d-7bae99ba4ef8"
      },
      "source": [
        "plt.barh(['A', 'B'],\n",
        "         [dpAm, dpBm],\n",
        "         color=['g', 'b'])\n",
        "plt.title('Comparação de desvios padrão (Fórmula amostra)')\n",
        "plt.ylabel('Empregados')\n",
        "plt.xlabel('Desvio padrão da produção')\n",
        "sns.despine()"
      ],
      "execution_count": 11,
      "outputs": [
        {
          "output_type": "display_data",
          "data": {
            "image/png": "[encoded data removed]",
            "text/plain": [
              "<Figure size 432x288 with 1 Axes>"
            ]
          },
          "metadata": {
            "tags": [],
            "needs_background": "light"
          }
        }
      ]
    },
    {
      "cell_type": "code",
      "metadata": {
        "id": "wKLptdK0ZX0a",
        "colab": {
          "base_uri": "https://localhost:8080/"
        },
        "outputId": "26c52968-6cea-4614-9bf0-b30cfff53a58"
      },
      "source": [
        "#Exemplo com outro conjunto de dados\n",
        "a = [10, 12, 13, 20, 25, 34, 45]\n",
        "\n",
        "#Cálculo direto com função np da biblioteca Numpy\n",
        "dp = np.std(a)\n",
        "\n",
        "def desvio_padrao(dados, tipo=1):\n",
        "  \"\"\"\n",
        "  Função personalizada para cálculo do desvio padrão\n",
        "  dados: conjunto de dados no formato lista\n",
        "  tipo:   1 -> desvio padrão da população (padrão)\n",
        "          2 -> desvio padrão da amostra\n",
        "  \"\"\"\n",
        "  n = len(dados)\n",
        "  media = np.mean(dados)\n",
        "\n",
        "  #Quadrado da diferença entre observações e a média\n",
        "  dp = [(dados[k] - media) ** 2 for k in range(0, len(dados))]\n",
        "\n",
        "  #Soma do quadrado das diferenças\n",
        "  dp = sum(dp)\n",
        "\n",
        "  #Soma dividida pela quantidade de elementos\n",
        "  if tipo == 1:\n",
        "    dp = dp / n\n",
        "  elif tipo == 2:\n",
        "    dp = dp / (n - 1)\n",
        "\n",
        "  #Obtenção do desvio padrão\n",
        "  dp = np.sqrt(dp)\n",
        "\n",
        "  return dp\n",
        "\n",
        "dppA = desvio_padrao(a)\n",
        "dpaA = desvio_padrao(a, 2)\n",
        "\n",
        "print(dp,\n",
        "      dppA,\n",
        "      dpaA,\n",
        "      sep='\\n')"
      ],
      "execution_count": 12,
      "outputs": [
        {
          "output_type": "stream",
          "text": [
            "11.996598157266867\n",
            "11.996598157266867\n",
            "12.957806986707354\n"
          ],
          "name": "stdout"
        }
      ]
    },
    {
      "cell_type": "code",
      "metadata": {
        "id": "Uqeu-SufkyfL",
        "colab": {
          "base_uri": "https://localhost:8080/",
          "height": 0
        },
        "outputId": "bf84cc5d-5d42-4de7-e152-625970af422e"
      },
      "source": [
        "plt.barh(['Numpy', 'Fórmula população', 'Fórmula amostra'],\n",
        "         [dp, dppA, dpaA])\n",
        "plt.title('Comparação de desvios padrão (difentes fórmulas para o mesmo dataset)')\n",
        "plt.ylabel('Métodos')\n",
        "plt.xlabel('Desvio padrão')\n",
        "sns.despine()"
      ],
      "execution_count": 13,
      "outputs": [
        {
          "output_type": "display_data",
          "data": {
            "image/png": "[encoded data removed]",
            "text/plain": [
              "<Figure size 432x288 with 1 Axes>"
            ]
          },
          "metadata": {
            "tags": [],
            "needs_background": "light"
          }
        }
      ]
    },
    {
      "cell_type": "markdown",
      "metadata": {
        "id": "KbAUYCXyfrgh"
      },
      "source": [
        "Propiedades do desvio padrão:\n",
        "* Adição de um número constante a cada um dos elementos do conjunto de dados o desvio padrão se mantém.\n",
        "* Multiplicando ou divindo cada elmento do conjunto de dados com um número constante o desvio padrão fica multiplicado ou dividido, respectivamente, por este mesmo número."
      ]
    },
    {
      "cell_type": "markdown",
      "metadata": {
        "id": "cN-fi1dxmbGZ"
      },
      "source": [
        "###1.4.2 **Variância (S²)**\n",
        "\n",
        "Quadrado do desvio padrão"
      ]
    },
    {
      "cell_type": "code",
      "metadata": {
        "id": "7OOcmfjcauIm",
        "colab": {
          "base_uri": "https://localhost:8080/"
        },
        "outputId": "2e54ba24-5038-4ec8-ccfe-f9cb522b2f3c"
      },
      "source": [
        "\"\"\"\n",
        "Variância\n",
        "Como ela refere-se ao quadrado do desvio padrão, basta usar a fórmula do desvio\n",
        "sem realizar a extração da raiz quadrada\n",
        "\"\"\"\n",
        "def variancia(dados, tipo=1):\n",
        "  \"\"\"\n",
        "  dados: conjunto de dados no formato lista\n",
        "  tipo:   1 -> desvio padrão da população (padrão)\n",
        "          2 -> desvio padrão da amostra\n",
        "  \"\"\"\n",
        "  n = len(dados)\n",
        "  media = np.mean(dados)\n",
        "\n",
        "  #Quadrado da diferença entre observações e a média\n",
        "  s2 = [(dados[k] - media) ** 2 for k in range(0, len(dados))]\n",
        "\n",
        "  #Soma do quadrado das diferenças\n",
        "  s2 = sum(s2)\n",
        "\n",
        "  #Soma dividida pela quantidade de elementos\n",
        "  #Resulta na variância\n",
        "  if tipo == 1:\n",
        "    s2 = s2 / n\n",
        "  elif tipo == 2:\n",
        "    s2 = s2 / (n - 1)\n",
        "\n",
        "  return s2\n",
        "\n",
        "varA = variancia(empregadoA)\n",
        "varB = variancia(empregadoB)\n",
        "\n",
        "print(f'Variância da produção dos empregados:\\nA: {varA:.3f}\\nB: {varB:.3f}')"
      ],
      "execution_count": 14,
      "outputs": [
        {
          "output_type": "stream",
          "text": [
            "Variância da produção dos empregados:\n",
            "A: 0.400\n",
            "B: 85.600\n"
          ],
          "name": "stdout"
        }
      ]
    },
    {
      "cell_type": "code",
      "metadata": {
        "id": "NnRfofEWnNFQ",
        "colab": {
          "base_uri": "https://localhost:8080/",
          "height": 0
        },
        "outputId": "cd94e6a3-d16a-458f-f1df-ce0f25d3e91d"
      },
      "source": [
        "plt.barh(['A', 'B'],\n",
        "         [varA, varB],\n",
        "         color=['g', 'b'])\n",
        "plt.title('Comparação de variâncias da produção')\n",
        "plt.ylabel('Empregados')\n",
        "plt.xlabel('Variância da produção')\n",
        "sns.despine()"
      ],
      "execution_count": 15,
      "outputs": [
        {
          "output_type": "display_data",
          "data": {
            "image/png": "[encoded data removed]",
            "text/plain": [
              "<Figure size 432x288 with 1 Axes>"
            ]
          },
          "metadata": {
            "tags": [],
            "needs_background": "light"
          }
        }
      ]
    },
    {
      "cell_type": "code",
      "metadata": {
        "id": "G_Q6TjoUnM_1",
        "colab": {
          "base_uri": "https://localhost:8080/"
        },
        "outputId": "88b18ddb-381e-49c3-8f25-4f37abf8894c"
      },
      "source": [
        "#Variância calculada com numpy\n",
        "print(np.var(empregadoA),\n",
        "      np.var(empregadoB),\n",
        "             sep='\\n')"
      ],
      "execution_count": 16,
      "outputs": [
        {
          "output_type": "stream",
          "text": [
            "0.4\n",
            "85.6\n"
          ],
          "name": "stdout"
        }
      ]
    },
    {
      "cell_type": "markdown",
      "metadata": {
        "id": "o4F3z5Pnr2Z_"
      },
      "source": [
        "Propriedades da variância:\n",
        "* Primeiras duas propriedades do desvio padrão tem aplicação análoga para variância (adição/subrtação e multiplicação/divisão).\n",
        "* Variância combinada\n",
        "\n",
        "OBSERVAÇÕES:\n",
        "Verificar:\n",
        "- Correção de Sheppard para a variância para observar tratamento de distorções que podem ocorrer no cálculo em dados agrupados em classes de freqência em função da dispersão dos dados em cada classe.\n",
        "- Controle de Charlier para conferência da exatidão de cálculos de média, variância e desvio padrão"
      ]
    },
    {
      "cell_type": "markdown",
      "metadata": {
        "id": "AmXls5latyDb"
      },
      "source": [
        "##1.5 Coeficientes de variação"
      ]
    },
    {
      "cell_type": "markdown",
      "metadata": {
        "id": "nu-fp2UKw7Dk"
      },
      "source": [
        "**Coeficiente de variação de Pearson**\n",
        "\n",
        "CVp = (S / media) * 100"
      ]
    },
    {
      "cell_type": "code",
      "metadata": {
        "id": "nrnsTn1Ep4y7",
        "colab": {
          "base_uri": "https://localhost:8080/"
        },
        "outputId": "de3855f1-8709-49ce-cc3e-fac6e8a84ed9"
      },
      "source": [
        "cvpA = (dpA / mediaA) * 100\n",
        "cvpB = (dpB / mediaB) * 100\n",
        "\n",
        "print('Coeficiente de variação de Pearson da produção dos empregados:')\n",
        "print(f'A: {cvpA:.2f}%\\nB: {cvpB:.2f}%')"
      ],
      "execution_count": 17,
      "outputs": [
        {
          "output_type": "stream",
          "text": [
            "Coeficiente de variação de Pearson da produção dos empregados:\n",
            "A: 0.90%\n",
            "B: 13.03%\n"
          ],
          "name": "stdout"
        }
      ]
    },
    {
      "cell_type": "markdown",
      "metadata": {
        "id": "P7owc5-7yrx7"
      },
      "source": [
        "**Coeficiente de variação de Thorndike**\n",
        "\n",
        "CVt = (S / mediana) * 100"
      ]
    },
    {
      "cell_type": "code",
      "metadata": {
        "id": "MUYmJCJexaHU",
        "colab": {
          "base_uri": "https://localhost:8080/"
        },
        "outputId": "a4a5dbbe-bf41-4efa-f6b6-23633d49461d"
      },
      "source": [
        "cvtA = (dpA / np.median(empregadoA)) * 100\n",
        "cvtB = (dpB / np.median(empregadoB)) * 100\n",
        "\n",
        "print('Coeficiente de variação de Thorndike da produção dos empregados:')\n",
        "print(f'A: {cvtA:.2f}%\\nB: {cvtB:.2f}%')"
      ],
      "execution_count": 18,
      "outputs": [
        {
          "output_type": "stream",
          "text": [
            "Coeficiente de variação de Thorndike da produção dos empregados:\n",
            "A: 0.90%\n",
            "B: 13.22%\n"
          ],
          "name": "stdout"
        }
      ]
    },
    {
      "cell_type": "markdown",
      "metadata": {
        "id": "iiFLqmmSPw7m"
      },
      "source": [
        "#2 **Números índices**"
      ]
    },
    {
      "cell_type": "markdown",
      "metadata": {
        "id": "-wpn9H7-t3c_"
      },
      "source": [
        "\n",
        "Este conceito do ponto de vista de cálculos é simples, mas trabalhoso, por isso o foco do estudo recomendado é mais a leitura do capítulo do livro para entendimento.\n",
        "\n",
        "Referência: TOLEDO, Geraldo Luciano e OVALLE, Ivo Izidório (1985) Estatítisca Básica. São Paulo: Atlas\n",
        "\n",
        "Detalhes no capítulo 7 do livro"
      ]
    },
    {
      "cell_type": "markdown",
      "metadata": {
        "id": "7GSwiXP1Spgs"
      },
      "source": [
        "Propriedades de números índices:\n",
        "* Identidade: o número-índice deve ser igual à unidade quando a época dada (t) coincidir com a época básica (0).\n",
        "* Reversão (inversão) de tempo: se permutarem dois períodos s e t, os resultados são o inverso um do outro.\n",
        "* Circular: \"considerando um índice em que as datas aparecem em progressão aritimética e cujas comparações foram feitas com base nas datas imediatamente anteriores, o valor do índice da última data, com base na primeira, será igual ao produto dos valores da série original\" (Toledo e Ovale, 1985)"
      ]
    },
    {
      "cell_type": "code",
      "metadata": {
        "id": "pCGreoRnPVT-",
        "colab": {
          "base_uri": "https://localhost:8080/"
        },
        "outputId": "9cc68d5e-bd9c-4d5d-f83c-bab1761448e2"
      },
      "source": [
        "#Mudança de base\n",
        "anos = list(range(1957, 1969))\n",
        "ind_producao_industrial = [100, 104, 97, 112, 120, 124,\n",
        "                           134, 125, 139, 143, 143, 134]\n",
        "base = 1957\n",
        "\n",
        "print(f'Série original - Base: ano {base}')\n",
        "print('Ano ', 'Índice', sep=' : ')\n",
        "for k in range(0, len(anos)):\n",
        "  print(anos[k],\n",
        "        ind_producao_industrial[k],\n",
        "        sep=' : ')"
      ],
      "execution_count": 19,
      "outputs": [
        {
          "output_type": "stream",
          "text": [
            "Série original - Base: ano 1957\n",
            "Ano  : Índice\n",
            "1957 : 100\n",
            "1958 : 104\n",
            "1959 : 97\n",
            "1960 : 112\n",
            "1961 : 120\n",
            "1962 : 124\n",
            "1963 : 134\n",
            "1964 : 125\n",
            "1965 : 139\n",
            "1966 : 143\n",
            "1967 : 143\n",
            "1968 : 134\n"
          ],
          "name": "stdout"
        }
      ]
    },
    {
      "cell_type": "code",
      "metadata": {
        "id": "8_4M6YdFQchR",
        "colab": {
          "base_uri": "https://localhost:8080/"
        },
        "outputId": "829a14ff-c63d-47c8-b3c8-aacfc5efe426"
      },
      "source": [
        "#Definição da nova base de referência dos índices\n",
        "nova_base = 1961\n",
        "posicao_nb = anos.index(nova_base)\n",
        "posicao_nb"
      ],
      "execution_count": 20,
      "outputs": [
        {
          "output_type": "execute_result",
          "data": {
            "text/plain": [
              "4"
            ]
          },
          "metadata": {
            "tags": []
          },
          "execution_count": 20
        }
      ]
    },
    {
      "cell_type": "code",
      "metadata": {
        "id": "5K262RStQj4p",
        "colab": {
          "base_uri": "https://localhost:8080/"
        },
        "outputId": "c49bd57b-d1d7-47d4-b96f-5b709a4d684a"
      },
      "source": [
        "print(anos[posicao_nb],\n",
        "      ind_producao_industrial[posicao_nb]\n",
        ")"
      ],
      "execution_count": 21,
      "outputs": [
        {
          "output_type": "stream",
          "text": [
            "1961 120\n"
          ],
          "name": "stdout"
        }
      ]
    },
    {
      "cell_type": "code",
      "metadata": {
        "id": "88DVUIizQtTn",
        "colab": {
          "base_uri": "https://localhost:8080/"
        },
        "outputId": "c9f83d7a-05c0-4fa1-c503-cdcf558acab5"
      },
      "source": [
        "val_novaBase = ind_producao_industrial[posicao_nb]\n",
        "val_novaBase"
      ],
      "execution_count": 22,
      "outputs": [
        {
          "output_type": "execute_result",
          "data": {
            "text/plain": [
              "120"
            ]
          },
          "metadata": {
            "tags": []
          },
          "execution_count": 22
        }
      ]
    },
    {
      "cell_type": "code",
      "metadata": {
        "id": "pt0VtwTwQnuP",
        "colab": {
          "base_uri": "https://localhost:8080/"
        },
        "outputId": "19b685b9-3813-435c-c3d1-c70d10cb36f6"
      },
      "source": [
        "\"\"\"\n",
        "Para manuntenção da coerência dos índices esta forma de ajuste só é válida\n",
        "quando o método de cálculo original dos número-índice respeita a terceira\n",
        "proprieda (Circular) de números-índices\n",
        "\"\"\"\n",
        "novos_indices = [round((ind_producao_industrial[k] / val_novaBase) * 100) for\n",
        "                 k in range(0, len(anos))]\n",
        "novos_indices"
      ],
      "execution_count": 23,
      "outputs": [
        {
          "output_type": "execute_result",
          "data": {
            "text/plain": [
              "[83, 87, 81, 93, 100, 103, 112, 104, 116, 119, 119, 112]"
            ]
          },
          "metadata": {
            "tags": []
          },
          "execution_count": 23
        }
      ]
    },
    {
      "cell_type": "code",
      "metadata": {
        "id": "X39JwZw5P6wD",
        "colab": {
          "base_uri": "https://localhost:8080/"
        },
        "outputId": "93a326f1-de66-4684-b8fd-f719e62def9f"
      },
      "source": [
        "print(f'Série ajustada - Base: ano {nova_base}')\n",
        "print('Ano ', 'Índice', sep=' : ')\n",
        "for k in range(0, len(anos)):\n",
        "  print(anos[k],\n",
        "        novos_indices[k],\n",
        "        sep=' : ')"
      ],
      "execution_count": 24,
      "outputs": [
        {
          "output_type": "stream",
          "text": [
            "Série ajustada - Base: ano 1961\n",
            "Ano  : Índice\n",
            "1957 : 83\n",
            "1958 : 87\n",
            "1959 : 81\n",
            "1960 : 93\n",
            "1961 : 100\n",
            "1962 : 103\n",
            "1963 : 112\n",
            "1964 : 104\n",
            "1965 : 116\n",
            "1966 : 119\n",
            "1967 : 119\n",
            "1968 : 112\n"
          ],
          "name": "stdout"
        }
      ]
    },
    {
      "cell_type": "code",
      "metadata": {
        "id": "EJ1nYEy2SHeF",
        "colab": {
          "base_uri": "https://localhost:8080/"
        },
        "outputId": "f4d1719c-4099-4877-ff6b-47aa1da36c68"
      },
      "source": [
        "anos_serie1 = list(range(1970, 1976))\n",
        "anos_serie2 = list(range(1975, 1981))\n",
        "\n",
        "serie1 = [100, 90, 108, 160, 196, 200]\n",
        "serie2 = [100, 120, 160, 210, 240, 250]\n",
        "\n",
        "print('Série 1')\n",
        "print('Ano ', 'Índice', sep=' : ')\n",
        "for k in range(0, len(serie1)):\n",
        "  print(anos_serie1[k],\n",
        "        serie1[k],\n",
        "        sep=' : ')"
      ],
      "execution_count": 25,
      "outputs": [
        {
          "output_type": "stream",
          "text": [
            "Série 1\n",
            "Ano  : Índice\n",
            "1970 : 100\n",
            "1971 : 90\n",
            "1972 : 108\n",
            "1973 : 160\n",
            "1974 : 196\n",
            "1975 : 200\n"
          ],
          "name": "stdout"
        }
      ]
    },
    {
      "cell_type": "code",
      "metadata": {
        "id": "IUhubRrUVzpO",
        "colab": {
          "base_uri": "https://localhost:8080/"
        },
        "outputId": "1d0a9cfe-05dc-4d0a-e4ee-49625519c2af"
      },
      "source": [
        "print('Série 2')\n",
        "print('Ano ', 'Índice', sep=' : ')\n",
        "for k in range(0, len(serie2)):\n",
        "  print(anos_serie2[k],\n",
        "        serie2[k],\n",
        "        sep=' : ')"
      ],
      "execution_count": 26,
      "outputs": [
        {
          "output_type": "stream",
          "text": [
            "Série 2\n",
            "Ano  : Índice\n",
            "1975 : 100\n",
            "1976 : 120\n",
            "1977 : 160\n",
            "1978 : 210\n",
            "1979 : 240\n",
            "1980 : 250\n"
          ],
          "name": "stdout"
        }
      ]
    },
    {
      "cell_type": "code",
      "metadata": {
        "id": "oDuF2YI-V7DY",
        "colab": {
          "base_uri": "https://localhost:8080/"
        },
        "outputId": "ce1d3019-cd41-473e-b1df-878174501754"
      },
      "source": [
        "#Ajuste\n",
        "#Série novas é mantida inalterada\n",
        "#Série 1 é ajustada com base no ano/período de encontro das duas séries (1975)\n",
        "serie1N = [round(serie1[k] / serie1[-1] * serie2[0]) for\n",
        "           k in range(0, len(serie1))]\n",
        "serie1N"
      ],
      "execution_count": 27,
      "outputs": [
        {
          "output_type": "execute_result",
          "data": {
            "text/plain": [
              "[50, 45, 54, 80, 98, 100]"
            ]
          },
          "metadata": {
            "tags": []
          },
          "execution_count": 27
        }
      ]
    },
    {
      "cell_type": "code",
      "metadata": {
        "id": "xAg9o470WGp8",
        "colab": {
          "base_uri": "https://localhost:8080/"
        },
        "outputId": "c6cd6044-0ca0-4420-e4d6-1cfcf04a609b"
      },
      "source": [
        "anos_serieN = list(range(1970, 1981))\n",
        "serieN = serie1N[:-1] + serie2\n",
        "\n",
        "\n",
        "print('Série Completa')\n",
        "print('Ano ', 'Índice', sep=' : ')\n",
        "for k in range(0, len(serieN)):\n",
        "  print(anos_serieN[k],\n",
        "        serieN[k],\n",
        "        sep=' : ')"
      ],
      "execution_count": 28,
      "outputs": [
        {
          "output_type": "stream",
          "text": [
            "Série Completa\n",
            "Ano  : Índice\n",
            "1970 : 50\n",
            "1971 : 45\n",
            "1972 : 54\n",
            "1973 : 80\n",
            "1974 : 98\n",
            "1975 : 100\n",
            "1976 : 120\n",
            "1977 : 160\n",
            "1978 : 210\n",
            "1979 : 240\n",
            "1980 : 250\n"
          ],
          "name": "stdout"
        }
      ]
    },
    {
      "cell_type": "markdown",
      "metadata": {
        "id": "sEqq3KmLY2kT"
      },
      "source": [
        "#3 **Deflatores e poder aquisitivo**"
      ]
    },
    {
      "cell_type": "code",
      "metadata": {
        "id": "oSYF4sJ-Y5LK",
        "colab": {
          "base_uri": "https://localhost:8080/"
        },
        "outputId": "ada18fbf-2661-464b-d5a4-ce89883022ee"
      },
      "source": [
        "anos = list(range(1975, 1981))\n",
        "faturamento = [1600000,\n",
        "               1800000,\n",
        "               2400000,\n",
        "               2800000,\n",
        "               3000000,\n",
        "               3200000]\n",
        "indice_precos = [100, 120, 150, 160, 180, 187]\n",
        "\n",
        "print('Faturamento - Valores nominais')\n",
        "print('Ano ',\n",
        "      'Valor  ',\n",
        "      'Índice de Preços',\n",
        "      sep=' : ')\n",
        "\n",
        "for k in range(0, len(anos)):\n",
        "  print(anos[k],\n",
        "        faturamento[k],\n",
        "        indice_precos[k],\n",
        "        sep=' : ')"
      ],
      "execution_count": 29,
      "outputs": [
        {
          "output_type": "stream",
          "text": [
            "Faturamento - Valores nominais\n",
            "Ano  : Valor   : Índice de Preços\n",
            "1975 : 1600000 : 100\n",
            "1976 : 1800000 : 120\n",
            "1977 : 2400000 : 150\n",
            "1978 : 2800000 : 160\n",
            "1979 : 3000000 : 180\n",
            "1980 : 3200000 : 187\n"
          ],
          "name": "stdout"
        }
      ]
    },
    {
      "cell_type": "code",
      "metadata": {
        "id": "4XF9TUhHabRi",
        "colab": {
          "base_uri": "https://localhost:8080/"
        },
        "outputId": "0add1ead-559f-45f4-def1-ac7a92e5aed6"
      },
      "source": [
        "\"\"\"\n",
        "Calculando preço deflacionado\n",
        "Definido o ano base para deflacionamento, fazemos o seguinte:\n",
        "* (valor / indice_atual) * indice_base:\n",
        "  valor = valor a ser deflacionado\n",
        "  indice_atual = indice do período relativo ao valor a ser deflacionado\n",
        "  indice_base = indice do período escolhido como base\n",
        "\"\"\"\n",
        "fat_deflacionado = [(faturamento[k] / indice_precos[k]) * indice_precos[0] for\n",
        "    k in range(0, len(anos))]\n",
        "\n",
        "print(f'Faturamento - Falores deflacionados com base em {indice_precos[0]}')\n",
        "print('Ano ',\n",
        "      'Valor  ',\n",
        "      'Índice de Preços',\n",
        "      sep=' : ')\n",
        "\n",
        "for k in range(0, len(anos)):\n",
        "  print(anos[k],\n",
        "        round(fat_deflacionado[k]),\n",
        "        indice_precos[k],\n",
        "        sep=' : ')"
      ],
      "execution_count": 30,
      "outputs": [
        {
          "output_type": "stream",
          "text": [
            "Faturamento - Falores deflacionados com base em 100\n",
            "Ano  : Valor   : Índice de Preços\n",
            "1975 : 1600000 : 100\n",
            "1976 : 1500000 : 120\n",
            "1977 : 1600000 : 150\n",
            "1978 : 1750000 : 160\n",
            "1979 : 1666667 : 180\n",
            "1980 : 1711230 : 187\n"
          ],
          "name": "stdout"
        }
      ]
    },
    {
      "cell_type": "code",
      "metadata": {
        "id": "gX2fT3aZk-6D",
        "colab": {
          "base_uri": "https://localhost:8080/",
          "height": 0
        },
        "outputId": "ab9b007d-7fee-4514-9f21-f2d5ea8bb59c"
      },
      "source": [
        "plt.plot(faturamento, color='b', alpha=0.9)\n",
        "plt.plot(fat_deflacionado, color='g', alpha=0.9)\n",
        "plt.legend(['Original', 'Deflacionado'])\n",
        "plt.yticks([0, 1000000, 2000000, 3000000])\n",
        "plt.xticks([])\n",
        "plt.title('')\n",
        "plt.ylabel('Valore em Milhões')\n",
        "plt.xlabel('Anos')\n",
        "sns.despine()"
      ],
      "execution_count": 31,
      "outputs": [
        {
          "output_type": "display_data",
          "data": {
            "image/png": "[encoded data removed]",
            "text/plain": [
              "<Figure size 432x288 with 1 Axes>"
            ]
          },
          "metadata": {
            "tags": [],
            "needs_background": "light"
          }
        }
      ]
    },
    {
      "cell_type": "code",
      "metadata": {
        "id": "VppjuRLLbgYP",
        "colab": {
          "base_uri": "https://localhost:8080/"
        },
        "outputId": "70246d34-ddf4-40fb-c08c-d12863b8ea5e"
      },
      "source": [
        "\"\"\"\n",
        "Cálculo de evolução real do faturamento\n",
        "Definido o ano base para deflacionamento, fazemos o seguinte:\n",
        "* (valor_atual_deflacionado / valor base) * 100\n",
        "\"\"\"\n",
        "evolucao_real = [fat_deflacionado[k] / fat_deflacionado[0] * 100 for\n",
        "                k in range(0, len(anos))]\n",
        "\n",
        "evolucao_real"
      ],
      "execution_count": 32,
      "outputs": [
        {
          "output_type": "execute_result",
          "data": {
            "text/plain": [
              "[100.0, 93.75, 100.0, 109.375, 104.16666666666667, 106.951871657754]"
            ]
          },
          "metadata": {
            "tags": []
          },
          "execution_count": 32
        }
      ]
    },
    {
      "cell_type": "code",
      "metadata": {
        "id": "PKWINz1npoYD",
        "colab": {
          "base_uri": "https://localhost:8080/",
          "height": 0
        },
        "outputId": "1eb33e9e-0603-471f-85d5-d142652ddfe9"
      },
      "source": [
        "plt.plot(evolucao_real, color='orange', alpha=0.9)\n",
        "plt.plot([100 for k in range(0, len(anos))], color='gray', ls=':')\n",
        "plt.legend(['Evolução', '100%'])\n",
        "plt.ylim((50, 150))\n",
        "plt.yticks([])\n",
        "plt.xticks([])\n",
        "plt.title('')\n",
        "plt.title('Evolução real do faturamento')\n",
        "plt.ylabel('Evolução')\n",
        "plt.xlabel('Anos')\n",
        "sns.despine()"
      ],
      "execution_count": 33,
      "outputs": [
        {
          "output_type": "display_data",
          "data": {
            "image/png": "[encoded data removed]",
            "text/plain": [
              "<Figure size 432x288 with 1 Axes>"
            ]
          },
          "metadata": {
            "tags": []
          }
        }
      ]
    },
    {
      "cell_type": "code",
      "metadata": {
        "id": "EEJbG2amqzHq",
        "colab": {
          "base_uri": "https://localhost:8080/",
          "height": 0
        },
        "outputId": "ce50e56c-52c2-4db4-89c1-0f69451e4524"
      },
      "source": [
        "plt.bar(anos, height=faturamento, alpha=0.9)\n",
        "plt.bar(anos, fat_deflacionado, alpha=0.9)\n",
        "plt.legend(['Original', 'Deflacionado'])\n",
        "plt.yticks([0, 1000000, 2000000, 3000000])\n",
        "plt.title('Faturamento Original e Deflacionado')\n",
        "plt.ylabel('Valore em Milhões')\n",
        "sns.despine()"
      ],
      "execution_count": 34,
      "outputs": [
        {
          "output_type": "display_data",
          "data": {
            "image/png": "[encoded data removed]",
            "text/plain": [
              "<Figure size 432x288 with 1 Axes>"
            ]
          },
          "metadata": {
            "tags": [],
            "needs_background": "light"
          }
        }
      ]
    },
    {
      "cell_type": "markdown",
      "metadata": {
        "id": "6G-7-wfePM1K"
      },
      "source": [
        "#4 **Correlação e regressão**\n",
        "\n",
        "Referência: TOLEDO, Geraldo Luciano e OVALLE, Ivo Izidório (1985) Estatítisca Básica. São Paulo: Atlas\n",
        "\n",
        "Detalhes no capítulo 8 do livro\n"
      ]
    },
    {
      "cell_type": "markdown",
      "metadata": {
        "id": "o3f3t91FYdbW"
      },
      "source": [
        "##4.1 Correlação linear simples"
      ]
    },
    {
      "cell_type": "markdown",
      "metadata": {
        "id": "uiSQ8dEVfoae"
      },
      "source": [
        "* Relação entre variáveis X e Y através da disposição dos pontos (X, Y) em torno de uma reta\n",
        "* Faixa de valores -1 e 1\n",
        "\n",
        "---\n",
        "\n",
        "Tipos de correlação linear:\n",
        "* Correlação positiva: quando valores crescentes de X correspondem a valores crescentes de Y\n",
        "* Perfeita positiva: quando além de crescentes, os pontos (X, Y) estão perfeitamente alinhados, rXY = 1\n",
        "* Correlação negativa: quando valores crescentes de Y correspondem a valores decrescentes de Y\n",
        "* Perfeita negativa: quando além de decrescentes, os pontos (X, Y) estão perfeitamente alinhados, rXY = -1\n",
        "* Correlação nula: quando não houver relação entre X e Y\n",
        "* ***Correlação espúria***: quando variáveis X e Y POSSUÍREM CORRELAÇÃO, mesmo sendo INDEPENDENTES entre si.\n",
        "\n",
        "\n",
        "![Corr](https://upload.wikimedia.org/wikipedia/commons/thumb/d/d4/Correlation_examples2.svg/506px-Correlation_examples2.svg.png)\n",
        "\n",
        "Exemplos de coeficiente de correlção (Wikipedia)"
      ]
    },
    {
      "cell_type": "markdown",
      "metadata": {
        "id": "pBz474DoKFqa"
      },
      "source": [
        "A correlação linear simples entre duas variáveis aleatórias $X$ e $Y$ é dada pela equação abaixo:\n",
        "\n",
        "$\n",
        "r_{XY} = \\frac{\\sum XY -\\frac{(\\sum X)(\\sum Y)}{n}}{\\sqrt{[\\sum X^2 - \\frac{(\\sum X)^2}{n}][\\sum Y^2 - \\frac{(\\sum Y)^2}{n}]} }\n",
        "$\n",
        "\n",
        "Onde: $n$ é o número de observações."
      ]
    },
    {
      "cell_type": "code",
      "metadata": {
        "id": "6udr5huRPZJy"
      },
      "source": [
        "\"\"\"\n",
        "Adaptação da equação para cáclulo manual em Python:\n",
        "##ATENÇÃO: Não usaremos este cálculo porque não é eficiente, ao invés disso\n",
        "usaremos um método embutido na biblioteca pandas.\n",
        "\n",
        "rXY = (\n",
        "  soma(XY) - (soma(X) * soma(Y)) / n)\n",
        "  /\n",
        "  sqrt(\n",
        "    abs(\n",
        "      soma(X ** 2)\n",
        "      - \n",
        "      (soma(X)) ** 2 / n\n",
        "      )\n",
        "    *\n",
        "    abs(\n",
        "      soma(Y ** 2)\n",
        "      -\n",
        "      (soma(Y)) ** 2 / n\n",
        "      )\n",
        "    )\n",
        "\n",
        "Faturamento - Valores nominais\n",
        "Ano  : Valor   : Índice de Preços\n",
        "1975 : 1600000 : 100\n",
        "1976 : 1800000 : 120\n",
        "1977 : 2400000 : 150\n",
        "1978 : 2800000 : 160\n",
        "1979 : 3000000 : 180\n",
        "1980 : 3200000 : 187\n",
        "\n",
        "\n",
        "Faturamento - Falores deflacionados com base em 100\n",
        "Ano  : Valor   : Índice de Preços\n",
        "1975 : 1600000 : 100\n",
        "1976 : 1500000 : 120\n",
        "1977 : 1600000 : 150\n",
        "1978 : 1750000 : 160\n",
        "1979 : 1666667 : 180\n",
        "1980 : 1711230 : 187\n",
        "\"\"\"\n",
        "faturamento = pd.Series([1600000,\n",
        "               1800000,\n",
        "               2400000,\n",
        "               2800000,\n",
        "               3000000,\n",
        "               3200000])\n",
        "\n",
        "indice_precos = [100, 120, 150, 160, 180, 187]\n",
        "\n",
        "fat_deflacionado = [(faturamento[k] / indice_precos[k]) * indice_precos[0] for\n",
        "    k in range(0, len(faturamento))]\n",
        "\n",
        "fat_deflacionado = pd.Series(fat_deflacionado)"
      ],
      "execution_count": 35,
      "outputs": []
    },
    {
      "cell_type": "code",
      "metadata": {
        "id": "CtpcmdX7abiJ",
        "colab": {
          "base_uri": "https://localhost:8080/"
        },
        "outputId": "5d1fc836-b788-48ab-fbd4-0a6cb03e11bd"
      },
      "source": [
        "#Calcular a correlação com base função embutida de Series da biblioteca Pandas\n",
        "print('Correlação entre faturamento e faturamento deflacionado:',\n",
        "      faturamento.corr(fat_deflacionado),\n",
        "      sep='\\n')"
      ],
      "execution_count": 36,
      "outputs": [
        {
          "output_type": "stream",
          "text": [
            "Correlação entre faturamento e faturamento deflacionado:\n",
            "0.7938022410213701\n"
          ],
          "name": "stdout"
        }
      ]
    },
    {
      "cell_type": "code",
      "metadata": {
        "id": "jOmS7sBtaxMB",
        "colab": {
          "base_uri": "https://localhost:8080/",
          "height": 0
        },
        "outputId": "85072ba9-695d-4cd8-aad3-5cf90b047fcb"
      },
      "source": [
        "plt.scatter(faturamento,\n",
        "            fat_deflacionado)\n",
        "\n",
        "plt.title('Dispersão de faturamento e faturamento deflacionado')\n",
        "\n",
        "plt.xticks([])\n",
        "plt.yticks([])\n",
        "\n",
        "sns.despine()"
      ],
      "execution_count": 37,
      "outputs": [
        {
          "output_type": "display_data",
          "data": {
            "image/png": "[encoded data removed]",
            "text/plain": [
              "<Figure size 432x288 with 1 Axes>"
            ]
          },
          "metadata": {
            "tags": []
          }
        }
      ]
    },
    {
      "cell_type": "code",
      "metadata": {
        "id": "KD7yb_j8b6q6",
        "colab": {
          "base_uri": "https://localhost:8080/",
          "height": 0
        },
        "outputId": "437632bb-2c51-4e28-81b7-e13b67084079"
      },
      "source": [
        "\"\"\"\n",
        "Exemplo\n",
        "Dados socio-econômicos de famílias\n",
        "\"\"\"\n",
        "colunas = ['FAMILIA', 'RENDA', 'POUPANCA', 'FILHOS', 'ANOS_ESTUDO']\n",
        "\n",
        "familias = pd.DataFrame({'d1': list('ABCDEFGHIJ'),\n",
        "                        'd2': [10, 15, 12, 70, 80,\n",
        "                               100, 20, 30, 10, 60],\n",
        "                        'd3': [4, 7, 5, 20, 20,\n",
        "                               30, 8, 8, 3, 15],\n",
        "                        'd4': [8, 6, 5, 1, 2,\n",
        "                               2, 3, 2, 6, 1],\n",
        "                        'd5': [3, 4, 5, 12, 16,\n",
        "                               18, 8, 8, 4, 8]\n",
        "                         })\n",
        "familias.columns = colunas\n",
        "\n",
        "familias"
      ],
      "execution_count": 38,
      "outputs": [
        {
          "output_type": "execute_result",
          "data": {
            "text/html": [
              "<div>\n",
              "<style scoped>\n",
              "    .dataframe tbody tr th:only-of-type {\n",
              "        vertical-align: middle;\n",
              "    }\n",
              "\n",
              "    .dataframe tbody tr th {\n",
              "        vertical-align: top;\n",
              "    }\n",
              "\n",
              "    .dataframe thead th {\n",
              "        text-align: right;\n",
              "    }\n",
              "</style>\n",
              "<table border=\"1\" class=\"dataframe\">\n",
              "  <thead>\n",
              "    <tr style=\"text-align: right;\">\n",
              "      <th></th>\n",
              "      <th>FAMILIA</th>\n",
              "      <th>RENDA</th>\n",
              "      <th>POUPANCA</th>\n",
              "      <th>FILHOS</th>\n",
              "      <th>ANOS_ESTUDO</th>\n",
              "    </tr>\n",
              "  </thead>\n",
              "  <tbody>\n",
              "    <tr>\n",
              "      <th>0</th>\n",
              "      <td>A</td>\n",
              "      <td>10</td>\n",
              "      <td>4</td>\n",
              "      <td>8</td>\n",
              "      <td>3</td>\n",
              "    </tr>\n",
              "    <tr>\n",
              "      <th>1</th>\n",
              "      <td>B</td>\n",
              "      <td>15</td>\n",
              "      <td>7</td>\n",
              "      <td>6</td>\n",
              "      <td>4</td>\n",
              "    </tr>\n",
              "    <tr>\n",
              "      <th>2</th>\n",
              "      <td>C</td>\n",
              "      <td>12</td>\n",
              "      <td>5</td>\n",
              "      <td>5</td>\n",
              "      <td>5</td>\n",
              "    </tr>\n",
              "    <tr>\n",
              "      <th>3</th>\n",
              "      <td>D</td>\n",
              "      <td>70</td>\n",
              "      <td>20</td>\n",
              "      <td>1</td>\n",
              "      <td>12</td>\n",
              "    </tr>\n",
              "    <tr>\n",
              "      <th>4</th>\n",
              "      <td>E</td>\n",
              "      <td>80</td>\n",
              "      <td>20</td>\n",
              "      <td>2</td>\n",
              "      <td>16</td>\n",
              "    </tr>\n",
              "    <tr>\n",
              "      <th>5</th>\n",
              "      <td>F</td>\n",
              "      <td>100</td>\n",
              "      <td>30</td>\n",
              "      <td>2</td>\n",
              "      <td>18</td>\n",
              "    </tr>\n",
              "    <tr>\n",
              "      <th>6</th>\n",
              "      <td>G</td>\n",
              "      <td>20</td>\n",
              "      <td>8</td>\n",
              "      <td>3</td>\n",
              "      <td>8</td>\n",
              "    </tr>\n",
              "    <tr>\n",
              "      <th>7</th>\n",
              "      <td>H</td>\n",
              "      <td>30</td>\n",
              "      <td>8</td>\n",
              "      <td>2</td>\n",
              "      <td>8</td>\n",
              "    </tr>\n",
              "    <tr>\n",
              "      <th>8</th>\n",
              "      <td>I</td>\n",
              "      <td>10</td>\n",
              "      <td>3</td>\n",
              "      <td>6</td>\n",
              "      <td>4</td>\n",
              "    </tr>\n",
              "    <tr>\n",
              "      <th>9</th>\n",
              "      <td>J</td>\n",
              "      <td>60</td>\n",
              "      <td>15</td>\n",
              "      <td>1</td>\n",
              "      <td>8</td>\n",
              "    </tr>\n",
              "  </tbody>\n",
              "</table>\n",
              "</div>"
            ],
            "text/plain": [
              "  FAMILIA  RENDA  POUPANCA  FILHOS  ANOS_ESTUDO\n",
              "0       A     10         4       8            3\n",
              "1       B     15         7       6            4\n",
              "2       C     12         5       5            5\n",
              "3       D     70        20       1           12\n",
              "4       E     80        20       2           16\n",
              "5       F    100        30       2           18\n",
              "6       G     20         8       3            8\n",
              "7       H     30         8       2            8\n",
              "8       I     10         3       6            4\n",
              "9       J     60        15       1            8"
            ]
          },
          "metadata": {
            "tags": []
          },
          "execution_count": 38
        }
      ]
    },
    {
      "cell_type": "code",
      "metadata": {
        "id": "7100rF17nbgu",
        "colab": {
          "base_uri": "https://localhost:8080/",
          "height": 0
        },
        "outputId": "e9959da2-5720-403c-a83e-a3446b5764f2"
      },
      "source": [
        "familias.describe()"
      ],
      "execution_count": 39,
      "outputs": [
        {
          "output_type": "execute_result",
          "data": {
            "text/html": [
              "<div>\n",
              "<style scoped>\n",
              "    .dataframe tbody tr th:only-of-type {\n",
              "        vertical-align: middle;\n",
              "    }\n",
              "\n",
              "    .dataframe tbody tr th {\n",
              "        vertical-align: top;\n",
              "    }\n",
              "\n",
              "    .dataframe thead th {\n",
              "        text-align: right;\n",
              "    }\n",
              "</style>\n",
              "<table border=\"1\" class=\"dataframe\">\n",
              "  <thead>\n",
              "    <tr style=\"text-align: right;\">\n",
              "      <th></th>\n",
              "      <th>RENDA</th>\n",
              "      <th>POUPANCA</th>\n",
              "      <th>FILHOS</th>\n",
              "      <th>ANOS_ESTUDO</th>\n",
              "    </tr>\n",
              "  </thead>\n",
              "  <tbody>\n",
              "    <tr>\n",
              "      <th>count</th>\n",
              "      <td>10.000000</td>\n",
              "      <td>10.000000</td>\n",
              "      <td>10.000000</td>\n",
              "      <td>10.000000</td>\n",
              "    </tr>\n",
              "    <tr>\n",
              "      <th>mean</th>\n",
              "      <td>40.700000</td>\n",
              "      <td>12.000000</td>\n",
              "      <td>3.600000</td>\n",
              "      <td>8.600000</td>\n",
              "    </tr>\n",
              "    <tr>\n",
              "      <th>std</th>\n",
              "      <td>33.671782</td>\n",
              "      <td>8.894443</td>\n",
              "      <td>2.458545</td>\n",
              "      <td>5.189733</td>\n",
              "    </tr>\n",
              "    <tr>\n",
              "      <th>min</th>\n",
              "      <td>10.000000</td>\n",
              "      <td>3.000000</td>\n",
              "      <td>1.000000</td>\n",
              "      <td>3.000000</td>\n",
              "    </tr>\n",
              "    <tr>\n",
              "      <th>25%</th>\n",
              "      <td>12.750000</td>\n",
              "      <td>5.500000</td>\n",
              "      <td>2.000000</td>\n",
              "      <td>4.250000</td>\n",
              "    </tr>\n",
              "    <tr>\n",
              "      <th>50%</th>\n",
              "      <td>25.000000</td>\n",
              "      <td>8.000000</td>\n",
              "      <td>2.500000</td>\n",
              "      <td>8.000000</td>\n",
              "    </tr>\n",
              "    <tr>\n",
              "      <th>75%</th>\n",
              "      <td>67.500000</td>\n",
              "      <td>18.750000</td>\n",
              "      <td>5.750000</td>\n",
              "      <td>11.000000</td>\n",
              "    </tr>\n",
              "    <tr>\n",
              "      <th>max</th>\n",
              "      <td>100.000000</td>\n",
              "      <td>30.000000</td>\n",
              "      <td>8.000000</td>\n",
              "      <td>18.000000</td>\n",
              "    </tr>\n",
              "  </tbody>\n",
              "</table>\n",
              "</div>"
            ],
            "text/plain": [
              "            RENDA   POUPANCA     FILHOS  ANOS_ESTUDO\n",
              "count   10.000000  10.000000  10.000000    10.000000\n",
              "mean    40.700000  12.000000   3.600000     8.600000\n",
              "std     33.671782   8.894443   2.458545     5.189733\n",
              "min     10.000000   3.000000   1.000000     3.000000\n",
              "25%     12.750000   5.500000   2.000000     4.250000\n",
              "50%     25.000000   8.000000   2.500000     8.000000\n",
              "75%     67.500000  18.750000   5.750000    11.000000\n",
              "max    100.000000  30.000000   8.000000    18.000000"
            ]
          },
          "metadata": {
            "tags": []
          },
          "execution_count": 39
        }
      ]
    },
    {
      "cell_type": "code",
      "metadata": {
        "id": "3UzdJZgjilY5",
        "colab": {
          "base_uri": "https://localhost:8080/"
        },
        "outputId": "d3b30ec7-cd4e-417f-c870-fbfbe5c761e3"
      },
      "source": [
        "#Cálculo da correlação\n",
        "corr1 = familias['RENDA'].corr(familias['POUPANCA'])\n",
        "corr2 = familias['RENDA'].corr(familias['FILHOS'])\n",
        "corr3 = familias['RENDA'].corr(familias['ANOS_ESTUDO'])\n",
        "\n",
        "print(corr1, corr2, corr3)"
      ],
      "execution_count": 40,
      "outputs": [
        {
          "output_type": "stream",
          "text": [
            "0.9835181477979665 -0.7586043877252923 0.947271146722697\n"
          ],
          "name": "stdout"
        }
      ]
    },
    {
      "cell_type": "code",
      "metadata": {
        "id": "-eUooLeqmeoc",
        "colab": {
          "base_uri": "https://localhost:8080/",
          "height": 0
        },
        "outputId": "a6d346e2-dc43-443e-c689-0aef122563bd"
      },
      "source": [
        "#Demonstração gráfica\n",
        "plt.scatter(familias['RENDA'],\n",
        "            familias['POUPANCA'])\n",
        "plt.title('Dispersão entre Renda Familiar e Poupança')\n",
        "plt.xticks([])\n",
        "plt.yticks([])\n",
        "sns.despine()"
      ],
      "execution_count": 41,
      "outputs": [
        {
          "output_type": "display_data",
          "data": {
            "image/png": "[encoded data removed]",
            "text/plain": [
              "<Figure size 432x288 with 1 Axes>"
            ]
          },
          "metadata": {
            "tags": []
          }
        }
      ]
    },
    {
      "cell_type": "code",
      "metadata": {
        "id": "i_xviYSum3WR",
        "colab": {
          "base_uri": "https://localhost:8080/",
          "height": 0
        },
        "outputId": "c3264aad-b3c7-43b5-9b4e-4dce895bcd1e"
      },
      "source": [
        "\"\"\"\n",
        "Análise dos dados de exemplo em um visual de dashboard\n",
        "\"\"\"\n",
        "#Plotando um gráfico na primeira área do painel\n",
        "#Criando área do painel\n",
        "fig, axes = plt.subplots(2, 2)\n",
        "fig.set_figwidth(14)\n",
        "fig.set_figheight(8)\n",
        "\n",
        "#Plotando primeiro gráfico\n",
        "axes[0, 0].scatter(familias['RENDA'],\n",
        "            familias['POUPANCA'])\n",
        "axes[0, 0].set_title('Renda X Poupança', fontsize='small')\n",
        "axes[0, 0].set_xticks([])\n",
        "axes[0, 0].set_yticks([])\n",
        "\n",
        "#Plotando segundo gráfico\n",
        "axes[0, 1].scatter(familias['POUPANCA'], familias['ANOS_ESTUDO'],\n",
        "                   color='orange')\n",
        "axes[0, 1].set_title('Poupança X Anos Estudo', fontsize='small')\n",
        "axes[0, 1].set_xticks([])\n",
        "axes[0, 1].set_yticks([])\n",
        "\n",
        "#Plotando terceiro gráfico\n",
        "axes[1, 0].scatter(familias['FILHOS'], familias['POUPANCA'],\n",
        "                   color='r', alpha=0.5)\n",
        "axes[1, 0].set_title('Filhos X Poupança', fontsize='small')\n",
        "axes[1, 0].set_xticks([])\n",
        "axes[1, 0].set_yticks([])\n",
        "\n",
        "#Plotando quarto gráfico\n",
        "axes[1, 1].scatter(familias['RENDA'], familias['ANOS_ESTUDO'],\n",
        "                   color='g', alpha=0.7)\n",
        "axes[1, 1].set_title('Renda X Anos Estudo', fontsize='small')\n",
        "axes[1, 1].set_xticks([])\n",
        "axes[1, 1].set_yticks([])\n",
        "\n",
        "#Ajutes gerais\n",
        "sns.despine()\n",
        "plt.subplots_adjust(hspace=0.25)"
      ],
      "execution_count": 42,
      "outputs": [
        {
          "output_type": "display_data",
          "data": {
            "image/png": "[encoded data removed]",
            "text/plain": [
              "<Figure size 1008x576 with 4 Axes>"
            ]
          },
          "metadata": {
            "tags": []
          }
        }
      ]
    },
    {
      "cell_type": "markdown",
      "metadata": {
        "id": "VmOKaiShrDuo"
      },
      "source": [
        "##4.2 **Correlação Ordinal** (Coeficiente de Spearman)\n",
        "\n",
        "Considera as posições que valores das variáveis ocupam quando ordenados na forma crescente ou decrescente"
      ]
    },
    {
      "cell_type": "code",
      "metadata": {
        "id": "rYSvLj62rSwT",
        "colab": {
          "base_uri": "https://localhost:8080/"
        },
        "outputId": "56b8eaa6-030c-4f76-f940-6885cd09de36"
      },
      "source": [
        "\"\"\"\n",
        "Coeficiente de Spearman\n",
        "rs = 1 - ((6 * soma(dj ** 2)) / (n(n ** 2 - 1)))\n",
        "Onde:\n",
        "dj = diferença entre um i-ésimo par\n",
        "n = observações\n",
        "\"\"\"\n",
        "#Cálculo a partir da função da biblioteca scipy módulo stats\n",
        "spearmanr(familias['RENDA'], familias['POUPANCA'])"
      ],
      "execution_count": 43,
      "outputs": [
        {
          "output_type": "execute_result",
          "data": {
            "text/plain": [
              "SpearmanrResult(correlation=0.990830321206772, pvalue=3.059198730818556e-08)"
            ]
          },
          "metadata": {
            "tags": []
          },
          "execution_count": 43
        }
      ]
    },
    {
      "cell_type": "code",
      "metadata": {
        "id": "rbcNpx-ns1p_",
        "colab": {
          "base_uri": "https://localhost:8080/"
        },
        "outputId": "8d395306-1807-498e-c6bd-ff6a1c1969f2"
      },
      "source": [
        "s = spearmanr(familias['RENDA'], familias['POUPANCA'])[0]\n",
        "s"
      ],
      "execution_count": 44,
      "outputs": [
        {
          "output_type": "execute_result",
          "data": {
            "text/plain": [
              "0.990830321206772"
            ]
          },
          "metadata": {
            "tags": []
          },
          "execution_count": 44
        }
      ]
    },
    {
      "cell_type": "code",
      "metadata": {
        "id": "7ysUb0kGtein",
        "colab": {
          "base_uri": "https://localhost:8080/",
          "height": 421
        },
        "outputId": "7f1c6466-6647-4002-f0c8-76ed9d865e57"
      },
      "source": [
        "\"\"\"\n",
        "Exemplo\n",
        "Classificação em uma avaliação e QI\n",
        "\"\"\"\n",
        "avaliacao = pd.DataFrame({'NOME': list('ABCDEFGHIJKL'),\n",
        "                        'RANK': [5, 2, 6, 1, 8, 9, 7, 3, 11, 10, 12, 4],\n",
        "                        'QI': [100, 90, 80, 130, 100,\n",
        "                               100, 110, 120, 90, 120, 110, 140],\n",
        "                         })\n",
        "\n",
        "avaliacao"
      ],
      "execution_count": 45,
      "outputs": [
        {
          "output_type": "execute_result",
          "data": {
            "text/html": [
              "<div>\n",
              "<style scoped>\n",
              "    .dataframe tbody tr th:only-of-type {\n",
              "        vertical-align: middle;\n",
              "    }\n",
              "\n",
              "    .dataframe tbody tr th {\n",
              "        vertical-align: top;\n",
              "    }\n",
              "\n",
              "    .dataframe thead th {\n",
              "        text-align: right;\n",
              "    }\n",
              "</style>\n",
              "<table border=\"1\" class=\"dataframe\">\n",
              "  <thead>\n",
              "    <tr style=\"text-align: right;\">\n",
              "      <th></th>\n",
              "      <th>NOME</th>\n",
              "      <th>RANK</th>\n",
              "      <th>QI</th>\n",
              "    </tr>\n",
              "  </thead>\n",
              "  <tbody>\n",
              "    <tr>\n",
              "      <th>0</th>\n",
              "      <td>A</td>\n",
              "      <td>5</td>\n",
              "      <td>100</td>\n",
              "    </tr>\n",
              "    <tr>\n",
              "      <th>1</th>\n",
              "      <td>B</td>\n",
              "      <td>2</td>\n",
              "      <td>90</td>\n",
              "    </tr>\n",
              "    <tr>\n",
              "      <th>2</th>\n",
              "      <td>C</td>\n",
              "      <td>6</td>\n",
              "      <td>80</td>\n",
              "    </tr>\n",
              "    <tr>\n",
              "      <th>3</th>\n",
              "      <td>D</td>\n",
              "      <td>1</td>\n",
              "      <td>130</td>\n",
              "    </tr>\n",
              "    <tr>\n",
              "      <th>4</th>\n",
              "      <td>E</td>\n",
              "      <td>8</td>\n",
              "      <td>100</td>\n",
              "    </tr>\n",
              "    <tr>\n",
              "      <th>5</th>\n",
              "      <td>F</td>\n",
              "      <td>9</td>\n",
              "      <td>100</td>\n",
              "    </tr>\n",
              "    <tr>\n",
              "      <th>6</th>\n",
              "      <td>G</td>\n",
              "      <td>7</td>\n",
              "      <td>110</td>\n",
              "    </tr>\n",
              "    <tr>\n",
              "      <th>7</th>\n",
              "      <td>H</td>\n",
              "      <td>3</td>\n",
              "      <td>120</td>\n",
              "    </tr>\n",
              "    <tr>\n",
              "      <th>8</th>\n",
              "      <td>I</td>\n",
              "      <td>11</td>\n",
              "      <td>90</td>\n",
              "    </tr>\n",
              "    <tr>\n",
              "      <th>9</th>\n",
              "      <td>J</td>\n",
              "      <td>10</td>\n",
              "      <td>120</td>\n",
              "    </tr>\n",
              "    <tr>\n",
              "      <th>10</th>\n",
              "      <td>K</td>\n",
              "      <td>12</td>\n",
              "      <td>110</td>\n",
              "    </tr>\n",
              "    <tr>\n",
              "      <th>11</th>\n",
              "      <td>L</td>\n",
              "      <td>4</td>\n",
              "      <td>140</td>\n",
              "    </tr>\n",
              "  </tbody>\n",
              "</table>\n",
              "</div>"
            ],
            "text/plain": [
              "   NOME  RANK   QI\n",
              "0     A     5  100\n",
              "1     B     2   90\n",
              "2     C     6   80\n",
              "3     D     1  130\n",
              "4     E     8  100\n",
              "5     F     9  100\n",
              "6     G     7  110\n",
              "7     H     3  120\n",
              "8     I    11   90\n",
              "9     J    10  120\n",
              "10    K    12  110\n",
              "11    L     4  140"
            ]
          },
          "metadata": {
            "tags": []
          },
          "execution_count": 45
        }
      ]
    },
    {
      "cell_type": "code",
      "metadata": {
        "id": "UyMY2R2quDwT",
        "colab": {
          "base_uri": "https://localhost:8080/"
        },
        "outputId": "4e68e5f3-de9c-4f28-bf97-3b8e1d4b03cf"
      },
      "source": [
        "spearmanr(avaliacao['RANK'], avaliacao['QI'])"
      ],
      "execution_count": 46,
      "outputs": [
        {
          "output_type": "execute_result",
          "data": {
            "text/plain": [
              "SpearmanrResult(correlation=-0.23718634595814242, pvalue=0.4579244330327443)"
            ]
          },
          "metadata": {
            "tags": []
          },
          "execution_count": 46
        }
      ]
    },
    {
      "cell_type": "code",
      "metadata": {
        "id": "OTFyqrSiug71",
        "colab": {
          "base_uri": "https://localhost:8080/",
          "height": 268
        },
        "outputId": "675a90dd-5c65-4763-d050-311d4bf6c3c3"
      },
      "source": [
        "#Demonstração gráfica\n",
        "plt.scatter(avaliacao['RANK'], avaliacao['QI'])\n",
        "plt.title('Dispersão entre Rank e QI')\n",
        "plt.xticks([])\n",
        "plt.yticks([])\n",
        "sns.despine()"
      ],
      "execution_count": 47,
      "outputs": [
        {
          "output_type": "display_data",
          "data": {
            "image/png": "[encoded data removed]",
            "text/plain": [
              "<Figure size 432x288 with 1 Axes>"
            ]
          },
          "metadata": {
            "tags": []
          }
        }
      ]
    },
    {
      "cell_type": "code",
      "metadata": {
        "id": "OY1ZMKo-unZ9",
        "colab": {
          "base_uri": "https://localhost:8080/",
          "height": 421
        },
        "outputId": "541afebc-f2f6-4b8d-a378-60065c58cf9c"
      },
      "source": [
        "\"\"\"\n",
        "Exemplo\n",
        "Inflação e custo importação de petróleo\n",
        "\"\"\"\n",
        "datas = pd.date_range('1978-04-01', periods=12, freq='BM')\n",
        "petroleo = pd.DataFrame({'DATA': datas,\n",
        "                        'INFLACAO': [100., 103.2, 107.4, 111.3, 114., 116.3,\n",
        "                                     119.3, 122.2, 124.2, 129.9, 135.5, 141.6],\n",
        "                        'CUSTO_PETROLEO': [19656,\n",
        "                                           19391,\n",
        "                                           20262,\n",
        "                                           20000,\n",
        "                                           20149,\n",
        "                                           20581,\n",
        "                                           20937,\n",
        "                                           21273,\n",
        "                                           22517,\n",
        "                                           20560,\n",
        "                                           21236,\n",
        "                                           20471]})\n",
        "\n",
        "petroleo"
      ],
      "execution_count": 48,
      "outputs": [
        {
          "output_type": "execute_result",
          "data": {
            "text/html": [
              "<div>\n",
              "<style scoped>\n",
              "    .dataframe tbody tr th:only-of-type {\n",
              "        vertical-align: middle;\n",
              "    }\n",
              "\n",
              "    .dataframe tbody tr th {\n",
              "        vertical-align: top;\n",
              "    }\n",
              "\n",
              "    .dataframe thead th {\n",
              "        text-align: right;\n",
              "    }\n",
              "</style>\n",
              "<table border=\"1\" class=\"dataframe\">\n",
              "  <thead>\n",
              "    <tr style=\"text-align: right;\">\n",
              "      <th></th>\n",
              "      <th>DATA</th>\n",
              "      <th>INFLACAO</th>\n",
              "      <th>CUSTO_PETROLEO</th>\n",
              "    </tr>\n",
              "  </thead>\n",
              "  <tbody>\n",
              "    <tr>\n",
              "      <th>0</th>\n",
              "      <td>1978-04-28</td>\n",
              "      <td>100.0</td>\n",
              "      <td>19656</td>\n",
              "    </tr>\n",
              "    <tr>\n",
              "      <th>1</th>\n",
              "      <td>1978-05-31</td>\n",
              "      <td>103.2</td>\n",
              "      <td>19391</td>\n",
              "    </tr>\n",
              "    <tr>\n",
              "      <th>2</th>\n",
              "      <td>1978-06-30</td>\n",
              "      <td>107.4</td>\n",
              "      <td>20262</td>\n",
              "    </tr>\n",
              "    <tr>\n",
              "      <th>3</th>\n",
              "      <td>1978-07-31</td>\n",
              "      <td>111.3</td>\n",
              "      <td>20000</td>\n",
              "    </tr>\n",
              "    <tr>\n",
              "      <th>4</th>\n",
              "      <td>1978-08-31</td>\n",
              "      <td>114.0</td>\n",
              "      <td>20149</td>\n",
              "    </tr>\n",
              "    <tr>\n",
              "      <th>5</th>\n",
              "      <td>1978-09-29</td>\n",
              "      <td>116.3</td>\n",
              "      <td>20581</td>\n",
              "    </tr>\n",
              "    <tr>\n",
              "      <th>6</th>\n",
              "      <td>1978-10-31</td>\n",
              "      <td>119.3</td>\n",
              "      <td>20937</td>\n",
              "    </tr>\n",
              "    <tr>\n",
              "      <th>7</th>\n",
              "      <td>1978-11-30</td>\n",
              "      <td>122.2</td>\n",
              "      <td>21273</td>\n",
              "    </tr>\n",
              "    <tr>\n",
              "      <th>8</th>\n",
              "      <td>1978-12-29</td>\n",
              "      <td>124.2</td>\n",
              "      <td>22517</td>\n",
              "    </tr>\n",
              "    <tr>\n",
              "      <th>9</th>\n",
              "      <td>1979-01-31</td>\n",
              "      <td>129.9</td>\n",
              "      <td>20560</td>\n",
              "    </tr>\n",
              "    <tr>\n",
              "      <th>10</th>\n",
              "      <td>1979-02-28</td>\n",
              "      <td>135.5</td>\n",
              "      <td>21236</td>\n",
              "    </tr>\n",
              "    <tr>\n",
              "      <th>11</th>\n",
              "      <td>1979-03-30</td>\n",
              "      <td>141.6</td>\n",
              "      <td>20471</td>\n",
              "    </tr>\n",
              "  </tbody>\n",
              "</table>\n",
              "</div>"
            ],
            "text/plain": [
              "         DATA  INFLACAO  CUSTO_PETROLEO\n",
              "0  1978-04-28     100.0           19656\n",
              "1  1978-05-31     103.2           19391\n",
              "2  1978-06-30     107.4           20262\n",
              "3  1978-07-31     111.3           20000\n",
              "4  1978-08-31     114.0           20149\n",
              "5  1978-09-29     116.3           20581\n",
              "6  1978-10-31     119.3           20937\n",
              "7  1978-11-30     122.2           21273\n",
              "8  1978-12-29     124.2           22517\n",
              "9  1979-01-31     129.9           20560\n",
              "10 1979-02-28     135.5           21236\n",
              "11 1979-03-30     141.6           20471"
            ]
          },
          "metadata": {
            "tags": []
          },
          "execution_count": 48
        }
      ]
    },
    {
      "cell_type": "code",
      "metadata": {
        "id": "UutjvZgpvjHB",
        "colab": {
          "base_uri": "https://localhost:8080/"
        },
        "outputId": "3bca30df-bd79-4205-feb8-bdea4be51f32"
      },
      "source": [
        "print('Coeficiente de correlação (Pearson | Spearman):',\n",
        "      petroleo['INFLACAO'].corr(petroleo['CUSTO_PETROLEO']),\n",
        "      spearmanr(petroleo['INFLACAO'], petroleo['CUSTO_PETROLEO'])[0],\n",
        "      sep='\\n')"
      ],
      "execution_count": 49,
      "outputs": [
        {
          "output_type": "stream",
          "text": [
            "Coeficiente de correlação (Pearson | Spearman):\n",
            "0.5751259466506365\n",
            "0.7202797202797203\n"
          ],
          "name": "stdout"
        }
      ]
    },
    {
      "cell_type": "markdown",
      "metadata": {
        "id": "SfbrV-khjtU3"
      },
      "source": [
        "Fonte de estudo complementar para verificar o significado desses tipos de cálculo de correlação e cenários de uso.\n",
        "\n",
        "https://medium.com/brdata/correla%C3%A7%C3%A3o-direto-ao-ponto-9ec1d48735fb"
      ]
    },
    {
      "cell_type": "code",
      "metadata": {
        "id": "I0aR3CI0xZ_w",
        "colab": {
          "base_uri": "https://localhost:8080/",
          "height": 268
        },
        "outputId": "fab77d84-10de-440b-82f6-f367a2134659"
      },
      "source": [
        "#Demonstração gráfica\n",
        "plt.scatter(petroleo['INFLACAO'], petroleo['CUSTO_PETROLEO'])\n",
        "plt.title('Dispersão entre Inflação e Custo de Importação de Petróleo')\n",
        "plt.xticks([])\n",
        "plt.yticks([])\n",
        "sns.despine()"
      ],
      "execution_count": 50,
      "outputs": [
        {
          "output_type": "display_data",
          "data": {
            "image/png": "[encoded data removed]",
            "text/plain": [
              "<Figure size 432x288 with 1 Axes>"
            ]
          },
          "metadata": {
            "tags": []
          }
        }
      ]
    },
    {
      "cell_type": "markdown",
      "metadata": {
        "id": "j2OMWg4xv3lq"
      },
      "source": [
        "**ATENÇÃO**: Cuidado com a interpretação direta da correlação sem uma análise mais aprofundada dos dados. A correlação isoladamente não explica a causa de fenômenos e há uma área conhecida como \"correlações espúrias\" que expõe exatamente casos em que as correlações que não tem nenhum sentido prático. Veja alguns exemplos neste link: https://www.tylervigen.com/spurious-correlations"
      ]
    },
    {
      "cell_type": "markdown",
      "metadata": {
        "id": "P73kpta6udZC"
      },
      "source": [
        "##4.3 ***Regressão Linear Simples***"
      ]
    },
    {
      "cell_type": "markdown",
      "metadata": {
        "id": "fTtRmrE6Lp8K"
      },
      "source": [
        "Descreve através de um modelo matemático a relação entre duas variáveis ($x$, $Y$).\n",
        "\n",
        "$Y = f(x)$\n",
        "\n",
        "Onde:\n",
        "* $Y$ => Variável explicada (variável aleatória)\n",
        "* $x$ => Variável explicativa\n",
        "\n",
        "Considerando que $Y$ pode receber influências de outras variáveis, a relação direta de $x$ e $Y$ pode não explicar todos os fenômenos, por isso a equação ajustada é:\n",
        "\n",
        "$Y = f(x) + e$\n",
        "\n",
        "Onde:\n",
        "* $e$ => Capta as influências sobre $Y$ não devidas a $x$."
      ]
    },
    {
      "cell_type": "code",
      "metadata": {
        "colab": {
          "base_uri": "https://localhost:8080/",
          "height": 421
        },
        "id": "hXhsPBKJ3x0G",
        "outputId": "0b02d59e-0383-42a5-bb9d-b218877311f4"
      },
      "source": [
        "arquivo = 'https://raw.githubusercontent.com/janiosl/python.ds/master/data/petroleo.csv'\n",
        "petroleo = pd.read_csv(arquivo)\n",
        "petroleo"
      ],
      "execution_count": 51,
      "outputs": [
        {
          "output_type": "execute_result",
          "data": {
            "text/html": [
              "<div>\n",
              "<style scoped>\n",
              "    .dataframe tbody tr th:only-of-type {\n",
              "        vertical-align: middle;\n",
              "    }\n",
              "\n",
              "    .dataframe tbody tr th {\n",
              "        vertical-align: top;\n",
              "    }\n",
              "\n",
              "    .dataframe thead th {\n",
              "        text-align: right;\n",
              "    }\n",
              "</style>\n",
              "<table border=\"1\" class=\"dataframe\">\n",
              "  <thead>\n",
              "    <tr style=\"text-align: right;\">\n",
              "      <th></th>\n",
              "      <th>DATA</th>\n",
              "      <th>INFLACAO</th>\n",
              "      <th>CUSTO_PETROLEO</th>\n",
              "    </tr>\n",
              "  </thead>\n",
              "  <tbody>\n",
              "    <tr>\n",
              "      <th>0</th>\n",
              "      <td>1978-04-28</td>\n",
              "      <td>100.0</td>\n",
              "      <td>19656</td>\n",
              "    </tr>\n",
              "    <tr>\n",
              "      <th>1</th>\n",
              "      <td>1978-05-31</td>\n",
              "      <td>103.2</td>\n",
              "      <td>19391</td>\n",
              "    </tr>\n",
              "    <tr>\n",
              "      <th>2</th>\n",
              "      <td>1978-06-30</td>\n",
              "      <td>107.4</td>\n",
              "      <td>20262</td>\n",
              "    </tr>\n",
              "    <tr>\n",
              "      <th>3</th>\n",
              "      <td>1978-07-31</td>\n",
              "      <td>111.3</td>\n",
              "      <td>20000</td>\n",
              "    </tr>\n",
              "    <tr>\n",
              "      <th>4</th>\n",
              "      <td>1978-08-31</td>\n",
              "      <td>114.0</td>\n",
              "      <td>20149</td>\n",
              "    </tr>\n",
              "    <tr>\n",
              "      <th>5</th>\n",
              "      <td>1978-09-29</td>\n",
              "      <td>116.3</td>\n",
              "      <td>20581</td>\n",
              "    </tr>\n",
              "    <tr>\n",
              "      <th>6</th>\n",
              "      <td>1978-10-31</td>\n",
              "      <td>119.3</td>\n",
              "      <td>20937</td>\n",
              "    </tr>\n",
              "    <tr>\n",
              "      <th>7</th>\n",
              "      <td>1978-11-30</td>\n",
              "      <td>122.2</td>\n",
              "      <td>21273</td>\n",
              "    </tr>\n",
              "    <tr>\n",
              "      <th>8</th>\n",
              "      <td>1978-12-29</td>\n",
              "      <td>124.2</td>\n",
              "      <td>22517</td>\n",
              "    </tr>\n",
              "    <tr>\n",
              "      <th>9</th>\n",
              "      <td>1979-01-31</td>\n",
              "      <td>129.9</td>\n",
              "      <td>20560</td>\n",
              "    </tr>\n",
              "    <tr>\n",
              "      <th>10</th>\n",
              "      <td>1979-02-28</td>\n",
              "      <td>135.5</td>\n",
              "      <td>21236</td>\n",
              "    </tr>\n",
              "    <tr>\n",
              "      <th>11</th>\n",
              "      <td>1979-03-30</td>\n",
              "      <td>141.6</td>\n",
              "      <td>20471</td>\n",
              "    </tr>\n",
              "  </tbody>\n",
              "</table>\n",
              "</div>"
            ],
            "text/plain": [
              "          DATA  INFLACAO  CUSTO_PETROLEO\n",
              "0   1978-04-28     100.0           19656\n",
              "1   1978-05-31     103.2           19391\n",
              "2   1978-06-30     107.4           20262\n",
              "3   1978-07-31     111.3           20000\n",
              "4   1978-08-31     114.0           20149\n",
              "5   1978-09-29     116.3           20581\n",
              "6   1978-10-31     119.3           20937\n",
              "7   1978-11-30     122.2           21273\n",
              "8   1978-12-29     124.2           22517\n",
              "9   1979-01-31     129.9           20560\n",
              "10  1979-02-28     135.5           21236\n",
              "11  1979-03-30     141.6           20471"
            ]
          },
          "metadata": {
            "tags": []
          },
          "execution_count": 51
        }
      ]
    },
    {
      "cell_type": "code",
      "metadata": {
        "colab": {
          "base_uri": "https://localhost:8080/",
          "height": 297
        },
        "id": "-9lG1j0k37Tg",
        "outputId": "a3229e3e-c133-4911-c4b2-3f758546e4c8"
      },
      "source": [
        "petroleo.describe()"
      ],
      "execution_count": 52,
      "outputs": [
        {
          "output_type": "execute_result",
          "data": {
            "text/html": [
              "<div>\n",
              "<style scoped>\n",
              "    .dataframe tbody tr th:only-of-type {\n",
              "        vertical-align: middle;\n",
              "    }\n",
              "\n",
              "    .dataframe tbody tr th {\n",
              "        vertical-align: top;\n",
              "    }\n",
              "\n",
              "    .dataframe thead th {\n",
              "        text-align: right;\n",
              "    }\n",
              "</style>\n",
              "<table border=\"1\" class=\"dataframe\">\n",
              "  <thead>\n",
              "    <tr style=\"text-align: right;\">\n",
              "      <th></th>\n",
              "      <th>INFLACAO</th>\n",
              "      <th>CUSTO_PETROLEO</th>\n",
              "    </tr>\n",
              "  </thead>\n",
              "  <tbody>\n",
              "    <tr>\n",
              "      <th>count</th>\n",
              "      <td>12.000000</td>\n",
              "      <td>12.000000</td>\n",
              "    </tr>\n",
              "    <tr>\n",
              "      <th>mean</th>\n",
              "      <td>118.741667</td>\n",
              "      <td>20586.083333</td>\n",
              "    </tr>\n",
              "    <tr>\n",
              "      <th>std</th>\n",
              "      <td>12.703504</td>\n",
              "      <td>836.259144</td>\n",
              "    </tr>\n",
              "    <tr>\n",
              "      <th>min</th>\n",
              "      <td>100.000000</td>\n",
              "      <td>19391.000000</td>\n",
              "    </tr>\n",
              "    <tr>\n",
              "      <th>25%</th>\n",
              "      <td>110.325000</td>\n",
              "      <td>20111.750000</td>\n",
              "    </tr>\n",
              "    <tr>\n",
              "      <th>50%</th>\n",
              "      <td>117.800000</td>\n",
              "      <td>20515.500000</td>\n",
              "    </tr>\n",
              "    <tr>\n",
              "      <th>75%</th>\n",
              "      <td>125.625000</td>\n",
              "      <td>21011.750000</td>\n",
              "    </tr>\n",
              "    <tr>\n",
              "      <th>max</th>\n",
              "      <td>141.600000</td>\n",
              "      <td>22517.000000</td>\n",
              "    </tr>\n",
              "  </tbody>\n",
              "</table>\n",
              "</div>"
            ],
            "text/plain": [
              "         INFLACAO  CUSTO_PETROLEO\n",
              "count   12.000000       12.000000\n",
              "mean   118.741667    20586.083333\n",
              "std     12.703504      836.259144\n",
              "min    100.000000    19391.000000\n",
              "25%    110.325000    20111.750000\n",
              "50%    117.800000    20515.500000\n",
              "75%    125.625000    21011.750000\n",
              "max    141.600000    22517.000000"
            ]
          },
          "metadata": {
            "tags": []
          },
          "execution_count": 52
        }
      ]
    },
    {
      "cell_type": "code",
      "metadata": {
        "colab": {
          "base_uri": "https://localhost:8080/"
        },
        "id": "PwebNVZx7bs6",
        "outputId": "78838dcb-3ce5-49d8-97bc-d1ec341a9785"
      },
      "source": [
        "petroleo.CUSTO_PETROLEO.corr(petroleo.INFLACAO)"
      ],
      "execution_count": 53,
      "outputs": [
        {
          "output_type": "execute_result",
          "data": {
            "text/plain": [
              "0.5751259466506365"
            ]
          },
          "metadata": {
            "tags": []
          },
          "execution_count": 53
        }
      ]
    },
    {
      "cell_type": "code",
      "metadata": {
        "colab": {
          "base_uri": "https://localhost:8080/",
          "height": 295
        },
        "id": "8rL-8Zae3_ho",
        "outputId": "30005ae1-ca54-4d4b-d2fc-22e2bb2cc3e0"
      },
      "source": [
        "plt.scatter(petroleo.INFLACAO, petroleo.CUSTO_PETROLEO)\n",
        "\n",
        "plt.title('Dispersão de índice de inflação e custo de petróleo')\n",
        "plt.xlabel('Inflação')\n",
        "plt.ylabel('Custo do Petróleo')\n",
        "\n",
        "sns.despine()"
      ],
      "execution_count": 54,
      "outputs": [
        {
          "output_type": "display_data",
          "data": {
            "image/png": "[encoded data removed]",
            "text/plain": [
              "<Figure size 432x288 with 1 Axes>"
            ]
          },
          "metadata": {
            "tags": [],
            "needs_background": "light"
          }
        }
      ]
    },
    {
      "cell_type": "code",
      "metadata": {
        "id": "3YoRV-GX67sZ",
        "colab": {
          "base_uri": "https://localhost:8080/"
        },
        "outputId": "0c21fcc8-9c1f-446e-a8dc-f575f9d3fbfb"
      },
      "source": [
        "#Fonte complementar de estudo:\n",
        "#https://sigmoidal.ai/como-implementar-regressao-linear-com-python/\n",
        "\n",
        "x = np.array(petroleo['INFLACAO'])\n",
        "y = np.array(petroleo['CUSTO_PETROLEO'])\n",
        "\n",
        "# criar modelo linear e otimizar\n",
        "lm_model = LinearRegression(normalize=True) #Verificar diferença sem normalizar\n",
        "lm_model.fit(x.reshape(-1, 1), y)"
      ],
      "execution_count": 55,
      "outputs": [
        {
          "output_type": "execute_result",
          "data": {
            "text/plain": [
              "LinearRegression(copy_X=True, fit_intercept=True, n_jobs=None, normalize=True)"
            ]
          },
          "metadata": {
            "tags": []
          },
          "execution_count": 55
        }
      ]
    },
    {
      "cell_type": "code",
      "metadata": {
        "id": "R-V9Zcu67Iwq"
      },
      "source": [
        "\"\"\"\n",
        "Cálculo da reta de ajustamento\n",
        "Ŷ = a + bX\n",
        "Onde:\n",
        "a e b: Parâmetros do modelo\n",
        "a => Ponto onde a reta ajustada corta o eixo Y\n",
        "b => Tangente do ângulo que a reta forma com uma paralelo do eixo X (inclinação)\n",
        "\"\"\"\n",
        "# extrair coeficientes\n",
        "inclinacao = lm_model.coef_\n",
        "intersecao = lm_model.intercept_"
      ],
      "execution_count": 56,
      "outputs": []
    },
    {
      "cell_type": "code",
      "metadata": {
        "id": "rE8Z7uyG8Y0y",
        "colab": {
          "base_uri": "https://localhost:8080/"
        },
        "outputId": "eda20dd7-4c5d-49eb-f34a-56c31c8f0402"
      },
      "source": [
        "# imprimir os valores encontrados para os parâmetros\n",
        "print(f'a - interseção: \\t{format(intersecao)}')\n",
        "print(f'b - inclinação: \\t{format(inclinacao[0])}')\n",
        "print(f'Equação: \\t\\tŶ = {intersecao} + {inclinacao[0]} * X')"
      ],
      "execution_count": 57,
      "outputs": [
        {
          "output_type": "stream",
          "text": [
            "a - interseção: \t16090.52693147085\n",
            "b - inclinação: \t37.859973908589936\n",
            "Equação: \t\tŶ = 16090.52693147085 + 37.859973908589936 * X\n"
          ],
          "name": "stdout"
        }
      ]
    },
    {
      "cell_type": "code",
      "metadata": {
        "id": "WB9hmVWa9iRM",
        "colab": {
          "base_uri": "https://localhost:8080/",
          "height": 278
        },
        "outputId": "463f7a42-b21a-4911-96c2-27d5c76f25a5"
      },
      "source": [
        "# plotar pontos e retas com parâmetros otimizados\n",
        "plt.scatter(x, y)\n",
        "plt.plot(x, (x * inclinacao + intersecao), color='g')\n",
        "plt.legend(['Reta de Ajustamento', 'Dispersão dos dados'])\n",
        "plt.title(\n",
        "    'Regressão Linear Simples: Inflação e Custo de Importação do Petróleo')\n",
        "plt.xticks([])\n",
        "plt.yticks([])\n",
        "plt.xlabel('Inflação')\n",
        "plt.ylabel('Custo do Petróleo')\n",
        "sns.despine()"
      ],
      "execution_count": 58,
      "outputs": [
        {
          "output_type": "display_data",
          "data": {
            "image/png": "[encoded data removed]",
            "text/plain": [
              "<Figure size 432x288 with 1 Axes>"
            ]
          },
          "metadata": {
            "tags": []
          }
        }
      ]
    },
    {
      "cell_type": "code",
      "metadata": {
        "id": "c6gI-cpm9moL",
        "colab": {
          "base_uri": "https://localhost:8080/",
          "height": 359
        },
        "outputId": "f065cc85-f783-448c-b7df-e6e547e7536f"
      },
      "source": [
        "\"\"\"\n",
        "Exemplo\n",
        "Produção de leite em relação com preciptação pluviométrica\n",
        "\"\"\"\n",
        "anos = pd.date_range('2010-12-31', periods=10, freq='Y')\n",
        "leite = pd.DataFrame({'ANO': anos,\n",
        "                      'PROD_LEITE': [26, 25, 31, 29, 27, 31, 32, 28, 30, 30],\n",
        "                      'IND_PLUVIO': [23, 21, 28, 27, 23, 28, 27, 22, 26, 25]})\n",
        "leite"
      ],
      "execution_count": 59,
      "outputs": [
        {
          "output_type": "execute_result",
          "data": {
            "text/html": [
              "<div>\n",
              "<style scoped>\n",
              "    .dataframe tbody tr th:only-of-type {\n",
              "        vertical-align: middle;\n",
              "    }\n",
              "\n",
              "    .dataframe tbody tr th {\n",
              "        vertical-align: top;\n",
              "    }\n",
              "\n",
              "    .dataframe thead th {\n",
              "        text-align: right;\n",
              "    }\n",
              "</style>\n",
              "<table border=\"1\" class=\"dataframe\">\n",
              "  <thead>\n",
              "    <tr style=\"text-align: right;\">\n",
              "      <th></th>\n",
              "      <th>ANO</th>\n",
              "      <th>PROD_LEITE</th>\n",
              "      <th>IND_PLUVIO</th>\n",
              "    </tr>\n",
              "  </thead>\n",
              "  <tbody>\n",
              "    <tr>\n",
              "      <th>0</th>\n",
              "      <td>2010-12-31</td>\n",
              "      <td>26</td>\n",
              "      <td>23</td>\n",
              "    </tr>\n",
              "    <tr>\n",
              "      <th>1</th>\n",
              "      <td>2011-12-31</td>\n",
              "      <td>25</td>\n",
              "      <td>21</td>\n",
              "    </tr>\n",
              "    <tr>\n",
              "      <th>2</th>\n",
              "      <td>2012-12-31</td>\n",
              "      <td>31</td>\n",
              "      <td>28</td>\n",
              "    </tr>\n",
              "    <tr>\n",
              "      <th>3</th>\n",
              "      <td>2013-12-31</td>\n",
              "      <td>29</td>\n",
              "      <td>27</td>\n",
              "    </tr>\n",
              "    <tr>\n",
              "      <th>4</th>\n",
              "      <td>2014-12-31</td>\n",
              "      <td>27</td>\n",
              "      <td>23</td>\n",
              "    </tr>\n",
              "    <tr>\n",
              "      <th>5</th>\n",
              "      <td>2015-12-31</td>\n",
              "      <td>31</td>\n",
              "      <td>28</td>\n",
              "    </tr>\n",
              "    <tr>\n",
              "      <th>6</th>\n",
              "      <td>2016-12-31</td>\n",
              "      <td>32</td>\n",
              "      <td>27</td>\n",
              "    </tr>\n",
              "    <tr>\n",
              "      <th>7</th>\n",
              "      <td>2017-12-31</td>\n",
              "      <td>28</td>\n",
              "      <td>22</td>\n",
              "    </tr>\n",
              "    <tr>\n",
              "      <th>8</th>\n",
              "      <td>2018-12-31</td>\n",
              "      <td>30</td>\n",
              "      <td>26</td>\n",
              "    </tr>\n",
              "    <tr>\n",
              "      <th>9</th>\n",
              "      <td>2019-12-31</td>\n",
              "      <td>30</td>\n",
              "      <td>25</td>\n",
              "    </tr>\n",
              "  </tbody>\n",
              "</table>\n",
              "</div>"
            ],
            "text/plain": [
              "         ANO  PROD_LEITE  IND_PLUVIO\n",
              "0 2010-12-31          26          23\n",
              "1 2011-12-31          25          21\n",
              "2 2012-12-31          31          28\n",
              "3 2013-12-31          29          27\n",
              "4 2014-12-31          27          23\n",
              "5 2015-12-31          31          28\n",
              "6 2016-12-31          32          27\n",
              "7 2017-12-31          28          22\n",
              "8 2018-12-31          30          26\n",
              "9 2019-12-31          30          25"
            ]
          },
          "metadata": {
            "tags": []
          },
          "execution_count": 59
        }
      ]
    },
    {
      "cell_type": "code",
      "metadata": {
        "id": "8f4mP-TfUaF-",
        "colab": {
          "base_uri": "https://localhost:8080/",
          "height": 406
        },
        "outputId": "a8dd9da1-92de-4105-cd67-4384afef1d76"
      },
      "source": [
        "#Visualização dos dados\n",
        "fig, (ax1, ax2) = plt.subplots(1, 2)\n",
        "fig.set_size_inches(15,6)\n",
        "\n",
        "ax1.hist(leite['PROD_LEITE'])\n",
        "ax1.set_title('Histograma da Produção de Leite')\n",
        "\n",
        "ax2.scatter(leite['PROD_LEITE'], leite['IND_PLUVIO'])\n",
        "ax2.set_title('Dispersão entre Produção de Leite e Índice Pluviométrico')\n",
        "ax2.set_ylabel('Produção de Leite')\n",
        "ax2.set_xlabel('Índice Pluviométrico')\n",
        "\n",
        "sns.despine()"
      ],
      "execution_count": 60,
      "outputs": [
        {
          "output_type": "display_data",
          "data": {
            "image/png": "[encoded data removed]",
            "text/plain": [
              "<Figure size 1080x432 with 2 Axes>"
            ]
          },
          "metadata": {
            "tags": [],
            "needs_background": "light"
          }
        }
      ]
    },
    {
      "cell_type": "code",
      "metadata": {
        "id": "4PLcH4P_THBE"
      },
      "source": [
        "#Transformando dados do data frame em arrays\n",
        "x = np.array(leite['IND_PLUVIO'])\n",
        "y = np.array(leite['PROD_LEITE'])"
      ],
      "execution_count": 61,
      "outputs": []
    },
    {
      "cell_type": "code",
      "metadata": {
        "id": "z6W5xxXeR5Tk",
        "colab": {
          "base_uri": "https://localhost:8080/"
        },
        "outputId": "f034fd13-b577-42a6-8f04-beced51f5915"
      },
      "source": [
        "#Criação do modelo\n",
        "lm_model = LinearRegression(normalize=True)\n",
        "lm_model.fit(x.reshape(-1, 1), y)"
      ],
      "execution_count": 62,
      "outputs": [
        {
          "output_type": "execute_result",
          "data": {
            "text/plain": [
              "LinearRegression(copy_X=True, fit_intercept=True, n_jobs=None, normalize=True)"
            ]
          },
          "metadata": {
            "tags": []
          },
          "execution_count": 62
        }
      ]
    },
    {
      "cell_type": "code",
      "metadata": {
        "id": "m40v56Z4W0z3"
      },
      "source": [
        "#Recuperação dos parâmetros para reta de ajustamento\n",
        "inclinacao = lm_model.coef_\n",
        "intersecao = lm_model.intercept_"
      ],
      "execution_count": 63,
      "outputs": []
    },
    {
      "cell_type": "code",
      "metadata": {
        "id": "gxUiKGG_Xf0D",
        "colab": {
          "base_uri": "https://localhost:8080/",
          "height": 280
        },
        "outputId": "df939ead-41bc-41f2-cbb0-5d877ed78730"
      },
      "source": [
        "plt.scatter(x, y)\n",
        "plt.plot(x, (x * inclinacao + intersecao), 'r')\n",
        "\n",
        "plt.title('Regressão Linear Simples: Produção de Leite e Índice Pluviométrico')\n",
        "plt.legend(['Reta de ajustamento', 'Dispersão dos dados'])\n",
        "\n",
        "plt.yticks([])\n",
        "plt.xticks([])\n",
        "plt.ylabel('Produção de Leite')\n",
        "plt.xlabel('Índice Pluviométrico')\n",
        "\n",
        "sns.despine()"
      ],
      "execution_count": 64,
      "outputs": [
        {
          "output_type": "display_data",
          "data": {
            "image/png": "[encoded data removed]",
            "text/plain": [
              "<Figure size 432x288 with 1 Axes>"
            ]
          },
          "metadata": {
            "tags": []
          }
        }
      ]
    },
    {
      "cell_type": "code",
      "metadata": {
        "id": "TRiX4trRYH08",
        "colab": {
          "base_uri": "https://localhost:8080/"
        },
        "outputId": "64d1b632-fa06-44a7-93fb-5274bb81f928"
      },
      "source": [
        "\"\"\"\n",
        "Cálculo da reta de ajustamento\n",
        "Ŷ = a + bX\n",
        "Onde:\n",
        "a e b: Parâmetros do modelo\n",
        "a => Ponto onde a reta ajustada corta o eixo Y\n",
        "b => Tangente do ângulo que a reta forma com uma paralelo do eixo X (inclinação)\n",
        "\"\"\"\n",
        "\n",
        "print(f'Equação: Ŷ = a + bX = {intersecao} + {inclinacao[0]} * X')"
      ],
      "execution_count": 65,
      "outputs": [
        {
          "output_type": "stream",
          "text": [
            "Equação: Ŷ = a + bX = 8.899999999999999 + 0.8 * X\n"
          ],
          "name": "stdout"
        }
      ]
    },
    {
      "cell_type": "code",
      "metadata": {
        "id": "_kCESJb2Zq6V",
        "colab": {
          "base_uri": "https://localhost:8080/"
        },
        "outputId": "3406f1a9-fe7d-4ff5-b752-2c587423e19c"
      },
      "source": [
        "#Aplicação manual do modelo\n",
        "x_conhecido = 24\n",
        "y_previsto = intersecao + inclinacao[0] * x_conhecido\n",
        "y_previsto"
      ],
      "execution_count": 66,
      "outputs": [
        {
          "output_type": "execute_result",
          "data": {
            "text/plain": [
              "28.1"
            ]
          },
          "metadata": {
            "tags": []
          },
          "execution_count": 66
        }
      ]
    },
    {
      "cell_type": "code",
      "metadata": {
        "id": "izPjzH6wdjcY",
        "colab": {
          "base_uri": "https://localhost:8080/"
        },
        "outputId": "df6c30f9-1fb1-4eda-ff6a-4931d7b0ae58"
      },
      "source": [
        "#Função manual para aplicação do modelo\n",
        "def previsao(x_conhecido):\n",
        "  y_previsto = intersecao + inclinacao[0] * x_conhecido\n",
        "  return y_previsto\n",
        "\n",
        "previsto = previsao(x_conhecido)\n",
        "previsto"
      ],
      "execution_count": 67,
      "outputs": [
        {
          "output_type": "execute_result",
          "data": {
            "text/plain": [
              "28.1"
            ]
          },
          "metadata": {
            "tags": []
          },
          "execution_count": 67
        }
      ]
    },
    {
      "cell_type": "code",
      "metadata": {
        "id": "-1MLo_oXcVfH",
        "colab": {
          "base_uri": "https://localhost:8080/"
        },
        "outputId": "c1c2e775-c95b-45c5-afc3-9756f1733ef9"
      },
      "source": [
        "\"\"\"\n",
        "Aplicação do modelo para previsão automática\n",
        "Referência complementar:\n",
        "https://scikit-learn.org/stable/modules/generated/sklearn.linear_model.LinearRegression.html\n",
        "\n",
        "#Antes de aplicar o método predict é necessário converter o valor em np.array,\n",
        "tendo em vista que o modelo precisa receber uma array para realizar o\n",
        "processamento\n",
        "\"\"\"\n",
        "#Transformação do x em array\n",
        "x_conhecido = np.array(x_conhecido)\n",
        "x_conhecido = x_conhecido.reshape(-1, 1)\n",
        "\n",
        "#Previsão\n",
        "lm_model.predict(x_conhecido)"
      ],
      "execution_count": 68,
      "outputs": [
        {
          "output_type": "execute_result",
          "data": {
            "text/plain": [
              "array([28.1])"
            ]
          },
          "metadata": {
            "tags": []
          },
          "execution_count": 68
        }
      ]
    },
    {
      "cell_type": "markdown",
      "metadata": {
        "id": "RCFSAyQdqWs2"
      },
      "source": [
        "##4.4 ***R² Coeficiente de determinação***"
      ]
    },
    {
      "cell_type": "markdown",
      "metadata": {
        "id": "jV9QesMN2WVG"
      },
      "source": [
        "O coeficiente de determinação, identificado por $R^2$, tem o objetivo de identificar o poder explicativo do modelo. O coeficiente assume valores entre 0 e 1 e sua interpretação é que quanto mais próximo de 1 maior a qualidade explicativa do modelo.\n",
        "\n",
        "Interpretação simplificada do $R^2$:\n",
        "* $R^2 = 0$: a variação de $Y$ explicada é zero\n",
        "* $R^2 = 1$: a variação de $Y$ explicada é 100%\n",
        "\n"
      ]
    },
    {
      "cell_type": "code",
      "metadata": {
        "id": "2pdzqJa8qej4",
        "colab": {
          "base_uri": "https://localhost:8080/"
        },
        "outputId": "1fc2b18d-b288-4c4d-a9c9-e92935019418"
      },
      "source": [
        "\"\"\"\n",
        "R² = (b * (SYX)) / (SYY)\n",
        "Onde:\n",
        "SYX = soma(X * Y) - (((soma(X)) * (soma(Y))) / n)\n",
        "SYY = soma(Y ** 2) - (soma(Y) ** 2 / n)\n",
        "\"\"\"\n",
        "r2 = lm_model.score(x.reshape(-1, 1), y)\n",
        "print(f'R² do modelo: {r2:.3f}')"
      ],
      "execution_count": 69,
      "outputs": [
        {
          "output_type": "stream",
          "text": [
            "R² do modelo: 0.785\n"
          ],
          "name": "stdout"
        }
      ]
    },
    {
      "cell_type": "markdown",
      "metadata": {
        "id": "_bzTWggL5XkX"
      },
      "source": [
        "##ATENÇÃO: Este trecho do notebook não deve ser executado no Google Colab, tendo em vista que o dataset possui mais de 400mb e gera uma lentidão elevada para carga dos dados."
      ]
    },
    {
      "cell_type": "markdown",
      "metadata": {
        "id": "fDecKpSBxPW_"
      },
      "source": [
        "Para exibição criamos uma versão como um script .py para ser executado localmente no Spyder.\n",
        "\n",
        "* `analise_emprestimos_.py` disponível em: https://github.com/janiosl/python.ds/blob/master/financas/analise_emprestimos_.py\n",
        "\n",
        "* Dataset: buscar no Kaglle com o nome `loan.csv'.\n",
        "* Subset: Uma versão menor (subset) com os memos atributos (colunas), porém com menos linhas para uso simplificado está disponível em meu GitHub em: https://raw.githubusercontent.com/janiosl/python.ds/master/data/loan_sub.csv"
      ]
    },
    {
      "cell_type": "code",
      "metadata": {
        "id": "VWNNImYqfEIf"
      },
      "source": [
        "#Conjunto de dados original disponível no Kaggle\n",
        "#arquivo = 'loan.csv'\n",
        "arquivo = 'https://raw.githubusercontent.com/janiosl/python.ds/master/data/loan_sub.csv'\n",
        "emprestimos = pd.read_csv(arquivo, low_memory=False)"
      ],
      "execution_count": 70,
      "outputs": []
    },
    {
      "cell_type": "code",
      "metadata": {
        "id": "yF1_3Yb6gAei",
        "colab": {
          "base_uri": "https://localhost:8080/"
        },
        "outputId": "ca6a6fb9-0d0a-4aab-9148-b21b506fa077"
      },
      "source": [
        "emprestimos.columns"
      ],
      "execution_count": 71,
      "outputs": [
        {
          "output_type": "execute_result",
          "data": {
            "text/plain": [
              "Index(['id', 'member_id', 'loan_amnt', 'funded_amnt', 'funded_amnt_inv',\n",
              "       'term', 'int_rate', 'installment', 'grade', 'sub_grade', 'emp_title',\n",
              "       'emp_length', 'home_ownership', 'annual_inc', 'verification_status',\n",
              "       'issue_d', 'loan_status', 'pymnt_plan', 'url', 'desc', 'purpose',\n",
              "       'title', 'zip_code', 'addr_state', 'dti', 'delinq_2yrs',\n",
              "       'earliest_cr_line', 'inq_last_6mths', 'mths_since_last_delinq',\n",
              "       'mths_since_last_record', 'open_acc', 'pub_rec', 'revol_bal',\n",
              "       'revol_util', 'total_acc', 'initial_list_status', 'out_prncp',\n",
              "       'out_prncp_inv', 'total_pymnt', 'total_pymnt_inv', 'total_rec_prncp',\n",
              "       'total_rec_int', 'total_rec_late_fee', 'recoveries',\n",
              "       'collection_recovery_fee', 'last_pymnt_d', 'last_pymnt_amnt',\n",
              "       'next_pymnt_d', 'last_credit_pull_d', 'collections_12_mths_ex_med',\n",
              "       'mths_since_last_major_derog', 'policy_code', 'application_type',\n",
              "       'annual_inc_joint', 'dti_joint', 'verification_status_joint',\n",
              "       'acc_now_delinq', 'tot_coll_amt', 'tot_cur_bal', 'open_acc_6m',\n",
              "       'open_il_6m', 'open_il_12m', 'open_il_24m', 'mths_since_rcnt_il',\n",
              "       'total_bal_il', 'il_util', 'open_rv_12m', 'open_rv_24m', 'max_bal_bc',\n",
              "       'all_util', 'total_rev_hi_lim', 'inq_fi', 'total_cu_tl',\n",
              "       'inq_last_12m'],\n",
              "      dtype='object')"
            ]
          },
          "metadata": {
            "tags": []
          },
          "execution_count": 71
        }
      ]
    },
    {
      "cell_type": "code",
      "metadata": {
        "id": "pdvm6Um-e_nt",
        "colab": {
          "base_uri": "https://localhost:8080/",
          "height": 0
        },
        "outputId": "974f6804-8256-43d5-ccf3-ef22e23a0d72"
      },
      "source": [
        "emprestimos.head(5)"
      ],
      "execution_count": 72,
      "outputs": [
        {
          "output_type": "execute_result",
          "data": {
            "text/html": [
              "<div>\n",
              "<style scoped>\n",
              "    .dataframe tbody tr th:only-of-type {\n",
              "        vertical-align: middle;\n",
              "    }\n",
              "\n",
              "    .dataframe tbody tr th {\n",
              "        vertical-align: top;\n",
              "    }\n",
              "\n",
              "    .dataframe thead th {\n",
              "        text-align: right;\n",
              "    }\n",
              "</style>\n",
              "<table border=\"1\" class=\"dataframe\">\n",
              "  <thead>\n",
              "    <tr style=\"text-align: right;\">\n",
              "      <th></th>\n",
              "      <th>id</th>\n",
              "      <th>member_id</th>\n",
              "      <th>loan_amnt</th>\n",
              "      <th>funded_amnt</th>\n",
              "      <th>funded_amnt_inv</th>\n",
              "      <th>term</th>\n",
              "      <th>int_rate</th>\n",
              "      <th>installment</th>\n",
              "      <th>grade</th>\n",
              "      <th>sub_grade</th>\n",
              "      <th>emp_title</th>\n",
              "      <th>emp_length</th>\n",
              "      <th>home_ownership</th>\n",
              "      <th>annual_inc</th>\n",
              "      <th>verification_status</th>\n",
              "      <th>issue_d</th>\n",
              "      <th>loan_status</th>\n",
              "      <th>pymnt_plan</th>\n",
              "      <th>url</th>\n",
              "      <th>desc</th>\n",
              "      <th>purpose</th>\n",
              "      <th>title</th>\n",
              "      <th>zip_code</th>\n",
              "      <th>addr_state</th>\n",
              "      <th>dti</th>\n",
              "      <th>delinq_2yrs</th>\n",
              "      <th>earliest_cr_line</th>\n",
              "      <th>inq_last_6mths</th>\n",
              "      <th>mths_since_last_delinq</th>\n",
              "      <th>mths_since_last_record</th>\n",
              "      <th>open_acc</th>\n",
              "      <th>pub_rec</th>\n",
              "      <th>revol_bal</th>\n",
              "      <th>revol_util</th>\n",
              "      <th>total_acc</th>\n",
              "      <th>initial_list_status</th>\n",
              "      <th>out_prncp</th>\n",
              "      <th>out_prncp_inv</th>\n",
              "      <th>total_pymnt</th>\n",
              "      <th>total_pymnt_inv</th>\n",
              "      <th>total_rec_prncp</th>\n",
              "      <th>total_rec_int</th>\n",
              "      <th>total_rec_late_fee</th>\n",
              "      <th>recoveries</th>\n",
              "      <th>collection_recovery_fee</th>\n",
              "      <th>last_pymnt_d</th>\n",
              "      <th>last_pymnt_amnt</th>\n",
              "      <th>next_pymnt_d</th>\n",
              "      <th>last_credit_pull_d</th>\n",
              "      <th>collections_12_mths_ex_med</th>\n",
              "      <th>mths_since_last_major_derog</th>\n",
              "      <th>policy_code</th>\n",
              "      <th>application_type</th>\n",
              "      <th>annual_inc_joint</th>\n",
              "      <th>dti_joint</th>\n",
              "      <th>verification_status_joint</th>\n",
              "      <th>acc_now_delinq</th>\n",
              "      <th>tot_coll_amt</th>\n",
              "      <th>tot_cur_bal</th>\n",
              "      <th>open_acc_6m</th>\n",
              "      <th>open_il_6m</th>\n",
              "      <th>open_il_12m</th>\n",
              "      <th>open_il_24m</th>\n",
              "      <th>mths_since_rcnt_il</th>\n",
              "      <th>total_bal_il</th>\n",
              "      <th>il_util</th>\n",
              "      <th>open_rv_12m</th>\n",
              "      <th>open_rv_24m</th>\n",
              "      <th>max_bal_bc</th>\n",
              "      <th>all_util</th>\n",
              "      <th>total_rev_hi_lim</th>\n",
              "      <th>inq_fi</th>\n",
              "      <th>total_cu_tl</th>\n",
              "      <th>inq_last_12m</th>\n",
              "    </tr>\n",
              "  </thead>\n",
              "  <tbody>\n",
              "    <tr>\n",
              "      <th>0</th>\n",
              "      <td>60860573</td>\n",
              "      <td>64902312</td>\n",
              "      <td>19300.0</td>\n",
              "      <td>19300.0</td>\n",
              "      <td>19300.0</td>\n",
              "      <td>36 months</td>\n",
              "      <td>18.55</td>\n",
              "      <td>703.08</td>\n",
              "      <td>E</td>\n",
              "      <td>E2</td>\n",
              "      <td>Operator</td>\n",
              "      <td>8 years</td>\n",
              "      <td>RENT</td>\n",
              "      <td>42000.0</td>\n",
              "      <td>Verified</td>\n",
              "      <td>Sep-2015</td>\n",
              "      <td>Current</td>\n",
              "      <td>n</td>\n",
              "      <td>https://www.lendingclub.com/browse/loanDetail....</td>\n",
              "      <td>NaN</td>\n",
              "      <td>credit_card</td>\n",
              "      <td>Credit card refinancing</td>\n",
              "      <td>301xx</td>\n",
              "      <td>GA</td>\n",
              "      <td>34.06</td>\n",
              "      <td>0.0</td>\n",
              "      <td>Apr-1999</td>\n",
              "      <td>1.0</td>\n",
              "      <td>67.0</td>\n",
              "      <td>26.0</td>\n",
              "      <td>10.0</td>\n",
              "      <td>3.0</td>\n",
              "      <td>5661.0</td>\n",
              "      <td>55.5</td>\n",
              "      <td>44.0</td>\n",
              "      <td>f</td>\n",
              "      <td>18066.93</td>\n",
              "      <td>18066.93</td>\n",
              "      <td>2089.350000</td>\n",
              "      <td>2089.35</td>\n",
              "      <td>1233.07</td>\n",
              "      <td>856.28</td>\n",
              "      <td>0.0</td>\n",
              "      <td>0.0</td>\n",
              "      <td>0.0</td>\n",
              "      <td>Dec-2015</td>\n",
              "      <td>703.08</td>\n",
              "      <td>Feb-2016</td>\n",
              "      <td>Jan-2016</td>\n",
              "      <td>0.0</td>\n",
              "      <td>67.0</td>\n",
              "      <td>1.0</td>\n",
              "      <td>INDIVIDUAL</td>\n",
              "      <td>NaN</td>\n",
              "      <td>NaN</td>\n",
              "      <td>NaN</td>\n",
              "      <td>0.0</td>\n",
              "      <td>810.0</td>\n",
              "      <td>48906.0</td>\n",
              "      <td>NaN</td>\n",
              "      <td>NaN</td>\n",
              "      <td>NaN</td>\n",
              "      <td>NaN</td>\n",
              "      <td>NaN</td>\n",
              "      <td>NaN</td>\n",
              "      <td>NaN</td>\n",
              "      <td>NaN</td>\n",
              "      <td>NaN</td>\n",
              "      <td>NaN</td>\n",
              "      <td>NaN</td>\n",
              "      <td>10200.0</td>\n",
              "      <td>NaN</td>\n",
              "      <td>NaN</td>\n",
              "      <td>NaN</td>\n",
              "    </tr>\n",
              "    <tr>\n",
              "      <th>1</th>\n",
              "      <td>40167527</td>\n",
              "      <td>43032249</td>\n",
              "      <td>15000.0</td>\n",
              "      <td>15000.0</td>\n",
              "      <td>15000.0</td>\n",
              "      <td>36 months</td>\n",
              "      <td>14.31</td>\n",
              "      <td>514.93</td>\n",
              "      <td>C</td>\n",
              "      <td>C4</td>\n",
              "      <td>Warehouse Runner</td>\n",
              "      <td>4 years</td>\n",
              "      <td>RENT</td>\n",
              "      <td>34923.0</td>\n",
              "      <td>Source Verified</td>\n",
              "      <td>Jan-2015</td>\n",
              "      <td>Current</td>\n",
              "      <td>n</td>\n",
              "      <td>https://www.lendingclub.com/browse/loanDetail....</td>\n",
              "      <td>NaN</td>\n",
              "      <td>debt_consolidation</td>\n",
              "      <td>Debt consolidation</td>\n",
              "      <td>891xx</td>\n",
              "      <td>NV</td>\n",
              "      <td>26.84</td>\n",
              "      <td>2.0</td>\n",
              "      <td>May-2005</td>\n",
              "      <td>1.0</td>\n",
              "      <td>16.0</td>\n",
              "      <td>NaN</td>\n",
              "      <td>17.0</td>\n",
              "      <td>0.0</td>\n",
              "      <td>12982.0</td>\n",
              "      <td>80.1</td>\n",
              "      <td>31.0</td>\n",
              "      <td>w</td>\n",
              "      <td>11074.91</td>\n",
              "      <td>11074.91</td>\n",
              "      <td>5652.310000</td>\n",
              "      <td>5652.31</td>\n",
              "      <td>3925.09</td>\n",
              "      <td>1727.22</td>\n",
              "      <td>0.0</td>\n",
              "      <td>0.0</td>\n",
              "      <td>0.0</td>\n",
              "      <td>Dec-2015</td>\n",
              "      <td>514.93</td>\n",
              "      <td>Jan-2016</td>\n",
              "      <td>Jan-2016</td>\n",
              "      <td>0.0</td>\n",
              "      <td>16.0</td>\n",
              "      <td>1.0</td>\n",
              "      <td>INDIVIDUAL</td>\n",
              "      <td>NaN</td>\n",
              "      <td>NaN</td>\n",
              "      <td>NaN</td>\n",
              "      <td>0.0</td>\n",
              "      <td>0.0</td>\n",
              "      <td>51975.0</td>\n",
              "      <td>NaN</td>\n",
              "      <td>NaN</td>\n",
              "      <td>NaN</td>\n",
              "      <td>NaN</td>\n",
              "      <td>NaN</td>\n",
              "      <td>NaN</td>\n",
              "      <td>NaN</td>\n",
              "      <td>NaN</td>\n",
              "      <td>NaN</td>\n",
              "      <td>NaN</td>\n",
              "      <td>NaN</td>\n",
              "      <td>16200.0</td>\n",
              "      <td>NaN</td>\n",
              "      <td>NaN</td>\n",
              "      <td>NaN</td>\n",
              "    </tr>\n",
              "    <tr>\n",
              "      <th>2</th>\n",
              "      <td>9715666</td>\n",
              "      <td>11567731</td>\n",
              "      <td>14400.0</td>\n",
              "      <td>14400.0</td>\n",
              "      <td>14400.0</td>\n",
              "      <td>60 months</td>\n",
              "      <td>17.57</td>\n",
              "      <td>362.31</td>\n",
              "      <td>D</td>\n",
              "      <td>D2</td>\n",
              "      <td>carrier</td>\n",
              "      <td>10+ years</td>\n",
              "      <td>MORTGAGE</td>\n",
              "      <td>60000.0</td>\n",
              "      <td>Verified</td>\n",
              "      <td>Dec-2013</td>\n",
              "      <td>Fully Paid</td>\n",
              "      <td>n</td>\n",
              "      <td>https://www.lendingclub.com/browse/loanDetail....</td>\n",
              "      <td>NaN</td>\n",
              "      <td>debt_consolidation</td>\n",
              "      <td>payoff</td>\n",
              "      <td>465xx</td>\n",
              "      <td>IN</td>\n",
              "      <td>14.92</td>\n",
              "      <td>0.0</td>\n",
              "      <td>May-1996</td>\n",
              "      <td>3.0</td>\n",
              "      <td>29.0</td>\n",
              "      <td>NaN</td>\n",
              "      <td>11.0</td>\n",
              "      <td>0.0</td>\n",
              "      <td>14593.0</td>\n",
              "      <td>33.6</td>\n",
              "      <td>33.0</td>\n",
              "      <td>f</td>\n",
              "      <td>0.00</td>\n",
              "      <td>0.00</td>\n",
              "      <td>15022.986363</td>\n",
              "      <td>15022.99</td>\n",
              "      <td>14400.00</td>\n",
              "      <td>622.99</td>\n",
              "      <td>0.0</td>\n",
              "      <td>0.0</td>\n",
              "      <td>0.0</td>\n",
              "      <td>Mar-2014</td>\n",
              "      <td>14303.29</td>\n",
              "      <td>NaN</td>\n",
              "      <td>Mar-2014</td>\n",
              "      <td>0.0</td>\n",
              "      <td>29.0</td>\n",
              "      <td>1.0</td>\n",
              "      <td>INDIVIDUAL</td>\n",
              "      <td>NaN</td>\n",
              "      <td>NaN</td>\n",
              "      <td>NaN</td>\n",
              "      <td>0.0</td>\n",
              "      <td>0.0</td>\n",
              "      <td>26565.0</td>\n",
              "      <td>NaN</td>\n",
              "      <td>NaN</td>\n",
              "      <td>NaN</td>\n",
              "      <td>NaN</td>\n",
              "      <td>NaN</td>\n",
              "      <td>NaN</td>\n",
              "      <td>NaN</td>\n",
              "      <td>NaN</td>\n",
              "      <td>NaN</td>\n",
              "      <td>NaN</td>\n",
              "      <td>NaN</td>\n",
              "      <td>43400.0</td>\n",
              "      <td>NaN</td>\n",
              "      <td>NaN</td>\n",
              "      <td>NaN</td>\n",
              "    </tr>\n",
              "    <tr>\n",
              "      <th>3</th>\n",
              "      <td>33069871</td>\n",
              "      <td>35713090</td>\n",
              "      <td>10000.0</td>\n",
              "      <td>10000.0</td>\n",
              "      <td>10000.0</td>\n",
              "      <td>60 months</td>\n",
              "      <td>20.99</td>\n",
              "      <td>270.48</td>\n",
              "      <td>E</td>\n",
              "      <td>E4</td>\n",
              "      <td>Office Manager/Controller</td>\n",
              "      <td>10+ years</td>\n",
              "      <td>MORTGAGE</td>\n",
              "      <td>42400.0</td>\n",
              "      <td>Not Verified</td>\n",
              "      <td>Oct-2014</td>\n",
              "      <td>Current</td>\n",
              "      <td>n</td>\n",
              "      <td>https://www.lendingclub.com/browse/loanDetail....</td>\n",
              "      <td>NaN</td>\n",
              "      <td>debt_consolidation</td>\n",
              "      <td>Debt consolidation</td>\n",
              "      <td>293xx</td>\n",
              "      <td>SC</td>\n",
              "      <td>34.19</td>\n",
              "      <td>0.0</td>\n",
              "      <td>May-2004</td>\n",
              "      <td>0.0</td>\n",
              "      <td>62.0</td>\n",
              "      <td>NaN</td>\n",
              "      <td>8.0</td>\n",
              "      <td>0.0</td>\n",
              "      <td>12668.0</td>\n",
              "      <td>82.3</td>\n",
              "      <td>22.0</td>\n",
              "      <td>w</td>\n",
              "      <td>8498.83</td>\n",
              "      <td>8498.83</td>\n",
              "      <td>3775.060000</td>\n",
              "      <td>3775.06</td>\n",
              "      <td>1501.17</td>\n",
              "      <td>2273.89</td>\n",
              "      <td>0.0</td>\n",
              "      <td>0.0</td>\n",
              "      <td>0.0</td>\n",
              "      <td>Dec-2015</td>\n",
              "      <td>270.48</td>\n",
              "      <td>Jan-2016</td>\n",
              "      <td>Jan-2016</td>\n",
              "      <td>0.0</td>\n",
              "      <td>62.0</td>\n",
              "      <td>1.0</td>\n",
              "      <td>INDIVIDUAL</td>\n",
              "      <td>NaN</td>\n",
              "      <td>NaN</td>\n",
              "      <td>NaN</td>\n",
              "      <td>0.0</td>\n",
              "      <td>0.0</td>\n",
              "      <td>42574.0</td>\n",
              "      <td>NaN</td>\n",
              "      <td>NaN</td>\n",
              "      <td>NaN</td>\n",
              "      <td>NaN</td>\n",
              "      <td>NaN</td>\n",
              "      <td>NaN</td>\n",
              "      <td>NaN</td>\n",
              "      <td>NaN</td>\n",
              "      <td>NaN</td>\n",
              "      <td>NaN</td>\n",
              "      <td>NaN</td>\n",
              "      <td>15400.0</td>\n",
              "      <td>NaN</td>\n",
              "      <td>NaN</td>\n",
              "      <td>NaN</td>\n",
              "    </tr>\n",
              "    <tr>\n",
              "      <th>4</th>\n",
              "      <td>55908514</td>\n",
              "      <td>59570267</td>\n",
              "      <td>3000.0</td>\n",
              "      <td>3000.0</td>\n",
              "      <td>2950.0</td>\n",
              "      <td>36 months</td>\n",
              "      <td>17.57</td>\n",
              "      <td>107.82</td>\n",
              "      <td>D</td>\n",
              "      <td>D4</td>\n",
              "      <td>Welder</td>\n",
              "      <td>6 years</td>\n",
              "      <td>OWN</td>\n",
              "      <td>50000.0</td>\n",
              "      <td>Source Verified</td>\n",
              "      <td>Jul-2015</td>\n",
              "      <td>Current</td>\n",
              "      <td>n</td>\n",
              "      <td>https://www.lendingclub.com/browse/loanDetail....</td>\n",
              "      <td>NaN</td>\n",
              "      <td>home_improvement</td>\n",
              "      <td>Home improvement</td>\n",
              "      <td>928xx</td>\n",
              "      <td>CA</td>\n",
              "      <td>36.49</td>\n",
              "      <td>0.0</td>\n",
              "      <td>Oct-2001</td>\n",
              "      <td>2.0</td>\n",
              "      <td>NaN</td>\n",
              "      <td>NaN</td>\n",
              "      <td>17.0</td>\n",
              "      <td>0.0</td>\n",
              "      <td>14580.0</td>\n",
              "      <td>66.6</td>\n",
              "      <td>22.0</td>\n",
              "      <td>f</td>\n",
              "      <td>2671.03</td>\n",
              "      <td>2626.51</td>\n",
              "      <td>533.240000</td>\n",
              "      <td>524.35</td>\n",
              "      <td>328.97</td>\n",
              "      <td>204.27</td>\n",
              "      <td>0.0</td>\n",
              "      <td>0.0</td>\n",
              "      <td>0.0</td>\n",
              "      <td>Jan-2016</td>\n",
              "      <td>107.82</td>\n",
              "      <td>Jan-2016</td>\n",
              "      <td>Jan-2016</td>\n",
              "      <td>0.0</td>\n",
              "      <td>NaN</td>\n",
              "      <td>1.0</td>\n",
              "      <td>INDIVIDUAL</td>\n",
              "      <td>NaN</td>\n",
              "      <td>NaN</td>\n",
              "      <td>NaN</td>\n",
              "      <td>0.0</td>\n",
              "      <td>0.0</td>\n",
              "      <td>45043.0</td>\n",
              "      <td>NaN</td>\n",
              "      <td>NaN</td>\n",
              "      <td>NaN</td>\n",
              "      <td>NaN</td>\n",
              "      <td>NaN</td>\n",
              "      <td>NaN</td>\n",
              "      <td>NaN</td>\n",
              "      <td>NaN</td>\n",
              "      <td>NaN</td>\n",
              "      <td>NaN</td>\n",
              "      <td>NaN</td>\n",
              "      <td>21900.0</td>\n",
              "      <td>NaN</td>\n",
              "      <td>NaN</td>\n",
              "      <td>NaN</td>\n",
              "    </tr>\n",
              "  </tbody>\n",
              "</table>\n",
              "</div>"
            ],
            "text/plain": [
              "         id  member_id  loan_amnt  ...  inq_fi  total_cu_tl inq_last_12m\n",
              "0  60860573   64902312    19300.0  ...     NaN          NaN          NaN\n",
              "1  40167527   43032249    15000.0  ...     NaN          NaN          NaN\n",
              "2   9715666   11567731    14400.0  ...     NaN          NaN          NaN\n",
              "3  33069871   35713090    10000.0  ...     NaN          NaN          NaN\n",
              "4  55908514   59570267     3000.0  ...     NaN          NaN          NaN\n",
              "\n",
              "[5 rows x 74 columns]"
            ]
          },
          "metadata": {
            "tags": []
          },
          "execution_count": 72
        }
      ]
    },
    {
      "cell_type": "code",
      "metadata": {
        "id": "wO8ZhcZEgXPm"
      },
      "source": [
        "emprestimos['loan_amnt'] = emprestimos['loan_amnt'].fillna(0)\n",
        "emprestimos['annual_inc'] = emprestimos['annual_inc'].fillna(0)"
      ],
      "execution_count": 73,
      "outputs": []
    },
    {
      "cell_type": "code",
      "metadata": {
        "id": "kSz5SCwYiy2H",
        "colab": {
          "base_uri": "https://localhost:8080/"
        },
        "outputId": "5358886e-6fc6-4c12-b099-aa3721f3d30d"
      },
      "source": [
        "y = np.array(emprestimos['annual_inc'])\n",
        "x = np.array(emprestimos['loan_amnt'])\n",
        "print(y,\n",
        "      x)"
      ],
      "execution_count": 74,
      "outputs": [
        {
          "output_type": "stream",
          "text": [
            "[42000. 34923. 60000. ... 72900. 60000. 40000.] [19300. 15000. 14400. ... 10000.  3000.  4000.]\n"
          ],
          "name": "stdout"
        }
      ]
    },
    {
      "cell_type": "code",
      "metadata": {
        "id": "NqYbgc_ni7JO",
        "colab": {
          "base_uri": "https://localhost:8080/",
          "height": 0
        },
        "outputId": "4d603852-06ae-43e9-c216-c8e95465f6b6"
      },
      "source": [
        "fig, (ax1, ax2) = plt.subplots(1, 2)\n",
        "\n",
        "ax1.hist(x, density=True)\n",
        "ax2.scatter(x, y)\n",
        "sns.despine()"
      ],
      "execution_count": 75,
      "outputs": [
        {
          "output_type": "display_data",
          "data": {
            "image/png": "[encoded data removed]",
            "text/plain": [
              "<Figure size 432x288 with 2 Axes>"
            ]
          },
          "metadata": {
            "tags": [],
            "needs_background": "light"
          }
        }
      ]
    },
    {
      "cell_type": "code",
      "metadata": {
        "id": "kZkxivhkiqFu",
        "colab": {
          "base_uri": "https://localhost:8080/"
        },
        "outputId": "b868fb79-a35c-4fa1-e89a-bf1e994c8ded"
      },
      "source": [
        "#Criação do modelo\n",
        "lm_model = LinearRegression(normalize=True)\n",
        "lm_model.fit(x.reshape(-1, 1), y)"
      ],
      "execution_count": 76,
      "outputs": [
        {
          "output_type": "execute_result",
          "data": {
            "text/plain": [
              "LinearRegression(copy_X=True, fit_intercept=True, n_jobs=None, normalize=True)"
            ]
          },
          "metadata": {
            "tags": []
          },
          "execution_count": 76
        }
      ]
    },
    {
      "cell_type": "code",
      "metadata": {
        "id": "xPJFuIUfk84j"
      },
      "source": [
        "#Recuperação do parâmetros\n",
        "a = lm_model.intercept_ #Interseção do eixto y\n",
        "b = lm_model.coef_ #Inclinação em relação ao eixo x"
      ],
      "execution_count": 77,
      "outputs": []
    },
    {
      "cell_type": "code",
      "metadata": {
        "id": "XxoMXVzxltRW",
        "colab": {
          "base_uri": "https://localhost:8080/",
          "height": 0
        },
        "outputId": "b78083d1-abdb-4783-83fd-c2de3f9eb1d9"
      },
      "source": [
        "plt.scatter(x, y)\n",
        "plt.plot(x, (x * b + a), 'r')"
      ],
      "execution_count": 78,
      "outputs": [
        {
          "output_type": "execute_result",
          "data": {
            "text/plain": [
              "[<matplotlib.lines.Line2D at 0x7f57e584f350>]"
            ]
          },
          "metadata": {
            "tags": []
          },
          "execution_count": 78
        },
        {
          "output_type": "display_data",
          "data": {
            "image/png": "[encoded data removed]",
            "text/plain": [
              "<Figure size 432x288 with 1 Axes>"
            ]
          },
          "metadata": {
            "tags": [],
            "needs_background": "light"
          }
        }
      ]
    },
    {
      "cell_type": "code",
      "metadata": {
        "id": "gwfb462ymVvs",
        "colab": {
          "base_uri": "https://localhost:8080/"
        },
        "outputId": "28cee817-b27f-4b71-97c6-3a69deba5454"
      },
      "source": [
        "emprestimos['annual_inc'].corr(emprestimos['loan_amnt'])"
      ],
      "execution_count": 79,
      "outputs": [
        {
          "output_type": "execute_result",
          "data": {
            "text/plain": [
              "0.26401143697673546"
            ]
          },
          "metadata": {
            "tags": []
          },
          "execution_count": 79
        }
      ]
    },
    {
      "cell_type": "code",
      "metadata": {
        "id": "43we-BIO0fXb",
        "colab": {
          "base_uri": "https://localhost:8080/"
        },
        "outputId": "14d16062-3648-45a1-b718-4319b51d0971"
      },
      "source": [
        "r2 = lm_model.score(x.reshape(-1, 1), y)\n",
        "\n",
        "print(f'R² do modelo: {r2:.3f}')"
      ],
      "execution_count": 80,
      "outputs": [
        {
          "output_type": "stream",
          "text": [
            "R² do modelo: 0.070\n"
          ],
          "name": "stdout"
        }
      ]
    },
    {
      "cell_type": "markdown",
      "metadata": {
        "id": "_vkB8IYImxBr"
      },
      "source": [
        "Tanto pela análise da regressão linear quanto pelo cálculo da correlação não é possível fazer uma relação direta entre as duas variáveis analisadas.\n",
        "\n",
        "Essa visão é complementada pelo baixo coeficiente de determinação (r²)."
      ]
    },
    {
      "cell_type": "markdown",
      "metadata": {
        "id": "K5oAdkyB7JTV"
      },
      "source": [
        "#Referências e Links"
      ]
    },
    {
      "cell_type": "markdown",
      "metadata": {
        "id": "Spr4YP_p7LNR"
      },
      "source": [
        "**Referências**:\n",
        "TOLEDO, Geraldo Luciano e OVALLE, Ivo Izidório (1985) Estatítisca Básica. São Paulo: Atlas\n",
        "\n",
        "---\n",
        "\n",
        "Links para material complementar:\n",
        "* Estudo Dirigdo desse Notebook: https://youtube.com/playlist?list=PL0XxTDj23A1F4-nrAMDlRxvZkKJmCw2Qb\n",
        "* Correlação: https://pt.wikipedia.org/wiki/Correla%C3%A7%C3%A3o\n",
        "* Regressão Logística: https://github.com/janiosl/python.ds/tree/master/ml/reg"
      ]
    }
  ]
}