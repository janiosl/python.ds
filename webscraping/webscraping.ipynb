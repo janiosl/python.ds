{
  "nbformat": 4,
  "nbformat_minor": 0,
  "metadata": {
    "colab": {
      "name": "webscraping.ipynb",
      "provenance": [],
      "collapsed_sections": [],
      "authorship_tag": "ABX9TyMMhL0iOVuYz6qxl4FRVwYo",
      "include_colab_link": true
    },
    "kernelspec": {
      "name": "python3",
      "display_name": "Python 3"
    }
  },
  "cells": [
    {
      "cell_type": "markdown",
      "metadata": {
        "id": "view-in-github",
        "colab_type": "text"
      },
      "source": [
        "<a href=\"https://colab.research.google.com/github/janiosl/python.ds/blob/master/webscraping.ipynb\" target=\"_parent\"><img src=\"https://colab.research.google.com/assets/colab-badge.svg\" alt=\"Open In Colab\"/></a>"
      ]
    },
    {
      "cell_type": "code",
      "metadata": {
        "id": "g66rlrOzHh7c"
      },
      "source": [
        "import requests\n",
        "from bs4 import BeautifulSoup"
      ],
      "execution_count": null,
      "outputs": []
    },
    {
      "cell_type": "code",
      "metadata": {
        "id": "Ba3nV0OxHlhB"
      },
      "source": [
        "url = 'https://pt.wikipedia.org/wiki/Pandemia_de_COVID-19'"
      ],
      "execution_count": null,
      "outputs": []
    },
    {
      "cell_type": "code",
      "metadata": {
        "id": "l4EyrvBVH-mG",
        "outputId": "3c8dcc70-354a-477a-9b5f-7989531e3ccb",
        "colab": {
          "base_uri": "https://localhost:8080/",
          "height": 34
        }
      },
      "source": [
        "page = requests.get(url)\n",
        "print(page)"
      ],
      "execution_count": null,
      "outputs": [
        {
          "output_type": "stream",
          "text": [
            "<Response [200]>\n"
          ],
          "name": "stdout"
        }
      ]
    },
    {
      "cell_type": "code",
      "metadata": {
        "id": "NfAX0UazIGrO"
      },
      "source": [
        "bs = BeautifulSoup(page.text, 'html.parser')"
      ],
      "execution_count": null,
      "outputs": []
    },
    {
      "cell_type": "code",
      "metadata": {
        "id": "MgEX8CHNIbbm",
        "outputId": "c0204cef-bf2f-400b-9696-e49ae02dc656",
        "colab": {
          "base_uri": "https://localhost:8080/",
          "height": 34
        }
      },
      "source": [
        "titulo = bs.find_all('h1')\n",
        "titulo = titulo[0].get_text()\n",
        "print(f'Título: {titulo}')"
      ],
      "execution_count": null,
      "outputs": [
        {
          "output_type": "stream",
          "text": [
            "Título: Pandemia de COVID-19\n"
          ],
          "name": "stdout"
        }
      ]
    },
    {
      "cell_type": "code",
      "metadata": {
        "id": "zT2ioKBiIt3-",
        "outputId": "6ad8dc68-6604-486c-8529-ad610827db2c",
        "colab": {
          "base_uri": "https://localhost:8080/",
          "height": 54
        }
      },
      "source": [
        "paragrafos = bs.find_all('p')\n",
        "paragrafos = [paragrafos[i].get_text() for i in range(0, 10)]\n",
        "print(paragrafos)"
      ],
      "execution_count": null,
      "outputs": [
        {
          "output_type": "stream",
          "text": [
            "['2020\\n', 'Lockdowns\\n', 'Quarentenas\\n', 'Por transportes\\n', 'Reações internacionais\\n', 'Estatísticas gerais\\n', 'Por indústria\\n', 'A pandemia de COVID-19, também conhecida como pandemia de coronavírus, é uma pandemia em curso de COVID-19, uma doença respiratória aguda causada pelo coronavírus da síndrome respiratória aguda grave 2 (SARS-CoV-2).[7] A doença foi identificada pela primeira vez em Wuhan, na província de Hubei, República Popular da China, em 1 de dezembro de 2019, mas o primeiro caso foi reportado em 31 de dezembro do mesmo ano.[8][9] Acredita-se que o vírus tenha uma origem zoonótica, porque os primeiros casos confirmados tinham principalmente ligações ao Mercado Atacadista de Frutos do Mar de Huanan, que também vendia animais vivos.[3][4][10] Em 11 de março de 2020, a Organização Mundial da Saúde declarou o surto uma pandemia.[11][12] Até 20 de outubro de 2020, pelo menos 40\\xa0294\\xa0046[5] casos da doença foram confirmados em pelo menos 188 países e territórios,[13] com cerca de 1\\xa0116\\xa0517 fatalidades reportadas e 27\\xa0611\\xa0420 pessoas curadas.[14]\\n', 'Os cientistas chineses isolaram um novo coronavírus, o SARS-CoV-2, 70% semelhante na sequência genética ao SARS-CoV, e posteriormente mapearam e disponibilizaram a sua sequência genética.[15][16][17][18] Inicialmente, o vírus não mostrou a mesma gravidade do SARS, porém com um contágio maior.[19] As questões levantadas incluem se o vírus está circulando há mais tempo do que se pensava anteriormente, se Wuhan é realmente o centro do surto ou simplesmente o local em que foi identificado pela primeira vez com a vigilância e os testes em andamento, e se poderia haver uma possibilidade de que Wuhan seja um evento de superdispersão.[20][21]\\n', 'Em 22 de janeiro de 2020, foi discutido por um comitê de emergência organizado pela Organização Mundial da Saúde (OMS) se o incidente constituía uma Emergência de Saúde Pública de Âmbito Internacional (PHEIC) sob os Regulamentos Internacionais de Saúde.[21] A decisão foi adiada por falta de informação.[22] Em 23 de janeiro de 2020, a OMS decidiu não declarar o surto uma PHEIC.[23] Entretanto, em 30 de janeiro de 2020, a OMS declarou o surto uma PHEIC, pedindo que \"uma ação coordenada de combate à doença deverá ser traçada entre diferentes autoridades e governos\".[24] A declaração fez com que esta fosse apenas a sexta vez que essa medida foi invocada pela OMS, desde a pandemia de H1N1 em 2009.[25] Na primeira semana de fevereiro de 2020, o número de mortes causado pelo novo coronavírus ultrapassou 800, superando o SARS, que matou 774 pessoas em todo o mundo entre 2002 e 2003.[26] Posteriormente, no mês de fevereiro, o número de mortes subiu para mais de 1\\xa0400, e ultrapassou 3\\xa0000 em março.[27]\\n']\n"
          ],
          "name": "stdout"
        }
      ]
    },
    {
      "cell_type": "code",
      "metadata": {
        "id": "fmRwI9LpNwnx"
      },
      "source": [
        "texto = ' '.join([paragrafo\n",
        "                        for paragrafo in paragrafos])"
      ],
      "execution_count": null,
      "outputs": []
    },
    {
      "cell_type": "code",
      "metadata": {
        "id": "ZEQVpxNjOB99",
        "outputId": "2f7355e9-909b-48d4-ac16-e468709749dc",
        "colab": {
          "base_uri": "https://localhost:8080/",
          "height": 232
        }
      },
      "source": [
        "print(texto)"
      ],
      "execution_count": null,
      "outputs": [
        {
          "output_type": "stream",
          "text": [
            "2020\n",
            " Lockdowns\n",
            " Quarentenas\n",
            " Por transportes\n",
            " Reações internacionais\n",
            " Estatísticas gerais\n",
            " Por indústria\n",
            " A pandemia de COVID-19, também conhecida como pandemia de coronavírus, é uma pandemia em curso de COVID-19, uma doença respiratória aguda causada pelo coronavírus da síndrome respiratória aguda grave 2 (SARS-CoV-2).[7] A doença foi identificada pela primeira vez em Wuhan, na província de Hubei, República Popular da China, em 1 de dezembro de 2019, mas o primeiro caso foi reportado em 31 de dezembro do mesmo ano.[8][9] Acredita-se que o vírus tenha uma origem zoonótica, porque os primeiros casos confirmados tinham principalmente ligações ao Mercado Atacadista de Frutos do Mar de Huanan, que também vendia animais vivos.[3][4][10] Em 11 de março de 2020, a Organização Mundial da Saúde declarou o surto uma pandemia.[11][12] Até 20 de outubro de 2020, pelo menos 40 294 046[5] casos da doença foram confirmados em pelo menos 188 países e territórios,[13] com cerca de 1 116 517 fatalidades reportadas e 27 611 420 pessoas curadas.[14]\n",
            " Os cientistas chineses isolaram um novo coronavírus, o SARS-CoV-2, 70% semelhante na sequência genética ao SARS-CoV, e posteriormente mapearam e disponibilizaram a sua sequência genética.[15][16][17][18] Inicialmente, o vírus não mostrou a mesma gravidade do SARS, porém com um contágio maior.[19] As questões levantadas incluem se o vírus está circulando há mais tempo do que se pensava anteriormente, se Wuhan é realmente o centro do surto ou simplesmente o local em que foi identificado pela primeira vez com a vigilância e os testes em andamento, e se poderia haver uma possibilidade de que Wuhan seja um evento de superdispersão.[20][21]\n",
            " Em 22 de janeiro de 2020, foi discutido por um comitê de emergência organizado pela Organização Mundial da Saúde (OMS) se o incidente constituía uma Emergência de Saúde Pública de Âmbito Internacional (PHEIC) sob os Regulamentos Internacionais de Saúde.[21] A decisão foi adiada por falta de informação.[22] Em 23 de janeiro de 2020, a OMS decidiu não declarar o surto uma PHEIC.[23] Entretanto, em 30 de janeiro de 2020, a OMS declarou o surto uma PHEIC, pedindo que \"uma ação coordenada de combate à doença deverá ser traçada entre diferentes autoridades e governos\".[24] A declaração fez com que esta fosse apenas a sexta vez que essa medida foi invocada pela OMS, desde a pandemia de H1N1 em 2009.[25] Na primeira semana de fevereiro de 2020, o número de mortes causado pelo novo coronavírus ultrapassou 800, superando o SARS, que matou 774 pessoas em todo o mundo entre 2002 e 2003.[26] Posteriormente, no mês de fevereiro, o número de mortes subiu para mais de 1 400, e ultrapassou 3 000 em março.[27]\n",
            "\n"
          ],
          "name": "stdout"
        }
      ]
    },
    {
      "cell_type": "code",
      "metadata": {
        "id": "KZqEFFEbOfi9",
        "outputId": "5d347422-e0cd-4db0-8ba7-73f185ca13ca",
        "colab": {
          "base_uri": "https://localhost:8080/",
          "height": 407
        }
      },
      "source": [
        "!pip install --upgrade gspread"
      ],
      "execution_count": null,
      "outputs": [
        {
          "output_type": "stream",
          "text": [
            "Collecting gspread\n",
            "  Downloading https://files.pythonhosted.org/packages/9c/ba/bc8de4f5077bd34bc873bdd67a89cb29c4f181abba8a836d2c6a0a142365/gspread-3.6.0-py3-none-any.whl\n",
            "Requirement already satisfied, skipping upgrade: google-auth-oauthlib>=0.4.1 in /usr/local/lib/python3.6/dist-packages (from gspread) (0.4.1)\n",
            "Requirement already satisfied, skipping upgrade: google-auth>=1.12.0 in /usr/local/lib/python3.6/dist-packages (from gspread) (1.17.2)\n",
            "Requirement already satisfied, skipping upgrade: requests>=2.2.1 in /usr/local/lib/python3.6/dist-packages (from gspread) (2.23.0)\n",
            "Requirement already satisfied, skipping upgrade: requests-oauthlib>=0.7.0 in /usr/local/lib/python3.6/dist-packages (from google-auth-oauthlib>=0.4.1->gspread) (1.3.0)\n",
            "Requirement already satisfied, skipping upgrade: cachetools<5.0,>=2.0.0 in /usr/local/lib/python3.6/dist-packages (from google-auth>=1.12.0->gspread) (4.1.1)\n",
            "Requirement already satisfied, skipping upgrade: six>=1.9.0 in /usr/local/lib/python3.6/dist-packages (from google-auth>=1.12.0->gspread) (1.15.0)\n",
            "Requirement already satisfied, skipping upgrade: setuptools>=40.3.0 in /usr/local/lib/python3.6/dist-packages (from google-auth>=1.12.0->gspread) (50.3.0)\n",
            "Requirement already satisfied, skipping upgrade: rsa<5,>=3.1.4; python_version >= \"3\" in /usr/local/lib/python3.6/dist-packages (from google-auth>=1.12.0->gspread) (4.6)\n",
            "Requirement already satisfied, skipping upgrade: pyasn1-modules>=0.2.1 in /usr/local/lib/python3.6/dist-packages (from google-auth>=1.12.0->gspread) (0.2.8)\n",
            "Requirement already satisfied, skipping upgrade: idna<3,>=2.5 in /usr/local/lib/python3.6/dist-packages (from requests>=2.2.1->gspread) (2.10)\n",
            "Requirement already satisfied, skipping upgrade: urllib3!=1.25.0,!=1.25.1,<1.26,>=1.21.1 in /usr/local/lib/python3.6/dist-packages (from requests>=2.2.1->gspread) (1.24.3)\n",
            "Requirement already satisfied, skipping upgrade: certifi>=2017.4.17 in /usr/local/lib/python3.6/dist-packages (from requests>=2.2.1->gspread) (2020.6.20)\n",
            "Requirement already satisfied, skipping upgrade: chardet<4,>=3.0.2 in /usr/local/lib/python3.6/dist-packages (from requests>=2.2.1->gspread) (3.0.4)\n",
            "Requirement already satisfied, skipping upgrade: oauthlib>=3.0.0 in /usr/local/lib/python3.6/dist-packages (from requests-oauthlib>=0.7.0->google-auth-oauthlib>=0.4.1->gspread) (3.1.0)\n",
            "Requirement already satisfied, skipping upgrade: pyasn1>=0.1.3 in /usr/local/lib/python3.6/dist-packages (from rsa<5,>=3.1.4; python_version >= \"3\"->google-auth>=1.12.0->gspread) (0.4.8)\n",
            "Installing collected packages: gspread\n",
            "  Found existing installation: gspread 3.0.1\n",
            "    Uninstalling gspread-3.0.1:\n",
            "      Successfully uninstalled gspread-3.0.1\n",
            "Successfully installed gspread-3.6.0\n"
          ],
          "name": "stdout"
        }
      ]
    },
    {
      "cell_type": "code",
      "metadata": {
        "id": "LZWzM-Bz1OA3"
      },
      "source": [
        "#Conectar ao Google para usar Planilhas\n",
        "from google.colab import auth\n",
        "auth.authenticate_user()\n",
        "\n",
        "import gspread\n",
        "from oauth2client.client import GoogleCredentials\n",
        "\n",
        "gc = gspread.authorize(GoogleCredentials.get_application_default())"
      ],
      "execution_count": null,
      "outputs": []
    },
    {
      "cell_type": "code",
      "metadata": {
        "id": "qI6PxjRN1smB"
      },
      "source": [
        "#Cria uma nova planilha em branco\n",
        "sh = gc.create('webscraping_sheet')"
      ],
      "execution_count": null,
      "outputs": []
    },
    {
      "cell_type": "code",
      "metadata": {
        "id": "n2bHw2Y52SDp",
        "outputId": "b58ea959-5f63-4051-e369-732e30a512d0",
        "colab": {
          "base_uri": "https://localhost:8080/",
          "height": 105
        }
      },
      "source": [
        "worksheet = gc.open('webscraping_sheet').sheet1\n",
        "\n",
        "titulos = ['URL', 'TITLE', 'CONTENT', 'DATE']\n",
        "campos = worksheet.range('A1:D1')\n",
        "\n",
        "for i in range(0, len(campos)):\n",
        "  campos[i].value = titulos[i]\n",
        "\n",
        "worksheet.update_cells(campos)"
      ],
      "execution_count": null,
      "outputs": [
        {
          "output_type": "execute_result",
          "data": {
            "text/plain": [
              "{'spreadsheetId': '1-tWLG6Dbs9TUgjEj7Ty65b6bw3p6LXoK2SFE6NrrTNI',\n",
              " 'updatedCells': 4,\n",
              " 'updatedColumns': 4,\n",
              " 'updatedRange': \"'Página1'!A1:D1\",\n",
              " 'updatedRows': 1}"
            ]
          },
          "metadata": {
            "tags": []
          },
          "execution_count": 32
        }
      ]
    },
    {
      "cell_type": "code",
      "metadata": {
        "id": "UfVI2lHM33El",
        "outputId": "33c87a76-01f1-49ee-b82f-ad4557da778a",
        "colab": {
          "base_uri": "https://localhost:8080/",
          "height": 105
        }
      },
      "source": [
        "import datetime\n",
        "\n",
        "hoje = datetime.datetime.now()\n",
        "hoje = str(hoje)\n",
        "conteudo = [url, titulo, texto, hoje  ]\n",
        "\n",
        "registros = worksheet.range('A2:D2')\n",
        "\n",
        "for i in range(0, len(registros)):\n",
        "  registros[i].value = conteudo[i]\n",
        "\n",
        "worksheet.update_cells(registros)"
      ],
      "execution_count": null,
      "outputs": [
        {
          "output_type": "execute_result",
          "data": {
            "text/plain": [
              "{'spreadsheetId': '1-tWLG6Dbs9TUgjEj7Ty65b6bw3p6LXoK2SFE6NrrTNI',\n",
              " 'updatedCells': 4,\n",
              " 'updatedColumns': 4,\n",
              " 'updatedRange': \"'Página1'!A2:D2\",\n",
              " 'updatedRows': 1}"
            ]
          },
          "metadata": {
            "tags": []
          },
          "execution_count": 35
        }
      ]
    },
    {
      "cell_type": "code",
      "metadata": {
        "id": "oK4350zB4I96",
        "outputId": "3119bfd6-9009-447a-d9f2-ed7fe625204c",
        "colab": {
          "base_uri": "https://localhost:8080/",
          "height": 107
        }
      },
      "source": [
        "registros"
      ],
      "execution_count": null,
      "outputs": [
        {
          "output_type": "execute_result",
          "data": {
            "text/plain": [
              "[<Cell R2C1 'https://pt.wikipedia.org/wiki/Pandemia_de_COVID-19'>,\n",
              " <Cell R2C2 'Pandemia de COVID-19'>,\n",
              " <Cell R2C3 '2020\\n Lockdowns\\n Quarentenas\\n Por transportes\\n Reações internacionais\\n Estatísticas gerais\\n Por indústria\\n A pandemia de COVID-19, também conhecida como pandemia de coronavírus, é uma pandemia em curso de COVID-19, uma doença respiratória aguda causada pelo coronavírus da síndrome respiratória aguda grave 2 (SARS-CoV-2).[7] A doença foi identificada pela primeira vez em Wuhan, na província de Hubei, República Popular da China, em 1 de dezembro de 2019, mas o primeiro caso foi reportado em 31 de dezembro do mesmo ano.[8][9] Acredita-se que o vírus tenha uma origem zoonótica, porque os primeiros casos confirmados tinham principalmente ligações ao Mercado Atacadista de Frutos do Mar de Huanan, que também vendia animais vivos.[3][4][10] Em 11 de março de 2020, a Organização Mundial da Saúde declarou o surto uma pandemia.[11][12] Até 20 de outubro de 2020, pelo menos 40\\xa0294\\xa0046[5] casos da doença foram confirmados em pelo menos 188 países e territórios,[13] com cerca de 1\\xa0116\\xa0517 fatalidades reportadas e 27\\xa0611\\xa0420 pessoas curadas.[14]\\n Os cientistas chineses isolaram um novo coronavírus, o SARS-CoV-2, 70% semelhante na sequência genética ao SARS-CoV, e posteriormente mapearam e disponibilizaram a sua sequência genética.[15][16][17][18] Inicialmente, o vírus não mostrou a mesma gravidade do SARS, porém com um contágio maior.[19] As questões levantadas incluem se o vírus está circulando há mais tempo do que se pensava anteriormente, se Wuhan é realmente o centro do surto ou simplesmente o local em que foi identificado pela primeira vez com a vigilância e os testes em andamento, e se poderia haver uma possibilidade de que Wuhan seja um evento de superdispersão.[20][21]\\n Em 22 de janeiro de 2020, foi discutido por um comitê de emergência organizado pela Organização Mundial da Saúde (OMS) se o incidente constituía uma Emergência de Saúde Pública de Âmbito Internacional (PHEIC) sob os Regulamentos Internacionais de Saúde.[21] A decisão foi adiada por falta de informação.[22] Em 23 de janeiro de 2020, a OMS decidiu não declarar o surto uma PHEIC.[23] Entretanto, em 30 de janeiro de 2020, a OMS declarou o surto uma PHEIC, pedindo que \"uma ação coordenada de combate à doença deverá ser traçada entre diferentes autoridades e governos\".[24] A declaração fez com que esta fosse apenas a sexta vez que essa medida foi invocada pela OMS, desde a pandemia de H1N1 em 2009.[25] Na primeira semana de fevereiro de 2020, o número de mortes causado pelo novo coronavírus ultrapassou 800, superando o SARS, que matou 774 pessoas em todo o mundo entre 2002 e 2003.[26] Posteriormente, no mês de fevereiro, o número de mortes subiu para mais de 1\\xa0400, e ultrapassou 3\\xa0000 em março.[27]\\n'>,\n",
              " <Cell R2C4 '2020-10-20 21:30:05.924994'>]"
            ]
          },
          "metadata": {
            "tags": []
          },
          "execution_count": 36
        }
      ]
    }
  ]
}